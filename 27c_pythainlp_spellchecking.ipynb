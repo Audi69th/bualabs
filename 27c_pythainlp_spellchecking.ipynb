{
  "nbformat": 4,
  "nbformat_minor": 0,
  "metadata": {
    "colab": {
      "name": "27c_pythainlp_spellchecking.ipynb",
      "provenance": [],
      "collapsed_sections": [],
      "authorship_tag": "ABX9TyOxbupemxnIAOM9ofa16z7c"
    },
    "kernelspec": {
      "name": "python3",
      "display_name": "Python 3"
    },
    "accelerator": "GPU"
  },
  "cells": [
    {
      "cell_type": "markdown",
      "metadata": {
        "id": "Hroev-q_1koR",
        "colab_type": "text"
      },
      "source": [
        "ตรวจคำผิด"
      ]
    },
    {
      "cell_type": "markdown",
      "metadata": {
        "colab_type": "text",
        "id": "CzApwnjVlKxC"
      },
      "source": [
        "# 0. Install"
      ]
    },
    {
      "cell_type": "code",
      "metadata": {
        "colab_type": "code",
        "id": "0WcUkQRak7e6",
        "colab": {}
      },
      "source": [
        "%reload_ext autoreload\n",
        "%autoreload 2\n",
        "%matplotlib inline"
      ],
      "execution_count": 0,
      "outputs": []
    },
    {
      "cell_type": "markdown",
      "metadata": {
        "colab_type": "text",
        "id": "MGOPzh9vCLJh"
      },
      "source": [
        "Install Library ที่จำเป็น แล้ว Restart Runtime"
      ]
    },
    {
      "cell_type": "code",
      "metadata": {
        "id": "QpAhcT3WxGqF",
        "colab_type": "code",
        "colab": {
          "base_uri": "https://localhost:8080/",
          "height": 224
        },
        "outputId": "2e72c8fc-651e-4bc5-d9b2-43b7d101f533"
      },
      "source": [
        "# dev version\n",
        "# !pip install https://github.com/PyThaiNLP/pythainlp/archive/dev.zip\n",
        "\n",
        "# release version \n",
        "! pip install pythainlp"
      ],
      "execution_count": 2,
      "outputs": [
        {
          "output_type": "stream",
          "text": [
            "Requirement already satisfied: pythainlp in /usr/local/lib/python3.6/dist-packages (2.1.4)\n",
            "Requirement already satisfied: nltk>=3.3 in /usr/local/lib/python3.6/dist-packages (from pythainlp) (3.4.5)\n",
            "Requirement already satisfied: requests>=2.22.0 in /usr/local/lib/python3.6/dist-packages (from pythainlp) (2.22.0)\n",
            "Requirement already satisfied: tqdm>=4.1 in /usr/local/lib/python3.6/dist-packages (from pythainlp) (4.28.1)\n",
            "Requirement already satisfied: dill>=0.3.0 in /usr/local/lib/python3.6/dist-packages (from pythainlp) (0.3.1.1)\n",
            "Requirement already satisfied: tinydb>=3.0 in /usr/local/lib/python3.6/dist-packages (from pythainlp) (3.15.2)\n",
            "Requirement already satisfied: six in /usr/local/lib/python3.6/dist-packages (from nltk>=3.3->pythainlp) (1.12.0)\n",
            "Requirement already satisfied: urllib3!=1.25.0,!=1.25.1,<1.26,>=1.21.1 in /usr/local/lib/python3.6/dist-packages (from requests>=2.22.0->pythainlp) (1.24.3)\n",
            "Requirement already satisfied: certifi>=2017.4.17 in /usr/local/lib/python3.6/dist-packages (from requests>=2.22.0->pythainlp) (2019.11.28)\n",
            "Requirement already satisfied: idna<2.9,>=2.5 in /usr/local/lib/python3.6/dist-packages (from requests>=2.22.0->pythainlp) (2.8)\n",
            "Requirement already satisfied: chardet<3.1.0,>=3.0.2 in /usr/local/lib/python3.6/dist-packages (from requests>=2.22.0->pythainlp) (3.0.4)\n"
          ],
          "name": "stdout"
        }
      ]
    },
    {
      "cell_type": "markdown",
      "metadata": {
        "id": "0u3BdH34_hN1",
        "colab_type": "text"
      },
      "source": [
        "Restart Runtime เพื่อให้ใช้ Library เวอร์ชัน ที่เพิ่ง Install ลงไป"
      ]
    },
    {
      "cell_type": "markdown",
      "metadata": {
        "id": "86CaxdqnE0Ag",
        "colab_type": "text"
      },
      "source": [
        "ในเคสนี้ เราจะปิด Warning ไว้ก่อน จะได้อ่านผลลัพท์ง่าย"
      ]
    },
    {
      "cell_type": "code",
      "metadata": {
        "id": "rha7sfRokmVJ",
        "colab_type": "code",
        "colab": {}
      },
      "source": [
        "import warnings\n",
        "warnings.filterwarnings('ignore')"
      ],
      "execution_count": 0,
      "outputs": []
    },
    {
      "cell_type": "markdown",
      "metadata": {
        "colab_type": "text",
        "id": "3VxLNfAElR29"
      },
      "source": [
        "# 1. Import"
      ]
    },
    {
      "cell_type": "markdown",
      "metadata": {
        "colab_type": "text",
        "id": "nGm02SG0CQrq"
      },
      "source": [
        "Import Library ที่จะใช้ ในที่นี้คือ PyThaiNLP"
      ]
    },
    {
      "cell_type": "code",
      "metadata": {
        "id": "RUurvnGIsEWv",
        "colab_type": "code",
        "outputId": "1bb08469-b96f-4cf5-b3e4-ccf7865bb467",
        "colab": {
          "base_uri": "https://localhost:8080/",
          "height": 34
        }
      },
      "source": [
        "import pythainlp\n",
        "\n",
        "pythainlp.__version__"
      ],
      "execution_count": 4,
      "outputs": [
        {
          "output_type": "execute_result",
          "data": {
            "text/plain": [
              "'2.1.4'"
            ]
          },
          "metadata": {
            "tags": []
          },
          "execution_count": 4
        }
      ]
    },
    {
      "cell_type": "markdown",
      "metadata": {
        "id": "YeJuPfAjSGnt",
        "colab_type": "text"
      },
      "source": [
        "# 2. PyThaiNLP Spellchecker"
      ]
    },
    {
      "cell_type": "markdown",
      "metadata": {
        "id": "3wv5jznJ84lZ",
        "colab_type": "text"
      },
      "source": [
        "## 2.1 Spellchecker โปรแกรมตรวจตัวสะกด "
      ]
    },
    {
      "cell_type": "markdown",
      "metadata": {
        "id": "jqXu5vs3LVvd",
        "colab_type": "text"
      },
      "source": [
        "โดย Default แล้ว [Spellchecker](https://www.bualabs.com/archives/119/what-is-nlp-natural-language-processing-nlp-task-in-thai-nlp-ep-1/) ของ PyThaiNLP จะใช้อัลกอริทึม ของ Peter Norvig ที่จะหารายการคำใกล้เคียงจาก Dictionary โดยใช้จำนวนอักษรที่ผิด 1, 2, ... ตัวอักษร ผสมกับความน่าจะเป็น จากความถี่ของคำนั้นที่ปรากฎใน [Corpus](https://www.bualabs.com/archives/119/what-is-nlp-natural-language-processing-nlp-task-in-thai-nlp-ep-1/) \n",
        "\n",
        "โดยไม่ได้ใช้ Context หรือคำแวดล้อมที่มาก่อนหน้า หรือต่อจากนั้น และไม่ได้ใช้ตำแหน่งปุ่มใกล้เคียง บน Keyboard มาคำนวนความน่าจะเป็น"
      ]
    },
    {
      "cell_type": "code",
      "metadata": {
        "id": "VeVLXfV7LSsa",
        "colab_type": "code",
        "colab": {}
      },
      "source": [
        "from pythainlp import spell"
      ],
      "execution_count": 0,
      "outputs": []
    },
    {
      "cell_type": "markdown",
      "metadata": {
        "id": "wMsq9jHvlaKq",
        "colab_type": "text"
      },
      "source": [
        "แสดงรายการคำ ทุกคำที่เป็นไปได้ ใน Dictionary เรียงตามความน่าจะเป็น"
      ]
    },
    {
      "cell_type": "code",
      "metadata": {
        "id": "V92iEU_clSr_",
        "colab_type": "code",
        "colab": {
          "base_uri": "https://localhost:8080/",
          "height": 34
        },
        "outputId": "5fabc79f-7b48-4968-d354-c40aa9c31fe6"
      },
      "source": [
        "spell(\"รั๊ว\") # รัว ไม้ตรี"
      ],
      "execution_count": 6,
      "outputs": [
        {
          "output_type": "execute_result",
          "data": {
            "text/plain": [
              "['รั้ว', 'รั่ว', 'อั๊ว', 'รัว', 'ปั๊ว', 'จั๊ว', 'ตั๊ว', 'กั๊ว', 'ลั๊ว']"
            ]
          },
          "metadata": {
            "tags": []
          },
          "execution_count": 6
        }
      ]
    },
    {
      "cell_type": "code",
      "metadata": {
        "id": "DsgY6rRVJ2UR",
        "colab_type": "code",
        "colab": {
          "base_uri": "https://localhost:8080/",
          "height": 34
        },
        "outputId": "b2feadcf-beea-4008-aed1-cdf13381d9fe"
      },
      "source": [
        "spell(\"กวาา\") "
      ],
      "execution_count": 9,
      "outputs": [
        {
          "output_type": "execute_result",
          "data": {
            "text/plain": [
              "['กว่า', 'กวาด', 'กวาง', 'กวา', 'กวาน', 'กวาว', 'กว้า']"
            ]
          },
          "metadata": {
            "tags": []
          },
          "execution_count": 9
        }
      ]
    },
    {
      "cell_type": "code",
      "metadata": {
        "id": "3BDAMYRCUZrI",
        "colab_type": "code",
        "colab": {
          "base_uri": "https://localhost:8080/",
          "height": 34
        },
        "outputId": "e705fcb4-1e81-4904-fa87-b3c51c92c7fe"
      },
      "source": [
        "spell(\"น้ำสม\")"
      ],
      "execution_count": 10,
      "outputs": [
        {
          "output_type": "execute_result",
          "data": {
            "text/plain": [
              "['น้ำส้ม', 'น้ำนม']"
            ]
          },
          "metadata": {
            "tags": []
          },
          "execution_count": 10
        }
      ]
    },
    {
      "cell_type": "code",
      "metadata": {
        "id": "FwBX5NAoKkg6",
        "colab_type": "code",
        "colab": {
          "base_uri": "https://localhost:8080/",
          "height": 34
        },
        "outputId": "6f0e110b-d8e9-4c0f-e5a6-2121ec73410e"
      },
      "source": [
        "spell(\"ศาธารณสุบ\")"
      ],
      "execution_count": 11,
      "outputs": [
        {
          "output_type": "execute_result",
          "data": {
            "text/plain": [
              "['สาธารณสุข']"
            ]
          },
          "metadata": {
            "tags": []
          },
          "execution_count": 11
        }
      ]
    },
    {
      "cell_type": "markdown",
      "metadata": {
        "id": "X3BRYN41bSwT",
        "colab_type": "text"
      },
      "source": [
        "ตัวเลขปน"
      ]
    },
    {
      "cell_type": "code",
      "metadata": {
        "id": "U1R7Mq8AbTK7",
        "colab_type": "code",
        "colab": {
          "base_uri": "https://localhost:8080/",
          "height": 34
        },
        "outputId": "5142d4c8-d5d2-49ae-f1f0-f3917a762f62"
      },
      "source": [
        "spell(\"ร้อ4\")"
      ],
      "execution_count": 12,
      "outputs": [
        {
          "output_type": "execute_result",
          "data": {
            "text/plain": [
              "['ร้อน', 'ร้อง', 'ร้อย', 'ร้อก', 'ร้อ', 'ร้อบ', 'ร้อด', 'ร้อม']"
            ]
          },
          "metadata": {
            "tags": []
          },
          "execution_count": 12
        }
      ]
    },
    {
      "cell_type": "markdown",
      "metadata": {
        "id": "B3JixYqxbJo0",
        "colab_type": "text"
      },
      "source": [
        "ปน ภาษาอังกฤษ ตัว o โอ"
      ]
    },
    {
      "cell_type": "code",
      "metadata": {
        "id": "y0RkDFaUZ942",
        "colab_type": "code",
        "colab": {
          "base_uri": "https://localhost:8080/",
          "height": 34
        },
        "outputId": "9830baac-27b1-4696-96d5-071e7fb79c50"
      },
      "source": [
        "spell(\"รั้o\")"
      ],
      "execution_count": 13,
      "outputs": [
        {
          "output_type": "execute_result",
          "data": {
            "text/plain": [
              "['รั้ว', 'รั้ง', 'รั้น']"
            ]
          },
          "metadata": {
            "tags": []
          },
          "execution_count": 13
        }
      ]
    },
    {
      "cell_type": "markdown",
      "metadata": {
        "id": "p1x5IqcVbLYZ",
        "colab_type": "text"
      },
      "source": [
        "ปน ภาษาอังกฤษ ตัว h"
      ]
    },
    {
      "cell_type": "code",
      "metadata": {
        "id": "89ChF9-xaapJ",
        "colab_type": "code",
        "colab": {
          "base_uri": "https://localhost:8080/",
          "height": 34
        },
        "outputId": "3c51b975-d107-4f9d-e798-6bb8ea115f92"
      },
      "source": [
        "spell(\"ชhอน\")"
      ],
      "execution_count": 14,
      "outputs": [
        {
          "output_type": "execute_result",
          "data": {
            "text/plain": [
              "['ช้อน', 'ชอน', 'ช่อน']"
            ]
          },
          "metadata": {
            "tags": []
          },
          "execution_count": 14
        }
      ]
    },
    {
      "cell_type": "markdown",
      "metadata": {
        "id": "PtwygGlPbxIk",
        "colab_type": "text"
      },
      "source": [
        "ภาษาอังกฤษล้วน ไม่ work เนื่องจาก โดย Default แล้ว Dictionary ของ PyThaiNLP มีแต่ภาษาไทย"
      ]
    },
    {
      "cell_type": "code",
      "metadata": {
        "id": "Akz26NXabxVS",
        "colab_type": "code",
        "colab": {
          "base_uri": "https://localhost:8080/",
          "height": 34
        },
        "outputId": "8f51efac-9990-423f-f86f-d11f54f6bd86"
      },
      "source": [
        "spell(\"miraclx\")"
      ],
      "execution_count": 16,
      "outputs": [
        {
          "output_type": "execute_result",
          "data": {
            "text/plain": [
              "['miraclx']"
            ]
          },
          "metadata": {
            "tags": []
          },
          "execution_count": 16
        }
      ]
    },
    {
      "cell_type": "markdown",
      "metadata": {
        "id": "pciHzlacKylZ",
        "colab_type": "text"
      },
      "source": [
        "## 2.2 Spellchecker ด้วย Custom Dictionary และ Word Frequency"
      ]
    },
    {
      "cell_type": "markdown",
      "metadata": {
        "id": "aAbOsVUAoFDl",
        "colab_type": "text"
      },
      "source": [
        "โดย Default จะใช้ Dictionary จาก Thai National Corpus (TNC) ซึ่งจะมีคำศัพท์ ใน Corpus จำนวนเกือบ 4 หมื่นคำ (Default)"
      ]
    },
    {
      "cell_type": "code",
      "metadata": {
        "id": "mOlXeX8moOth",
        "colab_type": "code",
        "colab": {}
      },
      "source": [
        "from pythainlp.spell import NorvigSpellChecker"
      ],
      "execution_count": 0,
      "outputs": []
    },
    {
      "cell_type": "code",
      "metadata": {
        "id": "XPl1WK88KywS",
        "colab_type": "code",
        "colab": {
          "base_uri": "https://localhost:8080/",
          "height": 34
        },
        "outputId": "a1ecb109-4930-42ba-d6eb-daf3efca4274"
      },
      "source": [
        "checker = NorvigSpellChecker()  # use default filter (remove any word with number or non-Thai character)\n",
        "len(checker.dictionary())"
      ],
      "execution_count": 18,
      "outputs": [
        {
          "output_type": "execute_result",
          "data": {
            "text/plain": [
              "39963"
            ]
          },
          "metadata": {
            "tags": []
          },
          "execution_count": 18
        }
      ]
    },
    {
      "cell_type": "markdown",
      "metadata": {
        "id": "eeMDIplVoYWl",
        "colab_type": "text"
      },
      "source": [
        "ดูตัวอย่าง คำศัพท์ และ ความถี่ ที่อยู่ใน Dictionary"
      ]
    },
    {
      "cell_type": "code",
      "metadata": {
        "id": "hRRg-sqroMNs",
        "colab_type": "code",
        "colab": {
          "base_uri": "https://localhost:8080/",
          "height": 357
        },
        "outputId": "21bce433-4e78-40e9-e00f-50bda4b51461"
      },
      "source": [
        "list(checker.dictionary())[:20]"
      ],
      "execution_count": 19,
      "outputs": [
        {
          "output_type": "execute_result",
          "data": {
            "text/plain": [
              "[('เจ็กท์', 80),\n",
              " ('เซ็ง', 735),\n",
              " ('ทีละ', 1838),\n",
              " ('ภวันดร', 57),\n",
              " ('อาร์ลิงตัน', 2),\n",
              " ('ฐัง', 4),\n",
              " ('ห่า', 217),\n",
              " ('ฟิลิป', 129),\n",
              " ('บุนนาค', 278),\n",
              " ('เฐียร', 17),\n",
              " ('งอมืองอเท้า', 29),\n",
              " ('รับ', 38329),\n",
              " ('นาด', 45),\n",
              " ('ศาสน', 153),\n",
              " ('ตตี้', 4),\n",
              " ('ที่สุด', 30312),\n",
              " ('ใจน้อย', 55),\n",
              " ('บงการ', 294),\n",
              " ('เบิร์ท', 32),\n",
              " ('แว้บ', 43)]"
            ]
          },
          "metadata": {
            "tags": []
          },
          "execution_count": 19
        }
      ]
    },
    {
      "cell_type": "markdown",
      "metadata": {
        "id": "72-q75ojKyqm",
        "colab_type": "text"
      },
      "source": [
        "เราสามารถกำหนด Custom Dictionary เพิ่มคำที่เราต้องการได้เอง ในเคสนี้จะใช้ Thai Textbook Corpus (ttc) แทน tnc"
      ]
    },
    {
      "cell_type": "code",
      "metadata": {
        "id": "pO56EjTsqoFP",
        "colab_type": "code",
        "colab": {}
      },
      "source": [
        "from pythainlp.corpus import ttc  # Thai Textbook Corpus"
      ],
      "execution_count": 0,
      "outputs": []
    },
    {
      "cell_type": "code",
      "metadata": {
        "id": "sfoWdlHysPYI",
        "colab_type": "code",
        "colab": {}
      },
      "source": [
        "# ttc??\n",
        "# NorvigSpellChecker??"
      ],
      "execution_count": 0,
      "outputs": []
    },
    {
      "cell_type": "code",
      "metadata": {
        "id": "fhiAR8GxYDAd",
        "colab_type": "code",
        "colab": {
          "base_uri": "https://localhost:8080/",
          "height": 425
        },
        "outputId": "e2dbf11e-0c09-47f2-ff1a-187752b88149"
      },
      "source": [
        "checker = NorvigSpellChecker(custom_dict=ttc.word_freqs())\n",
        "checker.spell(\"เจียง\")"
      ],
      "execution_count": 27,
      "outputs": [
        {
          "output_type": "execute_result",
          "data": {
            "text/plain": [
              "['เสียง',\n",
              " 'เพียง',\n",
              " 'เรียง',\n",
              " 'เตียง',\n",
              " 'เถียง',\n",
              " 'เอียง',\n",
              " 'เคียง',\n",
              " 'เวียง',\n",
              " 'เฉียง',\n",
              " 'เจียว',\n",
              " 'เขียง',\n",
              " 'เจียม',\n",
              " 'เชียง',\n",
              " 'เจียน',\n",
              " 'เมียง',\n",
              " 'เลียง',\n",
              " 'เจียก',\n",
              " 'เจียด',\n",
              " 'เจียร',\n",
              " 'เจียงๆ',\n",
              " 'เหียง',\n",
              " 'เจีย',\n",
              " 'เนียง',\n",
              " 'เกียง']"
            ]
          },
          "metadata": {
            "tags": []
          },
          "execution_count": 27
        }
      ]
    },
    {
      "cell_type": "markdown",
      "metadata": {
        "id": "grW5b58zYDGl",
        "colab_type": "text"
      },
      "source": [
        "นับจำนวนคำทั้งหมดใน Dictionary จาก ttc จะเห็นว่าไม่เท่ากัน เนื่องจากการสร้าง Spellchecker จะมีกำหนด Parameter เพื่อกรอง Filter คำศัพท์ ที่มีความถี่น้อยเกินไป, ความยาวน้อยเกินไป, ยาวเกินไปทิ้งไป, etc. ก่อนที่จะนำไปใช้"
      ]
    },
    {
      "cell_type": "code",
      "metadata": {
        "id": "guAshFjV9cpk",
        "colab_type": "code",
        "outputId": "21395160-7b2e-4116-9c04-e5546a9605a5",
        "colab": {
          "base_uri": "https://localhost:8080/",
          "height": 34
        }
      },
      "source": [
        "len(checker.dictionary()), len(ttc.word_freqs())"
      ],
      "execution_count": 28,
      "outputs": [
        {
          "output_type": "execute_result",
          "data": {
            "text/plain": [
              "(16377, 19494)"
            ]
          },
          "metadata": {
            "tags": []
          },
          "execution_count": 28
        }
      ]
    },
    {
      "cell_type": "markdown",
      "metadata": {
        "id": "8JBLMLx60TmA",
        "colab_type": "text"
      },
      "source": [
        "ดูตัวอย่าง คำศัพท์จาก ttc ที่ filter มาแล้ว"
      ]
    },
    {
      "cell_type": "code",
      "metadata": {
        "colab_type": "code",
        "id": "H7TxgdwbIgra",
        "outputId": "8cdd346a-de62-4f44-c603-246c6856e2b6",
        "colab": {
          "base_uri": "https://localhost:8080/",
          "height": 357
        }
      },
      "source": [
        "list(checker.dictionary())[0:20]"
      ],
      "execution_count": 29,
      "outputs": [
        {
          "output_type": "execute_result",
          "data": {
            "text/plain": [
              "[('เหล้า', 259),\n",
              " ('ตาราง', 98),\n",
              " ('วาที', 18),\n",
              " ('ดอกจัน', 3),\n",
              " ('ขิกๆ', 2),\n",
              " ('มาร', 81),\n",
              " ('บูดเบี้ยว', 6),\n",
              " ('เสา', 325),\n",
              " ('กระษาปณ์', 2),\n",
              " ('ข้า', 2682),\n",
              " ('แวบ', 31),\n",
              " ('วิชาธร', 3),\n",
              " ('มืดบอด', 4),\n",
              " ('ป่าดงดิบ', 7),\n",
              " ('ที่ดิน', 196),\n",
              " ('มุ้งลวด', 12),\n",
              " ('เลี้ยงโต๊ะ', 4),\n",
              " ('ไวพจน์', 3),\n",
              " ('เตร็ดเตร่', 8),\n",
              " ('เรือนยอด', 9)]"
            ]
          },
          "metadata": {
            "tags": []
          },
          "execution_count": 29
        }
      ]
    },
    {
      "cell_type": "markdown",
      "metadata": {
        "id": "TdX4bkA6Y_0w",
        "colab_type": "text"
      },
      "source": [
        "เราสามารถเลือก กำหนด parameter ของ Dictionary ของ Spellchecker ได้ตามต้องการ ดังนี้\n",
        "\n",
        "NorvigSpellChecker\n",
        "\n",
        "* custom_dict (str) – list of tuple (คำศัพท์, ความถี่) สำหรับสร้าง Dictionary ที่จะใช้ใน Spellchecker (Default คือ Thai National Corpus TNC มีคำศัพท์ประมาณ 40,000 คำ)\n",
        "\n",
        "* min_freq (int) – ความถี่น้อยที่สุดจะเอาไว้ ใน Dictionary (default = 2)\n",
        "\n",
        "* min_len (int) – ความยาวน้อยที่สุดที่จะเอาไว้ ใน Dictionary (เป็นตัวอักษร) (default = 2)\n",
        "\n",
        "* max_len (int) – ความยาวสูงสุดของคำที่จะเอาไว้ ใน Dictionary (default = 40)\n",
        "\n",
        "* dict_filter (func) – ฟังก์ชันที่จะกรอง Dictionary โดย Default แล้วจะลบคำที่มีตัวเลข และคำที่ไม่ใช่ภาษาไทยทิ้งไป จาก Dictionary ถ้าไม่ต้องการใช้ Filter ให้ใส่ None\n",
        "\n",
        "ในเคสนี้ไม่กำหนด custom_dict คือกลับไปใช้ TNC "
      ]
    },
    {
      "cell_type": "code",
      "metadata": {
        "colab_type": "code",
        "id": "w6qI7M92Igre",
        "outputId": "e76b03ce-ac77-489c-e957-e3981d5b0db6",
        "colab": {
          "base_uri": "https://localhost:8080/",
          "height": 34
        }
      },
      "source": [
        "checker = NorvigSpellChecker(min_freq=5, min_len=2, max_len=15)\n",
        "len(checker.dictionary())"
      ],
      "execution_count": 30,
      "outputs": [
        {
          "output_type": "execute_result",
          "data": {
            "text/plain": [
              "30376"
            ]
          },
          "metadata": {
            "tags": []
          },
          "execution_count": 30
        }
      ]
    },
    {
      "cell_type": "markdown",
      "metadata": {
        "id": "5R4sPL5G1dRD",
        "colab_type": "text"
      },
      "source": [
        "เอา TNC มาใช้ แบบเต็ม ๆ ไม่กรองตัวเลข และตัวอักษรภาษาอื่น ๆ "
      ]
    },
    {
      "cell_type": "code",
      "metadata": {
        "colab_type": "code",
        "id": "cTkFjK8IIgrh",
        "outputId": "4aff10a0-0bf5-47c0-f121-13f378f12d6e",
        "colab": {
          "base_uri": "https://localhost:8080/",
          "height": 34
        }
      },
      "source": [
        "checker_no_filter = NorvigSpellChecker(dict_filter=None)  # use no filter\n",
        "len(checker_no_filter.dictionary())"
      ],
      "execution_count": 76,
      "outputs": [
        {
          "output_type": "execute_result",
          "data": {
            "text/plain": [
              "66209"
            ]
          },
          "metadata": {
            "tags": []
          },
          "execution_count": 76
        }
      ]
    },
    {
      "cell_type": "markdown",
      "metadata": {
        "id": "7iumT1Q_1jWx",
        "colab_type": "text"
      },
      "source": [
        "ตัวอย่างการกรอง Filter ที่ซับซ้อนขึ้นกว่า ความยาว ความถี่ ด้วย dict_filter เช่น ฟังก์ชันลบคำศัพท์ที่มี อักษร ไปยาลน้อย"
      ]
    },
    {
      "cell_type": "code",
      "metadata": {
        "colab_type": "code",
        "id": "70ZHCbBQIgrm",
        "outputId": "176b20f9-9585-48a9-d85b-744c0872d370",
        "colab": {
          "base_uri": "https://localhost:8080/",
          "height": 34
        }
      },
      "source": [
        "def remove_smallpiyan(word):\n",
        "    return False if \"ฯ\" in word else True\n",
        "\n",
        "checker_custom_filter = NorvigSpellChecker(dict_filter=remove_smallpiyan)  # use custom filter\n",
        "len(checker_custom_filter.dictionary())"
      ],
      "execution_count": 32,
      "outputs": [
        {
          "output_type": "execute_result",
          "data": {
            "text/plain": [
              "66207"
            ]
          },
          "metadata": {
            "tags": []
          },
          "execution_count": 32
        }
      ]
    },
    {
      "cell_type": "markdown",
      "metadata": {
        "id": "0D-d1z0XKklB",
        "colab_type": "text"
      },
      "source": [
        "# 3. PyThaiNLP Spelling Correction"
      ]
    },
    {
      "cell_type": "markdown",
      "metadata": {
        "id": "7D5sy-NXKkpB",
        "colab_type": "text"
      },
      "source": [
        "ส่วน Spelling Correction คือการเลือกคำที่มีความน่าจะเป็นสูงสุด ในที่นี้ คือ คำแรกของ List รายการที่ได้จาก Spellchecker ด้านบน"
      ]
    },
    {
      "cell_type": "code",
      "metadata": {
        "id": "76lP2xzQKktK",
        "colab_type": "code",
        "colab": {}
      },
      "source": [
        "from pythainlp import correct"
      ],
      "execution_count": 0,
      "outputs": []
    },
    {
      "cell_type": "code",
      "metadata": {
        "colab_type": "code",
        "outputId": "496e7a42-bf6c-41ca-9f60-9f35af652463",
        "id": "GtpWDJLH20uG",
        "colab": {
          "base_uri": "https://localhost:8080/",
          "height": 34
        }
      },
      "source": [
        "correct(\"รั๊ว\") # รัว ไม้ตรี"
      ],
      "execution_count": 36,
      "outputs": [
        {
          "output_type": "execute_result",
          "data": {
            "text/plain": [
              "'รั้ว'"
            ]
          },
          "metadata": {
            "tags": []
          },
          "execution_count": 36
        }
      ]
    },
    {
      "cell_type": "code",
      "metadata": {
        "colab_type": "code",
        "outputId": "5707c81c-cbb6-4fdf-9a8c-e32135d21bcb",
        "id": "BYrGl_Pk20uR",
        "colab": {
          "base_uri": "https://localhost:8080/",
          "height": 34
        }
      },
      "source": [
        "correct(\"กวาา\") "
      ],
      "execution_count": 37,
      "outputs": [
        {
          "output_type": "execute_result",
          "data": {
            "text/plain": [
              "'กว่า'"
            ]
          },
          "metadata": {
            "tags": []
          },
          "execution_count": 37
        }
      ]
    },
    {
      "cell_type": "code",
      "metadata": {
        "colab_type": "code",
        "outputId": "7b26fb15-d2a5-4986-8bf0-9622d2f1dda0",
        "id": "ohU5iZ7620uV",
        "colab": {
          "base_uri": "https://localhost:8080/",
          "height": 34
        }
      },
      "source": [
        "correct(\"น้ำสม\")"
      ],
      "execution_count": 38,
      "outputs": [
        {
          "output_type": "execute_result",
          "data": {
            "text/plain": [
              "'น้ำส้ม'"
            ]
          },
          "metadata": {
            "tags": []
          },
          "execution_count": 38
        }
      ]
    },
    {
      "cell_type": "code",
      "metadata": {
        "colab_type": "code",
        "outputId": "b2cc5f96-039d-4441-9556-98bca111b2cf",
        "id": "vltKKW6Y20ug",
        "colab": {
          "base_uri": "https://localhost:8080/",
          "height": 34
        }
      },
      "source": [
        "correct(\"ศาธารณสุบ\")"
      ],
      "execution_count": 39,
      "outputs": [
        {
          "output_type": "execute_result",
          "data": {
            "text/plain": [
              "'สาธารณสุข'"
            ]
          },
          "metadata": {
            "tags": []
          },
          "execution_count": 39
        }
      ]
    },
    {
      "cell_type": "markdown",
      "metadata": {
        "colab_type": "text",
        "id": "6zeCV9V120ul"
      },
      "source": [
        "ตัวเลขปน"
      ]
    },
    {
      "cell_type": "code",
      "metadata": {
        "colab_type": "code",
        "outputId": "3819f814-6905-4bd0-b9d9-4328b28fb54e",
        "id": "tOCm29F920um",
        "colab": {
          "base_uri": "https://localhost:8080/",
          "height": 34
        }
      },
      "source": [
        "correct(\"ร้อ4\")"
      ],
      "execution_count": 40,
      "outputs": [
        {
          "output_type": "execute_result",
          "data": {
            "text/plain": [
              "'ร้อน'"
            ]
          },
          "metadata": {
            "tags": []
          },
          "execution_count": 40
        }
      ]
    },
    {
      "cell_type": "markdown",
      "metadata": {
        "colab_type": "text",
        "id": "p5xp1MrX20ur"
      },
      "source": [
        "ปน ภาษาอังกฤษ ตัว o โอ"
      ]
    },
    {
      "cell_type": "code",
      "metadata": {
        "colab_type": "code",
        "outputId": "8c64125f-dc85-48d3-c908-d16066a5994f",
        "id": "oKV1IUew20uu",
        "colab": {
          "base_uri": "https://localhost:8080/",
          "height": 34
        }
      },
      "source": [
        "correct(\"รั้o\")"
      ],
      "execution_count": 41,
      "outputs": [
        {
          "output_type": "execute_result",
          "data": {
            "text/plain": [
              "'รั้ว'"
            ]
          },
          "metadata": {
            "tags": []
          },
          "execution_count": 41
        }
      ]
    },
    {
      "cell_type": "markdown",
      "metadata": {
        "colab_type": "text",
        "id": "TglKqO1Q20uz"
      },
      "source": [
        "ปน ภาษาอังกฤษ ตัว h"
      ]
    },
    {
      "cell_type": "code",
      "metadata": {
        "colab_type": "code",
        "outputId": "d78cb14f-8a36-48df-fe6c-a71290683d22",
        "id": "7MenbfEg20u0",
        "colab": {
          "base_uri": "https://localhost:8080/",
          "height": 34
        }
      },
      "source": [
        "correct(\"ชhอน\")"
      ],
      "execution_count": 42,
      "outputs": [
        {
          "output_type": "execute_result",
          "data": {
            "text/plain": [
              "'ช้อน'"
            ]
          },
          "metadata": {
            "tags": []
          },
          "execution_count": 42
        }
      ]
    },
    {
      "cell_type": "markdown",
      "metadata": {
        "colab_type": "text",
        "id": "26Cv-53520u4"
      },
      "source": [
        "ภาษาอังกฤษล้วน ไม่ work เนื่องจาก โดย Default แล้ว Dictionary ของ PyThaiNLP มีแต่ภาษาไทย"
      ]
    },
    {
      "cell_type": "code",
      "metadata": {
        "colab_type": "code",
        "outputId": "aa1c41e1-8f4e-4e7a-e059-d40d86b7c063",
        "id": "w7oQ2g1S20u6",
        "colab": {
          "base_uri": "https://localhost:8080/",
          "height": 34
        }
      },
      "source": [
        "correct(\"miraclx\")"
      ],
      "execution_count": 43,
      "outputs": [
        {
          "output_type": "execute_result",
          "data": {
            "text/plain": [
              "'miraclx'"
            ]
          },
          "metadata": {
            "tags": []
          },
          "execution_count": 43
        }
      ]
    },
    {
      "cell_type": "markdown",
      "metadata": {
        "id": "pWxx8WjoC6Yn",
        "colab_type": "text"
      },
      "source": [
        "# Credit"
      ]
    },
    {
      "cell_type": "markdown",
      "metadata": {
        "id": "RVATahu8C8G1",
        "colab_type": "text"
      },
      "source": [
        "* https://www.thainlp.org/pythainlp/tutorials/notebooks/pythainlp_get_started.html\n",
        "* http://www.norvig.com/spell-correct.html\n",
        "* https://thainlp.org/pythainlp/docs/2.0/api/spell.html\n",
        "* http://www.arts.chula.ac.th/ling/tnc/\n",
        "* https://www.facebook.com/photo.php?fbid=363640477387469&set=gm.434330506948445&type=3&permPage=1\n",
        "* "
      ]
    },
    {
      "cell_type": "code",
      "metadata": {
        "id": "C7L6WAPkLlqq",
        "colab_type": "code",
        "colab": {}
      },
      "source": [
        ""
      ],
      "execution_count": 0,
      "outputs": []
    }
  ]
}