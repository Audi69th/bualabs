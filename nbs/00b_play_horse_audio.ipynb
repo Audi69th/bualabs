{
  "nbformat": 4,
  "nbformat_minor": 0,
  "metadata": {
    "colab": {
      "name": "00b_play_horse_audio.ipynb",
      "provenance": [],
      "collapsed_sections": []
    },
    "kernelspec": {
      "name": "python3",
      "display_name": "Python 3"
    }
  },
  "cells": [
    {
      "cell_type": "markdown",
      "metadata": {
        "id": "OlleJPHwsKCL",
        "colab_type": "text"
      },
      "source": [
        "ในการเทรนโมเดล มักใช้เวลาแต่ละรอบค่อนข้างนาน เราอาจจะต้องการให้มีเสียงขึ้นมาหลังจากที่เทรน Cell นั้นเสร็จ เพื่อที่ได้ไม่ต้องมาคอยเช็คหน้าจอดูว่าเสร็จหรือยัง\n",
        "\n",
        "เราสามารถใช้ Code ตัวอย่างหัวข้อ [1.](#1.-เล่นไฟล์เสียงอัตโนมัติ-เมื่อรัน) ด้านล่าง ไปใส่ Cell ให้รันต่อจาก Cell ที่ต้องการ ก็จะเล่นเสียงอัตโนมัติขึ้นมาต่อจาก Cell ที่กำหนดรันเสร็จ"
      ]
    },
    {
      "cell_type": "markdown",
      "metadata": {
        "id": "JHFnyA34s74a",
        "colab_type": "text"
      },
      "source": [
        "# 0. โค้ดที่ทำงานนาน ๆ"
      ]
    },
    {
      "cell_type": "code",
      "metadata": {
        "id": "yWf-ry8Mkrxy",
        "colab_type": "code",
        "colab": {
          "base_uri": "https://localhost:8080/",
          "height": 102
        },
        "outputId": "18e61b85-5653-41df-c177-78ed77e1168e"
      },
      "source": [
        "# Very Long Calculation such as Train Deep Neural Network\n",
        "\n",
        "import time\n",
        "for i in range(5, 0, -1):\n",
        "    print(i)\n",
        "    time.sleep(1)"
      ],
      "execution_count": 9,
      "outputs": [
        {
          "output_type": "stream",
          "text": [
            "5\n",
            "4\n",
            "3\n",
            "2\n",
            "1\n"
          ],
          "name": "stdout"
        }
      ]
    },
    {
      "cell_type": "markdown",
      "metadata": {
        "id": "qUfnoRJUs059",
        "colab_type": "text"
      },
      "source": [
        "# 1. เล่นไฟล์เสียงอัตโนมัติ เมื่อรัน"
      ]
    },
    {
      "cell_type": "code",
      "metadata": {
        "id": "gnXLLmJ_km-l",
        "colab_type": "code",
        "outputId": "e209ba93-307d-4d17-d210-460534903073",
        "colab": {
          "base_uri": "https://localhost:8080/",
          "height": 75
        }
      },
      "source": [
        "# Auto Play Audio file\n",
        "import IPython.display as ipd\n",
        "ipd.Audio(url=\"http://www.w3schools.com/html/horse.ogg\",\n",
        "                              autoplay=True) "
      ],
      "execution_count": 10,
      "outputs": [
        {
          "output_type": "execute_result",
          "data": {
            "text/html": [
              "\n",
              "                <audio controls=\"controls\" autoplay=\"autoplay\">\n",
              "                    <source src=\"http://www.w3schools.com/html/horse.ogg\" type=\"audio/ogg\" />\n",
              "                    Your browser does not support the audio element.\n",
              "                </audio>\n",
              "              "
            ],
            "text/plain": [
              "<IPython.lib.display.Audio object>"
            ]
          },
          "metadata": {
            "tags": []
          },
          "execution_count": 10
        }
      ]
    },
    {
      "cell_type": "code",
      "metadata": {
        "id": "VNNKNqwkkodY",
        "colab_type": "code",
        "colab": {}
      },
      "source": [
        ""
      ],
      "execution_count": 0,
      "outputs": []
    }
  ]
}