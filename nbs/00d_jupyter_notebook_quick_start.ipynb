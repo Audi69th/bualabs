{
  "nbformat": 4,
  "nbformat_minor": 0,
  "metadata": {
    "colab": {
      "name": "00d-jupyter-notebook-quick-start.ipynb",
      "provenance": [],
      "authorship_tag": "ABX9TyNas4Snx0eBwY9uMC6H2XAo"
    },
    "kernelspec": {
      "name": "python3",
      "display_name": "Python 3"
    }
  },
  "cells": [
    {
      "cell_type": "markdown",
      "metadata": {
        "id": "V8kwfC2a9Ozm",
        "colab_type": "text"
      },
      "source": [
        "ตัวธรรมดา\n",
        "\n",
        "**ตัวหนา** หรือ __ตัวหนา__\n",
        "\n",
        "*ตัวเอียง* หรือ _ตัวเอียง_\n",
        "\n",
        ">อ้างอิง\n",
        "\n",
        "`โค้ด`\n",
        "\n",
        "[ลิงค์](https://www.bualabs.com)"
      ]
    },
    {
      "cell_type": "markdown",
      "metadata": {
        "id": "IdERhQE-9dkJ",
        "colab_type": "text"
      },
      "source": [
        "# หัวข้อระดับ 1\n",
        "## หัวข้อระดับ 2\n",
        "### หัวข้อระดับ 3\n",
        "#### หัวข้อระดับ 4"
      ]
    },
    {
      "cell_type": "markdown",
      "metadata": {
        "id": "AM254l849gZj",
        "colab_type": "text"
      },
      "source": [
        "* สีแดง\n",
        "* สีเขียว\n",
        "    * สีฟ้า\n",
        "* สีเหลือง"
      ]
    },
    {
      "cell_type": "markdown",
      "metadata": {
        "id": "DMUzhAFj9kmM",
        "colab_type": "text"
      },
      "source": [
        "1. วันจันทร์\n",
        "2. วันอังคาร\n",
        "    3. วันพุธหยุด\n",
        "4. วันพฤหัสบดี"
      ]
    },
    {
      "cell_type": "code",
      "metadata": {
        "id": "W-0fePKw9pq0",
        "colab_type": "code",
        "colab": {}
      },
      "source": [
        "%matplotlib inline\n",
        "%reload_ext autoreload\n",
        "%autoreload 2"
      ],
      "execution_count": 0,
      "outputs": []
    },
    {
      "cell_type": "code",
      "metadata": {
        "id": "KBqmrFd99p22",
        "colab_type": "code",
        "outputId": "e7ca2430-36ba-4b39-bfcd-57949e2d53a2",
        "colab": {
          "base_uri": "https://localhost:8080/",
          "height": 34
        }
      },
      "source": [
        "%timeit [i+1 for i in range(1000)]"
      ],
      "execution_count": 0,
      "outputs": [
        {
          "output_type": "stream",
          "text": [
            "10000 loops, best of 3: 69.8 µs per loop\n"
          ],
          "name": "stdout"
        }
      ]
    },
    {
      "cell_type": "code",
      "metadata": {
        "id": "JCpn5aoT9rSg",
        "colab_type": "code",
        "colab": {}
      },
      "source": [
        "?print"
      ],
      "execution_count": 0,
      "outputs": []
    },
    {
      "cell_type": "code",
      "metadata": {
        "id": "D6TkaBJa9t0d",
        "colab_type": "code",
        "colab": {}
      },
      "source": [
        "??print"
      ],
      "execution_count": 0,
      "outputs": []
    },
    {
      "cell_type": "code",
      "metadata": {
        "id": "br_VZnkk9uHG",
        "colab_type": "code",
        "colab": {}
      },
      "source": [
        "import matplotlib.pyplot as plt\n",
        "plt.plot??"
      ],
      "execution_count": 0,
      "outputs": []
    },
    {
      "cell_type": "code",
      "metadata": {
        "id": "I7QdnjLF91Kd",
        "colab_type": "code",
        "colab": {
          "base_uri": "https://localhost:8080/",
          "height": 282
        },
        "outputId": "c795adf7-cac0-4f97-9add-6f1bb17048b0"
      },
      "source": [
        "x = [1, 2, 3, 5, 7, 8, 12, 13, 14, 14, 18, 20]\n",
        "plt.plot(x)"
      ],
      "execution_count": 2,
      "outputs": [
        {
          "output_type": "execute_result",
          "data": {
            "text/plain": [
              "[<matplotlib.lines.Line2D at 0x7fce26d47668>]"
            ]
          },
          "metadata": {
            "tags": []
          },
          "execution_count": 2
        },
        {
          "output_type": "display_data",
          "data": {
            "image/png": "[encoded data removed]",
            "text/plain": [
              "<Figure size 432x288 with 1 Axes>"
            ]
          },
          "metadata": {
            "tags": []
          }
        }
      ]
    },
    {
      "cell_type": "code",
      "metadata": {
        "id": "NbgcrHHp_-lQ",
        "colab_type": "code",
        "colab": {}
      },
      "source": [
        ""
      ],
      "execution_count": 0,
      "outputs": []
    }
  ]
}