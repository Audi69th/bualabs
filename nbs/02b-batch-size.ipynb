{
 "cells": [
  {
   "cell_type": "markdown",
   "metadata": {},
   "source": [
    "# 0. Magic Commands\n"
   ]
  },
  {
   "cell_type": "code",
   "execution_count": 1,
   "metadata": {},
   "outputs": [],
   "source": [
    "%reload_ext autoreload\n",
    "%autoreload 2\n",
    "%matplotlib inline"
   ]
  },
  {
   "cell_type": "markdown",
   "metadata": {},
   "source": [
    "# 1. Import Library"
   ]
  },
  {
   "cell_type": "code",
   "execution_count": 2,
   "metadata": {},
   "outputs": [],
   "source": [
    "from fastai import *\n",
    "from fastai.vision import *\n",
    "from fastai.metrics import accuracy"
   ]
  },
  {
   "cell_type": "markdown",
   "metadata": {},
   "source": [
    "# 2. ข้อมูล\n",
    "\n",
    "ใช้ชุดข้อมูล Dataset พันธุ์หมาแมว [Oxford-IIIT Pet Dataset](http://www.robots.ox.ac.uk/~vgg/data/pets/) by [O. M. Parkhi et al., 2012](http://www.robots.ox.ac.uk/~vgg/publications/2012/parkhi12a/parkhi12a.pdf)"
   ]
  },
  {
   "cell_type": "code",
   "execution_count": 3,
   "metadata": {
    "scrolled": true
   },
   "outputs": [],
   "source": [
    "path = untar_data(URLs.PETS)\n",
    "path_images = path/'images'\n",
    "filenames = get_image_files(path_images)"
   ]
  },
  {
   "cell_type": "markdown",
   "metadata": {},
   "source": [
    "# 3. เตรียมข้อมูล\n",
    "\n",
    "เพื่อความสะดวก เราจะประกาศฟังก์ชัน แล้วไปเรียกสร้างก่อน fit ด้วย Batch Size แต่ละแบบ"
   ]
  },
  {
   "cell_type": "code",
   "execution_count": 4,
   "metadata": {},
   "outputs": [],
   "source": [
    "batchsize = 64\n",
    "epoch = 16\n",
    "np.random.seed(55)\n",
    "regex_pattern = r'/([^/]+)_\\d+.jpg$'\n",
    "\n",
    "def get_databunch():\n",
    "    return ImageDataBunch.from_name_re(path_images, filenames, \n",
    "                                   regex_pattern, ds_tfms=get_transforms(), \n",
    "                                   size=224, bs=batchsize).normalize(imagenet_stats)"
   ]
  },
  {
   "cell_type": "markdown",
   "metadata": {},
   "source": [
    "# 4. สร้างโมเดล\n",
    "\n",
    "เพื่อความสะดวก เราจะประกาศฟังก์ชัน แล้วไปเรียกสร้างก่อน fit ด้วย Batch Size แต่ละแบบ\n",
    "\n",
    "* เคสนี้เราจะใช้โมเดล models.resnet34\n",
    "* pretrained=False หมายถึง เราจะเริ่มเทรนตั้งแต่ต้น ไม่เอา Weight ที่เคยเทรนกับ ImageNet มาแล้วมาใช้"
   ]
  },
  {
   "cell_type": "code",
   "execution_count": 5,
   "metadata": {},
   "outputs": [],
   "source": [
    "def get_learner(databunch):\n",
    "    return cnn_learner(databunch, models.resnet34, \n",
    "                      pretrained=False, \n",
    "                      metrics=accuracy, callback_fns=ShowGraph).to_fp16()"
   ]
  },
  {
   "cell_type": "markdown",
   "metadata": {},
   "source": [
    "# 5. เริ่มต้นเทรนโมเดล"
   ]
  },
  {
   "cell_type": "markdown",
   "metadata": {},
   "source": [
    "ปกติ Batch Size จะมีค่า Default เท่ากับ 64 เราจะลองเทรนด้วย Batch Size สูงมาก และต่ำมาก เปรียบเทียบกับ [Image Classification ep.3](https://www.bualabs.com/archives/509/mnist-fastai-resnet18-image-classification-ep-3/) ดูว่าจะเป็นอย่างไร"
   ]
  },
  {
   "cell_type": "markdown",
   "metadata": {},
   "source": [
    "## ลองเทรนด้วย Batch Size ใหญ่ ๆ เช่น 512"
   ]
  },
  {
   "cell_type": "code",
   "execution_count": 6,
   "metadata": {
    "scrolled": false
   },
   "outputs": [
    {
     "data": {
      "text/html": [
       "Total time: 08:35 <p><table border=\"1\" class=\"dataframe\">\n",
       "  <thead>\n",
       "    <tr style=\"text-align: left;\">\n",
       "      <th>epoch</th>\n",
       "      <th>train_loss</th>\n",
       "      <th>valid_loss</th>\n",
       "      <th>accuracy</th>\n",
       "      <th>time</th>\n",
       "    </tr>\n",
       "  </thead>\n",
       "  <tbody>\n",
       "    <tr>\n",
       "      <td>0</td>\n",
       "      <td>4.085912</td>\n",
       "      <td>3.619946</td>\n",
       "      <td>0.025710</td>\n",
       "      <td>00:38</td>\n",
       "    </tr>\n",
       "    <tr>\n",
       "      <td>1</td>\n",
       "      <td>4.017074</td>\n",
       "      <td>3.739358</td>\n",
       "      <td>0.029770</td>\n",
       "      <td>00:32</td>\n",
       "    </tr>\n",
       "    <tr>\n",
       "      <td>2</td>\n",
       "      <td>3.936802</td>\n",
       "      <td>3.580284</td>\n",
       "      <td>0.054804</td>\n",
       "      <td>00:31</td>\n",
       "    </tr>\n",
       "    <tr>\n",
       "      <td>3</td>\n",
       "      <td>3.861853</td>\n",
       "      <td>3.742437</td>\n",
       "      <td>0.078484</td>\n",
       "      <td>00:32</td>\n",
       "    </tr>\n",
       "    <tr>\n",
       "      <td>4</td>\n",
       "      <td>3.779713</td>\n",
       "      <td>3.528949</td>\n",
       "      <td>0.087957</td>\n",
       "      <td>00:31</td>\n",
       "    </tr>\n",
       "    <tr>\n",
       "      <td>5</td>\n",
       "      <td>3.699931</td>\n",
       "      <td>3.480061</td>\n",
       "      <td>0.105548</td>\n",
       "      <td>00:31</td>\n",
       "    </tr>\n",
       "    <tr>\n",
       "      <td>6</td>\n",
       "      <td>3.608214</td>\n",
       "      <td>3.517358</td>\n",
       "      <td>0.103518</td>\n",
       "      <td>00:31</td>\n",
       "    </tr>\n",
       "    <tr>\n",
       "      <td>7</td>\n",
       "      <td>3.519160</td>\n",
       "      <td>3.111308</td>\n",
       "      <td>0.150203</td>\n",
       "      <td>00:31</td>\n",
       "    </tr>\n",
       "    <tr>\n",
       "      <td>8</td>\n",
       "      <td>3.435261</td>\n",
       "      <td>3.078667</td>\n",
       "      <td>0.173207</td>\n",
       "      <td>00:32</td>\n",
       "    </tr>\n",
       "    <tr>\n",
       "      <td>9</td>\n",
       "      <td>3.356390</td>\n",
       "      <td>3.039001</td>\n",
       "      <td>0.180650</td>\n",
       "      <td>00:31</td>\n",
       "    </tr>\n",
       "    <tr>\n",
       "      <td>10</td>\n",
       "      <td>3.280945</td>\n",
       "      <td>2.994898</td>\n",
       "      <td>0.214479</td>\n",
       "      <td>00:30</td>\n",
       "    </tr>\n",
       "    <tr>\n",
       "      <td>11</td>\n",
       "      <td>3.203158</td>\n",
       "      <td>2.879266</td>\n",
       "      <td>0.211773</td>\n",
       "      <td>00:32</td>\n",
       "    </tr>\n",
       "    <tr>\n",
       "      <td>12</td>\n",
       "      <td>3.134789</td>\n",
       "      <td>2.805341</td>\n",
       "      <td>0.217862</td>\n",
       "      <td>00:31</td>\n",
       "    </tr>\n",
       "    <tr>\n",
       "      <td>13</td>\n",
       "      <td>3.073705</td>\n",
       "      <td>2.785899</td>\n",
       "      <td>0.234100</td>\n",
       "      <td>00:31</td>\n",
       "    </tr>\n",
       "    <tr>\n",
       "      <td>14</td>\n",
       "      <td>3.017875</td>\n",
       "      <td>2.744119</td>\n",
       "      <td>0.248309</td>\n",
       "      <td>00:31</td>\n",
       "    </tr>\n",
       "    <tr>\n",
       "      <td>15</td>\n",
       "      <td>2.971563</td>\n",
       "      <td>2.748912</td>\n",
       "      <td>0.245602</td>\n",
       "      <td>00:31</td>\n",
       "    </tr>\n",
       "  </tbody>\n",
       "</table>"
      ],
      "text/plain": [
       "<IPython.core.display.HTML object>"
      ]
     },
     "metadata": {},
     "output_type": "display_data"
    },
    {
     "data": {
      "image/png": "[encoded data removed]",
      "text/plain": [
       "<Figure size 432x288 with 1 Axes>"
      ]
     },
     "metadata": {},
     "output_type": "display_data"
    }
   ],
   "source": [
    "batchsize = 512\n",
    "\n",
    "learner = get_learner(get_databunch())\n",
    "learner.fit_one_cycle(epoch)"
   ]
  },
  {
   "cell_type": "markdown",
   "metadata": {},
   "source": [
    "## ลองเทรนด้วย Batch Size เล็ก ๆ เช่น 2"
   ]
  },
  {
   "cell_type": "code",
   "execution_count": 7,
   "metadata": {},
   "outputs": [
    {
     "data": {
      "text/html": [
       "Total time: 34:00 <p><table border=\"1\" class=\"dataframe\">\n",
       "  <thead>\n",
       "    <tr style=\"text-align: left;\">\n",
       "      <th>epoch</th>\n",
       "      <th>train_loss</th>\n",
       "      <th>valid_loss</th>\n",
       "      <th>accuracy</th>\n",
       "      <th>time</th>\n",
       "    </tr>\n",
       "  </thead>\n",
       "  <tbody>\n",
       "    <tr>\n",
       "      <td>0</td>\n",
       "      <td>3.969953</td>\n",
       "      <td>3.996136</td>\n",
       "      <td>0.030447</td>\n",
       "      <td>02:05</td>\n",
       "    </tr>\n",
       "    <tr>\n",
       "      <td>1</td>\n",
       "      <td>3.707931</td>\n",
       "      <td>4.420848</td>\n",
       "      <td>0.035859</td>\n",
       "      <td>02:05</td>\n",
       "    </tr>\n",
       "    <tr>\n",
       "      <td>2</td>\n",
       "      <td>3.792699</td>\n",
       "      <td>3.850158</td>\n",
       "      <td>0.031800</td>\n",
       "      <td>02:06</td>\n",
       "    </tr>\n",
       "    <tr>\n",
       "      <td>3</td>\n",
       "      <td>3.718220</td>\n",
       "      <td>3.709203</td>\n",
       "      <td>0.027064</td>\n",
       "      <td>02:06</td>\n",
       "    </tr>\n",
       "    <tr>\n",
       "      <td>4</td>\n",
       "      <td>3.770127</td>\n",
       "      <td>4.841862</td>\n",
       "      <td>0.029770</td>\n",
       "      <td>02:07</td>\n",
       "    </tr>\n",
       "    <tr>\n",
       "      <td>5</td>\n",
       "      <td>3.803670</td>\n",
       "      <td>3.856462</td>\n",
       "      <td>0.024357</td>\n",
       "      <td>02:07</td>\n",
       "    </tr>\n",
       "    <tr>\n",
       "      <td>6</td>\n",
       "      <td>3.732862</td>\n",
       "      <td>14.417171</td>\n",
       "      <td>0.018945</td>\n",
       "      <td>02:06</td>\n",
       "    </tr>\n",
       "    <tr>\n",
       "      <td>7</td>\n",
       "      <td>3.729589</td>\n",
       "      <td>6.843073</td>\n",
       "      <td>0.028417</td>\n",
       "      <td>02:07</td>\n",
       "    </tr>\n",
       "    <tr>\n",
       "      <td>8</td>\n",
       "      <td>3.723583</td>\n",
       "      <td>16.385988</td>\n",
       "      <td>0.033829</td>\n",
       "      <td>02:06</td>\n",
       "    </tr>\n",
       "    <tr>\n",
       "      <td>9</td>\n",
       "      <td>3.674579</td>\n",
       "      <td>4.618607</td>\n",
       "      <td>0.020298</td>\n",
       "      <td>02:07</td>\n",
       "    </tr>\n",
       "    <tr>\n",
       "      <td>10</td>\n",
       "      <td>3.628174</td>\n",
       "      <td>12.086406</td>\n",
       "      <td>0.033153</td>\n",
       "      <td>02:08</td>\n",
       "    </tr>\n",
       "    <tr>\n",
       "      <td>11</td>\n",
       "      <td>3.613718</td>\n",
       "      <td>6.033465</td>\n",
       "      <td>0.028417</td>\n",
       "      <td>02:08</td>\n",
       "    </tr>\n",
       "    <tr>\n",
       "      <td>12</td>\n",
       "      <td>3.584847</td>\n",
       "      <td>4.164548</td>\n",
       "      <td>0.038566</td>\n",
       "      <td>02:07</td>\n",
       "    </tr>\n",
       "    <tr>\n",
       "      <td>13</td>\n",
       "      <td>3.615732</td>\n",
       "      <td>8.155747</td>\n",
       "      <td>0.029770</td>\n",
       "      <td>02:07</td>\n",
       "    </tr>\n",
       "    <tr>\n",
       "      <td>14</td>\n",
       "      <td>3.614677</td>\n",
       "      <td>6.951621</td>\n",
       "      <td>0.032476</td>\n",
       "      <td>02:08</td>\n",
       "    </tr>\n",
       "    <tr>\n",
       "      <td>15</td>\n",
       "      <td>3.632939</td>\n",
       "      <td>5.939567</td>\n",
       "      <td>0.028417</td>\n",
       "      <td>02:07</td>\n",
       "    </tr>\n",
       "  </tbody>\n",
       "</table>"
      ],
      "text/plain": [
       "<IPython.core.display.HTML object>"
      ]
     },
     "metadata": {},
     "output_type": "display_data"
    },
    {
     "data": {
      "image/png": "[encoded data removed]",
      "text/plain": [
       "<Figure size 432x288 with 1 Axes>"
      ]
     },
     "metadata": {},
     "output_type": "display_data"
    }
   ],
   "source": [
    "batchsize = 2\n",
    "\n",
    "learner = get_learner(get_databunch())\n",
    "learner.fit_one_cycle(epoch)"
   ]
  },
  {
   "cell_type": "markdown",
   "metadata": {},
   "source": [
    "## ลองเทรนด้วย Default Batch Size 64"
   ]
  },
  {
   "cell_type": "code",
   "execution_count": 8,
   "metadata": {},
   "outputs": [
    {
     "data": {
      "text/html": [
       "Total time: 07:09 <p><table border=\"1\" class=\"dataframe\">\n",
       "  <thead>\n",
       "    <tr style=\"text-align: left;\">\n",
       "      <th>epoch</th>\n",
       "      <th>train_loss</th>\n",
       "      <th>valid_loss</th>\n",
       "      <th>accuracy</th>\n",
       "      <th>time</th>\n",
       "    </tr>\n",
       "  </thead>\n",
       "  <tbody>\n",
       "    <tr>\n",
       "      <td>0</td>\n",
       "      <td>3.995734</td>\n",
       "      <td>3.619972</td>\n",
       "      <td>0.046008</td>\n",
       "      <td>00:27</td>\n",
       "    </tr>\n",
       "    <tr>\n",
       "      <td>1</td>\n",
       "      <td>3.833632</td>\n",
       "      <td>3.508620</td>\n",
       "      <td>0.066982</td>\n",
       "      <td>00:26</td>\n",
       "    </tr>\n",
       "    <tr>\n",
       "      <td>2</td>\n",
       "      <td>3.675038</td>\n",
       "      <td>3.451895</td>\n",
       "      <td>0.092693</td>\n",
       "      <td>00:26</td>\n",
       "    </tr>\n",
       "    <tr>\n",
       "      <td>3</td>\n",
       "      <td>3.492510</td>\n",
       "      <td>3.457355</td>\n",
       "      <td>0.106901</td>\n",
       "      <td>00:26</td>\n",
       "    </tr>\n",
       "    <tr>\n",
       "      <td>4</td>\n",
       "      <td>3.331289</td>\n",
       "      <td>3.233011</td>\n",
       "      <td>0.119756</td>\n",
       "      <td>00:26</td>\n",
       "    </tr>\n",
       "    <tr>\n",
       "      <td>5</td>\n",
       "      <td>3.135010</td>\n",
       "      <td>3.609682</td>\n",
       "      <td>0.131258</td>\n",
       "      <td>00:26</td>\n",
       "    </tr>\n",
       "    <tr>\n",
       "      <td>6</td>\n",
       "      <td>2.900362</td>\n",
       "      <td>2.995388</td>\n",
       "      <td>0.198241</td>\n",
       "      <td>00:26</td>\n",
       "    </tr>\n",
       "    <tr>\n",
       "      <td>7</td>\n",
       "      <td>2.714473</td>\n",
       "      <td>2.780990</td>\n",
       "      <td>0.248985</td>\n",
       "      <td>00:26</td>\n",
       "    </tr>\n",
       "    <tr>\n",
       "      <td>8</td>\n",
       "      <td>2.503539</td>\n",
       "      <td>2.503282</td>\n",
       "      <td>0.291610</td>\n",
       "      <td>00:26</td>\n",
       "    </tr>\n",
       "    <tr>\n",
       "      <td>9</td>\n",
       "      <td>2.283386</td>\n",
       "      <td>2.259569</td>\n",
       "      <td>0.325440</td>\n",
       "      <td>00:26</td>\n",
       "    </tr>\n",
       "    <tr>\n",
       "      <td>10</td>\n",
       "      <td>2.049082</td>\n",
       "      <td>2.167594</td>\n",
       "      <td>0.359269</td>\n",
       "      <td>00:26</td>\n",
       "    </tr>\n",
       "    <tr>\n",
       "      <td>11</td>\n",
       "      <td>1.852127</td>\n",
       "      <td>1.871278</td>\n",
       "      <td>0.422192</td>\n",
       "      <td>00:26</td>\n",
       "    </tr>\n",
       "    <tr>\n",
       "      <td>12</td>\n",
       "      <td>1.654626</td>\n",
       "      <td>1.696131</td>\n",
       "      <td>0.474966</td>\n",
       "      <td>00:26</td>\n",
       "    </tr>\n",
       "    <tr>\n",
       "      <td>13</td>\n",
       "      <td>1.496126</td>\n",
       "      <td>1.522146</td>\n",
       "      <td>0.532476</td>\n",
       "      <td>00:26</td>\n",
       "    </tr>\n",
       "    <tr>\n",
       "      <td>14</td>\n",
       "      <td>1.401734</td>\n",
       "      <td>1.470823</td>\n",
       "      <td>0.546008</td>\n",
       "      <td>00:26</td>\n",
       "    </tr>\n",
       "    <tr>\n",
       "      <td>15</td>\n",
       "      <td>1.342138</td>\n",
       "      <td>1.462258</td>\n",
       "      <td>0.548038</td>\n",
       "      <td>00:26</td>\n",
       "    </tr>\n",
       "  </tbody>\n",
       "</table>"
      ],
      "text/plain": [
       "<IPython.core.display.HTML object>"
      ]
     },
     "metadata": {},
     "output_type": "display_data"
    },
    {
     "data": {
      "image/png": "[encoded data removed]",
      "text/plain": [
       "<Figure size 432x288 with 1 Axes>"
      ]
     },
     "metadata": {},
     "output_type": "display_data"
    }
   ],
   "source": [
    "batchsize = 64\n",
    "\n",
    "learner = get_learner(get_databunch())\n",
    "learner.fit_one_cycle(epoch)"
   ]
  },
  {
   "cell_type": "markdown",
   "metadata": {},
   "source": [
    "## ลองเทรนด้วย Batch Size 32 ตาม Paper"
   ]
  },
  {
   "cell_type": "code",
   "execution_count": 9,
   "metadata": {},
   "outputs": [
    {
     "data": {
      "text/html": [
       "Total time: 07:23 <p><table border=\"1\" class=\"dataframe\">\n",
       "  <thead>\n",
       "    <tr style=\"text-align: left;\">\n",
       "      <th>epoch</th>\n",
       "      <th>train_loss</th>\n",
       "      <th>valid_loss</th>\n",
       "      <th>accuracy</th>\n",
       "      <th>time</th>\n",
       "    </tr>\n",
       "  </thead>\n",
       "  <tbody>\n",
       "    <tr>\n",
       "      <td>0</td>\n",
       "      <td>3.944496</td>\n",
       "      <td>3.593606</td>\n",
       "      <td>0.054127</td>\n",
       "      <td>00:28</td>\n",
       "    </tr>\n",
       "    <tr>\n",
       "      <td>1</td>\n",
       "      <td>3.762694</td>\n",
       "      <td>3.522297</td>\n",
       "      <td>0.077131</td>\n",
       "      <td>00:27</td>\n",
       "    </tr>\n",
       "    <tr>\n",
       "      <td>2</td>\n",
       "      <td>3.584366</td>\n",
       "      <td>3.549043</td>\n",
       "      <td>0.066982</td>\n",
       "      <td>00:27</td>\n",
       "    </tr>\n",
       "    <tr>\n",
       "      <td>3</td>\n",
       "      <td>3.436313</td>\n",
       "      <td>3.282166</td>\n",
       "      <td>0.131935</td>\n",
       "      <td>00:27</td>\n",
       "    </tr>\n",
       "    <tr>\n",
       "      <td>4</td>\n",
       "      <td>3.231786</td>\n",
       "      <td>3.045166</td>\n",
       "      <td>0.161705</td>\n",
       "      <td>00:27</td>\n",
       "    </tr>\n",
       "    <tr>\n",
       "      <td>5</td>\n",
       "      <td>3.037077</td>\n",
       "      <td>4.495925</td>\n",
       "      <td>0.083897</td>\n",
       "      <td>00:27</td>\n",
       "    </tr>\n",
       "    <tr>\n",
       "      <td>6</td>\n",
       "      <td>2.824128</td>\n",
       "      <td>2.914980</td>\n",
       "      <td>0.218539</td>\n",
       "      <td>00:27</td>\n",
       "    </tr>\n",
       "    <tr>\n",
       "      <td>7</td>\n",
       "      <td>2.576104</td>\n",
       "      <td>2.421703</td>\n",
       "      <td>0.293640</td>\n",
       "      <td>00:27</td>\n",
       "    </tr>\n",
       "    <tr>\n",
       "      <td>8</td>\n",
       "      <td>2.376028</td>\n",
       "      <td>2.338658</td>\n",
       "      <td>0.293640</td>\n",
       "      <td>00:27</td>\n",
       "    </tr>\n",
       "    <tr>\n",
       "      <td>9</td>\n",
       "      <td>2.162715</td>\n",
       "      <td>1.937695</td>\n",
       "      <td>0.411367</td>\n",
       "      <td>00:27</td>\n",
       "    </tr>\n",
       "    <tr>\n",
       "      <td>10</td>\n",
       "      <td>1.859947</td>\n",
       "      <td>1.821864</td>\n",
       "      <td>0.447226</td>\n",
       "      <td>00:27</td>\n",
       "    </tr>\n",
       "    <tr>\n",
       "      <td>11</td>\n",
       "      <td>1.674788</td>\n",
       "      <td>1.555683</td>\n",
       "      <td>0.516915</td>\n",
       "      <td>00:27</td>\n",
       "    </tr>\n",
       "    <tr>\n",
       "      <td>12</td>\n",
       "      <td>1.479083</td>\n",
       "      <td>1.373837</td>\n",
       "      <td>0.557510</td>\n",
       "      <td>00:27</td>\n",
       "    </tr>\n",
       "    <tr>\n",
       "      <td>13</td>\n",
       "      <td>1.321912</td>\n",
       "      <td>1.275732</td>\n",
       "      <td>0.596076</td>\n",
       "      <td>00:27</td>\n",
       "    </tr>\n",
       "    <tr>\n",
       "      <td>14</td>\n",
       "      <td>1.269305</td>\n",
       "      <td>1.235868</td>\n",
       "      <td>0.609608</td>\n",
       "      <td>00:27</td>\n",
       "    </tr>\n",
       "    <tr>\n",
       "      <td>15</td>\n",
       "      <td>1.247466</td>\n",
       "      <td>1.232136</td>\n",
       "      <td>0.619080</td>\n",
       "      <td>00:27</td>\n",
       "    </tr>\n",
       "  </tbody>\n",
       "</table>"
      ],
      "text/plain": [
       "<IPython.core.display.HTML object>"
      ]
     },
     "metadata": {},
     "output_type": "display_data"
    },
    {
     "data": {
      "image/png": "[encoded data removed]",
      "text/plain": [
       "<Figure size 432x288 with 1 Axes>"
      ]
     },
     "metadata": {},
     "output_type": "display_data"
    }
   ],
   "source": [
    "batchsize = 32\n",
    "\n",
    "learner = get_learner(get_databunch())\n",
    "learner.fit_one_cycle(epoch)"
   ]
  },
  {
   "cell_type": "markdown",
   "metadata": {},
   "source": [
    "# 6. สรุป"
   ]
  },
  {
   "cell_type": "markdown",
   "metadata": {},
   "source": [
    "เปรียบเทียบ การเทรนแต่ละ Batch Size ในตารางดังนี้"
   ]
  },
  {
   "cell_type": "markdown",
   "metadata": {},
   "source": [
    "| Batch Size | Time  | Accuracy | Memory  |\n",
    "|-----------:|-------|---------:|---------|\n",
    "|        512 | 08:35 |      24% | Large   |\n",
    "|          2 | 34:00 |       2% | Small   |\n",
    "|         64 | 07:09 |      54% | Medium  |\n",
    "|         32 | 07:23 |      62% | Medium  |"
   ]
  },
  {
   "cell_type": "markdown",
   "metadata": {},
   "source": [
    "# หมายเหตุ\n",
    "\n",
    "* อันนี้เป็นการทดสอบแบบคร่าว ๆ ให้พอเห็นภาพ มีตัวแปรอีกหลายอย่าง\n",
    "* ใน Framework มีการใช้อีกหลายอัลกอริทึมโดย Default อาจทำให้ผลลัพธ์แตกต่างกันไป\n",
    "* แต่ละ learner มีการ Initial Weight ที่แตกต่างกัน"
   ]
  },
  {
   "cell_type": "markdown",
   "metadata": {},
   "source": [
    "# Credit \n",
    "\n",
    "* [The “BS<=32” paper Topic on Fastai Forum](https://forums.fast.ai/t/the-bs-32-paper/38935)\n",
    "* [Revisiting Small Batch Training for Deep Neural Networks Dominic Masters, Carlo Luschi (Submitted on 20 Apr 2018)](https://arxiv.org/abs/1804.07612)\n",
    "* [Yann LeCun on Twitter: \"Training with large minibatches is bad for ...](https://twitter.com/ylecun/status/989610208497360896)"
   ]
  },
  {
   "cell_type": "code",
   "execution_count": null,
   "metadata": {},
   "outputs": [],
   "source": []
  },
  {
   "cell_type": "code",
   "execution_count": null,
   "metadata": {},
   "outputs": [],
   "source": []
  }
 ],
 "metadata": {
  "kernelspec": {
   "display_name": "Python 3",
   "language": "python",
   "name": "python3"
  },
  "language_info": {
   "codemirror_mode": {
    "name": "ipython",
    "version": 3
   },
   "file_extension": ".py",
   "mimetype": "text/x-python",
   "name": "python",
   "nbconvert_exporter": "python",
   "pygments_lexer": "ipython3",
   "version": "3.7.3"
  }
 },
 "nbformat": 4,
 "nbformat_minor": 2
}
