{
 "cells": [
  {
   "cell_type": "markdown",
   "metadata": {},
   "source": [
    "การเทรนโมเดลในงาน Sentiment Analysis ซึ่งเป็นสาขาหนึ่งของ Natural Language Processing (NLP) ของเรานี้ เราจะใช้อัลกอริทึ่มที่เรียกว่า ULMFiT ย่อมาจาก Universal Language Model Fine-tuning เป็นการนำ Transfer Learning ที่ใช้กันอย่างแพร่หลายใน Computer Vision มาประยุกต์ใช้กับ NLP ช่วยให้เทรนได้เร็วขึ้น ได้ผลแม่นยำมากขึ้น มีขึ้นตอนดังนี้\n",
    "\n",
    "1. สร้าง หรือดาวน์โหลด Language Model ที่เทรนกับ Corpus ขนาดใหญ่ เช่น Wikipedia\n",
    "\n",
    "2. Fine-tune โมเดล Language Model นี้เข้ากับ Corpus ของเรา เช่น รีวิวหนัง\n",
    "\n",
    "3. ดึง Encoder ออกจาก Language Model ที่ Fine-tune แล้ว มาใช้สร้าง Classifier\n",
    "\n",
    "4. Fine-tune โมเดล Classifier ด้วยวิธีปกติ ในกรณีนี้คือ Sentiment Analysis\n",
    "\n",
    "\n",
    "*Language Model คือ โมเดลภาษา การเข้าใจภาษา บางทีต้องเข้าใจโลกของภาษานั้น ๆ ด้วย ตัวอย่างคือ สามารถเดาคำในช่องว่างได้ เช่น หมาตัวนี้สี..., แมนยูกำลังให้ความสนใจดาวยิงชาวสเปนอย่าง..., President Obama fought unsuccessfully to restrict gun ...*\n"
   ]
  },
  {
   "cell_type": "markdown",
   "metadata": {},
   "source": [
    "# 0. Magic Commands\n"
   ]
  },
  {
   "cell_type": "code",
   "execution_count": 1,
   "metadata": {},
   "outputs": [],
   "source": [
    "%reload_ext autoreload\n",
    "%autoreload 2\n",
    "%matplotlib inline"
   ]
  },
  {
   "cell_type": "markdown",
   "metadata": {},
   "source": [
    "# 1. Import Library"
   ]
  },
  {
   "cell_type": "markdown",
   "metadata": {},
   "source": [
    "เคสนี้เราจะใช้ fastai.text ซึ่งเป็น Library ทางด้าน NLP"
   ]
  },
  {
   "cell_type": "code",
   "execution_count": 2,
   "metadata": {},
   "outputs": [],
   "source": [
    "from fastai import *\n",
    "from fastai.text import *"
   ]
  },
  {
   "cell_type": "markdown",
   "metadata": {},
   "source": [
    "# 2. ข้อมูลตัวอย่าง"
   ]
  },
  {
   "cell_type": "markdown",
   "metadata": {},
   "source": [
    "เราจะใช้ชุดข้อมูล [Large Movie Review Dataset v1.0](http://ai.stanford.edu/~amaas/papers/wvSent_acl2011.bib) จาก  Andrew Maas et al.  http://ai.stanford.edu/~amaas/data/sentiment/\n",
    "\n",
    "ชุดข้อมูลนี้ประกอบด้วย \n",
    "\n",
    "1. รีวิวหนัง ที่มี Label แง่บวก/แง่ลบ สำหรับเทรน จำนวน 25,000 รีวิว\n",
    "2. รีวิวหนัง ที่มี Label แง่บวก/แง่ลบ สำหรับเทส จำนวน 25,000 รีวิว\n",
    "3. รีวิวหนัง ที่ไม่มี label จำนวน 50,000 รีวิว"
   ]
  },
  {
   "cell_type": "markdown",
   "metadata": {},
   "source": [
    "หมายเหตุ\n",
    "\n",
    "1. รีวิวหนังถูกเลือกมาแล้ว ให้ชัดเจน ว่าเขียนแง่บวก หรือแง่ลบ ไม่กำกวม\n",
    "2. รีวิวหนังที่ไม่มี Label ไม่ใช่ไม่มีประโยชน์ เราจะใช้มาช่วยเทรน Language Model ใน ULMFiT ในขั้นตอนที่ 2"
   ]
  },
  {
   "cell_type": "markdown",
   "metadata": {},
   "source": [
    "เปิดข้อมูล Sample ดูก่อน ที่จะไปดูข้อมูลจริง"
   ]
  },
  {
   "cell_type": "code",
   "execution_count": 3,
   "metadata": {},
   "outputs": [
    {
     "data": {
      "text/plain": [
       "[PosixPath('/home/jupyter/.fastai/data/imdb_sample/texts.csv'),\n",
       " PosixPath('/home/jupyter/.fastai/data/imdb_sample/data_save.pkl')]"
      ]
     },
     "execution_count": 3,
     "metadata": {},
     "output_type": "execute_result"
    }
   ],
   "source": [
    "path = untar_data(URLs.IMDB_SAMPLE)\n",
    "path.ls()"
   ]
  },
  {
   "cell_type": "markdown",
   "metadata": {},
   "source": [
    "มี CSV อยู่ไฟล์เดียว ลองเปิดดู head (5 บรรทัดแรก)"
   ]
  },
  {
   "cell_type": "code",
   "execution_count": 4,
   "metadata": {},
   "outputs": [
    {
     "data": {
      "text/html": [
       "<div>\n",
       "<style scoped>\n",
       "    .dataframe tbody tr th:only-of-type {\n",
       "        vertical-align: middle;\n",
       "    }\n",
       "\n",
       "    .dataframe tbody tr th {\n",
       "        vertical-align: top;\n",
       "    }\n",
       "\n",
       "    .dataframe thead th {\n",
       "        text-align: right;\n",
       "    }\n",
       "</style>\n",
       "<table border=\"1\" class=\"dataframe\">\n",
       "  <thead>\n",
       "    <tr style=\"text-align: right;\">\n",
       "      <th></th>\n",
       "      <th>label</th>\n",
       "      <th>text</th>\n",
       "      <th>is_valid</th>\n",
       "    </tr>\n",
       "  </thead>\n",
       "  <tbody>\n",
       "    <tr>\n",
       "      <th>0</th>\n",
       "      <td>negative</td>\n",
       "      <td>Un-bleeping-believable! Meg Ryan doesn't even ...</td>\n",
       "      <td>False</td>\n",
       "    </tr>\n",
       "    <tr>\n",
       "      <th>1</th>\n",
       "      <td>positive</td>\n",
       "      <td>This is a extremely well-made film. The acting...</td>\n",
       "      <td>False</td>\n",
       "    </tr>\n",
       "    <tr>\n",
       "      <th>2</th>\n",
       "      <td>negative</td>\n",
       "      <td>Every once in a long while a movie will come a...</td>\n",
       "      <td>False</td>\n",
       "    </tr>\n",
       "    <tr>\n",
       "      <th>3</th>\n",
       "      <td>positive</td>\n",
       "      <td>Name just says it all. I watched this movie wi...</td>\n",
       "      <td>False</td>\n",
       "    </tr>\n",
       "    <tr>\n",
       "      <th>4</th>\n",
       "      <td>negative</td>\n",
       "      <td>This movie succeeds at being one of the most u...</td>\n",
       "      <td>False</td>\n",
       "    </tr>\n",
       "  </tbody>\n",
       "</table>\n",
       "</div>"
      ],
      "text/plain": [
       "      label                                               text  is_valid\n",
       "0  negative  Un-bleeping-believable! Meg Ryan doesn't even ...     False\n",
       "1  positive  This is a extremely well-made film. The acting...     False\n",
       "2  negative  Every once in a long while a movie will come a...     False\n",
       "3  positive  Name just says it all. I watched this movie wi...     False\n",
       "4  negative  This movie succeeds at being one of the most u...     False"
      ]
     },
     "execution_count": 4,
     "metadata": {},
     "output_type": "execute_result"
    }
   ],
   "source": [
    "df = pd.read_csv(path/'texts.csv')\n",
    "df.head()"
   ]
  },
  {
   "cell_type": "markdown",
   "metadata": {},
   "source": [
    "ข้อมูลมี 3 column คือ label แง่บวกหรือลบ, text คือข้อความรีวิว และ is_valid คือ เป็น Validation Set หรือ Training Set\n",
    "\n",
    "แต่ text ยาวมากเกินไป เวลาแสดงถูกตัดออกไป เรามาดูเฉพาะ text บรรทัดที่ 2 กัน"
   ]
  },
  {
   "cell_type": "code",
   "execution_count": 5,
   "metadata": {
    "scrolled": true
   },
   "outputs": [
    {
     "data": {
      "text/plain": [
       "'This is a extremely well-made film. The acting, script and camera-work are all first-rate. The music is good, too, though it is mostly early in the film, when things are still relatively cheery. There are no really superstars in the cast, though several faces will be familiar. The entire cast does an excellent job with the script.<br /><br />But it is hard to watch, because there is no good end to a situation like the one presented. It is now fashionable to blame the British for setting Hindus and Muslims against each other, and then cruelly separating them into two countries. There is some merit in this view, but it\\'s also true that no one forced Hindus and Muslims in the region to mistreat each other as they did around the time of partition. It seems more likely that the British simply saw the tensions between the religions and were clever enough to exploit them to their own ends.<br /><br />The result is that there is much cruelty and inhumanity in the situation and this is very unpleasant to remember and to see on the screen. But it is never painted as a black-and-white case. There is baseness and nobility on both sides, and also the hope for change in the younger generation.<br /><br />There is redemption of a sort, in the end, when Puro has to make a hard choice between a man who has ruined her life, but also truly loved her, and her family which has disowned her, then later come looking for her. But by that point, she has no option that is without great pain for her.<br /><br />This film carries the message that both Muslims and Hindus have their grave faults, and also that both can be dignified and caring people. The reality of partition makes that realisation all the more wrenching, since there can never be real reconciliation across the India/Pakistan border. In that sense, it is similar to \"Mr & Mrs Iyer\".<br /><br />In the end, we were glad to have seen the film, even though the resolution was heartbreaking. If the UK and US could deal with their own histories of racism with this kind of frankness, they would certainly be better off.'"
      ]
     },
     "execution_count": 5,
     "metadata": {},
     "output_type": "execute_result"
    }
   ],
   "source": [
    "df['text'][1]"
   ]
  },
  {
   "cell_type": "markdown",
   "metadata": {},
   "source": [
    "สร้าง Databunch แบบ TextDataBunch \n",
    "\n",
    "เนื่องจากโมเดลไม่สามารถประมวลผลข้อความได้โดยตรง โมเดลรับได้แต่ตัวเลข เราจึงต้องแปลงข้อความความให้เป็นตัวเลขเสียก่อน ด้วย 2 ขั้นตอนดังนี้\n",
    "\n",
    "1. Tokenization คือ การนำข้อความมาตัดคำ ออกเป้นคำย่อย ๆ เรียกว่า Token \n",
    "2. Numericalization คือ การกำหนดค่าแต่ละ Token แทนด้วยตัวเลข\n",
    "\n",
    "TextDataBunch จะดำเนินการทั้ง 2 ขั้นตอนให้อัตโนมัติ"
   ]
  },
  {
   "cell_type": "code",
   "execution_count": 6,
   "metadata": {},
   "outputs": [],
   "source": [
    "databunch_languagemodel = TextDataBunch.from_csv(path, 'texts.csv')"
   ]
  },
  {
   "cell_type": "markdown",
   "metadata": {},
   "source": [
    "Save databunch ที่เราแปลงไว้"
   ]
  },
  {
   "cell_type": "code",
   "execution_count": 7,
   "metadata": {},
   "outputs": [],
   "source": [
    "databunch_languagemodel.save()"
   ]
  },
  {
   "cell_type": "markdown",
   "metadata": {},
   "source": [
    "คราวหน้าจะได้ไม่ต้องแปลงใหม่ สามารถ Load ขึ้นมาได้เลย"
   ]
  },
  {
   "cell_type": "code",
   "execution_count": 8,
   "metadata": {},
   "outputs": [],
   "source": [
    "databunch_languagemodel = load_data(path)"
   ]
  },
  {
   "cell_type": "markdown",
   "metadata": {},
   "source": [
    "# 3. เตรียมข้อมูลตัวอย่าง"
   ]
  },
  {
   "cell_type": "markdown",
   "metadata": {},
   "source": [
    "เรามาดูการทำงานทีละขั้นตอนกันโดยละเอียด"
   ]
  },
  {
   "cell_type": "markdown",
   "metadata": {},
   "source": [
    "## Tokenization"
   ]
  },
  {
   "cell_type": "markdown",
   "metadata": {},
   "source": [
    "ขั้นตอนแรกในการประมวลผลข้อความต่าง ๆ คือ Split ประโยค ให้แบ่งเป็นหน่วยย่อย ๆ คำย่อย ๆ เรียกว่า Token ในกรณีภาษาอังกฤษ สามารถแบ่งตาม space ได้เลย แต่ก็มีกรณีพิเศษ เช่น\n",
    "\n",
    "1. Punctuation เช่น . ? , : ' ; - \" ( ) etc.\n",
    "2. Contraction เช่น should've/should have, can't/cannot, don't/do not, I'm/I am, couldn't/could not, you've/you have, she's/she is, who's/who is, doesn't/does not, they're/they are\n",
    "3. ภาษาพิเศษ ที่ปนอยู่ในข้อความ เช่น HTML, Markdown, Tag พิเศษ"
   ]
  },
  {
   "cell_type": "markdown",
   "metadata": {},
   "source": [
    "เรามาดูกันว่า ผลลัพธ์หลังจาก Tokenization แล้ว ข้อความจะเป็นอย่างไร"
   ]
  },
  {
   "cell_type": "code",
   "execution_count": 9,
   "metadata": {
    "scrolled": false
   },
   "outputs": [
    {
     "data": {
      "text/html": [
       "<div>\n",
       "<style scoped>\n",
       "    .dataframe tbody tr th:only-of-type {\n",
       "        vertical-align: middle;\n",
       "    }\n",
       "\n",
       "    .dataframe tbody tr th {\n",
       "        vertical-align: top;\n",
       "    }\n",
       "\n",
       "    .dataframe thead th {\n",
       "        text-align: right;\n",
       "    }\n",
       "</style>\n",
       "<table border=\"1\" class=\"dataframe\">\n",
       "  <thead>\n",
       "    <tr style=\"text-align: right;\">\n",
       "      <th></th>\n",
       "      <th>0</th>\n",
       "      <th>1</th>\n",
       "      <th>2</th>\n",
       "      <th>3</th>\n",
       "      <th>4</th>\n",
       "      <th>5</th>\n",
       "      <th>6</th>\n",
       "      <th>7</th>\n",
       "      <th>8</th>\n",
       "      <th>9</th>\n",
       "      <th>10</th>\n",
       "      <th>11</th>\n",
       "      <th>12</th>\n",
       "      <th>13</th>\n",
       "    </tr>\n",
       "  </thead>\n",
       "  <tbody>\n",
       "    <tr>\n",
       "      <th>0</th>\n",
       "      <td>i</td>\n",
       "      <td>'ve</td>\n",
       "      <td>seen</td>\n",
       "      <td>.</td>\n",
       "      <td>i</td>\n",
       "      <td>'m</td>\n",
       "      <td>not</td>\n",
       "      <td>saying</td>\n",
       "      <td>everyone</td>\n",
       "      <td>should</td>\n",
       "      <td>feel</td>\n",
       "      <td>this</td>\n",
       "      <td>None</td>\n",
       "      <td>None</td>\n",
       "    </tr>\n",
       "    <tr>\n",
       "      <th>1</th>\n",
       "      <td>,</td>\n",
       "      <td>i</td>\n",
       "      <td>'m</td>\n",
       "      <td>afraid</td>\n",
       "      <td>you</td>\n",
       "      <td>'ll</td>\n",
       "      <td>need</td>\n",
       "      <td>to</td>\n",
       "      <td>go</td>\n",
       "      <td>elsewhere</td>\n",
       "      <td>.</td>\n",
       "      <td>\\n</td>\n",
       "      <td>\\n</td>\n",
       "      <td></td>\n",
       "    </tr>\n",
       "    <tr>\n",
       "      <th>2</th>\n",
       "      <td>way</td>\n",
       "      <td>out</td>\n",
       "      <td>and</td>\n",
       "      <td>soon</td>\n",
       "      <td>find</td>\n",
       "      <td>they</td>\n",
       "      <td>are</td>\n",
       "      <td>out</td>\n",
       "      <td>of</td>\n",
       "      <td>the</td>\n",
       "      <td>xxunk</td>\n",
       "      <td>pan</td>\n",
       "      <td>None</td>\n",
       "      <td>None</td>\n",
       "    </tr>\n",
       "    <tr>\n",
       "      <th>3</th>\n",
       "      <td>when</td>\n",
       "      <td>the</td>\n",
       "      <td>first</td>\n",
       "      <td>person</td>\n",
       "      <td>dies</td>\n",
       "      <td>they</td>\n",
       "      <td>kill</td>\n",
       "      <td>them</td>\n",
       "      <td>all</td>\n",
       "      <td>off</td>\n",
       "      <td>in</td>\n",
       "      <td>5</td>\n",
       "      <td>None</td>\n",
       "      <td>None</td>\n",
       "    </tr>\n",
       "    <tr>\n",
       "      <th>4</th>\n",
       "      <td>and</td>\n",
       "      <td>funny</td>\n",
       "      <td>.</td>\n",
       "      <td>xxmaj</td>\n",
       "      <td>this</td>\n",
       "      <td>attempt</td>\n",
       "      <td>should</td>\n",
       "      <td>have</td>\n",
       "      <td>never</td>\n",
       "      <td>left</td>\n",
       "      <td>the</td>\n",
       "      <td>studio</td>\n",
       "      <td>None</td>\n",
       "      <td>None</td>\n",
       "    </tr>\n",
       "    <tr>\n",
       "      <th>5</th>\n",
       "      <td>problems</td>\n",
       "      <td>than</td>\n",
       "      <td>that</td>\n",
       "      <td>--</td>\n",
       "      <td>the</td>\n",
       "      <td>cinematography</td>\n",
       "      <td>is</td>\n",
       "      <td>decidedly</td>\n",
       "      <td>low</td>\n",
       "      <td>-</td>\n",
       "      <td>budget</td>\n",
       "      <td>-</td>\n",
       "      <td>None</td>\n",
       "      <td>None</td>\n",
       "    </tr>\n",
       "    <tr>\n",
       "      <th>6</th>\n",
       "      <td>are</td>\n",
       "      <td>they</td>\n",
       "      <td>xxmaj</td>\n",
       "      <td>natural</td>\n",
       "      <td>xxmaj</td>\n",
       "      <td>born</td>\n",
       "      <td>xxmaj</td>\n",
       "      <td>killers</td>\n",
       "      <td>?</td>\n",
       "      <td>)</td>\n",
       "      <td>.</td>\n",
       "      <td>xxmaj</td>\n",
       "      <td>None</td>\n",
       "      <td>None</td>\n",
       "    </tr>\n",
       "    <tr>\n",
       "      <th>7</th>\n",
       "      <td>xxrep</td>\n",
       "      <td>4</td>\n",
       "      <td>.</td>\n",
       "      <td>please</td>\n",
       "      <td>xxrep</td>\n",
       "      <td>12</td>\n",
       "      <td>!</td>\n",
       "      <td>xxmaj</td>\n",
       "      <td>xxunk</td>\n",
       "      <td>xxrep</td>\n",
       "      <td>5</td>\n",
       "      <td>h</td>\n",
       "      <td>None</td>\n",
       "      <td>None</td>\n",
       "    </tr>\n",
       "    <tr>\n",
       "      <th>8</th>\n",
       "      <td>first</td>\n",
       "      <td>one</td>\n",
       "      <td>.</td>\n",
       "      <td>i</td>\n",
       "      <td>have</td>\n",
       "      <td>no</td>\n",
       "      <td>idea</td>\n",
       "      <td>why</td>\n",
       "      <td>they</td>\n",
       "      <td>even</td>\n",
       "      <td>made</td>\n",
       "      <td>another</td>\n",
       "      <td>None</td>\n",
       "      <td>None</td>\n",
       "    </tr>\n",
       "    <tr>\n",
       "      <th>9</th>\n",
       "      <td>reason</td>\n",
       "      <td>\"</td>\n",
       "      <td>to</td>\n",
       "      <td>kill</td>\n",
       "      <td>people</td>\n",
       "      <td>,</td>\n",
       "      <td>but</td>\n",
       "      <td>in</td>\n",
       "      <td>this</td>\n",
       "      <td>sequal</td>\n",
       "      <td>,</td>\n",
       "      <td>half</td>\n",
       "      <td>None</td>\n",
       "      <td>None</td>\n",
       "    </tr>\n",
       "    <tr>\n",
       "      <th>10</th>\n",
       "      <td>saw</td>\n",
       "      <td>in</td>\n",
       "      <td>xxmaj</td>\n",
       "      <td>the</td>\n",
       "      <td>xxmaj</td>\n",
       "      <td>kid</td>\n",
       "      <td>xxmaj</td>\n",
       "      <td>stays</td>\n",
       "      <td>in</td>\n",
       "      <td>the</td>\n",
       "      <td>xxmaj</td>\n",
       "      <td>picture</td>\n",
       "      <td>None</td>\n",
       "      <td>None</td>\n",
       "    </tr>\n",
       "    <tr>\n",
       "      <th>11</th>\n",
       "      <td>xxmaj</td>\n",
       "      <td>hanks</td>\n",
       "      <td>had</td>\n",
       "      <td>the</td>\n",
       "      <td>lead</td>\n",
       "      <td>in</td>\n",
       "      <td>xxup</td>\n",
       "      <td>the</td>\n",
       "      <td>xxup</td>\n",
       "      <td>money</td>\n",
       "      <td>xxup</td>\n",
       "      <td>pit</td>\n",
       "      <td>None</td>\n",
       "      <td>None</td>\n",
       "    </tr>\n",
       "    <tr>\n",
       "      <th>12</th>\n",
       "      <td>mirrors</td>\n",
       "      <td>instead</td>\n",
       "      <td>.</td>\n",
       "      <td>xxbos</td>\n",
       "      <td>\\n</td>\n",
       "      <td>\\n</td>\n",
       "      <td></td>\n",
       "      <td>i</td>\n",
       "      <td>have</td>\n",
       "      <td>seen</td>\n",
       "      <td>this</td>\n",
       "      <td>movie</td>\n",
       "      <td>many</td>\n",
       "      <td>times</td>\n",
       "    </tr>\n",
       "    <tr>\n",
       "      <th>13</th>\n",
       "      <td>(</td>\n",
       "      <td>in</td>\n",
       "      <td>the</td>\n",
       "      <td>sense</td>\n",
       "      <td>of</td>\n",
       "      <td>the</td>\n",
       "      <td>1920s</td>\n",
       "      <td>xxmaj</td>\n",
       "      <td>french</td>\n",
       "      <td>cineastes</td>\n",
       "      <td>)</td>\n",
       "      <td>and</td>\n",
       "      <td>None</td>\n",
       "      <td>None</td>\n",
       "    </tr>\n",
       "    <tr>\n",
       "      <th>14</th>\n",
       "      <td>very</td>\n",
       "      <td>sexy</td>\n",
       "      <td>vampire</td>\n",
       "      <td>!</td>\n",
       "      <td>xxmaj</td>\n",
       "      <td>also</td>\n",
       "      <td>the</td>\n",
       "      <td>house</td>\n",
       "      <td>itself</td>\n",
       "      <td>looks</td>\n",
       "      <td>beautiful</td>\n",
       "      <td>...</td>\n",
       "      <td>None</td>\n",
       "      <td>None</td>\n",
       "    </tr>\n",
       "  </tbody>\n",
       "</table>\n",
       "</div>"
      ],
      "text/plain": [
       "          0        1        2        3       4               5       6   \\\n",
       "0          i      've     seen        .       i              'm     not   \n",
       "1          ,        i       'm   afraid     you             'll    need   \n",
       "2        way      out      and     soon    find            they     are   \n",
       "3       when      the    first   person    dies            they    kill   \n",
       "4        and    funny        .    xxmaj    this         attempt  should   \n",
       "5   problems     than     that       --     the  cinematography      is   \n",
       "6        are     they    xxmaj  natural   xxmaj            born   xxmaj   \n",
       "7      xxrep        4        .   please   xxrep              12       !   \n",
       "8      first      one        .        i    have              no    idea   \n",
       "9     reason        \"       to     kill  people               ,     but   \n",
       "10       saw       in    xxmaj      the   xxmaj             kid   xxmaj   \n",
       "11     xxmaj    hanks      had      the    lead              in    xxup   \n",
       "12   mirrors  instead        .    xxbos      \\n              \\n           \n",
       "13         (       in      the    sense      of             the   1920s   \n",
       "14      very     sexy  vampire        !   xxmaj            also     the   \n",
       "\n",
       "           7         8          9          10       11    12     13  \n",
       "0      saying  everyone     should       feel     this  None   None  \n",
       "1          to        go  elsewhere          .       \\n    \\n         \n",
       "2         out        of        the      xxunk      pan  None   None  \n",
       "3        them       all        off         in        5  None   None  \n",
       "4        have     never       left        the   studio  None   None  \n",
       "5   decidedly       low          -     budget        -  None   None  \n",
       "6     killers         ?          )          .    xxmaj  None   None  \n",
       "7       xxmaj     xxunk      xxrep          5        h  None   None  \n",
       "8         why      they       even       made  another  None   None  \n",
       "9          in      this     sequal          ,     half  None   None  \n",
       "10      stays        in        the      xxmaj  picture  None   None  \n",
       "11        the      xxup      money       xxup      pit  None   None  \n",
       "12          i      have       seen       this    movie  many  times  \n",
       "13      xxmaj    french  cineastes          )      and  None   None  \n",
       "14      house    itself      looks  beautiful      ...  None   None  "
      ]
     },
     "execution_count": 9,
     "metadata": {},
     "output_type": "execute_result"
    }
   ],
   "source": [
    "databunch_languagemodel = TextLMDataBunch.from_csv(path, 'texts.csv')\n",
    "\n",
    "x,y = next(iter(databunch_languagemodel.train_dl))\n",
    "example = x[:15 ,:12].cpu()\n",
    "texts = pd.DataFrame([databunch_languagemodel.train_ds.vocab.textify(l).split(' ') for l in example])\n",
    "texts"
   ]
  },
  {
   "cell_type": "markdown",
   "metadata": {},
   "source": [
    "ข้อความแสดงแค่ 100 Token แรกเพื่อให้อ่านง่าย\n",
    "\n",
    "1. 's กลายเป็น 1 Token\n",
    "2. Contraction กลายเป็น 2 Token เช่น is n't\n",
    "3. Tag HTML ถูกลบไปหมด\n",
    "4. มี Token พิเศษที่นำหน้าด้วย xx ปรากฏขึ้นมา เช่น xxbos = Begin of sentence, xxmaj = นำด้วยตัวใหญ่, xxunk คำที่ไม่มีใน Vocabulary"
   ]
  },
  {
   "cell_type": "markdown",
   "metadata": {},
   "source": [
    "ความหมายของ Token พิเศษ ดังนี้\n",
    "\n",
    "* UNK (xxunk) is for an unknown word (one that isn't present in the current vocabulary)\n",
    "* PAD (xxpad) is the token used for padding, if we need to regroup several texts of different lengths in a batch\n",
    "* BOS (xxbos) represents the beginning of a text in your dataset\n",
    "* FLD (xxfld) is used if you set mark_fields=True in your TokenizeProcessor to separate the different fields of texts (if your texts are loaded from several columns in a dataframe)\n",
    "* TK_MAJ (xxmaj) is used to indicate the next word begins with a capital in the original text\n",
    "* TK_UP (xxup) is used to indicate the next word is written in all caps in the original text\n",
    "* TK_REP (xxrep) is used to indicate the next character is repeated n times in the original text (usage xxrep n {char})\n",
    "* TK_WREP(xxwrep) is used to indicate the next word is repeated n times in the original text (usage xxwrep n {word})\n",
    "\n",
    "Credit https://docs.fast.ai/text.transform.html"
   ]
  },
  {
   "cell_type": "markdown",
   "metadata": {},
   "source": [
    "## Numericalization"
   ]
  },
  {
   "cell_type": "markdown",
   "metadata": {},
   "source": [
    "หลังจากที่เราแปลงข้อความเป็น ลิสต์ของ Token เรียบร้อยแล้ว ขั้นตอนต่อมาเราจะแปลง Token เป็นตัวเลข โดยการสร้างตารางคำศัพท์ขึ้นมา เราจะนำ Token ทั้งหมดมาใส่ไว้ในตารางนี้ ตารางนี้อาจจะมีขนาดใหญ่เกินไป เราจึงใช้วิธีจำกัดจำนวน Vocabulary ดังนี้\n",
    "\n",
    "1. ถ้า Token ไหน ปรากฎใน Corpus น้อยกว่า 2 ครั้ง จะถูกตัดทิ้ง แล้วแทนที่ด้วย UNK (xxunk)\n",
    "2. Vocabulary เรียงตามที่ครั้งที่ปรากฎ มากไปน้อย ถ้าเกิน 60,000 (Default) ให้ตัดทิ้งไป\n",
    "\n",
    "ทั้งนี้เพื่อรักษาขนาด Vocab ไม่ให้ใหญ่เกินไป เหมาะกับงาน และขนาด GPU ของเรา แต่ในการใช้งานแบบอื่น เช่น Google Translate อาจจะมีขนาด ถึงหลายล้าน Vocab x 100 ภาษา"
   ]
  },
  {
   "cell_type": "markdown",
   "metadata": {},
   "source": [
    "เราสามารถดู Vocabulary ได้ว่าเลขไหน Assign ให้คำอะไร ด้วย Dictionary ชื่อ itos (int to String)"
   ]
  },
  {
   "cell_type": "code",
   "execution_count": 10,
   "metadata": {},
   "outputs": [
    {
     "data": {
      "text/plain": [
       "['xxunk',\n",
       " 'xxpad',\n",
       " 'xxbos',\n",
       " 'xxeos',\n",
       " 'xxfld',\n",
       " 'xxmaj',\n",
       " 'xxup',\n",
       " 'xxrep',\n",
       " 'xxwrep',\n",
       " 'the',\n",
       " ',',\n",
       " '.',\n",
       " 'and',\n",
       " 'a',\n",
       " 'of',\n",
       " 'to',\n",
       " 'is',\n",
       " 'it',\n",
       " 'in',\n",
       " 'i']"
      ]
     },
     "execution_count": 10,
     "metadata": {},
     "output_type": "execute_result"
    }
   ],
   "source": [
    "databunch_languagemodel.vocab.itos[:20]"
   ]
  },
  {
   "cell_type": "markdown",
   "metadata": {},
   "source": [
    "ถ้าเราดูข้อมูลใน databunch จะเห็นแยกเป็น Token เรียบร้อย"
   ]
  },
  {
   "cell_type": "code",
   "execution_count": 11,
   "metadata": {},
   "outputs": [
    {
     "data": {
      "text/plain": [
       "'xxbos xxmaj let me start off by saying that after watching this episode for the first time on xxup d'"
      ]
     },
     "execution_count": 11,
     "metadata": {},
     "output_type": "execute_result"
    }
   ],
   "source": [
    "databunch_languagemodel.train_ds[0][0].text[:100]"
   ]
  },
  {
   "cell_type": "markdown",
   "metadata": {},
   "source": [
    "ภายใต้รายการ Token เหล่านี้ คือตัวเลขที่ชี้ไปยังอันดับใน Vocabulary"
   ]
  },
  {
   "cell_type": "code",
   "execution_count": 12,
   "metadata": {
    "scrolled": true
   },
   "outputs": [
    {
     "data": {
      "text/plain": [
       "array([  2,   5, 323,  89, 342, 157,  48, 537,  20, 118, 166,  21, 406,  28,   9])"
      ]
     },
     "execution_count": 12,
     "metadata": {},
     "output_type": "execute_result"
    }
   ],
   "source": [
    "databunch_languagemodel.train_ds[0][0].data[:15]"
   ]
  },
  {
   "cell_type": "markdown",
   "metadata": {},
   "source": [
    "## Data Block"
   ]
  },
  {
   "cell_type": "markdown",
   "metadata": {},
   "source": [
    "แทนที่เราจะใช้ TextClasDataBunch factory method เราจะเปลี่ยนมาใช้ Datablock API แทน เพื่อที่เราจะได้กำหนดค่าต่าง ๆ ได้ละเอียดยิ่งขึ้น \n",
    "\n",
    "เช่น ข้อมูลอยู่ column ไหน, split train/validation โดยดูจาก column ไหน, label อยู่ column ไหน ... ละเอียดไปถึง การกำหนด Tokenize และ Numericalize ในกรณีภาษาต่างประเทศ"
   ]
  },
  {
   "cell_type": "code",
   "execution_count": 13,
   "metadata": {},
   "outputs": [],
   "source": [
    "databunch_classifier = (TextList.from_csv(path, 'texts.csv', cols='text')\n",
    "                .split_from_df(col=2)\n",
    "                .label_from_df(cols=0)\n",
    "                .databunch())"
   ]
  },
  {
   "cell_type": "markdown",
   "metadata": {},
   "source": [
    "# 2. ข้อมูลจริง\n"
   ]
  },
  {
   "cell_type": "markdown",
   "metadata": {},
   "source": [
    "เมื่อเราเข้าใจ Concept แล้วก็มาเริ่มกันเลย"
   ]
  },
  {
   "cell_type": "markdown",
   "metadata": {},
   "source": [
    "เนื่องจาก Language Model ใช้ GPU ค่อนข้างมาก เราควรกำหนดค่า Batch Size ให้ไม่ใหญ่เกินไป"
   ]
  },
  {
   "cell_type": "code",
   "execution_count": 14,
   "metadata": {},
   "outputs": [],
   "source": [
    "batchsize=64"
   ]
  },
  {
   "cell_type": "markdown",
   "metadata": {},
   "source": [
    "ดาวน์โหลด IMDB Dataset ตัวเต็ม"
   ]
  },
  {
   "cell_type": "code",
   "execution_count": 15,
   "metadata": {},
   "outputs": [
    {
     "data": {
      "text/plain": [
       "[PosixPath('/home/jupyter/.fastai/data/imdb/tmp_clas'),\n",
       " PosixPath('/home/jupyter/.fastai/data/imdb/04a-databunch_languagemodel.pkl'),\n",
       " PosixPath('/home/jupyter/.fastai/data/imdb/imdb.vocab'),\n",
       " PosixPath('/home/jupyter/.fastai/data/imdb/04a-databunch_classifier.pkl'),\n",
       " PosixPath('/home/jupyter/.fastai/data/imdb/tmp_lm'),\n",
       " PosixPath('/home/jupyter/.fastai/data/imdb/test'),\n",
       " PosixPath('/home/jupyter/.fastai/data/imdb/README'),\n",
       " PosixPath('/home/jupyter/.fastai/data/imdb/04a-data_languagemodel.pkl'),\n",
       " PosixPath('/home/jupyter/.fastai/data/imdb/models'),\n",
       " PosixPath('/home/jupyter/.fastai/data/imdb/data_lm.pkl'),\n",
       " PosixPath('/home/jupyter/.fastai/data/imdb/train'),\n",
       " PosixPath('/home/jupyter/.fastai/data/imdb/unsup')]"
      ]
     },
     "execution_count": 15,
     "metadata": {},
     "output_type": "execute_result"
    }
   ],
   "source": [
    "path = untar_data(URLs.IMDB)\n",
    "path.ls()"
   ]
  },
  {
   "cell_type": "markdown",
   "metadata": {},
   "source": [
    "ls ดูใน Folder train จะแบ่งเป็น Folder pos (Positive) และ neg (Negative)"
   ]
  },
  {
   "cell_type": "code",
   "execution_count": 16,
   "metadata": {
    "scrolled": true
   },
   "outputs": [
    {
     "data": {
      "text/plain": [
       "[PosixPath('/home/jupyter/.fastai/data/imdb/train/pos'),\n",
       " PosixPath('/home/jupyter/.fastai/data/imdb/train/labeledBow.feat'),\n",
       " PosixPath('/home/jupyter/.fastai/data/imdb/train/neg'),\n",
       " PosixPath('/home/jupyter/.fastai/data/imdb/train/unsupBow.feat')]"
      ]
     },
     "execution_count": 16,
     "metadata": {},
     "output_type": "execute_result"
    }
   ],
   "source": [
    "(path/'train').ls()"
   ]
  },
  {
   "cell_type": "markdown",
   "metadata": {},
   "source": [
    "ls ดูใน pos ที่จะบรรจุไฟล์ txt ข้อความรีวิว ที่เป็นแง่บวกไว้ "
   ]
  },
  {
   "cell_type": "code",
   "execution_count": 17,
   "metadata": {},
   "outputs": [],
   "source": [
    "# (path/'train'/'pos').ls()"
   ]
  },
  {
   "cell_type": "markdown",
   "metadata": {},
   "source": [
    "# 3. สร้างโมเดลภาษา Language Model\n",
    "\n"
   ]
  },
  {
   "cell_type": "markdown",
   "metadata": {},
   "source": [
    "เราจะเอาข้อความรีวิวหนังทั้งหมดเท่าที่เรามี filter_by_folder จากทั้ง train, test และ unsup (Unsupervised ที่ไม่มี label) โดยยังไม่สนใจ label มาเทรนให้ Language Model ของเราเข้าใจภาษารีวิวหนังมากที่สุดเท่าที่จะเป็นไปได้\n",
    "\n",
    "* split_by_rand_pct กำหนดให้กัน 10% ไว้เป็น Validation\n",
    "* label_for_lm กำหนดให้ใช้ label สำหรับ Language Model หมายถึง ประโยคไหน label ก็คือ คำถัดไปของประโยคนั้น ไปเรื่อย ๆ\n",
    "\n",
    "สร้าง databunch แปลง Tokenize, Numericalize แล้วเซฟไว้ คราวหน้าจะได้ไม่ต้องแปลงใหม่"
   ]
  },
  {
   "cell_type": "code",
   "execution_count": 21,
   "metadata": {},
   "outputs": [],
   "source": [
    "databunch_languagemodel = (TextList.from_folder(path)\n",
    "            .filter_by_folder(include=['train', 'test', 'unsup']) \n",
    "            .split_by_rand_pct(0.1)\n",
    "            .label_for_lm()           \n",
    "            .databunch(bs=batchsize))\n",
    "databunch_languagemodel.save('04a-databunch_languagemodel.pkl')"
   ]
  },
  {
   "cell_type": "markdown",
   "metadata": {},
   "source": [
    "โหลด databunch language model ที่แปลงไว้แล้วขึ้นมา"
   ]
  },
  {
   "cell_type": "code",
   "execution_count": 18,
   "metadata": {},
   "outputs": [],
   "source": [
    "databunch_languagemodel = load_data(path, '04a-databunch_languagemodel.pkl', bs=batchsize)"
   ]
  },
  {
   "cell_type": "markdown",
   "metadata": {},
   "source": [
    "ลองเรียกดูข้อมูลใน batch"
   ]
  },
  {
   "cell_type": "code",
   "execution_count": 19,
   "metadata": {},
   "outputs": [
    {
     "data": {
      "text/html": [
       "<table border=\"1\" class=\"dataframe\">\n",
       "  <thead>\n",
       "    <tr style=\"text-align: right;\">\n",
       "      <th>idx</th>\n",
       "      <th>text</th>\n",
       "    </tr>\n",
       "  </thead>\n",
       "  <tbody>\n",
       "    <tr>\n",
       "      <td>0</td>\n",
       "      <td>in xxmaj xxunk . xxmaj there - initially much to his horror  xxmaj fosca , the grotesquely ugly cousin of his commander , develops an obsessive love for him . xxmaj he suffers her passionate and demanding displays of affection out of pity and concern for her health ( she is gravely ill ) , but becomes more and more fascinated by her  until the dramatic finale</td>\n",
       "    </tr>\n",
       "    <tr>\n",
       "      <td>1</td>\n",
       "      <td>i ca n't blame him and i love the xxmaj gun that xxmaj charles uses . xxmaj death xxmaj wish 3 is one of the great movies of 1985 and ca n't get any better than this . \\n \\n  i gives this 9 / 10 xxbos xxmaj turner and friends are closing in on xxup hbo for the top spot among made - for - xxup tv movie</td>\n",
       "    </tr>\n",
       "    <tr>\n",
       "      <td>2</td>\n",
       "      <td>xxmaj guy . xxmaj bruno manipulating xxmaj guy may also take on other meanings . . . . \\n \\n  3 . xxmaj secrecy : xxmaj some have speculated about a sexual relationship between xxmaj guy and xxmaj bruno . xxmaj it seems at first ridiculous , especially since xxmaj guy appears obviously heterosexual in his relationships with xxmaj miriam and xxmaj anne . xxmaj however , remember that</td>\n",
       "    </tr>\n",
       "    <tr>\n",
       "      <td>3</td>\n",
       "      <td>reach of the impressionable market . xxmaj the super ( dated ? perhaps ' xxunk ' ) soundtrack helps and of course the cunning conceit of setting the film in a resort away from day to day life altogether finesses the fantasy . 7 / 10 xxbos i was really surprised to see that unlike most documentaries , this was written , directed and produced by a film xxunk xxmaj</td>\n",
       "    </tr>\n",
       "    <tr>\n",
       "      <td>4</td>\n",
       "      <td>( 1965 ) , xxmaj mulan ( 1998 ) , and xxmaj king xxmaj arthur ( 2004 ) . xxmaj alexander xxmaj nevsky was kept out of circulation due to changing political winds , and then enshrined as perhaps the most influential xxmaj soviet - made historical film . xxbos xxmaj if you are very sensitive when it comes to extreme racial stereotypes , this cartoon is not for you</td>\n",
       "    </tr>\n",
       "  </tbody>\n",
       "</table>"
      ],
      "text/plain": [
       "<IPython.core.display.HTML object>"
      ]
     },
     "metadata": {},
     "output_type": "display_data"
    }
   ],
   "source": [
    "databunch_languagemodel.show_batch()"
   ]
  },
  {
   "cell_type": "markdown",
   "metadata": {},
   "source": [
    "สร้าง language_model_learner ด้วย AWD-LSTM เป็นโมเดลแบบ RNN, LSTM ไว้เราจะอธิบายต่อไป\n",
    "\n",
    "AWD_LSTM เป็น Language Model ที่ได้ถูกเทรนมากับ Corpus ขนาดใหญ่ จากส่วนหนึ่งของ Wikipedia ชื่อ WikiText-103 มีขนาดใหญ่ถึง 103,227,021 Token และ 267,735 Vocab เรียบร้อยแล้ว\n",
    "\n",
    "กำหนดค่า drop_mult (Dropout) เรื่อง Regularization ไว้เราจะอธิบายต่อไป"
   ]
  },
  {
   "cell_type": "code",
   "execution_count": 20,
   "metadata": {},
   "outputs": [],
   "source": [
    "learner = language_model_learner(databunch_languagemodel, \n",
    "                                 AWD_LSTM, drop_mult=0.3, \n",
    "                                 callback_fns=ShowGraph).to_fp16()\n"
   ]
  },
  {
   "cell_type": "markdown",
   "metadata": {},
   "source": [
    "# 4. เริ่มต้นเทรน Language Model\n",
    "\n"
   ]
  },
  {
   "cell_type": "markdown",
   "metadata": {},
   "source": [
    "เทรนด้วยค่า Default ไป 1 Epoch\n",
    "\n"
   ]
  },
  {
   "cell_type": "code",
   "execution_count": 21,
   "metadata": {
    "scrolled": false
   },
   "outputs": [
    {
     "data": {
      "text/html": [
       "<table border=\"1\" class=\"dataframe\">\n",
       "  <thead>\n",
       "    <tr style=\"text-align: left;\">\n",
       "      <th>epoch</th>\n",
       "      <th>train_loss</th>\n",
       "      <th>valid_loss</th>\n",
       "      <th>accuracy</th>\n",
       "      <th>time</th>\n",
       "    </tr>\n",
       "  </thead>\n",
       "  <tbody>\n",
       "    <tr>\n",
       "      <td>0</td>\n",
       "      <td>4.115313</td>\n",
       "      <td>3.986427</td>\n",
       "      <td>0.297450</td>\n",
       "      <td>45:41</td>\n",
       "    </tr>\n",
       "  </tbody>\n",
       "</table>"
      ],
      "text/plain": [
       "<IPython.core.display.HTML object>"
      ]
     },
     "metadata": {},
     "output_type": "display_data"
    },
    {
     "data": {
      "image/png": "[encoded data removed]",
      "text/plain": [
       "<Figure size 432x288 with 1 Axes>"
      ]
     },
     "metadata": {},
     "output_type": "display_data"
    }
   ],
   "source": [
    "learner.fit_one_cycle(1, 1e-2, moms=(0.8,0.7))"
   ]
  },
  {
   "cell_type": "markdown",
   "metadata": {},
   "source": [
    "เนื่องจาก Language Model ที่รู้ภาษาอังกฤษทั่วไปอยู่แล้ว เราเทรนกับรีวิวหนังเพียงแค่ epoch เดียวก็สามารถ เดาค่าในช่องว่างของรีวิวหนัง ได้แม่นยำถึง 30%"
   ]
  },
  {
   "cell_type": "markdown",
   "metadata": {},
   "source": [
    "เซฟโมเดลเก็บไว้ก่อน"
   ]
  },
  {
   "cell_type": "code",
   "execution_count": 22,
   "metadata": {},
   "outputs": [],
   "source": [
    "learner.save('04a-learner_language_model-1')"
   ]
  },
  {
   "cell_type": "code",
   "execution_count": 21,
   "metadata": {},
   "outputs": [],
   "source": [
    "learner.load('04a-learner_language_model-1');"
   ]
  },
  {
   "cell_type": "markdown",
   "metadata": {},
   "source": [
    "# 5. เทรน Language Model ต่อ"
   ]
  },
  {
   "cell_type": "markdown",
   "metadata": {},
   "source": [
    "unfreeze layer ทุก Layer ให้สามารถเทรนได้ แล้วเทรนต่อทั้งโมเดล\n",
    "\n",
    "ลดขนาด Batch Size / 2 แล้วปัดเศษ เนื่องจากเทรนทั้งโมเดลใช้ GPU Memory เพิ่มขึ้น"
   ]
  },
  {
   "cell_type": "code",
   "execution_count": 22,
   "metadata": {},
   "outputs": [],
   "source": [
    "learner.unfreeze()\n",
    "databunch_languagemodel.batch_size=batchsize//2"
   ]
  },
  {
   "cell_type": "markdown",
   "metadata": {},
   "source": [
    "เทรนทั้งโมเดล ไปอีก 10 epoch\n",
    "\n",
    "moms คือ Momentum ในเรื่อง SGD with Momentum Optimization จะอธิบายต่อไป"
   ]
  },
  {
   "cell_type": "code",
   "execution_count": 27,
   "metadata": {},
   "outputs": [
    {
     "data": {
      "text/html": [
       "<table border=\"1\" class=\"dataframe\">\n",
       "  <thead>\n",
       "    <tr style=\"text-align: left;\">\n",
       "      <th>epoch</th>\n",
       "      <th>train_loss</th>\n",
       "      <th>valid_loss</th>\n",
       "      <th>accuracy</th>\n",
       "      <th>time</th>\n",
       "    </tr>\n",
       "  </thead>\n",
       "  <tbody>\n",
       "    <tr>\n",
       "      <td>0</td>\n",
       "      <td>4.486017</td>\n",
       "      <td>4.380834</td>\n",
       "      <td>0.283812</td>\n",
       "      <td>58:42</td>\n",
       "    </tr>\n",
       "    <tr>\n",
       "      <td>1</td>\n",
       "      <td>4.113250</td>\n",
       "      <td>4.008182</td>\n",
       "      <td>0.311843</td>\n",
       "      <td>58:52</td>\n",
       "    </tr>\n",
       "    <tr>\n",
       "      <td>2</td>\n",
       "      <td>3.946214</td>\n",
       "      <td>3.888776</td>\n",
       "      <td>0.322234</td>\n",
       "      <td>58:53</td>\n",
       "    </tr>\n",
       "    <tr>\n",
       "      <td>3</td>\n",
       "      <td>3.819797</td>\n",
       "      <td>3.817782</td>\n",
       "      <td>0.328674</td>\n",
       "      <td>58:51</td>\n",
       "    </tr>\n",
       "    <tr>\n",
       "      <td>4</td>\n",
       "      <td>3.760456</td>\n",
       "      <td>3.770595</td>\n",
       "      <td>0.333130</td>\n",
       "      <td>58:53</td>\n",
       "    </tr>\n",
       "    <tr>\n",
       "      <td>5</td>\n",
       "      <td>3.729582</td>\n",
       "      <td>3.733530</td>\n",
       "      <td>0.336828</td>\n",
       "      <td>58:50</td>\n",
       "    </tr>\n",
       "    <tr>\n",
       "      <td>6</td>\n",
       "      <td>3.669918</td>\n",
       "      <td>3.705606</td>\n",
       "      <td>0.339807</td>\n",
       "      <td>58:49</td>\n",
       "    </tr>\n",
       "    <tr>\n",
       "      <td>7</td>\n",
       "      <td>3.593759</td>\n",
       "      <td>3.685691</td>\n",
       "      <td>0.342195</td>\n",
       "      <td>58:50</td>\n",
       "    </tr>\n",
       "    <tr>\n",
       "      <td>8</td>\n",
       "      <td>3.541825</td>\n",
       "      <td>3.677676</td>\n",
       "      <td>0.343346</td>\n",
       "      <td>58:50</td>\n",
       "    </tr>\n",
       "    <tr>\n",
       "      <td>9</td>\n",
       "      <td>3.497923</td>\n",
       "      <td>3.677650</td>\n",
       "      <td>0.343370</td>\n",
       "      <td>58:49</td>\n",
       "    </tr>\n",
       "  </tbody>\n",
       "</table>"
      ],
      "text/plain": [
       "<IPython.core.display.HTML object>"
      ]
     },
     "metadata": {},
     "output_type": "display_data"
    },
    {
     "data": {
      "image/png": "[encoded data removed]",
      "text/plain": [
       "<Figure size 432x288 with 1 Axes>"
      ]
     },
     "metadata": {},
     "output_type": "display_data"
    }
   ],
   "source": [
    "learner.fit_one_cycle(10, 1e-3, moms=(0.8,0.7))"
   ]
  },
  {
   "cell_type": "markdown",
   "metadata": {},
   "source": [
    "เซฟโมเดลเก็บไว้ก่อน"
   ]
  },
  {
   "cell_type": "code",
   "execution_count": 28,
   "metadata": {},
   "outputs": [],
   "source": [
    "learner.save('04a-learner_language_model-2')"
   ]
  },
  {
   "cell_type": "code",
   "execution_count": 23,
   "metadata": {},
   "outputs": [],
   "source": [
    "learner.load('04a-learner_language_model-2');"
   ]
  },
  {
   "cell_type": "markdown",
   "metadata": {},
   "source": [
    "ลองดูผลลัพธ์โดยการ ลองให้โมเดลสร้างประโยค 40 คำ จำนวน 2 ประโยค ที่เริ่มต้นด้วย TEXT"
   ]
  },
  {
   "cell_type": "code",
   "execution_count": 34,
   "metadata": {},
   "outputs": [],
   "source": [
    "TEXT = \"This movie is almost certainly better than\"\n",
    "N_WORDS = 40\n",
    "N_SENTENCES = 2"
   ]
  },
  {
   "cell_type": "markdown",
   "metadata": {},
   "source": [
    "เพื่อให้ประโยคที่ออกมาไม่ใช่ประโยคซ้ำ ๆ กัน จะมีการกำหนด temperature คือ ยิ่งมากยิ่งเพิ่มความ Random หลากหลายของประโยค"
   ]
  },
  {
   "cell_type": "code",
   "execution_count": 35,
   "metadata": {
    "scrolled": false
   },
   "outputs": [
    {
     "name": "stdout",
     "output_type": "stream",
     "text": [
      "This movie is almost certainly better than the first Child 's Play . The opening sequence , when Chucky is gay , is a good one . Unfortunately , the rest of the film is flat , and the acting is n't\n",
      "This movie is almost certainly better than the first ' Decide Their Wedding ' . This one is by far the best . It was simply brilliant . The first time i saw it , i was sure that it was\n"
     ]
    }
   ],
   "source": [
    "print(\"\\n\".join(learner.predict(TEXT, N_WORDS, temperature=0.75) for _ in range(N_SENTENCES)))\n"
   ]
  },
  {
   "cell_type": "markdown",
   "metadata": {},
   "source": [
    "จะเห็นได้ว่าเหมือนรีวิวหนังจริง ๆ "
   ]
  },
  {
   "cell_type": "code",
   "execution_count": 36,
   "metadata": {},
   "outputs": [],
   "source": [
    "TEXT = \"The only complaint about this film is\"\n",
    "N_WORDS = 40\n",
    "N_SENTENCES = 2"
   ]
  },
  {
   "cell_type": "markdown",
   "metadata": {},
   "source": [
    "เพื่อให้ประโยคที่ออกมาไม่ใช่ประโยคซ้ำ ๆ กัน จะมีการกำหนด temperature คือ ยิ่งมากยิ่งเพิ่มความ Random หลากหลายของประโยค"
   ]
  },
  {
   "cell_type": "code",
   "execution_count": 37,
   "metadata": {
    "scrolled": true
   },
   "outputs": [
    {
     "name": "stdout",
     "output_type": "stream",
     "text": [
      "The only complaint about this film is that it 's not as good as the Christmas Carol ( Christmas of 1976 ) . The story was still interesting in the early 1980 's and it 's not really getting a chance to make\n",
      "The only complaint about this film is that it has not been shown on TV in the UK , and i was not ready for it . However , at the time i was lucky enough to have the Russian version of\n"
     ]
    }
   ],
   "source": [
    "print(\"\\n\".join(learner.predict(TEXT, N_WORDS, temperature=0.75) for _ in range(N_SENTENCES)))\n"
   ]
  },
  {
   "cell_type": "markdown",
   "metadata": {},
   "source": [
    "เซฟ Encoder ไว้ใช้สร้าง โมเดล Classifier ต่อไป\n",
    "\n",
    "ภายใน Language Model จะแบ่งเป็นครึ่ง Encoder และ Decoder ในกรณีนี้เราจะใช้แค่ Encoder เท่านั้น ไว้เราจะอธิบายต่อไป"
   ]
  },
  {
   "cell_type": "code",
   "execution_count": 32,
   "metadata": {},
   "outputs": [],
   "source": [
    "learner.save_encoder('04a-encoder_language_model')\n"
   ]
  },
  {
   "cell_type": "markdown",
   "metadata": {},
   "source": [
    "# 6. สร้างโมเดล Classifier"
   ]
  },
  {
   "cell_type": "markdown",
   "metadata": {},
   "source": [
    "ต่อมาเราจะสร้างโมเดลที่ใช้จำแนก ว่ารีวิวนี้ เป็นแง่บวก หรือแง่ลบ"
   ]
  },
  {
   "cell_type": "markdown",
   "metadata": {},
   "source": [
    "โหลดข้อมูลรีวิวตัวเต็ม ขึ้นมาใหม่"
   ]
  },
  {
   "cell_type": "code",
   "execution_count": 38,
   "metadata": {},
   "outputs": [],
   "source": [
    "path = untar_data(URLs.IMDB)"
   ]
  },
  {
   "cell_type": "markdown",
   "metadata": {},
   "source": [
    "สร้าง databunch จากรีวิวตัวเต็ม\n",
    "\n",
    "1. ให้เอารีวิวทุกไฟล์ from_folder จากในโฟล์เดอร์ path\n",
    "2. กำหนดให้โมเดล ใช้ vocab เดียวกับ Language Model ที่เราเทรนด้านบน\n",
    "3. split_by_folder ให้ใช้ข้อมูลจากโฟล์เดอร์ test เป็น Validation Set\n",
    "4. label_from_folder แยก label จากโฟล์เดอร์ neg, pos เหมือน imagenet เคสนี้มี 2 class\n",
    "5. bs Batch Size \n",
    "\n",
    "แปลงข้อมูล Tokenize, Numericalize ให้เรียบร้อย แล้วเซฟไว้ก่อน"
   ]
  },
  {
   "cell_type": "code",
   "execution_count": 35,
   "metadata": {},
   "outputs": [],
   "source": [
    "databunch_classifier = (TextList.from_folder(path, vocab=databunch_languagemodel.vocab)\n",
    "             .split_by_folder(valid='test')\n",
    "             .label_from_folder(classes=['neg', 'pos'])\n",
    "             .databunch(bs=batchsize))\n",
    "\n",
    "databunch_classifier.save('04a-databunch_classifier.pkl')"
   ]
  },
  {
   "cell_type": "code",
   "execution_count": 39,
   "metadata": {},
   "outputs": [],
   "source": [
    "databunch_classifier = load_data(path, '04a-databunch_classifier.pkl', bs=batchsize)\n"
   ]
  },
  {
   "cell_type": "markdown",
   "metadata": {},
   "source": [
    "ลองดูข้อมูล"
   ]
  },
  {
   "cell_type": "code",
   "execution_count": 40,
   "metadata": {},
   "outputs": [
    {
     "data": {
      "text/html": [
       "<table border=\"1\" class=\"dataframe\">\n",
       "  <thead>\n",
       "    <tr style=\"text-align: right;\">\n",
       "      <th>text</th>\n",
       "      <th>target</th>\n",
       "    </tr>\n",
       "  </thead>\n",
       "  <tbody>\n",
       "    <tr>\n",
       "      <td>xxbos xxmaj match 1 : xxmaj tag xxmaj team xxmaj table xxmaj match xxmaj bubba xxmaj ray and xxmaj spike xxmaj dudley vs xxmaj eddie xxmaj guerrero and xxmaj chris xxmaj benoit xxmaj bubba xxmaj ray and xxmaj spike xxmaj dudley started things off with a xxmaj tag xxmaj team xxmaj table xxmaj match against xxmaj eddie xxmaj guerrero and xxmaj chris xxmaj benoit . xxmaj according to the rules</td>\n",
       "      <td>pos</td>\n",
       "    </tr>\n",
       "    <tr>\n",
       "      <td>xxbos xxmaj by now you 've probably heard a bit about the new xxmaj disney dub of xxmaj miyazaki 's classic film , xxmaj laputa : xxmaj castle xxmaj in xxmaj the xxmaj sky . xxmaj during late summer of 1998 , xxmaj disney released \" xxmaj kiki 's xxmaj delivery xxmaj service \" on video which included a preview of the xxmaj laputa dub saying it was due out</td>\n",
       "      <td>pos</td>\n",
       "    </tr>\n",
       "    <tr>\n",
       "      <td>xxbos xxmaj some have praised _ xxunk _ as a xxmaj disney adventure for adults . i do n't think so -- at least not for thinking adults . \\n \\n  xxmaj this script suggests a beginning as a live - action movie , that struck someone as the type of crap you can not sell to adults anymore . xxmaj the \" crack staff \" of many older</td>\n",
       "      <td>neg</td>\n",
       "    </tr>\n",
       "    <tr>\n",
       "      <td>xxbos xxmaj berlin - born in 1942 xxmaj margarethe von xxmaj trotta was an actress and now she is a very important director and writer . xxmaj she has been described , perhaps even unfairly caricatured , as a director whose commitment to bringing a woman 's sensibility to the screen outweighs her artistic strengths . \" xxmaj rosenstrasse , \" which has garnered mixed and even strange reviews (</td>\n",
       "      <td>pos</td>\n",
       "    </tr>\n",
       "    <tr>\n",
       "      <td>xxbos * * * xxup spoilers * * * * * * xxup spoilers * * * xxmaj continued ... \\n \\n  xxmaj from here on in the whole movie collapses in on itself . xxmaj first we meet a rogue program with the indication we 're gon na get ghosts and vampires and werewolves and the like . xxmaj we get a guy with a retarded accent talking</td>\n",
       "      <td>neg</td>\n",
       "    </tr>\n",
       "  </tbody>\n",
       "</table>"
      ],
      "text/plain": [
       "<IPython.core.display.HTML object>"
      ]
     },
     "metadata": {},
     "output_type": "display_data"
    }
   ],
   "source": [
    "databunch_classifier.show_batch()"
   ]
  },
  {
   "cell_type": "markdown",
   "metadata": {},
   "source": [
    "# 7. เริ่มต้นเทรน Classifier"
   ]
  },
  {
   "cell_type": "markdown",
   "metadata": {},
   "source": [
    "สร้าง learner ด้วย AWD_LSTM โดยโหลด Encoder ที่เราเทรน และเซฟไว้ด้านบน"
   ]
  },
  {
   "cell_type": "code",
   "execution_count": 41,
   "metadata": {},
   "outputs": [],
   "source": [
    "learner = text_classifier_learner(databunch_classifier, \n",
    "                                  AWD_LSTM, drop_mult=0.5, \n",
    "                                  callback_fns=ShowGraph).to_fp16()\n",
    "learner.load_encoder('04a-encoder_language_model')"
   ]
  },
  {
   "cell_type": "markdown",
   "metadata": {},
   "source": [
    "fit ด้วย Learning Rate สูง เพราะเทรนแค่ Layer สุดท้าย"
   ]
  },
  {
   "cell_type": "code",
   "execution_count": 39,
   "metadata": {},
   "outputs": [
    {
     "data": {
      "text/html": [
       "<table border=\"1\" class=\"dataframe\">\n",
       "  <thead>\n",
       "    <tr style=\"text-align: left;\">\n",
       "      <th>epoch</th>\n",
       "      <th>train_loss</th>\n",
       "      <th>valid_loss</th>\n",
       "      <th>accuracy</th>\n",
       "      <th>time</th>\n",
       "    </tr>\n",
       "  </thead>\n",
       "  <tbody>\n",
       "    <tr>\n",
       "      <td>0</td>\n",
       "      <td>0.239484</td>\n",
       "      <td>0.173695</td>\n",
       "      <td>0.936040</td>\n",
       "      <td>04:01</td>\n",
       "    </tr>\n",
       "  </tbody>\n",
       "</table>"
      ],
      "text/plain": [
       "<IPython.core.display.HTML object>"
      ]
     },
     "metadata": {},
     "output_type": "display_data"
    },
    {
     "data": {
      "image/png": "[encoded data removed]",
      "text/plain": [
       "<Figure size 432x288 with 1 Axes>"
      ]
     },
     "metadata": {},
     "output_type": "display_data"
    }
   ],
   "source": [
    "learner.fit_one_cycle(1, 2e-2, moms=(0.8,0.7))"
   ]
  },
  {
   "cell_type": "markdown",
   "metadata": {},
   "source": [
    "เซฟโมเดลไว้ก่อน"
   ]
  },
  {
   "cell_type": "code",
   "execution_count": 40,
   "metadata": {},
   "outputs": [],
   "source": [
    "learner.save('04a-learner_text_classifier-1')"
   ]
  },
  {
   "cell_type": "code",
   "execution_count": 41,
   "metadata": {},
   "outputs": [],
   "source": [
    "learner.load('04a-learner_text_classifier-1');"
   ]
  },
  {
   "cell_type": "markdown",
   "metadata": {},
   "source": [
    "# 8. เทรน Classifier ต่อ"
   ]
  },
  {
   "cell_type": "markdown",
   "metadata": {},
   "source": [
    "unfreeze layer สุดท้าย และรองสุดท้าย ลดขนาด Batch Size"
   ]
  },
  {
   "cell_type": "code",
   "execution_count": 42,
   "metadata": {},
   "outputs": [],
   "source": [
    "learner.freeze_to(-2)\n",
    "databunch_classifier.batch_size=batchsize//2"
   ]
  },
  {
   "cell_type": "markdown",
   "metadata": {},
   "source": [
    "ลด Learning Rate แล้วเทรนต่อ"
   ]
  },
  {
   "cell_type": "code",
   "execution_count": 44,
   "metadata": {
    "scrolled": false
   },
   "outputs": [
    {
     "data": {
      "text/html": [
       "<table border=\"1\" class=\"dataframe\">\n",
       "  <thead>\n",
       "    <tr style=\"text-align: left;\">\n",
       "      <th>epoch</th>\n",
       "      <th>train_loss</th>\n",
       "      <th>valid_loss</th>\n",
       "      <th>accuracy</th>\n",
       "      <th>time</th>\n",
       "    </tr>\n",
       "  </thead>\n",
       "  <tbody>\n",
       "    <tr>\n",
       "      <td>0</td>\n",
       "      <td>0.235802</td>\n",
       "      <td>0.158436</td>\n",
       "      <td>0.941560</td>\n",
       "      <td>05:06</td>\n",
       "    </tr>\n",
       "  </tbody>\n",
       "</table>"
      ],
      "text/plain": [
       "<IPython.core.display.HTML object>"
      ]
     },
     "metadata": {},
     "output_type": "display_data"
    },
    {
     "data": {
      "image/png": "[encoded data removed]",
      "text/plain": [
       "<Figure size 432x288 with 1 Axes>"
      ]
     },
     "metadata": {},
     "output_type": "display_data"
    }
   ],
   "source": [
    "lrs = slice(1e-2/(2.6**4),1e-2)\n",
    "learner.fit_one_cycle(1, lrs, moms=(0.8,0.7))"
   ]
  },
  {
   "cell_type": "markdown",
   "metadata": {},
   "source": [
    "เซฟโมเดลไว้ก่อน"
   ]
  },
  {
   "cell_type": "code",
   "execution_count": 45,
   "metadata": {},
   "outputs": [],
   "source": [
    "learner.save('04a-learner_text_classifier-2')"
   ]
  },
  {
   "cell_type": "code",
   "execution_count": 46,
   "metadata": {},
   "outputs": [],
   "source": [
    "learner.load('04a-learner_text_classifier-2');"
   ]
  },
  {
   "cell_type": "markdown",
   "metadata": {},
   "source": [
    "unfreeze 3 layer สุดท้าย "
   ]
  },
  {
   "cell_type": "code",
   "execution_count": 47,
   "metadata": {},
   "outputs": [],
   "source": [
    "learner.freeze_to(-3)"
   ]
  },
  {
   "cell_type": "markdown",
   "metadata": {},
   "source": [
    "ลด Learning Rate แล้วเทรนต่อ"
   ]
  },
  {
   "cell_type": "code",
   "execution_count": 48,
   "metadata": {},
   "outputs": [
    {
     "data": {
      "text/html": [
       "<table border=\"1\" class=\"dataframe\">\n",
       "  <thead>\n",
       "    <tr style=\"text-align: left;\">\n",
       "      <th>epoch</th>\n",
       "      <th>train_loss</th>\n",
       "      <th>valid_loss</th>\n",
       "      <th>accuracy</th>\n",
       "      <th>time</th>\n",
       "    </tr>\n",
       "  </thead>\n",
       "  <tbody>\n",
       "    <tr>\n",
       "      <td>0</td>\n",
       "      <td>0.207390</td>\n",
       "      <td>0.144068</td>\n",
       "      <td>0.946520</td>\n",
       "      <td>07:06</td>\n",
       "    </tr>\n",
       "  </tbody>\n",
       "</table>"
      ],
      "text/plain": [
       "<IPython.core.display.HTML object>"
      ]
     },
     "metadata": {},
     "output_type": "display_data"
    },
    {
     "data": {
      "image/png": "[encoded data removed]",
      "text/plain": [
       "<Figure size 432x288 with 1 Axes>"
      ]
     },
     "metadata": {},
     "output_type": "display_data"
    }
   ],
   "source": [
    "learner.fit_one_cycle(1, slice(5e-3/(2.6**4),5e-3), moms=(0.8,0.7))"
   ]
  },
  {
   "cell_type": "markdown",
   "metadata": {},
   "source": [
    "เซฟโมเดลไว้ก่อน"
   ]
  },
  {
   "cell_type": "code",
   "execution_count": 49,
   "metadata": {},
   "outputs": [],
   "source": [
    "learner.save('04a-learner_text_classifier-3')"
   ]
  },
  {
   "cell_type": "code",
   "execution_count": 50,
   "metadata": {},
   "outputs": [],
   "source": [
    "learner.load('04a-learner_text_classifier-3');"
   ]
  },
  {
   "cell_type": "markdown",
   "metadata": {},
   "source": [
    "unfreeze ทุก layer "
   ]
  },
  {
   "cell_type": "code",
   "execution_count": 51,
   "metadata": {},
   "outputs": [],
   "source": [
    "learner.unfreeze()"
   ]
  },
  {
   "cell_type": "markdown",
   "metadata": {},
   "source": [
    "ลด Learning Rate แล้วเทรนต่ออีก"
   ]
  },
  {
   "cell_type": "code",
   "execution_count": 52,
   "metadata": {},
   "outputs": [
    {
     "data": {
      "text/html": [
       "<table border=\"1\" class=\"dataframe\">\n",
       "  <thead>\n",
       "    <tr style=\"text-align: left;\">\n",
       "      <th>epoch</th>\n",
       "      <th>train_loss</th>\n",
       "      <th>valid_loss</th>\n",
       "      <th>accuracy</th>\n",
       "      <th>time</th>\n",
       "    </tr>\n",
       "  </thead>\n",
       "  <tbody>\n",
       "    <tr>\n",
       "      <td>0</td>\n",
       "      <td>0.181044</td>\n",
       "      <td>0.140267</td>\n",
       "      <td>0.948960</td>\n",
       "      <td>08:43</td>\n",
       "    </tr>\n",
       "    <tr>\n",
       "      <td>1</td>\n",
       "      <td>0.142503</td>\n",
       "      <td>0.142641</td>\n",
       "      <td>0.950160</td>\n",
       "      <td>08:41</td>\n",
       "    </tr>\n",
       "  </tbody>\n",
       "</table>"
      ],
      "text/plain": [
       "<IPython.core.display.HTML object>"
      ]
     },
     "metadata": {},
     "output_type": "display_data"
    },
    {
     "data": {
      "image/png": "[encoded data removed]",
      "text/plain": [
       "<Figure size 432x288 with 1 Axes>"
      ]
     },
     "metadata": {},
     "output_type": "display_data"
    }
   ],
   "source": [
    "learner.fit_one_cycle(2, slice(1e-3/(2.6**4),1e-3), moms=(0.8,0.7))"
   ]
  },
  {
   "cell_type": "markdown",
   "metadata": {},
   "source": [
    "## สำเร็จแล้ว"
   ]
  },
  {
   "cell_type": "markdown",
   "metadata": {},
   "source": [
    "12 hours 95%"
   ]
  },
  {
   "cell_type": "markdown",
   "metadata": {},
   "source": [
    "เซฟโมเดลไว้ก่อน"
   ]
  },
  {
   "cell_type": "code",
   "execution_count": 53,
   "metadata": {},
   "outputs": [],
   "source": [
    "learner.save('04a-learner_text_classifier-4')"
   ]
  },
  {
   "cell_type": "code",
   "execution_count": 42,
   "metadata": {},
   "outputs": [],
   "source": [
    "learner.load('04a-learner_text_classifier-4');"
   ]
  },
  {
   "cell_type": "markdown",
   "metadata": {},
   "source": [
    "# 9. ดูผลลัพธ์"
   ]
  },
  {
   "cell_type": "code",
   "execution_count": 46,
   "metadata": {},
   "outputs": [
    {
     "data": {
      "text/plain": [
       "(Category pos, tensor(1), tensor([0.0048, 0.9952]))"
      ]
     },
     "execution_count": 46,
     "metadata": {},
     "output_type": "execute_result"
    }
   ],
   "source": [
    "learner.predict(\"A movie which is so beautifully portrayed and is so hopeful that it won't let you take your eyes off it.\")"
   ]
  },
  {
   "cell_type": "code",
   "execution_count": 47,
   "metadata": {},
   "outputs": [
    {
     "data": {
      "text/plain": [
       "(Category neg, tensor(0), tensor([9.9997e-01, 3.1942e-05]))"
      ]
     },
     "execution_count": 47,
     "metadata": {},
     "output_type": "execute_result"
    }
   ],
   "source": [
    "learner.predict(\"This movie is a complete mess. Everything about this movie sucks.\")"
   ]
  },
  {
   "cell_type": "markdown",
   "metadata": {},
   "source": [
    "# 10. สรุป\n"
   ]
  },
  {
   "cell_type": "markdown",
   "metadata": {},
   "source": [
    "12 hours"
   ]
  },
  {
   "cell_type": "markdown",
   "metadata": {},
   "source": [
    "# Credit \n",
    "\n",
    "* [FastAI: Practical Deep Learning for Coders, v3 - Lesson 3](https://course.fast.ai/videos/?lesson=3)\n",
    "* Andrew L. Maas, Raymond E. Daly, Peter T. Pham, Dan Huang, Andrew Y. Ng, and Christopher Potts. (2011). [Learning Word Vectors for Sentiment Analysis.]((http://ai.stanford.edu/~amaas/papers/wvSent_acl2011.pdf)) The 49th Annual Meeting of the Association for Computational Linguistics (ACL 2011).\n",
    "* [Regularizing and Optimizing LSTM Language Models](https://arxiv.org/abs/1708.02182)\n",
    "* Stephen Merity, Caiming Xiong, James Bradbury, and Richard Socher. 2016. [Pointer Sentinel Mixture Models](http://arxiv.org/abs/1609.07843)"
   ]
  },
  {
   "cell_type": "code",
   "execution_count": null,
   "metadata": {},
   "outputs": [],
   "source": []
  }
 ],
 "metadata": {
  "kernelspec": {
   "display_name": "Python 3",
   "language": "python",
   "name": "python3"
  },
  "language_info": {
   "codemirror_mode": {
    "name": "ipython",
    "version": 3
   },
   "file_extension": ".py",
   "mimetype": "text/x-python",
   "name": "python",
   "nbconvert_exporter": "python",
   "pygments_lexer": "ipython3",
   "version": "3.7.3"
  }
 },
 "nbformat": 4,
 "nbformat_minor": 2
}
