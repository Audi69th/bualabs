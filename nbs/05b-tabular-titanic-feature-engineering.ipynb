{
 "cells": [
  {
   "cell_type": "markdown",
   "metadata": {},
   "source": [
    "เคสนี้เราสร้างโมเดลจากข้อมูลตรง ๆ เปรียบเทียบกับ ข้อมูลที่ถูก Feature Engineering ว่าประสิทธิภาพ จะแตกต่างกันอย่างไร"
   ]
  },
  {
   "cell_type": "markdown",
   "metadata": {},
   "source": [
    "# 0. Magic Commands\n"
   ]
  },
  {
   "cell_type": "code",
   "execution_count": 1,
   "metadata": {},
   "outputs": [],
   "source": [
    "%reload_ext autoreload\n",
    "%autoreload 2\n",
    "%matplotlib inline"
   ]
  },
  {
   "cell_type": "markdown",
   "metadata": {},
   "source": [
    "# 1. Import Library"
   ]
  },
  {
   "cell_type": "code",
   "execution_count": 2,
   "metadata": {},
   "outputs": [],
   "source": [
    "from fastai import *\n",
    "from fastai.tabular import *"
   ]
  },
  {
   "cell_type": "markdown",
   "metadata": {},
   "source": [
    "Save Token จาก Kaggle วิธีทำลองอ่าน [ep ก่อน ๆ](https://www.bualabs.com/archives/751/multi-label-image-classification-satellite-imagery-deep-learning-machine-learning-image-classification-ep-5/)"
   ]
  },
  {
   "cell_type": "code",
   "execution_count": 3,
   "metadata": {
    "scrolled": true
   },
   "outputs": [],
   "source": [
    "# ! {sys.executable} -m pip install kaggle --upgrade"
   ]
  },
  {
   "cell_type": "code",
   "execution_count": 4,
   "metadata": {},
   "outputs": [],
   "source": [
    "# ! mkdir -p ~/.kaggle/\n",
    "# ! mv kaggle.json ~/.kaggle/\n",
    "# ! chmod 600 ~/.kaggle/kaggle.json"
   ]
  },
  {
   "cell_type": "markdown",
   "metadata": {},
   "source": [
    "# 2. ข้อมูล\n",
    "\n",
    "เคสนี้เราจะใช้ Dataset [Titanic: Machine Learning from Disaster](https://www.kaggle.com/c/titanic/) จาก Kaggle"
   ]
  },
  {
   "cell_type": "code",
   "execution_count": 5,
   "metadata": {
    "scrolled": true
   },
   "outputs": [
    {
     "data": {
      "text/plain": [
       "PosixPath('/home/jupyter/.fastai/data/titanic')"
      ]
     },
     "execution_count": 5,
     "metadata": {},
     "output_type": "execute_result"
    }
   ],
   "source": [
    "path = Config.data_path()/'titanic'\n",
    "path.mkdir(parents=True, exist_ok=True)\n",
    "path"
   ]
  },
  {
   "cell_type": "markdown",
   "metadata": {},
   "source": [
    "รัน cell ด้านล่างเพื่อดาวน์โหลด ข้อมูล Training Set และ Test Set"
   ]
  },
  {
   "cell_type": "code",
   "execution_count": 6,
   "metadata": {},
   "outputs": [],
   "source": [
    "# ! kaggle competitions download -c titanic -f train.csv -p {path}  \n",
    "# ! kaggle competitions download -c titanic -f test.csv -p {path}  "
   ]
  },
  {
   "cell_type": "markdown",
   "metadata": {},
   "source": [
    "ls ดูว่ามีไฟล์อะไรบ้าง"
   ]
  },
  {
   "cell_type": "code",
   "execution_count": 7,
   "metadata": {},
   "outputs": [
    {
     "data": {
      "text/plain": [
       "[PosixPath('/home/jupyter/.fastai/data/titanic/test.csv'),\n",
       " PosixPath('/home/jupyter/.fastai/data/titanic/submission.csv'),\n",
       " PosixPath('/home/jupyter/.fastai/data/titanic/models'),\n",
       " PosixPath('/home/jupyter/.fastai/data/titanic/train.csv')]"
      ]
     },
     "execution_count": 7,
     "metadata": {},
     "output_type": "execute_result"
    }
   ],
   "source": [
    "path.ls()"
   ]
  },
  {
   "cell_type": "markdown",
   "metadata": {},
   "source": [
    "โหลดไฟล์ train.csv, test.csv ขึ้นมาดู"
   ]
  },
  {
   "cell_type": "code",
   "execution_count": 8,
   "metadata": {},
   "outputs": [
    {
     "data": {
      "text/plain": [
       "((891, 12), (418, 11))"
      ]
     },
     "execution_count": 8,
     "metadata": {},
     "output_type": "execute_result"
    }
   ],
   "source": [
    "dataframe_train = pd.read_csv(path/'train.csv')\n",
    "dataframe_test = pd.read_csv(path/'test.csv')\n",
    "dataframe_train.shape, dataframe_test.shape"
   ]
  },
  {
   "cell_type": "markdown",
   "metadata": {},
   "source": [
    "Sample ดู 10 แถว"
   ]
  },
  {
   "cell_type": "code",
   "execution_count": 9,
   "metadata": {
    "scrolled": false
   },
   "outputs": [
    {
     "data": {
      "text/html": [
       "<div>\n",
       "<style scoped>\n",
       "    .dataframe tbody tr th:only-of-type {\n",
       "        vertical-align: middle;\n",
       "    }\n",
       "\n",
       "    .dataframe tbody tr th {\n",
       "        vertical-align: top;\n",
       "    }\n",
       "\n",
       "    .dataframe thead th {\n",
       "        text-align: right;\n",
       "    }\n",
       "</style>\n",
       "<table border=\"1\" class=\"dataframe\">\n",
       "  <thead>\n",
       "    <tr style=\"text-align: right;\">\n",
       "      <th></th>\n",
       "      <th>PassengerId</th>\n",
       "      <th>Survived</th>\n",
       "      <th>Pclass</th>\n",
       "      <th>Name</th>\n",
       "      <th>Sex</th>\n",
       "      <th>Age</th>\n",
       "      <th>SibSp</th>\n",
       "      <th>Parch</th>\n",
       "      <th>Ticket</th>\n",
       "      <th>Fare</th>\n",
       "      <th>Cabin</th>\n",
       "      <th>Embarked</th>\n",
       "    </tr>\n",
       "  </thead>\n",
       "  <tbody>\n",
       "    <tr>\n",
       "      <th>23</th>\n",
       "      <td>24</td>\n",
       "      <td>1</td>\n",
       "      <td>1</td>\n",
       "      <td>Sloper, Mr. William Thompson</td>\n",
       "      <td>male</td>\n",
       "      <td>28.0</td>\n",
       "      <td>0</td>\n",
       "      <td>0</td>\n",
       "      <td>113788</td>\n",
       "      <td>35.5000</td>\n",
       "      <td>A6</td>\n",
       "      <td>S</td>\n",
       "    </tr>\n",
       "    <tr>\n",
       "      <th>492</th>\n",
       "      <td>493</td>\n",
       "      <td>0</td>\n",
       "      <td>1</td>\n",
       "      <td>Molson, Mr. Harry Markland</td>\n",
       "      <td>male</td>\n",
       "      <td>55.0</td>\n",
       "      <td>0</td>\n",
       "      <td>0</td>\n",
       "      <td>113787</td>\n",
       "      <td>30.5000</td>\n",
       "      <td>C30</td>\n",
       "      <td>S</td>\n",
       "    </tr>\n",
       "    <tr>\n",
       "      <th>609</th>\n",
       "      <td>610</td>\n",
       "      <td>1</td>\n",
       "      <td>1</td>\n",
       "      <td>Shutes, Miss. Elizabeth W</td>\n",
       "      <td>female</td>\n",
       "      <td>40.0</td>\n",
       "      <td>0</td>\n",
       "      <td>0</td>\n",
       "      <td>PC 17582</td>\n",
       "      <td>153.4625</td>\n",
       "      <td>C125</td>\n",
       "      <td>S</td>\n",
       "    </tr>\n",
       "    <tr>\n",
       "      <th>115</th>\n",
       "      <td>116</td>\n",
       "      <td>0</td>\n",
       "      <td>3</td>\n",
       "      <td>Pekoniemi, Mr. Edvard</td>\n",
       "      <td>male</td>\n",
       "      <td>21.0</td>\n",
       "      <td>0</td>\n",
       "      <td>0</td>\n",
       "      <td>STON/O 2. 3101294</td>\n",
       "      <td>7.9250</td>\n",
       "      <td>NaN</td>\n",
       "      <td>S</td>\n",
       "    </tr>\n",
       "    <tr>\n",
       "      <th>278</th>\n",
       "      <td>279</td>\n",
       "      <td>0</td>\n",
       "      <td>3</td>\n",
       "      <td>Rice, Master. Eric</td>\n",
       "      <td>male</td>\n",
       "      <td>7.0</td>\n",
       "      <td>4</td>\n",
       "      <td>1</td>\n",
       "      <td>382652</td>\n",
       "      <td>29.1250</td>\n",
       "      <td>NaN</td>\n",
       "      <td>Q</td>\n",
       "    </tr>\n",
       "    <tr>\n",
       "      <th>307</th>\n",
       "      <td>308</td>\n",
       "      <td>1</td>\n",
       "      <td>1</td>\n",
       "      <td>Penasco y Castellana, Mrs. Victor de Satode (M...</td>\n",
       "      <td>female</td>\n",
       "      <td>17.0</td>\n",
       "      <td>1</td>\n",
       "      <td>0</td>\n",
       "      <td>PC 17758</td>\n",
       "      <td>108.9000</td>\n",
       "      <td>C65</td>\n",
       "      <td>C</td>\n",
       "    </tr>\n",
       "    <tr>\n",
       "      <th>845</th>\n",
       "      <td>846</td>\n",
       "      <td>0</td>\n",
       "      <td>3</td>\n",
       "      <td>Abbing, Mr. Anthony</td>\n",
       "      <td>male</td>\n",
       "      <td>42.0</td>\n",
       "      <td>0</td>\n",
       "      <td>0</td>\n",
       "      <td>C.A. 5547</td>\n",
       "      <td>7.5500</td>\n",
       "      <td>NaN</td>\n",
       "      <td>S</td>\n",
       "    </tr>\n",
       "    <tr>\n",
       "      <th>90</th>\n",
       "      <td>91</td>\n",
       "      <td>0</td>\n",
       "      <td>3</td>\n",
       "      <td>Christmann, Mr. Emil</td>\n",
       "      <td>male</td>\n",
       "      <td>29.0</td>\n",
       "      <td>0</td>\n",
       "      <td>0</td>\n",
       "      <td>343276</td>\n",
       "      <td>8.0500</td>\n",
       "      <td>NaN</td>\n",
       "      <td>S</td>\n",
       "    </tr>\n",
       "    <tr>\n",
       "      <th>775</th>\n",
       "      <td>776</td>\n",
       "      <td>0</td>\n",
       "      <td>3</td>\n",
       "      <td>Myhrman, Mr. Pehr Fabian Oliver Malkolm</td>\n",
       "      <td>male</td>\n",
       "      <td>18.0</td>\n",
       "      <td>0</td>\n",
       "      <td>0</td>\n",
       "      <td>347078</td>\n",
       "      <td>7.7500</td>\n",
       "      <td>NaN</td>\n",
       "      <td>S</td>\n",
       "    </tr>\n",
       "    <tr>\n",
       "      <th>110</th>\n",
       "      <td>111</td>\n",
       "      <td>0</td>\n",
       "      <td>1</td>\n",
       "      <td>Porter, Mr. Walter Chamberlain</td>\n",
       "      <td>male</td>\n",
       "      <td>47.0</td>\n",
       "      <td>0</td>\n",
       "      <td>0</td>\n",
       "      <td>110465</td>\n",
       "      <td>52.0000</td>\n",
       "      <td>C110</td>\n",
       "      <td>S</td>\n",
       "    </tr>\n",
       "  </tbody>\n",
       "</table>\n",
       "</div>"
      ],
      "text/plain": [
       "     PassengerId  Survived  Pclass  \\\n",
       "23            24         1       1   \n",
       "492          493         0       1   \n",
       "609          610         1       1   \n",
       "115          116         0       3   \n",
       "278          279         0       3   \n",
       "307          308         1       1   \n",
       "845          846         0       3   \n",
       "90            91         0       3   \n",
       "775          776         0       3   \n",
       "110          111         0       1   \n",
       "\n",
       "                                                  Name     Sex   Age  SibSp  \\\n",
       "23                        Sloper, Mr. William Thompson    male  28.0      0   \n",
       "492                         Molson, Mr. Harry Markland    male  55.0      0   \n",
       "609                          Shutes, Miss. Elizabeth W  female  40.0      0   \n",
       "115                              Pekoniemi, Mr. Edvard    male  21.0      0   \n",
       "278                                 Rice, Master. Eric    male   7.0      4   \n",
       "307  Penasco y Castellana, Mrs. Victor de Satode (M...  female  17.0      1   \n",
       "845                                Abbing, Mr. Anthony    male  42.0      0   \n",
       "90                                Christmann, Mr. Emil    male  29.0      0   \n",
       "775            Myhrman, Mr. Pehr Fabian Oliver Malkolm    male  18.0      0   \n",
       "110                     Porter, Mr. Walter Chamberlain    male  47.0      0   \n",
       "\n",
       "     Parch             Ticket      Fare Cabin Embarked  \n",
       "23       0             113788   35.5000    A6        S  \n",
       "492      0             113787   30.5000   C30        S  \n",
       "609      0           PC 17582  153.4625  C125        S  \n",
       "115      0  STON/O 2. 3101294    7.9250   NaN        S  \n",
       "278      1             382652   29.1250   NaN        Q  \n",
       "307      0           PC 17758  108.9000   C65        C  \n",
       "845      0          C.A. 5547    7.5500   NaN        S  \n",
       "90       0             343276    8.0500   NaN        S  \n",
       "775      0             347078    7.7500   NaN        S  \n",
       "110      0             110465   52.0000  C110        S  "
      ]
     },
     "execution_count": 9,
     "metadata": {},
     "output_type": "execute_result"
    }
   ],
   "source": [
    "dataframe_train.sample(10)"
   ]
  },
  {
   "cell_type": "markdown",
   "metadata": {},
   "source": [
    "Test Set จะเหมือนกัน แต่ไม่มี Survived ให้เราเป็นผู้เติม Survived แล้วส่งให้ Kaggle ตรวจคะแนน"
   ]
  },
  {
   "cell_type": "code",
   "execution_count": 10,
   "metadata": {},
   "outputs": [
    {
     "data": {
      "text/html": [
       "<div>\n",
       "<style scoped>\n",
       "    .dataframe tbody tr th:only-of-type {\n",
       "        vertical-align: middle;\n",
       "    }\n",
       "\n",
       "    .dataframe tbody tr th {\n",
       "        vertical-align: top;\n",
       "    }\n",
       "\n",
       "    .dataframe thead th {\n",
       "        text-align: right;\n",
       "    }\n",
       "</style>\n",
       "<table border=\"1\" class=\"dataframe\">\n",
       "  <thead>\n",
       "    <tr style=\"text-align: right;\">\n",
       "      <th></th>\n",
       "      <th>PassengerId</th>\n",
       "      <th>Pclass</th>\n",
       "      <th>Name</th>\n",
       "      <th>Sex</th>\n",
       "      <th>Age</th>\n",
       "      <th>SibSp</th>\n",
       "      <th>Parch</th>\n",
       "      <th>Ticket</th>\n",
       "      <th>Fare</th>\n",
       "      <th>Cabin</th>\n",
       "      <th>Embarked</th>\n",
       "    </tr>\n",
       "  </thead>\n",
       "  <tbody>\n",
       "    <tr>\n",
       "      <th>230</th>\n",
       "      <td>1122</td>\n",
       "      <td>2</td>\n",
       "      <td>Sweet, Mr. George Frederick</td>\n",
       "      <td>male</td>\n",
       "      <td>14.0</td>\n",
       "      <td>0</td>\n",
       "      <td>0</td>\n",
       "      <td>220845</td>\n",
       "      <td>65.0000</td>\n",
       "      <td>NaN</td>\n",
       "      <td>S</td>\n",
       "    </tr>\n",
       "    <tr>\n",
       "      <th>335</th>\n",
       "      <td>1227</td>\n",
       "      <td>1</td>\n",
       "      <td>Maguire, Mr. John Edward</td>\n",
       "      <td>male</td>\n",
       "      <td>30.0</td>\n",
       "      <td>0</td>\n",
       "      <td>0</td>\n",
       "      <td>110469</td>\n",
       "      <td>26.0000</td>\n",
       "      <td>C106</td>\n",
       "      <td>S</td>\n",
       "    </tr>\n",
       "    <tr>\n",
       "      <th>295</th>\n",
       "      <td>1187</td>\n",
       "      <td>3</td>\n",
       "      <td>Angheloff, Mr. Minko</td>\n",
       "      <td>male</td>\n",
       "      <td>26.0</td>\n",
       "      <td>0</td>\n",
       "      <td>0</td>\n",
       "      <td>349202</td>\n",
       "      <td>7.8958</td>\n",
       "      <td>NaN</td>\n",
       "      <td>S</td>\n",
       "    </tr>\n",
       "    <tr>\n",
       "      <th>282</th>\n",
       "      <td>1174</td>\n",
       "      <td>3</td>\n",
       "      <td>Fleming, Miss. Honora</td>\n",
       "      <td>female</td>\n",
       "      <td>NaN</td>\n",
       "      <td>0</td>\n",
       "      <td>0</td>\n",
       "      <td>364859</td>\n",
       "      <td>7.7500</td>\n",
       "      <td>NaN</td>\n",
       "      <td>Q</td>\n",
       "    </tr>\n",
       "    <tr>\n",
       "      <th>400</th>\n",
       "      <td>1292</td>\n",
       "      <td>1</td>\n",
       "      <td>Bonnell, Miss. Caroline</td>\n",
       "      <td>female</td>\n",
       "      <td>30.0</td>\n",
       "      <td>0</td>\n",
       "      <td>0</td>\n",
       "      <td>36928</td>\n",
       "      <td>164.8667</td>\n",
       "      <td>C7</td>\n",
       "      <td>S</td>\n",
       "    </tr>\n",
       "    <tr>\n",
       "      <th>360</th>\n",
       "      <td>1252</td>\n",
       "      <td>3</td>\n",
       "      <td>Sage, Master. William Henry</td>\n",
       "      <td>male</td>\n",
       "      <td>14.5</td>\n",
       "      <td>8</td>\n",
       "      <td>2</td>\n",
       "      <td>CA. 2343</td>\n",
       "      <td>69.5500</td>\n",
       "      <td>NaN</td>\n",
       "      <td>S</td>\n",
       "    </tr>\n",
       "    <tr>\n",
       "      <th>79</th>\n",
       "      <td>971</td>\n",
       "      <td>3</td>\n",
       "      <td>Doyle, Miss. Elizabeth</td>\n",
       "      <td>female</td>\n",
       "      <td>24.0</td>\n",
       "      <td>0</td>\n",
       "      <td>0</td>\n",
       "      <td>368702</td>\n",
       "      <td>7.7500</td>\n",
       "      <td>NaN</td>\n",
       "      <td>Q</td>\n",
       "    </tr>\n",
       "    <tr>\n",
       "      <th>122</th>\n",
       "      <td>1014</td>\n",
       "      <td>1</td>\n",
       "      <td>Schabert, Mrs. Paul (Emma Mock)</td>\n",
       "      <td>female</td>\n",
       "      <td>35.0</td>\n",
       "      <td>1</td>\n",
       "      <td>0</td>\n",
       "      <td>13236</td>\n",
       "      <td>57.7500</td>\n",
       "      <td>C28</td>\n",
       "      <td>C</td>\n",
       "    </tr>\n",
       "    <tr>\n",
       "      <th>223</th>\n",
       "      <td>1115</td>\n",
       "      <td>3</td>\n",
       "      <td>Karlsson, Mr. Einar Gervasius</td>\n",
       "      <td>male</td>\n",
       "      <td>21.0</td>\n",
       "      <td>0</td>\n",
       "      <td>0</td>\n",
       "      <td>350053</td>\n",
       "      <td>7.7958</td>\n",
       "      <td>NaN</td>\n",
       "      <td>S</td>\n",
       "    </tr>\n",
       "    <tr>\n",
       "      <th>373</th>\n",
       "      <td>1265</td>\n",
       "      <td>2</td>\n",
       "      <td>Harbeck, Mr. William H</td>\n",
       "      <td>male</td>\n",
       "      <td>44.0</td>\n",
       "      <td>0</td>\n",
       "      <td>0</td>\n",
       "      <td>248746</td>\n",
       "      <td>13.0000</td>\n",
       "      <td>NaN</td>\n",
       "      <td>S</td>\n",
       "    </tr>\n",
       "  </tbody>\n",
       "</table>\n",
       "</div>"
      ],
      "text/plain": [
       "     PassengerId  Pclass                             Name     Sex   Age  \\\n",
       "230         1122       2      Sweet, Mr. George Frederick    male  14.0   \n",
       "335         1227       1         Maguire, Mr. John Edward    male  30.0   \n",
       "295         1187       3             Angheloff, Mr. Minko    male  26.0   \n",
       "282         1174       3            Fleming, Miss. Honora  female   NaN   \n",
       "400         1292       1          Bonnell, Miss. Caroline  female  30.0   \n",
       "360         1252       3      Sage, Master. William Henry    male  14.5   \n",
       "79           971       3           Doyle, Miss. Elizabeth  female  24.0   \n",
       "122         1014       1  Schabert, Mrs. Paul (Emma Mock)  female  35.0   \n",
       "223         1115       3    Karlsson, Mr. Einar Gervasius    male  21.0   \n",
       "373         1265       2           Harbeck, Mr. William H    male  44.0   \n",
       "\n",
       "     SibSp  Parch    Ticket      Fare Cabin Embarked  \n",
       "230      0      0    220845   65.0000   NaN        S  \n",
       "335      0      0    110469   26.0000  C106        S  \n",
       "295      0      0    349202    7.8958   NaN        S  \n",
       "282      0      0    364859    7.7500   NaN        Q  \n",
       "400      0      0     36928  164.8667    C7        S  \n",
       "360      8      2  CA. 2343   69.5500   NaN        S  \n",
       "79       0      0    368702    7.7500   NaN        Q  \n",
       "122      1      0     13236   57.7500   C28        C  \n",
       "223      0      0    350053    7.7958   NaN        S  \n",
       "373      0      0    248746   13.0000   NaN        S  "
      ]
     },
     "execution_count": 10,
     "metadata": {},
     "output_type": "execute_result"
    }
   ],
   "source": [
    "dataframe_test.sample(10)"
   ]
  },
  {
   "cell_type": "markdown",
   "metadata": {},
   "source": [
    "ลองดูสถิติข้อมูล"
   ]
  },
  {
   "cell_type": "code",
   "execution_count": 11,
   "metadata": {},
   "outputs": [
    {
     "data": {
      "text/html": [
       "<div>\n",
       "<style scoped>\n",
       "    .dataframe tbody tr th:only-of-type {\n",
       "        vertical-align: middle;\n",
       "    }\n",
       "\n",
       "    .dataframe tbody tr th {\n",
       "        vertical-align: top;\n",
       "    }\n",
       "\n",
       "    .dataframe thead th {\n",
       "        text-align: right;\n",
       "    }\n",
       "</style>\n",
       "<table border=\"1\" class=\"dataframe\">\n",
       "  <thead>\n",
       "    <tr style=\"text-align: right;\">\n",
       "      <th></th>\n",
       "      <th>PassengerId</th>\n",
       "      <th>Survived</th>\n",
       "      <th>Pclass</th>\n",
       "      <th>Age</th>\n",
       "      <th>SibSp</th>\n",
       "      <th>Parch</th>\n",
       "      <th>Fare</th>\n",
       "    </tr>\n",
       "  </thead>\n",
       "  <tbody>\n",
       "    <tr>\n",
       "      <th>count</th>\n",
       "      <td>891.000000</td>\n",
       "      <td>891.000000</td>\n",
       "      <td>891.000000</td>\n",
       "      <td>714.000000</td>\n",
       "      <td>891.000000</td>\n",
       "      <td>891.000000</td>\n",
       "      <td>891.000000</td>\n",
       "    </tr>\n",
       "    <tr>\n",
       "      <th>mean</th>\n",
       "      <td>446.000000</td>\n",
       "      <td>0.383838</td>\n",
       "      <td>2.308642</td>\n",
       "      <td>29.699118</td>\n",
       "      <td>0.523008</td>\n",
       "      <td>0.381594</td>\n",
       "      <td>32.204208</td>\n",
       "    </tr>\n",
       "    <tr>\n",
       "      <th>std</th>\n",
       "      <td>257.353842</td>\n",
       "      <td>0.486592</td>\n",
       "      <td>0.836071</td>\n",
       "      <td>14.526497</td>\n",
       "      <td>1.102743</td>\n",
       "      <td>0.806057</td>\n",
       "      <td>49.693429</td>\n",
       "    </tr>\n",
       "    <tr>\n",
       "      <th>min</th>\n",
       "      <td>1.000000</td>\n",
       "      <td>0.000000</td>\n",
       "      <td>1.000000</td>\n",
       "      <td>0.420000</td>\n",
       "      <td>0.000000</td>\n",
       "      <td>0.000000</td>\n",
       "      <td>0.000000</td>\n",
       "    </tr>\n",
       "    <tr>\n",
       "      <th>25%</th>\n",
       "      <td>223.500000</td>\n",
       "      <td>0.000000</td>\n",
       "      <td>2.000000</td>\n",
       "      <td>20.125000</td>\n",
       "      <td>0.000000</td>\n",
       "      <td>0.000000</td>\n",
       "      <td>7.910400</td>\n",
       "    </tr>\n",
       "    <tr>\n",
       "      <th>50%</th>\n",
       "      <td>446.000000</td>\n",
       "      <td>0.000000</td>\n",
       "      <td>3.000000</td>\n",
       "      <td>28.000000</td>\n",
       "      <td>0.000000</td>\n",
       "      <td>0.000000</td>\n",
       "      <td>14.454200</td>\n",
       "    </tr>\n",
       "    <tr>\n",
       "      <th>75%</th>\n",
       "      <td>668.500000</td>\n",
       "      <td>1.000000</td>\n",
       "      <td>3.000000</td>\n",
       "      <td>38.000000</td>\n",
       "      <td>1.000000</td>\n",
       "      <td>0.000000</td>\n",
       "      <td>31.000000</td>\n",
       "    </tr>\n",
       "    <tr>\n",
       "      <th>max</th>\n",
       "      <td>891.000000</td>\n",
       "      <td>1.000000</td>\n",
       "      <td>3.000000</td>\n",
       "      <td>80.000000</td>\n",
       "      <td>8.000000</td>\n",
       "      <td>6.000000</td>\n",
       "      <td>512.329200</td>\n",
       "    </tr>\n",
       "  </tbody>\n",
       "</table>\n",
       "</div>"
      ],
      "text/plain": [
       "       PassengerId    Survived      Pclass         Age       SibSp  \\\n",
       "count   891.000000  891.000000  891.000000  714.000000  891.000000   \n",
       "mean    446.000000    0.383838    2.308642   29.699118    0.523008   \n",
       "std     257.353842    0.486592    0.836071   14.526497    1.102743   \n",
       "min       1.000000    0.000000    1.000000    0.420000    0.000000   \n",
       "25%     223.500000    0.000000    2.000000   20.125000    0.000000   \n",
       "50%     446.000000    0.000000    3.000000   28.000000    0.000000   \n",
       "75%     668.500000    1.000000    3.000000   38.000000    1.000000   \n",
       "max     891.000000    1.000000    3.000000   80.000000    8.000000   \n",
       "\n",
       "            Parch        Fare  \n",
       "count  891.000000  891.000000  \n",
       "mean     0.381594   32.204208  \n",
       "std      0.806057   49.693429  \n",
       "min      0.000000    0.000000  \n",
       "25%      0.000000    7.910400  \n",
       "50%      0.000000   14.454200  \n",
       "75%      0.000000   31.000000  \n",
       "max      6.000000  512.329200  "
      ]
     },
     "execution_count": 11,
     "metadata": {},
     "output_type": "execute_result"
    }
   ],
   "source": [
    "dataframe_train.describe()"
   ]
  },
  {
   "cell_type": "code",
   "execution_count": 12,
   "metadata": {
    "scrolled": true
   },
   "outputs": [
    {
     "data": {
      "text/html": [
       "<div>\n",
       "<style scoped>\n",
       "    .dataframe tbody tr th:only-of-type {\n",
       "        vertical-align: middle;\n",
       "    }\n",
       "\n",
       "    .dataframe tbody tr th {\n",
       "        vertical-align: top;\n",
       "    }\n",
       "\n",
       "    .dataframe thead th {\n",
       "        text-align: right;\n",
       "    }\n",
       "</style>\n",
       "<table border=\"1\" class=\"dataframe\">\n",
       "  <thead>\n",
       "    <tr style=\"text-align: right;\">\n",
       "      <th></th>\n",
       "      <th>Name</th>\n",
       "      <th>Sex</th>\n",
       "      <th>Ticket</th>\n",
       "      <th>Cabin</th>\n",
       "      <th>Embarked</th>\n",
       "    </tr>\n",
       "  </thead>\n",
       "  <tbody>\n",
       "    <tr>\n",
       "      <th>count</th>\n",
       "      <td>891</td>\n",
       "      <td>891</td>\n",
       "      <td>891</td>\n",
       "      <td>204</td>\n",
       "      <td>889</td>\n",
       "    </tr>\n",
       "    <tr>\n",
       "      <th>unique</th>\n",
       "      <td>891</td>\n",
       "      <td>2</td>\n",
       "      <td>681</td>\n",
       "      <td>147</td>\n",
       "      <td>3</td>\n",
       "    </tr>\n",
       "    <tr>\n",
       "      <th>top</th>\n",
       "      <td>Hoyt, Mrs. Frederick Maxfield (Jane Anne Forby)</td>\n",
       "      <td>male</td>\n",
       "      <td>1601</td>\n",
       "      <td>C23 C25 C27</td>\n",
       "      <td>S</td>\n",
       "    </tr>\n",
       "    <tr>\n",
       "      <th>freq</th>\n",
       "      <td>1</td>\n",
       "      <td>577</td>\n",
       "      <td>7</td>\n",
       "      <td>4</td>\n",
       "      <td>644</td>\n",
       "    </tr>\n",
       "  </tbody>\n",
       "</table>\n",
       "</div>"
      ],
      "text/plain": [
       "                                                   Name   Sex Ticket  \\\n",
       "count                                               891   891    891   \n",
       "unique                                              891     2    681   \n",
       "top     Hoyt, Mrs. Frederick Maxfield (Jane Anne Forby)  male   1601   \n",
       "freq                                                  1   577      7   \n",
       "\n",
       "              Cabin Embarked  \n",
       "count           204      889  \n",
       "unique          147        3  \n",
       "top     C23 C25 C27        S  \n",
       "freq              4      644  "
      ]
     },
     "execution_count": 12,
     "metadata": {},
     "output_type": "execute_result"
    }
   ],
   "source": [
    "dataframe_train.describe(include='O')"
   ]
  },
  {
   "cell_type": "markdown",
   "metadata": {},
   "source": [
    "จะเห็นว่า Column Age, Cable, Embarked ขาดไป ไม่ครบ 891 โดยเฉพาะ Cabin ขาดเยอะมาก"
   ]
  },
  {
   "cell_type": "code",
   "execution_count": 13,
   "metadata": {
    "scrolled": false
   },
   "outputs": [
    {
     "data": {
      "text/html": [
       "<div>\n",
       "<style scoped>\n",
       "    .dataframe tbody tr th:only-of-type {\n",
       "        vertical-align: middle;\n",
       "    }\n",
       "\n",
       "    .dataframe tbody tr th {\n",
       "        vertical-align: top;\n",
       "    }\n",
       "\n",
       "    .dataframe thead th {\n",
       "        text-align: right;\n",
       "    }\n",
       "</style>\n",
       "<table border=\"1\" class=\"dataframe\">\n",
       "  <thead>\n",
       "    <tr style=\"text-align: right;\">\n",
       "      <th></th>\n",
       "      <th>PassengerId</th>\n",
       "      <th>Pclass</th>\n",
       "      <th>Age</th>\n",
       "      <th>SibSp</th>\n",
       "      <th>Parch</th>\n",
       "      <th>Fare</th>\n",
       "    </tr>\n",
       "  </thead>\n",
       "  <tbody>\n",
       "    <tr>\n",
       "      <th>count</th>\n",
       "      <td>418.000000</td>\n",
       "      <td>418.000000</td>\n",
       "      <td>332.000000</td>\n",
       "      <td>418.000000</td>\n",
       "      <td>418.000000</td>\n",
       "      <td>417.000000</td>\n",
       "    </tr>\n",
       "    <tr>\n",
       "      <th>mean</th>\n",
       "      <td>1100.500000</td>\n",
       "      <td>2.265550</td>\n",
       "      <td>30.272590</td>\n",
       "      <td>0.447368</td>\n",
       "      <td>0.392344</td>\n",
       "      <td>35.627188</td>\n",
       "    </tr>\n",
       "    <tr>\n",
       "      <th>std</th>\n",
       "      <td>120.810458</td>\n",
       "      <td>0.841838</td>\n",
       "      <td>14.181209</td>\n",
       "      <td>0.896760</td>\n",
       "      <td>0.981429</td>\n",
       "      <td>55.907576</td>\n",
       "    </tr>\n",
       "    <tr>\n",
       "      <th>min</th>\n",
       "      <td>892.000000</td>\n",
       "      <td>1.000000</td>\n",
       "      <td>0.170000</td>\n",
       "      <td>0.000000</td>\n",
       "      <td>0.000000</td>\n",
       "      <td>0.000000</td>\n",
       "    </tr>\n",
       "    <tr>\n",
       "      <th>25%</th>\n",
       "      <td>996.250000</td>\n",
       "      <td>1.000000</td>\n",
       "      <td>21.000000</td>\n",
       "      <td>0.000000</td>\n",
       "      <td>0.000000</td>\n",
       "      <td>7.895800</td>\n",
       "    </tr>\n",
       "    <tr>\n",
       "      <th>50%</th>\n",
       "      <td>1100.500000</td>\n",
       "      <td>3.000000</td>\n",
       "      <td>27.000000</td>\n",
       "      <td>0.000000</td>\n",
       "      <td>0.000000</td>\n",
       "      <td>14.454200</td>\n",
       "    </tr>\n",
       "    <tr>\n",
       "      <th>75%</th>\n",
       "      <td>1204.750000</td>\n",
       "      <td>3.000000</td>\n",
       "      <td>39.000000</td>\n",
       "      <td>1.000000</td>\n",
       "      <td>0.000000</td>\n",
       "      <td>31.500000</td>\n",
       "    </tr>\n",
       "    <tr>\n",
       "      <th>max</th>\n",
       "      <td>1309.000000</td>\n",
       "      <td>3.000000</td>\n",
       "      <td>76.000000</td>\n",
       "      <td>8.000000</td>\n",
       "      <td>9.000000</td>\n",
       "      <td>512.329200</td>\n",
       "    </tr>\n",
       "  </tbody>\n",
       "</table>\n",
       "</div>"
      ],
      "text/plain": [
       "       PassengerId      Pclass         Age       SibSp       Parch        Fare\n",
       "count   418.000000  418.000000  332.000000  418.000000  418.000000  417.000000\n",
       "mean   1100.500000    2.265550   30.272590    0.447368    0.392344   35.627188\n",
       "std     120.810458    0.841838   14.181209    0.896760    0.981429   55.907576\n",
       "min     892.000000    1.000000    0.170000    0.000000    0.000000    0.000000\n",
       "25%     996.250000    1.000000   21.000000    0.000000    0.000000    7.895800\n",
       "50%    1100.500000    3.000000   27.000000    0.000000    0.000000   14.454200\n",
       "75%    1204.750000    3.000000   39.000000    1.000000    0.000000   31.500000\n",
       "max    1309.000000    3.000000   76.000000    8.000000    9.000000  512.329200"
      ]
     },
     "execution_count": 13,
     "metadata": {},
     "output_type": "execute_result"
    }
   ],
   "source": [
    "dataframe_test.describe()"
   ]
  },
  {
   "cell_type": "code",
   "execution_count": 14,
   "metadata": {},
   "outputs": [
    {
     "data": {
      "text/html": [
       "<div>\n",
       "<style scoped>\n",
       "    .dataframe tbody tr th:only-of-type {\n",
       "        vertical-align: middle;\n",
       "    }\n",
       "\n",
       "    .dataframe tbody tr th {\n",
       "        vertical-align: top;\n",
       "    }\n",
       "\n",
       "    .dataframe thead th {\n",
       "        text-align: right;\n",
       "    }\n",
       "</style>\n",
       "<table border=\"1\" class=\"dataframe\">\n",
       "  <thead>\n",
       "    <tr style=\"text-align: right;\">\n",
       "      <th></th>\n",
       "      <th>Name</th>\n",
       "      <th>Sex</th>\n",
       "      <th>Ticket</th>\n",
       "      <th>Cabin</th>\n",
       "      <th>Embarked</th>\n",
       "    </tr>\n",
       "  </thead>\n",
       "  <tbody>\n",
       "    <tr>\n",
       "      <th>count</th>\n",
       "      <td>418</td>\n",
       "      <td>418</td>\n",
       "      <td>418</td>\n",
       "      <td>91</td>\n",
       "      <td>418</td>\n",
       "    </tr>\n",
       "    <tr>\n",
       "      <th>unique</th>\n",
       "      <td>418</td>\n",
       "      <td>2</td>\n",
       "      <td>363</td>\n",
       "      <td>76</td>\n",
       "      <td>3</td>\n",
       "    </tr>\n",
       "    <tr>\n",
       "      <th>top</th>\n",
       "      <td>Crafton, Mr. John Bertram</td>\n",
       "      <td>male</td>\n",
       "      <td>PC 17608</td>\n",
       "      <td>B57 B59 B63 B66</td>\n",
       "      <td>S</td>\n",
       "    </tr>\n",
       "    <tr>\n",
       "      <th>freq</th>\n",
       "      <td>1</td>\n",
       "      <td>266</td>\n",
       "      <td>5</td>\n",
       "      <td>3</td>\n",
       "      <td>270</td>\n",
       "    </tr>\n",
       "  </tbody>\n",
       "</table>\n",
       "</div>"
      ],
      "text/plain": [
       "                             Name   Sex    Ticket            Cabin Embarked\n",
       "count                         418   418       418               91      418\n",
       "unique                        418     2       363               76        3\n",
       "top     Crafton, Mr. John Bertram  male  PC 17608  B57 B59 B63 B66        S\n",
       "freq                            1   266         5                3      270"
      ]
     },
     "execution_count": 14,
     "metadata": {},
     "output_type": "execute_result"
    }
   ],
   "source": [
    "dataframe_test.describe(include='O')"
   ]
  },
  {
   "cell_type": "markdown",
   "metadata": {},
   "source": [
    "Test Set ก็คล้าย ๆ กัน แต่มี 1 Record ที่ Column Fare ขาดไป เพิ่มขึ้นมา"
   ]
  },
  {
   "cell_type": "markdown",
   "metadata": {},
   "source": [
    "# 3. เตรียมข้อมูล\n",
    "\n"
   ]
  },
  {
   "cell_type": "markdown",
   "metadata": {},
   "source": [
    "กำหนดว่า Column ไหน เป็นอะไร ถ้าไม่ใส่ในนี้คือเราจะไม่ใส่ใสโมเดล เช่น Ticket, PassengerId และ Name \n",
    "\n",
    "และ  และต้องการ Preprocess อะไรบ้าง Preprocess ทำอะไรกับ Training Set ก็จะต้องทำ Test Set แบบเดียวกัน \n",
    "\n",
    "เรื่อง Preprocess ด้วยการ FillMissing, Categorify, Normalize จะอธิบายต่อไป"
   ]
  },
  {
   "cell_type": "code",
   "execution_count": 15,
   "metadata": {},
   "outputs": [],
   "source": [
    "dependent_variable = 'Survived'\n",
    "category_column_names = ['Pclass', 'Sex', 'SibSp', 'Parch', 'Embarked']\n",
    "continuous_column_names = ['Age', 'Fare']\n",
    "\n",
    "preprocesses = [FillMissing, Categorify, Normalize]"
   ]
  },
  {
   "cell_type": "markdown",
   "metadata": {},
   "source": [
    "เนื่องจากใน Test Set มี Fare หายไป 1 Record แต่ใน Training Set มีครบ เราจึงต้องใส่เพิ่มเอง ด้วยค่า Median"
   ]
  },
  {
   "cell_type": "code",
   "execution_count": 16,
   "metadata": {},
   "outputs": [],
   "source": [
    "dataframe_test[\"Fare\"].fillna(dataframe_test.groupby([\"Pclass\"])[\"Fare\"].transform('median'), inplace = True)"
   ]
  },
  {
   "cell_type": "markdown",
   "metadata": {},
   "source": [
    "กำหนด Hyperparameter ว่าจะเทรนกี่ Epoch และจะ Split Training Set, Validation Set อย่างไร etc."
   ]
  },
  {
   "cell_type": "code",
   "execution_count": 17,
   "metadata": {},
   "outputs": [],
   "source": [
    "np.random.seed(42)\n",
    "epoch = 8\n",
    "lr = 1e-2\n",
    "batchsize = 32\n",
    "layers = [256, 128]\n",
    "wd = 1e-1\n",
    "val_idx = np.random.permutation(dataframe_train.shape[0])[:200]"
   ]
  },
  {
   "cell_type": "markdown",
   "metadata": {},
   "source": [
    "สร้าง Databunch จากการกำหนดค่าด้านบน"
   ]
  },
  {
   "cell_type": "code",
   "execution_count": 18,
   "metadata": {},
   "outputs": [],
   "source": [
    "tabularlist_test = TabularList.from_df(dataframe_test, \n",
    "                           path=path, \n",
    "                           cat_names=category_column_names, \n",
    "                           cont_names=continuous_column_names, \n",
    "                           procs=preprocesses)"
   ]
  },
  {
   "cell_type": "code",
   "execution_count": 19,
   "metadata": {},
   "outputs": [],
   "source": [
    "databunch = (TabularList.from_df(dataframe_train, path=path, \n",
    "                                 cat_names=category_column_names, \n",
    "                                 cont_names=continuous_column_names, \n",
    "                                 procs=preprocesses)\n",
    "                           .split_by_idx(val_idx)\n",
    "                           .label_from_df(cols=dependent_variable)\n",
    "                           .add_test(tabularlist_test)\n",
    "                           .databunch(bs=batchsize))"
   ]
  },
  {
   "cell_type": "markdown",
   "metadata": {},
   "source": [
    "## สำรวจข้อมูล ##\n",
    "\n",
    "ลองดูข้อมูลหลังจาก Preprocess เรียบร้อยแล้ว จะเห็นว่ามีแต่ Column ที่เรากำหนดไว้\n",
    "\n",
    "*เราสามารถรัน cell นี้หลายครั้ง เพื่อเรียกดู batch ต่อ ๆ ไป ได้เรื่อย ๆ เป็นการสำรวจข้อมูล*"
   ]
  },
  {
   "cell_type": "code",
   "execution_count": 20,
   "metadata": {
    "scrolled": true
   },
   "outputs": [
    {
     "data": {
      "text/html": [
       "<table border=\"1\" class=\"dataframe\">\n",
       "  <thead>\n",
       "    <tr style=\"text-align: right;\">\n",
       "      <th>Pclass</th>\n",
       "      <th>Sex</th>\n",
       "      <th>SibSp</th>\n",
       "      <th>Parch</th>\n",
       "      <th>Embarked</th>\n",
       "      <th>Age_na</th>\n",
       "      <th>Age</th>\n",
       "      <th>Fare</th>\n",
       "      <th>target</th>\n",
       "    </tr>\n",
       "  </thead>\n",
       "  <tbody>\n",
       "    <tr>\n",
       "      <td>3</td>\n",
       "      <td>female</td>\n",
       "      <td>3</td>\n",
       "      <td>1</td>\n",
       "      <td>S</td>\n",
       "      <td>True</td>\n",
       "      <td>-0.0905</td>\n",
       "      <td>-0.1310</td>\n",
       "      <td>0</td>\n",
       "    </tr>\n",
       "    <tr>\n",
       "      <td>3</td>\n",
       "      <td>female</td>\n",
       "      <td>0</td>\n",
       "      <td>2</td>\n",
       "      <td>S</td>\n",
       "      <td>False</td>\n",
       "      <td>-0.1670</td>\n",
       "      <td>-0.4096</td>\n",
       "      <td>1</td>\n",
       "    </tr>\n",
       "    <tr>\n",
       "      <td>3</td>\n",
       "      <td>male</td>\n",
       "      <td>1</td>\n",
       "      <td>1</td>\n",
       "      <td>C</td>\n",
       "      <td>False</td>\n",
       "      <td>-1.0857</td>\n",
       "      <td>-0.4854</td>\n",
       "      <td>0</td>\n",
       "    </tr>\n",
       "    <tr>\n",
       "      <td>3</td>\n",
       "      <td>male</td>\n",
       "      <td>0</td>\n",
       "      <td>0</td>\n",
       "      <td>S</td>\n",
       "      <td>True</td>\n",
       "      <td>-0.0905</td>\n",
       "      <td>-0.4695</td>\n",
       "      <td>0</td>\n",
       "    </tr>\n",
       "    <tr>\n",
       "      <td>3</td>\n",
       "      <td>male</td>\n",
       "      <td>4</td>\n",
       "      <td>1</td>\n",
       "      <td>Q</td>\n",
       "      <td>False</td>\n",
       "      <td>-1.9277</td>\n",
       "      <td>-0.0599</td>\n",
       "      <td>0</td>\n",
       "    </tr>\n",
       "    <tr>\n",
       "      <td>3</td>\n",
       "      <td>female</td>\n",
       "      <td>1</td>\n",
       "      <td>1</td>\n",
       "      <td>S</td>\n",
       "      <td>False</td>\n",
       "      <td>0.0626</td>\n",
       "      <td>-0.1566</td>\n",
       "      <td>0</td>\n",
       "    </tr>\n",
       "    <tr>\n",
       "      <td>2</td>\n",
       "      <td>female</td>\n",
       "      <td>0</td>\n",
       "      <td>0</td>\n",
       "      <td>S</td>\n",
       "      <td>False</td>\n",
       "      <td>-0.0905</td>\n",
       "      <td>-0.3733</td>\n",
       "      <td>1</td>\n",
       "    </tr>\n",
       "    <tr>\n",
       "      <td>2</td>\n",
       "      <td>female</td>\n",
       "      <td>1</td>\n",
       "      <td>2</td>\n",
       "      <td>C</td>\n",
       "      <td>False</td>\n",
       "      <td>-2.0043</td>\n",
       "      <td>0.1821</td>\n",
       "      <td>1</td>\n",
       "    </tr>\n",
       "    <tr>\n",
       "      <td>2</td>\n",
       "      <td>female</td>\n",
       "      <td>1</td>\n",
       "      <td>0</td>\n",
       "      <td>S</td>\n",
       "      <td>False</td>\n",
       "      <td>-0.1670</td>\n",
       "      <td>-0.2178</td>\n",
       "      <td>0</td>\n",
       "    </tr>\n",
       "    <tr>\n",
       "      <td>2</td>\n",
       "      <td>female</td>\n",
       "      <td>1</td>\n",
       "      <td>0</td>\n",
       "      <td>S</td>\n",
       "      <td>False</td>\n",
       "      <td>-0.0139</td>\n",
       "      <td>-0.1207</td>\n",
       "      <td>1</td>\n",
       "    </tr>\n",
       "  </tbody>\n",
       "</table>"
      ],
      "text/plain": [
       "<IPython.core.display.HTML object>"
      ]
     },
     "metadata": {},
     "output_type": "display_data"
    }
   ],
   "source": [
    "databunch.show_batch(rows=10)"
   ]
  },
  {
   "cell_type": "markdown",
   "metadata": {},
   "source": [
    "Output จะมี 2 class คือ 0 = ไม่รอด (Not Survived), 1 = รอด (Survived)"
   ]
  },
  {
   "cell_type": "code",
   "execution_count": 21,
   "metadata": {
    "scrolled": true
   },
   "outputs": [
    {
     "data": {
      "text/plain": [
       "[0, 1]"
      ]
     },
     "execution_count": 21,
     "metadata": {},
     "output_type": "execute_result"
    }
   ],
   "source": [
    "databunch.classes"
   ]
  },
  {
   "cell_type": "markdown",
   "metadata": {},
   "source": [
    "# 4. สร้างโมเดล\n",
    "\n",
    "เนื่องจากตารางเล็ก ๆ ไม่ซับซ้อน เราจะสร้างโมเดล ที่ประกอบด้วย Dense Layer ที่ Deep แค่ 2 Hidden Layer โดยที่เหลือใช้ค่า Default ทั้งหมด เรื่องชนิดของ Layer เช่น Dense ไว้เราจะอธิบายต่อไป"
   ]
  },
  {
   "cell_type": "code",
   "execution_count": 22,
   "metadata": {},
   "outputs": [],
   "source": [
    "learner = tabular_learner(databunch, layers=layers,                                 \n",
    "                          metrics=accuracy, wd=wd, \n",
    "                          callback_fns=ShowGraph)"
   ]
  },
  {
   "cell_type": "markdown",
   "metadata": {},
   "source": [
    "# 5. เริ่มต้นเทรนโมเดล\n",
    "\n",
    "เทรนด้วยค่า Default ไป 10 Cycle สามารถใช้ Learning Rate สูง ๆ ได้เลย"
   ]
  },
  {
   "cell_type": "code",
   "execution_count": 23,
   "metadata": {
    "scrolled": false
   },
   "outputs": [
    {
     "data": {
      "text/html": [
       "<table border=\"1\" class=\"dataframe\">\n",
       "  <thead>\n",
       "    <tr style=\"text-align: left;\">\n",
       "      <th>epoch</th>\n",
       "      <th>train_loss</th>\n",
       "      <th>valid_loss</th>\n",
       "      <th>accuracy</th>\n",
       "      <th>time</th>\n",
       "    </tr>\n",
       "  </thead>\n",
       "  <tbody>\n",
       "    <tr>\n",
       "      <td>0</td>\n",
       "      <td>0.669500</td>\n",
       "      <td>0.674919</td>\n",
       "      <td>0.700000</td>\n",
       "      <td>00:00</td>\n",
       "    </tr>\n",
       "    <tr>\n",
       "      <td>1</td>\n",
       "      <td>0.597985</td>\n",
       "      <td>0.524891</td>\n",
       "      <td>0.740000</td>\n",
       "      <td>00:00</td>\n",
       "    </tr>\n",
       "    <tr>\n",
       "      <td>2</td>\n",
       "      <td>0.544473</td>\n",
       "      <td>0.444561</td>\n",
       "      <td>0.775000</td>\n",
       "      <td>00:00</td>\n",
       "    </tr>\n",
       "    <tr>\n",
       "      <td>3</td>\n",
       "      <td>0.511918</td>\n",
       "      <td>0.453918</td>\n",
       "      <td>0.775000</td>\n",
       "      <td>00:00</td>\n",
       "    </tr>\n",
       "    <tr>\n",
       "      <td>4</td>\n",
       "      <td>0.474543</td>\n",
       "      <td>0.435506</td>\n",
       "      <td>0.825000</td>\n",
       "      <td>00:00</td>\n",
       "    </tr>\n",
       "    <tr>\n",
       "      <td>5</td>\n",
       "      <td>0.448853</td>\n",
       "      <td>0.452543</td>\n",
       "      <td>0.800000</td>\n",
       "      <td>00:00</td>\n",
       "    </tr>\n",
       "    <tr>\n",
       "      <td>6</td>\n",
       "      <td>0.425286</td>\n",
       "      <td>0.456632</td>\n",
       "      <td>0.795000</td>\n",
       "      <td>00:00</td>\n",
       "    </tr>\n",
       "    <tr>\n",
       "      <td>7</td>\n",
       "      <td>0.413045</td>\n",
       "      <td>0.458916</td>\n",
       "      <td>0.795000</td>\n",
       "      <td>00:00</td>\n",
       "    </tr>\n",
       "  </tbody>\n",
       "</table>"
      ],
      "text/plain": [
       "<IPython.core.display.HTML object>"
      ]
     },
     "metadata": {},
     "output_type": "display_data"
    },
    {
     "data": {
      "image/png": "[encoded data removed]",
      "text/plain": [
       "<Figure size 432x288 with 1 Axes>"
      ]
     },
     "metadata": {},
     "output_type": "display_data"
    }
   ],
   "source": [
    "learner.fit_one_cycle(epoch, max_lr=lr)"
   ]
  },
  {
   "cell_type": "markdown",
   "metadata": {},
   "source": [
    "จะเห็นได้ว่า เราได้ Accuracy ประมาณ 80% เราสามารถทำได้ดีกว่านี้หรือไม่ เราจะลองใช้ Feature Engineering เพื่อเตรียมข้อมูล เพื่อช่วยโมเดลให้เรียนรู้ได้ดีขึ้น"
   ]
  },
  {
   "cell_type": "markdown",
   "metadata": {},
   "source": [
    "# 3/2. เตรียมข้อมูล ภาค 2 Feature Engineering"
   ]
  },
  {
   "cell_type": "markdown",
   "metadata": {},
   "source": [
    "เราจะสร้าง List ของ Training Set, Test Set จะได้สะดวก แปลงทีเดียว 2 Dataframe"
   ]
  },
  {
   "cell_type": "code",
   "execution_count": 24,
   "metadata": {},
   "outputs": [],
   "source": [
    "dataframe_bundle = [dataframe_test, dataframe_train]"
   ]
  },
  {
   "cell_type": "markdown",
   "metadata": {},
   "source": [
    "สร้าง Column Title โดยตัดเอามาจาก Column Name"
   ]
  },
  {
   "cell_type": "code",
   "execution_count": 25,
   "metadata": {},
   "outputs": [],
   "source": [
    "for dataframe in dataframe_bundle:    \n",
    "    dataframe['Title'] = dataframe['Name'].str.split(\", \", expand=True)[1].str.split(\".\", expand=True)[0]"
   ]
  },
  {
   "cell_type": "markdown",
   "metadata": {},
   "source": [
    "เติมอายุที่ขาดไปด้วย ค่า Median ของแต่ละ Title ถ้าไม่มี Title นั้น ก็ให้เอา median ของทั้งหมด"
   ]
  },
  {
   "cell_type": "code",
   "execution_count": 26,
   "metadata": {
    "scrolled": true
   },
   "outputs": [],
   "source": [
    "for dataframe in dataframe_bundle:    \n",
    "    dataframe[\"Age\"].fillna(dataframe.groupby([\"Title\"])[\"Age\"].transform('median'), inplace = True)\n",
    "    dataframe['Age'].fillna(dataframe['Age'].median(), inplace = True)"
   ]
  },
  {
   "cell_type": "markdown",
   "metadata": {},
   "source": [
    "สร้าง Column FamilySize จาก จำนวนพ่อแม่ + จำนวนพี่น้อง + ตัวเอง"
   ]
  },
  {
   "cell_type": "code",
   "execution_count": 27,
   "metadata": {},
   "outputs": [],
   "source": [
    "for dataframe in dataframe_bundle:    \n",
    "    dataframe['FamilySize'] = dataframe ['SibSp'] + dataframe['Parch'] + 1"
   ]
  },
  {
   "cell_type": "markdown",
   "metadata": {},
   "source": [
    "สร้าง Column IsAlone = 1 ถ้าเดินทางคนเดียว"
   ]
  },
  {
   "cell_type": "code",
   "execution_count": 28,
   "metadata": {},
   "outputs": [],
   "source": [
    "for dataframe in dataframe_bundle:    \n",
    "    dataframe['IsAlone'] = 1 \n",
    "    dataframe.loc[dataframe['FamilySize'] > 1, 'IsAlone'] = 0 "
   ]
  },
  {
   "cell_type": "markdown",
   "metadata": {},
   "source": [
    "เนื่องจาก Fare ค่อนข้าง Vary ไม่ได้เป็นเส้นตรง เราจะแบ่ง Fare ออกเป็นช่วง ๆ จะมีความหมายมากขึ้น"
   ]
  },
  {
   "cell_type": "code",
   "execution_count": 29,
   "metadata": {},
   "outputs": [],
   "source": [
    "for dataframe in dataframe_bundle:    \n",
    "    dataframe['FareBin'] = pd.qcut(dataframe['Fare'].astype(int), 5)"
   ]
  },
  {
   "cell_type": "markdown",
   "metadata": {},
   "source": [
    "เนื่องจาก Age ค่อนข้าง Vary เด็กค่อนข้างมี % รอดเยอะกว่า ไม่ได้เป็นเส้นตรง เราจะแบ่ง Age ออกเป็นช่วง ๆ จะมีความหมายมากขึ้น"
   ]
  },
  {
   "cell_type": "code",
   "execution_count": 30,
   "metadata": {},
   "outputs": [],
   "source": [
    "for dataframe in dataframe_bundle:    \n",
    "    dataframe['AgeBin'] = pd.cut(dataframe['Age'].astype(int), 4)"
   ]
  },
  {
   "cell_type": "markdown",
   "metadata": {},
   "source": [
    "ใน Column Title มีคำนำหน้าชื่อ ประหลาด ๆ อาจจะเป็นยศ หรือ ภาษายุโรป etc. พวกที่มีคนสองคน เราจะเแปลงเป็น Rare "
   ]
  },
  {
   "cell_type": "code",
   "execution_count": 31,
   "metadata": {
    "scrolled": true
   },
   "outputs": [
    {
     "data": {
      "text/plain": [
       "Mr              517\n",
       "Miss            182\n",
       "Mrs             125\n",
       "Master           40\n",
       "Dr                7\n",
       "Rev               6\n",
       "Major             2\n",
       "Mlle              2\n",
       "Col               2\n",
       "Lady              1\n",
       "Ms                1\n",
       "the Countess      1\n",
       "Capt              1\n",
       "Sir               1\n",
       "Jonkheer          1\n",
       "Don               1\n",
       "Mme               1\n",
       "Name: Title, dtype: int64"
      ]
     },
     "execution_count": 31,
     "metadata": {},
     "output_type": "execute_result"
    }
   ],
   "source": [
    "dataframe_train.Title.value_counts()"
   ]
  },
  {
   "cell_type": "markdown",
   "metadata": {},
   "source": [
    "ส่วนภาษายุโรป เราก็จะแปล ตามเพศไป"
   ]
  },
  {
   "cell_type": "code",
   "execution_count": 32,
   "metadata": {},
   "outputs": [],
   "source": [
    "for dataframe in dataframe_bundle:\n",
    "    dataframe['Title'] = dataframe['Title'].replace(['Lady', 'Countess','Capt', 'Col',\\\n",
    " \t'Don', 'Dr', 'Major', 'Rev', 'Sir', 'Jonkheer', 'Dona'], 'Rare')\n",
    "\n",
    "    dataframe['Title'] = dataframe['Title'].replace('Mlle', 'Miss')\n",
    "    dataframe['Title'] = dataframe['Title'].replace('Ms', 'Miss')\n",
    "    dataframe['Title'] = dataframe['Title'].replace('Mme', 'Mrs')"
   ]
  },
  {
   "cell_type": "markdown",
   "metadata": {},
   "source": [
    "จาก 12 Column  เราทำ Feature Engineering จนเพิ่มมาเป็น 17 Column"
   ]
  },
  {
   "cell_type": "code",
   "execution_count": 33,
   "metadata": {
    "scrolled": true
   },
   "outputs": [
    {
     "data": {
      "text/plain": [
       "((891, 17), (418, 16))"
      ]
     },
     "execution_count": 33,
     "metadata": {},
     "output_type": "execute_result"
    }
   ],
   "source": [
    "dataframe_train.shape, dataframe_test.shape"
   ]
  },
  {
   "cell_type": "code",
   "execution_count": 34,
   "metadata": {},
   "outputs": [
    {
     "data": {
      "text/html": [
       "<div>\n",
       "<style scoped>\n",
       "    .dataframe tbody tr th:only-of-type {\n",
       "        vertical-align: middle;\n",
       "    }\n",
       "\n",
       "    .dataframe tbody tr th {\n",
       "        vertical-align: top;\n",
       "    }\n",
       "\n",
       "    .dataframe thead th {\n",
       "        text-align: right;\n",
       "    }\n",
       "</style>\n",
       "<table border=\"1\" class=\"dataframe\">\n",
       "  <thead>\n",
       "    <tr style=\"text-align: right;\">\n",
       "      <th></th>\n",
       "      <th>PassengerId</th>\n",
       "      <th>Survived</th>\n",
       "      <th>Pclass</th>\n",
       "      <th>Name</th>\n",
       "      <th>Sex</th>\n",
       "      <th>Age</th>\n",
       "      <th>SibSp</th>\n",
       "      <th>Parch</th>\n",
       "      <th>Ticket</th>\n",
       "      <th>Fare</th>\n",
       "      <th>Cabin</th>\n",
       "      <th>Embarked</th>\n",
       "      <th>Title</th>\n",
       "      <th>FamilySize</th>\n",
       "      <th>IsAlone</th>\n",
       "      <th>FareBin</th>\n",
       "      <th>AgeBin</th>\n",
       "    </tr>\n",
       "  </thead>\n",
       "  <tbody>\n",
       "    <tr>\n",
       "      <th>384</th>\n",
       "      <td>385</td>\n",
       "      <td>0</td>\n",
       "      <td>3</td>\n",
       "      <td>Plotcharsky, Mr. Vasil</td>\n",
       "      <td>male</td>\n",
       "      <td>30.0</td>\n",
       "      <td>0</td>\n",
       "      <td>0</td>\n",
       "      <td>349227</td>\n",
       "      <td>7.8958</td>\n",
       "      <td>NaN</td>\n",
       "      <td>S</td>\n",
       "      <td>Mr</td>\n",
       "      <td>1</td>\n",
       "      <td>1</td>\n",
       "      <td>(-0.001, 7.0]</td>\n",
       "      <td>(20.0, 40.0]</td>\n",
       "    </tr>\n",
       "    <tr>\n",
       "      <th>210</th>\n",
       "      <td>211</td>\n",
       "      <td>0</td>\n",
       "      <td>3</td>\n",
       "      <td>Ali, Mr. Ahmed</td>\n",
       "      <td>male</td>\n",
       "      <td>24.0</td>\n",
       "      <td>0</td>\n",
       "      <td>0</td>\n",
       "      <td>SOTON/O.Q. 3101311</td>\n",
       "      <td>7.0500</td>\n",
       "      <td>NaN</td>\n",
       "      <td>S</td>\n",
       "      <td>Mr</td>\n",
       "      <td>1</td>\n",
       "      <td>1</td>\n",
       "      <td>(-0.001, 7.0]</td>\n",
       "      <td>(20.0, 40.0]</td>\n",
       "    </tr>\n",
       "    <tr>\n",
       "      <th>486</th>\n",
       "      <td>487</td>\n",
       "      <td>1</td>\n",
       "      <td>1</td>\n",
       "      <td>Hoyt, Mrs. Frederick Maxfield (Jane Anne Forby)</td>\n",
       "      <td>female</td>\n",
       "      <td>35.0</td>\n",
       "      <td>1</td>\n",
       "      <td>0</td>\n",
       "      <td>19943</td>\n",
       "      <td>90.0000</td>\n",
       "      <td>C93</td>\n",
       "      <td>S</td>\n",
       "      <td>Mrs</td>\n",
       "      <td>2</td>\n",
       "      <td>0</td>\n",
       "      <td>(39.0, 512.0]</td>\n",
       "      <td>(20.0, 40.0]</td>\n",
       "    </tr>\n",
       "    <tr>\n",
       "      <th>425</th>\n",
       "      <td>426</td>\n",
       "      <td>0</td>\n",
       "      <td>3</td>\n",
       "      <td>Wiseman, Mr. Phillippe</td>\n",
       "      <td>male</td>\n",
       "      <td>30.0</td>\n",
       "      <td>0</td>\n",
       "      <td>0</td>\n",
       "      <td>A/4. 34244</td>\n",
       "      <td>7.2500</td>\n",
       "      <td>NaN</td>\n",
       "      <td>S</td>\n",
       "      <td>Mr</td>\n",
       "      <td>1</td>\n",
       "      <td>1</td>\n",
       "      <td>(-0.001, 7.0]</td>\n",
       "      <td>(20.0, 40.0]</td>\n",
       "    </tr>\n",
       "    <tr>\n",
       "      <th>855</th>\n",
       "      <td>856</td>\n",
       "      <td>1</td>\n",
       "      <td>3</td>\n",
       "      <td>Aks, Mrs. Sam (Leah Rosen)</td>\n",
       "      <td>female</td>\n",
       "      <td>18.0</td>\n",
       "      <td>0</td>\n",
       "      <td>1</td>\n",
       "      <td>392091</td>\n",
       "      <td>9.3500</td>\n",
       "      <td>NaN</td>\n",
       "      <td>S</td>\n",
       "      <td>Mrs</td>\n",
       "      <td>2</td>\n",
       "      <td>0</td>\n",
       "      <td>(7.0, 10.0]</td>\n",
       "      <td>(-0.08, 20.0]</td>\n",
       "    </tr>\n",
       "    <tr>\n",
       "      <th>109</th>\n",
       "      <td>110</td>\n",
       "      <td>1</td>\n",
       "      <td>3</td>\n",
       "      <td>Moran, Miss. Bertha</td>\n",
       "      <td>female</td>\n",
       "      <td>21.0</td>\n",
       "      <td>1</td>\n",
       "      <td>0</td>\n",
       "      <td>371110</td>\n",
       "      <td>24.1500</td>\n",
       "      <td>NaN</td>\n",
       "      <td>Q</td>\n",
       "      <td>Miss</td>\n",
       "      <td>2</td>\n",
       "      <td>0</td>\n",
       "      <td>(21.0, 39.0]</td>\n",
       "      <td>(20.0, 40.0]</td>\n",
       "    </tr>\n",
       "    <tr>\n",
       "      <th>790</th>\n",
       "      <td>791</td>\n",
       "      <td>0</td>\n",
       "      <td>3</td>\n",
       "      <td>Keane, Mr. Andrew \"Andy\"</td>\n",
       "      <td>male</td>\n",
       "      <td>30.0</td>\n",
       "      <td>0</td>\n",
       "      <td>0</td>\n",
       "      <td>12460</td>\n",
       "      <td>7.7500</td>\n",
       "      <td>NaN</td>\n",
       "      <td>Q</td>\n",
       "      <td>Mr</td>\n",
       "      <td>1</td>\n",
       "      <td>1</td>\n",
       "      <td>(-0.001, 7.0]</td>\n",
       "      <td>(20.0, 40.0]</td>\n",
       "    </tr>\n",
       "    <tr>\n",
       "      <th>438</th>\n",
       "      <td>439</td>\n",
       "      <td>0</td>\n",
       "      <td>1</td>\n",
       "      <td>Fortune, Mr. Mark</td>\n",
       "      <td>male</td>\n",
       "      <td>64.0</td>\n",
       "      <td>1</td>\n",
       "      <td>4</td>\n",
       "      <td>19950</td>\n",
       "      <td>263.0000</td>\n",
       "      <td>C23 C25 C27</td>\n",
       "      <td>S</td>\n",
       "      <td>Mr</td>\n",
       "      <td>6</td>\n",
       "      <td>0</td>\n",
       "      <td>(39.0, 512.0]</td>\n",
       "      <td>(60.0, 80.0]</td>\n",
       "    </tr>\n",
       "    <tr>\n",
       "      <th>481</th>\n",
       "      <td>482</td>\n",
       "      <td>0</td>\n",
       "      <td>2</td>\n",
       "      <td>Frost, Mr. Anthony Wood \"Archie\"</td>\n",
       "      <td>male</td>\n",
       "      <td>30.0</td>\n",
       "      <td>0</td>\n",
       "      <td>0</td>\n",
       "      <td>239854</td>\n",
       "      <td>0.0000</td>\n",
       "      <td>NaN</td>\n",
       "      <td>S</td>\n",
       "      <td>Mr</td>\n",
       "      <td>1</td>\n",
       "      <td>1</td>\n",
       "      <td>(-0.001, 7.0]</td>\n",
       "      <td>(20.0, 40.0]</td>\n",
       "    </tr>\n",
       "    <tr>\n",
       "      <th>452</th>\n",
       "      <td>453</td>\n",
       "      <td>0</td>\n",
       "      <td>1</td>\n",
       "      <td>Foreman, Mr. Benjamin Laventall</td>\n",
       "      <td>male</td>\n",
       "      <td>30.0</td>\n",
       "      <td>0</td>\n",
       "      <td>0</td>\n",
       "      <td>113051</td>\n",
       "      <td>27.7500</td>\n",
       "      <td>C111</td>\n",
       "      <td>C</td>\n",
       "      <td>Mr</td>\n",
       "      <td>1</td>\n",
       "      <td>1</td>\n",
       "      <td>(21.0, 39.0]</td>\n",
       "      <td>(20.0, 40.0]</td>\n",
       "    </tr>\n",
       "  </tbody>\n",
       "</table>\n",
       "</div>"
      ],
      "text/plain": [
       "     PassengerId  Survived  Pclass  \\\n",
       "384          385         0       3   \n",
       "210          211         0       3   \n",
       "486          487         1       1   \n",
       "425          426         0       3   \n",
       "855          856         1       3   \n",
       "109          110         1       3   \n",
       "790          791         0       3   \n",
       "438          439         0       1   \n",
       "481          482         0       2   \n",
       "452          453         0       1   \n",
       "\n",
       "                                                Name     Sex   Age  SibSp  \\\n",
       "384                           Plotcharsky, Mr. Vasil    male  30.0      0   \n",
       "210                                   Ali, Mr. Ahmed    male  24.0      0   \n",
       "486  Hoyt, Mrs. Frederick Maxfield (Jane Anne Forby)  female  35.0      1   \n",
       "425                           Wiseman, Mr. Phillippe    male  30.0      0   \n",
       "855                       Aks, Mrs. Sam (Leah Rosen)  female  18.0      0   \n",
       "109                              Moran, Miss. Bertha  female  21.0      1   \n",
       "790                         Keane, Mr. Andrew \"Andy\"    male  30.0      0   \n",
       "438                                Fortune, Mr. Mark    male  64.0      1   \n",
       "481                 Frost, Mr. Anthony Wood \"Archie\"    male  30.0      0   \n",
       "452                  Foreman, Mr. Benjamin Laventall    male  30.0      0   \n",
       "\n",
       "     Parch              Ticket      Fare        Cabin Embarked Title  \\\n",
       "384      0              349227    7.8958          NaN        S    Mr   \n",
       "210      0  SOTON/O.Q. 3101311    7.0500          NaN        S    Mr   \n",
       "486      0               19943   90.0000          C93        S   Mrs   \n",
       "425      0          A/4. 34244    7.2500          NaN        S    Mr   \n",
       "855      1              392091    9.3500          NaN        S   Mrs   \n",
       "109      0              371110   24.1500          NaN        Q  Miss   \n",
       "790      0               12460    7.7500          NaN        Q    Mr   \n",
       "438      4               19950  263.0000  C23 C25 C27        S    Mr   \n",
       "481      0              239854    0.0000          NaN        S    Mr   \n",
       "452      0              113051   27.7500         C111        C    Mr   \n",
       "\n",
       "     FamilySize  IsAlone        FareBin         AgeBin  \n",
       "384           1        1  (-0.001, 7.0]   (20.0, 40.0]  \n",
       "210           1        1  (-0.001, 7.0]   (20.0, 40.0]  \n",
       "486           2        0  (39.0, 512.0]   (20.0, 40.0]  \n",
       "425           1        1  (-0.001, 7.0]   (20.0, 40.0]  \n",
       "855           2        0    (7.0, 10.0]  (-0.08, 20.0]  \n",
       "109           2        0   (21.0, 39.0]   (20.0, 40.0]  \n",
       "790           1        1  (-0.001, 7.0]   (20.0, 40.0]  \n",
       "438           6        0  (39.0, 512.0]   (60.0, 80.0]  \n",
       "481           1        1  (-0.001, 7.0]   (20.0, 40.0]  \n",
       "452           1        1   (21.0, 39.0]   (20.0, 40.0]  "
      ]
     },
     "execution_count": 34,
     "metadata": {},
     "output_type": "execute_result"
    }
   ],
   "source": [
    "dataframe_train.sample(10)"
   ]
  },
  {
   "cell_type": "markdown",
   "metadata": {},
   "source": [
    "แต่ Column เยอะก็ใช่ว่าจะดี จะทำให้โมเดลสับสน เราจะใช้ AgeBin, FareBin แทนที่ Age และ Fare"
   ]
  },
  {
   "cell_type": "code",
   "execution_count": 35,
   "metadata": {},
   "outputs": [],
   "source": [
    "dependent_variable = 'Survived'\n",
    "category_column_names = ['Pclass', 'Sex', 'SibSp', 'Parch', 'Embarked', 'IsAlone', 'Title', 'FareBin', 'AgeBin']\n",
    "continuous_column_names = ['FamilySize']\n",
    "\n",
    "preprocesses = [FillMissing, Categorify, Normalize]"
   ]
  },
  {
   "cell_type": "code",
   "execution_count": null,
   "metadata": {},
   "outputs": [],
   "source": []
  },
  {
   "cell_type": "code",
   "execution_count": 36,
   "metadata": {},
   "outputs": [],
   "source": [
    "tabularlist_test = TabularList.from_df(dataframe_test, \n",
    "                           path=path, \n",
    "                           cat_names=category_column_names, \n",
    "                           cont_names=continuous_column_names, \n",
    "                           procs=preprocesses)"
   ]
  },
  {
   "cell_type": "code",
   "execution_count": 37,
   "metadata": {},
   "outputs": [],
   "source": [
    "databunch = (TabularList.from_df(dataframe_train, path=path, \n",
    "                                 cat_names=category_column_names, \n",
    "                                 cont_names=continuous_column_names, \n",
    "                                 procs=preprocesses)\n",
    "                           .split_by_idx(val_idx)\n",
    "                           .label_from_df(cols=dependent_variable)\n",
    "                           .add_test(tabularlist_test)\n",
    "                           .databunch(bs=batchsize))"
   ]
  },
  {
   "cell_type": "code",
   "execution_count": 38,
   "metadata": {},
   "outputs": [
    {
     "data": {
      "text/html": [
       "<table border=\"1\" class=\"dataframe\">\n",
       "  <thead>\n",
       "    <tr style=\"text-align: right;\">\n",
       "      <th>Pclass</th>\n",
       "      <th>Sex</th>\n",
       "      <th>SibSp</th>\n",
       "      <th>Parch</th>\n",
       "      <th>Embarked</th>\n",
       "      <th>IsAlone</th>\n",
       "      <th>Title</th>\n",
       "      <th>FareBin</th>\n",
       "      <th>AgeBin</th>\n",
       "      <th>FamilySize</th>\n",
       "      <th>target</th>\n",
       "    </tr>\n",
       "  </thead>\n",
       "  <tbody>\n",
       "    <tr>\n",
       "      <td>3</td>\n",
       "      <td>male</td>\n",
       "      <td>0</td>\n",
       "      <td>0</td>\n",
       "      <td>S</td>\n",
       "      <td>1</td>\n",
       "      <td>Mr</td>\n",
       "      <td>(-0.001, 7.0]</td>\n",
       "      <td>(40.0, 60.0]</td>\n",
       "      <td>-0.5534</td>\n",
       "      <td>0</td>\n",
       "    </tr>\n",
       "    <tr>\n",
       "      <td>3</td>\n",
       "      <td>male</td>\n",
       "      <td>0</td>\n",
       "      <td>0</td>\n",
       "      <td>S</td>\n",
       "      <td>1</td>\n",
       "      <td>Mr</td>\n",
       "      <td>(-0.001, 7.0]</td>\n",
       "      <td>(40.0, 60.0]</td>\n",
       "      <td>-0.5534</td>\n",
       "      <td>1</td>\n",
       "    </tr>\n",
       "    <tr>\n",
       "      <td>2</td>\n",
       "      <td>male</td>\n",
       "      <td>0</td>\n",
       "      <td>0</td>\n",
       "      <td>C</td>\n",
       "      <td>1</td>\n",
       "      <td>Mr</td>\n",
       "      <td>(10.0, 21.0]</td>\n",
       "      <td>(20.0, 40.0]</td>\n",
       "      <td>-0.5534</td>\n",
       "      <td>1</td>\n",
       "    </tr>\n",
       "    <tr>\n",
       "      <td>3</td>\n",
       "      <td>male</td>\n",
       "      <td>0</td>\n",
       "      <td>0</td>\n",
       "      <td>S</td>\n",
       "      <td>1</td>\n",
       "      <td>Mr</td>\n",
       "      <td>(-0.001, 7.0]</td>\n",
       "      <td>(20.0, 40.0]</td>\n",
       "      <td>-0.5534</td>\n",
       "      <td>0</td>\n",
       "    </tr>\n",
       "    <tr>\n",
       "      <td>1</td>\n",
       "      <td>male</td>\n",
       "      <td>0</td>\n",
       "      <td>0</td>\n",
       "      <td>S</td>\n",
       "      <td>1</td>\n",
       "      <td>Mr</td>\n",
       "      <td>(21.0, 39.0]</td>\n",
       "      <td>(20.0, 40.0]</td>\n",
       "      <td>-0.5534</td>\n",
       "      <td>0</td>\n",
       "    </tr>\n",
       "    <tr>\n",
       "      <td>3</td>\n",
       "      <td>female</td>\n",
       "      <td>0</td>\n",
       "      <td>0</td>\n",
       "      <td>S</td>\n",
       "      <td>1</td>\n",
       "      <td>Mrs</td>\n",
       "      <td>(7.0, 10.0]</td>\n",
       "      <td>(20.0, 40.0]</td>\n",
       "      <td>-0.5534</td>\n",
       "      <td>1</td>\n",
       "    </tr>\n",
       "    <tr>\n",
       "      <td>1</td>\n",
       "      <td>female</td>\n",
       "      <td>1</td>\n",
       "      <td>0</td>\n",
       "      <td>C</td>\n",
       "      <td>0</td>\n",
       "      <td>Mrs</td>\n",
       "      <td>(39.0, 512.0]</td>\n",
       "      <td>(40.0, 60.0]</td>\n",
       "      <td>0.0413</td>\n",
       "      <td>1</td>\n",
       "    </tr>\n",
       "    <tr>\n",
       "      <td>3</td>\n",
       "      <td>male</td>\n",
       "      <td>0</td>\n",
       "      <td>0</td>\n",
       "      <td>S</td>\n",
       "      <td>1</td>\n",
       "      <td>Mr</td>\n",
       "      <td>(-0.001, 7.0]</td>\n",
       "      <td>(60.0, 80.0]</td>\n",
       "      <td>-0.5534</td>\n",
       "      <td>0</td>\n",
       "    </tr>\n",
       "    <tr>\n",
       "      <td>3</td>\n",
       "      <td>male</td>\n",
       "      <td>0</td>\n",
       "      <td>0</td>\n",
       "      <td>C</td>\n",
       "      <td>1</td>\n",
       "      <td>Mr</td>\n",
       "      <td>(-0.001, 7.0]</td>\n",
       "      <td>(20.0, 40.0]</td>\n",
       "      <td>-0.5534</td>\n",
       "      <td>0</td>\n",
       "    </tr>\n",
       "    <tr>\n",
       "      <td>3</td>\n",
       "      <td>female</td>\n",
       "      <td>8</td>\n",
       "      <td>2</td>\n",
       "      <td>S</td>\n",
       "      <td>0</td>\n",
       "      <td>Miss</td>\n",
       "      <td>(39.0, 512.0]</td>\n",
       "      <td>(20.0, 40.0]</td>\n",
       "      <td>5.3940</td>\n",
       "      <td>0</td>\n",
       "    </tr>\n",
       "  </tbody>\n",
       "</table>"
      ],
      "text/plain": [
       "<IPython.core.display.HTML object>"
      ]
     },
     "metadata": {},
     "output_type": "display_data"
    }
   ],
   "source": [
    "databunch.show_batch(rows=10)"
   ]
  },
  {
   "cell_type": "markdown",
   "metadata": {},
   "source": [
    "# 4/2 สร้างโมเดล"
   ]
  },
  {
   "cell_type": "code",
   "execution_count": 39,
   "metadata": {},
   "outputs": [],
   "source": [
    "learner = tabular_learner(databunch, layers=layers,                                 \n",
    "                          metrics=accuracy, wd=wd, \n",
    "                          callback_fns=ShowGraph)"
   ]
  },
  {
   "cell_type": "markdown",
   "metadata": {},
   "source": [
    "# 5/2 เริ่มต้นเทรนโมเดล"
   ]
  },
  {
   "cell_type": "code",
   "execution_count": 40,
   "metadata": {
    "scrolled": false
   },
   "outputs": [
    {
     "data": {
      "text/html": [
       "<table border=\"1\" class=\"dataframe\">\n",
       "  <thead>\n",
       "    <tr style=\"text-align: left;\">\n",
       "      <th>epoch</th>\n",
       "      <th>train_loss</th>\n",
       "      <th>valid_loss</th>\n",
       "      <th>accuracy</th>\n",
       "      <th>time</th>\n",
       "    </tr>\n",
       "  </thead>\n",
       "  <tbody>\n",
       "    <tr>\n",
       "      <td>0</td>\n",
       "      <td>0.566387</td>\n",
       "      <td>0.674412</td>\n",
       "      <td>0.595000</td>\n",
       "      <td>00:00</td>\n",
       "    </tr>\n",
       "    <tr>\n",
       "      <td>1</td>\n",
       "      <td>0.518679</td>\n",
       "      <td>0.585143</td>\n",
       "      <td>0.685000</td>\n",
       "      <td>00:00</td>\n",
       "    </tr>\n",
       "    <tr>\n",
       "      <td>2</td>\n",
       "      <td>0.496762</td>\n",
       "      <td>0.452790</td>\n",
       "      <td>0.820000</td>\n",
       "      <td>00:00</td>\n",
       "    </tr>\n",
       "    <tr>\n",
       "      <td>3</td>\n",
       "      <td>0.479125</td>\n",
       "      <td>0.424862</td>\n",
       "      <td>0.800000</td>\n",
       "      <td>00:00</td>\n",
       "    </tr>\n",
       "    <tr>\n",
       "      <td>4</td>\n",
       "      <td>0.463817</td>\n",
       "      <td>0.441725</td>\n",
       "      <td>0.820000</td>\n",
       "      <td>00:00</td>\n",
       "    </tr>\n",
       "    <tr>\n",
       "      <td>5</td>\n",
       "      <td>0.443698</td>\n",
       "      <td>0.431364</td>\n",
       "      <td>0.815000</td>\n",
       "      <td>00:00</td>\n",
       "    </tr>\n",
       "    <tr>\n",
       "      <td>6</td>\n",
       "      <td>0.433917</td>\n",
       "      <td>0.431779</td>\n",
       "      <td>0.825000</td>\n",
       "      <td>00:00</td>\n",
       "    </tr>\n",
       "    <tr>\n",
       "      <td>7</td>\n",
       "      <td>0.418765</td>\n",
       "      <td>0.428341</td>\n",
       "      <td>0.815000</td>\n",
       "      <td>00:00</td>\n",
       "    </tr>\n",
       "  </tbody>\n",
       "</table>"
      ],
      "text/plain": [
       "<IPython.core.display.HTML object>"
      ]
     },
     "metadata": {},
     "output_type": "display_data"
    },
    {
     "data": {
      "image/png": "[encoded data removed]",
      "text/plain": [
       "<Figure size 432x288 with 1 Axes>"
      ]
     },
     "metadata": {},
     "output_type": "display_data"
    }
   ],
   "source": [
    "learner.fit_one_cycle(epoch, max_lr=lr)"
   ]
  },
  {
   "cell_type": "markdown",
   "metadata": {},
   "source": [
    "## สำเร็จแล้ว ##\n",
    "\n",
    "เพียงแค่เวลา 3 วินาที เราเทรน Model ได้ accuracy ประมาณ 0.82 หรือ ความแม่นยำประมาณ 82%"
   ]
  },
  {
   "cell_type": "markdown",
   "metadata": {},
   "source": [
    "# 6. ดูผลลัพธ์"
   ]
  },
  {
   "cell_type": "markdown",
   "metadata": {},
   "source": [
    "ลองดูข้อมูล Record ที่ 850"
   ]
  },
  {
   "cell_type": "code",
   "execution_count": 41,
   "metadata": {},
   "outputs": [
    {
     "data": {
      "text/plain": [
       "PassengerId                            667\n",
       "Survived                                 0\n",
       "Pclass                                   2\n",
       "Name           Butler, Mr. Reginald Fenton\n",
       "Sex                                   male\n",
       "Age                                     25\n",
       "SibSp                                    0\n",
       "Parch                                    0\n",
       "Ticket                              234686\n",
       "Fare                                    13\n",
       "Cabin                                  NaN\n",
       "Embarked                                 S\n",
       "Title                                   Mr\n",
       "FamilySize                               1\n",
       "IsAlone                                  1\n",
       "FareBin                       (10.0, 21.0]\n",
       "AgeBin                        (20.0, 40.0]\n",
       "Name: 666, dtype: object"
      ]
     },
     "execution_count": 41,
     "metadata": {},
     "output_type": "execute_result"
    }
   ],
   "source": [
    "row = dataframe_train.iloc[666]\n",
    "row"
   ]
  },
  {
   "cell_type": "markdown",
   "metadata": {},
   "source": [
    "ให้โมเดลทำนายกัน"
   ]
  },
  {
   "cell_type": "code",
   "execution_count": 42,
   "metadata": {},
   "outputs": [
    {
     "data": {
      "text/plain": [
       "(Category 0, tensor(0), tensor([0.8589, 0.1411]))"
      ]
     },
     "execution_count": 42,
     "metadata": {},
     "output_type": "execute_result"
    }
   ],
   "source": [
    "learner.predict(row)"
   ]
  },
  {
   "cell_type": "markdown",
   "metadata": {},
   "source": [
    "โมเดลทำนายได้ถูกต้อง"
   ]
  },
  {
   "cell_type": "markdown",
   "metadata": {},
   "source": [
    "ให้โมเดลทำนาย Test Set"
   ]
  },
  {
   "cell_type": "code",
   "execution_count": 43,
   "metadata": {},
   "outputs": [],
   "source": [
    "preds, _ = learner.get_preds(DatasetType.Test)"
   ]
  },
  {
   "cell_type": "markdown",
   "metadata": {},
   "source": [
    "เตรียม Save ไฟล์เพื่อส่งประกวด"
   ]
  },
  {
   "cell_type": "code",
   "execution_count": 44,
   "metadata": {},
   "outputs": [],
   "source": [
    "submission = pd.DataFrame({\n",
    "        \"PassengerId\": dataframe_test[\"PassengerId\"],\n",
    "        \"Survived\": preds.argmax(1).numpy()\n",
    "    })"
   ]
  },
  {
   "cell_type": "code",
   "execution_count": 45,
   "metadata": {},
   "outputs": [],
   "source": [
    "submission.to_csv(path/'submission.csv', index=False)"
   ]
  },
  {
   "cell_type": "markdown",
   "metadata": {},
   "source": [
    "รัน Cell ด้านล่างเพื่อส่งประกวด ในวันหนึ่งเราสามาถส่งได้แค่ 10 ครั้งเท่านั้น"
   ]
  },
  {
   "cell_type": "code",
   "execution_count": 47,
   "metadata": {},
   "outputs": [
    {
     "name": "stdout",
     "output_type": "stream",
     "text": [
      "100%|████████████████████████████████████████| 2.77k/2.77k [00:03<00:00, 929B/s]\n",
      "Successfully submitted to Titanic: Machine Learning from Disaster"
     ]
    }
   ],
   "source": [
    "# ! kaggle competitions submit titanic -f {path/'submission.csv'} -m \"My submission\""
   ]
  },
  {
   "cell_type": "markdown",
   "metadata": {},
   "source": [
    "## อันดับบน Leaderboard\n",
    "\n",
    "แล้วเราไปเปิดเว็บ หน้า Leader Board ดูผลคะแนนของเรา เมื่อทดสอบกับ Test Set\n",
    "\n",
    "\n",
    "| Name           | Submitted    | Wait time | Execution time | Score   |\n",
    "|----------------|--------------|-----------|----------------|---------|\n",
    "| submission.csv | 10 hours ago | 0 seconds | 1 seconds      | 0.80382 |\n",
    "\n",
    "\n",
    "เทียบกับคนอื่น จะเห็นว่าอยู่ประมาณ Top 10% อยู่ประมาณอันดับที่ 855-1154 จาก 11241\n",
    "\n",
    "\n",
    "| #    | Team Name     |   Score |\n",
    "|------|---------------|--------:|\n",
    "| 1152 | IGSLOCAL      | 0.80382 |\n",
    "| 1153 | Pavlo Fesenko | 0.80382 |\n",
    "| 1154 | gnoparus      | 0.80382 |\n",
    "| 1155 | sns0627       | 0.79904 |\n",
    "| 1156 | Diego Nieto   | 0.79904 |"
   ]
  },
  {
   "cell_type": "markdown",
   "metadata": {},
   "source": [
    "# 7. สรุป"
   ]
  },
  {
   "cell_type": "markdown",
   "metadata": {},
   "source": [
    "1. Feature Engineering สามารถช่วยให้โมเดล ค้นหาความหมายที่ซ่อนอยู่ในข้อมูลได้ง่ายขึ้น โดยเฉพาะถ้าเรามีข้อมูลไม่มาก \n",
    "1. เราไม่จำเป็นต้องมีความรู้ Domain Expert ลึกซึ้งมาก ก็สามารถทำ Feature Engineering ได้\n",
    "1. ระหว่างการทำ Feature Engineering การศึกษาความเป็นมาของข้อมูล และการ Plot กราฟดู Correlation กันระหว่าง Column จะช่วยได้มาก\n",
    "\n",
    "ใน ep ต่อไปเราจะพูดถึงการทำ Feature Engineering ข้อมูลประเภท Time Series"
   ]
  },
  {
   "cell_type": "markdown",
   "metadata": {},
   "source": [
    "# Credit \n",
    "\n",
    "* [Titanic: Machine Learning from Disaster](https://www.kaggle.com/c/titanic/)\n",
    "* [A Data Science Framework: To Achieve 99% Accuracy](https://www.kaggle.com/ldfreeman3/a-data-science-framework-to-achieve-99-accuracy)\n",
    "* [Titanic Data Science Solutions](https://www.kaggle.com/startupsci/titanic-data-science-solutions)\n",
    "* [What is the difference between pandas.qcut and pandas.cut](https://stackoverflow.com/questions/30211923/what-is-the-difference-between-pandas-qcut-and-pandas-cut)"
   ]
  },
  {
   "cell_type": "code",
   "execution_count": null,
   "metadata": {},
   "outputs": [],
   "source": []
  }
 ],
 "metadata": {
  "kernelspec": {
   "display_name": "Python 3",
   "language": "python",
   "name": "python3"
  },
  "language_info": {
   "codemirror_mode": {
    "name": "ipython",
    "version": 3
   },
   "file_extension": ".py",
   "mimetype": "text/x-python",
   "name": "python",
   "nbconvert_exporter": "python",
   "pygments_lexer": "ipython3",
   "version": "3.7.3"
  }
 },
 "nbformat": 4,
 "nbformat_minor": 2
}
