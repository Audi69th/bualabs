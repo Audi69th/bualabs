{
 "cells": [
  {
   "cell_type": "markdown",
   "metadata": {},
   "source": []
  },
  {
   "cell_type": "markdown",
   "metadata": {},
   "source": [
    "# 0. Magic Commands\n"
   ]
  },
  {
   "cell_type": "code",
   "execution_count": 1,
   "metadata": {},
   "outputs": [],
   "source": [
    "%reload_ext autoreload\n",
    "%autoreload 2\n",
    "%matplotlib inline"
   ]
  },
  {
   "cell_type": "markdown",
   "metadata": {},
   "source": [
    "# 1. Import Library"
   ]
  },
  {
   "cell_type": "code",
   "execution_count": 2,
   "metadata": {},
   "outputs": [],
   "source": [
    "from fastai import *\n",
    "from fastai.collab import *\n",
    "from fastai.tabular import *"
   ]
  },
  {
   "cell_type": "markdown",
   "metadata": {},
   "source": [
    "# 2. ข้อมูล"
   ]
  },
  {
   "cell_type": "markdown",
   "metadata": {},
   "source": [
    "ชุดข้อมูล MovieLens 100K Dataset\n",
    "\n",
    "MovieLens คือ ชุดข้อมูลที่คัดมาแล้วอย่างดี มี 100,000 ratings จาก 1000 users ให้คะแนนหนัง 1700 เรื่อง เมื่อ 4/1998\n",
    "\n",
    "ข้อมูลประกอบด้วย\n",
    "\n",
    "* 100,000 ratings (คะแนน 1-5 ดาว) จาก 943 users ให้คะแนนหนัง 1682 เรื่อง\n",
    "* Each user has rated at least 20 movies. \n",
    "* Simple demographic info for the users (age, gender, occupation, zip)\n",
    "\n"
   ]
  },
  {
   "cell_type": "markdown",
   "metadata": {},
   "source": [
    "รัน cell ด้านล่างเพื่อดาวน์โหลด [Movielen-100k](http://files.grouplens.org/datasets/movielens/ml-100k.zip) ไปใส่ไว้ที่ ~/.fastai/data/ml-100k แล้วแตกไฟล์"
   ]
  },
  {
   "cell_type": "code",
   "execution_count": 3,
   "metadata": {},
   "outputs": [],
   "source": [
    "# ! wget http://files.grouplens.org/datasets/movielens/ml-100k.zip \n",
    "# ! mv ./ml-100k.zip ~/.fastai/data\n",
    "# ! unzip ~/.fastai/data/ml-100k.zip -d ~/.fastai/data"
   ]
  },
  {
   "cell_type": "code",
   "execution_count": 4,
   "metadata": {},
   "outputs": [
    {
     "data": {
      "text/plain": [
       "PosixPath('/home/jupyter/.fastai/data/ml-100k')"
      ]
     },
     "execution_count": 4,
     "metadata": {},
     "output_type": "execute_result"
    }
   ],
   "source": [
    "path=Config.data_path()/'ml-100k'\n",
    "path"
   ]
  },
  {
   "cell_type": "markdown",
   "metadata": {},
   "source": [
    "ls ดูว่ามีไฟล์อะไรบ้าง"
   ]
  },
  {
   "cell_type": "code",
   "execution_count": 5,
   "metadata": {
    "scrolled": true
   },
   "outputs": [
    {
     "data": {
      "text/plain": [
       "[PosixPath('/home/jupyter/.fastai/data/ml-100k/ua.base'),\n",
       " PosixPath('/home/jupyter/.fastai/data/ml-100k/u1.base'),\n",
       " PosixPath('/home/jupyter/.fastai/data/ml-100k/u.user'),\n",
       " PosixPath('/home/jupyter/.fastai/data/ml-100k/u5.base'),\n",
       " PosixPath('/home/jupyter/.fastai/data/ml-100k/u.item'),\n",
       " PosixPath('/home/jupyter/.fastai/data/ml-100k/ub.base'),\n",
       " PosixPath('/home/jupyter/.fastai/data/ml-100k/u.info'),\n",
       " PosixPath('/home/jupyter/.fastai/data/ml-100k/ua.test'),\n",
       " PosixPath('/home/jupyter/.fastai/data/ml-100k/u2.test'),\n",
       " PosixPath('/home/jupyter/.fastai/data/ml-100k/u5.test'),\n",
       " PosixPath('/home/jupyter/.fastai/data/ml-100k/u.occupation'),\n",
       " PosixPath('/home/jupyter/.fastai/data/ml-100k/u4.base'),\n",
       " PosixPath('/home/jupyter/.fastai/data/ml-100k/u.genre'),\n",
       " PosixPath('/home/jupyter/.fastai/data/ml-100k/u3.test'),\n",
       " PosixPath('/home/jupyter/.fastai/data/ml-100k/u1.test'),\n",
       " PosixPath('/home/jupyter/.fastai/data/ml-100k/README'),\n",
       " PosixPath('/home/jupyter/.fastai/data/ml-100k/u.data'),\n",
       " PosixPath('/home/jupyter/.fastai/data/ml-100k/ub.test'),\n",
       " PosixPath('/home/jupyter/.fastai/data/ml-100k/u3.base'),\n",
       " PosixPath('/home/jupyter/.fastai/data/ml-100k/allbut.pl'),\n",
       " PosixPath('/home/jupyter/.fastai/data/ml-100k/u4.test'),\n",
       " PosixPath('/home/jupyter/.fastai/data/ml-100k/mku.sh'),\n",
       " PosixPath('/home/jupyter/.fastai/data/ml-100k/u2.base')]"
      ]
     },
     "execution_count": 5,
     "metadata": {},
     "output_type": "execute_result"
    }
   ],
   "source": [
    "path.ls()"
   ]
  },
  {
   "cell_type": "markdown",
   "metadata": {},
   "source": [
    "เนื่องจากข้อมูลไม่มี header เราต้องกำหนดชื่อ Column ให้เอง"
   ]
  },
  {
   "cell_type": "code",
   "execution_count": 6,
   "metadata": {},
   "outputs": [],
   "source": [
    "user, item, title = 'userId', 'movieId', 'title'"
   ]
  },
  {
   "cell_type": "markdown",
   "metadata": {},
   "source": [
    "โหลดไฟล์ u.data ขึ้นมาดู"
   ]
  },
  {
   "cell_type": "code",
   "execution_count": 7,
   "metadata": {},
   "outputs": [],
   "source": [
    "dataframe_ratings = pd.read_csv(path/'u.data', \n",
    "                                delimiter='\\t', header=None,\n",
    "                                names=[user,item,'rating','timestamp'])"
   ]
  },
  {
   "cell_type": "markdown",
   "metadata": {},
   "source": [
    "เปิดดู 5 แถวแรก"
   ]
  },
  {
   "cell_type": "code",
   "execution_count": 8,
   "metadata": {
    "scrolled": true
   },
   "outputs": [
    {
     "data": {
      "text/html": [
       "<div>\n",
       "<style scoped>\n",
       "    .dataframe tbody tr th:only-of-type {\n",
       "        vertical-align: middle;\n",
       "    }\n",
       "\n",
       "    .dataframe tbody tr th {\n",
       "        vertical-align: top;\n",
       "    }\n",
       "\n",
       "    .dataframe thead th {\n",
       "        text-align: right;\n",
       "    }\n",
       "</style>\n",
       "<table border=\"1\" class=\"dataframe\">\n",
       "  <thead>\n",
       "    <tr style=\"text-align: right;\">\n",
       "      <th></th>\n",
       "      <th>userId</th>\n",
       "      <th>movieId</th>\n",
       "      <th>rating</th>\n",
       "      <th>timestamp</th>\n",
       "    </tr>\n",
       "  </thead>\n",
       "  <tbody>\n",
       "    <tr>\n",
       "      <th>0</th>\n",
       "      <td>196</td>\n",
       "      <td>242</td>\n",
       "      <td>3</td>\n",
       "      <td>881250949</td>\n",
       "    </tr>\n",
       "    <tr>\n",
       "      <th>1</th>\n",
       "      <td>186</td>\n",
       "      <td>302</td>\n",
       "      <td>3</td>\n",
       "      <td>891717742</td>\n",
       "    </tr>\n",
       "    <tr>\n",
       "      <th>2</th>\n",
       "      <td>22</td>\n",
       "      <td>377</td>\n",
       "      <td>1</td>\n",
       "      <td>878887116</td>\n",
       "    </tr>\n",
       "    <tr>\n",
       "      <th>3</th>\n",
       "      <td>244</td>\n",
       "      <td>51</td>\n",
       "      <td>2</td>\n",
       "      <td>880606923</td>\n",
       "    </tr>\n",
       "    <tr>\n",
       "      <th>4</th>\n",
       "      <td>166</td>\n",
       "      <td>346</td>\n",
       "      <td>1</td>\n",
       "      <td>886397596</td>\n",
       "    </tr>\n",
       "  </tbody>\n",
       "</table>\n",
       "</div>"
      ],
      "text/plain": [
       "   userId  movieId  rating  timestamp\n",
       "0     196      242       3  881250949\n",
       "1     186      302       3  891717742\n",
       "2      22      377       1  878887116\n",
       "3     244       51       2  880606923\n",
       "4     166      346       1  886397596"
      ]
     },
     "execution_count": 8,
     "metadata": {},
     "output_type": "execute_result"
    }
   ],
   "source": [
    "dataframe_ratings.head()"
   ]
  },
  {
   "cell_type": "markdown",
   "metadata": {},
   "source": [
    "ดูสถิติของข้อมูล "
   ]
  },
  {
   "cell_type": "code",
   "execution_count": 9,
   "metadata": {},
   "outputs": [],
   "source": [
    "dataframe_ratings.userId = dataframe_ratings.userId.astype('category')\n",
    "dataframe_ratings.movieId = dataframe_ratings.movieId.astype('category')"
   ]
  },
  {
   "cell_type": "code",
   "execution_count": 10,
   "metadata": {},
   "outputs": [
    {
     "data": {
      "text/html": [
       "<div>\n",
       "<style scoped>\n",
       "    .dataframe tbody tr th:only-of-type {\n",
       "        vertical-align: middle;\n",
       "    }\n",
       "\n",
       "    .dataframe tbody tr th {\n",
       "        vertical-align: top;\n",
       "    }\n",
       "\n",
       "    .dataframe thead th {\n",
       "        text-align: right;\n",
       "    }\n",
       "</style>\n",
       "<table border=\"1\" class=\"dataframe\">\n",
       "  <thead>\n",
       "    <tr style=\"text-align: right;\">\n",
       "      <th></th>\n",
       "      <th>userId</th>\n",
       "      <th>movieId</th>\n",
       "      <th>rating</th>\n",
       "      <th>timestamp</th>\n",
       "    </tr>\n",
       "  </thead>\n",
       "  <tbody>\n",
       "    <tr>\n",
       "      <th>count</th>\n",
       "      <td>100000.0</td>\n",
       "      <td>100000.0</td>\n",
       "      <td>100000.000000</td>\n",
       "      <td>1.000000e+05</td>\n",
       "    </tr>\n",
       "    <tr>\n",
       "      <th>unique</th>\n",
       "      <td>943.0</td>\n",
       "      <td>1682.0</td>\n",
       "      <td>NaN</td>\n",
       "      <td>NaN</td>\n",
       "    </tr>\n",
       "    <tr>\n",
       "      <th>top</th>\n",
       "      <td>405.0</td>\n",
       "      <td>50.0</td>\n",
       "      <td>NaN</td>\n",
       "      <td>NaN</td>\n",
       "    </tr>\n",
       "    <tr>\n",
       "      <th>freq</th>\n",
       "      <td>737.0</td>\n",
       "      <td>583.0</td>\n",
       "      <td>NaN</td>\n",
       "      <td>NaN</td>\n",
       "    </tr>\n",
       "    <tr>\n",
       "      <th>mean</th>\n",
       "      <td>NaN</td>\n",
       "      <td>NaN</td>\n",
       "      <td>3.529860</td>\n",
       "      <td>8.835289e+08</td>\n",
       "    </tr>\n",
       "    <tr>\n",
       "      <th>std</th>\n",
       "      <td>NaN</td>\n",
       "      <td>NaN</td>\n",
       "      <td>1.125674</td>\n",
       "      <td>5.343856e+06</td>\n",
       "    </tr>\n",
       "    <tr>\n",
       "      <th>min</th>\n",
       "      <td>NaN</td>\n",
       "      <td>NaN</td>\n",
       "      <td>1.000000</td>\n",
       "      <td>8.747247e+08</td>\n",
       "    </tr>\n",
       "    <tr>\n",
       "      <th>25%</th>\n",
       "      <td>NaN</td>\n",
       "      <td>NaN</td>\n",
       "      <td>3.000000</td>\n",
       "      <td>8.794487e+08</td>\n",
       "    </tr>\n",
       "    <tr>\n",
       "      <th>50%</th>\n",
       "      <td>NaN</td>\n",
       "      <td>NaN</td>\n",
       "      <td>4.000000</td>\n",
       "      <td>8.828269e+08</td>\n",
       "    </tr>\n",
       "    <tr>\n",
       "      <th>75%</th>\n",
       "      <td>NaN</td>\n",
       "      <td>NaN</td>\n",
       "      <td>4.000000</td>\n",
       "      <td>8.882600e+08</td>\n",
       "    </tr>\n",
       "    <tr>\n",
       "      <th>max</th>\n",
       "      <td>NaN</td>\n",
       "      <td>NaN</td>\n",
       "      <td>5.000000</td>\n",
       "      <td>8.932866e+08</td>\n",
       "    </tr>\n",
       "  </tbody>\n",
       "</table>\n",
       "</div>"
      ],
      "text/plain": [
       "          userId   movieId         rating     timestamp\n",
       "count   100000.0  100000.0  100000.000000  1.000000e+05\n",
       "unique     943.0    1682.0            NaN           NaN\n",
       "top        405.0      50.0            NaN           NaN\n",
       "freq       737.0     583.0            NaN           NaN\n",
       "mean         NaN       NaN       3.529860  8.835289e+08\n",
       "std          NaN       NaN       1.125674  5.343856e+06\n",
       "min          NaN       NaN       1.000000  8.747247e+08\n",
       "25%          NaN       NaN       3.000000  8.794487e+08\n",
       "50%          NaN       NaN       4.000000  8.828269e+08\n",
       "75%          NaN       NaN       4.000000  8.882600e+08\n",
       "max          NaN       NaN       5.000000  8.932866e+08"
      ]
     },
     "execution_count": 10,
     "metadata": {},
     "output_type": "execute_result"
    }
   ],
   "source": [
    "dataframe_ratings.describe(include='all')"
   ]
  },
  {
   "cell_type": "markdown",
   "metadata": {},
   "source": [
    "เคสนี้ทุก Column เป็นตัวเลขทั้งหมด สังเกต rating\n",
    "\n",
    "1. count มีข้อมูล 100,000 Record แต่ละ Column เท่ากัน แสดงว่าข้อมูลครบสมบูรณ์\n",
    "2. mean คะแนนเฉลี่ย คือ 3.53\n",
    "3. std ค่าเบี่ยงเบนมาตรฐาน Standard Deviation คือ 1.12 แสดงว่าคะแนน 68% จะอยู่ระหว่าง 2.40 - 4.65\n",
    "4. min คะแนนต่ำสุด คือ 1\n",
    "5. max คะแนนสูงสุด คือ 5"
   ]
  },
  {
   "cell_type": "markdown",
   "metadata": {},
   "source": [
    "# 3. เตรียมข้อมูล\n",
    "\n"
   ]
  },
  {
   "cell_type": "markdown",
   "metadata": {},
   "source": []
  },
  {
   "cell_type": "markdown",
   "metadata": {},
   "source": [
    "## ข้อมูล Content"
   ]
  },
  {
   "cell_type": "markdown",
   "metadata": {},
   "source": [
    "ถ้าเราดูแต่ movieId ก็จะไม่รู้ว่าเป็นหนังเรื่องไหน เราจะไปดึงข้อมูล Master ของ Movie มา merge "
   ]
  },
  {
   "cell_type": "markdown",
   "metadata": {},
   "source": [
    "โหลดข้อมูล Movies ขึ้นมา จะมีหลาย Column เช่น title, date, url, genre g0, g1, g2, ... etc. หมายถึง ประเภทของหนัง เช่น Action, Romantic หรือ Sci-fi \n",
    "\n",
    "*ซึ่งเราสามารถนำข้อมูลเหล่านี้ ประกอบกับข้อมูล ผู้กำกับ ดารานำ ค่ายหนัง และ ข้อมูลผู้ใช้ เช่น เพศ อายุ เชื้อชาติ ที่อยู่ etc. มาใช้ในการทำ Content-based recommendation ได้ต่อไป*"
   ]
  },
  {
   "cell_type": "code",
   "execution_count": 11,
   "metadata": {},
   "outputs": [
    {
     "data": {
      "text/html": [
       "<div>\n",
       "<style scoped>\n",
       "    .dataframe tbody tr th:only-of-type {\n",
       "        vertical-align: middle;\n",
       "    }\n",
       "\n",
       "    .dataframe tbody tr th {\n",
       "        vertical-align: top;\n",
       "    }\n",
       "\n",
       "    .dataframe thead th {\n",
       "        text-align: right;\n",
       "    }\n",
       "</style>\n",
       "<table border=\"1\" class=\"dataframe\">\n",
       "  <thead>\n",
       "    <tr style=\"text-align: right;\">\n",
       "      <th></th>\n",
       "      <th>movieId</th>\n",
       "      <th>title</th>\n",
       "      <th>date</th>\n",
       "      <th>N</th>\n",
       "      <th>url</th>\n",
       "      <th>g0</th>\n",
       "      <th>g1</th>\n",
       "      <th>g2</th>\n",
       "      <th>g3</th>\n",
       "      <th>g4</th>\n",
       "      <th>...</th>\n",
       "      <th>g9</th>\n",
       "      <th>g10</th>\n",
       "      <th>g11</th>\n",
       "      <th>g12</th>\n",
       "      <th>g13</th>\n",
       "      <th>g14</th>\n",
       "      <th>g15</th>\n",
       "      <th>g16</th>\n",
       "      <th>g17</th>\n",
       "      <th>g18</th>\n",
       "    </tr>\n",
       "  </thead>\n",
       "  <tbody>\n",
       "    <tr>\n",
       "      <th>0</th>\n",
       "      <td>1</td>\n",
       "      <td>Toy Story (1995)</td>\n",
       "      <td>01-Jan-1995</td>\n",
       "      <td>NaN</td>\n",
       "      <td>http://us.imdb.com/M/title-exact?Toy%20Story%2...</td>\n",
       "      <td>0</td>\n",
       "      <td>0</td>\n",
       "      <td>0</td>\n",
       "      <td>1</td>\n",
       "      <td>1</td>\n",
       "      <td>...</td>\n",
       "      <td>0</td>\n",
       "      <td>0</td>\n",
       "      <td>0</td>\n",
       "      <td>0</td>\n",
       "      <td>0</td>\n",
       "      <td>0</td>\n",
       "      <td>0</td>\n",
       "      <td>0</td>\n",
       "      <td>0</td>\n",
       "      <td>0</td>\n",
       "    </tr>\n",
       "    <tr>\n",
       "      <th>1</th>\n",
       "      <td>2</td>\n",
       "      <td>GoldenEye (1995)</td>\n",
       "      <td>01-Jan-1995</td>\n",
       "      <td>NaN</td>\n",
       "      <td>http://us.imdb.com/M/title-exact?GoldenEye%20(...</td>\n",
       "      <td>0</td>\n",
       "      <td>1</td>\n",
       "      <td>1</td>\n",
       "      <td>0</td>\n",
       "      <td>0</td>\n",
       "      <td>...</td>\n",
       "      <td>0</td>\n",
       "      <td>0</td>\n",
       "      <td>0</td>\n",
       "      <td>0</td>\n",
       "      <td>0</td>\n",
       "      <td>0</td>\n",
       "      <td>0</td>\n",
       "      <td>1</td>\n",
       "      <td>0</td>\n",
       "      <td>0</td>\n",
       "    </tr>\n",
       "    <tr>\n",
       "      <th>2</th>\n",
       "      <td>3</td>\n",
       "      <td>Four Rooms (1995)</td>\n",
       "      <td>01-Jan-1995</td>\n",
       "      <td>NaN</td>\n",
       "      <td>http://us.imdb.com/M/title-exact?Four%20Rooms%...</td>\n",
       "      <td>0</td>\n",
       "      <td>0</td>\n",
       "      <td>0</td>\n",
       "      <td>0</td>\n",
       "      <td>0</td>\n",
       "      <td>...</td>\n",
       "      <td>0</td>\n",
       "      <td>0</td>\n",
       "      <td>0</td>\n",
       "      <td>0</td>\n",
       "      <td>0</td>\n",
       "      <td>0</td>\n",
       "      <td>0</td>\n",
       "      <td>1</td>\n",
       "      <td>0</td>\n",
       "      <td>0</td>\n",
       "    </tr>\n",
       "    <tr>\n",
       "      <th>3</th>\n",
       "      <td>4</td>\n",
       "      <td>Get Shorty (1995)</td>\n",
       "      <td>01-Jan-1995</td>\n",
       "      <td>NaN</td>\n",
       "      <td>http://us.imdb.com/M/title-exact?Get%20Shorty%...</td>\n",
       "      <td>0</td>\n",
       "      <td>1</td>\n",
       "      <td>0</td>\n",
       "      <td>0</td>\n",
       "      <td>0</td>\n",
       "      <td>...</td>\n",
       "      <td>0</td>\n",
       "      <td>0</td>\n",
       "      <td>0</td>\n",
       "      <td>0</td>\n",
       "      <td>0</td>\n",
       "      <td>0</td>\n",
       "      <td>0</td>\n",
       "      <td>0</td>\n",
       "      <td>0</td>\n",
       "      <td>0</td>\n",
       "    </tr>\n",
       "    <tr>\n",
       "      <th>4</th>\n",
       "      <td>5</td>\n",
       "      <td>Copycat (1995)</td>\n",
       "      <td>01-Jan-1995</td>\n",
       "      <td>NaN</td>\n",
       "      <td>http://us.imdb.com/M/title-exact?Copycat%20(1995)</td>\n",
       "      <td>0</td>\n",
       "      <td>0</td>\n",
       "      <td>0</td>\n",
       "      <td>0</td>\n",
       "      <td>0</td>\n",
       "      <td>...</td>\n",
       "      <td>0</td>\n",
       "      <td>0</td>\n",
       "      <td>0</td>\n",
       "      <td>0</td>\n",
       "      <td>0</td>\n",
       "      <td>0</td>\n",
       "      <td>0</td>\n",
       "      <td>1</td>\n",
       "      <td>0</td>\n",
       "      <td>0</td>\n",
       "    </tr>\n",
       "  </tbody>\n",
       "</table>\n",
       "<p>5 rows × 24 columns</p>\n",
       "</div>"
      ],
      "text/plain": [
       "   movieId              title         date   N  \\\n",
       "0        1   Toy Story (1995)  01-Jan-1995 NaN   \n",
       "1        2   GoldenEye (1995)  01-Jan-1995 NaN   \n",
       "2        3  Four Rooms (1995)  01-Jan-1995 NaN   \n",
       "3        4  Get Shorty (1995)  01-Jan-1995 NaN   \n",
       "4        5     Copycat (1995)  01-Jan-1995 NaN   \n",
       "\n",
       "                                                 url  g0  g1  g2  g3  g4  ...  \\\n",
       "0  http://us.imdb.com/M/title-exact?Toy%20Story%2...   0   0   0   1   1  ...   \n",
       "1  http://us.imdb.com/M/title-exact?GoldenEye%20(...   0   1   1   0   0  ...   \n",
       "2  http://us.imdb.com/M/title-exact?Four%20Rooms%...   0   0   0   0   0  ...   \n",
       "3  http://us.imdb.com/M/title-exact?Get%20Shorty%...   0   1   0   0   0  ...   \n",
       "4  http://us.imdb.com/M/title-exact?Copycat%20(1995)   0   0   0   0   0  ...   \n",
       "\n",
       "   g9  g10  g11  g12  g13  g14  g15  g16  g17  g18  \n",
       "0   0    0    0    0    0    0    0    0    0    0  \n",
       "1   0    0    0    0    0    0    0    1    0    0  \n",
       "2   0    0    0    0    0    0    0    1    0    0  \n",
       "3   0    0    0    0    0    0    0    0    0    0  \n",
       "4   0    0    0    0    0    0    0    1    0    0  \n",
       "\n",
       "[5 rows x 24 columns]"
      ]
     },
     "execution_count": 11,
     "metadata": {},
     "output_type": "execute_result"
    }
   ],
   "source": [
    "dataframe_movies = pd.read_csv(path/'u.item',  delimiter='|', encoding='latin-1', header=None,\n",
    "                    names=[item, 'title', 'date', 'N', 'url', *[f'g{i}' for i in range(19)]])\n",
    "dataframe_movies.head()"
   ]
  },
  {
   "cell_type": "markdown",
   "metadata": {},
   "source": [
    "Merge ข้อมูล โดยเอา item, title จาก Movies มาแปะ ดูตาม item ในที่นี้คือ movieId"
   ]
  },
  {
   "cell_type": "code",
   "execution_count": 12,
   "metadata": {},
   "outputs": [],
   "source": [
    "dataframe_rating_movie = dataframe_ratings.merge(dataframe_movies[[item, title]])"
   ]
  },
  {
   "cell_type": "markdown",
   "metadata": {},
   "source": [
    "เราลองมาดูคะแนนของ Toy Story (1995) ภาคแรก 5 คะแนนแรก\n",
    "\n",
    "*การใช้ pandas dataframe filter เช่น df[df.id==1] จะอธิบายต่อไป*"
   ]
  },
  {
   "cell_type": "code",
   "execution_count": 13,
   "metadata": {},
   "outputs": [
    {
     "data": {
      "text/html": [
       "<div>\n",
       "<style scoped>\n",
       "    .dataframe tbody tr th:only-of-type {\n",
       "        vertical-align: middle;\n",
       "    }\n",
       "\n",
       "    .dataframe tbody tr th {\n",
       "        vertical-align: top;\n",
       "    }\n",
       "\n",
       "    .dataframe thead th {\n",
       "        text-align: right;\n",
       "    }\n",
       "</style>\n",
       "<table border=\"1\" class=\"dataframe\">\n",
       "  <thead>\n",
       "    <tr style=\"text-align: right;\">\n",
       "      <th></th>\n",
       "      <th>userId</th>\n",
       "      <th>movieId</th>\n",
       "      <th>rating</th>\n",
       "      <th>timestamp</th>\n",
       "      <th>title</th>\n",
       "    </tr>\n",
       "  </thead>\n",
       "  <tbody>\n",
       "    <tr>\n",
       "      <th>3397</th>\n",
       "      <td>308</td>\n",
       "      <td>1</td>\n",
       "      <td>4</td>\n",
       "      <td>887736532</td>\n",
       "      <td>Toy Story (1995)</td>\n",
       "    </tr>\n",
       "    <tr>\n",
       "      <th>3398</th>\n",
       "      <td>287</td>\n",
       "      <td>1</td>\n",
       "      <td>5</td>\n",
       "      <td>875334088</td>\n",
       "      <td>Toy Story (1995)</td>\n",
       "    </tr>\n",
       "    <tr>\n",
       "      <th>3399</th>\n",
       "      <td>148</td>\n",
       "      <td>1</td>\n",
       "      <td>4</td>\n",
       "      <td>877019411</td>\n",
       "      <td>Toy Story (1995)</td>\n",
       "    </tr>\n",
       "    <tr>\n",
       "      <th>3400</th>\n",
       "      <td>280</td>\n",
       "      <td>1</td>\n",
       "      <td>4</td>\n",
       "      <td>891700426</td>\n",
       "      <td>Toy Story (1995)</td>\n",
       "    </tr>\n",
       "    <tr>\n",
       "      <th>3401</th>\n",
       "      <td>66</td>\n",
       "      <td>1</td>\n",
       "      <td>3</td>\n",
       "      <td>883601324</td>\n",
       "      <td>Toy Story (1995)</td>\n",
       "    </tr>\n",
       "  </tbody>\n",
       "</table>\n",
       "</div>"
      ],
      "text/plain": [
       "     userId  movieId  rating  timestamp             title\n",
       "3397    308        1       4  887736532  Toy Story (1995)\n",
       "3398    287        1       5  875334088  Toy Story (1995)\n",
       "3399    148        1       4  877019411  Toy Story (1995)\n",
       "3400    280        1       4  891700426  Toy Story (1995)\n",
       "3401     66        1       3  883601324  Toy Story (1995)"
      ]
     },
     "execution_count": 13,
     "metadata": {},
     "output_type": "execute_result"
    }
   ],
   "source": [
    "dataframe_rating_movie[dataframe_rating_movie.movieId==1].head()"
   ]
  },
  {
   "cell_type": "markdown",
   "metadata": {},
   "source": [
    "สร้าง databunch แบ่งข้อมูลไว้เป็น Validation Set 10%"
   ]
  },
  {
   "cell_type": "code",
   "execution_count": 14,
   "metadata": {},
   "outputs": [],
   "source": [
    "databunch = CollabDataBunch.from_df(dataframe_rating_movie, \n",
    "                                    seed=42, valid_pct=0.1,                                     \n",
    "                                    item_name=title)"
   ]
  },
  {
   "cell_type": "markdown",
   "metadata": {},
   "source": [
    "## สำรวจข้อมูล ##\n",
    "\n",
    "\n",
    "*เราสามารถรัน cell นี้หลายครั้ง เพื่อเรียกดู batch ต่อ ๆ ไป ได้เรื่อย ๆ เป็นการสำรวจข้อมูล*"
   ]
  },
  {
   "cell_type": "code",
   "execution_count": 15,
   "metadata": {},
   "outputs": [
    {
     "data": {
      "text/html": [
       "<table border=\"1\" class=\"dataframe\">\n",
       "  <thead>\n",
       "    <tr style=\"text-align: right;\">\n",
       "      <th>userId</th>\n",
       "      <th>title</th>\n",
       "      <th>target</th>\n",
       "    </tr>\n",
       "  </thead>\n",
       "  <tbody>\n",
       "    <tr>\n",
       "      <td>30</td>\n",
       "      <td>Contact (1997)</td>\n",
       "      <td>5.0</td>\n",
       "    </tr>\n",
       "    <tr>\n",
       "      <td>429</td>\n",
       "      <td>Sleepers (1996)</td>\n",
       "      <td>3.0</td>\n",
       "    </tr>\n",
       "    <tr>\n",
       "      <td>641</td>\n",
       "      <td>Belle de jour (1967)</td>\n",
       "      <td>4.0</td>\n",
       "    </tr>\n",
       "    <tr>\n",
       "      <td>861</td>\n",
       "      <td>Evita (1996)</td>\n",
       "      <td>5.0</td>\n",
       "    </tr>\n",
       "    <tr>\n",
       "      <td>556</td>\n",
       "      <td>Rear Window (1954)</td>\n",
       "      <td>5.0</td>\n",
       "    </tr>\n",
       "  </tbody>\n",
       "</table>"
      ],
      "text/plain": [
       "<IPython.core.display.HTML object>"
      ]
     },
     "metadata": {},
     "output_type": "display_data"
    }
   ],
   "source": [
    "databunch.show_batch()"
   ]
  },
  {
   "cell_type": "markdown",
   "metadata": {},
   "source": [
    "# 4. สร้างโมเดล"
   ]
  },
  {
   "cell_type": "markdown",
   "metadata": {},
   "source": [
    "จริง ๆ Rating ใน Dataset มีค่าตั้งแต่ 1-5 แต่เรากำหนดให้โมเดล มีช่วง Output y เป็น 0-5.5 กว้างกว่าความเป็นจริงนิดหน่อย จะทำให้โมเดลทำงานง่ายขึ้น"
   ]
  },
  {
   "cell_type": "code",
   "execution_count": 16,
   "metadata": {},
   "outputs": [],
   "source": [
    "y_range = [0,5.5]"
   ]
  },
  {
   "cell_type": "markdown",
   "metadata": {},
   "source": []
  },
  {
   "cell_type": "code",
   "execution_count": 17,
   "metadata": {},
   "outputs": [],
   "source": [
    "learner = collab_learner(databunch, n_factors=50, \n",
    "                         y_range=y_range, wd=1e-1, \n",
    "                         callback_fns=ShowGraph)"
   ]
  },
  {
   "cell_type": "markdown",
   "metadata": {},
   "source": [
    "# 5. เริ่มต้นเทรนโมเดล\n",
    "\n",
    "เทรนด้วยค่า Default ไป 5 Cycle สามารถใช้ Learning Rate สูง ๆ ได้เลย"
   ]
  },
  {
   "cell_type": "code",
   "execution_count": 18,
   "metadata": {
    "scrolled": false
   },
   "outputs": [
    {
     "data": {
      "text/html": [
       "<table border=\"1\" class=\"dataframe\">\n",
       "  <thead>\n",
       "    <tr style=\"text-align: left;\">\n",
       "      <th>epoch</th>\n",
       "      <th>train_loss</th>\n",
       "      <th>valid_loss</th>\n",
       "      <th>time</th>\n",
       "    </tr>\n",
       "  </thead>\n",
       "  <tbody>\n",
       "    <tr>\n",
       "      <td>0</td>\n",
       "      <td>0.973297</td>\n",
       "      <td>0.933883</td>\n",
       "      <td>00:12</td>\n",
       "    </tr>\n",
       "    <tr>\n",
       "      <td>1</td>\n",
       "      <td>0.864168</td>\n",
       "      <td>0.889755</td>\n",
       "      <td>00:12</td>\n",
       "    </tr>\n",
       "    <tr>\n",
       "      <td>2</td>\n",
       "      <td>0.759486</td>\n",
       "      <td>0.836954</td>\n",
       "      <td>00:13</td>\n",
       "    </tr>\n",
       "    <tr>\n",
       "      <td>3</td>\n",
       "      <td>0.609546</td>\n",
       "      <td>0.818734</td>\n",
       "      <td>00:12</td>\n",
       "    </tr>\n",
       "    <tr>\n",
       "      <td>4</td>\n",
       "      <td>0.512218</td>\n",
       "      <td>0.819158</td>\n",
       "      <td>00:13</td>\n",
       "    </tr>\n",
       "  </tbody>\n",
       "</table>"
      ],
      "text/plain": [
       "<IPython.core.display.HTML object>"
      ]
     },
     "metadata": {},
     "output_type": "display_data"
    },
    {
     "data": {
      "image/png": "[encoded data removed]",
      "text/plain": [
       "<Figure size 432x288 with 1 Axes>"
      ]
     },
     "metadata": {},
     "output_type": "display_data"
    }
   ],
   "source": [
    "learner.fit_one_cycle(5, 5e-3)"
   ]
  },
  {
   "cell_type": "markdown",
   "metadata": {},
   "source": [
    "## สำเร็จแล้ว ##\n",
    "\n",
    "เพียงแค่เวลา 1 นาที เราเทรน Model เรียบร้อย เราจะมาดูผลลัพธ์กัน\n",
    "\n",
    "*ในระบบจริงที่มี User และ Item จำนวนหลายล้าน เวลาที่ใช้ก็จะเพิ่มเป็นหลายชั่วโมง หรือหลายวัน ยังไม่รวมถึงเมื่อมี User และ Item ใหม่เข้ามาเพิ่มเรื่อย ๆ*"
   ]
  },
  {
   "cell_type": "code",
   "execution_count": 19,
   "metadata": {},
   "outputs": [],
   "source": [
    "learner.save(\"06a-collab-filter\")"
   ]
  },
  {
   "cell_type": "code",
   "execution_count": 20,
   "metadata": {},
   "outputs": [],
   "source": [
    "learner.load(\"06a-collab-filter\");"
   ]
  },
  {
   "cell_type": "markdown",
   "metadata": {},
   "source": [
    "# 7. ดูผลลัพธ์"
   ]
  },
  {
   "cell_type": "markdown",
   "metadata": {},
   "source": [
    "การวิเคราะห์ Embeding ที่มีหลายมิติ อย่างในเคสนี้เรานี้มี 50 มิติ ส่วนใหญ่เราจะใช้วิธีทางคณิตศาสตร์ เช่น t-SNE, pca, svd ลดมิติของข้อมูลลงให้เหลือ 3-4 มิติ เพื่อให้เรามาพล็อตกราฟแบบต่าง ๆ ตีความได้ "
   ]
  },
  {
   "cell_type": "markdown",
   "metadata": {},
   "source": [
    "## ดูโมเดล \n",
    "\n",
    "ดูภายในโมเดล หลังจากเทรนเรียบร้อยแล้ว เราจะได้ Embedding ดังนี้\n",
    "\n",
    "1. Weight สำหรับ User และ Item (Movie) ขนาดเท่ากับ จำนวนข้อมูล x n_factors (50)\n",
    "2. Bias สำหรับ User และ Item (Movie) ขนาดเท่ากับ จำนวนข้อมูล x 1\n",
    "\n",
    "เนื่องจากเราไม่รู้ว่า User เป็นใครบ้าง แต่เราพอรู้จักหนัง Movie อยู่บ้าง เราจะเอา Weight, Bias ทั้ง 2 อย่าง ของเฉพาะ Movie มาตีความต่อไป"
   ]
  },
  {
   "cell_type": "code",
   "execution_count": 21,
   "metadata": {
    "scrolled": true
   },
   "outputs": [
    {
     "data": {
      "text/plain": [
       "EmbeddingDotBias(\n",
       "  (u_weight): Embedding(944, 50)\n",
       "  (i_weight): Embedding(1654, 50)\n",
       "  (u_bias): Embedding(944, 1)\n",
       "  (i_bias): Embedding(1654, 1)\n",
       ")"
      ]
     },
     "execution_count": 21,
     "metadata": {},
     "output_type": "execute_result"
    }
   ],
   "source": [
    "learner.model"
   ]
  },
  {
   "cell_type": "markdown",
   "metadata": {},
   "source": [
    "## ดูรีวิวหนัง "
   ]
  },
  {
   "cell_type": "markdown",
   "metadata": {},
   "source": [
    "เนื่องจากหนังใน Dataset มีถึง 1654 แต่หนังหลาย ๆ เรื่องมีคนรีวิวไม่กี่คน อาจจะทำให้คะแนนแกว่งได้ \n",
    "\n",
    "เรามาลองดูจำนวนรีวิวของหนังแต่ละเรื่อง สังเกตว่าหนังบางเรื่องที่ไม่ดัง มีคนรีวิวแค่ 4-5 คนเท่านั้น"
   ]
  },
  {
   "cell_type": "code",
   "execution_count": 22,
   "metadata": {},
   "outputs": [
    {
     "data": {
      "text/plain": [
       "title\n",
       "'Til There Was You (1997)                        9\n",
       "1-900 (1994)                                     5\n",
       "101 Dalmatians (1996)                          109\n",
       "12 Angry Men (1957)                            125\n",
       "187 (1997)                                      41\n",
       "2 Days in the Valley (1996)                     93\n",
       "20,000 Leagues Under the Sea (1954)             72\n",
       "2001: A Space Odyssey (1968)                   259\n",
       "3 Ninjas: High Noon At Mega Mountain (1998)      5\n",
       "39 Steps, The (1935)                            59\n",
       "8 1/2 (1963)                                    38\n",
       "8 Heads in a Duffel Bag (1997)                   4\n",
       "8 Seconds (1994)                                 4\n",
       "A Chef in Love (1996)                            8\n",
       "Above the Rim (1994)                             5\n",
       "Absolute Power (1997)                          127\n",
       "Abyss, The (1989)                              151\n",
       "Ace Ventura: Pet Detective (1994)              103\n",
       "Ace Ventura: When Nature Calls (1995)           37\n",
       "Across the Sea of Time (1995)                    4\n",
       "Name: rating, dtype: int64"
      ]
     },
     "execution_count": 22,
     "metadata": {},
     "output_type": "execute_result"
    }
   ],
   "source": [
    "movie_review_count = dataframe_rating_movie.groupby(title)['rating'].count()\n",
    "movie_review_count[:20]"
   ]
  },
  {
   "cell_type": "markdown",
   "metadata": {},
   "source": [
    "เราจะมาคัดเฉพาะหนังน่าสนใจ ไม่ได้หมายถึงว่าหนังดี หรือหนังไม่ดี แต่หมายถึง หนังที่มีจำนวนคนเข้าไปรีวิวมากที่สุด 1000 อันดับแรก \n",
    "\n",
    "แสดงหัวท้าย ชื่อหนัง พร้อมจำนวนรีวิว "
   ]
  },
  {
   "cell_type": "code",
   "execution_count": 23,
   "metadata": {
    "scrolled": false
   },
   "outputs": [
    {
     "data": {
      "text/plain": [
       "(title\n",
       " Star Wars (1977)                 583\n",
       " Contact (1997)                   509\n",
       " Fargo (1996)                     508\n",
       " Return of the Jedi (1983)        507\n",
       " Liar Liar (1997)                 485\n",
       " English Patient, The (1996)      481\n",
       " Scream (1996)                    478\n",
       " Toy Story (1995)                 452\n",
       " Air Force One (1997)             431\n",
       " Independence Day (ID4) (1996)    429\n",
       " Name: rating, dtype: int64, title\n",
       " Waiting to Exhale (1995)               16\n",
       " Ruling Class, The (1972)               16\n",
       " Gang Related (1997)                    16\n",
       " Exit to Eden (1994)                    16\n",
       " Bad Taste (1987)                       16\n",
       " Selena (1997)                          16\n",
       " In the Bleak Midwinter (1995)          16\n",
       " Party Girl (1995)                      16\n",
       " Highlander III: The Sorcerer (1994)    16\n",
       " Bastard Out of Carolina (1996)         16\n",
       " Name: rating, dtype: int64)"
      ]
     },
     "execution_count": 23,
     "metadata": {},
     "output_type": "execute_result"
    }
   ],
   "source": [
    "top_movies = movie_review_count.sort_values(ascending=False)[:1000]\n",
    "top_movies[:10], top_movies[-10:]"
   ]
  },
  {
   "cell_type": "markdown",
   "metadata": {},
   "source": [
    "จะเห็นว่า หนังเรื่อง Star Wars (1977) จำนวนรีวิวมากสุด 583 น้อยสุดกลายเป็น 16 เพราะเราตัดที่ 1000\n",
    "\n",
    "เราจะเอารายชื่อหนัง 1000 เรื่องนี้ดึง Embedding มาตีความดู ว่าจะตรงกับความเข้าใจของเราไหม"
   ]
  },
  {
   "cell_type": "markdown",
   "metadata": {},
   "source": [
    "## ตีความจาก Bias ของ Movie Embeding "
   ]
  },
  {
   "cell_type": "markdown",
   "metadata": {},
   "source": [
    "Bias มีมิติเดียว และเรียกได้ว่าเป็นตัวบวก/ลบ มีผลกับ Rating ตรง ๆ เลย ทำให้เราตีความได้ว่า \n",
    "\n",
    "* Bias มาก = Rating สูง หนังดี\n",
    "* Bias น้อย = Rating ต่ำ หนังไม่ดี"
   ]
  },
  {
   "cell_type": "markdown",
   "metadata": {},
   "source": [
    "ดึง Bias ออกมาจากโมเดล"
   ]
  },
  {
   "cell_type": "code",
   "execution_count": 24,
   "metadata": {},
   "outputs": [
    {
     "data": {
      "text/plain": [
       "torch.Size([1000])"
      ]
     },
     "execution_count": 24,
     "metadata": {},
     "output_type": "execute_result"
    }
   ],
   "source": [
    "movie_bias = learner.bias(top_movies.index, is_item=True)\n",
    "movie_bias.shape"
   ]
  },
  {
   "cell_type": "markdown",
   "metadata": {},
   "source": [
    "ดึง Rating เฉลี่ยของหนังแต่ละเรื่อง จาก Dataset\n",
    "\n",
    "เอามาใส่ใน Tuple ดังนี้ Bias, ชื่อหนัง, Rating เฉลี่ย"
   ]
  },
  {
   "cell_type": "code",
   "execution_count": 25,
   "metadata": {},
   "outputs": [],
   "source": [
    "mean_ratings = dataframe_rating_movie.groupby(title)['rating'].mean()\n",
    "movie_ratings = [(b, i, mean_ratings.loc[i]) for i,b in zip(top_movies.index,movie_bias)]"
   ]
  },
  {
   "cell_type": "markdown",
   "metadata": {},
   "source": [
    "ประกาศฟังก์ชันที่ return Column แรก เอาไว้ใช้สำหรับ Sort เรียงตาม Column แรก"
   ]
  },
  {
   "cell_type": "code",
   "execution_count": 26,
   "metadata": {},
   "outputs": [],
   "source": [
    "item0 = lambda o:o[0]"
   ]
  },
  {
   "cell_type": "markdown",
   "metadata": {},
   "source": [
    "แสดงเรียงตาม Bias มากไปน้อย 15 อันดับแรก \n",
    "\n",
    "จะเห็นว่า หนังดี ได้รางวัลเกือบทั้งนั้น"
   ]
  },
  {
   "cell_type": "code",
   "execution_count": 27,
   "metadata": {},
   "outputs": [
    {
     "data": {
      "text/plain": [
       "[(tensor(0.6035), 'Titanic (1997)', 4.2457142857142856),\n",
       " (tensor(0.5865), 'Shawshank Redemption, The (1994)', 4.445229681978798),\n",
       " (tensor(0.5560), \"Schindler's List (1993)\", 4.466442953020135),\n",
       " (tensor(0.5475), 'L.A. Confidential (1997)', 4.161616161616162),\n",
       " (tensor(0.5424), 'Silence of the Lambs, The (1991)', 4.28974358974359),\n",
       " (tensor(0.5370), 'Rear Window (1954)', 4.3875598086124405),\n",
       " (tensor(0.5295), 'Good Will Hunting (1997)', 4.262626262626263),\n",
       " (tensor(0.5106), 'Star Wars (1977)', 4.3584905660377355),\n",
       " (tensor(0.4925), 'Casablanca (1942)', 4.45679012345679),\n",
       " (tensor(0.4803), 'As Good As It Gets (1997)', 4.196428571428571),\n",
       " (tensor(0.4765), 'Vertigo (1958)', 4.251396648044692),\n",
       " (tensor(0.4548), 'Usual Suspects, The (1995)', 4.385767790262173),\n",
       " (tensor(0.4502), 'Much Ado About Nothing (1993)', 4.0625),\n",
       " (tensor(0.4457), 'To Kill a Mockingbird (1962)', 4.292237442922374),\n",
       " (tensor(0.4399), 'Fugitive, The (1993)', 4.044642857142857)]"
      ]
     },
     "execution_count": 27,
     "metadata": {},
     "output_type": "execute_result"
    }
   ],
   "source": [
    "sorted(movie_ratings, key=lambda o: o[0], reverse=True)[:15]"
   ]
  },
  {
   "cell_type": "markdown",
   "metadata": {},
   "source": [
    "แสดงเรียงตาม Bias น้อยไปมาก (ติดลบ) 15 อันดับแรก\n",
    "\n",
    "จะเห็นว่า หนังไม่ค่อยดี ได้รับรางวัลมะเขือเน่าก็หลายเรื่อง"
   ]
  },
  {
   "cell_type": "code",
   "execution_count": 28,
   "metadata": {
    "scrolled": true
   },
   "outputs": [
    {
     "data": {
      "text/plain": [
       "[(tensor(-0.3373),\n",
       "  'Children of the Corn: The Gathering (1996)',\n",
       "  1.3157894736842106),\n",
       " (tensor(-0.3019),\n",
       "  'Lawnmower Man 2: Beyond Cyberspace (1996)',\n",
       "  1.7142857142857142),\n",
       " (tensor(-0.2868), 'Mortal Kombat: Annihilation (1997)', 1.9534883720930232),\n",
       " (tensor(-0.2827), 'Cable Guy, The (1996)', 2.339622641509434),\n",
       " (tensor(-0.2628), 'Island of Dr. Moreau, The (1996)', 2.1578947368421053),\n",
       " (tensor(-0.2536), 'Bio-Dome (1996)', 1.903225806451613),\n",
       " (tensor(-0.2473), \"McHale's Navy (1997)\", 2.1884057971014492),\n",
       " (tensor(-0.2436), \"Joe's Apartment (1996)\", 2.2444444444444445),\n",
       " (tensor(-0.2347), 'Striptease (1996)', 2.2388059701492535),\n",
       " (tensor(-0.2295), 'Home Alone 3 (1997)', 1.894736842105263),\n",
       " (tensor(-0.2218), 'Crow: City of Angels, The (1996)', 1.9487179487179487),\n",
       " (tensor(-0.2179), 'Showgirls (1995)', 1.9565217391304348),\n",
       " (tensor(-0.2143), 'Barb Wire (1996)', 1.9333333333333333),\n",
       " (tensor(-0.2104), 'Free Willy 3: The Rescue (1997)', 1.7407407407407407),\n",
       " (tensor(-0.2043), 'Grease 2 (1982)', 2.0)]"
      ]
     },
     "execution_count": 28,
     "metadata": {},
     "output_type": "execute_result"
    }
   ],
   "source": [
    "sorted(movie_ratings, key=item0)[:15]"
   ]
  },
  {
   "cell_type": "markdown",
   "metadata": {},
   "source": [
    "สรุป Bias ค่อนข้างไปในทางเดียวกับ Rating เฉลี่ย"
   ]
  },
  {
   "cell_type": "markdown",
   "metadata": {},
   "source": [
    "## ตีความจาก Weight ของ Movie Embeding "
   ]
  },
  {
   "cell_type": "markdown",
   "metadata": {},
   "source": [
    "Weight มีหลายมิติให้เราตีความได้หลากหลายมากขึ้น หนึ่งในการตีความคือ เราสามารถเปรียบเทียบได้ว่า ถ้าหนังเรื่อง 2 เรื่อง Weight ใกล้เคียงกัน กว่าหนังเรื่องอื่น ก็จะมีอะไรที่ใกล้เคียงกัน เช่น เนื้อเรื่องใกล้เคียงกัน นักแสดงชุดเดียวกัน หรืออาจจะเป็นภาคต่อ โดยที่เราไม่ได้ใช้ข้อมูล Genre จากใน Master เลย ใช้แต่ Rating จาก User เท่านั้น"
   ]
  },
  {
   "cell_type": "markdown",
   "metadata": {},
   "source": [
    "ดึง Weight ออกมาจากโมเดล"
   ]
  },
  {
   "cell_type": "code",
   "execution_count": 29,
   "metadata": {},
   "outputs": [
    {
     "data": {
      "text/plain": [
       "torch.Size([1000, 50])"
      ]
     },
     "execution_count": 29,
     "metadata": {},
     "output_type": "execute_result"
    }
   ],
   "source": [
    "movie_weight = learner.weight(top_movies.index, is_item=True)\n",
    "movie_weight.shape"
   ]
  },
  {
   "cell_type": "markdown",
   "metadata": {},
   "source": [
    "ใช้ PCA เพื่อลดมิติข้อมูล จาก 1000 มิติ ให้เหลือแค่ 3 มิติ แต่ยังคงข้อมูลส่วนใหญ่อยู่\n",
    "\n",
    "*เรื่อง Dimensionality reduction, PCA, SVD, MDS, ICA จะอธิบายต่อไป* "
   ]
  },
  {
   "cell_type": "code",
   "execution_count": 30,
   "metadata": {},
   "outputs": [
    {
     "data": {
      "text/plain": [
       "torch.Size([1000, 3])"
      ]
     },
     "execution_count": 30,
     "metadata": {},
     "output_type": "execute_result"
    }
   ],
   "source": [
    "movie_pca = movie_weight.pca(3)\n",
    "movie_pca.shape"
   ]
  },
  {
   "cell_type": "markdown",
   "metadata": {},
   "source": [
    "ดึงค่าทั้ง 3 มิติออกมา \n",
    "\n",
    "เอามิติแรก เตรียมนำมาแสดงผล"
   ]
  },
  {
   "cell_type": "code",
   "execution_count": 31,
   "metadata": {},
   "outputs": [],
   "source": [
    "fac0,fac1,fac2 = movie_pca.t()\n",
    "movie_comp = [(f, i) for f,i in zip(fac0, top_movies.index)]"
   ]
  },
  {
   "cell_type": "markdown",
   "metadata": {},
   "source": [
    "แสดงรายการหนัง เรียงตามมิติแรก มากไปน้อย\n",
    "\n",
    "ตีความว่า อาจจะเป็น มิติความสดใส หนังเด็ก"
   ]
  },
  {
   "cell_type": "code",
   "execution_count": 32,
   "metadata": {},
   "outputs": [
    {
     "data": {
      "text/plain": [
       "[(tensor(1.2550), 'D3: The Mighty Ducks (1996)'),\n",
       " (tensor(1.2316), 'Home Alone 3 (1997)'),\n",
       " (tensor(1.2088), 'Jungle2Jungle (1997)'),\n",
       " (tensor(1.2040), \"McHale's Navy (1997)\"),\n",
       " (tensor(1.1360), 'Leave It to Beaver (1997)'),\n",
       " (tensor(1.1057), 'Bio-Dome (1996)'),\n",
       " (tensor(1.1021), 'Children of the Corn: The Gathering (1996)'),\n",
       " (tensor(1.0952), 'Flipper (1996)'),\n",
       " (tensor(1.0736), 'Congo (1995)'),\n",
       " (tensor(1.0473), 'Richie Rich (1994)')]"
      ]
     },
     "execution_count": 32,
     "metadata": {},
     "output_type": "execute_result"
    }
   ],
   "source": [
    "sorted(movie_comp, key=itemgetter(0), reverse=True)[:10]"
   ]
  },
  {
   "cell_type": "markdown",
   "metadata": {},
   "source": [
    "แสดงรายการหนัง เรียงตามมิติแรก น้อยไปมาก \n",
    "\n",
    "ตีความว่า อาจจะเป็น มิติความคลาสสิค หนังผู้ใหญ่"
   ]
  },
  {
   "cell_type": "code",
   "execution_count": 33,
   "metadata": {},
   "outputs": [
    {
     "data": {
      "text/plain": [
       "[(tensor(-1.0398), 'Close Shave, A (1995)'),\n",
       " (tensor(-1.0269), 'Lawrence of Arabia (1962)'),\n",
       " (tensor(-1.0215), 'Godfather, The (1972)'),\n",
       " (tensor(-1.0127), 'Secrets & Lies (1996)'),\n",
       " (tensor(-1.0050), 'When We Were Kings (1996)'),\n",
       " (tensor(-0.9898), 'Casablanca (1942)'),\n",
       " (tensor(-0.9876), 'Chinatown (1974)'),\n",
       " (tensor(-0.9854), 'Wrong Trousers, The (1993)'),\n",
       " (tensor(-0.9829),\n",
       "  'Dr. Strangelove or: How I Learned to Stop Worrying and Love the Bomb (1963)'),\n",
       " (tensor(-0.9677), 'Ran (1985)')]"
      ]
     },
     "execution_count": 33,
     "metadata": {},
     "output_type": "execute_result"
    }
   ],
   "source": [
    "sorted(movie_comp, key=itemgetter(0))[:10]"
   ]
  },
  {
   "cell_type": "markdown",
   "metadata": {},
   "source": [
    "มิติที่ 2 "
   ]
  },
  {
   "cell_type": "code",
   "execution_count": 34,
   "metadata": {},
   "outputs": [],
   "source": [
    "movie_comp = [(f, i) for f,i in zip(fac1, top_movies.index)]"
   ]
  },
  {
   "cell_type": "markdown",
   "metadata": {},
   "source": [
    "แสดงรายการหนัง เรียงตามมิติที่สอง มากไปน้อย\n",
    "\n",
    "ตีความว่า อาจจะเป็น มิติความสัมพันธ์ เรื่องไม่ซีเรียส"
   ]
  },
  {
   "cell_type": "code",
   "execution_count": 35,
   "metadata": {},
   "outputs": [
    {
     "data": {
      "text/plain": [
       "[(tensor(1.0168), 'Ready to Wear (Pret-A-Porter) (1994)'),\n",
       " (tensor(0.7771), 'Beavis and Butt-head Do America (1996)'),\n",
       " (tensor(0.7664), 'Trainspotting (1996)'),\n",
       " (tensor(0.7549), 'Very Brady Sequel, A (1996)'),\n",
       " (tensor(0.7544), 'Heavenly Creatures (1994)'),\n",
       " (tensor(0.7479), 'Keys to Tulsa (1997)'),\n",
       " (tensor(0.7445), 'Nosferatu (Nosferatu, eine Symphonie des Grauens) (1922)'),\n",
       " (tensor(0.7440), 'Jude (1996)'),\n",
       " (tensor(0.7425), 'Sweet Hereafter, The (1997)'),\n",
       " (tensor(0.7258), 'Cable Guy, The (1996)')]"
      ]
     },
     "execution_count": 35,
     "metadata": {},
     "output_type": "execute_result"
    }
   ],
   "source": [
    "sorted(movie_comp, key=itemgetter(0), reverse=True)[:10]"
   ]
  },
  {
   "cell_type": "markdown",
   "metadata": {},
   "source": [
    "แสดงรายการหนัง เรียงตามมิติที่สอง น้อยไปมาก \n",
    "\n",
    "ตีความว่า อาจจะเป็น มิติความแอคชั่น Epic"
   ]
  },
  {
   "cell_type": "code",
   "execution_count": 36,
   "metadata": {},
   "outputs": [
    {
     "data": {
      "text/plain": [
       "[(tensor(-1.2185), 'Braveheart (1995)'),\n",
       " (tensor(-1.1252), 'Raiders of the Lost Ark (1981)'),\n",
       " (tensor(-1.0450), 'Titanic (1997)'),\n",
       " (tensor(-0.9029), 'Forrest Gump (1994)'),\n",
       " (tensor(-0.8926), \"Mr. Holland's Opus (1995)\"),\n",
       " (tensor(-0.8856), \"It's a Wonderful Life (1946)\"),\n",
       " (tensor(-0.8479), 'American President, The (1995)'),\n",
       " (tensor(-0.8439), 'Independence Day (ID4) (1996)'),\n",
       " (tensor(-0.8353), 'Air Force One (1997)'),\n",
       " (tensor(-0.8311), 'Star Wars (1977)')]"
      ]
     },
     "execution_count": 36,
     "metadata": {},
     "output_type": "execute_result"
    }
   ],
   "source": [
    "sorted(movie_comp, key=itemgetter(0))[:10]"
   ]
  },
  {
   "cell_type": "markdown",
   "metadata": {},
   "source": [
    "เราลองเอา มาพล็อตกราฟดู"
   ]
  },
  {
   "cell_type": "code",
   "execution_count": 40,
   "metadata": {},
   "outputs": [
    {
     "data": {
      "image/png": "[encoded data removed]",
      "text/plain": [
       "<Figure size 1080x1080 with 1 Axes>"
      ]
     },
     "metadata": {
      "needs_background": "light"
     },
     "output_type": "display_data"
    }
   ],
   "source": [
    "idxs = np.random.choice(len(top_movies.index), 50, replace=False)\n",
    "idxs = list(range(50))\n",
    "X = fac0[idxs]\n",
    "Y = fac2[idxs]\n",
    "plt.figure(figsize=(15,15))\n",
    "plt.scatter(X, Y)\n",
    "for i, x, y in zip(top_movies.index[idxs], X, Y):\n",
    "    plt.text(x,y,i, color=np.random.rand(3)*0.7, fontsize=11)\n",
    "plt.show()"
   ]
  },
  {
   "cell_type": "markdown",
   "metadata": {},
   "source": [
    "จะเห็นว่าหนังเนื้อหาใกล้เคียงกัน จะอยู่ตำแหน่งใกล้เคียงกัน"
   ]
  },
  {
   "cell_type": "markdown",
   "metadata": {},
   "source": [
    "# 9. สรุป"
   ]
  },
  {
   "cell_type": "markdown",
   "metadata": {},
   "source": [
    "1. การเทรนโมเดลหลัก ๆ จะคล้าย ๆ กัน Collaborative Filtering แบบนี้ ถ้าข้อมูลไม่มากใช้เวลาไม่ถึง 1 นาที และไม่จำเป็นต้องใช้ GPU\n",
    "2. เราสามารถสร้าง โมเดล Collaborative Filtering จากข้อมูล User Rating ได้ไม่ยาก แต่จะมีประเด็นเรื่อง Cold Start ในกรณี User, Item มาเพิ่มใหม่จะทำอย่างไร ส่วนใหญ่เราจะใช้วิธี Hybrid คือ ผสมกับ Content based และ Knowledge based Recommendation System จะอธิบายต่อไป\n",
    "3. โมเดลแบบนี้ สามารถนำไปประยุกต์ใช้ใน App ที่มีอยู่แล้ว เพื่อเพิ่มมูลค่า แนะนำสินค้าใหม่ ๆ ให้ลูกค้าเดิม เพิ่มยอดขายได้ โดยลูกค้าได้รับความพึงพอใจมากขึ้นด้วย"
   ]
  },
  {
   "cell_type": "markdown",
   "metadata": {},
   "source": [
    "# Credit \n",
    "\n",
    "* [FastAI: Practical Deep Learning for Coders, v3 - Lesson 4](https://course.fast.ai/videos/?lesson=4)\n",
    "* [Movielens-100k](https://grouplens.org/datasets/movielens/100k/)\n",
    "* F. Maxwell Harper and Joseph A. Konstan. 2015. The MovieLens Datasets: History and Context. ACM Transactions on Interactive Intelligent Systems (TiiS) 5, 4, Article 19 (December 2015), 19 pages. DOI=http://dx.doi.org/10.1145/2827872\n",
    "* https://towardsdatascience.com/recommender-systems-in-practice-cef9033bb23a\n",
    "* https://towardsdatascience.com/collaborative-filtering-and-embeddings-part-2-919da17ecefb"
   ]
  },
  {
   "cell_type": "code",
   "execution_count": null,
   "metadata": {},
   "outputs": [],
   "source": []
  }
 ],
 "metadata": {
  "kernelspec": {
   "display_name": "Python 3",
   "language": "python",
   "name": "python3"
  },
  "language_info": {
   "codemirror_mode": {
    "name": "ipython",
    "version": 3
   },
   "file_extension": ".py",
   "mimetype": "text/x-python",
   "name": "python",
   "nbconvert_exporter": "python",
   "pygments_lexer": "ipython3",
   "version": "3.7.3"
  }
 },
 "nbformat": 4,
 "nbformat_minor": 2
}
