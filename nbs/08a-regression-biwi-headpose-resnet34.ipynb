{
 "cells": [
  {
   "cell_type": "markdown",
   "metadata": {},
   "source": [
    "ใน ep ก่อน ๆ ที่เราสร้างโมเดลมา จะเป็นการ Classification คือให้โมเดลจำแนกหมวดหมู่ ผลการทำนายของโมเดล ก็จะถูกจำกัดอยู่ภายใน ตัวเลือก Classes ที่เรากำหนด เช่น A, B, C, D, หมา, แมว, ป่าไม้, แม่น้ำ \n",
    "\n",
    "แต่ในเคสนี้ เราจะสร้างโมเดลแบบ Regression คือให้ตอบเป็นค่าอะไรก็ได้ เช่น 5.555555e5, 123456, -0.0000000002865 แต่ใน Dataset นี้คือ ตำแหน่งพิกัด x, y ของจุดศูนย์กลางของหัว"
   ]
  },
  {
   "cell_type": "markdown",
   "metadata": {},
   "source": [
    "# 0. Magic Commands\n"
   ]
  },
  {
   "cell_type": "code",
   "execution_count": 1,
   "metadata": {},
   "outputs": [],
   "source": [
    "%reload_ext autoreload\n",
    "%autoreload 2\n",
    "%matplotlib inline"
   ]
  },
  {
   "cell_type": "markdown",
   "metadata": {},
   "source": [
    "# 1. Import Library"
   ]
  },
  {
   "cell_type": "code",
   "execution_count": 2,
   "metadata": {},
   "outputs": [],
   "source": [
    "from fastai import *\n",
    "from fastai.vision import *"
   ]
  },
  {
   "cell_type": "markdown",
   "metadata": {},
   "source": [
    "# 2. ข้อมูล\n",
    "\n",
    "ใช้ชุดข้อมูล [BIWI head pose dataset](https://data.vision.ee.ethz.ch/cvl/gfanelli/head_pose/head_forest.html#db) label คือตำแหน่งจุดศูนย์กลางของหัว ในแต่ละภาพ. Credit: Gabriele Fanelli et al."
   ]
  },
  {
   "cell_type": "code",
   "execution_count": 3,
   "metadata": {},
   "outputs": [
    {
     "data": {
      "text/plain": [
       "PosixPath('/home/jupyter/.fastai/data/biwi_head_pose')"
      ]
     },
     "execution_count": 3,
     "metadata": {},
     "output_type": "execute_result"
    }
   ],
   "source": [
    "path = untar_data(URLs.BIWI_HEAD_POSE)\n",
    "path"
   ]
  },
  {
   "cell_type": "markdown",
   "metadata": {},
   "source": [
    "แบ่งเป็น Folder training และ testing"
   ]
  },
  {
   "cell_type": "code",
   "execution_count": 4,
   "metadata": {
    "scrolled": true
   },
   "outputs": [
    {
     "data": {
      "text/plain": [
       "[PosixPath('/home/jupyter/.fastai/data/biwi_head_pose/20.obj'),\n",
       " PosixPath('/home/jupyter/.fastai/data/biwi_head_pose/03'),\n",
       " PosixPath('/home/jupyter/.fastai/data/biwi_head_pose/09.obj'),\n",
       " PosixPath('/home/jupyter/.fastai/data/biwi_head_pose/16.obj'),\n",
       " PosixPath('/home/jupyter/.fastai/data/biwi_head_pose/23.obj'),\n",
       " PosixPath('/home/jupyter/.fastai/data/biwi_head_pose/18'),\n",
       " PosixPath('/home/jupyter/.fastai/data/biwi_head_pose/02.obj'),\n",
       " PosixPath('/home/jupyter/.fastai/data/biwi_head_pose/22.obj'),\n",
       " PosixPath('/home/jupyter/.fastai/data/biwi_head_pose/15'),\n",
       " PosixPath('/home/jupyter/.fastai/data/biwi_head_pose/11'),\n",
       " PosixPath('/home/jupyter/.fastai/data/biwi_head_pose/08'),\n",
       " PosixPath('/home/jupyter/.fastai/data/biwi_head_pose/22'),\n",
       " PosixPath('/home/jupyter/.fastai/data/biwi_head_pose/20'),\n",
       " PosixPath('/home/jupyter/.fastai/data/biwi_head_pose/24.obj'),\n",
       " PosixPath('/home/jupyter/.fastai/data/biwi_head_pose/06.obj'),\n",
       " PosixPath('/home/jupyter/.fastai/data/biwi_head_pose/02'),\n",
       " PosixPath('/home/jupyter/.fastai/data/biwi_head_pose/readme.txt'),\n",
       " PosixPath('/home/jupyter/.fastai/data/biwi_head_pose/12'),\n",
       " PosixPath('/home/jupyter/.fastai/data/biwi_head_pose/04.obj'),\n",
       " PosixPath('/home/jupyter/.fastai/data/biwi_head_pose/11.obj'),\n",
       " PosixPath('/home/jupyter/.fastai/data/biwi_head_pose/17.obj'),\n",
       " PosixPath('/home/jupyter/.fastai/data/biwi_head_pose/05.obj'),\n",
       " PosixPath('/home/jupyter/.fastai/data/biwi_head_pose/05'),\n",
       " PosixPath('/home/jupyter/.fastai/data/biwi_head_pose/07'),\n",
       " PosixPath('/home/jupyter/.fastai/data/biwi_head_pose/13'),\n",
       " PosixPath('/home/jupyter/.fastai/data/biwi_head_pose/19'),\n",
       " PosixPath('/home/jupyter/.fastai/data/biwi_head_pose/21.obj'),\n",
       " PosixPath('/home/jupyter/.fastai/data/biwi_head_pose/08.obj'),\n",
       " PosixPath('/home/jupyter/.fastai/data/biwi_head_pose/03.obj'),\n",
       " PosixPath('/home/jupyter/.fastai/data/biwi_head_pose/io_sample.cpp'),\n",
       " PosixPath('/home/jupyter/.fastai/data/biwi_head_pose/10'),\n",
       " PosixPath('/home/jupyter/.fastai/data/biwi_head_pose/19.obj'),\n",
       " PosixPath('/home/jupyter/.fastai/data/biwi_head_pose/18.obj'),\n",
       " PosixPath('/home/jupyter/.fastai/data/biwi_head_pose/models'),\n",
       " PosixPath('/home/jupyter/.fastai/data/biwi_head_pose/09'),\n",
       " PosixPath('/home/jupyter/.fastai/data/biwi_head_pose/01'),\n",
       " PosixPath('/home/jupyter/.fastai/data/biwi_head_pose/24'),\n",
       " PosixPath('/home/jupyter/.fastai/data/biwi_head_pose/14.obj'),\n",
       " PosixPath('/home/jupyter/.fastai/data/biwi_head_pose/12.obj'),\n",
       " PosixPath('/home/jupyter/.fastai/data/biwi_head_pose/07.obj'),\n",
       " PosixPath('/home/jupyter/.fastai/data/biwi_head_pose/13.obj'),\n",
       " PosixPath('/home/jupyter/.fastai/data/biwi_head_pose/04'),\n",
       " PosixPath('/home/jupyter/.fastai/data/biwi_head_pose/17'),\n",
       " PosixPath('/home/jupyter/.fastai/data/biwi_head_pose/16'),\n",
       " PosixPath('/home/jupyter/.fastai/data/biwi_head_pose/06'),\n",
       " PosixPath('/home/jupyter/.fastai/data/biwi_head_pose/10.obj'),\n",
       " PosixPath('/home/jupyter/.fastai/data/biwi_head_pose/01.obj'),\n",
       " PosixPath('/home/jupyter/.fastai/data/biwi_head_pose/15.obj'),\n",
       " PosixPath('/home/jupyter/.fastai/data/biwi_head_pose/21'),\n",
       " PosixPath('/home/jupyter/.fastai/data/biwi_head_pose/14'),\n",
       " PosixPath('/home/jupyter/.fastai/data/biwi_head_pose/23')]"
      ]
     },
     "execution_count": 4,
     "metadata": {},
     "output_type": "execute_result"
    }
   ],
   "source": [
    "path.ls()"
   ]
  },
  {
   "cell_type": "markdown",
   "metadata": {},
   "source": [
    "ดู Dataset จะเห็นว่ามี Folder แยกตามเลขไว้"
   ]
  },
  {
   "cell_type": "markdown",
   "metadata": {},
   "source": [
    "ลองดู 20 ไฟล์แรก จาก 1000 ไฟล์ ใน Folder 01"
   ]
  },
  {
   "cell_type": "code",
   "execution_count": 24,
   "metadata": {},
   "outputs": [
    {
     "data": {
      "text/plain": [
       "(1000,\n",
       " [PosixPath('/home/jupyter/.fastai/data/biwi_head_pose/01/frame_00294_rgb.jpg'),\n",
       "  PosixPath('/home/jupyter/.fastai/data/biwi_head_pose/01/frame_00244_pose.txt'),\n",
       "  PosixPath('/home/jupyter/.fastai/data/biwi_head_pose/01/frame_00313_rgb.jpg'),\n",
       "  PosixPath('/home/jupyter/.fastai/data/biwi_head_pose/01/frame_00089_rgb.jpg'),\n",
       "  PosixPath('/home/jupyter/.fastai/data/biwi_head_pose/01/frame_00214_pose.txt'),\n",
       "  PosixPath('/home/jupyter/.fastai/data/biwi_head_pose/01/frame_00474_rgb.jpg'),\n",
       "  PosixPath('/home/jupyter/.fastai/data/biwi_head_pose/01/frame_00438_pose.txt'),\n",
       "  PosixPath('/home/jupyter/.fastai/data/biwi_head_pose/01/frame_00434_rgb.jpg'),\n",
       "  PosixPath('/home/jupyter/.fastai/data/biwi_head_pose/01/frame_00117_pose.txt'),\n",
       "  PosixPath('/home/jupyter/.fastai/data/biwi_head_pose/01/frame_00410_rgb.jpg'),\n",
       "  PosixPath('/home/jupyter/.fastai/data/biwi_head_pose/01/frame_00340_pose.txt'),\n",
       "  PosixPath('/home/jupyter/.fastai/data/biwi_head_pose/01/frame_00142_pose.txt'),\n",
       "  PosixPath('/home/jupyter/.fastai/data/biwi_head_pose/01/frame_00445_rgb.jpg'),\n",
       "  PosixPath('/home/jupyter/.fastai/data/biwi_head_pose/01/frame_00272_rgb.jpg'),\n",
       "  PosixPath('/home/jupyter/.fastai/data/biwi_head_pose/01/frame_00247_pose.txt'),\n",
       "  PosixPath('/home/jupyter/.fastai/data/biwi_head_pose/01/frame_00215_pose.txt'),\n",
       "  PosixPath('/home/jupyter/.fastai/data/biwi_head_pose/01/frame_00290_pose.txt'),\n",
       "  PosixPath('/home/jupyter/.fastai/data/biwi_head_pose/01/frame_00056_rgb.jpg'),\n",
       "  PosixPath('/home/jupyter/.fastai/data/biwi_head_pose/01/frame_00155_pose.txt'),\n",
       "  PosixPath('/home/jupyter/.fastai/data/biwi_head_pose/01/frame_00407_pose.txt')])"
      ]
     },
     "execution_count": 24,
     "metadata": {},
     "output_type": "execute_result"
    }
   ],
   "source": [
    "filenames = get_files(path/'01')\n",
    "len(filenames), filenames[:20]"
   ]
  },
  {
   "cell_type": "markdown",
   "metadata": {},
   "source": [
    "โครงสร้าง Folder จะเป็นดังนี้\n",
    "\n",
    "- 01.obj\n",
    "- 01\n",
    "    - rgb.cal\n",
    "    - frame_00001_pose.txt\n",
    "    - frame_00001_rgb.txt\n",
    "    - frame_00002_pose.txt\n",
    "    - frame_00002_rgb.txt\n",
    "    - frame_00003_pose.txt\n",
    "    - frame_00003_rgb.txt\n",
    "    - ...\n",
    "- 02.obj\n",
    "- 02\n",
    "    - rgb.cal\n",
    "    - fname_...\n"
   ]
  },
  {
   "cell_type": "code",
   "execution_count": null,
   "metadata": {},
   "outputs": [],
   "source": []
  },
  {
   "cell_type": "code",
   "execution_count": null,
   "metadata": {},
   "outputs": [],
   "source": []
  },
  {
   "cell_type": "code",
   "execution_count": null,
   "metadata": {},
   "outputs": [],
   "source": [
    "cal = np.genfromtxt(path/'01'/'rgb.cal', skip_footer=6); cal"
   ]
  },
  {
   "cell_type": "code",
   "execution_count": null,
   "metadata": {},
   "outputs": [],
   "source": []
  },
  {
   "cell_type": "code",
   "execution_count": null,
   "metadata": {},
   "outputs": [],
   "source": [
    "fname = '09/frame_00667_rgb.jpg'"
   ]
  },
  {
   "cell_type": "code",
   "execution_count": null,
   "metadata": {},
   "outputs": [],
   "source": []
  },
  {
   "cell_type": "code",
   "execution_count": null,
   "metadata": {},
   "outputs": [],
   "source": [
    "def img2txt_name(f): return path/f'{str(f)[:-7]}pose.txt'"
   ]
  },
  {
   "cell_type": "code",
   "execution_count": null,
   "metadata": {},
   "outputs": [],
   "source": []
  },
  {
   "cell_type": "code",
   "execution_count": null,
   "metadata": {},
   "outputs": [],
   "source": [
    "img = open_image(path/fname)\n",
    "img.show()"
   ]
  },
  {
   "cell_type": "code",
   "execution_count": null,
   "metadata": {},
   "outputs": [],
   "source": []
  },
  {
   "cell_type": "code",
   "execution_count": null,
   "metadata": {},
   "outputs": [],
   "source": [
    "ctr = np.genfromtxt(img2txt_name(fname), skip_header=3); ctr"
   ]
  },
  {
   "cell_type": "code",
   "execution_count": null,
   "metadata": {},
   "outputs": [],
   "source": []
  },
  {
   "cell_type": "code",
   "execution_count": null,
   "metadata": {},
   "outputs": [],
   "source": [
    "def convert_biwi(coords):\n",
    "    c1 = coords[0] * cal[0][0]/coords[2] + cal[0][2]\n",
    "    c2 = coords[1] * cal[1][1]/coords[2] + cal[1][2]\n",
    "    return tensor([c2,c1])\n",
    "\n",
    "def get_ctr(f):\n",
    "    ctr = np.genfromtxt(img2txt_name(f), skip_header=3)\n",
    "    return convert_biwi(ctr)\n",
    "\n",
    "def get_ip(img,pts): return ImagePoints(FlowField(img.size, pts), scale=True)"
   ]
  },
  {
   "cell_type": "code",
   "execution_count": null,
   "metadata": {},
   "outputs": [],
   "source": []
  },
  {
   "cell_type": "code",
   "execution_count": null,
   "metadata": {},
   "outputs": [],
   "source": [
    "get_ctr(fname)"
   ]
  },
  {
   "cell_type": "code",
   "execution_count": null,
   "metadata": {},
   "outputs": [],
   "source": []
  },
  {
   "cell_type": "code",
   "execution_count": null,
   "metadata": {},
   "outputs": [],
   "source": [
    "ctr = get_ctr(fname)\n",
    "img.show(y=get_ip(img, ctr), figsize=(6, 6))"
   ]
  },
  {
   "cell_type": "code",
   "execution_count": null,
   "metadata": {},
   "outputs": [],
   "source": []
  },
  {
   "cell_type": "code",
   "execution_count": null,
   "metadata": {},
   "outputs": [],
   "source": []
  },
  {
   "cell_type": "code",
   "execution_count": null,
   "metadata": {},
   "outputs": [],
   "source": []
  },
  {
   "cell_type": "markdown",
   "metadata": {},
   "source": [
    "# 3. เตรียมข้อมูล\n",
    "\n"
   ]
  },
  {
   "cell_type": "markdown",
   "metadata": {},
   "source": [
    "1. สำหรับข้อมูลประเภทตัวเลข เราไม่สามารถ flip ซ้าย ขวา ขึ้น ลง ได้ จะทำให้ผิดความหมายไป จึงต้องใช้ get_transforms(do_flip=False)\n",
    "2. เคสนี้ label คือชื่อ Folder ที่บรรจุไฟล์อยู่ เราสามารถ ใช้ ImageDataBunch.from_folder ได้เลย\n",
    "3. num_workers คือ จำนวน CPU Core ที่ต้องการใช้"
   ]
  },
  {
   "cell_type": "code",
   "execution_count": null,
   "metadata": {},
   "outputs": [],
   "source": [
    "batchsize = 64\n",
    "np.random.seed(0)\n",
    "transform = get_transforms()\n",
    "\n",
    "databunch = (PointsItemList.from_folder(path)\n",
    "        .split_by_valid_func(lambda o: o.parent.name=='13')\n",
    "        .label_from_func(get_ctr)\n",
    "        .transform(transform, tfm_y=True, size=(120,160))\n",
    "        .databunch(bs=batchsize).normalize(imagenet_stats)\n",
    "       )"
   ]
  },
  {
   "cell_type": "markdown",
   "metadata": {},
   "source": [
    "## สำรวจข้อมูล ##\n",
    "\n",
    "ลองดูข้อมูล Batch แรก ด้วย show_batch สั่งให้แสดง รูป พร้อม label ไว้บนรูป แสดง 3 แถว (rows) ในกรอบขนาด 10 x 10 นิ้ว (figsize)\n",
    "\n",
    "*เราสามารถรัน cell นี้หลายครั้ง เพื่อเรียกดู batch ต่อ ๆ ไป ได้เรื่อย ๆ เป็นการสำรวจข้อมูล*"
   ]
  },
  {
   "cell_type": "code",
   "execution_count": null,
   "metadata": {},
   "outputs": [],
   "source": [
    "databunch.show_batch(rows=3, figsize=(10, 10))"
   ]
  },
  {
   "cell_type": "markdown",
   "metadata": {},
   "source": [
    "ดู label ตัวเลขทั้งหมด หรือ class ทั้งหมด ที่มีใน Dataset"
   ]
  },
  {
   "cell_type": "code",
   "execution_count": null,
   "metadata": {
    "scrolled": true
   },
   "outputs": [],
   "source": [
    "databunch.classes"
   ]
  },
  {
   "cell_type": "markdown",
   "metadata": {},
   "source": [
    "# 4. สร้างโมเดล"
   ]
  },
  {
   "cell_type": "markdown",
   "metadata": {},
   "source": [
    "งานไม่ค่อยซับซ้อน เราจะใช้ resnet34"
   ]
  },
  {
   "cell_type": "code",
   "execution_count": null,
   "metadata": {},
   "outputs": [],
   "source": [
    "learner = cnn_learner(databunch, models.resnet34, \n",
    "                     callback_fns=ShowGraph)"
   ]
  },
  {
   "cell_type": "markdown",
   "metadata": {},
   "source": [
    "# 5. เริ่มต้นเทรนโมเดล\n",
    "\n",
    "เทรนด้วยค่า Default ไป 4 Cycle"
   ]
  },
  {
   "cell_type": "code",
   "execution_count": null,
   "metadata": {
    "scrolled": false
   },
   "outputs": [],
   "source": [
    "learner.fit_one_cycle(4)"
   ]
  },
  {
   "cell_type": "markdown",
   "metadata": {},
   "source": [
    "# 6. เทรนต่อ"
   ]
  },
  {
   "cell_type": "code",
   "execution_count": null,
   "metadata": {},
   "outputs": [],
   "source": [
    "learner.unfreeze()"
   ]
  },
  {
   "cell_type": "code",
   "execution_count": null,
   "metadata": {},
   "outputs": [],
   "source": [
    "learner.recorder.plot()"
   ]
  },
  {
   "cell_type": "code",
   "execution_count": null,
   "metadata": {},
   "outputs": [],
   "source": []
  },
  {
   "cell_type": "code",
   "execution_count": null,
   "metadata": {
    "scrolled": true
   },
   "outputs": [],
   "source": [
    "learner.fit_one_cycle(3, max_lr=slice(1e-6, 3e-3))"
   ]
  },
  {
   "cell_type": "markdown",
   "metadata": {},
   "source": [
    "## สำเร็จแล้ว ##\n",
    "\n",
    "เพียงแค่เวลา x นาที เราเทรน Model ได้ accuracy ประมาณ x หรือ ความแม่นยำประมาณ x\n"
   ]
  },
  {
   "cell_type": "markdown",
   "metadata": {},
   "source": [
    "# 7. ดูผลลัพธ์"
   ]
  },
  {
   "cell_type": "code",
   "execution_count": null,
   "metadata": {},
   "outputs": [],
   "source": [
    "learner.show_results(rows=3)"
   ]
  },
  {
   "cell_type": "code",
   "execution_count": null,
   "metadata": {},
   "outputs": [],
   "source": [
    "interpretation = ClassificationInterpretation.from_learner(learner)"
   ]
  },
  {
   "cell_type": "markdown",
   "metadata": {},
   "source": [
    "แสดงรายการที่โมเดลทายผิด 9 อันดับแรก\n"
   ]
  },
  {
   "cell_type": "code",
   "execution_count": null,
   "metadata": {
    "scrolled": false
   },
   "outputs": [],
   "source": [
    "interpretation.plot_top_losses(9)"
   ]
  },
  {
   "cell_type": "markdown",
   "metadata": {},
   "source": [
    "จะเห็นได้ว่า"
   ]
  },
  {
   "cell_type": "markdown",
   "metadata": {},
   "source": [
    "# 9. สรุป\n",
    "\n",
    "\n",
    "1. เราสามารถสร้างโมเดล Regression ได้ง่าย ๆ ด้วยชุดข้อมูลรูปภาพ, โค้ดไม่กี่บรรทัด และ GPU ไม่กี่นาที\n",
    "2. แต่อาจจะยังงงอยู่ ว่ามันทำงานอย่างไร ไว้เราจะค่อย ๆ อธิบายต่อไป"
   ]
  },
  {
   "cell_type": "markdown",
   "metadata": {},
   "source": [
    "# Credit \n",
    "\n",
    "* [FastAI: Practical Deep Learning for Coders, v3 - Lesson 3](https://course.fast.ai/videos/?lesson=3)\n",
    "* [Biwi Kinect Head Pose Database](https://data.vision.ee.ethz.ch/cvl/gfanelli/head_pose/head_forest.html#db)"
   ]
  },
  {
   "cell_type": "code",
   "execution_count": null,
   "metadata": {},
   "outputs": [],
   "source": []
  }
 ],
 "metadata": {
  "kernelspec": {
   "display_name": "Python 3",
   "language": "python",
   "name": "python3"
  },
  "language_info": {
   "codemirror_mode": {
    "name": "ipython",
    "version": 3
   },
   "file_extension": ".py",
   "mimetype": "text/x-python",
   "name": "python",
   "nbconvert_exporter": "python",
   "pygments_lexer": "ipython3",
   "version": "3.7.3"
  }
 },
 "nbformat": 4,
 "nbformat_minor": 2
}
