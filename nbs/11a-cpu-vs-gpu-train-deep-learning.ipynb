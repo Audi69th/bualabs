{
  "nbformat": 4,
  "nbformat_minor": 0,
  "metadata": {
    "kernelspec": {
      "name": "python3",
      "display_name": "Python 3"
    },
    "language_info": {
      "codemirror_mode": {
        "name": "ipython",
        "version": 3
      },
      "file_extension": ".py",
      "mimetype": "text/x-python",
      "name": "python",
      "nbconvert_exporter": "python",
      "pygments_lexer": "ipython3",
      "version": "3.7.3"
    },
    "colab": {
      "name": "11a-cpu-vs-gpu-train-deep-learning.ipynb",
      "provenance": []
    },
    "accelerator": "GPU"
  },
  "cells": [
    {
      "cell_type": "markdown",
      "metadata": {
        "id": "DxYTqnY2y7mg",
        "colab_type": "text"
      },
      "source": [
        "ใน Notebook นี้เราจะมาลองเปรียบเทียบ การเทรน Deep Neural Networks ด้วย CPU และ GPU ดูว่าใช้เวลาต่างกันอย่างไร"
      ]
    },
    {
      "cell_type": "markdown",
      "metadata": {
        "id": "wizt3455y7mj",
        "colab_type": "text"
      },
      "source": [
        "# 0. Magic Commands\n"
      ]
    },
    {
      "cell_type": "code",
      "metadata": {
        "id": "Du73S8Eky7mk",
        "colab_type": "code",
        "colab": {}
      },
      "source": [
        "%reload_ext autoreload\n",
        "%autoreload 2\n",
        "%matplotlib inline"
      ],
      "execution_count": 0,
      "outputs": []
    },
    {
      "cell_type": "markdown",
      "metadata": {
        "id": "8gP7GYCWy7mp",
        "colab_type": "text"
      },
      "source": [
        "# 1. Import Library"
      ]
    },
    {
      "cell_type": "code",
      "metadata": {
        "id": "D9cv5qdZy7mr",
        "colab_type": "code",
        "colab": {}
      },
      "source": [
        "import fastai\n",
        "from fastai import *\n",
        "from fastai.vision import *\n",
        "from fastai.metrics import accuracy"
      ],
      "execution_count": 0,
      "outputs": []
    },
    {
      "cell_type": "markdown",
      "metadata": {
        "id": "dVDgPmPwy7mu",
        "colab_type": "text"
      },
      "source": [
        "# 2. ข้อมูล\n",
        "\n",
        "ใช้ชุดข้อมูล Dataset พันธุ์หมาแมว Oxford-IIIT Pet Dataset by O. M. Parkhi et al., 2012"
      ]
    },
    {
      "cell_type": "code",
      "metadata": {
        "scrolled": true,
        "id": "D2Qm8vC6y7mv",
        "colab_type": "code",
        "colab": {}
      },
      "source": [
        "path = untar_data(URLs.PETS)\n",
        "path_images = path/'images'\n",
        "filenames = get_image_files(path_images)"
      ],
      "execution_count": 0,
      "outputs": []
    },
    {
      "cell_type": "markdown",
      "metadata": {
        "id": "uceWp2hCy7mz",
        "colab_type": "text"
      },
      "source": [
        "# 3. เตรียมข้อมูล\n",
        "\n",
        "เพื่อความสะดวก เราจะประกาศฟังก์ชัน แล้วไปเรียกสร้างก่อน fit ด้วย CPU และ GPU"
      ]
    },
    {
      "cell_type": "code",
      "metadata": {
        "id": "N_alWpCZy7m0",
        "colab_type": "code",
        "colab": {}
      },
      "source": [
        "batchsize = 32\n",
        "epoch = 6\n",
        "np.random.seed(55)\n",
        "regex_pattern = r'/([^/]+)_\\d+.jpg$'\n",
        "\n",
        "def get_databunch():\n",
        "    return ImageDataBunch.from_name_re(path_images, \n",
        "                                filenames, \n",
        "                                regex_pattern, \n",
        "                                ds_tfms=get_transforms(), \n",
        "                                size=224, bs=batchsize).normalize(imagenet_stats)"
      ],
      "execution_count": 0,
      "outputs": []
    },
    {
      "cell_type": "markdown",
      "metadata": {
        "id": "adphGbwFy7m3",
        "colab_type": "text"
      },
      "source": [
        "# 4. สร้างโมเดล\n",
        "\n",
        "เพื่อความสะดวก เราจะประกาศฟังก์ชัน แล้วไปเรียกสร้างก่อน fit ด้วย CPU และ GPU\n",
        "\n",
        "* เคสนี้เราจะใช้โมเดล models.resnet34\n",
        "* pretrained=False หมายถึง เราจะเริ่มเทรนตั้งแต่ต้น ไม่เอา Weight ที่เคยเทรนกับ ImageNet มาแล้วมาใช้"
      ]
    },
    {
      "cell_type": "code",
      "metadata": {
        "id": "l0TIe-8Oy7m4",
        "colab_type": "code",
        "colab": {}
      },
      "source": [
        "def get_learner(databunch):\n",
        "    return cnn_learner(databunch, models.resnet34, \n",
        "                      pretrained=True, \n",
        "                      metrics=accuracy, callback_fns=ShowGraph)"
      ],
      "execution_count": 0,
      "outputs": []
    },
    {
      "cell_type": "markdown",
      "metadata": {
        "id": "8Kwnz7DVy7m8",
        "colab_type": "text"
      },
      "source": [
        "# 5. เริ่มต้นเทรนโมเดล"
      ]
    },
    {
      "cell_type": "markdown",
      "metadata": {
        "id": "HOLPLoSSy7m-",
        "colab_type": "text"
      },
      "source": [
        "เราจะเริ่มเทรนด้วย CPU เปรียบเทียบกับ GPU แล้วจับเวลาที่ใช้ในการเทรน"
      ]
    },
    {
      "cell_type": "markdown",
      "metadata": {
        "id": "BTgXMMlqy7nA",
        "colab_type": "text"
      },
      "source": [
        "## 5.1 ลองเทรนด้วย CPU"
      ]
    },
    {
      "cell_type": "code",
      "metadata": {
        "scrolled": false,
        "id": "OvP6h3luy7nB",
        "colab_type": "code",
        "colab": {},
        "outputId": "4ab52744-1d6a-4550-918e-41bb1e2364de"
      },
      "source": [
        "fastai.torch_core.defaults.device = 'cpu'\n",
        "learner = get_learner(get_databunch())\n",
        "learner.fit_one_cycle(epoch)"
      ],
      "execution_count": 0,
      "outputs": [
        {
          "output_type": "display_data",
          "data": {
            "text/html": [
              "<table border=\"1\" class=\"dataframe\">\n",
              "  <thead>\n",
              "    <tr style=\"text-align: left;\">\n",
              "      <th>epoch</th>\n",
              "      <th>train_loss</th>\n",
              "      <th>valid_loss</th>\n",
              "      <th>accuracy</th>\n",
              "      <th>time</th>\n",
              "    </tr>\n",
              "  </thead>\n",
              "  <tbody>\n",
              "    <tr>\n",
              "      <td>0</td>\n",
              "      <td>1.118267</td>\n",
              "      <td>0.379126</td>\n",
              "      <td>0.886333</td>\n",
              "      <td>08:35</td>\n",
              "    </tr>\n",
              "    <tr>\n",
              "      <td>1</td>\n",
              "      <td>0.525315</td>\n",
              "      <td>0.288772</td>\n",
              "      <td>0.912720</td>\n",
              "      <td>08:33</td>\n",
              "    </tr>\n",
              "    <tr>\n",
              "      <td>2</td>\n",
              "      <td>0.386514</td>\n",
              "      <td>0.286258</td>\n",
              "      <td>0.912720</td>\n",
              "      <td>08:33</td>\n",
              "    </tr>\n",
              "    <tr>\n",
              "      <td>3</td>\n",
              "      <td>0.325070</td>\n",
              "      <td>0.243130</td>\n",
              "      <td>0.930988</td>\n",
              "      <td>08:33</td>\n",
              "    </tr>\n",
              "    <tr>\n",
              "      <td>4</td>\n",
              "      <td>0.265408</td>\n",
              "      <td>0.218235</td>\n",
              "      <td>0.933018</td>\n",
              "      <td>08:33</td>\n",
              "    </tr>\n",
              "    <tr>\n",
              "      <td>5</td>\n",
              "      <td>0.203674</td>\n",
              "      <td>0.210911</td>\n",
              "      <td>0.936401</td>\n",
              "      <td>08:35</td>\n",
              "    </tr>\n",
              "  </tbody>\n",
              "</table>"
            ],
            "text/plain": [
              "<IPython.core.display.HTML object>"
            ]
          },
          "metadata": {
            "tags": []
          }
        },
        {
          "output_type": "display_data",
          "data": {
            "image/png": "[encoded data removed]",
            "text/plain": [
              "<Figure size 432x288 with 1 Axes>"
            ]
          },
          "metadata": {
            "tags": []
          }
        }
      ]
    },
    {
      "cell_type": "markdown",
      "metadata": {
        "id": "O4X0YINv0AiK",
        "colab_type": "text"
      },
      "source": [
        "ใช้เวลาไปเกือบ 1 ชั่วโมง"
      ]
    },
    {
      "cell_type": "markdown",
      "metadata": {
        "id": "pSCZvywqy7nG",
        "colab_type": "text"
      },
      "source": [
        "## 5.2 ลองเทรนด้วย GPU"
      ]
    },
    {
      "cell_type": "code",
      "metadata": {
        "id": "qhCYbwffy7nH",
        "colab_type": "code",
        "colab": {},
        "outputId": "e6a9dbab-8ce1-4714-ad3a-b29061212979"
      },
      "source": [
        "fastai.torch_core.defaults.device = 'cuda'\n",
        "learner = get_learner(get_databunch())\n",
        "learner.fit_one_cycle(epoch)"
      ],
      "execution_count": 0,
      "outputs": [
        {
          "output_type": "display_data",
          "data": {
            "text/html": [
              "<table border=\"1\" class=\"dataframe\">\n",
              "  <thead>\n",
              "    <tr style=\"text-align: left;\">\n",
              "      <th>epoch</th>\n",
              "      <th>train_loss</th>\n",
              "      <th>valid_loss</th>\n",
              "      <th>accuracy</th>\n",
              "      <th>time</th>\n",
              "    </tr>\n",
              "  </thead>\n",
              "  <tbody>\n",
              "    <tr>\n",
              "      <td>0</td>\n",
              "      <td>1.115145</td>\n",
              "      <td>0.351891</td>\n",
              "      <td>0.893099</td>\n",
              "      <td>00:36</td>\n",
              "    </tr>\n",
              "    <tr>\n",
              "      <td>1</td>\n",
              "      <td>0.532363</td>\n",
              "      <td>0.285219</td>\n",
              "      <td>0.903248</td>\n",
              "      <td>00:35</td>\n",
              "    </tr>\n",
              "    <tr>\n",
              "      <td>2</td>\n",
              "      <td>0.400836</td>\n",
              "      <td>0.251682</td>\n",
              "      <td>0.916103</td>\n",
              "      <td>00:36</td>\n",
              "    </tr>\n",
              "    <tr>\n",
              "      <td>3</td>\n",
              "      <td>0.319096</td>\n",
              "      <td>0.211088</td>\n",
              "      <td>0.933018</td>\n",
              "      <td>00:36</td>\n",
              "    </tr>\n",
              "    <tr>\n",
              "      <td>4</td>\n",
              "      <td>0.245120</td>\n",
              "      <td>0.196490</td>\n",
              "      <td>0.935047</td>\n",
              "      <td>00:36</td>\n",
              "    </tr>\n",
              "    <tr>\n",
              "      <td>5</td>\n",
              "      <td>0.230451</td>\n",
              "      <td>0.195243</td>\n",
              "      <td>0.935047</td>\n",
              "      <td>00:36</td>\n",
              "    </tr>\n",
              "  </tbody>\n",
              "</table>"
            ],
            "text/plain": [
              "<IPython.core.display.HTML object>"
            ]
          },
          "metadata": {
            "tags": []
          }
        },
        {
          "output_type": "display_data",
          "data": {
            "image/png": "[encoded data removed]",
            "text/plain": [
              "<Figure size 432x288 with 1 Axes>"
            ]
          },
          "metadata": {
            "tags": []
          }
        }
      ]
    },
    {
      "cell_type": "markdown",
      "metadata": {
        "id": "9KAJAK4-0INA",
        "colab_type": "text"
      },
      "source": [
        "ใช้เวลาไม่ถึง 5 นาที"
      ]
    },
    {
      "cell_type": "markdown",
      "metadata": {
        "id": "Or28RoQMy7nM",
        "colab_type": "text"
      },
      "source": [
        "# 6. สรุป"
      ]
    },
    {
      "cell_type": "markdown",
      "metadata": {
        "id": "IZ1nlibRy7nO",
        "colab_type": "text"
      },
      "source": [
        "เปรียบเทียบ เวลาในการเทรน 6 Epoch ด้วย CPU และ GPU ในตารางดังนี้"
      ]
    },
    {
      "cell_type": "markdown",
      "metadata": {
        "id": "x4HyP39ey7nP",
        "colab_type": "text"
      },
      "source": [
        "| Device     | Time  | Accuracy | Valid_Loss |\n",
        "|-----------:|-------|---------:|-----------:|\n",
        "|        CPU | 51:22 |    93.6% |       0.21 |\n",
        "|        GPU |  3:36 |    93.5% |       0.19 |\n"
      ]
    },
    {
      "cell_type": "markdown",
      "metadata": {
        "id": "ARatoQnFy7nQ",
        "colab_type": "text"
      },
      "source": [
        "สังเกตว่า ผลลัพท์ใกล้เคียงกัน แต่ใช้เวลาต่างกันถึงเกือบ 20 เท่า"
      ]
    },
    {
      "cell_type": "markdown",
      "metadata": {
        "id": "EZPn--hBy7nR",
        "colab_type": "text"
      },
      "source": [
        "# หมายเหตุ\n",
        "\n",
        "* อันนี้เป็นการทดสอบแบบคร่าว ๆ ให้พอเห็นภาพ มีตัวแปรอีกหลายอย่าง เช่น จำนวน Epoch, โมเดล, รุ่น GPU, CPU, ชนิดของ Disk, Batch Size, Memory, etc.\n",
        "* CPU ที่ใช้ คือ \n",
        "        Machine type: n1-highmem-8 (8 vCPUs, 52 GB memory)\n",
        "        CPU: platformIntel Skylake\n",
        "\n",
        "* GPU ที่ใช้ คือ \n",
        "        Machine type: n1-highmem-8 (8 vCPUs, 52 GB memory)\n",
        "        CPU: platformIntel Skylake\n",
        "        GPUs: 1 x NVIDIA Tesla P4\n"
      ]
    },
    {
      "cell_type": "markdown",
      "metadata": {
        "id": "5N21odcUy7nS",
        "colab_type": "text"
      },
      "source": [
        "# Credit"
      ]
    },
    {
      "cell_type": "markdown",
      "metadata": {
        "id": "nBOmsRDJzKR5",
        "colab_type": "text"
      },
      "source": [
        "* [Oxford-IIIT Pet Dataset](http://www.robots.ox.ac.uk/~vgg/data/pets/) by [O. M. Parkhi et al., 2012](http://www.robots.ox.ac.uk/~vgg/publications/2012/parkhi12a/parkhi12a.pdf)\n",
        "* https://course.fast.ai/videos/?lesson=1\n",
        "* https://cloud.google.com/compute/all-pricing"
      ]
    },
    {
      "cell_type": "code",
      "metadata": {
        "id": "LripSrxIzLwb",
        "colab_type": "code",
        "colab": {}
      },
      "source": [
        ""
      ],
      "execution_count": 0,
      "outputs": []
    }
  ]
}