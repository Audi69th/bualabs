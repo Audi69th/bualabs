{
 "cells": [
  {
   "cell_type": "markdown",
   "metadata": {},
   "source": [
    "# Facebook Group"
   ]
  },
  {
   "cell_type": "markdown",
   "metadata": {},
   "source": [
    "* [Colab Thailand](https://www.facebook.com/groups/colab.thailand/)\n",
    "* [Data Science BKK](https://www.facebook.com/groups/dsbkkgroup/)\n",
    "* [Thai Natural Language Processing](https://www.facebook.com/groups/thainlp/)\n",
    "* [Thailand Deep Learning](https://www.facebook.com/groups/988867541235062/)\n",
    "* [Thai Data Scientists & Data Engineers](https://www.facebook.com/groups/thaidsml/)\n",
    "* [PyTorch Thailand](https://www.facebook.com/groups/625298724470551/)\n",
    "* [TensorFlow Thailand](https://www.facebook.com/groups/TensorFlowThailand/)\n",
    "* [Thailand Machine Learning & Artificial Intelligence](https://www.facebook.com/groups/941490879222335/)\n",
    "* [AIAT Talk](https://www.facebook.com/groups/aiat.talk/)\n",
    "* [Thailand Reinforcement Learning](https://www.facebook.com/groups/thai.rl/)\n",
    "* [Python-Thailand](https://www.facebook.com/groups/admin.py.dev/)\n",
    "* [Thai R User Group](https://www.facebook.com/groups/ThaiRUserGroup/)\n",
    "* [R For Data Science](https://www.facebook.com/groups/r4datascience/)\n",
    "* [Thai Tableau User Group (TTUG)](https://www.facebook.com/groups/ThaiTableauUsersGroup/)\n",
    "* [Thai AI Service Platform](https://www.facebook.com/groups/329293231118737/)\n",
    "* [NVIDIA® Jetson Developer Thailand](https://www.facebook.com/groups/432403884190009/)\n",
    "* [Thailand's Machine Learning Research](https://www.facebook.com/groups/164204783609455/)\n",
    "* [DATA อาไยดี](https://www.facebook.com/groups/1974407749285542/)\n"
   ]
  },
  {
   "cell_type": "markdown",
   "metadata": {},
   "source": [
    "# Facebook Page"
   ]
  },
  {
   "cell_type": "markdown",
   "metadata": {},
   "source": [
    "* [Data TH.com - Data Science ชิลชิล](https://www.facebook.com/datasciencechill/)\n",
    "* [Data Content](https://www.facebook.com/DataContent/)\n",
    "* [DataRockie](https://www.facebook.com/datarockie/)\n",
    "* [ThaiKeras and Kaggle](https://www.facebook.com/thaikeras/)\n",
    "* [สอนหน่อย : Teachme](https://www.facebook.com/sornnoiteachme/)\n",
    "* [Noob Learning](https://www.facebook.com/nooblearning/)\n",
    "* [BUA Labs](https://www.facebook.com/bualabs/)\n"
   ]
  },
  {
   "cell_type": "code",
   "execution_count": null,
   "metadata": {},
   "outputs": [],
   "source": []
  }
 ],
 "metadata": {
  "kernelspec": {
   "display_name": "Python 3",
   "language": "python",
   "name": "python3"
  },
  "language_info": {
   "codemirror_mode": {
    "name": "ipython",
    "version": 3
   },
   "file_extension": ".py",
   "mimetype": "text/x-python",
   "name": "python",
   "nbconvert_exporter": "python",
   "pygments_lexer": "ipython3",
   "version": "3.7.3"
  }
 },
 "nbformat": 4,
 "nbformat_minor": 2
}
