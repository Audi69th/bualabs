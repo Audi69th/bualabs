{
  "nbformat": 4,
  "nbformat_minor": 0,
  "metadata": {
    "kernelspec": {
      "display_name": "Python 3",
      "language": "python",
      "name": "python3"
    },
    "language_info": {
      "codemirror_mode": {
        "name": "ipython",
        "version": 3
      },
      "file_extension": ".py",
      "mimetype": "text/x-python",
      "name": "python",
      "nbconvert_exporter": "python",
      "pygments_lexer": "ipython3",
      "version": "3.7.3"
    },
    "colab": {
      "name": "16a-neural-networks-basic.ipynb",
      "provenance": []
    }
  },
  "cells": [
    {
      "cell_type": "markdown",
      "metadata": {
        "id": "8TtBh1FSY_q_",
        "colab_type": "text"
      },
      "source": [
        "Neural Networks 101 - 2 Layers Deep Neural Networks from Scratch\n",
        "\n",
        "สอนสร้าง นิวรอลเน็ตเวิร์ก ทีละขั้นตอน แบบเข้าใจง่าย"
      ]
    },
    {
      "cell_type": "markdown",
      "metadata": {
        "id": "aJjqUPNlY_rB",
        "colab_type": "text"
      },
      "source": [
        "# 0. Magic"
      ]
    },
    {
      "cell_type": "code",
      "metadata": {
        "id": "qhh4MXgeY_rB",
        "colab_type": "code",
        "colab": {
          "base_uri": "https://localhost:8080/",
          "height": 52
        },
        "outputId": "b5210ce7-c977-42ac-a722-c77b9dad6245"
      },
      "source": [
        "%load_ext autoreload\n",
        "%autoreload 2\n",
        "%matplotlib inline"
      ],
      "execution_count": 62,
      "outputs": [
        {
          "output_type": "stream",
          "text": [
            "The autoreload extension is already loaded. To reload it, use:\n",
            "  %reload_ext autoreload\n"
          ],
          "name": "stdout"
        }
      ]
    },
    {
      "cell_type": "markdown",
      "metadata": {
        "id": "LodDKAJnY_rF",
        "colab_type": "text"
      },
      "source": [
        "# 1. Import"
      ]
    },
    {
      "cell_type": "code",
      "metadata": {
        "id": "w86GG41WY_rF",
        "colab_type": "code",
        "colab": {}
      },
      "source": [
        "from pathlib import Path\n",
        "from IPython.core.debugger import set_trace\n",
        "from fastai import datasets\n",
        "import pickle, gzip, math, torch\n",
        "from torch import tensor, nn\n",
        "import operator"
      ],
      "execution_count": 0,
      "outputs": []
    },
    {
      "cell_type": "markdown",
      "metadata": {
        "id": "OCrp7uV3Y_rH",
        "colab_type": "text"
      },
      "source": [
        "ประกาศฟังก์ชันที่ใช้ในการเทส ค่าใกล้เคียงกัน และค่าใกล้ 0 เนื่องจาก ตัวเลขแบบ Floating Point จะไม่สามารถเปรียบเทียบว่าเท่ากันหรือไม่ได้ตรง ๆ เพราะจะมีความคลาดเคลื่อนอยู่ โดยเฉพาะอย่างยิ่งเลขมาก ๆ และเลขน้อย ๆ เช่น 123456789.0 หรือ 0.123456789 แต่เราจะใช้ค่า tol (tolerance) ว่าถ้าห่างกันไม่เกินค่านี้ ก็ถือว่ามีค่าเท่ากัน"
      ]
    },
    {
      "cell_type": "code",
      "metadata": {
        "id": "uu0hOM0ZY_rI",
        "colab_type": "code",
        "colab": {}
      },
      "source": [
        "# tol = tolerance\n",
        "def test(a,b,cmp,cname=None):\n",
        "    if cname is None: cname=cmp.__name__\n",
        "    assert cmp(a,b),f\"{cname}:\\n{a}\\n{b}\"\n",
        "\n",
        "def near(a,b): return torch.allclose(a, b, rtol=1e-3, atol=1e-5)\n",
        "def test_near(a,b): test(a,b,near)    \n",
        "    \n",
        "def test_near_zero(a, tol=1e-3): assert a.abs() < tol, f\"Near Zero: {a}\"    "
      ],
      "execution_count": 0,
      "outputs": []
    },
    {
      "cell_type": "markdown",
      "metadata": {
        "id": "WICdOUuBY_rK",
        "colab_type": "text"
      },
      "source": [
        "# 2. Download Dataset"
      ]
    },
    {
      "cell_type": "markdown",
      "metadata": {
        "id": "vv_KnKP0Y_rL",
        "colab_type": "text"
      },
      "source": [
        "เคสนี้เราจะใช้ MNIST Dataset เหมือนเดิม"
      ]
    },
    {
      "cell_type": "code",
      "metadata": {
        "id": "VdIuQTYMY_rL",
        "colab_type": "code",
        "colab": {}
      },
      "source": [
        "MNIST_URL='http://deeplearning.net/data/mnist/mnist.pkl'"
      ],
      "execution_count": 0,
      "outputs": []
    },
    {
      "cell_type": "code",
      "metadata": {
        "id": "nXpYogBaY_rN",
        "colab_type": "code",
        "colab": {}
      },
      "source": [
        "def get_data():\n",
        "    path = datasets.download_data(MNIST_URL, ext='.gz')\n",
        "    with gzip.open(path, 'rb') as f:\n",
        "        ((x_train, y_train), (x_valid, y_valid), _) = pickle.load(f, encoding='latin-1')\n",
        "    return map(tensor, (x_train, y_train, x_valid, y_valid))"
      ],
      "execution_count": 0,
      "outputs": []
    },
    {
      "cell_type": "markdown",
      "metadata": {
        "id": "G2HU-agSY_rP",
        "colab_type": "text"
      },
      "source": [
        "ดาวน์โหลดชุดข้อมูลมาใส่ x, y ทั้ง Training Set และ Validation Set"
      ]
    },
    {
      "cell_type": "code",
      "metadata": {
        "id": "k_js7QX-Y_rQ",
        "colab_type": "code",
        "colab": {}
      },
      "source": [
        "x_train, y_train, x_valid, y_valid = get_data()"
      ],
      "execution_count": 0,
      "outputs": []
    },
    {
      "cell_type": "markdown",
      "metadata": {
        "id": "crKYsF1jY_rS",
        "colab_type": "text"
      },
      "source": [
        "# 3. เตรียมข้อมูล"
      ]
    },
    {
      "cell_type": "markdown",
      "metadata": {
        "id": "-Lu0bgGxY_rT",
        "colab_type": "text"
      },
      "source": [
        "หา mean และ standard deviation ของข้อมูล Training Set"
      ]
    },
    {
      "cell_type": "code",
      "metadata": {
        "id": "KOdl40sMY_rT",
        "colab_type": "code",
        "colab": {
          "base_uri": "https://localhost:8080/",
          "height": 35
        },
        "outputId": "3ec1edbd-b8fd-4b0b-a46e-13a66b5bac3b"
      },
      "source": [
        "train_mean, train_std = x_train.mean(), x_train.std()\n",
        "train_mean, train_std"
      ],
      "execution_count": 68,
      "outputs": [
        {
          "output_type": "execute_result",
          "data": {
            "text/plain": [
              "(tensor(0.1304), tensor(0.3073))"
            ]
          },
          "metadata": {
            "tags": []
          },
          "execution_count": 68
        }
      ]
    },
    {
      "cell_type": "markdown",
      "metadata": {
        "id": "m1zFUXbsY_rW",
        "colab_type": "text"
      },
      "source": [
        "Normalize คือการทำให้ข้อมูล มี mean = 0 และ standard deviation (std) = 1 ด้วยกัน ลบด้วย mean หารด้วย std"
      ]
    },
    {
      "cell_type": "code",
      "metadata": {
        "id": "6eW985LZY_rX",
        "colab_type": "code",
        "colab": {}
      },
      "source": [
        "# x = data, m = mean, s = standard deviation\n",
        "def normalize(x, m, s): \n",
        "    return (x-m)/s"
      ],
      "execution_count": 0,
      "outputs": []
    },
    {
      "cell_type": "code",
      "metadata": {
        "id": "jdvqOE-1Y_rZ",
        "colab_type": "code",
        "colab": {}
      },
      "source": [
        "x_train = normalize(x_train, train_mean, train_std)"
      ],
      "execution_count": 0,
      "outputs": []
    },
    {
      "cell_type": "markdown",
      "metadata": {
        "id": "z_Bd3EovY_rb",
        "colab_type": "text"
      },
      "source": [
        "Normalize ข้อมูล Validation Set ด้วย mean, std ของ Training Set เพื่อปรับให้เป็น Scale เดียวกัน"
      ]
    },
    {
      "cell_type": "code",
      "metadata": {
        "id": "ladOLk3jY_rc",
        "colab_type": "code",
        "colab": {}
      },
      "source": [
        "x_valid = normalize(x_valid, train_mean, train_std)"
      ],
      "execution_count": 0,
      "outputs": []
    },
    {
      "cell_type": "markdown",
      "metadata": {
        "id": "Zi_oMoh1Y_re",
        "colab_type": "text"
      },
      "source": [
        "ลองดูค่า mean, std หลังจาก Normalize เรียบร้อยแล้ว"
      ]
    },
    {
      "cell_type": "code",
      "metadata": {
        "scrolled": true,
        "id": "OJAuVOShY_re",
        "colab_type": "code",
        "colab": {
          "base_uri": "https://localhost:8080/",
          "height": 35
        },
        "outputId": "3a8e5d6f-88dd-47fb-c6a9-beab3b22fdb2"
      },
      "source": [
        "train_mean_after, train_std_after = x_train.mean(), x_train.std()\n",
        "train_mean_after, train_std_after"
      ],
      "execution_count": 72,
      "outputs": [
        {
          "output_type": "execute_result",
          "data": {
            "text/plain": [
              "(tensor(0.0001), tensor(1.))"
            ]
          },
          "metadata": {
            "tags": []
          },
          "execution_count": 72
        }
      ]
    },
    {
      "cell_type": "markdown",
      "metadata": {
        "id": "dsUq1RowY_rg",
        "colab_type": "text"
      },
      "source": [
        "ได้ mean เป็นจุดทศนิยมน้อยมาก ๆ ใกล้เคียง 0 และ std ใกล้เคียง 1"
      ]
    },
    {
      "cell_type": "code",
      "metadata": {
        "id": "_A0ki1ZAY_rh",
        "colab_type": "code",
        "colab": {}
      },
      "source": [
        "test_near_zero(train_mean_after)"
      ],
      "execution_count": 0,
      "outputs": []
    },
    {
      "cell_type": "code",
      "metadata": {
        "id": "pBLb9FPEY_rj",
        "colab_type": "code",
        "colab": {}
      },
      "source": [
        "test_near_zero(1-train_std_after)"
      ],
      "execution_count": 0,
      "outputs": []
    },
    {
      "cell_type": "markdown",
      "metadata": {
        "id": "B44hjUuMY_rl",
        "colab_type": "text"
      },
      "source": [
        "n = จำนวน Record, m จำนวน Feature, c = จำนวน class"
      ]
    },
    {
      "cell_type": "code",
      "metadata": {
        "id": "-kkSvhtXY_rl",
        "colab_type": "code",
        "colab": {
          "base_uri": "https://localhost:8080/",
          "height": 35
        },
        "outputId": "fa7e9244-ad26-4918-83e7-bd4bb9d06542"
      },
      "source": [
        "n, m = x_train.shape\n",
        "c = y_train.max()+1\n",
        "n, m, c"
      ],
      "execution_count": 75,
      "outputs": [
        {
          "output_type": "execute_result",
          "data": {
            "text/plain": [
              "(50000, 784, tensor(10))"
            ]
          },
          "metadata": {
            "tags": []
          },
          "execution_count": 75
        }
      ]
    },
    {
      "cell_type": "markdown",
      "metadata": {
        "id": "VD8i6WW3Y_ro",
        "colab_type": "text"
      },
      "source": [
        "# 4. Model"
      ]
    },
    {
      "cell_type": "markdown",
      "metadata": {
        "id": "DjjwkYxyY_ro",
        "colab_type": "text"
      },
      "source": [
        "เราจะสร้าง 2 Hidden Layers Neural Networks ที่มี 50 Neuron ในแต่ละ Hidden Layer "
      ]
    },
    {
      "cell_type": "code",
      "metadata": {
        "id": "MN84jQszY_rp",
        "colab_type": "code",
        "colab": {}
      },
      "source": [
        "# nh = number of hidden\n",
        "nh = 50"
      ],
      "execution_count": 0,
      "outputs": []
    },
    {
      "cell_type": "markdown",
      "metadata": {
        "id": "mdBEHyquY_rr",
        "colab_type": "text"
      },
      "source": [
        "กำหนดค่าเริ่มต้นของ Weight และ Bias ด้วยค่า Random แบบ Normal Distribution (Gaussian)"
      ]
    },
    {
      "cell_type": "code",
      "metadata": {
        "id": "QZb5iHOcY_rs",
        "colab_type": "code",
        "colab": {}
      },
      "source": [
        "w1 = torch.randn(m, nh)\n",
        "b1 = torch.zeros(nh)\n",
        "w2 = torch.randn(nh, 1)\n",
        "b2 = torch.zeros(1)"
      ],
      "execution_count": 0,
      "outputs": []
    },
    {
      "cell_type": "markdown",
      "metadata": {
        "id": "nN5Xuhq0Y_rw",
        "colab_type": "text"
      },
      "source": [
        "ลองดูค่า mean, std ของ Weight"
      ]
    },
    {
      "cell_type": "code",
      "metadata": {
        "id": "NC_Ql2_lY_rx",
        "colab_type": "code",
        "colab": {
          "base_uri": "https://localhost:8080/",
          "height": 0
        },
        "outputId": "295ba7c6-2879-4061-8c16-0d8a6a5e9bbb"
      },
      "source": [
        "w1.mean(), w1.std()"
      ],
      "execution_count": 78,
      "outputs": [
        {
          "output_type": "execute_result",
          "data": {
            "text/plain": [
              "(tensor(0.0008), tensor(0.9970))"
            ]
          },
          "metadata": {
            "tags": []
          },
          "execution_count": 78
        }
      ]
    },
    {
      "cell_type": "code",
      "metadata": {
        "id": "K9KAeUNjY_rz",
        "colab_type": "code",
        "colab": {}
      },
      "source": [
        "# x = data, w = weight, b = bias\n",
        "def lin(x, w, b): \n",
        "    return x@w + b"
      ],
      "execution_count": 0,
      "outputs": []
    },
    {
      "cell_type": "code",
      "metadata": {
        "id": "Yx8lF_1wY_r1",
        "colab_type": "code",
        "colab": {}
      },
      "source": [
        "def relu(x):\n",
        "    return x.clamp_min(0.)"
      ],
      "execution_count": 0,
      "outputs": []
    },
    {
      "cell_type": "code",
      "metadata": {
        "id": "ZvGQDddFY_r5",
        "colab_type": "code",
        "colab": {}
      },
      "source": [
        "# xb = x batch, l2 = layer 2, a1 = activation 1\n",
        "def model(xb):\n",
        "    l0 = xb\n",
        "    l1 = lin(l0, w1, b1)\n",
        "    a1 = relu(l1)\n",
        "    l2 = lin(a1, w2, b2)    \n",
        "    return l2"
      ],
      "execution_count": 0,
      "outputs": []
    },
    {
      "cell_type": "markdown",
      "metadata": {
        "id": "TS0D6tSlY_r7",
        "colab_type": "text"
      },
      "source": [
        "yhat (y hat) คือ y ที่ได้จากการคำนวนของโมเดล ที่เราจะเอาไปเปรียบเทียบกับ y จริง ๆ จาก Training Set หรือ Validation Set"
      ]
    },
    {
      "cell_type": "code",
      "metadata": {
        "id": "LXgM3AWvY_r8",
        "colab_type": "code",
        "colab": {}
      },
      "source": [
        "yhat = model(x_train)"
      ],
      "execution_count": 0,
      "outputs": []
    },
    {
      "cell_type": "code",
      "metadata": {
        "id": "8KIgy9fBY_r-",
        "colab_type": "code",
        "colab": {
          "base_uri": "https://localhost:8080/",
          "height": 0
        },
        "outputId": "ec3724db-94e8-435b-f6d1-3c8ec49f8b80"
      },
      "source": [
        "yhat.shape, y_train.shape"
      ],
      "execution_count": 83,
      "outputs": [
        {
          "output_type": "execute_result",
          "data": {
            "text/plain": [
              "(torch.Size([50000, 1]), torch.Size([50000]))"
            ]
          },
          "metadata": {
            "tags": []
          },
          "execution_count": 83
        }
      ]
    },
    {
      "cell_type": "markdown",
      "metadata": {
        "id": "Ae0uou26Y_sA",
        "colab_type": "text"
      },
      "source": [
        "# 5. Loss Function"
      ]
    },
    {
      "cell_type": "markdown",
      "metadata": {
        "id": "63gaPlImY_sA",
        "colab_type": "text"
      },
      "source": [
        "ในที่นี้เราจะใช้ Mean Squared Error แทน Cross Entropy Loss เพื่อลดความซับซ้อนของโค้ดให้เข้าใจง่ายขึ้น (แต่จริง ๆ ไม่เหมาะกับงาน Classification แบบนี้)\n",
        "\n",
        "*จาก shape ด้านบน yhat เป็น tensor 2 มิติ เราจะ squeeze มิติสุดท้าย (-1) ทิ้งไป ก่อนลบกับ y*"
      ]
    },
    {
      "cell_type": "code",
      "metadata": {
        "id": "9Bb9z8XZY_sB",
        "colab_type": "code",
        "colab": {}
      },
      "source": [
        "def mse(yhat, y): return ((yhat.squeeze(-1)-y)**2).mean()"
      ],
      "execution_count": 0,
      "outputs": []
    },
    {
      "cell_type": "markdown",
      "metadata": {
        "id": "5z23DKx9Y_sC",
        "colab_type": "text"
      },
      "source": [
        "แปลงจาก Long เป็น Float ก่อนส่งให้ฟังก์ชัน"
      ]
    },
    {
      "cell_type": "code",
      "metadata": {
        "id": "CvUCyuy8Y_sD",
        "colab_type": "code",
        "colab": {}
      },
      "source": [
        "y_train, y_valid = y_train.float(), y_valid.float()"
      ],
      "execution_count": 0,
      "outputs": []
    },
    {
      "cell_type": "code",
      "metadata": {
        "id": "13L7j80uY_sF",
        "colab_type": "code",
        "colab": {
          "base_uri": "https://localhost:8080/",
          "height": 0
        },
        "outputId": "7f10bad3-5f79-4220-bbb5-d31ba583343d"
      },
      "source": [
        "loss = mse(yhat, y_train)\n",
        "loss"
      ],
      "execution_count": 86,
      "outputs": [
        {
          "output_type": "execute_result",
          "data": {
            "text/plain": [
              "tensor(14467.1260)"
            ]
          },
          "metadata": {
            "tags": []
          },
          "execution_count": 86
        }
      ]
    },
    {
      "cell_type": "markdown",
      "metadata": {
        "id": "uL-GAs8nY_sI",
        "colab_type": "text"
      },
      "source": [
        "# 6. Backpropagation and Gradients"
      ]
    },
    {
      "cell_type": "markdown",
      "metadata": {
        "id": "oifPLE1xY_sI",
        "colab_type": "text"
      },
      "source": [
        "ประกาศฟังก์ชัน Diff ของฟังก์ชันด้านบน เพื่อใช้ใน Backpropagation หา Gradient ของ Loss ที่ขึ้นกับทุก ๆ Parameter"
      ]
    },
    {
      "cell_type": "code",
      "metadata": {
        "id": "qc7GYeq0Y_sJ",
        "colab_type": "code",
        "colab": {}
      },
      "source": [
        "# inp = input, targ = target\n",
        "def mse_grad(inp, targ): \n",
        "    inp.g = (2. * (inp.squeeze()-targ).unsqueeze(-1)/inp.shape[0])\n",
        "#     print(inp.shape, inp.g.shape)\n",
        "    assert inp.shape == inp.g.shape"
      ],
      "execution_count": 0,
      "outputs": []
    },
    {
      "cell_type": "code",
      "metadata": {
        "id": "z_-3_378Y_sK",
        "colab_type": "code",
        "colab": {}
      },
      "source": [
        "# inp = input, out = output\n",
        "def relu_grad(inp, out): \n",
        "    inp.g = (inp>0).float() * out.g\n",
        "    assert inp.shape == inp.g.shape"
      ],
      "execution_count": 0,
      "outputs": []
    },
    {
      "cell_type": "code",
      "metadata": {
        "id": "stvhMK6NY_sM",
        "colab_type": "code",
        "colab": {}
      },
      "source": [
        "def lin_grad(inp, out, w, b): \n",
        "    inp.g = out.g @ w.t()    \n",
        "    w.g = inp.squeeze(-1).t() @ out.g\n",
        "    b.g = out.g.sum(0)\n",
        "    assert inp.shape == inp.g.shape\n",
        "    assert w.shape == w.g.shape\n",
        "    assert b.shape == b.g.shape    "
      ],
      "execution_count": 0,
      "outputs": []
    },
    {
      "cell_type": "markdown",
      "metadata": {
        "id": "qAr1C08WY_sO",
        "colab_type": "text"
      },
      "source": [
        "ประกาศฟังก์ชัน ให้รันทั้ง forward และ backward หา Gradient"
      ]
    },
    {
      "cell_type": "code",
      "metadata": {
        "id": "cPBMjjtMY_sO",
        "colab_type": "code",
        "colab": {}
      },
      "source": [
        "def forward_and_backward(inp, targ):\n",
        "    # forward\n",
        "    l1 = inp @ w1 + b1\n",
        "    a1 = relu(l1)\n",
        "    l2 = a1 @ w2 + b2\n",
        "    loss = mse(l2, targ)\n",
        "    \n",
        "    # backward\n",
        "    mse_grad(l2, targ)\n",
        "    lin_grad(a1, l2, w2, b2)\n",
        "    relu_grad(l1, a1)\n",
        "    lin_grad(inp, l1, w1, b1)   "
      ],
      "execution_count": 0,
      "outputs": []
    },
    {
      "cell_type": "code",
      "metadata": {
        "id": "tE6ovqsDY_sR",
        "colab_type": "code",
        "colab": {
          "base_uri": "https://localhost:8080/",
          "height": 0
        },
        "outputId": "c694cfa1-eb6c-448e-eb1f-1607a6883f33"
      },
      "source": [
        "x_train.shape, y_train.shape"
      ],
      "execution_count": 91,
      "outputs": [
        {
          "output_type": "execute_result",
          "data": {
            "text/plain": [
              "(torch.Size([50000, 784]), torch.Size([50000]))"
            ]
          },
          "metadata": {
            "tags": []
          },
          "execution_count": 91
        }
      ]
    },
    {
      "cell_type": "code",
      "metadata": {
        "id": "zUloDVWsY_sT",
        "colab_type": "code",
        "colab": {}
      },
      "source": [
        "forward_and_backward(x_train, y_train)"
      ],
      "execution_count": 0,
      "outputs": []
    },
    {
      "cell_type": "markdown",
      "metadata": {
        "id": "HlYmpsbSY_sU",
        "colab_type": "text"
      },
      "source": [
        "ได้ค่า Gradient ออกมา"
      ]
    },
    {
      "cell_type": "code",
      "metadata": {
        "id": "qafcETOiY_sV",
        "colab_type": "code",
        "colab": {
          "base_uri": "https://localhost:8080/",
          "height": 0
        },
        "outputId": "35faa224-4a04-4197-fe27-1bbc83bd584f"
      },
      "source": [
        "w1.g.mean(), w1.g.std()"
      ],
      "execution_count": 93,
      "outputs": [
        {
          "output_type": "execute_result",
          "data": {
            "text/plain": [
              "(tensor(0.0717), tensor(50.5915))"
            ]
          },
          "metadata": {
            "tags": []
          },
          "execution_count": 93
        }
      ]
    },
    {
      "cell_type": "markdown",
      "metadata": {
        "id": "1NT03kQ3Y_sX",
        "colab_type": "text"
      },
      "source": [
        "เราจะ Clone Gradient ที่ตำนวนได้เอาไว้ก่อน เอาไว้เทียบกับของ Model เวอร์ชันต่อ ๆ ไป"
      ]
    },
    {
      "cell_type": "code",
      "metadata": {
        "id": "FJnOAyDNY_sY",
        "colab_type": "code",
        "colab": {}
      },
      "source": [
        "w1g = w1.g.clone()\n",
        "w2g = w2.g.clone()\n",
        "b1g = b1.g.clone()\n",
        "b2g = b2.g.clone()\n",
        "ig  = x_train.g.clone()"
      ],
      "execution_count": 0,
      "outputs": []
    },
    {
      "cell_type": "markdown",
      "metadata": {
        "id": "SYFs3ox_Y_sZ",
        "colab_type": "text"
      },
      "source": [
        "## 6.1 แอบใช้ PyTorch หา Gradient"
      ]
    },
    {
      "cell_type": "markdown",
      "metadata": {
        "id": "WzjuTwh4Y_sa",
        "colab_type": "text"
      },
      "source": [
        "ใช้ PyTorch Autograd มาช่วยหา Gradient เอาไว้เช็คความถูกต้อง"
      ]
    },
    {
      "cell_type": "code",
      "metadata": {
        "id": "2_MhjBmpY_sb",
        "colab_type": "code",
        "colab": {}
      },
      "source": [
        "xt2 = x_train.clone().requires_grad_(True)\n",
        "w12 = w1.clone().requires_grad_(True)\n",
        "w22 = w2.clone().requires_grad_(True)\n",
        "b12 = b1.clone().requires_grad_(True)\n",
        "b22 = b2.clone().requires_grad_(True)"
      ],
      "execution_count": 0,
      "outputs": []
    },
    {
      "cell_type": "code",
      "metadata": {
        "id": "GWIY0vqkY_sd",
        "colab_type": "code",
        "colab": {}
      },
      "source": [
        "def forward(inp, targ):\n",
        "    # forward pass:\n",
        "    l1 = inp @ w12 + b12\n",
        "    l2 = relu(l1)\n",
        "    out = l2 @ w22 + b22\n",
        "    # we don't actually need the loss in backward!\n",
        "    return mse(out, targ)"
      ],
      "execution_count": 0,
      "outputs": []
    },
    {
      "cell_type": "code",
      "metadata": {
        "id": "RYJkced6Y_sh",
        "colab_type": "code",
        "colab": {
          "base_uri": "https://localhost:8080/",
          "height": 0
        },
        "outputId": "338c9a0e-59fc-493b-cf5f-1aed92cc545d"
      },
      "source": [
        "loss = forward(xt2, y_train)\n",
        "loss"
      ],
      "execution_count": 97,
      "outputs": [
        {
          "output_type": "execute_result",
          "data": {
            "text/plain": [
              "tensor(14467.1260, grad_fn=<MeanBackward0>)"
            ]
          },
          "metadata": {
            "tags": []
          },
          "execution_count": 97
        }
      ]
    },
    {
      "cell_type": "markdown",
      "metadata": {
        "id": "rblPAJZJY_sm",
        "colab_type": "text"
      },
      "source": [
        "เรียก backward ให้ PyTorch ทำ Backpropagation กับทุกตัวแปรที่ requires_grad=True ด้านบน"
      ]
    },
    {
      "cell_type": "code",
      "metadata": {
        "id": "W3WNrv20Y_sn",
        "colab_type": "code",
        "colab": {}
      },
      "source": [
        "loss.backward()"
      ],
      "execution_count": 0,
      "outputs": []
    },
    {
      "cell_type": "markdown",
      "metadata": {
        "id": "FQ1qJ5qtY_so",
        "colab_type": "text"
      },
      "source": [
        "เทสว่า Gradient จาก PyTorch ตรงกับที่เรา Clone ไว้หรือไม่"
      ]
    },
    {
      "cell_type": "code",
      "metadata": {
        "id": "pCgRk0mpY_sp",
        "colab_type": "code",
        "colab": {}
      },
      "source": [
        "test_near(w22.grad, w2g)\n",
        "test_near(b22.grad, b2g)\n",
        "test_near(w12.grad, w1g)\n",
        "test_near(b12.grad, b1g)\n",
        "test_near(xt2.grad, ig )"
      ],
      "execution_count": 0,
      "outputs": []
    },
    {
      "cell_type": "markdown",
      "metadata": {
        "id": "od2EsyyPY_ss",
        "colab_type": "text"
      },
      "source": [
        "เทสผ่าน แสดงว่า Gradient ที่เราคำนวนถูกต้อง ตรงกับที่ PyTorch Autograd ช่วยคำนวน"
      ]
    },
    {
      "cell_type": "markdown",
      "metadata": {
        "id": "FbYT2GN8Y_st",
        "colab_type": "text"
      },
      "source": [
        "# 7. Refactor Layer to Class"
      ]
    },
    {
      "cell_type": "markdown",
      "metadata": {
        "id": "hnQeU0_DY_st",
        "colab_type": "text"
      },
      "source": [
        "เราจะมา Refactor โค้ด ด้านบน แต่ละส่วน Layer, Activation Function, Loss Function ให้เป็น Class ของตัวเอง"
      ]
    },
    {
      "cell_type": "code",
      "metadata": {
        "id": "6dJyj2TsY_sv",
        "colab_type": "code",
        "colab": {}
      },
      "source": [
        "class Relu():\n",
        "    def __call__(self, inp):\n",
        "        self.inp = inp\n",
        "        self.out = inp.clamp_min(0.)\n",
        "        return self.out\n",
        "    def backward(self):\n",
        "        self.inp.g = (self.inp>0).float()*self.out.g"
      ],
      "execution_count": 0,
      "outputs": []
    },
    {
      "cell_type": "code",
      "metadata": {
        "id": "5vspqqeYY_sx",
        "colab_type": "code",
        "colab": {}
      },
      "source": [
        "class Lin():\n",
        "    def __init__(self, w, b): self.w, self.b = w, b\n",
        "        \n",
        "    def __call__(self, inp):\n",
        "        self.inp = inp\n",
        "        self.out = inp @ self.w + self.b\n",
        "        return self.out\n",
        "    def backward(self):\n",
        "        self.inp.g = self.out.g @ self.w.t()\n",
        "        self.w.g = self.inp.squeeze(-1).t() @ self.out.g\n",
        "        self.b.g = self.out.g.sum(0)"
      ],
      "execution_count": 0,
      "outputs": []
    },
    {
      "cell_type": "code",
      "metadata": {
        "id": "u8GDwZaQY_sz",
        "colab_type": "code",
        "colab": {}
      },
      "source": [
        "class Mse():\n",
        "    def __call__(self, inp, targ):\n",
        "        self.inp, self.targ = inp, targ\n",
        "        self.out = (inp.squeeze() - targ).pow(2).mean()\n",
        "        return self.out\n",
        "    def backward(self):\n",
        "        self.inp.g = 2. * (self.inp.squeeze() - self.targ).unsqueeze(-1) / self.inp.shape[0]        "
      ],
      "execution_count": 0,
      "outputs": []
    },
    {
      "cell_type": "markdown",
      "metadata": {
        "id": "5USABoTGY_s0",
        "colab_type": "text"
      },
      "source": [
        "เราจะสร้างโมเดล Neural Networks 2 Hidden Layer จาก Class ที่เราเพิ่ง Refactor ด้านบน"
      ]
    },
    {
      "cell_type": "code",
      "metadata": {
        "id": "WoRYFu-jY_s1",
        "colab_type": "code",
        "colab": {}
      },
      "source": [
        "class Model():\n",
        "    def __init__(self, w1, b1, w2, b2):\n",
        "        self.layers = [Lin(w1, b1), Relu(), Lin(w2, b2)]\n",
        "        self.loss = Mse()\n",
        "    def __call__(self, x, targ):\n",
        "#         set_trace()\n",
        "        for l in self.layers:\n",
        "            x = l(x)\n",
        "        return self.loss(x, targ)\n",
        "    def backward(self):\n",
        "        self.loss.backward()        \n",
        "        for l in reversed(self.layers):\n",
        "            l.backward()"
      ],
      "execution_count": 0,
      "outputs": []
    },
    {
      "cell_type": "markdown",
      "metadata": {
        "id": "w1XY-OZqY_s2",
        "colab_type": "text"
      },
      "source": [
        "เคลียร์ Gradient"
      ]
    },
    {
      "cell_type": "code",
      "metadata": {
        "id": "iiOA39ygY_s2",
        "colab_type": "code",
        "colab": {}
      },
      "source": [
        "w1.g, b1.g, w2.g, b2.g = [None]*4"
      ],
      "execution_count": 0,
      "outputs": []
    },
    {
      "cell_type": "markdown",
      "metadata": {
        "id": "m5Fg-_VSY_s4",
        "colab_type": "text"
      },
      "source": [
        "เราจะใช้ ข้อมูลเดิม, Weight และ Bias เดิม รันผ่านโมเดล แล้ว Backpropagate เพื่อเช็ค Gradient ว่าโมเดลทำงานได้ถูกต้องหรือไม่"
      ]
    },
    {
      "cell_type": "code",
      "metadata": {
        "scrolled": true,
        "id": "V9lvnnODY_s5",
        "colab_type": "code",
        "colab": {}
      },
      "source": [
        "model = Model(w1, b1, w2, b2)"
      ],
      "execution_count": 0,
      "outputs": []
    },
    {
      "cell_type": "code",
      "metadata": {
        "scrolled": false,
        "id": "cHPDFYYkY_s6",
        "colab_type": "code",
        "colab": {
          "base_uri": "https://localhost:8080/",
          "height": 35
        },
        "outputId": "bee5ac38-962b-4eb0-8e87-51fc0bf67acf"
      },
      "source": [
        "loss = model(x_train, y_train)\n",
        "loss"
      ],
      "execution_count": 106,
      "outputs": [
        {
          "output_type": "execute_result",
          "data": {
            "text/plain": [
              "tensor(14467.1260)"
            ]
          },
          "metadata": {
            "tags": []
          },
          "execution_count": 106
        }
      ]
    },
    {
      "cell_type": "markdown",
      "metadata": {
        "id": "Ru8I2qbrY_s8",
        "colab_type": "text"
      },
      "source": [
        "เรียก backward ให้โมเดล ทำการ Backpropagation หา Gradient จาก Layer หลังสุดมาหน้าสุด"
      ]
    },
    {
      "cell_type": "code",
      "metadata": {
        "id": "9-fwgHi-Y_s8",
        "colab_type": "code",
        "colab": {}
      },
      "source": [
        "model.backward()"
      ],
      "execution_count": 0,
      "outputs": []
    },
    {
      "cell_type": "code",
      "metadata": {
        "id": "f6-6t3LiY_s_",
        "colab_type": "code",
        "colab": {
          "base_uri": "https://localhost:8080/",
          "height": 35
        },
        "outputId": "7d8ffcf8-b012-4275-f539-0f486c0fb8d4"
      },
      "source": [
        "w1.g.mean(), w1.g.std()"
      ],
      "execution_count": 108,
      "outputs": [
        {
          "output_type": "execute_result",
          "data": {
            "text/plain": [
              "(tensor(0.0717), tensor(50.5915))"
            ]
          },
          "metadata": {
            "tags": []
          },
          "execution_count": 108
        }
      ]
    },
    {
      "cell_type": "markdown",
      "metadata": {
        "id": "Y7Y4N_AnY_tB",
        "colab_type": "text"
      },
      "source": [
        "เทสว่าถูกต้อง ตรงกับที่คำนวนไว้ตอนแรก "
      ]
    },
    {
      "cell_type": "code",
      "metadata": {
        "id": "B_GHnGXtY_tB",
        "colab_type": "code",
        "colab": {}
      },
      "source": [
        "test_near(w2g, w2.g)\n",
        "test_near(b2g, b2.g)\n",
        "test_near(w1g, w1.g)\n",
        "test_near(b1g, b1.g)\n",
        "test_near(ig, x_train.g)"
      ],
      "execution_count": 0,
      "outputs": []
    },
    {
      "cell_type": "markdown",
      "metadata": {
        "id": "DjuGmcViY_tC",
        "colab_type": "text"
      },
      "source": [
        "ถูกต้อง ได้ค่าตรงกัน ไม่มี Error"
      ]
    },
    {
      "cell_type": "markdown",
      "metadata": {
        "id": "LndnjrrvY_tD",
        "colab_type": "text"
      },
      "source": [
        "# 8. Refactor Layer Class to Module"
      ]
    },
    {
      "cell_type": "markdown",
      "metadata": {
        "id": "iW-oqLa-Y_tD",
        "colab_type": "text"
      },
      "source": [
        "ใน Class ต่าง ๆ เราจะเห็นโค้ดซ้ำ ๆ กันอยู่ เช่น โค้ดสำหรับ cache ค่า input เราสามารถ Refactor โค้ดเหล่านี้ เป็น Abstract Class ชื่อ Module ขึ้นมา เพื่อให้ Layer ชนิดต่าง ๆ มา Inherit ได้"
      ]
    },
    {
      "cell_type": "code",
      "metadata": {
        "id": "qn3kzdOYY_tD",
        "colab_type": "code",
        "colab": {}
      },
      "source": [
        "class Module():\n",
        "    def __call__(self, *args):\n",
        "        self.args = args\n",
        "        self.out = self.forward(*args)\n",
        "        return self.out\n",
        "    def forward(self, inp):\n",
        "        raise Exception('Not implemented')\n",
        "    def backward(self):\n",
        "        self.bwd(self.out, *self.args)        "
      ],
      "execution_count": 0,
      "outputs": []
    },
    {
      "cell_type": "code",
      "metadata": {
        "id": "kyqIFqD0Y_tG",
        "colab_type": "code",
        "colab": {}
      },
      "source": [
        "class Relu(Module):\n",
        "    def forward(self, inp):\n",
        "        return inp.clamp_min(0.)\n",
        "    def bwd(self, out, inp):\n",
        "        inp.g = (inp>0).float()*out.g"
      ],
      "execution_count": 0,
      "outputs": []
    },
    {
      "cell_type": "code",
      "metadata": {
        "id": "qEEihpLJY_tH",
        "colab_type": "code",
        "colab": {}
      },
      "source": [
        "class Lin(Module):\n",
        "    def __init__(self, w, b):\n",
        "        self.w, self.b = w, b\n",
        "    def forward(self, inp):\n",
        "        return inp @ self.w + self.b\n",
        "    def bwd(self, out, inp):\n",
        "        inp.g = out.g @ self.w.t()\n",
        "        self.w.g = inp.squeeze(-1).t() @ out.g\n",
        "        self.b.g = out.g.sum(0)"
      ],
      "execution_count": 0,
      "outputs": []
    },
    {
      "cell_type": "code",
      "metadata": {
        "id": "1wec2RFpY_tJ",
        "colab_type": "code",
        "colab": {}
      },
      "source": [
        "class Mse(Module):\n",
        "    def forward(self, inp, targ):\n",
        "        return (inp.squeeze() - targ).pow(2).mean()\n",
        "    def bwd(self, out, inp, targ):\n",
        "        inp.g = 2. * (inp.squeeze() - targ).unsqueeze(-1) / inp.shape[0]        "
      ],
      "execution_count": 0,
      "outputs": []
    },
    {
      "cell_type": "markdown",
      "metadata": {
        "id": "JIOq5osgY_tK",
        "colab_type": "text"
      },
      "source": [
        "เราจะสร้างโมเดล Neural Networks 2 Hidden Layer จาก Module ที่เราเพิ่ง Refactor ด้านบน"
      ]
    },
    {
      "cell_type": "markdown",
      "metadata": {
        "id": "ZMRWZfZfY_tK",
        "colab_type": "text"
      },
      "source": [
        "เราจะใช้ ข้อมูลเดิม, Weight และ Bias เดิม รันผ่านโมเดล แล้ว Backpropagate เพื่อเช็ค Gradient ว่าโมเดลทำงานได้ถูกต้องหรือไม่"
      ]
    },
    {
      "cell_type": "code",
      "metadata": {
        "id": "ROzsvw2VY_tL",
        "colab_type": "code",
        "colab": {}
      },
      "source": [
        "class Model():\n",
        "    def __init__(self):\n",
        "        self.layers = [Lin(w1, b1), Relu(), Lin(w2, b2)]\n",
        "        self.loss = Mse()\n",
        "    def __call__(self, x, targ):\n",
        "#         set_trace()\n",
        "        for l in self.layers:\n",
        "            x = l(x)\n",
        "        return self.loss(x, targ)\n",
        "    def backward(self):\n",
        "        self.loss.backward()        \n",
        "        for l in reversed(self.layers):\n",
        "            l.backward()"
      ],
      "execution_count": 0,
      "outputs": []
    },
    {
      "cell_type": "markdown",
      "metadata": {
        "id": "5KrUnhmfY_tM",
        "colab_type": "text"
      },
      "source": [
        "เคลียร์ Gradient"
      ]
    },
    {
      "cell_type": "code",
      "metadata": {
        "id": "XMjHRE-WY_tM",
        "colab_type": "code",
        "colab": {}
      },
      "source": [
        "w1.g, b1.g, w2.g, b2.g = [None] * 4"
      ],
      "execution_count": 0,
      "outputs": []
    },
    {
      "cell_type": "markdown",
      "metadata": {
        "id": "qu2vA31zY_tO",
        "colab_type": "text"
      },
      "source": [
        "สร้างโมเดล"
      ]
    },
    {
      "cell_type": "code",
      "metadata": {
        "id": "7W3Szwx-Y_tP",
        "colab_type": "code",
        "colab": {}
      },
      "source": [
        "model = Model()"
      ],
      "execution_count": 0,
      "outputs": []
    },
    {
      "cell_type": "code",
      "metadata": {
        "id": "iVPWFXmDY_tQ",
        "colab_type": "code",
        "colab": {}
      },
      "source": [
        "loss = model(x_train, y_train)"
      ],
      "execution_count": 0,
      "outputs": []
    },
    {
      "cell_type": "markdown",
      "metadata": {
        "id": "cc4ioMF-Y_tR",
        "colab_type": "text"
      },
      "source": [
        "เรียก backward ให้โมเดล ทำการ Backpropagation หา Gradient จาก Layer หลังสุดมาหน้าสุด"
      ]
    },
    {
      "cell_type": "code",
      "metadata": {
        "id": "IxA-tvksY_tR",
        "colab_type": "code",
        "colab": {}
      },
      "source": [
        "model.backward()"
      ],
      "execution_count": 0,
      "outputs": []
    },
    {
      "cell_type": "markdown",
      "metadata": {
        "id": "3-xvmKX3Y_tT",
        "colab_type": "text"
      },
      "source": [
        "เทสว่าถูกต้อง ตรงกับที่คำนวนไว้ตอนแรก "
      ]
    },
    {
      "cell_type": "code",
      "metadata": {
        "id": "864fzoKnY_tT",
        "colab_type": "code",
        "colab": {}
      },
      "source": [
        "test_near(w2g, w2.g)\n",
        "test_near(b2g, b2.g)\n",
        "test_near(w1g, w1.g)\n",
        "test_near(b1g, b1.g)\n",
        "test_near(ig, x_train.g)"
      ],
      "execution_count": 0,
      "outputs": []
    },
    {
      "cell_type": "markdown",
      "metadata": {
        "id": "-PknX8woY_tU",
        "colab_type": "text"
      },
      "source": [
        "ถูกต้อง ได้ค่าตรงกัน ไม่มี Error"
      ]
    },
    {
      "cell_type": "markdown",
      "metadata": {
        "id": "2a0saBuIbIPD",
        "colab_type": "text"
      },
      "source": [
        "# 9. Refactor Model to Module\n"
      ]
    },
    {
      "cell_type": "markdown",
      "metadata": {
        "id": "-byoJZIbbdB5",
        "colab_type": "text"
      },
      "source": [
        "ให้ nn.Module จัดการในส่วน Backprogation ของ Model ทำให้โค้ดสั้นลงอีก เปลี่ยน Lin Layer ไปใช้ PyTorch nn.Linear และเอา Loss Function ออกจากโมเดล "
      ]
    },
    {
      "cell_type": "code",
      "metadata": {
        "id": "MBmUq_cTbK0u",
        "colab_type": "code",
        "colab": {}
      },
      "source": [
        "class Model(nn.Module):\n",
        "    # number of input feature, number of hidden feature, number of output feature\n",
        "    def __init__(self, n_in, nh, n_out):\n",
        "        super().__init__()\n",
        "#         set_trace()\n",
        "        self.layers = [nn.Linear(n_in, nh), nn.ReLU(), nn.Linear(nh, n_out)]        \n",
        "    def __call__(self, x):\n",
        "        for l in self.layers:\n",
        "            x = l(x)\n",
        "        return x"
      ],
      "execution_count": 0,
      "outputs": []
    },
    {
      "cell_type": "markdown",
      "metadata": {
        "id": "0qlC3tfhY_tU",
        "colab_type": "text"
      },
      "source": [
        "# 10. สรุป"
      ]
    },
    {
      "cell_type": "markdown",
      "metadata": {
        "id": "1e-f9IAtY_tV",
        "colab_type": "text"
      },
      "source": [
        "1. เราได้เรียนรู้การสร้าง 2 Layers Deep Neural Networks ตั้งแต่เริ่มต้น คูณเมตริกซ์, Activation Function, Loss Function, ไปจน Backpropagation, หา Gradient ส่วนเรื่องการเทรนโมเดล ปรับ Hyperparameter เราจะอธิบายต่อไป\n",
        "1. เราได้ Refactor โค้ด นำมาสร้างเป็น Class, เป็น Module เพื่อเอาไว้ Reuse นำไปใช้สร้างโมเดล Deep Neural Networks ที่ซับซ้อนขึ้นอีก ในอนาคต\n",
        "1. เราได้ Initialize กำหนดค่าเริ่มต้นของ Weight และ Bias ด้วยค่า Random แบบ Normal Distribution (Gaussian)"
      ]
    },
    {
      "cell_type": "markdown",
      "metadata": {
        "id": "TC1Kspl9Y_tV",
        "colab_type": "text"
      },
      "source": [
        "# Credit"
      ]
    },
    {
      "cell_type": "markdown",
      "metadata": {
        "id": "VT_l0ViLY_tW",
        "colab_type": "text"
      },
      "source": [
        "* https://course.fast.ai/videos/?lesson=8\n",
        "* https://pytorch.org/docs/stable/nn.html#torch.nn.Module\n",
        "* https://deeplearning.net"
      ]
    },
    {
      "cell_type": "code",
      "metadata": {
        "id": "ktjREZY4Y_tW",
        "colab_type": "code",
        "colab": {}
      },
      "source": [
        ""
      ],
      "execution_count": 0,
      "outputs": []
    }
  ]
}