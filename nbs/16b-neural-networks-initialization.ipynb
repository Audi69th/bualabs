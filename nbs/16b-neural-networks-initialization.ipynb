{
  "nbformat": 4,
  "nbformat_minor": 0,
  "metadata": {
    "kernelspec": {
      "display_name": "Python 3",
      "language": "python",
      "name": "python3"
    },
    "language_info": {
      "codemirror_mode": {
        "name": "ipython",
        "version": 3
      },
      "file_extension": ".py",
      "mimetype": "text/x-python",
      "name": "python",
      "nbconvert_exporter": "python",
      "pygments_lexer": "ipython3",
      "version": "3.7.3"
    },
    "colab": {
      "name": "16b-neural-networks-initialization.ipynb",
      "version": "0.3.2",
      "provenance": [],
      "include_colab_link": true
    }
  },
  "cells": [
    {
      "cell_type": "markdown",
      "metadata": {
        "id": "view-in-github",
        "colab_type": "text"
      },
      "source": [
        "<a href=\"https://colab.research.google.com/github/gnoparus/bualabs/blob/master/nbs/16b-neural-networks-initialization.ipynb\" target=\"_parent\"><img src=\"https://colab.research.google.com/assets/colab-badge.svg\" alt=\"Open In Colab\"/></a>"
      ]
    },
    {
      "cell_type": "markdown",
      "metadata": {
        "id": "FZHqldhFCbKC",
        "colab_type": "text"
      },
      "source": [
        "Neural Network 102 - Initialization Neural Network\n",
        "\n",
        "เปรียบเทียบการ Initialize Weight แบบต่าง ๆ ว่าจะมีผลต่อ Gradient อย่างไร แบบไหนช่วยลดปัญหา Vanishing Gradient และ Exploding Gradient"
      ]
    },
    {
      "cell_type": "markdown",
      "metadata": {
        "id": "-h1FTwHBCbKR",
        "colab_type": "text"
      },
      "source": [
        "# 0. Magic"
      ]
    },
    {
      "cell_type": "code",
      "metadata": {
        "id": "gCnBgYeLCbKZ",
        "colab_type": "code",
        "colab": {}
      },
      "source": [
        "%load_ext autoreload\n",
        "%autoreload 2\n",
        "%matplotlib inline"
      ],
      "execution_count": 0,
      "outputs": []
    },
    {
      "cell_type": "markdown",
      "metadata": {
        "id": "_mueI0MrCbKw",
        "colab_type": "text"
      },
      "source": [
        "# 1. Import"
      ]
    },
    {
      "cell_type": "code",
      "metadata": {
        "id": "CJGdUV2iCbK5",
        "colab_type": "code",
        "colab": {}
      },
      "source": [
        "from pathlib import Path\n",
        "from IPython.core.debugger import set_trace\n",
        "from fastai import datasets\n",
        "import pickle, gzip, math, torch\n",
        "from torch import tensor"
      ],
      "execution_count": 0,
      "outputs": []
    },
    {
      "cell_type": "markdown",
      "metadata": {
        "id": "uObsvUMfCbLL",
        "colab_type": "text"
      },
      "source": [
        "# 2. Download Dataset"
      ]
    },
    {
      "cell_type": "markdown",
      "metadata": {
        "id": "--1l-l57CbLO",
        "colab_type": "text"
      },
      "source": [
        "เคสนี้เราจะใช้ MNIST Dataset เหมือนเดิม"
      ]
    },
    {
      "cell_type": "code",
      "metadata": {
        "id": "owvvBuKKCbLT",
        "colab_type": "code",
        "colab": {}
      },
      "source": [
        "MNIST_URL='http://deeplearning.net/data/mnist/mnist.pkl'"
      ],
      "execution_count": 0,
      "outputs": []
    },
    {
      "cell_type": "code",
      "metadata": {
        "id": "_ZfXmYy_CbLe",
        "colab_type": "code",
        "colab": {}
      },
      "source": [
        "def get_data():\n",
        "    path = datasets.download_data(MNIST_URL, ext='.gz')\n",
        "    with gzip.open(path, 'rb') as f:\n",
        "        ((x_train, y_train), (x_valid, y_valid), _) = pickle.load(f, encoding='latin-1')\n",
        "    return map(tensor, (x_train, y_train, x_valid, y_valid))"
      ],
      "execution_count": 0,
      "outputs": []
    },
    {
      "cell_type": "markdown",
      "metadata": {
        "id": "AzV7TQTRCbLp",
        "colab_type": "text"
      },
      "source": [
        "ดาวน์โหลดชุดข้อมูลมาใส่ x, y ทั้ง Training Set และ Validation Set"
      ]
    },
    {
      "cell_type": "code",
      "metadata": {
        "id": "3beRpkf9CbLr",
        "colab_type": "code",
        "colab": {}
      },
      "source": [
        "x_train, y_train, x_valid, y_valid = get_data()"
      ],
      "execution_count": 0,
      "outputs": []
    },
    {
      "cell_type": "markdown",
      "metadata": {
        "id": "Msfx0I4ICbLy",
        "colab_type": "text"
      },
      "source": [
        "# 3. เตรียมข้อมูล"
      ]
    },
    {
      "cell_type": "markdown",
      "metadata": {
        "id": "aszTg9c7CbL0",
        "colab_type": "text"
      },
      "source": [
        "หา mean และ standard deviation ของข้อมูล Training Set"
      ]
    },
    {
      "cell_type": "code",
      "metadata": {
        "id": "65fOnfJXCbL3",
        "colab_type": "code",
        "colab": {
          "base_uri": "https://localhost:8080/",
          "height": 35
        },
        "outputId": "6ec28ac1-8760-47b5-ee15-3e10af422c3f"
      },
      "source": [
        "train_mean, train_std = x_train.mean(), x_train.std()\n",
        "train_mean, train_std"
      ],
      "execution_count": 6,
      "outputs": [
        {
          "output_type": "execute_result",
          "data": {
            "text/plain": [
              "(tensor(0.1304), tensor(0.3073))"
            ]
          },
          "metadata": {
            "tags": []
          },
          "execution_count": 6
        }
      ]
    },
    {
      "cell_type": "markdown",
      "metadata": {
        "id": "_2pkW_cMCbMF",
        "colab_type": "text"
      },
      "source": [
        "เนื่องจากทุกอย่างมาจากข้อมูลคนละแหล่ง เราไม่ทราบว่าอันไหนสำคัญกว่าอันไหน เราจึง Normalize ข้อมูลทุกอย่างให้อยู่ใน Scale เดียวกันให้หมด โดย mean = 0, std = 1 เท่ากันหมด แล้วให้โมเดลเรียนรู้เอง จากข้อมูลตัวอย่างว่าอันไหน สำคัญเท่าไร สัมพันธ์กันอย่างไร"
      ]
    },
    {
      "cell_type": "markdown",
      "metadata": {
        "id": "a0PK7Eq8CbMH",
        "colab_type": "text"
      },
      "source": [
        "Normalize คือการทำให้ข้อมูล มี mean = 0 และ standard deviation (std) = 1 ด้วยการ ลบด้วย mean หารด้วย std"
      ]
    },
    {
      "cell_type": "code",
      "metadata": {
        "id": "Gg4vGpSaCbMK",
        "colab_type": "code",
        "colab": {}
      },
      "source": [
        "# x = data, m = mean, s = standard deviation\n",
        "def normalize(x, m, s): \n",
        "    return (x-m)/s"
      ],
      "execution_count": 0,
      "outputs": []
    },
    {
      "cell_type": "code",
      "metadata": {
        "id": "JfYrMDn5CbMQ",
        "colab_type": "code",
        "colab": {}
      },
      "source": [
        "x_train = normalize(x_train, train_mean, train_std)"
      ],
      "execution_count": 0,
      "outputs": []
    },
    {
      "cell_type": "markdown",
      "metadata": {
        "id": "R-Cdm7GVCbMV",
        "colab_type": "text"
      },
      "source": [
        "Normalize ข้อมูล Validation Set ด้วย mean, std ของ Training Set เพื่อปรับให้เป็น Scale เดียวกัน"
      ]
    },
    {
      "cell_type": "code",
      "metadata": {
        "id": "TfU5AZHECbMX",
        "colab_type": "code",
        "colab": {}
      },
      "source": [
        "x_valid = normalize(x_valid, train_mean, train_std)"
      ],
      "execution_count": 0,
      "outputs": []
    },
    {
      "cell_type": "markdown",
      "metadata": {
        "id": "BmyugqeZCbMc",
        "colab_type": "text"
      },
      "source": [
        "ลองดูค่า mean, std หลังจาก Normalize เรียบร้อยแล้ว"
      ]
    },
    {
      "cell_type": "code",
      "metadata": {
        "scrolled": true,
        "id": "PqKxUMyhCbMe",
        "colab_type": "code",
        "colab": {
          "base_uri": "https://localhost:8080/",
          "height": 35
        },
        "outputId": "89a2717b-1753-442f-a069-84f549ae6093"
      },
      "source": [
        "train_mean_after, train_std_after = x_train.mean(), x_train.std()\n",
        "train_mean_after, train_std_after"
      ],
      "execution_count": 10,
      "outputs": [
        {
          "output_type": "execute_result",
          "data": {
            "text/plain": [
              "(tensor(0.0001), tensor(1.))"
            ]
          },
          "metadata": {
            "tags": []
          },
          "execution_count": 10
        }
      ]
    },
    {
      "cell_type": "markdown",
      "metadata": {
        "id": "hCs7EmuxCbMt",
        "colab_type": "text"
      },
      "source": [
        "ได้ mean เป็นเลขจุดทศนิยมน้อยมาก ๆ ใกล้เคียง 0 และ std ใกล้เคียง 1"
      ]
    },
    {
      "cell_type": "markdown",
      "metadata": {
        "id": "rz-vgYBlCbMw",
        "colab_type": "text"
      },
      "source": [
        "n = จำนวน Record, m จำนวน Feature, c = จำนวน class"
      ]
    },
    {
      "cell_type": "code",
      "metadata": {
        "id": "sVXBEUkOCbM0",
        "colab_type": "code",
        "colab": {
          "base_uri": "https://localhost:8080/",
          "height": 35
        },
        "outputId": "901a47af-8b24-44b0-bcc2-a3cc21b57485"
      },
      "source": [
        "n, m = x_train.shape\n",
        "c = y_train.max()+1\n",
        "n, m, c"
      ],
      "execution_count": 11,
      "outputs": [
        {
          "output_type": "execute_result",
          "data": {
            "text/plain": [
              "(50000, 784, tensor(10))"
            ]
          },
          "metadata": {
            "tags": []
          },
          "execution_count": 11
        }
      ]
    },
    {
      "cell_type": "markdown",
      "metadata": {
        "id": "xejRofyNCbNC",
        "colab_type": "text"
      },
      "source": [
        "แปลงจาก Long เป็น Float ก่อนส่งให้ Loss Function เนื่องจากเราใช้ Mse แทน Cross Entropy"
      ]
    },
    {
      "cell_type": "code",
      "metadata": {
        "id": "S3HnZa6WCbNE",
        "colab_type": "code",
        "colab": {}
      },
      "source": [
        "y_train, y_valid = y_train.float(), y_valid.float()"
      ],
      "execution_count": 0,
      "outputs": []
    },
    {
      "cell_type": "markdown",
      "metadata": {
        "id": "cOn9LAolCbNQ",
        "colab_type": "text"
      },
      "source": [
        "# 4. Model"
      ]
    },
    {
      "cell_type": "markdown",
      "metadata": {
        "id": "zS7PA79HCbNT",
        "colab_type": "text"
      },
      "source": [
        "เราจะสร้าง 4 Hidden Layers Neural Networks ที่มี 100 Neuron ในแต่ละ Hidden Layer "
      ]
    },
    {
      "cell_type": "code",
      "metadata": {
        "id": "5o7E7ORbCbN8",
        "colab_type": "code",
        "colab": {}
      },
      "source": [
        "# nh = number of hidden\n",
        "nh = 100"
      ],
      "execution_count": 0,
      "outputs": []
    },
    {
      "cell_type": "code",
      "metadata": {
        "id": "9P6XwZ0HCbOD",
        "colab_type": "code",
        "colab": {}
      },
      "source": [
        "class Module():\n",
        "    def __call__(self, *args):\n",
        "        self.args = args\n",
        "        self.out = self.forward(*args)\n",
        "        return self.out\n",
        "    def forward(self, inp):\n",
        "        raise Exception('Not implemented')\n",
        "    def backward(self):\n",
        "        self.bwd(self.out, *self.args)        "
      ],
      "execution_count": 0,
      "outputs": []
    },
    {
      "cell_type": "code",
      "metadata": {
        "id": "yqGPwj4xCbOJ",
        "colab_type": "code",
        "colab": {}
      },
      "source": [
        "class Relu(Module):\n",
        "    def forward(self, inp):\n",
        "        return inp.clamp_min(0.)# - 0.5\n",
        "    def bwd(self, out, inp):\n",
        "        inp.g = (inp>0).float()*out.g"
      ],
      "execution_count": 0,
      "outputs": []
    },
    {
      "cell_type": "code",
      "metadata": {
        "id": "0XOt9n-FCbOO",
        "colab_type": "code",
        "colab": {}
      },
      "source": [
        "class Sigmoid(Module):\n",
        "    def forward(self, inp):\n",
        "        return 1/(1 + torch.exp(-inp)) \n",
        "    def bwd(self, out, inp):\n",
        "        inp.g = (self.forward(inp) * (1 - self.forward(inp))) * out.g"
      ],
      "execution_count": 0,
      "outputs": []
    },
    {
      "cell_type": "code",
      "metadata": {
        "id": "sM-ZpBKQCbOU",
        "colab_type": "code",
        "colab": {}
      },
      "source": [
        "class Lin(Module):\n",
        "    def __init__(self, w, b):\n",
        "        self.w, self.b = w, b\n",
        "    def forward(self, inp):\n",
        "        return inp @ self.w + self.b\n",
        "    def bwd(self, out, inp):\n",
        "        inp.g = out.g @ self.w.t()\n",
        "        self.w.g = inp.squeeze(-1).t() @ out.g\n",
        "        self.b.g = out.g.sum(0)"
      ],
      "execution_count": 0,
      "outputs": []
    },
    {
      "cell_type": "code",
      "metadata": {
        "id": "rmgkxCfKCbOe",
        "colab_type": "code",
        "colab": {}
      },
      "source": [
        "class Mse(Module):\n",
        "    def forward(self, inp, targ):\n",
        "        return (inp.squeeze(-1) - targ).pow(2).mean()\n",
        "    def bwd(self, out, inp, targ):\n",
        "        inp.g = 2. * (inp.squeeze(-1) - targ).unsqueeze(-1) / inp.shape[0]        "
      ],
      "execution_count": 0,
      "outputs": []
    },
    {
      "cell_type": "markdown",
      "metadata": {
        "id": "OR5VcLOzCbOm",
        "colab_type": "text"
      },
      "source": [
        "สร้างโมเดล ที่มี 4 Hidden Layer และ Activation หลายแบบให้เลือก ใน Comment"
      ]
    },
    {
      "cell_type": "code",
      "metadata": {
        "id": "G8HKZvN1CbOq",
        "colab_type": "code",
        "colab": {}
      },
      "source": [
        "class Model():\n",
        "    def __init__(self):\n",
        "        self.layers = [Lin(w1, b1), Relu(), Lin(w2, b2), Relu(), Lin(w3, b3), Relu(), Lin(w4, b4)]\n",
        "#         self.layers = [Lin(w1, b1), Sigmoid(), Lin(w2, b2), Sigmoid(), Lin(w3, b3), Sigmoid(), Lin(w4, b4)]\n",
        "#         self.layers = [Lin(w1, b1), Lin(w2, b2), Lin(w3, b3), Lin(w4, b4)]\n",
        "        self.loss = Mse()\n",
        "    def __call__(self, x, targ):\n",
        "#         set_trace()\n",
        "        for l in self.layers:\n",
        "            x = l(x)\n",
        "        return self.loss(x, targ), x\n",
        "    def backward(self):\n",
        "        self.loss.backward()        \n",
        "        for l in reversed(self.layers):\n",
        "            l.backward()"
      ],
      "execution_count": 0,
      "outputs": []
    },
    {
      "cell_type": "markdown",
      "metadata": {
        "id": "Yatt-7BOCbOw",
        "colab_type": "text"
      },
      "source": [
        "# 5. Weight and Bias Initialization"
      ]
    },
    {
      "cell_type": "markdown",
      "metadata": {
        "id": "oHpFosjdCbOx",
        "colab_type": "text"
      },
      "source": [
        "เราจะลอง Initinalize กำหนดค่าเริ่มต้น Weight และ Bias แบบต่าง ๆ แล้วเราจะใช้ข้อมูลเดียวกัน รันผ่านโมเดล แล้ว Backpropagate เพื่อเปรียบเทียบ ว่า Gradient เป็นอย่างไร  "
      ]
    },
    {
      "cell_type": "markdown",
      "metadata": {
        "id": "EjQq6R-GCbOy",
        "colab_type": "text"
      },
      "source": [
        "## 5.1 Normal Distribution (Gaussian)"
      ]
    },
    {
      "cell_type": "markdown",
      "metadata": {
        "id": "IGMUh9ZjCbOz",
        "colab_type": "text"
      },
      "source": [
        "กำหนดค่าเริ่มต้นของ Weight และ Bias ด้วยค่า Random แบบ Normal Distribution (Gaussian)"
      ]
    },
    {
      "cell_type": "code",
      "metadata": {
        "id": "54V7JhC8CbO1",
        "colab_type": "code",
        "colab": {}
      },
      "source": [
        "w1 = torch.randn(m, nh)\n",
        "b1 = torch.zeros(nh)\n",
        "w2 = torch.randn(nh, nh)\n",
        "b2 = torch.zeros(nh)\n",
        "w3 = torch.randn(nh, nh)\n",
        "b3 = torch.zeros(nh)\n",
        "w4 = torch.randn(nh, 1)\n",
        "b4 = torch.zeros(1)"
      ],
      "execution_count": 0,
      "outputs": []
    },
    {
      "cell_type": "markdown",
      "metadata": {
        "id": "TpGOz6uCCbO6",
        "colab_type": "text"
      },
      "source": [
        "ลองดูค่า mean, std ของ Weight"
      ]
    },
    {
      "cell_type": "code",
      "metadata": {
        "scrolled": false,
        "id": "zBF1piLCCbO8",
        "colab_type": "code",
        "colab": {
          "base_uri": "https://localhost:8080/",
          "height": 35
        },
        "outputId": "6d8f0a78-2cd1-48b3-f517-1adb0521563f"
      },
      "source": [
        "w1.mean(), w1.std()"
      ],
      "execution_count": 21,
      "outputs": [
        {
          "output_type": "execute_result",
          "data": {
            "text/plain": [
              "(tensor(-0.0028), tensor(1.0025))"
            ]
          },
          "metadata": {
            "tags": []
          },
          "execution_count": 21
        }
      ]
    },
    {
      "cell_type": "code",
      "metadata": {
        "id": "ETpYvUtJCbPD",
        "colab_type": "code",
        "colab": {
          "base_uri": "https://localhost:8080/",
          "height": 35
        },
        "outputId": "0e54e227-7c52-4af8-b487-ee672b05a379"
      },
      "source": [
        "w2.mean(), w2.std()"
      ],
      "execution_count": 22,
      "outputs": [
        {
          "output_type": "execute_result",
          "data": {
            "text/plain": [
              "(tensor(0.0061), tensor(0.9916))"
            ]
          },
          "metadata": {
            "tags": []
          },
          "execution_count": 22
        }
      ]
    },
    {
      "cell_type": "code",
      "metadata": {
        "id": "m5-tj083CbPJ",
        "colab_type": "code",
        "colab": {
          "base_uri": "https://localhost:8080/",
          "height": 35
        },
        "outputId": "c18fcd74-7fff-40ee-fb7a-52b9ef7d4948"
      },
      "source": [
        "w3.mean(), w3.std()"
      ],
      "execution_count": 23,
      "outputs": [
        {
          "output_type": "execute_result",
          "data": {
            "text/plain": [
              "(tensor(-0.0044), tensor(1.0063))"
            ]
          },
          "metadata": {
            "tags": []
          },
          "execution_count": 23
        }
      ]
    },
    {
      "cell_type": "code",
      "metadata": {
        "id": "zveHmFhuCbPN",
        "colab_type": "code",
        "colab": {
          "base_uri": "https://localhost:8080/",
          "height": 35
        },
        "outputId": "f53d9065-0772-459f-fb40-fbad556ad34e"
      },
      "source": [
        "w4.mean(), w4.std()"
      ],
      "execution_count": 24,
      "outputs": [
        {
          "output_type": "execute_result",
          "data": {
            "text/plain": [
              "(tensor(-0.1578), tensor(0.9961))"
            ]
          },
          "metadata": {
            "tags": []
          },
          "execution_count": 24
        }
      ]
    },
    {
      "cell_type": "markdown",
      "metadata": {
        "id": "SooxelU_CbPS",
        "colab_type": "text"
      },
      "source": [
        "Weight ดูดีมาก ใกล้เคียง mean = 0, std = 1 แต่ไม่มีประโยชน์ เพราะเราสนใจแต่ Gradient"
      ]
    },
    {
      "cell_type": "markdown",
      "metadata": {
        "id": "MRUtHQZcCbPU",
        "colab_type": "text"
      },
      "source": [
        "### ลองสมมติว่าเป็น Layer แรก"
      ]
    },
    {
      "cell_type": "code",
      "metadata": {
        "id": "e0j_4flgCbPV",
        "colab_type": "code",
        "colab": {
          "base_uri": "https://localhost:8080/",
          "height": 35
        },
        "outputId": "b145eb76-038b-4980-ea48-57b252603749"
      },
      "source": [
        "a1 = x_train @ w1\n",
        "a1.mean(), a1.std()"
      ],
      "execution_count": 25,
      "outputs": [
        {
          "output_type": "execute_result",
          "data": {
            "text/plain": [
              "(tensor(-1.1228), tensor(27.2951))"
            ]
          },
          "metadata": {
            "tags": []
          },
          "execution_count": 25
        }
      ]
    },
    {
      "cell_type": "markdown",
      "metadata": {
        "id": "pSYWXo3hCbPZ",
        "colab_type": "text"
      },
      "source": [
        "ลองสมมติว่าเป็น Layer แรก + ReLU Activation"
      ]
    },
    {
      "cell_type": "code",
      "metadata": {
        "scrolled": true,
        "id": "sO-akECECbPa",
        "colab_type": "code",
        "colab": {
          "base_uri": "https://localhost:8080/",
          "height": 35
        },
        "outputId": "0c2ccdc8-d8be-414e-df62-3eedea157f07"
      },
      "source": [
        "z1 = (x_train @ w1).clamp(0.)-0.5\n",
        "z1.mean(), z1.std()"
      ],
      "execution_count": 26,
      "outputs": [
        {
          "output_type": "execute_result",
          "data": {
            "text/plain": [
              "(tensor(9.7059), tensor(15.7963))"
            ]
          },
          "metadata": {
            "tags": []
          },
          "execution_count": 26
        }
      ]
    },
    {
      "cell_type": "markdown",
      "metadata": {
        "id": "lPu8mMqZCbPf",
        "colab_type": "text"
      },
      "source": [
        "เราได้ Activation ของ Layer แรก ที่ไม่ใกล้เคียง mean = 0, std = 1 เลย อาจจะมีปัญหาตอนเทรนได้"
      ]
    },
    {
      "cell_type": "markdown",
      "metadata": {
        "id": "dmmSh9_rCbPh",
        "colab_type": "text"
      },
      "source": [
        "### สร้างโมเดล รัน forward และ backward "
      ]
    },
    {
      "cell_type": "code",
      "metadata": {
        "id": "TqABfRGICbPi",
        "colab_type": "code",
        "colab": {}
      },
      "source": [
        "w1.g,b1.g,w2.g,b2.g,w3.g,b3.g,w4.g,b4.g = [None]*8\n",
        "model = Model()\n",
        "loss, yhat = model(x_train, y_train)\n",
        "model.backward()"
      ],
      "execution_count": 0,
      "outputs": []
    },
    {
      "cell_type": "markdown",
      "metadata": {
        "id": "xOM1dsLoCbPl",
        "colab_type": "text"
      },
      "source": [
        "ตรวจเช็ค Mean และ Standard Deviation ของ Gradient ของ Weight ของแต่ละ Layer"
      ]
    },
    {
      "cell_type": "code",
      "metadata": {
        "id": "ftsPGiDmCbPl",
        "colab_type": "code",
        "colab": {
          "base_uri": "https://localhost:8080/",
          "height": 35
        },
        "outputId": "1bbcd7e3-d28b-478b-c2e7-473d17a0bcaf"
      },
      "source": [
        "w4.g.mean(), w4.g.std()"
      ],
      "execution_count": 28,
      "outputs": [
        {
          "output_type": "execute_result",
          "data": {
            "text/plain": [
              "(tensor(-3221742.), tensor(2968939.5000))"
            ]
          },
          "metadata": {
            "tags": []
          },
          "execution_count": 28
        }
      ]
    },
    {
      "cell_type": "code",
      "metadata": {
        "id": "qDlbwmPICbPp",
        "colab_type": "code",
        "colab": {
          "base_uri": "https://localhost:8080/",
          "height": 35
        },
        "outputId": "3889b485-5d91-4fd4-8833-07558884ed88"
      },
      "source": [
        "w3.g.mean(), w3.g.std()"
      ],
      "execution_count": 29,
      "outputs": [
        {
          "output_type": "execute_result",
          "data": {
            "text/plain": [
              "(tensor(46754.3906), tensor(401328.8125))"
            ]
          },
          "metadata": {
            "tags": []
          },
          "execution_count": 29
        }
      ]
    },
    {
      "cell_type": "code",
      "metadata": {
        "id": "oYMnAtd1CbPu",
        "colab_type": "code",
        "colab": {
          "base_uri": "https://localhost:8080/",
          "height": 35
        },
        "outputId": "33a7c98d-07cd-40c5-9c5d-eeb5c084675a"
      },
      "source": [
        "w2.g.mean(), w2.g.std()"
      ],
      "execution_count": 30,
      "outputs": [
        {
          "output_type": "execute_result",
          "data": {
            "text/plain": [
              "(tensor(17742.5352), tensor(295852.2812))"
            ]
          },
          "metadata": {
            "tags": []
          },
          "execution_count": 30
        }
      ]
    },
    {
      "cell_type": "code",
      "metadata": {
        "scrolled": false,
        "id": "1iJ7zg_RCbPy",
        "colab_type": "code",
        "colab": {
          "base_uri": "https://localhost:8080/",
          "height": 35
        },
        "outputId": "b5aec9c9-eb8a-4d77-fc8b-afd78f7f58cb"
      },
      "source": [
        "w1.g.mean(), w1.g.std()"
      ],
      "execution_count": 31,
      "outputs": [
        {
          "output_type": "execute_result",
          "data": {
            "text/plain": [
              "(tensor(124.9641), tensor(69403.4297))"
            ]
          },
          "metadata": {
            "tags": []
          },
          "execution_count": 31
        }
      ]
    },
    {
      "cell_type": "markdown",
      "metadata": {
        "id": "4-Xiy8nACbP2",
        "colab_type": "text"
      },
      "source": [
        "Gradient ที่เราต้องการคือประมาณ mean = 0, std = 1 แต่นี่ไม่ได้ใกล้เคียงเลย ถ้าเป็นแบบนี้จะทำให้เกิดปัญหา Exploding Gradient"
      ]
    },
    {
      "cell_type": "markdown",
      "metadata": {
        "id": "QCiqnf5qCbP3",
        "colab_type": "text"
      },
      "source": [
        "## 5.2 Xavier Initialization (หรืออีกชื่อคือ Glorot initialization.)"
      ]
    },
    {
      "cell_type": "markdown",
      "metadata": {
        "id": "NfGPowcoCbP4",
        "colab_type": "text"
      },
      "source": [
        "กำหนดค่าเริ่มต้นของ Weight และ Bias ด้วย Xavier Initialization โดยสำหรับ ReLU แล้ว gain = sqrt(2)"
      ]
    },
    {
      "cell_type": "code",
      "metadata": {
        "id": "iFB5X1_hCbP5",
        "colab_type": "code",
        "colab": {}
      },
      "source": [
        "gain = math.sqrt(2.)\n",
        "\n",
        "w1 = torch.randn(m, nh) * math.sqrt(2./(m+nh)) * gain\n",
        "b1 = torch.zeros(nh)\n",
        "w2 = torch.randn(nh, nh) * math.sqrt(2./(nh+nh)) * gain\n",
        "b2 = torch.zeros(nh)\n",
        "w3 = torch.randn(nh, nh) * math.sqrt(2./(nh+nh)) * gain\n",
        "b3 = torch.zeros(nh)\n",
        "w4 = torch.randn(nh, 1) * math.sqrt(2./(nh+1)) * gain\n",
        "b4 = torch.zeros(1)"
      ],
      "execution_count": 0,
      "outputs": []
    },
    {
      "cell_type": "markdown",
      "metadata": {
        "id": "_qKGOEBkCbP8",
        "colab_type": "text"
      },
      "source": [
        "ลองดูค่า mean, std ของ Weight"
      ]
    },
    {
      "cell_type": "code",
      "metadata": {
        "scrolled": false,
        "id": "_pMrbTmkCbP-",
        "colab_type": "code",
        "colab": {
          "base_uri": "https://localhost:8080/",
          "height": 35
        },
        "outputId": "3c9fff45-0a1e-4941-a026-870f6ac39bd9"
      },
      "source": [
        "w1.mean(), w1.std()"
      ],
      "execution_count": 33,
      "outputs": [
        {
          "output_type": "execute_result",
          "data": {
            "text/plain": [
              "(tensor(0.0002), tensor(0.0672))"
            ]
          },
          "metadata": {
            "tags": []
          },
          "execution_count": 33
        }
      ]
    },
    {
      "cell_type": "code",
      "metadata": {
        "id": "U46ySe8fCbQC",
        "colab_type": "code",
        "colab": {
          "base_uri": "https://localhost:8080/",
          "height": 35
        },
        "outputId": "9d43f043-874f-40ce-ff0c-4c1eeb4e3abd"
      },
      "source": [
        "w2.mean(), w2.std()"
      ],
      "execution_count": 34,
      "outputs": [
        {
          "output_type": "execute_result",
          "data": {
            "text/plain": [
              "(tensor(0.0006), tensor(0.1414))"
            ]
          },
          "metadata": {
            "tags": []
          },
          "execution_count": 34
        }
      ]
    },
    {
      "cell_type": "code",
      "metadata": {
        "id": "xHTXT-MGCbQG",
        "colab_type": "code",
        "colab": {
          "base_uri": "https://localhost:8080/",
          "height": 35
        },
        "outputId": "77c5f79d-d276-4208-e823-275b64f329e7"
      },
      "source": [
        "w3.mean(), w3.std()"
      ],
      "execution_count": 35,
      "outputs": [
        {
          "output_type": "execute_result",
          "data": {
            "text/plain": [
              "(tensor(-0.0005), tensor(0.1423))"
            ]
          },
          "metadata": {
            "tags": []
          },
          "execution_count": 35
        }
      ]
    },
    {
      "cell_type": "code",
      "metadata": {
        "scrolled": true,
        "id": "l5pT6xi1CbQK",
        "colab_type": "code",
        "colab": {
          "base_uri": "https://localhost:8080/",
          "height": 35
        },
        "outputId": "4a5f1a04-c7a6-46f9-b856-d1773baa9c99"
      },
      "source": [
        "w4.mean(), w4.std()"
      ],
      "execution_count": 36,
      "outputs": [
        {
          "output_type": "execute_result",
          "data": {
            "text/plain": [
              "(tensor(-0.0281), tensor(0.2342))"
            ]
          },
          "metadata": {
            "tags": []
          },
          "execution_count": 36
        }
      ]
    },
    {
      "cell_type": "markdown",
      "metadata": {
        "id": "meAK6OuXCbQP",
        "colab_type": "text"
      },
      "source": [
        "Weight จะ mean, std เป็นอย่างไรเรายังไม่สนใจ"
      ]
    },
    {
      "cell_type": "markdown",
      "metadata": {
        "id": "63SVa9x8CbQQ",
        "colab_type": "text"
      },
      "source": [
        "### ลองสมมติว่าเป็น Layer แรก"
      ]
    },
    {
      "cell_type": "code",
      "metadata": {
        "id": "38iS68USCbQR",
        "colab_type": "code",
        "colab": {
          "base_uri": "https://localhost:8080/",
          "height": 35
        },
        "outputId": "0e6efb6a-807a-48ae-f3b8-7ffa7a50bd5c"
      },
      "source": [
        "a1 = x_train @ w1\n",
        "a1.mean(), a1.std()"
      ],
      "execution_count": 37,
      "outputs": [
        {
          "output_type": "execute_result",
          "data": {
            "text/plain": [
              "(tensor(0.0563), tensor(1.7842))"
            ]
          },
          "metadata": {
            "tags": []
          },
          "execution_count": 37
        }
      ]
    },
    {
      "cell_type": "markdown",
      "metadata": {
        "id": "Bj6jyikMCbQZ",
        "colab_type": "text"
      },
      "source": [
        "เราได้ Output ของ Layer แรก ก่อน Activation ที่ใกล้เคียง mean = 0, std = 1 มากขึ้น"
      ]
    },
    {
      "cell_type": "markdown",
      "metadata": {
        "id": "MOMZ94ONCbQa",
        "colab_type": "text"
      },
      "source": [
        "ลองสมมติว่าเป็น Layer แรก + ReLU Activation"
      ]
    },
    {
      "cell_type": "code",
      "metadata": {
        "scrolled": true,
        "id": "P35uMSalCbQb",
        "colab_type": "code",
        "colab": {
          "base_uri": "https://localhost:8080/",
          "height": 35
        },
        "outputId": "7332fb83-81bc-4321-cab4-65ca859c37e4"
      },
      "source": [
        "z1 = (x_train @ w1).clamp(0.)#-0.5\n",
        "z1.mean(), z1.std()"
      ],
      "execution_count": 38,
      "outputs": [
        {
          "output_type": "execute_result",
          "data": {
            "text/plain": [
              "(tensor(0.7332), tensor(1.0649))"
            ]
          },
          "metadata": {
            "tags": []
          },
          "execution_count": 38
        }
      ]
    },
    {
      "cell_type": "markdown",
      "metadata": {
        "id": "NcvFUTSsCbQe",
        "colab_type": "text"
      },
      "source": [
        "ใกล้เคียง mean = 0, std = 1"
      ]
    },
    {
      "cell_type": "markdown",
      "metadata": {
        "id": "cJb6BUE1CbQf",
        "colab_type": "text"
      },
      "source": [
        "### สร้างโมเดล"
      ]
    },
    {
      "cell_type": "code",
      "metadata": {
        "id": "G8lVsTfSCbQg",
        "colab_type": "code",
        "colab": {}
      },
      "source": [
        "w1.g,b1.g,w2.g,b2.g,w3.g,b3.g,w4.g,b4.g = [None]*8\n",
        "model = Model()\n",
        "loss, yhat = model(x_train, y_train)\n",
        "model.backward()"
      ],
      "execution_count": 0,
      "outputs": []
    },
    {
      "cell_type": "markdown",
      "metadata": {
        "id": "u8P2viYPCbQj",
        "colab_type": "text"
      },
      "source": [
        "ตรวจเช็ค Mean และ Standard Deviation ของ Gradient ของ Weight ของแต่ละ Layer"
      ]
    },
    {
      "cell_type": "code",
      "metadata": {
        "id": "NT7FxmY1CbQk",
        "colab_type": "code",
        "colab": {
          "base_uri": "https://localhost:8080/",
          "height": 35
        },
        "outputId": "a7397727-442c-4f62-928a-147429ff2fda"
      },
      "source": [
        "w4.g.mean(), w4.g.std()"
      ],
      "execution_count": 40,
      "outputs": [
        {
          "output_type": "execute_result",
          "data": {
            "text/plain": [
              "(tensor(-11.8426), tensor(13.2116))"
            ]
          },
          "metadata": {
            "tags": []
          },
          "execution_count": 40
        }
      ]
    },
    {
      "cell_type": "code",
      "metadata": {
        "id": "Ua9p-Sm1CbQp",
        "colab_type": "code",
        "colab": {
          "base_uri": "https://localhost:8080/",
          "height": 35
        },
        "outputId": "ddf17c7e-8b98-4a44-e797-85eeaa57a16d"
      },
      "source": [
        "w3.g.mean(), w3.g.std()"
      ],
      "execution_count": 41,
      "outputs": [
        {
          "output_type": "execute_result",
          "data": {
            "text/plain": [
              "(tensor(0.2225), tensor(1.9578))"
            ]
          },
          "metadata": {
            "tags": []
          },
          "execution_count": 41
        }
      ]
    },
    {
      "cell_type": "code",
      "metadata": {
        "id": "VTUMr7RTCbQs",
        "colab_type": "code",
        "colab": {
          "base_uri": "https://localhost:8080/",
          "height": 35
        },
        "outputId": "79e1a2cd-3987-4486-9a85-c4498277575a"
      },
      "source": [
        "w2.g.mean(), w2.g.std()"
      ],
      "execution_count": 42,
      "outputs": [
        {
          "output_type": "execute_result",
          "data": {
            "text/plain": [
              "(tensor(0.1789), tensor(1.3132))"
            ]
          },
          "metadata": {
            "tags": []
          },
          "execution_count": 42
        }
      ]
    },
    {
      "cell_type": "code",
      "metadata": {
        "scrolled": true,
        "id": "5XgFUd1MCbQw",
        "colab_type": "code",
        "colab": {
          "base_uri": "https://localhost:8080/",
          "height": 35
        },
        "outputId": "a7e36d69-4f8e-4453-afb9-152922827ff7"
      },
      "source": [
        "w1.g.mean(), w1.g.std()"
      ],
      "execution_count": 43,
      "outputs": [
        {
          "output_type": "execute_result",
          "data": {
            "text/plain": [
              "(tensor(0.0073), tensor(0.7052))"
            ]
          },
          "metadata": {
            "tags": []
          },
          "execution_count": 43
        }
      ]
    },
    {
      "cell_type": "markdown",
      "metadata": {
        "id": "RXoICALgCbQ0",
        "colab_type": "text"
      },
      "source": [
        "เราได้ Gradient ที่ใกล้เคียง mean = 0, std = 1 มากขึ้น"
      ]
    },
    {
      "cell_type": "markdown",
      "metadata": {
        "id": "Le8PeyJ3CbQ1",
        "colab_type": "text"
      },
      "source": [
        "## 5.3 Kaiming Initialization "
      ]
    },
    {
      "cell_type": "markdown",
      "metadata": {
        "id": "c7r10ynSCbQ2",
        "colab_type": "text"
      },
      "source": [
        "กำหนดค่าเริ่มต้นของ Weight และ Bias ด้วย Kaiming Initialization ที่จะ Normalize ให้ Weight มี Varience ขึ้นกับจำนวน Input ของ Neuron "
      ]
    },
    {
      "cell_type": "code",
      "metadata": {
        "id": "I7Bu5niPCbQ2",
        "colab_type": "code",
        "colab": {}
      },
      "source": [
        "gain = math.sqrt(2.) # ReLU\n",
        "\n",
        "w1 = torch.randn(m, nh) * math.sqrt(2./m) * gain\n",
        "b1 = torch.zeros(nh)\n",
        "w2 = torch.randn(nh, nh) * math.sqrt(2./nh) * gain\n",
        "b2 = torch.zeros(nh)\n",
        "w3 = torch.randn(nh, nh) * math.sqrt(2./nh) * gain\n",
        "b3 = torch.zeros(nh)\n",
        "w4 = torch.randn(nh, 1) * math.sqrt(2./nh) * gain\n",
        "b4 = torch.zeros(1)"
      ],
      "execution_count": 0,
      "outputs": []
    },
    {
      "cell_type": "markdown",
      "metadata": {
        "id": "EBMK7WWRCbQ5",
        "colab_type": "text"
      },
      "source": [
        "ลองดูค่า mean, std ของ Weight"
      ]
    },
    {
      "cell_type": "code",
      "metadata": {
        "scrolled": false,
        "id": "D7PUJcc5CbQ8",
        "colab_type": "code",
        "colab": {
          "base_uri": "https://localhost:8080/",
          "height": 35
        },
        "outputId": "9042fc41-0eab-4998-b9a8-ed9c40070a5c"
      },
      "source": [
        "w1.mean(), w1.std()"
      ],
      "execution_count": 45,
      "outputs": [
        {
          "output_type": "execute_result",
          "data": {
            "text/plain": [
              "(tensor(-6.6740e-05), tensor(0.0720))"
            ]
          },
          "metadata": {
            "tags": []
          },
          "execution_count": 45
        }
      ]
    },
    {
      "cell_type": "code",
      "metadata": {
        "id": "MBRUO-uJCbRA",
        "colab_type": "code",
        "colab": {
          "base_uri": "https://localhost:8080/",
          "height": 35
        },
        "outputId": "6aa426bf-b323-4211-902c-069fd53b972a"
      },
      "source": [
        "w2.mean(), w2.std()"
      ],
      "execution_count": 46,
      "outputs": [
        {
          "output_type": "execute_result",
          "data": {
            "text/plain": [
              "(tensor(-0.0001), tensor(0.1983))"
            ]
          },
          "metadata": {
            "tags": []
          },
          "execution_count": 46
        }
      ]
    },
    {
      "cell_type": "code",
      "metadata": {
        "id": "uKQ4zvCUCbRE",
        "colab_type": "code",
        "colab": {
          "base_uri": "https://localhost:8080/",
          "height": 35
        },
        "outputId": "9a9b688c-2d43-411f-ea23-9829be05c33a"
      },
      "source": [
        "w3.mean(), w3.std()"
      ],
      "execution_count": 47,
      "outputs": [
        {
          "output_type": "execute_result",
          "data": {
            "text/plain": [
              "(tensor(0.0006), tensor(0.1997))"
            ]
          },
          "metadata": {
            "tags": []
          },
          "execution_count": 47
        }
      ]
    },
    {
      "cell_type": "code",
      "metadata": {
        "scrolled": true,
        "id": "TUM15dfOCbRM",
        "colab_type": "code",
        "colab": {
          "base_uri": "https://localhost:8080/",
          "height": 35
        },
        "outputId": "327c7176-53de-4d11-e060-a62ebf1fbed0"
      },
      "source": [
        "\n",
        "w4.mean(), w4.std()"
      ],
      "execution_count": 48,
      "outputs": [
        {
          "output_type": "execute_result",
          "data": {
            "text/plain": [
              "(tensor(-0.0105), tensor(0.1900))"
            ]
          },
          "metadata": {
            "tags": []
          },
          "execution_count": 48
        }
      ]
    },
    {
      "cell_type": "markdown",
      "metadata": {
        "id": "E185RmKWCbRQ",
        "colab_type": "text"
      },
      "source": [
        "Weight จะ mean, std เป็นอย่างไรเรายังไม่สนใจ"
      ]
    },
    {
      "cell_type": "markdown",
      "metadata": {
        "id": "Qqubf8o9CbRS",
        "colab_type": "text"
      },
      "source": [
        "### ลองสมมติว่าเป็น Layer แรก"
      ]
    },
    {
      "cell_type": "code",
      "metadata": {
        "id": "N4vxh-BbCbRS",
        "colab_type": "code",
        "colab": {
          "base_uri": "https://localhost:8080/",
          "height": 35
        },
        "outputId": "b3d33f27-60cd-41d3-cd65-907702fa0736"
      },
      "source": [
        "a1 = x_train @ w1\n",
        "a1.mean(), a1.std()"
      ],
      "execution_count": 49,
      "outputs": [
        {
          "output_type": "execute_result",
          "data": {
            "text/plain": [
              "(tensor(-0.0764), tensor(1.9336))"
            ]
          },
          "metadata": {
            "tags": []
          },
          "execution_count": 49
        }
      ]
    },
    {
      "cell_type": "markdown",
      "metadata": {
        "id": "_pdz1LUoCbRW",
        "colab_type": "text"
      },
      "source": [
        "ลองสมมติว่าเป็น Layer แรก + ReLU Activation"
      ]
    },
    {
      "cell_type": "code",
      "metadata": {
        "scrolled": false,
        "id": "2_kiJaT0CbRX",
        "colab_type": "code",
        "colab": {
          "base_uri": "https://localhost:8080/",
          "height": 35
        },
        "outputId": "623c7d6c-6b90-4f8e-cf44-7c03f21527a4"
      },
      "source": [
        "z1 = (x_train @ w1).clamp(0.)-0.5\n",
        "z1.mean(), z1.std()"
      ],
      "execution_count": 50,
      "outputs": [
        {
          "output_type": "execute_result",
          "data": {
            "text/plain": [
              "(tensor(0.2223), tensor(1.0811))"
            ]
          },
          "metadata": {
            "tags": []
          },
          "execution_count": 50
        }
      ]
    },
    {
      "cell_type": "markdown",
      "metadata": {
        "id": "0RGIUz-pCbRb",
        "colab_type": "text"
      },
      "source": [
        "เราได้ Activation ของ Layer แรก ที่ใกล้เคียง mean = 0, std = 1 มากขึ้นอีก"
      ]
    },
    {
      "cell_type": "markdown",
      "metadata": {
        "id": "APu3jkl3CbRb",
        "colab_type": "text"
      },
      "source": [
        "### สร้างโมเดล"
      ]
    },
    {
      "cell_type": "code",
      "metadata": {
        "id": "ZIx3SEN6CbRc",
        "colab_type": "code",
        "colab": {}
      },
      "source": [
        "w1.g,b1.g,w2.g,b2.g,w3.g,b3.g,w4.g,b4.g = [None]*8\n",
        "model = Model()\n",
        "loss, yhat = model(x_train, y_train)\n",
        "model.backward()"
      ],
      "execution_count": 0,
      "outputs": []
    },
    {
      "cell_type": "markdown",
      "metadata": {
        "id": "sHopv3kYCbRf",
        "colab_type": "text"
      },
      "source": [
        "ตรวจเช็ค Mean และ Standard Deviation ของ Gradient ของ Weight ของแต่ละ Layer"
      ]
    },
    {
      "cell_type": "code",
      "metadata": {
        "id": "YQneFwAdCbRg",
        "colab_type": "code",
        "colab": {
          "base_uri": "https://localhost:8080/",
          "height": 35
        },
        "outputId": "266f8499-d5a0-4966-dc12-24032477c921"
      },
      "source": [
        "w4.g.mean(), w4.g.std()"
      ],
      "execution_count": 52,
      "outputs": [
        {
          "output_type": "execute_result",
          "data": {
            "text/plain": [
              "(tensor(-11.1901), tensor(12.1440))"
            ]
          },
          "metadata": {
            "tags": []
          },
          "execution_count": 52
        }
      ]
    },
    {
      "cell_type": "code",
      "metadata": {
        "id": "MjYBG_GlCbRj",
        "colab_type": "code",
        "colab": {
          "base_uri": "https://localhost:8080/",
          "height": 35
        },
        "outputId": "45174132-de8d-4ea6-fec7-82fbf574157e"
      },
      "source": [
        "w3.g.mean(), w3.g.std()"
      ],
      "execution_count": 53,
      "outputs": [
        {
          "output_type": "execute_result",
          "data": {
            "text/plain": [
              "(tensor(0.0443), tensor(1.0990))"
            ]
          },
          "metadata": {
            "tags": []
          },
          "execution_count": 53
        }
      ]
    },
    {
      "cell_type": "code",
      "metadata": {
        "id": "DZoEkXfbCbRm",
        "colab_type": "code",
        "colab": {
          "base_uri": "https://localhost:8080/",
          "height": 35
        },
        "outputId": "6c272364-3283-4caa-9544-3fe2707121c4"
      },
      "source": [
        "w2.g.mean(), w2.g.std()"
      ],
      "execution_count": 54,
      "outputs": [
        {
          "output_type": "execute_result",
          "data": {
            "text/plain": [
              "(tensor(0.0118), tensor(0.8286))"
            ]
          },
          "metadata": {
            "tags": []
          },
          "execution_count": 54
        }
      ]
    },
    {
      "cell_type": "code",
      "metadata": {
        "scrolled": true,
        "id": "l6Ql9ELCCbRq",
        "colab_type": "code",
        "colab": {
          "base_uri": "https://localhost:8080/",
          "height": 35
        },
        "outputId": "b6957428-707e-4263-9f47-a4a0fa53cbb3"
      },
      "source": [
        "w1.g.mean(), w1.g.std()"
      ],
      "execution_count": 55,
      "outputs": [
        {
          "output_type": "execute_result",
          "data": {
            "text/plain": [
              "(tensor(0.0027), tensor(0.6108))"
            ]
          },
          "metadata": {
            "tags": []
          },
          "execution_count": 55
        }
      ]
    },
    {
      "cell_type": "markdown",
      "metadata": {
        "id": "WRNjFczHCbRt",
        "colab_type": "text"
      },
      "source": [
        "เราได้ Gradient ที่ใกล้เคียง mean = 0, std = 1 มากขึ้นอีก"
      ]
    },
    {
      "cell_type": "markdown",
      "metadata": {
        "id": "FBTembzbCbRt",
        "colab_type": "text"
      },
      "source": [
        "# 6. สรุป"
      ]
    },
    {
      "cell_type": "markdown",
      "metadata": {
        "id": "konCTdHwCbRu",
        "colab_type": "text"
      },
      "source": [
        "1. วิธีการ Initialize ค่าของ Weight มีความสำคัญอย่างมาก ต่อ Gradient ซึ่งมีผลต่อการเทรน Neural Network\n",
        "1. ยิ่ง Deep Neural Network ยิ่ง Deep มากขึ้นเท่าไร ยิ่งส่งผลต่อ Gradient เป็นทวีคูณ ถ้าน้อยก็จะน้อยไปเรื่อย ๆ จนเป็น 0 ถ้ามากก็จะมากจนเกินรับไหว เป็น Not a number (nan)\n",
        "1. ในการเทรน Neural Network แล้ว Gradient เป็นส่วนสำคัญที่สุด ที่ช่วยให้เทรนสำเร็จ ได้โมเดลที่ดี จน Yann LeCun เสนอให้เรียกว่า Differentiable Programming แทน Deep Learning (Gradient คือ Diff ของหลายตัวแปร เช่น Matrix, Tensor)\n",
        "1. Xavier / Glorot Initialization และ Kaiming / He Initialization มี Variation อื่น ๆ อีก สำหรับโมเดล Convolution Neural Network (CNN) หรือ Fully Connected Layer, การ Random แบบ Uniform Distribution หรือ Normal Distribution และ Activation ต่าง ๆ เช่น Sigmoid, ReLU, Tanh จะมีอัลกอริทึมแตกต่างกันนิดหน่อย จะอธิบายต่อไป"
      ]
    },
    {
      "cell_type": "markdown",
      "metadata": {
        "id": "bAaD58QyCbRv",
        "colab_type": "text"
      },
      "source": [
        "# Credit"
      ]
    },
    {
      "cell_type": "markdown",
      "metadata": {
        "id": "63-LzifnCbRw",
        "colab_type": "text"
      },
      "source": [
        "* https://course.fast.ai/videos/?lesson=8\n",
        "* https://pytorch.org/docs/stable/nn.init.html\n",
        "* https://arxiv.org/abs/1502.01852\n",
        "* http://proceedings.mlr.press/v9/glorot10a.html\n",
        "* https://deeplearning.net"
      ]
    },
    {
      "cell_type": "code",
      "metadata": {
        "id": "dyi7JP2NCbRx",
        "colab_type": "code",
        "colab": {}
      },
      "source": [
        ""
      ],
      "execution_count": 0,
      "outputs": []
    }
  ]
}