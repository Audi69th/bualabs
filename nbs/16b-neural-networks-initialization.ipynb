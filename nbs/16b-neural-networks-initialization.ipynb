{
 "cells": [
  {
   "cell_type": "markdown",
   "metadata": {
    "colab_type": "text",
    "id": "FZHqldhFCbKC"
   },
   "source": [
    "Neural Network 102 - Initialization Neural Network\n",
    "\n",
    "เปรียบเทียบการ Initialize Weight แบบต่าง ๆ ว่าจะมีผลต่อ Gradient อย่างไร แบบไหนช่วยลดปัญหา Vanishing Gradient และ Exploding Gradient"
   ]
  },
  {
   "cell_type": "markdown",
   "metadata": {
    "colab_type": "text",
    "id": "-h1FTwHBCbKR"
   },
   "source": [
    "# 0. Magic"
   ]
  },
  {
   "cell_type": "code",
   "execution_count": 1,
   "metadata": {
    "colab": {},
    "colab_type": "code",
    "id": "gCnBgYeLCbKZ"
   },
   "outputs": [],
   "source": [
    "%load_ext autoreload\n",
    "%autoreload 2\n",
    "%matplotlib inline"
   ]
  },
  {
   "cell_type": "markdown",
   "metadata": {
    "colab_type": "text",
    "id": "_mueI0MrCbKw"
   },
   "source": [
    "# 1. Import"
   ]
  },
  {
   "cell_type": "code",
   "execution_count": 2,
   "metadata": {
    "colab": {},
    "colab_type": "code",
    "id": "CJGdUV2iCbK5"
   },
   "outputs": [],
   "source": [
    "from pathlib import Path\n",
    "from IPython.core.debugger import set_trace\n",
    "from fastai import datasets\n",
    "import pickle, gzip, math, torch\n",
    "from torch import tensor"
   ]
  },
  {
   "cell_type": "markdown",
   "metadata": {
    "colab_type": "text",
    "id": "uObsvUMfCbLL"
   },
   "source": [
    "# 2. Download Dataset"
   ]
  },
  {
   "cell_type": "markdown",
   "metadata": {
    "colab_type": "text",
    "id": "--1l-l57CbLO"
   },
   "source": [
    "เคสนี้เราจะใช้ MNIST Dataset เหมือนเดิม"
   ]
  },
  {
   "cell_type": "code",
   "execution_count": 3,
   "metadata": {
    "colab": {},
    "colab_type": "code",
    "id": "owvvBuKKCbLT"
   },
   "outputs": [],
   "source": [
    "MNIST_URL='http://deeplearning.net/data/mnist/mnist.pkl'"
   ]
  },
  {
   "cell_type": "code",
   "execution_count": 4,
   "metadata": {
    "colab": {},
    "colab_type": "code",
    "id": "_ZfXmYy_CbLe"
   },
   "outputs": [],
   "source": [
    "def get_data():\n",
    "    path = datasets.download_data(MNIST_URL, ext='.gz')\n",
    "    with gzip.open(path, 'rb') as f:\n",
    "        ((x_train, y_train), (x_valid, y_valid), _) = pickle.load(f, encoding='latin-1')\n",
    "    return map(tensor, (x_train, y_train, x_valid, y_valid))"
   ]
  },
  {
   "cell_type": "markdown",
   "metadata": {
    "colab_type": "text",
    "id": "AzV7TQTRCbLp"
   },
   "source": [
    "ดาวน์โหลดชุดข้อมูลมาใส่ x, y ทั้ง Training Set และ Validation Set"
   ]
  },
  {
   "cell_type": "code",
   "execution_count": 5,
   "metadata": {
    "colab": {},
    "colab_type": "code",
    "id": "3beRpkf9CbLr"
   },
   "outputs": [],
   "source": [
    "x_train, y_train, x_valid, y_valid = get_data()"
   ]
  },
  {
   "cell_type": "markdown",
   "metadata": {
    "colab_type": "text",
    "id": "Msfx0I4ICbLy"
   },
   "source": [
    "# 3. เตรียมข้อมูล"
   ]
  },
  {
   "cell_type": "markdown",
   "metadata": {
    "colab_type": "text",
    "id": "aszTg9c7CbL0"
   },
   "source": [
    "หา mean และ standard deviation ของข้อมูล Training Set"
   ]
  },
  {
   "cell_type": "code",
   "execution_count": 6,
   "metadata": {
    "colab": {
     "base_uri": "https://localhost:8080/",
     "height": 35
    },
    "colab_type": "code",
    "id": "65fOnfJXCbL3",
    "outputId": "6ec28ac1-8760-47b5-ee15-3e10af422c3f"
   },
   "outputs": [
    {
     "data": {
      "text/plain": [
       "(tensor(0.1304), tensor(0.3073))"
      ]
     },
     "execution_count": 6,
     "metadata": {},
     "output_type": "execute_result"
    }
   ],
   "source": [
    "train_mean, train_std = x_train.mean(), x_train.std()\n",
    "train_mean, train_std"
   ]
  },
  {
   "cell_type": "markdown",
   "metadata": {
    "colab_type": "text",
    "id": "_2pkW_cMCbMF"
   },
   "source": [
    "เนื่องจากทุกอย่างมาจากข้อมูลคนละแหล่ง เราไม่ทราบว่าอันไหนสำคัญกว่าอันไหน เราจึง Normalize ข้อมูลทุกอย่างให้อยู่ใน Scale เดียวกันให้หมด โดย mean = 0, std = 1 เท่ากันหมด แล้วให้โมเดลเรียนรู้เอง จากข้อมูลตัวอย่างว่าอันไหน สำคัญเท่าไร สัมพันธ์กันอย่างไร"
   ]
  },
  {
   "cell_type": "markdown",
   "metadata": {
    "colab_type": "text",
    "id": "a0PK7Eq8CbMH"
   },
   "source": [
    "Normalize คือการทำให้ข้อมูล มี mean = 0 และ standard deviation (std) = 1 ด้วยการ ลบด้วย mean หารด้วย std"
   ]
  },
  {
   "cell_type": "code",
   "execution_count": 7,
   "metadata": {
    "colab": {},
    "colab_type": "code",
    "id": "Gg4vGpSaCbMK"
   },
   "outputs": [],
   "source": [
    "# x = data, m = mean, s = standard deviation\n",
    "def normalize(x, m, s): \n",
    "    return (x-m)/s"
   ]
  },
  {
   "cell_type": "code",
   "execution_count": 8,
   "metadata": {
    "colab": {},
    "colab_type": "code",
    "id": "JfYrMDn5CbMQ"
   },
   "outputs": [],
   "source": [
    "x_train = normalize(x_train, train_mean, train_std)"
   ]
  },
  {
   "cell_type": "markdown",
   "metadata": {
    "colab_type": "text",
    "id": "R-Cdm7GVCbMV"
   },
   "source": [
    "Normalize ข้อมูล Validation Set ด้วย mean, std ของ Training Set เพื่อปรับให้เป็น Scale เดียวกัน"
   ]
  },
  {
   "cell_type": "code",
   "execution_count": 9,
   "metadata": {
    "colab": {},
    "colab_type": "code",
    "id": "TfU5AZHECbMX"
   },
   "outputs": [],
   "source": [
    "x_valid = normalize(x_valid, train_mean, train_std)"
   ]
  },
  {
   "cell_type": "markdown",
   "metadata": {
    "colab_type": "text",
    "id": "BmyugqeZCbMc"
   },
   "source": [
    "ลองดูค่า mean, std หลังจาก Normalize เรียบร้อยแล้ว"
   ]
  },
  {
   "cell_type": "code",
   "execution_count": 10,
   "metadata": {
    "colab": {
     "base_uri": "https://localhost:8080/",
     "height": 35
    },
    "colab_type": "code",
    "id": "PqKxUMyhCbMe",
    "outputId": "89a2717b-1753-442f-a069-84f549ae6093",
    "scrolled": true
   },
   "outputs": [
    {
     "data": {
      "text/plain": [
       "(tensor(-7.6999e-06), tensor(1.))"
      ]
     },
     "execution_count": 10,
     "metadata": {},
     "output_type": "execute_result"
    }
   ],
   "source": [
    "train_mean_after, train_std_after = x_train.mean(), x_train.std()\n",
    "train_mean_after, train_std_after"
   ]
  },
  {
   "cell_type": "markdown",
   "metadata": {
    "colab_type": "text",
    "id": "hCs7EmuxCbMt"
   },
   "source": [
    "ได้ mean เป็นเลขจุดทศนิยมน้อยมาก ๆ ใกล้เคียง 0 และ std ใกล้เคียง 1"
   ]
  },
  {
   "cell_type": "markdown",
   "metadata": {
    "colab_type": "text",
    "id": "rz-vgYBlCbMw"
   },
   "source": [
    "n = จำนวน Record, m จำนวน Feature, c = จำนวน class"
   ]
  },
  {
   "cell_type": "code",
   "execution_count": 11,
   "metadata": {
    "colab": {
     "base_uri": "https://localhost:8080/",
     "height": 35
    },
    "colab_type": "code",
    "id": "sVXBEUkOCbM0",
    "outputId": "901a47af-8b24-44b0-bcc2-a3cc21b57485"
   },
   "outputs": [
    {
     "data": {
      "text/plain": [
       "(50000, 784, tensor(10))"
      ]
     },
     "execution_count": 11,
     "metadata": {},
     "output_type": "execute_result"
    }
   ],
   "source": [
    "n, m = x_train.shape\n",
    "c = y_train.max()+1\n",
    "n, m, c"
   ]
  },
  {
   "cell_type": "markdown",
   "metadata": {
    "colab_type": "text",
    "id": "xejRofyNCbNC"
   },
   "source": [
    "แปลงจาก Long เป็น Float ก่อนส่งให้ Loss Function เนื่องจากเราใช้ Mse แทน Cross Entropy"
   ]
  },
  {
   "cell_type": "code",
   "execution_count": 12,
   "metadata": {
    "colab": {},
    "colab_type": "code",
    "id": "S3HnZa6WCbNE"
   },
   "outputs": [],
   "source": [
    "y_train, y_valid = y_train.float(), y_valid.float()"
   ]
  },
  {
   "cell_type": "markdown",
   "metadata": {
    "colab_type": "text",
    "id": "cOn9LAolCbNQ"
   },
   "source": [
    "# 4. Model"
   ]
  },
  {
   "cell_type": "markdown",
   "metadata": {
    "colab_type": "text",
    "id": "zS7PA79HCbNT"
   },
   "source": [
    "เราจะสร้าง 4 Hidden Layers Neural Networks ที่มี 100 Neuron ในแต่ละ Hidden Layer "
   ]
  },
  {
   "cell_type": "code",
   "execution_count": 13,
   "metadata": {
    "colab": {},
    "colab_type": "code",
    "id": "5o7E7ORbCbN8"
   },
   "outputs": [],
   "source": [
    "# nh = number of hidden\n",
    "nh = 100"
   ]
  },
  {
   "cell_type": "code",
   "execution_count": 14,
   "metadata": {
    "colab": {},
    "colab_type": "code",
    "id": "9P6XwZ0HCbOD"
   },
   "outputs": [],
   "source": [
    "class Module():\n",
    "    def __call__(self, *args):\n",
    "        self.args = args\n",
    "        self.out = self.forward(*args)\n",
    "        return self.out\n",
    "    def forward(self, inp):\n",
    "        raise Exception('Not implemented')\n",
    "    def backward(self):\n",
    "        self.bwd(self.out, *self.args)        "
   ]
  },
  {
   "cell_type": "code",
   "execution_count": 15,
   "metadata": {
    "colab": {},
    "colab_type": "code",
    "id": "yqGPwj4xCbOJ"
   },
   "outputs": [],
   "source": [
    "class Relu(Module):\n",
    "    def forward(self, inp):\n",
    "        return inp.clamp_min(0.)# - 0.5\n",
    "    def bwd(self, out, inp):\n",
    "        inp.g = (inp>0).float()*out.g"
   ]
  },
  {
   "cell_type": "code",
   "execution_count": 16,
   "metadata": {
    "colab": {},
    "colab_type": "code",
    "id": "0XOt9n-FCbOO"
   },
   "outputs": [],
   "source": [
    "class Sigmoid(Module):\n",
    "    def forward(self, inp):\n",
    "        return 1/(1 + torch.exp(-inp)) \n",
    "    def bwd(self, out, inp):\n",
    "        inp.g = (self.forward(inp) * (1 - self.forward(inp))) * out.g"
   ]
  },
  {
   "cell_type": "code",
   "execution_count": 17,
   "metadata": {
    "colab": {},
    "colab_type": "code",
    "id": "sM-ZpBKQCbOU"
   },
   "outputs": [],
   "source": [
    "class Lin(Module):\n",
    "    def __init__(self, w, b):\n",
    "        self.w, self.b = w, b\n",
    "    def forward(self, inp):\n",
    "        return inp @ self.w + self.b\n",
    "    def bwd(self, out, inp):\n",
    "        inp.g = out.g @ self.w.t()\n",
    "        self.w.g = inp.squeeze(-1).t() @ out.g\n",
    "        self.b.g = out.g.sum(0)"
   ]
  },
  {
   "cell_type": "code",
   "execution_count": 18,
   "metadata": {
    "colab": {},
    "colab_type": "code",
    "id": "rmgkxCfKCbOe"
   },
   "outputs": [],
   "source": [
    "class Mse(Module):\n",
    "    def forward(self, inp, targ):\n",
    "        return (inp.squeeze(-1) - targ).pow(2).mean()\n",
    "    def bwd(self, out, inp, targ):\n",
    "        inp.g = 2. * (inp.squeeze(-1) - targ).unsqueeze(-1) / inp.shape[0]        "
   ]
  },
  {
   "cell_type": "markdown",
   "metadata": {
    "colab_type": "text",
    "id": "OR5VcLOzCbOm"
   },
   "source": [
    "สร้างโมเดล ที่มี 4 Hidden Layer และ Activation หลายแบบให้เลือก ใน Comment"
   ]
  },
  {
   "cell_type": "code",
   "execution_count": 19,
   "metadata": {
    "colab": {},
    "colab_type": "code",
    "id": "G8HKZvN1CbOq"
   },
   "outputs": [],
   "source": [
    "class Model():\n",
    "    def __init__(self):\n",
    "        self.layers = [Lin(w1, b1), Relu(), Lin(w2, b2), Relu(), Lin(w3, b3), Relu(), Lin(w4, b4)]\n",
    "#         self.layers = [Lin(w1, b1), Sigmoid(), Lin(w2, b2), Sigmoid(), Lin(w3, b3), Sigmoid(), Lin(w4, b4)]\n",
    "#         self.layers = [Lin(w1, b1), Lin(w2, b2), Lin(w3, b3), Lin(w4, b4)]\n",
    "        self.loss = Mse()\n",
    "    def __call__(self, x, targ):\n",
    "#         set_trace()\n",
    "        for l in self.layers:\n",
    "            x = l(x)\n",
    "        return self.loss(x, targ), x\n",
    "    def backward(self):\n",
    "        self.loss.backward()        \n",
    "        for l in reversed(self.layers):\n",
    "            l.backward()"
   ]
  },
  {
   "cell_type": "markdown",
   "metadata": {
    "colab_type": "text",
    "id": "Yatt-7BOCbOw"
   },
   "source": [
    "# 5. Weight and Bias Initialization"
   ]
  },
  {
   "cell_type": "markdown",
   "metadata": {
    "colab_type": "text",
    "id": "oHpFosjdCbOx"
   },
   "source": [
    "เราจะลอง Initinalize กำหนดค่าเริ่มต้น Weight และ Bias แบบต่าง ๆ แล้วเราจะใช้ข้อมูลเดียวกัน รันผ่านโมเดล แล้ว Backpropagate เพื่อเปรียบเทียบ ว่า Gradient เป็นอย่างไร  "
   ]
  },
  {
   "cell_type": "markdown",
   "metadata": {
    "colab_type": "text",
    "id": "EjQq6R-GCbOy"
   },
   "source": [
    "## 5.1 Normal Distribution (Gaussian)"
   ]
  },
  {
   "cell_type": "markdown",
   "metadata": {
    "colab_type": "text",
    "id": "IGMUh9ZjCbOz"
   },
   "source": [
    "กำหนดค่าเริ่มต้นของ Weight และ Bias ด้วยค่า Random แบบ Normal Distribution (Gaussian)"
   ]
  },
  {
   "cell_type": "code",
   "execution_count": 20,
   "metadata": {
    "colab": {},
    "colab_type": "code",
    "id": "54V7JhC8CbO1"
   },
   "outputs": [],
   "source": [
    "w1 = torch.randn(m, nh)\n",
    "b1 = torch.zeros(nh)\n",
    "w2 = torch.randn(nh, nh)\n",
    "b2 = torch.zeros(nh)\n",
    "w3 = torch.randn(nh, nh)\n",
    "b3 = torch.zeros(nh)\n",
    "w4 = torch.randn(nh, 1)\n",
    "b4 = torch.zeros(1)"
   ]
  },
  {
   "cell_type": "markdown",
   "metadata": {
    "colab_type": "text",
    "id": "TpGOz6uCCbO6"
   },
   "source": [
    "ลองดูค่า mean, std ของ Weight"
   ]
  },
  {
   "cell_type": "code",
   "execution_count": 21,
   "metadata": {
    "colab": {
     "base_uri": "https://localhost:8080/",
     "height": 35
    },
    "colab_type": "code",
    "id": "zBF1piLCCbO8",
    "outputId": "6d8f0a78-2cd1-48b3-f517-1adb0521563f",
    "scrolled": false
   },
   "outputs": [
    {
     "data": {
      "text/plain": [
       "(tensor(-0.0018), tensor(1.0043))"
      ]
     },
     "execution_count": 21,
     "metadata": {},
     "output_type": "execute_result"
    }
   ],
   "source": [
    "w1.mean(), w1.std()"
   ]
  },
  {
   "cell_type": "code",
   "execution_count": 22,
   "metadata": {
    "colab": {
     "base_uri": "https://localhost:8080/",
     "height": 35
    },
    "colab_type": "code",
    "id": "ETpYvUtJCbPD",
    "outputId": "0e54e227-7c52-4af8-b487-ee672b05a379"
   },
   "outputs": [
    {
     "data": {
      "text/plain": [
       "(tensor(-0.0116), tensor(1.0003))"
      ]
     },
     "execution_count": 22,
     "metadata": {},
     "output_type": "execute_result"
    }
   ],
   "source": [
    "w2.mean(), w2.std()"
   ]
  },
  {
   "cell_type": "code",
   "execution_count": 23,
   "metadata": {
    "colab": {
     "base_uri": "https://localhost:8080/",
     "height": 35
    },
    "colab_type": "code",
    "id": "m5-tj083CbPJ",
    "outputId": "c18fcd74-7fff-40ee-fb7a-52b9ef7d4948"
   },
   "outputs": [
    {
     "data": {
      "text/plain": [
       "(tensor(-0.0116), tensor(1.0059))"
      ]
     },
     "execution_count": 23,
     "metadata": {},
     "output_type": "execute_result"
    }
   ],
   "source": [
    "w3.mean(), w3.std()"
   ]
  },
  {
   "cell_type": "code",
   "execution_count": 24,
   "metadata": {
    "colab": {
     "base_uri": "https://localhost:8080/",
     "height": 35
    },
    "colab_type": "code",
    "id": "zveHmFhuCbPN",
    "outputId": "f53d9065-0772-459f-fb40-fbad556ad34e"
   },
   "outputs": [
    {
     "data": {
      "text/plain": [
       "(tensor(-0.1016), tensor(0.9473))"
      ]
     },
     "execution_count": 24,
     "metadata": {},
     "output_type": "execute_result"
    }
   ],
   "source": [
    "w4.mean(), w4.std()"
   ]
  },
  {
   "cell_type": "markdown",
   "metadata": {
    "colab_type": "text",
    "id": "SooxelU_CbPS"
   },
   "source": [
    "Weight ดูดีมาก ใกล้เคียง mean = 0, std = 1 แต่ไม่มีประโยชน์ เพราะเราสนใจแต่ Gradient"
   ]
  },
  {
   "cell_type": "markdown",
   "metadata": {
    "colab_type": "text",
    "id": "MRUtHQZcCbPU"
   },
   "source": [
    "### ลองสมมติว่าเป็น Layer แรก"
   ]
  },
  {
   "cell_type": "code",
   "execution_count": 25,
   "metadata": {
    "colab": {
     "base_uri": "https://localhost:8080/",
     "height": 35
    },
    "colab_type": "code",
    "id": "e0j_4flgCbPV",
    "outputId": "b145eb76-038b-4980-ea48-57b252603749"
   },
   "outputs": [
    {
     "data": {
      "text/plain": [
       "(tensor(1.4633), tensor(26.6616))"
      ]
     },
     "execution_count": 25,
     "metadata": {},
     "output_type": "execute_result"
    }
   ],
   "source": [
    "a1 = x_train @ w1\n",
    "a1.mean(), a1.std()"
   ]
  },
  {
   "cell_type": "markdown",
   "metadata": {
    "colab_type": "text",
    "id": "pSYWXo3hCbPZ"
   },
   "source": [
    "ลองสมมติว่าเป็น Layer แรก + ReLU Activation"
   ]
  },
  {
   "cell_type": "code",
   "execution_count": 26,
   "metadata": {
    "colab": {
     "base_uri": "https://localhost:8080/",
     "height": 35
    },
    "colab_type": "code",
    "id": "sO-akECECbPa",
    "outputId": "0c2ccdc8-d8be-414e-df62-3eedea157f07",
    "scrolled": true
   },
   "outputs": [
    {
     "data": {
      "text/plain": [
       "(tensor(10.7821), tensor(16.3001))"
      ]
     },
     "execution_count": 26,
     "metadata": {},
     "output_type": "execute_result"
    }
   ],
   "source": [
    "z1 = (x_train @ w1).clamp(0.)-0.5\n",
    "z1.mean(), z1.std()"
   ]
  },
  {
   "cell_type": "markdown",
   "metadata": {
    "colab_type": "text",
    "id": "lPu8mMqZCbPf"
   },
   "source": [
    "เราได้ Activation ของ Layer แรก ที่ไม่ใกล้เคียง mean = 0, std = 1 เลย อาจจะมีปัญหาตอนเทรนได้"
   ]
  },
  {
   "cell_type": "markdown",
   "metadata": {
    "colab_type": "text",
    "id": "dmmSh9_rCbPh"
   },
   "source": [
    "### สร้างโมเดล รัน forward และ backward "
   ]
  },
  {
   "cell_type": "code",
   "execution_count": 27,
   "metadata": {
    "colab": {},
    "colab_type": "code",
    "id": "TqABfRGICbPi"
   },
   "outputs": [],
   "source": [
    "w1.g,b1.g,w2.g,b2.g,w3.g,b3.g,w4.g,b4.g = [None]*8\n",
    "model = Model()\n",
    "loss, yhat = model(x_train, y_train)\n",
    "model.backward()"
   ]
  },
  {
   "cell_type": "markdown",
   "metadata": {
    "colab_type": "text",
    "id": "xOM1dsLoCbPl"
   },
   "source": [
    "ตรวจเช็ค Mean และ Standard Deviation ของ Gradient ของ Weight ของแต่ละ Layer"
   ]
  },
  {
   "cell_type": "code",
   "execution_count": 28,
   "metadata": {
    "colab": {
     "base_uri": "https://localhost:8080/",
     "height": 35
    },
    "colab_type": "code",
    "id": "ftsPGiDmCbPl",
    "outputId": "1bbcd7e3-d28b-478b-c2e7-473d17a0bcaf"
   },
   "outputs": [
    {
     "data": {
      "text/plain": [
       "(tensor(-11906199.), tensor(13109767.))"
      ]
     },
     "execution_count": 28,
     "metadata": {},
     "output_type": "execute_result"
    }
   ],
   "source": [
    "w4.g.mean(), w4.g.std()"
   ]
  },
  {
   "cell_type": "code",
   "execution_count": 29,
   "metadata": {
    "colab": {
     "base_uri": "https://localhost:8080/",
     "height": 35
    },
    "colab_type": "code",
    "id": "qDlbwmPICbPp",
    "outputId": "3889b485-5d91-4fd4-8833-07558884ed88"
   },
   "outputs": [
    {
     "data": {
      "text/plain": [
       "(tensor(173586.5000), tensor(1335963.1250))"
      ]
     },
     "execution_count": 29,
     "metadata": {},
     "output_type": "execute_result"
    }
   ],
   "source": [
    "w3.g.mean(), w3.g.std()"
   ]
  },
  {
   "cell_type": "code",
   "execution_count": 30,
   "metadata": {
    "colab": {
     "base_uri": "https://localhost:8080/",
     "height": 35
    },
    "colab_type": "code",
    "id": "oYMnAtd1CbPu",
    "outputId": "33a7c98d-07cd-40c5-9c5d-eeb5c084675a"
   },
   "outputs": [
    {
     "data": {
      "text/plain": [
       "(tensor(159510.8594), tensor(1163155.3750))"
      ]
     },
     "execution_count": 30,
     "metadata": {},
     "output_type": "execute_result"
    }
   ],
   "source": [
    "w2.g.mean(), w2.g.std()"
   ]
  },
  {
   "cell_type": "code",
   "execution_count": 31,
   "metadata": {
    "colab": {
     "base_uri": "https://localhost:8080/",
     "height": 35
    },
    "colab_type": "code",
    "id": "1iJ7zg_RCbPy",
    "outputId": "b5aec9c9-eb8a-4d77-fc8b-afd78f7f58cb",
    "scrolled": false
   },
   "outputs": [
    {
     "data": {
      "text/plain": [
       "(tensor(3613.6270), tensor(253930.4844))"
      ]
     },
     "execution_count": 31,
     "metadata": {},
     "output_type": "execute_result"
    }
   ],
   "source": [
    "w1.g.mean(), w1.g.std()"
   ]
  },
  {
   "cell_type": "markdown",
   "metadata": {
    "colab_type": "text",
    "id": "4-Xiy8nACbP2"
   },
   "source": [
    "Gradient ที่เราต้องการคือประมาณ mean = 0, std = 1 แต่นี่ไม่ได้ใกล้เคียงเลย ถ้าเป็นแบบนี้จะทำให้เกิดปัญหา Exploding Gradient"
   ]
  },
  {
   "cell_type": "markdown",
   "metadata": {
    "colab_type": "text",
    "id": "QCiqnf5qCbP3"
   },
   "source": [
    "## 5.2 Xavier Initialization (หรืออีกชื่อคือ Glorot initialization.)"
   ]
  },
  {
   "cell_type": "markdown",
   "metadata": {
    "colab_type": "text",
    "id": "NfGPowcoCbP4"
   },
   "source": [
    "กำหนดค่าเริ่มต้นของ Weight และ Bias ด้วย Xavier Initialization โดยสำหรับ ReLU แล้ว gain = sqrt(2)"
   ]
  },
  {
   "cell_type": "code",
   "execution_count": 32,
   "metadata": {
    "colab": {},
    "colab_type": "code",
    "id": "iFB5X1_hCbP5"
   },
   "outputs": [],
   "source": [
    "gain = math.sqrt(2.)\n",
    "\n",
    "w1 = torch.randn(m, nh) * math.sqrt(2./(m+nh)) * gain\n",
    "b1 = torch.zeros(nh)\n",
    "w2 = torch.randn(nh, nh) * math.sqrt(2./(nh+nh)) * gain\n",
    "b2 = torch.zeros(nh)\n",
    "w3 = torch.randn(nh, nh) * math.sqrt(2./(nh+nh)) * gain\n",
    "b3 = torch.zeros(nh)\n",
    "w4 = torch.randn(nh, 1) * math.sqrt(2./(nh+1)) * gain\n",
    "b4 = torch.zeros(1)"
   ]
  },
  {
   "cell_type": "markdown",
   "metadata": {
    "colab_type": "text",
    "id": "_qKGOEBkCbP8"
   },
   "source": [
    "ลองดูค่า mean, std ของ Weight"
   ]
  },
  {
   "cell_type": "code",
   "execution_count": 33,
   "metadata": {
    "colab": {
     "base_uri": "https://localhost:8080/",
     "height": 35
    },
    "colab_type": "code",
    "id": "_pMrbTmkCbP-",
    "outputId": "3c9fff45-0a1e-4941-a026-870f6ac39bd9",
    "scrolled": false
   },
   "outputs": [
    {
     "data": {
      "text/plain": [
       "(tensor(-0.0001), tensor(0.0671))"
      ]
     },
     "execution_count": 33,
     "metadata": {},
     "output_type": "execute_result"
    }
   ],
   "source": [
    "w1.mean(), w1.std()"
   ]
  },
  {
   "cell_type": "code",
   "execution_count": 34,
   "metadata": {
    "colab": {
     "base_uri": "https://localhost:8080/",
     "height": 35
    },
    "colab_type": "code",
    "id": "U46ySe8fCbQC",
    "outputId": "9d43f043-874f-40ce-ff0c-4c1eeb4e3abd"
   },
   "outputs": [
    {
     "data": {
      "text/plain": [
       "(tensor(-0.0004), tensor(0.1416))"
      ]
     },
     "execution_count": 34,
     "metadata": {},
     "output_type": "execute_result"
    }
   ],
   "source": [
    "w2.mean(), w2.std()"
   ]
  },
  {
   "cell_type": "code",
   "execution_count": 35,
   "metadata": {
    "colab": {
     "base_uri": "https://localhost:8080/",
     "height": 35
    },
    "colab_type": "code",
    "id": "xHTXT-MGCbQG",
    "outputId": "77c5f79d-d276-4208-e823-275b64f329e7"
   },
   "outputs": [
    {
     "data": {
      "text/plain": [
       "(tensor(0.0008), tensor(0.1408))"
      ]
     },
     "execution_count": 35,
     "metadata": {},
     "output_type": "execute_result"
    }
   ],
   "source": [
    "w3.mean(), w3.std()"
   ]
  },
  {
   "cell_type": "code",
   "execution_count": 36,
   "metadata": {
    "colab": {
     "base_uri": "https://localhost:8080/",
     "height": 35
    },
    "colab_type": "code",
    "id": "l5pT6xi1CbQK",
    "outputId": "4a5f1a04-c7a6-46f9-b856-d1773baa9c99",
    "scrolled": true
   },
   "outputs": [
    {
     "data": {
      "text/plain": [
       "(tensor(0.0329), tensor(0.1807))"
      ]
     },
     "execution_count": 36,
     "metadata": {},
     "output_type": "execute_result"
    }
   ],
   "source": [
    "w4.mean(), w4.std()"
   ]
  },
  {
   "cell_type": "markdown",
   "metadata": {
    "colab_type": "text",
    "id": "meAK6OuXCbQP"
   },
   "source": [
    "Weight จะ mean, std เป็นอย่างไรเรายังไม่สนใจ"
   ]
  },
  {
   "cell_type": "markdown",
   "metadata": {
    "colab_type": "text",
    "id": "63SVa9x8CbQQ"
   },
   "source": [
    "### ลองสมมติว่าเป็น Layer แรก"
   ]
  },
  {
   "cell_type": "code",
   "execution_count": 37,
   "metadata": {
    "colab": {
     "base_uri": "https://localhost:8080/",
     "height": 35
    },
    "colab_type": "code",
    "id": "38iS68USCbQR",
    "outputId": "0e6efb6a-807a-48ae-f3b8-7ffa7a50bd5c"
   },
   "outputs": [
    {
     "data": {
      "text/plain": [
       "(tensor(0.0025), tensor(1.9538))"
      ]
     },
     "execution_count": 37,
     "metadata": {},
     "output_type": "execute_result"
    }
   ],
   "source": [
    "a1 = x_train @ w1\n",
    "a1.mean(), a1.std()"
   ]
  },
  {
   "cell_type": "markdown",
   "metadata": {
    "colab_type": "text",
    "id": "Bj6jyikMCbQZ"
   },
   "source": [
    "เราได้ Output ของ Layer แรก ก่อน Activation ที่ใกล้เคียง mean = 0, std = 1 มากขึ้น"
   ]
  },
  {
   "cell_type": "markdown",
   "metadata": {
    "colab_type": "text",
    "id": "MOMZ94ONCbQa"
   },
   "source": [
    "ลองสมมติว่าเป็น Layer แรก + ReLU Activation"
   ]
  },
  {
   "cell_type": "code",
   "execution_count": 38,
   "metadata": {
    "colab": {
     "base_uri": "https://localhost:8080/",
     "height": 35
    },
    "colab_type": "code",
    "id": "P35uMSalCbQb",
    "outputId": "7332fb83-81bc-4321-cab4-65ca859c37e4",
    "scrolled": true
   },
   "outputs": [
    {
     "data": {
      "text/plain": [
       "(tensor(0.7664), tensor(1.1620))"
      ]
     },
     "execution_count": 38,
     "metadata": {},
     "output_type": "execute_result"
    }
   ],
   "source": [
    "z1 = (x_train @ w1).clamp(0.)#-0.5\n",
    "z1.mean(), z1.std()"
   ]
  },
  {
   "cell_type": "markdown",
   "metadata": {
    "colab_type": "text",
    "id": "NcvFUTSsCbQe"
   },
   "source": [
    "ใกล้เคียง mean = 0, std = 1"
   ]
  },
  {
   "cell_type": "markdown",
   "metadata": {
    "colab_type": "text",
    "id": "cJb6BUE1CbQf"
   },
   "source": [
    "### สร้างโมเดล"
   ]
  },
  {
   "cell_type": "code",
   "execution_count": 39,
   "metadata": {
    "colab": {},
    "colab_type": "code",
    "id": "G8lVsTfSCbQg"
   },
   "outputs": [],
   "source": [
    "w1.g,b1.g,w2.g,b2.g,w3.g,b3.g,w4.g,b4.g = [None]*8\n",
    "model = Model()\n",
    "loss, yhat = model(x_train, y_train)\n",
    "model.backward()"
   ]
  },
  {
   "cell_type": "markdown",
   "metadata": {
    "colab_type": "text",
    "id": "u8P2viYPCbQj"
   },
   "source": [
    "ตรวจเช็ค Mean และ Standard Deviation ของ Gradient ของ Weight ของแต่ละ Layer"
   ]
  },
  {
   "cell_type": "code",
   "execution_count": 40,
   "metadata": {
    "colab": {
     "base_uri": "https://localhost:8080/",
     "height": 35
    },
    "colab_type": "code",
    "id": "NT7FxmY1CbQk",
    "outputId": "a7397727-442c-4f62-928a-147429ff2fda"
   },
   "outputs": [
    {
     "data": {
      "text/plain": [
       "(tensor(-5.4863), tensor(5.9444))"
      ]
     },
     "execution_count": 40,
     "metadata": {},
     "output_type": "execute_result"
    }
   ],
   "source": [
    "w4.g.mean(), w4.g.std()"
   ]
  },
  {
   "cell_type": "code",
   "execution_count": 41,
   "metadata": {
    "colab": {
     "base_uri": "https://localhost:8080/",
     "height": 35
    },
    "colab_type": "code",
    "id": "Ua9p-Sm1CbQp",
    "outputId": "ddf17c7e-8b98-4a44-e797-85eeaa57a16d"
   },
   "outputs": [
    {
     "data": {
      "text/plain": [
       "(tensor(-0.0790), tensor(0.8793))"
      ]
     },
     "execution_count": 41,
     "metadata": {},
     "output_type": "execute_result"
    }
   ],
   "source": [
    "w3.g.mean(), w3.g.std()"
   ]
  },
  {
   "cell_type": "code",
   "execution_count": 42,
   "metadata": {
    "colab": {
     "base_uri": "https://localhost:8080/",
     "height": 35
    },
    "colab_type": "code",
    "id": "VTUMr7RTCbQs",
    "outputId": "79e1a2cd-3987-4486-9a85-c4498277575a"
   },
   "outputs": [
    {
     "data": {
      "text/plain": [
       "(tensor(-0.0308), tensor(0.6381))"
      ]
     },
     "execution_count": 42,
     "metadata": {},
     "output_type": "execute_result"
    }
   ],
   "source": [
    "w2.g.mean(), w2.g.std()"
   ]
  },
  {
   "cell_type": "code",
   "execution_count": 43,
   "metadata": {
    "colab": {
     "base_uri": "https://localhost:8080/",
     "height": 35
    },
    "colab_type": "code",
    "id": "5XgFUd1MCbQw",
    "outputId": "a7e36d69-4f8e-4453-afb9-152922827ff7",
    "scrolled": true
   },
   "outputs": [
    {
     "data": {
      "text/plain": [
       "(tensor(0.0006), tensor(0.2843))"
      ]
     },
     "execution_count": 43,
     "metadata": {},
     "output_type": "execute_result"
    }
   ],
   "source": [
    "w1.g.mean(), w1.g.std()"
   ]
  },
  {
   "cell_type": "markdown",
   "metadata": {
    "colab_type": "text",
    "id": "RXoICALgCbQ0"
   },
   "source": [
    "เราได้ Gradient ที่ใกล้เคียง mean = 0, std = 1 มากขึ้น"
   ]
  },
  {
   "cell_type": "markdown",
   "metadata": {
    "colab_type": "text",
    "id": "Le8PeyJ3CbQ1"
   },
   "source": [
    "## 5.3 Kaiming Initialization "
   ]
  },
  {
   "cell_type": "markdown",
   "metadata": {
    "colab_type": "text",
    "id": "c7r10ynSCbQ2"
   },
   "source": [
    "กำหนดค่าเริ่มต้นของ Weight และ Bias ด้วย Kaiming Initialization ที่จะ Normalize ให้ Weight มี Variance ขึ้นกับจำนวน Input ของ Neuron "
   ]
  },
  {
   "cell_type": "code",
   "execution_count": 44,
   "metadata": {
    "colab": {},
    "colab_type": "code",
    "id": "I7Bu5niPCbQ2"
   },
   "outputs": [],
   "source": [
    "gain = math.sqrt(2.) # gain for ReLU\n",
    "\n",
    "w1 = torch.randn(m, nh) * math.sqrt(1./m) * gain\n",
    "b1 = torch.zeros(nh)\n",
    "w2 = torch.randn(nh, nh) * math.sqrt(1./nh) * gain\n",
    "b2 = torch.zeros(nh)\n",
    "w3 = torch.randn(nh, nh) * math.sqrt(1./nh) * gain\n",
    "b3 = torch.zeros(nh)\n",
    "w4 = torch.randn(nh, 1) * math.sqrt(1./nh) * gain\n",
    "b4 = torch.zeros(1)"
   ]
  },
  {
   "cell_type": "markdown",
   "metadata": {
    "colab_type": "text",
    "id": "EBMK7WWRCbQ5"
   },
   "source": [
    "ลองดูค่า mean, std ของ Weight"
   ]
  },
  {
   "cell_type": "code",
   "execution_count": 45,
   "metadata": {
    "colab": {
     "base_uri": "https://localhost:8080/",
     "height": 35
    },
    "colab_type": "code",
    "id": "D7PUJcc5CbQ8",
    "outputId": "9042fc41-0eab-4998-b9a8-ed9c40070a5c",
    "scrolled": false
   },
   "outputs": [
    {
     "data": {
      "text/plain": [
       "(tensor(0.0001), tensor(0.0505))"
      ]
     },
     "execution_count": 45,
     "metadata": {},
     "output_type": "execute_result"
    }
   ],
   "source": [
    "w1.mean(), w1.std()"
   ]
  },
  {
   "cell_type": "code",
   "execution_count": 46,
   "metadata": {
    "colab": {
     "base_uri": "https://localhost:8080/",
     "height": 35
    },
    "colab_type": "code",
    "id": "MBRUO-uJCbRA",
    "outputId": "6aa426bf-b323-4211-902c-069fd53b972a"
   },
   "outputs": [
    {
     "data": {
      "text/plain": [
       "(tensor(0.0010), tensor(0.1413))"
      ]
     },
     "execution_count": 46,
     "metadata": {},
     "output_type": "execute_result"
    }
   ],
   "source": [
    "w2.mean(), w2.std()"
   ]
  },
  {
   "cell_type": "code",
   "execution_count": 47,
   "metadata": {
    "colab": {
     "base_uri": "https://localhost:8080/",
     "height": 35
    },
    "colab_type": "code",
    "id": "uKQ4zvCUCbRE",
    "outputId": "9a9b688c-2d43-411f-ea23-9829be05c33a"
   },
   "outputs": [
    {
     "data": {
      "text/plain": [
       "(tensor(0.0044), tensor(0.1422))"
      ]
     },
     "execution_count": 47,
     "metadata": {},
     "output_type": "execute_result"
    }
   ],
   "source": [
    "w3.mean(), w3.std()"
   ]
  },
  {
   "cell_type": "code",
   "execution_count": 48,
   "metadata": {
    "colab": {
     "base_uri": "https://localhost:8080/",
     "height": 35
    },
    "colab_type": "code",
    "id": "TUM15dfOCbRM",
    "outputId": "327c7176-53de-4d11-e060-a62ebf1fbed0",
    "scrolled": true
   },
   "outputs": [
    {
     "data": {
      "text/plain": [
       "(tensor(0.0226), tensor(0.1370))"
      ]
     },
     "execution_count": 48,
     "metadata": {},
     "output_type": "execute_result"
    }
   ],
   "source": [
    "\n",
    "w4.mean(), w4.std()"
   ]
  },
  {
   "cell_type": "markdown",
   "metadata": {
    "colab_type": "text",
    "id": "E185RmKWCbRQ"
   },
   "source": [
    "Weight จะ mean, std เป็นอย่างไรเรายังไม่สนใจ"
   ]
  },
  {
   "cell_type": "markdown",
   "metadata": {
    "colab_type": "text",
    "id": "Qqubf8o9CbRS"
   },
   "source": [
    "### ลองสมมติว่าเป็น Layer แรก"
   ]
  },
  {
   "cell_type": "code",
   "execution_count": 49,
   "metadata": {
    "colab": {
     "base_uri": "https://localhost:8080/",
     "height": 35
    },
    "colab_type": "code",
    "id": "N4vxh-BbCbRS",
    "outputId": "b3d33f27-60cd-41d3-cd65-907702fa0736"
   },
   "outputs": [
    {
     "data": {
      "text/plain": [
       "(tensor(-0.0484), tensor(1.4068))"
      ]
     },
     "execution_count": 49,
     "metadata": {},
     "output_type": "execute_result"
    }
   ],
   "source": [
    "a1 = x_train @ w1\n",
    "a1.mean(), a1.std()"
   ]
  },
  {
   "cell_type": "markdown",
   "metadata": {
    "colab_type": "text",
    "id": "_pdz1LUoCbRW"
   },
   "source": [
    "ลองสมมติว่าเป็น Layer แรก + ReLU Activation"
   ]
  },
  {
   "cell_type": "code",
   "execution_count": 50,
   "metadata": {
    "colab": {
     "base_uri": "https://localhost:8080/",
     "height": 35
    },
    "colab_type": "code",
    "id": "2_kiJaT0CbRX",
    "outputId": "623c7d6c-6b90-4f8e-cf44-7c03f21527a4",
    "scrolled": false
   },
   "outputs": [
    {
     "data": {
      "text/plain": [
       "(tensor(0.0295), tensor(0.8045))"
      ]
     },
     "execution_count": 50,
     "metadata": {},
     "output_type": "execute_result"
    }
   ],
   "source": [
    "z1 = (x_train @ w1).clamp(0.)-0.5\n",
    "z1.mean(), z1.std()"
   ]
  },
  {
   "cell_type": "markdown",
   "metadata": {
    "colab_type": "text",
    "id": "0RGIUz-pCbRb"
   },
   "source": [
    "เราได้ Activation ของ Layer แรก ที่ใกล้เคียง mean = 0, std = 1 มากขึ้นอีก"
   ]
  },
  {
   "cell_type": "markdown",
   "metadata": {
    "colab_type": "text",
    "id": "APu3jkl3CbRb"
   },
   "source": [
    "### สร้างโมเดล"
   ]
  },
  {
   "cell_type": "code",
   "execution_count": 51,
   "metadata": {
    "colab": {},
    "colab_type": "code",
    "id": "ZIx3SEN6CbRc"
   },
   "outputs": [],
   "source": [
    "w1.g,b1.g,w2.g,b2.g,w3.g,b3.g,w4.g,b4.g = [None]*8\n",
    "model = Model()\n",
    "loss, yhat = model(x_train, y_train)\n",
    "model.backward()"
   ]
  },
  {
   "cell_type": "markdown",
   "metadata": {
    "colab_type": "text",
    "id": "sHopv3kYCbRf"
   },
   "source": [
    "ตรวจเช็ค Mean และ Standard Deviation ของ Gradient ของ Weight ของแต่ละ Layer"
   ]
  },
  {
   "cell_type": "code",
   "execution_count": 52,
   "metadata": {
    "colab": {
     "base_uri": "https://localhost:8080/",
     "height": 35
    },
    "colab_type": "code",
    "id": "YQneFwAdCbRg",
    "outputId": "266f8499-d5a0-4966-dc12-24032477c921"
   },
   "outputs": [
    {
     "data": {
      "text/plain": [
       "(tensor(-3.6282), tensor(3.6949))"
      ]
     },
     "execution_count": 52,
     "metadata": {},
     "output_type": "execute_result"
    }
   ],
   "source": [
    "w4.g.mean(), w4.g.std()"
   ]
  },
  {
   "cell_type": "code",
   "execution_count": 53,
   "metadata": {
    "colab": {
     "base_uri": "https://localhost:8080/",
     "height": 35
    },
    "colab_type": "code",
    "id": "MjYBG_GlCbRj",
    "outputId": "45174132-de8d-4ea6-fec7-82fbf574157e"
   },
   "outputs": [
    {
     "data": {
      "text/plain": [
       "(tensor(-0.0390), tensor(0.4581))"
      ]
     },
     "execution_count": 53,
     "metadata": {},
     "output_type": "execute_result"
    }
   ],
   "source": [
    "w3.g.mean(), w3.g.std()"
   ]
  },
  {
   "cell_type": "code",
   "execution_count": 54,
   "metadata": {
    "colab": {
     "base_uri": "https://localhost:8080/",
     "height": 35
    },
    "colab_type": "code",
    "id": "DZoEkXfbCbRm",
    "outputId": "6c272364-3283-4caa-9544-3fe2707121c4"
   },
   "outputs": [
    {
     "data": {
      "text/plain": [
       "(tensor(-0.0272), tensor(0.2797))"
      ]
     },
     "execution_count": 54,
     "metadata": {},
     "output_type": "execute_result"
    }
   ],
   "source": [
    "w2.g.mean(), w2.g.std()"
   ]
  },
  {
   "cell_type": "code",
   "execution_count": 55,
   "metadata": {
    "colab": {
     "base_uri": "https://localhost:8080/",
     "height": 35
    },
    "colab_type": "code",
    "id": "l6Ql9ELCCbRq",
    "outputId": "b6957428-707e-4263-9f47-a4a0fa53cbb3",
    "scrolled": true
   },
   "outputs": [
    {
     "data": {
      "text/plain": [
       "(tensor(0.0008), tensor(0.1706))"
      ]
     },
     "execution_count": 55,
     "metadata": {},
     "output_type": "execute_result"
    }
   ],
   "source": [
    "w1.g.mean(), w1.g.std()"
   ]
  },
  {
   "cell_type": "markdown",
   "metadata": {
    "colab_type": "text",
    "id": "WRNjFczHCbRt"
   },
   "source": [
    "เราได้ Gradient ที่ใกล้เคียง mean = 0, std = 1 มากขึ้นอีก"
   ]
  },
  {
   "cell_type": "markdown",
   "metadata": {
    "colab_type": "text",
    "id": "FBTembzbCbRt"
   },
   "source": [
    "# 6. สรุป"
   ]
  },
  {
   "cell_type": "markdown",
   "metadata": {
    "colab_type": "text",
    "id": "konCTdHwCbRu"
   },
   "source": [
    "1. วิธีการ Initialize ค่าของ Weight มีความสำคัญอย่างมาก ต่อ Gradient ซึ่งมีผลต่อการเทรน Neural Network\n",
    "1. ยิ่ง Deep Neural Network ยิ่ง Deep มากขึ้นเท่าไร ยิ่งส่งผลต่อ Gradient เป็นทวีคูณ ถ้าน้อยก็จะน้อยไปเรื่อย ๆ จนเป็น 0 ถ้ามากก็จะมากจนเกินรับไหว เป็น Not a number (nan)\n",
    "1. ในการเทรน Neural Network แล้ว Gradient เป็นส่วนสำคัญที่สุด ที่ช่วยให้เทรนสำเร็จ ได้โมเดลที่ดี จน Yann LeCun เสนอให้เรียกว่า Differentiable Programming แทน Deep Learning (Gradient คือ Diff ของหลายตัวแปร เช่น Matrix, Tensor)\n",
    "1. Xavier / Glorot Initialization และ Kaiming / He Initialization มี Variation อื่น ๆ อีก สำหรับโมเดล Convolution Neural Network (CNN) หรือ Fully Connected Layer, การ Random แบบ Uniform Distribution หรือ Normal Distribution และ Activation ต่าง ๆ เช่น Sigmoid, ReLU, Tanh จะมีอัลกอริทึมแตกต่างกันนิดหน่อย จะอธิบายต่อไป"
   ]
  },
  {
   "cell_type": "markdown",
   "metadata": {
    "colab_type": "text",
    "id": "bAaD58QyCbRv"
   },
   "source": [
    "# Credit"
   ]
  },
  {
   "cell_type": "markdown",
   "metadata": {
    "colab_type": "text",
    "id": "63-LzifnCbRw"
   },
   "source": [
    "* https://course.fast.ai/videos/?lesson=8\n",
    "* https://pytorch.org/docs/stable/nn.init.html\n",
    "* https://arxiv.org/abs/1502.01852\n",
    "* http://proceedings.mlr.press/v9/glorot10a.html\n",
    "* https://deeplearning.net"
   ]
  },
  {
   "cell_type": "code",
   "execution_count": null,
   "metadata": {
    "colab": {},
    "colab_type": "code",
    "id": "dyi7JP2NCbRx"
   },
   "outputs": [],
   "source": []
  }
 ],
 "metadata": {
  "colab": {
   "include_colab_link": true,
   "name": "16b-neural-networks-initialization.ipynb",
   "provenance": [],
   "version": "0.3.2"
  },
  "kernelspec": {
   "display_name": "Python 3",
   "language": "python",
   "name": "python3"
  },
  "language_info": {
   "codemirror_mode": {
    "name": "ipython",
    "version": 3
   },
   "file_extension": ".py",
   "mimetype": "text/x-python",
   "name": "python",
   "nbconvert_exporter": "python",
   "pygments_lexer": "ipython3",
   "version": "3.7.3"
  }
 },
 "nbformat": 4,
 "nbformat_minor": 1
}
