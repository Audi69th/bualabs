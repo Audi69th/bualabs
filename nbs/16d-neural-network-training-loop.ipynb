{
  "nbformat": 4,
  "nbformat_minor": 0,
  "metadata": {
    "kernelspec": {
      "display_name": "Python 3",
      "language": "python",
      "name": "python3"
    },
    "language_info": {
      "codemirror_mode": {
        "name": "ipython",
        "version": 3
      },
      "file_extension": ".py",
      "mimetype": "text/x-python",
      "name": "python",
      "nbconvert_exporter": "python",
      "pygments_lexer": "ipython3",
      "version": "3.7.3"
    },
    "colab": {
      "name": "16d-neural-network-training-loop.ipynb",
      "provenance": []
    }
  },
  "cells": [
    {
      "cell_type": "markdown",
      "metadata": {
        "id": "RxG4RmntIhUg",
        "colab_type": "text"
      },
      "source": [
        "Neural Networks 104 - Training Loop\n",
        "\n",
        "วิธีการเทรน นิวรอลเน็ตเวิร์ก ทีละขั้นตอน แบบเข้าใจง่าย"
      ]
    },
    {
      "cell_type": "markdown",
      "metadata": {
        "id": "E2K0Y6HBIhUu",
        "colab_type": "text"
      },
      "source": [
        "# 0. Magic"
      ]
    },
    {
      "cell_type": "code",
      "metadata": {
        "id": "CzToZtD3IhU3",
        "colab_type": "code",
        "colab": {
          "base_uri": "https://localhost:8080/",
          "height": 53
        },
        "outputId": "493fb239-67ac-471d-fe79-dec78f090bf0"
      },
      "source": [
        "%load_ext autoreload\n",
        "%autoreload 2\n",
        "%matplotlib inline"
      ],
      "execution_count": 50,
      "outputs": [
        {
          "output_type": "stream",
          "text": [
            "The autoreload extension is already loaded. To reload it, use:\n",
            "  %reload_ext autoreload\n"
          ],
          "name": "stdout"
        }
      ]
    },
    {
      "cell_type": "markdown",
      "metadata": {
        "id": "L5AxlmsHIhVW",
        "colab_type": "text"
      },
      "source": [
        "# 1. Import"
      ]
    },
    {
      "cell_type": "code",
      "metadata": {
        "id": "v2h0_gK-IhVc",
        "colab_type": "code",
        "colab": {}
      },
      "source": [
        "import torch\n",
        "from torch import tensor\n",
        "from torch import nn\n",
        "import torch.nn.functional as F\n",
        "import matplotlib.pyplot as plt\n",
        "\n",
        "from pathlib import Path\n",
        "from IPython.core.debugger import set_trace\n",
        "from fastai import datasets\n",
        "import pickle, gzip, math, torch\n",
        "import operator"
      ],
      "execution_count": 0,
      "outputs": []
    },
    {
      "cell_type": "markdown",
      "metadata": {
        "id": "rncY_-K-IhWG",
        "colab_type": "text"
      },
      "source": [
        "# 2. Data"
      ]
    },
    {
      "cell_type": "code",
      "metadata": {
        "id": "SfDoXiIsIhWJ",
        "colab_type": "code",
        "colab": {}
      },
      "source": [
        "MNIST_URL='http://deeplearning.net/data/mnist/mnist.pkl'"
      ],
      "execution_count": 0,
      "outputs": []
    },
    {
      "cell_type": "code",
      "metadata": {
        "id": "R35XZaisIhWR",
        "colab_type": "code",
        "colab": {}
      },
      "source": [
        "def get_data():\n",
        "    path = datasets.download_data(MNIST_URL, ext='.gz')\n",
        "    with gzip.open(path, 'rb') as f:\n",
        "        ((x_train, y_train), (x_valid, y_valid), _) = pickle.load(f, encoding='latin-1')\n",
        "    return map(tensor, (x_train, y_train, x_valid, y_valid))"
      ],
      "execution_count": 0,
      "outputs": []
    },
    {
      "cell_type": "code",
      "metadata": {
        "id": "vhFYnpwFIhWZ",
        "colab_type": "code",
        "colab": {}
      },
      "source": [
        "x_train, y_train, x_valid, y_valid = get_data()"
      ],
      "execution_count": 0,
      "outputs": []
    },
    {
      "cell_type": "markdown",
      "metadata": {
        "id": "o2Uc5fmLIhWf",
        "colab_type": "text"
      },
      "source": [
        "# 3. เตรียม Data"
      ]
    },
    {
      "cell_type": "code",
      "metadata": {
        "id": "kdSxnXSwIhWh",
        "colab_type": "code",
        "colab": {}
      },
      "source": [
        "# x = data, m = mean, s = standard deviation\n",
        "def normalize(x, m, s): \n",
        "    return (x-m)/s"
      ],
      "execution_count": 0,
      "outputs": []
    },
    {
      "cell_type": "code",
      "metadata": {
        "id": "h-4sn151IhWp",
        "colab_type": "code",
        "colab": {}
      },
      "source": [
        "train_mean, train_std = x_train.mean(), x_train.std()\n",
        "x_train = normalize(x_train, train_mean, train_std)\n",
        "x_valid = normalize(x_valid, train_mean, train_std)"
      ],
      "execution_count": 0,
      "outputs": []
    },
    {
      "cell_type": "code",
      "metadata": {
        "id": "GvkCVtRrIhWu",
        "colab_type": "code",
        "colab": {
          "base_uri": "https://localhost:8080/",
          "height": 35
        },
        "outputId": "104135c8-c45d-49b7-ad5e-57d21c4b6e9f"
      },
      "source": [
        "n, m = x_train.shape\n",
        "c = y_train.max()+1\n",
        "n, m, c"
      ],
      "execution_count": 57,
      "outputs": [
        {
          "output_type": "execute_result",
          "data": {
            "text/plain": [
              "(50000, 784, tensor(10))"
            ]
          },
          "metadata": {
            "tags": []
          },
          "execution_count": 57
        }
      ]
    },
    {
      "cell_type": "markdown",
      "metadata": {
        "id": "65nEbB0CIhXJ",
        "colab_type": "text"
      },
      "source": [
        "# 4. สร้าง Model"
      ]
    },
    {
      "cell_type": "markdown",
      "metadata": {
        "id": "KqWmgqyEIhXM",
        "colab_type": "text"
      },
      "source": [
        "โมเดลจะประกอบด้วยส่วนต่าง ๆ เช่น Architecture กำหนด Layers ต่าง ๆ, Initialization, Loss Function, อัลกอริทึมในการเทรน และ Metrics ที่เราเรียนรู้กันไปใน ep ก่อน ๆ "
      ]
    },
    {
      "cell_type": "markdown",
      "metadata": {
        "id": "w_woB8lDIhXO",
        "colab_type": "text"
      },
      "source": [
        "โมเดล"
      ]
    },
    {
      "cell_type": "code",
      "metadata": {
        "id": "eWa7lNJqIhXQ",
        "colab_type": "code",
        "colab": {}
      },
      "source": [
        "class Model(nn.Module):\n",
        "    # number of input feature, number of hidden feature, number of output feature\n",
        "    def __init__(self, n_in, nh, n_out):\n",
        "        super().__init__()\n",
        "#         set_trace()\n",
        "        self.layers = [nn.Linear(n_in, nh), nn.ReLU(), nn.Linear(nh, n_out)]        \n",
        "    def __call__(self, x):\n",
        "        for l in self.layers:\n",
        "            x = l(x)\n",
        "        return x"
      ],
      "execution_count": 0,
      "outputs": []
    },
    {
      "cell_type": "markdown",
      "metadata": {
        "id": "ODpn-8D1IhXX",
        "colab_type": "text"
      },
      "source": [
        "เคสนี้เป็นงาน Classification เราจะใช้ [Cross Entropy Loss Fucntion](https://www.bualabs.com/wp-admin/post.php?post=1945&action=edit)"
      ]
    },
    {
      "cell_type": "code",
      "metadata": {
        "id": "TZ5WfVg1IhXZ",
        "colab_type": "code",
        "colab": {}
      },
      "source": [
        "# loss function\n",
        "loss_func = F.cross_entropy"
      ],
      "execution_count": 0,
      "outputs": []
    },
    {
      "cell_type": "markdown",
      "metadata": {
        "id": "gkvUKf2YIhXf",
        "colab_type": "text"
      },
      "source": [
        "ในเคสนี้เราจะใช้ [metrics เป็น Accuracy](https://www.bualabs.com/archives/1968/what-is-metrics-confusion-matrix-accuracy-precision-recall-f1-score-difference-metrics-ep-1/) ประกาศฟังก์ชัน accuracy "
      ]
    },
    {
      "cell_type": "code",
      "metadata": {
        "id": "PPzRy4qAIhXh",
        "colab_type": "code",
        "colab": {}
      },
      "source": [
        "def accuracy(yhat, y):\n",
        "    return (torch.argmax(yhat, dim=-1) == y).float().mean()"
      ],
      "execution_count": 0,
      "outputs": []
    },
    {
      "cell_type": "markdown",
      "metadata": {
        "id": "28sfbaTuIhXo",
        "colab_type": "text"
      },
      "source": [
        "กำหนด Hyperparameter"
      ]
    },
    {
      "cell_type": "code",
      "metadata": {
        "id": "vMUV0GtYIhXp",
        "colab_type": "code",
        "colab": {}
      },
      "source": [
        "# batch size\n",
        "bs = 64\n",
        "# learning rate\n",
        "lr = 0.03\n",
        "epoch = 1\n",
        "nh = 50"
      ],
      "execution_count": 0,
      "outputs": []
    },
    {
      "cell_type": "markdown",
      "metadata": {
        "id": "JhnACB2hIhXu",
        "colab_type": "text"
      },
      "source": [
        "แบ่งข้อมูลออกมา 1 Batch"
      ]
    },
    {
      "cell_type": "code",
      "metadata": {
        "scrolled": true,
        "id": "gRoq9UhPIhXw",
        "colab_type": "code",
        "colab": {}
      },
      "source": [
        "# x batch\n",
        "xb = x_train[:bs]\n",
        "yb = y_train[:bs]"
      ],
      "execution_count": 0,
      "outputs": []
    },
    {
      "cell_type": "markdown",
      "metadata": {
        "id": "fh7vKi3nIhX1",
        "colab_type": "text"
      },
      "source": [
        "สร้างโมเดล จาก Hyperparameter ด้านบน"
      ]
    },
    {
      "cell_type": "code",
      "metadata": {
        "scrolled": false,
        "id": "d14YHDS7IhX3",
        "colab_type": "code",
        "colab": {}
      },
      "source": [
        "model = Model(m, nh, c.numpy())"
      ],
      "execution_count": 0,
      "outputs": []
    },
    {
      "cell_type": "markdown",
      "metadata": {
        "id": "wjq1bSHQIhX-",
        "colab_type": "text"
      },
      "source": [
        "ลองให้โมเดล จำแนก MNIST โดยที่ยังไม่ได้เทรน"
      ]
    },
    {
      "cell_type": "code",
      "metadata": {
        "id": "C-RlmWAnIhX_",
        "colab_type": "code",
        "colab": {
          "base_uri": "https://localhost:8080/",
          "height": 53
        },
        "outputId": "ccb4238d-cab3-4909-9a98-402f4c61d010"
      },
      "source": [
        "# predictions\n",
        "preds = model(xb)\n",
        "preds[0]"
      ],
      "execution_count": 64,
      "outputs": [
        {
          "output_type": "execute_result",
          "data": {
            "text/plain": [
              "tensor([ 0.0840, -0.2890,  0.4719,  0.0182,  0.1822, -0.0419, -0.0704, -0.2706,\n",
              "        -0.1737, -0.0036], grad_fn=<SelectBackward>)"
            ]
          },
          "metadata": {
            "tags": []
          },
          "execution_count": 64
        }
      ]
    },
    {
      "cell_type": "markdown",
      "metadata": {
        "id": "qcWgR2WxIhYG",
        "colab_type": "text"
      },
      "source": [
        "ได้ Output ออกมา 10 Class"
      ]
    },
    {
      "cell_type": "code",
      "metadata": {
        "id": "CKSZe6viIhYI",
        "colab_type": "code",
        "colab": {
          "base_uri": "https://localhost:8080/",
          "height": 35
        },
        "outputId": "3802d285-0180-489c-914c-1a8709982f7e"
      },
      "source": [
        "preds[0].shape"
      ],
      "execution_count": 65,
      "outputs": [
        {
          "output_type": "execute_result",
          "data": {
            "text/plain": [
              "torch.Size([10])"
            ]
          },
          "metadata": {
            "tags": []
          },
          "execution_count": 65
        }
      ]
    },
    {
      "cell_type": "markdown",
      "metadata": {
        "id": "cmwk9C3YIhYP",
        "colab_type": "text"
      },
      "source": [
        "ลองเทส Loss Fuction"
      ]
    },
    {
      "cell_type": "code",
      "metadata": {
        "id": "sFm9RzxeIhYR",
        "colab_type": "code",
        "colab": {
          "base_uri": "https://localhost:8080/",
          "height": 35
        },
        "outputId": "ce2f0cd6-8b21-4b13-e7a2-2bfdb9d0c297"
      },
      "source": [
        "loss = loss_func(preds, yb)\n",
        "loss"
      ],
      "execution_count": 66,
      "outputs": [
        {
          "output_type": "execute_result",
          "data": {
            "text/plain": [
              "tensor(2.3024, grad_fn=<NllLossBackward>)"
            ]
          },
          "metadata": {
            "tags": []
          },
          "execution_count": 66
        }
      ]
    },
    {
      "cell_type": "markdown",
      "metadata": {
        "id": "Aqoi93prIhYY",
        "colab_type": "text"
      },
      "source": [
        "เทส Accuracy ได้ประมาณ 10% เหมือน Random เพราะเรายังไม่ได้เทรน"
      ]
    },
    {
      "cell_type": "code",
      "metadata": {
        "id": "fvPAUIX6IhYb",
        "colab_type": "code",
        "colab": {
          "base_uri": "https://localhost:8080/",
          "height": 35
        },
        "outputId": "95fa1928-20d7-4595-b0f5-e35978efda24"
      },
      "source": [
        "accuracy(preds, yb)"
      ],
      "execution_count": 67,
      "outputs": [
        {
          "output_type": "execute_result",
          "data": {
            "text/plain": [
              "tensor(0.1406)"
            ]
          },
          "metadata": {
            "tags": []
          },
          "execution_count": 67
        }
      ]
    },
    {
      "cell_type": "markdown",
      "metadata": {
        "id": "WZD_SRXXIhYm",
        "colab_type": "text"
      },
      "source": [
        "# 5. Training Loop"
      ]
    },
    {
      "cell_type": "markdown",
      "metadata": {
        "id": "avnrlo6VIhYp",
        "colab_type": "text"
      },
      "source": [
        "เราจะเทรนโมเดล ด้วยอัลกอริทึม [Stochastic Gradient Descent (SGD)](https://www.bualabs.com/wp-admin/post.php?post=631&action=edit) และ Print Loss, Accuracy ทุก ๆ 100 Mini-Batch"
      ]
    },
    {
      "cell_type": "code",
      "metadata": {
        "id": "UujJ59iUKXPe",
        "colab_type": "code",
        "colab": {}
      },
      "source": [
        "losses, metrics = [], []"
      ],
      "execution_count": 0,
      "outputs": []
    },
    {
      "cell_type": "code",
      "metadata": {
        "id": "nXDfhaxkIhYr",
        "colab_type": "code",
        "colab": {}
      },
      "source": [
        "# e = epoch number\n",
        "for e in range(epoch):\n",
        "    # b = batch number\n",
        "    for b in range((n-1)//bs + 1):\n",
        "#         set_trace()\n",
        "        start_b = b*bs\n",
        "        end_b = start_b+bs\n",
        "        xb = x_train[start_b:end_b]\n",
        "        yb = y_train[start_b:end_b]\n",
        "        loss = loss_func(model(xb), yb)\n",
        "        acc = accuracy(model(xb), yb)\n",
        "        \n",
        "        # Backpropagation\n",
        "        loss.backward()\n",
        "        losses.append(loss); metrics.append(acc)\n",
        "        \n",
        "        # Update Wight and Bias with SGD\n",
        "        with torch.no_grad():\n",
        "            for l in model.layers:\n",
        "                if hasattr(l, 'weight'):\n",
        "                    l.weight -= l.weight.grad * lr\n",
        "                    l.bias   -= l.bias.grad * lr \n",
        "                    l.weight.grad.zero_()\n",
        "                    l.bias.grad.zero_()       \n",
        "                    "
      ],
      "execution_count": 0,
      "outputs": []
    },
    {
      "cell_type": "code",
      "metadata": {
        "id": "aIITq5OCLR00",
        "colab_type": "code",
        "colab": {
          "base_uri": "https://localhost:8080/",
          "height": 559
        },
        "outputId": "b2224d43-8f9b-433f-d6aa-0e16b0361387"
      },
      "source": [
        "x = torch.arange(n//bs+1).numpy()\n",
        "fig,ax = plt.subplots(figsize=(9, 9))\n",
        "ax.plot(x, losses, label=\"Loss\")\n",
        "ax.plot(x, metrics, label=\"Accuracy\")\n",
        "ax.legend(loc='upper right')"
      ],
      "execution_count": 70,
      "outputs": [
        {
          "output_type": "execute_result",
          "data": {
            "text/plain": [
              "<matplotlib.legend.Legend at 0x7f0619668780>"
            ]
          },
          "metadata": {
            "tags": []
          },
          "execution_count": 70
        },
        {
          "output_type": "display_data",
          "data": {
            "image/png": "[encoded data removed]",
            "text/plain": [
              "<Figure size 648x648 with 1 Axes>"
            ]
          },
          "metadata": {
            "tags": []
          }
        }
      ]
    },
    {
      "cell_type": "markdown",
      "metadata": {
        "id": "i_HaA00pIhYx",
        "colab_type": "text"
      },
      "source": [
        "ลองเทสดู Loss และ Accuracy อีกครั้ง"
      ]
    },
    {
      "cell_type": "code",
      "metadata": {
        "scrolled": true,
        "colab_type": "code",
        "outputId": "b67d36bf-0f50-4717-f200-df684b0bd72b",
        "id": "8NA5bmVmLiSM",
        "colab": {
          "base_uri": "https://localhost:8080/",
          "height": 35
        }
      },
      "source": [
        "loss_func(model(xb), yb), accuracy(model(xb), yb)"
      ],
      "execution_count": 71,
      "outputs": [
        {
          "output_type": "execute_result",
          "data": {
            "text/plain": [
              "(tensor(0.1657, grad_fn=<NllLossBackward>), tensor(0.9375))"
            ]
          },
          "metadata": {
            "tags": []
          },
          "execution_count": 71
        }
      ]
    },
    {
      "cell_type": "markdown",
      "metadata": {
        "id": "tlFk-obPIhY3",
        "colab_type": "text"
      },
      "source": [
        "# 6. Validation Set"
      ]
    },
    {
      "cell_type": "markdown",
      "metadata": {
        "id": "jdqgaUV_IhY5",
        "colab_type": "text"
      },
      "source": [
        "แต่การเทสกับข้อมูลที่ใช้เทรนโมเดล ไม่ใช่สิ่งที่ควรทำ เราควรเทสกับ Validation Set จากที่อธิบายไว้ใน ep [Train / Test Split คืออะไร ทำไมเราต้องแยกชุดข้อมูล เป็น Training, Validation และ Test Set ใน Machine Learning](https://www.bualabs.com/archives/532/what-is-train-test-split-why-split-train-set-validation-set-test-set/)"
      ]
    },
    {
      "cell_type": "code",
      "metadata": {
        "id": "sKV_MIG9IhY7",
        "colab_type": "code",
        "colab": {}
      },
      "source": [
        "xb = x_valid[:bs*2]\n",
        "yb = y_valid[:bs*2]"
      ],
      "execution_count": 0,
      "outputs": []
    },
    {
      "cell_type": "markdown",
      "metadata": {
        "id": "LsSJ1WkyIhY_",
        "colab_type": "text"
      },
      "source": [
        "ได้ Accuracy พอ ๆ กัน"
      ]
    },
    {
      "cell_type": "code",
      "metadata": {
        "id": "BoDUx7RmIhZB",
        "colab_type": "code",
        "colab": {
          "base_uri": "https://localhost:8080/",
          "height": 35
        },
        "outputId": "f986635a-7b70-4ae0-dfbb-78df1ac68628"
      },
      "source": [
        "loss_func(model(xb), yb), accuracy(model(xb), yb)"
      ],
      "execution_count": 73,
      "outputs": [
        {
          "output_type": "execute_result",
          "data": {
            "text/plain": [
              "(tensor(0.2838, grad_fn=<NllLossBackward>), tensor(0.9141))"
            ]
          },
          "metadata": {
            "tags": []
          },
          "execution_count": 73
        }
      ]
    },
    {
      "cell_type": "markdown",
      "metadata": {
        "id": "24IhZB0kIhZH",
        "colab_type": "text"
      },
      "source": [
        "# 7. สรุป"
      ]
    },
    {
      "cell_type": "markdown",
      "metadata": {
        "id": "U9qo9p97IhZI",
        "colab_type": "text"
      },
      "source": [
        "1. เราได้สร้าง Neural Network ตั้งแต่ต้น ด้วยการประกอบชิ้นส่วนทุกอย่างเข้าด้วยกัน สร้าง Training Loop เพื่อเริ่มต้นเทรน Feed Forward, หาค่า Loss, เพื่อ Backpropagation, หา Gradient, ไปจนถึงอัพเดท Weight และ Bias, ก่อนเริ่มต้นเทรน Batch / Epoch ถัดไป\n",
        "1. เราได้คำนวน Metrics ว่าโมเดลของเราทำงานถูกต้อง แม่นยำ แค่ไหน มี Accuracy เท่าไร\n",
        "1. ในเคสนี้โมเดลเป็นแบบ Classification แต่ถ้าเป็นงาน Regression เราก็แค่ปรับโมเดล เปลี่ยนแค่ Layer สุดท้าย Metrics กับ Loss Function เท่านั้น ชิ้นส่วนอื่น ๆ เราสามารถ Reuse ได้เกือบหมด\n",
        "1. ถ้ามีความรู้ความเข้าใจในทุกส่วนประกอบของ Neural Network เราจะสามารถออกแบบ สร้าง โมเดลที่แก้ปัญหาซับซ้อนยิ่งขึ้นได้\n",
        "1. ในเคสนี้ Training Loop เป็นแบบง่ายที่สุด ยังสามารถ Optimize ได้อีกหลายจุด ทั้ง Training Loop และ สถาปัจยกรรมของโมเดล จะอธิบายต่อไป"
      ]
    },
    {
      "cell_type": "markdown",
      "metadata": {
        "id": "HJlbXY9WJDwb",
        "colab_type": "text"
      },
      "source": [
        "# Credit \n",
        "\n",
        "* https://course.fast.ai/videos/?lesson=9\n",
        "* http://cs231n.github.io/neural-networks-1/"
      ]
    },
    {
      "cell_type": "code",
      "metadata": {
        "id": "n88N5aoBIhZK",
        "colab_type": "code",
        "colab": {}
      },
      "source": [
        ""
      ],
      "execution_count": 0,
      "outputs": []
    }
  ]
}