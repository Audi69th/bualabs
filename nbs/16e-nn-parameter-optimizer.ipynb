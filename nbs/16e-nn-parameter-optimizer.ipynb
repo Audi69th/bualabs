{
  "nbformat": 4,
  "nbformat_minor": 0,
  "metadata": {
    "colab": {
      "name": "16d-neural-network-training-loop.ipynb",
      "provenance": []
    },
    "kernelspec": {
      "display_name": "Python 3",
      "language": "python",
      "name": "python3"
    },
    "language_info": {
      "codemirror_mode": {
        "name": "ipython",
        "version": 3
      },
      "file_extension": ".py",
      "mimetype": "text/x-python",
      "name": "python",
      "nbconvert_exporter": "python",
      "pygments_lexer": "ipython3",
      "version": "3.7.3"
    }
  },
  "cells": [
    {
      "cell_type": "markdown",
      "metadata": {
        "colab_type": "text",
        "id": "RxG4RmntIhUg"
      },
      "source": [
        "จัดการ Parameter ของโมเดล และสร้าง Optimizer สำหรับอัพเดท Parameter ตามอัลกอริทึมต่าง ๆ โดย[เริ่มต้น Refactor ที่หัวข้อ 6](#6.-Refactor-ส่วน-x,-y)"
      ]
    },
    {
      "cell_type": "markdown",
      "metadata": {
        "colab_type": "text",
        "id": "E2K0Y6HBIhUu"
      },
      "source": [
        "# 0. Magic"
      ]
    },
    {
      "cell_type": "code",
      "metadata": {
        "colab_type": "code",
        "id": "CzToZtD3IhU3",
        "outputId": "906c011a-1688-484f-86a0-535f3699d55a",
        "colab": {
          "base_uri": "https://localhost:8080/",
          "height": 53
        }
      },
      "source": [
        "%load_ext autoreload\n",
        "%autoreload 2\n",
        "%matplotlib inline"
      ],
      "execution_count": 33,
      "outputs": [
        {
          "output_type": "stream",
          "text": [
            "The autoreload extension is already loaded. To reload it, use:\n",
            "  %reload_ext autoreload\n"
          ],
          "name": "stdout"
        }
      ]
    },
    {
      "cell_type": "markdown",
      "metadata": {
        "colab_type": "text",
        "id": "L5AxlmsHIhVW"
      },
      "source": [
        "# 1. Import"
      ]
    },
    {
      "cell_type": "code",
      "metadata": {
        "colab_type": "code",
        "id": "v2h0_gK-IhVc",
        "colab": {}
      },
      "source": [
        "import torch\n",
        "from torch import tensor\n",
        "from torch import nn\n",
        "import torch.nn.functional as F\n",
        "from torch.utils import data \n",
        "import matplotlib.pyplot as plt\n",
        "\n",
        "from pathlib import Path\n",
        "from IPython.core.debugger import set_trace\n",
        "from fastai import datasets\n",
        "from fastai.metrics import accuracy\n",
        "import pickle, gzip, math, torch\n",
        "import operator"
      ],
      "execution_count": 0,
      "outputs": []
    },
    {
      "cell_type": "markdown",
      "metadata": {
        "colab_type": "text",
        "id": "rncY_-K-IhWG"
      },
      "source": [
        "# 2. Data"
      ]
    },
    {
      "cell_type": "code",
      "metadata": {
        "colab_type": "code",
        "id": "SfDoXiIsIhWJ",
        "colab": {}
      },
      "source": [
        "MNIST_URL='http://deeplearning.net/data/mnist/mnist.pkl'"
      ],
      "execution_count": 0,
      "outputs": []
    },
    {
      "cell_type": "code",
      "metadata": {
        "colab_type": "code",
        "id": "R35XZaisIhWR",
        "colab": {}
      },
      "source": [
        "def get_data():\n",
        "    path = datasets.download_data(MNIST_URL, ext='.gz')\n",
        "    with gzip.open(path, 'rb') as f:\n",
        "        ((x_train, y_train), (x_valid, y_valid), _) = pickle.load(f, encoding='latin-1')\n",
        "    return map(tensor, (x_train, y_train, x_valid, y_valid))"
      ],
      "execution_count": 0,
      "outputs": []
    },
    {
      "cell_type": "code",
      "metadata": {
        "colab_type": "code",
        "id": "vhFYnpwFIhWZ",
        "colab": {}
      },
      "source": [
        "x_train, y_train, x_valid, y_valid = get_data()"
      ],
      "execution_count": 0,
      "outputs": []
    },
    {
      "cell_type": "markdown",
      "metadata": {
        "colab_type": "text",
        "id": "o2Uc5fmLIhWf"
      },
      "source": [
        "# 3. เตรียม Data"
      ]
    },
    {
      "cell_type": "code",
      "metadata": {
        "id": "RLn80w33QCH0",
        "colab_type": "code",
        "colab": {}
      },
      "source": [
        "class Dataset(data.Dataset):\n",
        "    def __init__(self, x, y):\n",
        "        self.x, self.y = x, y\n",
        "    def __len__(self):\n",
        "        return len(self.x)\n",
        "    def __getitem__(self, i):\n",
        "        return self.x[i], self.y[i]"
      ],
      "execution_count": 0,
      "outputs": []
    },
    {
      "cell_type": "code",
      "metadata": {
        "colab_type": "code",
        "id": "kdSxnXSwIhWh",
        "colab": {}
      },
      "source": [
        "# x = data, m = mean, s = standard deviation\n",
        "def normalize(x, m, s): \n",
        "    return (x-m)/s"
      ],
      "execution_count": 0,
      "outputs": []
    },
    {
      "cell_type": "code",
      "metadata": {
        "colab_type": "code",
        "id": "GvkCVtRrIhWu",
        "outputId": "28b57790-5390-4ee1-b41b-1f03f9ba6f2a",
        "scrolled": true,
        "colab": {
          "base_uri": "https://localhost:8080/",
          "height": 35
        }
      },
      "source": [
        "n, m = x_train.shape\n",
        "c = y_train.max()+1\n",
        "n, m, c"
      ],
      "execution_count": 40,
      "outputs": [
        {
          "output_type": "execute_result",
          "data": {
            "text/plain": [
              "(50000, 784, tensor(10))"
            ]
          },
          "metadata": {
            "tags": []
          },
          "execution_count": 40
        }
      ]
    },
    {
      "cell_type": "code",
      "metadata": {
        "colab_type": "code",
        "id": "h-4sn151IhWp",
        "colab": {}
      },
      "source": [
        "train_mean, train_std = x_train.mean(), x_train.std()\n",
        "x_train = normalize(x_train, train_mean, train_std)\n",
        "x_valid = normalize(x_valid, train_mean, train_std)"
      ],
      "execution_count": 0,
      "outputs": []
    },
    {
      "cell_type": "code",
      "metadata": {
        "id": "jytWDGT1QCIY",
        "colab_type": "code",
        "colab": {}
      },
      "source": [
        "# batch size\n",
        "bs = 64\n",
        "train_ds, valid_ds = Dataset(x_train, y_train), Dataset(x_valid, y_valid)\n",
        "train_dl, valid_dl = data.DataLoader(train_ds, bs), data.DataLoader(valid_ds, bs)"
      ],
      "execution_count": 0,
      "outputs": []
    },
    {
      "cell_type": "markdown",
      "metadata": {
        "colab_type": "text",
        "id": "65nEbB0CIhXJ"
      },
      "source": [
        "# 4. สร้าง Model"
      ]
    },
    {
      "cell_type": "markdown",
      "metadata": {
        "colab_type": "text",
        "id": "KqWmgqyEIhXM"
      },
      "source": [
        "โมเดลจะประกอบด้วยส่วนต่าง ๆ เช่น Architecture กำหนด Layers ต่าง ๆ, Initialization, Loss Function, อัลกอริทึมในการเทรน และ Metrics ที่เราเรียนรู้กันไปใน ep ก่อน ๆ "
      ]
    },
    {
      "cell_type": "markdown",
      "metadata": {
        "colab_type": "text",
        "id": "w_woB8lDIhXO"
      },
      "source": [
        "โมเดล"
      ]
    },
    {
      "cell_type": "code",
      "metadata": {
        "colab_type": "code",
        "id": "eWa7lNJqIhXQ",
        "colab": {}
      },
      "source": [
        "class Model():\n",
        "    def __init__(self, n_in, nh, n_out):\n",
        "        self.layers = [nn.Linear(n_in, nh), nn.ReLU(), nn.Linear(nh, n_out)]\n",
        "    def __call__(self, x):\n",
        "#         set_trace()\n",
        "        for l in self.layers:\n",
        "            x = l(x)\n",
        "        return x\n",
        "    def backward(self):\n",
        "        self.loss.backward()        \n",
        "        for l in reversed(self.layers):\n",
        "            l.backward()"
      ],
      "execution_count": 0,
      "outputs": []
    },
    {
      "cell_type": "code",
      "metadata": {
        "colab_type": "code",
        "id": "TZ5WfVg1IhXZ",
        "colab": {}
      },
      "source": [
        "def get_model():\n",
        "    # loss function\n",
        "    loss_func = F.cross_entropy\n",
        "    model = Model(m, nh, c.numpy())\n",
        "    return model, loss_func"
      ],
      "execution_count": 0,
      "outputs": []
    },
    {
      "cell_type": "markdown",
      "metadata": {
        "colab_type": "text",
        "id": "28sfbaTuIhXo"
      },
      "source": [
        "กำหนด Hyperparameter"
      ]
    },
    {
      "cell_type": "code",
      "metadata": {
        "colab_type": "code",
        "id": "vMUV0GtYIhXp",
        "colab": {}
      },
      "source": [
        "# learning rate\n",
        "lr = 0.03\n",
        "epoch = 1\n",
        "nh = 50"
      ],
      "execution_count": 0,
      "outputs": []
    },
    {
      "cell_type": "code",
      "metadata": {
        "id": "OQbJ3TSMQCI2",
        "colab_type": "code",
        "colab": {}
      },
      "source": [
        "# model, loss_func = get_model()"
      ],
      "execution_count": 0,
      "outputs": []
    },
    {
      "cell_type": "markdown",
      "metadata": {
        "colab_type": "text",
        "id": "WZD_SRXXIhYm"
      },
      "source": [
        "# 5. Training Loop"
      ]
    },
    {
      "cell_type": "markdown",
      "metadata": {
        "colab_type": "text",
        "id": "avnrlo6VIhYp"
      },
      "source": [
        "เราจะเทรนโมเดล ด้วยอัลกอริทึม [Stochastic Gradient Descent (SGD)](https://www.bualabs.com/wp-admin/post.php?post=631&action=edit) และ เก็บ Loss, Accuracy เอาไว้พล็อตกราฟ"
      ]
    },
    {
      "cell_type": "markdown",
      "metadata": {
        "id": "tgnplPJZQCI9",
        "colab_type": "text"
      },
      "source": [
        "ประกาศฟังก์ชัน fit เอาไว้เรียกเทรนเวลาที่ต้องการ"
      ]
    },
    {
      "cell_type": "code",
      "metadata": {
        "colab_type": "code",
        "id": "nXDfhaxkIhYr",
        "colab": {}
      },
      "source": [
        "def fit():\n",
        "    losses, metrics = [], []\n",
        "    # e = epoch number\n",
        "    for e in range(epoch):\n",
        "        for xb, yb in train_dl:\n",
        "\n",
        "            # Feedforward\n",
        "            yhatb = model(xb)\n",
        "            loss = loss_func(yhatb, yb)\n",
        "\n",
        "            # Metrics\n",
        "            acc = accuracy(yhatb, yb)\n",
        "            losses.append(loss); metrics.append(acc)\n",
        "\n",
        "            # Backpropagation\n",
        "            loss.backward()\n",
        "\n",
        "            # Update Wight and Bias with SGD\n",
        "            with torch.no_grad():\n",
        "                for l in model.layers:\n",
        "                    if hasattr(l, 'weight'):\n",
        "                        l.weight -= l.weight.grad * lr\n",
        "                        l.bias   -= l.bias.grad * lr \n",
        "                        l.weight.grad.zero_()\n",
        "                        l.bias.grad.zero_()       \n",
        "\n",
        "    plot_metrics(losses, metrics)"
      ],
      "execution_count": 0,
      "outputs": []
    },
    {
      "cell_type": "markdown",
      "metadata": {
        "id": "UtpwZXFJQCJD",
        "colab_type": "text"
      },
      "source": [
        "ประการฟัง์ชัน ไว้พล็อตกราฟ Loss และ Accuracy"
      ]
    },
    {
      "cell_type": "code",
      "metadata": {
        "id": "tajX1VqsQCJE",
        "colab_type": "code",
        "colab": {}
      },
      "source": [
        "def plot_metrics(losses, metrics):\n",
        "    x = torch.arange(len(losses)).numpy()\n",
        "    fig,ax = plt.subplots(figsize=(9, 9))\n",
        "    ax.grid(True)\n",
        "    ax.plot(x, losses, label=\"Loss\")\n",
        "    ax.plot(x, metrics, label=\"Accuracy\")\n",
        "    ax.legend(loc='upper right')"
      ],
      "execution_count": 0,
      "outputs": []
    },
    {
      "cell_type": "code",
      "metadata": {
        "id": "O6AanZ3GQCJU",
        "colab_type": "code",
        "colab": {
          "base_uri": "https://localhost:8080/",
          "height": 541
        },
        "outputId": "21fd4b0a-13ef-4897-cd4e-79ae863ce8f8"
      },
      "source": [
        "model, loss_func = get_model()\n",
        "fit()"
      ],
      "execution_count": 59,
      "outputs": [
        {
          "output_type": "display_data",
          "data": {
            "image/png": "[encoded data removed]",
            "text/plain": [
              "<Figure size 648x648 with 1 Axes>"
            ]
          },
          "metadata": {
            "tags": []
          }
        }
      ]
    },
    {
      "cell_type": "markdown",
      "metadata": {
        "id": "rBXR6APHQCJf",
        "colab_type": "text"
      },
      "source": [
        "# 6. Refactor Model ไป subclass จาก nn.Module"
      ]
    },
    {
      "cell_type": "markdown",
      "metadata": {
        "id": "TocqF33yQCJh",
        "colab_type": "text"
      },
      "source": [
        "Refactor ในส่วน Backpropagation ของ Model ไปใช้ของ PyTorch nn.Module ทำให้โค้ดสั้นลง"
      ]
    },
    {
      "cell_type": "code",
      "metadata": {
        "id": "Om7g7WrZQCJl",
        "colab_type": "code",
        "colab": {}
      },
      "source": [
        "class Model(nn.Module):\n",
        "    def __init__(self, n_in, nh, n_out):\n",
        "        super().__init__()\n",
        "        self.layers = [nn.Linear(n_in, nh), nn.Linear(nh, n_out)]\n",
        "    def __call__(x):\n",
        "        for l in self.layers:\n",
        "            x = l(x)\n",
        "        return x\n"
      ],
      "execution_count": 0,
      "outputs": []
    },
    {
      "cell_type": "code",
      "metadata": {
        "id": "G3jaPid8QCJw",
        "colab_type": "code",
        "colab": {}
      },
      "source": [
        "model, _ = get_model()"
      ],
      "execution_count": 0,
      "outputs": []
    },
    {
      "cell_type": "code",
      "metadata": {
        "id": "Kmd_BuoiqA6q",
        "colab_type": "code",
        "colab": {
          "base_uri": "https://localhost:8080/",
          "height": 297
        },
        "outputId": "6f914f7e-e75b-440d-c67f-14c344dc4df3"
      },
      "source": [
        "fit()"
      ],
      "execution_count": 75,
      "outputs": [
        {
          "output_type": "error",
          "ename": "TypeError",
          "evalue": "ignored",
          "traceback": [
            "\u001b[0;31m---------------------------------------------------------------------------\u001b[0m",
            "\u001b[0;31mTypeError\u001b[0m                                 Traceback (most recent call last)",
            "\u001b[0;32m<ipython-input-75-2e8ead0159f0>\u001b[0m in \u001b[0;36m<module>\u001b[0;34m()\u001b[0m\n\u001b[0;32m----> 1\u001b[0;31m \u001b[0mfit\u001b[0m\u001b[0;34m(\u001b[0m\u001b[0;34m)\u001b[0m\u001b[0;34m\u001b[0m\u001b[0;34m\u001b[0m\u001b[0m\n\u001b[0m",
            "\u001b[0;32m<ipython-input-57-72ac8faf322d>\u001b[0m in \u001b[0;36mfit\u001b[0;34m()\u001b[0m\n\u001b[1;32m      6\u001b[0m \u001b[0;34m\u001b[0m\u001b[0m\n\u001b[1;32m      7\u001b[0m             \u001b[0;31m# Feedforward\u001b[0m\u001b[0;34m\u001b[0m\u001b[0;34m\u001b[0m\u001b[0;34m\u001b[0m\u001b[0m\n\u001b[0;32m----> 8\u001b[0;31m             \u001b[0myhatb\u001b[0m \u001b[0;34m=\u001b[0m \u001b[0mmodel\u001b[0m\u001b[0;34m(\u001b[0m\u001b[0mxb\u001b[0m\u001b[0;34m)\u001b[0m\u001b[0;34m\u001b[0m\u001b[0;34m\u001b[0m\u001b[0m\n\u001b[0m\u001b[1;32m      9\u001b[0m             \u001b[0mloss\u001b[0m \u001b[0;34m=\u001b[0m \u001b[0mloss_func\u001b[0m\u001b[0;34m(\u001b[0m\u001b[0myhatb\u001b[0m\u001b[0;34m,\u001b[0m \u001b[0myb\u001b[0m\u001b[0;34m)\u001b[0m\u001b[0;34m\u001b[0m\u001b[0;34m\u001b[0m\u001b[0m\n\u001b[1;32m     10\u001b[0m \u001b[0;34m\u001b[0m\u001b[0m\n",
            "\u001b[0;31mTypeError\u001b[0m: __call__() takes 1 positional argument but 2 were given"
          ]
        }
      ]
    },
    {
      "cell_type": "code",
      "metadata": {
        "id": "HNnjPZcTQCJ2",
        "colab_type": "code",
        "colab": {}
      },
      "source": [
        "for l in model.named_children(): print(l)"
      ],
      "execution_count": 0,
      "outputs": []
    },
    {
      "cell_type": "markdown",
      "metadata": {
        "id": "8GzkOOfUQCJq",
        "colab_type": "text"
      },
      "source": [
        "แต่การประกาศ Layer เป็น Instance Variable ทำให้โมเดลไม่ยืดหยุ่น ไม่สามารถเพิ่ม Layer ได้แบบ Dynamic"
      ]
    },
    {
      "cell_type": "code",
      "metadata": {
        "id": "8yt8G71IQCJ6",
        "colab_type": "code",
        "colab": {}
      },
      "source": [
        "\n",
        "\n"
      ],
      "execution_count": 0,
      "outputs": []
    },
    {
      "cell_type": "markdown",
      "metadata": {
        "colab_type": "text",
        "id": "24IhZB0kIhZH"
      },
      "source": [
        "# 8. สรุป"
      ]
    },
    {
      "cell_type": "markdown",
      "metadata": {
        "colab_type": "text",
        "id": "U9qo9p97IhZI"
      },
      "source": [
        "1. ฟฟฟ\n"
      ]
    },
    {
      "cell_type": "markdown",
      "metadata": {
        "colab_type": "text",
        "id": "HJlbXY9WJDwb"
      },
      "source": [
        "# Credit \n",
        "\n",
        "* https://course.fast.ai/videos/?lesson=9\n",
        "* https://pytorch.org/docs/stable/data.html"
      ]
    },
    {
      "cell_type": "code",
      "metadata": {
        "colab_type": "code",
        "id": "n88N5aoBIhZK",
        "colab": {}
      },
      "source": [
        ""
      ],
      "execution_count": 0,
      "outputs": []
    }
  ]
}