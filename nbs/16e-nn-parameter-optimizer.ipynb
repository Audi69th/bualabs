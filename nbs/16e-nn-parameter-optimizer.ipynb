{
  "nbformat": 4,
  "nbformat_minor": 0,
  "metadata": {
    "colab": {
      "name": "16d-neural-network-training-loop.ipynb",
      "provenance": []
    },
    "kernelspec": {
      "name": "python3",
      "display_name": "Python 3"
    },
    "language_info": {
      "codemirror_mode": {
        "name": "ipython",
        "version": 3
      },
      "file_extension": ".py",
      "mimetype": "text/x-python",
      "name": "python",
      "nbconvert_exporter": "python",
      "pygments_lexer": "ipython3",
      "version": "3.7.3"
    },
    "accelerator": "GPU"
  },
  "cells": [
    {
      "cell_type": "markdown",
      "metadata": {
        "colab_type": "text",
        "id": "RxG4RmntIhUg"
      },
      "source": [
        "จัดการ Parameter ของโมเดล และสร้าง Optimizer สำหรับอัพเดท Parameter ตามอัลกอริทึมต่าง ๆ โดย[เริ่มต้น Refactor ที่หัวข้อ 6](#6.-Refactor-ส่วน-x,-y)"
      ]
    },
    {
      "cell_type": "markdown",
      "metadata": {
        "colab_type": "text",
        "id": "E2K0Y6HBIhUu"
      },
      "source": [
        "# 0. Magic"
      ]
    },
    {
      "cell_type": "code",
      "metadata": {
        "colab_type": "code",
        "id": "CzToZtD3IhU3",
        "outputId": "03a39d2c-7ef0-4a33-d999-9640a76064b1",
        "colab": {
          "base_uri": "https://localhost:8080/",
          "height": 52
        }
      },
      "source": [
        "%load_ext autoreload\n",
        "%autoreload 2\n",
        "%matplotlib inline"
      ],
      "execution_count": 112,
      "outputs": [
        {
          "output_type": "stream",
          "text": [
            "The autoreload extension is already loaded. To reload it, use:\n",
            "  %reload_ext autoreload\n"
          ],
          "name": "stdout"
        }
      ]
    },
    {
      "cell_type": "markdown",
      "metadata": {
        "colab_type": "text",
        "id": "L5AxlmsHIhVW"
      },
      "source": [
        "# 1. Import"
      ]
    },
    {
      "cell_type": "code",
      "metadata": {
        "colab_type": "code",
        "id": "v2h0_gK-IhVc",
        "colab": {}
      },
      "source": [
        "import torch\n",
        "from torch import tensor\n",
        "from torch import nn\n",
        "import torch.nn.functional as F\n",
        "from torch.utils import data \n",
        "import matplotlib.pyplot as plt\n",
        "\n",
        "from pathlib import Path\n",
        "from IPython.core.debugger import set_trace\n",
        "from fastai import datasets\n",
        "from fastai.metrics import accuracy\n",
        "import pickle, gzip, math, torch\n",
        "import operator"
      ],
      "execution_count": 0,
      "outputs": []
    },
    {
      "cell_type": "markdown",
      "metadata": {
        "colab_type": "text",
        "id": "rncY_-K-IhWG"
      },
      "source": [
        "# 2. Data"
      ]
    },
    {
      "cell_type": "code",
      "metadata": {
        "colab_type": "code",
        "id": "SfDoXiIsIhWJ",
        "colab": {}
      },
      "source": [
        "MNIST_URL='http://deeplearning.net/data/mnist/mnist.pkl'"
      ],
      "execution_count": 0,
      "outputs": []
    },
    {
      "cell_type": "code",
      "metadata": {
        "colab_type": "code",
        "id": "R35XZaisIhWR",
        "colab": {}
      },
      "source": [
        "def get_data():\n",
        "    path = datasets.download_data(MNIST_URL, ext='.gz')\n",
        "    with gzip.open(path, 'rb') as f:\n",
        "        ((x_train, y_train), (x_valid, y_valid), _) = pickle.load(f, encoding='latin-1')\n",
        "    return map(tensor, (x_train, y_train, x_valid, y_valid))"
      ],
      "execution_count": 0,
      "outputs": []
    },
    {
      "cell_type": "code",
      "metadata": {
        "colab_type": "code",
        "id": "vhFYnpwFIhWZ",
        "colab": {}
      },
      "source": [
        "x_train, y_train, x_valid, y_valid = get_data()"
      ],
      "execution_count": 0,
      "outputs": []
    },
    {
      "cell_type": "markdown",
      "metadata": {
        "colab_type": "text",
        "id": "o2Uc5fmLIhWf"
      },
      "source": [
        "# 3. เตรียม Data"
      ]
    },
    {
      "cell_type": "code",
      "metadata": {
        "id": "RLn80w33QCH0",
        "colab_type": "code",
        "colab": {}
      },
      "source": [
        "class Dataset(data.Dataset):\n",
        "    def __init__(self, x, y):\n",
        "        self.x, self.y = x, y\n",
        "    def __len__(self):\n",
        "        return len(self.x)\n",
        "    def __getitem__(self, i):\n",
        "        return self.x[i], self.y[i]"
      ],
      "execution_count": 0,
      "outputs": []
    },
    {
      "cell_type": "code",
      "metadata": {
        "colab_type": "code",
        "id": "kdSxnXSwIhWh",
        "colab": {}
      },
      "source": [
        "# x = data, m = mean, s = standard deviation\n",
        "def normalize(x, m, s): \n",
        "    return (x-m)/s"
      ],
      "execution_count": 0,
      "outputs": []
    },
    {
      "cell_type": "code",
      "metadata": {
        "colab_type": "code",
        "id": "GvkCVtRrIhWu",
        "outputId": "1cc666b3-6b88-4921-d539-e5feb2967feb",
        "scrolled": true,
        "colab": {
          "base_uri": "https://localhost:8080/",
          "height": 35
        }
      },
      "source": [
        "n, m = x_train.shape\n",
        "c = y_train.max()+1\n",
        "n, m, c"
      ],
      "execution_count": 119,
      "outputs": [
        {
          "output_type": "execute_result",
          "data": {
            "text/plain": [
              "(50000, 784, tensor(10))"
            ]
          },
          "metadata": {
            "tags": []
          },
          "execution_count": 119
        }
      ]
    },
    {
      "cell_type": "code",
      "metadata": {
        "colab_type": "code",
        "id": "h-4sn151IhWp",
        "colab": {}
      },
      "source": [
        "train_mean, train_std = x_train.mean(), x_train.std()\n",
        "x_train = normalize(x_train, train_mean, train_std)\n",
        "x_valid = normalize(x_valid, train_mean, train_std)"
      ],
      "execution_count": 0,
      "outputs": []
    },
    {
      "cell_type": "code",
      "metadata": {
        "id": "jytWDGT1QCIY",
        "colab_type": "code",
        "colab": {}
      },
      "source": [
        "# batch size\n",
        "bs = 64\n",
        "train_ds, valid_ds = Dataset(x_train, y_train), Dataset(x_valid, y_valid)\n",
        "train_dl, valid_dl = data.DataLoader(train_ds, bs), data.DataLoader(valid_ds, bs)"
      ],
      "execution_count": 0,
      "outputs": []
    },
    {
      "cell_type": "markdown",
      "metadata": {
        "colab_type": "text",
        "id": "65nEbB0CIhXJ"
      },
      "source": [
        "# 4. สร้าง Model"
      ]
    },
    {
      "cell_type": "markdown",
      "metadata": {
        "colab_type": "text",
        "id": "KqWmgqyEIhXM"
      },
      "source": [
        "โมเดลจะประกอบด้วยส่วนต่าง ๆ เช่น Architecture กำหนด Layers ต่าง ๆ, Initialization, Loss Function, อัลกอริทึมในการเทรน และ Metrics ที่เราเรียนรู้กันไปใน ep ก่อน ๆ "
      ]
    },
    {
      "cell_type": "markdown",
      "metadata": {
        "colab_type": "text",
        "id": "w_woB8lDIhXO"
      },
      "source": [
        "โมเดล"
      ]
    },
    {
      "cell_type": "code",
      "metadata": {
        "colab_type": "code",
        "id": "eWa7lNJqIhXQ",
        "colab": {}
      },
      "source": [
        "class Model(nn.Module):\n",
        "    # number of input feature, number of hidden feature, number of output feature\n",
        "    def __init__(self, n_in, nh, n_out):\n",
        "        super().__init__()\n",
        "#         set_trace()\n",
        "        self.layers = [nn.Linear(n_in, nh), nn.ReLU(), nn.Linear(nh, n_out)]        \n",
        "    def __call__(self, x):\n",
        "        for l in self.layers:\n",
        "            x = l(x)\n",
        "        return x"
      ],
      "execution_count": 0,
      "outputs": []
    },
    {
      "cell_type": "code",
      "metadata": {
        "colab_type": "code",
        "id": "TZ5WfVg1IhXZ",
        "colab": {}
      },
      "source": [
        "def get_model():\n",
        "    # loss function\n",
        "    loss_func = F.cross_entropy\n",
        "    model = Model(m, nh, c.numpy())\n",
        "    return model, loss_func"
      ],
      "execution_count": 0,
      "outputs": []
    },
    {
      "cell_type": "markdown",
      "metadata": {
        "colab_type": "text",
        "id": "28sfbaTuIhXo"
      },
      "source": [
        "กำหนด Hyperparameter"
      ]
    },
    {
      "cell_type": "code",
      "metadata": {
        "colab_type": "code",
        "id": "vMUV0GtYIhXp",
        "colab": {}
      },
      "source": [
        "# learning rate\n",
        "lr = 0.03\n",
        "epoch = 1\n",
        "nh = 50"
      ],
      "execution_count": 0,
      "outputs": []
    },
    {
      "cell_type": "markdown",
      "metadata": {
        "colab_type": "text",
        "id": "WZD_SRXXIhYm"
      },
      "source": [
        "# 5. Training Loop"
      ]
    },
    {
      "cell_type": "markdown",
      "metadata": {
        "colab_type": "text",
        "id": "avnrlo6VIhYp"
      },
      "source": [
        "เราจะเทรนโมเดล ด้วยอัลกอริทึม [Stochastic Gradient Descent (SGD)](https://www.bualabs.com/wp-admin/post.php?post=631&action=edit) และ เก็บ Loss, Accuracy เอาไว้พล็อตกราฟ"
      ]
    },
    {
      "cell_type": "markdown",
      "metadata": {
        "id": "tgnplPJZQCI9",
        "colab_type": "text"
      },
      "source": [
        "ประกาศฟังก์ชัน fit เอาไว้เรียกเทรนเวลาที่ต้องการ"
      ]
    },
    {
      "cell_type": "code",
      "metadata": {
        "colab_type": "code",
        "id": "nXDfhaxkIhYr",
        "colab": {}
      },
      "source": [
        "def fit():\n",
        "    losses, metrics = [], []\n",
        "    # e = epoch number\n",
        "    for e in range(epoch):\n",
        "        for xb, yb in train_dl:\n",
        "\n",
        "            # Feedforward\n",
        "            yhatb = model(xb)\n",
        "            loss = loss_func(yhatb, yb)\n",
        "\n",
        "            # Metrics\n",
        "            acc = accuracy(yhatb, yb)\n",
        "            losses.append(loss); metrics.append(acc)\n",
        "\n",
        "            # Backpropagation\n",
        "            loss.backward()\n",
        "\n",
        "            # Update Wight and Bias with SGD\n",
        "            with torch.no_grad():\n",
        "                for l in model.layers:\n",
        "                    if hasattr(l, 'weight'):\n",
        "                        l.weight -= l.weight.grad * lr\n",
        "                        l.bias   -= l.bias.grad * lr \n",
        "                        l.weight.grad.zero_()\n",
        "                        l.bias.grad.zero_()       \n",
        "\n",
        "    plot_metrics(losses, metrics)"
      ],
      "execution_count": 0,
      "outputs": []
    },
    {
      "cell_type": "markdown",
      "metadata": {
        "id": "UtpwZXFJQCJD",
        "colab_type": "text"
      },
      "source": [
        "ประการฟัง์ชัน ไว้พล็อตกราฟ Loss และ Accuracy"
      ]
    },
    {
      "cell_type": "code",
      "metadata": {
        "id": "tajX1VqsQCJE",
        "colab_type": "code",
        "colab": {}
      },
      "source": [
        "def plot_metrics(losses, metrics):\n",
        "    x = torch.arange(len(losses)).numpy()\n",
        "    fig,ax = plt.subplots(figsize=(9, 9))\n",
        "    ax.grid(True)\n",
        "    ax.plot(x, losses, label=\"Loss\")\n",
        "    ax.plot(x, metrics, label=\"Accuracy\")\n",
        "    ax.legend(loc='upper right')"
      ],
      "execution_count": 0,
      "outputs": []
    },
    {
      "cell_type": "code",
      "metadata": {
        "id": "O6AanZ3GQCJU",
        "colab_type": "code",
        "outputId": "e3b271e8-96a9-4b78-b814-5ef788621065",
        "colab": {
          "base_uri": "https://localhost:8080/",
          "height": 541
        }
      },
      "source": [
        "model, loss_func = get_model()\n",
        "fit()"
      ],
      "execution_count": 127,
      "outputs": [
        {
          "output_type": "display_data",
          "data": {
            "image/png": "[encoded data removed]",
            "text/plain": [
              "<Figure size 648x648 with 1 Axes>"
            ]
          },
          "metadata": {
            "tags": []
          }
        }
      ]
    },
    {
      "cell_type": "markdown",
      "metadata": {
        "id": "rBXR6APHQCJf",
        "colab_type": "text"
      },
      "source": [
        "# 6. Refactor Model Parameter"
      ]
    },
    {
      "cell_type": "markdown",
      "metadata": {
        "id": "TocqF33yQCJh",
        "colab_type": "text"
      },
      "source": [
        "ก่อนหน้านี้ Layer ทั้งหมด จะเป็น List ใน Instance Variable ชื่อ layers เราจะ Refactor แต่ละ Layer ให้เป็น Instance Variable ของโมเดลโดยตรง เพื่อที่เราจะ Iterate Parameter ออกมาอัพเดทได้สะดวกขึ้น"
      ]
    },
    {
      "cell_type": "code",
      "metadata": {
        "id": "XKQQNzqEgvHS",
        "colab_type": "code",
        "colab": {
          "base_uri": "https://localhost:8080/",
          "height": 35
        },
        "outputId": "80512830-3597-4bcd-d082-38c3be12dd84"
      },
      "source": [
        "model"
      ],
      "execution_count": 131,
      "outputs": [
        {
          "output_type": "execute_result",
          "data": {
            "text/plain": [
              "Model()"
            ]
          },
          "metadata": {
            "tags": []
          },
          "execution_count": 131
        }
      ]
    },
    {
      "cell_type": "code",
      "metadata": {
        "id": "Om7g7WrZQCJl",
        "colab_type": "code",
        "colab": {
          "base_uri": "https://localhost:8080/",
          "height": 69
        },
        "outputId": "b52a8d23-bdee-42cf-db8f-d16c0d88dbbc"
      },
      "source": [
        "model.layers"
      ],
      "execution_count": 132,
      "outputs": [
        {
          "output_type": "execute_result",
          "data": {
            "text/plain": [
              "[Linear(in_features=784, out_features=50, bias=True),\n",
              " ReLU(),\n",
              " Linear(in_features=50, out_features=10, bias=True)]"
            ]
          },
          "metadata": {
            "tags": []
          },
          "execution_count": 132
        }
      ]
    },
    {
      "cell_type": "code",
      "metadata": {
        "id": "nzCkBCVQgziZ",
        "colab_type": "code",
        "colab": {}
      },
      "source": [
        "class Model2(nn.Module):\n",
        "    def __init__(self, n_in, nh, n_out):\n",
        "        super().__init__()\n",
        "        self.l1 = nn.Linear(n_in, nh)\n",
        "        self.l2 = nn.Linear(nh, n_out)\n",
        "    def __call__(self, x):\n",
        "        return self.l2(F.relu(self.l1(x)))\n",
        "        "
      ],
      "execution_count": 0,
      "outputs": []
    },
    {
      "cell_type": "markdown",
      "metadata": {
        "id": "8qcnMhq96pt6",
        "colab_type": "text"
      },
      "source": [
        "ตอนอัพเดท Parameter เปลี่ยนไปเรียกจาก model.parameters แทน"
      ]
    },
    {
      "cell_type": "code",
      "metadata": {
        "id": "yKNN6YID6gO2",
        "colab_type": "code",
        "colab": {}
      },
      "source": [
        "def fit2():\n",
        "    losses, metrics = [], []\n",
        "    # e = epoch number\n",
        "    for e in range(epoch):\n",
        "        for xb, yb in train_dl:\n",
        "\n",
        "            # Feedforward\n",
        "            yhatb = model(xb)\n",
        "            loss = loss_func(yhatb, yb)\n",
        "\n",
        "            # Metrics\n",
        "            acc = accuracy(yhatb, yb)\n",
        "            losses.append(loss); metrics.append(acc)\n",
        "\n",
        "            # Backpropagation\n",
        "            loss.backward()\n",
        "\n",
        "            # Update Wight and Bias with SGD\n",
        "            with torch.no_grad():\n",
        "                for p in model.parameters():\n",
        "                    p -= p.grad * lr\n",
        "                    p.grad.zero_()\n",
        "\n",
        "    plot_metrics(losses, metrics)"
      ],
      "execution_count": 0,
      "outputs": []
    },
    {
      "cell_type": "code",
      "metadata": {
        "id": "jCLACAaghV9x",
        "colab_type": "code",
        "colab": {}
      },
      "source": [
        "model = Model2(m, nh, c.numpy())"
      ],
      "execution_count": 0,
      "outputs": []
    },
    {
      "cell_type": "markdown",
      "metadata": {
        "id": "FZVzl503hovd",
        "colab_type": "text"
      },
      "source": [
        "ถ้าเป็น Instance Variable เราสามารถ Access โดยใช้ .named_children()"
      ]
    },
    {
      "cell_type": "code",
      "metadata": {
        "id": "SIz6PX7Ghc3_",
        "colab_type": "code",
        "colab": {
          "base_uri": "https://localhost:8080/",
          "height": 52
        },
        "outputId": "cf698e5a-5d81-46e4-83ca-025cebe05884"
      },
      "source": [
        "for name, l in model.named_children(): print(f'{name}: {l}')"
      ],
      "execution_count": 164,
      "outputs": [
        {
          "output_type": "stream",
          "text": [
            "l1: Linear(in_features=784, out_features=50, bias=True)\n",
            "l2: Linear(in_features=50, out_features=10, bias=True)\n"
          ],
          "name": "stdout"
        }
      ]
    },
    {
      "cell_type": "code",
      "metadata": {
        "id": "u-oh6YAKh9Ca",
        "colab_type": "code",
        "colab": {
          "base_uri": "https://localhost:8080/",
          "height": 87
        },
        "outputId": "ab7272d3-068d-4e05-b9d3-bcdeae03240e"
      },
      "source": [
        "model"
      ],
      "execution_count": 165,
      "outputs": [
        {
          "output_type": "execute_result",
          "data": {
            "text/plain": [
              "Model2(\n",
              "  (l1): Linear(in_features=784, out_features=50, bias=True)\n",
              "  (l2): Linear(in_features=50, out_features=10, bias=True)\n",
              ")"
            ]
          },
          "metadata": {
            "tags": []
          },
          "execution_count": 165
        }
      ]
    },
    {
      "cell_type": "markdown",
      "metadata": {
        "id": "6wGn6Wyv24ih",
        "colab_type": "text"
      },
      "source": [
        "## 6.1 Register Module ด้วยตัวเอง"
      ]
    },
    {
      "cell_type": "markdown",
      "metadata": {
        "id": "8GzkOOfUQCJq",
        "colab_type": "text"
      },
      "source": [
        "ข้างบนเราสามาถเรียก model.named_childen และ print model แสดงแต่ละ Layer ออกมาได้ เนื่องจากภายใน nn.Module จะ Override \\_\\_setattr__ เพื่อ Register Submodule ที่เราประกาศให้โดยอัตโนมัติ ใน Instance Variable self.\\_modules ดังตัวอย่างโค้ดด้านล่าง\n",
        "\n"
      ]
    },
    {
      "cell_type": "code",
      "metadata": {
        "id": "2CuanksUlAga",
        "colab_type": "code",
        "colab": {}
      },
      "source": [
        "class Model3():\n",
        "    def __init__(self, n_in, nh, n_out):\n",
        "        self._modules = {}\n",
        "        self.l1 = nn.Linear(n_in, nh)\n",
        "        self.l2 = nn.Linear(nh, n_out)\n",
        "\n",
        "    # k = key, v = value\n",
        "    def __setattr__(self, k, v):\n",
        "        if not k.startswith(\"_\"): self._modules[k] = v\n",
        "        super().__setattr__(k, v)\n",
        "    \n",
        "    def __repr__(self): return f\"{self._modules}\"\n",
        "\n",
        "    def parameters(self):\n",
        "        for l in self._modules.values():\n",
        "            for p in l.parameters():\n",
        "                yield p"
      ],
      "execution_count": 0,
      "outputs": []
    },
    {
      "cell_type": "code",
      "metadata": {
        "id": "YbmO6TK3mkwa",
        "colab_type": "code",
        "colab": {
          "base_uri": "https://localhost:8080/",
          "height": 87
        },
        "outputId": "e4a0e089-b5f6-4c2c-968b-e28a7be83a80"
      },
      "source": [
        "model = Model3(m, nh, c.numpy())\n",
        "for p in model.parameters(): print(f'{p.shape}')"
      ],
      "execution_count": 167,
      "outputs": [
        {
          "output_type": "stream",
          "text": [
            "torch.Size([50, 784])\n",
            "torch.Size([50])\n",
            "torch.Size([10, 50])\n",
            "torch.Size([10])\n"
          ],
          "name": "stdout"
        }
      ]
    },
    {
      "cell_type": "markdown",
      "metadata": {
        "id": "kjXZcwzA3DG8",
        "colab_type": "text"
      },
      "source": [
        "## 6.2 Register Module จาก List"
      ]
    },
    {
      "cell_type": "markdown",
      "metadata": {
        "id": "wDlP12NzkiDW",
        "colab_type": "text"
      },
      "source": [
        "แต่การประกาศ Layer เป็น Instance Variable ทำให้โมเดลไม่ยืดหยุ่น ไม่สามารถเพิ่ม Layer ได้แบบ Dynamic เราจะใช้ List layers แบบเดิมก็แต่ แต่ต้อง Register Module เอง ด้วย nn.Module.add_module()"
      ]
    },
    {
      "cell_type": "code",
      "metadata": {
        "id": "8yt8G71IQCJ6",
        "colab_type": "code",
        "colab": {}
      },
      "source": [
        "class Model4(nn.Module):\n",
        "    def __init__(self, layers):\n",
        "        super().__init__()\n",
        "        self.layers = layers\n",
        "        for i, l in enumerate(self.layers): self.add_module(f'layer_{i}', l)\n",
        "    \n",
        "    def __call__(self, x):\n",
        "        for l in self.layers: x = l(x)\n",
        "        return x\n"
      ],
      "execution_count": 0,
      "outputs": []
    },
    {
      "cell_type": "code",
      "metadata": {
        "id": "36c3KfoJ2Hww",
        "colab_type": "code",
        "colab": {
          "base_uri": "https://localhost:8080/",
          "height": 104
        },
        "outputId": "c081888e-a950-45cd-dc70-a9bfc3ad2aba"
      },
      "source": [
        "layers = [nn.Linear(m, nh), nn.ReLU(), nn.Linear(nh,c.numpy())]\n",
        "model = Model4(layers)\n",
        "model"
      ],
      "execution_count": 169,
      "outputs": [
        {
          "output_type": "execute_result",
          "data": {
            "text/plain": [
              "Model4(\n",
              "  (layer_0): Linear(in_features=784, out_features=50, bias=True)\n",
              "  (layer_1): ReLU()\n",
              "  (layer_2): Linear(in_features=50, out_features=10, bias=True)\n",
              ")"
            ]
          },
          "metadata": {
            "tags": []
          },
          "execution_count": 169
        }
      ]
    },
    {
      "cell_type": "code",
      "metadata": {
        "id": "ijvtEbM23mrZ",
        "colab_type": "code",
        "colab": {
          "base_uri": "https://localhost:8080/",
          "height": 87
        },
        "outputId": "2456e632-1e70-4045-a0c7-0e17990fb4fd"
      },
      "source": [
        "for p in model.parameters(): print(f'{p.shape}')"
      ],
      "execution_count": 170,
      "outputs": [
        {
          "output_type": "stream",
          "text": [
            "torch.Size([50, 784])\n",
            "torch.Size([50])\n",
            "torch.Size([10, 50])\n",
            "torch.Size([10])\n"
          ],
          "name": "stdout"
        }
      ]
    },
    {
      "cell_type": "markdown",
      "metadata": {
        "id": "qs1RLGVK2Hl7",
        "colab_type": "text"
      },
      "source": [
        "## 6.3 Refactor ไปใช้ nn.ModuleList"
      ]
    },
    {
      "cell_type": "markdown",
      "metadata": {
        "id": "peUG3uqj9UHA",
        "colab_type": "text"
      },
      "source": [
        "ใช้ nn.ModuleList ในการช่วย Register Module"
      ]
    },
    {
      "cell_type": "code",
      "metadata": {
        "id": "0dDXUq7b35Kp",
        "colab_type": "code",
        "colab": {}
      },
      "source": [
        "class Model5(nn.Module):\n",
        "    def __init__(self, layers):\n",
        "        super().__init__()\n",
        "        self.layers = nn.ModuleList(layers)\n",
        "    \n",
        "    def __call__(self, x):\n",
        "        for l in self.layers: x = l(x)\n",
        "        return x\n"
      ],
      "execution_count": 0,
      "outputs": []
    },
    {
      "cell_type": "code",
      "metadata": {
        "id": "FSlc1kwo35gH",
        "colab_type": "code",
        "colab": {
          "base_uri": "https://localhost:8080/",
          "height": 139
        },
        "outputId": "66f9d4ba-ed22-4288-b27e-20beb0a6fd1e"
      },
      "source": [
        "model = Model5(layers)\n",
        "model"
      ],
      "execution_count": 172,
      "outputs": [
        {
          "output_type": "execute_result",
          "data": {
            "text/plain": [
              "Model5(\n",
              "  (layers): ModuleList(\n",
              "    (0): Linear(in_features=784, out_features=50, bias=True)\n",
              "    (1): ReLU()\n",
              "    (2): Linear(in_features=50, out_features=10, bias=True)\n",
              "  )\n",
              ")"
            ]
          },
          "metadata": {
            "tags": []
          },
          "execution_count": 172
        }
      ]
    },
    {
      "cell_type": "code",
      "metadata": {
        "id": "0E65FxTE35qD",
        "colab_type": "code",
        "colab": {
          "base_uri": "https://localhost:8080/",
          "height": 87
        },
        "outputId": "e7c1e0db-e575-4630-e4e0-1c6d1f1f52d6"
      },
      "source": [
        "for p in model.parameters(): print(f'{p.shape}')"
      ],
      "execution_count": 173,
      "outputs": [
        {
          "output_type": "stream",
          "text": [
            "torch.Size([50, 784])\n",
            "torch.Size([50])\n",
            "torch.Size([10, 50])\n",
            "torch.Size([10])\n"
          ],
          "name": "stdout"
        }
      ]
    },
    {
      "cell_type": "code",
      "metadata": {
        "id": "-1BhGvz535zx",
        "colab_type": "code",
        "colab": {
          "base_uri": "https://localhost:8080/",
          "height": 541
        },
        "outputId": "378eef46-a75d-410d-8226-fba926911b02"
      },
      "source": [
        "fit2()"
      ],
      "execution_count": 174,
      "outputs": [
        {
          "output_type": "display_data",
          "data": {
            "image/png": "[encoded data removed]",
            "text/plain": [
              "<Figure size 648x648 with 1 Axes>"
            ]
          },
          "metadata": {
            "tags": []
          }
        }
      ]
    },
    {
      "cell_type": "markdown",
      "metadata": {
        "id": "sPgRukF8359-",
        "colab_type": "text"
      },
      "source": [
        "## 6.4 nn.Sequential"
      ]
    },
    {
      "cell_type": "markdown",
      "metadata": {
        "id": "0IQuueXf9bHA",
        "colab_type": "text"
      },
      "source": [
        "ที่ทำมาทั้งหมด คือ nn.Sequential"
      ]
    },
    {
      "cell_type": "code",
      "metadata": {
        "id": "vLMU8dnB36H6",
        "colab_type": "code",
        "colab": {
          "base_uri": "https://localhost:8080/",
          "height": 541
        },
        "outputId": "87603305-4bbe-4c24-e0ee-6724d2e9b4c2"
      },
      "source": [
        "model = nn.Sequential(nn.Linear(m, nh), nn.ReLU(), nn.Linear(nh,c.numpy()))\n",
        "fit2()"
      ],
      "execution_count": 175,
      "outputs": [
        {
          "output_type": "display_data",
          "data": {
            "image/png": "[encoded data removed]",
            "text/plain": [
              "<Figure size 648x648 with 1 Axes>"
            ]
          },
          "metadata": {
            "tags": []
          }
        }
      ]
    },
    {
      "cell_type": "markdown",
      "metadata": {
        "id": "OVUnWeSN36SG",
        "colab_type": "text"
      },
      "source": [
        "# 7. Optim"
      ]
    },
    {
      "cell_type": "markdown",
      "metadata": {
        "id": "LXMy1DU_9lUf",
        "colab_type": "text"
      },
      "source": [
        "เราจะ Refactor ในส่วนอัพเดท Parameter ออกมาไว้ข้างนอก เป็น Class ใหม่ เรียกว่า optim (Optimzation)"
      ]
    },
    {
      "cell_type": "markdown",
      "metadata": {
        "id": "cz5q3H1N9le4",
        "colab_type": "text"
      },
      "source": [
        "Before\n",
        "```\n",
        "            with torch.no_grad():\n",
        "                for p in model.parameters():\n",
        "                    p -= p.grad * lr\n",
        "                    p.grad.zero_()\n",
        "```"
      ]
    },
    {
      "cell_type": "markdown",
      "metadata": {
        "id": "XhmmYo3z9z_v",
        "colab_type": "text"
      },
      "source": [
        "After\n",
        "```\n",
        "            p.step()\n",
        "            p.zero_grad()\n",
        "```"
      ]
    },
    {
      "cell_type": "code",
      "metadata": {
        "id": "Rixj_Sdm90Hb",
        "colab_type": "code",
        "colab": {}
      },
      "source": [
        ""
      ],
      "execution_count": 0,
      "outputs": []
    },
    {
      "cell_type": "code",
      "metadata": {
        "id": "qnZ8mc8890Py",
        "colab_type": "code",
        "colab": {}
      },
      "source": [
        ""
      ],
      "execution_count": 0,
      "outputs": []
    },
    {
      "cell_type": "code",
      "metadata": {
        "id": "GzhZ7tjt90Ym",
        "colab_type": "code",
        "colab": {}
      },
      "source": [
        ""
      ],
      "execution_count": 0,
      "outputs": []
    },
    {
      "cell_type": "markdown",
      "metadata": {
        "colab_type": "text",
        "id": "24IhZB0kIhZH"
      },
      "source": [
        "# 8. สรุป"
      ]
    },
    {
      "cell_type": "markdown",
      "metadata": {
        "colab_type": "text",
        "id": "U9qo9p97IhZI"
      },
      "source": [
        "1. ฟฟฟ\n"
      ]
    },
    {
      "cell_type": "markdown",
      "metadata": {
        "colab_type": "text",
        "id": "HJlbXY9WJDwb"
      },
      "source": [
        "# Credit \n",
        "\n",
        "* https://course.fast.ai/videos/?lesson=9\n",
        "* https://pytorch.org/docs/stable/data.html"
      ]
    },
    {
      "cell_type": "code",
      "metadata": {
        "colab_type": "code",
        "id": "n88N5aoBIhZK",
        "colab": {}
      },
      "source": [
        ""
      ],
      "execution_count": 0,
      "outputs": []
    }
  ]
}