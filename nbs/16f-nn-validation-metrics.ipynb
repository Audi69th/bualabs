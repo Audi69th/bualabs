{
  "nbformat": 4,
  "nbformat_minor": 0,
  "metadata": {
    "colab": {
      "name": "16f-nn-validation-metrics.ipynb",
      "provenance": []
    },
    "kernelspec": {
      "name": "python3",
      "display_name": "Python 3"
    },
    "accelerator": "GPU"
  },
  "cells": [
    {
      "cell_type": "markdown",
      "metadata": {
        "colab_type": "text",
        "id": "E2K0Y6HBIhUu"
      },
      "source": [
        "# 0. Magic"
      ]
    },
    {
      "cell_type": "code",
      "metadata": {
        "colab_type": "code",
        "id": "CzToZtD3IhU3",
        "colab": {}
      },
      "source": [
        "%load_ext autoreload\n",
        "%autoreload 2\n",
        "%matplotlib inline"
      ],
      "execution_count": 0,
      "outputs": []
    },
    {
      "cell_type": "markdown",
      "metadata": {
        "colab_type": "text",
        "id": "L5AxlmsHIhVW"
      },
      "source": [
        "# 1. Import"
      ]
    },
    {
      "cell_type": "code",
      "metadata": {
        "colab_type": "code",
        "id": "v2h0_gK-IhVc",
        "colab": {}
      },
      "source": [
        "import torch\n",
        "from torch import tensor\n",
        "from torch import nn\n",
        "import torch.nn.functional as F\n",
        "from torch.utils import data \n",
        "import matplotlib.pyplot as plt\n",
        "\n",
        "from pathlib import Path\n",
        "from IPython.core.debugger import set_trace\n",
        "from fastai import datasets\n",
        "from fastai.metrics import accuracy\n",
        "import pickle, gzip, math, torch\n",
        "import operator"
      ],
      "execution_count": 0,
      "outputs": []
    },
    {
      "cell_type": "markdown",
      "metadata": {
        "colab_type": "text",
        "id": "rncY_-K-IhWG"
      },
      "source": [
        "# 2. Data"
      ]
    },
    {
      "cell_type": "code",
      "metadata": {
        "colab_type": "code",
        "id": "SfDoXiIsIhWJ",
        "colab": {}
      },
      "source": [
        "MNIST_URL='http://deeplearning.net/data/mnist/mnist.pkl'"
      ],
      "execution_count": 0,
      "outputs": []
    },
    {
      "cell_type": "code",
      "metadata": {
        "colab_type": "code",
        "id": "R35XZaisIhWR",
        "colab": {}
      },
      "source": [
        "def get_data():\n",
        "    path = datasets.download_data(MNIST_URL, ext='.gz')\n",
        "    with gzip.open(path, 'rb') as f:\n",
        "        ((x_train, y_train), (x_valid, y_valid), _) = pickle.load(f, encoding='latin-1')\n",
        "    return map(tensor, (x_train, y_train, x_valid, y_valid))"
      ],
      "execution_count": 0,
      "outputs": []
    },
    {
      "cell_type": "code",
      "metadata": {
        "colab_type": "code",
        "id": "vhFYnpwFIhWZ",
        "colab": {}
      },
      "source": [
        "x_train, y_train, x_valid, y_valid = get_data()"
      ],
      "execution_count": 0,
      "outputs": []
    },
    {
      "cell_type": "markdown",
      "metadata": {
        "colab_type": "text",
        "id": "o2Uc5fmLIhWf"
      },
      "source": [
        "# 3. เตรียม Data"
      ]
    },
    {
      "cell_type": "code",
      "metadata": {
        "id": "RLn80w33QCH0",
        "colab_type": "code",
        "colab": {}
      },
      "source": [
        "class Dataset(data.Dataset):\n",
        "    def __init__(self, x, y):\n",
        "        self.x, self.y = x, y\n",
        "    def __len__(self):\n",
        "        return len(self.x)\n",
        "    def __getitem__(self, i):\n",
        "        return self.x[i], self.y[i]"
      ],
      "execution_count": 0,
      "outputs": []
    },
    {
      "cell_type": "code",
      "metadata": {
        "colab_type": "code",
        "id": "kdSxnXSwIhWh",
        "colab": {}
      },
      "source": [
        "# x = data, m = mean, s = standard deviation\n",
        "def normalize(x, m, s): \n",
        "    return (x-m)/s"
      ],
      "execution_count": 0,
      "outputs": []
    },
    {
      "cell_type": "code",
      "metadata": {
        "colab_type": "code",
        "id": "GvkCVtRrIhWu",
        "outputId": "117cca85-8f28-4acc-dcbb-33e80e59f449",
        "scrolled": true,
        "colab": {
          "base_uri": "https://localhost:8080/",
          "height": 35
        }
      },
      "source": [
        "n, m = x_train.shape\n",
        "c = (y_train.max()+1).numpy()\n",
        "n, m, c"
      ],
      "execution_count": 8,
      "outputs": [
        {
          "output_type": "execute_result",
          "data": {
            "text/plain": [
              "(50000, 784, array(10))"
            ]
          },
          "metadata": {
            "tags": []
          },
          "execution_count": 8
        }
      ]
    },
    {
      "cell_type": "code",
      "metadata": {
        "colab_type": "code",
        "id": "h-4sn151IhWp",
        "colab": {}
      },
      "source": [
        "train_mean, train_std = x_train.mean(), x_train.std()\n",
        "x_train = normalize(x_train, train_mean, train_std)\n",
        "x_valid = normalize(x_valid, train_mean, train_std)"
      ],
      "execution_count": 0,
      "outputs": []
    },
    {
      "cell_type": "code",
      "metadata": {
        "id": "jytWDGT1QCIY",
        "colab_type": "code",
        "colab": {}
      },
      "source": [
        "# batch size\n",
        "bs = 64\n",
        "train_ds, valid_ds = Dataset(x_train, y_train), Dataset(x_valid, y_valid)\n",
        "train_dl, valid_dl = data.DataLoader(train_ds, bs, shuffle=True), data.DataLoader(valid_ds, bs, shuffle=False)"
      ],
      "execution_count": 0,
      "outputs": []
    },
    {
      "cell_type": "markdown",
      "metadata": {
        "colab_type": "text",
        "id": "65nEbB0CIhXJ"
      },
      "source": [
        "# 4. สร้าง Model"
      ]
    },
    {
      "cell_type": "markdown",
      "metadata": {
        "id": "awTy8-sp7P_J",
        "colab_type": "text"
      },
      "source": [
        "Hyperparameter ของโมเดล"
      ]
    },
    {
      "cell_type": "code",
      "metadata": {
        "colab_type": "code",
        "id": "vMUV0GtYIhXp",
        "colab": {}
      },
      "source": [
        "# learning rate\n",
        "lr = 0.03\n",
        "epoch = 10\n",
        "nh = 50"
      ],
      "execution_count": 0,
      "outputs": []
    },
    {
      "cell_type": "markdown",
      "metadata": {
        "id": "92h15jSO7UET",
        "colab_type": "text"
      },
      "source": [
        "ประกาศฟังก์ชันเอาไว้สร้างโมเดล"
      ]
    },
    {
      "cell_type": "code",
      "metadata": {
        "colab_type": "code",
        "id": "TZ5WfVg1IhXZ",
        "colab": {}
      },
      "source": [
        "def get_model():\n",
        "    # loss function\n",
        "    loss_func = F.cross_entropy\n",
        "    model = nn.Sequential(nn.Linear(m, nh), nn.ReLU(), nn.Linear(nh,c))\n",
        "    return model, loss_func"
      ],
      "execution_count": 0,
      "outputs": []
    },
    {
      "cell_type": "markdown",
      "metadata": {
        "colab_type": "text",
        "id": "WZD_SRXXIhYm"
      },
      "source": [
        "# 5. Training Loop"
      ]
    },
    {
      "cell_type": "markdown",
      "metadata": {
        "colab_type": "text",
        "id": "avnrlo6VIhYp"
      },
      "source": [
        "เราจะเทรนโมเดล ด้วยอัลกอริทึม [Stochastic Gradient Descent (SGD)](https://www.bualabs.com/wp-admin/post.php?post=631&action=edit) และ เก็บ Loss, Accuracy เอาไว้พล็อตกราฟ"
      ]
    },
    {
      "cell_type": "markdown",
      "metadata": {
        "id": "tgnplPJZQCI9",
        "colab_type": "text"
      },
      "source": [
        "ประกาศฟังก์ชัน fit เอาไว้เรียกเทรนเวลาที่ต้องการ"
      ]
    },
    {
      "cell_type": "code",
      "metadata": {
        "colab_type": "code",
        "id": "nXDfhaxkIhYr",
        "colab": {}
      },
      "source": [
        "def fit():\n",
        "    losses, metrics = [], []\n",
        "    # e = epoch number\n",
        "    for e in range(epoch):\n",
        "        for xb, yb in train_dl:\n",
        "\n",
        "            # Feedforward\n",
        "            yhatb = model(xb)\n",
        "            loss = loss_func(yhatb, yb)\n",
        "\n",
        "            # Metrics\n",
        "            acc = accuracy(yhatb, yb)\n",
        "            losses.append(loss); metrics.append(acc)\n",
        "\n",
        "            # Backpropagation\n",
        "            loss.backward()\n",
        "\n",
        "            optim.step()\n",
        "            optim.zero_grad()\n",
        "\n",
        "    plot_metrics(losses, metrics)"
      ],
      "execution_count": 0,
      "outputs": []
    },
    {
      "cell_type": "markdown",
      "metadata": {
        "id": "UtpwZXFJQCJD",
        "colab_type": "text"
      },
      "source": [
        "ประการฟัง์ชัน ไว้พล็อตกราฟ Loss และ Accuracy"
      ]
    },
    {
      "cell_type": "code",
      "metadata": {
        "id": "tajX1VqsQCJE",
        "colab_type": "code",
        "colab": {}
      },
      "source": [
        "def plot_metrics(losses, metrics):\n",
        "    x = torch.arange(len(losses)).numpy()\n",
        "    fig,ax = plt.subplots(figsize=(9, 9))\n",
        "    ax.grid(True)\n",
        "    ax.plot(x, losses, label=\"Loss\")\n",
        "    ax.plot(x, metrics, label=\"Accuracy\")\n",
        "    ax.legend(loc='upper right')"
      ],
      "execution_count": 0,
      "outputs": []
    },
    {
      "cell_type": "markdown",
      "metadata": {
        "id": "rBXR6APHQCJf",
        "colab_type": "text"
      },
      "source": [
        "# 6. Refactor Training Loop ส่วน Metrics"
      ]
    },
    {
      "cell_type": "markdown",
      "metadata": {
        "id": "z8c91MkuMCOg",
        "colab_type": "text"
      },
      "source": [
        "การเทสว่าโมเดลทำงานเป็นอย่างไร ที่ถูกต้องเราไม่ควรเทสกับข้อมูล ใน Training Set ที่เราใช้เทรน เพราะจะทำให้ไม่ได้ค่าที่แท้จริง ที่ถูกคือเราควรเทสกับข้อมูลที่โมเดลไม่เคยเห็นมาก่อน ใน Validation Set \n",
        "\n",
        "[Train/Validation/Test Split คืออะไร คลิก](https://www.bualabs.com/archives/532/what-is-train-test-split-why-split-train-set-validation-set-test-set/)"
      ]
    },
    {
      "cell_type": "code",
      "metadata": {
        "id": "8SnsTnqvhU3F",
        "colab_type": "code",
        "colab": {}
      },
      "source": [
        "def fit2():\n",
        "    # e = epoch number\n",
        "    for e in range(epoch):\n",
        "\n",
        "        # Set Model in Train Mode\n",
        "        model.train()\n",
        "\n",
        "        for xb, yb in train_dl:\n",
        "            yhatb = model(xb)\n",
        "            loss = loss_func(yhatb, yb)\n",
        "            loss.backward()\n",
        "            optim.step()\n",
        "            optim.zero_grad()\n",
        "\n",
        "        # Set Model in Evaluation Mode\n",
        "        model.eval()\n",
        "\n",
        "        # Metrics\n",
        "        with torch.no_grad():\n",
        "            # tot_loss = total loss, tot_acc = total accuracy\n",
        "            tot_loss, tot_acc = 0., 0.\n",
        "            for xb, yb in valid_dl:\n",
        "                yhatb = model(xb)\n",
        "                tot_acc += accuracy(yhatb, yb)\n",
        "                tot_loss += loss_func(yhatb, yb)\n",
        "            # nv = number of validation batch\n",
        "            nv = len(valid_ds)/bs\n",
        "            print(f'epoch={e}, valid_loss={tot_loss/nv}, valid_acc={tot_acc/nv}')            \n",
        "    return tot_loss/nv, tot_acc/nv\n",
        "    "
      ],
      "execution_count": 0,
      "outputs": []
    },
    {
      "cell_type": "markdown",
      "metadata": {
        "id": "P4vBlif9p34V",
        "colab_type": "text"
      },
      "source": [
        "ลองเทรนด้วย SGD"
      ]
    },
    {
      "cell_type": "code",
      "metadata": {
        "id": "KhTdMrl6hVAt",
        "colab_type": "code",
        "outputId": "6abaffed-0c0a-4a26-ac00-4d85f9f77307",
        "colab": {
          "base_uri": "https://localhost:8080/",
          "height": 208
        }
      },
      "source": [
        "model, loss_func = get_model()\n",
        "optim = torch.optim.SGD(model.parameters(), lr=lr)\n",
        "fit2()"
      ],
      "execution_count": 24,
      "outputs": [
        {
          "output_type": "stream",
          "text": [
            "epoch=0, valid_loss=0.28046083450317383, valid_acc=0.9236999750137329\n",
            "epoch=1, valid_loss=0.2053385227918625, valid_acc=0.9484000205993652\n",
            "epoch=2, valid_loss=0.16833384335041046, valid_acc=0.958899974822998\n",
            "epoch=3, valid_loss=0.16855786740779877, valid_acc=0.9544000029563904\n",
            "epoch=4, valid_loss=0.13522052764892578, valid_acc=0.9678000211715698\n",
            "epoch=5, valid_loss=0.1309860646724701, valid_acc=0.9656000137329102\n",
            "epoch=6, valid_loss=0.12342768907546997, valid_acc=0.9689000248908997\n",
            "epoch=7, valid_loss=0.11911877244710922, valid_acc=0.9704999923706055\n",
            "epoch=8, valid_loss=0.11267219483852386, valid_acc=0.9722999930381775\n",
            "epoch=9, valid_loss=0.11112724244594574, valid_acc=0.9726999998092651\n"
          ],
          "name": "stdout"
        },
        {
          "output_type": "execute_result",
          "data": {
            "text/plain": [
              "(tensor(0.1111), tensor(0.9727))"
            ]
          },
          "metadata": {
            "tags": []
          },
          "execution_count": 24
        }
      ]
    },
    {
      "cell_type": "markdown",
      "metadata": {
        "id": "XUlJzmP4LKuP",
        "colab_type": "text"
      },
      "source": [
        "# 7. สรุป"
      ]
    },
    {
      "cell_type": "markdown",
      "metadata": {
        "id": "ZrUskLlmMddy",
        "colab_type": "text"
      },
      "source": [
        "1. ใน Training Loop เราได้ Refactor ส่วนของ Metrics ให้ใช้ Validation Set หา Loss และ Metrics หลังจากที่เทรนใน Epoch นั้นเรียบร้อยแล้ว\n",
        "1. เรารวม Total Loss ไว้ใน tot_loss แล้วจึงหารด้วย nv (จำนวนข้อมูล / batch size) เนื่องจาก batch สุดท้ายอาจจะไม่เต็ม batch ก็ได้ เราจึงไม่สามารถหารด้วย len(valid_dl) ได้\n",
        "1. เมื่อเราใช้ข้อมูลที่โมเดลไม่เคยเห็น ใน Validation Set มาเทสโมเดล แล้วได้ผลดี ทำให้เราสามารถคาดหวังได้ว่า โมเดลจะทำงานกับข้อมูลจากโลกภายนอกที่ไม่เคยเห็นมาก่อนได้ดี เช่นกัน"
      ]
    },
    {
      "cell_type": "markdown",
      "metadata": {
        "id": "o1sznQXXMd7K",
        "colab_type": "text"
      },
      "source": [
        "# Credit"
      ]
    },
    {
      "cell_type": "markdown",
      "metadata": {
        "id": "dkhLgtZcMejZ",
        "colab_type": "text"
      },
      "source": [
        "* https://course.fast.ai/videos/?lesson=9\n",
        "* https://www.bualabs.com/"
      ]
    },
    {
      "cell_type": "code",
      "metadata": {
        "id": "dMI1g_0pODXu",
        "colab_type": "code",
        "colab": {}
      },
      "source": [
        ""
      ],
      "execution_count": 0,
      "outputs": []
    }
  ]
}