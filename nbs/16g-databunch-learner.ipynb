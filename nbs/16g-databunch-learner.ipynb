{
  "nbformat": 4,
  "nbformat_minor": 0,
  "metadata": {
    "colab": {
      "name": "20c-databunch.ipynb",
      "provenance": []
    },
    "kernelspec": {
      "name": "python3",
      "display_name": "Python 3"
    }
  },
  "cells": [
    {
      "cell_type": "markdown",
      "metadata": {
        "id": "uIsrNMqcMi7q",
        "colab_type": "text"
      },
      "source": [
        "ใน Training Loop หรือฟังก์ชัน `fit()` จะมี Parameter ที่ใช้ในการเทรน ดังนี้\n",
        "\n",
        "> `fit(epoch, model, loss_func, opt, train_dl, valid_dl)`\n",
        "\n",
        "โดยขั้นแรก เนื่องจาก train_dl และ valid_dl คือ 2 Object ของ Class เดียวกัน ข้อมูลข้างในก็มาจากที่เดียวกัน เราจะ Refactor สร้าง Class ใหม่ ชื่อว่า [DataBunch](#3.-DataBunch) มาเป็น Wrapper Class ไว้ จะได้มองเป็น Unit เดียวกัน เวลาจัดการก็จัดการด้วยวิธีคล้าย ๆ กัน พร้อม ๆ กัน เพื่อให้โค้ด Clean มากขึ้น\n",
        "\n",
        "จะได้ Training Loop ใหม่ เป็น\n",
        "\n",
        "> `fit(epoch, model, loss_func, opt, databunch)`"
      ]
    },
    {
      "cell_type": "markdown",
      "metadata": {
        "id": "3drCJqK97wZ5",
        "colab_type": "text"
      },
      "source": [
        "# 0. Magic"
      ]
    },
    {
      "cell_type": "code",
      "metadata": {
        "id": "As6QTNhIo7LC",
        "colab_type": "code",
        "outputId": "a7c6ecff-06e2-49fe-fc49-c9b029e9a2a0",
        "colab": {
          "base_uri": "https://localhost:8080/",
          "height": 52
        }
      },
      "source": [
        "%load_ext autoreload\n",
        "%autoreload 2\n",
        "%matplotlib inline"
      ],
      "execution_count": 4,
      "outputs": [
        {
          "output_type": "stream",
          "text": [
            "The autoreload extension is already loaded. To reload it, use:\n",
            "  %reload_ext autoreload\n"
          ],
          "name": "stdout"
        }
      ]
    },
    {
      "cell_type": "markdown",
      "metadata": {
        "id": "aJdvUE9d7y7L",
        "colab_type": "text"
      },
      "source": [
        "# 1. Import"
      ]
    },
    {
      "cell_type": "code",
      "metadata": {
        "id": "M0k1vCN_7zFe",
        "colab_type": "code",
        "colab": {}
      },
      "source": [
        "import torch\n",
        "from torch import tensor\n",
        "from torch.nn import *\n",
        "import torch.nn.functional as F\n",
        "from torch.utils.data import *\n",
        "from fastai import datasets\n",
        "from fastai.metrics import accuracy\n",
        "import pickle, gzip, math, torch"
      ],
      "execution_count": 0,
      "outputs": []
    },
    {
      "cell_type": "markdown",
      "metadata": {
        "id": "lYLQCdBq7zNn",
        "colab_type": "text"
      },
      "source": [
        "# 2. Data"
      ]
    },
    {
      "cell_type": "code",
      "metadata": {
        "id": "t-IMKGED7zmC",
        "colab_type": "code",
        "colab": {}
      },
      "source": [
        "class Dataset(Dataset):\n",
        "    def __init__(self, x, y):\n",
        "        self.x, self.y = x, y\n",
        "    def __len__(self):\n",
        "        return len(self.x)\n",
        "    def __getitem__(self, i):\n",
        "        return self.x[i], self.y[i]"
      ],
      "execution_count": 0,
      "outputs": []
    },
    {
      "cell_type": "code",
      "metadata": {
        "id": "fiPq9nOu8V-y",
        "colab_type": "code",
        "colab": {}
      },
      "source": [
        "MNIST_URL='http://deeplearning.net/data/mnist/mnist.pkl'"
      ],
      "execution_count": 0,
      "outputs": []
    },
    {
      "cell_type": "code",
      "metadata": {
        "id": "j8Jl_Ekx7zVi",
        "colab_type": "code",
        "colab": {}
      },
      "source": [
        "def get_data():\n",
        "    path = datasets.download_data(MNIST_URL, ext='.gz')\n",
        "    with gzip.open(path, 'rb') as f:\n",
        "        ((x_train, y_train), (x_valid, y_valid), _) = pickle.load(f, encoding='latin-1')\n",
        "    return map(tensor, (x_train, y_train, x_valid, y_valid))"
      ],
      "execution_count": 0,
      "outputs": []
    },
    {
      "cell_type": "code",
      "metadata": {
        "id": "LzugVJ09eCrk",
        "colab_type": "code",
        "colab": {}
      },
      "source": [
        "x_train, y_train, x_valid, y_valid = get_data()"
      ],
      "execution_count": 0,
      "outputs": []
    },
    {
      "cell_type": "code",
      "metadata": {
        "id": "1d9ixSpfgUeS",
        "colab_type": "code",
        "colab": {}
      },
      "source": [
        "def normalize(x, m, s): \n",
        "    return (x-m)/s"
      ],
      "execution_count": 0,
      "outputs": []
    },
    {
      "cell_type": "code",
      "metadata": {
        "id": "IEtfU8TjgO-t",
        "colab_type": "code",
        "colab": {}
      },
      "source": [
        "train_mean, train_std = x_train.mean(), x_train.std()\n",
        "x_train = normalize(x_train, train_mean, train_std)\n",
        "x_valid = normalize(x_valid, train_mean, train_std)"
      ],
      "execution_count": 0,
      "outputs": []
    },
    {
      "cell_type": "code",
      "metadata": {
        "id": "lwr_S24teD1-",
        "colab_type": "code",
        "colab": {}
      },
      "source": [
        "nh, bs = 100, 32\n",
        "n, m = x_train.shape\n",
        "c = (y_train.max()+1).numpy()\n",
        "loss_func = F.cross_entropy"
      ],
      "execution_count": 0,
      "outputs": []
    },
    {
      "cell_type": "code",
      "metadata": {
        "id": "lxDyNxD07zeH",
        "colab_type": "code",
        "colab": {}
      },
      "source": [
        "train_ds, valid_ds = Dataset(x_train, y_train), Dataset(x_valid, y_valid)\n",
        "train_dl, valid_dl = DataLoader(train_ds, bs), DataLoader(valid_ds, bs)"
      ],
      "execution_count": 0,
      "outputs": []
    },
    {
      "cell_type": "markdown",
      "metadata": {
        "id": "kWKmfCFVLOmn",
        "colab_type": "text"
      },
      "source": [
        "# 3. DataBunch"
      ]
    },
    {
      "cell_type": "markdown",
      "metadata": {
        "id": "ZRxA5Is1-jbg",
        "colab_type": "text"
      },
      "source": [
        "สร้าง Class DataBunch สำหรับ Wrap Training Set DataLoader และ Validation Set DataLoader \n",
        "\n",
        "และใส่ จำนวน Class ของ Output ไว้ด้วย จะได้ใช้ตอนสร้างโมเดล"
      ]
    },
    {
      "cell_type": "code",
      "metadata": {
        "id": "2B-9fQQJ-8RS",
        "colab_type": "code",
        "colab": {}
      },
      "source": [
        "class DataBunch():\n",
        "    def __init__(self, train_dl, valid_dl, c=None):\n",
        "        self.train_dl,self.valid_dl,self.c = train_dl,valid_dl,c\n",
        "\n",
        "    @property\n",
        "    def train_ds(self): return self.train_dl.dataset\n",
        "\n",
        "    @property\n",
        "    def valid_ds(self): return self.valid_dl.dataset"
      ],
      "execution_count": 0,
      "outputs": []
    },
    {
      "cell_type": "markdown",
      "metadata": {
        "id": "I0RRD3PnOWUv",
        "colab_type": "text"
      },
      "source": [
        "ลองสร้าง DataBunch จาก train_dl, valid_dl และ c ที่เราสร้างไว้ก่อนหน้านี้"
      ]
    },
    {
      "cell_type": "code",
      "metadata": {
        "id": "Z3OzWeXWBzLl",
        "colab_type": "code",
        "colab": {}
      },
      "source": [
        "databunch = DataBunch(train_dl, valid_dl, c)"
      ],
      "execution_count": 0,
      "outputs": []
    },
    {
      "cell_type": "code",
      "metadata": {
        "id": "CtoT7A2DggGz",
        "colab_type": "code",
        "colab": {}
      },
      "source": [
        "lr = 0.03\n",
        "epoch = 10\n",
        "nh = 50"
      ],
      "execution_count": 0,
      "outputs": []
    },
    {
      "cell_type": "code",
      "metadata": {
        "id": "NBp4jzQoeWLe",
        "colab_type": "code",
        "colab": {}
      },
      "source": [
        "def get_model():\n",
        "    # loss function\n",
        "    loss_func = F.cross_entropy\n",
        "    model = Sequential(Linear(m, nh), ReLU(), Linear(nh,c))\n",
        "    return model, loss_func"
      ],
      "execution_count": 0,
      "outputs": []
    },
    {
      "cell_type": "code",
      "metadata": {
        "id": "f5OA232AeX55",
        "colab_type": "code",
        "colab": {}
      },
      "source": [
        "model, loss_func = get_model()\n",
        "optim = torch.optim.SGD(model.parameters(), lr=lr)"
      ],
      "execution_count": 0,
      "outputs": []
    },
    {
      "cell_type": "markdown",
      "metadata": {
        "id": "Db38TOPIOfpF",
        "colab_type": "text"
      },
      "source": [
        "เราจะได้ Training Loop ฟังก์ชัน fit ที่โค้ด Clean มากขึ้น"
      ]
    },
    {
      "cell_type": "code",
      "metadata": {
        "id": "TAF8gGxMCA40",
        "colab_type": "code",
        "colab": {}
      },
      "source": [
        "def fit(epoch, model, loss_func, optim, databunch):\n",
        "    # e = epoch number\n",
        "    for e in range(epoch):\n",
        "\n",
        "        # Set Model in Train Mode\n",
        "        model.train()\n",
        "\n",
        "        for xb, yb in databunch.train_dl:\n",
        "            yhatb = model(xb)\n",
        "            loss = loss_func(yhatb, yb)\n",
        "            loss.backward()\n",
        "            optim.step()\n",
        "            optim.zero_grad()\n",
        "\n",
        "        # Set Model in Evaluation Mode\n",
        "        model.eval()\n",
        "\n",
        "        # Metrics\n",
        "        with torch.no_grad():\n",
        "            # tot_loss = total loss, tot_acc = total accuracy\n",
        "            tot_loss, tot_acc = 0., 0.\n",
        "            for xb, yb in databunch.valid_dl:\n",
        "                yhatb = model(xb)\n",
        "                tot_acc += accuracy(yhatb, yb)\n",
        "                tot_loss += loss_func(yhatb, yb)\n",
        "            # nv = number of validation batch\n",
        "            nv = len(valid_ds)/bs\n",
        "            print(f'epoch={e}, valid_loss={tot_loss/nv}, valid_acc={tot_acc/nv}')            \n",
        "    return tot_loss/nv, tot_acc/nv\n",
        "    \n",
        "    "
      ],
      "execution_count": 0,
      "outputs": []
    },
    {
      "cell_type": "markdown",
      "metadata": {
        "id": "p-oIqV4HjmD7",
        "colab_type": "text"
      },
      "source": [
        "ลองรัน fit ให้เทรนโมเดลดู"
      ]
    },
    {
      "cell_type": "code",
      "metadata": {
        "id": "zai8cQufdHyb",
        "colab_type": "code",
        "outputId": "ae83fa06-d4f1-4082-9d70-e420f603f117",
        "colab": {
          "base_uri": "https://localhost:8080/",
          "height": 208
        }
      },
      "source": [
        "fit(epoch, model, loss_func, optim, databunch)"
      ],
      "execution_count": 20,
      "outputs": [
        {
          "output_type": "stream",
          "text": [
            "epoch=0, valid_loss=0.208685040473938, valid_acc=0.9437999725341797\n",
            "epoch=1, valid_loss=0.15307050943374634, valid_acc=0.9610999822616577\n",
            "epoch=2, valid_loss=0.12878309190273285, valid_acc=0.96670001745224\n",
            "epoch=3, valid_loss=0.11638618260622025, valid_acc=0.9692000150680542\n",
            "epoch=4, valid_loss=0.10909992456436157, valid_acc=0.9714999794960022\n",
            "epoch=5, valid_loss=0.1051497533917427, valid_acc=0.972100019454956\n",
            "epoch=6, valid_loss=0.10169566422700882, valid_acc=0.9728000164031982\n",
            "epoch=7, valid_loss=0.09971807897090912, valid_acc=0.9736999869346619\n",
            "epoch=8, valid_loss=0.0984010100364685, valid_acc=0.9739999771118164\n",
            "epoch=9, valid_loss=0.09754784405231476, valid_acc=0.9747999906539917\n"
          ],
          "name": "stdout"
        },
        {
          "output_type": "execute_result",
          "data": {
            "text/plain": [
              "(tensor(0.0975), tensor(0.9748))"
            ]
          },
          "metadata": {
            "tags": []
          },
          "execution_count": 20
        }
      ]
    },
    {
      "cell_type": "markdown",
      "metadata": {
        "id": "uqB8GnoOhphg",
        "colab_type": "text"
      },
      "source": [
        "# 4. Learner"
      ]
    },
    {
      "cell_type": "markdown",
      "metadata": {
        "id": "ix24Z_uvjqcp",
        "colab_type": "text"
      },
      "source": [
        "ใน Training Loop หรือฟังก์ชัน `fit()` จะเหลือ Parameter ที่ใช้ในการเทรน ดังนี้\n",
        "\n",
        "> `fit(epoch, model, loss_func, optim, databunch)`\n",
        "\n",
        "ขั้นต่อมา เนื่องจาก model, loss_func, optim และ databunch จะเป็นสิ่งที่ทำงานร่วมกันตลอด เราจะ Refactor สร้าง Class ใหม่ ชื่อว่า Learner มาเป็น Wrapper Class ไว้ จะได้มองเป็น Unit เดียวกัน เวลาจัดการก็จัดการด้วยวิธีคล้าย ๆ กัน พร้อม ๆ กัน เพื่อให้โค้ด Clean มากขึ้น\n",
        "\n",
        "จะได้ Training Loop ใหม่ เป็น\n",
        "\n",
        "> `fit(epoch, learner)`"
      ]
    },
    {
      "cell_type": "code",
      "metadata": {
        "id": "xXwrxHGFhqJe",
        "colab_type": "code",
        "colab": {}
      },
      "source": [
        "class Learner():\n",
        "    def __init__(self, model, optim, loss_func, databunch):\n",
        "        self.model, self.optim, self.loss_func, self.databunch = model, optim, loss_func, databunch\n"
      ],
      "execution_count": 0,
      "outputs": []
    },
    {
      "cell_type": "markdown",
      "metadata": {
        "id": "b-AbniFzk63T",
        "colab_type": "text"
      },
      "source": [
        "สร้าง Learner ขึ้นมาจาก model, optim, loss_func และ databunch ที่เราเตรียมไว้ก่อนหน้า "
      ]
    },
    {
      "cell_type": "code",
      "metadata": {
        "id": "bQQzrGjNhqR2",
        "colab_type": "code",
        "colab": {}
      },
      "source": [
        "learner = Learner(model, optim, loss_func, databunch)"
      ],
      "execution_count": 0,
      "outputs": []
    },
    {
      "cell_type": "markdown",
      "metadata": {
        "id": "EAXO8ZzsjURJ",
        "colab_type": "text"
      },
      "source": [
        "เราจะได้ fit เวอร์ชัน 2 ที่ Clean ขึ้น รับ Parameter แค่ 2 ตัว"
      ]
    },
    {
      "cell_type": "code",
      "metadata": {
        "id": "A9tw554Mijxi",
        "colab_type": "code",
        "colab": {}
      },
      "source": [
        "def fit2(epoch, learner):\n",
        "    # e = epoch number\n",
        "    for e in range(epoch):\n",
        "\n",
        "        # Set Model in Train Mode\n",
        "        learner.model.train()\n",
        "\n",
        "        for xb, yb in learner.databunch.train_dl:\n",
        "            yhatb = learner.model(xb)\n",
        "            loss = learner.loss_func(yhatb, yb)\n",
        "            loss.backward()\n",
        "            learner.optim.step()\n",
        "            learner.optim.zero_grad()\n",
        "\n",
        "        # Set Model in Evaluation Mode\n",
        "        learner.model.eval()\n",
        "\n",
        "        # Metrics\n",
        "        with torch.no_grad():\n",
        "            # tot_loss = total loss, tot_acc = total accuracy\n",
        "            tot_loss, tot_acc = 0., 0.\n",
        "            for xb, yb in learner.databunch.valid_dl:\n",
        "                yhatb = learner.model(xb)\n",
        "                tot_acc += accuracy(yhatb, yb)\n",
        "                tot_loss += learner.loss_func(yhatb, yb)\n",
        "            # nv = number of validation batch\n",
        "            nv = len(learner.databunch.valid_ds)/bs\n",
        "            print(f'epoch={e}, valid_loss={tot_loss/nv}, valid_acc={tot_acc/nv}')            \n",
        "    return tot_loss/nv, tot_acc/nv\n",
        "    \n",
        "    "
      ],
      "execution_count": 0,
      "outputs": []
    },
    {
      "cell_type": "markdown",
      "metadata": {
        "id": "vyhjHXuvjPPf",
        "colab_type": "text"
      },
      "source": [
        "ลองรัน fit เวอร์ชัน 2"
      ]
    },
    {
      "cell_type": "code",
      "metadata": {
        "id": "lj2yjFqMikDK",
        "colab_type": "code",
        "outputId": "eb5845bf-28ad-4aee-bea9-068d222b9e0d",
        "colab": {
          "base_uri": "https://localhost:8080/",
          "height": 208
        }
      },
      "source": [
        "fit2(epoch, learner)"
      ],
      "execution_count": 24,
      "outputs": [
        {
          "output_type": "stream",
          "text": [
            "epoch=0, valid_loss=0.0979912206530571, valid_acc=0.9751999974250793\n",
            "epoch=1, valid_loss=0.09803274273872375, valid_acc=0.9749000072479248\n",
            "epoch=2, valid_loss=0.09667082130908966, valid_acc=0.9750000238418579\n",
            "epoch=3, valid_loss=0.09711616486310959, valid_acc=0.9747999906539917\n",
            "epoch=4, valid_loss=0.097819484770298, valid_acc=0.9743000268936157\n",
            "epoch=5, valid_loss=0.09803903847932816, valid_acc=0.9746999740600586\n",
            "epoch=6, valid_loss=0.09840057045221329, valid_acc=0.9749000072479248\n",
            "epoch=7, valid_loss=0.09780629724264145, valid_acc=0.9749000072479248\n",
            "epoch=8, valid_loss=0.098328597843647, valid_acc=0.9750000238418579\n",
            "epoch=9, valid_loss=0.098939448595047, valid_acc=0.9751999974250793\n"
          ],
          "name": "stdout"
        },
        {
          "output_type": "execute_result",
          "data": {
            "text/plain": [
              "(tensor(0.0989), tensor(0.9752))"
            ]
          },
          "metadata": {
            "tags": []
          },
          "execution_count": 24
        }
      ]
    },
    {
      "cell_type": "markdown",
      "metadata": {
        "id": "7pXH9qAYDp56",
        "colab_type": "text"
      },
      "source": [
        "# Credit"
      ]
    },
    {
      "cell_type": "markdown",
      "metadata": {
        "id": "UDifVZroOotx",
        "colab_type": "text"
      },
      "source": [
        "* https://course.fast.ai/videos/?lesson=9\n",
        "* http://yann.lecun.com/exdb/mnist/"
      ]
    },
    {
      "cell_type": "code",
      "metadata": {
        "id": "an9nkiVCOpFN",
        "colab_type": "code",
        "colab": {}
      },
      "source": [
        ""
      ],
      "execution_count": 0,
      "outputs": []
    }
  ]
}