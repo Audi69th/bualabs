{
  "nbformat": 4,
  "nbformat_minor": 0,
  "metadata": {
    "colab": {
      "name": "16h-callbackhandler.ipynb",
      "provenance": []
    },
    "kernelspec": {
      "name": "python3",
      "display_name": "Python 3"
    }
  },
  "cells": [
    {
      "cell_type": "markdown",
      "metadata": {
        "id": "NMzZLxiL8U-E",
        "colab_type": "text"
      },
      "source": [
        "จาก ep ก่อน ๆ เราจะได้ Training Loop หลัก ๆ เป็นดังนี้ (ไม่รวม Metrics) \n",
        "\n",
        "```\n",
        "    for e in range(epoch):\n",
        "        for xb, yb in train_dl:\n",
        "            yhatb = model(xb)\n",
        "            loss = loss_func(yhatb, yb)\n",
        "            loss.backward()\n",
        "            optim.step()\n",
        "            optim.zero_grad()\n",
        "```\n",
        "\n",
        "ถ้าเราต้องการเพิ่มเติม Logic เช่น Early Stopping, Learning Rate Annealing, BatchNorm เราจะต้องแก้โค้ดนี้ แทรกตามบรรทัดต่าง ๆ เช่น ก่อนเริ่มเทรน,่่่ก่อนเริ่ม Epoch, ก่อนอัพเดท Weight, หลังจากจบ 1 Epoch, หลังจากเทรนจบ, etc.\n",
        "\n",
        "ข้อเสียของการแทรกโค้ดแบบนี้ คือ ทำให้โค้ดใน Loop นี้ก็จะบวมขึ้นเรื่อย ๆ ส่งผลให้มีปัญหาในการ Maintain \n",
        "\n",
        "ทางแก้ก็คือ เราจะแทรกโค้ดไว้ก่อนเลยในทุกจุดที่เป็นไปได้ เป็นการ Call Function ภายนอก ที่ตั้งชื่อตาม Event ต่าง ๆ ของ Training Loop เรียกว่า [Callback](https://www.bualabs.com/archives/2238/what-is-callback-function-python-ep-6/) ถ้าใครอยากให้ Execute โค้ด ตรงตำแหน่งไหน ก็ตั้งชื่อฟังก์ชันให้ตรงกับชื่อ Event แล้วพาสมาให้กับ Training Loop \n",
        "\n",
        "เราจะได้ Training Loop ใหม่เป็นแบบนี้\n",
        "\n",
        "```\n",
        "    cb.begin_fit()\n",
        "    for e in range(epoch):\n",
        "        cb.begin_epoch()\n",
        "        for xb, yb in train_dl:\n",
        "            cb.begin_batch()\n",
        "            yhatb = model(xb)\n",
        "            loss = loss_func(yhatb, yb)\n",
        "            cb.after_loss()\n",
        "            loss.backward()\n",
        "            cb.after_backward()\n",
        "            optim.step()\n",
        "            cb.after_step()\n",
        "            optim.zero_grad()\n",
        "        cb.after_epoch()\n",
        "    cb.after_fit()\n",
        "\n",
        "```\n",
        "\n",
        "เนื่องจากการเทรนหนึ่งครั้ง อาจจะมีหลาย Callback เราจึงสร้าง cb CallbackHandler ขึ้นมาจัดการรวบรวม และวน Loop Call ไปยัง Callback แต่ละตัวที่ได้รับ ตามลำดับที่กำหนดอีกต่อหนึ่ง"
      ]
    },
    {
      "cell_type": "code",
      "metadata": {
        "id": "RHD8PAPq8lNT",
        "colab_type": "code",
        "colab": {}
      },
      "source": [
        ""
      ],
      "execution_count": 0,
      "outputs": []
    },
    {
      "cell_type": "code",
      "metadata": {
        "id": "Bd-glLJy8lWI",
        "colab_type": "code",
        "colab": {}
      },
      "source": [
        ""
      ],
      "execution_count": 0,
      "outputs": []
    },
    {
      "cell_type": "code",
      "metadata": {
        "id": "o9EbSM4m8lef",
        "colab_type": "code",
        "colab": {}
      },
      "source": [
        ""
      ],
      "execution_count": 0,
      "outputs": []
    },
    {
      "cell_type": "code",
      "metadata": {
        "id": "WSpffXGM8lm2",
        "colab_type": "code",
        "colab": {}
      },
      "source": [
        ""
      ],
      "execution_count": 0,
      "outputs": []
    },
    {
      "cell_type": "code",
      "metadata": {
        "id": "4wumy2KQ8lvb",
        "colab_type": "code",
        "colab": {}
      },
      "source": [
        ""
      ],
      "execution_count": 0,
      "outputs": []
    },
    {
      "cell_type": "code",
      "metadata": {
        "id": "Wk6PmyxD8l4B",
        "colab_type": "code",
        "colab": {}
      },
      "source": [
        ""
      ],
      "execution_count": 0,
      "outputs": []
    },
    {
      "cell_type": "markdown",
      "metadata": {
        "id": "biC1Fh0y8mUT",
        "colab_type": "text"
      },
      "source": [
        "# Credit"
      ]
    },
    {
      "cell_type": "markdown",
      "metadata": {
        "id": "tn2gKZuk8mdj",
        "colab_type": "text"
      },
      "source": [
        "* https://course.fast.ai/videos/?lesson=9"
      ]
    },
    {
      "cell_type": "code",
      "metadata": {
        "id": "IKLgbG498m1g",
        "colab_type": "code",
        "colab": {}
      },
      "source": [
        ""
      ],
      "execution_count": 0,
      "outputs": []
    }
  ]
}