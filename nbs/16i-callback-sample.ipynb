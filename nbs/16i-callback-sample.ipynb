{
  "nbformat": 4,
  "nbformat_minor": 0,
  "metadata": {
    "colab": {
      "name": "16i-callback-sample.ipynb",
      "provenance": []
    },
    "kernelspec": {
      "name": "python3",
      "display_name": "Python 3"
    }
  },
  "cells": [
    {
      "cell_type": "markdown",
      "metadata": {
        "id": "LmtceCFGGajO",
        "colab_type": "text"
      },
      "source": [
        "เราสามารถประยุกต์ใช้ Callback ทำงานได้หลากหลาย เนื่องจากเราจะรู้ถึง Event ต่าง ๆ ที่เกิดขึ้นภายใน Training Loop ทุกขั้นตอน และ สามารถเข้าถึงข้อมูล Model, Runner, DataBunch, Loss Function, etc. ได้ทั้งหมด \n",
        "\n",
        "เรามาดู[ตัวอย่างการเขียน Callback ทำงานต่าง ๆ เช่น คำนวน Metrics, ย้ายข้อมูลขึ้น CUDA, Learning Rate Annealing, etc. เริ่มที่หัวข้อ 6](#6.-Callbacks)\n",
        "\n",
        "แต่ Callback ก็มีข้อจำกัดอยู่ คือ เราไม่สามารถเข้าถึง Layer ต่าง ๆ หรือ Event ภายในโมเดลได้ เนื่องจากโมเดลที่เราใช้เป็นการเรียกใช้ API ของ PyTorch อีกต่อหนึ่ง ในกรณีที่เราต้องการเข้าถึงภายในโมเดล PyTorch ก็มี Callback ให้เราใช้เหมือนกัน เรียกว่า Hook จะอธิบายต่อไป"
      ]
    },
    {
      "cell_type": "markdown",
      "metadata": {
        "id": "3drCJqK97wZ5",
        "colab_type": "text"
      },
      "source": [
        "# 0. Magic"
      ]
    },
    {
      "cell_type": "code",
      "metadata": {
        "id": "As6QTNhIo7LC",
        "colab_type": "code",
        "colab": {}
      },
      "source": [
        "%load_ext autoreload\n",
        "%autoreload 2\n",
        "%matplotlib inline"
      ],
      "execution_count": 0,
      "outputs": []
    },
    {
      "cell_type": "markdown",
      "metadata": {
        "id": "aJdvUE9d7y7L",
        "colab_type": "text"
      },
      "source": [
        "# 1. Import"
      ]
    },
    {
      "cell_type": "code",
      "metadata": {
        "id": "M0k1vCN_7zFe",
        "colab_type": "code",
        "colab": {}
      },
      "source": [
        "import torch\n",
        "from torch import tensor\n",
        "from torch.nn import *\n",
        "import torch.nn.functional as F\n",
        "from torch.utils.data import *\n",
        "from fastai import datasets\n",
        "from fastai.metrics import accuracy\n",
        "import pickle, gzip, math, torch, re\n",
        "from IPython.core.debugger import set_trace\n",
        "import matplotlib.pyplot as plt"
      ],
      "execution_count": 0,
      "outputs": []
    },
    {
      "cell_type": "markdown",
      "metadata": {
        "id": "lYLQCdBq7zNn",
        "colab_type": "text"
      },
      "source": [
        "# 2. Data"
      ]
    },
    {
      "cell_type": "code",
      "metadata": {
        "id": "t-IMKGED7zmC",
        "colab_type": "code",
        "colab": {}
      },
      "source": [
        "class Dataset(Dataset):\n",
        "    def __init__(self, x, y):\n",
        "        self.x, self.y = x, y\n",
        "    def __len__(self):\n",
        "        return len(self.x)\n",
        "    def __getitem__(self, i):\n",
        "        return self.x[i], self.y[i]"
      ],
      "execution_count": 0,
      "outputs": []
    },
    {
      "cell_type": "code",
      "metadata": {
        "id": "fiPq9nOu8V-y",
        "colab_type": "code",
        "colab": {}
      },
      "source": [
        "MNIST_URL='http://deeplearning.net/data/mnist/mnist.pkl'"
      ],
      "execution_count": 0,
      "outputs": []
    },
    {
      "cell_type": "code",
      "metadata": {
        "id": "j8Jl_Ekx7zVi",
        "colab_type": "code",
        "colab": {}
      },
      "source": [
        "def get_data():\n",
        "    path = datasets.download_data(MNIST_URL, ext='.gz')\n",
        "    with gzip.open(path, 'rb') as f:\n",
        "        ((x_train, y_train), (x_valid, y_valid), _) = pickle.load(f, encoding='latin-1')\n",
        "    return map(tensor, (x_train, y_train, x_valid, y_valid))"
      ],
      "execution_count": 0,
      "outputs": []
    },
    {
      "cell_type": "code",
      "metadata": {
        "id": "LzugVJ09eCrk",
        "colab_type": "code",
        "colab": {}
      },
      "source": [
        "x_train, y_train, x_valid, y_valid = get_data()"
      ],
      "execution_count": 0,
      "outputs": []
    },
    {
      "cell_type": "code",
      "metadata": {
        "id": "1d9ixSpfgUeS",
        "colab_type": "code",
        "colab": {}
      },
      "source": [
        "def normalize(x, m, s): \n",
        "    return (x-m)/s"
      ],
      "execution_count": 0,
      "outputs": []
    },
    {
      "cell_type": "code",
      "metadata": {
        "id": "lrGYLaZU7age",
        "colab_type": "code",
        "colab": {}
      },
      "source": [
        "from typing import *\n",
        "\n",
        "def listify(o):\n",
        "    if o is None: return []\n",
        "    if isinstance(o, list): return o\n",
        "    if isinstance(o, str): return [o]\n",
        "    if isinstance(o, Iterable): return list(o)\n",
        "    return [o]"
      ],
      "execution_count": 0,
      "outputs": []
    },
    {
      "cell_type": "code",
      "metadata": {
        "id": "ykdiURV28_se",
        "colab_type": "code",
        "colab": {}
      },
      "source": [
        "_camel_re1 = re.compile('(.)([A-Z][a-z]+)')\n",
        "_camel_re2 = re.compile('([a-z0-9])([A-Z])')\n",
        "\n",
        "def camel2snake(name):\n",
        "    s1 = re.sub(_camel_re1, r'\\1_\\2', name)\n",
        "    return re.sub(_camel_re2, r'\\1_\\2', s1).lower()   "
      ],
      "execution_count": 0,
      "outputs": []
    },
    {
      "cell_type": "code",
      "metadata": {
        "id": "IEtfU8TjgO-t",
        "colab_type": "code",
        "colab": {}
      },
      "source": [
        "train_mean, train_std = x_train.mean(), x_train.std()\n",
        "x_train = normalize(x_train, train_mean, train_std)\n",
        "x_valid = normalize(x_valid, train_mean, train_std)"
      ],
      "execution_count": 0,
      "outputs": []
    },
    {
      "cell_type": "code",
      "metadata": {
        "id": "lwr_S24teD1-",
        "colab_type": "code",
        "colab": {}
      },
      "source": [
        "nh, bs = 100, 32\n",
        "n, m = x_train.shape\n",
        "c = (y_train.max()+1).numpy()\n",
        "loss_func = F.cross_entropy"
      ],
      "execution_count": 0,
      "outputs": []
    },
    {
      "cell_type": "code",
      "metadata": {
        "id": "lxDyNxD07zeH",
        "colab_type": "code",
        "colab": {}
      },
      "source": [
        "train_ds, valid_ds = Dataset(x_train, y_train), Dataset(x_valid, y_valid)\n",
        "train_dl, valid_dl = DataLoader(train_ds, bs), DataLoader(valid_ds, bs)"
      ],
      "execution_count": 0,
      "outputs": []
    },
    {
      "cell_type": "markdown",
      "metadata": {
        "id": "kWKmfCFVLOmn",
        "colab_type": "text"
      },
      "source": [
        "# 3. DataBunch"
      ]
    },
    {
      "cell_type": "code",
      "metadata": {
        "id": "2B-9fQQJ-8RS",
        "colab_type": "code",
        "colab": {}
      },
      "source": [
        "class DataBunch():\n",
        "    def __init__(self, train_dl, valid_dl, c=None):\n",
        "        self.train_dl,self.valid_dl,self.c = train_dl,valid_dl,c\n",
        "\n",
        "    @property\n",
        "    def train_ds(self): return self.train_dl.dataset\n",
        "\n",
        "    @property\n",
        "    def valid_ds(self): return self.valid_dl.dataset"
      ],
      "execution_count": 0,
      "outputs": []
    },
    {
      "cell_type": "code",
      "metadata": {
        "id": "Z3OzWeXWBzLl",
        "colab_type": "code",
        "colab": {}
      },
      "source": [
        "data = DataBunch(train_dl, valid_dl, c)"
      ],
      "execution_count": 0,
      "outputs": []
    },
    {
      "cell_type": "markdown",
      "metadata": {
        "id": "o9EbSM4m8lef",
        "colab_type": "text"
      },
      "source": [
        "# 4. Model"
      ]
    },
    {
      "cell_type": "code",
      "metadata": {
        "id": "CtoT7A2DggGz",
        "colab_type": "code",
        "colab": {}
      },
      "source": [
        "lr = 0.03\n",
        "epoch = 10\n",
        "nh = 50"
      ],
      "execution_count": 0,
      "outputs": []
    },
    {
      "cell_type": "code",
      "metadata": {
        "id": "NBp4jzQoeWLe",
        "colab_type": "code",
        "colab": {}
      },
      "source": [
        "def get_model():\n",
        "    # loss function\n",
        "    loss_func = F.cross_entropy\n",
        "    model = Sequential(Linear(m, nh), ReLU(), Linear(nh,c))\n",
        "    return model, loss_func"
      ],
      "execution_count": 0,
      "outputs": []
    },
    {
      "cell_type": "code",
      "metadata": {
        "id": "xXwrxHGFhqJe",
        "colab_type": "code",
        "colab": {}
      },
      "source": [
        "class Learner():\n",
        "    def __init__(self, model, opt, loss_func, data):\n",
        "        self.model, self.opt, self.loss_func, self.data = model, opt, loss_func, data\n"
      ],
      "execution_count": 0,
      "outputs": []
    },
    {
      "cell_type": "markdown",
      "metadata": {
        "id": "5p_H1kWNd9ab",
        "colab_type": "text"
      },
      "source": [
        "# 5. Training Loop"
      ]
    },
    {
      "cell_type": "markdown",
      "metadata": {
        "id": "5yFdOKNfgbVB",
        "colab_type": "text"
      },
      "source": [
        "Training Loop ที่รองรับ Callback"
      ]
    },
    {
      "cell_type": "code",
      "metadata": {
        "id": "tp3wybPiGylV",
        "colab_type": "code",
        "colab": {}
      },
      "source": [
        "class Runner():\n",
        "    def __init__(self, cbs=None, cb_funcs=None):\n",
        "        cbs = listify(cbs)\n",
        "        for cbf in listify(cb_funcs):\n",
        "            cb = cbf()\n",
        "            setattr(self, cb.name, cb)\n",
        "            cbs.append(cb)\n",
        "        self.stop, self.cbs = False, [TrainEvalCallback()]+cbs\n",
        "\n",
        "    @property\n",
        "    def opt(self):          return self.learn.opt\n",
        "    @property\n",
        "    def model(self):        return self.learn.model\n",
        "    @property\n",
        "    def loss_func(self):    return self.learn.loss_func\n",
        "    @property\n",
        "    def data(self):         return self.learn.data\n",
        "\n",
        "    def one_batch(self, xb, yb):\n",
        "        try: \n",
        "            self.xb, self.yb = xb, yb\n",
        "            self('begin_batch')\n",
        "            self.pred = self.model(xb)\n",
        "            self('after_pred')\n",
        "            self.loss = self.loss_func(self.pred, yb)\n",
        "            self('after_loss')\n",
        "            if not self.in_train: return\n",
        "            self.loss.backward()\n",
        "            self('after_backward')\n",
        "            self.opt.step()\n",
        "            self('after_step')\n",
        "            self.opt.zero_grad()\n",
        "        except CancelBatchException: self('after_cancel_batch')\n",
        "        finally: self('after_batch')\n",
        "    \n",
        "    def all_batches(self, dl):\n",
        "        self.iters = len(dl)\n",
        "        try:\n",
        "            for xb, yb in dl:\n",
        "                self.one_batch(xb, yb)\n",
        "        except CancelEpochException: self('after_cancel_epoch')\n",
        "    \n",
        "    def fit(self, epochs, learn):\n",
        "        self.epochs, self.learn, self.loss = epochs, learn, tensor(0.)\n",
        "\n",
        "        try:\n",
        "            for cb in self.cbs: cb.set_runner(self)\n",
        "            self('begin_fit')\n",
        "            for epoch in range(epochs):\n",
        "                self.epoch = epoch\n",
        "                if not self('begin_epoch'): self.all_batches(self.data.train_dl)\n",
        "\n",
        "                with torch.no_grad():\n",
        "                    if not self('begin_validate'): self.all_batches(self.data.valid_dl)\n",
        "                self('after_epoch')\n",
        "        except CancelTrainException: self('after_cancel_train')\n",
        "        finally: \n",
        "            self('after_fit')\n",
        "            self.train = None\n",
        "\n",
        "    def __call__(self, cb_name):\n",
        "        # return True = Cancel, return False = Continue (Default)\n",
        "        res = False\n",
        "        # check if at least one True return True\n",
        "        for cb in sorted(self.cbs, key=lambda x: x._order): res = res or cb(cb_name)\n",
        "        return res        "
      ],
      "execution_count": 0,
      "outputs": []
    },
    {
      "cell_type": "code",
      "metadata": {
        "id": "G0O9bxvAG5BW",
        "colab_type": "code",
        "colab": {}
      },
      "source": [
        "class Callback():\n",
        "    _order = 0\n",
        "    def set_runner(self, run): self.run = run\n",
        "    def __getattr__(self, k): return getattr(self.run, k)\n",
        "\n",
        "    @property\n",
        "    def name(self):\n",
        "        name = re.sub(r'Callback$', '', self.__class__.__name__)\n",
        "        return camel2snake(name or 'callback')\n",
        "    \n",
        "    def __call__(self, cb_name):\n",
        "        f = getattr(self, cb_name, None)\n",
        "        if f and f(): return True\n",
        "        return False\n",
        "\n",
        "class TrainEvalCallback(Callback):\n",
        "    def begin_fit(self):\n",
        "        self.run.n_epochs = 0.\n",
        "        self.run.n_iter = 0\n",
        "    \n",
        "    def begin_epoch(self):\n",
        "        self.run.n_epochs = self.epoch  \n",
        "        self.model.train()\n",
        "        self.run.in_train=True\n",
        "\n",
        "    def after_batch(self):\n",
        "        if not self.in_train: return\n",
        "        self.run.n_epochs += 1./self.iters\n",
        "        self.run.n_iter += 1\n",
        "\n",
        "    def begin_validate(self):\n",
        "        self.model.eval()\n",
        "        self.run.in_train=False    \n",
        "           \n",
        "class CancelTrainException(Exception): pass\n",
        "class CancelEpochException(Exception): pass\n",
        "class CancelBatchException(Exception): pass"
      ],
      "execution_count": 0,
      "outputs": []
    },
    {
      "cell_type": "markdown",
      "metadata": {
        "id": "U-kacUKlJk6j",
        "colab_type": "text"
      },
      "source": [
        "# 6. Callbacks"
      ]
    },
    {
      "cell_type": "markdown",
      "metadata": {
        "id": "8z0vSM_ItEvM",
        "colab_type": "text"
      },
      "source": [
        "## 6.1 AvgStatsCallback"
      ]
    },
    {
      "cell_type": "markdown",
      "metadata": {
        "id": "dKDri3fGJlx2",
        "colab_type": "text"
      },
      "source": [
        "เริ่มต้นกันที่ AvgStatsCallback เราจะเขียน Callback ที่จะทำหน้าที่คำนวน Metrics หลังจากที่คำนวน Loss ทุกครั้ง (after_loss) สะสมไว้ แล้วหาค่าเฉลี่ย ตอนจบ Epoch (after_epoch) แล้ว Print ออกมา"
      ]
    },
    {
      "cell_type": "code",
      "metadata": {
        "id": "dvtme4ONJmMm",
        "colab_type": "code",
        "colab": {}
      },
      "source": [
        "class AvgStatsCallback(Callback):\n",
        "    def __init__(self, metrics):\n",
        "        self.train_stats, self.valid_stats = AvgStats(metrics, True), AvgStats(metrics, False)\n",
        "    def begin_epoch(self):\n",
        "        self.train_stats.reset()\n",
        "        self.valid_stats.reset()\n",
        "    \n",
        "    def after_loss(self):\n",
        "        stats = self.train_stats if self.in_train else self.valid_stats\n",
        "        with torch.no_grad(): stats.accumulate(self.run)\n",
        "\n",
        "    def after_epoch(self):\n",
        "        print(self.train_stats)\n",
        "        print(self.valid_stats)"
      ],
      "execution_count": 0,
      "outputs": []
    },
    {
      "cell_type": "markdown",
      "metadata": {
        "id": "LMzz4q-WyX1D",
        "colab_type": "text"
      },
      "source": [
        "สร้าง Class ที่เป็น Logic คำนวน"
      ]
    },
    {
      "cell_type": "code",
      "metadata": {
        "id": "9hYq939aJl9y",
        "colab_type": "code",
        "colab": {}
      },
      "source": [
        "class AvgStats():\n",
        "    def __init__(self, metrics, in_train): \n",
        "        self.metrics, self.in_train = listify(metrics), in_train\n",
        "    \n",
        "    def reset(self):\n",
        "        self.tot_loss, self.count = 0., 0\n",
        "        self.tot_mets = [0.] * len(self.metrics)\n",
        "\n",
        "    @property\n",
        "    def all_stats(self): return [self.tot_loss.item()] + self.tot_mets\n",
        "    @property\n",
        "    def avg_stats(self): return [o/self.count for o in self.all_stats]\n",
        "\n",
        "    def __repr__(self):\n",
        "        if not self.count: return \"\"\n",
        "        return f\"{'train' if self.in_train else 'valid'}: {self.avg_stats}\"\n",
        "\n",
        "    def accumulate(self, run):\n",
        "        bn = run.xb.shape[0]\n",
        "        self.tot_loss += run.loss * bn\n",
        "        self.count += bn\n",
        "        \n",
        "        for i, m in enumerate(self.metrics):\n",
        "            self.tot_mets[i] += m(run.pred, run.yb) * bn\n"
      ],
      "execution_count": 0,
      "outputs": []
    },
    {
      "cell_type": "markdown",
      "metadata": {
        "id": "TXWV3lehyhSj",
        "colab_type": "text"
      },
      "source": [
        "ลองเทส AvgStatsCallback โดยใช้ Metric ตัวเดียว ในที่นี้คือ accuracy "
      ]
    },
    {
      "cell_type": "code",
      "metadata": {
        "id": "41J1qFQBgNDB",
        "colab_type": "code",
        "colab": {}
      },
      "source": [
        "model, loss_func = get_model()\n",
        "opt = torch.optim.SGD(model.parameters(), lr=lr)\n",
        "learn = Learner(model, opt, loss_func, data)"
      ],
      "execution_count": 0,
      "outputs": []
    },
    {
      "cell_type": "code",
      "metadata": {
        "id": "f0UvKdyFgabB",
        "colab_type": "code",
        "colab": {}
      },
      "source": [
        "stats = AvgStatsCallback([accuracy])\n",
        "run = Runner(cbs=stats)\n",
        "run.fit(5, learn)"
      ],
      "execution_count": 0,
      "outputs": []
    },
    {
      "cell_type": "code",
      "metadata": {
        "id": "cCLaQTEXgrVN",
        "colab_type": "code",
        "colab": {
          "base_uri": "https://localhost:8080/",
          "height": 34
        },
        "outputId": "e0e9939b-c494-4d2f-9326-348252d175df"
      },
      "source": [
        "loss, acc = stats.valid_stats.avg_stats\n",
        "loss, acc"
      ],
      "execution_count": 32,
      "outputs": [
        {
          "output_type": "execute_result",
          "data": {
            "text/plain": [
              "(0.106433935546875, tensor(0.9683))"
            ]
          },
          "metadata": {
            "tags": []
          },
          "execution_count": 32
        }
      ]
    },
    {
      "cell_type": "markdown",
      "metadata": {
        "id": "F-0Onfk7xtSa",
        "colab_type": "text"
      },
      "source": [
        "## 6.2 ใช้ Partial ช่วยสร้าง Callback"
      ]
    },
    {
      "cell_type": "code",
      "metadata": {
        "id": "C8qUMKtWg9EB",
        "colab_type": "code",
        "colab": {}
      },
      "source": [
        "from functools import partial"
      ],
      "execution_count": 0,
      "outputs": []
    },
    {
      "cell_type": "markdown",
      "metadata": {
        "id": "p0dzq9oyx4tc",
        "colab_type": "text"
      },
      "source": [
        "ถ้าเราใช้ ลองเทส AvgStatsCallback โดยใช้แค่ accuracy บ่อย ๆ เราสามารถใช้ Partial สร้าง Function/Class ใหม่จาก AvgStatsCallback + Accuracy เตรียมไว้ได้เลย"
      ]
    },
    {
      "cell_type": "code",
      "metadata": {
        "id": "zwIi8P10iT--",
        "colab_type": "code",
        "colab": {}
      },
      "source": [
        "acc_cbf = partial(AvgStatsCallback, accuracy)"
      ],
      "execution_count": 0,
      "outputs": []
    },
    {
      "cell_type": "markdown",
      "metadata": {
        "id": "JGu2ipG4zIuO",
        "colab_type": "text"
      },
      "source": [
        "ลองเทส Callback ใหม่ที่สร้างจาก Partial"
      ]
    },
    {
      "cell_type": "code",
      "metadata": {
        "id": "BBrIkNAxiZV7",
        "colab_type": "code",
        "colab": {
          "base_uri": "https://localhost:8080/",
          "height": 187
        },
        "outputId": "deafee68-433d-4a1c-f1e9-216c0c798aca"
      },
      "source": [
        "model, loss_func = get_model()\n",
        "opt = torch.optim.SGD(model.parameters(), lr=lr)\n",
        "learn = Learner(model, opt, loss_func, data)\n",
        "\n",
        "run = Runner(cb_funcs=acc_cbf)\n",
        "run.fit(5, learn)"
      ],
      "execution_count": 67,
      "outputs": [
        {
          "output_type": "stream",
          "text": [
            "train: [0.3390654296875, tensor(0.9030)]\n",
            "valid: [0.2049792724609375, tensor(0.9434)]\n",
            "train: [0.1830030078125, tensor(0.9461)]\n",
            "valid: [0.152961181640625, tensor(0.9571)]\n",
            "train: [0.13881951171875, tensor(0.9596)]\n",
            "valid: [0.128286376953125, tensor(0.9647)]\n",
            "train: [0.112145625, tensor(0.9674)]\n",
            "valid: [0.1140303955078125, tensor(0.9681)]\n",
            "train: [0.09396046875, tensor(0.9730)]\n",
            "valid: [0.1055826416015625, tensor(0.9702)]\n"
          ],
          "name": "stdout"
        }
      ]
    },
    {
      "cell_type": "code",
      "metadata": {
        "id": "AZN_vFPbilqI",
        "colab_type": "code",
        "colab": {
          "base_uri": "https://localhost:8080/",
          "height": 34
        },
        "outputId": "3070f091-5176-4057-e67e-0cf793663035"
      },
      "source": [
        "run.avg_stats.valid_stats.avg_stats"
      ],
      "execution_count": 68,
      "outputs": [
        {
          "output_type": "execute_result",
          "data": {
            "text/plain": [
              "[0.1055826416015625, tensor(0.9702)]"
            ]
          },
          "metadata": {
            "tags": []
          },
          "execution_count": 68
        }
      ]
    },
    {
      "cell_type": "markdown",
      "metadata": {
        "id": "ArRWTAm6tWl0",
        "colab_type": "text"
      },
      "source": [
        "## 6.3 Recorder Callback"
      ]
    },
    {
      "cell_type": "markdown",
      "metadata": {
        "id": "cFPN4gQuteTn",
        "colab_type": "text"
      },
      "source": [
        "Recorder Callback เป็น Callback ที่ทำหน้าที่เก็บ Loss และ Learning Rate ของแต่ละ Batch (after_batch) เอาไว้พล็อตกราฟ เราจะเห็น Learning Rate ที่ไม่คงที่ เป็นการทำ Learning Rate Annealing จะอธิบายต่อไป"
      ]
    },
    {
      "cell_type": "code",
      "metadata": {
        "id": "u5zJVLbeqK8W",
        "colab_type": "code",
        "colab": {}
      },
      "source": [
        "class Recorder(Callback):\n",
        "    def begin_fit(self): self.lrs, self.losses = [], []\n",
        "\n",
        "    def after_batch(self):\n",
        "        if not self.in_train: return\n",
        "        self.lrs.append(self.opt.param_groups[-1]['lr'])\n",
        "        self.losses.append(self.loss.detach().cpu())\n",
        "    \n",
        "    def plot_lr(self): plt.plot(self.lrs)\n",
        "    def plot_loss(self): plt.plot(self.losses)"
      ],
      "execution_count": 0,
      "outputs": []
    },
    {
      "cell_type": "markdown",
      "metadata": {
        "id": "pPpLjMsxt5Nr",
        "colab_type": "text"
      },
      "source": [
        "ลองเทรนใหม่ โดยพาส ทั้ง 2 Callback ใส่ List ไปให้ cb_funcs=[acc_cbf, Recorder]"
      ]
    },
    {
      "cell_type": "code",
      "metadata": {
        "id": "lB4lAHsNremw",
        "colab_type": "code",
        "colab": {
          "base_uri": "https://localhost:8080/",
          "height": 85
        },
        "outputId": "0d2cb9d0-7351-434a-c1fd-c37501c356a3"
      },
      "source": [
        "model, loss_func = get_model()\n",
        "opt = torch.optim.SGD(model.parameters(), lr=lr)\n",
        "learn = Learner(model, opt, loss_func, data)\n",
        "\n",
        "run = Runner(cb_funcs=[acc_cbf, Recorder])\n",
        "run.fit(2, learn)"
      ],
      "execution_count": 64,
      "outputs": [
        {
          "output_type": "stream",
          "text": [
            "train: [0.3346453515625, tensor(0.9066)]\n",
            "valid: [0.2070283935546875, tensor(0.9423)]\n",
            "train: [0.17720134765625, tensor(0.9484)]\n",
            "valid: [0.156389990234375, tensor(0.9585)]\n"
          ],
          "name": "stdout"
        }
      ]
    },
    {
      "cell_type": "markdown",
      "metadata": {
        "id": "31JB5lXkuGhg",
        "colab_type": "text"
      },
      "source": [
        "acc_cbf Callback ก็จะ Print Training Loss+Accuracy และ Validation Loss+Accuracy และเราสามารถสั่งพล็อตกราฟ จาก Recorder Callback ได้ดังด้านล่าง"
      ]
    },
    {
      "cell_type": "code",
      "metadata": {
        "id": "OI2Ap7ntre3m",
        "colab_type": "code",
        "colab": {
          "base_uri": "https://localhost:8080/",
          "height": 269
        },
        "outputId": "a33e9758-934a-4ad5-9936-4ccd892fb9da"
      },
      "source": [
        "run.recorder.plot_lr()"
      ],
      "execution_count": 65,
      "outputs": [
        {
          "output_type": "display_data",
          "data": {
            "image/png": "[encoded data removed]",
            "text/plain": [
              "<Figure size 432x288 with 1 Axes>"
            ]
          },
          "metadata": {
            "tags": []
          }
        }
      ]
    },
    {
      "cell_type": "markdown",
      "metadata": {
        "id": "qj-I5s8ZunIu",
        "colab_type": "text"
      },
      "source": [
        "สังเกตว่า Learning Rate คงที่ตลอด, Loss ลดลงอย่างรวดเร็ว แต่กราฟเหวี่ยงมาก เนื่องจาก [SGD Algorithm](https://www.bualabs.com/archives/631/what-is-gradient-descent-in-deep-learning-what-is-stochastic-gradient-descent-sgd-optimization-ep-1/)"
      ]
    },
    {
      "cell_type": "code",
      "metadata": {
        "id": "7vx4KGWVrfEX",
        "colab_type": "code",
        "colab": {
          "base_uri": "https://localhost:8080/",
          "height": 269
        },
        "outputId": "e7c57ba7-6b8d-4eac-df75-ca402c9828b8"
      },
      "source": [
        "Srun.recorder.plot_loss()"
      ],
      "execution_count": 66,
      "outputs": [
        {
          "output_type": "display_data",
          "data": {
            "image/png": "[encoded data removed]",
            "text/plain": [
              "<Figure size 432x288 with 1 Axes>"
            ]
          },
          "metadata": {
            "tags": []
          }
        }
      ]
    },
    {
      "cell_type": "markdown",
      "metadata": {
        "id": "dV_N1pcIivIt",
        "colab_type": "text"
      },
      "source": [
        "# Credit"
      ]
    },
    {
      "cell_type": "markdown",
      "metadata": {
        "id": "c8k7cjX2jXei",
        "colab_type": "text"
      },
      "source": [
        "* https://course.fast.ai/videos/?lesson=9\n",
        "* http://yann.lecun.com/exdb/mnist/"
      ]
    },
    {
      "cell_type": "code",
      "metadata": {
        "id": "YX_-yO6TjcCB",
        "colab_type": "code",
        "colab": {}
      },
      "source": [
        ""
      ],
      "execution_count": 0,
      "outputs": []
    }
  ]
}