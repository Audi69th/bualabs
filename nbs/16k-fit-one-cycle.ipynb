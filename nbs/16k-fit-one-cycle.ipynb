{
  "nbformat": 4,
  "nbformat_minor": 0,
  "metadata": {
    "colab": {
      "name": "16k-fit-one-cycle.ipynb",
      "provenance": []
    },
    "kernelspec": {
      "name": "python3",
      "display_name": "Python 3"
    }
  },
  "cells": [
    {
      "cell_type": "markdown",
      "metadata": {
        "id": "LmtceCFGGajO",
        "colab_type": "text"
      },
      "source": [
        "หลังจากที่ใน ep ก่อน เราได้ใช้ LR_Find Callback หา Learning Rate ที่ดีที่สุดได้แล้ว แล้วเราจะนำมาใช้อย่างไร Learning Rate ถือว่าเป็นหนึ่งใน Hyperparameter ที่สำคัญที่สุดในการเทรน Machine Learning \n",
        "\n",
        "มีแนวคิดจากหลากหลาย Paper ที่ว่า ในแต่ละ State ของการเทรน Deep Neural Network นั้นต้องการ Hyperparameter ต่างกันไป เช่น ตอนเริ่มเทรน เรายังไม่รู้ว่า Global Minima อยู่ไหน โมเดลจะไปทางไหนดี ไม่ควรรีบร้อนใช้ Learning Rate สูง จะทำให้กระโดดไปผิดทางได้, ช่วงท้ายของการเทรน เราก็ควรลด Learning Rate ลงเพื่อ Fine Tune ไม่ให้โมเดลกระโดดออกมาจากหลุม Global Minima, etc.\n",
        "\n",
        "ดังนั้นเราควรจะ Schedule ทุก Hyperparamter ใน ep นี้เราเริ่มต้นด้วยการ มาดูตัวอย่างการ Schedule Learning Rate ด้วย Callback กัน เริ่มต้นที่[หัวข้อ 6.1 ParamScheduler](#6.1-ParamScheduler)"
      ]
    },
    {
      "cell_type": "markdown",
      "metadata": {
        "id": "3drCJqK97wZ5",
        "colab_type": "text"
      },
      "source": [
        "# 0. Magic"
      ]
    },
    {
      "cell_type": "code",
      "metadata": {
        "id": "As6QTNhIo7LC",
        "colab_type": "code",
        "colab": {}
      },
      "source": [
        "%load_ext autoreload\n",
        "%autoreload 2\n",
        "%matplotlib inline"
      ],
      "execution_count": 0,
      "outputs": []
    },
    {
      "cell_type": "markdown",
      "metadata": {
        "id": "aJdvUE9d7y7L",
        "colab_type": "text"
      },
      "source": [
        "# 1. Import"
      ]
    },
    {
      "cell_type": "code",
      "metadata": {
        "id": "M0k1vCN_7zFe",
        "colab_type": "code",
        "colab": {}
      },
      "source": [
        "import torch\n",
        "from torch import tensor\n",
        "from torch.nn import *\n",
        "import torch.nn.functional as F\n",
        "from torch.utils.data import *\n",
        "from fastai import datasets\n",
        "from fastai.metrics import accuracy\n",
        "from fastai.basic_data import *\n",
        "from fastai.basic_train import *\n",
        "import pickle, gzip, math, torch, re\n",
        "from IPython.core.debugger import set_trace\n",
        "import matplotlib.pyplot as plt\n",
        "from functools import partial"
      ],
      "execution_count": 0,
      "outputs": []
    },
    {
      "cell_type": "markdown",
      "metadata": {
        "id": "lYLQCdBq7zNn",
        "colab_type": "text"
      },
      "source": [
        "# 2. Data"
      ]
    },
    {
      "cell_type": "code",
      "metadata": {
        "id": "MqtAa1OttrhQ",
        "colab_type": "code",
        "colab": {}
      },
      "source": [
        "class Dataset(Dataset):\n",
        "    def __init__(self, x, y):\n",
        "        self.x, self.y = x, y\n",
        "    def __len__(self):\n",
        "        return len(self.x)\n",
        "    def __getitem__(self, i):\n",
        "        return self.x[i], self.y[i]"
      ],
      "execution_count": 0,
      "outputs": []
    },
    {
      "cell_type": "code",
      "metadata": {
        "id": "fiPq9nOu8V-y",
        "colab_type": "code",
        "colab": {}
      },
      "source": [
        "MNIST_URL='http://deeplearning.net/data/mnist/mnist.pkl'"
      ],
      "execution_count": 0,
      "outputs": []
    },
    {
      "cell_type": "code",
      "metadata": {
        "id": "j8Jl_Ekx7zVi",
        "colab_type": "code",
        "colab": {}
      },
      "source": [
        "def get_data():\n",
        "    path = datasets.download_data(MNIST_URL, ext='.gz')\n",
        "    with gzip.open(path, 'rb') as f:\n",
        "        ((x_train, y_train), (x_valid, y_valid), _) = pickle.load(f, encoding='latin-1')\n",
        "    return map(tensor, (x_train, y_train, x_valid, y_valid))"
      ],
      "execution_count": 0,
      "outputs": []
    },
    {
      "cell_type": "code",
      "metadata": {
        "id": "LzugVJ09eCrk",
        "colab_type": "code",
        "colab": {}
      },
      "source": [
        "x_train, y_train, x_valid, y_valid = get_data()"
      ],
      "execution_count": 0,
      "outputs": []
    },
    {
      "cell_type": "code",
      "metadata": {
        "id": "1d9ixSpfgUeS",
        "colab_type": "code",
        "colab": {}
      },
      "source": [
        "def normalize(x, m, s): \n",
        "    return (x-m)/s"
      ],
      "execution_count": 0,
      "outputs": []
    },
    {
      "cell_type": "code",
      "metadata": {
        "id": "lrGYLaZU7age",
        "colab_type": "code",
        "colab": {}
      },
      "source": [
        "from typing import *\n",
        "\n",
        "def listify(o):\n",
        "    if o is None: return []\n",
        "    if isinstance(o, list): return o\n",
        "    if isinstance(o, str): return [o]\n",
        "    if isinstance(o, Iterable): return list(o)\n",
        "    return [o]"
      ],
      "execution_count": 0,
      "outputs": []
    },
    {
      "cell_type": "code",
      "metadata": {
        "id": "ykdiURV28_se",
        "colab_type": "code",
        "colab": {}
      },
      "source": [
        "_camel_re1 = re.compile('(.)([A-Z][a-z]+)')\n",
        "_camel_re2 = re.compile('([a-z0-9])([A-Z])')\n",
        "\n",
        "def camel2snake(name):\n",
        "    s1 = re.sub(_camel_re1, r'\\1_\\2', name)\n",
        "    return re.sub(_camel_re2, r'\\1_\\2', s1).lower()   "
      ],
      "execution_count": 0,
      "outputs": []
    },
    {
      "cell_type": "code",
      "metadata": {
        "id": "IEtfU8TjgO-t",
        "colab_type": "code",
        "colab": {}
      },
      "source": [
        "train_mean, train_std = x_train.mean(), x_train.std()\n",
        "x_train = normalize(x_train, train_mean, train_std)\n",
        "x_valid = normalize(x_valid, train_mean, train_std)"
      ],
      "execution_count": 0,
      "outputs": []
    },
    {
      "cell_type": "code",
      "metadata": {
        "id": "lwr_S24teD1-",
        "colab_type": "code",
        "colab": {}
      },
      "source": [
        "nh, bs = 100, 256\n",
        "n, m = x_train.shape\n",
        "c = (y_train.max()+1).numpy()\n",
        "loss_func = F.cross_entropy"
      ],
      "execution_count": 0,
      "outputs": []
    },
    {
      "cell_type": "code",
      "metadata": {
        "id": "lxDyNxD07zeH",
        "colab_type": "code",
        "colab": {}
      },
      "source": [
        "train_ds, valid_ds = Dataset(x_train, y_train), Dataset(x_valid, y_valid)\n",
        "train_dl, valid_dl = DataLoader(train_ds, bs), DataLoader(valid_ds, bs)"
      ],
      "execution_count": 0,
      "outputs": []
    },
    {
      "cell_type": "markdown",
      "metadata": {
        "id": "kWKmfCFVLOmn",
        "colab_type": "text"
      },
      "source": [
        "# 3. DataBunch"
      ]
    },
    {
      "cell_type": "code",
      "metadata": {
        "id": "Z3OzWeXWBzLl",
        "colab_type": "code",
        "colab": {}
      },
      "source": [
        "data = DataBunch(train_dl, valid_dl)"
      ],
      "execution_count": 0,
      "outputs": []
    },
    {
      "cell_type": "markdown",
      "metadata": {
        "id": "o9EbSM4m8lef",
        "colab_type": "text"
      },
      "source": [
        "# 4. Model"
      ]
    },
    {
      "cell_type": "code",
      "metadata": {
        "id": "CtoT7A2DggGz",
        "colab_type": "code",
        "colab": {}
      },
      "source": [
        "lr = 0.001\n",
        "epoch = 10\n",
        "nh = 32"
      ],
      "execution_count": 0,
      "outputs": []
    },
    {
      "cell_type": "code",
      "metadata": {
        "id": "NBp4jzQoeWLe",
        "colab_type": "code",
        "colab": {}
      },
      "source": [
        "def get_model():\n",
        "    # loss function\n",
        "    loss_func = F.cross_entropy\n",
        "    model = Sequential(Linear(m, nh), ReLU(), Linear(nh,c))\n",
        "    return model, loss_func"
      ],
      "execution_count": 0,
      "outputs": []
    },
    {
      "cell_type": "markdown",
      "metadata": {
        "id": "5p_H1kWNd9ab",
        "colab_type": "text"
      },
      "source": [
        "# 5. Training Loop"
      ]
    },
    {
      "cell_type": "markdown",
      "metadata": {
        "id": "5yFdOKNfgbVB",
        "colab_type": "text"
      },
      "source": [
        "Training Loop ที่รองรับ Callback"
      ]
    },
    {
      "cell_type": "code",
      "metadata": {
        "id": "tp3wybPiGylV",
        "colab_type": "code",
        "colab": {}
      },
      "source": [
        "class Runner():\n",
        "    def __init__(self, cbs=None, cb_funcs=None):\n",
        "        cbs = listify(cbs)\n",
        "        for cbf in listify(cb_funcs):\n",
        "            cb = cbf()\n",
        "            setattr(self, cb.name, cb)\n",
        "            cbs.append(cb)\n",
        "        self.stop, self.cbs = False, [TrainEvalCallback()]+cbs\n",
        "\n",
        "    @property\n",
        "    def opt_func(self):     return self.learn.opt_func\n",
        "    @property\n",
        "    def model(self):        return self.learn.model\n",
        "    @property\n",
        "    def loss_func(self):    return self.learn.loss_func\n",
        "    @property\n",
        "    def data(self):         return self.learn.data\n",
        "\n",
        "    def one_batch(self, xb, yb):\n",
        "        try: \n",
        "            self.xb, self.yb = xb, yb\n",
        "            self('begin_batch')\n",
        "            self.pred = self.model(xb)\n",
        "            self('after_pred')\n",
        "            self.loss = self.loss_func(self.pred, yb)\n",
        "            self('after_loss')\n",
        "            if not self.in_train: return\n",
        "            self.loss.backward()\n",
        "            self('after_backward')\n",
        "            self.opt_func.step()\n",
        "            self('after_step')\n",
        "            self.opt_func.zero_grad()\n",
        "        except CancelBatchException: self('after_cancel_batch')\n",
        "        finally: self('after_batch')\n",
        "    \n",
        "    def all_batches(self, dl):\n",
        "        self.iters = len(dl)\n",
        "        try:\n",
        "            for xb, yb in dl:\n",
        "                self.one_batch(xb, yb)\n",
        "        except CancelEpochException: self('after_cancel_epoch')\n",
        "    \n",
        "    def fit(self, epochs, learn):\n",
        "        self.epochs, self.learn, self.loss = epochs, learn, tensor(0.)\n",
        "\n",
        "        try:\n",
        "            for cb in self.cbs: cb.set_runner(self)\n",
        "            self('begin_fit')\n",
        "            for epoch in range(epochs):\n",
        "                self.epoch = epoch\n",
        "                if not self('begin_epoch'): self.all_batches(self.data.train_dl)\n",
        "\n",
        "                with torch.no_grad():\n",
        "                    if not self('begin_validate'): self.all_batches(self.data.valid_dl)\n",
        "                self('after_epoch')\n",
        "        except CancelTrainException: self('after_cancel_train')\n",
        "        finally: \n",
        "            self('after_fit')\n",
        "            self.train = None\n",
        "\n",
        "    def __call__(self, cb_name):\n",
        "        # return True = Cancel, return False = Continue (Default)\n",
        "        res = False\n",
        "        # check if at least one True return True\n",
        "        for cb in sorted(self.cbs, key=lambda x: x._order): res = res or cb(cb_name)\n",
        "        return res        "
      ],
      "execution_count": 0,
      "outputs": []
    },
    {
      "cell_type": "markdown",
      "metadata": {
        "id": "U-kacUKlJk6j",
        "colab_type": "text"
      },
      "source": [
        "# 6. Callbacks"
      ]
    },
    {
      "cell_type": "code",
      "metadata": {
        "id": "G0O9bxvAG5BW",
        "colab_type": "code",
        "colab": {}
      },
      "source": [
        "class Callback():\n",
        "    _order = 0\n",
        "    def set_runner(self, run): self.run = run\n",
        "    def __getattr__(self, k): return getattr(self.run, k)\n",
        "\n",
        "    @property\n",
        "    def name(self):\n",
        "        name = re.sub(r'Callback$', '', self.__class__.__name__)\n",
        "        return camel2snake(name or 'callback')\n",
        "    \n",
        "    def __call__(self, cb_name):\n",
        "        f = getattr(self, cb_name, None)\n",
        "        if f and f(): return True\n",
        "        return False\n",
        "\n",
        "class TrainEvalCallback(Callback):\n",
        "    def begin_fit(self):\n",
        "        self.run.n_epochs = 0.\n",
        "        self.run.n_iter = 0\n",
        "    \n",
        "    def begin_epoch(self):\n",
        "        self.run.n_epochs = self.epoch  \n",
        "        self.model.train()\n",
        "        self.run.in_train=True\n",
        "\n",
        "    def after_batch(self):\n",
        "        if not self.in_train: return\n",
        "        self.run.n_epochs += 1./self.iters\n",
        "        self.run.n_iter += 1\n",
        "\n",
        "    def begin_validate(self):\n",
        "        self.model.eval()\n",
        "        self.run.in_train=False    \n",
        "           \n",
        "class CancelTrainException(Exception): pass\n",
        "class CancelEpochException(Exception): pass\n",
        "class CancelBatchException(Exception): pass"
      ],
      "execution_count": 0,
      "outputs": []
    },
    {
      "cell_type": "code",
      "metadata": {
        "id": "u5zJVLbeqK8W",
        "colab_type": "code",
        "colab": {}
      },
      "source": [
        "class Recorder(Callback):\n",
        "    def begin_fit(self): \n",
        "        self.lrs = [[] for _ in self.opt_func.param_groups]\n",
        "        self.losses = []\n",
        "\n",
        "    def after_batch(self):\n",
        "        if not self.in_train: return\n",
        "        for pg, lr in zip(self.opt_func.param_groups, self.lrs): lr.append(pg['lr'])\n",
        "        self.losses.append(self.loss.detach().cpu())\n",
        "    \n",
        "    def plot_lr(self, pgid=-1): plt.plot(self.lrs[pgid])\n",
        "    def plot_loss(self, skip_last=0): plt.plot(self.losses[:len(self.losses)-skip_last])\n",
        "    def plot(self, skip_last=0, pgid=-1):\n",
        "        losses = [o.item() for o in self.losses]\n",
        "        lrs = self.lrs[pgid]\n",
        "        n = len(losses)-skip_last\n",
        "        plt.xscale('log')\n",
        "        plt.plot(lrs[:n], losses[:n])"
      ],
      "execution_count": 0,
      "outputs": []
    },
    {
      "cell_type": "markdown",
      "metadata": {
        "id": "ArRWTAm6tWl0",
        "colab_type": "text"
      },
      "source": [
        "## 6.1 ParamScheduler"
      ]
    },
    {
      "cell_type": "markdown",
      "metadata": {
        "id": "dKDri3fGJlx2",
        "colab_type": "text"
      },
      "source": [
        "เราจะสร้าง Callback ที่จะ Schedule Hyperparameter โดยรับชื่อ Hyperparameter และ Schdule Function จากภายนอก\n"
      ]
    },
    {
      "cell_type": "code",
      "metadata": {
        "id": "dvtme4ONJmMm",
        "colab_type": "code",
        "colab": {}
      },
      "source": [
        "class ParamScheduler(Callback):\n",
        "    _order = 1\n",
        "    def __init__(self, pname, sched_funcs): self.pname, self.sched_funcs = pname, sched_funcs\n",
        "\n",
        "    def begin_fit(self): \n",
        "        if not isinstance(self.sched_funcs, (list, tuple)): \n",
        "            self.sched_funcs = [self.sched_funcs] * len(self.opt_func.param_groups)\n",
        "\n",
        "    def set_param(self):\n",
        "        assert len(self.opt_func.param_groups) == len(self.sched_funcs)\n",
        "        for pg, f in zip(self.opt_func.param_groups, self.sched_funcs):\n",
        "            pg[self.pname] = f(self.n_epochs/self.epochs)\n",
        "\n",
        "    def begin_batch(self):\n",
        "        if self.in_train: self.set_param()"
      ],
      "execution_count": 0,
      "outputs": []
    },
    {
      "cell_type": "markdown",
      "metadata": {
        "id": "I36khLdmEIm0",
        "colab_type": "text"
      },
      "source": [
        "เราจะใช้ Decorator มาอำนวยความสะดวก ในการสร้าง Partial Function ของ Schedule Function ใด ๆ ที่รับ start, end, pos ให้เหลือเป็น pos ตัวเดียว พร้อมใช้ส่งให้กับ ParamScheduler.set_param ที่จะเรียก f(self.n_epochs/self.epochs)"
      ]
    },
    {
      "cell_type": "code",
      "metadata": {
        "id": "fv1iNbOp_K5I",
        "colab_type": "code",
        "colab": {}
      },
      "source": [
        "def annealer(f):\n",
        "    def _inner(start, end): return partial(f, start, end)\n",
        "    return _inner "
      ],
      "execution_count": 0,
      "outputs": []
    },
    {
      "cell_type": "markdown",
      "metadata": {
        "id": "d6e8P4_qFPvs",
        "colab_type": "text"
      },
      "source": [
        "ประกาศ Linear Schedule Function ฟังก์ชันกำหนดการแบบเส้นตรง"
      ]
    },
    {
      "cell_type": "code",
      "metadata": {
        "id": "rutKoz1aFObU",
        "colab_type": "code",
        "colab": {}
      },
      "source": [
        "@annealer\n",
        "def sched_lin(start, end, pos): return start + pos * (end - start)"
      ],
      "execution_count": 0,
      "outputs": []
    },
    {
      "cell_type": "markdown",
      "metadata": {
        "id": "WURQ4ipPDgLX",
        "colab_type": "text"
      },
      "source": [
        "ลองเทส sched_lin ช่วงระหว่าง 0 ถึง 5 เทสเรียกด้วย State ต่าง ๆ ของการเทรน"
      ]
    },
    {
      "cell_type": "code",
      "metadata": {
        "id": "eUrnI24L_iJt",
        "colab_type": "code",
        "colab": {
          "base_uri": "https://localhost:8080/",
          "height": 34
        },
        "outputId": "8ca102c8-0e0a-48fe-d8f5-ef15e128b95f"
      },
      "source": [
        "f = sched_lin(0, 5)\n",
        "f(0.1), f(0.3), f(0.6), f(0.9)"
      ],
      "execution_count": 22,
      "outputs": [
        {
          "output_type": "execute_result",
          "data": {
            "text/plain": [
              "(0.5, 1.5, 3.0, 4.5)"
            ]
          },
          "metadata": {
            "tags": []
          },
          "execution_count": 22
        }
      ]
    },
    {
      "cell_type": "markdown",
      "metadata": {
        "id": "aZ9aw08ZD4rP",
        "colab_type": "text"
      },
      "source": [
        "ประกาศ Schedule Function แบบต่าง ๆ เช่น Cosine, No Schedule, Exponential"
      ]
    },
    {
      "cell_type": "code",
      "metadata": {
        "id": "OScLdPMbFVGQ",
        "colab_type": "code",
        "colab": {}
      },
      "source": [
        "@annealer\n",
        "def sched_cos(start, end, pos): return start + (1 + math.cos(math.pi*(1-pos))) * (end-start) / 2\n",
        "\n",
        "@annealer\n",
        "def sched_no(start, end, pos): return start\n",
        "\n",
        "@annealer\n",
        "def sched_exp(start, end, pos): return start * (end/start) ** pos"
      ],
      "execution_count": 0,
      "outputs": []
    },
    {
      "cell_type": "markdown",
      "metadata": {
        "id": "gLdT8BrrEIJG",
        "colab_type": "text"
      },
      "source": [
        "กำหนด Property Tensor.ndim เพื่อใช้ในการพล็อตกราฟด้วย Matplotlib"
      ]
    },
    {
      "cell_type": "code",
      "metadata": {
        "id": "jlx2hdeTFVWc",
        "colab_type": "code",
        "colab": {}
      },
      "source": [
        "torch.Tensor.ndim = property(lambda x: len(x.shape))"
      ],
      "execution_count": 0,
      "outputs": []
    },
    {
      "cell_type": "markdown",
      "metadata": {
        "id": "HR7AvLFWEfYn",
        "colab_type": "text"
      },
      "source": [
        "ลองพล็อตกราฟ ฟังก์ชัน Schedule ทั้ง 4 แบบ"
      ]
    },
    {
      "cell_type": "code",
      "metadata": {
        "id": "Dg_cIlfNFVee",
        "colab_type": "code",
        "colab": {
          "base_uri": "https://localhost:8080/",
          "height": 269
        },
        "outputId": "2271559f-2e72-46ae-e74a-93ae66675741"
      },
      "source": [
        "annealings = \"NO LINEAR COS EXP\".split()\n",
        "\n",
        "a = torch.arange(0, 100)\n",
        "p = torch.linspace(0.01, 1, 100)\n",
        "\n",
        "fns = [sched_no, sched_lin, sched_cos, sched_exp]\n",
        "for fn, t in zip(fns, annealings):\n",
        "    f = fn(1e-2, 3)\n",
        "    plt.plot(a, [f(o) for o in p], label=t)\n",
        "plt.legend();"
      ],
      "execution_count": 25,
      "outputs": [
        {
          "output_type": "display_data",
          "data": {
            "image/png": "[encoded data removed]",
            "text/plain": [
              "<Figure size 432x288 with 1 Axes>"
            ]
          },
          "metadata": {
            "tags": []
          }
        }
      ]
    },
    {
      "cell_type": "markdown",
      "metadata": {
        "id": "9u4mg2bYEoy5",
        "colab_type": "text"
      },
      "source": [
        "ในการใช้งานจริงของ Schedule เรามักจะรวม Schedule แบบต่าง ๆ ในช่วงต่าง ๆ เข้าด้วยกัน เพื่อให้ได้ Curve ที่เราต้องการ"
      ]
    },
    {
      "cell_type": "code",
      "metadata": {
        "id": "yun3oVfCKXHj",
        "colab_type": "code",
        "colab": {}
      },
      "source": [
        "def combine_scheds(pcts, scheds):\n",
        "    assert sum(pcts) == 1.\n",
        "    pcts = tensor([0] + listify(pcts))\n",
        "    assert torch.all(pcts >= 0)\n",
        "    pcts = torch.cumsum(pcts, 0)\n",
        "\n",
        "    def _inner(pos):\n",
        "        idx = (pos >= pcts).nonzero().max()\n",
        "        actual_pos = (pos-pcts[idx]) / (pcts[idx+1]-pcts[idx])\n",
        "        return scheds[idx](actual_pos)\n",
        "    return _inner    "
      ],
      "execution_count": 0,
      "outputs": []
    },
    {
      "cell_type": "markdown",
      "metadata": {
        "id": "G8vAvZ--Enwp",
        "colab_type": "text"
      },
      "source": [
        "เราจะรวม Cosine Schedule Function 2 ช่วงเข้าด้วยกัน ด้วยสัดส่วน 30/70 ให้ได้กราฟของ Learning Rate เริ่มที่ 0.03 แล้วค่อย ๆ เพิ่มขึ้นจนถึงค่า Max = 0.1 แล้วค่อย ๆ ลดลงมาที่ 0.02 แบบ Smooth "
      ]
    },
    {
      "cell_type": "code",
      "metadata": {
        "id": "miyUFwsJMU0_",
        "colab_type": "code",
        "colab": {}
      },
      "source": [
        "sched = combine_scheds([0.3, 0.7], [sched_cos(0.03, 0.1), sched_cos(0.1, 0.02)])"
      ],
      "execution_count": 0,
      "outputs": []
    },
    {
      "cell_type": "code",
      "metadata": {
        "id": "OxpE0eeZMUqc",
        "colab_type": "code",
        "colab": {
          "base_uri": "https://localhost:8080/",
          "height": 286
        },
        "outputId": "fd73f3d3-4a19-4952-bca0-b649fb9890e0"
      },
      "source": [
        "plt.plot(a, [sched(o) for o in p])"
      ],
      "execution_count": 28,
      "outputs": [
        {
          "output_type": "execute_result",
          "data": {
            "text/plain": [
              "[<matplotlib.lines.Line2D at 0x7f08971892e8>]"
            ]
          },
          "metadata": {
            "tags": []
          },
          "execution_count": 28
        },
        {
          "output_type": "display_data",
          "data": {
            "image/png": "[encoded data removed]",
            "text/plain": [
              "<Figure size 432x288 with 1 Axes>"
            ]
          },
          "metadata": {
            "tags": []
          }
        }
      ]
    },
    {
      "cell_type": "markdown",
      "metadata": {
        "id": "KwWPi6H0JaKK",
        "colab_type": "text"
      },
      "source": [
        "เราจะใช้ 2 Callback ในการเทรนครั้งนี้ คือ Record Callback ไว้บันทึก Learning Rate, Loss และ ParamScheduler Callback ไว้ Schedule lr (Learning Rate) ดังกราฟด้านบน"
      ]
    },
    {
      "cell_type": "code",
      "metadata": {
        "id": "eb_lm_zyQKac",
        "colab_type": "code",
        "colab": {}
      },
      "source": [
        "cbfs = [Recorder, partial(ParamScheduler, 'lr', sched)]"
      ],
      "execution_count": 0,
      "outputs": []
    },
    {
      "cell_type": "markdown",
      "metadata": {
        "id": "oCgO5uqZ7TLa",
        "colab_type": "text"
      },
      "source": [
        "# 7. Train"
      ]
    },
    {
      "cell_type": "markdown",
      "metadata": {
        "colab_type": "text",
        "id": "Qm6H1b9V8Jbu"
      },
      "source": [
        "เริ่มต้นเทรน ด้วย SGD ไปแค่ 1 Epoch ก็พอ"
      ]
    },
    {
      "cell_type": "code",
      "metadata": {
        "colab_type": "code",
        "id": "W1tXBrGr8Jbv",
        "colab": {}
      },
      "source": [
        "model, loss_func = get_model()\n",
        "opt = torch.optim.SGD(model.parameters(), lr=lr)\n",
        "learn = Learner(data, model, opt, loss_func=loss_func)\n",
        "\n",
        "run = Runner(cb_funcs=cbfs)\n",
        "run.fit(1, learn)"
      ],
      "execution_count": 0,
      "outputs": []
    },
    {
      "cell_type": "markdown",
      "metadata": {
        "id": "6Wtv7NLWLHjv",
        "colab_type": "text"
      },
      "source": [
        "เทรนเสร็จเรียบร้อย"
      ]
    },
    {
      "cell_type": "markdown",
      "metadata": {
        "id": "FTxndie97Zuj",
        "colab_type": "text"
      },
      "source": [
        "# 8. Interpret"
      ]
    },
    {
      "cell_type": "markdown",
      "metadata": {
        "colab_type": "text",
        "id": "Pa1Pfp0L8Jb1"
      },
      "source": [
        "เราลองพล็อตกราฟ Learning Rate"
      ]
    },
    {
      "cell_type": "code",
      "metadata": {
        "colab_type": "code",
        "outputId": "d0ca0764-84eb-43d7-cfe6-e3d726d43900",
        "id": "rajIwpjF8Jb2",
        "colab": {
          "base_uri": "https://localhost:8080/",
          "height": 269
        }
      },
      "source": [
        "run.recorder.plot_lr()"
      ],
      "execution_count": 31,
      "outputs": [
        {
          "output_type": "display_data",
          "data": {
            "image/png": "[encoded data removed]",
            "text/plain": [
              "<Figure size 432x288 with 1 Axes>"
            ]
          },
          "metadata": {
            "tags": []
          }
        }
      ]
    },
    {
      "cell_type": "markdown",
      "metadata": {
        "colab_type": "text",
        "id": "M6kFsM668Jb8"
      },
      "source": [
        "พล็อตกราฟ Loss"
      ]
    },
    {
      "cell_type": "code",
      "metadata": {
        "colab_type": "code",
        "outputId": "28ab496e-e5ef-4098-ca3a-81239dc98735",
        "id": "Lyaaoryg8Jb9",
        "colab": {
          "base_uri": "https://localhost:8080/",
          "height": 269
        }
      },
      "source": [
        "run.recorder.plot_loss()"
      ],
      "execution_count": 32,
      "outputs": [
        {
          "output_type": "display_data",
          "data": {
            "image/png": "[encoded data removed]",
            "text/plain": [
              "<Figure size 432x288 with 1 Axes>"
            ]
          },
          "metadata": {
            "tags": []
          }
        }
      ]
    },
    {
      "cell_type": "markdown",
      "metadata": {
        "colab_type": "text",
        "id": "kXKZ8_gY8JcE"
      },
      "source": [
        "# Credit"
      ]
    },
    {
      "cell_type": "markdown",
      "metadata": {
        "colab_type": "text",
        "id": "-1sztQ5R8JcF"
      },
      "source": [
        "* https://course.fast.ai/videos/?lesson=10\n",
        "* https://arxiv.org/pdf/1803.09820.pdf\n",
        "* http://yann.lecun.com/exdb/mnist/"
      ]
    },
    {
      "cell_type": "code",
      "metadata": {
        "id": "BqGffrmU2juj",
        "colab_type": "code",
        "colab": {}
      },
      "source": [
        ""
      ],
      "execution_count": 0,
      "outputs": []
    }
  ]
}