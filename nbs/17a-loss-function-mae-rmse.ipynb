{
 "cells": [
  {
   "cell_type": "markdown",
   "metadata": {},
   "source": [
    "Loss Function หรือ Cost Function คือ การคำนวน Error ว่า yhat ที่โมเดลทำนายออกมา ต่างจาก y ของจริง อยู่เท่าไร แล้วหาค่าเฉลี่ย เพื่อที่จะนำมาหา Gradient ของ Loss ขึ้นกับ Weight ต่าง ๆ ด้วย Backpropagation แล้วใช้อัลกอริทึม Gradient Descent เพื่อให้ Loss น้อยลง ในการเทรนรอบถัดไป\n",
    "\n",
    "ในเคสนี้เราจะพูดถึง Loss Function สำหรับงาน Regression (ค่าต่อเนื่อง) ที่เป็นที่นิยมมากที่สุด ได้แก่ MAE, MSE, RMSE\n",
    "\n",
    "yhat และ y สามารถเป็น Vector หรือ เลขตัวเดียวก็ได้"
   ]
  },
  {
   "cell_type": "markdown",
   "metadata": {},
   "source": [
    "# 0. Import"
   ]
  },
  {
   "cell_type": "code",
   "execution_count": 1,
   "metadata": {},
   "outputs": [],
   "source": [
    "import torch\n",
    "from torch import tensor\n",
    "import matplotlib.pyplot as plt"
   ]
  },
  {
   "cell_type": "markdown",
   "metadata": {},
   "source": [
    "# 1. Data"
   ]
  },
  {
   "cell_type": "markdown",
   "metadata": {},
   "source": [
    "เราจะสร้างข้อมูลตัวอย่างขึ้นมา เป็นสมการเส้นตรง ให้ x เป็น เลขตั้งแต่ -50 ถึง 50 เราจะได้เอาไว้พล็อตกราฟ"
   ]
  },
  {
   "cell_type": "code",
   "execution_count": 2,
   "metadata": {
    "scrolled": false
   },
   "outputs": [
    {
     "data": {
      "text/plain": [
       "tensor([-50., -49., -48., -47., -46., -45., -44., -43., -42., -41., -40., -39.,\n",
       "        -38., -37., -36., -35., -34., -33., -32., -31., -30., -29., -28., -27.,\n",
       "        -26., -25., -24., -23., -22., -21., -20., -19., -18., -17., -16., -15.,\n",
       "        -14., -13., -12., -11., -10.,  -9.,  -8.,  -7.,  -6.,  -5.,  -4.,  -3.,\n",
       "         -2.,  -1.,   0.,   1.,   2.,   3.,   4.,   5.,   6.,   7.,   8.,   9.,\n",
       "         10.,  11.,  12.,  13.,  14.,  15.,  16.,  17.,  18.,  19.,  20.,  21.,\n",
       "         22.,  23.,  24.,  25.,  26.,  27.,  28.,  29.,  30.,  31.,  32.,  33.,\n",
       "         34.,  35.,  36.,  37.,  38.,  39.,  40.,  41.,  42.,  43.,  44.,  45.,\n",
       "         46.,  47.,  48.,  49.])"
      ]
     },
     "execution_count": 2,
     "metadata": {},
     "output_type": "execute_result"
    }
   ],
   "source": [
    "x = torch.arange(-50., 50.)\n",
    "x"
   ]
  },
  {
   "cell_type": "markdown",
   "metadata": {},
   "source": [
    "ประกาศฟังก์ชันเส้นตรง f(x) = y = ax + b"
   ]
  },
  {
   "cell_type": "code",
   "execution_count": 3,
   "metadata": {},
   "outputs": [],
   "source": [
    "a = 4\n",
    "b = 2\n",
    "\n",
    "# a = -2\n",
    "# b = 2\n",
    "\n",
    "def f(x):\n",
    "    return (a * x) + b"
   ]
  },
  {
   "cell_type": "markdown",
   "metadata": {},
   "source": [
    "## yhat"
   ]
  },
  {
   "cell_type": "markdown",
   "metadata": {},
   "source": [
    "นำ x ผ่านฟังก์ชัน ได้ค่า yhat"
   ]
  },
  {
   "cell_type": "code",
   "execution_count": 4,
   "metadata": {
    "scrolled": true
   },
   "outputs": [
    {
     "data": {
      "text/plain": [
       "tensor([-198., -194., -190., -186., -182., -178., -174., -170., -166., -162.,\n",
       "        -158., -154., -150., -146., -142., -138., -134., -130., -126., -122.,\n",
       "        -118., -114., -110., -106., -102.,  -98.,  -94.,  -90.,  -86.,  -82.,\n",
       "         -78.,  -74.,  -70.,  -66.,  -62.,  -58.,  -54.,  -50.,  -46.,  -42.,\n",
       "         -38.,  -34.,  -30.,  -26.,  -22.,  -18.,  -14.,  -10.,   -6.,   -2.,\n",
       "           2.,    6.,   10.,   14.,   18.,   22.,   26.,   30.,   34.,   38.,\n",
       "          42.,   46.,   50.,   54.,   58.,   62.,   66.,   70.,   74.,   78.,\n",
       "          82.,   86.,   90.,   94.,   98.,  102.,  106.,  110.,  114.,  118.,\n",
       "         122.,  126.,  130.,  134.,  138.,  142.,  146.,  150.,  154.,  158.,\n",
       "         162.,  166.,  170.,  174.,  178.,  182.,  186.,  190.,  194.,  198.])"
      ]
     },
     "execution_count": 4,
     "metadata": {},
     "output_type": "execute_result"
    }
   ],
   "source": [
    "yhat = f(x)\n",
    "yhat"
   ]
  },
  {
   "cell_type": "markdown",
   "metadata": {},
   "source": [
    "## y"
   ]
  },
  {
   "cell_type": "markdown",
   "metadata": {},
   "source": [
    "ส่วนค่า y ที่เราต้องการจริง ๆ เป็นดังนี้"
   ]
  },
  {
   "cell_type": "code",
   "execution_count": 5,
   "metadata": {},
   "outputs": [
    {
     "data": {
      "text/plain": [
       "tensor([102., 100.,  98.,  96.,  94.,  92.,  90.,  88.,  86.,  84.,  82.,  80.,\n",
       "         78.,  76.,  74.,  72.,  70.,  68.,  66.,  64.,  62.,  60.,  58.,  56.,\n",
       "         54.,  52.,  50.,  48.,  46.,  44.,  42.,  40.,  38.,  36.,  34.,  32.,\n",
       "         30.,  28.,  26.,  24.,  22.,  20.,  18.,  16.,  14.,  12.,  10.,   8.,\n",
       "          6.,   4.,   2.,   0.,  -2.,  -4.,  -6.,  -8., -10., -12., -14., -16.,\n",
       "        -18., -20., -22., -24., -26., -28., -30., -32., -34., -36., -38., -40.,\n",
       "        -42., -44., -46., -48., -50., -52., -54., -56., -58., -60., -62., -64.,\n",
       "        -66., -68., -70., -72., -74., -76., -78., -80., -82., -84., -86., -88.,\n",
       "        -90., -92., -94., -96.])"
      ]
     },
     "execution_count": 5,
     "metadata": {},
     "output_type": "execute_result"
    }
   ],
   "source": [
    "y = tensor([102., 100.,  98.,  96.,  94.,  92.,  90.,  88.,  86.,  84.,  82.,  80.,\n",
    "         78.,  76.,  74.,  72.,  70.,  68.,  66.,  64.,  62.,  60.,  58.,  56.,\n",
    "         54.,  52.,  50.,  48.,  46.,  44.,  42.,  40.,  38.,  36.,  34.,  32.,\n",
    "         30.,  28.,  26.,  24.,  22.,  20.,  18.,  16.,  14.,  12.,  10.,   8.,\n",
    "          6.,   4.,   2.,   0.,  -2.,  -4.,  -6.,  -8., -10., -12., -14., -16.,\n",
    "        -18., -20., -22., -24., -26., -28., -30., -32., -34., -36., -38., -40.,\n",
    "        -42., -44., -46., -48., -50., -52., -54., -56., -58., -60., -62., -64.,\n",
    "        -66., -68., -70., -72., -74., -76., -78., -80., -82., -84., -86., -88.,\n",
    "        -90., -92., -94., -96.])\n",
    "y"
   ]
  },
  {
   "cell_type": "markdown",
   "metadata": {},
   "source": [
    "## เปรียบเทียบ y, yhat"
   ]
  },
  {
   "cell_type": "markdown",
   "metadata": {},
   "source": [
    "นำมาพล็อตกราฟ เปรียบเทียบกัน"
   ]
  },
  {
   "cell_type": "code",
   "execution_count": 6,
   "metadata": {},
   "outputs": [
    {
     "data": {
      "text/plain": [
       "<matplotlib.legend.Legend at 0x7f67d19f1160>"
      ]
     },
     "execution_count": 6,
     "metadata": {},
     "output_type": "execute_result"
    },
    {
     "data": {
      "image/png": "[encoded data removed]",
      "text/plain": [
       "<Figure size 648x648 with 1 Axes>"
      ]
     },
     "metadata": {
      "needs_background": "light"
     },
     "output_type": "display_data"
    }
   ],
   "source": [
    "fig,ax = plt.subplots(figsize=(9, 9))\n",
    "ax.scatter(x, y, label=\"y\")\n",
    "ax.plot(x.numpy(), yhat.numpy(), label=\"yhat\", color='red')\n",
    "ax.legend(loc='upper right')"
   ]
  },
  {
   "cell_type": "markdown",
   "metadata": {},
   "source": [
    "# 2. Mean Abolute Error (MAE) หรือ Least Absolute Deviations (L1 Loss)"
   ]
  },
  {
   "cell_type": "markdown",
   "metadata": {},
   "source": [
    "Mean Abolute Error (MAE) หรือ L1 Loss คือ การคำนวน Error ว่า yhat ต่างจาก y อยู่เท่าไร ด้วยการนำมาลบกันตรง ๆ แล้วหาค่าเฉลี่ย โดยไม่สนใจเครื่องหมาย (Absolute) เพื่อหาขนาดของ Error โดยไม่สนใจทิศทาง"
   ]
  },
  {
   "cell_type": "markdown",
   "metadata": {},
   "source": [
    "## 2.1 สูตร MAE"
   ]
  },
  {
   "cell_type": "markdown",
   "metadata": {},
   "source": [
    "$$\\mathrm{MAE} = \\frac{\\sum_{i=1}^n\\left| y_i-\\hat{y_i}\\right|}{n}$$"
   ]
  },
  {
   "cell_type": "markdown",
   "metadata": {},
   "source": [
    "## 2.2 โค้ด MAE Function"
   ]
  },
  {
   "cell_type": "code",
   "execution_count": 7,
   "metadata": {},
   "outputs": [],
   "source": [
    "def mae(y, yhat):\n",
    "    return (y - yhat).abs().mean()"
   ]
  },
  {
   "cell_type": "markdown",
   "metadata": {},
   "source": [
    "## 2.3 การใช้งาน MAE"
   ]
  },
  {
   "cell_type": "code",
   "execution_count": 8,
   "metadata": {},
   "outputs": [
    {
     "data": {
      "text/plain": [
       "tensor(150.)"
      ]
     },
     "execution_count": 8,
     "metadata": {},
     "output_type": "execute_result"
    }
   ],
   "source": [
    "error = mae(y, yhat)\n",
    "error"
   ]
  },
  {
   "cell_type": "markdown",
   "metadata": {},
   "source": [
    "## 2.4 เปรียบเทียบ Loss"
   ]
  },
  {
   "cell_type": "markdown",
   "metadata": {},
   "source": [
    "แทนที่เราจะหาค่าเฉลี่ย เราจะลองเปรียบเทียบ yhat, y ตัวต่อตัว สังเกต กราฟสีม่วง ความชันจะคงที่ และจุดต่ำสุดจะอยู่ที่ y - yhat = 0 คือ โมเดลทำนาย yhat ออกมาเท่ากับ y พอดี ทำให้ MAE Loss = 0"
   ]
  },
  {
   "cell_type": "code",
   "execution_count": 9,
   "metadata": {
    "scrolled": false
   },
   "outputs": [
    {
     "data": {
      "text/plain": [
       "<matplotlib.legend.Legend at 0x7f67d1948f60>"
      ]
     },
     "execution_count": 9,
     "metadata": {},
     "output_type": "execute_result"
    },
    {
     "data": {
      "image/png": "[encoded data removed]",
      "text/plain": [
       "<Figure size 648x648 with 1 Axes>"
      ]
     },
     "metadata": {
      "needs_background": "light"
     },
     "output_type": "display_data"
    }
   ],
   "source": [
    "fig,ax = plt.subplots(figsize=(9, 9))\n",
    "ax.scatter(x, y, label=\"y\")\n",
    "ax.plot(x.numpy(), yhat.numpy(), label=\"yhat\", color='red')\n",
    "ax.plot(x.numpy(), (y - yhat).abs().numpy(), label=\"MAE\", color='purple')\n",
    "ax.legend(loc='upper right')"
   ]
  },
  {
   "cell_type": "markdown",
   "metadata": {},
   "source": [
    "# 3. Mean Squared Error (MSE) หรือ Least Square Errors (L2 Loss)"
   ]
  },
  {
   "cell_type": "markdown",
   "metadata": {},
   "source": [
    "Mean Squared Error (MSE), Quadratic Loss หรือ L2 Loss คือ การคำนวน Error ว่า yhat ต่างจาก y อยู่เท่าไร ด้วยการนำมาลบกัน แล้วยกกำลังสอง (Squared) เพื่อไม่ต้องสนใจค่าติดลบ (ถ้ามี) แล้วหาค่าเฉลี่ย\n",
    "\n",
    "เนื่องจากมีการยกกำลังสอง ทำให้ค่อนข้าง Sensitive ถ้าข้อมูลไม่ดี มีบางตัวที่นอกลู่นอกทาง yhat ตัวไหนที่ผิดจาก y ไปมาก จะถูกให้ความสำคัญมากกว่า yhat ตัวอื่น ๆ จะมีผลทำให้ Loss สูง"
   ]
  },
  {
   "cell_type": "markdown",
   "metadata": {},
   "source": [
    "## 3.1 สูตร MSE"
   ]
  },
  {
   "cell_type": "markdown",
   "metadata": {},
   "source": [
    "$$\\operatorname{MSE}=\\frac{1}{n}\\sum_{i=1}^n(Y_i-\\hat{Y_i})^2$$"
   ]
  },
  {
   "cell_type": "markdown",
   "metadata": {},
   "source": [
    "## 3.2 โค้ด MSE Function"
   ]
  },
  {
   "cell_type": "code",
   "execution_count": 10,
   "metadata": {},
   "outputs": [],
   "source": [
    "def mse(y, yhat):\n",
    "    return (y - yhat).pow(2).mean()"
   ]
  },
  {
   "cell_type": "markdown",
   "metadata": {},
   "source": [
    "## 3.3 การใช้งาน MSE"
   ]
  },
  {
   "cell_type": "code",
   "execution_count": 11,
   "metadata": {},
   "outputs": [
    {
     "data": {
      "text/plain": [
       "tensor(30006.)"
      ]
     },
     "execution_count": 11,
     "metadata": {},
     "output_type": "execute_result"
    }
   ],
   "source": [
    "error = mse(y, yhat)\n",
    "error"
   ]
  },
  {
   "cell_type": "markdown",
   "metadata": {},
   "source": [
    "## 3.4 เปรียบเทียบ Loss"
   ]
  },
  {
   "cell_type": "markdown",
   "metadata": {},
   "source": [
    "แทนที่เราจะหาค่าเฉลี่ย เราจะลองเปรียบเทียบ yhat, y ตัวต่อตัว สังเกต กราฟสีม่วง ความชันจะขึ้นเร็วมาก เป็น Exponential เนื่องจาก MSE ยกกำลัง 2 และจุดต่ำสุดจะอยู่ที่ y - yhat = 0 คือ โมเดลทำนาย yhat ออกมาเท่ากับ y พอดี ทำให้ MSE Loss = 0"
   ]
  },
  {
   "cell_type": "code",
   "execution_count": 12,
   "metadata": {
    "scrolled": false
   },
   "outputs": [
    {
     "data": {
      "text/plain": [
       "<matplotlib.legend.Legend at 0x7f67d18bfb00>"
      ]
     },
     "execution_count": 12,
     "metadata": {},
     "output_type": "execute_result"
    },
    {
     "data": {
      "image/png": "[encoded data removed]",
      "text/plain": [
       "<Figure size 648x648 with 1 Axes>"
      ]
     },
     "metadata": {
      "needs_background": "light"
     },
     "output_type": "display_data"
    }
   ],
   "source": [
    "fig,ax = plt.subplots(figsize=(9, 9))\n",
    "ax.set_xlim([-50, 50])\n",
    "ax.set_ylim([-200, 2000])\n",
    "ax.scatter(x, y, label=\"y\")\n",
    "ax.plot(x.numpy(), yhat.numpy(), label=\"yhat\", color='red')\n",
    "ax.plot(x.numpy(), (y - yhat).pow(2).numpy(), label=\"MSE\", color='purple')\n",
    "ax.legend(loc='upper right')"
   ]
  },
  {
   "cell_type": "markdown",
   "metadata": {},
   "source": [
    "# 4. RMSE หรือ RMSD"
   ]
  },
  {
   "cell_type": "markdown",
   "metadata": {},
   "source": [
    "## 4.1 สูตร RMSE"
   ]
  },
  {
   "cell_type": "markdown",
   "metadata": {},
   "source": [
    "$$\\operatorname{RMSD}=\\sqrt{\\frac{\\sum_{i=1}^n ( y_i - \\hat y_i)^2}{n}}$$"
   ]
  },
  {
   "cell_type": "markdown",
   "metadata": {},
   "source": [
    "Root Mean Squared Error (RMSE) หรือ Root Mean Squared Deviation (RMSD) คือ นำ MSE มาหา Squared Root ช่วยให้กลับมาเป็น Scale เดิม ทำให้ตีความได้ง่ายขึ้น"
   ]
  },
  {
   "cell_type": "markdown",
   "metadata": {},
   "source": [
    "## 4.2 โค้ด RMSE Function"
   ]
  },
  {
   "cell_type": "code",
   "execution_count": 13,
   "metadata": {},
   "outputs": [],
   "source": [
    "def rmse(y, yhat):\n",
    "    return ((y - yhat).pow(2).mean()).sqrt()"
   ]
  },
  {
   "cell_type": "markdown",
   "metadata": {},
   "source": [
    "## 4.3 การใช้งาน RMSE"
   ]
  },
  {
   "cell_type": "code",
   "execution_count": 14,
   "metadata": {},
   "outputs": [
    {
     "data": {
      "text/plain": [
       "tensor(173.2224)"
      ]
     },
     "execution_count": 14,
     "metadata": {},
     "output_type": "execute_result"
    }
   ],
   "source": [
    "error = rmse(y, yhat)\n",
    "error"
   ]
  },
  {
   "cell_type": "markdown",
   "metadata": {},
   "source": [
    "## 4.5 เปรียบเทียบ Loss"
   ]
  },
  {
   "cell_type": "code",
   "execution_count": 15,
   "metadata": {
    "scrolled": false
   },
   "outputs": [
    {
     "data": {
      "text/plain": [
       "<matplotlib.legend.Legend at 0x7f67d18b4d30>"
      ]
     },
     "execution_count": 15,
     "metadata": {},
     "output_type": "execute_result"
    },
    {
     "data": {
      "image/png": "[encoded data removed]",
      "text/plain": [
       "<Figure size 648x648 with 1 Axes>"
      ]
     },
     "metadata": {
      "needs_background": "light"
     },
     "output_type": "display_data"
    }
   ],
   "source": [
    "fig,ax = plt.subplots(figsize=(9, 9))\n",
    "ax.set_xlim([-50, 50])\n",
    "ax.set_ylim([-200, 300])\n",
    "ax.scatter(x, y, label=\"y\")\n",
    "ax.plot(x.numpy(), yhat.numpy(), label=\"yhat\", color='red')\n",
    "ax.plot(x.numpy(), (y - yhat).pow(2).sqrt().numpy(), label=\"RMSE\", color='purple')\n",
    "ax.legend(loc='upper right')"
   ]
  },
  {
   "cell_type": "markdown",
   "metadata": {},
   "source": [
    "# 5. เปรียบเทียบ MAE และ MSE"
   ]
  },
  {
   "cell_type": "markdown",
   "metadata": {},
   "source": [
    "1. ค่า MSE, MAE อยู่ในช่วง 0 - Infinity เหมือนกัน ยิ่งน้อยคือยิ่งดี ถ้าเป็น 0 คือ ไม่ Error เลย\n",
    "1. MAE มี Slope คงที่ หมายถึง Gradient จากมีขนาดใหญ่เท่าเดิม แม้ Error จะน้อยแค่ไหนก็ตาม\n",
    "1. MSE มี Slope ที่เปลี่ยนแปลงไปตาม Error ถ้า Error มาก Gradient ก็มาก ถ้า Error น้อย Gradient ก็จะน้อยตามไปด้วย ช่วยให้เทรนโมเดล Fine-Tune ได้ดีกว่า\n",
    "1. เนื่องจาก MSE ยกกำลังสอง ก่อนที่จะหาค่าเฉลี่ย ทำให้ Sensitive กับข้อมูลแตกแถว มากกว่า MAE ถ้า MSE เจอข้อมูลไม่ดี จะทำให้ Loss มีขนาดใหญ่มาก\n",
    "1. เราสามารถแก้ปัญหา Gradient คงที่ของ MAE ได้ด้วยเทคนิค Dynamic Learning Rate\n",
    "1. ถ้าข้อมูลตัวอย่างของเรามี ข้อมูลเสีย ๆ ปะปนอยู่ MAE จะเหมาะกว่า MSE\n",
    "1. MAE ใช้การ Absolute ทำให้อาจจะทำให้มีปัญหาได้ กับการคำนวนทางคณิตศาสตร์อื่น ๆ"
   ]
  },
  {
   "cell_type": "markdown",
   "metadata": {},
   "source": [
    "# 6. Loss Function อื่น ๆ สำหรับงาน Regression"
   ]
  },
  {
   "cell_type": "markdown",
   "metadata": {},
   "source": [
    "นอกจาก MAE, MSE และ RMSE แล้ว มีตัวอื่น ๆ ที่เป็นที่นิยมอีก เช่น Huber Loss (Smooth Mean Absolute Error), Log-Cosh Loss, Quantile Loss เราจะอธิบายต่อไป"
   ]
  },
  {
   "cell_type": "code",
   "execution_count": null,
   "metadata": {},
   "outputs": [],
   "source": []
  }
 ],
 "metadata": {
  "kernelspec": {
   "display_name": "Python 3",
   "language": "python",
   "name": "python3"
  },
  "language_info": {
   "codemirror_mode": {
    "name": "ipython",
    "version": 3
   },
   "file_extension": ".py",
   "mimetype": "text/x-python",
   "name": "python",
   "nbconvert_exporter": "python",
   "pygments_lexer": "ipython3",
   "version": "3.7.3"
  }
 },
 "nbformat": 4,
 "nbformat_minor": 2
}
