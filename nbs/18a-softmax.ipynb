{
 "cells": [
  {
   "cell_type": "markdown",
   "metadata": {},
   "source": [
    "# 0. Import"
   ]
  },
  {
   "cell_type": "code",
   "execution_count": 1,
   "metadata": {},
   "outputs": [],
   "source": [
    "import torch"
   ]
  },
  {
   "cell_type": "markdown",
   "metadata": {},
   "source": [
    "# 1. Data"
   ]
  },
  {
   "cell_type": "markdown",
   "metadata": {},
   "source": [
    "เราจะสุ่มสร้างข้อมูลขึ้นมาเป็น Tensor ขนาด 10 Row, 5 Column มีค่าตั้งแต่ -10 ถึง 10 [เรื่อง Tensor จะอธิบายต่อไป](https://www.bualabs.com/archives/1629/what-is-tensor-element-wise-broadcasting-operations-high-order-tensor-numpy-array-matrix-vector-tensor-ep-1/)"
   ]
  },
  {
   "cell_type": "code",
   "execution_count": 2,
   "metadata": {},
   "outputs": [
    {
     "data": {
      "text/plain": [
       "torch.Size([10, 5])"
      ]
     },
     "execution_count": 2,
     "metadata": {},
     "output_type": "execute_result"
    }
   ],
   "source": [
    "a = torch.randn(10, 5) * 10\n",
    "a.shape"
   ]
  },
  {
   "cell_type": "code",
   "execution_count": 3,
   "metadata": {
    "scrolled": true
   },
   "outputs": [
    {
     "data": {
      "text/plain": [
       "tensor([[  4.3262,   5.9778,  20.5111, -12.2782,  14.9395],\n",
       "        [ 13.3020,  -7.5098,  13.9498,   2.1033,  -9.0519],\n",
       "        [  5.8379, -10.7085,   8.0493,   8.6518,   0.4859],\n",
       "        [ 11.0269,   9.4022, -11.5254,   2.8686, -16.6679],\n",
       "        [-17.1392,  -6.0467,  19.9528,   2.6242, -12.1985],\n",
       "        [-18.1757,  -8.0385, -15.6482,   2.1649, -10.4428],\n",
       "        [ 11.6637,  17.1151,  10.8637,  14.8136,  -5.3248],\n",
       "        [ -6.1047,  -1.6771,   4.4383,  -0.0634,   0.1505],\n",
       "        [ -6.3161,  -6.0136,  -7.3314,  16.8987,   3.1816],\n",
       "        [  7.1893, -15.1782,   7.6043,   3.1983,  -2.6086]])"
      ]
     },
     "execution_count": 3,
     "metadata": {},
     "output_type": "execute_result"
    }
   ],
   "source": [
    "a"
   ]
  },
  {
   "cell_type": "markdown",
   "metadata": {},
   "source": [
    "# 2. สูตรของ Softmax คือดังนี้"
   ]
  },
  {
   "cell_type": "markdown",
   "metadata": {},
   "source": [
    "$$\\sigma(\\mathbf{z})_i = \\frac{e^{z_i}}{\\sum_{j=1}^K e^{z_j}} \\text{ for } i = 1, \\dotsc , K \\text{ and } \\mathbf z=(z_1,\\dotsc,z_K) \\in R^K$$"
   ]
  },
  {
   "cell_type": "markdown",
   "metadata": {},
   "source": [
    "# 2.1 ตัวตั้ง (Dividen)"
   ]
  },
  {
   "cell_type": "markdown",
   "metadata": {},
   "source": [
    "เราจะมาหาตังตั้งก่อน เอา a มา exp ให้หมด แล้วเก็บไว้"
   ]
  },
  {
   "cell_type": "code",
   "execution_count": 4,
   "metadata": {
    "scrolled": true
   },
   "outputs": [
    {
     "data": {
      "text/plain": [
       "tensor([[7.5655e+01, 3.9457e+02, 8.0885e+08, 4.6519e-06, 3.0772e+06],\n",
       "        [5.9838e+05, 5.4769e-04, 1.1438e+06, 8.1935e+00, 1.1716e-04],\n",
       "        [3.4307e+02, 2.2355e-05, 3.1316e+03, 5.7202e+03, 1.6257e+00],\n",
       "        [6.1509e+04, 1.2115e+04, 9.8756e-06, 1.7612e+01, 5.7707e-08],\n",
       "        [3.6018e-08, 2.3656e-03, 4.6281e+08, 1.3794e+01, 5.0380e-06],\n",
       "        [1.2776e-08, 3.2280e-04, 1.5998e-07, 8.7138e+00, 2.9157e-05],\n",
       "        [1.1627e+05, 2.7103e+07, 5.2243e+04, 2.7130e+06, 4.8696e-03],\n",
       "        [2.2323e-03, 1.8692e-01, 8.4634e+01, 9.3858e-01, 1.1624e+00],\n",
       "        [1.8071e-03, 2.4452e-03, 6.5463e-04, 2.1827e+07, 2.4086e+01],\n",
       "        [1.3251e+03, 2.5598e-07, 2.0067e+03, 2.4491e+01, 7.3636e-02]])"
      ]
     },
     "execution_count": 4,
     "metadata": {},
     "output_type": "execute_result"
    }
   ],
   "source": [
    "exp_a = torch.exp(a)\n",
    "exp_a"
   ]
  },
  {
   "cell_type": "markdown",
   "metadata": {},
   "source": [
    "## 2.2 ตัวหาร (Divisor)"
   ]
  },
  {
   "cell_type": "markdown",
   "metadata": {},
   "source": [
    "ตัวหารคือผลรวมของ exp_a เราจะ sum ตามมิติที่ 1 Column ให้เหลือแต่ Row โดย keepdim=True จะได้ดูง่าย"
   ]
  },
  {
   "cell_type": "code",
   "execution_count": 5,
   "metadata": {
    "scrolled": true
   },
   "outputs": [
    {
     "data": {
      "text/plain": [
       "tensor([[8.1193e+08],\n",
       "        [1.7421e+06],\n",
       "        [9.1966e+03],\n",
       "        [7.3642e+04],\n",
       "        [4.6281e+08],\n",
       "        [8.7141e+00],\n",
       "        [2.9984e+07],\n",
       "        [8.6924e+01],\n",
       "        [2.1827e+07],\n",
       "        [3.3564e+03]])"
      ]
     },
     "execution_count": 5,
     "metadata": {},
     "output_type": "execute_result"
    }
   ],
   "source": [
    "sum_exp_a = torch.sum(exp_a, 1, keepdim=True)\n",
    "sum_exp_a"
   ]
  },
  {
   "cell_type": "markdown",
   "metadata": {},
   "source": [
    "# 3. หา Softmax ของ a"
   ]
  },
  {
   "cell_type": "markdown",
   "metadata": {},
   "source": [
    "นำตัวตั้ง Dividen หารด้วยตัวหาร Divisor จะได้ค่า Softmax"
   ]
  },
  {
   "cell_type": "code",
   "execution_count": 6,
   "metadata": {
    "scrolled": true
   },
   "outputs": [
    {
     "data": {
      "text/plain": [
       "tensor([[9.3179e-08, 4.8596e-07, 9.9621e-01, 5.7294e-15, 3.7900e-03],\n",
       "        [3.4347e-01, 3.1438e-10, 6.5652e-01, 4.7031e-06, 6.7253e-11],\n",
       "        [3.7304e-02, 2.4308e-09, 3.4052e-01, 6.2200e-01, 1.7677e-04],\n",
       "        [8.3525e-01, 1.6451e-01, 1.3410e-10, 2.3915e-04, 7.8362e-13],\n",
       "        [7.7824e-17, 5.1114e-12, 1.0000e+00, 2.9804e-08, 1.0886e-14],\n",
       "        [1.4661e-09, 3.7043e-05, 1.8359e-08, 9.9996e-01, 3.3460e-06],\n",
       "        [3.8778e-03, 9.0390e-01, 1.7423e-03, 9.0482e-02, 1.6240e-10],\n",
       "        [2.5681e-05, 2.1503e-03, 9.7365e-01, 1.0798e-02, 1.3373e-02],\n",
       "        [8.2789e-11, 1.1203e-10, 2.9991e-11, 1.0000e+00, 1.1035e-06],\n",
       "        [3.9480e-01, 7.6265e-11, 5.9788e-01, 7.2968e-03, 2.1939e-05]])"
      ]
     },
     "execution_count": 6,
     "metadata": {},
     "output_type": "execute_result"
    }
   ],
   "source": [
    "softmax_a = exp_a / sum_exp_a\n",
    "softmax_a"
   ]
  },
  {
   "cell_type": "markdown",
   "metadata": {},
   "source": [
    "# 4. การใช้งาน Softmax"
   ]
  },
  {
   "cell_type": "markdown",
   "metadata": {},
   "source": [
    "Softmax มีคุณสมบัติพิเศษ คือ จะรวมกันได้เท่ากับ 1 จึงถูกนำมาใช้เป็นความน่าจะเป็น Probability / Likelihood"
   ]
  },
  {
   "cell_type": "markdown",
   "metadata": {},
   "source": [
    "ดูตัวอย่างแถวแรก"
   ]
  },
  {
   "cell_type": "code",
   "execution_count": 7,
   "metadata": {},
   "outputs": [
    {
     "data": {
      "text/plain": [
       "tensor([9.3179e-08, 4.8596e-07, 9.9621e-01, 5.7294e-15, 3.7900e-03])"
      ]
     },
     "execution_count": 7,
     "metadata": {},
     "output_type": "execute_result"
    }
   ],
   "source": [
    "softmax_a[0]"
   ]
  },
  {
   "cell_type": "markdown",
   "metadata": {},
   "source": [
    "บวกกันได้ 1"
   ]
  },
  {
   "cell_type": "code",
   "execution_count": 8,
   "metadata": {},
   "outputs": [
    {
     "data": {
      "text/plain": [
       "tensor(1.)"
      ]
     },
     "execution_count": 8,
     "metadata": {},
     "output_type": "execute_result"
    }
   ],
   "source": [
    "softmax_a[0].sum()"
   ]
  },
  {
   "cell_type": "markdown",
   "metadata": {},
   "source": [
    "แถวสอง"
   ]
  },
  {
   "cell_type": "code",
   "execution_count": 9,
   "metadata": {},
   "outputs": [
    {
     "data": {
      "text/plain": [
       "tensor([3.4347e-01, 3.1438e-10, 6.5652e-01, 4.7031e-06, 6.7253e-11])"
      ]
     },
     "execution_count": 9,
     "metadata": {},
     "output_type": "execute_result"
    }
   ],
   "source": [
    "softmax_a[1]"
   ]
  },
  {
   "cell_type": "markdown",
   "metadata": {},
   "source": [
    "ก็บวกกันแล้วได้ 1"
   ]
  },
  {
   "cell_type": "code",
   "execution_count": 10,
   "metadata": {},
   "outputs": [
    {
     "data": {
      "text/plain": [
       "tensor(1.0000)"
      ]
     },
     "execution_count": 10,
     "metadata": {},
     "output_type": "execute_result"
    }
   ],
   "source": [
    "softmax_a[1].sum()"
   ]
  },
  {
   "cell_type": "markdown",
   "metadata": {},
   "source": [
    "# 5. สรุป"
   ]
  },
  {
   "cell_type": "markdown",
   "metadata": {},
   "source": [
    "1. เราสามารถคำนวน Softmax Function ได้ไม่ยาก\n",
    "1. Softmax ทำให้อะไรที่มีค่าน้อย ก็จะยิ่งน้อย อะไรที่มากก็จะยิ่งใกล้ 1 ใกล้เคียงกับ Max Function ที่ใช้หาค่ามากที่สุด\n",
    "1. Softmax มักถูกนำมาใช้เป็นความน่าจะเป็น Probability / Likelihood \n",
    "1. ถ้า Input มีขนาดใหญ่มาก เมื่อ exp จะ Error ได้ เราสามารถปรับ x โดย x = x - max(x) ก่อนเข้า Softmax Function เรียกว่า Numerical Stability"
   ]
  },
  {
   "cell_type": "code",
   "execution_count": null,
   "metadata": {},
   "outputs": [],
   "source": []
  }
 ],
 "metadata": {
  "kernelspec": {
   "display_name": "Python 3",
   "language": "python",
   "name": "python3"
  },
  "language_info": {
   "codemirror_mode": {
    "name": "ipython",
    "version": 3
   },
   "file_extension": ".py",
   "mimetype": "text/x-python",
   "name": "python",
   "nbconvert_exporter": "python",
   "pygments_lexer": "ipython3",
   "version": "3.7.3"
  }
 },
 "nbformat": 4,
 "nbformat_minor": 2
}
