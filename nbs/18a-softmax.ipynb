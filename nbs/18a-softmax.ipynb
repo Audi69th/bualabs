{
 "cells": [
  {
   "cell_type": "markdown",
   "metadata": {},
   "source": [
    "# 0. Import"
   ]
  },
  {
   "cell_type": "code",
   "execution_count": 1,
   "metadata": {},
   "outputs": [],
   "source": [
    "import torch"
   ]
  },
  {
   "cell_type": "markdown",
   "metadata": {},
   "source": [
    "# 1. Data"
   ]
  },
  {
   "cell_type": "markdown",
   "metadata": {},
   "source": [
    "เราจะสร้างข้อมูลขึ้นมาเป็น Tensor ขนาด 10 Row, 3 Column [เรื่อง Tensor จะอธิบายต่อไป](https://www.bualabs.com/archives/1629/what-is-tensor-element-wise-broadcasting-operations-high-order-tensor-numpy-array-matrix-vector-tensor-ep-1/)"
   ]
  },
  {
   "cell_type": "code",
   "execution_count": 2,
   "metadata": {},
   "outputs": [
    {
     "data": {
      "text/plain": [
       "torch.Size([10, 3])"
      ]
     },
     "execution_count": 2,
     "metadata": {},
     "output_type": "execute_result"
    }
   ],
   "source": [
    "z = torch.tensor([\n",
    "                  [     1,      2,      3 ],\n",
    "                  [    11,     12,     13 ], \n",
    "                  [   0.1,    0.2,    0.3 ], \n",
    "                  [    -1,     -2,     -3 ],\n",
    "                  [    10,     20,     30 ], \n",
    "                  [    -5,      0,      5 ], \n",
    "                  [   -11,   1/12,     13 ], \n",
    "                  [  -0.1,   -0.2,   -0.3 ], \n",
    "                  [   -11,    -12,    -13 ], \n",
    "                  [   -10,    -20,    -30 ], \n",
    "                                           ]).float()\n",
    "z.shape"
   ]
  },
  {
   "cell_type": "code",
   "execution_count": 3,
   "metadata": {
    "scrolled": true
   },
   "outputs": [
    {
     "data": {
      "text/plain": [
       "tensor([[  1.0000,   2.0000,   3.0000],\n",
       "        [ 11.0000,  12.0000,  13.0000],\n",
       "        [  0.1000,   0.2000,   0.3000],\n",
       "        [ -1.0000,  -2.0000,  -3.0000],\n",
       "        [ 10.0000,  20.0000,  30.0000],\n",
       "        [ -5.0000,   0.0000,   5.0000],\n",
       "        [-11.0000,   0.0833,  13.0000],\n",
       "        [ -0.1000,  -0.2000,  -0.3000],\n",
       "        [-11.0000, -12.0000, -13.0000],\n",
       "        [-10.0000, -20.0000, -30.0000]])"
      ]
     },
     "execution_count": 3,
     "metadata": {},
     "output_type": "execute_result"
    }
   ],
   "source": [
    "z"
   ]
  },
  {
   "cell_type": "markdown",
   "metadata": {},
   "source": [
    "# 2. สูตรของ Softmax คือดังนี้"
   ]
  },
  {
   "cell_type": "markdown",
   "metadata": {},
   "source": [
    "$$\\sigma(\\mathbf{z})_i = \\frac{e^{z_i}}{\\sum_{j=1}^K e^{z_j}} \\text{ for } i = 1, \\dotsc , K \\text{ and } \\mathbf z=(z_1,\\dotsc,z_K) \\in R^K$$"
   ]
  },
  {
   "cell_type": "markdown",
   "metadata": {},
   "source": [
    "# 2.1 ตัวตั้ง (Dividen)"
   ]
  },
  {
   "cell_type": "markdown",
   "metadata": {},
   "source": [
    "เราจะมาหาตัวตั้ง เอา a มา exp ให้หมด แล้วเก็บไว้ก่อน"
   ]
  },
  {
   "cell_type": "code",
   "execution_count": 4,
   "metadata": {
    "scrolled": true
   },
   "outputs": [
    {
     "data": {
      "text/plain": [
       "tensor([[2.7183e+00, 7.3891e+00, 2.0086e+01],\n",
       "        [5.9874e+04, 1.6275e+05, 4.4241e+05],\n",
       "        [1.1052e+00, 1.2214e+00, 1.3499e+00],\n",
       "        [3.6788e-01, 1.3534e-01, 4.9787e-02],\n",
       "        [2.2026e+04, 4.8517e+08, 1.0686e+13],\n",
       "        [6.7379e-03, 1.0000e+00, 1.4841e+02],\n",
       "        [1.6702e-05, 1.0869e+00, 4.4241e+05],\n",
       "        [9.0484e-01, 8.1873e-01, 7.4082e-01],\n",
       "        [1.6702e-05, 6.1442e-06, 2.2603e-06],\n",
       "        [4.5400e-05, 2.0612e-09, 9.3576e-14]])"
      ]
     },
     "execution_count": 4,
     "metadata": {},
     "output_type": "execute_result"
    }
   ],
   "source": [
    "exp_z = torch.exp(z)\n",
    "exp_z"
   ]
  },
  {
   "cell_type": "markdown",
   "metadata": {},
   "source": [
    "## 2.2 ตัวหาร (Divisor)"
   ]
  },
  {
   "cell_type": "markdown",
   "metadata": {},
   "source": [
    "ตัวหารคือผลรวมของ exp_a เราจะ sum ตามมิติที่ 1 Column ให้เหลือแต่ Row โดย keepdim=True จะได้ดูง่าย"
   ]
  },
  {
   "cell_type": "code",
   "execution_count": 5,
   "metadata": {
    "scrolled": true
   },
   "outputs": [
    {
     "data": {
      "text/plain": [
       "tensor([[3.0193e+01],\n",
       "        [6.6504e+05],\n",
       "        [3.6764e+00],\n",
       "        [5.5300e-01],\n",
       "        [1.0687e+13],\n",
       "        [1.4942e+02],\n",
       "        [4.4241e+05],\n",
       "        [2.4644e+00],\n",
       "        [2.5106e-05],\n",
       "        [4.5402e-05]])"
      ]
     },
     "execution_count": 5,
     "metadata": {},
     "output_type": "execute_result"
    }
   ],
   "source": [
    "sum_exp_z = torch.sum(exp_z, 1, keepdim=True)\n",
    "sum_exp_z"
   ]
  },
  {
   "cell_type": "markdown",
   "metadata": {},
   "source": [
    "# 3. หา Softmax ของ a"
   ]
  },
  {
   "cell_type": "markdown",
   "metadata": {},
   "source": [
    "นำตัวตั้ง Dividen หารด้วยตัวหาร Divisor จะได้ค่า Softmax"
   ]
  },
  {
   "cell_type": "code",
   "execution_count": 6,
   "metadata": {
    "scrolled": true
   },
   "outputs": [
    {
     "data": {
      "text/plain": [
       "tensor([[9.0031e-02, 2.4473e-01, 6.6524e-01],\n",
       "        [9.0031e-02, 2.4473e-01, 6.6524e-01],\n",
       "        [3.0061e-01, 3.3222e-01, 3.6717e-01],\n",
       "        [6.6524e-01, 2.4473e-01, 9.0031e-02],\n",
       "        [2.0611e-09, 4.5398e-05, 9.9995e-01],\n",
       "        [4.5094e-05, 6.6925e-03, 9.9326e-01],\n",
       "        [3.7751e-11, 2.4568e-06, 1.0000e+00],\n",
       "        [3.6717e-01, 3.3222e-01, 3.0061e-01],\n",
       "        [6.6524e-01, 2.4473e-01, 9.0031e-02],\n",
       "        [9.9995e-01, 4.5398e-05, 2.0611e-09]])"
      ]
     },
     "execution_count": 6,
     "metadata": {},
     "output_type": "execute_result"
    }
   ],
   "source": [
    "softmax_z = exp_z / sum_exp_z\n",
    "softmax_z"
   ]
  },
  {
   "cell_type": "markdown",
   "metadata": {},
   "source": [
    "# 4. Softmax Function"
   ]
  },
  {
   "cell_type": "markdown",
   "metadata": {},
   "source": [
    "ได้เป็น ฟังก์ชันดังนี้"
   ]
  },
  {
   "cell_type": "code",
   "execution_count": 7,
   "metadata": {},
   "outputs": [],
   "source": [
    "def softmax(z):\n",
    "    exp_z = torch.exp(z)\n",
    "    sum_exp_z = torch.sum(exp_z, 1, keepdim=True)\n",
    "    return exp_z / sum_exp_z"
   ]
  },
  {
   "cell_type": "markdown",
   "metadata": {},
   "source": [
    "# 5. การใช้งาน Softmax"
   ]
  },
  {
   "cell_type": "markdown",
   "metadata": {},
   "source": [
    "Softmax มีคุณสมบัติพิเศษ คือ จะรวมกันได้เท่ากับ 1 จึงถูกนำมาใช้เป็นความน่าจะเป็น Probability / Likelihood"
   ]
  },
  {
   "cell_type": "markdown",
   "metadata": {},
   "source": [
    "ดูตัวอย่างแถวแรก"
   ]
  },
  {
   "cell_type": "code",
   "execution_count": 8,
   "metadata": {},
   "outputs": [
    {
     "data": {
      "text/plain": [
       "tensor([1., 2., 3.])"
      ]
     },
     "execution_count": 8,
     "metadata": {},
     "output_type": "execute_result"
    }
   ],
   "source": [
    "z[0]"
   ]
  },
  {
   "cell_type": "code",
   "execution_count": 9,
   "metadata": {},
   "outputs": [
    {
     "data": {
      "text/plain": [
       "tensor([0.0900, 0.2447, 0.6652])"
      ]
     },
     "execution_count": 9,
     "metadata": {},
     "output_type": "execute_result"
    }
   ],
   "source": [
    "softmax_z[0]"
   ]
  },
  {
   "cell_type": "markdown",
   "metadata": {},
   "source": [
    "บวกกันได้ 1"
   ]
  },
  {
   "cell_type": "code",
   "execution_count": 10,
   "metadata": {},
   "outputs": [
    {
     "data": {
      "text/plain": [
       "tensor(1.)"
      ]
     },
     "execution_count": 10,
     "metadata": {},
     "output_type": "execute_result"
    }
   ],
   "source": [
    "softmax_z[0].sum()"
   ]
  },
  {
   "cell_type": "markdown",
   "metadata": {},
   "source": [
    "แถวสอง"
   ]
  },
  {
   "cell_type": "code",
   "execution_count": 11,
   "metadata": {},
   "outputs": [
    {
     "data": {
      "text/plain": [
       "tensor([11., 12., 13.])"
      ]
     },
     "execution_count": 11,
     "metadata": {},
     "output_type": "execute_result"
    }
   ],
   "source": [
    "z[1]"
   ]
  },
  {
   "cell_type": "code",
   "execution_count": 12,
   "metadata": {},
   "outputs": [
    {
     "data": {
      "text/plain": [
       "tensor([0.0900, 0.2447, 0.6652])"
      ]
     },
     "execution_count": 12,
     "metadata": {},
     "output_type": "execute_result"
    }
   ],
   "source": [
    "softmax_z[1]"
   ]
  },
  {
   "cell_type": "markdown",
   "metadata": {},
   "source": [
    "ก็บวกกันแล้วได้ 1"
   ]
  },
  {
   "cell_type": "code",
   "execution_count": 13,
   "metadata": {},
   "outputs": [
    {
     "data": {
      "text/plain": [
       "tensor(1.)"
      ]
     },
     "execution_count": 13,
     "metadata": {},
     "output_type": "execute_result"
    }
   ],
   "source": [
    "softmax_z[1].sum()"
   ]
  },
  {
   "cell_type": "markdown",
   "metadata": {},
   "source": [
    "# 6. Numerical Stability"
   ]
  },
  {
   "cell_type": "markdown",
   "metadata": {},
   "source": [
    "ถ้า Input มีขนาดใหญ่มาก เมื่อ exp จะ Error ได้ เราสามารถปรับ x โดย x = x - max(x) ก่อนเข้า Softmax Function เรียกว่า Numerical Stability"
   ]
  },
  {
   "cell_type": "code",
   "execution_count": 14,
   "metadata": {},
   "outputs": [],
   "source": [
    "n = torch.tensor([\n",
    "                  [    10,     20,     30 ],\n",
    "                  [  -100,   -200,   -300 ],\n",
    "                  [ 0.001, 0.0001, 0.0001 ], \n",
    "                  [    70,     80,     90 ], \n",
    "                  [   100,   1000,  10000 ], \n",
    "                                           ]).float()"
   ]
  },
  {
   "cell_type": "markdown",
   "metadata": {},
   "source": [
    "เมื่อเลขใหญ่เกินกว่าระบบจะรับได้ จะมีค่าเป็น Not a Number (nan) "
   ]
  },
  {
   "cell_type": "code",
   "execution_count": 15,
   "metadata": {
    "scrolled": true
   },
   "outputs": [
    {
     "data": {
      "text/plain": [
       "tensor([[2.0611e-09, 4.5398e-05, 9.9995e-01],\n",
       "        [1.0000e+00, 0.0000e+00, 0.0000e+00],\n",
       "        [3.3353e-01, 3.3323e-01, 3.3323e-01],\n",
       "        [0.0000e+00, 0.0000e+00,        nan],\n",
       "        [       nan,        nan,        nan]])"
      ]
     },
     "execution_count": 15,
     "metadata": {},
     "output_type": "execute_result"
    }
   ],
   "source": [
    "m = softmax(n)\n",
    "m"
   ]
  },
  {
   "cell_type": "markdown",
   "metadata": {},
   "source": [
    "เราจะปรับฟังก์ชัน Softmax ให้ Numerical Stability รับเลขใหญ่ ๆ ได้"
   ]
  },
  {
   "cell_type": "code",
   "execution_count": 16,
   "metadata": {},
   "outputs": [],
   "source": [
    "def softmax2(z):\n",
    "    z = z - z.max(1, keepdim=True)[0]\n",
    "    exp_z = torch.exp(z)\n",
    "    sum_exp_z = torch.sum(exp_z, 1, keepdim=True)\n",
    "    return exp_z / sum_exp_z"
   ]
  },
  {
   "cell_type": "code",
   "execution_count": 17,
   "metadata": {},
   "outputs": [
    {
     "data": {
      "text/plain": [
       "tensor([[2.0611e-09, 4.5398e-05, 9.9995e-01],\n",
       "        [1.0000e+00, 3.7835e-44, 0.0000e+00],\n",
       "        [3.3353e-01, 3.3323e-01, 3.3323e-01],\n",
       "        [2.0611e-09, 4.5398e-05, 9.9995e-01],\n",
       "        [0.0000e+00, 0.0000e+00, 1.0000e+00]])"
      ]
     },
     "execution_count": 17,
     "metadata": {},
     "output_type": "execute_result"
    }
   ],
   "source": [
    "m = softmax2(n)\n",
    "m"
   ]
  },
  {
   "cell_type": "markdown",
   "metadata": {},
   "source": [
    "# 5. สรุป"
   ]
  },
  {
   "cell_type": "markdown",
   "metadata": {},
   "source": [
    "1. เราสามารถคำนวน Softmax Function ได้ไม่ยาก\n",
    "1. Softmax ทำให้อะไรที่มีค่าน้อยก็จะยิ่งถูกกดให้น้อย อะไรที่มากก็จะยิ่งดันให้ใกล้ 1 ใกล้เคียงกับ Max Function ที่ใช้หาค่ามากที่สุด\n",
    "1. Softmax มักถูกนำมาใช้เป็นความน่าจะเป็น Probability / Likelihood ใช้เป็นส่วนประกอบของ Cross Entropy Loss ใน Neural Network"
   ]
  },
  {
   "cell_type": "markdown",
   "metadata": {},
   "source": [
    "# Credit"
   ]
  },
  {
   "cell_type": "markdown",
   "metadata": {},
   "source": [
    "* https://eli.thegreenplace.net/2016/the-softmax-function-and-its-derivative/\n",
    "* https://en.wikipedia.org/wiki/Softmax_function\n",
    "* https://medium.com/data-science-bootcamp/understand-the-softmax-function-in-minutes-f3a59641e86d"
   ]
  },
  {
   "cell_type": "code",
   "execution_count": null,
   "metadata": {},
   "outputs": [],
   "source": []
  }
 ],
 "metadata": {
  "kernelspec": {
   "display_name": "Python 3",
   "language": "python",
   "name": "python3"
  },
  "language_info": {
   "codemirror_mode": {
    "name": "ipython",
    "version": 3
   },
   "file_extension": ".py",
   "mimetype": "text/x-python",
   "name": "python",
   "nbconvert_exporter": "python",
   "pygments_lexer": "ipython3",
   "version": "3.7.3"
  }
 },
 "nbformat": 4,
 "nbformat_minor": 2
}
