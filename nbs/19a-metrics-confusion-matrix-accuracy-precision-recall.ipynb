{
  "nbformat": 4,
  "nbformat_minor": 0,
  "metadata": {
    "kernelspec": {
      "display_name": "Python 3",
      "language": "python",
      "name": "python3"
    },
    "language_info": {
      "codemirror_mode": {
        "name": "ipython",
        "version": 3
      },
      "file_extension": ".py",
      "mimetype": "text/x-python",
      "name": "python",
      "nbconvert_exporter": "python",
      "pygments_lexer": "ipython3",
      "version": "3.7.3"
    },
    "colab": {
      "name": "19a-metrics-confusion-matrix-accuracy-precision-recall.ipynb",
      "provenance": []
    }
  },
  "cells": [
    {
      "cell_type": "markdown",
      "metadata": {
        "id": "lgQqKbGsZB2x",
        "colab_type": "text"
      },
      "source": [
        "ก่อนที่เราจะรู้จัก Accuracy, Precision และ Recall เราจะมาทำความรู้จักกับตาราง Confusion Matrix หรือ Error Matrix ที่จะเป็นการแสดงผลลัพธ์การทำงานของอัลกอริทึมต่าง ๆ ในงาน Classification กันก่อน"
      ]
    },
    {
      "cell_type": "markdown",
      "metadata": {
        "id": "s42qJccWZB21",
        "colab_type": "text"
      },
      "source": [
        "# 1. Confusion Matrix คืออะไร"
      ]
    },
    {
      "cell_type": "markdown",
      "metadata": {
        "id": "OkR1AQ_bZB23",
        "colab_type": "text"
      },
      "source": [
        "สมมติว่าเรามีรูปภาพอยู่ 13 รูป เป็นรูป Cat 8 รูป และรูป Dog 5 รูป เราให้โมเดล [Classification](https://www.bualabs.com/archives/530/machine-learning-ai-skin-disease-classification-custom-dataset-how-to-build-model-resnet50-deep-learning-python-image-classification-ep-4/) จำแนก ว่าแต่ละรูป เป็นรูปหมา หรือรูปแมว เราสามารถนำผลลัพธ์ที่โมเดลทำนาย มาใส่เป็นตารางได้ โดย แนวตั้งคือ ความจริง Ground Truth แนวนอนคือ สิ่งที่โมเดลทำนาย ตารางนี้เรียกว่า [Confusion Matrix](https://www.bualabs.com/archives/1968/what-is-confusion-matrix-what-is-metrics-accuracy-precision-recall-f1-score-difference-metrics-ep-1/) ดังด้านล่าง"
      ]
    },
    {
      "cell_type": "markdown",
      "metadata": {
        "id": "wdVicErxZB25",
        "colab_type": "text"
      },
      "source": [
        "| . \t| . \t| Actual Class \t| . \t|\n",
        "|-----------------\t|-----\t|--------------\t|-----\t|\n",
        "| . \t| . \t| Cat \t| Dog \t|\n",
        "| Predicted Class \t| Cat \t| 5 \t| 2 \t|\n",
        "|  . \t| Dog \t| 3 \t| 3 \t|"
      ]
    },
    {
      "cell_type": "markdown",
      "metadata": {
        "id": "8vkQ7WL5ZB27",
        "colab_type": "text"
      },
      "source": [
        "ในช่องต่าง ๆ มีชื่อเรียกดังนี้ เพื่อให้เข้าใจง่ายเราจะเปลี่ยนเป็น Binary คือ ใช่แมว และ ไม่ใช่แมว"
      ]
    },
    {
      "cell_type": "markdown",
      "metadata": {
        "id": "SglbIIxLZB28",
        "colab_type": "text"
      },
      "source": [
        "| .               \t| .   \t    | Actual Class     \t| .                \t|\n",
        "|-----------------\t|--------\t|------------------\t|------------------\t|\n",
        "| .               \t| .      \t| Cat              \t| Non-Cat          \t|\n",
        "| Predicted Class \t| Cat \t    | 5 True Positive  \t| 2 False Positive \t|\n",
        "| .              \t| Non-Cat \t| 3 False Negative \t| 3 True Negative  \t|"
      ]
    },
    {
      "cell_type": "markdown",
      "metadata": {
        "id": "_VtCJA9WZB2_",
        "colab_type": "text"
      },
      "source": [
        "ชื่อเรียก และความหมายของแต่ละช่อง"
      ]
    },
    {
      "cell_type": "markdown",
      "metadata": {
        "id": "7n2QCw2RZB3B",
        "colab_type": "text"
      },
      "source": [
        "* True Positive (TP) คือ ทายว่าใช่ แล้วใช่จริง ๆ (Hit)\n",
        "* True Negative (TN) คือ ทายว่าไม่ใช่ แล้วไม่ใช่จริง ๆ (Correct Rejection)\n",
        "* False Positive (FP) คือ ทายว่าใช่ แต่จริง ๆ แล้วไม่ใช่ (False Alarm, Type I error)\n",
        "* False Negative (FN) คือ ทายว่าไม่ใช่ แต่จริง ๆ แล้วมันใช่ (Miss, Type II error)"
      ]
    },
    {
      "cell_type": "markdown",
      "metadata": {
        "id": "31dn3tF_ZB3D",
        "colab_type": "text"
      },
      "source": [
        "* Condition Positive (P) คือ จำนวนของที่ใช่ทั้งหมด ที่อยู่ในข้อมูล = TP + FN\n",
        "* Condition Negative (N) คือ จำนวนของที่ไม่ใช่ทั้งหมด ที่อยู่ในข้อมูล = FP + TN"
      ]
    },
    {
      "cell_type": "markdown",
      "metadata": {
        "id": "8UZd1kNJZB3G",
        "colab_type": "text"
      },
      "source": [
        "หมายเหตุ True = ทายถูก, False = ทายผิด, Positive = ทายว่าใช่, Negative = ทายว่าไม่ใช่"
      ]
    },
    {
      "cell_type": "markdown",
      "metadata": {
        "id": "nDn3nm74ZB3I",
        "colab_type": "text"
      },
      "source": [
        "เราจะเปรียบเทียบเป็นการยิงธนูเข้าเป้า จะได้เข้าใจง่าย"
      ]
    },
    {
      "cell_type": "markdown",
      "metadata": {
        "id": "0odnBxsDZB3J",
        "colab_type": "text"
      },
      "source": [
        "# 2. Accuracy"
      ]
    },
    {
      "cell_type": "markdown",
      "metadata": {
        "id": "fwfwe65GZB3L",
        "colab_type": "text"
      },
      "source": [
        "จำนวนครั้งที่ทายถูก หารด้วยจำนวนครั้งที่ทายทั้งหมด หมายความว่าทายแม่นแค่ไหน แบบรวม ๆ"
      ]
    },
    {
      "cell_type": "markdown",
      "metadata": {
        "id": "Trx9lzskZB3N",
        "colab_type": "text"
      },
      "source": [
        "$$ Accuracy = \\frac{\\text{TP + TN}}{\\text{P + N} } $$"
      ]
    },
    {
      "cell_type": "markdown",
      "metadata": {
        "id": "b8uNDvNQZB3P",
        "colab_type": "text"
      },
      "source": [
        "# 3. Precision"
      ]
    },
    {
      "cell_type": "markdown",
      "metadata": {
        "id": "Zvu8lXYVZB3Q",
        "colab_type": "text"
      },
      "source": [
        "จำนวนครั้งที่ทายว่า Positive แล้วถูก หารด้วยจำนวนครั้งที่ทายว่า Positive ทั้งหมด หมายความว่าใช้กระสุนเปลืองแค่ไหน\n",
        "\n",
        "Precision มีอีกชื่อว่า positive predictive value (PPV)"
      ]
    },
    {
      "cell_type": "markdown",
      "metadata": {
        "id": "Ede2Z7qjZB3S",
        "colab_type": "text"
      },
      "source": [
        "$$ Precision = \\frac{\\text{TP}}{\\text{TP + FP} } $$"
      ]
    },
    {
      "cell_type": "markdown",
      "metadata": {
        "id": "-M5jLVAYZB3U",
        "colab_type": "text"
      },
      "source": [
        "*การทายว่า Positive มีความสำคัญ ตัวอย่างเช่น ผลตรวจผลเลือด เป็น Positive อาจจะแปลว่าเป็นโรค ดังนั้นจึงไม่ควร Positive พร่ำเพรื่อ ถ้าไม่แน่ใจจริง ๆ แต่ทั้งนี้ขึ้นอยู่กับงานด้วย*"
      ]
    },
    {
      "cell_type": "markdown",
      "metadata": {
        "id": "mVA2vVqoZB3W",
        "colab_type": "text"
      },
      "source": [
        "# 4. Recall"
      ]
    },
    {
      "cell_type": "markdown",
      "metadata": {
        "id": "9iM9n0V7ZB3Y",
        "colab_type": "text"
      },
      "source": [
        "จำนวนครั้งที่ทายว่า Positive แล้วถูก หารด้วยจำนวน Positive ทั้งหมดในข้อมูล หมายความว่าเก็บหมดแค่ไหน\n",
        "\n",
        "Recall มีอีกหลายชื่อ เช่น sensitivity, recall, hit rate, หรือ true positive rate (TPR)"
      ]
    },
    {
      "cell_type": "markdown",
      "metadata": {
        "id": "gbpZfJ2QZB3a",
        "colab_type": "text"
      },
      "source": [
        "$$ Recall = \\frac{\\text{TP}}{\\text{TP + FN} } $$"
      ]
    },
    {
      "cell_type": "markdown",
      "metadata": {
        "id": "QuU5zZQjZB3d",
        "colab_type": "text"
      },
      "source": [
        "# 5. Specificity"
      ]
    },
    {
      "cell_type": "markdown",
      "metadata": {
        "id": "LQZ98Y6LZB3f",
        "colab_type": "text"
      },
      "source": [
        "Specificity มีอีกหลายชื่อ เช่น selectivity หรือ true negative rate (TNR)"
      ]
    },
    {
      "cell_type": "markdown",
      "metadata": {
        "id": "q-4RDZEHZB3h",
        "colab_type": "text"
      },
      "source": [
        "$$ Specificity = \\frac{\\text{TN}}{\\text{TN + FP} } $$"
      ]
    },
    {
      "cell_type": "markdown",
      "metadata": {
        "id": "QrYIft6CZB3k",
        "colab_type": "text"
      },
      "source": [
        "# 6. F1-Score"
      ]
    },
    {
      "cell_type": "markdown",
      "metadata": {
        "id": "sejFdq6IZB3m",
        "colab_type": "text"
      },
      "source": [
        "F1-Score คือ Harmonic mean ของ Precision และ Recall"
      ]
    },
    {
      "cell_type": "markdown",
      "metadata": {
        "id": "jkIlOq32ZB3n",
        "colab_type": "text"
      },
      "source": [
        "$$ F1 = \\frac{2 \\cdot precision\\cdot recall}{precision+ recall} $$"
      ]
    },
    {
      "cell_type": "markdown",
      "metadata": {
        "id": "w4ybbMVWZB3p",
        "colab_type": "text"
      },
      "source": [
        "# 7. สรุป"
      ]
    },
    {
      "cell_type": "markdown",
      "metadata": {
        "id": "m1vDVPXqZB3q",
        "colab_type": "text"
      },
      "source": [
        "* ใน Machine Learning เราคำนวน Metrics เพื่อแสดงผลให้ผู้ใช้ทราบว่า โมเดลทำงานได้ดีแค่ไหน แต่ไม่ได้ใช้ในการเทรนโมเดล เหมือน [Loss Fuction](https://www.bualabs.com/archives/2673/what-is-loss-function-cost-function-error-function-loss-function-how-cost-function-work-machine-learning-ep-1/)\n",
        "* Metrics เหล่านี้สามารถใช้ได้กับงาน 2 Class, 3 Class, หรือมากกว่า 3 Class ขึ้นไปก็ได้ ตังตัวอย่าง Confusion Matrix 37x37 ใน ep [Image Classification](https://www.bualabs.com/archives/469/how-to-deep-learning-pets-cats-dogs-image-classification-with-fastai-v1-ep-1/) ไว้เราจะอธิบายต่อไป\n",
        "* มี Metrics อีกหลายตัวที่ยังไม่ได้พูดถึง เช่น miss rate, fall-out, Threat score, etc.\n"
      ]
    },
    {
      "cell_type": "markdown",
      "metadata": {
        "id": "Xfa-REStZB3s",
        "colab_type": "text"
      },
      "source": [
        "# Credit"
      ]
    },
    {
      "cell_type": "markdown",
      "metadata": {
        "id": "m9KrkULzZB3t",
        "colab_type": "text"
      },
      "source": [
        "* https://en.wikipedia.org/wiki/Confusion_matrix\n",
        "* https://en.wikipedia.org/wiki/Accuracy_and_precision"
      ]
    },
    {
      "cell_type": "code",
      "metadata": {
        "id": "spDlM5y7ZB3v",
        "colab_type": "code",
        "colab": {}
      },
      "source": [
        ""
      ],
      "execution_count": 0,
      "outputs": []
    }
  ]
}