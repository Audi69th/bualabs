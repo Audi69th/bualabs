{
  "nbformat": 4,
  "nbformat_minor": 0,
  "metadata": {
    "colab": {
      "name": "20c-datablock-api.ipynb",
      "provenance": []
    },
    "kernelspec": {
      "name": "python3",
      "display_name": "Python 3"
    },
    "accelerator": "TPU"
  },
  "cells": [
    {
      "cell_type": "markdown",
      "metadata": {
        "id": "KEj8qcgIx5hh",
        "colab_type": "text"
      },
      "source": [
        ""
      ]
    },
    {
      "cell_type": "markdown",
      "metadata": {
        "id": "hTY2SsQAx5oL",
        "colab_type": "text"
      },
      "source": [
        ""
      ]
    },
    {
      "cell_type": "markdown",
      "metadata": {
        "id": "OtZHS0F99IEG",
        "colab_type": "text"
      },
      "source": [
        "# 0. Magic Commands\n"
      ]
    },
    {
      "cell_type": "code",
      "metadata": {
        "id": "f5ot4A4y9IEZ",
        "colab_type": "code",
        "colab": {}
      },
      "source": [
        "%reload_ext autoreload\n",
        "%autoreload 2\n",
        "%matplotlib inline"
      ],
      "execution_count": 0,
      "outputs": []
    },
    {
      "cell_type": "markdown",
      "metadata": {
        "id": "MH68Y5_N9IE7",
        "colab_type": "text"
      },
      "source": [
        "# 1. Import Library"
      ]
    },
    {
      "cell_type": "code",
      "metadata": {
        "id": "Zt6egYhb9IFA",
        "colab_type": "code",
        "colab": {}
      },
      "source": [
        "from fastai import *\n",
        "from fastai.vision import *\n",
        "from fastai.metrics import accuracy\n",
        "import torch.nn.init as init\n",
        "import torch.nn as nn\n",
        "\n",
        "# import warnings\n",
        "# warnings.filterwarnings(\"ignore\", category=UserWarning, module=\"torch.nn.functional\")"
      ],
      "execution_count": 0,
      "outputs": []
    },
    {
      "cell_type": "markdown",
      "metadata": {
        "id": "KOnc0IC39IFP",
        "colab_type": "text"
      },
      "source": [
        "# 2. ข้อมูล\n",
        "\n",
        "ใช้ชุดข้อมูล Imagenette 160"
      ]
    },
    {
      "cell_type": "code",
      "metadata": {
        "id": "G-KaJsQU9IFT",
        "colab_type": "code",
        "outputId": "e9d4ca64-e44a-4e3f-8590-d7f954b1c9d3",
        "colab": {
          "base_uri": "https://localhost:8080/",
          "height": 34
        }
      },
      "source": [
        "path = untar_data(URLs.IMAGENETTE_160)\n",
        "path"
      ],
      "execution_count": 19,
      "outputs": [
        {
          "output_type": "execute_result",
          "data": {
            "text/plain": [
              "PosixPath('/root/.fastai/data/imagenette-160')"
            ]
          },
          "metadata": {
            "tags": []
          },
          "execution_count": 19
        }
      ]
    },
    {
      "cell_type": "code",
      "metadata": {
        "id": "bs8UxQZUx6bF",
        "colab_type": "code",
        "colab": {}
      },
      "source": [
        "import PIL, os, mimetypes\n",
        "Path.ls = lambda x : list(x.iterdir())"
      ],
      "execution_count": 0,
      "outputs": []
    },
    {
      "cell_type": "code",
      "metadata": {
        "id": "p_doA8L_x6Yh",
        "colab_type": "code",
        "colab": {
          "base_uri": "https://localhost:8080/",
          "height": 51
        },
        "outputId": "52a6a26e-f646-4f79-d156-873ebcc48bd3"
      },
      "source": [
        "path.ls()"
      ],
      "execution_count": 21,
      "outputs": [
        {
          "output_type": "execute_result",
          "data": {
            "text/plain": [
              "[PosixPath('/root/.fastai/data/imagenette-160/train'),\n",
              " PosixPath('/root/.fastai/data/imagenette-160/val')]"
            ]
          },
          "metadata": {
            "tags": []
          },
          "execution_count": 21
        }
      ]
    },
    {
      "cell_type": "code",
      "metadata": {
        "id": "U_JplFJEx6VO",
        "colab_type": "code",
        "colab": {
          "base_uri": "https://localhost:8080/",
          "height": 187
        },
        "outputId": "d1ee4dce-d174-4b9e-e4f8-ce548b25333c"
      },
      "source": [
        "(path/'val').ls()"
      ],
      "execution_count": 23,
      "outputs": [
        {
          "output_type": "execute_result",
          "data": {
            "text/plain": [
              "[PosixPath('/root/.fastai/data/imagenette-160/val/n02102040'),\n",
              " PosixPath('/root/.fastai/data/imagenette-160/val/n03888257'),\n",
              " PosixPath('/root/.fastai/data/imagenette-160/val/n03028079'),\n",
              " PosixPath('/root/.fastai/data/imagenette-160/val/n03417042'),\n",
              " PosixPath('/root/.fastai/data/imagenette-160/val/n02979186'),\n",
              " PosixPath('/root/.fastai/data/imagenette-160/val/n03445777'),\n",
              " PosixPath('/root/.fastai/data/imagenette-160/val/n03425413'),\n",
              " PosixPath('/root/.fastai/data/imagenette-160/val/n03000684'),\n",
              " PosixPath('/root/.fastai/data/imagenette-160/val/n01440764'),\n",
              " PosixPath('/root/.fastai/data/imagenette-160/val/n03394916')]"
            ]
          },
          "metadata": {
            "tags": []
          },
          "execution_count": 23
        }
      ]
    },
    {
      "cell_type": "code",
      "metadata": {
        "id": "0yndhHdpx6PR",
        "colab_type": "code",
        "colab": {}
      },
      "source": [
        "path_tench = path/'val'/'n02102040'"
      ],
      "execution_count": 0,
      "outputs": []
    },
    {
      "cell_type": "code",
      "metadata": {
        "id": "5xnJFhDt1dJi",
        "colab_type": "code",
        "colab": {
          "base_uri": "https://localhost:8080/",
          "height": 34
        },
        "outputId": "60a88646-2ef3-4044-89cc-cbe7cefb5ab7"
      },
      "source": [
        "img_fn = path_tench.ls()[0]\n",
        "img_fn"
      ],
      "execution_count": 25,
      "outputs": [
        {
          "output_type": "execute_result",
          "data": {
            "text/plain": [
              "PosixPath('/root/.fastai/data/imagenette-160/val/n02102040/ILSVRC2012_val_00016768.JPEG')"
            ]
          },
          "metadata": {
            "tags": []
          },
          "execution_count": 25
        }
      ]
    },
    {
      "cell_type": "code",
      "metadata": {
        "id": "nq16PMLp1iJr",
        "colab_type": "code",
        "colab": {}
      },
      "source": [
        ""
      ],
      "execution_count": 0,
      "outputs": []
    }
  ]
}