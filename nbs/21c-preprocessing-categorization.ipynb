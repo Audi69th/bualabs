{
  "nbformat": 4,
  "nbformat_minor": 0,
  "metadata": {
    "colab": {
      "name": "21c-preprocessing-categorization.ipynb",
      "provenance": []
    },
    "kernelspec": {
      "name": "python3",
      "display_name": "Python 3"
    }
  },
  "cells": [
    {
      "cell_type": "markdown",
      "metadata": {
        "id": "c8-9QFBkyyBb",
        "colab_type": "text"
      },
      "source": [
        "# 0. Magic"
      ]
    },
    {
      "cell_type": "code",
      "metadata": {
        "id": "gcz3G9A1y7Oa",
        "colab_type": "code",
        "colab": {}
      },
      "source": [
        "%reload_ext autoreload\n",
        "%autoreload 2\n",
        "%matplotlib inline"
      ],
      "execution_count": 0,
      "outputs": []
    },
    {
      "cell_type": "markdown",
      "metadata": {
        "id": "dkT_1mkey-D9",
        "colab_type": "text"
      },
      "source": [
        "# 1. Import"
      ]
    },
    {
      "cell_type": "code",
      "metadata": {
        "id": "trmbq5rty_ar",
        "colab_type": "code",
        "colab": {}
      },
      "source": [
        "import pandas as pd\n",
        "import matplotlib.pyplot as plt"
      ],
      "execution_count": 0,
      "outputs": []
    },
    {
      "cell_type": "markdown",
      "metadata": {
        "id": "lWej3y4izBLw",
        "colab_type": "text"
      },
      "source": [
        "# 2. Data"
      ]
    },
    {
      "cell_type": "markdown",
      "metadata": {
        "id": "6fymzed6zD9x",
        "colab_type": "text"
      },
      "source": [
        "เราจะสมมติข้อมูล ผู้บรรยายงานสัมมนา ขึ้นมา สังเกตว่ามีค่า Null / None ด้วย"
      ]
    },
    {
      "cell_type": "code",
      "metadata": {
        "id": "s4tw0RVjzEI3",
        "colab_type": "code",
        "colab": {
          "base_uri": "https://localhost:8080/",
          "height": 233
        },
        "outputId": "012881f7-f5d4-4aed-8042-e369f1d7976c"
      },
      "source": [
        "df = pd.DataFrame({'Name': [\"Mister A\", \"Mister B\", \"Mister C\", \"Mister D\", \"Mister E\", \"Mister F\"], \n",
        "                   'Age': [22, 33, 30, 31, 42, 51], \n",
        "                   'Degree': [\"Bachelor\", \"Master\", \"Master\", \"Bachelor\", \"Doctor\", None], \n",
        "                   'Shirt': [\"Red\", \"Blue\", \"Green\", \"Blue\", None, \"Blue\"], \n",
        "                   })\n",
        "df"
      ],
      "execution_count": 49,
      "outputs": [
        {
          "output_type": "execute_result",
          "data": {
            "text/html": [
              "<div>\n",
              "<style scoped>\n",
              "    .dataframe tbody tr th:only-of-type {\n",
              "        vertical-align: middle;\n",
              "    }\n",
              "\n",
              "    .dataframe tbody tr th {\n",
              "        vertical-align: top;\n",
              "    }\n",
              "\n",
              "    .dataframe thead th {\n",
              "        text-align: right;\n",
              "    }\n",
              "</style>\n",
              "<table border=\"1\" class=\"dataframe\">\n",
              "  <thead>\n",
              "    <tr style=\"text-align: right;\">\n",
              "      <th></th>\n",
              "      <th>Name</th>\n",
              "      <th>Age</th>\n",
              "      <th>Degree</th>\n",
              "      <th>Shirt</th>\n",
              "    </tr>\n",
              "  </thead>\n",
              "  <tbody>\n",
              "    <tr>\n",
              "      <th>0</th>\n",
              "      <td>Mister A</td>\n",
              "      <td>22</td>\n",
              "      <td>Bachelor</td>\n",
              "      <td>Red</td>\n",
              "    </tr>\n",
              "    <tr>\n",
              "      <th>1</th>\n",
              "      <td>Mister B</td>\n",
              "      <td>33</td>\n",
              "      <td>Master</td>\n",
              "      <td>Blue</td>\n",
              "    </tr>\n",
              "    <tr>\n",
              "      <th>2</th>\n",
              "      <td>Mister C</td>\n",
              "      <td>30</td>\n",
              "      <td>Master</td>\n",
              "      <td>Green</td>\n",
              "    </tr>\n",
              "    <tr>\n",
              "      <th>3</th>\n",
              "      <td>Mister D</td>\n",
              "      <td>31</td>\n",
              "      <td>Bachelor</td>\n",
              "      <td>Blue</td>\n",
              "    </tr>\n",
              "    <tr>\n",
              "      <th>4</th>\n",
              "      <td>Mister E</td>\n",
              "      <td>42</td>\n",
              "      <td>Doctor</td>\n",
              "      <td>None</td>\n",
              "    </tr>\n",
              "    <tr>\n",
              "      <th>5</th>\n",
              "      <td>Mister F</td>\n",
              "      <td>51</td>\n",
              "      <td>None</td>\n",
              "      <td>Blue</td>\n",
              "    </tr>\n",
              "  </tbody>\n",
              "</table>\n",
              "</div>"
            ],
            "text/plain": [
              "       Name  Age    Degree  Shirt\n",
              "0  Mister A   22  Bachelor    Red\n",
              "1  Mister B   33    Master   Blue\n",
              "2  Mister C   30    Master  Green\n",
              "3  Mister D   31  Bachelor   Blue\n",
              "4  Mister E   42    Doctor   None\n",
              "5  Mister F   51      None   Blue"
            ]
          },
          "metadata": {
            "tags": []
          },
          "execution_count": 49
        }
      ]
    },
    {
      "cell_type": "markdown",
      "metadata": {
        "id": "NRVg7LADzESH",
        "colab_type": "text"
      },
      "source": [
        "# 3. Preprocessing"
      ]
    },
    {
      "cell_type": "markdown",
      "metadata": {
        "id": "5ir6vnjI0L17",
        "colab_type": "text"
      },
      "source": [
        "## 3.1 One-Hot Encoding"
      ]
    },
    {
      "cell_type": "markdown",
      "metadata": {
        "id": "0UGybacr6uN7",
        "colab_type": "text"
      },
      "source": [
        "เราจะสร้าง Dummy Column ใหม่ ขึ้้ึ้้้ึ้้นมากจาก ค่าต่าง ๆ ของ Shirt รวมถึง None/NA/Null"
      ]
    },
    {
      "cell_type": "code",
      "metadata": {
        "id": "wae2W23B0CTO",
        "colab_type": "code",
        "colab": {
          "base_uri": "https://localhost:8080/",
          "height": 233
        },
        "outputId": "f17b16ea-2a64-45dc-efad-fa2ef08469f6"
      },
      "source": [
        "df = pd.get_dummies(df, columns=['Shirt'], dummy_na=True)\n",
        "df\n"
      ],
      "execution_count": 50,
      "outputs": [
        {
          "output_type": "execute_result",
          "data": {
            "text/html": [
              "<div>\n",
              "<style scoped>\n",
              "    .dataframe tbody tr th:only-of-type {\n",
              "        vertical-align: middle;\n",
              "    }\n",
              "\n",
              "    .dataframe tbody tr th {\n",
              "        vertical-align: top;\n",
              "    }\n",
              "\n",
              "    .dataframe thead th {\n",
              "        text-align: right;\n",
              "    }\n",
              "</style>\n",
              "<table border=\"1\" class=\"dataframe\">\n",
              "  <thead>\n",
              "    <tr style=\"text-align: right;\">\n",
              "      <th></th>\n",
              "      <th>Name</th>\n",
              "      <th>Age</th>\n",
              "      <th>Degree</th>\n",
              "      <th>Shirt_Blue</th>\n",
              "      <th>Shirt_Green</th>\n",
              "      <th>Shirt_Red</th>\n",
              "      <th>Shirt_nan</th>\n",
              "    </tr>\n",
              "  </thead>\n",
              "  <tbody>\n",
              "    <tr>\n",
              "      <th>0</th>\n",
              "      <td>Mister A</td>\n",
              "      <td>22</td>\n",
              "      <td>Bachelor</td>\n",
              "      <td>0</td>\n",
              "      <td>0</td>\n",
              "      <td>1</td>\n",
              "      <td>0</td>\n",
              "    </tr>\n",
              "    <tr>\n",
              "      <th>1</th>\n",
              "      <td>Mister B</td>\n",
              "      <td>33</td>\n",
              "      <td>Master</td>\n",
              "      <td>1</td>\n",
              "      <td>0</td>\n",
              "      <td>0</td>\n",
              "      <td>0</td>\n",
              "    </tr>\n",
              "    <tr>\n",
              "      <th>2</th>\n",
              "      <td>Mister C</td>\n",
              "      <td>30</td>\n",
              "      <td>Master</td>\n",
              "      <td>0</td>\n",
              "      <td>1</td>\n",
              "      <td>0</td>\n",
              "      <td>0</td>\n",
              "    </tr>\n",
              "    <tr>\n",
              "      <th>3</th>\n",
              "      <td>Mister D</td>\n",
              "      <td>31</td>\n",
              "      <td>Bachelor</td>\n",
              "      <td>1</td>\n",
              "      <td>0</td>\n",
              "      <td>0</td>\n",
              "      <td>0</td>\n",
              "    </tr>\n",
              "    <tr>\n",
              "      <th>4</th>\n",
              "      <td>Mister E</td>\n",
              "      <td>42</td>\n",
              "      <td>Doctor</td>\n",
              "      <td>0</td>\n",
              "      <td>0</td>\n",
              "      <td>0</td>\n",
              "      <td>1</td>\n",
              "    </tr>\n",
              "    <tr>\n",
              "      <th>5</th>\n",
              "      <td>Mister F</td>\n",
              "      <td>51</td>\n",
              "      <td>None</td>\n",
              "      <td>1</td>\n",
              "      <td>0</td>\n",
              "      <td>0</td>\n",
              "      <td>0</td>\n",
              "    </tr>\n",
              "  </tbody>\n",
              "</table>\n",
              "</div>"
            ],
            "text/plain": [
              "       Name  Age    Degree  Shirt_Blue  Shirt_Green  Shirt_Red  Shirt_nan\n",
              "0  Mister A   22  Bachelor           0            0          1          0\n",
              "1  Mister B   33    Master           1            0          0          0\n",
              "2  Mister C   30    Master           0            1          0          0\n",
              "3  Mister D   31  Bachelor           1            0          0          0\n",
              "4  Mister E   42    Doctor           0            0          0          1\n",
              "5  Mister F   51      None           1            0          0          0"
            ]
          },
          "metadata": {
            "tags": []
          },
          "execution_count": 50
        }
      ]
    },
    {
      "cell_type": "markdown",
      "metadata": {
        "id": "lH5akpA81h8s",
        "colab_type": "text"
      },
      "source": [
        "## 3.2 Map to Int"
      ]
    },
    {
      "cell_type": "markdown",
      "metadata": {
        "id": "N_7hA_bM7D4D",
        "colab_type": "text"
      },
      "source": [
        "เราจะ Map ค่าต่าง ๆ ของ Degree เป็นตัวเลขที่เรากำหนด"
      ]
    },
    {
      "cell_type": "code",
      "metadata": {
        "id": "Ea7VHV5j2NRj",
        "colab_type": "code",
        "colab": {
          "base_uri": "https://localhost:8080/",
          "height": 233
        },
        "outputId": "45c6017e-774a-4f7b-cc71-2e61b0b1466f"
      },
      "source": [
        "df[\"Degree\"] = df[\"Degree\"].map({'Bachelor': 0, 'Master': 1, \"Doctor\": 2})\n",
        "df"
      ],
      "execution_count": 51,
      "outputs": [
        {
          "output_type": "execute_result",
          "data": {
            "text/html": [
              "<div>\n",
              "<style scoped>\n",
              "    .dataframe tbody tr th:only-of-type {\n",
              "        vertical-align: middle;\n",
              "    }\n",
              "\n",
              "    .dataframe tbody tr th {\n",
              "        vertical-align: top;\n",
              "    }\n",
              "\n",
              "    .dataframe thead th {\n",
              "        text-align: right;\n",
              "    }\n",
              "</style>\n",
              "<table border=\"1\" class=\"dataframe\">\n",
              "  <thead>\n",
              "    <tr style=\"text-align: right;\">\n",
              "      <th></th>\n",
              "      <th>Name</th>\n",
              "      <th>Age</th>\n",
              "      <th>Degree</th>\n",
              "      <th>Shirt_Blue</th>\n",
              "      <th>Shirt_Green</th>\n",
              "      <th>Shirt_Red</th>\n",
              "      <th>Shirt_nan</th>\n",
              "    </tr>\n",
              "  </thead>\n",
              "  <tbody>\n",
              "    <tr>\n",
              "      <th>0</th>\n",
              "      <td>Mister A</td>\n",
              "      <td>22</td>\n",
              "      <td>0.0</td>\n",
              "      <td>0</td>\n",
              "      <td>0</td>\n",
              "      <td>1</td>\n",
              "      <td>0</td>\n",
              "    </tr>\n",
              "    <tr>\n",
              "      <th>1</th>\n",
              "      <td>Mister B</td>\n",
              "      <td>33</td>\n",
              "      <td>1.0</td>\n",
              "      <td>1</td>\n",
              "      <td>0</td>\n",
              "      <td>0</td>\n",
              "      <td>0</td>\n",
              "    </tr>\n",
              "    <tr>\n",
              "      <th>2</th>\n",
              "      <td>Mister C</td>\n",
              "      <td>30</td>\n",
              "      <td>1.0</td>\n",
              "      <td>0</td>\n",
              "      <td>1</td>\n",
              "      <td>0</td>\n",
              "      <td>0</td>\n",
              "    </tr>\n",
              "    <tr>\n",
              "      <th>3</th>\n",
              "      <td>Mister D</td>\n",
              "      <td>31</td>\n",
              "      <td>0.0</td>\n",
              "      <td>1</td>\n",
              "      <td>0</td>\n",
              "      <td>0</td>\n",
              "      <td>0</td>\n",
              "    </tr>\n",
              "    <tr>\n",
              "      <th>4</th>\n",
              "      <td>Mister E</td>\n",
              "      <td>42</td>\n",
              "      <td>2.0</td>\n",
              "      <td>0</td>\n",
              "      <td>0</td>\n",
              "      <td>0</td>\n",
              "      <td>1</td>\n",
              "    </tr>\n",
              "    <tr>\n",
              "      <th>5</th>\n",
              "      <td>Mister F</td>\n",
              "      <td>51</td>\n",
              "      <td>NaN</td>\n",
              "      <td>1</td>\n",
              "      <td>0</td>\n",
              "      <td>0</td>\n",
              "      <td>0</td>\n",
              "    </tr>\n",
              "  </tbody>\n",
              "</table>\n",
              "</div>"
            ],
            "text/plain": [
              "       Name  Age  Degree  Shirt_Blue  Shirt_Green  Shirt_Red  Shirt_nan\n",
              "0  Mister A   22     0.0           0            0          1          0\n",
              "1  Mister B   33     1.0           1            0          0          0\n",
              "2  Mister C   30     1.0           0            1          0          0\n",
              "3  Mister D   31     0.0           1            0          0          0\n",
              "4  Mister E   42     2.0           0            0          0          1\n",
              "5  Mister F   51     NaN           1            0          0          0"
            ]
          },
          "metadata": {
            "tags": []
          },
          "execution_count": 51
        }
      ]
    },
    {
      "cell_type": "markdown",
      "metadata": {
        "id": "40J_rgC72tIH",
        "colab_type": "text"
      },
      "source": [
        "# 4. สรุป"
      ]
    },
    {
      "cell_type": "markdown",
      "metadata": {
        "id": "vJesCB-c3cVW",
        "colab_type": "text"
      },
      "source": [
        "1. เราจะเลือกวิธี Categorize ข้อมูลอย่างไร ขึ้นกับความหมายของ Feature นั้น ๆ \n",
        "1. การมีความรู้ความเข้าใจในข้อมูล ทำให้เราเลือกวิธี Preprocessing ได้ดีขึ้น\n",
        "1. โค้ดตัวอย่างใช้ Pandas DataFrame เป็นเครื่องมือจัดการข้อมูล แต่สำหรับภาษาอื่น ๆ ก็ใช้หลักการเดียวกัน"
      ]
    },
    {
      "cell_type": "code",
      "metadata": {
        "id": "fBpX4Wnc3cx1",
        "colab_type": "code",
        "colab": {}
      },
      "source": [
        ""
      ],
      "execution_count": 0,
      "outputs": []
    }
  ]
}