{
  "nbformat": 4,
  "nbformat_minor": 0,
  "metadata": {
    "colab": {
      "name": "21d-preprocessing-cat-other.ipynb",
      "provenance": []
    },
    "kernelspec": {
      "name": "python3",
      "display_name": "Python 3"
    }
  },
  "cells": [
    {
      "cell_type": "markdown",
      "metadata": {
        "id": "-WVPIadljrd8",
        "colab_type": "text"
      },
      "source": [
        "ในข้อมูลแบบ Category ถ้าข้อมูลมีการแตกยิบย่อยมากเกินไป เช่น บาง Category มีแค่ 1 หรือ 2 Record หรือจำนวน Record แตกต่างกับ Category ใหญ่ ๆ เป็น 100 เป็น 1000 เท่า ข้อมูล Category เหล่านี้ อาจจะไม่ได้ช่วยโมเดล Machine Learning ในการเรียนรู้ก็ได้ \n",
        "\n",
        "ทางแก้คือ เราจะ Group Category เล็ก ๆ เหล่านั้นรวมออกมาเป็น Category ใหม่ ตั้งชื่อว่า Other \n",
        "\n",
        "การสร้าง Other Category มีข้อดีอีกอย่างคือ ถ้ามีข้อมูล Category ใหม่หลุดมา เราอาจจะเอาใส่ไว้ใน Other ได้เลย โดยที่ไม่ต้องแก้โปรแกรมเยอะ"
      ]
    },
    {
      "cell_type": "markdown",
      "metadata": {
        "id": "c8-9QFBkyyBb",
        "colab_type": "text"
      },
      "source": [
        "# 0. Magic"
      ]
    },
    {
      "cell_type": "code",
      "metadata": {
        "id": "gcz3G9A1y7Oa",
        "colab_type": "code",
        "colab": {}
      },
      "source": [
        "%reload_ext autoreload\n",
        "%autoreload 2\n",
        "%matplotlib inline"
      ],
      "execution_count": 0,
      "outputs": []
    },
    {
      "cell_type": "markdown",
      "metadata": {
        "id": "dkT_1mkey-D9",
        "colab_type": "text"
      },
      "source": [
        "# 1. Import"
      ]
    },
    {
      "cell_type": "code",
      "metadata": {
        "id": "trmbq5rty_ar",
        "colab_type": "code",
        "colab": {}
      },
      "source": [
        "import pandas as pd\n",
        "import matplotlib.pyplot as plt"
      ],
      "execution_count": 0,
      "outputs": []
    },
    {
      "cell_type": "markdown",
      "metadata": {
        "id": "lWej3y4izBLw",
        "colab_type": "text"
      },
      "source": [
        "# 2. Data"
      ]
    },
    {
      "cell_type": "markdown",
      "metadata": {
        "id": "6fymzed6zD9x",
        "colab_type": "text"
      },
      "source": [
        "เราจะสมมติข้อมูล ผู้เข้าร่วมงานสัมมนา ขึ้นมา"
      ]
    },
    {
      "cell_type": "code",
      "metadata": {
        "id": "s4tw0RVjzEI3",
        "colab_type": "code",
        "outputId": "ac614e8e-32f3-4da9-faa6-106141a206c9",
        "colab": {
          "base_uri": "https://localhost:8080/",
          "height": 793
        }
      },
      "source": [
        "df = pd.DataFrame({'Name': [\"Mister A\", \"Mister B\", \"Mister C\", \"Mister D\", \"Mister E\", \"Mister F\", \"Mister G\", \"Mister H\", \"Mister I\", \"Mister J\", \"Mister K\", \"Mister L\", \"Mister M\", \"Mister N\", \"Mister O\", \"Mister P\", \"Mister Q\", \"Mister R\", \"Mister S\", \"Mister T\", \"Mister U\", \"Mister V\", \"Mister W\", \"Mister X\"], \n",
        "                   'Age': [22, 33, 35, 31, 41, 51, 27, 33, 37, 31, 42, 57, 22, 33, 35, 31, 41, 51, 27, 33, 37, 31, 42, 57], \n",
        "                   'Country': [\"Thai\", \"Laos\", \"Laos\", \"Thai\", \"Brazil\", \"Ethiopia\", \"Myanmar\", \"Canada\", \"Laos\", \"Thai\", \"Thai\", \"Myanmar\", \"Thai\", \"Laos\", \"Laos\", \"Thai\", \"Myanmar\", \"Myanmar\", \"Myanmar\", \"Laos\", \"Laos\", \"Thai\", \"Thai\", \"Myanmar\"], \n",
        "                   })\n",
        "df"
      ],
      "execution_count": 30,
      "outputs": [
        {
          "output_type": "execute_result",
          "data": {
            "text/html": [
              "<div>\n",
              "<style scoped>\n",
              "    .dataframe tbody tr th:only-of-type {\n",
              "        vertical-align: middle;\n",
              "    }\n",
              "\n",
              "    .dataframe tbody tr th {\n",
              "        vertical-align: top;\n",
              "    }\n",
              "\n",
              "    .dataframe thead th {\n",
              "        text-align: right;\n",
              "    }\n",
              "</style>\n",
              "<table border=\"1\" class=\"dataframe\">\n",
              "  <thead>\n",
              "    <tr style=\"text-align: right;\">\n",
              "      <th></th>\n",
              "      <th>Name</th>\n",
              "      <th>Age</th>\n",
              "      <th>Country</th>\n",
              "    </tr>\n",
              "  </thead>\n",
              "  <tbody>\n",
              "    <tr>\n",
              "      <th>0</th>\n",
              "      <td>Mister A</td>\n",
              "      <td>22</td>\n",
              "      <td>Thai</td>\n",
              "    </tr>\n",
              "    <tr>\n",
              "      <th>1</th>\n",
              "      <td>Mister B</td>\n",
              "      <td>33</td>\n",
              "      <td>Laos</td>\n",
              "    </tr>\n",
              "    <tr>\n",
              "      <th>2</th>\n",
              "      <td>Mister C</td>\n",
              "      <td>35</td>\n",
              "      <td>Laos</td>\n",
              "    </tr>\n",
              "    <tr>\n",
              "      <th>3</th>\n",
              "      <td>Mister D</td>\n",
              "      <td>31</td>\n",
              "      <td>Thai</td>\n",
              "    </tr>\n",
              "    <tr>\n",
              "      <th>4</th>\n",
              "      <td>Mister E</td>\n",
              "      <td>41</td>\n",
              "      <td>Brazil</td>\n",
              "    </tr>\n",
              "    <tr>\n",
              "      <th>5</th>\n",
              "      <td>Mister F</td>\n",
              "      <td>51</td>\n",
              "      <td>Ethiopia</td>\n",
              "    </tr>\n",
              "    <tr>\n",
              "      <th>6</th>\n",
              "      <td>Mister G</td>\n",
              "      <td>27</td>\n",
              "      <td>Myanmar</td>\n",
              "    </tr>\n",
              "    <tr>\n",
              "      <th>7</th>\n",
              "      <td>Mister H</td>\n",
              "      <td>33</td>\n",
              "      <td>Canada</td>\n",
              "    </tr>\n",
              "    <tr>\n",
              "      <th>8</th>\n",
              "      <td>Mister I</td>\n",
              "      <td>37</td>\n",
              "      <td>Laos</td>\n",
              "    </tr>\n",
              "    <tr>\n",
              "      <th>9</th>\n",
              "      <td>Mister J</td>\n",
              "      <td>31</td>\n",
              "      <td>Thai</td>\n",
              "    </tr>\n",
              "    <tr>\n",
              "      <th>10</th>\n",
              "      <td>Mister K</td>\n",
              "      <td>42</td>\n",
              "      <td>Thai</td>\n",
              "    </tr>\n",
              "    <tr>\n",
              "      <th>11</th>\n",
              "      <td>Mister L</td>\n",
              "      <td>57</td>\n",
              "      <td>Myanmar</td>\n",
              "    </tr>\n",
              "    <tr>\n",
              "      <th>12</th>\n",
              "      <td>Mister M</td>\n",
              "      <td>22</td>\n",
              "      <td>Thai</td>\n",
              "    </tr>\n",
              "    <tr>\n",
              "      <th>13</th>\n",
              "      <td>Mister N</td>\n",
              "      <td>33</td>\n",
              "      <td>Laos</td>\n",
              "    </tr>\n",
              "    <tr>\n",
              "      <th>14</th>\n",
              "      <td>Mister O</td>\n",
              "      <td>35</td>\n",
              "      <td>Laos</td>\n",
              "    </tr>\n",
              "    <tr>\n",
              "      <th>15</th>\n",
              "      <td>Mister P</td>\n",
              "      <td>31</td>\n",
              "      <td>Thai</td>\n",
              "    </tr>\n",
              "    <tr>\n",
              "      <th>16</th>\n",
              "      <td>Mister Q</td>\n",
              "      <td>41</td>\n",
              "      <td>Myanmar</td>\n",
              "    </tr>\n",
              "    <tr>\n",
              "      <th>17</th>\n",
              "      <td>Mister R</td>\n",
              "      <td>51</td>\n",
              "      <td>Myanmar</td>\n",
              "    </tr>\n",
              "    <tr>\n",
              "      <th>18</th>\n",
              "      <td>Mister S</td>\n",
              "      <td>27</td>\n",
              "      <td>Myanmar</td>\n",
              "    </tr>\n",
              "    <tr>\n",
              "      <th>19</th>\n",
              "      <td>Mister T</td>\n",
              "      <td>33</td>\n",
              "      <td>Laos</td>\n",
              "    </tr>\n",
              "    <tr>\n",
              "      <th>20</th>\n",
              "      <td>Mister U</td>\n",
              "      <td>37</td>\n",
              "      <td>Laos</td>\n",
              "    </tr>\n",
              "    <tr>\n",
              "      <th>21</th>\n",
              "      <td>Mister V</td>\n",
              "      <td>31</td>\n",
              "      <td>Thai</td>\n",
              "    </tr>\n",
              "    <tr>\n",
              "      <th>22</th>\n",
              "      <td>Mister W</td>\n",
              "      <td>42</td>\n",
              "      <td>Thai</td>\n",
              "    </tr>\n",
              "    <tr>\n",
              "      <th>23</th>\n",
              "      <td>Mister X</td>\n",
              "      <td>57</td>\n",
              "      <td>Myanmar</td>\n",
              "    </tr>\n",
              "  </tbody>\n",
              "</table>\n",
              "</div>"
            ],
            "text/plain": [
              "        Name  Age   Country\n",
              "0   Mister A   22      Thai\n",
              "1   Mister B   33      Laos\n",
              "2   Mister C   35      Laos\n",
              "3   Mister D   31      Thai\n",
              "4   Mister E   41    Brazil\n",
              "5   Mister F   51  Ethiopia\n",
              "6   Mister G   27   Myanmar\n",
              "7   Mister H   33    Canada\n",
              "8   Mister I   37      Laos\n",
              "9   Mister J   31      Thai\n",
              "10  Mister K   42      Thai\n",
              "11  Mister L   57   Myanmar\n",
              "12  Mister M   22      Thai\n",
              "13  Mister N   33      Laos\n",
              "14  Mister O   35      Laos\n",
              "15  Mister P   31      Thai\n",
              "16  Mister Q   41   Myanmar\n",
              "17  Mister R   51   Myanmar\n",
              "18  Mister S   27   Myanmar\n",
              "19  Mister T   33      Laos\n",
              "20  Mister U   37      Laos\n",
              "21  Mister V   31      Thai\n",
              "22  Mister W   42      Thai\n",
              "23  Mister X   57   Myanmar"
            ]
          },
          "metadata": {
            "tags": []
          },
          "execution_count": 30
        }
      ]
    },
    {
      "cell_type": "markdown",
      "metadata": {
        "id": "NRVg7LADzESH",
        "colab_type": "text"
      },
      "source": [
        "# 3. Preprocessing"
      ]
    },
    {
      "cell_type": "markdown",
      "metadata": {
        "id": "5ir6vnjI0L17",
        "colab_type": "text"
      },
      "source": [
        "## 3.1 Other Category"
      ]
    },
    {
      "cell_type": "markdown",
      "metadata": {
        "id": "gRDzW-P865xb",
        "colab_type": "text"
      },
      "source": [
        "### Before"
      ]
    },
    {
      "cell_type": "markdown",
      "metadata": {
        "id": "0UGybacr6uN7",
        "colab_type": "text"
      },
      "source": [
        "การที่เราจะ Group Category เล็ก รวมกันเป็น Other เราจะดูก่อนว่าแต่ละ Category มีสมาชิกเท่าไร"
      ]
    },
    {
      "cell_type": "code",
      "metadata": {
        "id": "J39YU9_pimbJ",
        "colab_type": "code",
        "colab": {
          "base_uri": "https://localhost:8080/",
          "height": 136
        },
        "outputId": "f7b0a6cb-101f-4d39-b442-09d3481c6518"
      },
      "source": [
        "df[\"Country\"].value_counts()"
      ],
      "execution_count": 31,
      "outputs": [
        {
          "output_type": "execute_result",
          "data": {
            "text/plain": [
              "Thai        8\n",
              "Laos        7\n",
              "Myanmar     6\n",
              "Canada      1\n",
              "Ethiopia    1\n",
              "Brazil      1\n",
              "Name: Country, dtype: int64"
            ]
          },
          "metadata": {
            "tags": []
          },
          "execution_count": 31
        }
      ]
    },
    {
      "cell_type": "markdown",
      "metadata": {
        "id": "_AVN1TLb26dy",
        "colab_type": "text"
      },
      "source": [
        "ในเคสนี้ เราจะเลือก Top 3 Category ออกมาก่อน"
      ]
    },
    {
      "cell_type": "code",
      "metadata": {
        "id": "LlfOyeIfin7h",
        "colab_type": "code",
        "colab": {
          "base_uri": "https://localhost:8080/",
          "height": 34
        },
        "outputId": "3742795c-9e82-49a7-83cc-bd73fa6b8ac5"
      },
      "source": [
        "top3 = df[\"Country\"].value_counts().nlargest(3).index\n",
        "top3"
      ],
      "execution_count": 32,
      "outputs": [
        {
          "output_type": "execute_result",
          "data": {
            "text/plain": [
              "Index(['Thai', 'Laos', 'Myanmar'], dtype='object')"
            ]
          },
          "metadata": {
            "tags": []
          },
          "execution_count": 32
        }
      ]
    },
    {
      "cell_type": "markdown",
      "metadata": {
        "id": "c2oQm5936-Ii",
        "colab_type": "text"
      },
      "source": [
        "### After"
      ]
    },
    {
      "cell_type": "markdown",
      "metadata": {
        "id": "JFnafR853HUj",
        "colab_type": "text"
      },
      "source": [
        "เราจะ Group Category ให้เหลือเป็น  3 + 1 Category (Top 3 + Other)"
      ]
    },
    {
      "cell_type": "code",
      "metadata": {
        "id": "t30uLoYNioKz",
        "colab_type": "code",
        "colab": {
          "base_uri": "https://localhost:8080/",
          "height": 793
        },
        "outputId": "8a40598a-03ba-4afe-c868-79ecadb44366"
      },
      "source": [
        "df[\"Country_NEW\"] = df[\"Country\"].where(df[\"Country\"].isin(top3), other=\"Other\")\n",
        "df"
      ],
      "execution_count": 34,
      "outputs": [
        {
          "output_type": "execute_result",
          "data": {
            "text/html": [
              "<div>\n",
              "<style scoped>\n",
              "    .dataframe tbody tr th:only-of-type {\n",
              "        vertical-align: middle;\n",
              "    }\n",
              "\n",
              "    .dataframe tbody tr th {\n",
              "        vertical-align: top;\n",
              "    }\n",
              "\n",
              "    .dataframe thead th {\n",
              "        text-align: right;\n",
              "    }\n",
              "</style>\n",
              "<table border=\"1\" class=\"dataframe\">\n",
              "  <thead>\n",
              "    <tr style=\"text-align: right;\">\n",
              "      <th></th>\n",
              "      <th>Name</th>\n",
              "      <th>Age</th>\n",
              "      <th>Country</th>\n",
              "      <th>Country_NEW</th>\n",
              "    </tr>\n",
              "  </thead>\n",
              "  <tbody>\n",
              "    <tr>\n",
              "      <th>0</th>\n",
              "      <td>Mister A</td>\n",
              "      <td>22</td>\n",
              "      <td>Thai</td>\n",
              "      <td>Thai</td>\n",
              "    </tr>\n",
              "    <tr>\n",
              "      <th>1</th>\n",
              "      <td>Mister B</td>\n",
              "      <td>33</td>\n",
              "      <td>Laos</td>\n",
              "      <td>Laos</td>\n",
              "    </tr>\n",
              "    <tr>\n",
              "      <th>2</th>\n",
              "      <td>Mister C</td>\n",
              "      <td>35</td>\n",
              "      <td>Laos</td>\n",
              "      <td>Laos</td>\n",
              "    </tr>\n",
              "    <tr>\n",
              "      <th>3</th>\n",
              "      <td>Mister D</td>\n",
              "      <td>31</td>\n",
              "      <td>Thai</td>\n",
              "      <td>Thai</td>\n",
              "    </tr>\n",
              "    <tr>\n",
              "      <th>4</th>\n",
              "      <td>Mister E</td>\n",
              "      <td>41</td>\n",
              "      <td>Brazil</td>\n",
              "      <td>Other</td>\n",
              "    </tr>\n",
              "    <tr>\n",
              "      <th>5</th>\n",
              "      <td>Mister F</td>\n",
              "      <td>51</td>\n",
              "      <td>Ethiopia</td>\n",
              "      <td>Other</td>\n",
              "    </tr>\n",
              "    <tr>\n",
              "      <th>6</th>\n",
              "      <td>Mister G</td>\n",
              "      <td>27</td>\n",
              "      <td>Myanmar</td>\n",
              "      <td>Myanmar</td>\n",
              "    </tr>\n",
              "    <tr>\n",
              "      <th>7</th>\n",
              "      <td>Mister H</td>\n",
              "      <td>33</td>\n",
              "      <td>Canada</td>\n",
              "      <td>Other</td>\n",
              "    </tr>\n",
              "    <tr>\n",
              "      <th>8</th>\n",
              "      <td>Mister I</td>\n",
              "      <td>37</td>\n",
              "      <td>Laos</td>\n",
              "      <td>Laos</td>\n",
              "    </tr>\n",
              "    <tr>\n",
              "      <th>9</th>\n",
              "      <td>Mister J</td>\n",
              "      <td>31</td>\n",
              "      <td>Thai</td>\n",
              "      <td>Thai</td>\n",
              "    </tr>\n",
              "    <tr>\n",
              "      <th>10</th>\n",
              "      <td>Mister K</td>\n",
              "      <td>42</td>\n",
              "      <td>Thai</td>\n",
              "      <td>Thai</td>\n",
              "    </tr>\n",
              "    <tr>\n",
              "      <th>11</th>\n",
              "      <td>Mister L</td>\n",
              "      <td>57</td>\n",
              "      <td>Myanmar</td>\n",
              "      <td>Myanmar</td>\n",
              "    </tr>\n",
              "    <tr>\n",
              "      <th>12</th>\n",
              "      <td>Mister M</td>\n",
              "      <td>22</td>\n",
              "      <td>Thai</td>\n",
              "      <td>Thai</td>\n",
              "    </tr>\n",
              "    <tr>\n",
              "      <th>13</th>\n",
              "      <td>Mister N</td>\n",
              "      <td>33</td>\n",
              "      <td>Laos</td>\n",
              "      <td>Laos</td>\n",
              "    </tr>\n",
              "    <tr>\n",
              "      <th>14</th>\n",
              "      <td>Mister O</td>\n",
              "      <td>35</td>\n",
              "      <td>Laos</td>\n",
              "      <td>Laos</td>\n",
              "    </tr>\n",
              "    <tr>\n",
              "      <th>15</th>\n",
              "      <td>Mister P</td>\n",
              "      <td>31</td>\n",
              "      <td>Thai</td>\n",
              "      <td>Thai</td>\n",
              "    </tr>\n",
              "    <tr>\n",
              "      <th>16</th>\n",
              "      <td>Mister Q</td>\n",
              "      <td>41</td>\n",
              "      <td>Myanmar</td>\n",
              "      <td>Myanmar</td>\n",
              "    </tr>\n",
              "    <tr>\n",
              "      <th>17</th>\n",
              "      <td>Mister R</td>\n",
              "      <td>51</td>\n",
              "      <td>Myanmar</td>\n",
              "      <td>Myanmar</td>\n",
              "    </tr>\n",
              "    <tr>\n",
              "      <th>18</th>\n",
              "      <td>Mister S</td>\n",
              "      <td>27</td>\n",
              "      <td>Myanmar</td>\n",
              "      <td>Myanmar</td>\n",
              "    </tr>\n",
              "    <tr>\n",
              "      <th>19</th>\n",
              "      <td>Mister T</td>\n",
              "      <td>33</td>\n",
              "      <td>Laos</td>\n",
              "      <td>Laos</td>\n",
              "    </tr>\n",
              "    <tr>\n",
              "      <th>20</th>\n",
              "      <td>Mister U</td>\n",
              "      <td>37</td>\n",
              "      <td>Laos</td>\n",
              "      <td>Laos</td>\n",
              "    </tr>\n",
              "    <tr>\n",
              "      <th>21</th>\n",
              "      <td>Mister V</td>\n",
              "      <td>31</td>\n",
              "      <td>Thai</td>\n",
              "      <td>Thai</td>\n",
              "    </tr>\n",
              "    <tr>\n",
              "      <th>22</th>\n",
              "      <td>Mister W</td>\n",
              "      <td>42</td>\n",
              "      <td>Thai</td>\n",
              "      <td>Thai</td>\n",
              "    </tr>\n",
              "    <tr>\n",
              "      <th>23</th>\n",
              "      <td>Mister X</td>\n",
              "      <td>57</td>\n",
              "      <td>Myanmar</td>\n",
              "      <td>Myanmar</td>\n",
              "    </tr>\n",
              "  </tbody>\n",
              "</table>\n",
              "</div>"
            ],
            "text/plain": [
              "        Name  Age   Country Country_NEW\n",
              "0   Mister A   22      Thai        Thai\n",
              "1   Mister B   33      Laos        Laos\n",
              "2   Mister C   35      Laos        Laos\n",
              "3   Mister D   31      Thai        Thai\n",
              "4   Mister E   41    Brazil       Other\n",
              "5   Mister F   51  Ethiopia       Other\n",
              "6   Mister G   27   Myanmar     Myanmar\n",
              "7   Mister H   33    Canada       Other\n",
              "8   Mister I   37      Laos        Laos\n",
              "9   Mister J   31      Thai        Thai\n",
              "10  Mister K   42      Thai        Thai\n",
              "11  Mister L   57   Myanmar     Myanmar\n",
              "12  Mister M   22      Thai        Thai\n",
              "13  Mister N   33      Laos        Laos\n",
              "14  Mister O   35      Laos        Laos\n",
              "15  Mister P   31      Thai        Thai\n",
              "16  Mister Q   41   Myanmar     Myanmar\n",
              "17  Mister R   51   Myanmar     Myanmar\n",
              "18  Mister S   27   Myanmar     Myanmar\n",
              "19  Mister T   33      Laos        Laos\n",
              "20  Mister U   37      Laos        Laos\n",
              "21  Mister V   31      Thai        Thai\n",
              "22  Mister W   42      Thai        Thai\n",
              "23  Mister X   57   Myanmar     Myanmar"
            ]
          },
          "metadata": {
            "tags": []
          },
          "execution_count": 34
        }
      ]
    },
    {
      "cell_type": "markdown",
      "metadata": {
        "id": "OnYSQK_J3QiB",
        "colab_type": "text"
      },
      "source": [
        "นับค่า Feature ใหม่ ที่เพิ่งสร้างขึ้นมา"
      ]
    },
    {
      "cell_type": "code",
      "metadata": {
        "id": "Vxr-36Enio__",
        "colab_type": "code",
        "colab": {
          "base_uri": "https://localhost:8080/",
          "height": 102
        },
        "outputId": "80247307-8689-4b02-85d7-34583f3e2293"
      },
      "source": [
        "df[\"Country_NEW\"].value_counts()"
      ],
      "execution_count": 36,
      "outputs": [
        {
          "output_type": "execute_result",
          "data": {
            "text/plain": [
              "Thai       8\n",
              "Laos       7\n",
              "Myanmar    6\n",
              "Other      3\n",
              "Name: Country_NEW, dtype: int64"
            ]
          },
          "metadata": {
            "tags": []
          },
          "execution_count": 36
        }
      ]
    },
    {
      "cell_type": "markdown",
      "metadata": {
        "id": "cc_sh4E55qZv",
        "colab_type": "text"
      },
      "source": [
        "# 4. สรุป"
      ]
    },
    {
      "cell_type": "markdown",
      "metadata": {
        "id": "RiGdmq0u5qJg",
        "colab_type": "text"
      },
      "source": [
        "1. เราได้ Group รวม Category เล็ก ๆ รวมเข้าเป็น Category ใหม่ ตั้งชื่อว่า Other ซึ่งเราต้องตัดสินใจเลือกว่าเล็ก คือแค่ไหน จากการ [EDA](https://www.bualabs.com/archives/2297/exploratory-data-analysis-eda-pandas-profiling-pandas-dataframe-pandas-ep-6/)\n",
        "1. เราสามารถสร้าง Other Category อย่างง่าย ด้วย โค้ดไม่กี่บรรทัด และ Pandas Dataframe\n",
        "1. เราสามารถนำเทคนิคนี้ ไปใช้ร่วมกับ [Preprocessing](https://www.bualabs.com/archives/2085/what-is-preprocessing-handle-missing-value-fill-na-null-nan-before-feedforward-machine-learning-preprocessing-ep-1/) แบบอื่น ๆ เพื่อจัดเตรียมข้อมูล เพิ่มประสิทธิภาพการเรียนรู้ให้กับโมเดลของเรา"
      ]
    },
    {
      "cell_type": "markdown",
      "metadata": {
        "id": "g6swmT23iqDX",
        "colab_type": "text"
      },
      "source": [
        "# Credit"
      ]
    },
    {
      "cell_type": "markdown",
      "metadata": {
        "id": "r6eThAF9iqIL",
        "colab_type": "text"
      },
      "source": [
        "* https://www.facebook.com/DataScienceSchool/photos/a.1499945753419628/2565166906897502/?type=3&theater"
      ]
    },
    {
      "cell_type": "code",
      "metadata": {
        "id": "IvaFxgF00AoJ",
        "colab_type": "code",
        "colab": {}
      },
      "source": [
        ""
      ],
      "execution_count": 0,
      "outputs": []
    }
  ]
}