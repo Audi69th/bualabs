{
  "nbformat": 4,
  "nbformat_minor": 0,
  "metadata": {
    "colab": {
      "name": "22b-python-lambda.ipynb",
      "provenance": []
    },
    "kernelspec": {
      "name": "python3",
      "display_name": "Python 3"
    }
  },
  "cells": [
    {
      "cell_type": "markdown",
      "metadata": {
        "id": "x6jf-W7zE-PJ",
        "colab_type": "text"
      },
      "source": [
        "# ตัวอย่าง Lambda Function"
      ]
    },
    {
      "cell_type": "markdown",
      "metadata": {
        "id": "Avs8386e5iYc",
        "colab_type": "text"
      },
      "source": [
        "ตัวอย่าง Lambda Function ที่รับ Parameter มา บวก 1 และ return ผลลัพธ์"
      ]
    },
    {
      "cell_type": "code",
      "metadata": {
        "id": "nNHxgl7F5xQO",
        "colab_type": "code",
        "outputId": "da632ebf-25a0-44fe-cd6d-9ae0aeee9534",
        "colab": {
          "base_uri": "https://localhost:8080/",
          "height": 35
        }
      },
      "source": [
        "x = lambda a : a + 1\n",
        "x"
      ],
      "execution_count": 0,
      "outputs": [
        {
          "output_type": "execute_result",
          "data": {
            "text/plain": [
              "<function __main__.<lambda>>"
            ]
          },
          "metadata": {
            "tags": []
          },
          "execution_count": 2
        }
      ]
    },
    {
      "cell_type": "markdown",
      "metadata": {
        "id": "-VKJC7G_Bls9",
        "colab_type": "text"
      },
      "source": [
        "เรียกฟังก์ชัน ด้วย Parameter 5"
      ]
    },
    {
      "cell_type": "code",
      "metadata": {
        "id": "V9xSZAbZ5xaY",
        "colab_type": "code",
        "outputId": "4627a704-80a0-45d4-968e-f7bd4c87e653",
        "colab": {
          "base_uri": "https://localhost:8080/",
          "height": 35
        }
      },
      "source": [
        "x(5)"
      ],
      "execution_count": 0,
      "outputs": [
        {
          "output_type": "execute_result",
          "data": {
            "text/plain": [
              "6"
            ]
          },
          "metadata": {
            "tags": []
          },
          "execution_count": 25
        }
      ]
    },
    {
      "cell_type": "markdown",
      "metadata": {
        "id": "g1HPRjlGB-bU",
        "colab_type": "text"
      },
      "source": [
        "เราสามารถสร้าง Lambda Function ที่รับ Parameter มากกว่า 1 ตัว ดังตัวอย่างด้านล่าง ที่รับ Parameter 2 ตัว"
      ]
    },
    {
      "cell_type": "code",
      "metadata": {
        "id": "mvEuZtOd5xkb",
        "colab_type": "code",
        "colab": {}
      },
      "source": [
        "x2 = lambda a, b : (a * b) + 0.05"
      ],
      "execution_count": 0,
      "outputs": []
    },
    {
      "cell_type": "code",
      "metadata": {
        "id": "Ihl6QN9P5xvc",
        "colab_type": "code",
        "outputId": "acb23be9-6849-4a9d-c8fa-3d5397fc9adb",
        "colab": {
          "base_uri": "https://localhost:8080/",
          "height": 35
        }
      },
      "source": [
        "x2(2, 3)"
      ],
      "execution_count": 0,
      "outputs": [
        {
          "output_type": "execute_result",
          "data": {
            "text/plain": [
              "6.05"
            ]
          },
          "metadata": {
            "tags": []
          },
          "execution_count": 27
        }
      ]
    },
    {
      "cell_type": "markdown",
      "metadata": {
        "id": "6ktnSpxtDVeE",
        "colab_type": "text"
      },
      "source": [
        "หรือ 3 Parameter ดังตัวอย่าง"
      ]
    },
    {
      "cell_type": "markdown",
      "metadata": {
        "id": "PAt1JDew5x5z",
        "colab_type": "text"
      },
      "source": [
        "x3 = lambda a, b, c : (a * b) + c + 700"
      ]
    },
    {
      "cell_type": "code",
      "metadata": {
        "id": "SHX8yo0w5yEj",
        "colab_type": "code",
        "outputId": "88daed3e-5e4d-4b33-b967-dc5b0287dfe8",
        "colab": {
          "base_uri": "https://localhost:8080/",
          "height": 35
        }
      },
      "source": [
        "x3(3, 4, 1000)"
      ],
      "execution_count": 0,
      "outputs": [
        {
          "output_type": "execute_result",
          "data": {
            "text/plain": [
              "1712"
            ]
          },
          "metadata": {
            "tags": []
          },
          "execution_count": 28
        }
      ]
    },
    {
      "cell_type": "markdown",
      "metadata": {
        "id": "H7jERtX-5yPT",
        "colab_type": "text"
      },
      "source": [
        "# ทำไมเราต้องใช้ Lambda Function"
      ]
    },
    {
      "cell_type": "markdown",
      "metadata": {
        "id": "mDqS-RASE5Je",
        "colab_type": "text"
      },
      "source": [
        "Lambda Function จะมีประโยชน์มาก เมื่อเราใช้เป็น Anonymous Function ภายในฟังก์ชันอื่น ดังตัวอย่าง\n",
        "\n",
        "สมมติเราต้องการสร้างฟังก์ชัน ที่จะคูณกับค่าที่เรากำหนด"
      ]
    },
    {
      "cell_type": "code",
      "metadata": {
        "id": "z18QxU5e5ilr",
        "colab_type": "code",
        "colab": {}
      },
      "source": [
        "def multiply_j(j):\n",
        "    return lambda a : a * j"
      ],
      "execution_count": 0,
      "outputs": []
    },
    {
      "cell_type": "markdown",
      "metadata": {
        "id": "mlNTEHBjMBAf",
        "colab_type": "text"
      },
      "source": [
        "เราจะสร้างฟังก์ชันที่จะคูณ 8"
      ]
    },
    {
      "cell_type": "code",
      "metadata": {
        "id": "QHpO8a8c905T",
        "colab_type": "code",
        "outputId": "23708252-a4ba-4a2e-8f43-2b66301ea48b",
        "colab": {
          "base_uri": "https://localhost:8080/",
          "height": 35
        }
      },
      "source": [
        "m8 = multiply_j(j=8)\n",
        "m8"
      ],
      "execution_count": 30,
      "outputs": [
        {
          "output_type": "execute_result",
          "data": {
            "text/plain": [
              "<function __main__.multiply_j.<locals>.<lambda>>"
            ]
          },
          "metadata": {
            "tags": []
          },
          "execution_count": 30
        }
      ]
    },
    {
      "cell_type": "markdown",
      "metadata": {
        "id": "KxsuoCghMNTd",
        "colab_type": "text"
      },
      "source": [
        ""
      ]
    },
    {
      "cell_type": "code",
      "metadata": {
        "id": "8toat1Nw_WmK",
        "colab_type": "code",
        "outputId": "f782e933-505e-4b1d-a66b-e9d84d0c1bc3",
        "colab": {
          "base_uri": "https://localhost:8080/",
          "height": 35
        }
      },
      "source": [
        "m8(12)"
      ],
      "execution_count": 0,
      "outputs": [
        {
          "output_type": "execute_result",
          "data": {
            "text/plain": [
              "96"
            ]
          },
          "metadata": {
            "tags": []
          },
          "execution_count": 22
        }
      ]
    },
    {
      "cell_type": "code",
      "metadata": {
        "id": "u96Ou-D2_aZA",
        "colab_type": "code",
        "colab": {}
      },
      "source": [
        "m3 = multiply_j(3)\n",
        "m5 = multiply_j(5)\n",
        "m7 = multiply_j(7)"
      ],
      "execution_count": 0,
      "outputs": []
    },
    {
      "cell_type": "code",
      "metadata": {
        "id": "47MFS2_E_3np",
        "colab_type": "code",
        "outputId": "6976714c-735a-4b83-eb8a-b9691549c139",
        "colab": {
          "base_uri": "https://localhost:8080/",
          "height": 35
        }
      },
      "source": [
        "m3(3), m5(3), m7(3)"
      ],
      "execution_count": 0,
      "outputs": [
        {
          "output_type": "execute_result",
          "data": {
            "text/plain": [
              "(9, 15, 21)"
            ]
          },
          "metadata": {
            "tags": []
          },
          "execution_count": 24
        }
      ]
    },
    {
      "cell_type": "code",
      "metadata": {
        "id": "d9L0gRjq_8bE",
        "colab_type": "code",
        "colab": {}
      },
      "source": [
        ""
      ],
      "execution_count": 0,
      "outputs": []
    }
  ]
}