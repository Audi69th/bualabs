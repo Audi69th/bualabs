{
  "nbformat": 4,
  "nbformat_minor": 0,
  "metadata": {
    "colab": {
      "name": "22b-python-lambda.ipynb",
      "provenance": []
    },
    "kernelspec": {
      "name": "python3",
      "display_name": "Python 3"
    }
  },
  "cells": [
    {
      "cell_type": "markdown",
      "metadata": {
        "id": "x6jf-W7zE-PJ",
        "colab_type": "text"
      },
      "source": [
        "# ตัวอย่าง Lambda Function"
      ]
    },
    {
      "cell_type": "markdown",
      "metadata": {
        "id": "Avs8386e5iYc",
        "colab_type": "text"
      },
      "source": [
        "ตัวอย่าง Lambda Function ที่รับ Parameter มา บวก 1 แล้ว return ผลลัพธ์"
      ]
    },
    {
      "cell_type": "code",
      "metadata": {
        "id": "nNHxgl7F5xQO",
        "colab_type": "code",
        "outputId": "b5e6bfa0-93ef-49f1-9ba9-41ad5d6eea73",
        "colab": {
          "base_uri": "https://localhost:8080/",
          "height": 35
        }
      },
      "source": [
        "x = lambda a : a + 1\n",
        "x"
      ],
      "execution_count": 1,
      "outputs": [
        {
          "output_type": "execute_result",
          "data": {
            "text/plain": [
              "<function __main__.<lambda>>"
            ]
          },
          "metadata": {
            "tags": []
          },
          "execution_count": 1
        }
      ]
    },
    {
      "cell_type": "markdown",
      "metadata": {
        "id": "-VKJC7G_Bls9",
        "colab_type": "text"
      },
      "source": [
        "เรียกฟังก์ชัน ด้วย Parameter 5"
      ]
    },
    {
      "cell_type": "code",
      "metadata": {
        "id": "V9xSZAbZ5xaY",
        "colab_type": "code",
        "outputId": "728ed83a-0750-45f3-8ad5-61d4acdbc550",
        "colab": {
          "base_uri": "https://localhost:8080/",
          "height": 35
        }
      },
      "source": [
        "x(5)"
      ],
      "execution_count": 2,
      "outputs": [
        {
          "output_type": "execute_result",
          "data": {
            "text/plain": [
              "6"
            ]
          },
          "metadata": {
            "tags": []
          },
          "execution_count": 2
        }
      ]
    },
    {
      "cell_type": "markdown",
      "metadata": {
        "id": "g1HPRjlGB-bU",
        "colab_type": "text"
      },
      "source": [
        "เราสามารถสร้าง Lambda Function ที่รับ Parameter มากกว่า 1 ตัว ดังตัวอย่างด้านล่าง ที่รับ Parameter 2 ตัว"
      ]
    },
    {
      "cell_type": "code",
      "metadata": {
        "id": "mvEuZtOd5xkb",
        "colab_type": "code",
        "colab": {}
      },
      "source": [
        "x2 = lambda a, b : (a * b) + 0.05"
      ],
      "execution_count": 0,
      "outputs": []
    },
    {
      "cell_type": "code",
      "metadata": {
        "id": "Ihl6QN9P5xvc",
        "colab_type": "code",
        "outputId": "8048eea7-9a0c-4e2f-b3bc-e8f4d5d78a8e",
        "colab": {
          "base_uri": "https://localhost:8080/",
          "height": 35
        }
      },
      "source": [
        "x2(2, 3)"
      ],
      "execution_count": 4,
      "outputs": [
        {
          "output_type": "execute_result",
          "data": {
            "text/plain": [
              "6.05"
            ]
          },
          "metadata": {
            "tags": []
          },
          "execution_count": 4
        }
      ]
    },
    {
      "cell_type": "markdown",
      "metadata": {
        "id": "6ktnSpxtDVeE",
        "colab_type": "text"
      },
      "source": [
        "หรือ 3 Parameter ดังตัวอย่าง"
      ]
    },
    {
      "cell_type": "code",
      "metadata": {
        "id": "PAt1JDew5x5z",
        "colab_type": "code",
        "colab": {}
      },
      "source": [
        "x3 = lambda a, b, c : (a * b) + c + 700"
      ],
      "execution_count": 0,
      "outputs": []
    },
    {
      "cell_type": "code",
      "metadata": {
        "id": "SHX8yo0w5yEj",
        "colab_type": "code",
        "outputId": "90a4e781-c15e-4614-d965-30fa388c4582",
        "colab": {
          "base_uri": "https://localhost:8080/",
          "height": 35
        }
      },
      "source": [
        "x3(3, 4, 1000)"
      ],
      "execution_count": 7,
      "outputs": [
        {
          "output_type": "execute_result",
          "data": {
            "text/plain": [
              "1712"
            ]
          },
          "metadata": {
            "tags": []
          },
          "execution_count": 7
        }
      ]
    },
    {
      "cell_type": "markdown",
      "metadata": {
        "id": "H7jERtX-5yPT",
        "colab_type": "text"
      },
      "source": [
        "# ทำไมเราต้องใช้ Lambda Function"
      ]
    },
    {
      "cell_type": "markdown",
      "metadata": {
        "id": "mDqS-RASE5Je",
        "colab_type": "text"
      },
      "source": [
        "Lambda Function จะมีประโยชน์มาก เมื่อเราใช้เป็น Anonymous Function ภายในฟังก์ชันอื่น ดังตัวอย่าง\n",
        "\n",
        "สมมติเราต้องการสร้างฟังก์ชัน ที่จะคูณกับค่าที่เรากำหนด"
      ]
    },
    {
      "cell_type": "code",
      "metadata": {
        "id": "z18QxU5e5ilr",
        "colab_type": "code",
        "colab": {}
      },
      "source": [
        "def multiply_j(j):\n",
        "    return lambda a : a * j"
      ],
      "execution_count": 0,
      "outputs": []
    },
    {
      "cell_type": "markdown",
      "metadata": {
        "id": "mlNTEHBjMBAf",
        "colab_type": "text"
      },
      "source": [
        "เราจะสร้างฟังก์ชันที่จะคูณ 8"
      ]
    },
    {
      "cell_type": "code",
      "metadata": {
        "id": "QHpO8a8c905T",
        "colab_type": "code",
        "outputId": "d579637d-0f24-4b0c-81e0-19508c2de9ff",
        "colab": {
          "base_uri": "https://localhost:8080/",
          "height": 35
        }
      },
      "source": [
        "m8 = multiply_j(j=8)\n",
        "m8"
      ],
      "execution_count": 9,
      "outputs": [
        {
          "output_type": "execute_result",
          "data": {
            "text/plain": [
              "<function __main__.multiply_j.<locals>.<lambda>>"
            ]
          },
          "metadata": {
            "tags": []
          },
          "execution_count": 9
        }
      ]
    },
    {
      "cell_type": "markdown",
      "metadata": {
        "id": "KxsuoCghMNTd",
        "colab_type": "text"
      },
      "source": [
        ""
      ]
    },
    {
      "cell_type": "code",
      "metadata": {
        "id": "8toat1Nw_WmK",
        "colab_type": "code",
        "outputId": "5f9b084d-314d-4f53-ec63-919c1c41d80c",
        "colab": {
          "base_uri": "https://localhost:8080/",
          "height": 35
        }
      },
      "source": [
        "m8(12)"
      ],
      "execution_count": 10,
      "outputs": [
        {
          "output_type": "execute_result",
          "data": {
            "text/plain": [
              "96"
            ]
          },
          "metadata": {
            "tags": []
          },
          "execution_count": 10
        }
      ]
    },
    {
      "cell_type": "markdown",
      "metadata": {
        "id": "uhrIriW7OVer",
        "colab_type": "text"
      },
      "source": [
        "เราจะสร้าง 3 ฟังก์ชัน ที่คุณกับเลข 3, 5, 7"
      ]
    },
    {
      "cell_type": "code",
      "metadata": {
        "id": "u96Ou-D2_aZA",
        "colab_type": "code",
        "colab": {}
      },
      "source": [
        "m3 = multiply_j(3)\n",
        "m5 = multiply_j(5)\n",
        "m7 = multiply_j(7)"
      ],
      "execution_count": 0,
      "outputs": []
    },
    {
      "cell_type": "markdown",
      "metadata": {
        "id": "aJ2tbAJVOjO8",
        "colab_type": "text"
      },
      "source": [
        "ลองเรียกทั้ง 3 ฟังก์ชัน ด้วย 3"
      ]
    },
    {
      "cell_type": "code",
      "metadata": {
        "id": "47MFS2_E_3np",
        "colab_type": "code",
        "outputId": "ad7bbb5f-684d-4623-869c-4dc275063d0d",
        "colab": {
          "base_uri": "https://localhost:8080/",
          "height": 35
        }
      },
      "source": [
        "m3(3), m5(3), m7(3)"
      ],
      "execution_count": 13,
      "outputs": [
        {
          "output_type": "execute_result",
          "data": {
            "text/plain": [
              "(9, 15, 21)"
            ]
          },
          "metadata": {
            "tags": []
          },
          "execution_count": 13
        }
      ]
    },
    {
      "cell_type": "markdown",
      "metadata": {
        "id": "XbHtdp97Qx2s",
        "colab_type": "text"
      },
      "source": [
        "# ตัวอย่างการใช้งาน Lambda Function"
      ]
    },
    {
      "cell_type": "markdown",
      "metadata": {
        "id": "p5PVMRdGQUeJ",
        "colab_type": "text"
      },
      "source": [
        "เราสามารถประกาศ Lambda Function พร้อม ๆ กับ Call ได้เลย"
      ]
    },
    {
      "cell_type": "code",
      "metadata": {
        "id": "d9L0gRjq_8bE",
        "colab_type": "code",
        "colab": {
          "base_uri": "https://localhost:8080/",
          "height": 35
        },
        "outputId": "945b4053-7688-4702-ee18-df4cd2850009"
      },
      "source": [
        " (lambda x: x + x)(12) "
      ],
      "execution_count": 14,
      "outputs": [
        {
          "output_type": "execute_result",
          "data": {
            "text/plain": [
              "24"
            ]
          },
          "metadata": {
            "tags": []
          },
          "execution_count": 14
        }
      ]
    },
    {
      "cell_type": "markdown",
      "metadata": {
        "id": "l3-sPzMpRi8f",
        "colab_type": "text"
      },
      "source": [
        "เราสามารถใช้ Lambda Function ส่งให้กับฟังก์ชันที่ต้องการ Parameter เป็นฟังก์ชัน แทนที่จะต้องประกาศฟังก์ชันแบบเต็มรูปแบบ"
      ]
    },
    {
      "cell_type": "code",
      "metadata": {
        "id": "IpK8J9K6QmDy",
        "colab_type": "code",
        "colab": {
          "base_uri": "https://localhost:8080/",
          "height": 35
        },
        "outputId": "a5201925-ef28-4bdf-d48f-0b80d01c55ce"
      },
      "source": [
        "s = [3, 22, 1, 32, 24, 49, 11, 26, 20, 0, 10]\n",
        "result = filter (lambda x: x > 20, s) \n",
        "print(list(result))"
      ],
      "execution_count": 15,
      "outputs": [
        {
          "output_type": "stream",
          "text": [
            "[22, 32, 24, 49, 26]\n"
          ],
          "name": "stdout"
        }
      ]
    },
    {
      "cell_type": "code",
      "metadata": {
        "id": "PV9eIG1XQuW5",
        "colab_type": "code",
        "colab": {}
      },
      "source": [
        ""
      ],
      "execution_count": 0,
      "outputs": []
    },
    {
      "cell_type": "code",
      "metadata": {
        "id": "gWubDOQjQvfE",
        "colab_type": "code",
        "colab": {}
      },
      "source": [
        ""
      ],
      "execution_count": 0,
      "outputs": []
    }
  ]
}