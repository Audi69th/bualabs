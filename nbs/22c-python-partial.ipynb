{
  "nbformat": 4,
  "nbformat_minor": 0,
  "metadata": {
    "colab": {
      "name": "22c-python-partial.ipynb",
      "provenance": []
    },
    "kernelspec": {
      "name": "python3",
      "display_name": "Python 3"
    }
  },
  "cells": [
    {
      "cell_type": "markdown",
      "metadata": {
        "id": "kEojreYAhSLV",
        "colab_type": "text"
      },
      "source": [
        "# Import"
      ]
    },
    {
      "cell_type": "code",
      "metadata": {
        "id": "63ZOpRg_fY1c",
        "colab_type": "code",
        "colab": {}
      },
      "source": [
        "from functools import partial "
      ],
      "execution_count": 0,
      "outputs": []
    },
    {
      "cell_type": "markdown",
      "metadata": {
        "id": "xM4RgJOdhXGc",
        "colab_type": "text"
      },
      "source": [
        "# ประกาศฟังก์ชัน f"
      ]
    },
    {
      "cell_type": "code",
      "metadata": {
        "id": "HeDm1kPEgiIe",
        "colab_type": "code",
        "colab": {}
      },
      "source": [
        "def f(a, b, c, d):\n",
        "    return (1 * a) + (10 * b) +  (100 * c) + (1000 * d)"
      ],
      "execution_count": 0,
      "outputs": []
    },
    {
      "cell_type": "markdown",
      "metadata": {
        "id": "7aRA36cUhbB0",
        "colab_type": "text"
      },
      "source": [
        "# สร้าง Partial Function จาก f"
      ]
    },
    {
      "cell_type": "markdown",
      "metadata": {
        "id": "hKijDYBLhhJJ",
        "colab_type": "text"
      },
      "source": [
        "เราจะใช้ Partial สร้าง Function ใหม่ ชื่อ f2 ขึ้นมากจาก f โดย Fix ให้ Parameter 3 ตัวแรกไว้"
      ]
    },
    {
      "cell_type": "code",
      "metadata": {
        "id": "4Batbf0yg5iZ",
        "colab_type": "code",
        "colab": {}
      },
      "source": [
        "f2 = partial(f, 7, 3, 4)"
      ],
      "execution_count": 0,
      "outputs": []
    },
    {
      "cell_type": "markdown",
      "metadata": {
        "id": "5HRFndNQiBnI",
        "colab_type": "text"
      },
      "source": [
        "เราจะได้ฟังก์ชันใหม่ ที่ชื่อ f2 เป็นฟังก์ชันที่เหมือน f ทุกประการ แต่รับ Parameter แค่ 1 ตัวเท่านั้น แทนที่จะเป็น 4 ตัว (3 ตัวแรกถูก Fix ไปแล้ว)"
      ]
    },
    {
      "cell_type": "code",
      "metadata": {
        "id": "RIVgpgWiiOKZ",
        "colab_type": "code",
        "colab": {}
      },
      "source": [
        "?f2"
      ],
      "execution_count": 0,
      "outputs": []
    },
    {
      "cell_type": "markdown",
      "metadata": {
        "id": "BAbKB7Y4hv5u",
        "colab_type": "text"
      },
      "source": [
        "# เรียกฟังก์ชันใหม่ f2"
      ]
    },
    {
      "cell_type": "markdown",
      "metadata": {
        "id": "duHy2HNsh9O0",
        "colab_type": "text"
      },
      "source": [
        "เราจะเรียกฟังก์ชันใหม่ f2 ด้วย Parameter ตัวเดียว แทนที่จะเป็น 4 ตัว"
      ]
    },
    {
      "cell_type": "code",
      "metadata": {
        "id": "Ndfjx8ewhFBN",
        "colab_type": "code",
        "outputId": "8ed79d58-b3d2-4655-fe99-1d2c1c61f59a",
        "colab": {
          "base_uri": "https://localhost:8080/",
          "height": 35
        }
      },
      "source": [
        "f2(2)"
      ],
      "execution_count": 0,
      "outputs": [
        {
          "output_type": "execute_result",
          "data": {
            "text/plain": [
              "2437"
            ]
          },
          "metadata": {
            "tags": []
          },
          "execution_count": 27
        }
      ]
    },
    {
      "cell_type": "code",
      "metadata": {
        "id": "NAyra66djilh",
        "colab_type": "code",
        "outputId": "8cdc0e32-fe21-47fa-d2b6-e1bce65349f8",
        "colab": {
          "base_uri": "https://localhost:8080/",
          "height": 35
        }
      },
      "source": [
        "f2(8)"
      ],
      "execution_count": 0,
      "outputs": [
        {
          "output_type": "execute_result",
          "data": {
            "text/plain": [
              "8437"
            ]
          },
          "metadata": {
            "tags": []
          },
          "execution_count": 28
        }
      ]
    },
    {
      "cell_type": "markdown",
      "metadata": {
        "id": "0XIUvxJOhHR3",
        "colab_type": "text"
      },
      "source": [
        "# Credit"
      ]
    },
    {
      "cell_type": "markdown",
      "metadata": {
        "id": "unjJH3Uviwx5",
        "colab_type": "text"
      },
      "source": [
        "* https://course.fast.ai/videos/?lesson=10\n",
        "* https://docs.python.org/3.7/library/functools.html\n",
        "* https://en.wikipedia.org/wiki/Partial_function"
      ]
    },
    {
      "cell_type": "code",
      "metadata": {
        "id": "ldT3j5Tgixm_",
        "colab_type": "code",
        "colab": {}
      },
      "source": [
        ""
      ],
      "execution_count": 0,
      "outputs": []
    }
  ]
}