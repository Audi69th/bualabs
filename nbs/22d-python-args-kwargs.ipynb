{
  "nbformat": 4,
  "nbformat_minor": 0,
  "metadata": {
    "colab": {
      "name": "22d-python-args-kwargs.ipynb",
      "provenance": []
    },
    "kernelspec": {
      "name": "python3",
      "display_name": "Python 3"
    }
  },
  "cells": [
    {
      "cell_type": "markdown",
      "metadata": {
        "id": "N3FCbadotEx8",
        "colab_type": "text"
      },
      "source": [
        "# ประกาศฟังก์ชัน f"
      ]
    },
    {
      "cell_type": "code",
      "metadata": {
        "id": "Ek4BAxEpq2uY",
        "colab_type": "code",
        "colab": {}
      },
      "source": [
        "def f(*args, **kwargs):\n",
        "    print(f'args={args}, kwargs={kwargs}')"
      ],
      "execution_count": 0,
      "outputs": []
    },
    {
      "cell_type": "markdown",
      "metadata": {
        "id": "ycElwSEqtHWc",
        "colab_type": "text"
      },
      "source": [
        "# เรียกฟังก์ชัน f โดยพาสค่า แบบต่าง ๆ "
      ]
    },
    {
      "cell_type": "markdown",
      "metadata": {
        "id": "uG5LjFy6tOrs",
        "colab_type": "text"
      },
      "source": [
        "พาสค่าเดียว"
      ]
    },
    {
      "cell_type": "code",
      "metadata": {
        "id": "1uoBatk1rl4c",
        "colab_type": "code",
        "colab": {
          "base_uri": "https://localhost:8080/",
          "height": 35
        },
        "outputId": "770c4cb5-b34e-4503-aa71-37e0b9faa40d"
      },
      "source": [
        "f(1)"
      ],
      "execution_count": 14,
      "outputs": [
        {
          "output_type": "stream",
          "text": [
            "args=(1,), kwargs={}\n"
          ],
          "name": "stdout"
        }
      ]
    },
    {
      "cell_type": "markdown",
      "metadata": {
        "id": "0p92xi5utS6D",
        "colab_type": "text"
      },
      "source": [
        "พาสหลายค่า"
      ]
    },
    {
      "cell_type": "code",
      "metadata": {
        "id": "ZAI2XtC9r1Ie",
        "colab_type": "code",
        "colab": {
          "base_uri": "https://localhost:8080/",
          "height": 35
        },
        "outputId": "c7fd8988-e920-4a42-9cd3-4e3f3c3095fd"
      },
      "source": [
        "f(1, 2, 3)"
      ],
      "execution_count": 7,
      "outputs": [
        {
          "output_type": "stream",
          "text": [
            "args=(1, 2, 3), kwargs={}\n"
          ],
          "name": "stdout"
        }
      ]
    },
    {
      "cell_type": "markdown",
      "metadata": {
        "id": "TJfbFQ5jtVrP",
        "colab_type": "text"
      },
      "source": [
        "พาส Parameter แบบมีชื่อ"
      ]
    },
    {
      "cell_type": "code",
      "metadata": {
        "id": "RtwJRlZPsfnm",
        "colab_type": "code",
        "colab": {
          "base_uri": "https://localhost:8080/",
          "height": 35
        },
        "outputId": "16f14417-80f0-4a86-92e3-57d01811dbe8"
      },
      "source": [
        "f(a=10, b=20, c=30)"
      ],
      "execution_count": 16,
      "outputs": [
        {
          "output_type": "stream",
          "text": [
            "args=(), kwargs={'a': 10, 'b': 20, 'c': 30}\n"
          ],
          "name": "stdout"
        }
      ]
    },
    {
      "cell_type": "markdown",
      "metadata": {
        "id": "EhjiP4oxtdy3",
        "colab_type": "text"
      },
      "source": [
        "พาส Parameter หลาย Type"
      ]
    },
    {
      "cell_type": "code",
      "metadata": {
        "id": "ChH6mTvjsfdp",
        "colab_type": "code",
        "colab": {
          "base_uri": "https://localhost:8080/",
          "height": 35
        },
        "outputId": "f1f8dbf2-9c6a-4bd2-d769-2005544c7e37"
      },
      "source": [
        "f(1, 2, 3, 'One', 'Two', 'Three')"
      ],
      "execution_count": 19,
      "outputs": [
        {
          "output_type": "stream",
          "text": [
            "args=(1, 2, 3, 'One', 'Two', 'Three'), kwargs={}\n"
          ],
          "name": "stdout"
        }
      ]
    },
    {
      "cell_type": "markdown",
      "metadata": {
        "id": "eiuLe2Vktttl",
        "colab_type": "text"
      },
      "source": [
        "พาส Parameter หลากหลาย Type ผสมทั้งแบบตามตำแหน่ง และ Parameter แบบมีชื่อ"
      ]
    },
    {
      "cell_type": "code",
      "metadata": {
        "id": "vxAVUhSfsfTB",
        "colab_type": "code",
        "colab": {
          "base_uri": "https://localhost:8080/",
          "height": 35
        },
        "outputId": "bfd611fd-3b4d-4898-e5ba-e13c66cc616e"
      },
      "source": [
        "f(1, 2, 3, 'One', 'Two', 'Three', a=10, b=20, c=30, d='Forty')"
      ],
      "execution_count": 22,
      "outputs": [
        {
          "output_type": "stream",
          "text": [
            "args=(1, 2, 3, 'One', 'Two', 'Three'), kwargs={'a': 10, 'b': 20, 'c': 30, 'd': 'Forty'}\n"
          ],
          "name": "stdout"
        }
      ]
    },
    {
      "cell_type": "markdown",
      "metadata": {
        "id": "crwYqiR9t0u0",
        "colab_type": "text"
      },
      "source": [
        "พาส Parameter หลากหลาย Type รวมถึง List"
      ]
    },
    {
      "cell_type": "code",
      "metadata": {
        "id": "RqTdyslvsfEV",
        "colab_type": "code",
        "colab": {
          "base_uri": "https://localhost:8080/",
          "height": 35
        },
        "outputId": "c8deb0bf-ed73-4308-d6df-2505a1ed15e2"
      },
      "source": [
        "f(1, 2, 3, 'One', 'Two', 'Three', [5, 6, 7], a=10, b=20, c=30, d='Forty')"
      ],
      "execution_count": 11,
      "outputs": [
        {
          "output_type": "stream",
          "text": [
            "args=(1, 2, 3, 'One', 'Two', 'Three', [5, 6, 7]), kwargs={'a': 10, 'b': 20, 'c': 30, 'd': 'Forty'}\n"
          ],
          "name": "stdout"
        }
      ]
    },
    {
      "cell_type": "markdown",
      "metadata": {
        "id": "DO99rCeGuBie",
        "colab_type": "text"
      },
      "source": [
        "พาส Parameter หลากหลาย Type รวมถึง Empty List\n"
      ]
    },
    {
      "cell_type": "code",
      "metadata": {
        "id": "OykGnj1Qsevx",
        "colab_type": "code",
        "colab": {
          "base_uri": "https://localhost:8080/",
          "height": 35
        },
        "outputId": "551da919-504f-44b9-d71e-1deab16a95b0"
      },
      "source": [
        "f(1, 2, 3, 'One', 'Two', 'Three', [], a=10, b=20, c=30, d='Forty')"
      ],
      "execution_count": 13,
      "outputs": [
        {
          "output_type": "stream",
          "text": [
            "args=(1, 2, 3, 'One', 'Two', 'Three', []), kwargs={'a': 10, 'b': 20, 'c': 30, 'd': 'Forty'}\n"
          ],
          "name": "stdout"
        }
      ]
    },
    {
      "cell_type": "code",
      "metadata": {
        "id": "AdBSTZKns3Rb",
        "colab_type": "code",
        "colab": {}
      },
      "source": [
        ""
      ],
      "execution_count": 0,
      "outputs": []
    }
  ]
}