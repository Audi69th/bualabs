{
 "cells": [
  {
   "cell_type": "markdown",
   "metadata": {
    "colab_type": "text",
    "id": "FWWl6w6kX5zP"
   },
   "source": [
    "จากใน ep ก่อน ที่เราได้สร้างโมเดล Deep Neural Network ที่ใช้ Linear Layer + ReLU Activation Function เราได้สร้าง Training Loop ที่มีความ Flexible จาก Callback ทำให้เราสามารถ Schedule Hyperparameter ได้ตามต้องการ \n",
    "\n",
    "แต่ไม่ว่าจะเทรนอย่างไร เราก็เทรน MNIST ได้ Accuracy สูงสุดแค่ 97% เท่านั้น เนื่องจากข้อจำกัดของ Model Architecture \n",
    "\n",
    "ดังนั้นใน ep นี้เราจะปรับ Model Architecture เป็น Convolutional Neural Network (CNN) ที่เหมาะงาน Computer Vision การเลือกว่าจะใช้ Model Architecture ไหน ก็ถือเป็น Hyperparameter เช่นกัน เราจะเริ่มต้นที่หัวข้อ [4. Model](#4.-Model)"
   ]
  },
  {
   "cell_type": "markdown",
   "metadata": {
    "colab_type": "text",
    "id": "3drCJqK97wZ5"
   },
   "source": [
    "# 0. Magic"
   ]
  },
  {
   "cell_type": "code",
   "execution_count": 1,
   "metadata": {
    "colab": {
     "base_uri": "https://localhost:8080/",
     "height": 51
    },
    "colab_type": "code",
    "id": "As6QTNhIo7LC",
    "outputId": "02abe580-991a-48c4-8246-efd9e683d7f7"
   },
   "outputs": [],
   "source": [
    "%load_ext autoreload\n",
    "%autoreload 2\n",
    "%matplotlib inline"
   ]
  },
  {
   "cell_type": "markdown",
   "metadata": {
    "colab_type": "text",
    "id": "aJdvUE9d7y7L"
   },
   "source": [
    "# 1. Import"
   ]
  },
  {
   "cell_type": "code",
   "execution_count": 2,
   "metadata": {
    "colab": {},
    "colab_type": "code",
    "id": "M0k1vCN_7zFe"
   },
   "outputs": [],
   "source": [
    "import torch\n",
    "from torch import tensor\n",
    "import torch.nn as nn\n",
    "import torch.nn.functional as F\n",
    "from torch.utils.data import *\n",
    "import fastai\n",
    "from fastai import datasets\n",
    "from fastai.metrics import accuracy\n",
    "from fastai.basic_data import *\n",
    "from fastai.basic_train import *\n",
    "import pickle, gzip, math, torch, re\n",
    "from IPython.core.debugger import set_trace\n",
    "import matplotlib.pyplot as plt\n",
    "from functools import partial"
   ]
  },
  {
   "cell_type": "markdown",
   "metadata": {
    "colab_type": "text",
    "id": "lYLQCdBq7zNn"
   },
   "source": [
    "# 2. Data"
   ]
  },
  {
   "cell_type": "code",
   "execution_count": 3,
   "metadata": {
    "colab": {},
    "colab_type": "code",
    "id": "MqtAa1OttrhQ"
   },
   "outputs": [],
   "source": [
    "class Dataset(Dataset):\n",
    "    def __init__(self, x, y, c):\n",
    "        self.x, self.y, self.c = x, y, c\n",
    "    def __len__(self):\n",
    "        return len(self.x)\n",
    "    def __getitem__(self, i):\n",
    "        return self.x[i], self.y[i]"
   ]
  },
  {
   "cell_type": "code",
   "execution_count": 4,
   "metadata": {
    "colab": {},
    "colab_type": "code",
    "id": "fiPq9nOu8V-y"
   },
   "outputs": [],
   "source": [
    "MNIST_URL='http://deeplearning.net/data/mnist/mnist.pkl'"
   ]
  },
  {
   "cell_type": "code",
   "execution_count": 5,
   "metadata": {
    "colab": {},
    "colab_type": "code",
    "id": "j8Jl_Ekx7zVi"
   },
   "outputs": [],
   "source": [
    "def get_data():\n",
    "    path = datasets.download_data(MNIST_URL, ext='.gz')\n",
    "    with gzip.open(path, 'rb') as f:\n",
    "        ((x_train, y_train), (x_valid, y_valid), _) = pickle.load(f, encoding='latin-1')\n",
    "    return map(tensor, (x_train, y_train, x_valid, y_valid))"
   ]
  },
  {
   "cell_type": "code",
   "execution_count": 6,
   "metadata": {
    "colab": {},
    "colab_type": "code",
    "id": "LzugVJ09eCrk"
   },
   "outputs": [],
   "source": [
    "x_train, y_train, x_valid, y_valid = get_data()"
   ]
  },
  {
   "cell_type": "markdown",
   "metadata": {
    "colab_type": "text",
    "id": "kWKmfCFVLOmn"
   },
   "source": [
    "# 3. Data Preprocessing"
   ]
  },
  {
   "cell_type": "code",
   "execution_count": 7,
   "metadata": {
    "colab": {},
    "colab_type": "code",
    "id": "1d9ixSpfgUeS"
   },
   "outputs": [],
   "source": [
    "def normalize(x, m, s): \n",
    "    return (x-m)/s"
   ]
  },
  {
   "cell_type": "code",
   "execution_count": 8,
   "metadata": {
    "colab": {},
    "colab_type": "code",
    "id": "lrGYLaZU7age"
   },
   "outputs": [],
   "source": [
    "from typing import *\n",
    "\n",
    "def listify(o):\n",
    "    if o is None: return []\n",
    "    if isinstance(o, list): return o\n",
    "    if isinstance(o, str): return [o]\n",
    "    if isinstance(o, Iterable): return list(o)\n",
    "    return [o]"
   ]
  },
  {
   "cell_type": "code",
   "execution_count": 9,
   "metadata": {
    "colab": {},
    "colab_type": "code",
    "id": "ykdiURV28_se"
   },
   "outputs": [],
   "source": [
    "_camel_re1 = re.compile('(.)([A-Z][a-z]+)')\n",
    "_camel_re2 = re.compile('([a-z0-9])([A-Z])')\n",
    "\n",
    "def camel2snake(name):\n",
    "    s1 = re.sub(_camel_re1, r'\\1_\\2', name)\n",
    "    return re.sub(_camel_re2, r'\\1_\\2', s1).lower()   "
   ]
  },
  {
   "cell_type": "code",
   "execution_count": 10,
   "metadata": {
    "colab": {},
    "colab_type": "code",
    "id": "IEtfU8TjgO-t"
   },
   "outputs": [],
   "source": [
    "train_mean, train_std = x_train.mean(), x_train.std()\n",
    "x_train = normalize(x_train, train_mean, train_std)\n",
    "x_valid = normalize(x_valid, train_mean, train_std)"
   ]
  },
  {
   "cell_type": "code",
   "execution_count": 11,
   "metadata": {
    "colab": {},
    "colab_type": "code",
    "id": "lwr_S24teD1-"
   },
   "outputs": [],
   "source": [
    "nh, bs = 100, 1024\n",
    "n, m = x_train.shape\n",
    "c = (y_train.max()+1).numpy()\n",
    "loss_func = F.cross_entropy"
   ]
  },
  {
   "cell_type": "code",
   "execution_count": 12,
   "metadata": {
    "colab": {},
    "colab_type": "code",
    "id": "lxDyNxD07zeH"
   },
   "outputs": [],
   "source": [
    "train_ds, valid_ds = Dataset(x_train, y_train, c), Dataset(x_valid, y_valid, c)\n",
    "# train_dl, valid_dl = DataLoader(train_ds, bs), DataLoader(valid_ds, bs)"
   ]
  },
  {
   "cell_type": "code",
   "execution_count": 13,
   "metadata": {
    "colab": {},
    "colab_type": "code",
    "id": "Z3OzWeXWBzLl"
   },
   "outputs": [],
   "source": [
    "data = DataBunch.create(train_ds, valid_ds, bs=bs, num_workers=8, device=torch.device('cpu'))"
   ]
  },
  {
   "cell_type": "markdown",
   "metadata": {
    "colab_type": "text",
    "id": "o9EbSM4m8lef"
   },
   "source": [
    "# 4. Model"
   ]
  },
  {
   "cell_type": "markdown",
   "metadata": {
    "colab_type": "text",
    "id": "87wO2SirbJUT"
   },
   "source": [
    "เราจะเปลี่ยน Layer ในโมเดลจาก Linear เป็น Convolutional Neural Network (CNN) และปิดหัวท้ายด้วย Lambda Layer สำหรับแปลงมิติข้อมูล"
   ]
  },
  {
   "cell_type": "code",
   "execution_count": 14,
   "metadata": {
    "colab": {},
    "colab_type": "code",
    "id": "NBp4jzQoeWLe"
   },
   "outputs": [],
   "source": [
    "def get_cnn_model(data):\n",
    "    return nn.Sequential(\n",
    "        Lambda(mnist_resize), \n",
    "        nn.Conv2d(  1,  8, 5, padding=2, stride=2), nn.ReLU(), #14\n",
    "        nn.Conv2d(  8, 16, 3, padding=1, stride=2), nn.ReLU(), # 7\n",
    "        nn.Conv2d( 16, 32, 3, padding=1, stride=2), nn.ReLU(), # 4\n",
    "        nn.Conv2d( 32, 32, 3, padding=1, stride=2), nn.ReLU(), # 2\n",
    "        nn.AdaptiveAvgPool2d(1), \n",
    "        Lambda(flatten), \n",
    "        nn.Linear(32, data.c)\n",
    "    )"
   ]
  },
  {
   "cell_type": "markdown",
   "metadata": {
    "colab_type": "text",
    "id": "2xfewPAxeqWK"
   },
   "source": [
    "Lambda Layer สำหรับใส่ฟังก์ชันต่าง ๆ เป็น Layer ใน Neural Network"
   ]
  },
  {
   "cell_type": "code",
   "execution_count": 15,
   "metadata": {
    "colab": {},
    "colab_type": "code",
    "id": "g1J3fXGpanvP"
   },
   "outputs": [],
   "source": [
    "class Lambda(nn.Module):\n",
    "    def __init__(self, func):\n",
    "        super().__init__()\n",
    "        self.func = func\n",
    "    def forward(self, x): return self.func(x)"
   ]
  },
  {
   "cell_type": "markdown",
   "metadata": {
    "colab_type": "text",
    "id": "oS_EosCSe2hJ"
   },
   "source": [
    "ฟังก์ชันแปลง MNIST เป็น 28x28 และ Flatten ให้ Activation ที่ออกจาก Conv2d กลายเป็น Fully-Connected Layer"
   ]
  },
  {
   "cell_type": "code",
   "execution_count": 16,
   "metadata": {
    "colab": {},
    "colab_type": "code",
    "id": "5xvY67V5embP"
   },
   "outputs": [],
   "source": [
    "def flatten(x): return x.view(x.shape[0], -1)\n",
    "def mnist_resize(x): return x.view(-1, 1, 28, 28)"
   ]
  },
  {
   "cell_type": "markdown",
   "metadata": {
    "colab_type": "text",
    "id": "5p_H1kWNd9ab"
   },
   "source": [
    "# 5. Training Loop"
   ]
  },
  {
   "cell_type": "markdown",
   "metadata": {
    "colab_type": "text",
    "id": "5yFdOKNfgbVB"
   },
   "source": [
    "แล้วเราจะเทรนตามปกติ"
   ]
  },
  {
   "cell_type": "code",
   "execution_count": 17,
   "metadata": {
    "colab": {},
    "colab_type": "code",
    "id": "tp3wybPiGylV"
   },
   "outputs": [],
   "source": [
    "class Runner():\n",
    "    def __init__(self, cbs=None, cb_funcs=None):\n",
    "        cbs = listify(cbs)\n",
    "        for cbf in listify(cb_funcs):\n",
    "            cb = cbf()\n",
    "            setattr(self, cb.name, cb)\n",
    "            cbs.append(cb)\n",
    "        self.stop, self.cbs = False, [TrainEvalCallback()]+cbs\n",
    "\n",
    "    @property\n",
    "    def opt_func(self):     return self.learn.opt_func\n",
    "    @property\n",
    "    def model(self):        return self.learn.model\n",
    "    @property\n",
    "    def loss_func(self):    return self.learn.loss_func\n",
    "    @property\n",
    "    def data(self):         return self.learn.data\n",
    "\n",
    "    def one_batch(self, xb, yb):\n",
    "        try: \n",
    "            self.xb, self.yb = xb, yb\n",
    "            self('begin_batch')\n",
    "            self.pred = self.model(xb)\n",
    "            self('after_pred')\n",
    "            self.loss = self.loss_func(self.pred, yb)\n",
    "            self('after_loss')\n",
    "            if not self.in_train: return\n",
    "            self.loss.backward()\n",
    "            self('after_backward')\n",
    "            self.opt_func.step()\n",
    "            self('after_step')\n",
    "            self.opt_func.zero_grad()\n",
    "        except CancelBatchException: self('after_cancel_batch')\n",
    "        finally: self('after_batch')\n",
    "    \n",
    "    def all_batches(self, dl):\n",
    "        self.iters = len(dl)\n",
    "        try:\n",
    "            for xb, yb in dl:\n",
    "                self.one_batch(xb, yb)\n",
    "        except CancelEpochException: self('after_cancel_epoch')\n",
    "    \n",
    "    def fit(self, epochs, learn):\n",
    "        self.epochs, self.learn, self.loss = epochs, learn, tensor(0.)\n",
    "\n",
    "        try:\n",
    "            for cb in self.cbs: cb.set_runner(self)\n",
    "            self('begin_fit')\n",
    "            for epoch in range(epochs):\n",
    "                self.epoch = epoch\n",
    "                if not self('begin_epoch'): self.all_batches(self.data.train_dl)\n",
    "\n",
    "                with torch.no_grad():\n",
    "                    if not self('begin_validate'): self.all_batches(self.data.valid_dl)\n",
    "                self('after_epoch')\n",
    "        except CancelTrainException: self('after_cancel_train')\n",
    "        finally: \n",
    "            self('after_fit')\n",
    "            self.train = None\n",
    "\n",
    "    def __call__(self, cb_name):\n",
    "        # return True = Cancel, return False = Continue (Default)\n",
    "        res = False\n",
    "        # check if at least one True return True\n",
    "        for cb in sorted(self.cbs, key=lambda x: x._order): res = res or cb(cb_name)\n",
    "        return res        "
   ]
  },
  {
   "cell_type": "markdown",
   "metadata": {
    "colab_type": "text",
    "id": "U-kacUKlJk6j"
   },
   "source": [
    "# 6. Callbacks"
   ]
  },
  {
   "cell_type": "code",
   "execution_count": 18,
   "metadata": {
    "colab": {},
    "colab_type": "code",
    "id": "G0O9bxvAG5BW"
   },
   "outputs": [],
   "source": [
    "class Callback():\n",
    "    _order = 0\n",
    "    def set_runner(self, run): self.run = run\n",
    "    def __getattr__(self, k): return getattr(self.run, k)\n",
    "\n",
    "    @property\n",
    "    def name(self):\n",
    "        name = re.sub(r'Callback$', '', self.__class__.__name__)\n",
    "        return camel2snake(name or 'callback')\n",
    "    \n",
    "    def __call__(self, cb_name):\n",
    "        f = getattr(self, cb_name, None)\n",
    "        if f and f(): return True\n",
    "        return False\n",
    "\n",
    "class TrainEvalCallback(Callback):\n",
    "    def begin_fit(self):\n",
    "        self.run.n_epochs = 0.\n",
    "        self.run.n_iter = 0\n",
    "    \n",
    "    def begin_epoch(self):\n",
    "        self.run.n_epochs = self.epoch  \n",
    "        self.model.train()\n",
    "        self.run.in_train=True\n",
    "\n",
    "    def after_batch(self):\n",
    "        if not self.in_train: return\n",
    "        self.run.n_epochs += 1./self.iters\n",
    "        self.run.n_iter += 1\n",
    "\n",
    "    def begin_validate(self):\n",
    "        self.model.eval()\n",
    "        self.run.in_train=False    \n",
    "           \n",
    "class CancelTrainException(Exception): pass\n",
    "class CancelEpochException(Exception): pass\n",
    "class CancelBatchException(Exception): pass"
   ]
  },
  {
   "cell_type": "code",
   "execution_count": 19,
   "metadata": {
    "colab": {},
    "colab_type": "code",
    "id": "u5zJVLbeqK8W"
   },
   "outputs": [],
   "source": [
    "class Recorder(Callback):\n",
    "    def begin_fit(self): \n",
    "        self.lrs = [[] for _ in self.opt_func.param_groups]\n",
    "        self.losses = []\n",
    "\n",
    "    def after_batch(self):\n",
    "        if not self.in_train: return\n",
    "        for pg, lr in zip(self.opt_func.param_groups, self.lrs): lr.append(pg['lr'])\n",
    "        self.losses.append(self.loss.detach().cpu())\n",
    "    \n",
    "    def plot_lr(self, pgid=-1): plt.plot(self.lrs[pgid])\n",
    "    def plot_loss(self, skip_last=0): plt.plot(self.losses[:len(self.losses)-skip_last])\n",
    "    def plot(self, skip_last=0, pgid=-1):\n",
    "        losses = [o.item() for o in self.losses]\n",
    "        lrs = self.lrs[pgid]\n",
    "        n = len(losses)-skip_last\n",
    "        plt.xscale('log')\n",
    "        plt.plot(lrs[:n], losses[:n])"
   ]
  },
  {
   "cell_type": "code",
   "execution_count": 20,
   "metadata": {
    "colab": {},
    "colab_type": "code",
    "id": "DNZQ6IkmlYg7"
   },
   "outputs": [],
   "source": [
    "class AvgStatsCallback(Callback):\n",
    "    def __init__(self, metrics):\n",
    "        self.train_stats, self.valid_stats = AvgStats(metrics, True), AvgStats(metrics, False)\n",
    "    def begin_epoch(self):\n",
    "        self.train_stats.reset()\n",
    "        self.valid_stats.reset()\n",
    "    \n",
    "    def after_loss(self):\n",
    "        stats = self.train_stats if self.in_train else self.valid_stats\n",
    "        with torch.no_grad(): stats.accumulate(self.run)\n",
    "\n",
    "    def after_epoch(self):\n",
    "        print(self.train_stats)\n",
    "        print(self.valid_stats)\n",
    "\n",
    "class AvgStats():\n",
    "    def __init__(self, metrics, in_train): \n",
    "        self.metrics, self.in_train = listify(metrics), in_train\n",
    "    \n",
    "    def reset(self):\n",
    "        self.tot_loss, self.count = 0., 0\n",
    "        self.tot_mets = [0.] * len(self.metrics)\n",
    "\n",
    "    @property\n",
    "    def all_stats(self): return [self.tot_loss.item()] + self.tot_mets\n",
    "    @property\n",
    "    def avg_stats(self): return [o/self.count for o in self.all_stats]\n",
    "\n",
    "    def __repr__(self):\n",
    "        if not self.count: return \"\"\n",
    "        return f\"{'train' if self.in_train else 'valid'}: {self.avg_stats}\"\n",
    "\n",
    "    def accumulate(self, run):\n",
    "        bn = run.xb.shape[0]\n",
    "        self.tot_loss += run.loss * bn\n",
    "        self.count += bn\n",
    "        \n",
    "        for i, m in enumerate(self.metrics):\n",
    "            self.tot_mets[i] += m(run.pred, run.yb) * bn\n"
   ]
  },
  {
   "cell_type": "code",
   "execution_count": 21,
   "metadata": {
    "colab": {},
    "colab_type": "code",
    "id": "dvtme4ONJmMm"
   },
   "outputs": [],
   "source": [
    "class ParamScheduler(Callback):\n",
    "    _order = 1\n",
    "    def __init__(self, pname, sched_funcs): self.pname, self.sched_funcs = pname, sched_funcs\n",
    "\n",
    "    def begin_fit(self): \n",
    "        if not isinstance(self.sched_funcs, (list, tuple)): \n",
    "            self.sched_funcs = [self.sched_funcs] * len(self.opt_func.param_groups)\n",
    "\n",
    "    def set_param(self):\n",
    "        assert len(self.opt_func.param_groups) == len(self.sched_funcs)\n",
    "        for pg, f in zip(self.opt_func.param_groups, self.sched_funcs):\n",
    "            pg[self.pname] = f(self.n_epochs/self.epochs)\n",
    "\n",
    "    def begin_batch(self):\n",
    "        if self.in_train: self.set_param()"
   ]
  },
  {
   "cell_type": "code",
   "execution_count": 22,
   "metadata": {
    "colab": {},
    "colab_type": "code",
    "id": "fv1iNbOp_K5I"
   },
   "outputs": [],
   "source": [
    "def annealer(f):\n",
    "    def _inner(start, end): return partial(f, start, end)\n",
    "    return _inner "
   ]
  },
  {
   "cell_type": "code",
   "execution_count": 23,
   "metadata": {
    "colab": {},
    "colab_type": "code",
    "id": "rutKoz1aFObU"
   },
   "outputs": [],
   "source": [
    "@annealer\n",
    "def sched_lin(start, end, pos): return start + pos * (end - start)\n",
    "@annealer\n",
    "def sched_cos(start, end, pos): return start + (1 + math.cos(math.pi*(1-pos))) * (end-start) / 2"
   ]
  },
  {
   "cell_type": "code",
   "execution_count": 24,
   "metadata": {
    "colab": {},
    "colab_type": "code",
    "id": "jlx2hdeTFVWc"
   },
   "outputs": [],
   "source": [
    "torch.Tensor.ndim = property(lambda x: len(x.shape))"
   ]
  },
  {
   "cell_type": "code",
   "execution_count": 25,
   "metadata": {
    "colab": {},
    "colab_type": "code",
    "id": "yun3oVfCKXHj"
   },
   "outputs": [],
   "source": [
    "def combine_scheds(pcts, scheds):\n",
    "    assert sum(pcts) == 1.\n",
    "    pcts = tensor([0] + listify(pcts))\n",
    "    assert torch.all(pcts >= 0)\n",
    "    pcts = torch.cumsum(pcts, 0)\n",
    "\n",
    "    def _inner(pos):\n",
    "        idx = (pos >= pcts).nonzero().max()\n",
    "        actual_pos = (pos-pcts[idx]) / (pcts[idx+1]-pcts[idx])\n",
    "        return scheds[idx](actual_pos)\n",
    "    return _inner    "
   ]
  },
  {
   "cell_type": "code",
   "execution_count": 26,
   "metadata": {
    "colab": {},
    "colab_type": "code",
    "id": "miyUFwsJMU0_"
   },
   "outputs": [],
   "source": [
    "max_lr = 3e-1\n",
    "sched = combine_scheds([0.3, 0.7], [sched_cos(3e-3, max_lr), sched_cos(max_lr, 3e-4)])"
   ]
  },
  {
   "cell_type": "code",
   "execution_count": 27,
   "metadata": {
    "colab": {},
    "colab_type": "code",
    "id": "eb_lm_zyQKac"
   },
   "outputs": [],
   "source": [
    "cbfs = [Recorder, partial(ParamScheduler, 'lr', sched)]"
   ]
  },
  {
   "cell_type": "markdown",
   "metadata": {
    "colab_type": "text",
    "id": "oCgO5uqZ7TLa"
   },
   "source": [
    "# 7. Train"
   ]
  },
  {
   "cell_type": "markdown",
   "metadata": {
    "colab_type": "text",
    "id": "Qm6H1b9V8Jbu"
   },
   "source": [
    "เริ่มต้นเทรน ด้วย SGD "
   ]
  },
  {
   "cell_type": "code",
   "execution_count": 28,
   "metadata": {},
   "outputs": [],
   "source": [
    "fastai.torch_core.defaults.device = 'cpu'"
   ]
  },
  {
   "cell_type": "code",
   "execution_count": 29,
   "metadata": {
    "colab": {},
    "colab_type": "code",
    "id": "W1tXBrGr8Jbv"
   },
   "outputs": [],
   "source": [
    "model = get_cnn_model(data)\n",
    "\n",
    "opt = torch.optim.SGD(model.parameters(), lr=max_lr)\n",
    "learn = Learner(data, model, opt, loss_func=loss_func)\n",
    "\n",
    "run = Runner(cb_funcs=cbfs, cbs=AvgStatsCallback([accuracy]))\n"
   ]
  },
  {
   "cell_type": "markdown",
   "metadata": {
    "colab_type": "text",
    "id": "qU9AhA3l-XUT"
   },
   "source": [
    "เทรนไป 8 Epoch"
   ]
  },
  {
   "cell_type": "code",
   "execution_count": 30,
   "metadata": {
    "colab": {
     "base_uri": "https://localhost:8080/",
     "height": 323
    },
    "colab_type": "code",
    "id": "O3TVM5Rtpnkm",
    "outputId": "617ae814-0dbd-4f4a-ecb7-887dca8acdf1"
   },
   "outputs": [
    {
     "name": "stdout",
     "output_type": "stream",
     "text": [
      "train: [2.306398550669352, tensor(0.0597)]\n",
      "valid: [2.3036294921875, tensor(0.0914)]\n",
      "train: [2.3006229400634766, tensor(0.1064)]\n",
      "valid: [2.2941267578125, tensor(0.1068)]\n",
      "train: [2.2448156674702964, tensor(0.1995)]\n",
      "valid: [2.23314453125, tensor(0.1951)]\n",
      "train: [1.5104331970214844, tensor(0.5085)]\n",
      "valid: [0.584012255859375, tensor(0.8487)]\n",
      "train: [0.47693626085917157, tensor(0.8531)]\n",
      "valid: [0.2684068603515625, tensor(0.9246)]\n",
      "train: [0.2670527696609497, tensor(0.9216)]\n",
      "valid: [0.1976252685546875, tensor(0.9435)]\n",
      "train: [0.2039439876874288, tensor(0.9402)]\n",
      "valid: [0.17543865966796876, tensor(0.9489)]\n",
      "train: [0.17885015408198038, tensor(0.9473)]\n",
      "valid: [0.15707364501953125, tensor(0.9539)]\n",
      "train: [0.16709476709365845, tensor(0.9506)]\n",
      "valid: [0.153447314453125, tensor(0.9551)]\n",
      "train: [0.1635343333085378, tensor(0.9516)]\n",
      "valid: [0.1521530029296875, tensor(0.9552)]\n",
      "CPU times: user 3min, sys: 3min 16s, total: 6min 16s\n",
      "Wall time: 55.4 s\n"
     ]
    }
   ],
   "source": [
    "%time run.fit(10, learn)"
   ]
  },
  {
   "cell_type": "markdown",
   "metadata": {
    "colab_type": "text",
    "id": "6Wtv7NLWLHjv"
   },
   "source": [
    "เทรนเสร็จเรียบร้อย ได้ Accuracy 98-99% เปรียบเทียบกับโมเดลที่ใช้ Linear Layer อย่างเดียว ที่ได้ 97% แต่ใช้เวลาค่อนข้างนาน คือประมาณ 6 นาที \n",
    "\n",
    "เราจะใช้ GPU มาเร่งความเร็ว ในการเทรนโมเดล เพื่อลดเวลาที่ใช้ตรงนี้ลง"
   ]
  },
  {
   "cell_type": "markdown",
   "metadata": {
    "colab_type": "text",
    "id": "yI3iGFckA7pr"
   },
   "source": [
    "# 7/2. Train with CUDA GPU"
   ]
  },
  {
   "cell_type": "markdown",
   "metadata": {
    "colab_type": "text",
    "id": "UUDvSbHYBdb1"
   },
   "source": [
    "Cuda คือ API สำหรับการประมวลผลแบบขนาน บน GPU ยี่ห้อ Nvidia \n",
    "\n",
    "ใน event begin_fit เราจะย้าย Model (Parameter) ไปยัง GPU Memory และ begin_batch ก็จะย้าย Data Batch นั้น ๆ ขึ้น GPU Memory"
   ]
  },
  {
   "cell_type": "code",
   "execution_count": 31,
   "metadata": {
    "colab": {},
    "colab_type": "code",
    "id": "GnMh9q17ANmz"
   },
   "outputs": [],
   "source": [
    "device = torch.device('cuda',0)\n",
    "torch.cuda.set_device(device)\n",
    "fastai.torch_core.defaults.device = device\n",
    "\n",
    "class CudaCallback(Callback):\n",
    "    def begin_fit(self): self.model.cuda()\n",
    "    def begin_batch(self): self.run.xb, self.run.yb = self.xb.cuda(), self.yb.cuda()\n"
   ]
  },
  {
   "cell_type": "markdown",
   "metadata": {
    "colab_type": "text",
    "id": "_SalZS5nJFjx"
   },
   "source": [
    "เพิ่ม CudaCallback เข้าไปให้โมเดล"
   ]
  },
  {
   "cell_type": "code",
   "execution_count": 32,
   "metadata": {
    "colab": {},
    "colab_type": "code",
    "id": "Vd8nf7DDANbJ"
   },
   "outputs": [],
   "source": [
    "cbfs.append(CudaCallback)"
   ]
  },
  {
   "cell_type": "code",
   "execution_count": 33,
   "metadata": {
    "colab": {},
    "colab_type": "code",
    "id": "kOmHWosyANOp"
   },
   "outputs": [],
   "source": [
    "data = DataBunch.create(train_ds, valid_ds, bs=bs, num_workers=8, device=device)\n",
    "\n",
    "model = get_cnn_model(data)\n",
    "\n",
    "opt = torch.optim.SGD(model.parameters(), lr=max_lr)\n",
    "learn = Learner(data, model, opt, loss_func=loss_func)\n",
    "\n",
    "run = Runner(cb_funcs=cbfs, cbs=AvgStatsCallback([accuracy]))\n"
   ]
  },
  {
   "cell_type": "code",
   "execution_count": 34,
   "metadata": {
    "colab": {
     "base_uri": "https://localhost:8080/",
     "height": 323
    },
    "colab_type": "code",
    "id": "45H4YCwcANAH",
    "outputId": "7c10e5fd-96f7-41a3-de18-4bb0da495565"
   },
   "outputs": [
    {
     "name": "stdout",
     "output_type": "stream",
     "text": [
      "train: [2.303256352742513, tensor(0.1015, device='cuda:0')]\n",
      "valid: [2.3030568359375, tensor(0.1030, device='cuda:0')]\n",
      "train: [2.297954718271891, tensor(0.1162, device='cuda:0')]\n",
      "valid: [2.289715625, tensor(0.1064, device='cuda:0')]\n",
      "train: [2.0350534121195474, tensor(0.3282, device='cuda:0')]\n",
      "valid: [1.1175974609375, tensor(0.5872, device='cuda:0')]\n",
      "train: [0.9316112200419108, tensor(0.7066, device='cuda:0')]\n",
      "valid: [0.3509394775390625, tensor(0.9003, device='cuda:0')]\n",
      "train: [0.3212595780690511, tensor(0.9052, device='cuda:0')]\n",
      "valid: [0.2533374755859375, tensor(0.9222, device='cuda:0')]\n",
      "train: [0.21101564168930054, tensor(0.9370, device='cuda:0')]\n",
      "valid: [0.1660559814453125, tensor(0.9534, device='cuda:0')]\n",
      "train: [0.1723414659500122, tensor(0.9490, device='cuda:0')]\n",
      "valid: [0.14741981201171875, tensor(0.9579, device='cuda:0')]\n",
      "train: [0.1556000510851542, tensor(0.9533, device='cuda:0')]\n",
      "valid: [0.1419236083984375, tensor(0.9585, device='cuda:0')]\n",
      "train: [0.14757860700289407, tensor(0.9560, device='cuda:0')]\n",
      "valid: [0.13727869873046875, tensor(0.9603, device='cuda:0')]\n",
      "train: [0.14410797754923502, tensor(0.9567, device='cuda:0')]\n",
      "valid: [0.136692822265625, tensor(0.9605, device='cuda:0')]\n",
      "CPU times: user 36.6 s, sys: 42.5 s, total: 1min 19s\n",
      "Wall time: 15.5 s\n"
     ]
    }
   ],
   "source": [
    "%time run.fit(10, learn)"
   ]
  },
  {
   "cell_type": "markdown",
   "metadata": {
    "colab_type": "text",
    "id": "NDAmZvRnJDPq"
   },
   "source": [
    "ใช้เวลาเหลือแค่ 15 วินาทีเท่านั้น ถ้ายิ่งโมเดลใหญ่ขึ้น ซับซ้อนยิ่งขึ้น เวลาที่ใช้ก็จะยิ่งแตกต่างกันเข้าไปอีก"
   ]
  },
  {
   "cell_type": "markdown",
   "metadata": {
    "colab_type": "text",
    "id": "FTxndie97Zuj"
   },
   "source": [
    "# 8. Interpret"
   ]
  },
  {
   "cell_type": "markdown",
   "metadata": {
    "colab_type": "text",
    "id": "Pa1Pfp0L8Jb1"
   },
   "source": [
    "เราลองพล็อตกราฟ Learning Rate"
   ]
  },
  {
   "cell_type": "code",
   "execution_count": 35,
   "metadata": {
    "colab": {
     "base_uri": "https://localhost:8080/",
     "height": 269
    },
    "colab_type": "code",
    "id": "rajIwpjF8Jb2",
    "outputId": "2a1ef59c-ef8d-4048-ef04-217ddbc750a7"
   },
   "outputs": [
    {
     "data": {
      "image/png": "[encoded data removed]",
      "text/plain": [
       "<Figure size 432x288 with 1 Axes>"
      ]
     },
     "metadata": {
      "needs_background": "light"
     },
     "output_type": "display_data"
    }
   ],
   "source": [
    "run.recorder.plot_lr()"
   ]
  },
  {
   "cell_type": "markdown",
   "metadata": {
    "colab_type": "text",
    "id": "M6kFsM668Jb8"
   },
   "source": [
    "พล็อตกราฟ Loss"
   ]
  },
  {
   "cell_type": "code",
   "execution_count": 36,
   "metadata": {
    "colab": {
     "base_uri": "https://localhost:8080/",
     "height": 269
    },
    "colab_type": "code",
    "id": "Lyaaoryg8Jb9",
    "outputId": "190b365c-e758-421f-a2bd-0028ea392ba6"
   },
   "outputs": [
    {
     "data": {
      "image/png": "[encoded data removed]",
      "text/plain": [
       "<Figure size 432x288 with 1 Axes>"
      ]
     },
     "metadata": {
      "needs_background": "light"
     },
     "output_type": "display_data"
    }
   ],
   "source": [
    "run.recorder.plot_loss()"
   ]
  },
  {
   "cell_type": "markdown",
   "metadata": {
    "colab_type": "text",
    "id": "Pbbl_t7n_ckY"
   },
   "source": [
    "# 9. สรุป"
   ]
  },
  {
   "cell_type": "markdown",
   "metadata": {
    "colab_type": "text",
    "id": "wjOpxk8w_c3Q"
   },
   "source": [
    "* การเลือก Model Architecture ที่เหมาะสม จะมีผลอย่างมาก ต่อประสิทธิภาพการทำงานของโมเดลโดยรวม เป็น 1 ใน Hyperparameter ที่สำคัญที่สุด\n",
    "* โมเดลยิ่งซับซ้อน ก็ต้องใช้เวลา ใช้ทรัพยากร ในการเทรนมากยิ่งขึ้น ทำให้จำเป็นต้องใช้ GPU จะเข้ามาช่วยแก้ปัญหานี้\n",
    "* ในการใช้งาน CNN เราต้องเลือก Hyperparameter อีกหลายตัว เช่น จำนวน Layer, จำนวน Channel, ขนาด Kernel, Stride, Padding, etc. จะอธิบายต่อไป"
   ]
  },
  {
   "cell_type": "markdown",
   "metadata": {
    "colab_type": "text",
    "id": "kXKZ8_gY8JcE"
   },
   "source": [
    "# Credit"
   ]
  },
  {
   "cell_type": "markdown",
   "metadata": {
    "colab_type": "text",
    "id": "-1sztQ5R8JcF"
   },
   "source": [
    "* https://course.fast.ai/videos/?lesson=10\n",
    "* http://yann.lecun.com/exdb/mnist/"
   ]
  },
  {
   "cell_type": "code",
   "execution_count": null,
   "metadata": {
    "colab": {},
    "colab_type": "code",
    "id": "KebNtFKCjOAe"
   },
   "outputs": [],
   "source": []
  }
 ],
 "metadata": {
  "colab": {
   "name": "24a-cnn-lambda.ipynb",
   "provenance": []
  },
  "kernelspec": {
   "display_name": "Python 3",
   "language": "python",
   "name": "python3"
  },
  "language_info": {
   "codemirror_mode": {
    "name": "ipython",
    "version": 3
   },
   "file_extension": ".py",
   "mimetype": "text/x-python",
   "name": "python",
   "nbconvert_exporter": "python",
   "pygments_lexer": "ipython3",
   "version": "3.7.3"
  }
 },
 "nbformat": 4,
 "nbformat_minor": 1
}
