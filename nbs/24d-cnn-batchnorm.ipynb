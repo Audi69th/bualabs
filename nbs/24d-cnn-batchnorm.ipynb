{
  "nbformat": 4,
  "nbformat_minor": 0,
  "metadata": {
    "colab": {
      "name": "24d-cnn-batchnorm.ipynb",
      "provenance": []
    },
    "kernelspec": {
      "name": "python3",
      "display_name": "Python 3"
    },
    "accelerator": "GPU"
  },
  "cells": [
    {
      "cell_type": "markdown",
      "metadata": {
        "id": "iMqoaV151MRo",
        "colab_type": "text"
      },
      "source": [
        "จากใน ep ก่อน ที่เราได้เรียนรู้การทำ [Normalization ข้อมูล Input](https://www.bualabs.com/archives/2100/what-is-normalization-feature-scaling-rescaling-normalization-standardization-feedforward-train-machine-learning-preprocessing-ep-2/) ให้มี Mean=0, Std=1 เท่ากันในทุก Feature ว่ามีประโยชน์ในการเทรน Machine Learning อย่างไร คำถามก็คือ แล้วทำไมเราไม่ทำแบบเดียวกันใน Hidden Layer ของ Deep Neural Network ด้วยล่ะ \n",
        "\n",
        "ไอเดียนี้ เรียกว่า BatchNorm มีประโยชน์หลายอย่าง ในการเทรน Machine Learning เช่น \n",
        "\n",
        "* ช่วยให้ [Gradient](https://www.bualabs.com/archives/631/what-is-gradient-descent-in-deep-learning-what-is-stochastic-gradient-descent-sgd-optimization-ep-1/) ไหลได้ดีขึ้น\n",
        "* ทำให้เราสามารถใช้ [Learning Rate](https://www.bualabs.com/archives/618/learning-rate-deep-learning-how-to-hyperparameter-tuning-ep-1/) ได้มากกว่าเดิม\n",
        "* ลดความจำเป็นในการ [Intialize](https://www.bualabs.com/archives/1789/what-is-vanishing-gradient-problem-fix-vanishing-gradient-problem-with-xavier-initialization-kaiming-initialization-neural-network-ep-2/) ที่ซับซ้อน\n",
        "* เป็นวิธีการ [Regularization](https://www.bualabs.com/archives/1170/what-is-data-augmentation-benefits-data-augmentaion-deep-learning-training-model-deep-neural-network-regularization-ep-1/) แบบหนึ่ง ในตัวเอง\n",
        "* ถ้าใช้ BatchNorm ร่วมกับ [Dropout](https://www.bualabs.com/archives/1533/what-is-dropout-benefits-dropout-reduce-overfit-deep-learning-training-model-deep-neural-network-regularization-ep-2/) ทำให้ลดความจำเป็นที่ต้องใช้ L2 Regularization"
      ]
    },
    {
      "cell_type": "markdown",
      "metadata": {
        "id": "OtZHS0F99IEG",
        "colab_type": "text"
      },
      "source": [
        "# 0. Magic Commands\n"
      ]
    },
    {
      "cell_type": "code",
      "metadata": {
        "id": "f5ot4A4y9IEZ",
        "colab_type": "code",
        "colab": {}
      },
      "source": [
        "%reload_ext autoreload\n",
        "%autoreload 2\n",
        "%matplotlib inline"
      ],
      "execution_count": 0,
      "outputs": []
    },
    {
      "cell_type": "markdown",
      "metadata": {
        "id": "MH68Y5_N9IE7",
        "colab_type": "text"
      },
      "source": [
        "# 1. Import Library"
      ]
    },
    {
      "cell_type": "code",
      "metadata": {
        "id": "Zt6egYhb9IFA",
        "colab_type": "code",
        "colab": {}
      },
      "source": [
        "from fastai import *\n",
        "from fastai.vision import *\n",
        "from fastai.metrics import accuracy\n",
        "import torch.nn.init as init\n",
        "\n",
        "import warnings\n",
        "warnings.filterwarnings(\"ignore\", category=UserWarning, module=\"torch.nn.functional\")"
      ],
      "execution_count": 0,
      "outputs": []
    },
    {
      "cell_type": "markdown",
      "metadata": {
        "id": "KOnc0IC39IFP",
        "colab_type": "text"
      },
      "source": [
        "# 2. ข้อมูล\n",
        "\n",
        "ใช้ชุดข้อมูล Dataset [MNIST](https://www.bualabs.com/archives/2215/what-is-mnist/) ตัวเลขอารบิคเขียนด้วยลายมือ"
      ]
    },
    {
      "cell_type": "code",
      "metadata": {
        "id": "G-KaJsQU9IFT",
        "colab_type": "code",
        "outputId": "82f7910f-8ef4-451c-a9bb-5df82f431657",
        "colab": {
          "base_uri": "https://localhost:8080/",
          "height": 34
        }
      },
      "source": [
        "# Small Dataset for quick test\n",
        "# path = untar_data(URLs.MNIST_SAMPLE)\n",
        "\n",
        "# Full Dataset\n",
        "path = untar_data(URLs.MNIST)\n",
        "path"
      ],
      "execution_count": 3,
      "outputs": [
        {
          "output_type": "execute_result",
          "data": {
            "text/plain": [
              "PosixPath('/root/.fastai/data/mnist_png')"
            ]
          },
          "metadata": {
            "tags": []
          },
          "execution_count": 3
        }
      ]
    },
    {
      "cell_type": "markdown",
      "metadata": {
        "id": "Jxuzl8gi9IGi",
        "colab_type": "text"
      },
      "source": [
        "# 3. เตรียมข้อมูล\n",
        "\n"
      ]
    },
    {
      "cell_type": "markdown",
      "metadata": {
        "id": "PVO9Gpau9IGk",
        "colab_type": "text"
      },
      "source": [
        "1. สำหรับข้อมูลประเภทตัวเลข เราไม่สามารถ flip ซ้าย ขวา ขึ้น ลง ได้ จะทำให้ผิดความหมายไป จึงต้องใช้ get_transforms(do_flip=False)\n",
        "2. เคสนี้ label คือชื่อ Folder ที่บรรจุไฟล์อยู่ เราสามารถ ใช้ ImageDataBunch.from_folder ได้เลย\n",
        "3. num_workers คือ จำนวน CPU Core ที่ต้องการใช้"
      ]
    },
    {
      "cell_type": "code",
      "metadata": {
        "id": "M5Emr0xh9IGl",
        "colab_type": "code",
        "colab": {}
      },
      "source": [
        "batchsize = 64\n",
        "max_lr = 3e-2\n",
        "wd = 1e-1\n",
        "np.random.seed(0)\n",
        "transform = get_transforms(do_flip=False)\n",
        "\n",
        "databunch = ImageDataBunch.from_folder(path, train='training', valid_pct=0.2, size=28, \n",
        "                                       ds_tfms=transform, bs=batchsize, num_workers=8).normalize()"
      ],
      "execution_count": 0,
      "outputs": []
    },
    {
      "cell_type": "markdown",
      "metadata": {
        "id": "IfDAvA8m9IGr",
        "colab_type": "text"
      },
      "source": [
        "## สำรวจข้อมูล ##\n",
        "\n",
        "ลองดูข้อมูล Batch แรก ด้วย show_batch สั่งให้แสดง รูป พร้อม label ไว้บนรูป แสดง 3 แถว (rows) ในกรอบขนาด 10 x 10 นิ้ว (figsize)\n",
        "\n",
        "*เราสามารถรัน cell นี้หลายครั้ง เพื่อเรียกดู batch ต่อ ๆ ไป ได้เรื่อย ๆ เป็นการสำรวจข้อมูล*"
      ]
    },
    {
      "cell_type": "code",
      "metadata": {
        "id": "3BqVtZBy9IGt",
        "colab_type": "code",
        "outputId": "4d01eadd-5736-4ab4-fa97-d1297971bdfa",
        "colab": {
          "base_uri": "https://localhost:8080/",
          "height": 729
        }
      },
      "source": [
        "databunch.show_batch(rows=3, figsize=(10, 10))"
      ],
      "execution_count": 5,
      "outputs": [
        {
          "output_type": "display_data",
          "data": {
            "image/png": "[encoded data removed]",
            "text/plain": [
              "<Figure size 720x720 with 9 Axes>"
            ]
          },
          "metadata": {
            "tags": []
          }
        }
      ]
    },
    {
      "cell_type": "markdown",
      "metadata": {
        "id": "hFoyXg1z9IG0",
        "colab_type": "text"
      },
      "source": [
        "ดู label ตัวเลขทั้งหมด หรือ class ทั้งหมด ที่มีใน Dataset"
      ]
    },
    {
      "cell_type": "code",
      "metadata": {
        "scrolled": true,
        "id": "8JTsQMRp9IG2",
        "colab_type": "code",
        "outputId": "998818eb-49d9-4f8d-a040-5525aba7a1db",
        "colab": {
          "base_uri": "https://localhost:8080/",
          "height": 34
        }
      },
      "source": [
        "databunch.classes"
      ],
      "execution_count": 6,
      "outputs": [
        {
          "output_type": "execute_result",
          "data": {
            "text/plain": [
              "['0', '1', '2', '3', '4', '5', '6', '7', '8', '9']"
            ]
          },
          "metadata": {
            "tags": []
          },
          "execution_count": 6
        }
      ]
    },
    {
      "cell_type": "markdown",
      "metadata": {
        "id": "6A9U0dSc9IG8",
        "colab_type": "text"
      },
      "source": [
        "# 4. สร้างโมเดล"
      ]
    },
    {
      "cell_type": "markdown",
      "metadata": {
        "id": "pWbboIYBKUsh",
        "colab_type": "text"
      },
      "source": [
        "เราจะสร้างโมเดล Deep Convolutional Neural Network ที่มี 4 ConvLayer และใช้ GeneralRelu ดังด้านล่าง"
      ]
    },
    {
      "cell_type": "code",
      "metadata": {
        "id": "1596sMU524y0",
        "colab_type": "code",
        "colab": {}
      },
      "source": [
        "def get_cnn_model(data, **kwargs):\n",
        "    return nn.Sequential(\n",
        "        nn.Conv2d(  3,  8, 5, padding=2, stride=2), GeneralRelu(**kwargs), #14\n",
        "        nn.Conv2d(  8, 16, 3, padding=1, stride=2), GeneralRelu(**kwargs), # 7\n",
        "        nn.Conv2d( 16, 32, 3, padding=1, stride=2), GeneralRelu(**kwargs), # 4\n",
        "        nn.Conv2d( 32, 32, 3, padding=1, stride=2), GeneralRelu(**kwargs), # 2\n",
        "        nn.AdaptiveAvgPool2d(1), \n",
        "        Lambda(flatten), \n",
        "        nn.Linear(32, data.c)\n",
        "    )\n",
        "\n",
        "class GeneralRelu(nn.Module): \n",
        "    def __init__(self, leak=None, sub=None, maxv=None):\n",
        "        super().__init__()\n",
        "        self.leak, self.sub, self.maxv = leak, sub, maxv\n",
        "    def forward(self, x):\n",
        "        x = F.leaky_relu(x, self.leak) if self.leak is not None else F.relu(x)\n",
        "        if self.sub is not None: x.sub_(self.sub)\n",
        "        if self.maxv is not None: x.clamp_max_(self.maxv)\n",
        "        return x\n",
        "\n",
        "# def mnist_resize(x): return x.view(-1, 1, 28, 28)\n",
        "def flatten(x): return x.view(x.shape[0], -1)    \n",
        "\n",
        "def init_cnn(m, uniform=False, bias=True):\n",
        "    f = init.kaiming_uniform_ if uniform else init.kaiming_normal_\n",
        "    for l in m:\n",
        "        if isinstance(l, nn.Conv2d):\n",
        "            f(l.weight, a=0.1)\n",
        "            if bias: l.bias.data.zero_()"
      ],
      "execution_count": 0,
      "outputs": []
    },
    {
      "cell_type": "markdown",
      "metadata": {
        "id": "ayoQr8d8GfGH",
        "colab_type": "text"
      },
      "source": [
        "สร้างโมเดล และ Initialize ด้วย Kaiming Normal"
      ]
    },
    {
      "cell_type": "code",
      "metadata": {
        "id": "a5GtebtB_uhu",
        "colab_type": "code",
        "colab": {}
      },
      "source": [
        "model = get_cnn_model(databunch, leak=0.1, sub=0.4, maxv=6.)\n",
        "init_cnn(model)"
      ],
      "execution_count": 0,
      "outputs": []
    },
    {
      "cell_type": "code",
      "metadata": {
        "id": "t1beHqEr_vRv",
        "colab_type": "code",
        "outputId": "d694af3a-c594-402e-fb4c-436e5d17fb9f",
        "colab": {
          "base_uri": "https://localhost:8080/",
          "height": 238
        }
      },
      "source": [
        "model"
      ],
      "execution_count": 9,
      "outputs": [
        {
          "output_type": "execute_result",
          "data": {
            "text/plain": [
              "Sequential(\n",
              "  (0): Conv2d(3, 8, kernel_size=(5, 5), stride=(2, 2), padding=(2, 2))\n",
              "  (1): GeneralRelu()\n",
              "  (2): Conv2d(8, 16, kernel_size=(3, 3), stride=(2, 2), padding=(1, 1))\n",
              "  (3): GeneralRelu()\n",
              "  (4): Conv2d(16, 32, kernel_size=(3, 3), stride=(2, 2), padding=(1, 1))\n",
              "  (5): GeneralRelu()\n",
              "  (6): Conv2d(32, 32, kernel_size=(3, 3), stride=(2, 2), padding=(1, 1))\n",
              "  (7): GeneralRelu()\n",
              "  (8): AdaptiveAvgPool2d(output_size=1)\n",
              "  (9): Lambda()\n",
              "  (10): Linear(in_features=32, out_features=10, bias=True)\n",
              ")"
            ]
          },
          "metadata": {
            "tags": []
          },
          "execution_count": 9
        }
      ]
    },
    {
      "cell_type": "code",
      "metadata": {
        "id": "pa99vDjuKZdv",
        "colab_type": "code",
        "colab": {}
      },
      "source": [
        "def children(m): list(m.children())\n",
        "\n",
        "class Hook():\n",
        "    # m = module, f = function\n",
        "    def __init__(self, m, f): self.hook = m.register_forward_hook(partial(f, self))\n",
        "    def remove(self): self.hook.remove()\n",
        "    def __del__(self): self.remove()\n",
        "\n",
        "def append_stats(hook, mod, inp, outp):\n",
        "    if not hasattr(hook, 'stats'): hook.stats = ([], [], [])\n",
        "    means, stds, hists = hook.stats \n",
        "    means.append(outp.data.mean().cpu())\n",
        "    stds.append(outp.data.std().cpu())\n",
        "    # Tensor.histc(bins, min, max)\n",
        "    hists.append(outp.data.cpu().histc(80, -10, 10))\n",
        "\n",
        "class ListContainer():\n",
        "    def __init__(self, items): self.items = listify(items)\n",
        "    def __getitem__(self, idx): \n",
        "        if isinstance(idx, (int, slice)): return self.items[idx]\n",
        "        if isinstance(idx[0], bool):\n",
        "            assert len(idx) == len(self) # boolean mask\n",
        "            return [o for m, o in zip(idx, self.items) if m]\n",
        "        return [self.items[i] for i in idx]\n",
        "    def __len__(self): return len(self.items)\n",
        "    def __iter__(self): return iter(self.items)\n",
        "    def __setitem__(self, i, o): self.items[i] = o\n",
        "    def __delitem__(self, i): del(self.items[i])\n",
        "    def __repr__(self):\n",
        "        res = f'{self.__class__.__name__} ({len(self)} items)\\n{self.items[:10]}'\n",
        "        if len(self) > 10: res = res[:-1] + '...]'\n",
        "        return res\n",
        "        \n",
        "class Hooks(ListContainer):\n",
        "    def __init__(self, ms, f): super().__init__([Hook(m, f) for m in ms])\n",
        "    def __enter__(self, *args): return self\n",
        "    def __exit__(self, *args): self.remove()\n",
        "    def __del__(self): self.remove()\n",
        "\n",
        "    def __delitem__(self, i):\n",
        "        self[i].remove()\n",
        "        super().__delitem__(i)\n",
        "    \n",
        "    def remove(self):\n",
        "        for h in self: h.remove()  "
      ],
      "execution_count": 0,
      "outputs": []
    },
    {
      "cell_type": "code",
      "metadata": {
        "id": "y4IxTVh39IG-",
        "colab_type": "code",
        "colab": {}
      },
      "source": [
        "learner = Learner(databunch, model, metrics=accuracy)"
      ],
      "execution_count": 0,
      "outputs": []
    },
    {
      "cell_type": "markdown",
      "metadata": {
        "id": "zjm7EsmT9IHD",
        "colab_type": "text"
      },
      "source": [
        "# 5. เริ่มต้นเทรนโมเดล\n"
      ]
    },
    {
      "cell_type": "markdown",
      "metadata": {
        "id": "UcbpWiI_GsfR",
        "colab_type": "text"
      },
      "source": [
        "พล็อตกราฟ Mean และ Variant ของ 10 Iteration แรก และ กราฟ Mean และ Variant ของตลอดการเทรน"
      ]
    },
    {
      "cell_type": "code",
      "metadata": {
        "id": "mlZCwwUd3Hgf",
        "colab_type": "code",
        "outputId": "aa791a2b-d92d-458c-fe7a-28820b2a46a9",
        "colab": {
          "base_uri": "https://localhost:8080/",
          "height": 95
        }
      },
      "source": [
        "with Hooks(learner.model, append_stats) as hooks: \n",
        "\n",
        "    learner.fit_one_cycle(1, max_lr=max_lr, wd=wd)\n",
        "\n",
        "    # Plot first 10 iterations.\n",
        "    fig, (ax0, ax1) = plt.subplots(1, 2, figsize=(10, 4))\n",
        "    for h in hooks[[0, 2, 4, 6]]:\n",
        "        # ms = means, ss = stds, _ = histogram\n",
        "        ms, ss, _ = h.stats\n",
        "        ax0.plot(ms[:10])\n",
        "        ax1.plot(ss[:10])\n",
        "        h.remove()\n",
        "    plt.legend(range(4))\n",
        "\n",
        "    # Plot all\n",
        "    fig, (ax0, ax1) = plt.subplots(1, 2, figsize=(10, 4))\n",
        "    for h in hooks[[0, 2, 4, 6]]:\n",
        "        ms, ss, _ = h.stats\n",
        "        ax0.plot(ms)\n",
        "        ax1.plot(ss)\n",
        "    plt.legend(range(4))"
      ],
      "execution_count": 0,
      "outputs": [
        {
          "output_type": "display_data",
          "data": {
            "text/html": [
              "\n",
              "    <div>\n",
              "        <style>\n",
              "            /* Turns off some styling */\n",
              "            progress {\n",
              "                /* gets rid of default border in Firefox and Opera. */\n",
              "                border: none;\n",
              "                /* Needs to be in here for Safari polyfill so background images work as expected. */\n",
              "                background-size: auto;\n",
              "            }\n",
              "            .progress-bar-interrupted, .progress-bar-interrupted::-webkit-progress-bar {\n",
              "                background: #F44336;\n",
              "            }\n",
              "        </style>\n",
              "      <progress value='0' class='' max='1', style='width:300px; height:20px; vertical-align: middle;'></progress>\n",
              "      0.00% [0/1 00:00<00:00]\n",
              "    </div>\n",
              "    \n",
              "<table border=\"1\" class=\"dataframe\">\n",
              "  <thead>\n",
              "    <tr style=\"text-align: left;\">\n",
              "      <th>epoch</th>\n",
              "      <th>train_loss</th>\n",
              "      <th>valid_loss</th>\n",
              "      <th>accuracy</th>\n",
              "      <th>time</th>\n",
              "    </tr>\n",
              "  </thead>\n",
              "  <tbody>\n",
              "  </tbody>\n",
              "</table><p>\n",
              "\n",
              "    <div>\n",
              "        <style>\n",
              "            /* Turns off some styling */\n",
              "            progress {\n",
              "                /* gets rid of default border in Firefox and Opera. */\n",
              "                border: none;\n",
              "                /* Needs to be in here for Safari polyfill so background images work as expected. */\n",
              "                background-size: auto;\n",
              "            }\n",
              "            .progress-bar-interrupted, .progress-bar-interrupted::-webkit-progress-bar {\n",
              "                background: #F44336;\n",
              "            }\n",
              "        </style>\n",
              "      <progress value='191' class='' max='875', style='width:300px; height:20px; vertical-align: middle;'></progress>\n",
              "      21.83% [191/875 00:20<01:14 0.5385]\n",
              "    </div>\n",
              "    "
            ],
            "text/plain": [
              "<IPython.core.display.HTML object>"
            ]
          },
          "metadata": {
            "tags": []
          }
        }
      ]
    },
    {
      "cell_type": "markdown",
      "metadata": {
        "id": "A0R_zP8BxZqb",
        "colab_type": "text"
      },
      "source": [
        "# 6. Intepret"
      ]
    },
    {
      "cell_type": "markdown",
      "metadata": {
        "id": "Xfqr70ZYG634",
        "colab_type": "text"
      },
      "source": [
        "ดู Histogram ของ Activation Map ว่าอยู่ไหนช่วงไหนกันบ้าง ทั้งแต่ -10 ถึง 10 ตรงกลางคือ 0"
      ]
    },
    {
      "cell_type": "code",
      "metadata": {
        "id": "k3PTzCo_I8pb",
        "colab_type": "code",
        "colab": {}
      },
      "source": [
        "def get_hist(h): return torch.stack(h.stats[2]).t().float().log1p()[:,:200]\n",
        "\n",
        "fig, axes = plt.subplots(2, 2, figsize=(15, 6))\n",
        "for ax, h in zip(axes.flatten(), hooks[[0, 2, 4, 6]]):\n",
        "    ax.imshow(get_hist(h), origin='lower')\n",
        "    ax.axis('off')\n",
        "plt.tight_layout()"
      ],
      "execution_count": 0,
      "outputs": []
    },
    {
      "cell_type": "markdown",
      "metadata": {
        "id": "St8R0NUEHJp7",
        "colab_type": "text"
      },
      "source": [
        "พล็อตกราฟสัดส่วนของ Activation Map ที่มีค่าน้อย ต่อ Activation Map ทั้งหมด"
      ]
    },
    {
      "cell_type": "code",
      "metadata": {
        "id": "I1CLJ77sTiVt",
        "colab_type": "code",
        "colab": {}
      },
      "source": [
        "def get_min(h):\n",
        "    # stats = mean, std, histogram, stats[2] = hists\n",
        "    h1 = torch.stack(h.stats[2]).t().float()\n",
        "    return h1[38:42].sum(0)/h1.sum(0)"
      ],
      "execution_count": 0,
      "outputs": []
    },
    {
      "cell_type": "code",
      "metadata": {
        "id": "tHw8bK43TjUZ",
        "colab_type": "code",
        "colab": {}
      },
      "source": [
        "fig, axes = plt.subplots(2, 2, figsize=(15, 6))\n",
        "for ax, h in zip(axes.flatten(), hooks[[0, 2, 4, 6]]):\n",
        "    ax.plot(get_min(h))\n",
        "    ax.set_ylim(0, 1)\n",
        "plt.tight_layout()"
      ],
      "execution_count": 0,
      "outputs": []
    },
    {
      "cell_type": "markdown",
      "metadata": {
        "id": "ujgJypAb2w4u",
        "colab_type": "text"
      },
      "source": [
        "# 4/2. Model with BatchNorm"
      ]
    },
    {
      "cell_type": "markdown",
      "metadata": {
        "id": "s-W0eDJXHh5B",
        "colab_type": "text"
      },
      "source": [
        "ประกาศ BatchNorm Layer สำหรับใช้ในโมเดลใหม่"
      ]
    },
    {
      "cell_type": "code",
      "metadata": {
        "id": "SKzAMa5umqEz",
        "colab_type": "code",
        "colab": {}
      },
      "source": [
        "class BatchNorm(nn.Module):\n",
        "    def __init__(self, nf, mom=0.1, eps=1e-5): \n",
        "        super().__init__()\n",
        "        # mom is 1 - momentum\n",
        "        self.mom, self.eps = mom, eps\n",
        "        self.mults = nn.Parameter(torch.ones(nf, 1, 1))\n",
        "        self.adds = nn.Parameter(torch.zeros(nf, 1, 1))\n",
        "        self.register_buffer('vars', torch.ones(1, nf, 1, 1))\n",
        "        self.register_buffer('means', torch.zeros(1, nf, 1, 1))\n",
        "\n",
        "    def update_status(self, x):\n",
        "        # find mean, var by batch, widht, height for each channel but keep dimension\n",
        "        m = x.mean((0, 2, 3), keepdim=True)\n",
        "        v = x.var((0, 2, 3), keepdim=True)\n",
        "        self.means.lerp_(m, self.mom)\n",
        "        self.vars.lerp_(v, self.mom)\n",
        "        return m, v\n",
        "\n",
        "    def forward(self, x):\n",
        "        if self.training: \n",
        "            with torch.no_grad(): m, v = self.update_status(x)\n",
        "        else: m, v = self.means, self.vars\n",
        "        x = (x - m) / (v + self.eps).sqrt()\n",
        "        return (x * self.mults) + self.adds\n"
      ],
      "execution_count": 0,
      "outputs": []
    },
    {
      "cell_type": "markdown",
      "metadata": {
        "id": "TH6wIerAHTfI",
        "colab_type": "text"
      },
      "source": [
        "สร้างโมเดลใหม่ ที่มี BatchNorm แทรกอยู่หลัง Activation Function ในที่นี้คือ GeneralReLU แต่ ConvLayer ไม่จำเป็นต้องมี Bias แล้ว เพราะมีใน BatchNorm ให้แล้ว"
      ]
    },
    {
      "cell_type": "code",
      "metadata": {
        "id": "GMZVAXhmory3",
        "colab_type": "code",
        "colab": {}
      },
      "source": [
        "def get_cnn_model(data, **kwargs):\n",
        "    return nn.Sequential(\n",
        "        nn.Conv2d(  3,  8, 5, padding=2, stride=2, bias=False), GeneralRelu(**kwargs), BatchNorm( 8), #14\n",
        "        nn.Conv2d(  8, 16, 3, padding=1, stride=2, bias=False), GeneralRelu(**kwargs), BatchNorm(16), # 7\n",
        "        nn.Conv2d( 16, 32, 3, padding=1, stride=2, bias=False), GeneralRelu(**kwargs), BatchNorm(32), # 4\n",
        "        nn.Conv2d( 32, 32, 3, padding=1, stride=2, bias=False), GeneralRelu(**kwargs), BatchNorm(32), # 2\n",
        "        nn.AdaptiveAvgPool2d(1), \n",
        "        Lambda(flatten), \n",
        "        nn.Linear(32, data.c)\n",
        "    )\n"
      ],
      "execution_count": 0,
      "outputs": []
    },
    {
      "cell_type": "markdown",
      "metadata": {
        "id": "MG7H4Mh6H3pI",
        "colab_type": "text"
      },
      "source": [
        "Initialize โมเดลด้วย Kaiming Normal"
      ]
    },
    {
      "cell_type": "code",
      "metadata": {
        "id": "pHYXH1HxtqtZ",
        "colab_type": "code",
        "colab": {}
      },
      "source": [
        "model = get_cnn_model(databunch, leak=0.1, sub=0.4, maxv=6.)\n",
        "init_cnn(model, bias=False)\n",
        "model"
      ],
      "execution_count": 0,
      "outputs": []
    },
    {
      "cell_type": "code",
      "metadata": {
        "id": "IfWkWlXptq4e",
        "colab_type": "code",
        "colab": {}
      },
      "source": [
        "learner = Learner(databunch, model, metrics=accuracy)"
      ],
      "execution_count": 0,
      "outputs": []
    },
    {
      "cell_type": "markdown",
      "metadata": {
        "id": "VRWda7tmtq-P",
        "colab_type": "text"
      },
      "source": [
        "# 5/2. Train with BatchNorm"
      ]
    },
    {
      "cell_type": "markdown",
      "metadata": {
        "id": "uQLv1qnDIM0P",
        "colab_type": "text"
      },
      "source": [
        "เทรน 1 Epoch เหมือนด้านบน เพื่อเปรียบเทียบ แต่เราสามารถเพิ่ม Maximum Learning Rate เป็น 2 เท่า ทำให้เทรนได้เร็วขึ้นอีก\n",
        "\n",
        "และเราจะพล็อตกราฟ Mean, Std จาก ConvLayer คือ Layer ที่ 0, 3, 6, 9 "
      ]
    },
    {
      "cell_type": "code",
      "metadata": {
        "id": "JBadwEcEtrEA",
        "colab_type": "code",
        "colab": {}
      },
      "source": [
        "with Hooks(learner.model, append_stats) as hooks: \n",
        "\n",
        "    learner.fit_one_cycle(1, max_lr=max_lr*2, wd=wd)\n",
        "\n",
        "    # Plot first 10 iterations.\n",
        "    fig, (ax0, ax1) = plt.subplots(1, 2, figsize=(10, 4))\n",
        "    for h in hooks[[0, 3, 6, 9]]:       # ConvLayer\n",
        "    # for h in hooks[[2, 5, 8, 11]]:    # BatchNorm Layer\n",
        "\n",
        "        # ms = means, ss = stds, _ = histogram\n",
        "        ms, ss, _ = h.stats\n",
        "        ax0.plot(ms[:10])\n",
        "        ax1.plot(ss[:10])\n",
        "        h.remove()\n",
        "    plt.legend(range(4))\n",
        "\n",
        "    # Plot all\n",
        "    fig, (ax0, ax1) = plt.subplots(1, 2, figsize=(10, 4))\n",
        "    for h in hooks[[0, 3, 6, 9]]:       # ConvLayer\n",
        "    # for h in hooks[[2, 5, 8, 11]]:    # BatchNorm Layer\n",
        "        ms, ss, _ = h.stats\n",
        "        ax0.plot(ms)\n",
        "        ax1.plot(ss)\n",
        "    plt.legend(range(4))"
      ],
      "execution_count": 0,
      "outputs": []
    },
    {
      "cell_type": "markdown",
      "metadata": {
        "id": "dyBpUXJixhLh",
        "colab_type": "text"
      },
      "source": [
        "# 6/2. Intepret"
      ]
    },
    {
      "cell_type": "markdown",
      "metadata": {
        "id": "MI7oWVsZISWV",
        "colab_type": "text"
      },
      "source": [
        "เราจะพล็อตกราฟ Histogram ของ Activation Map ของ Layer ที่ 0, 3, 6, 9"
      ]
    },
    {
      "cell_type": "code",
      "metadata": {
        "id": "G_rZIBXlt-t8",
        "colab_type": "code",
        "colab": {}
      },
      "source": [
        "fig, axes = plt.subplots(2, 2, figsize=(15, 6))\n",
        "for ax, h in zip(axes.flatten(), hooks[[0, 3, 6, 9]]):    # ConvLayer\n",
        "# for ax, h in zip(axes.flatten(), hooks[[2, 5, 8, 11]]):     # BatchNorm Layer\n",
        "    ax.imshow(get_hist(h), origin='lower')\n",
        "    ax.axis('off')\n",
        "plt.tight_layout()"
      ],
      "execution_count": 0,
      "outputs": []
    },
    {
      "cell_type": "markdown",
      "metadata": {
        "id": "8PM03CZ1Isth",
        "colab_type": "text"
      },
      "source": [
        "เราจะพล็อตกราฟ สัดส่วน Activation Map ของ Layer ที่ 0, 3, 6, 9"
      ]
    },
    {
      "cell_type": "code",
      "metadata": {
        "id": "SJd3WOftudMY",
        "colab_type": "code",
        "colab": {}
      },
      "source": [
        "fig, axes = plt.subplots(2, 2, figsize=(15, 6))\n",
        "for ax, h in zip(axes.flatten(), hooks[[0, 3, 6, 9]]):    # ConvLayer\n",
        "# for ax, h in zip(axes.flatten(), hooks[[2, 5, 8, 11]]):     # BatchNorm Layer\n",
        "    ax.plot(get_min(h))\n",
        "    ax.set_ylim(0, 1)\n",
        "plt.tight_layout()"
      ],
      "execution_count": 0,
      "outputs": []
    },
    {
      "cell_type": "markdown",
      "metadata": {
        "colab_type": "text",
        "id": "p228QDar6C8F"
      },
      "source": [
        "# 4/3. Model with BatchNorm (Small Batch Size)"
      ]
    },
    {
      "cell_type": "markdown",
      "metadata": {
        "id": "W75v7WXJ7zxQ",
        "colab_type": "text"
      },
      "source": [
        "BatchNorm จะมีปัญหากับ Batch Size ที่เล็ก เพราะ Mean, Std ค่อนข้างเหวี่ยงเกินไป เราจะลองเทรนด้วย Batch Size น้อย ๆ เช่น 4 "
      ]
    },
    {
      "cell_type": "code",
      "metadata": {
        "id": "1SxJ9EZc6Z6B",
        "colab_type": "code",
        "colab": {}
      },
      "source": [
        "batchsize = 4\n",
        "databunch = ImageDataBunch.from_folder(path, train='training', valid_pct=0.2, size=28, \n",
        "                                       ds_tfms=transform, bs=batchsize, num_workers=8).normalize()"
      ],
      "execution_count": 0,
      "outputs": []
    },
    {
      "cell_type": "code",
      "metadata": {
        "colab_type": "code",
        "id": "_1tilk_e6C8T",
        "colab": {}
      },
      "source": [
        "model = get_cnn_model(databunch, leak=0.1, sub=0.4, maxv=6.)\n",
        "init_cnn(model, bias=False)\n",
        "model"
      ],
      "execution_count": 0,
      "outputs": []
    },
    {
      "cell_type": "code",
      "metadata": {
        "colab_type": "code",
        "id": "pqhNMrrC6C8W",
        "colab": {}
      },
      "source": [
        "learner = Learner(databunch, model, metrics=accuracy)"
      ],
      "execution_count": 0,
      "outputs": []
    },
    {
      "cell_type": "markdown",
      "metadata": {
        "colab_type": "text",
        "id": "_EFhae5Y6C8Y"
      },
      "source": [
        "# 5/3. Train (Small Bath Size)"
      ]
    },
    {
      "cell_type": "markdown",
      "metadata": {
        "colab_type": "text",
        "id": "eaLtZBbh6C8Y"
      },
      "source": [
        "เทรน 1 Epoch เหมือนด้านบน เพื่อเปรียบเทียบ แต่เราสามารถเพิ่ม Maximum Learning Rate เป็น 2 เท่า ทำให้เทรนได้เร็วขึ้นอีก\n",
        "\n",
        "และเราจะพล็อตกราฟ Mean, Std จาก ConvLayer คือ Layer ที่ 0, 3, 6, 9 "
      ]
    },
    {
      "cell_type": "code",
      "metadata": {
        "colab_type": "code",
        "id": "F6Mc_HWZ6C8Z",
        "colab": {}
      },
      "source": [
        "with Hooks(learner.model, append_stats) as hooks: \n",
        "\n",
        "    learner.fit_one_cycle(1, max_lr=max_lr*2, wd=wd)\n",
        "\n",
        "    # Plot first 10 iterations.\n",
        "    fig, (ax0, ax1) = plt.subplots(1, 2, figsize=(10, 4))\n",
        "    for h in hooks[[0, 3, 6, 9]]:       # ConvLayer\n",
        "    # for h in hooks[[2, 5, 8, 11]]:    # BatchNorm Layer\n",
        "\n",
        "        # ms = means, ss = stds, _ = histogram\n",
        "        ms, ss, _ = h.stats\n",
        "        ax0.plot(ms[:10])\n",
        "        ax1.plot(ss[:10])\n",
        "        h.remove()\n",
        "    plt.legend(range(4))\n",
        "\n",
        "    # Plot all\n",
        "    fig, (ax0, ax1) = plt.subplots(1, 2, figsize=(10, 4))\n",
        "    for h in hooks[[0, 3, 6, 9]]:       # ConvLayer\n",
        "    # for h in hooks[[2, 5, 8, 11]]:    # BatchNorm Layer\n",
        "        ms, ss, _ = h.stats\n",
        "        ax0.plot(ms)\n",
        "        ax1.plot(ss)\n",
        "    plt.legend(range(4))"
      ],
      "execution_count": 0,
      "outputs": []
    },
    {
      "cell_type": "markdown",
      "metadata": {
        "colab_type": "text",
        "id": "nIvnqKWm6C8c"
      },
      "source": [
        "# 6/3. Intepret"
      ]
    },
    {
      "cell_type": "markdown",
      "metadata": {
        "colab_type": "text",
        "id": "9Aw0D-jW6C8c"
      },
      "source": [
        "เราจะพล็อตกราฟ Histogram ของ Activation Map ของ Layer ที่ 0, 3, 6, 9"
      ]
    },
    {
      "cell_type": "code",
      "metadata": {
        "colab_type": "code",
        "id": "AIGjLGUv6C8d",
        "colab": {}
      },
      "source": [
        "fig, axes = plt.subplots(2, 2, figsize=(15, 6))\n",
        "for ax, h in zip(axes.flatten(), hooks[[0, 3, 6, 9]]):    # ConvLayer\n",
        "# for ax, h in zip(axes.flatten(), hooks[[2, 5, 8, 11]]):     # BatchNorm Layer\n",
        "    ax.imshow(get_hist(h), origin='lower')\n",
        "    ax.axis('off')\n",
        "plt.tight_layout()"
      ],
      "execution_count": 0,
      "outputs": []
    },
    {
      "cell_type": "markdown",
      "metadata": {
        "colab_type": "text",
        "id": "r26wSQxd6C8f"
      },
      "source": [
        "เราจะพล็อตกราฟ สัดส่วน Activation Map ของ Layer ที่ 0, 3, 6, 9"
      ]
    },
    {
      "cell_type": "code",
      "metadata": {
        "colab_type": "code",
        "id": "1J-M4lAC6C8g",
        "colab": {}
      },
      "source": [
        "fig, axes = plt.subplots(2, 2, figsize=(15, 6))\n",
        "for ax, h in zip(axes.flatten(), hooks[[0, 3, 6, 9]]):    # ConvLayer\n",
        "# for ax, h in zip(axes.flatten(), hooks[[2, 5, 8, 11]]):     # BatchNorm Layer\n",
        "    ax.plot(get_min(h))\n",
        "    ax.set_ylim(0, 1)\n",
        "plt.tight_layout()"
      ],
      "execution_count": 0,
      "outputs": []
    },
    {
      "cell_type": "markdown",
      "metadata": {
        "colab_type": "text",
        "id": "TmPTjyFw9tgb"
      },
      "source": [
        "# 4/4. Running BatchNorm"
      ]
    },
    {
      "cell_type": "markdown",
      "metadata": {
        "colab_type": "text",
        "id": "UFea4H1v9tgn"
      },
      "source": [
        "Running BatchNorm ที่มาแก้ปัญหา Batch Size เล็ก ด้วยการใช้ Running Mean, Running Variant"
      ]
    },
    {
      "cell_type": "code",
      "metadata": {
        "colab_type": "code",
        "id": "FWtx2OEC9tgo",
        "colab": {}
      },
      "source": [
        "class RunningBatchNorm(nn.Module):\n",
        "    def __init__(self, nf, mom=0.1, eps=1e-5): \n",
        "        super().__init__()\n",
        "        self.mom, self.eps = mom, eps\n",
        "        self.mults = nn.Parameter(torch.ones(nf, 1, 1))\n",
        "        self.adds = nn.Parameter(torch.zeros(nf, 1, 1))\n",
        "        self.register_buffer('sums', torch.zeros(1, nf, 1, 1))\n",
        "        self.register_buffer('sqrs', torch.zeros(1, nf, 1, 1))\n",
        "        self.register_buffer('batch', torch.tensor(0.))\n",
        "        self.register_buffer('count', torch.tensor(0.))\n",
        "        self.register_buffer('step', torch.tensor(0.))\n",
        "        self.register_buffer('dbias', torch.tensor(0.))\n",
        "\n",
        "    def update_status(self, x):\n",
        "        # bs = batch size, nc = no of channels\n",
        "        bs, nc, *_ = x.shape\n",
        "        self.sums.detach_()\n",
        "        self.sqrs.detach_()\n",
        "        dims = (0, 2, 3)\n",
        "        # s = sum, ss = sum of squared, c = count\n",
        "        s = x.sum(dims, keepdim=True)\n",
        "        ss = (x*x).sum(dims, keepdim=True)\n",
        "        c = self.count.new_tensor(x.numel()/nc)\n",
        "        mom1 = 1 - (1-self.mom)/math.sqrt(bs-1)\n",
        "        self.mom1 = self.dbias.new_tensor(mom1)\n",
        "        self.sums.lerp_(s, self.mom1)\n",
        "        self.sqrs.lerp_(ss, self.mom1)\n",
        "        self.count.lerp_(c, self.mom1) \n",
        "        self.dbias = self.dbias*(1-self.mom1) + self.mom1\n",
        "        self.batch += bs\n",
        "        self.step += 1\n",
        "\n",
        "    def forward(self, x):\n",
        "        if self.training:  self.update_status(x)\n",
        "        sums = self.sums\n",
        "        sqrs = self.sqrs\n",
        "        c = self.count\n",
        "        if self.step < 100:\n",
        "            sums = sums / self.dbias\n",
        "            sqrs = sqrs / self.dbias\n",
        "            c = c / self.dbias\n",
        "        means = sums / c\n",
        "        vars = (sqrs/c).sub_(means*means)\n",
        "        if bool(self.batch < 20): vars.clamp_min_(0.01)\n",
        "        x = (x-means).div_((vars.add_(self.eps)).sqrt())\n",
        "        return x.mul_(self.mults).add_(self.adds)\n"
      ],
      "execution_count": 0,
      "outputs": []
    },
    {
      "cell_type": "markdown",
      "metadata": {
        "colab_type": "text",
        "id": "Evyarftw9tgt"
      },
      "source": [
        "สร้างโมเดลใหม่ ที่มี BatchNorm แทรกอยู่หลัง Activation Function ในที่นี้คือ GeneralReLU แต่ ConvLayer ไม่จำเป็นต้องมี Bias แล้ว เพราะมีใน BatchNorm ให้แล้ว"
      ]
    },
    {
      "cell_type": "code",
      "metadata": {
        "colab_type": "code",
        "id": "z3Dqa7d09tgv",
        "colab": {}
      },
      "source": [
        "def get_cnn_model(data, **kwargs):\n",
        "    return nn.Sequential(\n",
        "        nn.Conv2d(  3,  8, 5, padding=2, stride=2, bias=False), GeneralRelu(**kwargs), RunningBatchNorm( 8), #14\n",
        "        nn.Conv2d(  8, 16, 3, padding=1, stride=2, bias=False), GeneralRelu(**kwargs), RunningBatchNorm(16), # 7\n",
        "        nn.Conv2d( 16, 32, 3, padding=1, stride=2, bias=False), GeneralRelu(**kwargs), RunningBatchNorm(32), # 4\n",
        "        nn.Conv2d( 32, 32, 3, padding=1, stride=2, bias=False), GeneralRelu(**kwargs), RunningBatchNorm(32), # 2\n",
        "        nn.AdaptiveAvgPool2d(1), \n",
        "        Lambda(flatten), \n",
        "        nn.Linear(32, data.c)\n",
        "    )\n"
      ],
      "execution_count": 0,
      "outputs": []
    },
    {
      "cell_type": "markdown",
      "metadata": {
        "colab_type": "text",
        "id": "ZielLWFn9tgy"
      },
      "source": [
        "Initialize โมเดลด้วย Kaiming Normal"
      ]
    },
    {
      "cell_type": "code",
      "metadata": {
        "id": "Aj0WortfCAM5",
        "colab_type": "code",
        "colab": {}
      },
      "source": [
        "batchsize = 4\n",
        "databunch = ImageDataBunch.from_folder(path, train='training', valid_pct=0.2, size=28, \n",
        "                                       ds_tfms=transform, bs=batchsize, num_workers=8).normalize()"
      ],
      "execution_count": 0,
      "outputs": []
    },
    {
      "cell_type": "code",
      "metadata": {
        "colab_type": "code",
        "id": "2MCB4H529tg1",
        "colab": {}
      },
      "source": [
        "model = get_cnn_model(databunch, leak=0.1, sub=0.4, maxv=6.)\n",
        "init_cnn(model, bias=False)\n",
        "model"
      ],
      "execution_count": 0,
      "outputs": []
    },
    {
      "cell_type": "code",
      "metadata": {
        "colab_type": "code",
        "id": "TrQ1M0IN9tg5",
        "colab": {}
      },
      "source": [
        "learner = Learner(databunch, model, metrics=accuracy)"
      ],
      "execution_count": 0,
      "outputs": []
    },
    {
      "cell_type": "markdown",
      "metadata": {
        "colab_type": "text",
        "id": "6kV3_mG69tg8"
      },
      "source": [
        "# 5/4. Train Small Batch Size with RunningBatchNorm"
      ]
    },
    {
      "cell_type": "markdown",
      "metadata": {
        "colab_type": "text",
        "id": "wgt5tTWG9tg9"
      },
      "source": [
        "เทรน 1 Epoch เหมือนด้านบน เพื่อเปรียบเทียบ แต่เราสามารถเพิ่ม Maximum Learning Rate เป็น 2 เท่า ทำให้เทรนได้เร็วขึ้นอีก\n",
        "\n",
        "และเราจะพล็อตกราฟ Mean, Std จาก ConvLayer คือ Layer ที่ 0, 3, 6, 9 "
      ]
    },
    {
      "cell_type": "code",
      "metadata": {
        "colab_type": "code",
        "id": "4u8GqhiK9tg-",
        "colab": {}
      },
      "source": [
        "with Hooks(learner.model, append_stats) as hooks: \n",
        "\n",
        "    learner.fit_one_cycle(1, max_lr=max_lr*2, wd=wd)\n",
        "\n",
        "    # Plot first 10 iterations.\n",
        "    fig, (ax0, ax1) = plt.subplots(1, 2, figsize=(10, 4))\n",
        "    for h in hooks[[0, 3, 6, 9]]:       # ConvLayer\n",
        "    # for h in hooks[[2, 5, 8, 11]]:    # BatchNorm Layer\n",
        "\n",
        "        # ms = means, ss = stds, _ = histogram\n",
        "        ms, ss, _ = h.stats\n",
        "        ax0.plot(ms[:10])\n",
        "        ax1.plot(ss[:10])\n",
        "        h.remove()\n",
        "    plt.legend(range(4))\n",
        "\n",
        "    # Plot all\n",
        "    fig, (ax0, ax1) = plt.subplots(1, 2, figsize=(10, 4))\n",
        "    for h in hooks[[0, 3, 6, 9]]:       # ConvLayer\n",
        "    # for h in hooks[[2, 5, 8, 11]]:    # BatchNorm Layer\n",
        "        ms, ss, _ = h.stats\n",
        "        ax0.plot(ms)\n",
        "        ax1.plot(ss)\n",
        "    plt.legend(range(4))"
      ],
      "execution_count": 0,
      "outputs": []
    },
    {
      "cell_type": "markdown",
      "metadata": {
        "colab_type": "text",
        "id": "SGhxFcpb9thD"
      },
      "source": [
        "# 6/4. Intepret"
      ]
    },
    {
      "cell_type": "markdown",
      "metadata": {
        "colab_type": "text",
        "id": "u8P9R_iQ9thE"
      },
      "source": [
        "เราจะพล็อตกราฟ Histogram ของ Activation Map ของ Layer ที่ 0, 3, 6, 9"
      ]
    },
    {
      "cell_type": "code",
      "metadata": {
        "colab_type": "code",
        "id": "76BhDqfb9thF",
        "colab": {}
      },
      "source": [
        "fig, axes = plt.subplots(2, 2, figsize=(15, 6))\n",
        "for ax, h in zip(axes.flatten(), hooks[[0, 3, 6, 9]]):    # ConvLayer\n",
        "# for ax, h in zip(axes.flatten(), hooks[[2, 5, 8, 11]]):     # BatchNorm Layer\n",
        "    ax.imshow(get_hist(h), origin='lower')\n",
        "    ax.axis('off')\n",
        "plt.tight_layout()"
      ],
      "execution_count": 0,
      "outputs": []
    },
    {
      "cell_type": "markdown",
      "metadata": {
        "colab_type": "text",
        "id": "4fnE0a1U9thI"
      },
      "source": [
        "เราจะพล็อตกราฟ สัดส่วน Activation Map ของ Layer ที่ 0, 3, 6, 9"
      ]
    },
    {
      "cell_type": "code",
      "metadata": {
        "colab_type": "code",
        "id": "EJDcTrfb9thJ",
        "colab": {}
      },
      "source": [
        "fig, axes = plt.subplots(2, 2, figsize=(15, 6))\n",
        "for ax, h in zip(axes.flatten(), hooks[[0, 3, 6, 9]]):    # ConvLayer\n",
        "# for ax, h in zip(axes.flatten(), hooks[[2, 5, 8, 11]]):     # BatchNorm Layer\n",
        "    ax.plot(get_min(h))\n",
        "    ax.set_ylim(0, 1)\n",
        "plt.tight_layout()"
      ],
      "execution_count": 0,
      "outputs": []
    },
    {
      "cell_type": "markdown",
      "metadata": {
        "id": "nLb4hoHmvWqx",
        "colab_type": "text"
      },
      "source": [
        "# 7. สรุป"
      ]
    },
    {
      "cell_type": "markdown",
      "metadata": {
        "id": "jR528lzsvXLP",
        "colab_type": "text"
      },
      "source": [
        "เปรียบเทียบ [ConvNet](https://www.bualabs.com/archives/2461/what-is-convolutional-neural-network-cnn-convnet-mnist-deep-learning-convnet-ep-1/) ที่ใช้ และไม่ใช้ BatchNorm Layer ในการเทรน [Image Classification](https://www.bualabs.com/archives/509/mnist-fastai-resnet18-image-classification-ep-3/) จำแนกชุดข้อมูล [MNIST](https://www.bualabs.com/archives/2215/what-is-mnist/) ชุดเล็ก\n",
        "\n",
        "* จากกราฟท้ายสุด สัดส่วน Activation Map ที่มีค่าน้อย ต่อ Activation Map ทั้งหมด, BatchNorm ทำให้กราฟลดลงเร็วกว่า หมายถึง Activation Map ส่วนใหญ่ มีการ Active เร็วกว่า\n",
        "* จากกราฟ Histogram จะเห็นว่า ConvNet ที่ใช้ BatchNorm สีเหลือง (มีค่ามาก) กระจายไปทั่ว อย่างรวดเร็ว หมายถึง Activation ไม่ได้กระจุกอยู่ใกล้ 0 แต่ Active ไปทั่วทั้ง Layer\n",
        "* จากกราฟ Mean, Std นั้น ConvNet ที่ใช้ BatchNorm ถูกคุมให้ใกล้เคียง Mean=0, Std=1 มากกว่า และ Converge เร็วกว่า ได้ Accuracy ที่มากกว่าในเวลาเทรน 1 Epoch เท่ากัน\n",
        "* ยังมี XNorm อีกหลายแบบ เช่น LayerNorm, InstanceNorm, GroupNorm แต่ประสิทธิภาพไม่ดีเท่า BatchNorm จะอธิบายต่อไป\n",
        "* ถ้า [Batch Size](https://www.bualabs.com/archives/729/what-is-batch-size-in-deep-neural-networks-how-to-adjust-machine-learning-model-accuracy-deep-learning-hyperparameter-tuning-ep-2/) มีขนาดเล็กเกินไปจะทำให้ BatchNorm มีปัญหาได้ เพราะ Mean, Variant จะเหวี่ยงมาก แต่สามารถแก้ได้ด้วย RunningBatchNorm จะอธิบายต่อไป\n",
        "* อันนี้เป็นการเปรียบเทียบคร่าว ๆ ยังมีอีกหลายปัจจัยที่อยู่ภายใน API ที่เพิ่มประสิทธิภาพโดยอัตโนมัติ จะอธิบายต่อไป"
      ]
    },
    {
      "cell_type": "markdown",
      "metadata": {
        "id": "YWcASWNpvXRm",
        "colab_type": "text"
      },
      "source": [
        "# Credit"
      ]
    },
    {
      "cell_type": "markdown",
      "metadata": {
        "id": "bmuDkicxvXWw",
        "colab_type": "text"
      },
      "source": [
        "* https://course.fast.ai/videos/?lesson=10\n",
        "* http://yann.lecun.com/exdb/mnist/\n",
        "* https://www.bualabs.com/archives/509/mnist-fastai-resnet18-image-classification-ep-3/"
      ]
    },
    {
      "cell_type": "code",
      "metadata": {
        "id": "cxJPCXjEvvl5",
        "colab_type": "code",
        "colab": {}
      },
      "source": [
        ""
      ],
      "execution_count": 0,
      "outputs": []
    }
  ]
}