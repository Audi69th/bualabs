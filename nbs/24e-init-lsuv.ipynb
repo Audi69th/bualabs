{
  "nbformat": 4,
  "nbformat_minor": 0,
  "metadata": {
    "colab": {
      "name": "24e-init-lsuv.ipynb",
      "provenance": []
    },
    "kernelspec": {
      "name": "python3",
      "display_name": "Python 3"
    },
    "accelerator": "GPU"
  },
  "cells": [
    {
      "cell_type": "code",
      "metadata": {
        "id": "i16GYJhTocbH",
        "colab_type": "code",
        "colab": {}
      },
      "source": [
        ""
      ],
      "execution_count": 0,
      "outputs": []
    },
    {
      "cell_type": "markdown",
      "metadata": {
        "id": "iMqoaV151MRo",
        "colab_type": "text"
      },
      "source": [
        "จากใน ep ก่อน เราได้เรียนรู้การสร้าง ConvNet ขึ้นมาจากหลายส่วนประกอบด้วยกัน เมื่อสร้างโมเดลขึ้นมาแล้ว ก่อนเทรนเราจำเป็นต้อง [Initialize Parameter](https://www.bualabs.com/archives/1816/example-vanishing-gradient-problem-how-to-fix-vanishing-gradient-kaiming-initialization-neural-network-ep-3/) (Weight, Bias) ต่าง ๆ ด้วยค่าที่เหมาะสม ใน ep ที่แล้ว เราใช้ [Kaiming Initalization](https://www.bualabs.com/archives/1789/what-is-vanishing-gradient-problem-fix-vanishing-gradient-problem-with-xavier-initialization-kaiming-initialization-neural-network-ep-2/)\n",
        "\n",
        "แล้วถ้าโมเดลเราเกิดซับซ้อนขึ้นเรื่อย ๆ ล่ะ เช่น มีการเปลี่ยน [Activaiton Function](https://www.bualabs.com/archives/1261/what-is-activation-function-what-is-sigmoid-function-activation-function-ep-1/) หรือมี Skip Connection จะทำอย่างไร Kaiming Initialization ก็มี Parameter ให้เรา Config ได้พอสมควร เช่น a=0, gain, mode='fan_in', nonlinearity='leaky_relu', etc. แต่ถ้าโมเดลเราซับซ้อนกว่านั้นอีกล่ะ\n",
        "\n",
        "Layer-sequential unit-variance Initialization หรือ เรียกสั้น ๆ ว่า LSUV เป็นแนวคิดง่าย ๆ ในการ Intialization ที่ไม่ต้องใช้สูตรคณิตศาสต์ซับซ้อน LSUV มีแนวคิดที่คล้าย ๆ กับ [LR Finder](https://www.bualabs.com/archives/2377/lr-find-best-learning-rate-train-machine-learning-model-deep-neural-network-callback-neural-network-ep-12/) คือ อัพเดท Parameter แล้ววนลูปเช็คไปเรื่อย ๆ จนกว่าจะได้ตามที่ต้องการ เรามาดูตัวอย่างจะเห็นภาพชัดขึ้น LSUV เริ่มที่หัวข้อ [4/2. Init Model wih LSUV](#4/2.-Init-Model-wih-LSUV)"
      ]
    },
    {
      "cell_type": "markdown",
      "metadata": {
        "id": "OtZHS0F99IEG",
        "colab_type": "text"
      },
      "source": [
        "# 0. Magic Commands\n"
      ]
    },
    {
      "cell_type": "code",
      "metadata": {
        "id": "f5ot4A4y9IEZ",
        "colab_type": "code",
        "colab": {}
      },
      "source": [
        "%reload_ext autoreload\n",
        "%autoreload 2\n",
        "%matplotlib inline"
      ],
      "execution_count": 0,
      "outputs": []
    },
    {
      "cell_type": "markdown",
      "metadata": {
        "id": "MH68Y5_N9IE7",
        "colab_type": "text"
      },
      "source": [
        "# 1. Import Library"
      ]
    },
    {
      "cell_type": "code",
      "metadata": {
        "id": "Zt6egYhb9IFA",
        "colab_type": "code",
        "colab": {}
      },
      "source": [
        "from fastai import *\n",
        "from fastai.vision import *\n",
        "from fastai.metrics import accuracy\n",
        "import torch.nn.init as init\n",
        "import torch.nn as nn\n",
        "\n",
        "import warnings\n",
        "warnings.filterwarnings(\"ignore\", category=UserWarning, module=\"torch.nn.functional\")"
      ],
      "execution_count": 0,
      "outputs": []
    },
    {
      "cell_type": "markdown",
      "metadata": {
        "id": "KOnc0IC39IFP",
        "colab_type": "text"
      },
      "source": [
        "# 2. ข้อมูล\n",
        "\n",
        "ใช้ชุดข้อมูล Dataset [MNIST](https://www.bualabs.com/archives/2215/what-is-mnist/) ตัวเลขอารบิคเขียนด้วยลายมือ"
      ]
    },
    {
      "cell_type": "code",
      "metadata": {
        "id": "G-KaJsQU9IFT",
        "colab_type": "code",
        "outputId": "4e94f173-9060-4b56-dfd7-68db1107591a",
        "colab": {
          "base_uri": "https://localhost:8080/",
          "height": 34
        }
      },
      "source": [
        "# ## Small Dataset for quick test\n",
        "# path = untar_data(URLs.MNIST_SAMPLE)\n",
        "\n",
        "# Full Dataset\n",
        "path = untar_data(URLs.MNIST)\n",
        "\n",
        "path"
      ],
      "execution_count": 3,
      "outputs": [
        {
          "output_type": "execute_result",
          "data": {
            "text/plain": [
              "PosixPath('/root/.fastai/data/mnist_png')"
            ]
          },
          "metadata": {
            "tags": []
          },
          "execution_count": 3
        }
      ]
    },
    {
      "cell_type": "markdown",
      "metadata": {
        "id": "Jxuzl8gi9IGi",
        "colab_type": "text"
      },
      "source": [
        "# 3. เตรียมข้อมูล\n",
        "\n"
      ]
    },
    {
      "cell_type": "markdown",
      "metadata": {
        "id": "PVO9Gpau9IGk",
        "colab_type": "text"
      },
      "source": [
        "1. สำหรับข้อมูลประเภทตัวเลข เราไม่สามารถ flip ซ้าย ขวา ขึ้น ลง ได้ จะทำให้ผิดความหมายไป จึงต้องใช้ get_transforms(do_flip=False)\n",
        "2. เคสนี้ label คือชื่อ Folder ที่บรรจุไฟล์อยู่ เราสามารถ ใช้ ImageDataBunch.from_folder ได้เลย\n",
        "3. num_workers คือ จำนวน CPU Core ที่ต้องการใช้"
      ]
    },
    {
      "cell_type": "code",
      "metadata": {
        "id": "M5Emr0xh9IGl",
        "colab_type": "code",
        "colab": {}
      },
      "source": [
        "batchsize = 64\n",
        "max_lr = 3e-2\n",
        "wd = 1e-1\n",
        "np.random.seed(0)\n",
        "transform = get_transforms(do_flip=False)\n",
        "\n",
        "databunch = ImageDataBunch.from_folder(path, train='training', valid_pct=0.2, size=28, \n",
        "                                       ds_tfms=transform, bs=batchsize, num_workers=8).normalize()"
      ],
      "execution_count": 0,
      "outputs": []
    },
    {
      "cell_type": "markdown",
      "metadata": {
        "id": "IfDAvA8m9IGr",
        "colab_type": "text"
      },
      "source": [
        "## สำรวจข้อมูล ##\n",
        "\n",
        "ลองดูข้อมูล Batch แรก ด้วย show_batch สั่งให้แสดง รูป พร้อม label ไว้บนรูป แสดง 3 แถว (rows) ในกรอบขนาด 10 x 10 นิ้ว (figsize)\n",
        "\n",
        "*เราสามารถรัน cell นี้หลายครั้ง เพื่อเรียกดู batch ต่อ ๆ ไป ได้เรื่อย ๆ เป็นการสำรวจข้อมูล*"
      ]
    },
    {
      "cell_type": "code",
      "metadata": {
        "id": "3BqVtZBy9IGt",
        "colab_type": "code",
        "outputId": "f4642092-70bf-4edb-d781-5f2ff3503dce",
        "colab": {
          "base_uri": "https://localhost:8080/",
          "height": 729
        }
      },
      "source": [
        "databunch.show_batch(rows=3, figsize=(10, 10))"
      ],
      "execution_count": 5,
      "outputs": [
        {
          "output_type": "display_data",
          "data": {
            "image/png": "[encoded data removed]",
            "text/plain": [
              "<Figure size 720x720 with 9 Axes>"
            ]
          },
          "metadata": {
            "tags": []
          }
        }
      ]
    },
    {
      "cell_type": "markdown",
      "metadata": {
        "id": "hFoyXg1z9IG0",
        "colab_type": "text"
      },
      "source": [
        "ดู label ตัวเลขทั้งหมด หรือ class ทั้งหมด ที่มีใน Dataset"
      ]
    },
    {
      "cell_type": "code",
      "metadata": {
        "scrolled": true,
        "id": "8JTsQMRp9IG2",
        "colab_type": "code",
        "outputId": "13b251a8-9b3b-4763-855b-5345f90f7f14",
        "colab": {
          "base_uri": "https://localhost:8080/",
          "height": 34
        }
      },
      "source": [
        "databunch.classes"
      ],
      "execution_count": 6,
      "outputs": [
        {
          "output_type": "execute_result",
          "data": {
            "text/plain": [
              "['0', '1', '2', '3', '4', '5', '6', '7', '8', '9']"
            ]
          },
          "metadata": {
            "tags": []
          },
          "execution_count": 6
        }
      ]
    },
    {
      "cell_type": "markdown",
      "metadata": {
        "id": "6A9U0dSc9IG8",
        "colab_type": "text"
      },
      "source": [
        "# 4. สร้างโมเดล"
      ]
    },
    {
      "cell_type": "markdown",
      "metadata": {
        "id": "pWbboIYBKUsh",
        "colab_type": "text"
      },
      "source": [
        "เราจะสร้างโมเดล [Deep Convolutional Neural Network](https://www.bualabs.com/archives/2461/what-is-convolutional-neural-network-cnn-convnet-mnist-deep-learning-convnet-ep-1/) ที่มี 4 ConvLayer และใช้ nn.ReLU ดังด้านล่าง"
      ]
    },
    {
      "cell_type": "code",
      "metadata": {
        "id": "1596sMU524y0",
        "colab_type": "code",
        "colab": {}
      },
      "source": [
        "def get_cnn_model(data, **kwargs):\n",
        "    return nn.Sequential(\n",
        "        nn.Conv2d(  3,  8, 5, padding=2, stride=2), nn.ReLU(), #14\n",
        "        nn.Conv2d(  8, 16, 3, padding=1, stride=2), nn.ReLU(), # 7\n",
        "        nn.Conv2d( 16, 32, 3, padding=1, stride=2), nn.ReLU(), # 4\n",
        "        nn.Conv2d( 32, 32, 3, padding=1, stride=2), nn.ReLU(), # 2\n",
        "        nn.AdaptiveAvgPool2d(1), \n",
        "        Lambda(flatten), \n",
        "        nn.Linear(32, data.c)\n",
        "    )\n",
        "\n",
        "# def mnist_resize(x): return x.view(-1, 1, 28, 28)\n",
        "def flatten(x): return x.view(x.shape[0], -1)    \n",
        "\n",
        "def init_cnn(m, uniform=False, bias=True):\n",
        "    f = init.kaiming_uniform_ if uniform else init.kaiming_normal_\n",
        "    for l in m:\n",
        "        if isinstance(l, nn.Conv2d):\n",
        "            f(l.weight, a=0.)\n",
        "            if bias: l.bias.data.zero_()"
      ],
      "execution_count": 0,
      "outputs": []
    },
    {
      "cell_type": "markdown",
      "metadata": {
        "id": "ayoQr8d8GfGH",
        "colab_type": "text"
      },
      "source": [
        "สร้างโมเดล และ Initialize ด้วย [Kaiming Normal](https://www.bualabs.com/archives/1816/example-vanishing-gradient-problem-how-to-fix-vanishing-gradient-kaiming-initialization-neural-network-ep-3/)"
      ]
    },
    {
      "cell_type": "code",
      "metadata": {
        "id": "a5GtebtB_uhu",
        "colab_type": "code",
        "colab": {}
      },
      "source": [
        "model = get_cnn_model(databunch)\n",
        "init_cnn(model)"
      ],
      "execution_count": 0,
      "outputs": []
    },
    {
      "cell_type": "markdown",
      "metadata": {
        "id": "6pojuWyQnD-Y",
        "colab_type": "text"
      },
      "source": [
        "ดูโครงสร้างของโมเดล"
      ]
    },
    {
      "cell_type": "code",
      "metadata": {
        "id": "t1beHqEr_vRv",
        "colab_type": "code",
        "outputId": "0aa3ccd7-4f50-4d77-cc07-1688669823bc",
        "colab": {
          "base_uri": "https://localhost:8080/",
          "height": 238
        }
      },
      "source": [
        "model"
      ],
      "execution_count": 9,
      "outputs": [
        {
          "output_type": "execute_result",
          "data": {
            "text/plain": [
              "Sequential(\n",
              "  (0): Conv2d(3, 8, kernel_size=(5, 5), stride=(2, 2), padding=(2, 2))\n",
              "  (1): ReLU()\n",
              "  (2): Conv2d(8, 16, kernel_size=(3, 3), stride=(2, 2), padding=(1, 1))\n",
              "  (3): ReLU()\n",
              "  (4): Conv2d(16, 32, kernel_size=(3, 3), stride=(2, 2), padding=(1, 1))\n",
              "  (5): ReLU()\n",
              "  (6): Conv2d(32, 32, kernel_size=(3, 3), stride=(2, 2), padding=(1, 1))\n",
              "  (7): ReLU()\n",
              "  (8): AdaptiveAvgPool2d(output_size=1)\n",
              "  (9): Lambda()\n",
              "  (10): Linear(in_features=32, out_features=10, bias=True)\n",
              ")"
            ]
          },
          "metadata": {
            "tags": []
          },
          "execution_count": 9
        }
      ]
    },
    {
      "cell_type": "markdown",
      "metadata": {
        "id": "BIsMlZ8jnHJ5",
        "colab_type": "text"
      },
      "source": [
        "ประกาศฟังก์ชัน [Hook](https://www.bualabs.com/archives/2556/example-pytorch-hook-analysis-mean-standard-deviation-histogram-activation-map-deep-convolutional-neural-network-general-relu-convnet-ep-3/) ต่าง ๆ เอาไว้ดูค่าภายในโมเดล ในหัวข้อถัดไป"
      ]
    },
    {
      "cell_type": "code",
      "metadata": {
        "id": "pa99vDjuKZdv",
        "colab_type": "code",
        "colab": {}
      },
      "source": [
        "def children(m): list(m.children())\n",
        "\n",
        "class Hook():\n",
        "    # m = module, f = function\n",
        "    def __init__(self, m, f): self.hook = m.register_forward_hook(partial(f, self))\n",
        "    def remove(self): self.hook.remove()\n",
        "    def __del__(self): self.remove()\n",
        "\n",
        "class ListContainer():\n",
        "    def __init__(self, items): self.items = listify(items)\n",
        "    def __getitem__(self, idx): \n",
        "        if isinstance(idx, (int, slice)): return self.items[idx]\n",
        "        if isinstance(idx[0], bool):\n",
        "            assert len(idx) == len(self) # boolean mask\n",
        "            return [o for m, o in zip(idx, self.items) if m]\n",
        "        return [self.items[i] for i in idx]\n",
        "    def __len__(self): return len(self.items)\n",
        "    def __iter__(self): return iter(self.items)\n",
        "    def __setitem__(self, i, o): self.items[i] = o\n",
        "    def __delitem__(self, i): del(self.items[i])\n",
        "    def __repr__(self):\n",
        "        res = f'{self.__class__.__name__} ({len(self)} items)\\n{self.items[:10]}'\n",
        "        if len(self) > 10: res = res[:-1] + '...]'\n",
        "        return res\n",
        "        \n",
        "class Hooks(ListContainer):\n",
        "    def __init__(self, ms, f): super().__init__([Hook(m, f) for m in ms])\n",
        "    def __enter__(self, *args): return self\n",
        "    def __exit__(self, *args): self.remove()\n",
        "    def __del__(self): self.remove()\n",
        "\n",
        "    def __delitem__(self, i):\n",
        "        self[i].remove()\n",
        "        super().__delitem__(i)\n",
        "    \n",
        "    def remove(self):\n",
        "        for h in self: h.remove()  "
      ],
      "execution_count": 0,
      "outputs": []
    },
    {
      "cell_type": "markdown",
      "metadata": {
        "id": "rbLbVNYWnOVu",
        "colab_type": "text"
      },
      "source": [
        "สร้าง [Learner](https://www.bualabs.com/archives/2318/databunch-learner-refactor-neural-network-training-loop-neural-network-ep-9/) จาก Model เตรียมเทรน"
      ]
    },
    {
      "cell_type": "code",
      "metadata": {
        "id": "y4IxTVh39IG-",
        "colab_type": "code",
        "colab": {}
      },
      "source": [
        "learner = Learner(databunch, model, metrics=accuracy,callback_fns=ShowGraph)"
      ],
      "execution_count": 0,
      "outputs": []
    },
    {
      "cell_type": "markdown",
      "metadata": {
        "id": "zjm7EsmT9IHD",
        "colab_type": "text"
      },
      "source": [
        "# 5. Train Model\n"
      ]
    },
    {
      "cell_type": "markdown",
      "metadata": {
        "id": "UcbpWiI_GsfR",
        "colab_type": "text"
      },
      "source": [
        "เทรนไป 1 Epoch"
      ]
    },
    {
      "cell_type": "code",
      "metadata": {
        "id": "mlZCwwUd3Hgf",
        "colab_type": "code",
        "outputId": "78466b11-a123-4d44-96b5-da875204f52e",
        "colab": {
          "base_uri": "https://localhost:8080/",
          "height": 332
        }
      },
      "source": [
        "learner.fit_one_cycle(1, max_lr=max_lr, wd=wd)\n"
      ],
      "execution_count": 12,
      "outputs": [
        {
          "output_type": "display_data",
          "data": {
            "text/html": [
              "<table border=\"1\" class=\"dataframe\">\n",
              "  <thead>\n",
              "    <tr style=\"text-align: left;\">\n",
              "      <th>epoch</th>\n",
              "      <th>train_loss</th>\n",
              "      <th>valid_loss</th>\n",
              "      <th>accuracy</th>\n",
              "      <th>time</th>\n",
              "    </tr>\n",
              "  </thead>\n",
              "  <tbody>\n",
              "    <tr>\n",
              "      <td>0</td>\n",
              "      <td>0.111981</td>\n",
              "      <td>0.063807</td>\n",
              "      <td>0.981571</td>\n",
              "      <td>01:32</td>\n",
              "    </tr>\n",
              "  </tbody>\n",
              "</table>"
            ],
            "text/plain": [
              "<IPython.core.display.HTML object>"
            ]
          },
          "metadata": {
            "tags": []
          }
        },
        {
          "output_type": "display_data",
          "data": {
            "image/png": "[encoded data removed]",
            "text/plain": [
              "<Figure size 432x288 with 1 Axes>"
            ]
          },
          "metadata": {
            "tags": []
          }
        }
      ]
    },
    {
      "cell_type": "markdown",
      "metadata": {
        "id": "ujgJypAb2w4u",
        "colab_type": "text"
      },
      "source": [
        "# 4/2. Init Model wih LSUV"
      ]
    },
    {
      "cell_type": "markdown",
      "metadata": {
        "id": "W7ss1LWqnXHG",
        "colab_type": "text"
      },
      "source": [
        "แทนที่เราจะ Init ด้วย Kaiming Normal เราจะใช้การ Initialization แบบ LSUV แทน"
      ]
    },
    {
      "cell_type": "markdown",
      "metadata": {
        "id": "TpZ9goeZPzrY",
        "colab_type": "text"
      },
      "source": [
        "## Before"
      ]
    },
    {
      "cell_type": "markdown",
      "metadata": {
        "id": "CRPoLu4DnkGp",
        "colab_type": "text"
      },
      "source": [
        "สร้างโมเดลขึ้นมาใหม่"
      ]
    },
    {
      "cell_type": "code",
      "metadata": {
        "id": "enrCNdG1MXDp",
        "colab_type": "code",
        "colab": {
          "base_uri": "https://localhost:8080/",
          "height": 238
        },
        "outputId": "bbc8e92d-deb0-4b46-9a07-7ae23911adc0"
      },
      "source": [
        "model = get_cnn_model(databunch)\n",
        "model"
      ],
      "execution_count": 13,
      "outputs": [
        {
          "output_type": "execute_result",
          "data": {
            "text/plain": [
              "Sequential(\n",
              "  (0): Conv2d(3, 8, kernel_size=(5, 5), stride=(2, 2), padding=(2, 2))\n",
              "  (1): ReLU()\n",
              "  (2): Conv2d(8, 16, kernel_size=(3, 3), stride=(2, 2), padding=(1, 1))\n",
              "  (3): ReLU()\n",
              "  (4): Conv2d(16, 32, kernel_size=(3, 3), stride=(2, 2), padding=(1, 1))\n",
              "  (5): ReLU()\n",
              "  (6): Conv2d(32, 32, kernel_size=(3, 3), stride=(2, 2), padding=(1, 1))\n",
              "  (7): ReLU()\n",
              "  (8): AdaptiveAvgPool2d(output_size=1)\n",
              "  (9): Lambda()\n",
              "  (10): Linear(in_features=32, out_features=10, bias=True)\n",
              ")"
            ]
          },
          "metadata": {
            "tags": []
          },
          "execution_count": 13
        }
      ]
    },
    {
      "cell_type": "markdown",
      "metadata": {
        "id": "LnPzrkQaDp_2",
        "colab_type": "text"
      },
      "source": [
        "ประกาศฟังก์ชัน Recursive หา Module ที่เราต้องการ Init ทั้งหมด ใส่ List ไว้"
      ]
    },
    {
      "cell_type": "code",
      "metadata": {
        "id": "D11XCnpXzWB-",
        "colab_type": "code",
        "colab": {}
      },
      "source": [
        "def find_modules(m, cond):\n",
        "    if cond(m): return [m]\n",
        "    return sum([find_modules(o, cond) for o in m.children()], [])\n"
      ],
      "execution_count": 0,
      "outputs": []
    },
    {
      "cell_type": "markdown",
      "metadata": {
        "id": "H6HfLDR9n0jX",
        "colab_type": "text"
      },
      "source": [
        "หา Module Linear, Conv2d ทั้งหมด ที่อยู่ในโมเดล"
      ]
    },
    {
      "cell_type": "code",
      "metadata": {
        "id": "UjvAcvOeDl8Z",
        "colab_type": "code",
        "colab": {
          "base_uri": "https://localhost:8080/",
          "height": 102
        },
        "outputId": "6454cb8e-1dbc-4aa6-f609-3663ffee8489"
      },
      "source": [
        "mods = find_modules(model, lambda o: isinstance(o, (nn.Linear, nn.Conv2d)))\n",
        "mods"
      ],
      "execution_count": 15,
      "outputs": [
        {
          "output_type": "execute_result",
          "data": {
            "text/plain": [
              "[Conv2d(3, 8, kernel_size=(5, 5), stride=(2, 2), padding=(2, 2)),\n",
              " Conv2d(8, 16, kernel_size=(3, 3), stride=(2, 2), padding=(1, 1)),\n",
              " Conv2d(16, 32, kernel_size=(3, 3), stride=(2, 2), padding=(1, 1)),\n",
              " Conv2d(32, 32, kernel_size=(3, 3), stride=(2, 2), padding=(1, 1)),\n",
              " Linear(in_features=32, out_features=10, bias=True)]"
            ]
          },
          "metadata": {
            "tags": []
          },
          "execution_count": 15
        }
      ]
    },
    {
      "cell_type": "markdown",
      "metadata": {
        "id": "Rcaj2FPzn-_q",
        "colab_type": "text"
      },
      "source": [
        "แบ่งข้อมูลจาก [DataLoader](https://www.bualabs.com/archives/1994/dataset-dataloader-feed-data-x-y-batch-to-neural-network-refactor-training-loop-neural-network-ep-5/) ใน DataBunch ออกมา 1 [Batch](https://www.bualabs.com/archives/729/what-is-batch-size-in-deep-neural-networks-how-to-adjust-machine-learning-model-accuracy-deep-learning-hyperparameter-tuning-ep-2/) เตรียมใส่ [GPU](https://www.bualabs.com/archives/1426/why-gpu-require-train-deep-learning-compare-cpu-vs-gpu-deep-neural-network-hardware-ep-2/) ไว้ก่อน"
      ]
    },
    {
      "cell_type": "code",
      "metadata": {
        "id": "nvW6k8VwDmLB",
        "colab_type": "code",
        "colab": {}
      },
      "source": [
        "xb, yb = databunch.one_batch()\n",
        "xb = xb.cuda()\n",
        "yb = yb.cuda()"
      ],
      "execution_count": 0,
      "outputs": []
    },
    {
      "cell_type": "markdown",
      "metadata": {
        "id": "EOG5faLnoIUQ",
        "colab_type": "text"
      },
      "source": [
        "ประกาศฟังก์ชัน เอาไว้ส่งให้ Hook เอาไว้ดู Mean, Std ของ Output ของ Module"
      ]
    },
    {
      "cell_type": "code",
      "metadata": {
        "id": "8BpDtgN3DmSL",
        "colab_type": "code",
        "colab": {}
      },
      "source": [
        "def append_stats(hook, mod, inp, outp):\n",
        "    d = outp.data\n",
        "    hook.std, hook.mean = d.std().item(), d.mean().item()"
      ],
      "execution_count": 0,
      "outputs": []
    },
    {
      "cell_type": "markdown",
      "metadata": {
        "id": "srxrxr3qoOHD",
        "colab_type": "text"
      },
      "source": [
        "เอาโมเดลใส่ GPU"
      ]
    },
    {
      "cell_type": "code",
      "metadata": {
        "id": "KZlkv6xSOa8l",
        "colab_type": "code",
        "colab": {}
      },
      "source": [
        "model = model.cuda()"
      ],
      "execution_count": 0,
      "outputs": []
    },
    {
      "cell_type": "markdown",
      "metadata": {
        "id": "2FTp5WlooRHf",
        "colab_type": "text"
      },
      "source": [
        "ให้ข้อมูล 1 Batch ผ่านโมเดล ไป 1 รอบ แล้วดูสถิติจาก append_stats ที่เราใส่ Hook ไว้"
      ]
    },
    {
      "cell_type": "code",
      "metadata": {
        "id": "VI6C3xJeObDZ",
        "colab_type": "code",
        "colab": {
          "base_uri": "https://localhost:8080/",
          "height": 102
        },
        "outputId": "e72033ef-af3e-478c-dd50-26472922fdc8"
      },
      "source": [
        "with Hooks(mods, append_stats) as hooks:\n",
        "    model(xb)\n",
        "    for hook in hooks: print(hook.mean, hook.std)"
      ],
      "execution_count": 19,
      "outputs": [
        {
          "output_type": "stream",
          "text": [
            "-0.010131184943020344 0.19371256232261658\n",
            "-0.01046143937855959 0.09660805761814117\n",
            "-0.008461283519864082 0.05248892679810524\n",
            "0.006538498681038618 0.03549238294363022\n",
            "0.007314819376915693 0.12621556222438812\n"
          ],
          "name": "stdout"
        }
      ]
    },
    {
      "cell_type": "markdown",
      "metadata": {
        "id": "Lejyo5dDObI7",
        "colab_type": "text"
      },
      "source": [
        "จะเห็นว่า Mean, Std ไม่ได้ใกล้ 0, 1 เลย แล้วเราจะแก้อย่างไร"
      ]
    },
    {
      "cell_type": "markdown",
      "metadata": {
        "id": "WKJ1DIhIoqiI",
        "colab_type": "text"
      },
      "source": [
        "## After"
      ]
    },
    {
      "cell_type": "markdown",
      "metadata": {
        "id": "zbHeaMCAowQn",
        "colab_type": "text"
      },
      "source": [
        "ประกาศฟังก์ชัน LSUV Initialization ให้ Module ที่กำหนด โดยการ วนลูป ลบด้วย mean, หารด้วย std จนกว่า Output ของ Module นั้นจะใกล้เคียง 0, 1"
      ]
    },
    {
      "cell_type": "code",
      "metadata": {
        "id": "e7UTOwnJDk58",
        "colab_type": "code",
        "colab": {}
      },
      "source": [
        "def lsuv_module(m, xb):\n",
        "    with torch.no_grad():\n",
        "        h = Hook(m, append_stats)\n",
        "\n",
        "        while model(xb) is not None and abs(h.mean) > 1e-3: \n",
        "            m.bias -= h.mean\n",
        "        while model(xb) is not None and abs(h.std-1) > 1e-3: \n",
        "            m.weight.data /= h.std\n",
        "        # while model(xb) is not None and abs(h.mean) > 1e-3: \n",
        "        #     m.bias -= h.mean\n",
        "        # while model(xb) is not None and abs(h.std-1) > 1e-3: \n",
        "        #     m.weight.data /= h.std\n",
        "\n",
        "        h.remove()\n",
        "    return h.mean, h.std"
      ],
      "execution_count": 0,
      "outputs": []
    },
    {
      "cell_type": "markdown",
      "metadata": {
        "id": "_maCLrnrpe86",
        "colab_type": "text"
      },
      "source": [
        "เรียก LSUV Initialization ทุก Module ที่เราหาไว้ก่อนหน้านี้"
      ]
    },
    {
      "cell_type": "code",
      "metadata": {
        "id": "qtCo2Dam4bDb",
        "colab_type": "code",
        "colab": {
          "base_uri": "https://localhost:8080/",
          "height": 102
        },
        "outputId": "01f0426c-bb5d-4bd2-9531-4ee47e0600eb"
      },
      "source": [
        "for m in mods: print(lsuv_module(m, xb))"
      ],
      "execution_count": 21,
      "outputs": [
        {
          "output_type": "stream",
          "text": [
            "(-3.0410532425584336e-10, 0.9994065761566162)\n",
            "(-3.0410532425584336e-10, 0.999841034412384)\n",
            "(0.0, 0.9999783635139465)\n",
            "(0.0008839257061481476, 1.0009510517120361)\n",
            "(5.215406329028838e-09, 1.0000505447387695)\n"
          ],
          "name": "stdout"
        }
      ]
    },
    {
      "cell_type": "markdown",
      "metadata": {
        "id": "rXmL37SnqFc3",
        "colab_type": "text"
      },
      "source": [
        "ให้ข้อมูล 1 Batch ผ่านโมเดล ไป 1 รอบ แล้วดูสถิติจาก append_stats ที่เราใส่ Hook ไว้ อีกครั้ง "
      ]
    },
    {
      "cell_type": "code",
      "metadata": {
        "id": "fKCUerGKSQmy",
        "colab_type": "code",
        "colab": {
          "base_uri": "https://localhost:8080/",
          "height": 102
        },
        "outputId": "407bedf4-2736-4369-f125-1a6a9e51e684"
      },
      "source": [
        "with Hooks(mods, append_stats) as hooks:\n",
        "    model(xb)\n",
        "    for hook in hooks: print(hook.mean, hook.std)"
      ],
      "execution_count": 22,
      "outputs": [
        {
          "output_type": "stream",
          "text": [
            "-3.0410532425584336e-10 0.9994065761566162\n",
            "-3.0410532425584336e-10 0.999841034412384\n",
            "0.0 0.9999783635139465\n",
            "0.0008839257061481476 1.0009510517120361\n",
            "5.215406329028838e-09 1.0000505447387695\n"
          ],
          "name": "stdout"
        }
      ]
    },
    {
      "cell_type": "markdown",
      "metadata": {
        "id": "F_AT314hqUTL",
        "colab_type": "text"
      },
      "source": [
        "ผลลัพธ์เป็นที่น่าพอใจ แต่ Mean ไม่ใกล้กับ 0 เพราะเราทำ Mean แล้วต่อด้วย Std ทำให้ Mean เลื่อนได้ แต่ไม่มีผลอะไรมาก หรือเราสามารถ เรียก 2 รอบได้"
      ]
    },
    {
      "cell_type": "markdown",
      "metadata": {
        "id": "sBD7z2ZjfpQ1",
        "colab_type": "text"
      },
      "source": [
        "# 5/2. Train Model Init with LSUV"
      ]
    },
    {
      "cell_type": "markdown",
      "metadata": {
        "id": "y3jYJgW9qpwV",
        "colab_type": "text"
      },
      "source": [
        "เทรนโมเดล ด้วยทั้ง [Training Set](https://www.bualabs.com/archives/532/what-is-training-set-why-train-test-split-training-set-validation-set-test-set/) 1 Epoch"
      ]
    },
    {
      "cell_type": "code",
      "metadata": {
        "id": "-ciD94CQSQYR",
        "colab_type": "code",
        "colab": {}
      },
      "source": [
        "learner = Learner(databunch, model, metrics=accuracy, callback_fns=ShowGraph)"
      ],
      "execution_count": 0,
      "outputs": []
    },
    {
      "cell_type": "code",
      "metadata": {
        "id": "OUvKbrPZSQLR",
        "colab_type": "code",
        "colab": {
          "base_uri": "https://localhost:8080/",
          "height": 332
        },
        "outputId": "e2c7e5da-1738-4de3-d81e-93cd72ab602a"
      },
      "source": [
        "learner.fit_one_cycle(1, max_lr=max_lr, wd=wd)\n"
      ],
      "execution_count": 24,
      "outputs": [
        {
          "output_type": "display_data",
          "data": {
            "text/html": [
              "<table border=\"1\" class=\"dataframe\">\n",
              "  <thead>\n",
              "    <tr style=\"text-align: left;\">\n",
              "      <th>epoch</th>\n",
              "      <th>train_loss</th>\n",
              "      <th>valid_loss</th>\n",
              "      <th>accuracy</th>\n",
              "      <th>time</th>\n",
              "    </tr>\n",
              "  </thead>\n",
              "  <tbody>\n",
              "    <tr>\n",
              "      <td>0</td>\n",
              "      <td>0.123485</td>\n",
              "      <td>0.065729</td>\n",
              "      <td>0.980071</td>\n",
              "      <td>01:33</td>\n",
              "    </tr>\n",
              "  </tbody>\n",
              "</table>"
            ],
            "text/plain": [
              "<IPython.core.display.HTML object>"
            ]
          },
          "metadata": {
            "tags": []
          }
        },
        {
          "output_type": "display_data",
          "data": {
            "image/png": "[encoded data removed]",
            "text/plain": [
              "<Figure size 432x288 with 1 Axes>"
            ]
          },
          "metadata": {
            "tags": []
          }
        }
      ]
    },
    {
      "cell_type": "markdown",
      "metadata": {
        "id": "TV8J3CkkSP-M",
        "colab_type": "text"
      },
      "source": [
        "จะเห็นว่า Converge ได้อย่างรวดเร็ว ได้ Accuracy พอ ๆ กัน"
      ]
    },
    {
      "cell_type": "markdown",
      "metadata": {
        "id": "nLb4hoHmvWqx",
        "colab_type": "text"
      },
      "source": [
        "# 7. สรุป"
      ]
    },
    {
      "cell_type": "markdown",
      "metadata": {
        "id": "jR528lzsvXLP",
        "colab_type": "text"
      },
      "source": [
        "\n",
        "* เราได้เรียนรู้วิธี LSUV Initialization ที่เรียบง่าย ใช้งานได้จริง ไม่ต้องคำนวนสูตรคณิตศาสตร์ซับซ้อน\n",
        "* ไม่ว่าต่อไปโมเดลของเราจะเพิ่มความซับซ้อนขึ้นแค่ไหน เราสามารถ Initialize ให้ Mean=0, Std=1 ได้ด้วยวิธี LSUV นี้\n",
        "* การ Initialization โมเดลที่ดีช่วยให้ เราเทรนโมเดลได้เร็วขึ้น โมเดล Converge เร็วขึ้น"
      ]
    },
    {
      "cell_type": "markdown",
      "metadata": {
        "id": "YWcASWNpvXRm",
        "colab_type": "text"
      },
      "source": [
        "# Credit"
      ]
    },
    {
      "cell_type": "markdown",
      "metadata": {
        "id": "bmuDkicxvXWw",
        "colab_type": "text"
      },
      "source": [
        "* https://course.fast.ai/videos/?lesson=11\n",
        "* http://yann.lecun.com/exdb/mnist/\n",
        "* https://www.bualabs.com/archives/509/mnist-fastai-resnet18-image-classification-ep-3/\n",
        "* https://arxiv.org/abs/1511.06422"
      ]
    },
    {
      "cell_type": "code",
      "metadata": {
        "id": "cxJPCXjEvvl5",
        "colab_type": "code",
        "colab": {}
      },
      "source": [
        ""
      ],
      "execution_count": 0,
      "outputs": []
    }
  ]
}