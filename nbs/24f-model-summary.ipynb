{
  "nbformat": 4,
  "nbformat_minor": 0,
  "metadata": {
    "colab": {
      "name": "24f-model-summary.ipynb",
      "provenance": []
    },
    "kernelspec": {
      "name": "python3",
      "display_name": "Python 3"
    },
    "accelerator": "GPU"
  },
  "cells": [
    {
      "cell_type": "markdown",
      "metadata": {
        "id": "iMqoaV151MRo",
        "colab_type": "text"
      },
      "source": [
        "ในการเรียนรู้ สถาปัตยกรรม Deep Neural Network ออกแบบ Convolutional Neural Network การเลือกใช้ Layer ชนิดต่าง ๆ เลือก จำนวน Channel In/Out, ขนาด Kernel, Padding, Stride, etc. ว่าจะเปลี่ยนแปลง shape ของข้อมูลไปอย่างไร จนได้ผลลัพธ์ที่ต้องการ เป็น Output ออกจากโมเดล\n",
        "\n",
        "ถ้าเราสามารถรู้ถึง shape ข้อมูล Activation ที่ผ่านไปในแต่ละ Layer จะทำให้เราเข้าใจการทำงานของโมเดลได้ดีขึ้น ออกแบบ และ Debug โมเดล ได้ง่ายขึ้น เราจะเริ่มที่หัวข้อ [5. Model Summary](#5.-Model-Summary)"
      ]
    },
    {
      "cell_type": "markdown",
      "metadata": {
        "id": "OtZHS0F99IEG",
        "colab_type": "text"
      },
      "source": [
        "# 0. Magic Commands\n"
      ]
    },
    {
      "cell_type": "code",
      "metadata": {
        "id": "f5ot4A4y9IEZ",
        "colab_type": "code",
        "colab": {}
      },
      "source": [
        "%reload_ext autoreload\n",
        "%autoreload 2\n",
        "%matplotlib inline"
      ],
      "execution_count": 0,
      "outputs": []
    },
    {
      "cell_type": "markdown",
      "metadata": {
        "id": "MH68Y5_N9IE7",
        "colab_type": "text"
      },
      "source": [
        "# 1. Import Library"
      ]
    },
    {
      "cell_type": "code",
      "metadata": {
        "id": "Zt6egYhb9IFA",
        "colab_type": "code",
        "colab": {}
      },
      "source": [
        "from fastai import *\n",
        "from fastai.vision import *\n",
        "from fastai.metrics import accuracy\n",
        "import torch.nn.init as init\n",
        "\n",
        "import warnings\n",
        "warnings.filterwarnings(\"ignore\", category=UserWarning, module=\"torch.nn.functional\")"
      ],
      "execution_count": 0,
      "outputs": []
    },
    {
      "cell_type": "markdown",
      "metadata": {
        "id": "KOnc0IC39IFP",
        "colab_type": "text"
      },
      "source": [
        "# 2. ข้อมูล\n",
        "\n",
        "ใช้ชุดข้อมูล Dataset [MNIST](https://www.bualabs.com/archives/2215/what-is-mnist/) ตัวเลขอารบิคเขียนด้วยลายมือ"
      ]
    },
    {
      "cell_type": "code",
      "metadata": {
        "id": "G-KaJsQU9IFT",
        "colab_type": "code",
        "outputId": "1cf518bb-2802-457e-9ab4-d3819454f4a7",
        "colab": {
          "base_uri": "https://localhost:8080/",
          "height": 34
        }
      },
      "source": [
        "# Small Dataset for quick test\n",
        "# path = untar_data(URLs.MNIST_SAMPLE)\n",
        "\n",
        "# Full Dataset\n",
        "path = untar_data(URLs.MNIST)\n",
        "path"
      ],
      "execution_count": 3,
      "outputs": [
        {
          "output_type": "execute_result",
          "data": {
            "text/plain": [
              "PosixPath('/root/.fastai/data/mnist_png')"
            ]
          },
          "metadata": {
            "tags": []
          },
          "execution_count": 3
        }
      ]
    },
    {
      "cell_type": "markdown",
      "metadata": {
        "id": "Jxuzl8gi9IGi",
        "colab_type": "text"
      },
      "source": [
        "# 3. เตรียมข้อมูล\n",
        "\n"
      ]
    },
    {
      "cell_type": "markdown",
      "metadata": {
        "id": "PVO9Gpau9IGk",
        "colab_type": "text"
      },
      "source": [
        "1. สำหรับข้อมูลประเภทตัวเลข เราไม่สามารถ flip ซ้าย ขวา ขึ้น ลง ได้ จะทำให้ผิดความหมายไป จึงต้องใช้ get_transforms(do_flip=False)\n",
        "2. เคสนี้ label คือชื่อ Folder ที่บรรจุไฟล์อยู่ เราสามารถ ใช้ ImageDataBunch.from_folder ได้เลย\n",
        "3. num_workers คือ จำนวน CPU Core ที่ต้องการใช้"
      ]
    },
    {
      "cell_type": "code",
      "metadata": {
        "id": "M5Emr0xh9IGl",
        "colab_type": "code",
        "colab": {}
      },
      "source": [
        "batchsize = 64\n",
        "max_lr = 3e-2\n",
        "wd = 1e-1\n",
        "np.random.seed(0)\n",
        "transform = get_transforms(do_flip=False)\n",
        "\n",
        "databunch = ImageDataBunch.from_folder(path, train='training', valid_pct=0.2, size=28, \n",
        "                                       ds_tfms=transform, bs=batchsize, num_workers=8).normalize()"
      ],
      "execution_count": 0,
      "outputs": []
    },
    {
      "cell_type": "markdown",
      "metadata": {
        "id": "IfDAvA8m9IGr",
        "colab_type": "text"
      },
      "source": [
        "## สำรวจข้อมูล ##\n",
        "\n",
        "ลองดูข้อมูล Batch แรก ด้วย show_batch สั่งให้แสดง รูป พร้อม label ไว้บนรูป แสดง 3 แถว (rows) ในกรอบขนาด 10 x 10 นิ้ว (figsize)\n",
        "\n",
        "*เราสามารถรัน cell นี้หลายครั้ง เพื่อเรียกดู batch ต่อ ๆ ไป ได้เรื่อย ๆ เป็นการสำรวจข้อมูล*"
      ]
    },
    {
      "cell_type": "code",
      "metadata": {
        "id": "3BqVtZBy9IGt",
        "colab_type": "code",
        "outputId": "233cacc8-d63f-47c3-8c09-565f5196affe",
        "colab": {
          "base_uri": "https://localhost:8080/",
          "height": 729
        }
      },
      "source": [
        "databunch.show_batch(rows=3, figsize=(10, 10))"
      ],
      "execution_count": 5,
      "outputs": [
        {
          "output_type": "display_data",
          "data": {
            "image/png": "[encoded data removed]",
            "text/plain": [
              "<Figure size 720x720 with 9 Axes>"
            ]
          },
          "metadata": {
            "tags": []
          }
        }
      ]
    },
    {
      "cell_type": "markdown",
      "metadata": {
        "id": "hFoyXg1z9IG0",
        "colab_type": "text"
      },
      "source": [
        "ดู label ตัวเลขทั้งหมด หรือ class ทั้งหมด ที่มีใน Dataset"
      ]
    },
    {
      "cell_type": "code",
      "metadata": {
        "scrolled": true,
        "id": "8JTsQMRp9IG2",
        "colab_type": "code",
        "outputId": "a7ddaeb2-4e39-4434-e0f8-d51ba786e749",
        "colab": {
          "base_uri": "https://localhost:8080/",
          "height": 34
        }
      },
      "source": [
        "databunch.classes"
      ],
      "execution_count": 6,
      "outputs": [
        {
          "output_type": "execute_result",
          "data": {
            "text/plain": [
              "['0', '1', '2', '3', '4', '5', '6', '7', '8', '9']"
            ]
          },
          "metadata": {
            "tags": []
          },
          "execution_count": 6
        }
      ]
    },
    {
      "cell_type": "markdown",
      "metadata": {
        "id": "6A9U0dSc9IG8",
        "colab_type": "text"
      },
      "source": [
        "# 4. สร้างโมเดล"
      ]
    },
    {
      "cell_type": "markdown",
      "metadata": {
        "id": "pWbboIYBKUsh",
        "colab_type": "text"
      },
      "source": [
        "เราจะสร้างโมเดล Deep Convolutional Neural Network ที่มี 4 ConvLayer และใช้ GeneralRelu ดังด้านล่าง"
      ]
    },
    {
      "cell_type": "code",
      "metadata": {
        "id": "1596sMU524y0",
        "colab_type": "code",
        "colab": {}
      },
      "source": [
        "#export\n",
        "def get_cnn_model(data, **kwargs):\n",
        "    return nn.Sequential(\n",
        "        nn.Conv2d(  3,  8, 5, padding=2, stride=2), GeneralRelu(**kwargs), #14\n",
        "        nn.Conv2d(  8, 16, 3, padding=1, stride=2), GeneralRelu(**kwargs), # 7\n",
        "        nn.Conv2d( 16, 32, 3, padding=1, stride=2), GeneralRelu(**kwargs), # 4\n",
        "        nn.Conv2d( 32, 32, 3, padding=1, stride=2), GeneralRelu(**kwargs), # 2\n",
        "        nn.AdaptiveAvgPool2d(1), \n",
        "        Lambda(flatten), \n",
        "        nn.Linear(32, data.c)\n",
        "    )\n",
        "\n",
        "class GeneralRelu(nn.Module): \n",
        "    def __init__(self, leak=None, sub=None, maxv=None):\n",
        "        super().__init__()\n",
        "        self.leak, self.sub, self.maxv = leak, sub, maxv\n",
        "    def forward(self, x):\n",
        "        x = F.leaky_relu(x, self.leak) if self.leak is not None else F.relu(x)\n",
        "        if self.sub is not None: x.sub_(self.sub)\n",
        "        if self.maxv is not None: x.clamp_max_(self.maxv)\n",
        "        return x\n",
        "\n",
        "# def mnist_resize(x): return x.view(-1, 1, 28, 28)\n",
        "def flatten(x): return x.view(x.shape[0], -1)    \n",
        "\n",
        "def init_cnn(m, uniform=False, bias=True):\n",
        "    f = init.kaiming_uniform_ if uniform else init.kaiming_normal_\n",
        "    for l in m:\n",
        "        if isinstance(l, nn.Conv2d):\n",
        "            f(l.weight, a=0.1)\n",
        "            if bias: l.bias.data.zero_()"
      ],
      "execution_count": 0,
      "outputs": []
    },
    {
      "cell_type": "markdown",
      "metadata": {
        "id": "ayoQr8d8GfGH",
        "colab_type": "text"
      },
      "source": [
        "สร้างโมเดล และ Initialize ด้วย Kaiming Normal"
      ]
    },
    {
      "cell_type": "code",
      "metadata": {
        "id": "a5GtebtB_uhu",
        "colab_type": "code",
        "colab": {}
      },
      "source": [
        "model = get_cnn_model(databunch, leak=0.1, sub=0.4, maxv=6.)\n",
        "init_cnn(model)"
      ],
      "execution_count": 0,
      "outputs": []
    },
    {
      "cell_type": "code",
      "metadata": {
        "id": "t1beHqEr_vRv",
        "colab_type": "code",
        "outputId": "a20bfff1-22ea-45c3-ffa7-cb9c99fcb88c",
        "colab": {
          "base_uri": "https://localhost:8080/",
          "height": 238
        }
      },
      "source": [
        "model"
      ],
      "execution_count": 9,
      "outputs": [
        {
          "output_type": "execute_result",
          "data": {
            "text/plain": [
              "Sequential(\n",
              "  (0): Conv2d(3, 8, kernel_size=(5, 5), stride=(2, 2), padding=(2, 2))\n",
              "  (1): GeneralRelu()\n",
              "  (2): Conv2d(8, 16, kernel_size=(3, 3), stride=(2, 2), padding=(1, 1))\n",
              "  (3): GeneralRelu()\n",
              "  (4): Conv2d(16, 32, kernel_size=(3, 3), stride=(2, 2), padding=(1, 1))\n",
              "  (5): GeneralRelu()\n",
              "  (6): Conv2d(32, 32, kernel_size=(3, 3), stride=(2, 2), padding=(1, 1))\n",
              "  (7): GeneralRelu()\n",
              "  (8): AdaptiveAvgPool2d(output_size=1)\n",
              "  (9): Lambda()\n",
              "  (10): Linear(in_features=32, out_features=10, bias=True)\n",
              ")"
            ]
          },
          "metadata": {
            "tags": []
          },
          "execution_count": 9
        }
      ]
    },
    {
      "cell_type": "code",
      "metadata": {
        "id": "pa99vDjuKZdv",
        "colab_type": "code",
        "colab": {}
      },
      "source": [
        "def children(m): list(m.children())\n",
        "\n",
        "def find_modules(m, cond):\n",
        "    if cond(m): return [m]\n",
        "    return sum([find_modules(o, cond) for o in m.children()], [])\n",
        "    \n",
        "class Hook():\n",
        "    # m = module, f = function\n",
        "    def __init__(self, m, f): self.hook = m.register_forward_hook(partial(f, self))\n",
        "    def remove(self): self.hook.remove()\n",
        "    def __del__(self): self.remove()\n",
        "\n",
        "class ListContainer():\n",
        "    def __init__(self, items): self.items = listify(items)\n",
        "    def __getitem__(self, idx): \n",
        "        if isinstance(idx, (int, slice)): return self.items[idx]\n",
        "        if isinstance(idx[0], bool):\n",
        "            assert len(idx) == len(self) # boolean mask\n",
        "            return [o for m, o in zip(idx, self.items) if m]\n",
        "        return [self.items[i] for i in idx]\n",
        "    def __len__(self): return len(self.items)\n",
        "    def __iter__(self): return iter(self.items)\n",
        "    def __setitem__(self, i, o): self.items[i] = o\n",
        "    def __delitem__(self, i): del(self.items[i])\n",
        "    def __repr__(self):\n",
        "        res = f'{self.__class__.__name__} ({len(self)} items)\\n{self.items[:10]}'\n",
        "        if len(self) > 10: res = res[:-1] + '...]'\n",
        "        return res\n",
        "        \n",
        "class Hooks(ListContainer):\n",
        "    def __init__(self, ms, f): super().__init__([Hook(m, f) for m in ms])\n",
        "    def __enter__(self, *args): return self\n",
        "    def __exit__(self, *args): self.remove()\n",
        "    def __del__(self): self.remove()\n",
        "\n",
        "    def __delitem__(self, i):\n",
        "        self[i].remove()\n",
        "        super().__delitem__(i)\n",
        "    \n",
        "    def remove(self):\n",
        "        for h in self: h.remove()  "
      ],
      "execution_count": 0,
      "outputs": []
    },
    {
      "cell_type": "code",
      "metadata": {
        "id": "y4IxTVh39IG-",
        "colab_type": "code",
        "colab": {}
      },
      "source": [
        "learner = Learner(databunch, model, metrics=accuracy)"
      ],
      "execution_count": 0,
      "outputs": []
    },
    {
      "cell_type": "markdown",
      "metadata": {
        "id": "zjm7EsmT9IHD",
        "colab_type": "text"
      },
      "source": [
        "# 5. Model Summary"
      ]
    },
    {
      "cell_type": "markdown",
      "metadata": {
        "id": "qy7q6KMj4fd5",
        "colab_type": "text"
      },
      "source": [
        "ประกาศฟังก์ชัน model_summary ที่จะทดลอง นำข้อมูล 1 Batch ผ่าน learner.model ตั้งแต่ต้นจนจบ 1 รอบ แล้ว print ข้อมูล Spec ของแต่ละ Module และ shape ของ Output ที่ออกจาก Module นั้น ๆ ทีละ Layer"
      ]
    },
    {
      "cell_type": "code",
      "metadata": {
        "id": "SFqeeLay1fyM",
        "colab_type": "code",
        "colab": {}
      },
      "source": [
        "def model_summary(learner, databunch, find_all=False):\n",
        "    xb, yb = databunch.one_batch()\n",
        "    print(f\"{xb.shape}\\n\")\n",
        "    device = next(learner.model.parameters()).device\n",
        "    xb, yb = xb.to(device), yb.to(device)\n",
        "    mods = find_modules(learner.model, lambda o: isinstance(o, (nn.Linear, nn.Conv2d))) if find_all else learner.model.children()\n",
        "    f = lambda hook, mod, inp, outp: print(f\"{mod}\\n{outp.shape}\\n\")\n",
        "    with Hooks(mods, f) as hooks: learner.model(xb)"
      ],
      "execution_count": 0,
      "outputs": []
    },
    {
      "cell_type": "markdown",
      "metadata": {
        "id": "hrVJRgXG6A_4",
        "colab_type": "text"
      },
      "source": [
        "เรียกฟังก์ชัน model_summary เพื่ออ่านค่า Model Layer และ Activation Map\n",
        "\n"
      ]
    },
    {
      "cell_type": "code",
      "metadata": {
        "id": "JNCFs-TG1f7C",
        "colab_type": "code",
        "outputId": "4adf4c18-e1a6-4973-e91b-854974f58e2a",
        "colab": {
          "base_uri": "https://localhost:8080/",
          "height": 612
        }
      },
      "source": [
        "model_summary(learner, databunch)"
      ],
      "execution_count": 13,
      "outputs": [
        {
          "output_type": "stream",
          "text": [
            "torch.Size([64, 3, 28, 28])\n",
            "\n",
            "Conv2d(3, 8, kernel_size=(5, 5), stride=(2, 2), padding=(2, 2))\n",
            "torch.Size([64, 8, 14, 14])\n",
            "\n",
            "GeneralRelu()\n",
            "torch.Size([64, 8, 14, 14])\n",
            "\n",
            "Conv2d(8, 16, kernel_size=(3, 3), stride=(2, 2), padding=(1, 1))\n",
            "torch.Size([64, 16, 7, 7])\n",
            "\n",
            "GeneralRelu()\n",
            "torch.Size([64, 16, 7, 7])\n",
            "\n",
            "Conv2d(16, 32, kernel_size=(3, 3), stride=(2, 2), padding=(1, 1))\n",
            "torch.Size([64, 32, 4, 4])\n",
            "\n",
            "GeneralRelu()\n",
            "torch.Size([64, 32, 4, 4])\n",
            "\n",
            "Conv2d(32, 32, kernel_size=(3, 3), stride=(2, 2), padding=(1, 1))\n",
            "torch.Size([64, 32, 2, 2])\n",
            "\n",
            "GeneralRelu()\n",
            "torch.Size([64, 32, 2, 2])\n",
            "\n",
            "AdaptiveAvgPool2d(output_size=1)\n",
            "torch.Size([64, 32, 1, 1])\n",
            "\n",
            "Lambda()\n",
            "torch.Size([64, 32])\n",
            "\n",
            "Linear(in_features=32, out_features=10, bias=True)\n",
            "torch.Size([64, 10])\n",
            "\n"
          ],
          "name": "stdout"
        }
      ]
    },
    {
      "cell_type": "markdown",
      "metadata": {
        "id": "X5dVJuU27aG8",
        "colab_type": "text"
      },
      "source": [
        "# 6. สรุป"
      ]
    },
    {
      "cell_type": "markdown",
      "metadata": {
        "id": "lLN8rzvk7W7w",
        "colab_type": "text"
      },
      "source": [
        "คำอธิบายตัวเลข Conv2d Layer และ Activation ดังตัวอย่าง\n",
        "\n",
        "* Activation torch.Size([64, 3, 28, 28]) = 0 Batch Size, 1 Channel, 2 Width กว้าง, 3 Height ยาว\n",
        "* Conv2d(3, 8, kernel_size=(5, 5), stride=(2, 2), padding=(2, 2)) = 0 Channel In, 1 Channel Out, Kernel Size, Stride, Padding\n",
        "\n",
        "โปรดสังเกต \n",
        "\n",
        "1. Activation Map มิติที่ 0 คือ Batch Size = 64 เท่าเดิมตลอดทั้งโมเดล\n",
        "1. Activation Map มิติที่ 1 คือ Channel\n",
        "1. Activation Map มิติที่ 2, 3 คือ กว้าง, ยาว\n",
        "1. Conv2d Parameter แรก คือ Channel In = Channel ของ Activaiton ก่อนหน้า\n",
        "1. Conv2d Parameter ต่อมา คือ Channel Out = Channel ของ Activation ที่เป็น Output ของ Layer\n",
        "1. Conv2d Parameter stride = 2, 2 ทำให้ มิติที่ 2 Width, 3 Height ของ Activation ที่เป็น Output ลดลงครึ่งนึง จาก Activation ก่อนหน้า\n",
        "1. Conv2d Parameter kernel_size คือ ขนาดของ Kerner/Filter และ padding คือ การเติม Width, Height รอบ ๆ Activation ก่อนหน้า\n",
        "1. Activation Function เช่น ReLU ไม่ทำให้มิติเปลี่ยน\n",
        "1. AdaptiveAvgPool2d จะยุบมิติ 2, 3 (กว้าง, ยาว) ทิ้งไป จาก 2, 2 (กว้าง, ยาว) ให้เหลือ 1, 1 (กว้าง, ยาว)\n"
      ]
    },
    {
      "cell_type": "markdown",
      "metadata": {
        "id": "YWcASWNpvXRm",
        "colab_type": "text"
      },
      "source": [
        "# Credit"
      ]
    },
    {
      "cell_type": "markdown",
      "metadata": {
        "id": "bmuDkicxvXWw",
        "colab_type": "text"
      },
      "source": [
        "* https://course.fast.ai/videos/?lesson=11\n",
        "* http://yann.lecun.com/exdb/mnist/\n",
        "* https://www.bualabs.com/archives/509/mnist-fastai-resnet18-image-classification-ep-3/"
      ]
    },
    {
      "cell_type": "code",
      "metadata": {
        "id": "XszExV__1ehZ",
        "colab_type": "code",
        "colab": {}
      },
      "source": [
        ""
      ],
      "execution_count": 0,
      "outputs": []
    }
  ]
}