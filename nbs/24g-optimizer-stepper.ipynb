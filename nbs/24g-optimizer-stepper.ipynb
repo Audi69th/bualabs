{
  "nbformat": 4,
  "nbformat_minor": 0,
  "metadata": {
    "colab": {
      "name": "24g-optimizer-stepper.ipynb",
      "provenance": []
    },
    "kernelspec": {
      "name": "python3",
      "display_name": "Python 3"
    },
    "accelerator": "GPU"
  },
  "cells": [
    {
      "cell_type": "code",
      "metadata": {
        "id": "_0K4i-w-JDmd",
        "colab_type": "code",
        "colab": {}
      },
      "source": [
        ""
      ],
      "execution_count": 0,
      "outputs": []
    },
    {
      "cell_type": "markdown",
      "metadata": {
        "id": "zx7irZVTKKi5",
        "colab_type": "text"
      },
      "source": [
        "จาก ep ที่แล้ว"
      ]
    },
    {
      "cell_type": "markdown",
      "metadata": {
        "id": "dB_uG6JoKKi-",
        "colab_type": "text"
      },
      "source": [
        "# 0. Magic Commands\n"
      ]
    },
    {
      "cell_type": "code",
      "metadata": {
        "id": "hsQZCQnAKKjA",
        "colab_type": "code",
        "colab": {}
      },
      "source": [
        "%reload_ext autoreload\n",
        "%autoreload 2\n",
        "%matplotlib inline"
      ],
      "execution_count": 0,
      "outputs": []
    },
    {
      "cell_type": "markdown",
      "metadata": {
        "id": "f6PHPBt-KKjE",
        "colab_type": "text"
      },
      "source": [
        "# 1. Import Library"
      ]
    },
    {
      "cell_type": "code",
      "metadata": {
        "id": "Id2bhyatKbiS",
        "colab_type": "code",
        "colab": {
          "base_uri": "https://localhost:8080/",
          "height": 51
        },
        "outputId": "e315b41b-47db-438c-decd-fd13309325fb"
      },
      "source": [
        "!curl -s https://course.fast.ai/setup/colab | bash"
      ],
      "execution_count": 2,
      "outputs": [
        {
          "output_type": "stream",
          "text": [
            "Updating fastai...\n",
            "Done.\n"
          ],
          "name": "stdout"
        }
      ]
    },
    {
      "cell_type": "code",
      "metadata": {
        "id": "vSSEAztsKKjH",
        "colab_type": "code",
        "colab": {}
      },
      "source": [
        "from fastai import *\n",
        "from fastai.vision import *\n",
        "from fastai.metrics import accuracy"
      ],
      "execution_count": 0,
      "outputs": []
    },
    {
      "cell_type": "markdown",
      "metadata": {
        "id": "VCTQ1KcvKKjL",
        "colab_type": "text"
      },
      "source": [
        "# 2. ข้อมูล\n",
        "\n"
      ]
    },
    {
      "cell_type": "code",
      "metadata": {
        "id": "QE9CwMgDKKjM",
        "colab_type": "code",
        "colab": {}
      },
      "source": [
        "path = untar_data(URLs.PETS)\n",
        "path_images = path/'images'\n",
        "filenames = get_image_files(path_images)"
      ],
      "execution_count": 0,
      "outputs": []
    },
    {
      "cell_type": "markdown",
      "metadata": {
        "id": "ZNNt8DcPKKjP",
        "colab_type": "text"
      },
      "source": [
        "# 3. เตรียมข้อมูล"
      ]
    },
    {
      "cell_type": "code",
      "metadata": {
        "id": "Ek7NCLH8KKjQ",
        "colab_type": "code",
        "colab": {}
      },
      "source": [
        "batchsize = 64\n",
        "np.random.seed(0)\n",
        "regex_pattern = r'/([^/]+)_\\d+.jpg$'\n",
        "\n",
        "databunch = ImageDataBunch.from_name_re(path_images, filenames, \n",
        "                                   regex_pattern, ds_tfms=get_transforms(), \n",
        "                                   size=224, bs=batchsize).normalize(imagenet_stats)"
      ],
      "execution_count": 0,
      "outputs": []
    },
    {
      "cell_type": "markdown",
      "metadata": {
        "id": "8cRmczXgKKjU",
        "colab_type": "text"
      },
      "source": [
        "# 4. สร้างโมเดล\n"
      ]
    },
    {
      "cell_type": "code",
      "metadata": {
        "id": "vq1ian8KKKjV",
        "colab_type": "code",
        "colab": {
          "base_uri": "https://localhost:8080/",
          "height": 51
        },
        "outputId": "25d8c69a-d470-4b28-cf7f-c1ae92d9caa1"
      },
      "source": [
        "learner = cnn_learner(databunch, models.resnet34, metrics=accuracy)"
      ],
      "execution_count": 10,
      "outputs": [
        {
          "output_type": "stream",
          "text": [
            "Downloading: \"https://download.pytorch.org/models/resnet34-333f7ec4.pth\" to /root/.cache/torch/checkpoints/resnet34-333f7ec4.pth\n",
            "100%|██████████| 83.3M/83.3M [00:01<00:00, 53.0MB/s]\n"
          ],
          "name": "stderr"
        }
      ]
    },
    {
      "cell_type": "markdown",
      "metadata": {
        "id": "BWucPgPQKKjZ",
        "colab_type": "text"
      },
      "source": [
        "# 5. เริ่มต้นเทรนโมเดล\n"
      ]
    },
    {
      "cell_type": "code",
      "metadata": {
        "scrolled": true,
        "id": "o_K-aRoUKKjb",
        "colab_type": "code",
        "outputId": "6b7728bd-487f-45a0-a6c3-db9309d758fc",
        "colab": {
          "base_uri": "https://localhost:8080/",
          "height": 80
        }
      },
      "source": [
        "learner.fit_one_cycle(1)"
      ],
      "execution_count": 11,
      "outputs": [
        {
          "output_type": "display_data",
          "data": {
            "text/html": [
              "<table border=\"1\" class=\"dataframe\">\n",
              "  <thead>\n",
              "    <tr style=\"text-align: left;\">\n",
              "      <th>epoch</th>\n",
              "      <th>train_loss</th>\n",
              "      <th>valid_loss</th>\n",
              "      <th>accuracy</th>\n",
              "      <th>time</th>\n",
              "    </tr>\n",
              "  </thead>\n",
              "  <tbody>\n",
              "    <tr>\n",
              "      <td>0</td>\n",
              "      <td>0.936414</td>\n",
              "      <td>0.294695</td>\n",
              "      <td>0.907984</td>\n",
              "      <td>01:44</td>\n",
              "    </tr>\n",
              "  </tbody>\n",
              "</table>"
            ],
            "text/plain": [
              "<IPython.core.display.HTML object>"
            ]
          },
          "metadata": {
            "tags": []
          }
        }
      ]
    },
    {
      "cell_type": "markdown",
      "metadata": {
        "id": "1syuaSrqKKjr",
        "colab_type": "text"
      },
      "source": [
        "# 6. เทรนต่อ"
      ]
    },
    {
      "cell_type": "markdown",
      "metadata": {
        "id": "InG0PNE9KKjs",
        "colab_type": "text"
      },
      "source": [
        "unfreeze layer ทุก Layer ให้สามารถเทรนได้ แล้วเทรนต่อทั้งโมเดล"
      ]
    },
    {
      "cell_type": "code",
      "metadata": {
        "id": "w--H44VrKKjt",
        "colab_type": "code",
        "outputId": "e731ddc7-1280-4636-b1b6-cf2711399fc5",
        "colab": {
          "base_uri": "https://localhost:8080/",
          "height": 95
        }
      },
      "source": [
        "learner.unfreeze()\n",
        "learner.lr_find()\n",
        "learner.recorder.plot()"
      ],
      "execution_count": 0,
      "outputs": [
        {
          "output_type": "display_data",
          "data": {
            "text/html": [
              "\n",
              "    <div>\n",
              "        <style>\n",
              "            /* Turns off some styling */\n",
              "            progress {\n",
              "                /* gets rid of default border in Firefox and Opera. */\n",
              "                border: none;\n",
              "                /* Needs to be in here for Safari polyfill so background images work as expected. */\n",
              "                background-size: auto;\n",
              "            }\n",
              "            .progress-bar-interrupted, .progress-bar-interrupted::-webkit-progress-bar {\n",
              "                background: #F44336;\n",
              "            }\n",
              "        </style>\n",
              "      <progress value='0' class='' max='2', style='width:300px; height:20px; vertical-align: middle;'></progress>\n",
              "      0.00% [0/2 00:00<00:00]\n",
              "    </div>\n",
              "    \n",
              "<table border=\"1\" class=\"dataframe\">\n",
              "  <thead>\n",
              "    <tr style=\"text-align: left;\">\n",
              "      <th>epoch</th>\n",
              "      <th>train_loss</th>\n",
              "      <th>valid_loss</th>\n",
              "      <th>accuracy</th>\n",
              "      <th>time</th>\n",
              "    </tr>\n",
              "  </thead>\n",
              "  <tbody>\n",
              "  </tbody>\n",
              "</table><p>\n",
              "\n",
              "    <div>\n",
              "        <style>\n",
              "            /* Turns off some styling */\n",
              "            progress {\n",
              "                /* gets rid of default border in Firefox and Opera. */\n",
              "                border: none;\n",
              "                /* Needs to be in here for Safari polyfill so background images work as expected. */\n",
              "                background-size: auto;\n",
              "            }\n",
              "            .progress-bar-interrupted, .progress-bar-interrupted::-webkit-progress-bar {\n",
              "                background: #F44336;\n",
              "            }\n",
              "        </style>\n",
              "      <progress value='53' class='' max='92', style='width:300px; height:20px; vertical-align: middle;'></progress>\n",
              "      57.61% [53/92 00:55<00:41 0.5577]\n",
              "    </div>\n",
              "    "
            ],
            "text/plain": [
              "<IPython.core.display.HTML object>"
            ]
          },
          "metadata": {
            "tags": []
          }
        }
      ]
    },
    {
      "cell_type": "code",
      "metadata": {
        "id": "YfqNv8GXKKjx",
        "colab_type": "code",
        "colab": {}
      },
      "source": [
        "learner.fit_one_cycle(1, max_lr=slice(1e-6,1e-4))"
      ],
      "execution_count": 0,
      "outputs": []
    },
    {
      "cell_type": "markdown",
      "metadata": {
        "id": "SWHDihUGKKj2",
        "colab_type": "text"
      },
      "source": [
        "# 7. สำเร็จแล้ว\n",
        "\n"
      ]
    },
    {
      "cell_type": "markdown",
      "metadata": {
        "id": "EDYEiP0TKKkG",
        "colab_type": "text"
      },
      "source": [
        "# 8. สรุป\n"
      ]
    },
    {
      "cell_type": "markdown",
      "metadata": {
        "id": "Wb5TRUgjKKkH",
        "colab_type": "text"
      },
      "source": [
        "เปรียบเทียบ"
      ]
    },
    {
      "cell_type": "markdown",
      "metadata": {
        "id": "vSUMrdE9KKkJ",
        "colab_type": "text"
      },
      "source": [
        "# Credit \n",
        "\n",
        "* https://course.fast.ai/videos/?lesson=11"
      ]
    },
    {
      "cell_type": "code",
      "metadata": {
        "id": "QXqRF167McwW",
        "colab_type": "code",
        "colab": {}
      },
      "source": [
        ""
      ],
      "execution_count": 0,
      "outputs": []
    }
  ]
}