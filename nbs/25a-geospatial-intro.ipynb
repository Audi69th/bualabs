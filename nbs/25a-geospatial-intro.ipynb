{
  "nbformat": 4,
  "nbformat_minor": 0,
  "metadata": {
    "colab": {
      "name": "25a-geopandas-intro.ipynb",
      "provenance": []
    },
    "kernelspec": {
      "name": "python3",
      "display_name": "Python 3"
    },
    "accelerator": "GPU"
  },
  "cells": [
    {
      "cell_type": "code",
      "metadata": {
        "id": "rnpSo4UOwmES",
        "colab_type": "code",
        "colab": {}
      },
      "source": [
        "# ! pip install geopandas\n",
        "# ! pip install kaggle --upgrade"
      ],
      "execution_count": 0,
      "outputs": []
    },
    {
      "cell_type": "markdown",
      "metadata": {
        "id": "5ZOGt_wS4pPT",
        "colab_type": "text"
      },
      "source": [
        "Download kaggle.json and Put on My Drive/.kaggle in Google Drive"
      ]
    },
    {
      "cell_type": "code",
      "metadata": {
        "id": "N7_7Mxaw8jfO",
        "colab_type": "code",
        "colab": {}
      },
      "source": [
        "config_path = '/content/drive'\n",
        "dataset = 'alexisbcook/geospatial-learn-course-data'\n",
        "data_path = '/content/datasets/' + dataset"
      ],
      "execution_count": 0,
      "outputs": []
    },
    {
      "cell_type": "code",
      "metadata": {
        "id": "ZEQiewsE3LK-",
        "colab_type": "code",
        "colab": {
          "base_uri": "https://localhost:8080/",
          "height": 54
        },
        "outputId": "5daa62c5-4318-403c-e150-870ee161a14f"
      },
      "source": [
        "from google.colab import drive\n",
        "drive.mount(config_path)"
      ],
      "execution_count": 88,
      "outputs": [
        {
          "output_type": "stream",
          "text": [
            "Drive already mounted at /content/drive; to attempt to forcibly remount, call drive.mount(\"/content/drive\", force_remount=True).\n"
          ],
          "name": "stdout"
        }
      ]
    },
    {
      "cell_type": "code",
      "metadata": {
        "id": "s7rYSFoP5F2i",
        "colab_type": "code",
        "colab": {
          "base_uri": "https://localhost:8080/",
          "height": 34
        },
        "outputId": "acd4a911-ffad-457d-e24d-ae11b91149cb"
      },
      "source": [
        "!kaggle config set -n path -v \"{path}/My Drive\""
      ],
      "execution_count": 89,
      "outputs": [
        {
          "output_type": "stream",
          "text": [
            "- path is now set to: /content/drive/My Drive\n"
          ],
          "name": "stdout"
        }
      ]
    },
    {
      "cell_type": "code",
      "metadata": {
        "id": "DWVg-d8V4kRq",
        "colab_type": "code",
        "colab": {
          "base_uri": "https://localhost:8080/",
          "height": 68
        },
        "outputId": "e4e2b331-38e6-42be-e773-db8655b14e36"
      },
      "source": [
        "!kaggle datasets download {dataset} -p \"{data_path}\" --unzip"
      ],
      "execution_count": 92,
      "outputs": [
        {
          "output_type": "stream",
          "text": [
            "Downloading geospatial-learn-course-data.zip to /content/datasets/alexisbcook/geospatial-learn-course-data\n",
            " 97% 227M/233M [00:01<00:00, 168MB/s]\n",
            "100% 233M/233M [00:01<00:00, 167MB/s]\n"
          ],
          "name": "stdout"
        }
      ]
    },
    {
      "cell_type": "code",
      "metadata": {
        "id": "mQfGtLVJwJL8",
        "colab_type": "code",
        "colab": {}
      },
      "source": [
        "import geopandas as gpd"
      ],
      "execution_count": 0,
      "outputs": []
    },
    {
      "cell_type": "code",
      "metadata": {
        "id": "aEWZawfY1dmc",
        "colab_type": "code",
        "colab": {}
      },
      "source": [
        ""
      ],
      "execution_count": 0,
      "outputs": []
    },
    {
      "cell_type": "code",
      "metadata": {
        "id": "PzNQ05Mp1dt-",
        "colab_type": "code",
        "colab": {}
      },
      "source": [
        ""
      ],
      "execution_count": 0,
      "outputs": []
    },
    {
      "cell_type": "code",
      "metadata": {
        "id": "oCIlh1WR1d1P",
        "colab_type": "code",
        "colab": {}
      },
      "source": [
        ""
      ],
      "execution_count": 0,
      "outputs": []
    },
    {
      "cell_type": "code",
      "metadata": {
        "id": "qXIcLJl-wWbd",
        "colab_type": "code",
        "colab": {}
      },
      "source": [
        "loans_filepath = data_path + \"/kiva_loans/kiva_loans/kiva_loans.shp\"\n",
        "\n",
        "world_loans = gpd.read_file(loans_filepath)"
      ],
      "execution_count": 0,
      "outputs": []
    },
    {
      "cell_type": "code",
      "metadata": {
        "id": "KuvdVI7nzVW2",
        "colab_type": "code",
        "colab": {
          "base_uri": "https://localhost:8080/",
          "height": 155
        },
        "outputId": "dcd8d50e-530a-4fe3-b246-ba20289bc9cf"
      },
      "source": [
        "world_loans.plot()"
      ],
      "execution_count": 94,
      "outputs": [
        {
          "output_type": "execute_result",
          "data": {
            "text/plain": [
              "<matplotlib.axes._subplots.AxesSubplot at 0x7fc5565f2be0>"
            ]
          },
          "metadata": {
            "tags": []
          },
          "execution_count": 94
        },
        {
          "output_type": "display_data",
          "data": {
            "image/png": "[encoded data removed]",
            "text/plain": [
              "<Figure size 432x288 with 1 Axes>"
            ]
          },
          "metadata": {
            "tags": []
          }
        }
      ]
    },
    {
      "cell_type": "code",
      "metadata": {
        "id": "vS_9EaoNCrae",
        "colab_type": "code",
        "colab": {}
      },
      "source": [
        ""
      ],
      "execution_count": 0,
      "outputs": []
    }
  ]
}