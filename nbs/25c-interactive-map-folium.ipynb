{
  "nbformat": 4,
  "nbformat_minor": 0,
  "metadata": {
    "colab": {
      "name": "25c-interactive-map-folium.ipynb",
      "provenance": []
    },
    "kernelspec": {
      "display_name": "Python 3",
      "language": "python",
      "name": "python3"
    },
    "language_info": {
      "codemirror_mode": {
        "name": "ipython",
        "version": 3
      },
      "file_extension": ".py",
      "mimetype": "text/x-python",
      "name": "python",
      "nbconvert_exporter": "python",
      "pygments_lexer": "ipython3",
      "version": "3.7.3"
    }
  },
  "cells": [
    {
      "cell_type": "markdown",
      "metadata": {
        "colab_type": "text",
        "id": "H9CYDwQ9gQ2u"
      },
      "source": [
        "ใน ep นี้เราจะมาเรียนรู้การสร้างแผนที่ แบบ Interactive ที่สามารถ Zoom เข้าออก และลากไปมา ได้เหมือน Google Map โดยใช้ folium "
      ]
    },
    {
      "cell_type": "markdown",
      "metadata": {
        "colab_type": "text",
        "id": "Y7QjHJiKRD9N"
      },
      "source": [
        "# 0. Install"
      ]
    },
    {
      "cell_type": "markdown",
      "metadata": {
        "colab_type": "text",
        "id": "_qxIXpQqTmzD"
      },
      "source": [
        "เราจะต้อง Install kaggle เพื่อ Download Dataset, geopandas เพื่อใช้ในการวิเคราะห์ข้อมูล geospatial, folium เพื่อแสดงแผ่นที่ (ถ้ายังไม่ได้ Install ให้ uncomment)"
      ]
    },
    {
      "cell_type": "code",
      "metadata": {
        "colab_type": "code",
        "id": "rnpSo4UOwmES",
        "colab": {}
      },
      "source": [
        "# ! pip install geopandas\n",
        "# ! pip install git+https://github.com/python-visualization/folium\n",
        "# ! pip install kaggle --upgrade"
      ],
      "execution_count": 0,
      "outputs": []
    },
    {
      "cell_type": "markdown",
      "metadata": {
        "colab_type": "text",
        "id": "eIhjYw2SRB31"
      },
      "source": [
        "# 1. Import Library"
      ]
    },
    {
      "cell_type": "markdown",
      "metadata": {
        "colab_type": "text",
        "id": "EYelaC8QUiuP"
      },
      "source": [
        "Import folium Library เพื่อใช้ในการพล็อตแผนที่แบบ Interactive"
      ]
    },
    {
      "cell_type": "code",
      "metadata": {
        "colab_type": "code",
        "id": "mQfGtLVJwJL8",
        "colab": {}
      },
      "source": [
        "import pandas as pd\n",
        "import geopandas as gpd\n",
        "\n",
        "import folium\n",
        "from folium import *\n",
        "from folium.plugins import *\n",
        "\n",
        "import os\n",
        "from pathlib import Path"
      ],
      "execution_count": 0,
      "outputs": []
    },
    {
      "cell_type": "markdown",
      "metadata": {
        "colab_type": "text",
        "id": "hZBm5maPRLmi"
      },
      "source": [
        "# 2. เตรียม Path สำหรับดาวน์โหลดข้อมูล"
      ]
    },
    {
      "cell_type": "markdown",
      "metadata": {
        "colab_type": "text",
        "id": "9DBiIhGYT6VU"
      },
      "source": [
        "กำหนด path ของ Config File และ Dataset ว่าจะอยู่ใน Google Drive ถ้าเราใช้ Google Colab หรือ อยู่ใน HOME ถ้าเราใช้ VM ธรรมดา และกำหนด Environment Variable ไปยังโฟลเดอร์ที่เก็บ kaggle.json"
      ]
    },
    {
      "cell_type": "markdown",
      "metadata": {
        "colab_type": "text",
        "id": "3xwILAZXUBx-"
      },
      "source": [
        "ในกรณีใช้ Colab ให้ Mount Google Drive เพื่อดึง Config File มาจาก Google Drive ส่วนตัวของเรา เมื่อเรารัน Cell ด้านล่างจะมีลิงค์ปรากฎขึ้นมาให้เรา Login กด Approve แล้ว Copy Authorization Code มาใส่ในช่องด้านล่าง แล้วกด Enter"
      ]
    },
    {
      "cell_type": "code",
      "metadata": {
        "colab_type": "code",
        "id": "N7_7Mxaw8jfO",
        "colab": {}
      },
      "source": [
        "dataset = 'alexisbcook/geospatial-learn-course-data'\n",
        "\n",
        "## Google Colab\n",
        "# config_path = '/content/drive'\n",
        "# data_path = '/content/datasets/' + dataset\n",
        "# from google.colab import drive\n",
        "# drive.mount(config_path)\n",
        "# os.environ['KAGGLE_CONFIG_DIR'] = f\"{config_path}/My Drive/.kaggle\"\n",
        "\n",
        "## VM\n",
        "config_path = Path(os.getenv(\"HOME\"))\n",
        "data_path = config_path/\"datasets\"/dataset\n",
        "data_path.mkdir(parents=True, exist_ok=True)\n",
        "os.environ['KAGGLE_CONFIG_DIR'] = f\"{config_path}/.kaggle\""
      ],
      "execution_count": 0,
      "outputs": []
    },
    {
      "cell_type": "markdown",
      "metadata": {
        "colab_type": "text",
        "id": "fjX_JnMaRRaM"
      },
      "source": [
        "# 3. Dataset"
      ]
    },
    {
      "cell_type": "markdown",
      "metadata": {
        "colab_type": "text",
        "id": "MhsZxRECNHv_"
      },
      "source": [
        "ในเคสนี้ เราจะสมมติตัวเองเป็น นักผังเมืองทางด้านความปลอดภัย ในประเทศญี่ปุ่น เราจะมาวิเคราะห์กันว่าพื้นที่ไหนของญี่ปุ่น ต้องการเสริมกำลังป้องกันสาธาณภัยทางด้านแผ่นดินไหวเป็นพิเศษ เสริมโครงสร้างอาคารป้องกันแผ่นดินไหวเป็นพิเศษ โดยดูว่า ในบริเวณไหนของญี่ปุ่น ที่เกิดแผ่นดินไหวบ่อย ๆ และมีประชากรอยู่อาศัยหนาแน่น "
      ]
    },
    {
      "cell_type": "markdown",
      "metadata": {
        "colab_type": "text",
        "id": "Mtf3SFWCUYpu"
      },
      "source": [
        "สั่งดาวน์โหลด Dataset จาก Kaggle พร้อมทั้ง unzip ไว้ใน data_path"
      ]
    },
    {
      "cell_type": "code",
      "metadata": {
        "colab_type": "code",
        "id": "DWVg-d8V4kRq",
        "outputId": "ccd12f64-edbf-4d47-a2b0-f63f791e42a3",
        "colab": {
          "base_uri": "https://localhost:8080/",
          "height": 68
        }
      },
      "source": [
        "!kaggle datasets download {dataset} -p \"{data_path}\" --unzip"
      ],
      "execution_count": 0,
      "outputs": [
        {
          "output_type": "stream",
          "text": [
            "Downloading geospatial-learn-course-data.zip to /home/jupyter/datasets/alexisbcook/geospatial-learn-course-data\n",
            " 93%|█████████████████████████████████████▏  | 217M/233M [00:03<00:00, 73.3MB/s]\n",
            "100%|████████████████████████████████████████| 233M/233M [00:03<00:00, 72.3MB/s]\n"
          ],
          "name": "stdout"
        }
      ]
    },
    {
      "cell_type": "markdown",
      "metadata": {
        "colab_type": "text",
        "id": "D8wM0M4t181a"
      },
      "source": [
        "ลองโหลด Shape File ของเปลือกโลกภาคพื้นทวีป ขึ้นมาแสดง 5 แถวแรก โดยแปลง Feature coordinates จาก Feature geometry coords"
      ]
    },
    {
      "cell_type": "code",
      "metadata": {
        "colab_type": "code",
        "id": "OKRXOb06rpbY",
        "outputId": "611c8136-cc5a-462d-e999-b19d93d8fb08",
        "colab": {
          "base_uri": "https://localhost:8080/",
          "height": 204
        }
      },
      "source": [
        "plate_boundaries = gpd.read_file(data_path/\"Plate_Boundaries/Plate_Boundaries/Plate_Boundaries.shp\")\n",
        "plate_boundaries['coordinates'] = plate_boundaries.apply(lambda x: [(b,a) for (a,b) in list(x.geometry.coords)], axis='columns')\n",
        "plate_boundaries.drop('geometry', axis=1, inplace=True)\n",
        "\n",
        "plate_boundaries.head()"
      ],
      "execution_count": 0,
      "outputs": [
        {
          "output_type": "execute_result",
          "data": {
            "text/html": [
              "<div>\n",
              "<style scoped>\n",
              "    .dataframe tbody tr th:only-of-type {\n",
              "        vertical-align: middle;\n",
              "    }\n",
              "\n",
              "    .dataframe tbody tr th {\n",
              "        vertical-align: top;\n",
              "    }\n",
              "\n",
              "    .dataframe thead th {\n",
              "        text-align: right;\n",
              "    }\n",
              "</style>\n",
              "<table border=\"1\" class=\"dataframe\">\n",
              "  <thead>\n",
              "    <tr style=\"text-align: right;\">\n",
              "      <th></th>\n",
              "      <th>HAZ_PLATES</th>\n",
              "      <th>HAZ_PLAT_1</th>\n",
              "      <th>HAZ_PLAT_2</th>\n",
              "      <th>Shape_Leng</th>\n",
              "      <th>coordinates</th>\n",
              "    </tr>\n",
              "  </thead>\n",
              "  <tbody>\n",
              "    <tr>\n",
              "      <th>0</th>\n",
              "      <td>TRENCH</td>\n",
              "      <td>SERAM TROUGH (ACTIVE)</td>\n",
              "      <td>6722</td>\n",
              "      <td>5.843467</td>\n",
              "      <td>[(-5.444200361999947, 133.6808931800001), (-5....</td>\n",
              "    </tr>\n",
              "    <tr>\n",
              "      <th>1</th>\n",
              "      <td>TRENCH</td>\n",
              "      <td>WETAR THRUST</td>\n",
              "      <td>6722</td>\n",
              "      <td>1.829013</td>\n",
              "      <td>[(-7.760600482999962, 125.47879802900002), (-7...</td>\n",
              "    </tr>\n",
              "    <tr>\n",
              "      <th>2</th>\n",
              "      <td>TRENCH</td>\n",
              "      <td>TRENCH WEST OF LUZON (MANILA TRENCH) NORTHERN ...</td>\n",
              "      <td>6621</td>\n",
              "      <td>6.743604</td>\n",
              "      <td>[(19.817899819000047, 120.09999798800004), (19...</td>\n",
              "    </tr>\n",
              "    <tr>\n",
              "      <th>3</th>\n",
              "      <td>TRENCH</td>\n",
              "      <td>BONIN TRENCH</td>\n",
              "      <td>9821</td>\n",
              "      <td>8.329381</td>\n",
              "      <td>[(26.175899215000072, 143.20620700100005), (26...</td>\n",
              "    </tr>\n",
              "    <tr>\n",
              "      <th>4</th>\n",
              "      <td>TRENCH</td>\n",
              "      <td>NEW GUINEA TRENCH</td>\n",
              "      <td>8001</td>\n",
              "      <td>11.998145</td>\n",
              "      <td>[(0.41880004000006466, 132.8273013480001), (0....</td>\n",
              "    </tr>\n",
              "  </tbody>\n",
              "</table>\n",
              "</div>"
            ],
            "text/plain": [
              "  HAZ_PLATES                                         HAZ_PLAT_1  HAZ_PLAT_2  \\\n",
              "0     TRENCH                              SERAM TROUGH (ACTIVE)        6722   \n",
              "1     TRENCH                                       WETAR THRUST        6722   \n",
              "2     TRENCH  TRENCH WEST OF LUZON (MANILA TRENCH) NORTHERN ...        6621   \n",
              "3     TRENCH                                       BONIN TRENCH        9821   \n",
              "4     TRENCH                                  NEW GUINEA TRENCH        8001   \n",
              "\n",
              "   Shape_Leng                                        coordinates  \n",
              "0    5.843467  [(-5.444200361999947, 133.6808931800001), (-5....  \n",
              "1    1.829013  [(-7.760600482999962, 125.47879802900002), (-7...  \n",
              "2    6.743604  [(19.817899819000047, 120.09999798800004), (19...  \n",
              "3    8.329381  [(26.175899215000072, 143.20620700100005), (26...  \n",
              "4   11.998145  [(0.41880004000006466, 132.8273013480001), (0....  "
            ]
          },
          "metadata": {
            "tags": []
          },
          "execution_count": 6
        }
      ]
    },
    {
      "cell_type": "markdown",
      "metadata": {
        "colab_type": "text",
        "id": "jPFObY3tD4PD"
      },
      "source": [
        "โหลดข้อมูลแผ่นดินไหวทั่วโลก ตั้งแต่ปี 1970-2014 แล้วแสดง 5 แถวแรก"
      ]
    },
    {
      "cell_type": "code",
      "metadata": {
        "colab_type": "code",
        "id": "xg45sz-Vrt5x",
        "outputId": "218ad47f-15f8-48b7-8fe5-d4a7e5223992",
        "colab": {
          "base_uri": "https://localhost:8080/",
          "height": 204
        }
      },
      "source": [
        "earthquakes = pd.read_csv(data_path/\"earthquakes1970-2014.csv\", parse_dates=[\"DateTime\"])\n",
        "earthquakes.head()"
      ],
      "execution_count": 0,
      "outputs": [
        {
          "output_type": "execute_result",
          "data": {
            "text/html": [
              "<div>\n",
              "<style scoped>\n",
              "    .dataframe tbody tr th:only-of-type {\n",
              "        vertical-align: middle;\n",
              "    }\n",
              "\n",
              "    .dataframe tbody tr th {\n",
              "        vertical-align: top;\n",
              "    }\n",
              "\n",
              "    .dataframe thead th {\n",
              "        text-align: right;\n",
              "    }\n",
              "</style>\n",
              "<table border=\"1\" class=\"dataframe\">\n",
              "  <thead>\n",
              "    <tr style=\"text-align: right;\">\n",
              "      <th></th>\n",
              "      <th>DateTime</th>\n",
              "      <th>Latitude</th>\n",
              "      <th>Longitude</th>\n",
              "      <th>Depth</th>\n",
              "      <th>Magnitude</th>\n",
              "      <th>MagType</th>\n",
              "      <th>NbStations</th>\n",
              "      <th>Gap</th>\n",
              "      <th>Distance</th>\n",
              "      <th>RMS</th>\n",
              "      <th>Source</th>\n",
              "      <th>EventID</th>\n",
              "    </tr>\n",
              "  </thead>\n",
              "  <tbody>\n",
              "    <tr>\n",
              "      <th>0</th>\n",
              "      <td>1970-01-04 17:00:40.200</td>\n",
              "      <td>24.139</td>\n",
              "      <td>102.503</td>\n",
              "      <td>31.0</td>\n",
              "      <td>7.5</td>\n",
              "      <td>Ms</td>\n",
              "      <td>90.0</td>\n",
              "      <td>NaN</td>\n",
              "      <td>NaN</td>\n",
              "      <td>0.0</td>\n",
              "      <td>NEI</td>\n",
              "      <td>1.970010e+09</td>\n",
              "    </tr>\n",
              "    <tr>\n",
              "      <th>1</th>\n",
              "      <td>1970-01-06 05:35:51.800</td>\n",
              "      <td>-9.628</td>\n",
              "      <td>151.458</td>\n",
              "      <td>8.0</td>\n",
              "      <td>6.2</td>\n",
              "      <td>Ms</td>\n",
              "      <td>85.0</td>\n",
              "      <td>NaN</td>\n",
              "      <td>NaN</td>\n",
              "      <td>0.0</td>\n",
              "      <td>NEI</td>\n",
              "      <td>1.970011e+09</td>\n",
              "    </tr>\n",
              "    <tr>\n",
              "      <th>2</th>\n",
              "      <td>1970-01-08 17:12:39.100</td>\n",
              "      <td>-34.741</td>\n",
              "      <td>178.568</td>\n",
              "      <td>179.0</td>\n",
              "      <td>6.1</td>\n",
              "      <td>Mb</td>\n",
              "      <td>59.0</td>\n",
              "      <td>NaN</td>\n",
              "      <td>NaN</td>\n",
              "      <td>0.0</td>\n",
              "      <td>NEI</td>\n",
              "      <td>1.970011e+09</td>\n",
              "    </tr>\n",
              "    <tr>\n",
              "      <th>3</th>\n",
              "      <td>1970-01-10 12:07:08.600</td>\n",
              "      <td>6.825</td>\n",
              "      <td>126.737</td>\n",
              "      <td>73.0</td>\n",
              "      <td>6.1</td>\n",
              "      <td>Mb</td>\n",
              "      <td>91.0</td>\n",
              "      <td>NaN</td>\n",
              "      <td>NaN</td>\n",
              "      <td>0.0</td>\n",
              "      <td>NEI</td>\n",
              "      <td>1.970011e+09</td>\n",
              "    </tr>\n",
              "    <tr>\n",
              "      <th>4</th>\n",
              "      <td>1970-01-16 08:05:39.000</td>\n",
              "      <td>60.280</td>\n",
              "      <td>-152.660</td>\n",
              "      <td>85.0</td>\n",
              "      <td>6.0</td>\n",
              "      <td>ML</td>\n",
              "      <td>0.0</td>\n",
              "      <td>NaN</td>\n",
              "      <td>NaN</td>\n",
              "      <td>NaN</td>\n",
              "      <td>AK</td>\n",
              "      <td>NaN</td>\n",
              "    </tr>\n",
              "  </tbody>\n",
              "</table>\n",
              "</div>"
            ],
            "text/plain": [
              "                 DateTime  Latitude  Longitude  Depth  Magnitude MagType  \\\n",
              "0 1970-01-04 17:00:40.200    24.139    102.503   31.0        7.5      Ms   \n",
              "1 1970-01-06 05:35:51.800    -9.628    151.458    8.0        6.2      Ms   \n",
              "2 1970-01-08 17:12:39.100   -34.741    178.568  179.0        6.1      Mb   \n",
              "3 1970-01-10 12:07:08.600     6.825    126.737   73.0        6.1      Mb   \n",
              "4 1970-01-16 08:05:39.000    60.280   -152.660   85.0        6.0      ML   \n",
              "\n",
              "   NbStations  Gap  Distance  RMS Source       EventID  \n",
              "0        90.0  NaN       NaN  0.0    NEI  1.970010e+09  \n",
              "1        85.0  NaN       NaN  0.0    NEI  1.970011e+09  \n",
              "2        59.0  NaN       NaN  0.0    NEI  1.970011e+09  \n",
              "3        91.0  NaN       NaN  0.0    NEI  1.970011e+09  \n",
              "4         0.0  NaN       NaN  NaN     AK           NaN  "
            ]
          },
          "metadata": {
            "tags": []
          },
          "execution_count": 7
        }
      ]
    },
    {
      "cell_type": "markdown",
      "metadata": {
        "colab_type": "text",
        "id": "8yj55vMtDAQa"
      },
      "source": [
        "เนื่องจาก folium บน Colab เมื่อ Data เยอะเกินจะ Error เราจะจำกัดอยู่ที่ไม่เกิน 3000 Records "
      ]
    },
    {
      "cell_type": "code",
      "metadata": {
        "colab_type": "code",
        "id": "DRLRuRjQCvcg",
        "colab": {}
      },
      "source": [
        "## Colab\n",
        "# earthquakes = earthquakes.sample(3000)"
      ],
      "execution_count": 0,
      "outputs": []
    },
    {
      "cell_type": "markdown",
      "metadata": {
        "colab_type": "text",
        "id": "p_qNdgnbruIv"
      },
      "source": [
        "ประกาศฟังก์ชันในการแสดงแผนที่โดยใช้ HTML iframe แต่ Colab ไม่ Support iframe เราจะ return Map ออกไปเลย"
      ]
    },
    {
      "cell_type": "code",
      "metadata": {
        "colab_type": "code",
        "id": "T3E_jS42F8ru",
        "colab": {}
      },
      "source": [
        "from IPython.display import IFrame, HTML\n",
        "\n",
        "def embed_map(m, file_name):    \n",
        "    ## VM\n",
        "    m.save(file_name)\n",
        "    return IFrame(src=file_name, width='100%', height='500px')\n",
        "    # # Colab\n",
        "    # return m"
      ],
      "execution_count": 0,
      "outputs": []
    },
    {
      "cell_type": "markdown",
      "metadata": {
        "colab_type": "text",
        "id": "q7K_wgN3JgAt"
      },
      "source": [
        "# 4. พล็อตแผนที่ และวิเคราะห์"
      ]
    },
    {
      "cell_type": "markdown",
      "metadata": {
        "colab_type": "text",
        "id": "42XTj2s8O4ie"
      },
      "source": [
        "## 4.1 จริงหรือไม่ ที่ แผ่นดินไหว มักจะเกิดแถว ๆ รอยต่อเปลือกโลกภาคพื้นทวีป"
      ]
    },
    {
      "cell_type": "markdown",
      "metadata": {
        "colab_type": "text",
        "id": "tz4uTLD_LtKd"
      },
      "source": [
        "สร้าง Base Map ด้วย เปลือกโลกภาคพื้นทวีป และ เพิ่ม Heat Map ตามความหนาแน่นของจุดที่เกิดแผ่นดินไหว"
      ]
    },
    {
      "cell_type": "code",
      "metadata": {
        "id": "rRy8zuJ4ruOM",
        "colab_type": "code",
        "colab": {}
      },
      "source": [
        "# Create a base map with plate boundaries\n",
        "m_1 = folium.Map(location=[35,136], tiles='cartodbpositron', zoom_start=5)\n",
        "for i in range(len(plate_boundaries)):\n",
        "    folium.PolyLine(locations=plate_boundaries.coordinates.iloc[i], weight=2, color='black').add_to(m_1)\n",
        "\n",
        "# Add a heatmap to the map\n",
        "HeatMap(data=earthquakes[['Latitude', 'Longitude']], radius=15).add_to(m_1)\n",
        "\n",
        "# Show the map\n",
        "embed_map(m_1, 'm_1.html')"
      ],
      "execution_count": 0,
      "outputs": []
    },
    {
      "cell_type": "markdown",
      "metadata": {
        "colab_type": "text",
        "id": "eNGuJIhrsH6E"
      },
      "source": [
        "<!--- สำหรับแสดงบนเว็บไซต์ -->\n",
        "<iframe width=\"100%\" height=\"500\" src=\"https://www.bualabs.com/wp-content/uploads/2019/10/m_1.html\" frameborder=\"0\" allowfullscreen></iframe>"
      ]
    },
    {
      "cell_type": "markdown",
      "metadata": {
        "colab_type": "text",
        "id": "xyvEWtJXPZ07"
      },
      "source": [
        "จาก Heat Map ด้านบน จะเห็นว่า แผ่นดินไหว มักจะเกิดแถว ๆ รอยต่อเปลือกโลกภาคพื้นทวีป จริง"
      ]
    },
    {
      "cell_type": "markdown",
      "metadata": {
        "colab_type": "text",
        "id": "Rzv9bL-xMCLX"
      },
      "source": [
        "## 4.2. ความลึก กับระยะห่างจากรอยต่อเปลือกโลกภาคพื้นทวีป ของแผ่นดินไหว มีความสัมพันธ์กันอย่างไร"
      ]
    },
    {
      "cell_type": "markdown",
      "metadata": {
        "colab_type": "text",
        "id": "fb1jYw9iMhCm"
      },
      "source": [
        "เราทราบมาว่า ความลึกของแผ่นดินไหว สามารถช่วยให้เรารู้โครงสร้างภายในของโลกได้ เราจะมาวิเคราะห์รูปแบบการของความลึกของแผ่นดินไหวที่เกิดในประเทศญี่ปุ่น\n",
        "\n",
        "เราจะพล็อตรอยแยกเปลือกโลก เป็นสีดำ และพล็อตจุดที่เกิดแผ่นดินไหว เป็นวงกลมทีมีสีตามความลึก"
      ]
    },
    {
      "cell_type": "code",
      "metadata": {
        "id": "gfOVK0gzsICV",
        "colab_type": "code",
        "colab": {}
      },
      "source": [
        "# Create a base map with plate boundaries\n",
        "m_2 = folium.Map(location=[35,136], tiles='cartodbpositron', zoom_start=5)\n",
        "\n",
        "for i in range(len(plate_boundaries)):\n",
        "    folium.PolyLine(locations=plate_boundaries.coordinates.iloc[i], weight=2, color='black').add_to(m_2)\n",
        "    \n",
        "earthquakes['marker_color'] = pd.cut(earthquakes['Depth'], bins=4, \n",
        "                              labels=['yellow', 'orange', 'red', 'purple'])\n",
        "\n",
        "# Add a map to visualize earthquake depth\n",
        "for idx, e in earthquakes.iterrows():\n",
        "    Circle(location=[e['Latitude'], e['Longitude']], radius=15000, color=e['marker_color']).add_to(m_2)    \n",
        "\n",
        "embed_map(m_2, 'm_2.html')"
      ],
      "execution_count": 0,
      "outputs": []
    },
    {
      "cell_type": "markdown",
      "metadata": {
        "colab_type": "text",
        "id": "aiFa_pQqARKt"
      },
      "source": [
        "<!--- สำหรับแสดงบนเว็บไซต์ -->\n",
        "<iframe width=\"100%\" height=\"500\" src=\"https://www.bualabs.com/wp-content/uploads/2019/10/m_2.html\" frameborder=\"0\" allowfullscreen></iframe>"
      ]
    },
    {
      "cell_type": "markdown",
      "metadata": {
        "colab_type": "text",
        "id": "iDuVONk9tL_H"
      },
      "source": [
        "ในภาคเหนือของประเทศญี่ปุ่น ปรากฎว่าแผ่นดินไหวที่ใกล้กับรอยต่อเปลือกโลกภาคพื้นทวีป มักจะไม่ค่อยลึก แต่แผ่นดินไหวที่ห่างจากรอยต่อออกไป จะลึกกว่า รูปแบบการเกิดแผ่นดินไหวแบบนี้ สามารถพบได้ในที่อื่น ๆ อีก เช่น ชายฝั่งตะวันตกของอเมริกาใต้ แต่ก็ไม่ได้พบในทุกที่เสมอไป เช่น จีน มองโกลเลีย และรัสเซีย"
      ]
    },
    {
      "cell_type": "markdown",
      "metadata": {
        "colab_type": "text",
        "id": "m7ABKm5MsIJE"
      },
      "source": [
        "## 4.3 จังหวัดไหน ในประเทศญี่ปุ่น ที่มีประชากรอาศัยอยู่เป็นจำนวนมาก\n",
        "\n"
      ]
    },
    {
      "cell_type": "markdown",
      "metadata": {
        "colab_type": "text",
        "id": "SKGlrXsJS8BT"
      },
      "source": [
        "โหลดข้อมูลขอบเขตจังหวัดของประเทศญี่ปุ่น"
      ]
    },
    {
      "cell_type": "code",
      "metadata": {
        "colab_type": "code",
        "id": "gOMof6ZvsIPf",
        "outputId": "6affb684-ac78-424a-89be-c3b3ffb0142f",
        "colab": {
          "base_uri": "https://localhost:8080/",
          "height": 235
        }
      },
      "source": [
        "prefectures = gpd.read_file(data_path/\"japan-prefecture-boundaries/japan-prefecture-boundaries/japan-prefecture-boundaries.shp\")\n",
        "prefectures.set_index('prefecture', inplace=True)\n",
        "prefectures.head()"
      ],
      "execution_count": 0,
      "outputs": [
        {
          "output_type": "execute_result",
          "data": {
            "text/html": [
              "<div>\n",
              "<style scoped>\n",
              "    .dataframe tbody tr th:only-of-type {\n",
              "        vertical-align: middle;\n",
              "    }\n",
              "\n",
              "    .dataframe tbody tr th {\n",
              "        vertical-align: top;\n",
              "    }\n",
              "\n",
              "    .dataframe thead th {\n",
              "        text-align: right;\n",
              "    }\n",
              "</style>\n",
              "<table border=\"1\" class=\"dataframe\">\n",
              "  <thead>\n",
              "    <tr style=\"text-align: right;\">\n",
              "      <th></th>\n",
              "      <th>geometry</th>\n",
              "    </tr>\n",
              "    <tr>\n",
              "      <th>prefecture</th>\n",
              "      <th></th>\n",
              "    </tr>\n",
              "  </thead>\n",
              "  <tbody>\n",
              "    <tr>\n",
              "      <th>Aichi</th>\n",
              "      <td>MULTIPOLYGON (((137.09523 34.65330, 137.09546 ...</td>\n",
              "    </tr>\n",
              "    <tr>\n",
              "      <th>Akita</th>\n",
              "      <td>MULTIPOLYGON (((139.55725 39.20330, 139.55765 ...</td>\n",
              "    </tr>\n",
              "    <tr>\n",
              "      <th>Aomori</th>\n",
              "      <td>MULTIPOLYGON (((141.39860 40.92472, 141.39806 ...</td>\n",
              "    </tr>\n",
              "    <tr>\n",
              "      <th>Chiba</th>\n",
              "      <td>MULTIPOLYGON (((139.82488 34.98967, 139.82434 ...</td>\n",
              "    </tr>\n",
              "    <tr>\n",
              "      <th>Ehime</th>\n",
              "      <td>MULTIPOLYGON (((132.55859 32.91224, 132.55904 ...</td>\n",
              "    </tr>\n",
              "  </tbody>\n",
              "</table>\n",
              "</div>"
            ],
            "text/plain": [
              "                                                     geometry\n",
              "prefecture                                                   \n",
              "Aichi       MULTIPOLYGON (((137.09523 34.65330, 137.09546 ...\n",
              "Akita       MULTIPOLYGON (((139.55725 39.20330, 139.55765 ...\n",
              "Aomori      MULTIPOLYGON (((141.39860 40.92472, 141.39806 ...\n",
              "Chiba       MULTIPOLYGON (((139.82488 34.98967, 139.82434 ...\n",
              "Ehime       MULTIPOLYGON (((132.55859 32.91224, 132.55904 ..."
            ]
          },
          "metadata": {
            "tags": []
          },
          "execution_count": 13
        }
      ]
    },
    {
      "cell_type": "markdown",
      "metadata": {
        "colab_type": "text",
        "id": "vqJfdQNlTBRf"
      },
      "source": [
        "โหลดข้อมูลจำนวนประชากร หาขนาดพื้นที่ ด้วย epsg=32654 แล้วนำมาหารจำนวนประชากร เพื่อคำนวนความหนาแน่นของประชาการ ต่อตารางกิโลเมตร"
      ]
    },
    {
      "cell_type": "code",
      "metadata": {
        "colab_type": "code",
        "id": "cTtAaVC6sIV0",
        "outputId": "fe98633f-dadc-45da-d5a6-b75cca9c4116",
        "colab": {
          "base_uri": "https://localhost:8080/",
          "height": 235
        }
      },
      "source": [
        "# DataFrame containing population of each prefecture\n",
        "population = pd.read_csv(data_path/\"japan-prefecture-population.csv\")\n",
        "population.set_index('prefecture', inplace=True)\n",
        "\n",
        "# Calculate area (in square kilometers) of each prefecture\n",
        "area_sqkm = pd.Series(prefectures.geometry.to_crs(epsg=32654).area / 10**6, name='area_sqkm')\n",
        "stats = population.join(area_sqkm)\n",
        "\n",
        "# Add density (per square kilometer) of each prefecture\n",
        "stats['density'] = stats[\"population\"] / stats[\"area_sqkm\"]\n",
        "stats.head()"
      ],
      "execution_count": 0,
      "outputs": [
        {
          "output_type": "execute_result",
          "data": {
            "text/html": [
              "<div>\n",
              "<style scoped>\n",
              "    .dataframe tbody tr th:only-of-type {\n",
              "        vertical-align: middle;\n",
              "    }\n",
              "\n",
              "    .dataframe tbody tr th {\n",
              "        vertical-align: top;\n",
              "    }\n",
              "\n",
              "    .dataframe thead th {\n",
              "        text-align: right;\n",
              "    }\n",
              "</style>\n",
              "<table border=\"1\" class=\"dataframe\">\n",
              "  <thead>\n",
              "    <tr style=\"text-align: right;\">\n",
              "      <th></th>\n",
              "      <th>population</th>\n",
              "      <th>area_sqkm</th>\n",
              "      <th>density</th>\n",
              "    </tr>\n",
              "    <tr>\n",
              "      <th>prefecture</th>\n",
              "      <th></th>\n",
              "      <th></th>\n",
              "      <th></th>\n",
              "    </tr>\n",
              "  </thead>\n",
              "  <tbody>\n",
              "    <tr>\n",
              "      <th>Tokyo</th>\n",
              "      <td>12868000</td>\n",
              "      <td>1800.614782</td>\n",
              "      <td>7146.448049</td>\n",
              "    </tr>\n",
              "    <tr>\n",
              "      <th>Kanagawa</th>\n",
              "      <td>8943000</td>\n",
              "      <td>2383.038975</td>\n",
              "      <td>3752.771186</td>\n",
              "    </tr>\n",
              "    <tr>\n",
              "      <th>Osaka</th>\n",
              "      <td>8801000</td>\n",
              "      <td>1923.151529</td>\n",
              "      <td>4576.342460</td>\n",
              "    </tr>\n",
              "    <tr>\n",
              "      <th>Aichi</th>\n",
              "      <td>7418000</td>\n",
              "      <td>5164.400005</td>\n",
              "      <td>1436.372085</td>\n",
              "    </tr>\n",
              "    <tr>\n",
              "      <th>Saitama</th>\n",
              "      <td>7130000</td>\n",
              "      <td>3794.036890</td>\n",
              "      <td>1879.264806</td>\n",
              "    </tr>\n",
              "  </tbody>\n",
              "</table>\n",
              "</div>"
            ],
            "text/plain": [
              "            population    area_sqkm      density\n",
              "prefecture                                      \n",
              "Tokyo         12868000  1800.614782  7146.448049\n",
              "Kanagawa       8943000  2383.038975  3752.771186\n",
              "Osaka          8801000  1923.151529  4576.342460\n",
              "Aichi          7418000  5164.400005  1436.372085\n",
              "Saitama        7130000  3794.036890  1879.264806"
            ]
          },
          "metadata": {
            "tags": []
          },
          "execution_count": 14
        }
      ]
    },
    {
      "cell_type": "markdown",
      "metadata": {
        "colab_type": "text",
        "id": "s99dK1scTXXs"
      },
      "source": [
        "พล็อตแผนที่ Choropleth เพื่อ Visualize ความหนาแน่นของประชากร รายจังหวัด"
      ]
    },
    {
      "cell_type": "code",
      "metadata": {
        "id": "pfXEOJHosIbD",
        "colab_type": "code",
        "colab": {}
      },
      "source": [
        "# Create a base map\n",
        "m_3 = folium.Map(location=[35,136], tiles='cartodbpositron', zoom_start=5)\n",
        "\n",
        "# create a choropleth map to visualize population density\n",
        "Choropleth(geo_data=prefectures.__geo_interface__, data=stats.density, key_on='feature.id', \n",
        "           fill_color='YlGnBu', \n",
        "           legend_name='population density').add_to(m_3)\n",
        "\n",
        "embed_map(m_3, 'm_3.html')"
      ],
      "execution_count": 0,
      "outputs": []
    },
    {
      "cell_type": "markdown",
      "metadata": {
        "colab_type": "text",
        "id": "XmCsAFohARLB"
      },
      "source": [
        "<!--- สำหรับแสดงบนเว็บไซต์ -->\n",
        "<iframe width=\"100%\" height=\"500\" src=\"https://www.bualabs.com/wp-content/uploads/2019/10/m_3.html\" frameborder=\"0\" allowfullscreen></iframe>"
      ]
    },
    {
      "cell_type": "markdown",
      "metadata": {
        "colab_type": "text",
        "id": "R7EyaqCIs0Le"
      },
      "source": [
        "จังหวัดไหนของประเทศญี่ปุ่น ที่มีความหนาแน่นของประชากรสูงกว่าจังหวัดอื่น ประชากรได้อาศัยกระจายกันไปทั่วประเทศ หรือมักจะอยู่ในพื้นที่เดียวกัน?\n",
        "\n",
        "โตเกียว คานากาว่า และโอซาก้า คือจังหวัดที่มีความหนาแน่นสูงสุด ทั่งหมดอยู่ในภาคกลางของประเทศ "
      ]
    },
    {
      "cell_type": "markdown",
      "metadata": {
        "colab_type": "text",
        "id": "f7wbVWtCscs4"
      },
      "source": [
        "## 4.4 จังหวัดไหนที่มีประชากรหนาแน่น และเสี่ยงต่อแผนดินไหว"
      ]
    },
    {
      "cell_type": "markdown",
      "metadata": {
        "colab_type": "text",
        "id": "5C1e4PzkUgzr"
      },
      "source": [
        "พล็อตแผนที่ Base Map และแผนที่ Choropleth ความหนาแน่นของประชากร รายจังหวัด\n",
        "\n",
        "และเราจะพล็อตแผ่นดินไหว เป็นวงกลมที่มีสีและขนาด ตามความขนาดความแรงของแผ่นดินไหว"
      ]
    },
    {
      "cell_type": "code",
      "metadata": {
        "id": "sLWWVBVisczX",
        "colab_type": "code",
        "colab": {}
      },
      "source": [
        "# Create a base map\n",
        "m_4 = folium.Map(location=[35,136], tiles='cartodbpositron', zoom_start=5)\n",
        "\n",
        "# create a map\n",
        "Choropleth(geo_data=prefectures.geometry.__geo_interface__, data=stats.density, key_on='feature.id', \n",
        "           fill_color='BuPu', \n",
        "           legend_name='population density and earthquake magnitude').add_to(m_4)\n",
        "\n",
        "earthquakes['marker_color'] = pd.cut(earthquakes['Magnitude'], bins=4, \n",
        "                              labels=['yellow', 'orange', 'red', 'purple'])\n",
        "\n",
        "# Add a map to visualize earthquake depth\n",
        "for idx, e in earthquakes.iterrows():    \n",
        "    Circle(location=[e['Latitude'], e['Longitude']], \n",
        "           popup=(\"{} ({})\").format(e['Magnitude'],e['DateTime'].year),\n",
        "           radius=e['Magnitude']**5.5,           \n",
        "           color=e['marker_color']).add_to(m_4)\n",
        "\n",
        "embed_map(m_4, 'm_4.html')"
      ],
      "execution_count": 0,
      "outputs": []
    },
    {
      "cell_type": "markdown",
      "metadata": {
        "colab_type": "text",
        "id": "MHoDv5ylARLL"
      },
      "source": [
        "<!--- สำหรับแสดงบนเว็บไซต์ -->\n",
        "<iframe width=\"100%\" height=\"500\" src=\"https://www.bualabs.com/wp-content/uploads/2019/10/m_4.html\" frameborder=\"0\" allowfullscreen></iframe>"
      ]
    },
    {
      "cell_type": "markdown",
      "metadata": {
        "colab_type": "text",
        "id": "jGhaLzK6sc5A"
      },
      "source": [
        "# สรุป\n",
        "\n",
        "จังหวัดไหนที่ต้องเสริมการรองรับแผ่นดินไหวเป็นพิเศษ? จากข้อมูลที่มี เราไม่สามารถตอบได้อย่างชัดเจน \n",
        "\n",
        "* โตเกียว เป็นจังหวัดที่มีความหนาแน่นประชากรสูงที่สุด และก็ประสบปัญหาแผ่นดินไหวอยู่เป็นระยะ \n",
        "* จังหวัดโอซาก้ามีประชากรน้อยกว่า แต่มักจะเกิดแผ่นดินไหว ที่รุนแรงกว่าแถว ๆ โตเกียว \n",
        "* ชายฝั่งแถบจังหวัดคานากาว่า ที่มีความหนาแน่นประชากรค่อนข้างมาก และมักจะเกิดแผ่นดินไหวที่ค่อนข้างรุนแรง ส่งผลให้มีความกังวลเกี่ยวกับความเสี่ยงที่จะเกิดคลื่นยักษ์สึนามิ"
      ]
    },
    {
      "cell_type": "markdown",
      "metadata": {
        "colab_type": "text",
        "id": "S7y_gRB6PtGu"
      },
      "source": [
        "# Credit"
      ]
    },
    {
      "cell_type": "markdown",
      "metadata": {
        "colab_type": "text",
        "id": "3g6kvdADPs1c"
      },
      "source": [
        "* https://www.kaggle.com/alexisbcook/interactive-maps\n",
        "* https://python-visualization.github.io/folium/modules.html\n",
        "* https://www.bualabs.com/archives/751/multi-label-image-classification-satellite-imagery-deep-learning-machine-learning-image-classification-ep-5/\n",
        "* https://en.wikipedia.org/wiki/Prefectures_of_Japan"
      ]
    },
    {
      "cell_type": "code",
      "metadata": {
        "colab_type": "code",
        "id": "EW1Ui-IhARLS",
        "colab": {}
      },
      "source": [
        ""
      ],
      "execution_count": 0,
      "outputs": []
    }
  ]
}