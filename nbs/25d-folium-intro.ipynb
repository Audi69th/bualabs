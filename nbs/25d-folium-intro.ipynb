{
  "nbformat": 4,
  "nbformat_minor": 0,
  "metadata": {
    "colab": {
      "name": "25d-folium-intro.ipynb",
      "provenance": []
    },
    "kernelspec": {
      "name": "python3",
      "display_name": "Python 3"
    }
  },
  "cells": [
    {
      "cell_type": "code",
      "metadata": {
        "id": "ZV9Hmj-83jDF",
        "colab_type": "code",
        "colab": {}
      },
      "source": [
        ""
      ],
      "execution_count": 0,
      "outputs": []
    },
    {
      "cell_type": "markdown",
      "metadata": {
        "colab_type": "text",
        "id": "H9CYDwQ9gQ2u"
      },
      "source": [
        "ใน ep นี้เราจะมาเรียนรู้การสร้างแผนที่ แบบ Interactive ที่สามารถ Zoom เข้าออก และลากไปมา ได้เหมือน Google Map โดยใช้ folium "
      ]
    },
    {
      "cell_type": "markdown",
      "metadata": {
        "colab_type": "text",
        "id": "Y7QjHJiKRD9N"
      },
      "source": [
        "# 0. Install"
      ]
    },
    {
      "cell_type": "markdown",
      "metadata": {
        "colab_type": "text",
        "id": "_qxIXpQqTmzD"
      },
      "source": [
        "เราจะต้อง Install kaggle เพื่อ Download Dataset, geopandas เพื่อใช้ในการวิเคราะห์ข้อมูล geospatial, folium เพื่อแสดงแผ่นที่ (ถ้ายังไม่ได้ Install ให้ uncomment)"
      ]
    },
    {
      "cell_type": "code",
      "metadata": {
        "colab_type": "code",
        "id": "rnpSo4UOwmES",
        "colab": {}
      },
      "source": [
        "# ! pip install geopandas\n",
        "# ! pip install git+https://github.com/python-visualization/folium\n",
        "# ! pip install kaggle --upgrade"
      ],
      "execution_count": 0,
      "outputs": []
    },
    {
      "cell_type": "markdown",
      "metadata": {
        "colab_type": "text",
        "id": "eIhjYw2SRB31"
      },
      "source": [
        "# 1. Import Library"
      ]
    },
    {
      "cell_type": "markdown",
      "metadata": {
        "colab_type": "text",
        "id": "EYelaC8QUiuP"
      },
      "source": [
        "Import folium Library เพื่อใช้ในการพล็อตแผนที่แบบ Interactive"
      ]
    },
    {
      "cell_type": "code",
      "metadata": {
        "colab_type": "code",
        "id": "mQfGtLVJwJL8",
        "colab": {}
      },
      "source": [
        "import pandas as pd\n",
        "import geopandas as gpd\n",
        "\n",
        "import folium\n",
        "from folium import *\n",
        "from folium.plugins import *\n",
        "\n",
        "import os\n",
        "from pathlib import Path"
      ],
      "execution_count": 0,
      "outputs": []
    },
    {
      "cell_type": "markdown",
      "metadata": {
        "colab_type": "text",
        "id": "p_qNdgnbruIv"
      },
      "source": [
        "ประกาศฟังก์ชันในการแสดงแผนที่โดยใช้ HTML iframe แต่ Colab ไม่ Support iframe เราจะ return Map ออกไปเลย"
      ]
    },
    {
      "cell_type": "code",
      "metadata": {
        "colab_type": "code",
        "id": "T3E_jS42F8ru",
        "colab": {}
      },
      "source": [
        "from IPython.display import IFrame, HTML\n",
        "\n",
        "def embed_map(m, file_name):    \n",
        "    # # VM\n",
        "    # m.save(file_name)\n",
        "    # return IFrame(src=file_name, width='100%', height='500px')\n",
        "\n",
        "    # Colab\n",
        "    return m"
      ],
      "execution_count": 0,
      "outputs": []
    },
    {
      "cell_type": "markdown",
      "metadata": {
        "colab_type": "text",
        "id": "hZBm5maPRLmi"
      },
      "source": [
        "# 2. เตรียม Path สำหรับดาวน์โหลดข้อมูล"
      ]
    },
    {
      "cell_type": "markdown",
      "metadata": {
        "colab_type": "text",
        "id": "9DBiIhGYT6VU"
      },
      "source": [
        "กำหนด path ของ Config File และ Dataset ว่าจะอยู่ใน Google Drive ถ้าเราใช้ Google Colab หรือ อยู่ใน HOME ถ้าเราใช้ VM ธรรมดา และกำหนด Environment Variable ไปยังโฟลเดอร์ที่เก็บ kaggle.json"
      ]
    },
    {
      "cell_type": "markdown",
      "metadata": {
        "colab_type": "text",
        "id": "3xwILAZXUBx-"
      },
      "source": [
        "ในกรณีใช้ Colab ให้ Mount Google Drive เพื่อดึง Config File มาจาก Google Drive ส่วนตัวของเรา เมื่อเรารัน Cell ด้านล่างจะมีลิงค์ปรากฎขึ้นมาให้เรา Login กด Approve แล้ว Copy Authorization Code มาใส่ในช่องด้านล่าง แล้วกด Enter"
      ]
    },
    {
      "cell_type": "code",
      "metadata": {
        "colab_type": "code",
        "id": "N7_7Mxaw8jfO",
        "colab": {
          "base_uri": "https://localhost:8080/",
          "height": 54
        },
        "outputId": "50bfeb2e-9895-48e7-dfaf-da408801f1cf"
      },
      "source": [
        "dataset = 'alexisbcook/geospatial-learn-course-data'\n",
        "\n",
        "# Google Colab\n",
        "config_path = Path('/content/drive')\n",
        "data_path = Path('/content/datasets/')/dataset\n",
        "from google.colab import drive\n",
        "drive.mount(str(config_path))\n",
        "os.environ['KAGGLE_CONFIG_DIR'] = f\"{config_path}/My Drive/.kaggle\"\n",
        "\n",
        "## VM\n",
        "# config_path = Path(os.getenv(\"HOME\"))\n",
        "# data_path = config_path/\"datasets\"/dataset\n",
        "# data_path.mkdir(parents=True, exist_ok=True)\n",
        "# os.environ['KAGGLE_CONFIG_DIR'] = f\"{config_path}/.kaggle\""
      ],
      "execution_count": 76,
      "outputs": [
        {
          "output_type": "stream",
          "text": [
            "Drive already mounted at /content/drive; to attempt to forcibly remount, call drive.mount(\"/content/drive\", force_remount=True).\n"
          ],
          "name": "stdout"
        }
      ]
    },
    {
      "cell_type": "markdown",
      "metadata": {
        "colab_type": "text",
        "id": "fjX_JnMaRRaM"
      },
      "source": [
        "# 3. Dataset"
      ]
    },
    {
      "cell_type": "markdown",
      "metadata": {
        "colab_type": "text",
        "id": "MhsZxRECNHv_"
      },
      "source": [
        "ในเคสนี้ เราจะสมมติตัวเองเป็น นักผังเมืองทางด้านความปลอดภัย ในประเทศญี่ปุ่น เราจะมาวิเคราะห์กันว่าพื้นที่ไหนของญี่ปุ่น ต้องการเสริมกำลังป้องกันสาธาณภัยทางด้านแผ่นดินไหวเป็นพิเศษ เสริมโครงสร้างอาคารป้องกันแผ่นดินไหวเป็นพิเศษ โดยดูว่า ในบริเวณไหนของญี่ปุ่น ที่เกิดแผ่นดินไหวบ่อย ๆ และมีประชากรอยู่อาศัยหนาแน่น "
      ]
    },
    {
      "cell_type": "markdown",
      "metadata": {
        "colab_type": "text",
        "id": "Mtf3SFWCUYpu"
      },
      "source": [
        "สั่งดาวน์โหลด Dataset จาก Kaggle พร้อมทั้ง unzip ไว้ใน data_path"
      ]
    },
    {
      "cell_type": "code",
      "metadata": {
        "colab_type": "code",
        "id": "DWVg-d8V4kRq",
        "outputId": "be8c05df-fbb5-4815-b81e-373299b8ed1a",
        "colab": {
          "base_uri": "https://localhost:8080/",
          "height": 68
        }
      },
      "source": [
        "!kaggle datasets download {dataset} -p \"{data_path}\" --unzip"
      ],
      "execution_count": 77,
      "outputs": [
        {
          "output_type": "stream",
          "text": [
            "Downloading geospatial-learn-course-data.zip to /content/datasets/alexisbcook/geospatial-learn-course-data\n",
            " 97% 226M/233M [00:01<00:00, 164MB/s]\n",
            "100% 233M/233M [00:01<00:00, 173MB/s]\n"
          ],
          "name": "stdout"
        }
      ]
    },
    {
      "cell_type": "markdown",
      "metadata": {
        "id": "-9a3w3CN4Zbr",
        "colab_type": "text"
      },
      "source": [
        "# 4. พล็อตแผนที่ Interactive Map"
      ]
    },
    {
      "cell_type": "markdown",
      "metadata": {
        "id": "WUvK_dX447GZ",
        "colab_type": "text"
      },
      "source": [
        "เราจะลองพล้อตแผนที่ ที่ไหนก็ได้ในโลก ในที่นี้ เราจะใช้พิกัดของเมือง Boston และ zoom_start เริ่มต้นที่ 10 โดยใช้ tiles ของ openstreetmap \n",
        "\n",
        "* location คือ พิกัดจุดกึ่งกลางของแผนที่\n",
        "* มี tiles รูปแบบอื่น ๆ อีกหลายอันให้เราได้เลือกใช้ เช่น openstreetmap, cartodbpositron, stamenterrain รายละเอียดเพิ่มเติมใน Credit ด้านล่าง\n",
        "* zoom_start หมายถึง กำลังขยายเริ่มต้นที่จะแสดงแผนที่"
      ]
    },
    {
      "cell_type": "code",
      "metadata": {
        "id": "-rfZVAKM4aIQ",
        "colab_type": "code",
        "colab": {}
      },
      "source": [
        "# Create a map\n",
        "m_1 = folium.Map(location=[42.32,-71.0589], tiles='openstreetmap', zoom_start=10)\n",
        "\n",
        "# Display the map\n",
        "embed_map(m_1, '25d-m_1.html')"
      ],
      "execution_count": 0,
      "outputs": []
    },
    {
      "cell_type": "markdown",
      "metadata": {
        "id": "PMyFDBJ-GS9i",
        "colab_type": "text"
      },
      "source": [
        "<!--- สำหรับแสดงบนเว็บไซต์ -->\n",
        "<iframe width=\"100%\" height=\"500\" src=\"https://www.bualabs.com/wp-content/uploads/2019/10/25d-m_1.html\" frameborder=\"0\" allowfullscreen></iframe>"
      ]
    },
    {
      "cell_type": "markdown",
      "metadata": {
        "id": "tRl0TZVA5kj9",
        "colab_type": "text"
      },
      "source": [
        "# 5. พล็อตจุดที่น่าสนใจ Plotting Points"
      ]
    },
    {
      "cell_type": "markdown",
      "metadata": {
        "id": "-1HXjwSUAp-P",
        "colab_type": "text"
      },
      "source": [
        "## 5.1 เตรียมข้อมูล"
      ]
    },
    {
      "cell_type": "markdown",
      "metadata": {
        "id": "3jhAiVjU6OyB",
        "colab_type": "text"
      },
      "source": [
        "เราจะใช้ Dataset อาชญากรรมในเมือง Boston"
      ]
    },
    {
      "cell_type": "code",
      "metadata": {
        "id": "6UscCkTB6O39",
        "colab_type": "code",
        "colab": {
          "base_uri": "https://localhost:8080/",
          "height": 309
        },
        "outputId": "976dfaf6-18a4-459f-ea4f-5120478e7040"
      },
      "source": [
        "crimes = pd.read_csv(data_path/\"crimes-in-boston/crimes-in-boston/crime.csv\", encoding='latin')\n",
        "\n",
        "crimes.head()"
      ],
      "execution_count": 79,
      "outputs": [
        {
          "output_type": "execute_result",
          "data": {
            "text/html": [
              "<div>\n",
              "<style scoped>\n",
              "    .dataframe tbody tr th:only-of-type {\n",
              "        vertical-align: middle;\n",
              "    }\n",
              "\n",
              "    .dataframe tbody tr th {\n",
              "        vertical-align: top;\n",
              "    }\n",
              "\n",
              "    .dataframe thead th {\n",
              "        text-align: right;\n",
              "    }\n",
              "</style>\n",
              "<table border=\"1\" class=\"dataframe\">\n",
              "  <thead>\n",
              "    <tr style=\"text-align: right;\">\n",
              "      <th></th>\n",
              "      <th>INCIDENT_NUMBER</th>\n",
              "      <th>OFFENSE_CODE</th>\n",
              "      <th>OFFENSE_CODE_GROUP</th>\n",
              "      <th>OFFENSE_DESCRIPTION</th>\n",
              "      <th>DISTRICT</th>\n",
              "      <th>REPORTING_AREA</th>\n",
              "      <th>SHOOTING</th>\n",
              "      <th>OCCURRED_ON_DATE</th>\n",
              "      <th>YEAR</th>\n",
              "      <th>MONTH</th>\n",
              "      <th>DAY_OF_WEEK</th>\n",
              "      <th>HOUR</th>\n",
              "      <th>UCR_PART</th>\n",
              "      <th>STREET</th>\n",
              "      <th>Lat</th>\n",
              "      <th>Long</th>\n",
              "      <th>Location</th>\n",
              "    </tr>\n",
              "  </thead>\n",
              "  <tbody>\n",
              "    <tr>\n",
              "      <th>0</th>\n",
              "      <td>I182070945</td>\n",
              "      <td>619</td>\n",
              "      <td>Larceny</td>\n",
              "      <td>LARCENY ALL OTHERS</td>\n",
              "      <td>D14</td>\n",
              "      <td>808</td>\n",
              "      <td>NaN</td>\n",
              "      <td>2018-09-02 13:00:00</td>\n",
              "      <td>2018</td>\n",
              "      <td>9</td>\n",
              "      <td>Sunday</td>\n",
              "      <td>13</td>\n",
              "      <td>Part One</td>\n",
              "      <td>LINCOLN ST</td>\n",
              "      <td>42.357791</td>\n",
              "      <td>-71.139371</td>\n",
              "      <td>(42.35779134, -71.13937053)</td>\n",
              "    </tr>\n",
              "    <tr>\n",
              "      <th>1</th>\n",
              "      <td>I182070943</td>\n",
              "      <td>1402</td>\n",
              "      <td>Vandalism</td>\n",
              "      <td>VANDALISM</td>\n",
              "      <td>C11</td>\n",
              "      <td>347</td>\n",
              "      <td>NaN</td>\n",
              "      <td>2018-08-21 00:00:00</td>\n",
              "      <td>2018</td>\n",
              "      <td>8</td>\n",
              "      <td>Tuesday</td>\n",
              "      <td>0</td>\n",
              "      <td>Part Two</td>\n",
              "      <td>HECLA ST</td>\n",
              "      <td>42.306821</td>\n",
              "      <td>-71.060300</td>\n",
              "      <td>(42.30682138, -71.06030035)</td>\n",
              "    </tr>\n",
              "    <tr>\n",
              "      <th>2</th>\n",
              "      <td>I182070941</td>\n",
              "      <td>3410</td>\n",
              "      <td>Towed</td>\n",
              "      <td>TOWED MOTOR VEHICLE</td>\n",
              "      <td>D4</td>\n",
              "      <td>151</td>\n",
              "      <td>NaN</td>\n",
              "      <td>2018-09-03 19:27:00</td>\n",
              "      <td>2018</td>\n",
              "      <td>9</td>\n",
              "      <td>Monday</td>\n",
              "      <td>19</td>\n",
              "      <td>Part Three</td>\n",
              "      <td>CAZENOVE ST</td>\n",
              "      <td>42.346589</td>\n",
              "      <td>-71.072429</td>\n",
              "      <td>(42.34658879, -71.07242943)</td>\n",
              "    </tr>\n",
              "    <tr>\n",
              "      <th>3</th>\n",
              "      <td>I182070940</td>\n",
              "      <td>3114</td>\n",
              "      <td>Investigate Property</td>\n",
              "      <td>INVESTIGATE PROPERTY</td>\n",
              "      <td>D4</td>\n",
              "      <td>272</td>\n",
              "      <td>NaN</td>\n",
              "      <td>2018-09-03 21:16:00</td>\n",
              "      <td>2018</td>\n",
              "      <td>9</td>\n",
              "      <td>Monday</td>\n",
              "      <td>21</td>\n",
              "      <td>Part Three</td>\n",
              "      <td>NEWCOMB ST</td>\n",
              "      <td>42.334182</td>\n",
              "      <td>-71.078664</td>\n",
              "      <td>(42.33418175, -71.07866441)</td>\n",
              "    </tr>\n",
              "    <tr>\n",
              "      <th>4</th>\n",
              "      <td>I182070938</td>\n",
              "      <td>3114</td>\n",
              "      <td>Investigate Property</td>\n",
              "      <td>INVESTIGATE PROPERTY</td>\n",
              "      <td>B3</td>\n",
              "      <td>421</td>\n",
              "      <td>NaN</td>\n",
              "      <td>2018-09-03 21:05:00</td>\n",
              "      <td>2018</td>\n",
              "      <td>9</td>\n",
              "      <td>Monday</td>\n",
              "      <td>21</td>\n",
              "      <td>Part Three</td>\n",
              "      <td>DELHI ST</td>\n",
              "      <td>42.275365</td>\n",
              "      <td>-71.090361</td>\n",
              "      <td>(42.27536542, -71.09036101)</td>\n",
              "    </tr>\n",
              "  </tbody>\n",
              "</table>\n",
              "</div>"
            ],
            "text/plain": [
              "  INCIDENT_NUMBER  OFFENSE_CODE  ...       Long                     Location\n",
              "0      I182070945           619  ... -71.139371  (42.35779134, -71.13937053)\n",
              "1      I182070943          1402  ... -71.060300  (42.30682138, -71.06030035)\n",
              "2      I182070941          3410  ... -71.072429  (42.34658879, -71.07242943)\n",
              "3      I182070940          3114  ... -71.078664  (42.33418175, -71.07866441)\n",
              "4      I182070938          3114  ... -71.090361  (42.27536542, -71.09036101)\n",
              "\n",
              "[5 rows x 17 columns]"
            ]
          },
          "metadata": {
            "tags": []
          },
          "execution_count": 79
        }
      ]
    },
    {
      "cell_type": "markdown",
      "metadata": {
        "id": "Se5nIhFu_u7i",
        "colab_type": "text"
      },
      "source": [
        "ตอนนี้เราจะสนใจเฉพาะ Feature Lat, Long ก่อน"
      ]
    },
    {
      "cell_type": "code",
      "metadata": {
        "id": "QHJZ3PLg-jaQ",
        "colab_type": "code",
        "colab": {
          "base_uri": "https://localhost:8080/",
          "height": 297
        },
        "outputId": "840163ea-c2b5-4334-a705-e02dee6d0a6e"
      },
      "source": [
        "crimes.describe()"
      ],
      "execution_count": 80,
      "outputs": [
        {
          "output_type": "execute_result",
          "data": {
            "text/html": [
              "<div>\n",
              "<style scoped>\n",
              "    .dataframe tbody tr th:only-of-type {\n",
              "        vertical-align: middle;\n",
              "    }\n",
              "\n",
              "    .dataframe tbody tr th {\n",
              "        vertical-align: top;\n",
              "    }\n",
              "\n",
              "    .dataframe thead th {\n",
              "        text-align: right;\n",
              "    }\n",
              "</style>\n",
              "<table border=\"1\" class=\"dataframe\">\n",
              "  <thead>\n",
              "    <tr style=\"text-align: right;\">\n",
              "      <th></th>\n",
              "      <th>OFFENSE_CODE</th>\n",
              "      <th>YEAR</th>\n",
              "      <th>MONTH</th>\n",
              "      <th>HOUR</th>\n",
              "      <th>Lat</th>\n",
              "      <th>Long</th>\n",
              "    </tr>\n",
              "  </thead>\n",
              "  <tbody>\n",
              "    <tr>\n",
              "      <th>count</th>\n",
              "      <td>319073.000000</td>\n",
              "      <td>319073.000000</td>\n",
              "      <td>319073.000000</td>\n",
              "      <td>319073.000000</td>\n",
              "      <td>299074.000000</td>\n",
              "      <td>299074.000000</td>\n",
              "    </tr>\n",
              "    <tr>\n",
              "      <th>mean</th>\n",
              "      <td>2317.546956</td>\n",
              "      <td>2016.560586</td>\n",
              "      <td>6.609719</td>\n",
              "      <td>13.118205</td>\n",
              "      <td>42.214381</td>\n",
              "      <td>-70.908272</td>\n",
              "    </tr>\n",
              "    <tr>\n",
              "      <th>std</th>\n",
              "      <td>1185.285543</td>\n",
              "      <td>0.996344</td>\n",
              "      <td>3.273691</td>\n",
              "      <td>6.294205</td>\n",
              "      <td>2.159766</td>\n",
              "      <td>3.493618</td>\n",
              "    </tr>\n",
              "    <tr>\n",
              "      <th>min</th>\n",
              "      <td>111.000000</td>\n",
              "      <td>2015.000000</td>\n",
              "      <td>1.000000</td>\n",
              "      <td>0.000000</td>\n",
              "      <td>-1.000000</td>\n",
              "      <td>-71.178674</td>\n",
              "    </tr>\n",
              "    <tr>\n",
              "      <th>25%</th>\n",
              "      <td>1001.000000</td>\n",
              "      <td>2016.000000</td>\n",
              "      <td>4.000000</td>\n",
              "      <td>9.000000</td>\n",
              "      <td>42.297442</td>\n",
              "      <td>-71.097135</td>\n",
              "    </tr>\n",
              "    <tr>\n",
              "      <th>50%</th>\n",
              "      <td>2907.000000</td>\n",
              "      <td>2017.000000</td>\n",
              "      <td>7.000000</td>\n",
              "      <td>14.000000</td>\n",
              "      <td>42.325538</td>\n",
              "      <td>-71.077524</td>\n",
              "    </tr>\n",
              "    <tr>\n",
              "      <th>75%</th>\n",
              "      <td>3201.000000</td>\n",
              "      <td>2017.000000</td>\n",
              "      <td>9.000000</td>\n",
              "      <td>18.000000</td>\n",
              "      <td>42.348624</td>\n",
              "      <td>-71.062467</td>\n",
              "    </tr>\n",
              "    <tr>\n",
              "      <th>max</th>\n",
              "      <td>3831.000000</td>\n",
              "      <td>2018.000000</td>\n",
              "      <td>12.000000</td>\n",
              "      <td>23.000000</td>\n",
              "      <td>42.395042</td>\n",
              "      <td>-1.000000</td>\n",
              "    </tr>\n",
              "  </tbody>\n",
              "</table>\n",
              "</div>"
            ],
            "text/plain": [
              "        OFFENSE_CODE           YEAR  ...            Lat           Long\n",
              "count  319073.000000  319073.000000  ...  299074.000000  299074.000000\n",
              "mean     2317.546956    2016.560586  ...      42.214381     -70.908272\n",
              "std      1185.285543       0.996344  ...       2.159766       3.493618\n",
              "min       111.000000    2015.000000  ...      -1.000000     -71.178674\n",
              "25%      1001.000000    2016.000000  ...      42.297442     -71.097135\n",
              "50%      2907.000000    2017.000000  ...      42.325538     -71.077524\n",
              "75%      3201.000000    2017.000000  ...      42.348624     -71.062467\n",
              "max      3831.000000    2018.000000  ...      42.395042      -1.000000\n",
              "\n",
              "[8 rows x 6 columns]"
            ]
          },
          "metadata": {
            "tags": []
          },
          "execution_count": 80
        }
      ]
    },
    {
      "cell_type": "markdown",
      "metadata": {
        "id": "1hU6mkIw90_Q",
        "colab_type": "text"
      },
      "source": [
        "เนื่องจากข้อมูลค่อนข้างมาก เราจะ Focus เฉพาะ อาชญากรรมประเภท โจรกรรม ปล้น ชิงทรัพย์ ที่เกิดในเวลากลางวัน ในปี 2018 โดยเราจะ drop record ที่ไม่มีพิกัด Lat, Long ทิ้งไปก่อน"
      ]
    },
    {
      "cell_type": "code",
      "metadata": {
        "id": "YVW-aAGA6PBK",
        "colab_type": "code",
        "colab": {
          "base_uri": "https://localhost:8080/",
          "height": 297
        },
        "outputId": "f28cc1bc-6bdb-4823-f9db-bab1b3c4c0fb"
      },
      "source": [
        "daytime_robberies = crimes[((crimes.OFFENSE_CODE_GROUP == 'Robbery') & \\\n",
        "                            (crimes.YEAR == 2018) & \\\n",
        "                            (crimes.HOUR.isin(range(9,18))))].copy()\n",
        "\n",
        "daytime_robberies.dropna(subset=['Lat', 'Long'], inplace=True)\n",
        "daytime_robberies.describe()"
      ],
      "execution_count": 81,
      "outputs": [
        {
          "output_type": "execute_result",
          "data": {
            "text/html": [
              "<div>\n",
              "<style scoped>\n",
              "    .dataframe tbody tr th:only-of-type {\n",
              "        vertical-align: middle;\n",
              "    }\n",
              "\n",
              "    .dataframe tbody tr th {\n",
              "        vertical-align: top;\n",
              "    }\n",
              "\n",
              "    .dataframe thead th {\n",
              "        text-align: right;\n",
              "    }\n",
              "</style>\n",
              "<table border=\"1\" class=\"dataframe\">\n",
              "  <thead>\n",
              "    <tr style=\"text-align: right;\">\n",
              "      <th></th>\n",
              "      <th>OFFENSE_CODE</th>\n",
              "      <th>YEAR</th>\n",
              "      <th>MONTH</th>\n",
              "      <th>HOUR</th>\n",
              "      <th>Lat</th>\n",
              "      <th>Long</th>\n",
              "    </tr>\n",
              "  </thead>\n",
              "  <tbody>\n",
              "    <tr>\n",
              "      <th>count</th>\n",
              "      <td>232.000000</td>\n",
              "      <td>232.0</td>\n",
              "      <td>232.000000</td>\n",
              "      <td>232.000000</td>\n",
              "      <td>232.000000</td>\n",
              "      <td>232.000000</td>\n",
              "    </tr>\n",
              "    <tr>\n",
              "      <th>mean</th>\n",
              "      <td>324.405172</td>\n",
              "      <td>2018.0</td>\n",
              "      <td>4.370690</td>\n",
              "      <td>13.732759</td>\n",
              "      <td>42.322536</td>\n",
              "      <td>-71.077599</td>\n",
              "    </tr>\n",
              "    <tr>\n",
              "      <th>std</th>\n",
              "      <td>28.131564</td>\n",
              "      <td>0.0</td>\n",
              "      <td>2.335609</td>\n",
              "      <td>2.478855</td>\n",
              "      <td>0.031789</td>\n",
              "      <td>0.024994</td>\n",
              "    </tr>\n",
              "    <tr>\n",
              "      <th>min</th>\n",
              "      <td>301.000000</td>\n",
              "      <td>2018.0</td>\n",
              "      <td>1.000000</td>\n",
              "      <td>9.000000</td>\n",
              "      <td>42.241249</td>\n",
              "      <td>-71.159466</td>\n",
              "    </tr>\n",
              "    <tr>\n",
              "      <th>25%</th>\n",
              "      <td>301.000000</td>\n",
              "      <td>2018.0</td>\n",
              "      <td>2.000000</td>\n",
              "      <td>12.000000</td>\n",
              "      <td>42.296126</td>\n",
              "      <td>-71.090678</td>\n",
              "    </tr>\n",
              "    <tr>\n",
              "      <th>50%</th>\n",
              "      <td>311.000000</td>\n",
              "      <td>2018.0</td>\n",
              "      <td>4.000000</td>\n",
              "      <td>14.000000</td>\n",
              "      <td>42.326788</td>\n",
              "      <td>-71.074515</td>\n",
              "    </tr>\n",
              "    <tr>\n",
              "      <th>75%</th>\n",
              "      <td>361.000000</td>\n",
              "      <td>2018.0</td>\n",
              "      <td>6.000000</td>\n",
              "      <td>16.000000</td>\n",
              "      <td>42.350399</td>\n",
              "      <td>-71.061895</td>\n",
              "    </tr>\n",
              "    <tr>\n",
              "      <th>max</th>\n",
              "      <td>381.000000</td>\n",
              "      <td>2018.0</td>\n",
              "      <td>9.000000</td>\n",
              "      <td>17.000000</td>\n",
              "      <td>42.384902</td>\n",
              "      <td>-71.000495</td>\n",
              "    </tr>\n",
              "  </tbody>\n",
              "</table>\n",
              "</div>"
            ],
            "text/plain": [
              "       OFFENSE_CODE    YEAR       MONTH        HOUR         Lat        Long\n",
              "count    232.000000   232.0  232.000000  232.000000  232.000000  232.000000\n",
              "mean     324.405172  2018.0    4.370690   13.732759   42.322536  -71.077599\n",
              "std       28.131564     0.0    2.335609    2.478855    0.031789    0.024994\n",
              "min      301.000000  2018.0    1.000000    9.000000   42.241249  -71.159466\n",
              "25%      301.000000  2018.0    2.000000   12.000000   42.296126  -71.090678\n",
              "50%      311.000000  2018.0    4.000000   14.000000   42.326788  -71.074515\n",
              "75%      361.000000  2018.0    6.000000   16.000000   42.350399  -71.061895\n",
              "max      381.000000  2018.0    9.000000   17.000000   42.384902  -71.000495"
            ]
          },
          "metadata": {
            "tags": []
          },
          "execution_count": 81
        }
      ]
    },
    {
      "cell_type": "markdown",
      "metadata": {
        "id": "Px-sTM3iAjHq",
        "colab_type": "text"
      },
      "source": [
        "## 5.2 Plot Marker"
      ]
    },
    {
      "cell_type": "code",
      "metadata": {
        "id": "fWzTpb_45kz2",
        "colab_type": "code",
        "colab": {}
      },
      "source": [
        "# Create a map\n",
        "m_2 = folium.Map(location=[42.32,-71.0589], tiles='cartodbpositron', zoom_start=13)\n",
        "\n",
        "# Add points to the map\n",
        "for idx, row in daytime_robberies.iterrows():    \n",
        "    Marker([row['Lat'], row['Long']]).add_to(m_2)\n",
        "\n",
        "# Display the map\n",
        "embed_map(m_2, '25d-m_2.html')"
      ],
      "execution_count": 0,
      "outputs": []
    },
    {
      "cell_type": "markdown",
      "metadata": {
        "id": "1ggL6CGdGp0h",
        "colab_type": "text"
      },
      "source": [
        "<!--- สำหรับแสดงบนเว็บไซต์ -->\n",
        "<iframe width=\"100%\" height=\"500\" src=\"https://www.bualabs.com/wp-content/uploads/2019/10/25d-m_2.html\" frameborder=\"0\" allowfullscreen></iframe>"
      ]
    },
    {
      "cell_type": "markdown",
      "metadata": {
        "id": "V2MsLHvp9JTS",
        "colab_type": "text"
      },
      "source": [
        "# 6. Marker Cluster"
      ]
    },
    {
      "cell_type": "markdown",
      "metadata": {
        "id": "afVHokCCA9Bp",
        "colab_type": "text"
      },
      "source": [
        "ถ้ามีจุดเป็นจำนวนมาก เวลาพล็อตรวมกันทีเดียวหมด จะทำให้ดูลำบาก เราสามารถใช้ Marker Cluster ในการรวมกลุ่ม Marker ที่อยู่ใกล้กันเข้าด้วยกัน โดยอัตโนมัติ เมื่อเรา Zoom เข้าไปถึงจะแยกออกเป็นแต่ละ Marker"
      ]
    },
    {
      "cell_type": "code",
      "metadata": {
        "id": "VAhx3hqAAwyH",
        "colab_type": "code",
        "colab": {}
      },
      "source": [
        "# Create the map\n",
        "m_3 = folium.Map(location=[42.32,-71.0589], tiles='cartodbpositron', zoom_start=13)\n",
        "\n",
        "# Add points to the map\n",
        "mc = MarkerCluster()\n",
        "for idx, row in daytime_robberies.iterrows():\n",
        "    mc.add_child(Marker([row['Lat'], row['Long']]))\n",
        "m_3.add_child(mc)\n",
        "\n",
        "# Display the map\n",
        "embed_map(m_3, '25d-m_3.html')"
      ],
      "execution_count": 0,
      "outputs": []
    },
    {
      "cell_type": "markdown",
      "metadata": {
        "id": "AJrUDwucGxdA",
        "colab_type": "text"
      },
      "source": [
        "<!--- สำหรับแสดงบนเว็บไซต์ -->\n",
        "<iframe width=\"100%\" height=\"500\" src=\"https://www.bualabs.com/wp-content/uploads/2019/10/25d-m_3.html\" frameborder=\"0\" allowfullscreen></iframe>"
      ]
    },
    {
      "cell_type": "markdown",
      "metadata": {
        "id": "85FfkVgZ9JEx",
        "colab_type": "text"
      },
      "source": [
        "# 7. Bubble Map"
      ]
    },
    {
      "cell_type": "markdown",
      "metadata": {
        "id": "uRhNsR88Bop4",
        "colab_type": "text"
      },
      "source": [
        "Bubble Map ใช้วงกลมแทน Marker ทำให้เราสามารถกำหนดขนาด สีสัน เพื่อสื่อความหมาย แทนที่ความสัมพันธ์ของข้อมูล ตำแหน่งพิกัดภูมิศาสตร์ กับ อีก 2 Feature ตามที่เราต้องการ\n",
        "\n",
        "ในเคสนี้ เราจะพล็อตวงกลมสีเขียวแทนการปล้นในช่วงเข้าถึงเที่ยง และวงกลมสีแดงในช่วงหลังเที่ยงถึงตอนเย็น โดยใช้ Circle\n",
        "\n",
        "* location คือ ตำแหน่ง Lat, Long\n",
        "* radius คือ รัศมีของวงกลม \n",
        "* color คือ สี ในเคสนี้เราจะเรียกไปยังฟังก์ชัน color_producer เพื่อคำนวนว่าจะใช้สีอะไร จากค่า HOUR"
      ]
    },
    {
      "cell_type": "code",
      "metadata": {
        "id": "FvCI8BfkBov9",
        "colab_type": "code",
        "colab": {}
      },
      "source": [
        "# Create a base map\n",
        "m_4 = folium.Map(location=[42.32,-71.0589], tiles='cartodbpositron', zoom_start=13)\n",
        "\n",
        "def color_producer(val):\n",
        "    if val <= 12:\n",
        "        return 'forestgreen'\n",
        "    else:\n",
        "        return 'darkred'\n",
        "\n",
        "# Add a bubble map to the base map\n",
        "for i in range(0,len(daytime_robberies)):\n",
        "    Circle(\n",
        "        location=[daytime_robberies.iloc[i]['Lat'], daytime_robberies.iloc[i]['Long']],\n",
        "        radius=50,\n",
        "        color=color_producer(daytime_robberies.iloc[i]['HOUR'])).add_to(m_4)\n",
        "\n",
        "# Display the map\n",
        "embed_map(m_4, '25d-m_4.html')"
      ],
      "execution_count": 0,
      "outputs": []
    },
    {
      "cell_type": "markdown",
      "metadata": {
        "id": "QIWV0p3HG3pr",
        "colab_type": "text"
      },
      "source": [
        "<!--- สำหรับแสดงบนเว็บไซต์ -->\n",
        "<iframe width=\"100%\" height=\"500\" src=\"https://www.bualabs.com/wp-content/uploads/2019/10/25d-m_4.html\" frameborder=\"0\" allowfullscreen></iframe>"
      ]
    },
    {
      "cell_type": "markdown",
      "metadata": {
        "id": "9Jg5b_ICBo08",
        "colab_type": "text"
      },
      "source": [
        "# 8. Heat Map"
      ]
    },
    {
      "cell_type": "markdown",
      "metadata": {
        "id": "LD_BJIR2Bo5Y",
        "colab_type": "text"
      },
      "source": [
        "เราสามารถสร้าง แผนที่ความร้อน ที่เข้าใจง่าย ว่าบริเวณไหนเกิดเหตุการณ์บ่อย ความหนาแน่นมาก ก็จะเป็นสีแดง (ร้อน) เกิดน้อย ความหนาแน่นน้อย ก็จะเป็นสีน้ำเงิน (เย็น) ด้วย folium.plugins.HeatMap()"
      ]
    },
    {
      "cell_type": "code",
      "metadata": {
        "id": "jjebGgTTBo-S",
        "colab_type": "code",
        "colab": {}
      },
      "source": [
        "# crimes.dropna(subset=['Lat', 'Long'], inplace=True)\n",
        "\n",
        "# Create a base map\n",
        "m_5 = folium.Map(location=[42.32,-71.0589], tiles='cartodbpositron', zoom_start=13)\n",
        "\n",
        "# Add a heatmap to the base map\n",
        "HeatMap(data=daytime_robberies[['Lat', 'Long']], radius=16).add_to(m_5)\n",
        "\n",
        "# Display the map\n",
        "embed_map(m_5, '25d-m_5.html')"
      ],
      "execution_count": 0,
      "outputs": []
    },
    {
      "cell_type": "markdown",
      "metadata": {
        "id": "nudZeQCQG-94",
        "colab_type": "text"
      },
      "source": [
        "<!--- สำหรับแสดงบนเว็บไซต์ -->\n",
        "<iframe width=\"100%\" height=\"500\" src=\"https://www.bualabs.com/wp-content/uploads/2019/10/25d-m_5.html\" frameborder=\"0\" allowfullscreen></iframe>"
      ]
    },
    {
      "cell_type": "markdown",
      "metadata": {
        "id": "Mq0Nw2PNE59f",
        "colab_type": "text"
      },
      "source": [
        "สังเกตว่าเมืองใหญ่ อาชญากรรมส่วนใหญ่มักจะเกิดบริเวณใจกลางเมือง"
      ]
    },
    {
      "cell_type": "markdown",
      "metadata": {
        "id": "jv0ZTmOc5k5t",
        "colab_type": "text"
      },
      "source": [
        "# Credit"
      ]
    },
    {
      "cell_type": "markdown",
      "metadata": {
        "id": "bazjbG7u5k-m",
        "colab_type": "text"
      },
      "source": [
        "* https://www.kaggle.com/alexisbcook/interactive-maps\n",
        "* https://github.com/python-visualization/folium/tree/master/folium/templates/tiles\n",
        "* https://python-visualization.github.io/folium/quickstart.html\n",
        "* https://python-visualization.github.io/folium/plugins.html\n",
        "* https://pandas.pydata.org/pandas-docs/stable/reference/api/pandas.DataFrame.dropna.html\n",
        "* https://www.bualabs.com/archives/2717/plot-interactive-map-geospatial-analysis-japan-earthquake-tectonic-plate-boundary-folium-geospatial-ep-3/"
      ]
    },
    {
      "cell_type": "code",
      "metadata": {
        "id": "AALutmSW5pmN",
        "colab_type": "code",
        "colab": {}
      },
      "source": [
        ""
      ],
      "execution_count": 0,
      "outputs": []
    }
  ]
}