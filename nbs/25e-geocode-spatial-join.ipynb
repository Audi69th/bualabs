{
  "nbformat": 4,
  "nbformat_minor": 0,
  "metadata": {
    "colab": {
      "name": "25e-geocode-spatial-join.ipynb",
      "provenance": []
    },
    "kernelspec": {
      "name": "python3",
      "display_name": "Python 3"
    },
    "accelerator": "GPU"
  },
  "cells": [
    {
      "cell_type": "markdown",
      "metadata": {
        "colab_type": "text",
        "id": "H9CYDwQ9gQ2u"
      },
      "source": [
        "ใน ep นี้เราจะมาเรียนรู้วิธีการใช้ประโยชน์จากแผนที่มากขึ้น หนึ่งในงานที่เราจะใช้ัแผนที่ คือ Geocode ข้อมูลชื่อที่อยู่สถานที่ ให้เป็นตำแหน่งพิกัดของสถานที่จริง ที่อยู่บนพื้นผิวโลก และการ Spatial Join คือ การ Match พิกัดเข้าด้วยกันระหว่าง 2 Shape"
      ]
    },
    {
      "cell_type": "markdown",
      "metadata": {
        "colab_type": "text",
        "id": "Y7QjHJiKRD9N"
      },
      "source": [
        "# 0. Install"
      ]
    },
    {
      "cell_type": "markdown",
      "metadata": {
        "colab_type": "text",
        "id": "_qxIXpQqTmzD"
      },
      "source": [
        "เราจะต้อง Install kaggle เพื่อ Download Dataset, geopandas เพื่อใช้ในการวิเคราะห์ข้อมูล geospatial, folium เพื่อแสดงแผ่นที่, rtree ให้สำหรับ Spatial Join (ถ้ายังไม่ได้ Install ให้ uncomment)"
      ]
    },
    {
      "cell_type": "code",
      "metadata": {
        "id": "O_A8cgODbten",
        "colab_type": "code",
        "colab": {}
      },
      "source": [
        "# !apt install gdal-bin python-gdal python3-gdal \n",
        "# # Install rtree - Geopandas requirment\n",
        "# !apt install python3-rtree \n",
        "# # Install Geopandas\n",
        "# !pip install git+git://github.com/geopandas/geopandas.git\n",
        "# # Install descartes - Geopandas requirment\n",
        "# !pip install descartes "
      ],
      "execution_count": 0,
      "outputs": []
    },
    {
      "cell_type": "code",
      "metadata": {
        "colab_type": "code",
        "id": "rnpSo4UOwmES",
        "colab": {}
      },
      "source": [
        "# ! pip install git+https://github.com/python-visualization/folium\n",
        "# ! pip install kaggle --upgrade"
      ],
      "execution_count": 0,
      "outputs": []
    },
    {
      "cell_type": "markdown",
      "metadata": {
        "colab_type": "text",
        "id": "eIhjYw2SRB31"
      },
      "source": [
        "# 1. Import Library"
      ]
    },
    {
      "cell_type": "markdown",
      "metadata": {
        "colab_type": "text",
        "id": "EYelaC8QUiuP"
      },
      "source": [
        "Import Library เพื่อใช้ในการวิเคราะห์ Spatial Analysis และ พล็อตแผนที่แบบ Interactive"
      ]
    },
    {
      "cell_type": "code",
      "metadata": {
        "colab_type": "code",
        "id": "mQfGtLVJwJL8",
        "colab": {}
      },
      "source": [
        "import numpy as np\n",
        "import pandas as pd\n",
        "import geopandas as gpd\n",
        "from geopandas.tools import geocode\n",
        "\n",
        "import folium\n",
        "from folium import *\n",
        "from folium.plugins import *\n",
        "\n",
        "import os\n",
        "from pathlib import Path"
      ],
      "execution_count": 0,
      "outputs": []
    },
    {
      "cell_type": "markdown",
      "metadata": {
        "colab_type": "text",
        "id": "p_qNdgnbruIv"
      },
      "source": [
        "ประกาศฟังก์ชันในการแสดงแผนที่โดยใช้ HTML iframe แต่ Colab ไม่ Support iframe เราจะ return Map ออกไปเลย แต่มีข้อเสียคือถ้า Map ข้อมูลมากเกินไปอาจจะไม่โชว์เลย"
      ]
    },
    {
      "cell_type": "code",
      "metadata": {
        "colab_type": "code",
        "id": "T3E_jS42F8ru",
        "colab": {}
      },
      "source": [
        "from IPython.display import IFrame, HTML\n",
        "\n",
        "def embed_map(m, file_name):    \n",
        "    m.save(file_name)\n",
        "    # # VM\n",
        "    # return IFrame(src=file_name, width='100%', height='500px')\n",
        "\n",
        "    # Colab\n",
        "    return m"
      ],
      "execution_count": 0,
      "outputs": []
    },
    {
      "cell_type": "markdown",
      "metadata": {
        "colab_type": "text",
        "id": "hZBm5maPRLmi"
      },
      "source": [
        "# 2. เตรียม Path สำหรับดาวน์โหลดข้อมูล"
      ]
    },
    {
      "cell_type": "markdown",
      "metadata": {
        "colab_type": "text",
        "id": "9DBiIhGYT6VU"
      },
      "source": [
        "กำหนด path ของ Config File และ Dataset ว่าจะอยู่ใน Google Drive ถ้าเราใช้ Google Colab หรือ อยู่ใน HOME ถ้าเราใช้ VM ธรรมดา และกำหนด Environment Variable ไปยังโฟลเดอร์ที่เก็บ kaggle.json"
      ]
    },
    {
      "cell_type": "markdown",
      "metadata": {
        "colab_type": "text",
        "id": "3xwILAZXUBx-"
      },
      "source": [
        "ในกรณีใช้ Colab ให้ Mount Google Drive เพื่อดึง Config File มาจาก Google Drive ส่วนตัวของเรา เมื่อเรารัน Cell ด้านล่างจะมีลิงค์ปรากฎขึ้นมาให้เรา Login กด Approve แล้ว Copy Authorization Code มาใส่ในช่องด้านล่าง แล้วกด Enter"
      ]
    },
    {
      "cell_type": "code",
      "metadata": {
        "colab_type": "code",
        "id": "N7_7Mxaw8jfO",
        "colab": {
          "base_uri": "https://localhost:8080/",
          "height": 34
        },
        "outputId": "adbf6352-c171-42b5-d74b-d9ad492b1ae0"
      },
      "source": [
        "dataset = 'alexisbcook/geospatial-learn-course-data'\n",
        "\n",
        "# Google Colab\n",
        "config_path = Path('/content/drive')\n",
        "data_path = Path('/content/datasets/')/dataset\n",
        "from google.colab import drive\n",
        "drive.mount(str(config_path))\n",
        "os.environ['KAGGLE_CONFIG_DIR'] = f\"{config_path}/My Drive/.kaggle\"\n",
        "\n",
        "## VM\n",
        "# config_path = Path(os.getenv(\"HOME\"))\n",
        "# data_path = config_path/\"datasets\"/dataset\n",
        "# data_path.mkdir(parents=True, exist_ok=True)\n",
        "# os.environ['KAGGLE_CONFIG_DIR'] = f\"{config_path}/.kaggle\""
      ],
      "execution_count": 8,
      "outputs": [
        {
          "output_type": "stream",
          "text": [
            "Drive already mounted at /content/drive; to attempt to forcibly remount, call drive.mount(\"/content/drive\", force_remount=True).\n"
          ],
          "name": "stdout"
        }
      ]
    },
    {
      "cell_type": "markdown",
      "metadata": {
        "id": "-9a3w3CN4Zbr",
        "colab_type": "text"
      },
      "source": [
        "# 3. Geocoding"
      ]
    },
    {
      "cell_type": "markdown",
      "metadata": {
        "id": "_u5qRijGr6ua",
        "colab_type": "text"
      },
      "source": [
        "เรียกฟังก์ชัน Geocode เพื่อแปลง ข้อความ เป็น พิกัด และ ที่อยู่ โดยที่เราต้องใส่ Parameter\n",
        "\n",
        "* string ข้อความระบุ ชื่อสถานที่ หรือ ที่อยู่ \n",
        "* provider จะไปดึงข้อมูลจากไหน ในเคสนี้เราจะใช้ nominatim จาก OpenStreetMap จะได้ไม่ต้องสมัครสมาชิก เพื่อขอ API Key\n",
        "\n",
        "ถ้า Geocode ได้สำเร็จ ระบบจะตอบรับ return ข้อมูลดังนี้\n",
        "\n",
        "* geometry คือ Point ระบุ Latitude, Longitude\n",
        "* address คือ ที่อยู่เต็ม \n",
        "\n"
      ]
    },
    {
      "cell_type": "code",
      "metadata": {
        "id": "1-8NGZk4SHgt",
        "colab_type": "code",
        "outputId": "8cfa1524-2ad2-4a30-f594-ff870331a5b5",
        "colab": {
          "base_uri": "https://localhost:8080/",
          "height": 80
        }
      },
      "source": [
        "result = geocode(\"Eiffel Tower\", provider=\"nominatim\", user_agent='BUA Labs/0.0.1')\n",
        "result"
      ],
      "execution_count": 9,
      "outputs": [
        {
          "output_type": "execute_result",
          "data": {
            "text/html": [
              "<div>\n",
              "<style scoped>\n",
              "    .dataframe tbody tr th:only-of-type {\n",
              "        vertical-align: middle;\n",
              "    }\n",
              "\n",
              "    .dataframe tbody tr th {\n",
              "        vertical-align: top;\n",
              "    }\n",
              "\n",
              "    .dataframe thead th {\n",
              "        text-align: right;\n",
              "    }\n",
              "</style>\n",
              "<table border=\"1\" class=\"dataframe\">\n",
              "  <thead>\n",
              "    <tr style=\"text-align: right;\">\n",
              "      <th></th>\n",
              "      <th>geometry</th>\n",
              "      <th>address</th>\n",
              "    </tr>\n",
              "  </thead>\n",
              "  <tbody>\n",
              "    <tr>\n",
              "      <th>0</th>\n",
              "      <td>POINT (2.29450 48.85826)</td>\n",
              "      <td>Tour Eiffel, 5, Avenue Anatole France, Quartie...</td>\n",
              "    </tr>\n",
              "  </tbody>\n",
              "</table>\n",
              "</div>"
            ],
            "text/plain": [
              "                   geometry                                            address\n",
              "0  POINT (2.29450 48.85826)  Tour Eiffel, 5, Avenue Anatole France, Quartie..."
            ]
          },
          "metadata": {
            "tags": []
          },
          "execution_count": 9
        }
      ]
    },
    {
      "cell_type": "markdown",
      "metadata": {
        "id": "LJ-3xjHXsNfM",
        "colab_type": "text"
      },
      "source": [
        "ผลลัพธ์ คือ พิกัด และที่อยู่ ของ หอไอเฟล แห่งกรุงปารีส ประเทศฝรั่งเศส"
      ]
    },
    {
      "cell_type": "code",
      "metadata": {
        "id": "mkCY6I46SaYV",
        "colab_type": "code",
        "outputId": "1b285c56-304c-40d4-d4db-5f323119e09b",
        "colab": {
          "base_uri": "https://localhost:8080/",
          "height": 88
        }
      },
      "source": [
        "point = result.iloc[0].geometry\n",
        "print(f'Latitude: {point.y}')\n",
        "print(f'Longitude: {point.x}')\n",
        "print(f'Address: {result.iloc[0].address}')"
      ],
      "execution_count": 10,
      "outputs": [
        {
          "output_type": "stream",
          "text": [
            "Latitude: 48.8582602\n",
            "Longitude: 2.29449905431968\n",
            "Address: Tour Eiffel, 5, Avenue Anatole France, Quartier du Gros-Caillou, Paris 7e Arrondissement, Paris, Île-de-France, France métropolitaine, 75007, France\n"
          ],
          "name": "stdout"
        }
      ]
    },
    {
      "cell_type": "markdown",
      "metadata": {
        "colab_type": "text",
        "id": "fjX_JnMaRRaM"
      },
      "source": [
        "# 4. Dataset"
      ]
    },
    {
      "cell_type": "markdown",
      "metadata": {
        "colab_type": "text",
        "id": "MhsZxRECNHv_"
      },
      "source": [
        "ในเคสนี้ เราจะใช้ Dataset มหาวิทยาลัยชั้นนำจากทั่วโลก"
      ]
    },
    {
      "cell_type": "markdown",
      "metadata": {
        "colab_type": "text",
        "id": "Mtf3SFWCUYpu"
      },
      "source": [
        "Dataset เราจะดึงจาก Kaggle วิธี Download kaggle.json ให้ดูจาก ep ที่แล้ว\n",
        "\n",
        "เมื่อได้ kaggle.json มาแล้ว ในกรณีใช้ Google Colab ให้นำมาใส่ไว้ในโฟลเดอร์ My Drive/.kaggle ใน Google Drive ของเรา เป็น My Drive/.kaggle/kaggle.json ถ้าใช้ VM ให้ใส่ใน HOME/.kaggle/\n",
        "\n",
        "สั่งดาวน์โหลด Dataset จาก Kaggle พร้อมทั้ง unzip ไว้ใน data_path"
      ]
    },
    {
      "cell_type": "code",
      "metadata": {
        "colab_type": "code",
        "id": "DWVg-d8V4kRq",
        "colab": {
          "base_uri": "https://localhost:8080/",
          "height": 68
        },
        "outputId": "248c3f5b-df84-4f21-e83c-3ab78f5ff70b"
      },
      "source": [
        "!kaggle datasets download {dataset} -p \"{data_path}\" --unzip"
      ],
      "execution_count": 11,
      "outputs": [
        {
          "output_type": "stream",
          "text": [
            "Downloading geospatial-learn-course-data.zip to /content/datasets/alexisbcook/geospatial-learn-course-data\n",
            " 96% 225M/233M [00:06<00:00, 25.8MB/s]\n",
            "100% 233M/233M [00:06<00:00, 37.7MB/s]\n"
          ],
          "name": "stdout"
        }
      ]
    },
    {
      "cell_type": "markdown",
      "metadata": {
        "id": "9KMgX_kls-qk",
        "colab_type": "text"
      },
      "source": [
        "โหลดข้อมูล มหาวิทยาลัยชั้นนำจากทั่วโลก"
      ]
    },
    {
      "cell_type": "code",
      "metadata": {
        "id": "tjt5yDr9SagB",
        "colab_type": "code",
        "outputId": "af517dde-244f-4ae7-b4ce-67a13a517b4d",
        "colab": {
          "base_uri": "https://localhost:8080/",
          "height": 204
        }
      },
      "source": [
        "universities = pd.read_csv(data_path/\"top_universities.csv\")\n",
        "universities.head()"
      ],
      "execution_count": 20,
      "outputs": [
        {
          "output_type": "execute_result",
          "data": {
            "text/html": [
              "<div>\n",
              "<style scoped>\n",
              "    .dataframe tbody tr th:only-of-type {\n",
              "        vertical-align: middle;\n",
              "    }\n",
              "\n",
              "    .dataframe tbody tr th {\n",
              "        vertical-align: top;\n",
              "    }\n",
              "\n",
              "    .dataframe thead th {\n",
              "        text-align: right;\n",
              "    }\n",
              "</style>\n",
              "<table border=\"1\" class=\"dataframe\">\n",
              "  <thead>\n",
              "    <tr style=\"text-align: right;\">\n",
              "      <th></th>\n",
              "      <th>Name</th>\n",
              "    </tr>\n",
              "  </thead>\n",
              "  <tbody>\n",
              "    <tr>\n",
              "      <th>0</th>\n",
              "      <td>University of Oxford</td>\n",
              "    </tr>\n",
              "    <tr>\n",
              "      <th>1</th>\n",
              "      <td>University of Cambridge</td>\n",
              "    </tr>\n",
              "    <tr>\n",
              "      <th>2</th>\n",
              "      <td>Imperial College London</td>\n",
              "    </tr>\n",
              "    <tr>\n",
              "      <th>3</th>\n",
              "      <td>ETH Zurich</td>\n",
              "    </tr>\n",
              "    <tr>\n",
              "      <th>4</th>\n",
              "      <td>UCL</td>\n",
              "    </tr>\n",
              "  </tbody>\n",
              "</table>\n",
              "</div>"
            ],
            "text/plain": [
              "                      Name\n",
              "0     University of Oxford\n",
              "1  University of Cambridge\n",
              "2  Imperial College London\n",
              "3               ETH Zurich\n",
              "4                      UCL"
            ]
          },
          "metadata": {
            "tags": []
          },
          "execution_count": 20
        }
      ]
    },
    {
      "cell_type": "markdown",
      "metadata": {
        "id": "ABa-O3nctHXJ",
        "colab_type": "text"
      },
      "source": [
        "จำนวน 100 มหาวิทยาลัย"
      ]
    },
    {
      "cell_type": "code",
      "metadata": {
        "id": "i64jEn0dU2BM",
        "colab_type": "code",
        "outputId": "b03cace9-989e-4c9e-b69b-12f4e28e9348",
        "colab": {
          "base_uri": "https://localhost:8080/",
          "height": 34
        }
      },
      "source": [
        "len(universities)"
      ],
      "execution_count": 21,
      "outputs": [
        {
          "output_type": "execute_result",
          "data": {
            "text/plain": [
              "100"
            ]
          },
          "metadata": {
            "tags": []
          },
          "execution_count": 21
        }
      ]
    },
    {
      "cell_type": "markdown",
      "metadata": {
        "id": "tGiH5tLate8n",
        "colab_type": "text"
      },
      "source": [
        "ประกาศฟังก์ชัน สำหรับเรียก geocode แล้วแปลงเป็น Pandas Series Latitude, Longitude"
      ]
    },
    {
      "cell_type": "code",
      "metadata": {
        "id": "dUX_oAscWQmR",
        "colab_type": "code",
        "colab": {}
      },
      "source": [
        "def my_geocoder(row):\n",
        "    try:\n",
        "        point = geocode(row, provider='nominatim', user_agent='BUA Labs/0.0.1').geometry.iloc[0]\n",
        "        return pd.Series({'Latitude': point.y, 'Longitude': point.x, 'geometry': point})\n",
        "    except:\n",
        "        return None"
      ],
      "execution_count": 0,
      "outputs": []
    },
    {
      "cell_type": "markdown",
      "metadata": {
        "id": "JmCivudFtxYn",
        "colab_type": "text"
      },
      "source": [
        "เราจะใช้ชื่อมหาวิทยาลัย ไปเรียก Geocode เพื่อนำพิกัดมาใส่ใน universities Pandas Dataframe"
      ]
    },
    {
      "cell_type": "code",
      "metadata": {
        "id": "X2vHci3ASakS",
        "colab_type": "code",
        "outputId": "93a8167d-6775-44bd-fb43-9a012a2037b5",
        "colab": {
          "base_uri": "https://localhost:8080/",
          "height": 204
        }
      },
      "source": [
        "universities[['Latitude', 'Longitude', 'geometry']] = universities.apply(lambda x: my_geocoder(x['Name']), axis=1)\n",
        "universities.head()"
      ],
      "execution_count": 23,
      "outputs": [
        {
          "output_type": "execute_result",
          "data": {
            "text/html": [
              "<div>\n",
              "<style scoped>\n",
              "    .dataframe tbody tr th:only-of-type {\n",
              "        vertical-align: middle;\n",
              "    }\n",
              "\n",
              "    .dataframe tbody tr th {\n",
              "        vertical-align: top;\n",
              "    }\n",
              "\n",
              "    .dataframe thead th {\n",
              "        text-align: right;\n",
              "    }\n",
              "</style>\n",
              "<table border=\"1\" class=\"dataframe\">\n",
              "  <thead>\n",
              "    <tr style=\"text-align: right;\">\n",
              "      <th></th>\n",
              "      <th>Name</th>\n",
              "      <th>Latitude</th>\n",
              "      <th>Longitude</th>\n",
              "      <th>geometry</th>\n",
              "    </tr>\n",
              "  </thead>\n",
              "  <tbody>\n",
              "    <tr>\n",
              "      <th>0</th>\n",
              "      <td>University of Oxford</td>\n",
              "      <td>51.753454</td>\n",
              "      <td>-1.254010</td>\n",
              "      <td>POINT (-1.25400997048855 51.7534538)</td>\n",
              "    </tr>\n",
              "    <tr>\n",
              "      <th>1</th>\n",
              "      <td>University of Cambridge</td>\n",
              "      <td>52.176390</td>\n",
              "      <td>0.143089</td>\n",
              "      <td>POINT (0.143088815415187 52.17638955)</td>\n",
              "    </tr>\n",
              "    <tr>\n",
              "      <th>2</th>\n",
              "      <td>Imperial College London</td>\n",
              "      <td>51.498871</td>\n",
              "      <td>-0.175608</td>\n",
              "      <td>POINT (-0.175607955839404 51.49887085)</td>\n",
              "    </tr>\n",
              "    <tr>\n",
              "      <th>3</th>\n",
              "      <td>ETH Zurich</td>\n",
              "      <td>47.376453</td>\n",
              "      <td>8.547709</td>\n",
              "      <td>POINT (8.54770931489751 47.3764534)</td>\n",
              "    </tr>\n",
              "    <tr>\n",
              "      <th>4</th>\n",
              "      <td>UCL</td>\n",
              "      <td>51.521682</td>\n",
              "      <td>-0.135208</td>\n",
              "      <td>POINT (-0.1352078 51.5216821)</td>\n",
              "    </tr>\n",
              "  </tbody>\n",
              "</table>\n",
              "</div>"
            ],
            "text/plain": [
              "                      Name  ...                                geometry\n",
              "0     University of Oxford  ...    POINT (-1.25400997048855 51.7534538)\n",
              "1  University of Cambridge  ...   POINT (0.143088815415187 52.17638955)\n",
              "2  Imperial College London  ...  POINT (-0.175607955839404 51.49887085)\n",
              "3               ETH Zurich  ...     POINT (8.54770931489751 47.3764534)\n",
              "4                      UCL  ...           POINT (-0.1352078 51.5216821)\n",
              "\n",
              "[5 rows x 4 columns]"
            ]
          },
          "metadata": {
            "tags": []
          },
          "execution_count": 23
        }
      ]
    },
    {
      "cell_type": "markdown",
      "metadata": {
        "id": "h9cO4oabuen6",
        "colab_type": "text"
      },
      "source": [
        "หาว่ามหาวิทยาลัยไหนบ้างที่ Geocode ไม่ขึ้น ไม่พบพิกัด เป็นกี่เปอร์เซ็นของทั้งหมด"
      ]
    },
    {
      "cell_type": "code",
      "metadata": {
        "id": "xE8tq-yYuU4b",
        "colab_type": "code",
        "colab": {
          "base_uri": "https://localhost:8080/",
          "height": 34
        },
        "outputId": "20b5cb19-63c6-4635-fb95-c35113edb41a"
      },
      "source": [
        "print(\"{}% of addresses were geocoded!\".format(\n",
        "    (1 - sum(np.isnan(universities[\"Latitude\"])) / len(universities)) * 100))"
      ],
      "execution_count": 24,
      "outputs": [
        {
          "output_type": "stream",
          "text": [
            "89.0% of addresses were geocoded!\n"
          ],
          "name": "stdout"
        }
      ]
    },
    {
      "cell_type": "markdown",
      "metadata": {
        "id": "e5QoUZoYvia0",
        "colab_type": "text"
      },
      "source": [
        "ตอนนี้เราจะลบ มหาวิทยาลัยที่ Geocode ไม่เจอทิ้งไปก่อน"
      ]
    },
    {
      "cell_type": "code",
      "metadata": {
        "id": "eqt00WccSaoa",
        "colab_type": "code",
        "outputId": "16ec919b-ed34-47bc-a95a-5181b74da254",
        "colab": {
          "base_uri": "https://localhost:8080/",
          "height": 204
        }
      },
      "source": [
        "universities = universities.loc[~np.isnan(universities[\"Latitude\"])]\n",
        "universities = gpd.GeoDataFrame(universities, geometry=universities.geometry)\n",
        "universities.crs = {'init': 'epsg:4326'}\n",
        "universities.head()"
      ],
      "execution_count": 25,
      "outputs": [
        {
          "output_type": "execute_result",
          "data": {
            "text/html": [
              "<div>\n",
              "<style scoped>\n",
              "    .dataframe tbody tr th:only-of-type {\n",
              "        vertical-align: middle;\n",
              "    }\n",
              "\n",
              "    .dataframe tbody tr th {\n",
              "        vertical-align: top;\n",
              "    }\n",
              "\n",
              "    .dataframe thead th {\n",
              "        text-align: right;\n",
              "    }\n",
              "</style>\n",
              "<table border=\"1\" class=\"dataframe\">\n",
              "  <thead>\n",
              "    <tr style=\"text-align: right;\">\n",
              "      <th></th>\n",
              "      <th>Name</th>\n",
              "      <th>Latitude</th>\n",
              "      <th>Longitude</th>\n",
              "      <th>geometry</th>\n",
              "    </tr>\n",
              "  </thead>\n",
              "  <tbody>\n",
              "    <tr>\n",
              "      <th>0</th>\n",
              "      <td>University of Oxford</td>\n",
              "      <td>51.753454</td>\n",
              "      <td>-1.254010</td>\n",
              "      <td>POINT (-1.25401 51.75345)</td>\n",
              "    </tr>\n",
              "    <tr>\n",
              "      <th>1</th>\n",
              "      <td>University of Cambridge</td>\n",
              "      <td>52.176390</td>\n",
              "      <td>0.143089</td>\n",
              "      <td>POINT (0.14309 52.17639)</td>\n",
              "    </tr>\n",
              "    <tr>\n",
              "      <th>2</th>\n",
              "      <td>Imperial College London</td>\n",
              "      <td>51.498871</td>\n",
              "      <td>-0.175608</td>\n",
              "      <td>POINT (-0.17561 51.49887)</td>\n",
              "    </tr>\n",
              "    <tr>\n",
              "      <th>3</th>\n",
              "      <td>ETH Zurich</td>\n",
              "      <td>47.376453</td>\n",
              "      <td>8.547709</td>\n",
              "      <td>POINT (8.54771 47.37645)</td>\n",
              "    </tr>\n",
              "    <tr>\n",
              "      <th>4</th>\n",
              "      <td>UCL</td>\n",
              "      <td>51.521682</td>\n",
              "      <td>-0.135208</td>\n",
              "      <td>POINT (-0.13521 51.52168)</td>\n",
              "    </tr>\n",
              "  </tbody>\n",
              "</table>\n",
              "</div>"
            ],
            "text/plain": [
              "                      Name   Latitude  Longitude                   geometry\n",
              "0     University of Oxford  51.753454  -1.254010  POINT (-1.25401 51.75345)\n",
              "1  University of Cambridge  52.176390   0.143089   POINT (0.14309 52.17639)\n",
              "2  Imperial College London  51.498871  -0.175608  POINT (-0.17561 51.49887)\n",
              "3               ETH Zurich  47.376453   8.547709   POINT (8.54771 47.37645)\n",
              "4                      UCL  51.521682  -0.135208  POINT (-0.13521 51.52168)"
            ]
          },
          "metadata": {
            "tags": []
          },
          "execution_count": 25
        }
      ]
    },
    {
      "cell_type": "code",
      "metadata": {
        "id": "ka9Q9Medv-ev",
        "colab_type": "code",
        "colab": {
          "base_uri": "https://localhost:8080/",
          "height": 34
        },
        "outputId": "148b0203-c295-4feb-d615-855cf5d6dc36"
      },
      "source": [
        "len(universities)"
      ],
      "execution_count": 26,
      "outputs": [
        {
          "output_type": "execute_result",
          "data": {
            "text/plain": [
              "89"
            ]
          },
          "metadata": {
            "tags": []
          },
          "execution_count": 26
        }
      ]
    },
    {
      "cell_type": "markdown",
      "metadata": {
        "id": "Xfu-F_wnwBjO",
        "colab_type": "text"
      },
      "source": [
        "เหลือ 89 มหาวิทยาลัย"
      ]
    },
    {
      "cell_type": "markdown",
      "metadata": {
        "id": "WcxRx02XSasj",
        "colab_type": "text"
      },
      "source": [
        "# 5. Plot Map"
      ]
    },
    {
      "cell_type": "markdown",
      "metadata": {
        "id": "IgRhRQzLzZc0",
        "colab_type": "text"
      },
      "source": [
        "นำข้อมูลมหาวิทยาลัยด้านบน มาพล็อตบนแผนที่"
      ]
    },
    {
      "cell_type": "code",
      "metadata": {
        "id": "Q6-bJsiOSaxl",
        "colab_type": "code",
        "colab": {}
      },
      "source": [
        "# Create a map\n",
        "m_1 = folium.Map(location=[54, 15], tiles='openstreetmap', zoom_start=2)\n",
        "\n",
        "# Add points to the map\n",
        "for idx, row in universities.iterrows():\n",
        "    Marker([row['Latitude'], row['Longitude']], popup=row['Name']).add_to(m_1)\n",
        "\n",
        "# Display the map\n",
        "embed_map(m_1, '25e-m_1.html')"
      ],
      "execution_count": 0,
      "outputs": []
    },
    {
      "cell_type": "markdown",
      "metadata": {
        "id": "nudZeQCQG-94",
        "colab_type": "text"
      },
      "source": [
        "<!--- สำหรับแสดงบนเว็บไซต์ -->\n",
        "<iframe width=\"100%\" height=\"640\" src=\"https://www.bualabs.com/wp-content/uploads/2019/10/25e-m_1.html\" frameborder=\"0\" allowfullscreen></iframe>"
      ]
    },
    {
      "cell_type": "markdown",
      "metadata": {
        "id": "BgELVOnkW5nL",
        "colab_type": "text"
      },
      "source": [
        "# 6. Table Join"
      ]
    },
    {
      "cell_type": "markdown",
      "metadata": {
        "id": "YcQYDs7czk3I",
        "colab_type": "text"
      },
      "source": [
        ""
      ]
    },
    {
      "cell_type": "code",
      "metadata": {
        "id": "dJVdVrH4XV7S",
        "colab_type": "code",
        "colab": {}
      },
      "source": [
        "world = gpd.read_file(gpd.datasets.get_path('naturalearth_lowres'))\n",
        "europe = world.loc[world.continent == 'Europe'].reset_index(drop=True)\n",
        "\n",
        "europe_stats = europe[[\"name\", \"pop_est\", \"gdp_md_est\"]]\n",
        "europe_boundaries = europe[[\"name\", \"geometry\"]]"
      ],
      "execution_count": 0,
      "outputs": []
    },
    {
      "cell_type": "code",
      "metadata": {
        "id": "BKFhQx8LW5k7",
        "colab_type": "code",
        "outputId": "e7f64639-b17e-46bd-cdb9-bd73f6412c47",
        "colab": {
          "base_uri": "https://localhost:8080/",
          "height": 204
        }
      },
      "source": [
        "europe_boundaries.head()"
      ],
      "execution_count": 30,
      "outputs": [
        {
          "output_type": "execute_result",
          "data": {
            "text/html": [
              "<div>\n",
              "<style scoped>\n",
              "    .dataframe tbody tr th:only-of-type {\n",
              "        vertical-align: middle;\n",
              "    }\n",
              "\n",
              "    .dataframe tbody tr th {\n",
              "        vertical-align: top;\n",
              "    }\n",
              "\n",
              "    .dataframe thead th {\n",
              "        text-align: right;\n",
              "    }\n",
              "</style>\n",
              "<table border=\"1\" class=\"dataframe\">\n",
              "  <thead>\n",
              "    <tr style=\"text-align: right;\">\n",
              "      <th></th>\n",
              "      <th>name</th>\n",
              "      <th>geometry</th>\n",
              "    </tr>\n",
              "  </thead>\n",
              "  <tbody>\n",
              "    <tr>\n",
              "      <th>0</th>\n",
              "      <td>Russia</td>\n",
              "      <td>MULTIPOLYGON (((178.725 71.099, 180.000 71.516...</td>\n",
              "    </tr>\n",
              "    <tr>\n",
              "      <th>1</th>\n",
              "      <td>Norway</td>\n",
              "      <td>MULTIPOLYGON (((15.143 79.674, 15.523 80.016, ...</td>\n",
              "    </tr>\n",
              "    <tr>\n",
              "      <th>2</th>\n",
              "      <td>France</td>\n",
              "      <td>MULTIPOLYGON (((-51.658 4.156, -52.249 3.241, ...</td>\n",
              "    </tr>\n",
              "    <tr>\n",
              "      <th>3</th>\n",
              "      <td>Sweden</td>\n",
              "      <td>POLYGON ((11.027 58.856, 11.468 59.432, 12.300...</td>\n",
              "    </tr>\n",
              "    <tr>\n",
              "      <th>4</th>\n",
              "      <td>Belarus</td>\n",
              "      <td>POLYGON ((28.177 56.169, 29.230 55.918, 29.372...</td>\n",
              "    </tr>\n",
              "  </tbody>\n",
              "</table>\n",
              "</div>"
            ],
            "text/plain": [
              "      name                                           geometry\n",
              "0   Russia  MULTIPOLYGON (((178.725 71.099, 180.000 71.516...\n",
              "1   Norway  MULTIPOLYGON (((15.143 79.674, 15.523 80.016, ...\n",
              "2   France  MULTIPOLYGON (((-51.658 4.156, -52.249 3.241, ...\n",
              "3   Sweden  POLYGON ((11.027 58.856, 11.468 59.432, 12.300...\n",
              "4  Belarus  POLYGON ((28.177 56.169, 29.230 55.918, 29.372..."
            ]
          },
          "metadata": {
            "tags": []
          },
          "execution_count": 30
        }
      ]
    },
    {
      "cell_type": "code",
      "metadata": {
        "id": "K_e02wgDW5g0",
        "colab_type": "code",
        "outputId": "d0279216-2e3d-425e-bc98-319b47adee9c",
        "colab": {
          "base_uri": "https://localhost:8080/",
          "height": 204
        }
      },
      "source": [
        "europe_stats.head()"
      ],
      "execution_count": 31,
      "outputs": [
        {
          "output_type": "execute_result",
          "data": {
            "text/html": [
              "<div>\n",
              "<style scoped>\n",
              "    .dataframe tbody tr th:only-of-type {\n",
              "        vertical-align: middle;\n",
              "    }\n",
              "\n",
              "    .dataframe tbody tr th {\n",
              "        vertical-align: top;\n",
              "    }\n",
              "\n",
              "    .dataframe thead th {\n",
              "        text-align: right;\n",
              "    }\n",
              "</style>\n",
              "<table border=\"1\" class=\"dataframe\">\n",
              "  <thead>\n",
              "    <tr style=\"text-align: right;\">\n",
              "      <th></th>\n",
              "      <th>name</th>\n",
              "      <th>pop_est</th>\n",
              "      <th>gdp_md_est</th>\n",
              "    </tr>\n",
              "  </thead>\n",
              "  <tbody>\n",
              "    <tr>\n",
              "      <th>0</th>\n",
              "      <td>Russia</td>\n",
              "      <td>142257519</td>\n",
              "      <td>3745000.0</td>\n",
              "    </tr>\n",
              "    <tr>\n",
              "      <th>1</th>\n",
              "      <td>Norway</td>\n",
              "      <td>5320045</td>\n",
              "      <td>364700.0</td>\n",
              "    </tr>\n",
              "    <tr>\n",
              "      <th>2</th>\n",
              "      <td>France</td>\n",
              "      <td>67106161</td>\n",
              "      <td>2699000.0</td>\n",
              "    </tr>\n",
              "    <tr>\n",
              "      <th>3</th>\n",
              "      <td>Sweden</td>\n",
              "      <td>9960487</td>\n",
              "      <td>498100.0</td>\n",
              "    </tr>\n",
              "    <tr>\n",
              "      <th>4</th>\n",
              "      <td>Belarus</td>\n",
              "      <td>9549747</td>\n",
              "      <td>165400.0</td>\n",
              "    </tr>\n",
              "  </tbody>\n",
              "</table>\n",
              "</div>"
            ],
            "text/plain": [
              "      name    pop_est  gdp_md_est\n",
              "0   Russia  142257519   3745000.0\n",
              "1   Norway    5320045    364700.0\n",
              "2   France   67106161   2699000.0\n",
              "3   Sweden    9960487    498100.0\n",
              "4  Belarus    9549747    165400.0"
            ]
          },
          "metadata": {
            "tags": []
          },
          "execution_count": 31
        }
      ]
    },
    {
      "cell_type": "code",
      "metadata": {
        "id": "zwNmXFg0W5dn",
        "colab_type": "code",
        "outputId": "1511bf08-ee66-4b01-f3cd-e79d9b7e553a",
        "colab": {
          "base_uri": "https://localhost:8080/",
          "height": 235
        }
      },
      "source": [
        "europe = europe_boundaries.merge(europe_stats, on=\"name\")\n",
        "europe.set_index('name', inplace=True)\n",
        "europe.head()"
      ],
      "execution_count": 47,
      "outputs": [
        {
          "output_type": "execute_result",
          "data": {
            "text/html": [
              "<div>\n",
              "<style scoped>\n",
              "    .dataframe tbody tr th:only-of-type {\n",
              "        vertical-align: middle;\n",
              "    }\n",
              "\n",
              "    .dataframe tbody tr th {\n",
              "        vertical-align: top;\n",
              "    }\n",
              "\n",
              "    .dataframe thead th {\n",
              "        text-align: right;\n",
              "    }\n",
              "</style>\n",
              "<table border=\"1\" class=\"dataframe\">\n",
              "  <thead>\n",
              "    <tr style=\"text-align: right;\">\n",
              "      <th></th>\n",
              "      <th>geometry</th>\n",
              "      <th>pop_est</th>\n",
              "      <th>gdp_md_est</th>\n",
              "    </tr>\n",
              "    <tr>\n",
              "      <th>name</th>\n",
              "      <th></th>\n",
              "      <th></th>\n",
              "      <th></th>\n",
              "    </tr>\n",
              "  </thead>\n",
              "  <tbody>\n",
              "    <tr>\n",
              "      <th>Russia</th>\n",
              "      <td>MULTIPOLYGON (((178.725 71.099, 180.000 71.516...</td>\n",
              "      <td>142257519</td>\n",
              "      <td>3745000.0</td>\n",
              "    </tr>\n",
              "    <tr>\n",
              "      <th>Norway</th>\n",
              "      <td>MULTIPOLYGON (((15.143 79.674, 15.523 80.016, ...</td>\n",
              "      <td>5320045</td>\n",
              "      <td>364700.0</td>\n",
              "    </tr>\n",
              "    <tr>\n",
              "      <th>France</th>\n",
              "      <td>MULTIPOLYGON (((-51.658 4.156, -52.249 3.241, ...</td>\n",
              "      <td>67106161</td>\n",
              "      <td>2699000.0</td>\n",
              "    </tr>\n",
              "    <tr>\n",
              "      <th>Sweden</th>\n",
              "      <td>POLYGON ((11.027 58.856, 11.468 59.432, 12.300...</td>\n",
              "      <td>9960487</td>\n",
              "      <td>498100.0</td>\n",
              "    </tr>\n",
              "    <tr>\n",
              "      <th>Belarus</th>\n",
              "      <td>POLYGON ((28.177 56.169, 29.230 55.918, 29.372...</td>\n",
              "      <td>9549747</td>\n",
              "      <td>165400.0</td>\n",
              "    </tr>\n",
              "  </tbody>\n",
              "</table>\n",
              "</div>"
            ],
            "text/plain": [
              "                                                  geometry  ...  gdp_md_est\n",
              "name                                                        ...            \n",
              "Russia   MULTIPOLYGON (((178.725 71.099, 180.000 71.516...  ...   3745000.0\n",
              "Norway   MULTIPOLYGON (((15.143 79.674, 15.523 80.016, ...  ...    364700.0\n",
              "France   MULTIPOLYGON (((-51.658 4.156, -52.249 3.241, ...  ...   2699000.0\n",
              "Sweden   POLYGON ((11.027 58.856, 11.468 59.432, 12.300...  ...    498100.0\n",
              "Belarus  POLYGON ((28.177 56.169, 29.230 55.918, 29.372...  ...    165400.0\n",
              "\n",
              "[5 rows x 3 columns]"
            ]
          },
          "metadata": {
            "tags": []
          },
          "execution_count": 47
        }
      ]
    },
    {
      "cell_type": "markdown",
      "metadata": {
        "id": "v_jXFdpF6ddz",
        "colab_type": "text"
      },
      "source": [
        "นำมาข้อมูลจำนวนประชากรยุโรป มาพล็อตแผนที่รวมกับพิกัดมหาวิทยาลัยชั้นนำ จะเห็นว่ามีหลุดไปทวีปอื่น ๆ บ้าง"
      ]
    },
    {
      "cell_type": "code",
      "metadata": {
        "id": "eLyZ5QG60f52",
        "colab_type": "code",
        "colab": {}
      },
      "source": [
        "# Create a base map\n",
        "m_2 = folium.Map(location=[54, 15], tiles='cartodbpositron', zoom_start=3)\n",
        "\n",
        "# create a map\n",
        "Choropleth(geo_data=europe.geometry.__geo_interface__, data=europe.pop_est, key_on='feature.id', \n",
        "           fill_color='YlGnBu', \n",
        "           legend_name='Population').add_to(m_2)\n",
        "\n",
        "# Add points to the map\n",
        "for idx, row in universities.iterrows():\n",
        "    Marker([row['Latitude'], row['Longitude']], popup=row['Name']).add_to(m_2)\n",
        "\n",
        "embed_map(m_2, '25e-m_2.html')"
      ],
      "execution_count": 0,
      "outputs": []
    },
    {
      "cell_type": "markdown",
      "metadata": {
        "id": "0KVHoXpZ7CB6",
        "colab_type": "text"
      },
      "source": [
        "<!--- สำหรับแสดงบนเว็บไซต์ -->\n",
        "<iframe width=\"100%\" height=\"640\" src=\"https://www.bualabs.com/wp-content/uploads/2019/10/25e-m_2.html\" frameborder=\"0\" allowfullscreen></iframe>"
      ]
    },
    {
      "cell_type": "markdown",
      "metadata": {
        "id": "7LarfoL6W5W1",
        "colab_type": "text"
      },
      "source": [
        "# 7. Spatial Join"
      ]
    },
    {
      "cell_type": "markdown",
      "metadata": {
        "id": "tbCxLkeU37M7",
        "colab_type": "text"
      },
      "source": [
        "เราจะใช้ Spatial Join ในการ Match พิกันของมหาวิทยาลัยเข้า กับขอบเขตของประเทศในทวีปยุโรป"
      ]
    },
    {
      "cell_type": "code",
      "metadata": {
        "id": "ws9GmEGfW5RW",
        "colab_type": "code",
        "outputId": "6ce3d403-2499-42c7-c38a-8390e8ebfbe2",
        "colab": {
          "base_uri": "https://localhost:8080/",
          "height": 204
        }
      },
      "source": [
        "european_universities = gpd.sjoin(universities, europe)\n",
        "european_universities.head()"
      ],
      "execution_count": 53,
      "outputs": [
        {
          "output_type": "execute_result",
          "data": {
            "text/html": [
              "<div>\n",
              "<style scoped>\n",
              "    .dataframe tbody tr th:only-of-type {\n",
              "        vertical-align: middle;\n",
              "    }\n",
              "\n",
              "    .dataframe tbody tr th {\n",
              "        vertical-align: top;\n",
              "    }\n",
              "\n",
              "    .dataframe thead th {\n",
              "        text-align: right;\n",
              "    }\n",
              "</style>\n",
              "<table border=\"1\" class=\"dataframe\">\n",
              "  <thead>\n",
              "    <tr style=\"text-align: right;\">\n",
              "      <th></th>\n",
              "      <th>Name</th>\n",
              "      <th>Latitude</th>\n",
              "      <th>Longitude</th>\n",
              "      <th>geometry</th>\n",
              "      <th>index_right</th>\n",
              "      <th>pop_est</th>\n",
              "      <th>gdp_md_est</th>\n",
              "    </tr>\n",
              "  </thead>\n",
              "  <tbody>\n",
              "    <tr>\n",
              "      <th>0</th>\n",
              "      <td>University of Oxford</td>\n",
              "      <td>51.753454</td>\n",
              "      <td>-1.254010</td>\n",
              "      <td>POINT (-1.25401 51.75345)</td>\n",
              "      <td>United Kingdom</td>\n",
              "      <td>64769452</td>\n",
              "      <td>2788000.0</td>\n",
              "    </tr>\n",
              "    <tr>\n",
              "      <th>1</th>\n",
              "      <td>University of Cambridge</td>\n",
              "      <td>52.176390</td>\n",
              "      <td>0.143089</td>\n",
              "      <td>POINT (0.14309 52.17639)</td>\n",
              "      <td>United Kingdom</td>\n",
              "      <td>64769452</td>\n",
              "      <td>2788000.0</td>\n",
              "    </tr>\n",
              "    <tr>\n",
              "      <th>2</th>\n",
              "      <td>Imperial College London</td>\n",
              "      <td>51.498871</td>\n",
              "      <td>-0.175608</td>\n",
              "      <td>POINT (-0.17561 51.49887)</td>\n",
              "      <td>United Kingdom</td>\n",
              "      <td>64769452</td>\n",
              "      <td>2788000.0</td>\n",
              "    </tr>\n",
              "    <tr>\n",
              "      <th>4</th>\n",
              "      <td>UCL</td>\n",
              "      <td>51.521682</td>\n",
              "      <td>-0.135208</td>\n",
              "      <td>POINT (-0.13521 51.52168)</td>\n",
              "      <td>United Kingdom</td>\n",
              "      <td>64769452</td>\n",
              "      <td>2788000.0</td>\n",
              "    </tr>\n",
              "    <tr>\n",
              "      <th>5</th>\n",
              "      <td>London School of Economics and Political Science</td>\n",
              "      <td>51.514429</td>\n",
              "      <td>-0.116588</td>\n",
              "      <td>POINT (-0.11659 51.51443)</td>\n",
              "      <td>United Kingdom</td>\n",
              "      <td>64769452</td>\n",
              "      <td>2788000.0</td>\n",
              "    </tr>\n",
              "  </tbody>\n",
              "</table>\n",
              "</div>"
            ],
            "text/plain": [
              "                                               Name  ...  gdp_md_est\n",
              "0                              University of Oxford  ...   2788000.0\n",
              "1                           University of Cambridge  ...   2788000.0\n",
              "2                           Imperial College London  ...   2788000.0\n",
              "4                                               UCL  ...   2788000.0\n",
              "5  London School of Economics and Political Science  ...   2788000.0\n",
              "\n",
              "[5 rows x 7 columns]"
            ]
          },
          "metadata": {
            "tags": []
          },
          "execution_count": 53
        }
      ]
    },
    {
      "cell_type": "markdown",
      "metadata": {
        "id": "Fg3tZTQ24kfg",
        "colab_type": "text"
      },
      "source": [
        "จาก 89 มหาวิทยาลัยในตอนแรก เหลือ 83 มหาวิทยาลัย ใน 15 ประเทศ ในทวีปยุโรป"
      ]
    },
    {
      "cell_type": "code",
      "metadata": {
        "id": "sR0ljCpPW5KH",
        "colab_type": "code",
        "outputId": "7d7c14a6-61dc-4ea4-bc23-8b8dd8dae3e4",
        "colab": {
          "base_uri": "https://localhost:8080/",
          "height": 51
        }
      },
      "source": [
        "print(\"We located {} universities.\".format(len(universities)))\n",
        "print(\"Only {} of the universities were located in Europe (in {} different countries).\".format(\n",
        "    len(european_universities), len(european_universities.name.unique())))\n"
      ],
      "execution_count": 35,
      "outputs": [
        {
          "output_type": "stream",
          "text": [
            "We located 89 universities.\n",
            "Only 83 of the universities were located in Europe (in 15 different countries).\n"
          ],
          "name": "stdout"
        }
      ]
    },
    {
      "cell_type": "markdown",
      "metadata": {
        "id": "BvOSpNVj6XCY",
        "colab_type": "text"
      },
      "source": [
        "นำมาพล็อตลงแผนที่ ว่าจะเหลือแต่ในทวีปยุโรปไหม"
      ]
    },
    {
      "cell_type": "code",
      "metadata": {
        "id": "Zi7xN4UT6Az7",
        "colab_type": "code",
        "colab": {}
      },
      "source": [
        "# Create a base map\n",
        "m_3 = folium.Map(location=[54, 15], tiles='cartodbpositron', zoom_start=3)\n",
        "\n",
        "# create a map\n",
        "Choropleth(geo_data=europe.geometry.__geo_interface__, data=europe.pop_est, key_on='feature.id', \n",
        "           fill_color='YlGnBu', \n",
        "           legend_name='Population').add_to(m_3)\n",
        "\n",
        "# Add points to the map\n",
        "for idx, row in european_universities.iterrows():\n",
        "    Marker([row['Latitude'], row['Longitude']], popup=row['Name']).add_to(m_3)\n",
        "\n",
        "embed_map(m_3, '25e-m_3.html')"
      ],
      "execution_count": 0,
      "outputs": []
    },
    {
      "cell_type": "markdown",
      "metadata": {
        "id": "5eh6QSZl7IEA",
        "colab_type": "text"
      },
      "source": [
        "<!--- สำหรับแสดงบนเว็บไซต์ -->\n",
        "<iframe width=\"100%\" height=\"640\" src=\"https://www.bualabs.com/wp-content/uploads/2019/10/25e-m_3.html\" frameborder=\"0\" allowfullscreen></iframe>"
      ]
    },
    {
      "cell_type": "markdown",
      "metadata": {
        "id": "jv0ZTmOc5k5t",
        "colab_type": "text"
      },
      "source": [
        "# Credit"
      ]
    },
    {
      "cell_type": "markdown",
      "metadata": {
        "id": "bazjbG7u5k-m",
        "colab_type": "text"
      },
      "source": [
        "* https://www.kaggle.com/alexisbcook/manipulating-geospatial-data\n",
        "* http://geopandas.org/geocoding.html\n",
        "* http://geopandas.org/mergingdata.html\n",
        "* https://www.bualabs.com/archives/2744/geospatial-analysis-crimes-in-boston-usa-plot-interactive-map-crime-prevention-law-enforcement-folium-geospatial-ep-4/"
      ]
    },
    {
      "cell_type": "code",
      "metadata": {
        "id": "tOHLnwLAA36I",
        "colab_type": "code",
        "colab": {}
      },
      "source": [
        ""
      ],
      "execution_count": 0,
      "outputs": []
    }
  ]
}