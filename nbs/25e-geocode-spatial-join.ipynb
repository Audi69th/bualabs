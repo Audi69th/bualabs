{
  "nbformat": 4,
  "nbformat_minor": 0,
  "metadata": {
    "colab": {
      "name": "25e-geocode-spatial-join.ipynb",
      "provenance": []
    },
    "kernelspec": {
      "name": "python3",
      "display_name": "Python 3"
    },
    "accelerator": "GPU"
  },
  "cells": [
    {
      "cell_type": "markdown",
      "metadata": {
        "colab_type": "text",
        "id": "H9CYDwQ9gQ2u"
      },
      "source": [
        "ใน ep นี้"
      ]
    },
    {
      "cell_type": "markdown",
      "metadata": {
        "colab_type": "text",
        "id": "Y7QjHJiKRD9N"
      },
      "source": [
        "# 0. Install"
      ]
    },
    {
      "cell_type": "markdown",
      "metadata": {
        "colab_type": "text",
        "id": "_qxIXpQqTmzD"
      },
      "source": [
        "เราจะต้อง Install kaggle เพื่อ Download Dataset, geopandas เพื่อใช้ในการวิเคราะห์ข้อมูล geospatial, folium เพื่อแสดงแผ่นที่ (ถ้ายังไม่ได้ Install ให้ uncomment)"
      ]
    },
    {
      "cell_type": "code",
      "metadata": {
        "id": "O_A8cgODbten",
        "colab_type": "code",
        "colab": {}
      },
      "source": [
        "# !apt install gdal-bin python-gdal python3-gdal \n",
        "# # Install rtree - Geopandas requirment\n",
        "# !apt install python3-rtree \n",
        "# # Install Geopandas\n",
        "# !pip install git+git://github.com/geopandas/geopandas.git\n",
        "# # Install descartes - Geopandas requirment\n",
        "# !pip install descartes "
      ],
      "execution_count": 0,
      "outputs": []
    },
    {
      "cell_type": "code",
      "metadata": {
        "colab_type": "code",
        "id": "rnpSo4UOwmES",
        "colab": {}
      },
      "source": [
        "# ! pip install git+https://github.com/python-visualization/folium\n",
        "# ! pip install kaggle --upgrade"
      ],
      "execution_count": 0,
      "outputs": []
    },
    {
      "cell_type": "markdown",
      "metadata": {
        "colab_type": "text",
        "id": "eIhjYw2SRB31"
      },
      "source": [
        "# 1. Import Library"
      ]
    },
    {
      "cell_type": "markdown",
      "metadata": {
        "colab_type": "text",
        "id": "EYelaC8QUiuP"
      },
      "source": [
        "Import folium Library เพื่อใช้ในการพล็อตแผนที่แบบ Interactive"
      ]
    },
    {
      "cell_type": "code",
      "metadata": {
        "colab_type": "code",
        "id": "mQfGtLVJwJL8",
        "colab": {}
      },
      "source": [
        "import numpy as np\n",
        "import pandas as pd\n",
        "import geopandas as gpd\n",
        "from geopandas.tools import geocode\n",
        "\n",
        "import folium\n",
        "from folium import *\n",
        "from folium.plugins import *\n",
        "\n",
        "import os\n",
        "from pathlib import Path"
      ],
      "execution_count": 0,
      "outputs": []
    },
    {
      "cell_type": "markdown",
      "metadata": {
        "colab_type": "text",
        "id": "p_qNdgnbruIv"
      },
      "source": [
        "ประกาศฟังก์ชันในการแสดงแผนที่โดยใช้ HTML iframe แต่ Colab ไม่ Support iframe เราจะ return Map ออกไปเลย"
      ]
    },
    {
      "cell_type": "code",
      "metadata": {
        "colab_type": "code",
        "id": "T3E_jS42F8ru",
        "colab": {}
      },
      "source": [
        "from IPython.display import IFrame, HTML\n",
        "\n",
        "def embed_map(m, file_name):    \n",
        "    m.save(file_name)\n",
        "    # # VM\n",
        "    # return IFrame(src=file_name, width='100%', height='500px')\n",
        "\n",
        "    # Colab\n",
        "    return m"
      ],
      "execution_count": 0,
      "outputs": []
    },
    {
      "cell_type": "markdown",
      "metadata": {
        "colab_type": "text",
        "id": "hZBm5maPRLmi"
      },
      "source": [
        "# 2. เตรียม Path สำหรับดาวน์โหลดข้อมูล"
      ]
    },
    {
      "cell_type": "markdown",
      "metadata": {
        "colab_type": "text",
        "id": "9DBiIhGYT6VU"
      },
      "source": [
        "กำหนด path ของ Config File และ Dataset ว่าจะอยู่ใน Google Drive ถ้าเราใช้ Google Colab หรือ อยู่ใน HOME ถ้าเราใช้ VM ธรรมดา และกำหนด Environment Variable ไปยังโฟลเดอร์ที่เก็บ kaggle.json"
      ]
    },
    {
      "cell_type": "markdown",
      "metadata": {
        "colab_type": "text",
        "id": "3xwILAZXUBx-"
      },
      "source": [
        "ในกรณีใช้ Colab ให้ Mount Google Drive เพื่อดึง Config File มาจาก Google Drive ส่วนตัวของเรา เมื่อเรารัน Cell ด้านล่างจะมีลิงค์ปรากฎขึ้นมาให้เรา Login กด Approve แล้ว Copy Authorization Code มาใส่ในช่องด้านล่าง แล้วกด Enter"
      ]
    },
    {
      "cell_type": "code",
      "metadata": {
        "colab_type": "code",
        "id": "N7_7Mxaw8jfO",
        "colab": {}
      },
      "source": [
        "dataset = 'alexisbcook/geospatial-learn-course-data'\n",
        "\n",
        "# Google Colab\n",
        "config_path = Path('/content/drive')\n",
        "data_path = Path('/content/datasets/')/dataset\n",
        "from google.colab import drive\n",
        "drive.mount(str(config_path))\n",
        "os.environ['KAGGLE_CONFIG_DIR'] = f\"{config_path}/My Drive/.kaggle\"\n",
        "\n",
        "## VM\n",
        "# config_path = Path(os.getenv(\"HOME\"))\n",
        "# data_path = config_path/\"datasets\"/dataset\n",
        "# data_path.mkdir(parents=True, exist_ok=True)\n",
        "# os.environ['KAGGLE_CONFIG_DIR'] = f\"{config_path}/.kaggle\""
      ],
      "execution_count": 0,
      "outputs": []
    },
    {
      "cell_type": "markdown",
      "metadata": {
        "colab_type": "text",
        "id": "fjX_JnMaRRaM"
      },
      "source": [
        "# 3. Dataset"
      ]
    },
    {
      "cell_type": "markdown",
      "metadata": {
        "colab_type": "text",
        "id": "MhsZxRECNHv_"
      },
      "source": [
        "ในเคสนี้ เราจะสมมติตัวเองเป็นตำรวจในเมืองบอสตัน เราจะใช้ Dataset ที่เรามีมาวิเคราะห์อาชญากรรม ที่เกิดขึ้นในเมือง Boston ป้องกันปราบปรามอาชญากรรม ในเมืองนี้ให้ลดน้อยลง"
      ]
    },
    {
      "cell_type": "markdown",
      "metadata": {
        "colab_type": "text",
        "id": "Mtf3SFWCUYpu"
      },
      "source": [
        "สั่งดาวน์โหลด Dataset จาก Kaggle พร้อมทั้ง unzip ไว้ใน data_path"
      ]
    },
    {
      "cell_type": "code",
      "metadata": {
        "colab_type": "code",
        "id": "DWVg-d8V4kRq",
        "colab": {}
      },
      "source": [
        "!kaggle datasets download {dataset} -p \"{data_path}\" --unzip"
      ],
      "execution_count": 0,
      "outputs": []
    },
    {
      "cell_type": "markdown",
      "metadata": {
        "id": "-9a3w3CN4Zbr",
        "colab_type": "text"
      },
      "source": [
        "# 4. Geocoding"
      ]
    },
    {
      "cell_type": "code",
      "metadata": {
        "id": "1-8NGZk4SHgt",
        "colab_type": "code",
        "colab": {
          "base_uri": "https://localhost:8080/",
          "height": 80
        },
        "outputId": "f2f5468e-cf46-4bde-e36f-9fc9a7e453b4"
      },
      "source": [
        "result = geocode(\"Eiffel Tower\", provider=\"nominatim\", user_agent='BUA Labs/0.0.1')\n",
        "result"
      ],
      "execution_count": 7,
      "outputs": [
        {
          "output_type": "execute_result",
          "data": {
            "text/html": [
              "<div>\n",
              "<style scoped>\n",
              "    .dataframe tbody tr th:only-of-type {\n",
              "        vertical-align: middle;\n",
              "    }\n",
              "\n",
              "    .dataframe tbody tr th {\n",
              "        vertical-align: top;\n",
              "    }\n",
              "\n",
              "    .dataframe thead th {\n",
              "        text-align: right;\n",
              "    }\n",
              "</style>\n",
              "<table border=\"1\" class=\"dataframe\">\n",
              "  <thead>\n",
              "    <tr style=\"text-align: right;\">\n",
              "      <th></th>\n",
              "      <th>geometry</th>\n",
              "      <th>address</th>\n",
              "    </tr>\n",
              "  </thead>\n",
              "  <tbody>\n",
              "    <tr>\n",
              "      <th>0</th>\n",
              "      <td>POINT (2.29450 48.85826)</td>\n",
              "      <td>Tour Eiffel, 5, Avenue Anatole France, Quartie...</td>\n",
              "    </tr>\n",
              "  </tbody>\n",
              "</table>\n",
              "</div>"
            ],
            "text/plain": [
              "                   geometry                                            address\n",
              "0  POINT (2.29450 48.85826)  Tour Eiffel, 5, Avenue Anatole France, Quartie..."
            ]
          },
          "metadata": {
            "tags": []
          },
          "execution_count": 7
        }
      ]
    },
    {
      "cell_type": "code",
      "metadata": {
        "id": "mkCY6I46SaYV",
        "colab_type": "code",
        "colab": {
          "base_uri": "https://localhost:8080/",
          "height": 88
        },
        "outputId": "a9d363fb-3c50-442d-e09a-1fbfe2be924f"
      },
      "source": [
        "point = result.iloc[0].geometry\n",
        "print(f'Latitude: {point.y}')\n",
        "print(f'Longitude: {point.x}')\n",
        "print(f'Address: {result.iloc[0].address}')"
      ],
      "execution_count": 8,
      "outputs": [
        {
          "output_type": "stream",
          "text": [
            "Latitude: 48.8582602\n",
            "Longitude: 2.29449905431968\n",
            "Address: Tour Eiffel, 5, Avenue Anatole France, Quartier du Gros-Caillou, Paris 7e Arrondissement, Paris, Île-de-France, France métropolitaine, 75007, France\n"
          ],
          "name": "stdout"
        }
      ]
    },
    {
      "cell_type": "code",
      "metadata": {
        "id": "tjt5yDr9SagB",
        "colab_type": "code",
        "colab": {
          "base_uri": "https://localhost:8080/",
          "height": 204
        },
        "outputId": "45d493d6-19e3-43e6-855b-c1da24ba3a99"
      },
      "source": [
        "universities = pd.read_csv(data_path/\"top_universities.csv\")\n",
        "universities.head()"
      ],
      "execution_count": 9,
      "outputs": [
        {
          "output_type": "execute_result",
          "data": {
            "text/html": [
              "<div>\n",
              "<style scoped>\n",
              "    .dataframe tbody tr th:only-of-type {\n",
              "        vertical-align: middle;\n",
              "    }\n",
              "\n",
              "    .dataframe tbody tr th {\n",
              "        vertical-align: top;\n",
              "    }\n",
              "\n",
              "    .dataframe thead th {\n",
              "        text-align: right;\n",
              "    }\n",
              "</style>\n",
              "<table border=\"1\" class=\"dataframe\">\n",
              "  <thead>\n",
              "    <tr style=\"text-align: right;\">\n",
              "      <th></th>\n",
              "      <th>Name</th>\n",
              "    </tr>\n",
              "  </thead>\n",
              "  <tbody>\n",
              "    <tr>\n",
              "      <th>0</th>\n",
              "      <td>University of Oxford</td>\n",
              "    </tr>\n",
              "    <tr>\n",
              "      <th>1</th>\n",
              "      <td>University of Cambridge</td>\n",
              "    </tr>\n",
              "    <tr>\n",
              "      <th>2</th>\n",
              "      <td>Imperial College London</td>\n",
              "    </tr>\n",
              "    <tr>\n",
              "      <th>3</th>\n",
              "      <td>ETH Zurich</td>\n",
              "    </tr>\n",
              "    <tr>\n",
              "      <th>4</th>\n",
              "      <td>UCL</td>\n",
              "    </tr>\n",
              "  </tbody>\n",
              "</table>\n",
              "</div>"
            ],
            "text/plain": [
              "                      Name\n",
              "0     University of Oxford\n",
              "1  University of Cambridge\n",
              "2  Imperial College London\n",
              "3               ETH Zurich\n",
              "4                      UCL"
            ]
          },
          "metadata": {
            "tags": []
          },
          "execution_count": 9
        }
      ]
    },
    {
      "cell_type": "code",
      "metadata": {
        "id": "i64jEn0dU2BM",
        "colab_type": "code",
        "colab": {
          "base_uri": "https://localhost:8080/",
          "height": 34
        },
        "outputId": "72609216-50d2-4eba-a634-42ccb84aa6d2"
      },
      "source": [
        "len(universities)"
      ],
      "execution_count": 10,
      "outputs": [
        {
          "output_type": "execute_result",
          "data": {
            "text/plain": [
              "100"
            ]
          },
          "metadata": {
            "tags": []
          },
          "execution_count": 10
        }
      ]
    },
    {
      "cell_type": "code",
      "metadata": {
        "id": "dUX_oAscWQmR",
        "colab_type": "code",
        "colab": {}
      },
      "source": [
        "def my_geocoder(row):\n",
        "    try:\n",
        "        point = geocode(row, provider='nominatim', user_agent='BUA Labs/0.0.1').geometry.iloc[0]\n",
        "        return pd.Series({'Latitude': point.y, 'Longitude': point.x, 'geometry': point})\n",
        "    except:\n",
        "        return None\n"
      ],
      "execution_count": 0,
      "outputs": []
    },
    {
      "cell_type": "code",
      "metadata": {
        "id": "X2vHci3ASakS",
        "colab_type": "code",
        "colab": {
          "base_uri": "https://localhost:8080/",
          "height": 34
        },
        "outputId": "da7ae18d-b369-4491-a8c4-3082fac9989b"
      },
      "source": [
        "universities[['Latitude', 'Longitude', 'geometry']] = universities.apply(lambda x: my_geocoder(x['Name']), axis=1)\n",
        "\n",
        "print(\"{}% of addresses were geocoded!\".format(\n",
        "    (1 - sum(np.isnan(universities[\"Latitude\"])) / len(universities)) * 100))"
      ],
      "execution_count": 12,
      "outputs": [
        {
          "output_type": "stream",
          "text": [
            "89.0% of addresses were geocoded!\n"
          ],
          "name": "stdout"
        }
      ]
    },
    {
      "cell_type": "code",
      "metadata": {
        "id": "eqt00WccSaoa",
        "colab_type": "code",
        "colab": {
          "base_uri": "https://localhost:8080/",
          "height": 204
        },
        "outputId": "8cc5dd99-0ad4-4444-a086-e7e8d2a012f9"
      },
      "source": [
        "# Drop universities that were not successfully geocoded\n",
        "universities = universities.loc[~np.isnan(universities[\"Latitude\"])]\n",
        "universities = gpd.GeoDataFrame(universities, geometry=universities.geometry)\n",
        "universities.crs = {'init': 'epsg:4326'}\n",
        "universities.head()"
      ],
      "execution_count": 13,
      "outputs": [
        {
          "output_type": "execute_result",
          "data": {
            "text/html": [
              "<div>\n",
              "<style scoped>\n",
              "    .dataframe tbody tr th:only-of-type {\n",
              "        vertical-align: middle;\n",
              "    }\n",
              "\n",
              "    .dataframe tbody tr th {\n",
              "        vertical-align: top;\n",
              "    }\n",
              "\n",
              "    .dataframe thead th {\n",
              "        text-align: right;\n",
              "    }\n",
              "</style>\n",
              "<table border=\"1\" class=\"dataframe\">\n",
              "  <thead>\n",
              "    <tr style=\"text-align: right;\">\n",
              "      <th></th>\n",
              "      <th>Name</th>\n",
              "      <th>Latitude</th>\n",
              "      <th>Longitude</th>\n",
              "      <th>geometry</th>\n",
              "    </tr>\n",
              "  </thead>\n",
              "  <tbody>\n",
              "    <tr>\n",
              "      <th>0</th>\n",
              "      <td>University of Oxford</td>\n",
              "      <td>51.753454</td>\n",
              "      <td>-1.254010</td>\n",
              "      <td>POINT (-1.25401 51.75345)</td>\n",
              "    </tr>\n",
              "    <tr>\n",
              "      <th>1</th>\n",
              "      <td>University of Cambridge</td>\n",
              "      <td>52.176390</td>\n",
              "      <td>0.143089</td>\n",
              "      <td>POINT (0.14309 52.17639)</td>\n",
              "    </tr>\n",
              "    <tr>\n",
              "      <th>2</th>\n",
              "      <td>Imperial College London</td>\n",
              "      <td>51.498871</td>\n",
              "      <td>-0.175608</td>\n",
              "      <td>POINT (-0.17561 51.49887)</td>\n",
              "    </tr>\n",
              "    <tr>\n",
              "      <th>3</th>\n",
              "      <td>ETH Zurich</td>\n",
              "      <td>47.376453</td>\n",
              "      <td>8.547709</td>\n",
              "      <td>POINT (8.54771 47.37645)</td>\n",
              "    </tr>\n",
              "    <tr>\n",
              "      <th>4</th>\n",
              "      <td>UCL</td>\n",
              "      <td>51.521682</td>\n",
              "      <td>-0.135208</td>\n",
              "      <td>POINT (-0.13521 51.52168)</td>\n",
              "    </tr>\n",
              "  </tbody>\n",
              "</table>\n",
              "</div>"
            ],
            "text/plain": [
              "                      Name   Latitude  Longitude                   geometry\n",
              "0     University of Oxford  51.753454  -1.254010  POINT (-1.25401 51.75345)\n",
              "1  University of Cambridge  52.176390   0.143089   POINT (0.14309 52.17639)\n",
              "2  Imperial College London  51.498871  -0.175608  POINT (-0.17561 51.49887)\n",
              "3               ETH Zurich  47.376453   8.547709   POINT (8.54771 47.37645)\n",
              "4                      UCL  51.521682  -0.135208  POINT (-0.13521 51.52168)"
            ]
          },
          "metadata": {
            "tags": []
          },
          "execution_count": 13
        }
      ]
    },
    {
      "cell_type": "markdown",
      "metadata": {
        "id": "WcxRx02XSasj",
        "colab_type": "text"
      },
      "source": [
        "# 5. Plot Map"
      ]
    },
    {
      "cell_type": "code",
      "metadata": {
        "id": "Q6-bJsiOSaxl",
        "colab_type": "code",
        "colab": {
          "base_uri": "https://localhost:8080/",
          "height": 755
        },
        "outputId": "d748591f-e404-4bc9-e2cf-bf377795ac4c"
      },
      "source": [
        "# Create a map\n",
        "m_1 = folium.Map(location=[54, 15], tiles='openstreetmap', zoom_start=2)\n",
        "\n",
        "# Add points to the map\n",
        "for idx, row in universities.iterrows():\n",
        "    Marker([row['Latitude'], row['Longitude']], popup=row['Name']).add_to(m_1)\n",
        "\n",
        "# Display the map\n",
        "embed_map(m_1, '25e-m_1.html')"
      ],
      "execution_count": 14,
      "outputs": [
        {
          "output_type": "execute_result",
          "data": {
            "text/html": [
              "<div style=\"width:100%;\"><div style=\"position:relative;width:100%;height:0;padding-bottom:60%;\"><iframe src=\"data:text/html;charset=utf-8;base64,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\" style=\"position:absolute;width:100%;height:100%;left:0;top:0;border:none !important;\" allowfullscreen webkitallowfullscreen mozallowfullscreen></iframe></div></div>"
            ],
            "text/plain": [
              "<folium.folium.Map at 0x7f6fb85f35c0>"
            ]
          },
          "metadata": {
            "tags": []
          },
          "execution_count": 14
        }
      ]
    },
    {
      "cell_type": "markdown",
      "metadata": {
        "id": "nudZeQCQG-94",
        "colab_type": "text"
      },
      "source": [
        "<!--- สำหรับแสดงบนเว็บไซต์ -->\n",
        "<iframe width=\"100%\" height=\"640\" src=\"https://www.bualabs.com/wp-content/uploads/2019/10/25e-m_1.html\" frameborder=\"0\" allowfullscreen></iframe>"
      ]
    },
    {
      "cell_type": "markdown",
      "metadata": {
        "id": "BgELVOnkW5nL",
        "colab_type": "text"
      },
      "source": [
        "# 6. Table Join"
      ]
    },
    {
      "cell_type": "code",
      "metadata": {
        "id": "dJVdVrH4XV7S",
        "colab_type": "code",
        "colab": {}
      },
      "source": [
        "world = gpd.read_file(gpd.datasets.get_path('naturalearth_lowres'))\n",
        "europe = world.loc[world.continent == 'Europe'].reset_index(drop=True)\n",
        "\n",
        "europe_stats = europe[[\"name\", \"pop_est\", \"gdp_md_est\"]]\n",
        "europe_boundaries = europe[[\"name\", \"geometry\"]]"
      ],
      "execution_count": 0,
      "outputs": []
    },
    {
      "cell_type": "code",
      "metadata": {
        "id": "BKFhQx8LW5k7",
        "colab_type": "code",
        "colab": {
          "base_uri": "https://localhost:8080/",
          "height": 204
        },
        "outputId": "a19e71b0-112e-4143-af25-4a190ace014e"
      },
      "source": [
        "europe_boundaries.head()"
      ],
      "execution_count": 16,
      "outputs": [
        {
          "output_type": "execute_result",
          "data": {
            "text/html": [
              "<div>\n",
              "<style scoped>\n",
              "    .dataframe tbody tr th:only-of-type {\n",
              "        vertical-align: middle;\n",
              "    }\n",
              "\n",
              "    .dataframe tbody tr th {\n",
              "        vertical-align: top;\n",
              "    }\n",
              "\n",
              "    .dataframe thead th {\n",
              "        text-align: right;\n",
              "    }\n",
              "</style>\n",
              "<table border=\"1\" class=\"dataframe\">\n",
              "  <thead>\n",
              "    <tr style=\"text-align: right;\">\n",
              "      <th></th>\n",
              "      <th>name</th>\n",
              "      <th>geometry</th>\n",
              "    </tr>\n",
              "  </thead>\n",
              "  <tbody>\n",
              "    <tr>\n",
              "      <th>0</th>\n",
              "      <td>Russia</td>\n",
              "      <td>MULTIPOLYGON (((178.725 71.099, 180.000 71.516...</td>\n",
              "    </tr>\n",
              "    <tr>\n",
              "      <th>1</th>\n",
              "      <td>Norway</td>\n",
              "      <td>MULTIPOLYGON (((15.143 79.674, 15.523 80.016, ...</td>\n",
              "    </tr>\n",
              "    <tr>\n",
              "      <th>2</th>\n",
              "      <td>France</td>\n",
              "      <td>MULTIPOLYGON (((-51.658 4.156, -52.249 3.241, ...</td>\n",
              "    </tr>\n",
              "    <tr>\n",
              "      <th>3</th>\n",
              "      <td>Sweden</td>\n",
              "      <td>POLYGON ((11.027 58.856, 11.468 59.432, 12.300...</td>\n",
              "    </tr>\n",
              "    <tr>\n",
              "      <th>4</th>\n",
              "      <td>Belarus</td>\n",
              "      <td>POLYGON ((28.177 56.169, 29.230 55.918, 29.372...</td>\n",
              "    </tr>\n",
              "  </tbody>\n",
              "</table>\n",
              "</div>"
            ],
            "text/plain": [
              "      name                                           geometry\n",
              "0   Russia  MULTIPOLYGON (((178.725 71.099, 180.000 71.516...\n",
              "1   Norway  MULTIPOLYGON (((15.143 79.674, 15.523 80.016, ...\n",
              "2   France  MULTIPOLYGON (((-51.658 4.156, -52.249 3.241, ...\n",
              "3   Sweden  POLYGON ((11.027 58.856, 11.468 59.432, 12.300...\n",
              "4  Belarus  POLYGON ((28.177 56.169, 29.230 55.918, 29.372..."
            ]
          },
          "metadata": {
            "tags": []
          },
          "execution_count": 16
        }
      ]
    },
    {
      "cell_type": "code",
      "metadata": {
        "id": "K_e02wgDW5g0",
        "colab_type": "code",
        "colab": {
          "base_uri": "https://localhost:8080/",
          "height": 204
        },
        "outputId": "ee47c172-4cf8-47ac-8a9c-eb37fa0d8919"
      },
      "source": [
        "europe_stats.head()"
      ],
      "execution_count": 17,
      "outputs": [
        {
          "output_type": "execute_result",
          "data": {
            "text/html": [
              "<div>\n",
              "<style scoped>\n",
              "    .dataframe tbody tr th:only-of-type {\n",
              "        vertical-align: middle;\n",
              "    }\n",
              "\n",
              "    .dataframe tbody tr th {\n",
              "        vertical-align: top;\n",
              "    }\n",
              "\n",
              "    .dataframe thead th {\n",
              "        text-align: right;\n",
              "    }\n",
              "</style>\n",
              "<table border=\"1\" class=\"dataframe\">\n",
              "  <thead>\n",
              "    <tr style=\"text-align: right;\">\n",
              "      <th></th>\n",
              "      <th>name</th>\n",
              "      <th>pop_est</th>\n",
              "      <th>gdp_md_est</th>\n",
              "    </tr>\n",
              "  </thead>\n",
              "  <tbody>\n",
              "    <tr>\n",
              "      <th>0</th>\n",
              "      <td>Russia</td>\n",
              "      <td>142257519</td>\n",
              "      <td>3745000.0</td>\n",
              "    </tr>\n",
              "    <tr>\n",
              "      <th>1</th>\n",
              "      <td>Norway</td>\n",
              "      <td>5320045</td>\n",
              "      <td>364700.0</td>\n",
              "    </tr>\n",
              "    <tr>\n",
              "      <th>2</th>\n",
              "      <td>France</td>\n",
              "      <td>67106161</td>\n",
              "      <td>2699000.0</td>\n",
              "    </tr>\n",
              "    <tr>\n",
              "      <th>3</th>\n",
              "      <td>Sweden</td>\n",
              "      <td>9960487</td>\n",
              "      <td>498100.0</td>\n",
              "    </tr>\n",
              "    <tr>\n",
              "      <th>4</th>\n",
              "      <td>Belarus</td>\n",
              "      <td>9549747</td>\n",
              "      <td>165400.0</td>\n",
              "    </tr>\n",
              "  </tbody>\n",
              "</table>\n",
              "</div>"
            ],
            "text/plain": [
              "      name    pop_est  gdp_md_est\n",
              "0   Russia  142257519   3745000.0\n",
              "1   Norway    5320045    364700.0\n",
              "2   France   67106161   2699000.0\n",
              "3   Sweden    9960487    498100.0\n",
              "4  Belarus    9549747    165400.0"
            ]
          },
          "metadata": {
            "tags": []
          },
          "execution_count": 17
        }
      ]
    },
    {
      "cell_type": "code",
      "metadata": {
        "id": "zwNmXFg0W5dn",
        "colab_type": "code",
        "colab": {
          "base_uri": "https://localhost:8080/",
          "height": 204
        },
        "outputId": "00a47923-7078-4852-82a5-192c3225f1a2"
      },
      "source": [
        "europe = europe_boundaries.merge(europe_stats, on=\"name\")\n",
        "europe.head()"
      ],
      "execution_count": 18,
      "outputs": [
        {
          "output_type": "execute_result",
          "data": {
            "text/html": [
              "<div>\n",
              "<style scoped>\n",
              "    .dataframe tbody tr th:only-of-type {\n",
              "        vertical-align: middle;\n",
              "    }\n",
              "\n",
              "    .dataframe tbody tr th {\n",
              "        vertical-align: top;\n",
              "    }\n",
              "\n",
              "    .dataframe thead th {\n",
              "        text-align: right;\n",
              "    }\n",
              "</style>\n",
              "<table border=\"1\" class=\"dataframe\">\n",
              "  <thead>\n",
              "    <tr style=\"text-align: right;\">\n",
              "      <th></th>\n",
              "      <th>name</th>\n",
              "      <th>geometry</th>\n",
              "      <th>pop_est</th>\n",
              "      <th>gdp_md_est</th>\n",
              "    </tr>\n",
              "  </thead>\n",
              "  <tbody>\n",
              "    <tr>\n",
              "      <th>0</th>\n",
              "      <td>Russia</td>\n",
              "      <td>MULTIPOLYGON (((178.725 71.099, 180.000 71.516...</td>\n",
              "      <td>142257519</td>\n",
              "      <td>3745000.0</td>\n",
              "    </tr>\n",
              "    <tr>\n",
              "      <th>1</th>\n",
              "      <td>Norway</td>\n",
              "      <td>MULTIPOLYGON (((15.143 79.674, 15.523 80.016, ...</td>\n",
              "      <td>5320045</td>\n",
              "      <td>364700.0</td>\n",
              "    </tr>\n",
              "    <tr>\n",
              "      <th>2</th>\n",
              "      <td>France</td>\n",
              "      <td>MULTIPOLYGON (((-51.658 4.156, -52.249 3.241, ...</td>\n",
              "      <td>67106161</td>\n",
              "      <td>2699000.0</td>\n",
              "    </tr>\n",
              "    <tr>\n",
              "      <th>3</th>\n",
              "      <td>Sweden</td>\n",
              "      <td>POLYGON ((11.027 58.856, 11.468 59.432, 12.300...</td>\n",
              "      <td>9960487</td>\n",
              "      <td>498100.0</td>\n",
              "    </tr>\n",
              "    <tr>\n",
              "      <th>4</th>\n",
              "      <td>Belarus</td>\n",
              "      <td>POLYGON ((28.177 56.169, 29.230 55.918, 29.372...</td>\n",
              "      <td>9549747</td>\n",
              "      <td>165400.0</td>\n",
              "    </tr>\n",
              "  </tbody>\n",
              "</table>\n",
              "</div>"
            ],
            "text/plain": [
              "      name  ... gdp_md_est\n",
              "0   Russia  ...  3745000.0\n",
              "1   Norway  ...   364700.0\n",
              "2   France  ...  2699000.0\n",
              "3   Sweden  ...   498100.0\n",
              "4  Belarus  ...   165400.0\n",
              "\n",
              "[5 rows x 4 columns]"
            ]
          },
          "metadata": {
            "tags": []
          },
          "execution_count": 18
        }
      ]
    },
    {
      "cell_type": "markdown",
      "metadata": {
        "id": "7LarfoL6W5W1",
        "colab_type": "text"
      },
      "source": [
        "# 7. Spatial Join"
      ]
    },
    {
      "cell_type": "code",
      "metadata": {
        "id": "H3CAgXvXYY2n",
        "colab_type": "code",
        "colab": {}
      },
      "source": [
        "# universities = universities[universities.is_valid]"
      ],
      "execution_count": 0,
      "outputs": []
    },
    {
      "cell_type": "code",
      "metadata": {
        "id": "ws9GmEGfW5RW",
        "colab_type": "code",
        "colab": {
          "base_uri": "https://localhost:8080/",
          "height": 204
        },
        "outputId": "4aa8cc71-5304-4b5a-9fdf-f77919ad97cd"
      },
      "source": [
        "# Use spatial join to match universities to countries in Europe\n",
        "european_universities = gpd.sjoin(universities, europe)\n",
        "european_universities.head()"
      ],
      "execution_count": 20,
      "outputs": [
        {
          "output_type": "execute_result",
          "data": {
            "text/html": [
              "<div>\n",
              "<style scoped>\n",
              "    .dataframe tbody tr th:only-of-type {\n",
              "        vertical-align: middle;\n",
              "    }\n",
              "\n",
              "    .dataframe tbody tr th {\n",
              "        vertical-align: top;\n",
              "    }\n",
              "\n",
              "    .dataframe thead th {\n",
              "        text-align: right;\n",
              "    }\n",
              "</style>\n",
              "<table border=\"1\" class=\"dataframe\">\n",
              "  <thead>\n",
              "    <tr style=\"text-align: right;\">\n",
              "      <th></th>\n",
              "      <th>Name</th>\n",
              "      <th>Latitude</th>\n",
              "      <th>Longitude</th>\n",
              "      <th>geometry</th>\n",
              "      <th>index_right</th>\n",
              "      <th>name</th>\n",
              "      <th>pop_est</th>\n",
              "      <th>gdp_md_est</th>\n",
              "    </tr>\n",
              "  </thead>\n",
              "  <tbody>\n",
              "    <tr>\n",
              "      <th>0</th>\n",
              "      <td>University of Oxford</td>\n",
              "      <td>51.753454</td>\n",
              "      <td>-1.254010</td>\n",
              "      <td>POINT (-1.25401 51.75345)</td>\n",
              "      <td>28</td>\n",
              "      <td>United Kingdom</td>\n",
              "      <td>64769452</td>\n",
              "      <td>2788000.0</td>\n",
              "    </tr>\n",
              "    <tr>\n",
              "      <th>1</th>\n",
              "      <td>University of Cambridge</td>\n",
              "      <td>52.176390</td>\n",
              "      <td>0.143089</td>\n",
              "      <td>POINT (0.14309 52.17639)</td>\n",
              "      <td>28</td>\n",
              "      <td>United Kingdom</td>\n",
              "      <td>64769452</td>\n",
              "      <td>2788000.0</td>\n",
              "    </tr>\n",
              "    <tr>\n",
              "      <th>2</th>\n",
              "      <td>Imperial College London</td>\n",
              "      <td>51.498871</td>\n",
              "      <td>-0.175608</td>\n",
              "      <td>POINT (-0.17561 51.49887)</td>\n",
              "      <td>28</td>\n",
              "      <td>United Kingdom</td>\n",
              "      <td>64769452</td>\n",
              "      <td>2788000.0</td>\n",
              "    </tr>\n",
              "    <tr>\n",
              "      <th>4</th>\n",
              "      <td>UCL</td>\n",
              "      <td>51.521682</td>\n",
              "      <td>-0.135208</td>\n",
              "      <td>POINT (-0.13521 51.52168)</td>\n",
              "      <td>28</td>\n",
              "      <td>United Kingdom</td>\n",
              "      <td>64769452</td>\n",
              "      <td>2788000.0</td>\n",
              "    </tr>\n",
              "    <tr>\n",
              "      <th>5</th>\n",
              "      <td>London School of Economics and Political Science</td>\n",
              "      <td>51.514429</td>\n",
              "      <td>-0.116588</td>\n",
              "      <td>POINT (-0.11659 51.51443)</td>\n",
              "      <td>28</td>\n",
              "      <td>United Kingdom</td>\n",
              "      <td>64769452</td>\n",
              "      <td>2788000.0</td>\n",
              "    </tr>\n",
              "  </tbody>\n",
              "</table>\n",
              "</div>"
            ],
            "text/plain": [
              "                                               Name  ...  gdp_md_est\n",
              "0                              University of Oxford  ...   2788000.0\n",
              "1                           University of Cambridge  ...   2788000.0\n",
              "2                           Imperial College London  ...   2788000.0\n",
              "4                                               UCL  ...   2788000.0\n",
              "5  London School of Economics and Political Science  ...   2788000.0\n",
              "\n",
              "[5 rows x 8 columns]"
            ]
          },
          "metadata": {
            "tags": []
          },
          "execution_count": 20
        }
      ]
    },
    {
      "cell_type": "code",
      "metadata": {
        "id": "sR0ljCpPW5KH",
        "colab_type": "code",
        "colab": {
          "base_uri": "https://localhost:8080/",
          "height": 51
        },
        "outputId": "fcbbdd71-4d36-439e-b68d-d218304217a6"
      },
      "source": [
        "# Investigate the result\n",
        "print(\"We located {} universities.\".format(len(universities)))\n",
        "print(\"Only {} of the universities were located in Europe (in {} different countries).\".format(\n",
        "    len(european_universities), len(european_universities.name.unique())))\n"
      ],
      "execution_count": 21,
      "outputs": [
        {
          "output_type": "stream",
          "text": [
            "We located 89 universities.\n",
            "Only 83 of the universities were located in Europe (in 15 different countries).\n"
          ],
          "name": "stdout"
        }
      ]
    },
    {
      "cell_type": "code",
      "metadata": {
        "id": "MkT_0zArW5Gt",
        "colab_type": "code",
        "colab": {}
      },
      "source": [
        ""
      ],
      "execution_count": 0,
      "outputs": []
    },
    {
      "cell_type": "code",
      "metadata": {
        "id": "aO0fPFcBW43B",
        "colab_type": "code",
        "colab": {}
      },
      "source": [
        ""
      ],
      "execution_count": 0,
      "outputs": []
    },
    {
      "cell_type": "markdown",
      "metadata": {
        "id": "Mq0Nw2PNE59f",
        "colab_type": "text"
      },
      "source": [
        "aa\n"
      ]
    },
    {
      "cell_type": "markdown",
      "metadata": {
        "id": "jv0ZTmOc5k5t",
        "colab_type": "text"
      },
      "source": [
        "# Credit"
      ]
    },
    {
      "cell_type": "markdown",
      "metadata": {
        "id": "bazjbG7u5k-m",
        "colab_type": "text"
      },
      "source": [
        "* https://www.kaggle.com/alexisbcook/manipulating-geospatial-data\n",
        "* http://geopandas.org/geocoding.html\n",
        "* http://geopandas.org/mergingdata.html\n",
        "* https://www.bualabs.com/archives/2744/geospatial-analysis-crimes-in-boston-usa-plot-interactive-map-crime-prevention-law-enforcement-folium-geospatial-ep-4/"
      ]
    },
    {
      "cell_type": "code",
      "metadata": {
        "id": "tOHLnwLAA36I",
        "colab_type": "code",
        "colab": {}
      },
      "source": [
        ""
      ],
      "execution_count": 0,
      "outputs": []
    }
  ]
}