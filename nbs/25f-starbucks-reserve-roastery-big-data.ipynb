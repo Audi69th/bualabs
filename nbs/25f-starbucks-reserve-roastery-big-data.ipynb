{
  "nbformat": 4,
  "nbformat_minor": 0,
  "metadata": {
    "colab": {
      "name": "25f-starbucks-reserve-roastery-big-data.ipynb",
      "provenance": []
    },
    "kernelspec": {
      "name": "python3",
      "display_name": "Python 3"
    },
    "accelerator": "GPU"
  },
  "cells": [
    {
      "cell_type": "markdown",
      "metadata": {
        "id": "IZGOvVJn-Har",
        "colab_type": "text"
      },
      "source": [
        "ใน ep นี้เราจะสมมติตัวเองเป็น Big Data Analyst ของ Starbucks ที่รับมอบหมายงาน ให้หาทำเลที่บริษัทจะก่อสร้าง ร้านกาแฟสาขาพิเศษแบบ Starbucks Reserve Roastery สาขาต่อไป เราจะวิเคราะห์ข้อมูลภูมิศาสตร์ และข้อมูลประชากร ในแต่ละ County ในรัฐ California ประเทศสหรัฐอเมริกา เพื่อหาทำเลที่มีศักยภาพ\n",
        "\n",
        "*Starbucks Reserve Roastery คือ ร้านกาแฟ Starbucks ขนาดใหญ่พิเศษ มีสินค้าและบริการเสริมหลากหลาย กว่าสาขาปกติ เช่น โรงคั่วกาแฟ อาหารนานาชาติ ไวน์ เล้าจน์หรู คอยบริการลูกค้า*"
      ]
    },
    {
      "cell_type": "markdown",
      "metadata": {
        "colab_type": "text",
        "id": "Y7QjHJiKRD9N"
      },
      "source": [
        "# 0. Install"
      ]
    },
    {
      "cell_type": "markdown",
      "metadata": {
        "colab_type": "text",
        "id": "_qxIXpQqTmzD"
      },
      "source": [
        "เราจะต้อง Install kaggle เพื่อ Download Dataset, geopandas เพื่อใช้ในการวิเคราะห์ข้อมูล geospatial, folium เพื่อแสดงแผ่นที่, rtree ให้สำหรับ Spatial Join (ถ้ายังไม่ได้ Install ให้ uncomment)"
      ]
    },
    {
      "cell_type": "code",
      "metadata": {
        "id": "O_A8cgODbten",
        "colab_type": "code",
        "colab": {}
      },
      "source": [
        "# !apt install gdal-bin python-gdal python3-gdal \n",
        "# # Install rtree - Geopandas requirment\n",
        "# !apt install python3-rtree \n",
        "# # Install Geopandas\n",
        "# !pip install git+git://github.com/geopandas/geopandas.git\n",
        "# # Install descartes - Geopandas requirment\n",
        "# !pip install descartes "
      ],
      "execution_count": 0,
      "outputs": []
    },
    {
      "cell_type": "code",
      "metadata": {
        "colab_type": "code",
        "id": "rnpSo4UOwmES",
        "colab": {}
      },
      "source": [
        "# ! pip install git+https://github.com/python-visualization/folium\n",
        "# ! pip install kaggle --upgrade"
      ],
      "execution_count": 0,
      "outputs": []
    },
    {
      "cell_type": "markdown",
      "metadata": {
        "colab_type": "text",
        "id": "eIhjYw2SRB31"
      },
      "source": [
        "# 1. Import Library"
      ]
    },
    {
      "cell_type": "markdown",
      "metadata": {
        "colab_type": "text",
        "id": "EYelaC8QUiuP"
      },
      "source": [
        "Import Library เพื่อใช้ในการวิเคราะห์ Spatial Analysis และ พล็อตแผนที่แบบ Interactive"
      ]
    },
    {
      "cell_type": "code",
      "metadata": {
        "colab_type": "code",
        "id": "mQfGtLVJwJL8",
        "colab": {}
      },
      "source": [
        "import numpy as np\n",
        "import pandas as pd\n",
        "import geopandas as gpd\n",
        "from geopandas.tools import geocode\n",
        "\n",
        "import folium\n",
        "from folium import *\n",
        "from folium.plugins import *\n",
        "\n",
        "import os\n",
        "from pathlib import Path"
      ],
      "execution_count": 0,
      "outputs": []
    },
    {
      "cell_type": "markdown",
      "metadata": {
        "colab_type": "text",
        "id": "p_qNdgnbruIv"
      },
      "source": [
        "ประกาศฟังก์ชันในการแสดงแผนที่โดยใช้ HTML iframe แต่ Colab ไม่ Support iframe เราจะ return Map ออกไปเลย แต่มีข้อเสียคือถ้า Map ข้อมูลมากเกินไปอาจจะไม่โชว์เลย"
      ]
    },
    {
      "cell_type": "code",
      "metadata": {
        "colab_type": "code",
        "id": "T3E_jS42F8ru",
        "colab": {}
      },
      "source": [
        "from IPython.display import IFrame, HTML\n",
        "\n",
        "def embed_map(m, file_name):    \n",
        "    m.save(file_name)\n",
        "    # # VM\n",
        "    # return IFrame(src=file_name, width='100%', height='500px')\n",
        "\n",
        "    # Colab\n",
        "    return m"
      ],
      "execution_count": 0,
      "outputs": []
    },
    {
      "cell_type": "markdown",
      "metadata": {
        "colab_type": "text",
        "id": "hZBm5maPRLmi"
      },
      "source": [
        "# 2. เตรียม Path สำหรับดาวน์โหลดข้อมูล"
      ]
    },
    {
      "cell_type": "markdown",
      "metadata": {
        "colab_type": "text",
        "id": "9DBiIhGYT6VU"
      },
      "source": [
        "กำหนด path ของ Config File และ Dataset ว่าจะอยู่ใน Google Drive ถ้าเราใช้ Google Colab หรือ อยู่ใน HOME ถ้าเราใช้ VM ธรรมดา และกำหนด Environment Variable ไปยังโฟลเดอร์ที่เก็บ kaggle.json"
      ]
    },
    {
      "cell_type": "markdown",
      "metadata": {
        "colab_type": "text",
        "id": "3xwILAZXUBx-"
      },
      "source": [
        "ในกรณีใช้ Colab ให้ Mount Google Drive เพื่อดึง Config File มาจาก Google Drive ส่วนตัวของเรา เมื่อเรารัน Cell ด้านล่างจะมีลิงค์ปรากฎขึ้นมาให้เรา Login กด Approve แล้ว Copy Authorization Code มาใส่ในช่องด้านล่าง แล้วกด Enter"
      ]
    },
    {
      "cell_type": "code",
      "metadata": {
        "colab_type": "code",
        "id": "N7_7Mxaw8jfO",
        "outputId": "0ef6b927-f181-4bca-f623-459179e6a1c7",
        "colab": {
          "base_uri": "https://localhost:8080/",
          "height": 122
        }
      },
      "source": [
        "dataset = 'alexisbcook/geospatial-learn-course-data'\n",
        "\n",
        "# Google Colab\n",
        "config_path = Path('/content/drive')\n",
        "data_path = Path('/content/datasets/')/dataset\n",
        "from google.colab import drive\n",
        "drive.mount(str(config_path))\n",
        "os.environ['KAGGLE_CONFIG_DIR'] = f\"{config_path}/My Drive/.kaggle\"\n",
        "\n",
        "## VM\n",
        "# config_path = Path(os.getenv(\"HOME\"))\n",
        "# data_path = config_path/\"datasets\"/dataset\n",
        "# data_path.mkdir(parents=True, exist_ok=True)\n",
        "# os.environ['KAGGLE_CONFIG_DIR'] = f\"{config_path}/.kaggle\""
      ],
      "execution_count": 0,
      "outputs": [
        {
          "output_type": "stream",
          "text": [
            "Go to this URL in a browser: https://accounts.google.com/o/oauth2/auth?client_id=947318989803-6bn6qk8qdgf4n4g3pfee6491hc0brc4i.apps.googleusercontent.com&redirect_uri=urn%3Aietf%3Awg%3Aoauth%3A2.0%3Aoob&scope=email%20https%3A%2F%2Fwww.googleapis.com%2Fauth%2Fdocs.test%20https%3A%2F%2Fwww.googleapis.com%2Fauth%2Fdrive%20https%3A%2F%2Fwww.googleapis.com%2Fauth%2Fdrive.photos.readonly%20https%3A%2F%2Fwww.googleapis.com%2Fauth%2Fpeopleapi.readonly&response_type=code\n",
            "\n",
            "Enter your authorization code:\n",
            "··········\n",
            "Mounted at /content/drive\n"
          ],
          "name": "stdout"
        }
      ]
    },
    {
      "cell_type": "markdown",
      "metadata": {
        "colab_type": "text",
        "id": "fjX_JnMaRRaM"
      },
      "source": [
        "# 3. Dataset"
      ]
    },
    {
      "cell_type": "markdown",
      "metadata": {
        "colab_type": "text",
        "id": "MhsZxRECNHv_"
      },
      "source": [
        "ในเคสนี้ เราจะใช้ Dataset พิกัดภูมิศาสตร์ของร้านกาแฟ Starbucks ในรัฐแคลิฟอเนีย ประเทศสหรัฐอเมริกา"
      ]
    },
    {
      "cell_type": "markdown",
      "metadata": {
        "colab_type": "text",
        "id": "Mtf3SFWCUYpu"
      },
      "source": [
        "Dataset เราจะดึงจาก Kaggle วิธี Download kaggle.json ให้ดูจาก ep ที่แล้ว\n",
        "\n",
        "เมื่อได้ kaggle.json มาแล้ว ในกรณีใช้ Google Colab ให้นำมาใส่ไว้ในโฟลเดอร์ My Drive/.kaggle ใน Google Drive ของเรา เป็น My Drive/.kaggle/kaggle.json ถ้าใช้ VM ให้ใส่ใน HOME/.kaggle/\n",
        "\n",
        "สั่งดาวน์โหลด Dataset จาก Kaggle พร้อมทั้ง unzip ไว้ใน data_path"
      ]
    },
    {
      "cell_type": "code",
      "metadata": {
        "colab_type": "code",
        "id": "DWVg-d8V4kRq",
        "outputId": "a1941e2d-1a62-499f-ec7c-7671301df254",
        "colab": {
          "base_uri": "https://localhost:8080/",
          "height": 68
        }
      },
      "source": [
        "!kaggle datasets download {dataset} -p \"{data_path}\" --unzip"
      ],
      "execution_count": 0,
      "outputs": [
        {
          "output_type": "stream",
          "text": [
            "Downloading geospatial-learn-course-data.zip to /content/datasets/alexisbcook/geospatial-learn-course-data\n",
            " 96% 225M/233M [00:06<00:00, 38.5MB/s]\n",
            "100% 233M/233M [00:06<00:00, 37.7MB/s]\n"
          ],
          "name": "stdout"
        }
      ]
    },
    {
      "cell_type": "markdown",
      "metadata": {
        "id": "9KMgX_kls-qk",
        "colab_type": "text"
      },
      "source": [
        "โหลดข้อมูล ร้านกาแฟ Starbucks ในรัฐแคลิฟอเนีย ประเทศสหรัฐอเมริกา แล้วเปิดดู 5 ตัวอย่างแรก"
      ]
    },
    {
      "cell_type": "code",
      "metadata": {
        "id": "tjt5yDr9SagB",
        "colab_type": "code",
        "outputId": "148f447e-cedb-4f04-87b3-9f174dfc8817",
        "colab": {
          "base_uri": "https://localhost:8080/",
          "height": 204
        }
      },
      "source": [
        "starbucks = pd.read_csv(data_path/\"starbucks_locations.csv\")\n",
        "starbucks.head()"
      ],
      "execution_count": 0,
      "outputs": [
        {
          "output_type": "execute_result",
          "data": {
            "text/html": [
              "<div>\n",
              "<style scoped>\n",
              "    .dataframe tbody tr th:only-of-type {\n",
              "        vertical-align: middle;\n",
              "    }\n",
              "\n",
              "    .dataframe tbody tr th {\n",
              "        vertical-align: top;\n",
              "    }\n",
              "\n",
              "    .dataframe thead th {\n",
              "        text-align: right;\n",
              "    }\n",
              "</style>\n",
              "<table border=\"1\" class=\"dataframe\">\n",
              "  <thead>\n",
              "    <tr style=\"text-align: right;\">\n",
              "      <th></th>\n",
              "      <th>Store Number</th>\n",
              "      <th>Store Name</th>\n",
              "      <th>Address</th>\n",
              "      <th>City</th>\n",
              "      <th>Longitude</th>\n",
              "      <th>Latitude</th>\n",
              "    </tr>\n",
              "  </thead>\n",
              "  <tbody>\n",
              "    <tr>\n",
              "      <th>0</th>\n",
              "      <td>10429-100710</td>\n",
              "      <td>Palmdale &amp; Hwy 395</td>\n",
              "      <td>14136 US Hwy 395 Adelanto CA</td>\n",
              "      <td>Adelanto</td>\n",
              "      <td>-117.40</td>\n",
              "      <td>34.51</td>\n",
              "    </tr>\n",
              "    <tr>\n",
              "      <th>1</th>\n",
              "      <td>635-352</td>\n",
              "      <td>Kanan &amp; Thousand Oaks</td>\n",
              "      <td>5827 Kanan Road Agoura CA</td>\n",
              "      <td>Agoura</td>\n",
              "      <td>-118.76</td>\n",
              "      <td>34.16</td>\n",
              "    </tr>\n",
              "    <tr>\n",
              "      <th>2</th>\n",
              "      <td>74510-27669</td>\n",
              "      <td>Vons-Agoura Hills #2001</td>\n",
              "      <td>5671 Kanan Rd. Agoura Hills CA</td>\n",
              "      <td>Agoura Hills</td>\n",
              "      <td>-118.76</td>\n",
              "      <td>34.15</td>\n",
              "    </tr>\n",
              "    <tr>\n",
              "      <th>3</th>\n",
              "      <td>29839-255026</td>\n",
              "      <td>Target Anaheim T-0677</td>\n",
              "      <td>8148 E SANTA ANA CANYON ROAD AHAHEIM CA</td>\n",
              "      <td>AHAHEIM</td>\n",
              "      <td>-117.75</td>\n",
              "      <td>33.87</td>\n",
              "    </tr>\n",
              "    <tr>\n",
              "      <th>4</th>\n",
              "      <td>23463-230284</td>\n",
              "      <td>Safeway - Alameda 3281</td>\n",
              "      <td>2600 5th Street Alameda CA</td>\n",
              "      <td>Alameda</td>\n",
              "      <td>-122.28</td>\n",
              "      <td>37.79</td>\n",
              "    </tr>\n",
              "  </tbody>\n",
              "</table>\n",
              "</div>"
            ],
            "text/plain": [
              "   Store Number               Store Name  ... Longitude Latitude\n",
              "0  10429-100710       Palmdale & Hwy 395  ...   -117.40    34.51\n",
              "1       635-352    Kanan & Thousand Oaks  ...   -118.76    34.16\n",
              "2   74510-27669  Vons-Agoura Hills #2001  ...   -118.76    34.15\n",
              "3  29839-255026    Target Anaheim T-0677  ...   -117.75    33.87\n",
              "4  23463-230284   Safeway - Alameda 3281  ...   -122.28    37.79\n",
              "\n",
              "[5 rows x 6 columns]"
            ]
          },
          "metadata": {
            "tags": []
          },
          "execution_count": 9
        }
      ]
    },
    {
      "cell_type": "markdown",
      "metadata": {
        "id": "ABa-O3nctHXJ",
        "colab_type": "text"
      },
      "source": [
        "จากทั้งหมด จำนวน 2821 สาขา"
      ]
    },
    {
      "cell_type": "code",
      "metadata": {
        "id": "i64jEn0dU2BM",
        "colab_type": "code",
        "outputId": "99335ee6-0775-4060-a23e-fb521204050b",
        "colab": {
          "base_uri": "https://localhost:8080/",
          "height": 34
        }
      },
      "source": [
        "len(starbucks)"
      ],
      "execution_count": 0,
      "outputs": [
        {
          "output_type": "execute_result",
          "data": {
            "text/plain": [
              "2821"
            ]
          },
          "metadata": {
            "tags": []
          },
          "execution_count": 10
        }
      ]
    },
    {
      "cell_type": "markdown",
      "metadata": {
        "id": "usNXFUeUAR_4",
        "colab_type": "text"
      },
      "source": [
        "## 3.1 มีกี่สาขาที่ข้อมูลพิกัดขาดหายไป"
      ]
    },
    {
      "cell_type": "markdown",
      "metadata": {
        "id": "PKkoPMICAmsQ",
        "colab_type": "text"
      },
      "source": [
        "ขาดไป 5 สาขา"
      ]
    },
    {
      "cell_type": "code",
      "metadata": {
        "id": "tIkESLen5z9I",
        "colab_type": "code",
        "outputId": "d9d8c659-b0cf-4dfd-f4ba-06f22a09194b",
        "colab": {
          "base_uri": "https://localhost:8080/",
          "height": 136
        }
      },
      "source": [
        "print(starbucks.isnull().sum())"
      ],
      "execution_count": 0,
      "outputs": [
        {
          "output_type": "stream",
          "text": [
            "Store Number    0\n",
            "Store Name      0\n",
            "Address         0\n",
            "City            0\n",
            "Longitude       5\n",
            "Latitude        5\n",
            "dtype: int64\n"
          ],
          "name": "stdout"
        }
      ]
    },
    {
      "cell_type": "markdown",
      "metadata": {
        "id": "InxbS9UTAcgF",
        "colab_type": "text"
      },
      "source": [
        "สาขาที่อยู่ในเมือง Berkeley ข้อมูลพิกัด Latitude, Longitude ขาดหายไป"
      ]
    },
    {
      "cell_type": "code",
      "metadata": {
        "id": "OtkwYN2K5zxj",
        "colab_type": "code",
        "outputId": "423573ef-6506-4493-e8e6-a905a93f111d",
        "colab": {
          "base_uri": "https://localhost:8080/",
          "height": 204
        }
      },
      "source": [
        "rows_with_missing = starbucks[starbucks[\"City\"]==\"Berkeley\"]\n",
        "rows_with_missing"
      ],
      "execution_count": 0,
      "outputs": [
        {
          "output_type": "execute_result",
          "data": {
            "text/html": [
              "<div>\n",
              "<style scoped>\n",
              "    .dataframe tbody tr th:only-of-type {\n",
              "        vertical-align: middle;\n",
              "    }\n",
              "\n",
              "    .dataframe tbody tr th {\n",
              "        vertical-align: top;\n",
              "    }\n",
              "\n",
              "    .dataframe thead th {\n",
              "        text-align: right;\n",
              "    }\n",
              "</style>\n",
              "<table border=\"1\" class=\"dataframe\">\n",
              "  <thead>\n",
              "    <tr style=\"text-align: right;\">\n",
              "      <th></th>\n",
              "      <th>Store Number</th>\n",
              "      <th>Store Name</th>\n",
              "      <th>Address</th>\n",
              "      <th>City</th>\n",
              "      <th>Longitude</th>\n",
              "      <th>Latitude</th>\n",
              "    </tr>\n",
              "  </thead>\n",
              "  <tbody>\n",
              "    <tr>\n",
              "      <th>153</th>\n",
              "      <td>5406-945</td>\n",
              "      <td>2224 Shattuck - Berkeley</td>\n",
              "      <td>2224 Shattuck Avenue Berkeley CA</td>\n",
              "      <td>Berkeley</td>\n",
              "      <td>NaN</td>\n",
              "      <td>NaN</td>\n",
              "    </tr>\n",
              "    <tr>\n",
              "      <th>154</th>\n",
              "      <td>570-512</td>\n",
              "      <td>Solano Ave</td>\n",
              "      <td>1799 Solano Avenue Berkeley CA</td>\n",
              "      <td>Berkeley</td>\n",
              "      <td>NaN</td>\n",
              "      <td>NaN</td>\n",
              "    </tr>\n",
              "    <tr>\n",
              "      <th>155</th>\n",
              "      <td>17877-164526</td>\n",
              "      <td>Safeway - Berkeley #691</td>\n",
              "      <td>1444 Shattuck Place Berkeley CA</td>\n",
              "      <td>Berkeley</td>\n",
              "      <td>NaN</td>\n",
              "      <td>NaN</td>\n",
              "    </tr>\n",
              "    <tr>\n",
              "      <th>156</th>\n",
              "      <td>19864-202264</td>\n",
              "      <td>Telegraph &amp; Ashby</td>\n",
              "      <td>3001 Telegraph Avenue Berkeley CA</td>\n",
              "      <td>Berkeley</td>\n",
              "      <td>NaN</td>\n",
              "      <td>NaN</td>\n",
              "    </tr>\n",
              "    <tr>\n",
              "      <th>157</th>\n",
              "      <td>9217-9253</td>\n",
              "      <td>2128 Oxford St.</td>\n",
              "      <td>2128 Oxford Street Berkeley CA</td>\n",
              "      <td>Berkeley</td>\n",
              "      <td>NaN</td>\n",
              "      <td>NaN</td>\n",
              "    </tr>\n",
              "  </tbody>\n",
              "</table>\n",
              "</div>"
            ],
            "text/plain": [
              "     Store Number                Store Name  ... Longitude Latitude\n",
              "153      5406-945  2224 Shattuck - Berkeley  ...       NaN      NaN\n",
              "154       570-512                Solano Ave  ...       NaN      NaN\n",
              "155  17877-164526   Safeway - Berkeley #691  ...       NaN      NaN\n",
              "156  19864-202264         Telegraph & Ashby  ...       NaN      NaN\n",
              "157     9217-9253           2128 Oxford St.  ...       NaN      NaN\n",
              "\n",
              "[5 rows x 6 columns]"
            ]
          },
          "metadata": {
            "tags": []
          },
          "execution_count": 13
        }
      ]
    },
    {
      "cell_type": "markdown",
      "metadata": {
        "id": "ViAAeTUm8Gkk",
        "colab_type": "text"
      },
      "source": [
        "# 4. Geocode"
      ]
    },
    {
      "cell_type": "markdown",
      "metadata": {
        "id": "tGiH5tLate8n",
        "colab_type": "text"
      },
      "source": [
        "ประกาศฟังก์ชัน สำหรับเรียก geocode แล้วมาเติมให้ Feature Latitude, Longitude"
      ]
    },
    {
      "cell_type": "code",
      "metadata": {
        "id": "dUX_oAscWQmR",
        "colab_type": "code",
        "colab": {}
      },
      "source": [
        "def my_geocoder(row):\n",
        "    try:\n",
        "        point = geocode(row.Address, provider='nominatim', user_agent='BUA Labs/0.0.1').geometry.iloc[0]\n",
        "        row['Latitude'] = point.y\n",
        "        row['Longitude'] = point.x\n",
        "        return row    \n",
        "    except:\n",
        "        return None"
      ],
      "execution_count": 0,
      "outputs": []
    },
    {
      "cell_type": "markdown",
      "metadata": {
        "id": "JmCivudFtxYn",
        "colab_type": "text"
      },
      "source": [
        "เราจะใช้ที่อยู่ address ไปเรียก Geocode เพื่อนำพิกัดมาใส่ใน starbucks Pandas Dataframe ที่พิกัดขาดหายไป"
      ]
    },
    {
      "cell_type": "code",
      "metadata": {
        "id": "X2vHci3ASakS",
        "colab_type": "code",
        "colab": {}
      },
      "source": [
        "starbucks.loc[starbucks[\"City\"]==\"Berkeley\"] = starbucks.loc[starbucks[\"City\"]==\"Berkeley\"].apply(lambda x: my_geocoder(x), axis=1)"
      ],
      "execution_count": 0,
      "outputs": []
    },
    {
      "cell_type": "markdown",
      "metadata": {
        "id": "WcxRx02XSasj",
        "colab_type": "text"
      },
      "source": [
        "# 5. Plot Map"
      ]
    },
    {
      "cell_type": "markdown",
      "metadata": {
        "id": "IgRhRQzLzZc0",
        "colab_type": "text"
      },
      "source": [
        "นำข้อมูลพิกัดร้านกาแฟ Starbucks ในเมือง Berkeley ด้านบน มาพล็อตบนแผนที่"
      ]
    },
    {
      "cell_type": "code",
      "metadata": {
        "id": "Q6-bJsiOSaxl",
        "colab_type": "code",
        "colab": {}
      },
      "source": [
        "# Create a base map\n",
        "m_2 = folium.Map(location=[37.88,-122.26], zoom_start=13)\n",
        "\n",
        "# Add a marker for each Berkeley location\n",
        "for idx, row in starbucks.loc[starbucks[\"City\"]==\"Berkeley\"].iterrows():    \n",
        "    Marker([row['Latitude'], row['Longitude']]).add_to(m_2)\n",
        "\n",
        "# Show the map\n",
        "embed_map(m_2, '25f-m_2.html')"
      ],
      "execution_count": 0,
      "outputs": []
    },
    {
      "cell_type": "markdown",
      "metadata": {
        "id": "nudZeQCQG-94",
        "colab_type": "text"
      },
      "source": [
        "<!--- สำหรับแสดงบนเว็บไซต์ -->\n",
        "<iframe width=\"100%\" height=\"640\" src=\"https://www.bualabs.com/wp-content/uploads/2019/11/25f-m_2.html\" frameborder=\"0\" allowfullscreen></iframe>"
      ]
    },
    {
      "cell_type": "markdown",
      "metadata": {
        "id": "3kHFgFN877Ac",
        "colab_type": "text"
      },
      "source": [
        "# 6. Merge Data"
      ]
    },
    {
      "cell_type": "markdown",
      "metadata": {
        "id": "hOK58D-uAvc0",
        "colab_type": "text"
      },
      "source": [
        "เราจะ Merge ข้อมูลร้านกาแฟ Starbucks เข้ากับ ข้อมูลขอบเขตภูมิศาสตร์ของ County ในรัฐ California (CA)\n",
        "\n",
        "*เคาน์ตี (county) หมายถึง เขต, มณฑล, เทศมณฑล เป็นหน่วยย่อยของการปกครอง ในประเทศสหรัฐอเมริกา ขนาดเล็กกว่ารัฐ *"
      ]
    },
    {
      "cell_type": "code",
      "metadata": {
        "id": "cN1o0_OR761M",
        "colab_type": "code",
        "outputId": "30a57182-9cb3-4f28-8cba-6adaf01ffda8",
        "colab": {
          "base_uri": "https://localhost:8080/",
          "height": 204
        }
      },
      "source": [
        "CA_counties = gpd.read_file(data_path/\"CA_county_boundaries/CA_county_boundaries/CA_county_boundaries.shp\")\n",
        "CA_counties.head()"
      ],
      "execution_count": 0,
      "outputs": [
        {
          "output_type": "execute_result",
          "data": {
            "text/html": [
              "<div>\n",
              "<style scoped>\n",
              "    .dataframe tbody tr th:only-of-type {\n",
              "        vertical-align: middle;\n",
              "    }\n",
              "\n",
              "    .dataframe tbody tr th {\n",
              "        vertical-align: top;\n",
              "    }\n",
              "\n",
              "    .dataframe thead th {\n",
              "        text-align: right;\n",
              "    }\n",
              "</style>\n",
              "<table border=\"1\" class=\"dataframe\">\n",
              "  <thead>\n",
              "    <tr style=\"text-align: right;\">\n",
              "      <th></th>\n",
              "      <th>GEOID</th>\n",
              "      <th>name</th>\n",
              "      <th>area_sqkm</th>\n",
              "      <th>geometry</th>\n",
              "    </tr>\n",
              "  </thead>\n",
              "  <tbody>\n",
              "    <tr>\n",
              "      <th>0</th>\n",
              "      <td>6091</td>\n",
              "      <td>Sierra County</td>\n",
              "      <td>2491.995494</td>\n",
              "      <td>POLYGON ((-120.65560 39.69357, -120.65554 39.6...</td>\n",
              "    </tr>\n",
              "    <tr>\n",
              "      <th>1</th>\n",
              "      <td>6067</td>\n",
              "      <td>Sacramento County</td>\n",
              "      <td>2575.258262</td>\n",
              "      <td>POLYGON ((-121.18858 38.71431, -121.18732 38.7...</td>\n",
              "    </tr>\n",
              "    <tr>\n",
              "      <th>2</th>\n",
              "      <td>6083</td>\n",
              "      <td>Santa Barbara County</td>\n",
              "      <td>9813.817958</td>\n",
              "      <td>MULTIPOLYGON (((-120.58191 34.09856, -120.5822...</td>\n",
              "    </tr>\n",
              "    <tr>\n",
              "      <th>3</th>\n",
              "      <td>6009</td>\n",
              "      <td>Calaveras County</td>\n",
              "      <td>2685.626726</td>\n",
              "      <td>POLYGON ((-120.63095 38.34111, -120.63058 38.3...</td>\n",
              "    </tr>\n",
              "    <tr>\n",
              "      <th>4</th>\n",
              "      <td>6111</td>\n",
              "      <td>Ventura County</td>\n",
              "      <td>5719.321379</td>\n",
              "      <td>MULTIPOLYGON (((-119.63631 33.27304, -119.6360...</td>\n",
              "    </tr>\n",
              "  </tbody>\n",
              "</table>\n",
              "</div>"
            ],
            "text/plain": [
              "   GEOID  ...                                           geometry\n",
              "0   6091  ...  POLYGON ((-120.65560 39.69357, -120.65554 39.6...\n",
              "1   6067  ...  POLYGON ((-121.18858 38.71431, -121.18732 38.7...\n",
              "2   6083  ...  MULTIPOLYGON (((-120.58191 34.09856, -120.5822...\n",
              "3   6009  ...  POLYGON ((-120.63095 38.34111, -120.63058 38.3...\n",
              "4   6111  ...  MULTIPOLYGON (((-119.63631 33.27304, -119.6360...\n",
              "\n",
              "[5 rows x 4 columns]"
            ]
          },
          "metadata": {
            "tags": []
          },
          "execution_count": 19
        }
      ]
    },
    {
      "cell_type": "markdown",
      "metadata": {
        "id": "DEffJEE0A_XD",
        "colab_type": "text"
      },
      "source": [
        "โหลดข้อมูล จำนวนประชากร รายได้ และอายุ"
      ]
    },
    {
      "cell_type": "code",
      "metadata": {
        "id": "NYWyrAA476p4",
        "colab_type": "code",
        "colab": {}
      },
      "source": [
        "CA_pop = pd.read_csv(data_path/\"CA_county_population.csv\", index_col=\"GEOID\")\n",
        "CA_high_earners = pd.read_csv(data_path/\"CA_county_high_earners.csv\", index_col=\"GEOID\")\n",
        "CA_median_age = pd.read_csv(data_path/\"CA_county_median_age.csv\", index_col=\"GEOID\")"
      ],
      "execution_count": 0,
      "outputs": []
    },
    {
      "cell_type": "markdown",
      "metadata": {
        "id": "Alsan2tKBGiw",
        "colab_type": "text"
      },
      "source": [
        "Merge ด้วย GEOID"
      ]
    },
    {
      "cell_type": "code",
      "metadata": {
        "id": "eIIcco9J76ef",
        "colab_type": "code",
        "colab": {}
      },
      "source": [
        "CA_stats = CA_counties.merge(CA_pop, on='GEOID').merge(CA_high_earners, on='GEOID').merge(CA_median_age, on='GEOID')"
      ],
      "execution_count": 0,
      "outputs": []
    },
    {
      "cell_type": "markdown",
      "metadata": {
        "id": "02uOrJsxBK2J",
        "colab_type": "text"
      },
      "source": [
        "สร้าง Feature ใหม่ ชื่อ density คือ จำนวนประชากร ต่อพื้นที่ ตารางกิโลเมตร"
      ]
    },
    {
      "cell_type": "code",
      "metadata": {
        "id": "xQy-uqfH76R4",
        "colab_type": "code",
        "outputId": "d53642e0-f698-498c-d593-45119530afa1",
        "colab": {
          "base_uri": "https://localhost:8080/",
          "height": 204
        }
      },
      "source": [
        "CA_stats[\"density\"] = CA_stats[\"population\"] / CA_stats[\"area_sqkm\"]\n",
        "CA_stats.head()"
      ],
      "execution_count": 0,
      "outputs": [
        {
          "output_type": "execute_result",
          "data": {
            "text/html": [
              "<div>\n",
              "<style scoped>\n",
              "    .dataframe tbody tr th:only-of-type {\n",
              "        vertical-align: middle;\n",
              "    }\n",
              "\n",
              "    .dataframe tbody tr th {\n",
              "        vertical-align: top;\n",
              "    }\n",
              "\n",
              "    .dataframe thead th {\n",
              "        text-align: right;\n",
              "    }\n",
              "</style>\n",
              "<table border=\"1\" class=\"dataframe\">\n",
              "  <thead>\n",
              "    <tr style=\"text-align: right;\">\n",
              "      <th></th>\n",
              "      <th>GEOID</th>\n",
              "      <th>name</th>\n",
              "      <th>area_sqkm</th>\n",
              "      <th>geometry</th>\n",
              "      <th>population</th>\n",
              "      <th>high_earners</th>\n",
              "      <th>median_age</th>\n",
              "      <th>density</th>\n",
              "    </tr>\n",
              "  </thead>\n",
              "  <tbody>\n",
              "    <tr>\n",
              "      <th>0</th>\n",
              "      <td>6091</td>\n",
              "      <td>Sierra County</td>\n",
              "      <td>2491.995494</td>\n",
              "      <td>POLYGON ((-120.65560 39.69357, -120.65554 39.6...</td>\n",
              "      <td>2987</td>\n",
              "      <td>111</td>\n",
              "      <td>55.0</td>\n",
              "      <td>1.198638</td>\n",
              "    </tr>\n",
              "    <tr>\n",
              "      <th>1</th>\n",
              "      <td>6067</td>\n",
              "      <td>Sacramento County</td>\n",
              "      <td>2575.258262</td>\n",
              "      <td>POLYGON ((-121.18858 38.71431, -121.18732 38.7...</td>\n",
              "      <td>1540975</td>\n",
              "      <td>65768</td>\n",
              "      <td>35.9</td>\n",
              "      <td>598.376878</td>\n",
              "    </tr>\n",
              "    <tr>\n",
              "      <th>2</th>\n",
              "      <td>6083</td>\n",
              "      <td>Santa Barbara County</td>\n",
              "      <td>9813.817958</td>\n",
              "      <td>MULTIPOLYGON (((-120.58191 34.09856, -120.5822...</td>\n",
              "      <td>446527</td>\n",
              "      <td>25231</td>\n",
              "      <td>33.7</td>\n",
              "      <td>45.499825</td>\n",
              "    </tr>\n",
              "    <tr>\n",
              "      <th>3</th>\n",
              "      <td>6009</td>\n",
              "      <td>Calaveras County</td>\n",
              "      <td>2685.626726</td>\n",
              "      <td>POLYGON ((-120.63095 38.34111, -120.63058 38.3...</td>\n",
              "      <td>45602</td>\n",
              "      <td>2046</td>\n",
              "      <td>51.6</td>\n",
              "      <td>16.980022</td>\n",
              "    </tr>\n",
              "    <tr>\n",
              "      <th>4</th>\n",
              "      <td>6111</td>\n",
              "      <td>Ventura County</td>\n",
              "      <td>5719.321379</td>\n",
              "      <td>MULTIPOLYGON (((-119.63631 33.27304, -119.6360...</td>\n",
              "      <td>850967</td>\n",
              "      <td>57121</td>\n",
              "      <td>37.5</td>\n",
              "      <td>148.788107</td>\n",
              "    </tr>\n",
              "  </tbody>\n",
              "</table>\n",
              "</div>"
            ],
            "text/plain": [
              "   GEOID                  name  ...  median_age     density\n",
              "0   6091         Sierra County  ...        55.0    1.198638\n",
              "1   6067     Sacramento County  ...        35.9  598.376878\n",
              "2   6083  Santa Barbara County  ...        33.7   45.499825\n",
              "3   6009      Calaveras County  ...        51.6   16.980022\n",
              "4   6111        Ventura County  ...        37.5  148.788107\n",
              "\n",
              "[5 rows x 8 columns]"
            ]
          },
          "metadata": {
            "tags": []
          },
          "execution_count": 22
        }
      ]
    },
    {
      "cell_type": "markdown",
      "metadata": {
        "id": "OjSDH58K76F8",
        "colab_type": "text"
      },
      "source": [
        "# 7. Spatial Analysis"
      ]
    },
    {
      "cell_type": "markdown",
      "metadata": {
        "id": "5kWwP_ujBT-r",
        "colab_type": "text"
      },
      "source": [
        "เราได้รวมข้อมูลทุกอย่างมาอยู่ใน GeoDataFrame เดียว ชื่อ `CA_stats` เพื่อให้ง่ายต่อการวิเคราะห์ คัดสรร County ที่ตรงกับเงื่อนไขความต้องการทางธุรกิจ ดังนี้\n",
        "\n",
        "* มีอย่างน้อย 100,000 หลังคาเรือน ที่มีรายได้มากกว่า 150,000 USD ต่อปี และ\n",
        "* Median อายุ น้อยกว่า 38.5 และ\n",
        "* ความหนาแน่นประชากร ไม่น้อยกว่า 285 คน ต่อตารางกิโลเมตร\n",
        "\n",
        "ยิ่งไปกว่านั้น County ที่เลือก ต้องเข้าเงื่อนไข ข้อใดข้อหนึ่ง ดังรายการด้านล่าง\n",
        "\n",
        "* มีอย่างน้อย 500,000 หลังคาเรือน ที่มีรายได้มากกว่า 150,000 USD ต่อปี \n",
        "* Median อายุ น้อยกว่า 35.5 \n",
        "* ความหนาแน่นประชากร ไม่น้อยกว่า 1,400 คน ต่อตารางกิโลเมตร"
      ]
    },
    {
      "cell_type": "markdown",
      "metadata": {
        "id": "-VVg2vFoCxTT",
        "colab_type": "text"
      },
      "source": [
        "เพื่อให้เข้าใจง่าย เราจะเลือก 3 ข้อบนก่อน"
      ]
    },
    {
      "cell_type": "code",
      "metadata": {
        "id": "Zyg6oOSE75tT",
        "colab_type": "code",
        "outputId": "4aeb4cb8-284b-4933-90fe-d0f1220cb8aa",
        "colab": {
          "base_uri": "https://localhost:8080/",
          "height": 235
        }
      },
      "source": [
        "sel1 = CA_stats.loc[(CA_stats.high_earners > 100000) & (CA_stats.median_age < 38.5) & (CA_stats.density >= 285)]\n",
        "sel1"
      ],
      "execution_count": 0,
      "outputs": [
        {
          "output_type": "execute_result",
          "data": {
            "text/html": [
              "<div>\n",
              "<style scoped>\n",
              "    .dataframe tbody tr th:only-of-type {\n",
              "        vertical-align: middle;\n",
              "    }\n",
              "\n",
              "    .dataframe tbody tr th {\n",
              "        vertical-align: top;\n",
              "    }\n",
              "\n",
              "    .dataframe thead th {\n",
              "        text-align: right;\n",
              "    }\n",
              "</style>\n",
              "<table border=\"1\" class=\"dataframe\">\n",
              "  <thead>\n",
              "    <tr style=\"text-align: right;\">\n",
              "      <th></th>\n",
              "      <th>GEOID</th>\n",
              "      <th>name</th>\n",
              "      <th>area_sqkm</th>\n",
              "      <th>geometry</th>\n",
              "      <th>population</th>\n",
              "      <th>high_earners</th>\n",
              "      <th>median_age</th>\n",
              "      <th>density</th>\n",
              "    </tr>\n",
              "  </thead>\n",
              "  <tbody>\n",
              "    <tr>\n",
              "      <th>5</th>\n",
              "      <td>6037</td>\n",
              "      <td>Los Angeles County</td>\n",
              "      <td>12305.376879</td>\n",
              "      <td>MULTIPOLYGON (((-118.66761 33.47749, -118.6682...</td>\n",
              "      <td>10105518</td>\n",
              "      <td>501413</td>\n",
              "      <td>36.0</td>\n",
              "      <td>821.227834</td>\n",
              "    </tr>\n",
              "    <tr>\n",
              "      <th>8</th>\n",
              "      <td>6073</td>\n",
              "      <td>San Diego County</td>\n",
              "      <td>11721.342229</td>\n",
              "      <td>POLYGON ((-117.43744 33.17953, -117.44955 33.1...</td>\n",
              "      <td>3343364</td>\n",
              "      <td>194676</td>\n",
              "      <td>35.4</td>\n",
              "      <td>285.237299</td>\n",
              "    </tr>\n",
              "    <tr>\n",
              "      <th>10</th>\n",
              "      <td>6075</td>\n",
              "      <td>San Francisco County</td>\n",
              "      <td>600.588247</td>\n",
              "      <td>MULTIPOLYGON (((-122.60025 37.80249, -122.6123...</td>\n",
              "      <td>883305</td>\n",
              "      <td>114989</td>\n",
              "      <td>38.3</td>\n",
              "      <td>1470.733077</td>\n",
              "    </tr>\n",
              "    <tr>\n",
              "      <th>38</th>\n",
              "      <td>6085</td>\n",
              "      <td>Santa Clara County</td>\n",
              "      <td>3377.487898</td>\n",
              "      <td>POLYGON ((-122.04413 37.20050, -122.04410 37.2...</td>\n",
              "      <td>1937570</td>\n",
              "      <td>221273</td>\n",
              "      <td>37.0</td>\n",
              "      <td>573.671930</td>\n",
              "    </tr>\n",
              "    <tr>\n",
              "      <th>41</th>\n",
              "      <td>6001</td>\n",
              "      <td>Alameda County</td>\n",
              "      <td>2127.222169</td>\n",
              "      <td>POLYGON ((-122.28089 37.70723, -122.28179 37.7...</td>\n",
              "      <td>1666753</td>\n",
              "      <td>145696</td>\n",
              "      <td>37.3</td>\n",
              "      <td>783.534990</td>\n",
              "    </tr>\n",
              "    <tr>\n",
              "      <th>47</th>\n",
              "      <td>6059</td>\n",
              "      <td>Orange County</td>\n",
              "      <td>2455.308632</td>\n",
              "      <td>POLYGON ((-117.98911 33.58580, -117.99068 33.5...</td>\n",
              "      <td>3185968</td>\n",
              "      <td>233459</td>\n",
              "      <td>37.5</td>\n",
              "      <td>1297.583513</td>\n",
              "    </tr>\n",
              "  </tbody>\n",
              "</table>\n",
              "</div>"
            ],
            "text/plain": [
              "    GEOID                  name  ...  median_age      density\n",
              "5    6037    Los Angeles County  ...        36.0   821.227834\n",
              "8    6073      San Diego County  ...        35.4   285.237299\n",
              "10   6075  San Francisco County  ...        38.3  1470.733077\n",
              "38   6085    Santa Clara County  ...        37.0   573.671930\n",
              "41   6001        Alameda County  ...        37.3   783.534990\n",
              "47   6059         Orange County  ...        37.5  1297.583513\n",
              "\n",
              "[6 rows x 8 columns]"
            ]
          },
          "metadata": {
            "tags": []
          },
          "execution_count": 23
        }
      ]
    },
    {
      "cell_type": "markdown",
      "metadata": {
        "id": "yuGSrRVgC14y",
        "colab_type": "text"
      },
      "source": [
        "แล้วกรองด้วย 3 ข้อล่าง อีกที"
      ]
    },
    {
      "cell_type": "code",
      "metadata": {
        "id": "wH00de2D8gqW",
        "colab_type": "code",
        "outputId": "c58dfa89-8144-4c92-f787-bd8867cddc4e",
        "colab": {
          "base_uri": "https://localhost:8080/",
          "height": 142
        }
      },
      "source": [
        "sel2 = sel1.loc[(sel1.high_earners > 500000) | (sel1.median_age < 35.5) | (sel1.density >= 1400)]\n",
        "sel2"
      ],
      "execution_count": 0,
      "outputs": [
        {
          "output_type": "execute_result",
          "data": {
            "text/html": [
              "<div>\n",
              "<style scoped>\n",
              "    .dataframe tbody tr th:only-of-type {\n",
              "        vertical-align: middle;\n",
              "    }\n",
              "\n",
              "    .dataframe tbody tr th {\n",
              "        vertical-align: top;\n",
              "    }\n",
              "\n",
              "    .dataframe thead th {\n",
              "        text-align: right;\n",
              "    }\n",
              "</style>\n",
              "<table border=\"1\" class=\"dataframe\">\n",
              "  <thead>\n",
              "    <tr style=\"text-align: right;\">\n",
              "      <th></th>\n",
              "      <th>GEOID</th>\n",
              "      <th>name</th>\n",
              "      <th>area_sqkm</th>\n",
              "      <th>geometry</th>\n",
              "      <th>population</th>\n",
              "      <th>high_earners</th>\n",
              "      <th>median_age</th>\n",
              "      <th>density</th>\n",
              "    </tr>\n",
              "  </thead>\n",
              "  <tbody>\n",
              "    <tr>\n",
              "      <th>5</th>\n",
              "      <td>6037</td>\n",
              "      <td>Los Angeles County</td>\n",
              "      <td>12305.376879</td>\n",
              "      <td>MULTIPOLYGON (((-118.66761 33.47749, -118.6682...</td>\n",
              "      <td>10105518</td>\n",
              "      <td>501413</td>\n",
              "      <td>36.0</td>\n",
              "      <td>821.227834</td>\n",
              "    </tr>\n",
              "    <tr>\n",
              "      <th>8</th>\n",
              "      <td>6073</td>\n",
              "      <td>San Diego County</td>\n",
              "      <td>11721.342229</td>\n",
              "      <td>POLYGON ((-117.43744 33.17953, -117.44955 33.1...</td>\n",
              "      <td>3343364</td>\n",
              "      <td>194676</td>\n",
              "      <td>35.4</td>\n",
              "      <td>285.237299</td>\n",
              "    </tr>\n",
              "    <tr>\n",
              "      <th>10</th>\n",
              "      <td>6075</td>\n",
              "      <td>San Francisco County</td>\n",
              "      <td>600.588247</td>\n",
              "      <td>MULTIPOLYGON (((-122.60025 37.80249, -122.6123...</td>\n",
              "      <td>883305</td>\n",
              "      <td>114989</td>\n",
              "      <td>38.3</td>\n",
              "      <td>1470.733077</td>\n",
              "    </tr>\n",
              "  </tbody>\n",
              "</table>\n",
              "</div>"
            ],
            "text/plain": [
              "    GEOID                  name  ...  median_age      density\n",
              "5    6037    Los Angeles County  ...        36.0   821.227834\n",
              "8    6073      San Diego County  ...        35.4   285.237299\n",
              "10   6075  San Francisco County  ...        38.3  1470.733077\n",
              "\n",
              "[3 rows x 8 columns]"
            ]
          },
          "metadata": {
            "tags": []
          },
          "execution_count": 24
        }
      ]
    },
    {
      "cell_type": "markdown",
      "metadata": {
        "id": "ROfT1jGAC8J_",
        "colab_type": "text"
      },
      "source": [
        "ได้ 3 County คือ Los Angeles County, San Diego County และ San Francisco County"
      ]
    },
    {
      "cell_type": "code",
      "metadata": {
        "id": "UY5JKrnK8g28",
        "colab_type": "code",
        "colab": {}
      },
      "source": [
        "sel_counties = sel2"
      ],
      "execution_count": 0,
      "outputs": []
    },
    {
      "cell_type": "markdown",
      "metadata": {
        "id": "cweg2imy8xn2",
        "colab_type": "text"
      },
      "source": [
        "# 8. Big Data Analytics"
      ]
    },
    {
      "cell_type": "markdown",
      "metadata": {
        "id": "eSO-MZDpEPF7",
        "colab_type": "text"
      },
      "source": [
        "ใช้ข้อมูลด้านบนมาช่วยในการวิเคราะห์ ตัดสินใจ เลือกสาขา Candidate ที่อยู่ใน County ที่เราเลือก"
      ]
    },
    {
      "cell_type": "code",
      "metadata": {
        "id": "ofWQG4EL8hEq",
        "colab_type": "code",
        "colab": {}
      },
      "source": [
        "starbucks_gdf = gpd.GeoDataFrame(starbucks, geometry=gpd.points_from_xy(starbucks.Longitude, starbucks.Latitude))\n",
        "starbucks_gdf.crs = {'init': 'epsg:4326'}"
      ],
      "execution_count": 0,
      "outputs": []
    },
    {
      "cell_type": "markdown",
      "metadata": {
        "id": "gfoU6rjDEpCU",
        "colab_type": "text"
      },
      "source": [
        "สาขาทั้งหมด ที่อยู่ใน 3 County ที่เราเลือก มีจำนวน 1043 สาขา"
      ]
    },
    {
      "cell_type": "code",
      "metadata": {
        "id": "DqKmYPKx8hJa",
        "colab_type": "code",
        "outputId": "37ee4c4b-6a93-4aa2-9a8d-5dcc19bece68",
        "colab": {
          "base_uri": "https://localhost:8080/",
          "height": 34
        }
      },
      "source": [
        "next_srr = gpd.sjoin(starbucks_gdf, sel_counties)\n",
        "len(next_srr)"
      ],
      "execution_count": 0,
      "outputs": [
        {
          "output_type": "execute_result",
          "data": {
            "text/plain": [
              "1043"
            ]
          },
          "metadata": {
            "tags": []
          },
          "execution_count": 28
        }
      ]
    },
    {
      "cell_type": "markdown",
      "metadata": {
        "id": "CYCc-cD38hOF",
        "colab_type": "text"
      },
      "source": [
        "# 9. Visualize Store Locations"
      ]
    },
    {
      "cell_type": "markdown",
      "metadata": {
        "id": "4eNNQVn2Eycx",
        "colab_type": "text"
      },
      "source": [
        "Visualize แสดงผล สาขาที่เป็น Candidate บนแผนที่ เนื่องจากมีสาขาหลักพัน เราจะใช้ MarkerCluster มาช่วยให้การแสดงผล Marker จะได้ไม่รกเกินไป"
      ]
    },
    {
      "cell_type": "code",
      "metadata": {
        "id": "4G5Vt80S75h_",
        "colab_type": "code",
        "colab": {}
      },
      "source": [
        "# Create a base map\n",
        "m_6 = folium.Map(location=[37,-120], zoom_start=6)\n",
        "\n",
        "# show selected store locations\n",
        "mc = MarkerCluster()\n",
        "for idx, row in next_srr.iterrows():\n",
        "    mc.add_child(Marker([row['Latitude'], row['Longitude']]))\n",
        "m_6.add_child(mc)\n",
        "\n",
        "# Show the map\n",
        "embed_map(m_6, '25f-m_6.html')"
      ],
      "execution_count": 0,
      "outputs": []
    },
    {
      "cell_type": "markdown",
      "metadata": {
        "id": "R59fpOJE9mzu",
        "colab_type": "text"
      },
      "source": [
        "<!--- สำหรับแสดงบนเว็บไซต์ -->\n",
        "<iframe width=\"100%\" height=\"640\" src=\"https://www.bualabs.com/wp-content/uploads/2019/11/25f-m_6.html\" frameborder=\"0\" allowfullscreen></iframe>"
      ]
    },
    {
      "cell_type": "markdown",
      "metadata": {
        "id": "jv0ZTmOc5k5t",
        "colab_type": "text"
      },
      "source": [
        "# Credit"
      ]
    },
    {
      "cell_type": "markdown",
      "metadata": {
        "id": "bazjbG7u5k-m",
        "colab_type": "text"
      },
      "source": [
        "* https://www.kaggle.com/alexisbcook/manipulating-geospatial-data\n",
        "* http://nominatim.org/release-docs/latest/api/Overview/\n",
        "* http://geopandas.org/geocoding.html\n",
        "* http://geopandas.org/mergingdata.html\n",
        "* https://www.bualabs.com/archives/2762/what-is-geocode-what-is-spatial-join-geodatagrame-difference-table-join-attribute-join-geospatial-ep-5/"
      ]
    },
    {
      "cell_type": "code",
      "metadata": {
        "id": "tOHLnwLAA36I",
        "colab_type": "code",
        "colab": {}
      },
      "source": [
        ""
      ],
      "execution_count": 0,
      "outputs": []
    }
  ]
}