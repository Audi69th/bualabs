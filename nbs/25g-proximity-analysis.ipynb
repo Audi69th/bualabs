{
  "nbformat": 4,
  "nbformat_minor": 0,
  "metadata": {
    "colab": {
      "name": "25g-proximity-analysis.ipynb",
      "provenance": []
    },
    "kernelspec": {
      "name": "python3",
      "display_name": "Python 3"
    },
    "accelerator": "GPU"
  },
  "cells": [
    {
      "cell_type": "markdown",
      "metadata": {
        "colab_type": "text",
        "id": "H9CYDwQ9gQ2u"
      },
      "source": [
        "ใน ep นี้เราจะมาเรียนรู้เทคนิคในการวิเคราะห์สิ่งใกล้เคียง Proximity Analysis เช่น\n",
        "\n",
        "* วัดระยะทาง ระหว่าง 2 จุด บนแผนที่\n",
        "* เลือกจุดที่อยู่ในรัศมีที่กำหนด\n"
      ]
    },
    {
      "cell_type": "markdown",
      "metadata": {
        "colab_type": "text",
        "id": "Y7QjHJiKRD9N"
      },
      "source": [
        "# 0. Install"
      ]
    },
    {
      "cell_type": "markdown",
      "metadata": {
        "colab_type": "text",
        "id": "_qxIXpQqTmzD"
      },
      "source": [
        "เราจะต้อง Install kaggle เพื่อ Download Dataset, geopandas เพื่อใช้ในการวิเคราะห์ข้อมูล geospatial, folium เพื่อแสดงแผ่นที่ (ถ้ายังไม่ได้ Install ให้ uncomment)"
      ]
    },
    {
      "cell_type": "code",
      "metadata": {
        "colab_type": "code",
        "id": "rnpSo4UOwmES",
        "colab": {}
      },
      "source": [
        "# ! pip install geopandas\n",
        "# ! pip install git+https://github.com/python-visualization/folium\n",
        "# ! pip install kaggle --upgrade"
      ],
      "execution_count": 0,
      "outputs": []
    },
    {
      "cell_type": "markdown",
      "metadata": {
        "colab_type": "text",
        "id": "eIhjYw2SRB31"
      },
      "source": [
        "# 1. Import Library"
      ]
    },
    {
      "cell_type": "markdown",
      "metadata": {
        "colab_type": "text",
        "id": "EYelaC8QUiuP"
      },
      "source": [
        "Import folium Library เพื่อใช้ในการพล็อตแผนที่แบบ Interactive"
      ]
    },
    {
      "cell_type": "code",
      "metadata": {
        "colab_type": "code",
        "id": "mQfGtLVJwJL8",
        "colab": {}
      },
      "source": [
        "import pandas as pd\n",
        "import geopandas as gpd\n",
        "\n",
        "import folium\n",
        "from folium import *\n",
        "from folium.plugins import *\n",
        "\n",
        "import os\n",
        "from pathlib import Path"
      ],
      "execution_count": 0,
      "outputs": []
    },
    {
      "cell_type": "markdown",
      "metadata": {
        "colab_type": "text",
        "id": "p_qNdgnbruIv"
      },
      "source": [
        "ประกาศฟังก์ชันในการแสดงแผนที่โดยใช้ HTML iframe แต่ Colab ไม่ Support iframe เราจะ return Map ออกไปเลย"
      ]
    },
    {
      "cell_type": "code",
      "metadata": {
        "colab_type": "code",
        "id": "T3E_jS42F8ru",
        "colab": {}
      },
      "source": [
        "from IPython.display import IFrame, HTML\n",
        "\n",
        "def embed_map(m, file_name):    \n",
        "    m.save(file_name)\n",
        "\n",
        "    # # VM\n",
        "    # return IFrame(src=file_name, width='100%', height='500px')\n",
        "\n",
        "    # Colab\n",
        "    return m"
      ],
      "execution_count": 0,
      "outputs": []
    },
    {
      "cell_type": "markdown",
      "metadata": {
        "colab_type": "text",
        "id": "hZBm5maPRLmi"
      },
      "source": [
        "# 2. เตรียม Path สำหรับดาวน์โหลดข้อมูล"
      ]
    },
    {
      "cell_type": "markdown",
      "metadata": {
        "colab_type": "text",
        "id": "9DBiIhGYT6VU"
      },
      "source": [
        "กำหนด path ของ Config File และ Dataset ว่าจะอยู่ใน Google Drive ถ้าเราใช้ Google Colab หรือ อยู่ใน HOME ถ้าเราใช้ VM ธรรมดา และกำหนด Environment Variable ไปยังโฟลเดอร์ที่เก็บ kaggle.json"
      ]
    },
    {
      "cell_type": "markdown",
      "metadata": {
        "colab_type": "text",
        "id": "3xwILAZXUBx-"
      },
      "source": [
        "ในกรณีใช้ Colab ให้ Mount Google Drive เพื่อดึง Config File มาจาก Google Drive ส่วนตัวของเรา เมื่อเรารัน Cell ด้านล่างจะมีลิงค์ปรากฎขึ้นมาให้เรา Login กด Approve แล้ว Copy Authorization Code มาใส่ในช่องด้านล่าง แล้วกด Enter"
      ]
    },
    {
      "cell_type": "code",
      "metadata": {
        "colab_type": "code",
        "id": "N7_7Mxaw8jfO",
        "colab": {}
      },
      "source": [
        "dataset = 'alexisbcook/geospatial-learn-course-data'\n",
        "\n",
        "# Google Colab\n",
        "config_path = Path('/content/drive')\n",
        "data_path = Path('/content/datasets/')/dataset\n",
        "from google.colab import drive\n",
        "drive.mount(str(config_path))\n",
        "os.environ['KAGGLE_CONFIG_DIR'] = f\"{config_path}/My Drive/.kaggle\"\n",
        "\n",
        "## VM\n",
        "# config_path = Path(os.getenv(\"HOME\"))\n",
        "# data_path = config_path/\"datasets\"/dataset\n",
        "# data_path.mkdir(parents=True, exist_ok=True)\n",
        "# os.environ['KAGGLE_CONFIG_DIR'] = f\"{config_path}/.kaggle\""
      ],
      "execution_count": 0,
      "outputs": []
    },
    {
      "cell_type": "markdown",
      "metadata": {
        "colab_type": "text",
        "id": "fjX_JnMaRRaM"
      },
      "source": [
        "# 3. Dataset"
      ]
    },
    {
      "cell_type": "markdown",
      "metadata": {
        "colab_type": "text",
        "id": "MhsZxRECNHv_"
      },
      "source": [
        "ในเคสนี้ เราจะสมมติตัวเองเป็นนักสิ่งแวดล้อม วิเคราะห์คุณภาพอากาศ, สารเคมี, ฝุ่น PM 2.5, etc. ในเมืองฟิลาเดลเฟีย รัฐเพนซิลเวเนีย ประเทศสหรัฐอเมริกา"
      ]
    },
    {
      "cell_type": "markdown",
      "metadata": {
        "colab_type": "text",
        "id": "Mtf3SFWCUYpu"
      },
      "source": [
        "Dataset เราจะดึงจาก Kaggle วิธี Download kaggle.json ให้ดูจาก ep ที่แล้ว\n",
        "\n",
        "เมื่อได้ kaggle.json มาแล้ว ในกรณีใช้ Google Colab ให้นำมาใส่ไว้ในโฟลเดอร์ My Drive/.kaggle ใน Google Drive ของเรา เป็น My Drive/.kaggle/kaggle.json ถ้าใช้ VM ให้ใส่ใน HOME/.kaggle/\n",
        "\n",
        "สั่งดาวน์โหลด Dataset จาก Kaggle พร้อมทั้ง unzip ไว้ใน data_path"
      ]
    },
    {
      "cell_type": "code",
      "metadata": {
        "colab_type": "code",
        "id": "DWVg-d8V4kRq",
        "colab": {}
      },
      "source": [
        "!kaggle datasets download {dataset} -p \"{data_path}\" --unzip"
      ],
      "execution_count": 0,
      "outputs": []
    },
    {
      "cell_type": "markdown",
      "metadata": {
        "id": "-9a3w3CN4Zbr",
        "colab_type": "text"
      },
      "source": [
        "# 4. Data"
      ]
    },
    {
      "cell_type": "markdown",
      "metadata": {
        "id": "a0_3gwnTXGrj",
        "colab_type": "text"
      },
      "source": [
        "## 4.1 การปล่อยสารพิษ"
      ]
    },
    {
      "cell_type": "markdown",
      "metadata": {
        "id": "swuLfdY9O66A",
        "colab_type": "text"
      },
      "source": [
        "โหลดข้อมูลการปล่อยสารพิษ ในเมืองฟิลาเดลเฟีย จากหน่วยงาน US Environmental Protection Agency (EPA) ขึ้นมา"
      ]
    },
    {
      "cell_type": "code",
      "metadata": {
        "id": "cQ2UwbYAMfg3",
        "colab_type": "code",
        "colab": {
          "base_uri": "https://localhost:8080/",
          "height": 204
        },
        "outputId": "6798a484-91e3-479b-a36e-1131063883fb"
      },
      "source": [
        "releases = gpd.read_file(data_path/\"toxic_release_pennsylvania/toxic_release_pennsylvania/toxic_release_pennsylvania.shp\") \n",
        "releases.head()"
      ],
      "execution_count": 93,
      "outputs": [
        {
          "output_type": "execute_result",
          "data": {
            "text/html": [
              "<div>\n",
              "<style scoped>\n",
              "    .dataframe tbody tr th:only-of-type {\n",
              "        vertical-align: middle;\n",
              "    }\n",
              "\n",
              "    .dataframe tbody tr th {\n",
              "        vertical-align: top;\n",
              "    }\n",
              "\n",
              "    .dataframe thead th {\n",
              "        text-align: right;\n",
              "    }\n",
              "</style>\n",
              "<table border=\"1\" class=\"dataframe\">\n",
              "  <thead>\n",
              "    <tr style=\"text-align: right;\">\n",
              "      <th></th>\n",
              "      <th>YEAR</th>\n",
              "      <th>CITY</th>\n",
              "      <th>COUNTY</th>\n",
              "      <th>ST</th>\n",
              "      <th>LATITUDE</th>\n",
              "      <th>LONGITUDE</th>\n",
              "      <th>CHEMICAL</th>\n",
              "      <th>UNIT_OF_ME</th>\n",
              "      <th>TOTAL_RELE</th>\n",
              "      <th>geometry</th>\n",
              "    </tr>\n",
              "  </thead>\n",
              "  <tbody>\n",
              "    <tr>\n",
              "      <th>0</th>\n",
              "      <td>2016</td>\n",
              "      <td>PHILADELPHIA</td>\n",
              "      <td>PHILADELPHIA</td>\n",
              "      <td>PA</td>\n",
              "      <td>40.005901</td>\n",
              "      <td>-75.072103</td>\n",
              "      <td>FORMIC ACID</td>\n",
              "      <td>Pounds</td>\n",
              "      <td>0.160</td>\n",
              "      <td>POINT (2718560.227 256380.179)</td>\n",
              "    </tr>\n",
              "    <tr>\n",
              "      <th>1</th>\n",
              "      <td>2016</td>\n",
              "      <td>PHILADELPHIA</td>\n",
              "      <td>PHILADELPHIA</td>\n",
              "      <td>PA</td>\n",
              "      <td>39.920120</td>\n",
              "      <td>-75.146410</td>\n",
              "      <td>ETHYLENE GLYCOL</td>\n",
              "      <td>Pounds</td>\n",
              "      <td>13353.480</td>\n",
              "      <td>POINT (2698674.606 224522.905)</td>\n",
              "    </tr>\n",
              "    <tr>\n",
              "      <th>2</th>\n",
              "      <td>2016</td>\n",
              "      <td>PHILADELPHIA</td>\n",
              "      <td>PHILADELPHIA</td>\n",
              "      <td>PA</td>\n",
              "      <td>40.023880</td>\n",
              "      <td>-75.220450</td>\n",
              "      <td>CERTAIN GLYCOL ETHERS</td>\n",
              "      <td>Pounds</td>\n",
              "      <td>104.135</td>\n",
              "      <td>POINT (2676833.394 261701.856)</td>\n",
              "    </tr>\n",
              "    <tr>\n",
              "      <th>3</th>\n",
              "      <td>2016</td>\n",
              "      <td>PHILADELPHIA</td>\n",
              "      <td>PHILADELPHIA</td>\n",
              "      <td>PA</td>\n",
              "      <td>39.913540</td>\n",
              "      <td>-75.198890</td>\n",
              "      <td>LEAD COMPOUNDS</td>\n",
              "      <td>Pounds</td>\n",
              "      <td>1730.280</td>\n",
              "      <td>POINT (2684030.004 221697.388)</td>\n",
              "    </tr>\n",
              "    <tr>\n",
              "      <th>4</th>\n",
              "      <td>2016</td>\n",
              "      <td>PHILADELPHIA</td>\n",
              "      <td>PHILADELPHIA</td>\n",
              "      <td>PA</td>\n",
              "      <td>39.913540</td>\n",
              "      <td>-75.198890</td>\n",
              "      <td>BENZENE</td>\n",
              "      <td>Pounds</td>\n",
              "      <td>39863.290</td>\n",
              "      <td>POINT (2684030.004 221697.388)</td>\n",
              "    </tr>\n",
              "  </tbody>\n",
              "</table>\n",
              "</div>"
            ],
            "text/plain": [
              "   YEAR          CITY  ... TOTAL_RELE                        geometry\n",
              "0  2016  PHILADELPHIA  ...      0.160  POINT (2718560.227 256380.179)\n",
              "1  2016  PHILADELPHIA  ...  13353.480  POINT (2698674.606 224522.905)\n",
              "2  2016  PHILADELPHIA  ...    104.135  POINT (2676833.394 261701.856)\n",
              "3  2016  PHILADELPHIA  ...   1730.280  POINT (2684030.004 221697.388)\n",
              "4  2016  PHILADELPHIA  ...  39863.290  POINT (2684030.004 221697.388)\n",
              "\n",
              "[5 rows x 10 columns]"
            ]
          },
          "metadata": {
            "tags": []
          },
          "execution_count": 93
        }
      ]
    },
    {
      "cell_type": "code",
      "metadata": {
        "id": "MSUT-UgLRMwh",
        "colab_type": "code",
        "colab": {
          "base_uri": "https://localhost:8080/",
          "height": 34
        },
        "outputId": "7a72872b-509b-48aa-bc3d-772d7f019eb9"
      },
      "source": [
        "releases.shape"
      ],
      "execution_count": 94,
      "outputs": [
        {
          "output_type": "execute_result",
          "data": {
            "text/plain": [
              "(4663, 10)"
            ]
          },
          "metadata": {
            "tags": []
          },
          "execution_count": 94
        }
      ]
    },
    {
      "cell_type": "code",
      "metadata": {
        "id": "VN3rbV8XWN34",
        "colab_type": "code",
        "colab": {}
      },
      "source": [
        "# Create a base map\n",
        "m_1 = folium.Map(location=[39.9526,-75.1652], zoom_start=11)\n",
        "\n",
        "# Add a heatmap to the base map\n",
        "HeatMap(data=releases[['LATITUDE', 'LONGITUDE']], radius=20).add_to(m_1)\n",
        "\n",
        "# Display the map\n",
        "embed_map(m_1, '25g-m_1.html')"
      ],
      "execution_count": 0,
      "outputs": []
    },
    {
      "cell_type": "markdown",
      "metadata": {
        "id": "8DACN_GyjIOg",
        "colab_type": "text"
      },
      "source": [
        "<!--- สำหรับแสดงบนเว็บไซต์ -->\n",
        "<iframe width=\"100%\" height=\"640\" src=\"https://www.bualabs.com/wp-content/uploads/2019/11/25g-m_1.html\" frameborder=\"0\" allowfullscreen></iframe>"
      ]
    },
    {
      "cell_type": "markdown",
      "metadata": {
        "id": "mAarRtimMfmi",
        "colab_type": "text"
      },
      "source": [
        "ใน Dataset ของเรายังมีข้อมูลที่น่าสนใจอีกอย่าง คือ ข้อมูลจากสถานีวัดคุณภาพอากาศ ในเมืองเดียวกัน"
      ]
    },
    {
      "cell_type": "code",
      "metadata": {
        "id": "qLwGgOB8Mfp5",
        "colab_type": "code",
        "colab": {
          "base_uri": "https://localhost:8080/",
          "height": 462
        },
        "outputId": "a1f479e1-6e6f-40e5-d8d8-6637b28021a8"
      },
      "source": [
        "stations = gpd.read_file(data_path/\"PhillyHealth_Air_Monitoring_Stations/PhillyHealth_Air_Monitoring_Stations/PhillyHealth_Air_Monitoring_Stations.shp\")\n",
        "stations.head()"
      ],
      "execution_count": 96,
      "outputs": [
        {
          "output_type": "execute_result",
          "data": {
            "text/html": [
              "<div>\n",
              "<style scoped>\n",
              "    .dataframe tbody tr th:only-of-type {\n",
              "        vertical-align: middle;\n",
              "    }\n",
              "\n",
              "    .dataframe tbody tr th {\n",
              "        vertical-align: top;\n",
              "    }\n",
              "\n",
              "    .dataframe thead th {\n",
              "        text-align: right;\n",
              "    }\n",
              "</style>\n",
              "<table border=\"1\" class=\"dataframe\">\n",
              "  <thead>\n",
              "    <tr style=\"text-align: right;\">\n",
              "      <th></th>\n",
              "      <th>SITE_NAME</th>\n",
              "      <th>ADDRESS</th>\n",
              "      <th>BLACK_CARB</th>\n",
              "      <th>ULTRAFINE_</th>\n",
              "      <th>CO</th>\n",
              "      <th>SO2</th>\n",
              "      <th>OZONE</th>\n",
              "      <th>NO2</th>\n",
              "      <th>NOY_NO</th>\n",
              "      <th>PM10</th>\n",
              "      <th>PM2_5</th>\n",
              "      <th>SPECIATED_</th>\n",
              "      <th>PM_COURSE</th>\n",
              "      <th>CARBONYLS</th>\n",
              "      <th>PAMS_VOC</th>\n",
              "      <th>TSP_11101</th>\n",
              "      <th>TSP_METALS</th>\n",
              "      <th>TSP_LEAD</th>\n",
              "      <th>TOXICS_TO1</th>\n",
              "      <th>MET</th>\n",
              "      <th>COMMUNITY_</th>\n",
              "      <th>LATITUDE</th>\n",
              "      <th>LONGITUDE</th>\n",
              "      <th>geometry</th>\n",
              "    </tr>\n",
              "  </thead>\n",
              "  <tbody>\n",
              "    <tr>\n",
              "      <th>0</th>\n",
              "      <td>LAB</td>\n",
              "      <td>1501 East Lycoming Avenue</td>\n",
              "      <td>N</td>\n",
              "      <td>N</td>\n",
              "      <td>Y</td>\n",
              "      <td>N</td>\n",
              "      <td>Y</td>\n",
              "      <td>Y</td>\n",
              "      <td>Y</td>\n",
              "      <td>N</td>\n",
              "      <td>Y</td>\n",
              "      <td>N</td>\n",
              "      <td>N</td>\n",
              "      <td>Y</td>\n",
              "      <td>Y</td>\n",
              "      <td>N</td>\n",
              "      <td>Y</td>\n",
              "      <td>N</td>\n",
              "      <td>y</td>\n",
              "      <td>N</td>\n",
              "      <td>N</td>\n",
              "      <td>40.008606</td>\n",
              "      <td>-75.097624</td>\n",
              "      <td>POINT (2711384.641 257149.310)</td>\n",
              "    </tr>\n",
              "    <tr>\n",
              "      <th>1</th>\n",
              "      <td>ROX</td>\n",
              "      <td>Eva and Dearnley Streets</td>\n",
              "      <td>N</td>\n",
              "      <td>N</td>\n",
              "      <td>N</td>\n",
              "      <td>N</td>\n",
              "      <td>N</td>\n",
              "      <td>N</td>\n",
              "      <td>N</td>\n",
              "      <td>N</td>\n",
              "      <td>N</td>\n",
              "      <td>N</td>\n",
              "      <td>N</td>\n",
              "      <td>Y</td>\n",
              "      <td>N</td>\n",
              "      <td>N</td>\n",
              "      <td>Y</td>\n",
              "      <td>N</td>\n",
              "      <td>Y</td>\n",
              "      <td>N</td>\n",
              "      <td>N</td>\n",
              "      <td>40.050461</td>\n",
              "      <td>-75.236966</td>\n",
              "      <td>POINT (2671934.290 271248.900)</td>\n",
              "    </tr>\n",
              "    <tr>\n",
              "      <th>2</th>\n",
              "      <td>NEA</td>\n",
              "      <td>Grant Avenue and Ashton Street</td>\n",
              "      <td>N</td>\n",
              "      <td>N</td>\n",
              "      <td>N</td>\n",
              "      <td>N</td>\n",
              "      <td>Y</td>\n",
              "      <td>N</td>\n",
              "      <td>N</td>\n",
              "      <td>N</td>\n",
              "      <td>N</td>\n",
              "      <td>N</td>\n",
              "      <td>N</td>\n",
              "      <td>N</td>\n",
              "      <td>N</td>\n",
              "      <td>N</td>\n",
              "      <td>N</td>\n",
              "      <td>N</td>\n",
              "      <td>N</td>\n",
              "      <td>Y</td>\n",
              "      <td>N</td>\n",
              "      <td>40.072073</td>\n",
              "      <td>-75.013128</td>\n",
              "      <td>POINT (2734326.638 280980.247)</td>\n",
              "    </tr>\n",
              "    <tr>\n",
              "      <th>3</th>\n",
              "      <td>CHS</td>\n",
              "      <td>500 South Broad Street</td>\n",
              "      <td>N</td>\n",
              "      <td>N</td>\n",
              "      <td>N</td>\n",
              "      <td>N</td>\n",
              "      <td>N</td>\n",
              "      <td>N</td>\n",
              "      <td>N</td>\n",
              "      <td>N</td>\n",
              "      <td>N</td>\n",
              "      <td>N</td>\n",
              "      <td>N</td>\n",
              "      <td>Y</td>\n",
              "      <td>N</td>\n",
              "      <td>N</td>\n",
              "      <td>Y</td>\n",
              "      <td>N</td>\n",
              "      <td>Y</td>\n",
              "      <td>N</td>\n",
              "      <td>N</td>\n",
              "      <td>39.944510</td>\n",
              "      <td>-75.165442</td>\n",
              "      <td>POINT (2693078.580 233247.101)</td>\n",
              "    </tr>\n",
              "    <tr>\n",
              "      <th>4</th>\n",
              "      <td>NEW</td>\n",
              "      <td>2861 Lewis Street</td>\n",
              "      <td>N</td>\n",
              "      <td>N</td>\n",
              "      <td>Y</td>\n",
              "      <td>Y</td>\n",
              "      <td>Y</td>\n",
              "      <td>N</td>\n",
              "      <td>Y</td>\n",
              "      <td>Y</td>\n",
              "      <td>Y</td>\n",
              "      <td>Y</td>\n",
              "      <td>Y</td>\n",
              "      <td>N</td>\n",
              "      <td>N</td>\n",
              "      <td>Y</td>\n",
              "      <td>N</td>\n",
              "      <td>Y</td>\n",
              "      <td>N</td>\n",
              "      <td>Y</td>\n",
              "      <td>N</td>\n",
              "      <td>39.991688</td>\n",
              "      <td>-75.080378</td>\n",
              "      <td>POINT (2716399.773 251134.976)</td>\n",
              "    </tr>\n",
              "  </tbody>\n",
              "</table>\n",
              "</div>"
            ],
            "text/plain": [
              "  SITE_NAME  ...                        geometry\n",
              "0       LAB  ...  POINT (2711384.641 257149.310)\n",
              "1       ROX  ...  POINT (2671934.290 271248.900)\n",
              "2       NEA  ...  POINT (2734326.638 280980.247)\n",
              "3       CHS  ...  POINT (2693078.580 233247.101)\n",
              "4       NEW  ...  POINT (2716399.773 251134.976)\n",
              "\n",
              "[5 rows x 24 columns]"
            ]
          },
          "metadata": {
            "tags": []
          },
          "execution_count": 96
        }
      ]
    },
    {
      "cell_type": "code",
      "metadata": {
        "id": "c7z4Vj2QRPj_",
        "colab_type": "code",
        "colab": {
          "base_uri": "https://localhost:8080/",
          "height": 34
        },
        "outputId": "a288f29f-8188-4b1b-95d0-b2f0db4fa5b5"
      },
      "source": [
        "stations.shape"
      ],
      "execution_count": 97,
      "outputs": [
        {
          "output_type": "execute_result",
          "data": {
            "text/plain": [
              "(12, 24)"
            ]
          },
          "metadata": {
            "tags": []
          },
          "execution_count": 97
        }
      ]
    },
    {
      "cell_type": "code",
      "metadata": {
        "id": "qy_ypro7XOgX",
        "colab_type": "code",
        "colab": {}
      },
      "source": [
        "# Create a base map\n",
        "m_2 = folium.Map(location=[39.9526,-75.1652], zoom_start=11)\n",
        "\n",
        "# Add a heatmap to the base map\n",
        "HeatMap(data=releases[['LATITUDE', 'LONGITUDE']], radius=20).add_to(m_2)\n",
        "\n",
        "# Add points to the map\n",
        "for idx, row in stations.iterrows():    \n",
        "    Marker([row['LATITUDE'], row['LONGITUDE']]).add_to(m_2)\n",
        "\n",
        "# Display the map\n",
        "embed_map(m_2, '25g-m_2.html')"
      ],
      "execution_count": 0,
      "outputs": []
    },
    {
      "cell_type": "markdown",
      "metadata": {
        "id": "3qkyvDAejOY9",
        "colab_type": "text"
      },
      "source": [
        "<!--- สำหรับแสดงบนเว็บไซต์ -->\n",
        "<iframe width=\"100%\" height=\"640\" src=\"https://www.bualabs.com/wp-content/uploads/2019/11/25g-m_2.html\" frameborder=\"0\" allowfullscreen></iframe>"
      ]
    },
    {
      "cell_type": "markdown",
      "metadata": {
        "id": "dQMc3T1eMftm",
        "colab_type": "text"
      },
      "source": [
        "# 5. วัดระยะทาง ข้อมูลภูมิศาสตร์"
      ]
    },
    {
      "cell_type": "markdown",
      "metadata": {
        "id": "pbUT_k1DPrnX",
        "colab_type": "text"
      },
      "source": [
        "ก่อนวัดระยะทาง เราต้องเช็คก่อนว่าข้อมูลอยู่ใน [CRS](https://www.bualabs.com/archives/2594/what-is-coordinate-reference-system-crs-what-is-map-projection-teach-geopandas-convert-crs-geospatial-data-geospatial-ep-2/) เดียวกัน ไม่งั้นจะเปรียบเทียบกันไม่ได้"
      ]
    },
    {
      "cell_type": "code",
      "metadata": {
        "id": "nXyvoNwGMfw0",
        "colab_type": "code",
        "colab": {
          "base_uri": "https://localhost:8080/",
          "height": 51
        },
        "outputId": "4b9562e3-b883-4a04-a056-ccc542cbc8bf"
      },
      "source": [
        "print(stations.crs)\n",
        "print(releases.crs)"
      ],
      "execution_count": 99,
      "outputs": [
        {
          "output_type": "stream",
          "text": [
            "{'init': 'epsg:2272'}\n",
            "{'init': 'epsg:2272'}\n"
          ],
          "name": "stdout"
        }
      ]
    },
    {
      "cell_type": "markdown",
      "metadata": {
        "id": "my2R9N5AMf0p",
        "colab_type": "text"
      },
      "source": [
        "และเราต้องเช็คอีกว่า CRS นั้น ใช้หน่วยวัดเป็นระบบอะไร ในคสนี้ epsg 2272 มีหน่วยวัดระยะทาง เป็นฟุต (Feet) ตามข้อมูลด้านล่าง รายละเอียดเพิ่มเติมในหัวข้อ Credit\n",
        "\n",
        "* Unit: US survey foot\n",
        "* Geodetic CRS: NAD83\n",
        "* Datum: North American Datum 1983\n",
        "* Ellipsoid: GRS 1980\n",
        "* Prime meridian: Greenwich\n",
        "* Data source: OGP\n",
        "* Revision date: 2007-01-19\n",
        "* Scope: Large and medium scale topographic mapping and engineering survey.\n",
        "* Method: Geocentric translations (geog2D domain)\n",
        "* Coordinate system: Cartesian 2D CS. Axes: easting, northing (X,Y). Orientations: east, north. UoM: ftUS."
      ]
    },
    {
      "cell_type": "markdown",
      "metadata": {
        "id": "rPqrial4U1f1",
        "colab_type": "text"
      },
      "source": [
        "วัดระยะทางจากจุดปล่อยสารพิษ ครั้งล่าสุด ไปยังสถานีตรวจสอบสภาพอากาศ ทั้ง 12 สถานี หน่วยเป็นฟุต"
      ]
    },
    {
      "cell_type": "code",
      "metadata": {
        "id": "UlA5yQboMf4V",
        "colab_type": "code",
        "colab": {
          "base_uri": "https://localhost:8080/",
          "height": 238
        },
        "outputId": "ada9b0ea-4438-40b1-abcc-98e7e57d2947"
      },
      "source": [
        "# Select one release incident in particular\n",
        "recent_release = releases.iloc[4662]\n",
        "\n",
        "# Measure distance from release to each station\n",
        "distances = stations.geometry.distance(recent_release.geometry)\n",
        "distances"
      ],
      "execution_count": 100,
      "outputs": [
        {
          "output_type": "execute_result",
          "data": {
            "text/plain": [
              "0     24818.534592\n",
              "1     38081.995399\n",
              "2     57888.980440\n",
              "3      6662.974862\n",
              "4     25468.457860\n",
              "5     16031.056920\n",
              "6      5557.991363\n",
              "7     32605.236812\n",
              "8     60255.213054\n",
              "9     19236.322478\n",
              "10    15645.975503\n",
              "11     5175.201869\n",
              "dtype: float64"
            ]
          },
          "metadata": {
            "tags": []
          },
          "execution_count": 100
        }
      ]
    },
    {
      "cell_type": "code",
      "metadata": {
        "id": "7jhETGqRak3e",
        "colab_type": "code",
        "colab": {}
      },
      "source": [
        "# Create a base map\n",
        "m_3 = folium.Map(location=[39.9526,-75.1652], zoom_start=11)\n",
        "\n",
        "# Add a heatmap to the base map\n",
        "HeatMap(data=releases[['LATITUDE', 'LONGITUDE']], radius=20).add_to(m_3)\n",
        "\n",
        "# Add points to the map\n",
        "for idx, row in stations.iterrows():    \n",
        "    Marker([row['LATITUDE'], row['LONGITUDE']], tooltip=row['SITE_NAME']).add_to(m_3)\n",
        "\n",
        "CircleMarker(\n",
        "    location=[recent_release['LATITUDE'], recent_release['LONGITUDE']], \n",
        "    color='red', \n",
        "    fillcolor='red', fill=True, \n",
        "    radius=100).add_to(m_3)\n",
        "\n",
        "# Display the map\n",
        "embed_map(m_3, '25g-m_3.html')"
      ],
      "execution_count": 0,
      "outputs": []
    },
    {
      "cell_type": "markdown",
      "metadata": {
        "id": "pJmuX2KNjTJM",
        "colab_type": "text"
      },
      "source": [
        "<!--- สำหรับแสดงบนเว็บไซต์ -->\n",
        "<iframe width=\"100%\" height=\"640\" src=\"https://www.bualabs.com/wp-content/uploads/2019/11/25g-m_3.html\" frameborder=\"0\" allowfullscreen></iframe>"
      ]
    },
    {
      "cell_type": "markdown",
      "metadata": {
        "id": "2NojfXJyVndw",
        "colab_type": "text"
      },
      "source": [
        "คำนวนหา ระยะทางเฉลี่ยจาก จุดปล่อยสารพิษ ครั้งล่าสุด ไปยังสถานีตรวจสอบสภาพอากาศ ทั้ง 12 สถานี"
      ]
    },
    {
      "cell_type": "code",
      "metadata": {
        "id": "VTB7RfziMf74",
        "colab_type": "code",
        "colab": {
          "base_uri": "https://localhost:8080/",
          "height": 34
        },
        "outputId": "d82038d8-d753-45fa-8269-e1b208e3e63d"
      },
      "source": [
        "print(f'Mean distance to monitoring stations: {distances.mean()} feet')"
      ],
      "execution_count": 102,
      "outputs": [
        {
          "output_type": "stream",
          "text": [
            "Mean distance to monitoring stations: 25618.99509593599 feet\n"
          ],
          "name": "stdout"
        }
      ]
    },
    {
      "cell_type": "markdown",
      "metadata": {
        "id": "Ke0dpRTmV9kG",
        "colab_type": "text"
      },
      "source": [
        "หาสถานีตรวจวัดสภาพอากาศ ที่ใกล้ที่สุด กับ จุดปล่อยสารพิษครั้งล่าสุด"
      ]
    },
    {
      "cell_type": "code",
      "metadata": {
        "id": "UWIJeTgYMf_4",
        "colab_type": "code",
        "colab": {
          "base_uri": "https://localhost:8080/",
          "height": 119
        },
        "outputId": "52288c6b-1130-4fbc-819f-db4164545ea0"
      },
      "source": [
        "print(f'Closest monitoring station ({distances.min()} feet):')\n",
        "print(stations.iloc[distances.idxmin()][[\"SITE_NAME\", \"ADDRESS\", \"LATITUDE\", \"LONGITUDE\"]])"
      ],
      "execution_count": 103,
      "outputs": [
        {
          "output_type": "stream",
          "text": [
            "Closest monitoring station (5175.201869156377 feet):\n",
            "SITE_NAME             VGR\n",
            "ADDRESS      6th and Arch\n",
            "LATITUDE          39.9528\n",
            "LONGITUDE        -75.1499\n",
            "Name: 11, dtype: object\n"
          ],
          "name": "stdout"
        }
      ]
    },
    {
      "cell_type": "markdown",
      "metadata": {
        "id": "wZmqUM3eR-T5",
        "colab_type": "text"
      },
      "source": [
        "# 6. สร้าง Buffer"
      ]
    },
    {
      "cell_type": "markdown",
      "metadata": {
        "id": "ecsxZ-SgWKNa",
        "colab_type": "text"
      },
      "source": [
        "แทนที่เราจะต้องพล็อตแผนที่แล้วมองหา หรือคำนวนระยะทางระหว่างจุดปล่อย และสถานีตรวจวัด ทีละคู่ ๆ เราสามารถสร้าง Buffer รอบจุดที่เราต้องการได้ เช่น เราจะสร้าง Buffer ระยะทาง 2 ไมล์ รอบ ๆ ทุก ๆ สถานีตรวจวัด "
      ]
    },
    {
      "cell_type": "code",
      "metadata": {
        "id": "55HipSATR-dA",
        "colab_type": "code",
        "colab": {
          "base_uri": "https://localhost:8080/",
          "height": 119
        },
        "outputId": "03d97b71-62a4-405a-a70c-b484f22925d1"
      },
      "source": [
        "two_mile_buffer = stations.geometry.buffer(2*5280)\n",
        "two_mile_buffer.head()"
      ],
      "execution_count": 104,
      "outputs": [
        {
          "output_type": "execute_result",
          "data": {
            "text/plain": [
              "0    POLYGON ((2721944.641 257149.310, 2721893.792 ...\n",
              "1    POLYGON ((2682494.290 271248.900, 2682443.441 ...\n",
              "2    POLYGON ((2744886.638 280980.247, 2744835.789 ...\n",
              "3    POLYGON ((2703638.580 233247.101, 2703587.731 ...\n",
              "4    POLYGON ((2726959.773 251134.976, 2726908.924 ...\n",
              "dtype: geometry"
            ]
          },
          "metadata": {
            "tags": []
          },
          "execution_count": 104
        }
      ]
    },
    {
      "cell_type": "markdown",
      "metadata": {
        "id": "VJh8gxmER-in",
        "colab_type": "text"
      },
      "source": [
        "เราจะเห็นวงกลมสีน้ำเงินขึ้นมา รัศมี 2 ไมล์ (2 x 5280 ฟุต) โดยจุดศูนย์กลางอยู่ที่สถานีตรวจวัดอากาศ แต่ละสถานี"
      ]
    },
    {
      "cell_type": "code",
      "metadata": {
        "id": "nFdSS9WbR-mv",
        "colab_type": "code",
        "colab": {}
      },
      "source": [
        "# Create map with release incidents and monitoring stations\n",
        "m_4 = folium.Map(location=[39.9526,-75.1652], zoom_start=11)\n",
        "HeatMap(data=releases[['LATITUDE', 'LONGITUDE']], radius=20).add_to(m_4)\n",
        "for idx, row in stations.iterrows():\n",
        "    Marker([row['LATITUDE'], row['LONGITUDE']]).add_to(m_4)\n",
        "    \n",
        "# Plot each polygon on the map\n",
        "GeoJson(two_mile_buffer.to_crs(epsg=4326)).add_to(m_4)\n",
        "\n",
        "# Show the map\n",
        "embed_map(m_4, '25g-m_4.html')"
      ],
      "execution_count": 0,
      "outputs": []
    },
    {
      "cell_type": "markdown",
      "metadata": {
        "id": "-XSY-94PjERs",
        "colab_type": "text"
      },
      "source": [
        "<!--- สำหรับแสดงบนเว็บไซต์ -->\n",
        "<iframe width=\"100%\" height=\"640\" src=\"https://www.bualabs.com/wp-content/uploads/2019/11/25g-m_4.html\" frameborder=\"0\" allowfullscreen></iframe>"
      ]
    },
    {
      "cell_type": "markdown",
      "metadata": {
        "id": "l9W0_zADh7jN",
        "colab_type": "text"
      },
      "source": [
        "# 7. ใช้งาน Buffer"
      ]
    },
    {
      "cell_type": "markdown",
      "metadata": {
        "id": "n45cH8Vdg4aa",
        "colab_type": "text"
      },
      "source": [
        "เราสามารถรวม Buffer ด้านบน เข้าเป็น Shape MultiPolygon เดียว เพื่อให้ง่ายต่อการนำไปใช้งานต่อไป"
      ]
    },
    {
      "cell_type": "code",
      "metadata": {
        "id": "cx0mcRFNR-s9",
        "colab_type": "code",
        "colab": {
          "base_uri": "https://localhost:8080/",
          "height": 338
        },
        "outputId": "833e3029-708f-43dd-cd95-f7d863630a35"
      },
      "source": [
        "# Turn group of polygons into single multipolygon\n",
        "my_union = two_mile_buffer.geometry.unary_union\n",
        "print('Type:', type(my_union))\n",
        "\n",
        "# Show the MultiPolygon object\n",
        "my_union"
      ],
      "execution_count": 106,
      "outputs": [
        {
          "output_type": "stream",
          "text": [
            "Type: <class 'shapely.geometry.multipolygon.MultiPolygon'>\n"
          ],
          "name": "stdout"
        },
        {
          "output_type": "execute_result",
          "data": {
            "text/plain": [
              "<shapely.geometry.multipolygon.MultiPolygon at 0x7fd73bfa0908>"
            ],
            "image/svg+xml": "<svg xmlns=\"http://www.w3.org/2000/svg\" xmlns:xlink=\"http://www.w3.org/1999/xlink\" width=\"300\" height=\"300\" viewBox=\"2657696.0422809203 196895.2060144025 99312.68593053427 98323.28830303194\" preserveAspectRatio=\"xMinYMin meet\"><g transform=\"matrix(1,0,0,-1,0,492113.70033183694)\"><g><path fill-rule=\"evenodd\" fill=\"#66cc99\" stroke=\"#555555\" stroke-width=\"662.0845728702284\" opacity=\"0.6\" d=\"M 2682494.289907977,271248.90001137555 L 2682443.4406216354,270213.8390094954 L 2682291.382469035,269188.74621088523 L 2682039.5798533093,268183.4938195684 L 2681690.457771296,267207.7629656002 L 2681247.3784594955,266270.950470493 L 2680714.609013892,265382.07835068856 L 2680097.2802954875,264549.70693060744 L 2679401.337517307,263781.8524020456 L 2678633.482988745,263085.90962386504 L 2677801.111568664,262468.5809054607 L 2676912.2394488594,261935.81145985692 L 2675975.4269537525,261492.73214805636 L 2674999.696099784,261143.61006604342 L 2673994.4437084673,260891.80745031743 L 2672969.350909857,260739.74929771715 L 2671934.289907977,260688.90001137555 L 2670899.228906097,260739.74929771715 L 2669874.1361074867,260891.80745031743 L 2668868.8837161697,261143.61006604342 L 2667893.1528622014,261492.73214805636 L 2666956.3403670946,261935.8114598569 L 2666067.4682472902,262468.58090546064 L 2665235.096827209,263085.90962386504 L 2664467.242298647,263781.85240204557 L 2663771.2995204665,264549.70693060744 L 2663153.970802062,265382.0783506885 L 2662621.2013564585,266270.950470493 L 2662178.122044658,267207.7629656002 L 2661828.9999626447,268183.4938195684 L 2661577.1973469188,269188.74621088523 L 2661425.1391943186,270213.8390094954 L 2661374.289907977,271248.90001137555 L 2661425.1391943186,272283.9610132557 L 2661577.1973469188,273309.05381186586 L 2661828.9999626447,274314.30620318267 L 2662178.122044658,275290.0370571509 L 2662621.2013564585,276226.8495522581 L 2663153.970802062,277115.72167206253 L 2663771.2995204665,277948.09309214365 L 2664467.242298647,278715.94762070547 L 2665235.096827209,279411.89039888605 L 2666067.46824729,280029.2191172904 L 2666956.3403670946,280561.98856289417 L 2667893.1528622014,281005.0678746947 L 2668868.8837161697,281354.18995670765 L 2669874.1361074867,281605.99257243366 L 2670899.228906097,281758.050725034 L 2671934.289907977,281808.90001137555 L 2672969.350909857,281758.050725034 L 2673994.4437084673,281605.99257243366 L 2674999.696099784,281354.1899567077 L 2675975.426953752,281005.06787469477 L 2676912.2394488594,280561.98856289417 L 2677801.1115686637,280029.21911729046 L 2678633.482988745,279411.89039888605 L 2679401.3375173067,278715.9476207055 L 2680097.2802954875,277948.0930921437 L 2680714.609013892,277115.7216720626 L 2681247.3784594955,276226.84955225815 L 2681690.457771296,275290.03705715097 L 2682039.5798533093,274314.3062031827 L 2682291.382469035,273309.0538118659 L 2682443.4406216354,272283.9610132558 L 2682494.289907977,271248.9000113756 L 2682494.289907977,271248.90001137555 z\" /><path fill-rule=\"evenodd\" fill=\"#66cc99\" stroke=\"#555555\" stroke-width=\"662.0845728702284\" opacity=\"0.6\" d=\"M 2753330.480584398,274645.3961711377 L 2753279.6312980563,273610.33516925754 L 2753127.573145456,272585.2423706474 L 2752875.7705297302,271579.98997933057 L 2752526.648447717,270604.2591253623 L 2752083.5691359164,269667.44663025514 L 2751550.7996903127,268778.5745104507 L 2750933.4709719084,267946.2030903696 L 2750237.528193728,267178.34856180777 L 2749469.673665166,266482.4057836272 L 2748637.302245085,265865.07706522284 L 2747748.4301252803,265332.30761961907 L 2746811.6176301735,264889.2283078185 L 2745835.886776205,264540.1062258056 L 2744830.634384888,264288.3036100796 L 2743805.541586278,264136.24545747926 L 2742770.480584398,264085.3961711377 L 2741735.419582518,264136.24545747926 L 2740710.3267839076,264288.3036100796 L 2739705.0743925907,264540.10622580553 L 2738729.3435386224,264889.22830781847 L 2737792.5310435155,265332.30761961907 L 2736903.658923711,265865.0770652228 L 2736071.28750363,266482.4057836272 L 2735303.4329750678,267178.3485618077 L 2734607.4901968874,267946.2030903696 L 2733990.161478483,268778.57451045065 L 2733457.3920328794,269667.44663025514 L 2733061.126293669,270505.28014219843 L 2732266.484419656,270623.1541293195 L 2731261.232028339,270874.95674504543 L 2730285.5011743708,271224.0788270584 L 2729348.688679264,271667.15813885897 L 2728459.8165594595,272199.9275844627 L 2727627.4451393783,272817.2563028671 L 2726859.590610816,273513.1990810476 L 2726163.647832636,274281.0536096095 L 2725546.3191142315,275113.42502969055 L 2725013.549668628,276002.29714949505 L 2724570.470356827,276939.1096446022 L 2724221.348274814,277914.84049857047 L 2723969.545659088,278920.0928898873 L 2723817.487506488,279945.18568849744 L 2723766.6382201463,280980.2466903776 L 2723817.487506488,282015.30769225775 L 2723969.545659088,283040.4004908679 L 2724221.348274814,284045.6528821847 L 2724570.470356827,285021.38373615296 L 2725013.549668628,285958.19623126014 L 2725546.3191142315,286847.0683510646 L 2726163.647832636,287679.4397711457 L 2726859.590610816,288447.2942997075 L 2727627.4451393783,289143.2370778881 L 2728459.816559459,289760.56579629245 L 2729348.688679264,290293.3352418962 L 2730285.5011743708,290736.41455369676 L 2731261.232028339,291085.5366357097 L 2732266.484419656,291337.3392514357 L 2733291.577218266,291489.397404036 L 2734326.6382201463,291540.2466903776 L 2735361.6992220264,291489.397404036 L 2736386.7920206366,291337.3392514357 L 2737392.0444119535,291085.53663570975 L 2738367.7752659214,290736.4145536968 L 2739304.5877610287,290293.3352418962 L 2740193.459880833,289760.5657962925 L 2741025.8313009143,289143.2370778881 L 2741793.685829476,288447.2942997076 L 2742489.628607657,287679.43977114576 L 2743106.957326061,286847.06835106463 L 2743639.726771665,285958.1962312602 L 2744035.992510875,285120.36271931685 L 2744830.634384888,285002.4887321958 L 2745835.886776205,284750.68611646985 L 2746811.617630173,284401.5640344569 L 2747748.4301252803,283958.4847226563 L 2748637.3022450847,283425.7152770526 L 2749469.673665166,282808.3865586482 L 2750237.5281937276,282112.44378046767 L 2750933.4709719084,281344.58925190585 L 2751550.7996903127,280512.21783182473 L 2752083.5691359164,279623.3457120203 L 2752526.648447717,278686.5332169131 L 2752875.7705297302,277710.8023629449 L 2753127.573145456,276705.54997162806 L 2753279.6312980563,275680.45717301796 L 2753330.480584398,274645.39617113775 L 2753330.480584398,274645.3961711377 z\" /><path fill-rule=\"evenodd\" fill=\"#66cc99\" stroke=\"#555555\" stroke-width=\"662.0845728702284\" opacity=\"0.6\" d=\"M 2688740.053177494,211019.29842871858 L 2688694.811977139,210098.3926395792 L 2688542.753824539,209073.29984096903 L 2688290.951208813,208068.04744965222 L 2687941.8291268,207092.316595684 L 2687498.7498149993,206155.50410057683 L 2686965.9803693956,205266.63198077236 L 2686348.6516509913,204434.26056069127 L 2685652.708872811,203666.40603212942 L 2684884.854344249,202970.46325394884 L 2684052.482924168,202353.13453554446 L 2683163.610804363,201820.36508994072 L 2682226.7983092563,201377.28577814015 L 2681251.067455288,201028.16369612722 L 2680245.815063971,200776.36108040123 L 2679220.722265361,200624.30292780095 L 2678185.661263481,200573.45364145935 L 2677150.6002616007,200624.30292780095 L 2676125.5074629905,200776.36108040123 L 2675120.2550716735,201028.16369612722 L 2674144.5242177052,201377.28577814015 L 2673207.7117225984,201820.3650899407 L 2672318.839602794,202353.13453554446 L 2671486.468182713,202970.46325394884 L 2670718.6136541506,203666.4060321294 L 2670022.6708759703,204434.26056069124 L 2669405.342157566,205266.63198077233 L 2668872.5727119623,206155.5041005768 L 2668429.4934001616,207092.31659568398 L 2668080.3713181484,208068.04744965222 L 2667828.5687024225,209073.299840969 L 2667676.5105498224,210098.39263957916 L 2667625.661263481,211133.45364145935 L 2667676.5105498224,212168.5146433395 L 2667828.5687024225,213193.60744194966 L 2668080.3713181484,214198.85983326647 L 2668429.4934001616,215174.59068723468 L 2668872.5727119623,216111.4031823419 L 2669405.342157566,217000.27530214633 L 2670022.6708759703,217832.64672222745 L 2670718.6136541506,218600.5012507893 L 2671486.468182713,219296.44402896985 L 2672318.8396027936,219913.77274737423 L 2673207.7117225984,220446.54219297797 L 2674144.5242177052,220889.62150477854 L 2675120.2550716735,221238.74358679148 L 2676125.5074629905,221490.54620251746 L 2677150.6002616007,221642.60435511774 L 2677252.6802247134,221647.61922213004 L 2677255.741374401,221709.9303554882 L 2677117.1593468953,222097.24117599812 L 2676865.3567311694,223102.4935673149 L 2676713.298578569,224127.58636592506 L 2676662.4492922276,225162.64736780524 L 2676713.298578569,226197.7083696854 L 2676865.3567311694,227222.80116829555 L 2677117.1593468953,228228.05355961237 L 2677466.2814289085,229203.78441358058 L 2677909.360740709,230140.5969086878 L 2678442.130186313,231029.46902849223 L 2679059.458904717,231861.84044857335 L 2679755.4016828975,232629.6949771352 L 2680523.2562114596,233325.63775531575 L 2681355.6276315404,233942.96647372012 L 2682244.4997513453,234475.73591932387 L 2682624.825995464,234655.6168361392 L 2682721.4874073346,235307.25514370482 L 2682973.2900230605,236312.50753502164 L 2683322.4121050737,237288.23838898985 L 2683765.4914168743,238225.05088409706 L 2684296.971740425,239111.77223369223 L 2683958.1591539495,238990.54315179793 L 2682952.9067626325,238738.74053607194 L 2681927.8139640223,238586.68238347166 L 2680892.752962142,238535.83309713006 L 2679857.691960262,238586.68238347166 L 2678832.599161652,238738.74053607194 L 2677827.346770335,238990.54315179793 L 2676851.6159163667,239339.66523381087 L 2675914.80342126,239782.7445456114 L 2675025.9313014555,240315.51399121518 L 2674193.5598813742,240932.84270961955 L 2673425.705352812,241628.7854878001 L 2672729.7625746317,242396.64001636195 L 2672112.4338562274,243229.01143644305 L 2671579.6644106237,244117.8835562475 L 2671136.585098823,245054.6960513547 L 2670787.46301681,246030.42690532294 L 2670535.660401084,247035.67929663972 L 2670383.602248484,248060.77209524988 L 2670332.752962142,249095.83309713006 L 2670383.602248484,250130.8940990102 L 2670535.660401084,251155.98689762037 L 2670787.46301681,252161.23928893718 L 2671136.585098823,253136.9701429054 L 2671579.6644106237,254073.7826380126 L 2672112.4338562274,254962.65475781704 L 2672729.7625746317,255795.02617789817 L 2673425.705352812,256562.88070646 L 2674193.5598813742,257258.82348464057 L 2675025.931301455,257876.15220304494 L 2675914.80342126,258408.92164864868 L 2676851.6159163667,258852.00096044925 L 2677827.346770335,259201.1230424622 L 2678832.599161652,259452.92565818818 L 2679857.691960262,259604.98381078846 L 2680892.752962142,259655.83309713006 L 2681927.8139640223,259604.98381078846 L 2682952.9067626325,259452.92565818818 L 2683958.1591539495,259201.1230424622 L 2684933.8900079173,258852.00096044928 L 2685870.7025030246,258408.9216486487 L 2686759.574622829,257876.15220304497 L 2687591.94604291,257258.8234846406 L 2688359.800571472,256562.88070646004 L 2689055.7433496527,255795.0261778982 L 2689673.072068057,254962.6547578171 L 2690205.8415136607,254073.78263801266 L 2690648.9208254614,253136.97014290548 L 2690998.0429074746,252161.23928893724 L 2691249.8455232005,251155.98689762046 L 2691401.9036758007,250130.8940990103 L 2691452.752962142,249095.83309713015 L 2691452.752962142,249095.83309713006 L 2691401.9036758007,248060.7720952499 L 2691249.8455232005,247035.67929663975 L 2691036.8985317564,246185.54725271434 L 2691610.921606987,246818.8841183789 L 2692378.776135549,247514.82689655945 L 2693211.1475556297,248132.15561496382 L 2694100.0196754346,248664.92506056756 L 2695036.8321705414,249108.00437236813 L 2696012.5630245097,249457.12645438107 L 2697017.8154158266,249708.92907010706 L 2698042.908214437,249860.98722270734 L 2699077.969216317,249911.83650904894 L 2700113.030218197,249860.98722270734 L 2701138.1230168073,249708.92907010706 L 2702143.375408124,249457.12645438107 L 2703119.106262092,249108.00437236816 L 2704055.9187571993,248664.9250605676 L 2704944.7908770037,248132.15561496385 L 2705777.162297085,247514.82689655948 L 2706545.0168256466,246818.88411837892 L 2707023.163128229,246291.33096995408 L 2706643.604963904,247093.8392827764 L 2706370.1367204115,247858.13182255815 L 2705517.8191364515,248368.9913225555 L 2704685.44771637,248986.32004095986 L 2703917.593187808,249682.26281914042 L 2703221.6504096277,250450.11734770227 L 2702604.3216912234,251282.48876778336 L 2702071.5522456197,252171.36088758783 L 2701628.472933819,253108.173382695 L 2701279.350851806,254083.90423666325 L 2701027.54823608,255089.15662798003 L 2700875.49008348,256114.2494265902 L 2700824.640797138,257149.31042847037 L 2700875.49008348,258184.37143035053 L 2701027.54823608,259209.46422896069 L 2701279.350851806,260214.7166202775 L 2701628.472933819,261190.4474742457 L 2702071.5522456197,262127.25996935292 L 2702604.3216912234,263016.13208915736 L 2703221.6504096277,263848.5035092385 L 2703917.593187808,264616.3580378003 L 2704685.44771637,265312.3008159809 L 2705517.819136451,265929.6295343852 L 2706406.691256256,266462.398979989 L 2707343.5037513627,266905.47829178954 L 2708319.234605331,267254.6003738025 L 2709324.486996648,267506.4029895285 L 2710349.579795258,267658.4611421288 L 2711384.640797138,267709.3104284704 L 2712419.7017990183,267658.4611421288 L 2713444.7945976285,267506.4029895285 L 2714450.0469889455,267254.60037380253 L 2715425.7778429133,266905.4782917896 L 2716362.5903380206,266462.398979989 L 2717251.462457825,265929.6295343853 L 2718083.833877906,265312.3008159809 L 2718851.688406468,264616.35803780035 L 2719547.6311846487,263848.50350923854 L 2720164.959903053,263016.1320891574 L 2720697.7293486567,262127.25996935298 L 2721140.8086604574,261190.4474742458 L 2721414.2769039497,260426.15493446396 L 2722266.5944879097,259915.29543446668 L 2723098.965907991,259297.9667160623 L 2723866.8204365526,258602.02393788175 L 2724562.7632147335,257834.1694093199 L 2725180.0919331377,257001.7979892388 L 2725712.8613787415,256112.92586943437 L 2726155.940690542,255176.1133743272 L 2726505.0627725553,254200.38252035895 L 2726756.865388281,253195.13012904217 L 2726908.9235408814,252170.037330432 L 2726959.772827223,251134.97632855186 L 2726959.772827223,251134.97632855177 L 2726908.9235408814,250099.91532667162 L 2726756.865388281,249074.82252806146 L 2726505.0627725553,248069.57013674465 L 2726155.940690542,247093.83928277643 L 2725712.8613787415,246157.02678766925 L 2725180.0919331377,245268.1546678648 L 2724562.7632147335,244435.7832477837 L 2723866.820436553,243667.92871922185 L 2723098.965907991,242971.98594104126 L 2722266.59448791,242354.6572226369 L 2721377.7223681053,241821.88777703315 L 2720440.9098729985,241378.80846523258 L 2719465.17901903,241029.68638321964 L 2718459.9266277133,240777.88376749365 L 2717434.833829103,240625.82561489337 L 2716399.772827223,240574.97632855177 L 2715364.711825343,240625.82561489337 L 2714339.6190267326,240777.88376749365 L 2713334.3666354157,241029.68638321964 L 2712358.6357814474,241378.80846523258 L 2711421.8232863406,241821.88777703312 L 2710532.951166536,242354.6572226369 L 2709700.579746455,242971.98594104126 L 2708932.725217893,243667.92871922182 L 2708454.5789153115,244195.4818676463 L 2708834.137079636,243392.97355482436 L 2709183.2591616493,242417.24270085612 L 2709435.061777375,241411.99030953934 L 2709587.1199299754,240386.89751092918 L 2709637.969216317,239351.83650904903 L 2709637.969216317,239351.83650904894 L 2709587.1199299754,238316.7755071688 L 2709435.061777375,237291.68270855863 L 2709183.2591616493,236286.43031724181 L 2708834.137079636,235310.6994632736 L 2708391.0577678354,234373.88696816642 L 2707858.2883222317,233485.01484836196 L 2707240.9596038274,232652.64342828086 L 2707195.026333892,232601.96387467723 L 2707100.036217133,232336.4842831001 L 2706656.9569053324,231399.6717879929 L 2706124.1874597287,230510.79966818844 L 2705506.8587413244,229678.42824810735 L 2704810.915963144,228910.5737195455 L 2704043.061434582,228214.6309413649 L 2703210.690014501,227597.30222296054 L 2702321.8178946963,227064.5327773568 L 2701385.0053995894,226621.45346555623 L 2701264.0059611304,226578.15917419977 L 2701241.5703559034,226547.90826244644 L 2700545.627577723,225780.0537338846 L 2699777.773049161,225084.110955704 L 2698945.40162908,224466.78223729963 L 2698075.9799779034,223945.67095394086 L 2698164.164699785,223593.61780987968 L 2698316.222852385,222568.52501126952 L 2698367.0721387267,221533.46400938937 L 2698367.0721387267,221533.46400938928 L 2698316.222852385,220498.40300750913 L 2698164.164699785,219473.31020889897 L 2697912.362084059,218468.05781758216 L 2697563.240002046,217492.32696361394 L 2697120.160690245,216555.51446850676 L 2696587.3912446415,215666.6423487023 L 2695970.062526237,214834.2709286212 L 2695274.119748057,214066.41640005936 L 2694506.2652194947,213370.47362187877 L 2693673.893799414,212753.1449034744 L 2692785.021679609,212220.37545787066 L 2691848.2091845023,211777.2961460701 L 2690872.478330534,211428.17406405715 L 2689867.225939217,211176.37144833116 L 2688842.133140607,211024.31329573088 L 2688740.053177494,211019.29842871858 z\" /></g></g></svg>"
          },
          "metadata": {
            "tags": []
          },
          "execution_count": 106
        }
      ]
    },
    {
      "cell_type": "markdown",
      "metadata": {
        "id": "kfNHxlAYhVAA",
        "colab_type": "text"
      },
      "source": [
        "เราสามารถเช็คง่าย ๆ ว่าการปล่อยสารพิษครั้งล่าสุด อยู่ในรัศมี 2 ไมล์จาก 12 สถานีตรวจวัด หรือไม่ ด้วย MultiPolygon.contains()"
      ]
    },
    {
      "cell_type": "code",
      "metadata": {
        "id": "wW4vDqdWR-ws",
        "colab_type": "code",
        "colab": {
          "base_uri": "https://localhost:8080/",
          "height": 34
        },
        "outputId": "71552996-d0c9-4d7b-ca21-a2413136ecc8"
      },
      "source": [
        "# The closest station is less than two miles away\n",
        "my_union.contains(recent_release.geometry)"
      ],
      "execution_count": 107,
      "outputs": [
        {
          "output_type": "execute_result",
          "data": {
            "text/plain": [
              "True"
            ]
          },
          "metadata": {
            "tags": []
          },
          "execution_count": 107
        }
      ]
    },
    {
      "cell_type": "markdown",
      "metadata": {
        "id": "1TNWiSl6ht_c",
        "colab_type": "text"
      },
      "source": [
        "การปล่อยสารพิษ ครั้งที่ 358 อยู่นอกรัศมี"
      ]
    },
    {
      "cell_type": "code",
      "metadata": {
        "id": "sQ_QWUx2R-3u",
        "colab_type": "code",
        "colab": {
          "base_uri": "https://localhost:8080/",
          "height": 34
        },
        "outputId": "80b4a036-86f7-477b-b67b-866ab70b6f20"
      },
      "source": [
        "# The closest station is more than two miles away\n",
        "my_union.contains(releases.iloc[358].geometry)"
      ],
      "execution_count": 108,
      "outputs": [
        {
          "output_type": "execute_result",
          "data": {
            "text/plain": [
              "False"
            ]
          },
          "metadata": {
            "tags": []
          },
          "execution_count": 108
        }
      ]
    },
    {
      "cell_type": "markdown",
      "metadata": {
        "id": "jv0ZTmOc5k5t",
        "colab_type": "text"
      },
      "source": [
        "# Credit"
      ]
    },
    {
      "cell_type": "markdown",
      "metadata": {
        "id": "bazjbG7u5k-m",
        "colab_type": "text"
      },
      "source": [
        "* https://www.kaggle.com/alexisbcook/proximity-analysis\n",
        "* https://epsg.io/2272\n",
        "* https://www.bualabs.com/archives/2785/find-next-starbucks-reserve-roastery-new-branch-store-location-big-data-analyst-demography-geography-geospatial-ep-6/\n",
        "* http://geopandas.org/reference.html\n",
        "* https://pandas.pydata.org/pandas-docs/stable/reference/api/pandas.DataFrame.iloc.html\n",
        "* https://python-visualization.github.io/folium/quickstart.html#GeoJSON/TopoJSON-Overlays\n",
        "* https://epsg.io/4326\n",
        "* http://geopandas.org/geometric_manipulations.html"
      ]
    },
    {
      "cell_type": "code",
      "metadata": {
        "id": "rUiS1Hc3NUN2",
        "colab_type": "code",
        "colab": {}
      },
      "source": [
        ""
      ],
      "execution_count": 0,
      "outputs": []
    }
  ]
}