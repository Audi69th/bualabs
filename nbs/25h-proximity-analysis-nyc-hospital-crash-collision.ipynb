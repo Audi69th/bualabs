{
  "nbformat": 4,
  "nbformat_minor": 0,
  "metadata": {
    "colab": {
      "name": "25h-proximity-analysis-nyc-hospital-crash collision.ipynb",
      "provenance": []
    },
    "kernelspec": {
      "name": "python3",
      "display_name": "Python 3"
    },
    "accelerator": "GPU"
  },
  "cells": [
    {
      "cell_type": "markdown",
      "metadata": {
        "colab_type": "text",
        "id": "H9CYDwQ9gQ2u"
      },
      "source": [
        "ใน ep นี้เราจะมาเรียนรู้เทคนิคการใช้งาน Proximity Analysis กันต่อ เราจะสมมติตัวเองว่าอยู่ในทีม Crisis Response ที่จะวิเคราะห์อุบัติเหตุทางถนน รถชน และการรับมือเหตุฉุกเฉินของโรงพยาบาล ในเมือง New York City เพื่อตอบคำถามดังนี้\n",
        "\n",
        "1. มีอุบัติเหตุทางถนนกี่เปอร์เซ็นต์ ที่เกิดห่างจากนอกเขตโรงพยาบาลเกินรัศมี 10 กิโลเมตร?\n",
        "1. สมมติถ้าเกิดอุบัติเหตุทางถนนขึ้น ควรจะไปโรงพยาบาลไหนที่อยู่พิกัดใกล้ที่สุด\n",
        "1. โรงพยาบาลไหนน่าจะงานล้น จากอุบัติเหตุนอกเขตของตัวเอง\n",
        "1. ควรสร้างโรงพยาบาลใหม่ ณ ทำเลแถวไหนของเมือง ที่จะช่วยให้ครอบคลุมอุบัติเหตุทางถนน ดูแลผู้ป่วยมากขึ้นที่สุด เพื่อลดเปอร์เซ็นอุบัติเหตุนอกเขต ให้ต่ำกว่า 10%"
      ]
    },
    {
      "cell_type": "markdown",
      "metadata": {
        "colab_type": "text",
        "id": "Y7QjHJiKRD9N"
      },
      "source": [
        "# 0. Install"
      ]
    },
    {
      "cell_type": "markdown",
      "metadata": {
        "colab_type": "text",
        "id": "_qxIXpQqTmzD"
      },
      "source": [
        "เราจะต้อง Install kaggle เพื่อ Download Dataset, geopandas เพื่อใช้ในการวิเคราะห์ข้อมูล geospatial, folium เพื่อแสดงแผ่นที่ (ถ้ายังไม่ได้ Install ให้ uncomment)"
      ]
    },
    {
      "cell_type": "code",
      "metadata": {
        "colab_type": "code",
        "id": "rnpSo4UOwmES",
        "colab": {}
      },
      "source": [
        "# ! pip install geopandas\n",
        "# ! pip install git+https://github.com/python-visualization/folium\n",
        "# ! pip install kaggle --upgrade"
      ],
      "execution_count": 0,
      "outputs": []
    },
    {
      "cell_type": "markdown",
      "metadata": {
        "colab_type": "text",
        "id": "eIhjYw2SRB31"
      },
      "source": [
        "# 1. Import Library"
      ]
    },
    {
      "cell_type": "markdown",
      "metadata": {
        "colab_type": "text",
        "id": "EYelaC8QUiuP"
      },
      "source": [
        "Import folium Library เพื่อใช้ในการพล็อตแผนที่แบบ Interactive"
      ]
    },
    {
      "cell_type": "code",
      "metadata": {
        "colab_type": "code",
        "id": "mQfGtLVJwJL8",
        "colab": {}
      },
      "source": [
        "import math\n",
        "import pandas as pd\n",
        "import geopandas as gpd\n",
        "from shapely.geometry import MultiPolygon\n",
        "\n",
        "import folium\n",
        "from folium import Choropleth, Marker\n",
        "from folium.plugins import HeatMap, MarkerCluster\n",
        "\n",
        "import os\n",
        "from pathlib import Path"
      ],
      "execution_count": 0,
      "outputs": []
    },
    {
      "cell_type": "markdown",
      "metadata": {
        "colab_type": "text",
        "id": "p_qNdgnbruIv"
      },
      "source": [
        "ประกาศฟังก์ชันในการแสดงแผนที่โดยใช้ HTML iframe แต่ [Colab](https://www.bualabs.com/archives/1687/what-is-colab-open-jupyter-notebook-in-github-on-google-colab-create-open-in-colab-button-colab-ep-1/) ไม่ Support iframe เราจะ return Map ออกไปเลย"
      ]
    },
    {
      "cell_type": "code",
      "metadata": {
        "colab_type": "code",
        "id": "T3E_jS42F8ru",
        "colab": {}
      },
      "source": [
        "from IPython.display import IFrame, HTML\n",
        "\n",
        "def embed_map(m, file_name):    \n",
        "    m.save(file_name)\n",
        "\n",
        "    # # VM\n",
        "    # return IFrame(src=file_name, width='100%', height='500px')\n",
        "\n",
        "    # Colab\n",
        "    return m"
      ],
      "execution_count": 0,
      "outputs": []
    },
    {
      "cell_type": "markdown",
      "metadata": {
        "colab_type": "text",
        "id": "hZBm5maPRLmi"
      },
      "source": [
        "# 2. เตรียม Path สำหรับดาวน์โหลดข้อมูล"
      ]
    },
    {
      "cell_type": "markdown",
      "metadata": {
        "colab_type": "text",
        "id": "9DBiIhGYT6VU"
      },
      "source": [
        "กำหนด path ของ Config File และ Dataset ว่าจะอยู่ใน Google Drive ถ้าเราใช้ [Google Colab](https://www.bualabs.com/archives/1687/what-is-colab-open-jupyter-notebook-in-github-on-google-colab-create-open-in-colab-button-colab-ep-1/) หรือ อยู่ใน HOME ถ้าเราใช้ VM ธรรมดา และกำหนด Environment Variable ไปยังโฟลเดอร์ที่เก็บ kaggle.json"
      ]
    },
    {
      "cell_type": "markdown",
      "metadata": {
        "colab_type": "text",
        "id": "3xwILAZXUBx-"
      },
      "source": [
        "ในกรณีใช้ Colab ให้ Mount Google Drive เพื่อดึง Config File มาจาก Google Drive ส่วนตัวของเรา เมื่อเรารัน Cell ด้านล่างจะมีลิงค์ปรากฎขึ้นมาให้เรา Login กด Approve แล้ว Copy Authorization Code มาใส่ในช่องด้านล่าง แล้วกด Enter"
      ]
    },
    {
      "cell_type": "code",
      "metadata": {
        "colab_type": "code",
        "id": "N7_7Mxaw8jfO",
        "colab": {
          "base_uri": "https://localhost:8080/",
          "height": 34
        },
        "outputId": "9aa13085-ee1f-44bb-86a3-97f4f92c2a73"
      },
      "source": [
        "dataset = 'alexisbcook/geospatial-learn-course-data'\n",
        "\n",
        "# Google Colab\n",
        "config_path = Path('/content/drive')\n",
        "data_path = Path('/content/datasets/')/dataset\n",
        "from google.colab import drive\n",
        "drive.mount(str(config_path))\n",
        "os.environ['KAGGLE_CONFIG_DIR'] = f\"{config_path}/My Drive/.kaggle\"\n",
        "\n",
        "## VM\n",
        "# config_path = Path(os.getenv(\"HOME\"))\n",
        "# data_path = config_path/\"datasets\"/dataset\n",
        "# data_path.mkdir(parents=True, exist_ok=True)\n",
        "# os.environ['KAGGLE_CONFIG_DIR'] = f\"{config_path}/.kaggle\""
      ],
      "execution_count": 4,
      "outputs": [
        {
          "output_type": "stream",
          "text": [
            "Drive already mounted at /content/drive; to attempt to forcibly remount, call drive.mount(\"/content/drive\", force_remount=True).\n"
          ],
          "name": "stdout"
        }
      ]
    },
    {
      "cell_type": "markdown",
      "metadata": {
        "colab_type": "text",
        "id": "fjX_JnMaRRaM"
      },
      "source": [
        "# 3. Dataset"
      ]
    },
    {
      "cell_type": "markdown",
      "metadata": {
        "colab_type": "text",
        "id": "MhsZxRECNHv_"
      },
      "source": [
        "ในเคสนี้ เราจะสมมติตัวเองเป็นทีม Crisis Response ที่จะวิเคราะห์อุบัติเหตุทางถนน รถชน และการรับมือเหตุฉุกเฉิน บริหารจัดการ แบ่งงานดูแลเคสอุบัติภัยทางถนนที่เกิดขึ้น ของโรงพยาบาล ในเมือง New York City "
      ]
    },
    {
      "cell_type": "markdown",
      "metadata": {
        "colab_type": "text",
        "id": "Mtf3SFWCUYpu"
      },
      "source": [
        "Dataset เราจะดึงจาก Kaggle วิธี Download kaggle.json ให้ดูจาก ep ที่แล้ว\n",
        "\n",
        "เมื่อได้ kaggle.json มาแล้ว ในกรณีใช้ Google Colab ให้นำมาใส่ไว้ในโฟลเดอร์ My Drive/.kaggle ใน Google Drive ของเรา เป็น My Drive/.kaggle/kaggle.json ถ้าใช้ VM ให้ใส่ใน HOME/.kaggle/\n",
        "\n",
        "สั่งดาวน์โหลด Dataset จาก Kaggle พร้อมทั้ง unzip ไว้ใน data_path"
      ]
    },
    {
      "cell_type": "code",
      "metadata": {
        "colab_type": "code",
        "id": "DWVg-d8V4kRq",
        "colab": {
          "base_uri": "https://localhost:8080/",
          "height": 68
        },
        "outputId": "73d2355c-bd42-4dca-c902-f2102e980c09"
      },
      "source": [
        "!kaggle datasets download {dataset} -p \"{data_path}\" --unzip"
      ],
      "execution_count": 5,
      "outputs": [
        {
          "output_type": "stream",
          "text": [
            "Downloading geospatial-learn-course-data.zip to /content/datasets/alexisbcook/geospatial-learn-course-data\n",
            "100% 233M/233M [00:01<00:00, 103MB/s]\n",
            "100% 233M/233M [00:01<00:00, 133MB/s]\n"
          ],
          "name": "stdout"
        }
      ]
    },
    {
      "cell_type": "markdown",
      "metadata": {
        "id": "-9a3w3CN4Zbr",
        "colab_type": "text"
      },
      "source": [
        "# 4. Data"
      ]
    },
    {
      "cell_type": "markdown",
      "metadata": {
        "id": "a0_3gwnTXGrj",
        "colab_type": "text"
      },
      "source": [
        "## 4.1 ข้อมูลภูมิศาสตร์ อุบัติเหตุทางถนน"
      ]
    },
    {
      "cell_type": "markdown",
      "metadata": {
        "id": "swuLfdY9O66A",
        "colab_type": "text"
      },
      "source": [
        "โหลดข้อมูลอุบัติภัยทางถนน ในเมือง นิวยอร์ค ระหว่างปี  2013-2018."
      ]
    },
    {
      "cell_type": "code",
      "metadata": {
        "id": "cQ2UwbYAMfg3",
        "colab_type": "code",
        "outputId": "3b56cfb7-5269-4b59-9774-9563de82b9fc",
        "colab": {
          "base_uri": "https://localhost:8080/",
          "height": 479
        }
      },
      "source": [
        "collisions = gpd.read_file(data_path/\"NYPD_Motor_Vehicle_Collisions/NYPD_Motor_Vehicle_Collisions/NYPD_Motor_Vehicle_Collisions.shp\")\n",
        "collisions.head()"
      ],
      "execution_count": 24,
      "outputs": [
        {
          "output_type": "execute_result",
          "data": {
            "text/html": [
              "<div>\n",
              "<style scoped>\n",
              "    .dataframe tbody tr th:only-of-type {\n",
              "        vertical-align: middle;\n",
              "    }\n",
              "\n",
              "    .dataframe tbody tr th {\n",
              "        vertical-align: top;\n",
              "    }\n",
              "\n",
              "    .dataframe thead th {\n",
              "        text-align: right;\n",
              "    }\n",
              "</style>\n",
              "<table border=\"1\" class=\"dataframe\">\n",
              "  <thead>\n",
              "    <tr style=\"text-align: right;\">\n",
              "      <th></th>\n",
              "      <th>DATE</th>\n",
              "      <th>TIME</th>\n",
              "      <th>BOROUGH</th>\n",
              "      <th>ZIP CODE</th>\n",
              "      <th>LATITUDE</th>\n",
              "      <th>LONGITUDE</th>\n",
              "      <th>LOCATION</th>\n",
              "      <th>ON STREET</th>\n",
              "      <th>CROSS STRE</th>\n",
              "      <th>OFF STREET</th>\n",
              "      <th>NUMBER OF</th>\n",
              "      <th>NUMBER O_1</th>\n",
              "      <th>NUMBER O_2</th>\n",
              "      <th>NUMBER O_3</th>\n",
              "      <th>NUMBER O_4</th>\n",
              "      <th>NUMBER O_5</th>\n",
              "      <th>NUMBER O_6</th>\n",
              "      <th>NUMBER O_7</th>\n",
              "      <th>CONTRIBUTI</th>\n",
              "      <th>CONTRIBU_1</th>\n",
              "      <th>CONTRIBU_2</th>\n",
              "      <th>CONTRIBU_3</th>\n",
              "      <th>CONTRIBU_4</th>\n",
              "      <th>UNIQUE KEY</th>\n",
              "      <th>VEHICLE TY</th>\n",
              "      <th>VEHICLE _1</th>\n",
              "      <th>VEHICLE _2</th>\n",
              "      <th>VEHICLE _3</th>\n",
              "      <th>VEHICLE _4</th>\n",
              "      <th>geometry</th>\n",
              "    </tr>\n",
              "  </thead>\n",
              "  <tbody>\n",
              "    <tr>\n",
              "      <th>0</th>\n",
              "      <td>07/30/2019</td>\n",
              "      <td>0:00</td>\n",
              "      <td>BRONX</td>\n",
              "      <td>10464</td>\n",
              "      <td>40.841100</td>\n",
              "      <td>-73.784960</td>\n",
              "      <td>(40.8411, -73.78496)</td>\n",
              "      <td>None</td>\n",
              "      <td>None</td>\n",
              "      <td>121       PILOT STREET</td>\n",
              "      <td>1.0</td>\n",
              "      <td>0.0</td>\n",
              "      <td>0</td>\n",
              "      <td>0</td>\n",
              "      <td>0</td>\n",
              "      <td>0</td>\n",
              "      <td>1</td>\n",
              "      <td>0</td>\n",
              "      <td>Unspecified</td>\n",
              "      <td>Unspecified</td>\n",
              "      <td>Unspecified</td>\n",
              "      <td>None</td>\n",
              "      <td>None</td>\n",
              "      <td>4180045</td>\n",
              "      <td>Sedan</td>\n",
              "      <td>Station Wagon/Sport Utility Vehicle</td>\n",
              "      <td>Station Wagon/Sport Utility Vehicle</td>\n",
              "      <td>None</td>\n",
              "      <td>None</td>\n",
              "      <td>POINT (1043750.211 245785.815)</td>\n",
              "    </tr>\n",
              "    <tr>\n",
              "      <th>1</th>\n",
              "      <td>07/30/2019</td>\n",
              "      <td>0:10</td>\n",
              "      <td>QUEENS</td>\n",
              "      <td>11423</td>\n",
              "      <td>40.710827</td>\n",
              "      <td>-73.770660</td>\n",
              "      <td>(40.710827, -73.77066)</td>\n",
              "      <td>JAMAICA AVENUE</td>\n",
              "      <td>188 STREET</td>\n",
              "      <td>None</td>\n",
              "      <td>1.0</td>\n",
              "      <td>0.0</td>\n",
              "      <td>0</td>\n",
              "      <td>0</td>\n",
              "      <td>0</td>\n",
              "      <td>0</td>\n",
              "      <td>1</td>\n",
              "      <td>0</td>\n",
              "      <td>Driver Inattention/Distraction</td>\n",
              "      <td>Unspecified</td>\n",
              "      <td>None</td>\n",
              "      <td>None</td>\n",
              "      <td>None</td>\n",
              "      <td>4180007</td>\n",
              "      <td>Sedan</td>\n",
              "      <td>Sedan</td>\n",
              "      <td>None</td>\n",
              "      <td>None</td>\n",
              "      <td>None</td>\n",
              "      <td>POINT (1047831.185 198333.171)</td>\n",
              "    </tr>\n",
              "    <tr>\n",
              "      <th>2</th>\n",
              "      <td>07/30/2019</td>\n",
              "      <td>0:25</td>\n",
              "      <td>None</td>\n",
              "      <td>None</td>\n",
              "      <td>40.880318</td>\n",
              "      <td>-73.841286</td>\n",
              "      <td>(40.880318, -73.841286)</td>\n",
              "      <td>BOSTON ROAD</td>\n",
              "      <td>None</td>\n",
              "      <td>None</td>\n",
              "      <td>1.0</td>\n",
              "      <td>0.0</td>\n",
              "      <td>0</td>\n",
              "      <td>0</td>\n",
              "      <td>0</td>\n",
              "      <td>0</td>\n",
              "      <td>1</td>\n",
              "      <td>0</td>\n",
              "      <td>Following Too Closely</td>\n",
              "      <td>Unspecified</td>\n",
              "      <td>None</td>\n",
              "      <td>None</td>\n",
              "      <td>None</td>\n",
              "      <td>4179575</td>\n",
              "      <td>Sedan</td>\n",
              "      <td>Station Wagon/Sport Utility Vehicle</td>\n",
              "      <td>None</td>\n",
              "      <td>None</td>\n",
              "      <td>None</td>\n",
              "      <td>POINT (1028139.293 260041.178)</td>\n",
              "    </tr>\n",
              "    <tr>\n",
              "      <th>3</th>\n",
              "      <td>07/30/2019</td>\n",
              "      <td>0:35</td>\n",
              "      <td>MANHATTAN</td>\n",
              "      <td>10036</td>\n",
              "      <td>40.756744</td>\n",
              "      <td>-73.984590</td>\n",
              "      <td>(40.756744, -73.98459)</td>\n",
              "      <td>None</td>\n",
              "      <td>None</td>\n",
              "      <td>155       WEST 44 STREET</td>\n",
              "      <td>1.0</td>\n",
              "      <td>0.0</td>\n",
              "      <td>0</td>\n",
              "      <td>0</td>\n",
              "      <td>0</td>\n",
              "      <td>0</td>\n",
              "      <td>1</td>\n",
              "      <td>0</td>\n",
              "      <td>Oversized Vehicle</td>\n",
              "      <td>Unspecified</td>\n",
              "      <td>None</td>\n",
              "      <td>None</td>\n",
              "      <td>None</td>\n",
              "      <td>4179544</td>\n",
              "      <td>Box Truck</td>\n",
              "      <td>Station Wagon/Sport Utility Vehicle</td>\n",
              "      <td>None</td>\n",
              "      <td>None</td>\n",
              "      <td>None</td>\n",
              "      <td>POINT (988519.261 214979.320)</td>\n",
              "    </tr>\n",
              "    <tr>\n",
              "      <th>4</th>\n",
              "      <td>07/30/2019</td>\n",
              "      <td>10:00</td>\n",
              "      <td>BROOKLYN</td>\n",
              "      <td>11223</td>\n",
              "      <td>40.600090</td>\n",
              "      <td>-73.965910</td>\n",
              "      <td>(40.60009, -73.96591)</td>\n",
              "      <td>AVENUE T</td>\n",
              "      <td>OCEAN PARKWAY</td>\n",
              "      <td>None</td>\n",
              "      <td>1.0</td>\n",
              "      <td>0.0</td>\n",
              "      <td>0</td>\n",
              "      <td>0</td>\n",
              "      <td>1</td>\n",
              "      <td>0</td>\n",
              "      <td>0</td>\n",
              "      <td>0</td>\n",
              "      <td>Traffic Control Disregarded</td>\n",
              "      <td>Unspecified</td>\n",
              "      <td>None</td>\n",
              "      <td>None</td>\n",
              "      <td>None</td>\n",
              "      <td>4180660</td>\n",
              "      <td>Station Wagon/Sport Utility Vehicle</td>\n",
              "      <td>Bike</td>\n",
              "      <td>None</td>\n",
              "      <td>None</td>\n",
              "      <td>None</td>\n",
              "      <td>POINT (993716.669 157907.212)</td>\n",
              "    </tr>\n",
              "  </tbody>\n",
              "</table>\n",
              "</div>"
            ],
            "text/plain": [
              "         DATE   TIME  ... VEHICLE _4                        geometry\n",
              "0  07/30/2019   0:00  ...       None  POINT (1043750.211 245785.815)\n",
              "1  07/30/2019   0:10  ...       None  POINT (1047831.185 198333.171)\n",
              "2  07/30/2019   0:25  ...       None  POINT (1028139.293 260041.178)\n",
              "3  07/30/2019   0:35  ...       None   POINT (988519.261 214979.320)\n",
              "4  07/30/2019  10:00  ...       None   POINT (993716.669 157907.212)\n",
              "\n",
              "[5 rows x 30 columns]"
            ]
          },
          "metadata": {
            "tags": []
          },
          "execution_count": 24
        }
      ]
    },
    {
      "cell_type": "markdown",
      "metadata": {
        "id": "4TDZM1FzqCOS",
        "colab_type": "text"
      },
      "source": [
        "มีอุบัติเหตุ เกิดขึ้น จำนวน 261,905 ครั้ง"
      ]
    },
    {
      "cell_type": "code",
      "metadata": {
        "id": "MSUT-UgLRMwh",
        "colab_type": "code",
        "outputId": "47fcf8b5-8ae6-4174-ca53-ea06a872e737",
        "colab": {
          "base_uri": "https://localhost:8080/",
          "height": 34
        }
      },
      "source": [
        "collisions.shape"
      ],
      "execution_count": 25,
      "outputs": [
        {
          "output_type": "execute_result",
          "data": {
            "text/plain": [
              "(261905, 30)"
            ]
          },
          "metadata": {
            "tags": []
          },
          "execution_count": 25
        }
      ]
    },
    {
      "cell_type": "markdown",
      "metadata": {
        "id": "ec4xbjpuPlBz",
        "colab_type": "text"
      },
      "source": [
        "เนื่องจาก Colab เจอข้อมูลเยอะ ๆ แล้วอาจจะ Error เราจะ Sample ข้อมูลให้เหลือ 40,000 Record ให้พอเห็นภาพ"
      ]
    },
    {
      "cell_type": "code",
      "metadata": {
        "id": "X8XLPahaPe4b",
        "colab_type": "code",
        "colab": {}
      },
      "source": [
        "# Colab\n",
        "collisions = collisions.sample(40000)"
      ],
      "execution_count": 0,
      "outputs": []
    },
    {
      "cell_type": "markdown",
      "metadata": {
        "id": "N01wqJlRqVMp",
        "colab_type": "text"
      },
      "source": [
        "## 4.2 แผนที่ อุบัติเหตุทางถนน "
      ]
    },
    {
      "cell_type": "markdown",
      "metadata": {
        "id": "icCzMsjzqLBt",
        "colab_type": "text"
      },
      "source": [
        "พล็อตแผนที่ อุบัติเหตุทางถนน ในเมือง New York City"
      ]
    },
    {
      "cell_type": "code",
      "metadata": {
        "id": "VN3rbV8XWN34",
        "colab_type": "code",
        "colab": {}
      },
      "source": [
        "# Create a base map\n",
        "m_1 = folium.Map(location=[40.7, -74], zoom_start=11)\n",
        "\n",
        "# Add a heatmap to the base map\n",
        "HeatMap(data=collisions[['LATITUDE', 'LONGITUDE']], radius=12).add_to(m_1)\n",
        "\n",
        "# Display the map\n",
        "embed_map(m_1, '25h-m_1.html')"
      ],
      "execution_count": 0,
      "outputs": []
    },
    {
      "cell_type": "markdown",
      "metadata": {
        "id": "8DACN_GyjIOg",
        "colab_type": "text"
      },
      "source": [
        "<!--- สำหรับแสดงบนเว็บไซต์ -->\n",
        "<iframe width=\"100%\" height=\"640\" src=\"https://www.bualabs.com/wp-content/uploads/2019/11/25h-m_1.html\" frameborder=\"0\" allowfullscreen></iframe>"
      ]
    },
    {
      "cell_type": "markdown",
      "metadata": {
        "id": "_BHdWaYFQj3s",
        "colab_type": "text"
      },
      "source": [
        "## 4.3 ข้อมูลภูมิศาสตร์โรงพยาบาล"
      ]
    },
    {
      "cell_type": "markdown",
      "metadata": {
        "id": "mAarRtimMfmi",
        "colab_type": "text"
      },
      "source": [
        "ใน Dataset ของเรายังมีข้อมูลที่น่าสนใจอีกอย่าง คือ ข้อมูลโรงพยาบาล ในเมืองเดียวกัน"
      ]
    },
    {
      "cell_type": "code",
      "metadata": {
        "id": "k_F3EmsjLx1m",
        "colab_type": "code",
        "colab": {
          "base_uri": "https://localhost:8080/",
          "height": 391
        },
        "outputId": "6a5bb418-2a09-48a9-e271-2ef3d9d87427"
      },
      "source": [
        "hospitals = gpd.read_file(data_path/\"nyu_2451_34494/nyu_2451_34494/nyu_2451_34494.shp\")\n",
        "hospitals.head()"
      ],
      "execution_count": 28,
      "outputs": [
        {
          "output_type": "execute_result",
          "data": {
            "text/html": [
              "<div>\n",
              "<style scoped>\n",
              "    .dataframe tbody tr th:only-of-type {\n",
              "        vertical-align: middle;\n",
              "    }\n",
              "\n",
              "    .dataframe tbody tr th {\n",
              "        vertical-align: top;\n",
              "    }\n",
              "\n",
              "    .dataframe thead th {\n",
              "        text-align: right;\n",
              "    }\n",
              "</style>\n",
              "<table border=\"1\" class=\"dataframe\">\n",
              "  <thead>\n",
              "    <tr style=\"text-align: right;\">\n",
              "      <th></th>\n",
              "      <th>id</th>\n",
              "      <th>name</th>\n",
              "      <th>address</th>\n",
              "      <th>zip</th>\n",
              "      <th>factype</th>\n",
              "      <th>facname</th>\n",
              "      <th>capacity</th>\n",
              "      <th>capname</th>\n",
              "      <th>bcode</th>\n",
              "      <th>xcoord</th>\n",
              "      <th>ycoord</th>\n",
              "      <th>latitude</th>\n",
              "      <th>longitude</th>\n",
              "      <th>geometry</th>\n",
              "    </tr>\n",
              "  </thead>\n",
              "  <tbody>\n",
              "    <tr>\n",
              "      <th>0</th>\n",
              "      <td>317000001H1178</td>\n",
              "      <td>BRONX-LEBANON HOSPITAL CENTER - CONCOURSE DIVI...</td>\n",
              "      <td>1650 Grand Concourse</td>\n",
              "      <td>10457</td>\n",
              "      <td>3102</td>\n",
              "      <td>Hospital</td>\n",
              "      <td>415</td>\n",
              "      <td>Beds</td>\n",
              "      <td>36005</td>\n",
              "      <td>1008872.0</td>\n",
              "      <td>246596.0</td>\n",
              "      <td>40.843490</td>\n",
              "      <td>-73.911010</td>\n",
              "      <td>POINT (1008872.000 246596.000)</td>\n",
              "    </tr>\n",
              "    <tr>\n",
              "      <th>1</th>\n",
              "      <td>317000001H1164</td>\n",
              "      <td>BRONX-LEBANON HOSPITAL CENTER - FULTON DIVISION</td>\n",
              "      <td>1276 Fulton Ave</td>\n",
              "      <td>10456</td>\n",
              "      <td>3102</td>\n",
              "      <td>Hospital</td>\n",
              "      <td>164</td>\n",
              "      <td>Beds</td>\n",
              "      <td>36005</td>\n",
              "      <td>1011044.0</td>\n",
              "      <td>242204.0</td>\n",
              "      <td>40.831429</td>\n",
              "      <td>-73.903178</td>\n",
              "      <td>POINT (1011044.000 242204.000)</td>\n",
              "    </tr>\n",
              "    <tr>\n",
              "      <th>2</th>\n",
              "      <td>317000011H1175</td>\n",
              "      <td>CALVARY HOSPITAL INC</td>\n",
              "      <td>1740-70 Eastchester Rd</td>\n",
              "      <td>10461</td>\n",
              "      <td>3102</td>\n",
              "      <td>Hospital</td>\n",
              "      <td>225</td>\n",
              "      <td>Beds</td>\n",
              "      <td>36005</td>\n",
              "      <td>1027505.0</td>\n",
              "      <td>248287.0</td>\n",
              "      <td>40.848060</td>\n",
              "      <td>-73.843656</td>\n",
              "      <td>POINT (1027505.000 248287.000)</td>\n",
              "    </tr>\n",
              "    <tr>\n",
              "      <th>3</th>\n",
              "      <td>317000002H1165</td>\n",
              "      <td>JACOBI MEDICAL CENTER</td>\n",
              "      <td>1400 Pelham Pkwy</td>\n",
              "      <td>10461</td>\n",
              "      <td>3102</td>\n",
              "      <td>Hospital</td>\n",
              "      <td>457</td>\n",
              "      <td>Beds</td>\n",
              "      <td>36005</td>\n",
              "      <td>1027042.0</td>\n",
              "      <td>251065.0</td>\n",
              "      <td>40.855687</td>\n",
              "      <td>-73.845311</td>\n",
              "      <td>POINT (1027042.000 251065.000)</td>\n",
              "    </tr>\n",
              "    <tr>\n",
              "      <th>4</th>\n",
              "      <td>317000008H1172</td>\n",
              "      <td>LINCOLN MEDICAL &amp; MENTAL HEALTH CENTER</td>\n",
              "      <td>234 E 149 St</td>\n",
              "      <td>10451</td>\n",
              "      <td>3102</td>\n",
              "      <td>Hospital</td>\n",
              "      <td>362</td>\n",
              "      <td>Beds</td>\n",
              "      <td>36005</td>\n",
              "      <td>1005154.0</td>\n",
              "      <td>236853.0</td>\n",
              "      <td>40.816758</td>\n",
              "      <td>-73.924478</td>\n",
              "      <td>POINT (1005154.000 236853.000)</td>\n",
              "    </tr>\n",
              "  </tbody>\n",
              "</table>\n",
              "</div>"
            ],
            "text/plain": [
              "               id  ...                        geometry\n",
              "0  317000001H1178  ...  POINT (1008872.000 246596.000)\n",
              "1  317000001H1164  ...  POINT (1011044.000 242204.000)\n",
              "2  317000011H1175  ...  POINT (1027505.000 248287.000)\n",
              "3  317000002H1165  ...  POINT (1027042.000 251065.000)\n",
              "4  317000008H1172  ...  POINT (1005154.000 236853.000)\n",
              "\n",
              "[5 rows x 14 columns]"
            ]
          },
          "metadata": {
            "tags": []
          },
          "execution_count": 28
        }
      ]
    },
    {
      "cell_type": "markdown",
      "metadata": {
        "id": "XRj-tKDvqqF_",
        "colab_type": "text"
      },
      "source": [
        "## 4.4 แผนที่โรงพยาบาล กับบริเวณที่มักเกิดอุบัติเหตุบนท้องถนน"
      ]
    },
    {
      "cell_type": "code",
      "metadata": {
        "id": "CkY9quFmQKcl",
        "colab_type": "code",
        "colab": {}
      },
      "source": [
        "m_2 = folium.Map(location=[40.7, -74], zoom_start=11) \n",
        "\n",
        "\n",
        "HeatMap(data=collisions[['LATITUDE', 'LONGITUDE']], radius=12).add_to(m_2)\n",
        "\n",
        "# Visualize the hospital locations\n",
        "for idx, row in hospitals.iterrows():    \n",
        "    Marker([row['latitude'], row['longitude']], popup=row['name']).add_to(m_2)\n",
        "\n",
        "# Show the map\n",
        "embed_map(m_2, '25h-m_2.html')"
      ],
      "execution_count": 0,
      "outputs": []
    },
    {
      "cell_type": "markdown",
      "metadata": {
        "id": "tqJiKGW6bPgO",
        "colab_type": "text"
      },
      "source": [
        "<!--- สำหรับแสดงบนเว็บไซต์ -->\n",
        "<iframe width=\"100%\" height=\"640\" src=\"https://www.bualabs.com/wp-content/uploads/2019/11/25h-m_2.html\" frameborder=\"0\" allowfullscreen></iframe>"
      ]
    },
    {
      "cell_type": "markdown",
      "metadata": {
        "id": "7__fO55vQKiN",
        "colab_type": "text"
      },
      "source": [
        "# 5. GeoSpatial Analysis"
      ]
    },
    {
      "cell_type": "markdown",
      "metadata": {
        "id": "SF63PD9uQKsk",
        "colab_type": "text"
      },
      "source": [
        "## 5.1 มีอุบัติเหตุมากแค่ไหน ที่เกิดห่างจากโรงพยาบาลเกิน 10 กิโลเมตร?"
      ]
    },
    {
      "cell_type": "markdown",
      "metadata": {
        "id": "C3oGtpxJROMD",
        "colab_type": "text"
      },
      "source": [
        "เราจะสร้าง Buffer รัศมี 10 กิโลเมตร ขึ้นมารอบ ๆ ทุกโรงพยาบาลในเมือง"
      ]
    },
    {
      "cell_type": "code",
      "metadata": {
        "id": "COZ8uJVCQKyI",
        "colab_type": "code",
        "colab": {}
      },
      "source": [
        "coverage = hospitals.geometry.buffer(10*1000)\n",
        "\n",
        "m_3 = folium.Map(location=[40.7, -74], zoom_start=11) \n",
        "\n",
        "HeatMap(data=collisions[['LATITUDE', 'LONGITUDE']], radius=12).add_to(m_3)\n",
        "\n",
        "for idx, row in hospitals.iterrows():\n",
        "    Marker([row['latitude'], row['longitude']], popup=row['name']).add_to(m_3)\n",
        "    \n",
        "# Plot each polygon on the map\n",
        "folium.GeoJson(coverage.to_crs(epsg=2263)).add_to(m_3)\n",
        "\n",
        "# Show the map\n",
        "embed_map(m_3, '25h-m_3.html')"
      ],
      "execution_count": 0,
      "outputs": []
    },
    {
      "cell_type": "markdown",
      "metadata": {
        "id": "RttTGruubSwo",
        "colab_type": "text"
      },
      "source": [
        "<!--- สำหรับแสดงบนเว็บไซต์ -->\n",
        "<iframe width=\"100%\" height=\"640\" src=\"https://www.bualabs.com/wp-content/uploads/2019/11/25h-m_3.html\" frameborder=\"0\" allowfullscreen></iframe>"
      ]
    },
    {
      "cell_type": "markdown",
      "metadata": {
        "id": "ytAbLW4jq3p0",
        "colab_type": "text"
      },
      "source": [
        "นำ Coverage มารวมกันเป็น MultiPolygon shape เดียว เพื่อให้ง่ายในการกรอง เอาอุบัติเหตุที่ไม่อยู่ใน shape ออกมา"
      ]
    },
    {
      "cell_type": "code",
      "metadata": {
        "id": "TMPCK9hxQK8m",
        "colab_type": "code",
        "colab": {
          "base_uri": "https://localhost:8080/",
          "height": 445
        },
        "outputId": "c23c488c-9ea7-4be4-f474-8f7dc66351df"
      },
      "source": [
        "cov_union = coverage.geometry.unary_union\n",
        "outside_range = collisions.loc[~collisions[\"geometry\"].apply(lambda x: cov_union.contains(x))]\n",
        "outside_range.head()"
      ],
      "execution_count": 31,
      "outputs": [
        {
          "output_type": "execute_result",
          "data": {
            "text/html": [
              "<div>\n",
              "<style scoped>\n",
              "    .dataframe tbody tr th:only-of-type {\n",
              "        vertical-align: middle;\n",
              "    }\n",
              "\n",
              "    .dataframe tbody tr th {\n",
              "        vertical-align: top;\n",
              "    }\n",
              "\n",
              "    .dataframe thead th {\n",
              "        text-align: right;\n",
              "    }\n",
              "</style>\n",
              "<table border=\"1\" class=\"dataframe\">\n",
              "  <thead>\n",
              "    <tr style=\"text-align: right;\">\n",
              "      <th></th>\n",
              "      <th>DATE</th>\n",
              "      <th>TIME</th>\n",
              "      <th>BOROUGH</th>\n",
              "      <th>ZIP CODE</th>\n",
              "      <th>LATITUDE</th>\n",
              "      <th>LONGITUDE</th>\n",
              "      <th>LOCATION</th>\n",
              "      <th>ON STREET</th>\n",
              "      <th>CROSS STRE</th>\n",
              "      <th>OFF STREET</th>\n",
              "      <th>NUMBER OF</th>\n",
              "      <th>NUMBER O_1</th>\n",
              "      <th>NUMBER O_2</th>\n",
              "      <th>NUMBER O_3</th>\n",
              "      <th>NUMBER O_4</th>\n",
              "      <th>NUMBER O_5</th>\n",
              "      <th>NUMBER O_6</th>\n",
              "      <th>NUMBER O_7</th>\n",
              "      <th>CONTRIBUTI</th>\n",
              "      <th>CONTRIBU_1</th>\n",
              "      <th>CONTRIBU_2</th>\n",
              "      <th>CONTRIBU_3</th>\n",
              "      <th>CONTRIBU_4</th>\n",
              "      <th>UNIQUE KEY</th>\n",
              "      <th>VEHICLE TY</th>\n",
              "      <th>VEHICLE _1</th>\n",
              "      <th>VEHICLE _2</th>\n",
              "      <th>VEHICLE _3</th>\n",
              "      <th>VEHICLE _4</th>\n",
              "      <th>geometry</th>\n",
              "    </tr>\n",
              "  </thead>\n",
              "  <tbody>\n",
              "    <tr>\n",
              "      <th>9594</th>\n",
              "      <td>05/14/2019</td>\n",
              "      <td>16:30</td>\n",
              "      <td>QUEENS</td>\n",
              "      <td>11422</td>\n",
              "      <td>40.661263</td>\n",
              "      <td>-73.729320</td>\n",
              "      <td>(40.661263, -73.72932)</td>\n",
              "      <td>139 AVENUE</td>\n",
              "      <td>254 STREET</td>\n",
              "      <td>None</td>\n",
              "      <td>1.0</td>\n",
              "      <td>0.0</td>\n",
              "      <td>0</td>\n",
              "      <td>0</td>\n",
              "      <td>0</td>\n",
              "      <td>0</td>\n",
              "      <td>1</td>\n",
              "      <td>0</td>\n",
              "      <td>Failure to Yield Right-of-Way</td>\n",
              "      <td>Unspecified</td>\n",
              "      <td>None</td>\n",
              "      <td>None</td>\n",
              "      <td>None</td>\n",
              "      <td>4131829</td>\n",
              "      <td>Station Wagon/Sport Utility Vehicle</td>\n",
              "      <td>Sedan</td>\n",
              "      <td>None</td>\n",
              "      <td>None</td>\n",
              "      <td>None</td>\n",
              "      <td>POINT (1059347.865 180308.360)</td>\n",
              "    </tr>\n",
              "    <tr>\n",
              "      <th>121654</th>\n",
              "      <td>09/14/2016</td>\n",
              "      <td>9:40</td>\n",
              "      <td>None</td>\n",
              "      <td>None</td>\n",
              "      <td>40.728718</td>\n",
              "      <td>-73.751380</td>\n",
              "      <td>(40.728718, -73.75138)</td>\n",
              "      <td>GRAND CENTRAL PKWY</td>\n",
              "      <td>None</td>\n",
              "      <td>None</td>\n",
              "      <td>1.0</td>\n",
              "      <td>0.0</td>\n",
              "      <td>0</td>\n",
              "      <td>0</td>\n",
              "      <td>0</td>\n",
              "      <td>0</td>\n",
              "      <td>1</td>\n",
              "      <td>0</td>\n",
              "      <td>Following Too Closely</td>\n",
              "      <td>Unspecified</td>\n",
              "      <td>None</td>\n",
              "      <td>None</td>\n",
              "      <td>None</td>\n",
              "      <td>3519573</td>\n",
              "      <td>PASSENGER VEHICLE</td>\n",
              "      <td>SPORT UTILITY / STATION WAGON</td>\n",
              "      <td>SPORT UTILITY / STATION WAGON</td>\n",
              "      <td>None</td>\n",
              "      <td>None</td>\n",
              "      <td>POINT (1053157.771 204865.968)</td>\n",
              "    </tr>\n",
              "    <tr>\n",
              "      <th>256633</th>\n",
              "      <td>08/24/2012</td>\n",
              "      <td>18:20</td>\n",
              "      <td>QUEENS</td>\n",
              "      <td>11421</td>\n",
              "      <td>40.693263</td>\n",
              "      <td>-73.853236</td>\n",
              "      <td>(40.6932632, -73.8532358)</td>\n",
              "      <td>JAMAICA AVENUE</td>\n",
              "      <td>92 STREET</td>\n",
              "      <td>None</td>\n",
              "      <td>1.0</td>\n",
              "      <td>0.0</td>\n",
              "      <td>0</td>\n",
              "      <td>0</td>\n",
              "      <td>1</td>\n",
              "      <td>0</td>\n",
              "      <td>0</td>\n",
              "      <td>0</td>\n",
              "      <td>Unspecified</td>\n",
              "      <td>Unspecified</td>\n",
              "      <td>None</td>\n",
              "      <td>None</td>\n",
              "      <td>None</td>\n",
              "      <td>204136</td>\n",
              "      <td>PASSENGER VEHICLE</td>\n",
              "      <td>BICYCLE</td>\n",
              "      <td>None</td>\n",
              "      <td>None</td>\n",
              "      <td>None</td>\n",
              "      <td>POINT (1024948.992 191885.018)</td>\n",
              "    </tr>\n",
              "    <tr>\n",
              "      <th>192529</th>\n",
              "      <td>07/22/2014</td>\n",
              "      <td>16:30</td>\n",
              "      <td>QUEENS</td>\n",
              "      <td>11417</td>\n",
              "      <td>40.682265</td>\n",
              "      <td>-73.845133</td>\n",
              "      <td>(40.6822652, -73.8451332)</td>\n",
              "      <td>103 AVENUE</td>\n",
              "      <td>WOODHAVEN BOULEVARD</td>\n",
              "      <td>None</td>\n",
              "      <td>1.0</td>\n",
              "      <td>0.0</td>\n",
              "      <td>1</td>\n",
              "      <td>0</td>\n",
              "      <td>0</td>\n",
              "      <td>0</td>\n",
              "      <td>0</td>\n",
              "      <td>0</td>\n",
              "      <td>Unspecified</td>\n",
              "      <td>None</td>\n",
              "      <td>None</td>\n",
              "      <td>None</td>\n",
              "      <td>None</td>\n",
              "      <td>997558</td>\n",
              "      <td>None</td>\n",
              "      <td>None</td>\n",
              "      <td>None</td>\n",
              "      <td>None</td>\n",
              "      <td>None</td>\n",
              "      <td>POINT (1027202.995 187882.000)</td>\n",
              "    </tr>\n",
              "    <tr>\n",
              "      <th>160023</th>\n",
              "      <td>08/02/2015</td>\n",
              "      <td>1:20</td>\n",
              "      <td>STATEN ISLAND</td>\n",
              "      <td>10308</td>\n",
              "      <td>40.553555</td>\n",
              "      <td>-74.141164</td>\n",
              "      <td>(40.5535547, -74.1411639)</td>\n",
              "      <td>AMBOY ROAD</td>\n",
              "      <td>CRANFORD STREET</td>\n",
              "      <td>None</td>\n",
              "      <td>0.0</td>\n",
              "      <td>1.0</td>\n",
              "      <td>0</td>\n",
              "      <td>0</td>\n",
              "      <td>0</td>\n",
              "      <td>0</td>\n",
              "      <td>0</td>\n",
              "      <td>1</td>\n",
              "      <td>Traffic Control Disregarded</td>\n",
              "      <td>Unspecified</td>\n",
              "      <td>None</td>\n",
              "      <td>None</td>\n",
              "      <td>None</td>\n",
              "      <td>3269992</td>\n",
              "      <td>PASSENGER VEHICLE</td>\n",
              "      <td>SPORT UTILITY / STATION WAGON</td>\n",
              "      <td>None</td>\n",
              "      <td>None</td>\n",
              "      <td>None</td>\n",
              "      <td>POINT (945021.993 140983.012)</td>\n",
              "    </tr>\n",
              "  </tbody>\n",
              "</table>\n",
              "</div>"
            ],
            "text/plain": [
              "              DATE   TIME  ... VEHICLE _4                        geometry\n",
              "9594    05/14/2019  16:30  ...       None  POINT (1059347.865 180308.360)\n",
              "121654  09/14/2016   9:40  ...       None  POINT (1053157.771 204865.968)\n",
              "256633  08/24/2012  18:20  ...       None  POINT (1024948.992 191885.018)\n",
              "192529  07/22/2014  16:30  ...       None  POINT (1027202.995 187882.000)\n",
              "160023  08/02/2015   1:20  ...       None   POINT (945021.993 140983.012)\n",
              "\n",
              "[5 rows x 30 columns]"
            ]
          },
          "metadata": {
            "tags": []
          },
          "execution_count": 31
        }
      ]
    },
    {
      "cell_type": "markdown",
      "metadata": {
        "id": "fReSE8CvrGJo",
        "colab_type": "text"
      },
      "source": [
        "ได้จำนวน 6102 ครั้ง จากจำนวนที่เรา Sample ออกมา"
      ]
    },
    {
      "cell_type": "code",
      "metadata": {
        "id": "CYpIOqIiVpdv",
        "colab_type": "code",
        "colab": {
          "base_uri": "https://localhost:8080/",
          "height": 34
        },
        "outputId": "715bb76c-167d-4573-e777-1e475c876ff1"
      },
      "source": [
        "outside_range.shape"
      ],
      "execution_count": 32,
      "outputs": [
        {
          "output_type": "execute_result",
          "data": {
            "text/plain": [
              "(6102, 30)"
            ]
          },
          "metadata": {
            "tags": []
          },
          "execution_count": 32
        }
      ]
    },
    {
      "cell_type": "markdown",
      "metadata": {
        "id": "nqWRy-qHrPWv",
        "colab_type": "text"
      },
      "source": [
        "อุบัติเหตุทางถนน ที่อยู่นอกเขต 10 กิโลเมตร จากโรงพยาบาล คิดเป็น 15%"
      ]
    },
    {
      "cell_type": "code",
      "metadata": {
        "id": "qyYawgb0QK7I",
        "colab_type": "code",
        "colab": {
          "base_uri": "https://localhost:8080/",
          "height": 34
        },
        "outputId": "fc0810c7-1686-4700-8e3b-7d8f72b02f56"
      },
      "source": [
        "percentage = round(100*len(outside_range)/len(collisions), 2)\n",
        "print(\"Percentage of collisions more than 10 km away from the closest hospital: {}%\".format(percentage))"
      ],
      "execution_count": 33,
      "outputs": [
        {
          "output_type": "stream",
          "text": [
            "Percentage of collisions more than 10 km away from the closest hospital: 15.26%\n"
          ],
          "name": "stdout"
        }
      ]
    },
    {
      "cell_type": "markdown",
      "metadata": {
        "id": "WBEBCRxESTQn",
        "colab_type": "text"
      },
      "source": [
        "# 6. Recommender System"
      ]
    },
    {
      "cell_type": "markdown",
      "metadata": {
        "id": "FukwZFkhraHn",
        "colab_type": "text"
      },
      "source": [
        "เราจะช่วยปรับปรุงให้ดีขึ้นได้อย่างไร"
      ]
    },
    {
      "cell_type": "markdown",
      "metadata": {
        "id": "_sSK8m1uSTYl",
        "colab_type": "text"
      },
      "source": [
        "## 6.1 แนะนำโรงพยาบาลที่ใกล้ที่สุด"
      ]
    },
    {
      "cell_type": "markdown",
      "metadata": {
        "id": "Vr03REN9Vx5Y",
        "colab_type": "text"
      },
      "source": [
        "เมื่อใส่พิกัดที่เกิดอุบัติเหตุเข้าไป ระบบจะแสดงชื่อโรงพยาบาลที่ใกล้ที่สุด"
      ]
    },
    {
      "cell_type": "code",
      "metadata": {
        "id": "ILUHfi9cSTto",
        "colab_type": "code",
        "colab": {
          "base_uri": "https://localhost:8080/",
          "height": 34
        },
        "outputId": "5de84f66-99a2-4c68-b940-aac5aefdbd8b"
      },
      "source": [
        "def best_hospital(collision_location):\n",
        "    # Your code here\n",
        "    name = hospitals.loc[hospitals.distance(collision_location).idxmin()]['name']\n",
        "    return name"
      ],
      "execution_count": 34,
      "outputs": [
        {
          "output_type": "stream",
          "text": [
            "ST JOHNS EPISCOPAL HOSPITAL SO SHORE\n"
          ],
          "name": "stdout"
        }
      ]
    },
    {
      "cell_type": "code",
      "metadata": {
        "id": "kf-jhBfZrnKK",
        "colab_type": "code",
        "colab": {}
      },
      "source": [
        "print(best_hospital(outside_range.geometry.iloc[0]))"
      ],
      "execution_count": 0,
      "outputs": []
    },
    {
      "cell_type": "markdown",
      "metadata": {
        "id": "Jwr6wo8zSTr5",
        "colab_type": "text"
      },
      "source": [
        "## 6.2 โรงพยาบาลไหนน่าจะงานล้น"
      ]
    },
    {
      "cell_type": "markdown",
      "metadata": {
        "id": "liU2KqlMV7JF",
        "colab_type": "text"
      },
      "source": [
        "ถ้าพิจารณาเฉพาะอุบัติเหตุที่อยู่นอกเขต 10 กิโลเมตร โรงพยาบาลไหนน่าจะรับ Load มากที่สุด"
      ]
    },
    {
      "cell_type": "code",
      "metadata": {
        "id": "OfYk5AcPSTp7",
        "colab_type": "code",
        "colab": {
          "base_uri": "https://localhost:8080/",
          "height": 34
        },
        "outputId": "da9df73d-2272-43b5-f529-f26cf5b546a4"
      },
      "source": [
        "recommended_hosp = outside_range[\"geometry\"].apply(lambda x: best_hospital(x))\n",
        "highest_demand = recommended_hosp.value_counts().idxmax()\n",
        "highest_demand"
      ],
      "execution_count": 35,
      "outputs": [
        {
          "output_type": "execute_result",
          "data": {
            "text/plain": [
              "'JAMAICA HOSPITAL MEDICAL CENTER'"
            ]
          },
          "metadata": {
            "tags": []
          },
          "execution_count": 35
        }
      ]
    },
    {
      "cell_type": "markdown",
      "metadata": {
        "id": "YPAYqHx_SToP",
        "colab_type": "text"
      },
      "source": [
        "## 6.3 สร้างโรงพยาบาลเพิ่ม แถวไหนดี"
      ]
    },
    {
      "cell_type": "markdown",
      "metadata": {
        "id": "KABOklVxruWC",
        "colab_type": "text"
      },
      "source": [
        "เราจะพล็อตแผนที่ คัดเอาแต่อุบัติเหตุทางถนน ที่อยู่นอกเขตความครอบคลุม แล้วลองเลือกจุด จำนวน 2 จุด เป็นที่สร้างโรงพยาบาลใหม่ ว่าจะทำให้ความคลอบคลุมเพิ่มขึ้นกี่เปอร์เซ็น"
      ]
    },
    {
      "cell_type": "code",
      "metadata": {
        "id": "w-hRTJIBQKrN",
        "colab_type": "code",
        "colab": {}
      },
      "source": [
        "m_6 = folium.Map(location=[40.7, -74], zoom_start=11) \n",
        "\n",
        "folium.GeoJson(coverage.geometry.to_crs(epsg=4326)).add_to(m_6)\n",
        "HeatMap(data=outside_range[['LATITUDE', 'LONGITUDE']], radius=12).add_to(m_6)\n",
        "folium.LatLngPopup().add_to(m_6)\n",
        "\n",
        "embed_map(m_6, '25h-m_6.html')"
      ],
      "execution_count": 0,
      "outputs": []
    },
    {
      "cell_type": "markdown",
      "metadata": {
        "id": "kDo8ifwybWJN",
        "colab_type": "text"
      },
      "source": [
        "<!--- สำหรับแสดงบนเว็บไซต์ -->\n",
        "<iframe width=\"100%\" height=\"640\" src=\"https://www.bualabs.com/wp-content/uploads/2019/11/25h-m_6.html\" frameborder=\"0\" allowfullscreen></iframe>"
      ]
    },
    {
      "cell_type": "markdown",
      "metadata": {
        "id": "lYTgPQlqW1iJ",
        "colab_type": "text"
      },
      "source": [
        "พิจารณจากแผนที่ด้านบน เราจะลองคลิกลงบนแผนที่ ในย่านที่มีอุบัติเหตุหนาแน่น ที่อยู่นอกวงกลม 2 จุด เพิ่อแสดงพิกัด แล้วเอามาใส่ด้านล่าง เพื่อจุดที่จะสร้างโรงพยาบาลใหม่ ว่าจะทำให้ เปอร์เซ็นอุบัติเหตุที่อยู่นอกเขต ลดลงกี่เปอร์เซ็น"
      ]
    },
    {
      "cell_type": "code",
      "metadata": {
        "id": "9P9bd2LmTmEF",
        "colab_type": "code",
        "colab": {}
      },
      "source": [
        "# Proposed location of hospital 1\n",
        "lat_1 = 40.6754\n",
        "long_1 = -73.7498\n",
        "\n",
        "# Proposed location of hospital 2\n",
        "lat_2 = 40.6779\n",
        "long_2 = -73.8721"
      ],
      "execution_count": 0,
      "outputs": []
    },
    {
      "cell_type": "markdown",
      "metadata": {
        "id": "1bpEo-IzsQyp",
        "colab_type": "text"
      },
      "source": [
        "ลองพล็อตแผนที่ หลังจากที่สร้างโรงพยาบาลใหม่ 2 แห่ง ตามพิกัดด้านบน แล้วคำนวนความครอบคลุม เปรียบเทียบกับของเก่า"
      ]
    },
    {
      "cell_type": "code",
      "metadata": {
        "id": "rXLokKxqTl6c",
        "colab_type": "code",
        "colab": {}
      },
      "source": [
        "new_df = pd.DataFrame(\n",
        "    {'Latitude': [lat_1, lat_2],\n",
        "        'Longitude': [long_1, long_2]})\n",
        "new_gdf = gpd.GeoDataFrame(new_df, geometry=gpd.points_from_xy(new_df.Longitude, new_df.Latitude))\n",
        "new_gdf.crs = {'init' :'epsg:4326'}\n",
        "new_gdf = new_gdf.to_crs(epsg=2263)\n",
        "# get new percentage\n",
        "new_coverage = gpd.GeoDataFrame(geometry=new_gdf.geometry).buffer(10000)\n",
        "new_my_union = new_coverage.geometry.unary_union\n",
        "new_outside_range = outside_range.loc[~outside_range[\"geometry\"].apply(lambda x: new_my_union.contains(x))]\n",
        "new_percentage = round(100*len(new_outside_range)/len(collisions), 2)\n",
        "\n",
        "# make the map\n",
        "m_7 = folium.Map(location=[40.7, -74], zoom_start=11) \n",
        "folium.GeoJson(coverage.geometry.to_crs(epsg=4326)).add_to(m_7)\n",
        "folium.GeoJson(new_coverage.geometry.to_crs(epsg=4326)).add_to(m_7)\n",
        "for idx, row in new_gdf.iterrows():\n",
        "    Marker([row['Latitude'], row['Longitude']], popup=f'New Hospital {idx+1}', icon=folium.Icon(color='orange')).add_to(m_7)\n",
        "HeatMap(data=new_outside_range[['LATITUDE', 'LONGITUDE']], radius=12).add_to(m_7)\n",
        "folium.LatLngPopup().add_to(m_7)\n",
        "display(embed_map(m_7, '25h-m_7.html'))"
      ],
      "execution_count": 0,
      "outputs": []
    },
    {
      "cell_type": "markdown",
      "metadata": {
        "id": "DjqL3vbAbZem",
        "colab_type": "text"
      },
      "source": [
        "<!--- สำหรับแสดงบนเว็บไซต์ -->\n",
        "<iframe width=\"100%\" height=\"640\" src=\"https://www.bualabs.com/wp-content/uploads/2019/11/25h-m_7.html\" frameborder=\"0\" allowfullscreen></iframe>"
      ]
    },
    {
      "cell_type": "markdown",
      "metadata": {
        "id": "xcXs3AB6XiAl",
        "colab_type": "text"
      },
      "source": [
        "ถ้าเราสร้างโรงพยาบาลใหม่ 2 โรงในตำแหน่งด้านบน อุบัติเหตุนอกเขต ลดลงเหลือไม่ถึง 10 % เท่านั้น"
      ]
    },
    {
      "cell_type": "code",
      "metadata": {
        "id": "sDjtQ8boTloN",
        "colab_type": "code",
        "colab": {
          "base_uri": "https://localhost:8080/",
          "height": 34
        },
        "outputId": "5da53f71-d3da-4416-c215-ddcc662cf97b"
      },
      "source": [
        "print(\"(NEW) Percentage of collisions more than 10 km away from the closest hospital: {}%\".format(new_percentage))"
      ],
      "execution_count": 41,
      "outputs": [
        {
          "output_type": "stream",
          "text": [
            "(NEW) Percentage of collisions more than 10 km away from the closest hospital: 9.2%\n"
          ],
          "name": "stdout"
        }
      ]
    },
    {
      "cell_type": "markdown",
      "metadata": {
        "id": "jv0ZTmOc5k5t",
        "colab_type": "text"
      },
      "source": [
        "# Credit"
      ]
    },
    {
      "cell_type": "markdown",
      "metadata": {
        "id": "bazjbG7u5k-m",
        "colab_type": "text"
      },
      "source": [
        "* https://www.kaggle.com/alexisbcook/proximity-analysis\n",
        "* https://epsg.io/2272\n",
        "* https://www.bualabs.com/archives/2785/find-next-starbucks-reserve-roastery-new-branch-store-location-big-data-analyst-demography-geography-geospatial-ep-6/\n",
        "* http://geopandas.org/reference.html\n",
        "* https://pandas.pydata.org/pandas-docs/stable/reference/api/pandas.DataFrame.iloc.html\n",
        "* https://python-visualization.github.io/folium/quickstart.html#GeoJSON/TopoJSON-Overlays\n",
        "* https://epsg.io/4326\n",
        "* http://geopandas.org/geometric_manipulations.html"
      ]
    }
  ]
}