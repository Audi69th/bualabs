{
  "nbformat": 4,
  "nbformat_minor": 0,
  "metadata": {
    "colab": {
      "name": "26a-stop-words.ipynb",
      "provenance": [],
      "collapsed_sections": []
    },
    "kernelspec": {
      "name": "python3",
      "display_name": "Python 3"
    }
  },
  "cells": [
    {
      "cell_type": "markdown",
      "metadata": {
        "id": "u87PxvjEtvDw",
        "colab_type": "text"
      },
      "source": [
        "ใน ep นี้ เราจะมาเรียนรู้ พื้นฐาน NLP เรื่อง Stop Words ว่า Stop Words คืออะไร ทำไมต้องมี Stop Words"
      ]
    },
    {
      "cell_type": "markdown",
      "metadata": {
        "id": "XSD5COaxwJKd",
        "colab_type": "text"
      },
      "source": [
        "# 0. Install and Import Library"
      ]
    },
    {
      "cell_type": "code",
      "metadata": {
        "id": "Gy2JxYvKuFjY",
        "colab_type": "code",
        "colab": {}
      },
      "source": [
        "# ! pip install -U spacy\n",
        "# ! pip install -U spacy-lookups-data\n",
        "# ! python -m spacy download en_core_web_sm"
      ],
      "execution_count": 0,
      "outputs": []
    },
    {
      "cell_type": "code",
      "metadata": {
        "id": "2xUB3iaBuW0r",
        "colab_type": "code",
        "colab": {}
      },
      "source": [
        "from sklearn.feature_extraction import stop_words\n",
        "import spacy\n",
        "import numpy as np"
      ],
      "execution_count": 0,
      "outputs": []
    },
    {
      "cell_type": "markdown",
      "metadata": {
        "id": "DaaCECR8v2wZ",
        "colab_type": "text"
      },
      "source": [
        "# 1. Stop Words คืออะไร"
      ]
    },
    {
      "cell_type": "markdown",
      "metadata": {
        "id": "Sclfa4GtwdLY",
        "colab_type": "text"
      },
      "source": [
        "Stop Words คือ คำทั่ว ๆ ไป ที่เราพบบ่อย ๆ ในประโยค หรือ เอกสาร แต่ไม่ค่อยช่วยในการสื่อความหมายสักเท่าไร ทำให้เราสามารถลบคำเหล่านั้นออกไปจากรายการคำศัพท์ได้เลย กรองทิ้งไปจากเอกสารได้เลย เช่น a, an, the, also, just, quite, unless, etc. คำเหล่านี้เรียกว่า Stop Words\n",
        "\n",
        "ในสมัยก่อน Deep Learning เป็นที่นิยม นักวิจัยมักจะใช้วิธี Hand Engineer กับข้อมูล ในงาน NLP จะมีการเขียนโปรแกรมผูก Logic กฏระเบียบ ไวยากรณ์ ไว้หลายอย่างในโปรแกรม มีการตัดสินใจกำหนด Assumption / Bias หลายอย่าง หนึ่งในนั้นคือ Stop Words ตามรายการที่กำหนด สามารถตัดทิ้งได้ ไม่สำคัญกับความหมายของเนื้อหา ทำให้ลดความซับซ้อนของโปรแกรมลง\n",
        "\n",
        "แนวโน้มในการใช้ Stop Word เริ่มตั้งแต่ สมัยก่อนนิยมใช้ Stop Word จำนวนมาก 200-300 คำ ลดลงเรื่อย ๆ มาเป็น 7-12 คำ ไปจน ยุค Deep Learning ไม่ใช้ Stop Words เลย เช่น Web Search Engine เช่น Google ไม่ใช้ Stop Words"
      ]
    },
    {
      "cell_type": "markdown",
      "metadata": {
        "id": "OO3G32UKv976",
        "colab_type": "text"
      },
      "source": [
        "# 2. List of Stop Words"
      ]
    },
    {
      "cell_type": "markdown",
      "metadata": {
        "id": "axoHiUbzwiOh",
        "colab_type": "text"
      },
      "source": [
        "รายการ Stop Words จะแตกต่างกันไปตามแต่ละ Library ตามแต่ Assumption ของผู้สร้าง Library นั้น ๆ ในตัวอย่างนี้ เราจะดู Library ที่เป็นที่นิยม 2 ตัว ในงาน NLP คือ scikit-learn และ spacy"
      ]
    },
    {
      "cell_type": "markdown",
      "metadata": {
        "id": "BBlh_OlPvg-s",
        "colab_type": "text"
      },
      "source": [
        "## 2.1 scikit-learn"
      ]
    },
    {
      "cell_type": "markdown",
      "metadata": {
        "id": "0UFhwIXb5KFr",
        "colab_type": "text"
      },
      "source": [
        "มี Stop Words 318 คำ"
      ]
    },
    {
      "cell_type": "code",
      "metadata": {
        "id": "QbLLlc8RvemR",
        "colab_type": "code",
        "colab": {
          "base_uri": "https://localhost:8080/",
          "height": 34
        },
        "outputId": "497de827-c845-43c1-8f50-0c2b2d47e832"
      },
      "source": [
        "len(stop_words.ENGLISH_STOP_WORDS)"
      ],
      "execution_count": 25,
      "outputs": [
        {
          "output_type": "execute_result",
          "data": {
            "text/plain": [
              "318"
            ]
          },
          "metadata": {
            "tags": []
          },
          "execution_count": 25
        }
      ]
    },
    {
      "cell_type": "markdown",
      "metadata": {
        "id": "jwasukGG5NzT",
        "colab_type": "text"
      },
      "source": [
        "ตัวอย่าง Stop Words จำนวน 20 คำแรก เรียงตามตัวอักษร"
      ]
    },
    {
      "cell_type": "code",
      "metadata": {
        "id": "Q7P0XGcfuaM6",
        "colab_type": "code",
        "colab": {
          "base_uri": "https://localhost:8080/",
          "height": 357
        },
        "outputId": "61f88d0a-5526-4bac-ca9e-13f3f634fbec"
      },
      "source": [
        "sorted(list(stop_words.ENGLISH_STOP_WORDS))[:20]"
      ],
      "execution_count": 26,
      "outputs": [
        {
          "output_type": "execute_result",
          "data": {
            "text/plain": [
              "['a',\n",
              " 'about',\n",
              " 'above',\n",
              " 'across',\n",
              " 'after',\n",
              " 'afterwards',\n",
              " 'again',\n",
              " 'against',\n",
              " 'all',\n",
              " 'almost',\n",
              " 'alone',\n",
              " 'along',\n",
              " 'already',\n",
              " 'also',\n",
              " 'although',\n",
              " 'always',\n",
              " 'am',\n",
              " 'among',\n",
              " 'amongst',\n",
              " 'amoungst']"
            ]
          },
          "metadata": {
            "tags": []
          },
          "execution_count": 26
        }
      ]
    },
    {
      "cell_type": "markdown",
      "metadata": {
        "id": "BlJUzvVpvpNK",
        "colab_type": "text"
      },
      "source": [
        "## 2.2 Spacy"
      ]
    },
    {
      "cell_type": "code",
      "metadata": {
        "id": "JEbqm1HOuzba",
        "colab_type": "code",
        "colab": {}
      },
      "source": [
        "nlp = spacy.load(\"en_core_web_sm\")"
      ],
      "execution_count": 0,
      "outputs": []
    },
    {
      "cell_type": "markdown",
      "metadata": {
        "id": "GmRVhNiW5W9q",
        "colab_type": "text"
      },
      "source": [
        "Spacy มีรายการ Stop Words 326 คำ"
      ]
    },
    {
      "cell_type": "code",
      "metadata": {
        "id": "bV1pY5oowphz",
        "colab_type": "code",
        "colab": {
          "base_uri": "https://localhost:8080/",
          "height": 34
        },
        "outputId": "8a6c14c3-0644-47f7-96ca-a780fe5fdfac"
      },
      "source": [
        "len(nlp.Defaults.stop_words)"
      ],
      "execution_count": 28,
      "outputs": [
        {
          "output_type": "execute_result",
          "data": {
            "text/plain": [
              "326"
            ]
          },
          "metadata": {
            "tags": []
          },
          "execution_count": 28
        }
      ]
    },
    {
      "cell_type": "markdown",
      "metadata": {
        "id": "PL8KvIA-5gIr",
        "colab_type": "text"
      },
      "source": [
        "ตัวอย่าง Stop Words จำนวน 20 คำแรก เรียงตามตัวอักษร"
      ]
    },
    {
      "cell_type": "code",
      "metadata": {
        "id": "0rM_kFseu300",
        "colab_type": "code",
        "colab": {
          "base_uri": "https://localhost:8080/",
          "height": 357
        },
        "outputId": "f80c56a5-4b18-43df-846d-65db7f3826b3"
      },
      "source": [
        "sorted(list(nlp.Defaults.stop_words))[:20]"
      ],
      "execution_count": 29,
      "outputs": [
        {
          "output_type": "execute_result",
          "data": {
            "text/plain": [
              "[\"'d\",\n",
              " \"'ll\",\n",
              " \"'m\",\n",
              " \"'re\",\n",
              " \"'s\",\n",
              " \"'ve\",\n",
              " 'a',\n",
              " 'about',\n",
              " 'above',\n",
              " 'across',\n",
              " 'after',\n",
              " 'afterwards',\n",
              " 'again',\n",
              " 'against',\n",
              " 'all',\n",
              " 'almost',\n",
              " 'alone',\n",
              " 'along',\n",
              " 'already',\n",
              " 'also']"
            ]
          },
          "metadata": {
            "tags": []
          },
          "execution_count": 29
        }
      ]
    },
    {
      "cell_type": "markdown",
      "metadata": {
        "id": "PuxzOTfnu4on",
        "colab_type": "text"
      },
      "source": [
        "## 2.3 Difference between scikit-learn and spacy"
      ]
    },
    {
      "cell_type": "markdown",
      "metadata": {
        "id": "2gbaWcaD5i1b",
        "colab_type": "text"
      },
      "source": [
        "Stop Words คำไหนบ้าง ที่มีใน Spacy แต่ไม่มีใน scikit-learn"
      ]
    },
    {
      "cell_type": "code",
      "metadata": {
        "id": "rl63LovH6XhQ",
        "colab_type": "code",
        "colab": {}
      },
      "source": [
        "# type(nlp.Defaults.stop_words), type(stop_words.ENGLISH_STOP_WORDS)"
      ],
      "execution_count": 0,
      "outputs": []
    },
    {
      "cell_type": "code",
      "metadata": {
        "id": "YuZiYZX9u4vx",
        "colab_type": "code",
        "colab": {
          "base_uri": "https://localhost:8080/",
          "height": 629
        },
        "outputId": "513296db-598d-40bc-bf69-10c2173f682e"
      },
      "source": [
        "x = nlp.Defaults.stop_words - stop_words.ENGLISH_STOP_WORDS\n",
        "len(x), x"
      ],
      "execution_count": 33,
      "outputs": [
        {
          "output_type": "execute_result",
          "data": {
            "text/plain": [
              "(35,\n",
              " {\"'d\",\n",
              "  \"'ll\",\n",
              "  \"'m\",\n",
              "  \"'re\",\n",
              "  \"'s\",\n",
              "  \"'ve\",\n",
              "  'ca',\n",
              "  'did',\n",
              "  'does',\n",
              "  'doing',\n",
              "  'just',\n",
              "  'make',\n",
              "  \"n't\",\n",
              "  'n‘t',\n",
              "  'n’t',\n",
              "  'quite',\n",
              "  'really',\n",
              "  'regarding',\n",
              "  'say',\n",
              "  'unless',\n",
              "  'used',\n",
              "  'using',\n",
              "  'various',\n",
              "  '‘d',\n",
              "  '‘ll',\n",
              "  '‘m',\n",
              "  '‘re',\n",
              "  '‘s',\n",
              "  '‘ve',\n",
              "  '’d',\n",
              "  '’ll',\n",
              "  '’m',\n",
              "  '’re',\n",
              "  '’s',\n",
              "  '’ve'})"
            ]
          },
          "metadata": {
            "tags": []
          },
          "execution_count": 33
        }
      ]
    },
    {
      "cell_type": "markdown",
      "metadata": {
        "id": "aDkOT6PT5s5E",
        "colab_type": "text"
      },
      "source": [
        "Stop Words คำไหนบ้าง ที่มีใน scikit-learn แต่ไม่มีใน Spacy"
      ]
    },
    {
      "cell_type": "code",
      "metadata": {
        "id": "KtrzkwOtu41t",
        "colab_type": "code",
        "colab": {
          "base_uri": "https://localhost:8080/",
          "height": 493
        },
        "outputId": "4969f20e-15ae-402e-b062-b0293efc2ad9"
      },
      "source": [
        "x = stop_words.ENGLISH_STOP_WORDS - nlp.Defaults.stop_words\n",
        "len(x), x"
      ],
      "execution_count": 34,
      "outputs": [
        {
          "output_type": "execute_result",
          "data": {
            "text/plain": [
              "(27,\n",
              " frozenset({'amoungst',\n",
              "            'bill',\n",
              "            'cant',\n",
              "            'co',\n",
              "            'con',\n",
              "            'couldnt',\n",
              "            'cry',\n",
              "            'de',\n",
              "            'describe',\n",
              "            'detail',\n",
              "            'eg',\n",
              "            'etc',\n",
              "            'fill',\n",
              "            'find',\n",
              "            'fire',\n",
              "            'found',\n",
              "            'hasnt',\n",
              "            'ie',\n",
              "            'inc',\n",
              "            'interest',\n",
              "            'ltd',\n",
              "            'mill',\n",
              "            'sincere',\n",
              "            'system',\n",
              "            'thick',\n",
              "            'thin',\n",
              "            'un'}))"
            ]
          },
          "metadata": {
            "tags": []
          },
          "execution_count": 34
        }
      ]
    },
    {
      "cell_type": "markdown",
      "metadata": {
        "id": "A_GZkLIB5wxd",
        "colab_type": "text"
      },
      "source": [
        "Stop Words คำไหนบ้าง ที่ปรากฎ ทั้งใน scikit-learn และ Spacy"
      ]
    },
    {
      "cell_type": "code",
      "metadata": {
        "id": "pQ8AG_TS30HV",
        "colab_type": "code",
        "colab": {
          "base_uri": "https://localhost:8080/",
          "height": 731
        },
        "outputId": "2e32e10c-7cd7-4509-9da0-923331147bcc"
      },
      "source": [
        "x = np.intersect1d(list(stop_words.ENGLISH_STOP_WORDS), list(nlp.Defaults.stop_words))\n",
        "len(x), x"
      ],
      "execution_count": 41,
      "outputs": [
        {
          "output_type": "execute_result",
          "data": {
            "text/plain": [
              "(291, array(['a', 'about', 'above', 'across', 'after', 'afterwards', 'again',\n",
              "        'against', 'all', 'almost', 'alone', 'along', 'already', 'also',\n",
              "        'although', 'always', 'am', 'among', 'amongst', 'amount', 'an',\n",
              "        'and', 'another', 'any', 'anyhow', 'anyone', 'anything', 'anyway',\n",
              "        'anywhere', 'are', 'around', 'as', 'at', 'back', 'be', 'became',\n",
              "        'because', 'become', 'becomes', 'becoming', 'been', 'before',\n",
              "        'beforehand', 'behind', 'being', 'below', 'beside', 'besides',\n",
              "        'between', 'beyond', 'both', 'bottom', 'but', 'by', 'call', 'can',\n",
              "        'cannot', 'could', 'do', 'done', 'down', 'due', 'during', 'each',\n",
              "        'eight', 'either', 'eleven', 'else', 'elsewhere', 'empty',\n",
              "        'enough', 'even', 'ever', 'every', 'everyone', 'everything',\n",
              "        'everywhere', 'except', 'few', 'fifteen', 'fifty', 'first', 'five',\n",
              "        'for', 'former', 'formerly', 'forty', 'four', 'from', 'front',\n",
              "        'full', 'further', 'get', 'give', 'go', 'had', 'has', 'have', 'he',\n",
              "        'hence', 'her', 'here', 'hereafter', 'hereby', 'herein',\n",
              "        'hereupon', 'hers', 'herself', 'him', 'himself', 'his', 'how',\n",
              "        'however', 'hundred', 'i', 'if', 'in', 'indeed', 'into', 'is',\n",
              "        'it', 'its', 'itself', 'keep', 'last', 'latter', 'latterly',\n",
              "        'least', 'less', 'made', 'many', 'may', 'me', 'meanwhile', 'might',\n",
              "        'mine', 'more', 'moreover', 'most', 'mostly', 'move', 'much',\n",
              "        'must', 'my', 'myself', 'name', 'namely', 'neither', 'never',\n",
              "        'nevertheless', 'next', 'nine', 'no', 'nobody', 'none', 'noone',\n",
              "        'nor', 'not', 'nothing', 'now', 'nowhere', 'of', 'off', 'often',\n",
              "        'on', 'once', 'one', 'only', 'onto', 'or', 'other', 'others',\n",
              "        'otherwise', 'our', 'ours', 'ourselves', 'out', 'over', 'own',\n",
              "        'part', 'per', 'perhaps', 'please', 'put', 'rather', 're', 'same',\n",
              "        'see', 'seem', 'seemed', 'seeming', 'seems', 'serious', 'several',\n",
              "        'she', 'should', 'show', 'side', 'since', 'six', 'sixty', 'so',\n",
              "        'some', 'somehow', 'someone', 'something', 'sometime', 'sometimes',\n",
              "        'somewhere', 'still', 'such', 'take', 'ten', 'than', 'that', 'the',\n",
              "        'their', 'them', 'themselves', 'then', 'thence', 'there',\n",
              "        'thereafter', 'thereby', 'therefore', 'therein', 'thereupon',\n",
              "        'these', 'they', 'third', 'this', 'those', 'though', 'three',\n",
              "        'through', 'throughout', 'thru', 'thus', 'to', 'together', 'too',\n",
              "        'top', 'toward', 'towards', 'twelve', 'twenty', 'two', 'under',\n",
              "        'until', 'up', 'upon', 'us', 'very', 'via', 'was', 'we', 'well',\n",
              "        'were', 'what', 'whatever', 'when', 'whence', 'whenever', 'where',\n",
              "        'whereafter', 'whereas', 'whereby', 'wherein', 'whereupon',\n",
              "        'wherever', 'whether', 'which', 'while', 'whither', 'who',\n",
              "        'whoever', 'whole', 'whom', 'whose', 'why', 'will', 'with',\n",
              "        'within', 'without', 'would', 'yet', 'you', 'your', 'yours',\n",
              "        'yourself', 'yourselves'], dtype='<U12'))"
            ]
          },
          "metadata": {
            "tags": []
          },
          "execution_count": 41
        }
      ]
    },
    {
      "cell_type": "markdown",
      "metadata": {
        "id": "4HHLHncZu46x",
        "colab_type": "text"
      },
      "source": [
        "# 3. ข้อดี ของการใช้ Stop Words"
      ]
    },
    {
      "cell_type": "markdown",
      "metadata": {
        "id": "VUjmjQK-u5Al",
        "colab_type": "text"
      },
      "source": [
        "1. ทำให้ข้อมูลเล็กลง ความซับซ้อนลดลง\n",
        "1. โปรแกรมทำงานได้เร็วขึ้น\n",
        "1. ประมวลผลไม่ยาก แค่ Look up คำ Stop Words จาก Stop List ที่กำหนดได้เลย\n",
        "\n",
        "Stop Words เหมาะกับโมเดลที่ไม่ซับซ้อนมากนัก"
      ]
    },
    {
      "cell_type": "markdown",
      "metadata": {
        "id": "dzPtR-tjGiqI",
        "colab_type": "text"
      },
      "source": [
        "# 4. ข้อเสีย ของการใช้ Stop Words"
      ]
    },
    {
      "cell_type": "markdown",
      "metadata": {
        "id": "QNLn3sRZGjAL",
        "colab_type": "text"
      },
      "source": [
        "1. ใช้รายการ Stop Words ไหนดี\n",
        "1. ไม่มีการสนใจ Context ตัดทิ้งทุกกรณี\n",
        "1. ความหมายหายไป เพราะจริง ๆ แล้ว Stop Words ก็มีความหมาย โดยเฉพาะอย่างยิ่ง เมื่อผสมกับคำที่อยู่รอบ ๆ \n",
        "\n",
        "Stop Words ไม่เหมาะกับโมเดลที่ซับซ้อนมาก ๆ อย่าง Deep Neural Network การใช้ Stop Words ทำให้ Performance ตก"
      ]
    },
    {
      "cell_type": "markdown",
      "metadata": {
        "id": "77WIA_eY16NV",
        "colab_type": "text"
      },
      "source": [
        "# Credit"
      ]
    },
    {
      "cell_type": "markdown",
      "metadata": {
        "id": "9F4YGf9y155U",
        "colab_type": "text"
      },
      "source": [
        "* https://github.com/fastai/course-nlp\n",
        "* https://nlp.stanford.edu/IR-book/html/htmledition/dropping-common-terms-stop-words-1.html"
      ]
    },
    {
      "cell_type": "code",
      "metadata": {
        "id": "Rx2tn9TJyFoT",
        "colab_type": "code",
        "colab": {}
      },
      "source": [
        ""
      ],
      "execution_count": 0,
      "outputs": []
    }
  ]
}