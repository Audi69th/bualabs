{
  "nbformat": 4,
  "nbformat_minor": 0,
  "metadata": {
    "colab": {
      "name": "26b_stemming_lemmatization.ipynb",
      "provenance": []
    },
    "kernelspec": {
      "name": "python3",
      "display_name": "Python 3"
    }
  },
  "cells": [
    {
      "cell_type": "markdown",
      "metadata": {
        "id": "ASzTS9s8zmx5",
        "colab_type": "text"
      },
      "source": [
        "# NLTK"
      ]
    },
    {
      "cell_type": "code",
      "metadata": {
        "id": "wxFUoH6fphOK",
        "colab_type": "code",
        "colab": {
          "base_uri": "https://localhost:8080/",
          "height": 68
        },
        "outputId": "c57dd076-7e46-4c8a-d6de-c4bce2b1cbc9"
      },
      "source": [
        "import nltk\n",
        "nltk.download('wordnet')"
      ],
      "execution_count": 1,
      "outputs": [
        {
          "output_type": "stream",
          "text": [
            "[nltk_data] Downloading package wordnet to /root/nltk_data...\n",
            "[nltk_data]   Unzipping corpora/wordnet.zip.\n"
          ],
          "name": "stdout"
        },
        {
          "output_type": "execute_result",
          "data": {
            "text/plain": [
              "True"
            ]
          },
          "metadata": {
            "tags": []
          },
          "execution_count": 1
        }
      ]
    },
    {
      "cell_type": "code",
      "metadata": {
        "id": "qppO1Rv3snY3",
        "colab_type": "code",
        "colab": {}
      },
      "source": [
        "from nltk import stem"
      ],
      "execution_count": 0,
      "outputs": []
    },
    {
      "cell_type": "code",
      "metadata": {
        "id": "5IyXByrAsppA",
        "colab_type": "code",
        "colab": {}
      },
      "source": [
        "wnl = stem.WordNetLemmatizer()\n",
        "porter = stem.porter.PorterStemmer()"
      ],
      "execution_count": 0,
      "outputs": []
    },
    {
      "cell_type": "code",
      "metadata": {
        "id": "PpHZuixStKsT",
        "colab_type": "code",
        "colab": {}
      },
      "source": [
        "def print_lemma_stem(word_list):\n",
        "    for word in word_list:\n",
        "        print(f'{word}\\t ==> {wnl.lemmatize(word)}\\t{porter.stem(word)}')\n"
      ],
      "execution_count": 0,
      "outputs": []
    },
    {
      "cell_type": "code",
      "metadata": {
        "id": "1i95_ml6syJC",
        "colab_type": "code",
        "colab": {
          "base_uri": "https://localhost:8080/",
          "height": 85
        },
        "outputId": "173a077f-f3bd-44e9-fc57-56966f8336b2"
      },
      "source": [
        "word_list = ['foot', 'feet', 'foots', 'footing']\n",
        "print_lemma_stem(word_list)"
      ],
      "execution_count": 42,
      "outputs": [
        {
          "output_type": "stream",
          "text": [
            "foot\t ==> foot\tfoot\n",
            "feet\t ==> foot\tfeet\n",
            "foots\t ==> foot\tfoot\n",
            "footing\t ==> footing\tfoot\n"
          ],
          "name": "stdout"
        }
      ]
    },
    {
      "cell_type": "code",
      "metadata": {
        "id": "jM7kKZkAs4Fu",
        "colab_type": "code",
        "colab": {
          "base_uri": "https://localhost:8080/",
          "height": 102
        },
        "outputId": "849e2fd5-3a32-4b38-ef46-806d04a39492"
      },
      "source": [
        "word_list = ['fly', 'flies', 'flying', 'flew', 'flown']\n",
        "print_lemma_stem(word_list)"
      ],
      "execution_count": 43,
      "outputs": [
        {
          "output_type": "stream",
          "text": [
            "fly\t ==> fly\tfli\n",
            "flies\t ==> fly\tfli\n",
            "flying\t ==> flying\tfli\n",
            "flew\t ==> flew\tflew\n",
            "flown\t ==> flown\tflown\n"
          ],
          "name": "stdout"
        }
      ]
    },
    {
      "cell_type": "code",
      "metadata": {
        "id": "VlURbqXCs-R6",
        "colab_type": "code",
        "colab": {
          "base_uri": "https://localhost:8080/",
          "height": 68
        },
        "outputId": "4065dc4b-6100-4607-9b59-54763ddbb1e5"
      },
      "source": [
        "word_list = ['organize', 'organized', 'organizing']\n",
        "print_lemma_stem(word_list)"
      ],
      "execution_count": 44,
      "outputs": [
        {
          "output_type": "stream",
          "text": [
            "organize\t ==> organize\torgan\n",
            "organized\t ==> organized\torgan\n",
            "organizing\t ==> organizing\torgan\n"
          ],
          "name": "stdout"
        }
      ]
    },
    {
      "cell_type": "code",
      "metadata": {
        "id": "9rUF4__GtECb",
        "colab_type": "code",
        "colab": {
          "base_uri": "https://localhost:8080/",
          "height": 68
        },
        "outputId": "acce346a-67c0-4daa-bc67-ef97a68b171f"
      },
      "source": [
        "word_list = ['universe', 'university', 'universal']\n",
        "print_lemma_stem(word_list)"
      ],
      "execution_count": 47,
      "outputs": [
        {
          "output_type": "stream",
          "text": [
            "universe\t ==> universe\tunivers\n",
            "university\t ==> university\tunivers\n",
            "universal\t ==> universal\tunivers\n"
          ],
          "name": "stdout"
        }
      ]
    },
    {
      "cell_type": "code",
      "metadata": {
        "id": "gMO3t3mxtYYk",
        "colab_type": "code",
        "colab": {
          "base_uri": "https://localhost:8080/",
          "height": 85
        },
        "outputId": "667ccca3-4323-463a-aa1e-2c71f9806d29"
      },
      "source": [
        "word_list = ['eat', 'eats', 'ate', 'eaten']\n",
        "print_lemma_stem(word_list)"
      ],
      "execution_count": 48,
      "outputs": [
        {
          "output_type": "stream",
          "text": [
            "eat\t ==> eat\teat\n",
            "eats\t ==> eats\teat\n",
            "ate\t ==> ate\tate\n",
            "eaten\t ==> eaten\teaten\n"
          ],
          "name": "stdout"
        }
      ]
    },
    {
      "cell_type": "code",
      "metadata": {
        "id": "8fmwfblutZ3L",
        "colab_type": "code",
        "colab": {
          "base_uri": "https://localhost:8080/",
          "height": 85
        },
        "outputId": "7a99c668-e2ea-41b9-aa48-cdecd788c6f2"
      },
      "source": [
        "word_list = ['win', 'wins', 'won', 'winning']\n",
        "print_lemma_stem(word_list)"
      ],
      "execution_count": 49,
      "outputs": [
        {
          "output_type": "stream",
          "text": [
            "win\t ==> win\twin\n",
            "wins\t ==> win\twin\n",
            "won\t ==> won\twon\n",
            "winning\t ==> winning\twin\n"
          ],
          "name": "stdout"
        }
      ]
    },
    {
      "cell_type": "code",
      "metadata": {
        "id": "0twta0dItvrA",
        "colab_type": "code",
        "colab": {
          "base_uri": "https://localhost:8080/",
          "height": 68
        },
        "outputId": "9ff25501-a478-41cd-da1e-88b75a1bb79c"
      },
      "source": [
        "word_list = ['cat     ', 'category', 'categorize']\n",
        "print_lemma_stem(word_list)"
      ],
      "execution_count": 53,
      "outputs": [
        {
          "output_type": "stream",
          "text": [
            "cat     \t ==> cat     \tcat     \n",
            "category\t ==> category\tcategori\n",
            "categorize\t ==> categorize\tcategor\n"
          ],
          "name": "stdout"
        }
      ]
    },
    {
      "cell_type": "code",
      "metadata": {
        "id": "OrilM3rrt9bj",
        "colab_type": "code",
        "colab": {
          "base_uri": "https://localhost:8080/",
          "height": 85
        },
        "outputId": "d093e4ef-d21f-4984-c21f-281a64ff1314"
      },
      "source": [
        "word_list = ['is ', 'am ', 'are', 'be ']\n",
        "print_lemma_stem(word_list)"
      ],
      "execution_count": 55,
      "outputs": [
        {
          "output_type": "stream",
          "text": [
            "is \t ==> is \tis \n",
            "am \t ==> am \tam \n",
            "are\t ==> are\tare\n",
            "be \t ==> be \tbe \n"
          ],
          "name": "stdout"
        }
      ]
    },
    {
      "cell_type": "markdown",
      "metadata": {
        "id": "K4HDf5p2uqf9",
        "colab_type": "text"
      },
      "source": [
        "# Spacy\n"
      ]
    },
    {
      "cell_type": "code",
      "metadata": {
        "id": "EPVmXODzzsAU",
        "colab_type": "code",
        "colab": {}
      },
      "source": [
        "import spacy\n",
        "from spacy.lemmatizer import Lemmatizer"
      ],
      "execution_count": 0,
      "outputs": []
    },
    {
      "cell_type": "code",
      "metadata": {
        "id": "SnagEYOHzxSK",
        "colab_type": "code",
        "colab": {}
      },
      "source": [
        "nlp = spacy.load(\"en_core_web_sm\")"
      ],
      "execution_count": 0,
      "outputs": []
    },
    {
      "cell_type": "code",
      "metadata": {
        "id": "wL_adbtyzy3o",
        "colab_type": "code",
        "colab": {}
      },
      "source": [
        "def print_lemma(sentence):\n",
        "    sentence = nlp(sentence)\n",
        "    for word in sentence:\n",
        "        print(f'{word.text} \\t==> {word.lemma_}')"
      ],
      "execution_count": 0,
      "outputs": []
    },
    {
      "cell_type": "code",
      "metadata": {
        "id": "8XKAdAoOz07a",
        "colab_type": "code",
        "colab": {
          "base_uri": "https://localhost:8080/",
          "height": 51
        },
        "outputId": "348ec444-1ca4-4b5d-a7df-9bd5b363ee1e"
      },
      "source": [
        "print_lemma('car cars')"
      ],
      "execution_count": 59,
      "outputs": [
        {
          "output_type": "stream",
          "text": [
            "car \t==> car\n",
            "cars \t==> car\n"
          ],
          "name": "stdout"
        }
      ]
    },
    {
      "cell_type": "code",
      "metadata": {
        "id": "719m5T7Pz7wd",
        "colab_type": "code",
        "colab": {
          "base_uri": "https://localhost:8080/",
          "height": 102
        },
        "outputId": "32acc4cb-cc32-48aa-8c75-dea2aabb812b"
      },
      "source": [
        "print_lemma('fly flies flying flew flown')"
      ],
      "execution_count": 60,
      "outputs": [
        {
          "output_type": "stream",
          "text": [
            "fly \t==> fly\n",
            "flies \t==> fly\n",
            "flying \t==> fly\n",
            "flew \t==> fly\n",
            "flown \t==> fly\n"
          ],
          "name": "stdout"
        }
      ]
    },
    {
      "cell_type": "code",
      "metadata": {
        "id": "iCOCBZJxz9b5",
        "colab_type": "code",
        "colab": {
          "base_uri": "https://localhost:8080/",
          "height": 119
        },
        "outputId": "b4c331c7-ff7a-4f67-f155-2e25b888f512"
      },
      "source": [
        "print_lemma('organize organized organizes organizing organization organizations')"
      ],
      "execution_count": 61,
      "outputs": [
        {
          "output_type": "stream",
          "text": [
            "organize \t==> organize\n",
            "organized \t==> organize\n",
            "organizes \t==> organize\n",
            "organizing \t==> organize\n",
            "organization \t==> organization\n",
            "organizations \t==> organization\n"
          ],
          "name": "stdout"
        }
      ]
    },
    {
      "cell_type": "code",
      "metadata": {
        "id": "Waz0bgthz_Qk",
        "colab_type": "code",
        "colab": {
          "base_uri": "https://localhost:8080/",
          "height": 85
        },
        "outputId": "c70e8ab5-f276-4f91-8e47-753c31a2ae48"
      },
      "source": [
        "print_lemma('universe university universal universalist')"
      ],
      "execution_count": 62,
      "outputs": [
        {
          "output_type": "stream",
          "text": [
            "universe \t==> universe\n",
            "university \t==> university\n",
            "universal \t==> universal\n",
            "universalist \t==> universalist\n"
          ],
          "name": "stdout"
        }
      ]
    },
    {
      "cell_type": "markdown",
      "metadata": {
        "id": "OVayLtqS0Asz",
        "colab_type": "text"
      },
      "source": [
        "# Credit"
      ]
    },
    {
      "cell_type": "markdown",
      "metadata": {
        "id": "NGAspwyM1FVh",
        "colab_type": "text"
      },
      "source": [
        "* https://github.com/fastai/course-nlp\n",
        "* https://www.nltk.org/api/nltk.stem.html\n",
        "* https://spacy.io/api/lemmatizer"
      ]
    },
    {
      "cell_type": "code",
      "metadata": {
        "id": "o_ok6fE51Lfw",
        "colab_type": "code",
        "colab": {}
      },
      "source": [
        ""
      ],
      "execution_count": 0,
      "outputs": []
    }
  ]
}