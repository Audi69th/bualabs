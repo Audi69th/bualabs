{
  "nbformat": 4,
  "nbformat_minor": 0,
  "metadata": {
    "colab": {
      "name": "26c-lsa-svd-nmf.ipynb",
      "provenance": []
    },
    "kernelspec": {
      "name": "python3",
      "display_name": "Python 3"
    }
  },
  "cells": [
    {
      "cell_type": "markdown",
      "metadata": {
        "id": "BT5F3YmhENn-",
        "colab_type": "text"
      },
      "source": [
        "ใน ep นี้ เราจะมาเรียนรู้ งานจำแนกหมวดหมู่ข้อความ Text Classification ซึ่งเป็นงานพื้นฐานทางด้าน NLP ด้วยการทำ Latent Semantic Analysis (LSA) วิเคราะห์หาความหมายที่แฝงอยู่ในข้อความ โดยใช้เทคนิค Singular Value Decomposition (SVD) และ Non-negative Matrix Factorization (NMF)"
      ]
    },
    {
      "cell_type": "markdown",
      "metadata": {
        "id": "MCIZMLTUzUKP",
        "colab_type": "text"
      },
      "source": [
        "# 1. Import"
      ]
    },
    {
      "cell_type": "code",
      "metadata": {
        "id": "dR-TP1NR2ry0",
        "colab_type": "code",
        "colab": {
          "base_uri": "https://localhost:8080/",
          "height": 190
        },
        "outputId": "6feb74b5-dca5-4924-e322-7a9fd7547b08"
      },
      "source": [
        "# ! pip install fbpca"
      ],
      "execution_count": 165,
      "outputs": [
        {
          "output_type": "stream",
          "text": [
            "Collecting fbpca\n",
            "  Downloading https://files.pythonhosted.org/packages/a7/a5/2085d0645a4bb4f0b606251b0b7466c61326e4a471d445c1c3761a2d07bc/fbpca-1.0.tar.gz\n",
            "Building wheels for collected packages: fbpca\n",
            "  Building wheel for fbpca (setup.py) ... \u001b[?25l\u001b[?25hdone\n",
            "  Created wheel for fbpca: filename=fbpca-1.0-cp36-none-any.whl size=11376 sha256=10f6ae614de4c44bbe3be816577236fff487b2dbe9583081365b8e8db3647e86\n",
            "  Stored in directory: /root/.cache/pip/wheels/53/a2/dd/9b66cf53dbc58cec1e613d216689e5fa946d3e7805c30f60dc\n",
            "Successfully built fbpca\n",
            "Installing collected packages: fbpca\n",
            "Successfully installed fbpca-1.0\n"
          ],
          "name": "stdout"
        }
      ]
    },
    {
      "cell_type": "code",
      "metadata": {
        "id": "ZpjWCafutZ8o",
        "colab_type": "code",
        "colab": {}
      },
      "source": [
        "import numpy as np\n",
        "from sklearn.datasets import fetch_20newsgroups\n",
        "from sklearn import decomposition\n",
        "from scipy import linalg\n",
        "import matplotlib.pyplot as plt\n",
        "import pandas as pd\n",
        "import plotly.express as px"
      ],
      "execution_count": 0,
      "outputs": []
    },
    {
      "cell_type": "code",
      "metadata": {
        "id": "ESE4TYintwn0",
        "colab_type": "code",
        "colab": {}
      },
      "source": [
        "%matplotlib inline\n",
        "np.set_printoptions(suppress=True)"
      ],
      "execution_count": 0,
      "outputs": []
    },
    {
      "cell_type": "markdown",
      "metadata": {
        "id": "o3FpXzoxzXEa",
        "colab_type": "text"
      },
      "source": [
        "# 2. Dataset"
      ]
    },
    {
      "cell_type": "markdown",
      "metadata": {
        "id": "8ozeG7_fJifg",
        "colab_type": "text"
      },
      "source": [
        "ในเคสนี้เราจะใช้ Dataset เป็นข้อความจาก Newsgroup 4 หมวดหมู่ คือ \n",
        "\n",
        "1. อเทวนิยม\n",
        "1. ศาสนา \n",
        "1. คอมพิวเตอร์กราฟฟิก \n",
        "1. วิทยาศาสตร์ อวกาศ \n",
        "\n",
        "Newsgroup คือ ชุมชนออนไลน์ เหมือน Webboard ในยุค 80 ก่อนที่ www จะเป็นที่นิยม"
      ]
    },
    {
      "cell_type": "code",
      "metadata": {
        "id": "WuWP6EWctx7b",
        "colab_type": "code",
        "colab": {}
      },
      "source": [
        "categories = ['alt.atheism', 'talk.religion.misc', 'comp.graphics', 'sci.space']\n",
        "remove = ('headers', 'footers', 'quotes')\n",
        "newsgroups_train = fetch_20newsgroups(subset='train', categories=categories, remove=remove)\n",
        "newsgroups_test = fetch_20newsgroups(subset='test', categories=categories, remove=remove)"
      ],
      "execution_count": 0,
      "outputs": []
    },
    {
      "cell_type": "markdown",
      "metadata": {
        "id": "h-cJXk5SJ9hE",
        "colab_type": "text"
      },
      "source": [
        "ดูตัวอย่างข้อมูล มีจำนวน 2034 Record"
      ]
    },
    {
      "cell_type": "code",
      "metadata": {
        "id": "BvUazc9ctzcu",
        "colab_type": "code",
        "colab": {
          "base_uri": "https://localhost:8080/",
          "height": 34
        },
        "outputId": "7d16e0b8-4750-4167-c4be-df83457a8084"
      },
      "source": [
        "newsgroups_train.filenames.shape, newsgroups_train.target.shape"
      ],
      "execution_count": 114,
      "outputs": [
        {
          "output_type": "execute_result",
          "data": {
            "text/plain": [
              "((2034,), (2034,))"
            ]
          },
          "metadata": {
            "tags": []
          },
          "execution_count": 114
        }
      ]
    },
    {
      "cell_type": "markdown",
      "metadata": {
        "id": "OIGWrcrNKblb",
        "colab_type": "text"
      },
      "source": [
        "ชื่อไฟล์"
      ]
    },
    {
      "cell_type": "code",
      "metadata": {
        "id": "cHqhFd0xKFpf",
        "colab_type": "code",
        "colab": {
          "base_uri": "https://localhost:8080/",
          "height": 85
        },
        "outputId": "15a47d5b-4552-4d27-e609-b324f100ddf4"
      },
      "source": [
        "newsgroups_train.filenames[1200:1203]"
      ],
      "execution_count": 115,
      "outputs": [
        {
          "output_type": "execute_result",
          "data": {
            "text/plain": [
              "array(['/root/scikit_learn_data/20news_home/20news-bydate-train/comp.graphics/37937',\n",
              "       '/root/scikit_learn_data/20news_home/20news-bydate-train/alt.atheism/51124',\n",
              "       '/root/scikit_learn_data/20news_home/20news-bydate-train/sci.space/60964'],\n",
              "      dtype='<U86')"
            ]
          },
          "metadata": {
            "tags": []
          },
          "execution_count": 115
        }
      ]
    },
    {
      "cell_type": "markdown",
      "metadata": {
        "id": "o1mHB-7ZKjXW",
        "colab_type": "text"
      },
      "source": [
        "ดูตัวอย่างเนื้อหา 3 ข้อความ"
      ]
    },
    {
      "cell_type": "code",
      "metadata": {
        "id": "kGv_bfJJt0mF",
        "colab_type": "code",
        "colab": {
          "base_uri": "https://localhost:8080/",
          "height": 527
        },
        "outputId": "970aa0f2-0f30-4fd4-a832-9d0e4368bc27"
      },
      "source": [
        "print(\"\\n============================\\n\".join(newsgroups_train.data[1200:1203]))"
      ],
      "execution_count": 116,
      "outputs": [
        {
          "output_type": "stream",
          "text": [
            "\n",
            "\n",
            "\n",
            "I sure did use version 3.2. It works fine with most software but NOT\n",
            "with Animator Pro and that one is quite important to me. Pretty\n",
            "useless program without that thing working IMHO.\n",
            "So I hope the author can fix that.\n",
            "\n",
            "/Daniel...\n",
            "\n",
            "\n",
            "\n",
            "============================\n",
            " \n",
            " \n",
            "It was no criticism of Islam for a change, it was a criticism of the\n",
            "arguments used. Namely, whenever people you identify as Muslims are\n",
            "the victims of the attacks of others, they are used an argument for\n",
            "the bad situation of Muslims. But whenever deeds by Muslim that victimize\n",
            "others are named, they do not count as an argument because what these\n",
            "people did was not done as a true Muslims. No mention is made how Muslims\n",
            "are the cause of a bad situation of another party.\n",
            "============================\n",
            "\n",
            "\n",
            "Hmmmm....  The prefix \"peri-\" is Greek, not Latin, so it's usually used\n",
            "with the Greek form of the name of the body being orbited.  (That's why\n",
            "it's \"perihelion\" rather than \"perisol\", \"perigee\" rather than \"periterr\",\n",
            "and \"pericynthion\" rather than \"perilune\".)  So for Jupiter I'd expect it\n",
            "to be something like \"perizeon\".)   :^)\n"
          ],
          "name": "stdout"
        }
      ]
    },
    {
      "cell_type": "markdown",
      "metadata": {
        "id": "kOJNb_4mKnf0",
        "colab_type": "text"
      },
      "source": [
        "รหัส Category ของ 3 ข้อความด้านบน"
      ]
    },
    {
      "cell_type": "code",
      "metadata": {
        "id": "U2hRtBfht4PQ",
        "colab_type": "code",
        "colab": {
          "base_uri": "https://localhost:8080/",
          "height": 34
        },
        "outputId": "64ae49e0-0c7c-47f9-b0c7-f1dd416c5912"
      },
      "source": [
        "newsgroups_train.target[1200:1203]"
      ],
      "execution_count": 117,
      "outputs": [
        {
          "output_type": "execute_result",
          "data": {
            "text/plain": [
              "array([1, 0, 2])"
            ]
          },
          "metadata": {
            "tags": []
          },
          "execution_count": 117
        }
      ]
    },
    {
      "cell_type": "markdown",
      "metadata": {
        "id": "grwo-3HwKlmX",
        "colab_type": "text"
      },
      "source": [
        "3 ข้อความด้านบน อยู่ Category ไหน"
      ]
    },
    {
      "cell_type": "code",
      "metadata": {
        "id": "d38Mb5Y2t2jD",
        "colab_type": "code",
        "colab": {
          "base_uri": "https://localhost:8080/",
          "height": 34
        },
        "outputId": "9cfb8ce3-3e9f-4d39-e6ad-d7131daf535a"
      },
      "source": [
        "np.array(newsgroups_train.target_names)[newsgroups_train.target[1200:1203]]"
      ],
      "execution_count": 118,
      "outputs": [
        {
          "output_type": "execute_result",
          "data": {
            "text/plain": [
              "array(['comp.graphics', 'alt.atheism', 'sci.space'], dtype='<U18')"
            ]
          },
          "metadata": {
            "tags": []
          },
          "execution_count": 118
        }
      ]
    },
    {
      "cell_type": "markdown",
      "metadata": {
        "id": "w1OSRlU1uDH2",
        "colab_type": "text"
      },
      "source": [
        "# 3. Vectorize "
      ]
    },
    {
      "cell_type": "markdown",
      "metadata": {
        "id": "Xx5R1_7ZuC8q",
        "colab_type": "text"
      },
      "source": [
        "ในการจะหาว่าเอกสารนี้เกี่ยวกับเรื่องอะไร เอกสาร 2 เอกสาร เขียนถึงเรื่องราวในหัวข้อเดียวกัน อยู่หมวดหมู่เดียวกัน วิธีที่ง่ายที่สุด ตรงตัวที่สุด คือการนับจำนวนแต่ละคำที่อยู่ในแต่ละเอกสาร แล้วนำมาเปรียบเทียบกันตรง ๆ โดยยังไม่ต้องสนใจลำดับของคำ"
      ]
    },
    {
      "cell_type": "markdown",
      "metadata": {
        "id": "UbWbS6gARkla",
        "colab_type": "text"
      },
      "source": [
        "Import Library ในการนับคำศัพท์"
      ]
    },
    {
      "cell_type": "code",
      "metadata": {
        "id": "zHPL6jX4t6yj",
        "colab_type": "code",
        "colab": {}
      },
      "source": [
        "from sklearn.feature_extraction.text import CountVectorizer, TfidfVectorizer"
      ],
      "execution_count": 0,
      "outputs": []
    },
    {
      "cell_type": "markdown",
      "metadata": {
        "id": "16MIy4XKRwjX",
        "colab_type": "text"
      },
      "source": [
        "ดาวน์โหลด โมเดลภาษา ในที่นี้คือภาษาอังกฤษ"
      ]
    },
    {
      "cell_type": "code",
      "metadata": {
        "id": "NfKnzNvNuB_u",
        "colab_type": "code",
        "colab": {
          "base_uri": "https://localhost:8080/",
          "height": 102
        },
        "outputId": "0a5c4aa7-8930-47e2-f545-7ec8e36b7eef"
      },
      "source": [
        "import nltk\n",
        "nltk.download('punkt')\n",
        "nltk.download('wordnet')"
      ],
      "execution_count": 120,
      "outputs": [
        {
          "output_type": "stream",
          "text": [
            "[nltk_data] Downloading package punkt to /root/nltk_data...\n",
            "[nltk_data]   Package punkt is already up-to-date!\n",
            "[nltk_data] Downloading package wordnet to /root/nltk_data...\n",
            "[nltk_data]   Package wordnet is already up-to-date!\n"
          ],
          "name": "stdout"
        },
        {
          "output_type": "execute_result",
          "data": {
            "text/plain": [
              "True"
            ]
          },
          "metadata": {
            "tags": []
          },
          "execution_count": 120
        }
      ]
    },
    {
      "cell_type": "markdown",
      "metadata": {
        "id": "BKhmyaZE6qGk",
        "colab_type": "text"
      },
      "source": [
        "## 3.1 Tokenize and Lemmatize"
      ]
    },
    {
      "cell_type": "markdown",
      "metadata": {
        "id": "bobn7-MvSLk6",
        "colab_type": "text"
      },
      "source": [
        "ประกาศ Class สำหรับทำ Tokenization ข้อความ String ให้เป็น Token พร้อม [Lemmatization](https://www.bualabs.com/archives/2952/what-is-stemming-what-is-lemmatization-different-stemming-lemmatization-nlp-ep-3/) แปลง Token ที่ได้ ให้อยู่ในรูปฟอร์มพื้นฐาน"
      ]
    },
    {
      "cell_type": "code",
      "metadata": {
        "id": "kaj82pB4uo81",
        "colab_type": "code",
        "colab": {}
      },
      "source": [
        "from nltk import word_tokenize, stem\n",
        "\n",
        "class LemmaTokenizer(object):\n",
        "    def __init__(self):\n",
        "        self.wnl = stem.WordNetLemmatizer()\n",
        "    def __call__(self, doc):\n",
        "        return [self.wnl.lemmatize(t) for t in word_tokenize(doc)]"
      ],
      "execution_count": 0,
      "outputs": []
    },
    {
      "cell_type": "markdown",
      "metadata": {
        "id": "sVncHxR866s5",
        "colab_type": "text"
      },
      "source": [
        "## 3.2 Create Matrix of Token Counts"
      ]
    },
    {
      "cell_type": "markdown",
      "metadata": {
        "id": "cWlHW3NAAZI7",
        "colab_type": "text"
      },
      "source": [
        "แปลงรายการข้อความทั้งหมด ให้เป็น Matrix ของ จำนวน Token\n",
        "\n",
        "Matrix 1 Row คือ 1 Vector ข้อความ, มีหลาย ๆ Vector มา Stack กันเป็น Matrix"
      ]
    },
    {
      "cell_type": "code",
      "metadata": {
        "id": "oiKmluWSuqO8",
        "colab_type": "code",
        "colab": {}
      },
      "source": [
        "vectorizer = CountVectorizer(stop_words='english')  # No Lemmatization\n",
        "# vectorizer = CountVectorizer(stop_words='english', tokenizer=LemmaTokenizer()) # Lemmatization"
      ],
      "execution_count": 0,
      "outputs": []
    },
    {
      "cell_type": "markdown",
      "metadata": {
        "id": "G_Imy6rXTFv3",
        "colab_type": "text"
      },
      "source": [
        "ใช้ได้ matrix ขนาด 2034 Row, 26576 Column"
      ]
    },
    {
      "cell_type": "code",
      "metadata": {
        "id": "zdWR4AJkurig",
        "colab_type": "code",
        "colab": {
          "base_uri": "https://localhost:8080/",
          "height": 34
        },
        "outputId": "e1da4452-8e92-488d-d5a6-0e5e688d812f"
      },
      "source": [
        "vectors = vectorizer.fit_transform(newsgroups_train.data).todense() \n",
        "vectors.shape # (documents, vocab)"
      ],
      "execution_count": 123,
      "outputs": [
        {
          "output_type": "execute_result",
          "data": {
            "text/plain": [
              "(2034, 26576)"
            ]
          },
          "metadata": {
            "tags": []
          },
          "execution_count": 123
        }
      ]
    },
    {
      "cell_type": "markdown",
      "metadata": {
        "id": "sJzAaLVtTexC",
        "colab_type": "text"
      },
      "source": [
        "ดูตัวอย่าง ข้อมูลใน Matrix 20 ข้อความแรก จะเห็นว่า Sparse มาก ๆ ส่วนใหญ่เป็น 0"
      ]
    },
    {
      "cell_type": "code",
      "metadata": {
        "id": "9vc1GwO7Bhk1",
        "colab_type": "code",
        "colab": {
          "base_uri": "https://localhost:8080/",
          "height": 357
        },
        "outputId": "6cc5e8ca-8081-45c0-8a39-7a668ea19889"
      },
      "source": [
        "vectors[:20, 10280:10299]"
      ],
      "execution_count": 124,
      "outputs": [
        {
          "output_type": "execute_result",
          "data": {
            "text/plain": [
              "matrix([[0, 0, 0, 0, 0, 0, 6, 0, 0, 0, 0, 0, 0, 0, 0, 0, 0, 0, 0],\n",
              "        [0, 0, 0, 0, 0, 0, 0, 0, 0, 0, 0, 0, 0, 0, 0, 0, 0, 0, 0],\n",
              "        [0, 0, 1, 0, 0, 0, 0, 0, 0, 0, 0, 0, 0, 0, 0, 0, 0, 0, 0],\n",
              "        [0, 0, 0, 0, 0, 0, 0, 0, 0, 0, 0, 0, 0, 0, 0, 0, 0, 0, 0],\n",
              "        [0, 0, 0, 0, 0, 0, 0, 0, 0, 0, 0, 0, 0, 0, 0, 0, 0, 0, 0],\n",
              "        [0, 0, 0, 0, 0, 0, 0, 0, 0, 0, 0, 0, 0, 0, 0, 0, 0, 0, 0],\n",
              "        [0, 0, 0, 0, 0, 0, 0, 0, 0, 0, 0, 0, 0, 0, 0, 0, 0, 0, 0],\n",
              "        [0, 0, 0, 0, 0, 0, 0, 0, 0, 0, 0, 0, 0, 0, 0, 0, 0, 0, 0],\n",
              "        [0, 0, 0, 0, 0, 0, 0, 0, 0, 0, 0, 0, 0, 0, 0, 0, 0, 0, 0],\n",
              "        [0, 0, 0, 0, 0, 0, 0, 0, 0, 0, 0, 0, 0, 0, 0, 0, 0, 0, 0],\n",
              "        [0, 0, 0, 0, 0, 0, 0, 0, 0, 0, 0, 0, 0, 0, 0, 0, 0, 0, 0],\n",
              "        [0, 0, 0, 0, 0, 0, 0, 0, 0, 0, 0, 0, 0, 0, 0, 0, 0, 0, 0],\n",
              "        [0, 0, 0, 0, 0, 0, 0, 0, 0, 0, 0, 0, 0, 0, 0, 0, 0, 0, 0],\n",
              "        [0, 0, 1, 0, 0, 0, 0, 0, 0, 0, 0, 0, 0, 0, 0, 0, 0, 0, 0],\n",
              "        [0, 0, 0, 0, 0, 0, 0, 0, 0, 0, 0, 0, 0, 0, 0, 0, 0, 0, 0],\n",
              "        [0, 0, 0, 0, 0, 0, 0, 0, 0, 0, 0, 0, 0, 0, 0, 0, 0, 0, 0],\n",
              "        [0, 0, 0, 0, 0, 0, 0, 0, 0, 0, 0, 0, 0, 0, 0, 0, 0, 0, 0],\n",
              "        [0, 0, 0, 0, 0, 0, 0, 0, 0, 0, 0, 0, 0, 0, 0, 0, 0, 0, 0],\n",
              "        [0, 0, 0, 0, 0, 0, 0, 0, 0, 0, 0, 0, 0, 0, 0, 0, 0, 0, 0],\n",
              "        [0, 0, 0, 0, 0, 0, 0, 0, 0, 0, 0, 0, 0, 0, 0, 0, 0, 0, 0]])"
            ]
          },
          "metadata": {
            "tags": []
          },
          "execution_count": 124
        }
      ]
    },
    {
      "cell_type": "markdown",
      "metadata": {
        "id": "7omYjyV_XJDo",
        "colab_type": "text"
      },
      "source": [
        "พล็อตเป็น Heatmap จะได้มองง่าย"
      ]
    },
    {
      "cell_type": "code",
      "metadata": {
        "id": "JX-zD7A5Wysp",
        "colab_type": "code",
        "colab": {
          "base_uri": "https://localhost:8080/",
          "height": 282
        },
        "outputId": "af59e0b4-feda-4743-8926-0d1c530ab23f"
      },
      "source": [
        "plt.imshow(vectors[:20, 10280:10299])"
      ],
      "execution_count": 125,
      "outputs": [
        {
          "output_type": "execute_result",
          "data": {
            "text/plain": [
              "<matplotlib.image.AxesImage at 0x7f77e5fe7550>"
            ]
          },
          "metadata": {
            "tags": []
          },
          "execution_count": 125
        },
        {
          "output_type": "display_data",
          "data": {
            "image/png": "[encoded data removed]",
            "text/plain": [
              "<Figure size 432x288 with 1 Axes>"
            ]
          },
          "metadata": {
            "tags": []
          }
        }
      ]
    },
    {
      "cell_type": "markdown",
      "metadata": {
        "id": "ZbWMU1A3DAbP",
        "colab_type": "text"
      },
      "source": [
        "เปรียบเทียบขนาดเอกสาร กับขนาด matrix จะเห็นว่า row เท่ากัน column = จำนวน vocab"
      ]
    },
    {
      "cell_type": "code",
      "metadata": {
        "id": "MUOzGt0Cu31C",
        "colab_type": "code",
        "colab": {
          "base_uri": "https://localhost:8080/",
          "height": 34
        },
        "outputId": "aba0d29f-4ff2-44de-f1a7-7f7de3132f91"
      },
      "source": [
        "print(len(newsgroups_train.data), vectors.shape)"
      ],
      "execution_count": 126,
      "outputs": [
        {
          "output_type": "stream",
          "text": [
            "2034 (2034, 26576)\n"
          ],
          "name": "stdout"
        }
      ]
    },
    {
      "cell_type": "markdown",
      "metadata": {
        "id": "rCIr982yDYN0",
        "colab_type": "text"
      },
      "source": [
        "ดูจำนวนคำใน vocab ที่เก็บใน vectorizer"
      ]
    },
    {
      "cell_type": "code",
      "metadata": {
        "id": "Vg-riN5tvIxw",
        "colab_type": "code",
        "colab": {
          "base_uri": "https://localhost:8080/",
          "height": 34
        },
        "outputId": "65e03da9-ff92-4551-b6a5-38e9bcdf21cf"
      },
      "source": [
        "vocab = np.array(vectorizer.get_feature_names())\n",
        "vocab.shape"
      ],
      "execution_count": 127,
      "outputs": [
        {
          "output_type": "execute_result",
          "data": {
            "text/plain": [
              "(26576,)"
            ]
          },
          "metadata": {
            "tags": []
          },
          "execution_count": 127
        }
      ]
    },
    {
      "cell_type": "markdown",
      "metadata": {
        "id": "9_MCs46oUnm1",
        "colab_type": "text"
      },
      "source": [
        "ดูคำใน vocab"
      ]
    },
    {
      "cell_type": "code",
      "metadata": {
        "id": "nsVD05DyvTgg",
        "colab_type": "code",
        "colab": {
          "base_uri": "https://localhost:8080/",
          "height": 85
        },
        "outputId": "58c7ca5e-7ab2-4810-ee40-658847326e7f"
      },
      "source": [
        "vocab[26000:26020]"
      ],
      "execution_count": 128,
      "outputs": [
        {
          "output_type": "execute_result",
          "data": {
            "text/plain": [
              "array(['wick', 'wickard', 'wicked', 'wide', 'widely', 'widengren',\n",
              "       'widening', 'wider', 'widespread', 'widget', 'widgets', 'widow',\n",
              "       'width', 'widths', 'wield', 'wien', 'wiener', 'wierd', 'wierdness',\n",
              "       'wife'], dtype='<U80')"
            ]
          },
          "metadata": {
            "tags": []
          },
          "execution_count": 128
        }
      ]
    },
    {
      "cell_type": "markdown",
      "metadata": {
        "id": "e0ApbQDKJG7e",
        "colab_type": "text"
      },
      "source": [
        "เปรียบเทียบเอกสารจริง กับ Token Counts"
      ]
    },
    {
      "cell_type": "code",
      "metadata": {
        "id": "FwLT60xPICbH",
        "colab_type": "code",
        "colab": {
          "base_uri": "https://localhost:8080/",
          "height": 221
        },
        "outputId": "fce6abc8-b838-4b5b-c142-9c52622ed22b"
      },
      "source": [
        "print(newsgroups_train.data[1200])"
      ],
      "execution_count": 129,
      "outputs": [
        {
          "output_type": "stream",
          "text": [
            "\n",
            "\n",
            "\n",
            "I sure did use version 3.2. It works fine with most software but NOT\n",
            "with Animator Pro and that one is quite important to me. Pretty\n",
            "useless program without that thing working IMHO.\n",
            "So I hope the author can fix that.\n",
            "\n",
            "/Daniel...\n",
            "\n",
            "\n",
            "\n"
          ],
          "name": "stdout"
        }
      ]
    },
    {
      "cell_type": "code",
      "metadata": {
        "id": "Dnobq6q9G9xs",
        "colab_type": "code",
        "colab": {
          "base_uri": "https://localhost:8080/",
          "height": 391
        },
        "outputId": "196d2d59-898a-4548-9f98-1d7410e756b6"
      },
      "source": [
        "for i, r in enumerate(reversed(sorted(zip(np.squeeze(np.asarray(vectors[1200, :])), vocab)))):\n",
        "    print(r)\n",
        "    if i > 20 : break"
      ],
      "execution_count": 130,
      "outputs": [
        {
          "output_type": "stream",
          "text": [
            "(1, 'works')\n",
            "(1, 'working')\n",
            "(1, 'version')\n",
            "(1, 'useless')\n",
            "(1, 'use')\n",
            "(1, 'thing')\n",
            "(1, 'sure')\n",
            "(1, 'software')\n",
            "(1, 'quite')\n",
            "(1, 'program')\n",
            "(1, 'pro')\n",
            "(1, 'pretty')\n",
            "(1, 'important')\n",
            "(1, 'imho')\n",
            "(1, 'hope')\n",
            "(1, 'fix')\n",
            "(1, 'fine')\n",
            "(1, 'did')\n",
            "(1, 'daniel')\n",
            "(1, 'author')\n",
            "(1, 'animator')\n",
            "(0, 'zyxel')\n"
          ],
          "name": "stdout"
        }
      ]
    },
    {
      "cell_type": "markdown",
      "metadata": {
        "id": "3EaIGr0XeD8l",
        "colab_type": "text"
      },
      "source": [
        "# 4. Latent Semantic Analysis (LSA) "
      ]
    },
    {
      "cell_type": "markdown",
      "metadata": {
        "id": "BiwYc0mOU4KW",
        "colab_type": "text"
      },
      "source": [
        "เมื่อเราได้ Matrix ของจำนวนคำศัพท์ที่อยู่ในข้อความทั้งหมดมาแล้ว การนำแต่ละ Vector มาเปรียบเทียบกันตรง ๆ อาจจะไม่ค่อยได้ผล เนื่องจากคำมีหลากหลายมาก ข้อมูลส่วนใหญ่เป็น 0 การเปรียบเทียบ 2 Vector ข้อความที่มีจำนวนคำบางคำใกล้เคียงกัน ไม่สามารถบอกว่าอยู่หมวดหมู่เดียวกันได้\n",
        "\n",
        "เราจำเป็นต้องนำ Matrix ที่ได้มาผ่านกระบวนการ วิเคราะห์หาความหมายที่ซ่อนอยู่ภายใน Latent Semantic Analysis (LSA) ด้วยวิธีการดังนี้"
      ]
    },
    {
      "cell_type": "markdown",
      "metadata": {
        "id": "ix3N67TcvXPb",
        "colab_type": "text"
      },
      "source": [
        "## 4.1 Singular Value Decomposition (SVD)"
      ]
    },
    {
      "cell_type": "markdown",
      "metadata": {
        "id": "AAye4PYRXZ05",
        "colab_type": "text"
      },
      "source": [
        "SVD เป็นวิธี Factorization ยอดนิยม SVD จะแปลง 1 Matrix ขนาดใหญ่ ออกมาเป็น 3 Matrix ขนาดเล็กกว่า ที่คุณกันแล้วได้เท่ากับ Matrix ต้นทาง\n",
        "\n",
        "3 Matrix ใหม่ที่ได้ออกมา มีคุณสมบัติพิเศษบางอย่าง ทำให้เราสามารถนำมาใช้งาน วิเคราะห์ข้อความได้ดีขึ้น"
      ]
    },
    {
      "cell_type": "markdown",
      "metadata": {
        "id": "w-8VAzPNYPMf",
        "colab_type": "text"
      },
      "source": [
        "หา svd ของ Matrix ต้นฉบับ ชื่อ vectors ออกมาได้เป็น 3 Matrix ชื่อ U, s Vh\n",
        "\n",
        "เปรียบเทียบ U คือ รายการ [Embedding](https://www.bualabs.com/archives/996/visualization-embedding-deep-learning-model-deep-neural-networks-tensorboard-ep-2/) ของ Topic by ข้อความ, s คือ Scale ขนาดความสำคัญของ Topic by ข้อความ, Vh คือ รายการ Embedding ของ Vocab by Topic\n",
        "\n",
        "แทนที่เราจะเปรียบเทียบ 2 ข้อความ ด้วยจำนวนคำศัพท์ในข้อความเหมือนด้านบน ตอนนี้เรามี Abstraction เพิ่มขึ้นมาอีก 1 ตัวคือ Topic ให้เราใช้เปรียบเทียบ ว่า 2 ข้อความมีปริมาณ แต่ละ Topic ใกล้เคียง หรือแตกต่างกันอย่างไร"
      ]
    },
    {
      "cell_type": "code",
      "metadata": {
        "id": "4t97U38NvYh7",
        "colab_type": "code",
        "colab": {
          "base_uri": "https://localhost:8080/",
          "height": 51
        },
        "outputId": "9d5d8cd5-e6b7-483e-e66c-0644571af5a2"
      },
      "source": [
        "%time U, s, Vh = linalg.svd(vectors, full_matrices=False)"
      ],
      "execution_count": 131,
      "outputs": [
        {
          "output_type": "stream",
          "text": [
            "CPU times: user 1min 18s, sys: 3.95 s, total: 1min 22s\n",
            "Wall time: 42.1 s\n"
          ],
          "name": "stdout"
        }
      ]
    },
    {
      "cell_type": "markdown",
      "metadata": {
        "id": "ECn77d6EYbWx",
        "colab_type": "text"
      },
      "source": [
        "ดู shape"
      ]
    },
    {
      "cell_type": "code",
      "metadata": {
        "id": "XJHubfxpD8aH",
        "colab_type": "code",
        "colab": {
          "base_uri": "https://localhost:8080/",
          "height": 34
        },
        "outputId": "537fe79f-67bc-4f5d-dc58-cec22017e8bc"
      },
      "source": [
        "print(U.shape, s.shape, Vh.shape)"
      ],
      "execution_count": 132,
      "outputs": [
        {
          "output_type": "stream",
          "text": [
            "(2034, 2034) (2034,) (2034, 26576)\n"
          ],
          "name": "stdout"
        }
      ]
    },
    {
      "cell_type": "markdown",
      "metadata": {
        "id": "L38AHsnhu1_n",
        "colab_type": "text"
      },
      "source": [
        "ดูตัวอย่างค่า U, s, Vh"
      ]
    },
    {
      "cell_type": "code",
      "metadata": {
        "id": "rhF6vtVZuuia",
        "colab_type": "code",
        "colab": {
          "base_uri": "https://localhost:8080/",
          "height": 357
        },
        "outputId": "746d243d-9b2e-4485-de4f-840b8fe2099c"
      },
      "source": [
        "U[:10, :10]"
      ],
      "execution_count": 134,
      "outputs": [
        {
          "output_type": "execute_result",
          "data": {
            "text/plain": [
              "array([[-0.00477991,  0.00271988, -0.00121236,  0.00199713, -0.00212815,\n",
              "         0.00064196,  0.00158918, -0.00616304,  0.00166131, -0.00336103],\n",
              "       [-0.0002213 , -0.00017499, -0.00107815,  0.00080933, -0.00003156,\n",
              "         0.0000129 , -0.00038571,  0.0002549 ,  0.0004724 , -0.0005665 ],\n",
              "       [-0.00063693, -0.00074229, -0.00083183,  0.00133412, -0.00028709,\n",
              "         0.00076798,  0.00029208,  0.00015722,  0.00019172, -0.0004806 ],\n",
              "       [-0.00189063, -0.00123553, -0.00390984,  0.00371775, -0.00153613,\n",
              "         0.00150571,  0.00021251,  0.00054518,  0.00071439,  0.00108918],\n",
              "       [-0.00035591, -0.00000875, -0.00118536,  0.00054929, -0.00012114,\n",
              "         0.00019241,  0.00159946,  0.00122869, -0.00028438, -0.00071981],\n",
              "       [-0.00118922, -0.00028775, -0.0039977 ,  0.00384121, -0.00045495,\n",
              "         0.00689919, -0.00024674, -0.00190939, -0.00232265,  0.00005183],\n",
              "       [-0.00124391, -0.00166116, -0.00398698, -0.00182209,  0.00023371,\n",
              "        -0.00063048,  0.00378086, -0.00005275,  0.00023012, -0.00065772],\n",
              "       [-0.00248604,  0.00005395, -0.0029498 ,  0.00268257,  0.00069154,\n",
              "         0.00007291, -0.00048989, -0.00035745,  0.00062648, -0.00021064],\n",
              "       [-0.00066636, -0.00084421, -0.00348161, -0.00108721, -0.00046658,\n",
              "         0.00058403,  0.00778312,  0.00830111, -0.00288117, -0.00946762],\n",
              "       [-0.00268169, -0.00150757,  0.00069319,  0.00065846,  0.00481159,\n",
              "        -0.00018332, -0.00071305,  0.00440544,  0.00078927,  0.00081926]])"
            ]
          },
          "metadata": {
            "tags": []
          },
          "execution_count": 134
        }
      ]
    },
    {
      "cell_type": "code",
      "metadata": {
        "id": "X002XKMuuy8N",
        "colab_type": "code",
        "colab": {
          "base_uri": "https://localhost:8080/",
          "height": 357
        },
        "outputId": "9f56656f-a017-416a-ea16-e73c24cc5b30"
      },
      "source": [
        "Vh[:10, :10]"
      ],
      "execution_count": 135,
      "outputs": [
        {
          "output_type": "execute_result",
          "data": {
            "text/plain": [
              "array([[-0.00940972, -0.0114532 , -0.00002169, -0.00004339, -0.00012376,\n",
              "        -0.00107793, -0.00005199, -0.00000429, -0.00000576, -0.00002169],\n",
              "       [-0.00356688, -0.01769167, -0.00003045, -0.0000609 , -0.00029139,\n",
              "        -0.00185625, -0.00007231, -0.00000497,  0.000003  , -0.00003045],\n",
              "       [ 0.00094971, -0.02282845, -0.00002339, -0.00004679, -0.00046807,\n",
              "         0.00151222, -0.00016364, -0.00001991, -0.00000286, -0.00002339],\n",
              "       [-0.00187147, -0.01143462, -0.00003902, -0.00007804, -0.0005944 ,\n",
              "         0.00092729, -0.00008254,  0.00001497,  0.00000172, -0.00003902],\n",
              "       [ 0.00384808,  0.0046023 ,  0.0000232 ,  0.00004639, -0.00044191,\n",
              "        -0.00264588,  0.00006281,  0.00000353,  0.00000296,  0.0000232 ],\n",
              "       [-0.00023349, -0.01326198, -0.00000709, -0.00001419,  0.00007106,\n",
              "        -0.00002707,  0.00001966,  0.00001074,  0.00000115, -0.00000709],\n",
              "       [ 0.00556666,  0.00991294,  0.00005038,  0.00010075,  0.00105793,\n",
              "        -0.00078038,  0.00027901,  0.0000081 ,  0.00000301,  0.00005038],\n",
              "       [-0.00218087, -0.04322025, -0.00012552, -0.00025105, -0.00092572,\n",
              "         0.0016159 ,  0.00020918,  0.00001105, -0.00002162, -0.00012552],\n",
              "       [-0.00039196,  0.00494894,  0.00000309,  0.00000618,  0.00017167,\n",
              "        -0.00016621, -0.00002634,  0.00004363,  0.00000345,  0.00000309],\n",
              "       [ 0.00306552, -0.01437264, -0.00000405, -0.0000081 ,  0.00197022,\n",
              "         0.00056001, -0.00015235,  0.00000116, -0.00002022, -0.00000405]])"
            ]
          },
          "metadata": {
            "tags": []
          },
          "execution_count": 135
        }
      ]
    },
    {
      "cell_type": "markdown",
      "metadata": {
        "id": "9hQpM9c4YgzT",
        "colab_type": "text"
      },
      "source": [
        "s จะเป็น Diagonal Matrix แต่มาในรูป Vector"
      ]
    },
    {
      "cell_type": "code",
      "metadata": {
        "id": "LlSuiOUmdehM",
        "colab_type": "code",
        "colab": {
          "base_uri": "https://localhost:8080/",
          "height": 34
        },
        "outputId": "f0fa8c1a-7380-4ac0-c5d7-b6fcc8afbb4f"
      },
      "source": [
        "s[:4]"
      ],
      "execution_count": 133,
      "outputs": [
        {
          "output_type": "execute_result",
          "data": {
            "text/plain": [
              "array([433.92698542, 291.51012741, 240.71137677, 220.00048043])"
            ]
          },
          "metadata": {
            "tags": []
          },
          "execution_count": 133
        }
      ]
    },
    {
      "cell_type": "markdown",
      "metadata": {
        "id": "vgQBzivCYrdF",
        "colab_type": "text"
      },
      "source": [
        " เราต้องแปลงเอง ดังนี้"
      ]
    },
    {
      "cell_type": "code",
      "metadata": {
        "id": "sinVIEw0df4P",
        "colab_type": "code",
        "colab": {
          "base_uri": "https://localhost:8080/",
          "height": 85
        },
        "outputId": "38d45c54-8176-4634-fc78-0cf1b5be7673"
      },
      "source": [
        "np.diag(s[:4])"
      ],
      "execution_count": 65,
      "outputs": [
        {
          "output_type": "execute_result",
          "data": {
            "text/plain": [
              "array([[433.92698542,   0.        ,   0.        ,   0.        ],\n",
              "       [  0.        , 291.51012741,   0.        ,   0.        ],\n",
              "       [  0.        ,   0.        , 240.71137677,   0.        ],\n",
              "       [  0.        ,   0.        ,   0.        , 220.00048043]])"
            ]
          },
          "metadata": {
            "tags": []
          },
          "execution_count": 65
        }
      ]
    },
    {
      "cell_type": "markdown",
      "metadata": {
        "id": "HogY5d1-YwWi",
        "colab_type": "text"
      },
      "source": [
        "แปลงไปแปลงกลับ"
      ]
    },
    {
      "cell_type": "code",
      "metadata": {
        "id": "oAU5dyNGdhh0",
        "colab_type": "code",
        "colab": {
          "base_uri": "https://localhost:8080/",
          "height": 34
        },
        "outputId": "67ff2b96-aec1-4c08-901e-06bf46307553"
      },
      "source": [
        "np.diag(np.diag(s[:4]))"
      ],
      "execution_count": 109,
      "outputs": [
        {
          "output_type": "execute_result",
          "data": {
            "text/plain": [
              "array([433.92698542, 291.51012741, 240.71137677, 220.00048043])"
            ]
          },
          "metadata": {
            "tags": []
          },
          "execution_count": 109
        }
      ]
    },
    {
      "cell_type": "markdown",
      "metadata": {
        "id": "VXL85J_QYy9_",
        "colab_type": "text"
      },
      "source": [
        "พิสูจน์ว่า U, s Vh มาจาก vectors จริง ๆ ด้วยการ จับคูณกัน"
      ]
    },
    {
      "cell_type": "code",
      "metadata": {
        "id": "CQPGi-XJdjCr",
        "colab_type": "code",
        "colab": {}
      },
      "source": [
        "b = np.matmul(U, np.diag(s))\n",
        "x = np.matmul(b, Vh)"
      ],
      "execution_count": 0,
      "outputs": []
    },
    {
      "cell_type": "markdown",
      "metadata": {
        "id": "uGpYBXKzY9nN",
        "colab_type": "text"
      },
      "source": [
        "เนื่องจากเป็น เลขทศนิยม ทำให้เราเปรียบเทียบ == กันตรง ๆ ไม่ได้ ต้องใช้ np.isclose()"
      ]
    },
    {
      "cell_type": "code",
      "metadata": {
        "id": "pmQ90fq5dmBV",
        "colab_type": "code",
        "colab": {
          "base_uri": "https://localhost:8080/",
          "height": 34
        },
        "outputId": "01297775-2e29-4895-e4c0-f0bf83e5826f"
      },
      "source": [
        "np.all(np.isclose(x, vectors))"
      ],
      "execution_count": 68,
      "outputs": [
        {
          "output_type": "execute_result",
          "data": {
            "text/plain": [
              "True"
            ]
          },
          "metadata": {
            "tags": []
          },
          "execution_count": 68
        }
      ]
    },
    {
      "cell_type": "markdown",
      "metadata": {
        "id": "y7OimLcuZJVC",
        "colab_type": "text"
      },
      "source": [
        "U เป็น Orthonormal (orthogonal) Matrix หมายถึง คูณกับตัวเอง Transpose แล้วจะได้ Identity Matrix"
      ]
    },
    {
      "cell_type": "code",
      "metadata": {
        "id": "YBwAZNqwdn4H",
        "colab_type": "code",
        "colab": {
          "base_uri": "https://localhost:8080/",
          "height": 187
        },
        "outputId": "406c2a83-f851-4737-a8ca-c3107fa156a1"
      },
      "source": [
        "x = np.matmul(U, U.T)\n",
        "x[:10, :10]"
      ],
      "execution_count": 69,
      "outputs": [
        {
          "output_type": "execute_result",
          "data": {
            "text/plain": [
              "array([[ 1., -0.,  0., -0.,  0.,  0., -0.,  0., -0.,  0.],\n",
              "       [-0.,  1.,  0., -0.,  0.,  0., -0., -0., -0.,  0.],\n",
              "       [ 0.,  0.,  1., -0.,  0., -0.,  0.,  0.,  0., -0.],\n",
              "       [-0., -0., -0.,  1., -0.,  0., -0., -0., -0., -0.],\n",
              "       [ 0.,  0.,  0., -0.,  1.,  0.,  0.,  0.,  0., -0.],\n",
              "       [ 0.,  0., -0.,  0.,  0.,  1., -0.,  0.,  0.,  0.],\n",
              "       [-0., -0.,  0., -0.,  0., -0.,  1., -0.,  0., -0.],\n",
              "       [ 0., -0.,  0., -0.,  0.,  0., -0.,  1., -0.,  0.],\n",
              "       [-0., -0.,  0., -0.,  0.,  0.,  0., -0.,  1.,  0.],\n",
              "       [ 0.,  0., -0., -0., -0.,  0., -0.,  0.,  0.,  1.]])"
            ]
          },
          "metadata": {
            "tags": []
          },
          "execution_count": 69
        }
      ]
    },
    {
      "cell_type": "markdown",
      "metadata": {
        "id": "WziGQGNSZeqQ",
        "colab_type": "text"
      },
      "source": [
        "Vh ก็เป็น Orthonormal (orthogonal) Matrix เหมือนกัน"
      ]
    },
    {
      "cell_type": "code",
      "metadata": {
        "id": "pSauvzW1dqTF",
        "colab_type": "code",
        "colab": {
          "base_uri": "https://localhost:8080/",
          "height": 187
        },
        "outputId": "2860e8d4-553c-44fb-d4c7-563dd46933ab"
      },
      "source": [
        "x = np.matmul(Vh, Vh.T)\n",
        "x[:10, :10]"
      ],
      "execution_count": 70,
      "outputs": [
        {
          "output_type": "execute_result",
          "data": {
            "text/plain": [
              "array([[ 1., -0., -0., -0.,  0., -0., -0.,  0., -0., -0.],\n",
              "       [-0.,  1., -0.,  0., -0., -0.,  0., -0.,  0., -0.],\n",
              "       [-0., -0.,  1., -0., -0., -0., -0.,  0., -0., -0.],\n",
              "       [-0.,  0., -0.,  1., -0.,  0.,  0., -0.,  0., -0.],\n",
              "       [ 0., -0., -0., -0.,  1.,  0.,  0., -0.,  0.,  0.],\n",
              "       [-0., -0., -0.,  0.,  0.,  1.,  0., -0., -0.,  0.],\n",
              "       [-0.,  0., -0.,  0.,  0.,  0.,  1., -0., -0.,  0.],\n",
              "       [ 0., -0.,  0., -0., -0., -0., -0.,  1.,  0., -0.],\n",
              "       [-0.,  0., -0.,  0.,  0., -0., -0.,  0.,  1.,  0.],\n",
              "       [-0., -0., -0., -0.,  0.,  0.,  0., -0.,  0.,  1.]])"
            ]
          },
          "metadata": {
            "tags": []
          },
          "execution_count": 70
        }
      ]
    },
    {
      "cell_type": "markdown",
      "metadata": {
        "id": "7tz-jrCtZk5Z",
        "colab_type": "text"
      },
      "source": [
        "s คือ Scale Matrix บอกถึงขนาดความสำคัญของ Topic by ข้อความ เมื่อนำมาพล็อตกราฟ จะได้ดังนี้"
      ]
    },
    {
      "cell_type": "code",
      "metadata": {
        "id": "wOaq7_w1dvzz",
        "colab_type": "code",
        "colab": {
          "base_uri": "https://localhost:8080/",
          "height": 265
        },
        "outputId": "d948a615-80ed-4fd2-ac01-a9b0fd67ee7e"
      },
      "source": [
        "plt.plot(s);"
      ],
      "execution_count": 71,
      "outputs": [
        {
          "output_type": "display_data",
          "data": {
            "image/png": "[encoded data removed]",
            "text/plain": [
              "<Figure size 432x288 with 1 Axes>"
            ]
          },
          "metadata": {
            "tags": []
          }
        }
      ]
    },
    {
      "cell_type": "markdown",
      "metadata": {
        "id": "aejXb7Nnbxq8",
        "colab_type": "text"
      },
      "source": [
        "ซูมเข้าไปดู 10 มิติแรก จะเห็นว่าข้อมูลส่วนใหญ่อยู่ Topic แรก ๆ เท่านั้น"
      ]
    },
    {
      "cell_type": "code",
      "metadata": {
        "id": "in3NBvVKdxtu",
        "colab_type": "code",
        "colab": {
          "base_uri": "https://localhost:8080/",
          "height": 282
        },
        "outputId": "f328d4a3-6849-44c3-b88f-b02d82e7234b"
      },
      "source": [
        "plt.plot(s[:10])"
      ],
      "execution_count": 72,
      "outputs": [
        {
          "output_type": "execute_result",
          "data": {
            "text/plain": [
              "[<matplotlib.lines.Line2D at 0x7f77e67ae7f0>]"
            ]
          },
          "metadata": {
            "tags": []
          },
          "execution_count": 72
        },
        {
          "output_type": "display_data",
          "data": {
            "image/png": "[encoded data removed]",
            "text/plain": [
              "<Figure size 432x288 with 1 Axes>"
            ]
          },
          "metadata": {
            "tags": []
          }
        }
      ]
    },
    {
      "cell_type": "markdown",
      "metadata": {
        "id": "f-_ZpeC4cDNS",
        "colab_type": "text"
      },
      "source": [
        "ประกาศฟังก์ชัน แสดงคำศัพท์ใน vocab ที่พบมากที่สุด 8 คำ ในแต่ละ Topic ใน Vh"
      ]
    },
    {
      "cell_type": "code",
      "metadata": {
        "id": "ckPnHpUWdzS1",
        "colab_type": "code",
        "colab": {}
      },
      "source": [
        "num_top_words=8\n",
        "\n",
        "def show_topics(a):\n",
        "    top_words = lambda t: [vocab[i] for i in np.argsort(t)[:-num_top_words-1:-1]]\n",
        "    topic_words = ([top_words(t) for t in a])\n",
        "    return [' '.join(t) for t in topic_words]"
      ],
      "execution_count": 0,
      "outputs": []
    },
    {
      "cell_type": "markdown",
      "metadata": {
        "id": "J0PNbL15cqnh",
        "colab_type": "text"
      },
      "source": [
        "แสดงคำศัพท์ใน vocab ที่พบมากที่สุด 8 คำ ใน 10 Topic แรก เมื่อดูรายการคำศัพท์ ทำให้เราพอจะเดาได้ว่า ถ้าเอกสารมี Topic นี้มาก น่าจะถูกจำแนกอยู่ใน Category อะไร"
      ]
    },
    {
      "cell_type": "code",
      "metadata": {
        "id": "GtW9Mi4Ed03h",
        "colab_type": "code",
        "colab": {
          "base_uri": "https://localhost:8080/",
          "height": 187
        },
        "outputId": "584d55c5-e569-4741-e042-2188bf2e2826"
      },
      "source": [
        "show_topics(Vh[:10])"
      ],
      "execution_count": 74,
      "outputs": [
        {
          "output_type": "execute_result",
          "data": {
            "text/plain": [
              "['ditto critus propagandist surname galacticentric kindergarten surreal imaginative',\n",
              " 'jpeg gif file color quality image jfif format',\n",
              " 'graphics edu pub mail 128 3d ray ftp',\n",
              " 'jesus god matthew people atheists atheism does graphics',\n",
              " 'image data processing analysis software available tools display',\n",
              " 'god atheists atheism religious believe religion argument true',\n",
              " 'space nasa lunar mars probe moon missions probes',\n",
              " 'image probe surface lunar mars probes moon orbit',\n",
              " 'argument fallacy conclusion example true ad argumentum premises',\n",
              " 'space larson image theory universe physical nasa material']"
            ]
          },
          "metadata": {
            "tags": []
          },
          "execution_count": 74
        }
      ]
    },
    {
      "cell_type": "markdown",
      "metadata": {
        "id": "PJY6SqV13Ppy",
        "colab_type": "text"
      },
      "source": [
        "นำ 3 มิติแรก มาพล็อตกราฟ"
      ]
    },
    {
      "cell_type": "code",
      "metadata": {
        "id": "DppiaKU525xX",
        "colab_type": "code",
        "colab": {
          "base_uri": "https://localhost:8080/",
          "height": 617
        },
        "outputId": "103f1c1c-cb95-46c5-aa7c-0a4d1e3da9e7"
      },
      "source": [
        "dataset = pd.DataFrame({'Column1': U[:, 0], 'Column2': U[:, 1], \n",
        "                        'Column3': U[:, 2], 'Category': newsgroups_train.target})\n",
        "\n",
        "iris = px.data.iris()\n",
        "fig = px.scatter_3d(dataset, x='Column1', y='Column2', z='Column3', \n",
        "                    color='Category')\n",
        "fig.show()"
      ],
      "execution_count": 170,
      "outputs": [
        {
          "output_type": "display_data",
          "data": {
            "text/html": [
              "<html>\n",
              "<head><meta charset=\"utf-8\" /></head>\n",
              "<body>\n",
              "    <div>\n",
              "            <script src=\"https://cdnjs.cloudflare.com/ajax/libs/mathjax/2.7.5/MathJax.js?config=TeX-AMS-MML_SVG\"></script><script type=\"text/javascript\">if (window.MathJax) {MathJax.Hub.Config({SVG: {font: \"STIX-Web\"}});}</script>\n",
              "                <script type=\"text/javascript\">window.PlotlyConfig = {MathJaxConfig: 'local'};</script>\n",
              "        <script src=\"https://cdn.plot.ly/plotly-latest.min.js\"></script>    \n",
              "            <div id=\"31a3736d-7897-477e-8ba9-c2c1742e221b\" class=\"plotly-graph-div\" style=\"height:600px; width:100%;\"></div>\n",
              "            <script type=\"text/javascript\">\n",
              "                \n",
              "                    window.PLOTLYENV=window.PLOTLYENV || {};\n",
              "                    \n",
              "                if (document.getElementById(\"31a3736d-7897-477e-8ba9-c2c1742e221b\")) {\n",
              "                    Plotly.newPlot(\n",
              "                        '31a3736d-7897-477e-8ba9-c2c1742e221b',\n",
              "                        [{\"hoverlabel\": {\"namelength\": 0}, \"hovertemplate\": \"Column1=%{x}<br>Column2=%{y}<br>Column3=%{z}<br>Category=%{marker.color}\", \"legendgroup\": \"\", \"marker\": {\"color\": [1, 3, 2, 0, 2, 0, 2, 1, 2, 1, 2, 1, 1, 2, 1, 2, 0, 2, 2, 3, 2, 1, 3, 3, 1, 1, 2, 1, 2, 3, 0, 3, 1, 1, 0, 2, 0, 1, 0, 2, 0, 2, 0, 1, 1, 0, 0, 3, 3, 3, 1, 2, 3, 2, 1, 0, 1, 1, 1, 1, 2, 0, 1, 1, 2, 1, 2, 0, 1, 3, 1, 2, 2, 1, 2, 1, 0, 0, 2, 1, 3, 3, 0, 3, 2, 2, 0, 2, 0, 3, 1, 3, 0, 2, 0, 3, 0, 3, 2, 2, 0, 0, 3, 2, 3, 2, 2, 1, 0, 2, 3, 3, 2, 2, 2, 2, 3, 1, 3, 0, 0, 3, 1, 2, 2, 0, 2, 3, 0, 2, 1, 2, 2, 3, 1, 1, 3, 0, 2, 2, 3, 1, 0, 2, 2, 0, 0, 1, 2, 0, 0, 1, 1, 1, 3, 3, 3, 3, 3, 1, 2, 2, 2, 1, 2, 2, 1, 3, 2, 0, 3, 3, 2, 1, 1, 0, 0, 3, 2, 2, 3, 3, 0, 2, 1, 1, 2, 1, 1, 0, 0, 1, 0, 1, 3, 1, 0, 0, 3, 2, 3, 3, 0, 2, 3, 1, 1, 1, 0, 2, 0, 2, 0, 0, 1, 1, 3, 2, 0, 0, 1, 0, 2, 2, 2, 0, 1, 3, 2, 0, 1, 0, 1, 0, 2, 3, 2, 2, 1, 1, 1, 3, 0, 0, 3, 0, 3, 1, 3, 2, 2, 3, 3, 3, 1, 2, 3, 0, 2, 1, 3, 0, 2, 1, 3, 1, 0, 2, 1, 2, 2, 3, 0, 3, 3, 2, 3, 1, 0, 0, 2, 1, 0, 1, 3, 2, 2, 0, 2, 2, 1, 1, 3, 2, 0, 2, 0, 1, 3, 2, 3, 1, 3, 2, 2, 1, 0, 0, 1, 2, 0, 3, 1, 3, 2, 0, 0, 2, 1, 3, 3, 2, 0, 1, 0, 3, 3, 0, 2, 2, 2, 0, 0, 1, 0, 3, 1, 1, 1, 2, 3, 1, 1, 2, 1, 1, 0, 3, 3, 2, 0, 1, 1, 2, 2, 1, 1, 2, 1, 3, 1, 1, 0, 1, 0, 1, 1, 0, 0, 1, 0, 1, 0, 2, 2, 1, 2, 0, 1, 0, 0, 1, 2, 1, 1, 3, 0, 1, 2, 2, 1, 3, 0, 1, 2, 0, 2, 1, 0, 0, 1, 3, 2, 1, 1, 2, 1, 1, 2, 0, 0, 0, 0, 2, 2, 3, 2, 2, 2, 0, 2, 2, 0, 1, 0, 2, 1, 0, 1, 1, 1, 3, 1, 1, 3, 3, 3, 2, 2, 1, 0, 2, 2, 0, 2, 1, 3, 1, 0, 2, 2, 1, 3, 0, 2, 0, 1, 2, 3, 1, 1, 2, 0, 3, 1, 1, 3, 0, 1, 0, 1, 1, 2, 3, 3, 1, 1, 0, 0, 2, 1, 2, 1, 2, 1, 2, 2, 2, 2, 2, 3, 3, 1, 0, 1, 1, 1, 2, 2, 1, 2, 1, 3, 2, 2, 1, 2, 2, 1, 3, 0, 0, 3, 2, 2, 1, 2, 2, 2, 0, 0, 0, 3, 3, 1, 2, 2, 0, 2, 0, 0, 1, 2, 0, 1, 2, 0, 1, 1, 1, 0, 2, 1, 0, 0, 0, 3, 1, 3, 3, 0, 0, 2, 2, 0, 1, 2, 3, 1, 1, 3, 0, 2, 1, 0, 2, 3, 2, 2, 2, 1, 2, 1, 2, 2, 3, 1, 3, 1, 2, 1, 1, 0, 1, 1, 3, 0, 2, 1, 0, 0, 0, 2, 3, 1, 3, 1, 2, 2, 3, 1, 1, 0, 1, 3, 2, 2, 3, 2, 0, 2, 1, 0, 1, 2, 1, 1, 0, 3, 3, 0, 2, 3, 1, 0, 2, 1, 3, 2, 3, 0, 0, 3, 1, 1, 1, 2, 1, 2, 0, 2, 2, 3, 1, 1, 0, 2, 1, 1, 1, 3, 1, 1, 0, 0, 1, 3, 2, 2, 3, 1, 1, 2, 3, 1, 1, 2, 2, 0, 0, 2, 2, 2, 3, 0, 2, 2, 1, 3, 3, 1, 2, 3, 0, 0, 1, 0, 0, 2, 3, 2, 1, 3, 3, 3, 1, 2, 1, 2, 3, 2, 3, 2, 0, 1, 2, 3, 2, 2, 1, 1, 0, 3, 3, 2, 1, 0, 1, 3, 2, 1, 3, 1, 3, 2, 0, 3, 1, 3, 2, 0, 0, 1, 0, 0, 0, 1, 3, 3, 3, 3, 1, 1, 2, 1, 2, 3, 0, 0, 3, 3, 2, 0, 2, 0, 2, 1, 2, 0, 1, 0, 3, 2, 0, 3, 0, 0, 1, 0, 2, 0, 2, 1, 0, 2, 1, 0, 1, 0, 1, 2, 3, 2, 1, 3, 0, 0, 0, 1, 2, 1, 1, 3, 0, 0, 2, 2, 1, 3, 2, 3, 2, 1, 3, 2, 2, 2, 2, 1, 1, 0, 3, 1, 2, 2, 0, 2, 3, 2, 2, 0, 1, 2, 3, 2, 1, 3, 1, 3, 2, 2, 2, 2, 2, 2, 0, 2, 1, 0, 2, 2, 1, 2, 0, 0, 3, 1, 0, 1, 2, 0, 0, 2, 0, 2, 2, 3, 1, 2, 3, 1, 2, 0, 0, 1, 3, 0, 1, 1, 2, 2, 2, 1, 2, 1, 3, 1, 3, 2, 1, 1, 1, 0, 1, 1, 0, 0, 2, 3, 0, 0, 1, 1, 2, 0, 2, 2, 1, 2, 0, 2, 2, 1, 3, 3, 2, 3, 3, 3, 0, 1, 1, 1, 0, 3, 0, 2, 0, 1, 0, 0, 0, 2, 3, 2, 2, 3, 1, 1, 1, 3, 3, 1, 0, 1, 3, 2, 0, 0, 0, 0, 2, 1, 0, 1, 2, 2, 2, 1, 1, 2, 0, 3, 2, 3, 3, 1, 0, 2, 0, 2, 1, 0, 2, 0, 0, 2, 3, 1, 1, 2, 2, 2, 0, 1, 3, 0, 2, 2, 0, 2, 3, 1, 1, 1, 0, 1, 0, 3, 1, 2, 1, 1, 0, 1, 0, 1, 0, 1, 0, 1, 1, 0, 2, 2, 3, 1, 3, 0, 3, 3, 1, 3, 1, 3, 2, 3, 3, 1, 2, 1, 3, 1, 1, 2, 3, 0, 1, 1, 1, 0, 0, 0, 2, 3, 1, 1, 1, 1, 0, 3, 0, 0, 1, 2, 2, 0, 2, 1, 2, 0, 1, 0, 2, 1, 1, 0, 0, 2, 0, 0, 1, 0, 2, 1, 0, 0, 3, 3, 2, 1, 2, 2, 0, 0, 1, 3, 3, 0, 0, 1, 3, 3, 1, 3, 2, 2, 2, 2, 1, 2, 1, 2, 3, 2, 1, 0, 0, 1, 2, 2, 0, 3, 3, 0, 2, 0, 0, 1, 0, 2, 2, 2, 1, 3, 3, 2, 2, 2, 0, 0, 1, 1, 3, 3, 2, 1, 2, 2, 0, 1, 1, 0, 2, 3, 1, 2, 2, 1, 1, 0, 2, 2, 0, 2, 1, 1, 1, 2, 1, 0, 0, 2, 3, 3, 2, 0, 2, 2, 1, 2, 3, 1, 3, 1, 2, 2, 2, 3, 2, 0, 1, 1, 2, 2, 1, 0, 1, 1, 3, 0, 2, 0, 0, 2, 0, 2, 2, 1, 3, 2, 3, 0, 3, 0, 1, 3, 0, 2, 1, 1, 0, 2, 2, 2, 3, 2, 0, 3, 1, 1, 2, 0, 0, 3, 2, 3, 1, 1, 3, 0, 2, 1, 2, 1, 2, 3, 1, 2, 0, 0, 1, 1, 2, 2, 1, 2, 2, 1, 1, 2, 0, 2, 2, 2, 0, 3, 1, 0, 2, 1, 1, 1, 2, 2, 1, 3, 0, 1, 0, 1, 0, 1, 2, 0, 1, 1, 0, 2, 1, 0, 2, 0, 2, 0, 0, 1, 1, 1, 1, 3, 1, 3, 2, 0, 3, 2, 2, 0, 1, 1, 0, 1, 0, 0, 3, 1, 2, 1, 2, 3, 2, 1, 2, 1, 3, 0, 0, 2, 0, 1, 1, 1, 3, 1, 0, 2, 1, 0, 2, 0, 2, 1, 2, 1, 0, 0, 3, 2, 2, 0, 2, 1, 1, 1, 0, 3, 2, 1, 0, 3, 0, 2, 3, 0, 0, 3, 3, 1, 2, 1, 2, 3, 1, 1, 0, 3, 0, 2, 1, 0, 1, 1, 2, 3, 2, 2, 1, 1, 1, 3, 0, 1, 1, 3, 1, 3, 2, 2, 3, 0, 2, 2, 3, 2, 2, 3, 0, 0, 2, 2, 3, 2, 0, 1, 1, 1, 3, 3, 0, 2, 3, 3, 3, 1, 1, 1, 2, 0, 2, 0, 3, 3, 0, 3, 1, 0, 0, 3, 0, 2, 0, 3, 2, 2, 0, 1, 0, 1, 0, 1, 0, 1, 0, 2, 2, 3, 0, 2, 1, 0, 0, 3, 0, 3, 2, 3, 0, 2, 1, 2, 2, 3, 3, 1, 0, 1, 0, 2, 1, 1, 2, 0, 2, 0, 0, 2, 2, 1, 3, 3, 1, 2, 3, 3, 2, 0, 0, 2, 3, 0, 2, 3, 2, 1, 3, 2, 1, 1, 0, 1, 1, 2, 2, 3, 1, 0, 1, 0, 1, 0, 0, 2, 1, 1, 2, 2, 0, 3, 3, 2, 0, 2, 1, 2, 1, 2, 2, 3, 2, 0, 1, 1, 1, 2, 2, 1, 1, 3, 0, 0, 1, 1, 3, 2, 2, 2, 0, 0, 1, 1, 0, 2, 0, 1, 1, 3, 1, 0, 1, 2, 1, 2, 0, 2, 2, 2, 0, 3, 0, 3, 2, 3, 2, 1, 0, 3, 2, 0, 2, 2, 0, 3, 1, 0, 1, 0, 1, 1, 0, 1, 1, 3, 3, 1, 2, 1, 1, 3, 1, 2, 1, 2, 0, 3, 2, 0, 2, 1, 0, 1, 1, 1, 0, 1, 0, 2, 2, 1, 2, 3, 1, 1, 3, 1, 0, 3, 0, 2, 2, 2, 0, 0, 0, 0, 0, 2, 3, 1, 1, 0, 2, 0, 0, 1, 3, 1, 3, 0, 0, 3, 0, 0, 2, 3, 3, 2, 0, 1, 3, 3, 3, 2, 3, 2, 1, 0, 0, 2, 2, 1, 1, 0, 1, 1, 3, 2, 2, 1, 1, 2, 1, 2, 2, 1, 1, 2, 1, 1, 2, 1, 2, 2, 3, 2, 0, 2, 2, 0, 2, 2, 2, 3, 2, 1, 1, 3, 3, 3, 1, 1, 0, 2, 0, 1, 1, 3, 2, 2, 1, 2, 1, 1, 0, 1, 3, 3, 1, 1, 3, 2, 0, 0, 1, 1, 3, 3, 3, 1, 3, 2, 2, 2, 1, 3, 3, 1, 2, 2, 1, 1, 0, 2, 2, 0, 1, 0, 0, 2, 1, 2, 1, 1, 2, 0, 0, 3, 2, 3, 0, 2, 1, 1, 2, 2, 1, 1, 0, 1, 3, 1, 1, 1, 1, 3, 1, 3, 2, 1, 1, 0, 3, 3, 0, 2, 0, 1, 0, 1, 1, 2, 1, 2, 1, 1, 1, 2, 3, 3, 1, 2, 2, 3, 1, 2, 3, 3, 3, 0, 2, 1, 0, 2, 0, 1, 2, 1, 2, 0, 1, 0, 2, 1, 0, 2, 0, 1, 0, 2, 3, 2, 2, 1, 2, 3, 1, 0, 0, 3, 3, 0, 1, 1, 1, 1, 0, 1, 3, 3, 2, 1, 3, 2, 3, 2, 0, 3, 2, 1, 3, 2, 1, 3, 0, 3, 0, 0, 2, 0, 2, 2, 1, 0, 2, 0, 2, 1, 1, 1, 0, 2, 1, 2, 0, 3, 0, 2, 1, 1, 2, 3, 2, 1, 1, 1, 0, 3, 2, 1, 2, 0, 2, 1, 0, 2, 1, 0, 1, 3, 1, 2, 2, 1, 2, 3, 2, 3, 2, 3, 2, 0, 0, 0, 2, 3, 2, 2, 2, 2, 1, 1, 2, 2, 1, 0, 2, 1, 2, 1, 1, 3, 0, 2, 2, 0, 2, 2, 0, 3, 1, 2, 3, 3, 2, 2, 0, 0, 1, 3, 2, 1, 1, 3, 2, 0, 2, 0, 2, 2, 1, 1, 3, 0, 2, 2, 0, 3, 3, 3, 3, 3, 3, 0, 0, 3, 2, 0, 0, 2, 3, 3, 3, 0, 0, 0, 1, 1, 1, 0, 0, 0, 1, 2, 2, 0, 1, 2, 0, 1, 0, 2, 3, 3, 2, 3, 0, 0, 2, 1, 2, 1, 0, 0, 2, 2, 0, 0, 2, 1, 2, 2, 1, 0, 1], \"coloraxis\": \"coloraxis\", \"symbol\": \"circle\"}, \"mode\": \"markers\", \"name\": \"\", \"scene\": \"scene\", \"showlegend\": false, \"type\": \"scatter3d\", \"x\": [-0.004779907940239303, -0.00022129966861311745, -0.000636934009608528, -0.0018906297764763724, -0.00035591171677061594, -0.001189216693107847, -0.0012439066989321855, -0.0024860373411030503, -0.0006663599353416049, -0.0026816894542825913, -0.0022202605373849034, -0.0014050696331640241, -0.0010762251629429687, -0.00023323115324592884, -0.002290704606883363, -0.0001956629643487091, -0.004802749909408385, -0.0009647578794625286, -0.0008154813292497149, -0.001510789039479811, -0.0003074102666573325, -9.600867073862319e-05, -0.00013947516976712843, -0.0052344395630636335, -0.003444074256462125, -0.0029493627386088165, 0.0, -0.0007487891054917026, 0.0, -0.0005473968757196391, -0.0007944330699625811, -3.573670862710188e-05, -0.004919791860785497, -0.019816371272500435, -0.0007191779584328896, -0.001050165354002348, -0.0005825170699715257, -0.0002739351919003779, -0.0005960385337255097, -0.0013224102666973504, -0.001047559348868773, -0.0023697200237724606, -0.0033537582601348283, -0.000864755661360594, -0.001383351534429887, -0.00023258744156836743, -0.00282699997331403, -0.002302568367041809, -4.130561722725079e-05, -0.0005957847770043501, -0.00254127418812431, -0.0006889261317618931, -0.012749171429144014, -0.0039598039674114335, -0.0006463084452309053, -0.0019972577657035367, -0.0013811957574025823, -0.0007685863469414568, -0.0015170114290584521, -0.0020611429045005775, -0.0011169466273402125, -6.559270003064611e-05, -0.0012586528717500704, -0.0006933446919383998, -0.0029036454012780657, -0.002542969467226671, -0.0011818247584462868, -0.0008246410799094415, -0.0010809490336045624, -0.0003921003979867384, -0.002589499648320163, -0.0003206943401229326, -0.0009742368710665907, -0.0019878627466519325, -0.0015715725231384454, -0.000905566166636927, 0.0, -0.00036371838304048037, -0.001236194942645969, -0.00026734372904705056, -0.0014082370718789445, -2.0240195668175323e-05, -0.028364659496392622, -0.0037182644158805277, -0.00046878048951824925, -0.0007696897449048816, -0.0003217785873619128, -0.0024811891467574634, -0.00075658197575515, -0.00014529971299696016, -0.0032250141826872408, -0.0004431769229658481, -0.00016302684372537665, -0.00039600792774928997, -0.00033002842556789083, -0.0016400364303388764, -0.00016756208743993635, -0.00044271925012560377, -0.0008525523073867387, -0.00030818990210238444, -0.003877931314832923, -3.968110585208085e-05, -0.0010217853925807176, -0.0008173751726475957, 0.0, -0.002672614779612011, -0.0022161564603152308, -0.003252402265839685, -6.048399941569931e-05, -0.0011038791029811443, -0.00026414410607470844, -0.00028044093151636244, -0.0002548475153857678, -0.00014767698889007387, -0.00033177754705580816, -0.0030877701795125655, -0.0005151780430787036, -0.0009129231578004138, -0.0006932381420157504, -0.005774358082670124, -0.0011501657908894577, -0.0007962204009370767, -0.0007792122632389712, -0.0012740187039025617, -0.002274392464017656, -0.000115577541412664, -0.00893111074681554, -0.004296678354624306, -0.00021842810934126253, -0.0011701489818662935, -0.0016035737868386806, -0.06130002077317797, -0.0004441166395192955, -1.0461228364220346e-07, -0.001669597728665965, -0.0007025224319054519, -0.0005160982052157488, -0.0002484666416174707, -0.005602624363414458, -0.004783681372915971, -0.0026586815881886553, -0.000994674390161652, -0.0013234499736862505, -0.004714240883120266, -0.050467938598223475, -0.00014913628969446432, -0.00020405907979758115, -0.00039916931959305786, -0.001070528479812696, -0.0011344002641514956, -3.854883798291503e-05, -0.0040742795421525955, -0.00041870901521639587, -0.0020851018044972503, -0.010183219500624794, -0.0012702795847435795, -0.0011651864405164442, -0.00012460835610743245, -0.000814017895574746, -0.0012550367878408307, -0.008464938651393743, -0.0003696538344794657, -0.028550675102123255, -0.0009992759658445198, -0.002178776936253268, -0.00029118881431131435, -0.0043289057890169, -0.0061793448954630325, -0.00015593688605879087, -0.0015877022289921695, -0.00010275575740098248, -0.0022841304120218217, -0.003102802392569078, -0.001494408804507032, -0.0010598311563349966, -0.0009813516889240596, -0.000574029610112535, -0.00024864790102405523, -0.0002654841513415306, -0.00017675069627603193, -0.0007604061679809346, -0.0003532261713454611, -0.0010856070026341068, -0.0025580276110862255, -0.03277076853562137, 0.0, -0.001173195115448512, -0.003477207478366119, -0.006598197215155248, -0.001035211020746972, -0.0021124665804417983, 0.0, -0.001105262426934032, -0.0006093360712693844, -0.00034694697101902934, -0.0008243537021081465, -0.0005812873825067805, -0.0005233975035932556, -0.00027604121281261533, -0.0001833425888090288, -0.00022039582162516254, -0.0004637268246032635, -0.0010212440250835098, -0.00021057454369810292, 0.0, -0.003460999701070422, -0.0008373043935248418, -0.00133444939558203, -0.0021799144692347633, -0.0005506425494416131, -0.0006480468926102085, -0.004382488652515789, -0.0006810965153318126, -0.00010123886449703876, -0.003573190216440407, -0.004694311554618611, -1.2131209867916736e-05, -0.02190490646078642, -0.002213370614468584, -0.0006259067141988649, -0.0032125640449375786, -0.001404282977790593, -0.001090447298574963, -0.001279246721570252, -0.0035510781914609856, -0.0008451621839199237, -0.00019711064709033456, -0.0007835927932771058, -9.335397431644275e-06, -0.00452661340344184, -0.001089897664043882, -0.0005292699322026936, -0.002107650476071016, -0.0006471765057724805, -8.400141055764947e-07, -0.005920018076175583, -0.0012382353976087028, -0.0009646301270096837, -0.00040029696937788175, -0.0020526464787396694, -0.0024735102573699634, -0.0003828360395165927, -0.0007139489485941476, -0.0009669206451018936, -0.00034317689811670925, -0.00016008111376136875, -0.001018831647985737, -0.004311470268353473, -0.004011851350997711, -0.0008582304129446273, -0.0005878984000294632, -0.001150461781375526, -0.0030090601585259823, -0.0001226552300013469, -0.002720849113652952, -0.0003810574517343212, -0.005800925092266323, -0.00017621165517948175, -0.0011750697767606783, -0.002995620977828389, -0.0024533523753829676, -0.0003560936875771179, -0.006104033209785017, -8.273611235348291e-05, -0.001206341369324543, -0.002532058986473789, -0.0029450150107448183, -0.00011920780108801801, -9.090908787078523e-05, -0.000267584342390572, -0.00046536634896719454, -0.00013479664442333272, -0.007821481671208148, -0.00019792043216037804, -0.0037642134800881756, -0.0006972071051462255, -0.0007038799582328756, -0.0012847690262192473, -0.00042242591067329793, -0.0001919211169914004, -0.000945937866970874, -0.005640305307720061, -0.0008658796248046062, -0.001646440597935187, -6.43977894983758e-05, -0.011479977628723806, -0.0004295580960165569, -0.0012752343334112171, -0.00029889601915328507, -0.0003582398109114866, -0.006377304316158497, -0.0008463718212577544, -0.0032036333775210543, -0.0009646217205875108, -0.0008076927703863069, -0.0013624137851350937, -0.0023266524762694876, -0.0030833412401094526, -0.001614064729644189, -0.0008461763693690552, -0.0005426043146509696, -0.0006591264610981773, -0.00020975802956572752, -0.0002929288298905481, -0.00020985108803330796, -0.002513024881127444, -2.2256988145501626e-06, -0.0014003329046781356, -0.002465156147659191, -0.0011397265223423909, -0.000991318840208548, -0.00015047754716350473, -0.0017383911367132004, -0.0021086082671089444, -0.000301542981459315, -0.00021775041260258844, -0.0008154356098702025, -0.005847721962974886, -0.004697655222774102, -0.002033634395148627, -0.0018012707057334654, -0.0011770506463452393, -0.0008597716542723009, -0.009655477129574925, -0.0005334260640209706, -0.0005238901730582096, -0.0006743763601071779, -0.00035947056923299817, -0.0001070075874047268, -0.0013912024482686776, -0.00036736647587854197, -0.0002621448252175739, -0.00034138282554750394, -0.002276848806797937, -0.0006895958902034453, -0.00025595666336875755, -0.0020286345695145294, -0.0011084526054061573, -0.0011065957819715205, -0.0007902689712294237, 0.0, -0.0023748406206171345, -0.0007016372245315816, -0.0015221657941000759, -0.00019543142967722485, -0.0008591550418419471, -0.0006518802500580179, -0.0008605084861271991, -0.00034119591321892624, -0.0008981947335570585, -6.94730858254804e-05, -0.0019120360183756478, -0.0017000456997562556, -0.002000937427843956, -0.0009322832781276958, -0.0007807977118589029, -0.001623227561335094, -0.0007579547217730755, -0.0014948576143094053, -0.0001969401628153618, -0.0008224751204089876, -0.002043043782799656, -0.0022549272460085134, 0.0, -0.0009351991453221141, -0.00030939769876243755, -0.0011374816566039575, -0.0019654198948241787, -8.547156690752291e-05, -0.0010258633392514099, -0.0018807330186473917, -0.000852228361584062, -0.004582156036140736, -0.0007148001076787107, -0.0021019091362333275, -0.0012470141817994003, -0.002211863731744429, -0.0001321927589128362, -0.0033051522190095657, -0.000438685928054977, -0.0004271945937264916, -0.001809149660523087, -0.000575568593655521, -8.702689175181962e-05, -0.0041350388560578875, -0.0006628791979183356, -0.002650566696915706, -0.005335291390653788, -0.0012809613233833077, -0.010617842200360736, -0.000870624478589053, -0.000273439562824838, -0.0033812720498896287, -0.0028369634839750997, -0.0008071868091999163, 0.0, -0.0013040256362164859, -0.0023333917672639054, -0.002034108099087894, -0.00015987473672826098, 0.0, -0.0031321129110119645, -0.0006241971015986735, -0.00048089198039191246, -0.0026803617976598514, -0.0019520038618479234, -0.0025863979897810157, -0.002774210769468426, -0.001457399051961765, -0.00012127401746261353, -9.364037541385349e-07, -0.0011912819437140028, -0.0009390592723910388, -0.0005997933367555577, -0.000545837676518143, -0.0013461333641731732, -0.0019068440026577128, -0.000482455103022961, -0.0018059231561931486, -0.0003411662273882979, 0.0, -0.0026510543945158786, -0.0010480270132675904, -0.010463157090398127, -0.0010282728038034938, -0.0029537428317082835, -0.0027983761204363054, -0.0002830897610888216, -0.0011646198604853945, -0.0004589121348487682, -0.0012043460000533588, -0.002716225617226848, -0.0015599648211865932, -0.00010525090038807911, -0.002321170610971745, -0.004080213411181414, -0.00029514024149702165, -6.43204666179211e-05, -0.0041309374554936995, -0.0018529570419830931, -0.00030891030168567874, -0.0007223113710909469, -0.0013720524418063581, 0.0, -0.0021782770681884798, -0.00034389390077025944, -0.00038417823858910425, -0.002003885833111135, -0.000260080566705992, -0.001598618066074728, -0.0006939202871507369, -0.0029080469970639415, 0.0, -0.001542622886876642, -0.009746213026921998, -0.0011093927847632345, -0.0034222540415868334, -0.000546869084252029, -0.0014353068317992487, -0.0028411564950174954, -0.0030919856777554475, -0.0014300311365008987, -5.193056871065754e-05, -0.009674414956658526, -0.0003952545764696494, -0.00013405276835590658, -0.0009535315975363728, -0.004500111937980506, -0.0016777789835750248, -0.001583519394439674, -0.0013701165664372743, -0.0021546582938626367, -0.0011791110747164863, -6.670508745091751e-05, -0.006042089110598327, -0.0018913766785661132, -0.0022507592541402845, -0.000299053810614544, -0.0005423303415278938, -0.006218670534296619, 0.0, -0.02256003364921298, -0.002316803747058194, -0.0003247491798263584, -0.0015445716101248888, -0.00378963538127554, -3.3677878373645964e-05, -0.005692847971384185, -0.0012985606478730924, -0.0023855333618232524, -0.0018284670020700135, -0.0003532244858641272, -0.0004468510906648549, -0.0010128970180233862, -0.00011718792149104505, -0.001835744230524738, -0.0005976669485032386, -0.0013169342293267196, -0.00049154148271281, -0.006152460530941987, -0.0005441117706875957, -0.002564446143928072, -0.0024873117681892343, -0.006466683202962523, -0.004893640791569564, -0.0013568382692380888, -1.624448738501423e-05, -0.0007123972390928919, 0.0, -0.0011789359162888314, -0.0002560151247918636, -0.0004967453617032518, -0.00023444797758753454, -0.0021059824965798508, -0.001710488429873749, -0.001517882996317272, -0.003242950979278952, 0.0, -0.027974686845020094, -0.0006350509094583885, -0.004613314830511075, -0.004028089278138441, -0.0009134601281430006, -0.0003090760473770266, -0.000974346526646223, -0.0009181483409046476, -0.0038139875883265563, -0.0008272030295304596, -0.001871154448378245, -1.8487874448300054e-06, -0.0003351451403095017, -0.009499077603019556, -0.0025109692703626247, -0.0012562747280106868, -0.0032687817427104002, -0.008304174316127684, -0.0008504510171864814, -0.00438375261108461, -0.00018326683194579203, -0.0005749209035638973, -0.0010761291851028145, -0.00040716001465006854, -0.0012385654198938504, -0.0011338400174496447, -0.00013640311919769726, -0.0015509616310923045, -0.0013159215197536323, -0.003707051400323858, -0.0017491074885629752, -0.000247126775252029, -3.9412390840988346e-05, -0.00013620732028125026, -0.006634714449344514, -0.04799809024306487, -2.530022782228372e-06, -0.010733281884379773, -0.000548286824743242, -0.004283566244017018, -0.0085133050579229, -0.001592949680117042, -0.005512886796860699, -0.004158492677652957, -0.0012479676628760887, -0.0013153076704420527, -0.0034027026523377147, -0.001390444378320713, -0.00921911733993171, 0.0, -0.0018494439529240763, -0.023329195037757634, -0.001005001518638329, -0.0019824646247695262, -0.0010155640331676757, -0.008504252318960445, -0.00018918161345636285, -0.0010833030223719817, -0.001850887390778704, -0.0034838668867724215, -0.0005033342277547426, -0.00046029246735595185, -0.0006319737010386545, -0.0014683101510558575, -0.0026216160449157293, -0.00042479156056714933, -0.0006077789000341774, -0.0037965504363176314, -0.00038540422211417845, -0.00024069584495227685, -0.0014336844536325462, -0.0013417503312579573, -0.00011524915153773116, -0.00028348057462788983, -0.00020480821423617907, -0.001080216722207858, -0.0008240698249786986, -0.0002567157054970475, -0.0017562470715374678, -0.0010645872847926598, -0.007411118005968018, -0.0003361728658668451, -0.0005193937244287084, -0.0013429248190628277, -0.00046420233363859634, -0.001007146466599281, 0.0, 0.0, -0.000347027886791939, -0.005658208413776603, -0.0013260907164402865, -0.0002125999723429441, -0.0004679264488318412, -0.002708454754559098, -0.001722593799288586, -0.003019279485829072, -0.0017814093666665921, -0.0007224989592646347, -0.0005274211308201808, -0.0016492044804820368, -0.004408263077053572, -5.740453833028654e-05, -0.0002469983932244207, -0.0005227751729914667, -4.9794543765236944e-05, -0.01244145414260115, -0.0012809659955638122, -0.0024638012109714676, -0.0011839752423783727, -0.0012577515486894876, -0.001216625838573408, -0.00018302104254836499, -0.0007233214081499525, -0.001107550974147528, -0.0005666481221611805, -0.001039487319514577, -0.002372466234859181, -0.00028071026141425124, -1.048518016076047e-05, -0.004253445904983136, -0.007496844885892368, -4.6163758470570745e-05, -0.005623293680840626, -0.009780829136907594, -0.00019934575770555788, -6.697020049013704e-05, -0.0002985039734674154, -0.0015160643305480235, -6.777784691016159e-05, -0.0008476996463485409, -0.0020260839432164166, -0.001110377102504813, -0.00028603210135199643, -0.0023876352632436993, -0.0028399740340644465, -0.00011588347418428018, -0.0007225604699017538, -0.0008658387933713808, -0.00022457738767210045, -0.0006970726922790211, -0.0005870211057916952, -0.002236155675338855, -0.0008720005544396833, -0.0009818372117123327, -0.0009242034173337197, -0.0005198418599624119, -0.0007419783838293658, -0.0029340616215075615, -0.0001443086547800318, -0.005681937220386033, -0.0020526425657670603, 0.0, -0.0033376742968427107, -0.0007490393969521209, -0.00022490320171867715, -0.00016425432600554655, -0.0013392458123045864, -0.000935168946462572, -0.00018424771822086637, -0.018090989085710583, -0.0015152838202283723, -2.2161115036679577e-05, -0.0019207486575782144, -0.000528390609750112, -0.0029578140057612986, -0.0018016626386755353, -0.00019919031017676223, -0.006621584267009345, -0.000453935903695233, 0.0, -9.809070207890087e-05, -0.00031430702293583086, -0.00028186499065948657, -0.004638549518355648, -0.00014912070455954705, -0.0001622951254465275, -0.0003276537688928524, -0.015467807557444008, -0.001937984053746241, -0.005388498363584463, -0.022664116051987735, -0.0023305716921790476, -0.00027537212464415174, -0.0026247263215813353, -0.0017790656591778421, -0.0004446355208130843, -0.000910090088968381, -0.0003943420500221579, -0.0013564477627731224, -0.0004982828303781592, -0.007810302320164153, -0.0023334477530319066, -7.873430348441354e-06, -0.00011611730508884794, -0.0003242872985803973, -0.0006381702774211781, -0.00012877413087954872, -0.0022155806105187198, -0.0004054364660806834, -0.00214205733085787, -0.0004128103989431296, -0.0007632875235905446, -0.0033527624034297887, -0.0009984148056032937, -0.0030758068363524777, -0.0003340181540833025, -0.0009089181086661591, -0.0008150049912137748, -0.00016668469725406853, -0.0012257873714401617, -0.003413962047026636, -0.011802739377953023, -0.00014291428309451054, -0.0012468195985116846, -0.006614014227378803, -0.0014159676416879972, -0.0005466727067124804, -0.00045829408544596865, -0.00010278716767173594, -0.001011700764517793, -0.0012527638218410662, -0.0002761935990168793, -0.0005585273701504654, -0.002443895716990814, -0.0018305363725176368, -0.00031357932175912274, -0.0026837645224600994, -0.0006191702588480895, -0.00900820857496569, -0.0010842089332098498, -0.000706805226495011, -0.0005543120818259793, -7.600287408796083e-05, -0.0003339783301462744, -0.0007307965653323763, -0.0010157542429742588, -0.002541760056990287, -0.0004723488052246756, -0.0005631855840804089, -0.0036587360755828083, -5.653104750082446e-05, -0.0012523185235290004, -0.0005496515024394069, -0.0002777133541149762, -0.0009285171414579123, -0.0004487420734946192, -0.0036089976899644697, -9.667304527569023e-05, -0.0008007285318209249, -0.0032334046360698774, -0.0020475405304284876, -0.01083924118087871, -0.0002544396631174227, -0.003692343213659207, -0.0009365820678770405, -0.0005441326580360186, -0.00591610267532127, -0.0032816994988609403, -0.002053383384841691, -0.00017028384340745612, -0.00044854629575010255, -0.007223816257423181, -0.0002385343168136193, -0.0016659996332641094, -0.00013381292539637623, -0.002334568605643148, -0.003739799606375393, -0.001455624218934786, -0.0009607841363104488, 0.0, -0.0009189407380957432, -0.0009638786236335298, -0.0005014464172441009, -0.0016350230366009813, -0.003828695757759998, -0.004033558839622191, -0.00010223699514912333, -0.004964149582406332, -0.001235962192453524, -0.004426723562109228, -0.005700706707676236, -0.0020586995032208337, 0.0, -9.808054569914305e-08, -0.0033475177213496614, -0.0006743562009787207, -0.0008301051261134443, -0.001118132617255458, -0.0007305440990774316, -0.0012102377827036606, -0.0004704615852222118, -0.0005317545163611155, -0.000830843437526527, -0.0003285421796898331, -0.00010591892247848947, -0.0026698867925868965, -0.001763242395360922, -0.001777986849304936, -0.0014492385046438957, -0.00012277544605135456, -8.589898985174321e-05, -0.0009296593052123565, -0.007414862137526836, -0.0031636179160282355, -0.0007077257639253388, -0.0005140660711585906, -0.0014947202974604763, -0.0011162099272461494, -0.001453739035196877, -0.00011643454467344914, -0.005083743339623922, -0.003709801097516492, -0.0005384672074114336, -0.0010882044599902635, -0.003829632953005637, -8.94215538231719e-05, -0.0006250716658662148, -4.58209797463568e-05, -0.0013777424186488918, -0.0012942176803143455, -0.00047785225209028535, -0.1382584134333382, -0.006599959694727846, -0.0012851277371689416, -0.0014592907890490102, 0.0, -0.0008808891331504111, -0.0002095579664813383, -0.001977540595243082, -0.001169416299474063, -0.01064510880828808, -0.0009888254339623938, -0.0022658091186778242, 0.0, -0.00019047187029391246, -0.0008383283217272702, -0.00015685477807391243, -0.000648213508050242, -0.0006020190076268097, -0.0002873602321512659, -0.0004038457960427944, -0.002434117392365025, -0.0008011650911647749, -0.000640319975692152, -0.0002267246706160051, -0.0002713522136773028, -0.0009928114410384511, -0.00041929607607336505, -0.0006975987144744856, -0.002686564124977444, -0.015148828607011807, -0.00227578275306227, -0.0005805875207866302, -0.0001456122330903842, -0.001886069196306269, -0.010309727683870874, -0.05162755726526492, -0.0076308856262164056, -0.0008866759093180846, -0.002306489996919748, -0.001051604076583427, -0.002149646586049702, 0.0, -0.001337601956082821, -0.002129113993878061, -0.00038276330877448953, -0.0009926930930010535, -0.00016733944883596508, -0.0006467443963648953, -0.0009645670753549511, -0.004882326589881378, -0.000963101648618986, -0.0017233302227613635, -0.0008555523548318848, -0.0011959530252415604, -0.02669089740115667, -0.0012058696797040388, -0.0020660491649632903, 0.0, -0.005932092338153021, -0.0018752464650645792, -0.0006604616739303617, -0.0020715151497236015, -0.00027065857760508535, -0.0008109641557344854, -0.0009614924259026414, -0.00024170557306808487, -0.0018668348436467058, -0.004300898847647961, -0.002046175695497923, -2.667973903373222e-05, -0.0011595211220985396, -0.008281701388881742, -0.0010667510715037837, -0.004956558402380448, -5.09530739759778e-07, -0.0014255039805113748, -0.0002399821904875475, -0.03259692324955171, 0.0, -0.0006983047234621238, -0.00011787353457009379, -0.0008028190477790598, -1.6221510011866386e-07, -0.0007403390822019098, -0.00024284698930551586, -0.0010527220277050857, -7.192289223441937e-05, -0.0017519625204314884, -0.0010571046846583486, -0.0005940653060994827, -0.002492789877817612, 0.0, 0.0, -0.0010451977830052178, -7.597007872956293e-05, -0.0024297498784222756, -8.097998355660817e-05, -0.0005628889824846417, -0.0003193260680433556, -0.00017655113742918218, -0.0008069077724640773, -0.0016694608906508079, -0.0017093455053993488, -0.0013412003530738753, -0.000962839379821704, -0.0011790453141482576, -0.033586665070814065, -0.00013616016781003645, -0.00035205299651672146, -0.001363983100855616, -0.005388863033164705, -0.0022473978565973746, -0.00039356398032015734, -0.0014815877894696359, -0.0007713072429869059, -0.0013628765599507707, -0.0015432921351457617, -0.002873453175640581, -0.0007343942420088536, -0.00019493267962855331, -0.000298215037134617, 0.0, -0.0003408579960698788, -0.0006797095315527486, -0.0009175500641413752, -0.0013195867972847532, -6.400010052082911e-05, -0.00965494471228571, -0.0017230740393388076, -0.0026929601354734544, -0.002095785184905508, -0.0016055310707181326, -0.0042228498454482755, -0.005532205793405402, -0.01345772043424728, -0.0018364018925795856, -0.0010251875116134266, -0.008226427092150096, -0.0032220547846084175, -0.000526529594132526, -6.741269913434105e-05, -0.0008025940734995425, -0.009060172880847487, -0.0018510863452856911, -0.003537809169283674, -0.0001674011738753296, -0.00019961042944527334, -0.0006685884261109935, -0.006790316963613193, -0.0007034333058798501, -0.0060673885542475315, -0.0009389752296646489, 0.0, -0.007923731377865024, -0.0007243092653342366, -0.00034449707362434396, -0.0010073324402905608, -1.1941601052513333e-25, -0.0009622467350309321, -0.005409574145840975, -0.0007459710291500338, -0.0025798326267653746, -0.0017800720515946638, -0.0026879481272304995, -0.0025839184421053343, -0.0001426702114227994, -0.0007414894896324713, -0.00051619595122496, -0.00031000541137040874, -0.0003864991530189038, -0.002246339819482639, -0.0001244945060772946, -0.0007969498563221003, -0.0072413881633629894, -0.0015692338714303714, 0.0, -0.0026325906399429153, -5.1549190597144164e-05, -9.442665134086179e-05, -0.003353504238775586, -0.005233304102041171, -0.0019674608201485405, -0.0005045321985707869, -0.0012508813354535813, -0.00138619819106973, -0.0007071124698637264, -0.012872945155883274, -0.008830813749769248, -0.007473978593703785, -0.0022711877906044266, -0.00044770063507356984, -3.417247727697277e-05, -0.001338803784796985, -3.963005579466904e-05, -0.00033485199694138735, -0.007180286981140988, -7.999431847039382e-05, -0.0020379654950002774, -0.0005984559330825401, -0.001895354236406504, -0.005213344842138018, -0.000731405002236582, -0.0036344386348765544, -0.01358040284589106, -2.7400746493972606e-06, -0.0004663910881920962, -0.0008144500806042608, -0.00042419785639409194, -0.0020775412565525574, -0.0013757945414533666, -0.003232867780574552, -0.003445302411143716, -0.0012034910658611547, -0.0012338913875231817, -0.0008508038018165356, -0.002900062236898858, -0.0020436420025280524, -0.0010357772652431685, -0.0029789526467571812, -0.00040978622920235434, -0.00010238959178063629, -7.2924069078113445e-06, -0.006795804290852777, -0.00014216664902803026, -0.0011355992146811988, -0.0016603133260980052, -0.0004954892783262738, -0.0005942198542940318, -0.0033218395405457822, -0.00011690162391444548, -0.000661454813890486, -0.0005108434987727015, -0.0005199309622796433, -0.0005454957657266403, -0.016733378921144983, -0.001381935398841626, -0.0018860691963062692, 0.0, -0.0012659215624691886, -0.0005032180084982396, -6.378012154669376e-05, -0.0015075716102501016, -0.00020826699584592891, -0.004780171349020067, 0.0, -0.00018109518639301765, -0.004203282874778619, -0.0017653873950249587, -0.001816454677893041, -0.0004620225078988527, -0.0020338855070993703, -0.00015004198529916591, -0.003150811838833393, -0.0014809513558452121, -0.0007819599984313889, -0.0020084152794841645, -0.00527923520439677, -0.0005519190532067422, -0.00942850041123596, -0.002073812219708492, -0.0003194140339867294, -0.001857048166424626, -0.0007238082443327572, -5.8296417504890264e-05, -0.0012143138959865138, -0.0007595427452087878, -0.004713233022093259, -0.000979071257640087, -0.00030986330635863834, -0.0008949471548866882, -0.0001415189159972915, -0.0007190043789030954, -0.00037116174934977955, -0.0009439856789603766, -0.0005686343172884096, -0.00023019697509994272, -1.6524277414049472e-05, -0.0003898602400778065, -0.008646089718360896, -0.0005623263986456868, -0.00021909873513971506, -0.00040701074544604286, -0.0002936344653520931, -0.002736370507523708, -0.00010174967462488322, -0.00013811669047518249, -0.0006138951908394334, -0.005289586395897288, -0.0007805095508186549, -0.0017193701206396773, -0.0005766958497747769, -0.009561172189006081, -0.00040545993601417285, -0.0043067120043416415, -1.3497790859403293e-05, -0.0007823391184780795, -0.003080420496140807, -0.0003403682284384494, -0.0008205622928190615, -5.0329665255608026e-05, -0.0037049636936003303, -0.00027843436563286056, -0.00021000687128647628, -0.0008985037912157747, -0.0005703351752613588, -0.0006462333724988666, -0.0015073610407666416, -0.0018463352570123998, -0.000658011309262626, 0.0, -7.112826854965472e-05, -0.0011965027330248636, -0.00012415096506336902, -0.0001646037202853807, -7.545164094290218e-05, -0.0017006706892038405, -0.001038666888454087, -0.0005073587838722012, -0.0027758508309984353, -0.00015646289243961703, -0.001194916605219881, -0.0016331421775493437, -0.005062566277534083, -0.005179447104562998, -0.007184855703341226, -0.00032957335410622736, -0.0008537182818199613, -0.0002480204811046618, -0.0008432418680598712, -0.0022156164086392428, -0.00014794652181346858, -0.0008369439445774082, -0.0026922472364222685, -0.00019695370772425367, -5.315458438095623e-05, -0.0006509165862996053, -0.0007004896155896667, -0.0019403253128216131, -0.003898922955579136, -0.001310593462557062, -0.0010345661672410567, -0.0025384161192156147, -0.0006405122962501616, -0.0020146436571194283, -0.0012260310517500635, -0.00045844488728495906, -0.0003265820964252464, -0.0007526466290247717, -0.0008568986158864176, -0.00047363918903243796, -0.001358168336912553, -0.000362104721611848, -0.0011969459570420017, -6.364338677535319e-05, -0.0017555136456636937, -0.00035766222163069705, -0.0004993061420050494, 0.0, -0.00047311705706449246, -0.0014465020026560175, -0.0038642219286996065, -0.0011818844684660754, -0.00064140580188634, -0.00034440014027697723, -0.0013901954800877789, -0.0006287138584986395, -0.00015538617696186967, -0.0012979226328268033, -0.0022641606169410897, -0.001490779852529425, -0.0030086901346096104, -0.0014304925313090757, -0.0017383605849981786, 0.0, -1.012164955885082e-06, -0.003788901639338563, -0.0006094603248476418, -0.00024270502728370922, -0.0012159580723553013, -0.0003872459524662383, -0.0008919019358372693, -0.001977667354281808, -0.000562953330797898, -0.0026359913749141087, -0.0002413876870939418, -0.0005835546812805753, -0.0008317024696999593, -0.0001503773066483117, -0.004281862829826388, -0.001089884660389537, -0.0019479254154652762, -0.0005621530794943652, -0.0010605567716333148, -0.0008856499448955376, -0.006339586606865216, -0.0019801690868071395, -0.0006577918349153754, -0.001273298170039431, -0.0012924557961406522, -0.0035232328326546053, 0.0, -0.000591180773807921, -0.0016499275728027527, -0.000495885776676896, -0.00021605172316727203, -0.0010527649529270362, -0.0008470133974239758, -0.0003255433473319955, -0.00214066114666336, -0.00046213226838197905, -0.0008986400398932524, -0.0020609517721880887, -0.00018479733538161866, -5.176710301297709e-05, -0.002356852512549213, -0.0026068671615341317, -0.0020991439359270268, -0.00017915100980623707, -0.000516381620571827, -0.0021128373892240772, -0.00044570845551849424, -0.0021796104344691835, -0.002436472548177814, 0.0, -0.0008327325842561647, -0.0002811539730105301, -0.0016624918974347978, -0.012335552096122998, -0.0007111657894434116, -0.0010692386687589947, -0.001112170358967321, -0.0009459789850469839, -0.0007642674571543238, -0.0009055282484646372, -0.0007238227070589586, -0.0003210037460076044, -0.0004056629234042907, -0.0026524972209322232, -8.678179664490367e-05, -3.973905270630637e-05, -0.0006945114025638645, -0.007594023716049082, -0.0032809269196374864, -0.002060271706857123, -0.001238672012491653, -0.00016910514063284065, -0.0002482295207183924, -0.00026943817511684994, -0.017204924386531404, -5.834057846643851e-05, -0.0027796800140480094, -0.001979177725739111, -0.001746640004379075, -0.000555285770178621, -0.0011902312256949065, -0.00028506096142229503, -0.0005100203791671853, -0.0003134063785776835, -0.0005622850063938193, -0.0007870160112507376, -0.0019478769819091027, -0.0002905425490833063, -3.193944292598962e-05, -0.000843732403780423, -0.0012589519502875215, -7.848218329665633e-05, -0.00029647926805906853, -0.00016322334875492134, -0.00017551504441188262, -0.002302801771327777, -0.0011248860531539377, -0.007078454670438612, -0.003920901948514443, -0.0019262404710056985, -0.0004544241589636081, -0.0006610713225142213, -0.0011428718775154526, -0.0032023886136334214, -0.0023141661583684784, -0.0036567391563682187, -0.0006630301267828305, -0.0008468882538071387, -0.002607446875099138, -0.007468155218105196, -0.001419615647798987, -0.003763657502105582, -0.005111267485640436, -0.001204779922007361, -2.6748655737004713e-05, -0.0006416756050516651, -0.00021752503793372524, -0.0004867089485388181, -0.0004936279759826558, -0.006442126651983602, -0.0019137675736581397, -0.0013487910568687296, -2.8769033057978133e-05, -0.0019715529805456526, -0.0008727437813262992, -0.0017571554109342396, -6.088030275952537e-06, -0.001168254350633434, -0.0014670434692673534, -0.003505117720898335, -0.0003376626180912662, -0.0025034854540580396, -3.394045291990195e-05, -4.167959526295536e-05, -5.268662635470616e-05, -0.0010719685838734814, -0.0013291044662515597, -0.0006778779322384799, -0.00023679655802875927, -0.0003840044182932933, -0.0027037364973830215, -0.0016857983985145081, -0.0006343970500429474, -0.00919767333253882, -0.001230322354858362, -0.0036841522339580305, -0.003987967164099501, -0.0003133970085215118, -0.007003418172691956, -0.0005243021950450648, -0.00042874104244345295, -0.0002653089655622931, -0.0003336280688823775, -0.00027535322584437894, -0.0009489671564968098, -0.001979764822929293, -0.001372775723850785, -0.000508747244732361, -0.0005842380540445635, -0.0007228225546647685, -0.0006432400440119579, -0.00032502330779733885, -0.0007558908793824781, -0.0012749665362693455, -0.00021733920455938735, -0.0035556487406311703, -0.0024565714978185345, -0.0005521523845989774, -3.1058066009379115e-05, -0.0009736970714634194, -0.0002737391377372895, -0.003091644087631902, -0.0005358871044507284, -0.004343520294355893, -9.829008947204405e-05, 0.0, -0.0014911622634836302, -0.001463583635542714, -0.0010973913070652017, -0.0005484595042531522, 0.0, -0.0017951961198009474, -0.00164100406514058, -0.0017868157694567114, -0.00011791873845139584, -0.000926673999810646, -0.0002400018368868664, -0.0003695682682534994, -0.0017017621218886215, -0.0007184315894402533, -0.002657711609678819, -0.0011604592899355538, -0.0004852016252857929, -0.002271751017570475, -0.0011049104288780444, -0.00011123776730749939, -0.00046367551425207564, -0.001126063543806508, -0.009566849996754575, -0.0007951686164106211, -1.2114351227388288e-05, -0.0004227180836075969, -0.0004687519815932249, -0.0005961022809136686, -0.0011174553795300227, -0.0006756517039420565, -5.974158381716844e-05, -0.0009714121162664074, -5.149569737186667e-05, -0.0005765345428300531, -0.0006550499019379963, -0.002300503777006693, -0.0014910598755556238, -0.0027232254309528634, -0.0004186666600995113, -0.0003816864320188551, -0.0021640046383898104, -0.0010786486372248594, -0.0019228981812857257, -0.0016879121690142722, -0.059754223939132343, -0.0001268596279480346, -0.001277179088501566, -0.0008057933548107717, -0.0010233497530635044, -0.001778688021663275, -0.00011613407130620468, -0.0004283283560882121, -0.0016885267208711504, -0.0003751451318190892, -0.00016759616272776716, -0.005539007642868466, -0.0006926383822676094, -0.0011128741102394877, -0.0002792061787317594, -0.007488785283441551, -0.0007763221933560875, -0.001020490870676495, -0.0006246164394720873, -0.0005961356086141036, -0.0004713969099620137, -0.0023919922956118084, -0.0007198494110985566, -0.0009550112892073171, -0.0013944573406293112, -0.004699801803031134, -0.002803282705222929, -0.0018158912978722493, -0.0005921901032645119, -0.0009082214271141711, -0.0028769404852261524, -0.004800588332075255, -0.0002853493548013872, -0.001302017951212622, -0.00011861545266596293, -0.0021867344935571813, -0.00033830945654564126, -0.0006144250784084952, -0.0006097501356507678, -0.0015043065887300634, -0.0004769139078303832, -0.0028640329562006606, -0.0006803499830871338, -9.672615208056714e-05, -1.626171457051444e-05, -0.0005404842715551185, -0.00016861239825800338, -1.8487874448300054e-06, -0.005422402694452507, -0.00011225982436727519, -0.0019674886462718115, -0.003651715867637381, -0.00010774668305180085, -0.008040814544515797, -0.0011577998765698837, -0.004006395919566126, -0.00042455313334558895, -0.003340320825342238, -0.00041893451433100756, -0.0014939822763707193, -0.0004032037236531555, -0.00571443315559475, -0.002379345942738686, -0.004497870530250236, -2.857189793633529e-07, -0.00023230220075453465, -0.0018887983374986587, -0.0011096110226852171, -0.0002649035498914131, -0.000687373373724485, -0.0004847466145331669, -0.0017621894841664829, -9.271833680667033e-06, -0.0010088149417925706, -0.0011856874707737012, -0.0009173797318931545, -0.0010747348802139576, -0.0003750981845742994, -0.00021957179174085517, -0.00023181927962961522, -0.0003176389739450608, -0.00035801830793970416, -0.0030938974120363893, -0.00027065857760508535, -0.0007151997297916973, -0.0026196160198810018, -0.0009340124945203429, -0.0015252769498168945, -0.0008955264768497812, -0.0005036431603877643, -0.0006818015435278207, -0.0006725823571251853, -0.00046898181790781004, -0.00025411728253153706, -0.3043738286140903, -6.477044796557373e-05, -0.0026693405897483366, -0.0010830198185182958, -0.002136073168287695, -0.0004471770771745534, -0.0008769757511080492, -0.0004905870778809519, -0.0004694978113339588, -0.0005561363872188827, -0.0006685776410646966, -0.0032339937302925427, -0.0020734532048256246, -0.0010204057942136953, -0.0005818532137689796, -0.0002735139463376366, -0.00022751016413331262, -0.0006333905565142731, -0.001815182691929281, -0.00014671209066381848, -0.0026747497884120233, -0.0015005355646623526, -0.0031896871808853766, -2.1916030072964174e-05, -0.0007495914478886312, -0.0017544003331037715, -0.0002558101758661094, -0.00011657351028932864, -0.0002908856088051838, -0.0011669291777035313, -0.0025900114089617097, -0.00024063464277874992, -0.0007541726370968259, -0.002246856053749033, -0.004230134734241089, -0.0006735569912832486, -0.005220442345233217, -0.0029002675237280746, -6.44369725375763e-05, -0.003111480609423075, -0.0008932086553973626, -0.04085881010644805, -0.0013272516922079257, -0.009038644003336852, -0.001616667575713077, -0.0031906538196667324, -0.0018109055018829387, -0.0013115978313008615, -0.0012645797816993967, -0.0009049312903262312, -0.002497344559056705, -0.07338613637492958, -0.0007823732725185693, -0.0029991514721677713, -0.000847869066476297, -0.0013389084752818163, -0.0001771152611592903, -0.003414703065281251, -0.003098780057957883, -0.0008042874125420654, -0.0030849311052855047, -0.0013583869458448938, -0.00027405525874743113, -0.011204309179872229, -0.0005517457574166788, -0.0010144014010068918, -7.513929486900615e-05, 0.0, -0.0004457613445035242, -0.002358995871985104, -0.0010594812096805751, -0.004039400244538333, -0.00040964848617004805, -0.0020364419354215145, -0.0014900412153610542, -0.00038860699628429513, -0.0006838942168700542, -0.002215951302453838, -0.0022326829465550073, -0.0001367859406265534, -0.0009610658156272965, -0.001390474058372893, -0.0015355560536037787, -0.0005898137159439029, -0.0016987846328004588, -0.0009332658846427183, -1.304221004668976e-06, -0.0021854317550138408, -0.0016010983037605749, -0.002243061107767035, -0.0007193367942157739, -0.0003542028447097019, -0.0643253355448217, -5.505480768908194e-05, -0.0006232778387423407, -0.0002818464528098602, -0.0005522141421217566, -0.000809098325199299, -0.0011064894325744886, -0.0004666271444337002, -2.483937481235458e-06, -0.008418023034361788, -0.0010914536970007096, -0.0006779814195842779, -0.001822117008045303, -0.0022149318015584956, -0.00034108193994911347, -0.003962400791128851, -5.7063127923758974e-05, -0.00273572534346215, -0.007357149836566233, -0.0003637094721136824, -0.001213279040776328, -0.003738672463627379, -0.0005952299494199137, -0.0021495237182329045, 0.0, -0.0010496260642171692, -0.02925263395893519, -0.00033241323825634574, -0.0001889396065789809, -0.0043605360205534885, -0.0002563427278557227, -0.0018616599487099627, -0.0002462703338441198, 0.0, -0.003623790507416802, -0.0005029964218423443, 0.0, -0.0016207460775118179, -0.0024898042186429375, -0.0018058413359386192, -0.00030533479522806064, -0.0006608585304465686, -0.03192282726580793, -0.0012636789091398756, -0.00044231357647304677, -0.019681758683912316, -0.00039250961310500923, -0.00040984606884212575, -0.0037697229798831448, -0.0003116588532045575, -0.0014424680324538698, -0.0016714589858064293, -0.0015521777348544207, -0.00034948461108911876, -0.000452266818827237, -0.0022287911933664925, -0.0009364178902909324, -0.0041780374057899675, -0.0003797471592549545, -0.0007425404711202096, -0.0007155411906456456, -0.0019272883875165827, -0.002444442044002092, -0.015198818412440992, -0.0006165349492067027, -0.002116749330436951, -0.0008599485705403666, 0.0, -0.0029389560036207412, -0.0003053521214236042, -0.0010826669383314628, -0.09175994781719833, -0.0018364432146629672, -0.00012745653305532882, -0.0011502682524070149, -0.0005639940246585896, -0.0033944601861072795, -0.00024076042411715862, -0.01412562730871877, -0.00047910247763972705, -0.0007733693990689024, -0.0005918963219965382, -0.0011372932333889774, -0.0013237145536240766, -0.0005039179598079697, -0.0022668769702287725, -0.00048203388976961864, -0.00035586387224599477, -0.004678611070078474, -0.04408206230238827, -0.0011426791198523678, 0.0, -0.00133280962417763, -0.0021353144595154506, -0.0004715454637523304, -0.001994164876014049, -0.00024888667612162204, -0.0002427143238091708, -0.0018202123817603303, -0.001978015869731477, -0.0011128741102394877, -0.0019734131587793467, -6.264732174414944e-05, -0.0005253034676642225, -0.35861741817994036, -0.004095174163967632, -0.000997994771765102, -0.0009360225891522098, -0.00020060532965207278, -0.0008989886112289021, -0.0007856931079293424, -0.002958077232004924, -0.0017857621524089372, -0.0013446732196590796, -0.4677409664783639, -0.0001544198722698119, -0.0004502786351088883, -0.0028264769121601023, -7.286984300343217e-05, -0.00028542739257862634, -0.0031213039526334628, -0.001865102887962055, -0.0004094981562147515, -0.0010966940925799782, -0.0013828740529401111, -0.0019882871235155216, -0.0009093436828560344, -0.03407189143357883, -0.0002458110585767052, -0.001974410330324682, -0.003682494884939627, -0.00024486954657345765, -0.0029360110937944714, -2.2584754863577935e-05, -0.003869489923731919, -0.0008120160699751992, -0.0006423804489420334, -0.0014226002391058733, -0.0402886209531957, -0.0014299031388043649, -0.00017556505558882567, -0.004290483629354752, -0.0007536267722160679, -0.00026749292446482997, -0.0008839484967881699, -0.0023220763916794902, -0.0011164943368142672, -0.0006636594514905748, -0.00041142996577318353, -0.0007192092250025001, -9.024699629284098e-05, -0.004103861320271196, -0.006295673108856324, -0.00017870916113388134, -0.0015153180011357244, -0.0006604685174789066, -0.0051514718424880025, 0.0, -0.0019210029897928972, -0.00017856699885105036, -0.0196976172667402, -0.0006321313916629912, -0.00021975034827993636, -0.001197164217715888, -0.0015131443659570864, -0.0008026403512239612, -0.0013287646601622834, -0.0011375193589807412, -1.2956825186013261e-05, -0.0024580274050447735, -0.0004780584882637228, -0.0004681342695889689, -0.00022254095215039403, -0.00963351823464527, -0.0006501014510400373, 0.0, -0.000909446179738955, -0.0006118989700512609, -0.0003799434973223981, -0.008042599597936208, -0.027390497727434675, -0.000991069068884871, -0.0014461572409717321, -0.0001286691910834515, -0.6845224598164633, -0.001570777434260208, -1.248865285293119e-05, -0.0012409654650783583, 0.0, -0.0016069456208396365, -0.003036345703441913, -0.0006452214984638582, -0.0003283483114153011, 0.0, -0.0013754896051258825, -0.0017678817202597425, -0.000607282636158718, -0.00047629067458558876, -0.0001318019088730255, -0.001222358411829178, -0.003709437453604502, -0.0011204368707953144, -0.004481147841383603, -0.0007091430956835458, -0.00023669458460323154, -0.0008713707522247419, -0.004441403330537632, -0.002579862982998191, -0.0007744381835635567, -0.0007494361026470427, -9.780836928662872e-25, -0.0007869487577906355, -0.0020696443172096733, -0.001020770751095374, -0.0019481199149576276, -0.0010090664253162801, -0.001413908510471135, -0.0004747685144414745, -0.001494157566611681, -0.0018223164050677667, -2.246586725036939e-08, -0.0007838348928394217, -0.0009716016682447737, -0.0005078726246714253, -0.00048027104544842887, -0.003104345088204285, -0.0026323098029414497, -0.003240867819721827, -0.0007687813627640585, -0.0014061193126040626, -0.0020348441940193102, -0.0007490938651737435, 0.0, -8.495299136578373e-05, -0.0001383708780454442, -0.001235742776981478, -0.0018818417808289974, -0.00035968960985748234, -0.00039515117264489843, -0.0162318828518656, -0.001636540298930896, -0.0018530164923109362, -0.003810706395845424, -0.0008292992683997445, -0.001379571697186042, -0.0003183248396367953, -0.0007873118527265146, -0.004568120174718429, -0.002642873050163953, -0.000641540412028211, -0.0012283914573687643, -0.0010340819860317767, -0.00038209118380189383, -0.00019344915898957164, -0.0013387340939319465, -0.00025911689597330514, -0.027669686964893955, -0.000938499154538192, -0.003866124481830928, -0.0007733909256524547, -0.0020745182573675236, -0.000827936969775095, -0.0009498903560004707, -0.004923079279534106, -0.04647155943567432, -0.0002735435693540551, -0.0003557464208393215, -0.0024057322173686446, -0.0057359370687541855, 0.0, -0.0003409797910075701, -0.0003733183557652028, -0.0015028110170970247, -0.002073669487516758, -0.003213947145760731, -0.002231964298989132, -0.0009649885944331759, -0.00018634860636915505, -0.0015708351247169508, -0.005385987297837515, -0.002004072530029559, -0.000466825630988936, -0.00012497211437192864, -0.0022441804601013283, -0.0006326704577360098, -0.053702845462312694, -0.008373348526670316, -0.003541447852346637, -0.002107057308892263, -0.0008079486077914621, -0.00024280577772575293, -0.0014115487096651213, -0.0016491767117665756, -0.00307928598374717, -0.001252947938753343, -0.00046254691032922117, -0.0010966866080731926, -0.00362936601364351, -0.00011368077416650428, -0.0002088752587131393, -0.000351252061583243, -0.0015638875435241095, -0.00052768990154719, -0.00023778789684648913, -0.0005158710281846484, -0.004329603825503633, 0.0, -0.007795185509356665, -3.462941125372637e-05, -2.326212781837913e-05, -0.0005023723062235602, -0.0015131860653777082, -0.0009796249471731055, -0.0019289134682557835, -0.0004630723558638794, -0.0002685596332991693, -0.0005775202355686221, -0.005695176250474977, -6.46212080782747e-05, -0.0017808151094344355, -0.00515454469091843, -2.067089971033571e-05, -0.0011073678285160326, -0.0010333449229591846, -0.004149385509908442, -0.0005947849177224329, -0.006101566140451056, -0.00042285384419322634, -0.00076809304339851, -0.0036404644558058713, -0.0010730388367771963, -0.005481794877639607, -0.0004157675658813374, -0.0005657308919073011, -0.0016478656333891312, -0.002500867438938366, -0.0001940642442085647, -0.001023586096200363, -0.0019872734384669658, -0.0014849126198942793, -0.0013807916555822332, -0.0001699002316963167, -0.00042377787904699906, -0.0007464761456215018, -0.0018037850946095585, -0.0005732684654847513, -0.005647332867121668, -0.00023409552274805212, -0.00045280160346174164, -0.0008148907334431259, -0.0012353587023065363, -0.013119441060112227, -0.0012029960456323803, -0.002416620978925036, -0.0006059817714463094, -0.00011109982013022991, -0.0030365068630493056, 0.0, -0.0004997746243708097, -0.001773402553500512, -2.2645975991439625e-05, -0.00023716710691154598, -0.0003766789795844341, -0.00046265361494850075, -0.001242596625997655, -0.0016296058536055425, -0.001056610786351373, -0.0008603827165185104, -0.0009453033651312247, -0.010491061963579644, -0.0012925183458927238, -0.012877442111540108, -0.00029836592370431153, -0.001092759662719714, -0.005928793368377113, -0.0015062165794372659, -0.000907825862802641, -0.0005982671429096299, -0.0030996125448820746, -0.0006234584176042186, -0.00020157189071157156, -8.68922463989989e-07, 0.0, -0.0034295761108121977, -0.002440594952424796, -0.0010569622802507456, -0.002442535124654443, -0.0001083967426246359, -0.0006719407306688718, -0.0013919730104032435, -0.00042465575172949166, -0.008584472804401319, -0.0094713476115631, -0.00018672194937169415, -0.002820692678533983, -0.0012265274788838315, -0.00015545250532804632, -0.00028624633121847906, -0.0015082313758016858, -0.0010734422143003958, -0.0007966691488965242, -0.002785474414637783, -0.0018087197694225058, -0.0001610252872505816, -0.0012491407206127033, -0.0027334982276290584, -0.0016420699235346597, -0.0003798481633825989, 0.0, -0.004920352640995293, -0.0012890162402806808, -0.00014447986159250013, -0.0013852732987407494, -0.0021718291966145355, 0.0], \"y\": [0.002719878748268456, -0.00017499051069763683, -0.0007422904995295632, -0.0012355325243192383, -8.754967794677437e-06, -0.00028774922506007855, -0.0016611572314498592, 5.394887000476816e-05, -0.0008442137409356649, -0.001507570070367769, 7.6901710278714e-05, -0.00033474502724944587, -0.0017232655628339455, -0.00017674153673747297, -0.0027997003321178077, 9.66997380449623e-05, -0.0008137423570839313, -0.0009887908953631827, 6.0743798136988525e-05, -0.0005444534227112237, 0.0001435671310478782, -0.00014758903505757883, 1.1260259478141904e-05, -0.00162978658190006, -0.001149499589963268, -0.00040324947838962446, 0.0, 0.0002859717953227749, -3.363116314379561e-44, 0.00020865098280184748, -0.0003024078343365269, -1.2560082684537431e-05, -0.0049005592698340246, -0.02038552316544503, 3.203956093195515e-05, -0.0013992316137435878, 0.0003204560878422159, -0.00012916209554572874, -0.0001500795536273894, -0.000641443545739562, -0.00018222880753243476, -0.0016318564148481928, -0.0003797882188265651, -0.0004603526054192958, 0.0007203379211374809, 4.476015545899957e-05, -0.0005059570751243786, -0.000683389690162568, 3.349974183707968e-07, -0.0003537655790608563, -9.830781879866242e-05, 0.00014098237286115013, -0.007472765589063696, -0.003522806316819988, -9.470789586815376e-05, -0.0013475553638229586, -0.0008288963099258028, -0.00038101247315954905, -0.0007220301068168925, -0.0011250184017683271, -0.0014581573598208993, 7.309180973872062e-06, -0.0015472787262135548, -0.0008961841728466497, -0.002005599559231322, -0.001516372943954467, -0.0012452089779877043, -0.0002785415233167774, -0.0003218971303346429, 0.0001651741223764659, -0.0019279974382014596, -0.00015236046562798524, 0.00013263318623828275, 0.00014366668835761933, -0.0014048326795586964, -8.112318109430557e-05, 0.0, -9.804884993482087e-06, -0.0009344879806911931, 0.0001298170171740155, -0.0008563633837387346, 9.012260986875867e-06, -0.006460836769666579, -0.0015440317567124652, -0.0007114551700499829, -0.0011327076953897757, -4.684407232991037e-05, -0.0022537359264210755, -1.9019374241715832e-05, -8.472722016254122e-05, 0.0017946400355339065, -0.00011647002936658325, 2.903822555666233e-05, -0.000649622265864746, -0.0004612881361970012, -0.0007032857262978085, -2.8259765133293185e-05, -8.56797964967457e-05, -0.0008261157433154862, -0.0002154422281162984, -0.0008908920893469564, 1.4974107533258105e-05, -0.0007795866324243133, -0.00019289684758243294, 0.0, -0.0011424292345852283, -0.0018412300543939766, -0.001438810631755456, 7.641574594916718e-07, -0.00036560334144511284, 7.791478805430248e-05, 2.0261322678979363e-05, -0.0001165721362271906, -6.312998787416977e-05, -0.00043181073530522657, -0.0024075707345523963, -0.00023751961949920798, -0.00081182557768697, -0.00018649766207032262, -0.001584091223753641, -0.0006353123785044893, -0.00038629967730952194, -8.124180458341438e-05, -0.0008168241138406748, -0.002706153010764847, -3.903349083509839e-05, -0.012217298798384896, -0.001599319999379455, -8.171016355127802e-05, -7.585063386343349e-05, -0.0009912406962654871, -0.08486465377872074, 0.00020904147210653302, -3.514608335714361e-07, -0.00014868881065509563, -0.0011651278868341534, -0.0002195136955937028, 0.00016654569549256852, -0.004736320934121588, -0.0027339513410354313, -0.0013506235714765254, 0.0001339766840038083, -0.0008125869476851873, -0.004456821290934515, -0.0639776567661942, -7.223414719079026e-05, -0.00018577532971230388, -7.479620884508238e-05, -0.0008546609357931276, 9.861404963387508e-06, -2.753229780108698e-05, 0.0010408168634599463, -0.0002393456788686219, -0.0009722799620439202, -0.006512711039554998, 0.00040619182115403244, 4.839781041696532e-05, -8.833291389460262e-05, -0.000320919990042699, -7.290425487454877e-05, -0.01339501375264862, -6.811656587656881e-05, -0.04766683827919705, 7.096269086286377e-05, -6.381953102240311e-05, -0.00036934542729491157, -0.0011957427577249486, -0.0023759105824347577, 1.0419354017698655e-05, 0.0006126429142821162, -8.910179767908245e-05, -0.000914489343746357, -0.0014350951991253615, -0.000620881446520456, -0.0004473864926859665, -0.0007471444260604359, -0.0003904412192739749, -0.0001283848414565408, -0.00011896796707052408, -0.00017044103692061347, 0.00011534098400315727, -0.00016058705437968555, 8.535577617634646e-05, -0.003576155092135037, -0.009497016088982277, 0.0, -0.0015035940894195788, -0.0021919159045675402, 0.003022086203522384, -0.0003315782939584162, -0.0019520364215048901, 0.0, 0.0002446510485877296, -0.0005140961484357001, -0.00021353926933568424, -0.00011443285629513752, 0.00023966215586064446, -0.000126851069494579, 0.00010750968404099655, -5.899466357265962e-05, 0.00012050054254333667, -0.00029207092613887063, -0.0004003271239626891, -0.0001265145563615688, 0.0, 0.0012354388910215297, -0.0007327663427263734, 0.000257764091521695, -9.80519632155195e-07, -0.00014365732175514425, -0.00021456916964362295, -0.00518540289635798, 1.8332501542773787e-05, -4.111181953738165e-05, -0.0022320087495765035, -0.0014240090938131991, -2.1303640406771323e-05, -0.008738196497650664, -0.0018489159873228897, -0.00018999446459198044, -0.0021567353351274296, -0.00025899460636714385, -0.0009732981694756382, -0.0011096628804665625, -0.0033256992023417537, 0.000145515251371922, 2.411487542346591e-05, -0.0006888197862498991, -1.1950219202410901e-05, -0.000929630448733101, -0.0008996427515159167, -0.00033814026291950974, -0.0007293078819161121, -0.0004649742422248319, -2.415023685205899e-06, -0.0019261112737810296, -0.0019404562323307598, -0.001483904053783366, -0.0004323310875166426, 0.0017958290766581547, 0.0008692757136511366, -0.00026469975974710157, -0.00016540929695868918, -0.00046102441447457617, 5.514438699319506e-05, -0.00016608037829725337, -0.0006590596116876196, -0.003779722854352341, 0.00014955487147711607, -0.00029150657674424034, -0.0003333536835344836, -0.0007653988147420862, -0.0006189776228632197, -5.9302121164565546e-05, -0.0028183330971584815, 4.520714132804923e-05, -0.00014834407270190433, -0.00014657115922668407, -0.0005420741573562293, 0.0016869341544775678, -0.0010228603879439823, -8.50658929374131e-05, -0.010103582722380636, -0.00015042852567078035, -0.0005008289654281903, -0.0013900831982541551, 0.00045477590693146773, 1.9316954471778394e-05, 9.279320902836834e-06, -0.00025439308810439097, -3.17882500867905e-05, -3.215831607131191e-05, -0.0003394006046221586, -0.00017232219234630854, -0.00302818815248895, -0.0004940733922284249, -0.00011460350205486262, 0.0006276359934959579, 4.150141125234808e-05, -0.00016725248944700675, -0.0007738381189248588, -0.004195998946197136, -0.00046155980990573075, -0.0005602924397422833, -6.171418312647382e-06, -0.010641258042235247, -4.4665675557528226e-05, -0.00043611676250183284, -0.0004375589192722289, -0.0002105654803235846, 0.0040610882310368555, 0.00014526515700930746, 0.00041566691774766695, -0.001524088846281218, -9.643267079967954e-05, -0.0021545823966101357, -0.0007087360819230097, 1.1237648747294531e-06, -0.00037795025035952006, -0.0005846477087087075, 0.0001303762955873963, -0.000384123434823333, 0.00012038075362314589, -0.00017700855657232418, -2.1117998537861308e-05, -0.0002507005466580788, -2.1350974781161685e-06, -0.0013409854002366741, -0.0007154864437963994, -0.0015594218267020743, -0.00018394377048964967, -0.00031050095449846417, -1.787102119746879e-06, -0.00035924662237197494, 0.00015109476760106005, 4.713752425657301e-05, -0.0005923147289261994, -0.009169550778465948, -0.005055852410878318, 0.00026825372690157266, 6.673481718415421e-07, -0.0011325555615771545, -0.0005499650829650259, 0.003347299240133879, 7.320547652583557e-05, -0.0003410960371522964, -0.0004237168201020953, -0.0003905460661553017, -0.00017595433539482064, -0.0009178995595928477, 0.0001395901002936312, -0.00011813776632195164, -2.5522345128357924e-05, 0.0007881853719022805, 3.508064805899606e-05, -0.00020359108955179007, -7.961132562792571e-07, -0.00018328437619055858, -0.0008974263306351202, -0.00011854405725277162, 0.0, -0.003810870464512208, -0.0004952738859709995, -0.0012736262700554831, -3.303771185857368e-05, 0.00015662168732481066, -0.0002624296608912558, -7.538684212909008e-05, -0.00014933562226596923, -0.00026921796783021103, -0.00010532109886866617, -0.0016282770172885983, -3.896723722881278e-05, -0.0003501386569586734, -0.0013546712680892084, -0.0003081975016568383, -0.0002541230014537375, -0.00023823615006643195, 0.0005347036227083894, -0.00031245316164862447, -0.00014775411632951267, -0.0007678904864948891, 0.000598146736395832, 0.0, -0.00010581408452747302, -0.0001854612393369536, -0.0015887118707926867, 0.00013074822697285024, 2.6473512653853564e-05, 0.0003746109781735658, -1.715287072064234e-05, 0.00022529683524898198, -6.804714994505895e-05, 3.6033769313739265e-05, -0.0008007416324315283, -0.0005165439598849803, -0.0011965068421620488, -2.8210430767135205e-05, 0.0007067002596868194, -0.00021924349468425134, 2.2503578106691625e-05, -0.001452744008518556, -0.0003358306767750622, -4.1970378454055064e-07, -0.0017498848155661681, 2.212233640844406e-05, -0.0005972499536143467, 0.0008929572464147954, -4.949102099660644e-07, -0.0168633759254032, -0.00032273784260497686, 0.00021720587792073762, -0.0001503863686581641, -0.0035464757398583247, -0.0008890450010082966, 0.0, -0.0010039075738461547, -0.0009557077496027837, 0.0002439777563151249, -5.6045316775051966e-05, 0.0, -0.0006032512850265754, -0.0009917379480057303, -0.00055491649226143, -0.002925458598623857, -0.0018551742280232578, -0.0013360826328602392, 0.0005801823781047689, -0.0020253739368325456, -0.00011227879883262277, -1.4593494372274006e-06, -0.0003354393875470578, 0.00020512128963459626, -0.0008774522710760389, -0.0004504096339196598, -0.00024015661013251357, -0.0015338456398962805, -0.0002573048450642673, 0.00020387973713909766, -0.00022877543345413927, 0.0, -0.0016576233251318262, -0.00034342154177766706, -0.0064965487764706824, -0.0003008104235756271, -0.004086641975191107, -0.0014159925226666268, -0.000323247740996079, -0.00044456988613212657, -1.3899779399772742e-05, -0.0011091337313142533, -0.0011803206786102133, -0.0002549536071853364, -0.0001137688507377594, -0.00012392581456259304, -0.0018019265209262667, -0.00032967830151236404, -7.385632488760719e-05, -0.0030343920983368976, 0.0013101054641563568, -7.560754312900612e-05, -0.0013832609403223318, -0.0006631973632682328, 0.0, -0.004293684558688707, -3.5158578491203e-05, -4.037159627976699e-05, -0.0015459695348340663, -0.00045148067730432117, -0.0008116572772536734, -0.0009573601789906563, -0.0002991343866057117, 0.0, -0.0005729164361272528, -0.004973615667121752, -0.0002979167242066279, -0.00011476497561042266, -0.000335128900290499, -0.00023347861680665105, 0.00021841048016636974, -0.0004379943794818838, -0.0009814905200672486, -2.250864716400614e-05, -0.004394982905351659, -0.0007661562388548396, 0.00014977296693892547, -0.0007121066569704337, -0.0006604209916896255, -0.0016918769646146416, 0.00048762759380431613, -0.001078056988121695, 0.0006043731235045287, -0.00039644001687705094, -4.531990001983713e-05, -0.0007461910249771263, -0.0026413936493184854, -0.0001268933616196139, -0.000368370775716959, 0.00021509214681439086, -0.010888190652496998, 0.0, -0.021078021050471477, -0.0018834032895143765, -0.0002105051348310425, -0.0002655678736394908, -0.004607579814609895, -3.940901920703522e-05, -0.007441071259273653, -0.0008606394205307648, -0.0023636478722763774, 0.00019834160391151947, 3.502774400285862e-05, -0.00047505579706823894, 0.0002253874111305607, 2.569689558528988e-05, -0.0011456453239111761, -8.490446873075321e-05, -0.0006118681627921233, -0.00048264162946537177, 0.002944290909354328, -0.0004741198568739361, 0.0010861947218135, -0.0018556125171293064, -0.0030580229770003956, -0.006995142858388031, -0.0014919256596422543, 1.553905404094527e-05, -0.00031256067251136396, 0.0, -0.0004932767140827299, -0.00036320963683564083, -0.0007730700691770766, -0.0003005472173173415, -0.003561386575094727, -0.0012806518785616822, 0.0006814545303069693, -0.000903478864259422, 0.0, -0.03551078588805019, 0.000418880113256798, -0.001498738330547252, -0.0009711979972096655, -5.1301020683784244e-05, -0.0002291935148849025, -0.0004512527033662885, -0.0009387419774444934, -0.004120679208947729, -0.00020234777708891797, -0.0015550602493475457, -1.3835523728864477e-06, 6.861908284335409e-05, -0.007677175121175637, -0.0010613671610018493, -0.0008621444947482226, -0.005745792077225655, -0.008302283760989676, -0.00013530909362585966, -0.0010084898920012027, 0.0002760598756106737, -0.00024343341304208587, -6.0683285798217166e-05, 3.459385899460884e-05, -0.00019558786926318893, -0.0001141725913998722, -6.094020477305167e-05, 9.088063363329214e-05, -0.0004743037280219361, -0.0012065568625856714, 9.04463478747796e-05, 2.4361189624428335e-05, 3.2130736661766154e-07, 0.00010023730074296593, -0.0007897365616461128, -0.0748071198709496, -2.053495103092188e-06, -0.009954061848413437, -0.0007085920439285453, 2.9472299121379425e-05, 0.003530111047763655, 0.0006095477751883664, -0.0009590526212132825, -0.002164187769728627, -0.00026079227718263744, -0.0009312648073145406, -0.0014834725500102693, -0.0018498989038421658, -0.004994927069770641, 0.0, -0.0023812725220556056, -0.01977052358329595, 0.0008707861270392594, -0.003335469118542661, -0.0002956220894647037, -0.012819701004453793, -0.00016884144740618621, -0.0006622765324043763, 0.0002614466005479238, -0.0010249510464988155, 0.0006733028433906443, -0.0005769645289320994, -0.0006009752153712809, 0.0008175652527880581, -0.0004986789079653199, -0.00013310105564494733, -0.0002862763361476964, -0.001670628551261822, -0.00010856661082598418, 3.362148263412048e-05, -0.001150130982660097, -0.0005820381795567172, -7.781809974333624e-05, 0.00010379102846829811, -0.00011332535281047737, -3.3577436764030854e-05, -0.0001716129982039321, -0.0001276886208922937, 0.0006879698241617233, 0.00010091570685851277, -0.009414739891643662, -5.157284678911158e-05, -0.0008306803190304121, -0.0012658328866252352, -1.738721720772707e-05, -0.0010256366788491383, 0.0, 0.0, -0.0001871285150286976, 0.000399107787228045, -0.001224656156470588, 8.056036412986805e-05, -0.0003737215277717857, 4.686155963105683e-06, -0.00019501841386100532, -0.0010932975197959888, -0.002550134809221712, -6.742874846425433e-05, -0.00040264561684801633, 0.0003690807440924721, 3.19777287459328e-05, -4.5553263585890686e-05, 0.0001540352454497665, -0.0006668417321211438, -7.742178044998799e-05, -0.011999038832986768, 0.00019388366814937665, -0.0030137459580701926, 0.00038193048088295596, 2.6820540638295834e-05, -0.001359078660961177, -0.00014684686803503774, 6.460444581642459e-06, -9.338239155581381e-05, 0.00019428561495452, 5.076051346008762e-05, -0.002236279994869862, 2.8154044999539246e-05, -3.6924096614601894e-06, -0.002409094912468002, -0.005285387625358303, -1.900853474905152e-05, -0.006379855698028337, -0.016172404351888863, -4.26823853340015e-05, -4.887929358780361e-05, -0.00019898735422608883, -0.0006149552353636881, -0.00015906819232922926, -0.0005228547636644247, -0.001496381931852802, -0.0009220693879554274, 0.00022912148293478896, 0.0015018750389721503, -0.002891972825842967, -6.443961035841677e-06, 0.00018335921567312751, 0.00011548627081081398, -3.090068025241505e-05, -0.001003475453382806, -0.0006496412861882989, 0.0001778441377692684, 4.1519165297522455e-05, -0.0003127023455876073, -0.0011080272273346784, 0.00018072456817370193, -0.0010141536044730095, -0.00204512700880536, -0.00026227819927709196, -0.005998417470697702, 0.0004096184731206173, 0.0, -0.002203914254485326, -0.0014180391858624635, -0.00022618536006534945, -2.859971884207165e-05, -0.0010262620115680527, -0.0015620941102036262, 0.00012657852176628252, -0.011040712570019255, -0.0013160211090933417, 1.0354363730536785e-05, -0.001508074888756454, -0.0007361345328377282, 0.000260269837307535, -0.00015747338369029445, -0.00013131311216569292, -0.0044993768912956495, -1.2483437654524694e-05, 0.0, -0.00019259387427935127, -5.935302227441556e-05, -0.00040504175396146013, -0.001624630571016151, -0.00011391491551051704, -0.00011188963585817902, 0.00010201678959320743, 0.0014103229822606145, -0.0022081158597400587, -0.0022238592993829285, -0.007911364204129757, -0.0005793857039950459, 1.1932641740246776e-05, -0.0014659622730773844, -0.001916094645460563, 2.4842169358366548e-05, -0.0010536582702873475, -0.00034692357835496723, -2.903246104863343e-05, -0.0005144402594248702, -0.01138629391537231, -0.0016564875549076933, 3.3815342884655666e-06, -8.79791349032777e-05, -0.00012494604204309236, 2.2799372809728695e-06, -2.645258711489525e-05, -6.242554363890352e-05, -6.813508095625849e-06, -8.749493110437446e-05, 0.00015971215198845376, -0.0010751068059202686, -0.00036481340483410766, -0.00018438240595982803, 0.0003493713366690355, 0.00012400220689843657, -0.0010068417799976804, -0.0005262364560370404, 2.0682641410193343e-05, -0.0008216471865627712, -0.00016272639949966726, -0.01672116881423169, -0.00011967713535433766, 0.00041508692083832606, 0.000540094558315871, 0.00031497705217323365, 8.921491158486565e-05, 0.00011020094214159495, -0.00011031663041748105, -0.0010609266832026746, 0.0004537920493958851, 0.0001626117194682348, -0.0004946676149105042, -6.493040258766843e-05, -0.0011116047710839792, 0.00025409821271106476, -0.0016770742039151413, -0.0009389065994427683, -0.003537903200732223, -0.0001905068691447343, 7.650738940239987e-05, -0.0003071023775298672, -0.0001755648139325643, -0.0006265308033240574, -0.0008918668513015838, -0.001233562673434289, -0.00027803942952723377, -0.0007727272491378992, -0.00030496644269614346, -0.004670209171381768, -9.548317309088321e-05, -0.0008218956220363531, -6.88705218814322e-05, -0.0003602487449191654, -0.0009428175938057077, -9.813838081704131e-05, -3.0351911158973376e-05, -2.4753589847905875e-05, -0.0003901884847164211, -0.0039166313799909, -0.000794025693147602, -0.007913046051329543, -0.000185523322244172, -0.0031197824432143235, 0.0001267305204893031, -0.00044333337922594244, -0.008875929293573864, 0.00041978078665348315, -0.002610984526289442, -0.00012717403091478156, -0.00047968748966170714, -0.004895197610089859, -0.00014525276496317737, -3.253802392460061e-05, -7.661602300455597e-05, 0.0004965724778865983, -0.0024319275710386105, -0.0009053486275037435, -0.00030478707506644177, 0.0, -0.0005522734847141981, -0.0011246865980490128, 0.0004669842862377995, -0.000672987127449432, -0.0015214432791898435, -0.00524493788870245, 0.00013924511859437998, -0.006039492070545246, -0.00034486154486504514, -0.0017033190510668571, -0.0021028899510236385, -0.0024997198686278125, 0.0, -1.6712284182491725e-07, -0.0018235041439787429, -0.00020306820432494088, -0.0013353129026146453, -0.00047510107413940687, -0.0003281649485712108, -0.0016140619362977509, -0.0006447726779261909, -0.000359770629924718, 0.00018023662233737384, 4.306355091770995e-05, -8.562653907373344e-05, -0.002179363919402988, -0.002651215920612804, -0.0014580463578848278, -0.0007192063737570457, -5.892996030453081e-07, -0.00010240202371680546, -0.0010355150347693784, -0.0015369863852073159, -0.00427120398869404, -0.0005391353034551559, 0.00016595955540554464, -0.00020532022486558684, -0.0011346266491682679, -0.0011945879155242241, -0.00017715497674020573, -0.0008959998646761627, -0.0009001670182285373, -2.29206524881126e-05, -0.00026554642154035874, -0.002895961124084491, -0.00011897663045501731, -0.00043439388359559154, -3.425165942006011e-05, -0.00196879184979294, -0.0008342118210399535, -4.532245034901713e-06, -0.14603157622325502, -0.0036355945284049303, 1.3284855000426538e-05, -0.0017872682460486824, 0.0, -0.0007436128947950619, 5.9521548571613585e-06, -0.0007362797613346927, 0.0003281519494754866, -0.008683851583181412, -0.0005789792947291906, -0.0008091290723216796, 0.0, -0.00022277903038656687, 0.0001507697190180649, 1.762270861471796e-05, -0.000822033608808374, -0.0006633528703147124, -3.361633880419453e-06, -3.8941331129646874e-05, -0.0016044441031031833, -0.0008916102682452798, -0.0005256586379226004, -9.956856268024674e-05, -0.00013698864834284593, -4.917869681319277e-05, -0.0002714081328215857, -0.00018069390231631425, 0.0016503089436029133, -0.017241805517831284, -0.002348199274930243, -0.0009391773222227458, 4.7027375069755435e-05, -0.002031806586543522, -0.012451975382475469, 0.0025568681923261926, -0.006047259330245091, -0.00031334161044246456, -0.0005952825372768397, -0.0002948230862841973, -0.001895413296087491, 0.0, -4.437746372811932e-05, -0.0012581890808193428, -1.1992985241894961e-06, -0.00019120064603424656, -6.558996642182429e-05, -0.00022388392612893886, -0.0005633035362982758, -0.0024080491889298785, -2.5921336364077753e-05, -0.0020358446077586414, 3.137027346019953e-06, 0.00047183893852595886, -0.03785696074217794, 0.00012192759971084334, -0.0014077010940960538, 0.0, -0.0046543602033834765, -0.002393769951293512, -2.445001305632563e-05, -0.0026152562836257247, -7.557284040060857e-05, -0.0009849140635352191, 0.0003251397628633745, -5.7361216220757236e-05, -0.0019987713815311885, -0.000805921116152964, -0.0006057854942741385, -4.039478561273479e-05, 0.00015949273355911036, -0.009214625727893229, -0.0002961303757990724, 0.0009300226097269164, -3.884682070094209e-07, -0.0009059389130900366, -2.7980879723664863e-05, -0.038579210374416514, 0.0, -0.0003248271805016035, -1.8336345202502693e-05, -0.0004063994257253995, -1.5023509936461442e-07, -7.754620147118286e-05, -0.00015039831897243177, -0.0015335957420749531, 1.183575379857116e-05, -0.0016848357015031429, -0.0001998011786789941, -0.0003332852669476142, -0.001637773757697653, 0.0, 0.0, -0.0009571754071126481, 8.221948587614013e-06, -0.0011509757116307724, -2.183763369408917e-05, -0.0004935921567754663, -0.000149512608022067, -0.0001187168231483491, 0.0003038128310331324, -0.0005177510827141979, -0.0012636112970207587, 0.00012278865390176762, -0.00019126612959504774, -0.0012669960893306209, -0.029266650363216476, -0.00013040292704476894, -3.5155759919687416e-05, -0.0006921837105818045, -0.006307116543100517, -0.003330835128011069, 7.229187237764462e-07, -0.00048131893594573915, -0.0008268570263415143, 0.00019408562230774744, -0.0002609551573821529, -0.00213789407084588, -0.000255172250317022, -0.00024613532595245565, 0.00011265064123000476, 0.0, 3.418032676549185e-05, -0.0003666854346607171, 4.105889570038951e-05, -1.8056993658361753e-05, -1.9721833956229296e-05, -0.009019912987375985, -1.1361143480720957e-05, -0.001394858230743283, -0.001663735617881797, -0.000576661251822387, -0.003222783393531892, -0.007163865419740957, -0.002592668904220282, -5.2600806116849946e-05, -0.00032471239434131996, -0.005983634756912365, -0.0028246248242777285, -0.00038790797643002066, -2.3854818578075392e-05, -0.0011921214268136816, -0.002342324979594648, -0.0014402658888173873, -0.0028719740064235134, 9.792815782208685e-05, -0.00014169048749819191, -0.0008960822489143307, -0.0018518943784915712, -0.00020271591155861897, -0.0076610065288929075, -0.0010660247937822327, 0.0, 0.00077431910504748, -0.00026768394925443526, -0.00017147462908161418, -0.0001257849438077082, -1.7284988288408879e-25, 0.00017474906783393793, 0.003457545998470847, -4.427071188515825e-05, -0.0006522031181893049, -0.0014441391164398954, -0.0007312210311272745, -0.003365171262597446, 1.9736113515848446e-05, 1.7875356443371185e-05, -0.00011966834996253941, -0.00013609360352350146, -4.216517112986301e-06, -0.0008079844688642809, -8.121706967358356e-05, -0.00019961906144715902, -0.0003346565120163773, 0.00014999239582690781, 0.0, -0.0017634246308189036, -3.0919153474747064e-05, -0.00010587645373095679, 2.537484695303836e-05, -0.009598056584984018, -0.0013452784805395989, -0.00019492417048752185, -0.002218050189678331, 9.616016305630243e-06, -0.0002960374480172735, -0.0034153010878631212, -0.00010380738972322554, 0.002908332435302635, 0.001309226391265074, -0.00013362838241591006, -4.328443629728792e-05, 0.00014020011808214385, 1.5063599576234733e-05, -7.529207194637534e-05, -0.003709206064607818, -0.00013979976041506384, -0.0026355574668085724, -7.349058884136177e-05, 0.0002719806655238489, -0.002727500826334988, 0.00011560385019142527, -0.0011484102543139808, -0.0004589422238237705, -4.084919971390753e-06, 0.00016531043058020628, -0.0012594914915585972, -2.7269345281138885e-05, -0.0018680895362809793, 0.0005060510299140642, -0.0010720170510912, 0.0003066701604516618, 0.0003791862565705495, -0.0007445347005328366, -0.00047325252124419615, -0.0020023349414058007, -0.0011597960595023228, 0.00042402116427865287, -0.0008618459178629656, -0.00010347375893231351, 2.8534588704050347e-05, 2.5516254603093253e-06, 0.0028919281416368518, -6.36789566524871e-05, -0.001351916016483933, -0.0010313504859075255, -6.601057605621647e-05, -4.537261429579246e-05, -6.755288455571968e-05, -8.190389572929211e-05, -0.00013670745434654963, -0.0002839759037511401, -0.0006044747222822462, -0.0008192989833740321, -0.014137377006862583, 0.000178564409261512, -0.0020318065865435222, 0.0, -0.0002595842615834782, -9.872736319221817e-05, -2.3037687656884204e-05, -0.000863728721507004, -0.00018486145722112511, -0.003050844720506405, 0.0, -0.0003133473922740843, -0.0035924580656133847, 0.00021158687022946126, -0.0024058765220128123, -0.0002187503353816274, 0.0007378482840962544, -7.451292123109272e-05, -0.00014627068764667335, -0.0007038875996311637, -0.0003605863205236984, -0.001522525179653424, 0.002104897446285504, 0.00019718199445646148, -0.001722775926375104, -0.003296487410491796, -0.00026235747333461766, -0.0016448659610485586, 0.0003570232724054284, 4.5912761416027915e-05, -0.0004619193440303506, -0.00039558112094824333, -0.004264456179042275, -0.00010154413727203441, -0.00012839304015809777, -0.0011480648618196608, -0.0001110506768306171, -0.0008348463971985187, -3.119314219920604e-05, -0.0002235702969214391, -0.00010798238781248695, 0.00013016631372979383, -2.371961080252858e-05, -0.00029553304893258916, -0.011558672004904002, -0.0002755579696836004, -3.486021124861326e-05, -0.00024604327972163414, 0.0001490720728363045, 0.0003875928408318241, -9.743235614347448e-05, -7.922140731708238e-08, -0.00017279601268663242, 0.0018714920602060632, 0.000204803784626236, -0.001960339730855522, -0.0005652930648630296, 0.004245443513468245, -9.295939465305348e-05, -0.001737398001179081, -1.0631004616444803e-05, -0.00029879070466543674, -0.0020484675179365825, 0.00017146872695788265, -0.0006270424684239307, -9.928558057330017e-06, 0.0036569967255674265, 0.00012539838704825963, 2.2860008064515264e-05, -0.000801130710466097, 0.0001785360063284938, -0.00042166119418399645, -0.0004884365631783792, -0.0023064538115216454, -0.0007232045393835014, 0.0, -0.00010302630012571584, -0.00017311168100153204, 4.0283543166383216e-05, -0.00021579190922196698, 4.951558074150176e-05, -4.103381232184811e-06, -0.0005114465227966872, -0.00025689790549317807, -0.002207181989916312, 1.4207275918011179e-06, -0.0006840286245776749, -0.002316574169378809, -0.0010977743577941066, 0.0005694829086099333, -0.003950334885827591, 0.0002262550507999653, -0.0015385910411656598, -0.0002059162962191459, -0.00017630745774148835, 1.9337234695656665e-05, -0.00012028562968563835, -0.0003063162008128123, -0.0003127830565924357, -8.524187539675304e-05, -2.4758506871273343e-05, -0.00045269683228787376, -2.0876947088881083e-05, -0.0022811156030418393, -0.003965960527468358, 1.9361964425548563e-05, -9.295518595323704e-06, -0.00030694558807795806, -0.0006321329330641393, 0.00035188474380641106, -0.0006197851534370691, -0.0004076312349616322, -0.0004705358283469065, -0.00045634293974471275, -0.0001269157539219004, -0.00019797649628307905, -0.0001346794355930006, 2.252839364664317e-05, -0.0005573155396837231, -1.889222826004538e-05, -0.0008487463907129482, 0.00014264287723862748, 8.389876239843287e-05, 0.0, 0.00012208268756640418, -0.002880035033164668, -0.0007903606205470839, 6.807832655486066e-05, -8.026242710998017e-05, -0.00021880970424472253, -0.0012300098109001806, -0.0011731097831238827, -0.0002955920075829508, -0.0006556835383103212, -0.001233351548584333, -0.00017985972100800288, 0.0007315172921282457, -0.0014340164875955624, -0.0016348185702210164, 0.0, -9.551408115647483e-07, -0.0016605975270920909, 0.0003657105163167541, -0.00016999509198986957, 0.0008967667660189547, -5.061823579362773e-05, -0.0003833082073997853, -0.0009502686597377696, -0.0005602896196767859, 0.0029981312588032074, -0.00020230990730056393, -0.00035049362094345785, -0.0016143350395695156, 7.956093499163713e-06, -0.002191491706267028, -0.0012257835897938132, 0.00019926319562134077, -0.0005123282571222502, -0.0009377246948626117, -0.0006812930920723721, -0.011012703721936435, -0.0029072977735158257, 0.0001936685961157374, -0.0011644246754306553, -0.0012096404387477503, -0.00048400655475534256, 0.0, -0.0001411470747474041, 0.00040336282558753116, -0.00010581391231167885, -0.00014034812660230188, -0.0005951824046366426, -0.0010691129290594816, -0.00040867377896624727, -0.00024448364687970636, 0.0002452357076554413, -0.00025184673379804274, -0.001096041575879814, -1.7878039323975602e-05, -3.966610466224293e-05, -0.0029210544752197283, -0.004113227073168893, 0.00044413368798230257, -0.0002297958021506526, 0.00017858702021406533, 0.0008797254704035608, -0.00017833713891801287, -0.002376449680077397, -0.0009430318769645774, 0.0, -0.00040545613842145605, -0.00020941931601546883, -0.0008962013967085885, -0.007584124503609162, -0.000559016202512042, -0.0005208356323788357, -0.0005973037983814965, -7.324350713279353e-05, -0.0017045519714333362, -0.0011464532740846378, -0.0010978872297169563, -0.0003621648161957119, 6.358970916261478e-05, -0.0024436114334276835, 8.362360431794652e-05, 5.4835858874032054e-05, -0.00040079228728782284, -0.002629393710675881, 0.0008643451218241699, -0.0013162386064400167, -0.002134965781358799, -0.00018013067554264518, -0.00016740695298202016, -0.00010830466615662593, -0.024254625643524187, -4.222880273096081e-05, -0.0013371735664084463, -2.662373925402066e-05, -0.00012074788983737261, -0.0008179205701323935, -0.0010410082673942005, 0.00011871078368774247, 2.2622863145843453e-05, -0.00013977756356598237, 0.0002775773784530998, -0.0004555065004606389, -0.001323103656328554, -0.00016218674986241577, -2.2894198969022608e-05, -0.0002920303250477746, -0.00047963472413707804, 1.5322094756829353e-05, -0.00017656239628471913, -0.00010943109018661831, 9.803157288776808e-06, -0.0015635852013114104, -0.00012512721186946587, -0.0030932306245178586, -0.0007052916072805252, 0.0012824327941904647, -0.000537616176206568, 0.00012487873400565685, -0.0004853164674789786, -0.0007247919248499175, 0.0008224876772680767, 2.1897316042182456e-05, -0.0007249664676837531, -6.360114402134115e-05, -0.0033180366077952984, 0.0016061913515842618, -0.0014768739377265905, -0.0044914819573720725, -0.0016831864658605896, 0.00020050981236354942, -1.640734997570639e-05, -0.0005611892844830434, -0.00027868580768167586, 0.00011614786526080865, -0.0007195910859318902, -0.003500906667147888, 0.0002487304772562567, 0.0005001832204700536, 1.1291873912840307e-06, -0.0014107423995759433, -0.00015460018200039614, 0.0001911805127465503, -1.1902449668762289e-05, 0.00011498131131909059, -0.0004253010212312062, -0.004649100286750802, -0.0001240725808212757, -0.0001864008850579576, -3.679822572186856e-05, -6.607209823938212e-05, -5.417775181668947e-05, 0.0005141019949619982, -0.001939199687361304, -0.00011996806525484129, -7.408117518870652e-05, -0.00038939358586822126, -0.0032848172206401682, -0.0007327435044280072, -0.00022272406346521452, -0.0038540598957457904, -0.0003126953483691267, -0.0014998163001104237, -0.004347142228143453, -3.285824105926343e-05, -0.0010227759100615676, -0.00010099684319413114, -0.0004411316037966522, -5.5392295069307456e-05, -0.00047183039413750666, -2.1409545463550167e-05, -0.00017246308119960436, -0.0009975858734946573, -0.0013365386462494099, -0.0007758148503804055, 0.00018429744740582998, -0.0010405903465741488, -0.000834177302749189, 1.7026108649225405e-05, -0.0007163623111594931, -0.0006708037103366111, -0.00016124290589136434, -0.0035263226439970676, -0.0010102787536784015, 0.00018022502879910124, -2.731528497564312e-05, -0.00014758051209339294, 2.6747421567742727e-05, -0.0023662875308954456, -6.933436706713364e-05, -0.0005739520730377705, -7.279093114813505e-05, 0.0, -0.0005285383231981778, -0.001291363269748232, -0.00020764159385721232, -0.0001250865663890549, 0.0, 0.0015290053019099603, -0.0011509166915525347, -0.002032969069540829, 0.00016126415293288873, 3.218614693255251e-05, -1.0868524972655147e-05, -0.0003023516987986424, -0.0011977564370011632, -0.0001365499110374004, -0.0014100690170054193, -0.0009193323826041483, -0.0001088983989940065, 0.003045160198353422, -0.0007166287539421705, -6.491516144575443e-05, 1.0979349471733224e-05, -2.273299056030565e-05, -0.0037523055364877666, -0.0006601437692379894, -2.650718645253169e-05, -7.900257033426963e-05, 0.00015533114482113304, -0.000319219498071605, -0.00027491384275820583, -0.0004140510925617663, -8.884088802035603e-05, -0.0014743573605806128, -3.3725787713798676e-05, -0.00031889680186199807, -0.0005620826835481091, -0.0031776014276952177, -0.00034566513759545005, 0.0005311636179131038, 0.00015031469344718582, -0.00012045190740620816, -0.0013523916174636146, -0.0008956904451663953, 0.0005316269754093006, -0.0012586341253065854, -0.021943826766005776, -3.884887824759914e-05, -0.0015617861463813494, 0.0001128515538955788, -0.00040191990132940747, -0.0024426069999507285, 3.955926032933752e-05, -0.00016702651816738587, -0.0004238627611575751, -0.0002587818498503813, 9.454262952192609e-06, -0.001899632496428738, -0.0011993661652734437, 0.00016573137446052247, 8.716172872015152e-06, -0.00776522853214722, -0.00037970054344304703, -0.0016097484523362967, -0.0009043222270879847, -2.4640064871264666e-05, -0.00027590908529407624, -0.0012981004432997551, 4.388875019103476e-05, -0.001487508591538949, 0.00025869980494803475, -0.004419184649374353, 0.0012365679426359379, -0.0013951672650358222, 0.0001878534674637442, -5.6670866405350944e-05, -0.0019108374859021233, -0.003734730869908056, -8.619212184867153e-06, -0.0003515607800780397, -0.00020223152419407932, -0.001613834591626284, 1.6067595523655644e-05, -0.0002460337670337548, -0.0005289144223288759, -0.0010701467995946326, -0.00029585682887050445, -0.001462005100176564, -0.0008484098731827722, 1.164614150716955e-05, -2.1266574274738172e-05, -0.00027556000930954543, -5.686121878558168e-05, -1.383552372886461e-06, -0.0070466388105866525, -8.409387505481714e-05, -0.0012087829475509611, -0.0019739564882560977, -5.013214104572818e-05, -0.011838256617160028, -0.00056828993918044, -0.0010473003917132676, 6.658311887667883e-05, 0.00237361321214914, 1.5348698129085255e-05, -0.0027056793763833233, -0.00020080924022016305, -0.0004035270473781022, -0.0024851170354210617, 0.0005855752608474895, -7.022119811953747e-08, -7.605178390030443e-05, 0.0009320351856830925, -0.00031010456374233706, 0.00012052309985258404, -0.001351306289688245, -0.0006053937476982824, 0.0006644859757798752, -1.2473489917697208e-05, -0.0007937541810906311, 0.00017113528398838123, 6.548166774675807e-05, -0.00044611021564871633, -0.0006104710350820384, 0.00010367236406739973, 2.952094909315864e-05, -0.00040869384531653835, -0.00017221829785533563, -0.0029003539833097904, -7.557284040060857e-05, 0.00018688414047964233, -0.0020454202318568684, -0.0012415508191442005, 0.0003204992436149011, -0.00025339749162332786, -0.0005958477281337914, -0.0006550622268702072, -0.0003401838421224632, -3.161639976373852e-05, -3.2181217310912973e-05, -0.10714465486065443, -6.241726349187964e-05, 6.64324224196622e-05, -0.0005234813936592034, -0.0012155801519554185, 0.00020212845175734853, -0.0005618778688710174, 8.944245665374096e-05, -0.00013971220041445766, -0.00020985211491873258, 0.0003036067105206357, -0.0005077693907086662, -0.0013467012174679634, -0.000863066830904403, -0.00030419675620095506, 0.000255810553503549, 8.966039208690052e-05, 3.583880384536373e-05, 0.0007420999627358619, -6.804409546651706e-05, -0.0020353956455076727, 0.00026905595446552986, -0.0023144014065545073, -4.0478166752416e-05, 0.00014447936009168895, -6.151590023547335e-05, 8.16817449807897e-05, -9.91723682901582e-05, -0.00037255746148274484, -0.000431081823321944, -0.0007455527456597439, 6.047195687551656e-05, -0.0008405017061017815, -0.0011503116687501772, -0.002859186054405172, 0.00021350753056032982, -0.007032505953611646, -0.003240194885051742, -2.502739503781389e-05, -2.1402399795309525e-05, -0.000996507431446261, -0.013569655476402175, -0.0008107339191067896, -0.01156583696537406, -0.0004844740644387281, -0.0011121934810497847, -0.00024316122282538397, -0.0010965574786691043, 4.52350996571837e-05, 0.000348521309330791, 0.0008749576734543911, 0.0213717897964052, 0.00021563863786833897, -0.00047737809558150813, -0.001312217925314794, -0.0009947227823467989, -0.000133492266336866, -0.0030153920279984777, -0.0013728297547629306, -0.0004319403448295173, -0.002467120331412815, -0.0010480597978446693, -0.00013794707864984697, -0.009858347040654823, -0.000892213801835758, -0.0014488270580832515, -7.257388286671205e-05, 0.0, -0.00039823812272930944, -0.0003695026636150437, -0.001624261236518772, -0.0036765908425801944, 6.975558422569477e-05, 0.0017646649937468387, -0.00030734250528663377, -0.00032589455239142185, 6.738824018691409e-05, -0.001907525384194075, -0.002140806742117525, -2.516529428604881e-05, -0.0002893791050943235, -0.0005741051196164871, -0.0016603132288814315, -2.0266127393619808e-05, 0.0007637237759149508, -0.0005471922392299242, -8.275266607560911e-07, -0.00035146109201390514, 0.0005261638859265027, -0.0019585154955028133, -0.0006152938427519242, 0.00015747563853025134, -0.0945267868777481, -5.771682893778532e-05, -0.0005523553485042073, -0.00011987807412211031, -0.00012566874001978965, 4.298111937661776e-05, 0.00019332632549017476, 6.208903182718234e-05, -7.014445898878754e-06, -0.0008422463212141864, -0.0005681503630659999, 0.00027178556322508417, -0.0010214856819097421, -9.795913081451292e-05, -9.967474878694793e-05, 0.0034543413152354797, -5.687152042823706e-05, -0.001091745520037748, 0.0010134155470935009, -1.8501149273191618e-05, -0.0008372910584691696, -0.0019542230426407856, -0.00032638972941521357, -0.0022392570653753125, 0.0, -4.361194039831276e-05, -0.011064891637557162, -0.0006345040281718785, -1.6387069900224556e-05, 0.00030521219995327694, -0.00013325449206034104, -0.0014491506184211732, -1.405732239365062e-05, 0.0, -0.0010802680954494657, -0.00030324987550333466, 0.0, -0.0007851538001766133, -0.0006964988668405946, -0.0011311536630074952, 7.007011642576614e-06, -2.8283917995774976e-06, 0.02053155819568538, -0.0003527190494426997, -0.0004956223378420092, 0.0016057791939370965, 3.5057613331202646e-05, -0.000311178090853356, 0.00445392312011355, 2.62371345769023e-05, -0.001170454071629625, -0.0008329633214263401, -0.000632809070105181, -0.00034185220088558775, -0.00043729456619969847, 0.0009334435086811908, -0.000402159815077632, -0.0067355048159752524, -0.00034530890940796805, -0.0012699151552536475, -0.00034565721446763904, -0.00044690278055441163, -0.001656150063105397, -0.0034881374606352002, 0.00033668764706935357, -0.0008860101282457505, -3.2135529911971504e-05, 0.0, -0.0020401347985107105, -8.672215147291333e-05, -0.0008511312380851822, -0.14872670711036853, -0.00029808907588115414, -6.89606198777222e-05, -0.0009514989893339008, -0.000610130618638431, -0.005783594329230799, 0.00015477661004164502, -0.004318464573490292, -5.373708328286819e-05, -0.0003424676318915767, -0.000153561558005317, 0.00023881074523343326, -0.0007036338495567628, -8.478089081183735e-05, -0.0004304008251447667, 0.00012679394805659725, -9.334207940887258e-06, -0.005304592757568242, -0.06948227424893363, 0.0005941940878336934, 0.0, -0.00032901082656652646, 0.0006705664352028142, 2.9996642011426696e-05, -0.0013268336305943726, -0.0003209362264066946, -0.00010700465542498628, 0.00133612668419243, 0.00036792348368534463, 0.00016573137446052247, -0.0031461919897759734, 1.022601057687512e-05, -0.0003252803227058181, -0.312121040868784, 0.0024870806443297246, -0.0007744720546234095, 9.022931392056419e-05, -0.0001792276697508365, 0.0003261797219767329, -0.000489319521938172, -0.00371167455036658, -0.0009954995399545834, -0.0003261805623316887, -0.5411167819874382, -3.4383633755494975e-05, -1.4087900770052961e-05, 0.0014240997879118357, -2.619591243859668e-05, 0.00011480547691438367, -0.002685917158352643, -0.0004395872257561173, -1.1479904069783876e-05, 0.0002230893002235282, -0.0005816519354590698, 0.00011656170234261253, 0.0011965192135995374, -0.03301392169515593, -7.046652922799227e-05, 0.000500449121022989, -0.0015228212999744237, -8.088806431115655e-07, 0.00015091581589134992, -2.237720284986274e-05, -0.0032904536550162704, -0.0002111608631895077, 0.0002699698322701808, -0.0006500811021560391, -0.05284177867016653, -0.000215764446147379, 9.48092283984628e-05, -0.0032490084413279736, -0.0002389605013230548, 0.0001654036759668542, -0.0014347697763225436, -0.001761499401250697, -0.0011686359138486128, 0.00012425681893580298, -8.373185209237714e-05, -0.00018900406190494094, 2.7452211503450463e-05, 0.003905159995084157, 0.0003933653358726141, -0.00016186903522472706, 0.0005194265850565839, -0.00017548590333139871, 0.003794635520283137, 0.0, -0.0004295384985419103, -0.0001993750306032377, -0.029866141514079635, -0.000276751431310026, -0.00015810376019567842, -0.0007584842110610153, -0.0003069734029089554, -0.0006446922024398896, -9.758969224205044e-05, 0.00024323537518734117, -1.5649603118535215e-05, -0.0017617581563233614, -0.00010205544898555559, -0.00016555735495359192, -0.0003887726774294873, -0.014779586317918312, -0.0005260472593898755, 0.0, -0.00045380988402956933, -0.0011292765232727019, -0.00017032349889858315, -0.0007001299210616073, -0.03118957216469012, -0.0014578620558010074, -0.0009364720257182703, -7.245875575221152e-05, 0.7000473297616593, -0.0014822795822649597, 1.0303323022579869e-05, -0.00026007511620464955, 0.0, -0.0007451134453086765, -0.002598828681402833, -0.000647371542803472, -0.00014458564820634076, 0.0, -0.0007140871847101591, -0.0007187474565289373, -2.007847147772937e-05, 1.3969695721866517e-05, -0.00023898795258230947, 0.00043911507622236426, 0.000709717706597521, -0.0001707480945497237, -0.003809996624183717, 0.0003673308265802127, -0.00012210886150917363, -0.0004615501302100918, -0.0008482106456752409, -0.0007560556122916894, 0.00013736737687839273, -0.0008885487712879666, -5.472731794325734e-25, -0.0010455475202711965, -0.0006762075737413444, 0.0004031834123260486, -0.0007848247211875204, -0.00012023233011227299, -0.0007302011835727362, -5.412298700649383e-05, -0.000799878179239642, -0.0010387152777268727, -3.3646526235845476e-08, -0.00045555448892452526, -0.0007302447236502968, -0.00048312054448132, -0.0004701938648653319, 0.0006433474764352497, -3.666460241658074e-05, -0.0017414393415200104, -5.932395006685748e-05, -0.0009073352518683595, -0.003246106496451545, -0.0007281133585689011, 0.0, -6.0436719113990755e-05, 3.525160923593086e-05, -0.00047626710897095503, -0.0005201763470308124, -0.00012570841084869362, -0.00045018053594273827, -0.010640278095659879, -2.984817818416925e-05, -0.0019469557273969782, -0.002943729990744452, -0.00035258984468255713, -0.0005018262131749774, -0.00010100853942922384, -0.0007202758032229487, -0.0004108673388375886, -0.0046859138302836716, 0.00039073690378665314, -0.000750500443192856, -0.0008599391917173478, -0.00017471587276661298, 2.0562987675143356e-05, -0.0018782107032223375, 0.00013127482729130633, -0.035359941473569786, -0.0011456773377093274, 0.0005344601614931239, -0.00042781331799697503, 0.0002985723541184995, -0.0008070861661858107, 0.0004778798858056492, -0.005493152024460483, -0.006415706129226304, -0.00035055123847489033, 0.0001269029398298985, -0.0027405828994067033, -0.004338638622268098, 0.0, -0.00045429142289788224, -3.821257337455977e-05, -0.0024714246686470985, -0.0006359661091722039, 0.0028160205102862068, -0.0013469093141254159, -0.0001855526094058457, 0.00011024919877605995, -0.0007143380953709091, -0.006301373820234405, -0.0028481453182538875, 0.0002510698470405513, -0.0001391583378366829, 8.688933158879939e-05, -0.0002575249009190896, -0.0849444851662457, -0.0031650494096017927, -0.0004907289861492387, 0.00040902291104352707, -3.208338251528621e-05, 9.788479262390081e-05, -0.001962941283757929, -0.0017431718874290594, -0.000919946662939914, -0.0016544633330233588, 1.8510251198475328e-05, -6.295999252380855e-05, 0.000565728275132576, 9.816182779514743e-06, -0.00020943433870527467, 4.187392375187123e-05, -0.0004953716491685302, -0.0004297352092290303, -0.0002276409309195866, -0.0006843510833200517, -0.0011075849848856648, 0.0, -0.008234068725097458, -8.845856004480805e-05, -3.4477226939593605e-05, 0.00027546625781714706, -0.002136671597896548, -0.0008986054697440535, -0.0028849805265839528, -0.00018222079762480803, -0.00016741749762655024, -0.0003278932003570667, -0.0014605080114525096, -4.200313782161263e-05, -0.001881935316820268, -0.004516815372375336, -1.767336913915018e-05, -5.556318105803233e-05, -0.00026800933447768154, -0.0028332838007887494, 0.000124153285833339, -0.008234608598229366, -0.0008996772694775007, -0.00013333934385683705, -0.000631855629792995, -0.00141539419635497, -0.004197833659368271, -2.894308607208294e-05, -0.000182167299372568, -0.002318501816184573, -0.0022115633475855018, -6.69055553498002e-05, -0.00011581944017973886, 0.00048348780471008123, 0.00030310261206088074, -0.0001025698168316188, -0.0003409202109630284, -0.00022455265201995201, 0.00014343901538256594, -0.0015566738533943404, -0.00025209448346530107, -0.009294204716172608, 3.419130309936094e-05, -0.000552081340497869, -0.0008373960562307472, -0.00168171954194492, 0.0013280778262882561, -0.0005301743305531159, -0.0008084342639193405, -0.0007811454907513517, -2.1604264138151135e-05, 0.0005300268257757354, 0.0, -0.000733495865770506, -0.0010911095292145566, -4.2561994786091366e-05, -0.00012209668705800264, 0.00021679067710916191, 0.000306270339220487, -9.40413070253255e-05, 0.0003873431596721224, -0.001679085709766068, 0.00012943883963856725, -0.00032425843461767845, -0.01098020627117176, -1.7331387026883873e-05, -0.003422002836860591, 0.0001852354425159001, -0.00023056948707995443, -0.00043457379722083595, -0.0003813542067397824, 0.0005187362843926498, -0.00015797748367463215, 0.00023688090887788517, -0.00019802116653319294, -0.00015096389318342343, -1.484374499207405e-06, 0.0, -0.002494455754224697, -0.0012504424943326855, -3.6822469137338644e-05, -0.00031536360179569605, -0.00011884650757713564, 2.1254379225692332e-05, 0.00040032924830324997, -0.000267677479195785, -0.00782751806446033, -0.0041850749068075045, -0.00011013870638462119, -0.002963242960733624, 0.00030921238935731495, 7.68570555771314e-05, 6.367328790357057e-05, -0.0014486252750263832, -0.0005367676458724301, -0.0011553239778896286, -0.0010601472965539945, -0.000129549191133907, -4.420280635239913e-05, -0.0005659702089687548, -0.003384382830287496, -0.0002193525243083476, -0.0001663377650252539, 0.0, -0.004686992697802565, -0.0008014297858605896, -9.87494265096077e-05, -0.0007351835794024671, 0.0006809473152845268, 0.0], \"z\": [-0.0012123556145665765, -0.0010781507915153254, -0.0008318328696399202, -0.003909836987367132, -0.0011853576667402166, -0.003997695991966421, -0.003986984328871235, -0.0029497986845237745, -0.003481611289280831, 0.0006931858948986316, -0.0019559375206457848, -0.0013697374140635328, 0.0012491118869966801, -0.0003406019451932358, -0.00037793961375317343, -0.000188874705550076, -0.017079529657145955, -0.0031207437326714123, -0.0006593606478496714, -0.0030336714626500666, -0.0007652475757890701, -0.0005563018118525898, -0.0005006895800184343, -0.022222023500009777, -0.004988902426254363, 0.0009165738327194772, 1.88079096131566e-37, -0.0007753190028039533, 0.0, -0.0011082042958539314, -0.0031501004526994242, -0.0001522951852595768, 0.0031117993860485145, -0.004077336782118705, -0.004118530559379875, -0.004108333082451662, -0.0021697663577475972, -0.00020765237184889625, -0.0037221593933821303, -0.004527947649421221, -0.0007842834656885267, -0.006154623674521631, -0.010196745491297943, 9.102497272548898e-05, -0.0015250041026539268, -0.00046222430804887033, -0.012007101291122556, -0.016822497956565676, -0.00037256304013213906, -0.003738728871934073, -0.007163848038853908, -0.0022214582104884027, -0.1142708876168565, 0.003216915667029413, 5.175874000773933e-05, -0.005849980040584658, -0.0004232164582522257, -0.00041140977716268133, -0.0014990376648225169, 0.00012500059429846716, -0.005838335187908074, -0.00035507876176423854, -0.0005612338693057011, -4.12811957465786e-06, -0.00455491615338513, -0.0013994578949086515, -0.005128299153556808, -0.005950941514589613, -0.0009129405199250134, -0.001970457385525817, 0.0009253857074031227, -0.001138764298540644, -0.0022497802495443555, -6.971670517596536e-05, -0.0036295299372803226, -0.002484048153721978, 0.0, -0.0014567288122281441, -0.002139793925173105, -0.0008496822442998496, -0.014752062559164295, -0.00010377276041382336, -0.13999878368388882, -0.023440626144038607, -0.0024983360573690313, -0.004042826031540288, -0.0022137316902789157, -0.002937150534122024, -0.002673840707132706, -0.0020108221127756324, -0.002580198371416592, -0.005115702031653924, -0.0008974212503600915, -0.002322633385381945, -0.0002749144025769389, -0.009288755686500144, -0.0013515543184497748, -0.0012123433449054049, -0.003307113854237209, -0.0010081471197094611, -0.012519003473899361, -0.00016048744548956338, -0.0015454921670954884, -0.0025049990388313764, 0.0, -0.008036246957743893, -0.006529296033527874, -0.0021392724098759325, -0.00033535256189793673, -0.002684468994288525, -0.0011980259142304406, -0.0012666571380331498, -0.001432700404601391, -0.0005110068079282154, -0.0006826603522177665, -0.009916189542880198, -0.0015897225778369617, 0.0005543170839894038, -0.0016231991997204213, -0.024179735822892783, -0.0030018430160458167, -0.00168180664298381, -0.0013214506203172815, -0.003994036353712508, -0.008840715875971917, -0.00036122178971956926, -0.023389775670791122, -0.024531662568907025, -0.0011428901585079968, -0.0033222895755660037, -0.002046212269055198, -0.1606809557650013, -0.0009938075770250837, 1.4322264168803335e-07, -0.0007836473292942111, 0.000863897758560962, -0.0020174313141453387, -0.0005934599265634224, -0.009284925316311633, -0.014768734888448402, -0.014184103481926601, -0.0016041357585756064, -0.003107567194369991, -0.002794161435041749, -0.17985120953498324, -0.00045421213625596187, -0.0005107568223271065, -0.0006747074902591275, -0.0027046943121052914, -0.003658797268844106, -0.0002195645284828664, -0.0001991149972510177, -0.000959635793879641, -0.0008471648395219685, -0.0359258905671669, -0.0032952643454843816, -0.002823139161942931, -0.0002182621914356403, -0.00335647933473597, -0.0002642325601480123, -0.01911353431597299, -0.0018766193862653259, -0.07903680484739081, -0.00059267688696584, -0.004266404239005674, -0.0016216051437115712, -0.004288601612112939, -0.04803810877033448, -0.00030747333145456047, -0.0017222101670048946, -0.00145220947254312, -0.016160362010502333, -0.0092185383280977, -0.0014722896179717247, -0.0012753870098180825, 5.072792897723058e-05, -0.0015037848594234887, -0.001370991016620113, -0.0007044369059845735, -0.000580498724622149, -0.001756926228749695, -0.0007879165773789328, -0.004170964683175533, -0.011489666047200494, -0.004078344992612979, 0.0, -0.0002778519054534918, -0.0029276270917406224, -0.0035098869426407418, -0.0027431751748157617, -0.005716667448669335, 0.0, -0.006725499088674074, -0.0005166867809715866, -0.0014146598867939664, -0.00039530443137509707, -0.0024879728202220454, -0.003008771135217222, -0.0011110806115806528, -0.0007748640714682389, -0.0005260211872290962, -0.005720277372027132, -0.00288966786431454, -7.59014529501432e-05, 0.0, -0.0036277999499702736, 5.094360254144072e-05, -0.0005095408157705165, -0.008681874636762815, -0.0016382387394063514, -0.0016421301731138086, -0.005706194484899855, -0.0012671197505761153, -0.0007348526114605543, 0.0020385813544229275, -0.00025596553036326484, -4.048555521977275e-05, -0.05755362518728274, -0.006575475316566633, -0.0024941295279673798, 3.583017647000428e-05, -0.0037367399509501244, -0.003325603683926682, -0.004701943141658687, -0.007049297760380556, -0.0029622647937100443, -0.00017064292922975885, -0.002858346173949406, -5.4201549847080056e-05, -0.02326089161863718, -0.00047084624036301413, -0.0016425473781877308, -0.0005288505098707052, -0.0022825060014873572, -4.958242055707584e-06, -0.03208812648677249, -0.0031720829086695234, -0.004346444746687245, -0.00014319209612198295, 0.00012777753246989492, -0.0017124972801820836, -0.0025844033702106255, -0.0024045676498341225, -0.0030263951464475705, -0.0009707132488355439, -0.00036694338819304254, -0.0038727363793340736, 0.001378218633499787, -0.0156742381457043, -0.0020665078385415704, -0.001707110784263025, -0.0019338025492026873, -0.012210689240943548, -0.000656373641232695, -0.0007029592190433331, -0.0011869603266242584, -0.02441550446721056, -0.0011019804341118307, -0.0008352436495193115, -0.0006526221587316328, -0.005944274773824825, -0.0011527485601890827, -0.016207325508546967, -0.00015091860822916896, -0.005549129751259494, -0.0027351392486581654, -0.007241218148778154, -0.0004380637735580452, -0.00032885510356992924, -0.0005112170502038655, -0.0010772315478614735, -0.00045728853836425577, -0.04691133502638027, -0.0006542175827537462, -0.018272851681205023, -0.0019420187973763297, -0.002150658401716911, -0.0015428780596204053, -0.0022796886436915248, -0.0015011791624284076, -0.0038438089098507427, -0.0002746038461617836, -0.00266725026227295, -0.0007065195004955975, -0.0003572810979512071, -0.030071066118178176, -0.00022709014982494262, -0.00950239127507254, -0.0007872573829390334, -0.0012878291809841561, -0.0015604236540216303, 0.00028102626721716693, -0.02238553237991846, -0.001208108937250576, -0.004475350655412807, -0.002544230747327469, -0.01135299804347459, 0.0002603255951427998, -0.0037817847320091836, -0.002837363284467476, -0.002039637991341889, -0.0009971630580649482, -0.00102102936476427, -0.0007196198776897554, -0.0006630662487589569, -0.00014092448003021483, -3.465901828697673e-05, -0.0013597174429620038, 0.0004881916690156028, -0.00477532965009385, -0.0031029980877489483, 0.00017975032698759567, 0.0006139018799144801, -0.010455116330488085, -0.0008743162631283353, -0.00043581538553528516, -0.0052131962421872935, -0.02086927429512934, 0.001586451036834546, -0.0067484514260603, -0.0058043721720031135, -0.002141088954055669, -0.002801885777824144, -0.0016409884138396272, -0.00447649748803298, -0.0013377418063729109, -0.0017102569434672562, -0.0009461926402687212, 9.056562585099632e-05, -0.004542320113816456, -0.0008530967212577892, -0.000734965843931952, -0.0015329164480679066, -0.00036525990128397155, -0.004094122414605471, -0.0013802093688149444, -0.0004774508015038819, -0.0017810462498066015, -0.0010102696203455148, -0.0030768313251495565, 0.0, 0.000869621585670874, 1.5050474558729146e-05, -0.0015832840232834916, -0.00018295676505273683, -0.0008213793868169228, -0.004701276140120116, -0.005322008494300668, -0.003093692743743117, -0.0030315184593517823, -0.0006331672146727852, 0.0007283483837295086, -0.0019016990556329368, -0.0057649697047752815, -0.005035118499053271, -0.00031731220219071376, -5.7574865035295064e-05, -0.0026133094947042674, -0.0007821637887022706, -0.000247822366022418, -0.0015143973201291545, 0.0007409547449283157, -0.009385094571892075, 0.0, -0.0037174593977539984, -0.0003773566838371151, -0.0007408129995336957, -0.0058531405709164675, -0.0005390284681758962, 1.4568534693883125e-05, -0.007133113036343392, -0.0020877280498944753, -0.025406470504051225, -0.0009458476340147513, -0.006392672022107716, 6.610164256029853e-05, -0.005413984283313021, -0.0006761053797703372, 0.0003767661154180052, -0.0016640515753849913, -0.001844063311178395, -0.0014263174251454272, -0.0010610743137398192, -0.0003456179980077691, 0.0014191100350913997, -0.005034412729934949, -0.009902324904393746, -0.008044451255500568, -0.0023664635633258114, -0.027292830708224865, -0.0012934258795344379, -0.0005978613225572179, -0.02000598606872353, 0.0003935174050049276, -0.0011173703183085745, 0.0, -0.0006414664217190493, -0.0012159571349452515, -0.0072775771747373135, -0.0010438847724236627, 0.0, -0.00842232445799127, -0.0032341577911893637, -0.0007606155979380406, 0.0012586630284747884, -0.0064100477167349, -0.004071756479844876, -0.0031413183105421854, -0.0051488824196871605, -0.001542987383298867, -1.409166715424128e-05, -0.0042695653113746, -0.0021023444974166867, -0.002644046923667876, -0.0013640004026863565, -0.008002099289463778, -0.0072385665845307035, -0.0010374054344783874, -0.004879486360207258, -0.001762316373781995, 0.0, -0.006336338496175624, -0.004469762219309287, 0.005204362966539677, -0.0061372654836889876, -0.0064633737116771605, -0.006313754078307371, -0.0006379546380189268, -0.002853039230409218, -0.0010234409341570644, -0.0004016390636957316, -0.011516671835789964, 5.920166997856657e-05, -0.0006419321088692403, -0.0052405885659790544, -0.029620001279147393, -0.0009219019497410579, -0.00018640252380535506, -0.01100781420950319, -0.0011058680958357645, -0.0019050032772141704, -0.0037608877929474157, -0.0010526850233174884, 0.0, -0.009352459102248144, -0.0010016082391553992, -0.0006387136483862756, -0.001833509568682153, -0.00029927993066786006, -0.0036741220129917393, -0.0027121095621928408, -0.0011466681952736802, 0.0, -0.0013611130899695647, -0.02939597631318929, -0.0047184783488911, -0.0017097564748714163, -0.0008059084489195241, -0.004134526206856323, -0.0013977245670457406, -0.00024520750959349435, -0.0016843494061134865, -0.0002774784107781948, -0.04650717413853345, 2.3758528785236974e-05, -0.00027319359109324116, -0.008677678306836457, -0.017535219087127966, 0.0007160608962526103, -0.005828854505893727, -0.0005066760049206353, -0.0027872552999669755, -0.003851635360218038, -0.0010281548665002835, -0.020170475928535405, 0.001316553610720245, -0.002392457970050299, -0.0006837691134892497, -0.0023201912398033296, -0.021433113728081345, 0.0, -0.03938893411202588, -0.0001546857242112949, -0.0010477223989143229, 0.0007780362113603163, -0.016716418927916286, -0.00021348622856575216, -0.01696594623750813, -0.0006895976811031706, -0.009879137981408466, -0.005817498707506716, -0.0016771256353883125, -0.00041747993488298267, -0.004367417871112508, -0.00046204087218096004, 0.0010065741247030663, -0.000372356721184998, -0.004676685430993545, -0.0024507183536835535, 0.0007680003983586174, -0.0017779066410750792, 0.00036949557672937065, -0.006789200773147514, -0.02016099139209258, -0.0186968883191818, -0.0008622884475067733, -7.710072037618481e-05, -0.003622741582969092, 0.0, -0.003870548665848478, -0.0005657801837765044, -0.00041401610656861517, -0.001011280183247997, -0.004635421552269788, -0.004040607910359501, -0.0012962998604665896, -0.004882604035418785, 0.0, -0.0920498501612355, -0.0010458728280689348, -0.02614328507748626, -0.017761945567753304, -0.004483263443000506, -0.0017643571629640008, -0.0010255538168371903, 1.5928296018568806e-05, -0.01151335180404726, -0.0020291089363848724, -0.00653605005437401, -3.882061565535978e-06, -0.0008383190352691217, -0.005705026398875378, -0.005925937203737626, -0.004623836582162146, -0.0024663638718120874, -0.030064394062899694, -0.004732099270148037, -0.001771332175733006, -0.00011696827160747616, -0.0004861557416323613, -0.00359639597501285, -0.0006021573072407119, 0.00020529156226153884, -0.002639513339675778, -0.0019324527102533395, -0.005647078454978969, -0.0054512841882970245, -0.0012626270447090742, -0.008652698451562052, -0.0007399861493118825, -0.00044199756748251466, -0.00040444943717732296, -0.0019220880510717022, -0.15623413764677258, -4.071552260302289e-05, -0.009222028380631997, -0.0019321466490528822, -0.015598548963592638, -0.0018432706890081916, -0.0014941124332661579, -0.013083237742826532, -0.010515868303674084, -0.004268500204090605, -0.0005835478519711335, -0.022820102133911294, -0.005486137142758405, -0.032555166400124944, 0.0, -0.00456039588177782, -0.0136954040025353, -0.0008598991730709161, -0.006994945607595535, -0.00019758719757167128, -0.029653204888738252, -0.0005425798485199803, -0.004484073422815423, -0.0007283761804318544, -0.025168005822062647, -6.544961466735613e-05, -0.0008020682517830901, -0.00032306661853421994, -0.0007765502651794045, -0.01007418963445053, -0.0008446469770831154, -0.00022929043456151847, -0.011479795780819082, -0.00100812071109322, -0.0004331153252524065, -0.0012035099219057292, -0.003340311713568673, -0.0002689319522989197, -0.001103984122074678, -0.0008393741017889035, -0.0033416409183162276, -0.0010612106490289909, -0.0007902070384361784, -0.00038324568471771904, -0.001706557631906014, -0.009897020130749602, -0.001974837248126324, 0.0008358660542202814, -0.0004939575905703535, -0.0019601041022163663, -0.002768639096046434, 0.0, 0.0, -0.0008730748529161014, -0.025972079285580055, -0.002252728049844535, -0.0010654080786147487, -0.001872678667597885, -0.0030321617283356516, -0.010754025664526507, 0.0007291523484771577, -0.00842778849623623, -0.000329166439475318, -0.0010568253393036884, -0.005938143808442477, -0.02050880629118191, -0.0009005353889560674, -0.0007691210526778857, -0.002006840734828909, 6.018406622422582e-05, 0.007439033891653761, -0.00632196654240656, -0.008992078368160383, -0.0004717916132970369, -0.005096661541005475, -0.0012563935892057963, -0.003283711728084528, -0.0030461564250785604, -0.0073134235552120164, -0.0020628979773430244, -0.0011365946255790615, -0.00037084906171714157, -0.0009438527904989189, -3.106409601268164e-05, -0.0024990253433607493, -0.020938924002819624, -0.00035984070870618407, -0.012809086056541557, -0.04810979078023864, -0.0012288871313945737, -0.0003590117220597166, 6.887008275319774e-05, -0.009276590164876511, 6.181856659789889e-05, -0.00050441890246215, 0.0007888523031717363, -0.0008221977500065165, -0.0006968579136110533, 6.377770125141907e-05, -0.00017642835560984402, -0.0006953095313997062, -0.0020054536907110417, -0.000576528909771086, -0.0005818843153794289, -0.00439830508320918, -0.0015518480633383716, -0.009079958078226502, -0.0005146981394645588, -0.0006820063593811259, -0.00035250259656029593, -0.0024916175893369553, 0.0005898936605309856, 0.0007413624806461435, -0.0004728187651787704, -0.009061289188447522, -0.006015535679120921, 0.0, -0.01513794924701835, -0.0043881872293412665, -0.0008090018046671187, -0.0003581631907832854, -0.0030592492349552133, -0.0007382459292834308, -0.0007637556264195421, -0.009862187071770698, -0.0027356780552882814, -0.00017160769167799206, -0.0006441856303550523, -0.0015344983283642074, -0.010977690205456017, -0.008977759249956235, -0.0008792567298167991, -0.010926320708978286, -0.002074402840496864, 0.0, 7.58267339287913e-05, -0.0015298180489790969, -0.0009360431212084082, -0.0007880553098695759, -0.0007294547601239144, -0.0004593757793644516, -0.0014555104935748465, -0.0007059788263810148, -0.007876666027053537, 0.0011740651888463148, 0.009328943426510526, -0.01341126037972969, -0.0004912124649732898, -0.005919733370484862, -0.0032852425458464985, -0.0017316105745301337, 0.00022250966904103822, -0.0009225109062082218, -0.00346537899127159, -0.0026672055275780682, -0.028276621784784704, -0.0002140602289344596, -6.464243025286438e-05, -0.0004676345237340504, -0.0009879355787687691, -0.0022683374267789312, -0.00037517202216873674, -0.0007517742948050721, -0.0012480454007543556, -0.0006090117981550644, -0.0031300401702849564, -0.0013870932647788176, 0.0015795493016964618, -0.00407335794413554, -0.0006790592993716611, -0.0012200852498374579, 1.8754942201794145e-05, -0.0025355453642437113, -0.00161192482938303, -0.002691757419991707, -0.016641432625970547, -0.02054491411041287, -0.0010728710547409659, -0.003291556306555753, -0.0006268679113267074, -0.0060804461862615225, -0.002191374281435431, -0.002189311750405174, -0.0003855418952926569, -0.0011016498341293686, -0.005060117215199848, -0.0010924232886244144, -0.0018963887093778984, -0.0018795703820042341, -0.0011666055404791198, -0.0008858973114452684, -3.0800909088532266e-05, -0.0022963316239978278, -0.03553197983738412, -0.00613436153561147, -0.0017870360055080123, -0.0028400624952450403, -0.0004582595771724282, -0.001612852217157161, -0.0014394237034886994, -0.004034558729800019, -0.008128766002164198, -0.0025623798556976256, -0.00013414923638245652, -0.013182717145813285, -0.0006279973516857401, -0.0011801775862219969, -0.002410652796892137, -0.0017872649533325897, -0.004342597743392837, -0.0027954479028956787, -0.014484005366235933, -0.0005262150743222858, -0.006814937442467293, 0.0006273570398407103, -0.012577339488925579, -0.042388633167063025, -0.0010412730608765856, -0.001923416623549734, 6.164156388973624e-05, -0.0019963525561598992, -0.02974277707047561, -0.0008291981988329296, 0.001615451657370776, -0.0005031423013590245, -0.0012273758834827823, -0.009157548531347846, -0.0010225675319952211, -0.004721760064900456, -0.000921847004385703, 0.0012767563367807933, -0.015592156069096218, -0.003688254202150871, -0.0026475191504815344, 0.0, -0.0005537034673457186, -0.0037002689999146355, -0.00012901689520162547, -0.0009400039415090114, -0.015759511615763066, -0.00481503421680428, -0.0002818290981043756, -0.006243945348429727, -0.004343008315064978, -0.0025647043273484276, -0.024800576258211485, -0.006061025909639294, 0.0, -1.0015665810394892e-06, -0.007091018479358182, -0.002616857410061588, -0.004350211435112312, -0.001562678851735304, -0.0013824610838949099, -0.005482332326468147, 0.0005241789206915122, -0.0006453422226151982, -0.0040795960610285065, -0.002095461396511012, -0.0005676732038710075, -0.0045636248796726625, -0.004295767953420695, -0.00534513723049213, -0.005175522106296651, -0.0006588275325990874, -0.0003468011124874306, -0.0016393126576730664, -0.028134417756933542, 0.0029330004217703984, -0.0011965675270894328, -0.0018493065266606337, -0.0035959000718431547, 0.00017900666636328362, -0.010098826921320568, -0.0001971409560656023, -0.01643764120044153, -0.005642069865099786, -0.0006086690487585881, -0.00328411197287463, -0.013172948084648816, -0.00044480741062180145, -0.0025050513720190864, -0.0003725348459579564, -0.0065420181893602715, -0.002662410296611644, -0.001881706741526006, -0.057413528240794834, -0.01904878004136387, -0.002395474363734243, -0.004260033362243196, 0.0, -0.003491557759749474, -0.0013604778934057002, -0.0006633696025636743, -0.004287977810763192, -0.0066377015573299844, -0.0033057750898315276, -0.009989279546734882, 0.0, -0.0006058947641800895, -0.002282460608107502, -0.0004205695153187486, -0.002677508334095282, -0.0002714628576297222, -0.0006272241180025654, -0.0017017111151288859, -0.009048985176930147, -0.00019287249986008875, -0.002074295471860764, -0.0005606485445597945, -0.00028626713812874736, -0.0001721745172107452, -0.0016504240557193549, -0.0026684722047794615, -0.00038910607961853264, -0.002372301932901353, -0.009272931402038354, -0.0028342460374447868, -0.0005468669483104413, -0.0006588582275975541, -0.02018045857898254, -0.004590960546540685, -0.0190278322831405, -0.00014284275584088753, -0.003969347231704651, -0.002025471390125019, -0.003120242243636172, 0.0, -0.0005260148175194809, -0.006987564095488607, -0.0007795713214481337, 0.00012141707353726655, -0.0008457634247226464, -0.0033156731835857346, -0.0037383048302928345, -0.014661854610737747, -0.0033541304388513974, -0.005405050156660185, -0.0020045611453604856, -0.0002478954584091427, -0.08829379927080432, -0.004644940654245996, -0.00550511641364344, 0.0, 0.003833135888922194, -0.004269918737141818, -0.003277304943669256, -0.008553243377847283, -0.0015353420416114854, 0.00022342795106212497, -0.0016948642649459763, -0.0014438553020602652, -0.002192673998214686, -0.013360038536668301, -0.00781530315462718, -8.124955439467148e-05, -0.003683830822516401, 0.0036104171970051018, -0.0008453498366248146, -0.0007314165244194888, -6.9760000468968005e-06, -0.0037965315858606726, -0.0006810939600560502, -0.11152667443826592, 0.0, -1.3189094802817864e-05, -0.0007740225205532574, -0.0036668989678466015, -1.8203420319558067e-06, -0.0017228230525954409, -0.00139071203523364, -0.0012107438778854675, -0.00036646903673814705, -0.004660066469261691, 0.0003439910567938293, 0.0005087670089943887, -0.006741322295062145, 0.0, 0.0, -0.00027506795318134536, -0.00015451101200976495, 0.0004756573657605522, -0.0003719117819676187, -0.00036565670444574513, -0.0012329785901994427, -0.00048200033179416366, -0.002480227699161518, -0.00841941027472872, -0.005047265117909734, 0.0002955383505783411, -0.003923150430072285, -0.0006835569371548869, -0.038581716029259645, -0.00022178972156516297, -0.0006850616259079156, 6.565270066113793e-05, -0.0035088546045501136, -0.0046776115518273875, -0.003098952870618153, -0.006731881640741937, -0.0032543311844287505, -0.002129272818098207, -0.004488076824368574, -0.0004825702363815021, -0.0033817577636111626, -0.00043070632286751353, -0.0011589093914726103, 0.0, -0.0006559870493727162, -0.002828243824421246, -0.00258824773511486, -0.005044020598021028, -0.0003317576655330897, -0.03362884597768805, -0.007958487662950795, 0.0005975225913483244, -0.0027108692151731205, -0.0017574060556602856, -0.012302513634752711, -0.013541496479388968, -0.05504631934673999, -0.0014065171897621582, -0.008889628305640858, -0.015579028403228288, -0.002737850197629132, -0.0019548527583264966, -0.0010295008838404134, -0.003965576832822176, -0.035345804742959605, 0.00037631546222839256, -0.0014542239185962788, -0.00031133765091037705, -0.0009455273901770425, 0.0007293676856452634, -0.03212175965941415, -0.0028801337165156584, 0.006978579959275666, 0.00039167243249839227, 0.0, -0.003560835014581939, -0.0036373957251727997, -0.00101551408798406, -0.003464647381368116, -1.0076225938857741e-24, -0.004363654437833185, -0.0014593010129832647, -0.005474100579056528, -0.0030128560906293746, -0.0010782196739776778, -0.009833397690988701, -0.003617041028837519, -0.00032229261115716867, -0.0017941494482339997, -0.0005180165665833104, -0.002205497396402491, -0.0008502098230537683, -0.017305533740798133, -0.0016515001511496852, 2.4651987598038947e-05, -0.035761409408121204, -0.0010333805219903058, 0.0, -0.009631717003104097, -0.0006400827648237167, -6.387129989191782e-05, -0.0011277658955265624, -0.019027848421610694, -0.0005215204281106664, -0.0012589013740157196, -0.0009648514006671681, -0.0008279279477855051, -0.00277275815723862, -0.05975542399504246, -0.032534698041883255, -0.0035337448808586223, -0.0008748442146833626, 0.00011952035475768065, -7.600523778805666e-05, -0.00512306443296188, -0.00014725771588968496, -0.0016130037031243673, -0.02278017560691598, -0.00012181285849767015, 0.0007387790573196498, -0.0003446103991548723, -0.001112532444016256, -0.01873877938469871, -0.0031789947320198944, -0.012819300392529839, -0.05491423990704929, -3.3739830803911258e-06, -0.001287804724112983, -0.0029700197671259413, -0.002812209862145056, -0.008382081464647029, -0.0012544897759370034, -0.010523229337855019, -0.01364084377470514, -0.0007401006606320539, -0.0011888332446075523, -0.004092957328312256, -0.0009302211456345363, -0.0006247488989600889, -0.004005548924829678, -0.016264766638998604, -0.001435473942634216, -0.00035278881573074, -5.317985050174578e-05, -0.00028554676389140463, -0.0005057779744903428, -0.001323488490121351, -0.0009762634002989124, -0.0010053791807343075, -0.0034065932297289293, -0.017761529415516567, -0.00034741141707343704, -0.0008039147295545544, -0.0004471987084862208, -0.0015429035557834386, -0.002621194539841576, -0.05144082136160087, -0.0083846571181379, -0.0006588582275975538, 0.0, -0.005199249878925554, -0.0025695364986206577, -0.0009697776525485328, -0.0011957433025115076, -0.0009047615733398064, -0.039674991860046784, 0.0, -0.0005047268869536822, -0.011938620350818777, -0.0028020151702336494, -0.007512682615339976, -0.0011412856221602245, 0.00047490369057908604, -0.00016007487480146237, -0.005458275837239855, -0.005174983700685673, -0.002803909214905064, -0.002725396084512556, -0.0011734171445832665, -0.0016792709904048637, -0.03589201470240238, 0.0009353103785331181, -0.001344048675984929, -0.0031510346209212116, -0.0018096767384916945, -0.0002195766566119914, -0.0029046870115090823, -0.006116154605080723, -0.013352724050752628, -0.004090849739059478, -0.0010485985925609315, -6.299796484003052e-05, -0.0013565237266783233, -0.0017512191720745294, -0.0014783380898276436, -0.002047492608759664, -0.0008406256617502757, -0.0005762833302445654, -0.00017364705215062, -0.0016513547221858574, -0.027194577944321445, -0.003057243400742607, -0.00020895870925391626, -0.0013941361492069305, -0.00032111383329407793, -0.000940021940122931, -0.0014199900178832809, -0.0005236277748565502, -0.0016440853047857815, -0.010411402274148433, -0.002883814654488425, -0.006425145454567539, -0.00047892679489383447, -0.004390627298209704, -0.0006422647553335109, -0.017092688509886395, -2.2597391944879486e-05, -0.003626130783098602, 0.0005809894666356106, -0.0007959868474467017, -0.001768006380800796, -0.00016732512940066966, 0.0004165271346609543, -0.001204715390976018, -0.00029054689730978516, -0.004199941516264001, -0.0019115605571074562, -0.0023104762110566935, -2.9091403313254352e-06, 0.0016381253894018363, -0.0005670991812276029, 0.0, -2.4806600865587344e-05, -0.004209775207080036, -0.0009385838155409852, -9.171154688709238e-05, -0.00018749130879837337, -0.009497626470925159, -0.0046646427296134114, -0.0024598640656321533, -0.009105561389682435, -0.0006934033731172769, -0.0012448040892982064, -0.006415401094717925, -0.013228320175981096, -0.003642448763667801, -0.02913510135651687, 8.511964001229923e-05, -0.003860338626105094, -0.0007776712836437947, -0.002816469558419962, -0.008480441630319637, -0.0006521701793383414, -0.0019771992364415116, -0.0006778918308796866, 4.1976717351801705e-05, -0.0004232999586573213, -0.002233095638867055, -0.001879040961348303, -0.0006726402616983888, 0.0026114139478870396, -0.0020973661074846933, -0.004438067518068962, -0.007802968418793911, -0.0020517666481807743, -0.011367889819716344, -0.0034753704656517352, -0.0008850516327126377, -0.0007550132790681545, -0.002764760213802895, -0.003406194570135948, -0.0010826045646363711, -0.005937762600973532, -0.0009860295994071522, -0.005828255977881258, -0.00028880151949477157, -0.002969624071860307, -0.00179754374159459, -0.0007820555851277138, 0.0, -0.0015421388904977818, -0.004012102366531386, -0.0006459647677530711, -0.000933325728893779, -0.003001932344307515, -0.0007831514952249688, -0.0059719814570408395, -0.003438983274305401, 1.2561167924826136e-05, -0.005127050638518704, -0.010798900189400005, -0.010589318947549005, 0.0003132897214307049, 4.245043240935506e-05, -0.007932662746935819, 0.0, -1.8759846593801753e-05, -0.00978223559096269, -0.0015398767502108697, -0.000650605567839474, -0.0006603708008854367, -0.001218682930133227, -0.002802778178400582, -0.0058593574025491615, -0.0025372150147497806, -0.0004315963854555641, -0.0004673633401520019, -0.0005911815842921313, -0.0038320848480129146, -0.001588884961405615, -0.0010722531208501634, -0.0014468438634502318, -0.007064177616603354, -0.0024212224345415367, -0.0009826929282789072, -0.0014511968281388907, -0.010622868948566974, -0.0037329687007254956, -0.00021351114037001796, -0.0050903554701073085, -0.003595201030571571, -0.00038119780260875827, 0.0, -0.0005241758856298336, -0.00481089586381037, -0.001985286447066255, -0.000995237531997392, -0.0011277777265226087, -0.0010306983667641202, -0.0005019822649161082, -0.0004941484117696389, -0.001135842773913288, -0.0027923072773934185, -0.0024906417406758523, -0.000730745088291832, -9.344873498435662e-05, -0.005657475418811679, -0.007544736246563742, -0.00043435965214143964, -0.0009530603888791518, -0.0022692805111063563, -0.0019326877168239663, -0.001283773385913726, 0.00146116937938675, -0.002400254893595246, 0.0, -0.0022101553313597366, -0.0014822722170408265, 0.0011640424889058005, -0.005706652721838228, -0.0083097195235702, -0.0017273280190777097, -0.0005242598039302212, -0.003763546594074698, -0.0026362915863468502, -0.0024977453470294694, -0.002938913257454025, -0.0008746335998854535, -0.0024995566639689, -0.0013878133716203665, -0.00023401935057242455, 1.0068628181809527e-05, -0.0007220620098047015, -0.027042294686057396, -0.0019103533081761858, -0.009552790329883404, 0.0009705033768864264, -0.0007477779527957667, -0.0015645016802421164, -0.0009210982553284948, -0.055677399170696515, -0.00029315005179245395, -0.004954186294267456, -0.00020906528531773437, -0.006114114713657682, -5.8073900337374915e-06, -0.0028314075749173205, -0.0012305276221398877, -0.0002529933949119202, -0.0004034417620403662, -0.0013054399072923576, -0.0005462712571093234, -0.005005493573576872, -0.001705082946619648, -0.000396748974871276, 7.216412611241704e-05, -0.004134556264397048, -0.00020562032989445236, -0.0011296387351072913, -0.0011740307509284697, -0.0012351600730692205, -0.003989774407605942, -0.005616680049279253, -0.0037989882994583445, 0.001689748623561245, -5.304064351646605e-05, -0.0009532316747987737, -0.0005611663126373915, -0.004057081578996593, -0.008455778750571753, -0.00160787920750949, -0.019918285691840367, -0.002747734246801289, -0.0015673478551229043, -0.0009232550936791587, -0.001218819045526442, -0.004682815365744691, 0.002302487187494224, -0.013510105390195067, -0.004402893857362319, -0.0002056981104818232, -0.0012029859862898167, -0.0006519113241669442, -0.0016867595506677296, -0.0022234389370878824, 0.0017835502541213102, 0.0002316868100710588, -0.00037460365442934296, -0.00020453449424237481, -0.006705513232014115, -0.000997569985330719, -0.0009992629808189388, -6.608535742896106e-05, -0.0035552989489183733, -0.006420998572194688, -0.006189199308444237, -0.0013992601533045464, -0.010047836236849187, -0.0003238178646356198, -0.0003906369007397262, -0.00021867230451018535, -3.9683968852314144e-05, -0.0007493790553179656, -0.001181396101444214, -0.0006880387980796913, -0.0012089140150442468, 0.0017717746471003985, 0.00012661331299019298, -0.0025119029611560023, -0.04622745444057617, -0.0035496489110710063, -0.010681775235879579, -0.0012127878590387318, -0.0019616038189629523, -0.0005463414429019365, -0.0004703753649230375, -0.0009208246421498017, -0.0010924989345805376, -0.0011116104179732273, -0.0007502588007562498, -0.002406967094521352, -0.0028230876004498896, 2.9563290277019064e-05, -0.0005386106650543032, -0.002204234076595401, 0.0006241589072309731, 0.0002642348110833839, -0.002462709449056946, -0.0011892500550033278, -0.003982151561741471, -0.00025116602965601044, -0.013918654588577845, -0.01499813855984001, -0.0030606264331409965, -0.00012032551671179093, -0.002719256738931804, -0.0017486178695334392, -0.010042916573930825, -0.0017671642197248695, -0.02247566325670717, -0.0011655231056722755, 0.0, -0.004462014004803836, -0.0022258492100414103, -0.004553253221007277, -0.0010904827374285692, 0.0, -0.0019328127846950116, -0.0013874755272598354, 0.001528542605509469, -0.00015361633913713965, -0.0021155641115374667, -0.0006906028277464008, -0.0016597510445463526, -0.007147162303423727, -0.002608131871841578, -0.01148659516082901, -0.0008302016169242755, -0.0008786365231241376, -0.0006311731529449792, -0.004882813399598574, -0.0008855158609826931, -0.0013666098724463799, -0.004533540604692542, -0.0415213891823257, -0.003503946437519177, -0.00011386614108719932, -0.0015423781471163352, -0.0011470977046103615, -0.002409824931836463, -0.002467666099230311, -0.003300571573431775, -0.00048787717130024916, -0.0019417837307364643, -0.00041139856452919617, -0.002269613230252169, -0.0006083449550159924, -0.009387330856070157, -0.0073975917339427575, 0.0004794806161212671, -0.0011693597564901839, -0.0007284499344377981, -0.0049677542134065915, 0.0005121989331508524, -0.004171360047310611, -0.0016815457327423176, -0.4095388086533329, -0.0003275217376811592, -0.0027496297931178548, -0.0034429710582363614, -0.0026846739767190783, -0.0030015646168824145, -0.0001827706046735262, -0.0016589265538497467, -0.0036314831632515655, -0.0012738274180534, -0.0010019320610415094, -0.013561768502230497, -0.0037060664968807723, -0.004862099654765186, -0.0012447841701963452, -0.03623744004927324, -0.0006765950804086589, -0.0001880200261908555, -0.0003510893776458429, -0.001841306036992836, -0.002409330980493856, 0.0005832244038356758, -0.0022994681224437403, 0.0007878694438666754, -0.004195370236054788, -0.0028370315720408117, 0.0006653730392305462, 0.0005993789936380648, -0.0010038176816387194, -0.003830022381787669, -0.006225430545066576, -0.007010477532239505, -0.000920367220822556, -0.0036631068375769095, -0.0002313472378513196, -0.0015158582607552851, -0.0006317477310876106, -0.0035563832778570735, -0.000964776302578049, -0.0027573065444922713, -0.0009723397587468976, -0.007614193641764676, -0.002856660287196391, -0.0008351534352360927, -0.00017728539328130944, -0.0018153357689589837, -0.0004734643029606165, -3.88206156553603e-06, -0.021618938714012017, -0.00047087629410882406, -0.005409986965573282, -0.0029862288109669104, -0.0006431266249152235, -0.02843017115822509, 0.0001831635620404766, -0.005582900431303547, -0.0013798830845371075, -0.001593894042436529, -0.0007261324349556846, -0.007565211116906524, -0.0008131060865162559, -0.020888659779419883, -0.0006486586240963219, -0.012709869038960884, -1.6926927128734273e-07, -0.000704374780448578, -0.002332374194086991, -0.005305982964034648, -0.001158161785034283, 0.000183549356287391, 0.0004731246397219953, 0.00010980199874963295, -9.285545787010631e-05, -0.0025304938135996234, -0.0033235604375922464, -0.001613799339437121, -0.005328982766501971, -0.0018905299772552459, -0.0008277871956907107, -0.0005185710073270259, 0.00029884385980389233, -0.00045997087292550155, 0.00040677101948658666, -0.0015353420416114856, -0.002477951630101734, -0.008685115343998401, -0.0017305867653125949, -0.004777499005597715, -0.0015348588218144286, -0.00011653901959322127, -0.0010824831664044525, -0.0018186034921456652, -0.00017666549185964503, -0.0005225072624077896, 0.03283140740330543, -0.0002407278921922304, -0.016391373914929796, -0.002438955542717101, -0.0007459710606663941, -0.00027754030028467576, -0.006161361428745662, -0.0007067324633496262, -0.0012048618906432757, -0.0018431970500416615, -0.0023909546527670733, -0.009511959908810326, -0.0016597363963055528, 9.747280915240859e-05, -0.000899510051208444, -0.0007916440440087439, -0.0014439419430765095, -0.0008440345869175921, 0.0005197256534275123, -0.0007097937172433754, -0.0009156899018597945, -0.005764509258341603, -3.011738857268864e-05, -0.00010337320350280822, -0.0002505892116281542, -0.002202547538792657, -0.00024811267355397056, -0.00037194621820047874, -0.0016993720711749674, -0.003735553601102141, -0.011935740019639889, -0.0007236574562006975, -0.00036780604163817954, -0.011082014276241139, -0.01589177218684876, -0.002731571065477326, -0.012152360809018374, 0.0020729733796122497, -0.0009809623796097806, -0.012353332044606638, 0.0001905404556152604, -0.2024900602917864, -0.004335358145395402, -0.03559226764490893, -0.007521894654988693, -0.014148869118391647, 0.0005349871769952598, -0.0001648926660978285, 0.0007184123706167495, -0.0029141207312157378, -0.0006893859246660876, -0.016589130129154906, -0.002260182713817833, -6.545218321668406e-05, 0.0006601542875768983, -0.005208830650205325, -0.001428548745675344, -0.001318493849278906, -0.009141428508119939, -5.9403265305721437e-05, 0.0013766675541483718, -0.005436730195021938, -0.00024718910326096676, -0.027232298548952625, 0.0005803777228878445, -0.0053741162184156085, -0.00036582097664959593, 0.0, -0.0010199592174527426, -0.011025874196611017, -0.001196755535085577, 0.001451292224220633, -0.0012519461596275324, 0.0001328664929878785, -0.0003569475967749199, -0.0007092021392041936, -0.002264734365701766, -0.0002988740914418657, -0.008155675456217329, -0.0004503187414677612, -0.002212175914591874, -0.00037158418429834443, -0.0077851407297287786, -0.0033267257494180584, -0.002030686198505153, -0.0014942556213658896, -2.037870434566339e-05, -0.0018673135998678197, -0.0046845683976981444, -0.0064163588410876184, -0.00211401055355147, -0.0003487720429292336, -0.08433724085362468, -0.00023846184961301813, -0.0017088188315461717, -0.000957479821241388, -0.0022007246528187568, -0.0038544525431733257, -0.003190952126198129, -0.0017151143495042947, -2.4829739549065822e-05, -0.0005247856396677003, 0.0009119868325449815, -0.002353969934871836, -0.006252584376646189, -0.009077687201326326, -0.0016329324257907517, -0.0004165702478063519, -0.0002962066521293542, -0.0024642356164599165, -0.028217018233771714, -0.0009972490766631322, -0.0016005007147489947, -0.02342437422654291, -0.0012562994152700755, -0.003107005025432365, 0.0, -0.004605938446222128, -0.1304345777636696, -0.001727264296575289, -0.0009967891717129551, -0.0003347592856625368, -0.0015297842582628254, -0.004792574176794898, -0.0011671819282503297, 0.0, -0.009011246480515786, -0.00175955111022647, 0.0, -0.006056622819920433, -0.0070766641630329395, -0.006699726204119206, -0.0010168070508226276, -0.00177206077083023, -0.005672097274873005, -0.003582485520947957, 0.00020566977795324415, -0.013269945593805711, -0.0016737875016835742, -0.0019436136129145716, -0.0004249333131096046, -0.001120974683634237, -0.0003809695254556723, -0.00784317418331602, -0.0009525182706518234, -0.0008252455750724251, -0.0005683565917077286, -0.00012140136330074727, -0.00027133890840240244, -0.016373685291240204, -0.00012897477254726462, -0.004097655759425737, -0.0011999270470952933, 0.0001288075733384174, -0.007128496117834603, -0.011150131537741418, -0.002197083772529127, -0.007253483998553117, -0.004765917753769224, 0.0, -0.011327024299394793, -0.0016896512642763735, -0.005407978856549368, -0.45672205745670746, -0.003726048102721447, -0.0013239202141797255, -0.0036610192341317376, -0.00024225721987846242, -0.0026568427054020614, -0.00012917289948481198, -0.04268734307345062, -0.0021146789530164787, 0.00021636876277040658, 0.00024025487129542724, -0.002885418071638995, -0.005771101843677919, -0.0035174074158836528, -0.0008692738635926803, 6.564782552086658e-05, -0.0010550478156803903, -0.015711699140766616, -0.16643807665358115, -0.0009151402484428887, 0.0, -0.0007878621793479477, -0.001716765873701254, -0.0031803350548609034, -0.0030814412891740353, -0.0002125154642974293, -0.0009065486875931823, 0.0003241884700911184, -0.0010254969094024196, -0.004862099654765186, -0.007863081205392634, -0.0001897796634271439, -0.002100960488515361, 0.038662068542294446, 0.0009762453565008546, -0.006764196728810571, -0.00390720237654438, -0.003185972443727819, -0.00010537251040907502, -0.009442193085251242, -0.005681232541509839, -0.005117329746021144, -0.0016409952386622364, 0.36400972915401913, -0.0004596537762657887, -0.002310207888784281, 0.00041499917185716775, -0.0001933282210653723, -0.0008119798380847073, 0.0005265600078364858, -0.0009473016722036206, -0.0016841532425163686, -0.003210592435159253, -0.004455863277613875, -0.012640005123153868, -0.0006017713773197947, 9.71251817058035e-05, -0.0011458612081286096, -0.0033934008722231058, 0.0006208519854107601, -0.001064021839492134, -0.0003815145854900313, -6.159386051265965e-05, -0.01129474447657174, -0.002576127024562747, -0.002698114396416519, -0.006798406404222582, -0.05337640809546071, -0.010174133120340793, -0.0006748233468908257, -0.015733618001945563, -0.001146757968458645, -0.00014939557461783105, -0.004002298539610142, 0.0006997721246942536, -0.002815527117407481, -0.0005763478144717156, -0.001347205020975075, -0.001445405581745903, -0.0009659105900235667, -0.0018792354295915795, -0.001648051893935348, 6.8921009300736e-06, -0.0016655465637638682, -0.0035273067932638704, -0.0019766085551024245, 0.0, -0.00392081388222331, 2.6324910433142922e-05, 0.008298458342578113, -0.0037415492100999967, -0.0005537800720423166, -0.0017509918746115858, -0.006914755945686266, -0.004064379196989675, -0.006808535246585756, -0.0003035034944174554, -7.632614771336911e-05, -0.0019985187937592843, -0.0004608635481119007, -0.001953854357279584, 8.127418893547666e-05, -0.04425844135028509, 0.00021007113362221837, 0.0, -0.0014758123430476163, -0.001983141621873321, -0.0007572020394631473, -0.030473404840697226, 0.011280361134231373, -0.0011346427727321436, -0.003380529153722812, -0.0007589730905936886, 0.015550238852761336, -0.0029788082553745964, -7.558486955888604e-05, -0.003020589746756498, 0.0, -0.011925352549146045, -0.002979050210840147, -2.5895421134244826e-05, -0.0003099228069692725, 0.0, -0.002353203929607905, -0.00030547829086312995, -0.0019654619426546422, -0.0011143263831764544, -0.0005347184683925382, -0.005089274525952177, -0.0008976611147254133, -0.004924337990288748, -0.004439130855595427, 0.0004149911097169708, -0.0010975238464907974, -0.0022020097309486753, -0.019897794168222366, 0.0005442907048213434, -0.0031842605931231478, -0.002658456857046098, -1.864581275777441e-23, 0.0004240733382971445, -0.004095938268210583, 4.322693795868352e-05, -0.005834804631101109, -0.009406506676955043, -0.0029233304451217416, -0.0008720438094994406, -0.0028258515335683, -0.012785462429953577, -2.742752327895467e-07, -0.003742312512518291, -0.001020173825495943, -0.0004073490282397519, -0.0003233325099870906, -0.002053969414393976, -0.012846630880519518, -0.0013578865333635731, -0.004985933488544638, -0.0037530686690687696, -0.007735657513730101, -3.193881706822805e-05, 0.0, -0.0002596780956358592, -0.0006325127162545679, -0.0045243109148266234, -0.0075672254042879385, -0.00290550182755376, -0.001554153138921301, -0.003985530634708172, -0.00512043838055292, -0.004073948354145976, -0.001517457351635651, -0.002900730096466704, -0.007518485366506705, -0.001205935086853747, -0.0023913999823617733, -0.030094088351116596, -0.01399916645279634, -0.0016004801566111041, -0.004161569874495248, -0.003562445628990308, -0.00031492381059141186, -0.0010152361751473475, -0.005290710792243574, -0.0009409011368091187, -0.08397097454001082, 0.0009885500346152676, -0.0007804428324084337, -0.00047304995769868654, -0.006223626100108388, -0.00341014364907806, -5.941617367529968e-05, -0.014672362230764732, -0.2903881919858135, -0.0004562152692820475, -0.0011107705755203719, -0.005985589640618085, 0.0010962579996565414, 0.0, -0.001649273276861898, -0.0015059136288658752, -0.003356788862887715, -0.00019230012195771304, -0.00027623785831688375, -0.003154060138699458, -0.0033666665214243208, -0.000524207793298645, -0.005596417236314374, -0.003500933771096192, -0.0025503615458500055, -0.0016906283722519571, -4.920946610290082e-05, -0.00037530060985331164, -0.001522222328672068, -0.11267037023237361, -0.007720200877708011, -0.02313024459035033, -0.002979776585311624, -0.003195277161848718, -0.0003855099504800382, -0.005126879404969631, -0.00378329977448146, 0.0008020728551038523, -0.0037837136200147103, -0.0023903566590472484, -0.0026441048320077487, -0.008807238171157708, -0.0002990901097533462, -0.00044531101988760696, -0.0009666264811689851, -0.0065748053174857985, -0.0014733428162615157, -0.0005466549064620537, -0.002463752161807935, -0.011956166572172662, 0.0, -0.020265305391781074, -0.0002919371374588466, -4.502829652171524e-05, -0.00042191720627426623, 0.001516445841182129, -0.0002635079464106816, -0.0031705341025363007, -0.0007499588415502895, -0.001130573813143043, -0.0028052875335430297, -0.0017385242463136804, -0.00020343450617093834, 0.0008956535638339333, 0.0019895453551160673, -7.217893023873549e-05, -0.0034488480930926707, -0.0035685340369038497, -0.00812945200532393, -0.0024275684506832092, -0.020513391021480545, -0.0021181393074169606, -0.0014128832988041617, -0.02516410127512108, -0.0005526365165233993, -0.02086634536699612, -0.0013443363549778744, -0.001920702073289068, -0.007150557517638009, -0.007979129246988311, -0.0007996146196701644, -0.004167143091396326, 0.0005384113911362729, -0.0032250100024937985, -0.0018441247052016982, 8.565186774734433e-05, -0.00068029285979031, -0.001790190242626228, -0.0005337850066903326, -0.0030685106235465265, -0.020349430765078926, -0.0018585709343076475, -0.0002193440176042077, -0.0031625690081333252, -0.0007514585651829679, -0.013661807150215114, -0.003298114445084166, -0.0064412554460263095, -0.00013968539264574924, -0.0005281553373775907, -0.013950347233091905, 0.0, -0.0009830256491906331, -0.00879157749367125, -0.00015849399915044034, -0.00035753209669594566, -0.0018348791080875124, -0.0011606166134051107, -0.005581427339178312, -0.006898759029736808, -0.004680706788535034, -0.003891946150531263, -0.004741232312497051, -0.034443781332745435, -0.0037520870526796847, -0.05976599327834072, -0.0005524867959963215, -0.0031766468500071267, -0.02631557081509897, -0.009826785685543965, 0.00014631913995487422, -0.00028145769781869013, 0.0001514558248866348, -0.002917335997362512, -0.0005929095615665971, -1.4859177815201654e-05, 0.0, -0.00799987194874983, -0.007283326287627525, -0.00727502426138539, -0.0019042564730754844, -0.0002908571852349927, -0.004325807586544312, -0.000734586673950132, -0.0024322980970903517, -0.033836592223402004, -0.04239721330232334, -0.0019738793789381964, -0.00900035496271021, -0.0028982790557698355, -0.0006896562715821262, -0.0019430757667751343, -4.837692942716641e-05, -0.00010222574460786109, -0.003501301139629027, -0.0012365921882072377, -0.0073091436993593896, -0.00031450958436077427, -0.0038588469792525683, -0.004272516294442781, -0.008977641856560302, -0.001429884506370764, 0.0, -0.0002319579848417584, -0.0012549716585688495, -0.0006259170326634214, -0.0002331631164713438, -0.009565447856665382, 0.0]}],\n",
              "                        {\"coloraxis\": {\"colorbar\": {\"title\": {\"text\": \"Category\"}}, \"colorscale\": [[0.0, \"#0d0887\"], [0.1111111111111111, \"#46039f\"], [0.2222222222222222, \"#7201a8\"], [0.3333333333333333, \"#9c179e\"], [0.4444444444444444, \"#bd3786\"], [0.5555555555555556, \"#d8576b\"], [0.6666666666666666, \"#ed7953\"], [0.7777777777777778, \"#fb9f3a\"], [0.8888888888888888, \"#fdca26\"], [1.0, \"#f0f921\"]]}, \"height\": 600, \"legend\": {\"tracegroupgap\": 0}, \"margin\": {\"t\": 60}, \"scene\": {\"domain\": {\"x\": [0.0, 0.98], \"y\": [0.0, 1.0]}, \"xaxis\": {\"title\": {\"text\": \"Column1\"}}, \"yaxis\": {\"title\": {\"text\": \"Column2\"}}, \"zaxis\": {\"title\": {\"text\": \"Column3\"}}}, \"template\": {\"data\": {\"bar\": [{\"error_x\": {\"color\": \"#2a3f5f\"}, \"error_y\": {\"color\": \"#2a3f5f\"}, \"marker\": {\"line\": {\"color\": \"#E5ECF6\", \"width\": 0.5}}, \"type\": \"bar\"}], \"barpolar\": [{\"marker\": {\"line\": {\"color\": \"#E5ECF6\", \"width\": 0.5}}, \"type\": \"barpolar\"}], \"carpet\": [{\"aaxis\": {\"endlinecolor\": \"#2a3f5f\", \"gridcolor\": \"white\", \"linecolor\": \"white\", \"minorgridcolor\": \"white\", \"startlinecolor\": \"#2a3f5f\"}, \"baxis\": {\"endlinecolor\": \"#2a3f5f\", \"gridcolor\": \"white\", \"linecolor\": \"white\", \"minorgridcolor\": \"white\", \"startlinecolor\": \"#2a3f5f\"}, \"type\": \"carpet\"}], \"choropleth\": [{\"colorbar\": {\"outlinewidth\": 0, \"ticks\": \"\"}, \"type\": \"choropleth\"}], \"contour\": [{\"colorbar\": {\"outlinewidth\": 0, \"ticks\": \"\"}, \"colorscale\": [[0.0, \"#0d0887\"], [0.1111111111111111, \"#46039f\"], [0.2222222222222222, \"#7201a8\"], [0.3333333333333333, \"#9c179e\"], [0.4444444444444444, \"#bd3786\"], [0.5555555555555556, \"#d8576b\"], [0.6666666666666666, \"#ed7953\"], [0.7777777777777778, \"#fb9f3a\"], [0.8888888888888888, \"#fdca26\"], [1.0, \"#f0f921\"]], \"type\": \"contour\"}], \"contourcarpet\": [{\"colorbar\": {\"outlinewidth\": 0, \"ticks\": \"\"}, \"type\": \"contourcarpet\"}], \"heatmap\": [{\"colorbar\": {\"outlinewidth\": 0, \"ticks\": \"\"}, \"colorscale\": [[0.0, \"#0d0887\"], [0.1111111111111111, \"#46039f\"], [0.2222222222222222, \"#7201a8\"], [0.3333333333333333, \"#9c179e\"], [0.4444444444444444, \"#bd3786\"], [0.5555555555555556, \"#d8576b\"], [0.6666666666666666, \"#ed7953\"], [0.7777777777777778, \"#fb9f3a\"], [0.8888888888888888, \"#fdca26\"], [1.0, \"#f0f921\"]], \"type\": \"heatmap\"}], \"heatmapgl\": [{\"colorbar\": {\"outlinewidth\": 0, \"ticks\": \"\"}, \"colorscale\": [[0.0, \"#0d0887\"], [0.1111111111111111, \"#46039f\"], [0.2222222222222222, \"#7201a8\"], [0.3333333333333333, \"#9c179e\"], [0.4444444444444444, \"#bd3786\"], [0.5555555555555556, \"#d8576b\"], [0.6666666666666666, \"#ed7953\"], [0.7777777777777778, \"#fb9f3a\"], [0.8888888888888888, \"#fdca26\"], [1.0, \"#f0f921\"]], \"type\": \"heatmapgl\"}], \"histogram\": [{\"marker\": {\"colorbar\": {\"outlinewidth\": 0, \"ticks\": \"\"}}, \"type\": \"histogram\"}], \"histogram2d\": [{\"colorbar\": {\"outlinewidth\": 0, \"ticks\": \"\"}, \"colorscale\": [[0.0, \"#0d0887\"], [0.1111111111111111, \"#46039f\"], [0.2222222222222222, \"#7201a8\"], [0.3333333333333333, \"#9c179e\"], [0.4444444444444444, \"#bd3786\"], [0.5555555555555556, \"#d8576b\"], [0.6666666666666666, \"#ed7953\"], [0.7777777777777778, \"#fb9f3a\"], [0.8888888888888888, \"#fdca26\"], [1.0, \"#f0f921\"]], \"type\": \"histogram2d\"}], \"histogram2dcontour\": [{\"colorbar\": {\"outlinewidth\": 0, \"ticks\": \"\"}, \"colorscale\": [[0.0, \"#0d0887\"], [0.1111111111111111, \"#46039f\"], [0.2222222222222222, \"#7201a8\"], [0.3333333333333333, \"#9c179e\"], [0.4444444444444444, \"#bd3786\"], [0.5555555555555556, \"#d8576b\"], [0.6666666666666666, \"#ed7953\"], [0.7777777777777778, \"#fb9f3a\"], [0.8888888888888888, \"#fdca26\"], [1.0, \"#f0f921\"]], \"type\": \"histogram2dcontour\"}], \"mesh3d\": [{\"colorbar\": {\"outlinewidth\": 0, \"ticks\": \"\"}, \"type\": \"mesh3d\"}], \"parcoords\": [{\"line\": {\"colorbar\": {\"outlinewidth\": 0, \"ticks\": \"\"}}, \"type\": \"parcoords\"}], \"scatter\": [{\"marker\": {\"colorbar\": {\"outlinewidth\": 0, \"ticks\": \"\"}}, \"type\": \"scatter\"}], \"scatter3d\": [{\"line\": {\"colorbar\": {\"outlinewidth\": 0, \"ticks\": \"\"}}, \"marker\": {\"colorbar\": {\"outlinewidth\": 0, \"ticks\": \"\"}}, \"type\": \"scatter3d\"}], \"scattercarpet\": [{\"marker\": {\"colorbar\": {\"outlinewidth\": 0, \"ticks\": \"\"}}, \"type\": \"scattercarpet\"}], \"scattergeo\": [{\"marker\": {\"colorbar\": {\"outlinewidth\": 0, \"ticks\": \"\"}}, \"type\": \"scattergeo\"}], \"scattergl\": [{\"marker\": {\"colorbar\": {\"outlinewidth\": 0, \"ticks\": \"\"}}, \"type\": \"scattergl\"}], \"scattermapbox\": [{\"marker\": {\"colorbar\": {\"outlinewidth\": 0, \"ticks\": \"\"}}, \"type\": \"scattermapbox\"}], \"scatterpolar\": [{\"marker\": {\"colorbar\": {\"outlinewidth\": 0, \"ticks\": \"\"}}, \"type\": \"scatterpolar\"}], \"scatterpolargl\": [{\"marker\": {\"colorbar\": {\"outlinewidth\": 0, \"ticks\": \"\"}}, \"type\": \"scatterpolargl\"}], \"scatterternary\": [{\"marker\": {\"colorbar\": {\"outlinewidth\": 0, \"ticks\": \"\"}}, \"type\": \"scatterternary\"}], \"surface\": [{\"colorbar\": {\"outlinewidth\": 0, \"ticks\": \"\"}, \"colorscale\": [[0.0, \"#0d0887\"], [0.1111111111111111, \"#46039f\"], [0.2222222222222222, \"#7201a8\"], [0.3333333333333333, \"#9c179e\"], [0.4444444444444444, \"#bd3786\"], [0.5555555555555556, \"#d8576b\"], [0.6666666666666666, \"#ed7953\"], [0.7777777777777778, \"#fb9f3a\"], [0.8888888888888888, \"#fdca26\"], [1.0, \"#f0f921\"]], \"type\": \"surface\"}], \"table\": [{\"cells\": {\"fill\": {\"color\": \"#EBF0F8\"}, \"line\": {\"color\": \"white\"}}, \"header\": {\"fill\": {\"color\": \"#C8D4E3\"}, \"line\": {\"color\": \"white\"}}, \"type\": \"table\"}]}, \"layout\": {\"annotationdefaults\": {\"arrowcolor\": \"#2a3f5f\", \"arrowhead\": 0, \"arrowwidth\": 1}, \"colorscale\": {\"diverging\": [[0, \"#8e0152\"], [0.1, \"#c51b7d\"], [0.2, \"#de77ae\"], [0.3, \"#f1b6da\"], [0.4, \"#fde0ef\"], [0.5, \"#f7f7f7\"], [0.6, \"#e6f5d0\"], [0.7, \"#b8e186\"], [0.8, \"#7fbc41\"], [0.9, \"#4d9221\"], [1, \"#276419\"]], \"sequential\": [[0.0, \"#0d0887\"], [0.1111111111111111, \"#46039f\"], [0.2222222222222222, \"#7201a8\"], [0.3333333333333333, \"#9c179e\"], [0.4444444444444444, \"#bd3786\"], [0.5555555555555556, \"#d8576b\"], [0.6666666666666666, \"#ed7953\"], [0.7777777777777778, \"#fb9f3a\"], [0.8888888888888888, \"#fdca26\"], [1.0, \"#f0f921\"]], \"sequentialminus\": [[0.0, \"#0d0887\"], [0.1111111111111111, \"#46039f\"], [0.2222222222222222, \"#7201a8\"], [0.3333333333333333, \"#9c179e\"], [0.4444444444444444, \"#bd3786\"], [0.5555555555555556, \"#d8576b\"], [0.6666666666666666, \"#ed7953\"], [0.7777777777777778, \"#fb9f3a\"], [0.8888888888888888, \"#fdca26\"], [1.0, \"#f0f921\"]]}, \"colorway\": [\"#636efa\", \"#EF553B\", \"#00cc96\", \"#ab63fa\", \"#FFA15A\", \"#19d3f3\", \"#FF6692\", \"#B6E880\", \"#FF97FF\", \"#FECB52\"], \"font\": {\"color\": \"#2a3f5f\"}, \"geo\": {\"bgcolor\": \"white\", \"lakecolor\": \"white\", \"landcolor\": \"#E5ECF6\", \"showlakes\": true, \"showland\": true, \"subunitcolor\": \"white\"}, \"hoverlabel\": {\"align\": \"left\"}, \"hovermode\": \"closest\", \"mapbox\": {\"style\": \"light\"}, \"paper_bgcolor\": \"white\", \"plot_bgcolor\": \"#E5ECF6\", \"polar\": {\"angularaxis\": {\"gridcolor\": \"white\", \"linecolor\": \"white\", \"ticks\": \"\"}, \"bgcolor\": \"#E5ECF6\", \"radialaxis\": {\"gridcolor\": \"white\", \"linecolor\": \"white\", \"ticks\": \"\"}}, \"scene\": {\"xaxis\": {\"backgroundcolor\": \"#E5ECF6\", \"gridcolor\": \"white\", \"gridwidth\": 2, \"linecolor\": \"white\", \"showbackground\": true, \"ticks\": \"\", \"zerolinecolor\": \"white\"}, \"yaxis\": {\"backgroundcolor\": \"#E5ECF6\", \"gridcolor\": \"white\", \"gridwidth\": 2, \"linecolor\": \"white\", \"showbackground\": true, \"ticks\": \"\", \"zerolinecolor\": \"white\"}, \"zaxis\": {\"backgroundcolor\": \"#E5ECF6\", \"gridcolor\": \"white\", \"gridwidth\": 2, \"linecolor\": \"white\", \"showbackground\": true, \"ticks\": \"\", \"zerolinecolor\": \"white\"}}, \"shapedefaults\": {\"line\": {\"color\": \"#2a3f5f\"}}, \"ternary\": {\"aaxis\": {\"gridcolor\": \"white\", \"linecolor\": \"white\", \"ticks\": \"\"}, \"baxis\": {\"gridcolor\": \"white\", \"linecolor\": \"white\", \"ticks\": \"\"}, \"bgcolor\": \"#E5ECF6\", \"caxis\": {\"gridcolor\": \"white\", \"linecolor\": \"white\", \"ticks\": \"\"}}, \"title\": {\"x\": 0.05}, \"xaxis\": {\"automargin\": true, \"gridcolor\": \"white\", \"linecolor\": \"white\", \"ticks\": \"\", \"zerolinecolor\": \"white\", \"zerolinewidth\": 2}, \"yaxis\": {\"automargin\": true, \"gridcolor\": \"white\", \"linecolor\": \"white\", \"ticks\": \"\", \"zerolinecolor\": \"white\", \"zerolinewidth\": 2}}}},\n",
              "                        {\"responsive\": true}\n",
              "                    ).then(function(){\n",
              "                            \n",
              "var gd = document.getElementById('31a3736d-7897-477e-8ba9-c2c1742e221b');\n",
              "var x = new MutationObserver(function (mutations, observer) {{\n",
              "        var display = window.getComputedStyle(gd).display;\n",
              "        if (!display || display === 'none') {{\n",
              "            console.log([gd, 'removed!']);\n",
              "            Plotly.purge(gd);\n",
              "            observer.disconnect();\n",
              "        }}\n",
              "}});\n",
              "\n",
              "// Listen for the removal of the full notebook cells\n",
              "var notebookContainer = gd.closest('#notebook-container');\n",
              "if (notebookContainer) {{\n",
              "    x.observe(notebookContainer, {childList: true});\n",
              "}}\n",
              "\n",
              "// Listen for the clearing of the current output cell\n",
              "var outputEl = gd.closest('.output');\n",
              "if (outputEl) {{\n",
              "    x.observe(outputEl, {childList: true});\n",
              "}}\n",
              "\n",
              "                        })\n",
              "                };\n",
              "                \n",
              "            </script>\n",
              "        </div>\n",
              "</body>\n",
              "</html>"
            ]
          },
          "metadata": {
            "tags": []
          }
        }
      ]
    },
    {
      "cell_type": "markdown",
      "metadata": {
        "id": "LBdks3s7d22E",
        "colab_type": "text"
      },
      "source": [
        "## 4.2 Non-negative Matrix Factorization (NMF)"
      ]
    },
    {
      "cell_type": "markdown",
      "metadata": {
        "id": "HrbyQoDyulAH",
        "colab_type": "text"
      },
      "source": [
        "แต่ SVD ก็มีปัญหาคือ มีค่าเป็นติดลบได้ ทำให้มีปัญหาต่อการตีความ จึงมี Matrix Factorization อีกหนึ่งวิธีที่เป็นที่นิยม คือ Non-negative Matrix Factorization (NMF) มาแก้ปัญหาค่าติดลบ ตามชื่อ คือ ผลลัพท์จะได้ Matrix ที่เป็นค่าบวกเท่านั้น \n",
        "\n",
        "แต่มีข้อเสียคือ เป็นค่าประมาณ ทำให้ไม่สามารถรวมกลับเป็น Matrix ต้นฉบับเหมือนเดิมได้เหมือน SVD และ เป็น NMF อัลกอริทึม เป็น nondeterministic คือทำงานแต่ละครั้ง ผลลัพธ์อาจจะไม่เท่ากันก็ได้\n",
        "\n",
        "ข้อดีของค่าประมาณ คือ จัดการกับ Missing Value ได้ดีกว่า"
      ]
    },
    {
      "cell_type": "code",
      "metadata": {
        "id": "0BVVYRvsd6vY",
        "colab_type": "code",
        "colab": {}
      },
      "source": [
        "m,n=vectors.shape"
      ],
      "execution_count": 0,
      "outputs": []
    },
    {
      "cell_type": "markdown",
      "metadata": {
        "id": "Bb9tL5W1xxn_",
        "colab_type": "text"
      },
      "source": [
        "เราจะ Decompose vectors ออกเป็น 5 Topic"
      ]
    },
    {
      "cell_type": "code",
      "metadata": {
        "id": "OTMmzTuyf402",
        "colab_type": "code",
        "colab": {
          "base_uri": "https://localhost:8080/",
          "height": 34
        },
        "outputId": "d3b9cc1c-ad2b-42fd-da6d-b111e1694b8e"
      },
      "source": [
        "d=5  # num topics\n",
        "\n",
        "clf = decomposition.NMF(n_components=d, random_state=1)\n",
        "W1 = clf.fit_transform(vectors)\n",
        "H1 = clf.components_\n",
        "\n",
        "W1.shape, H1.shape"
      ],
      "execution_count": 187,
      "outputs": [
        {
          "output_type": "execute_result",
          "data": {
            "text/plain": [
              "((2034, 5), (5, 26576))"
            ]
          },
          "metadata": {
            "tags": []
          },
          "execution_count": 187
        }
      ]
    },
    {
      "cell_type": "markdown",
      "metadata": {
        "id": "3nDuNtc46Ppu",
        "colab_type": "text"
      },
      "source": [
        "จะเห็นว่า จำนวนคำศัพท์บางคำ ใน Topic แรก มีค่าโดดมาก"
      ]
    },
    {
      "cell_type": "code",
      "metadata": {
        "id": "MLugsDDc6FVj",
        "colab_type": "code",
        "colab": {
          "base_uri": "https://localhost:8080/",
          "height": 282
        },
        "outputId": "0b14e9dc-dfae-4126-83ee-afd9227f33ca"
      },
      "source": [
        "plt.plot(clf.components_[0])"
      ],
      "execution_count": 188,
      "outputs": [
        {
          "output_type": "execute_result",
          "data": {
            "text/plain": [
              "[<matplotlib.lines.Line2D at 0x7f77e100db70>]"
            ]
          },
          "metadata": {
            "tags": []
          },
          "execution_count": 188
        },
        {
          "output_type": "display_data",
          "data": {
            "image/png": "[encoded data removed]",
            "text/plain": [
              "<Figure size 432x288 with 1 Axes>"
            ]
          },
          "metadata": {
            "tags": []
          }
        }
      ]
    },
    {
      "cell_type": "code",
      "metadata": {
        "id": "PF7FeaBaxjkP",
        "colab_type": "code",
        "colab": {
          "base_uri": "https://localhost:8080/",
          "height": 187
        },
        "outputId": "5481be60-f3c3-40e9-e2f9-df5e3b1ee10f"
      },
      "source": [
        "W1[:10]"
      ],
      "execution_count": 172,
      "outputs": [
        {
          "output_type": "execute_result",
          "data": {
            "text/plain": [
              "array([[0.08858936, 0.02984714, 0.        , 0.04220515, 0.        ],\n",
              "       [0.        , 0.00074146, 0.0037713 , 0.02133068, 0.00096886],\n",
              "       [0.        , 0.01650813, 0.00026615, 0.02582674, 0.00294897],\n",
              "       [0.00614964, 0.03209064, 0.01430699, 0.08909122, 0.        ],\n",
              "       [0.00340253, 0.        , 0.0074062 , 0.01922605, 0.        ],\n",
              "       [0.00637911, 0.00703127, 0.00727478, 0.08983142, 0.00081548],\n",
              "       [0.        , 0.        , 0.06515014, 0.02315396, 0.02111438],\n",
              "       [0.02420288, 0.01125148, 0.00629759, 0.06641558, 0.02957365],\n",
              "       [0.        , 0.        , 0.05084285, 0.02340395, 0.        ],\n",
              "       [0.00089451, 0.01613498, 0.        , 0.00430944, 0.10811108]])"
            ]
          },
          "metadata": {
            "tags": []
          },
          "execution_count": 172
        }
      ]
    },
    {
      "cell_type": "code",
      "metadata": {
        "id": "iG47CG22xow1",
        "colab_type": "code",
        "colab": {
          "base_uri": "https://localhost:8080/",
          "height": 187
        },
        "outputId": "d93b3fe7-abfa-4141-a7f2-30f460c59f55"
      },
      "source": [
        "H1[:, :10]"
      ],
      "execution_count": 173,
      "outputs": [
        {
          "output_type": "execute_result",
          "data": {
            "text/plain": [
              "array([[0.12126083, 0.        , 0.        , 0.        , 0.        ,\n",
              "        0.        , 0.        , 0.        , 0.00013644, 0.        ],\n",
              "       [0.11928575, 0.12085267, 0.00016592, 0.00033183, 0.001661  ,\n",
              "        0.05162843, 0.        , 0.00001486, 0.00001065, 0.00016592],\n",
              "       [0.05766391, 0.48160644, 0.0007993 , 0.00159861, 0.01428189,\n",
              "        0.        , 0.00304175, 0.0000783 , 0.00000395, 0.0007993 ],\n",
              "       [0.        , 0.14794335, 0.        , 0.        , 0.        ,\n",
              "        0.        , 0.00080554, 0.00036579, 0.00005702, 0.        ],\n",
              "       [0.12742192, 0.19356417, 0.00050472, 0.00100944, 0.        ,\n",
              "        0.        , 0.00115775, 0.00006883, 0.0000649 , 0.00050472]])"
            ]
          },
          "metadata": {
            "tags": []
          },
          "execution_count": 173
        }
      ]
    },
    {
      "cell_type": "code",
      "metadata": {
        "id": "on-kDnyHf5Ek",
        "colab_type": "code",
        "colab": {
          "base_uri": "https://localhost:8080/",
          "height": 102
        },
        "outputId": "5381798f-c2d8-4d04-dc45-8c392ba7eec4"
      },
      "source": [
        "show_topics(H1)"
      ],
      "execution_count": 174,
      "outputs": [
        {
          "output_type": "execute_result",
          "data": {
            "text/plain": [
              "['jpeg image gif file color images format quality',\n",
              " 'edu graphics pub mail 128 ray ftp send',\n",
              " 'space launch satellite nasa commercial satellites year market',\n",
              " 'jesus god people matthew atheists does atheism said',\n",
              " 'image data available software processing ftp edu analysis']"
            ]
          },
          "metadata": {
            "tags": []
          },
          "execution_count": 174
        }
      ]
    },
    {
      "cell_type": "markdown",
      "metadata": {
        "id": "EZXyOrrA3dia",
        "colab_type": "text"
      },
      "source": [
        "นำ 3 มิติแรก มาพล็อตกราฟ"
      ]
    },
    {
      "cell_type": "code",
      "metadata": {
        "id": "rnD0kXYMyvpa",
        "colab_type": "code",
        "colab": {
          "base_uri": "https://localhost:8080/",
          "height": 617
        },
        "outputId": "624e9cf9-2303-4d0c-9753-a0f3bced3f28"
      },
      "source": [
        "dataset = pd.DataFrame({'Column1': W1[:, 0], 'Column2': W1[:, 1], \n",
        "                        'Column3': W1[:, 2], 'Category': newsgroups_train.target})\n",
        "\n",
        "iris = px.data.iris()\n",
        "fig = px.scatter_3d(dataset, x='Column1', y='Column2', z='Column3', \n",
        "                    color='Category')\n",
        "fig.show()"
      ],
      "execution_count": 175,
      "outputs": [
        {
          "output_type": "display_data",
          "data": {
            "text/html": [
              "<html>\n",
              "<head><meta charset=\"utf-8\" /></head>\n",
              "<body>\n",
              "    <div>\n",
              "            <script src=\"https://cdnjs.cloudflare.com/ajax/libs/mathjax/2.7.5/MathJax.js?config=TeX-AMS-MML_SVG\"></script><script type=\"text/javascript\">if (window.MathJax) {MathJax.Hub.Config({SVG: {font: \"STIX-Web\"}});}</script>\n",
              "                <script type=\"text/javascript\">window.PlotlyConfig = {MathJaxConfig: 'local'};</script>\n",
              "        <script src=\"https://cdn.plot.ly/plotly-latest.min.js\"></script>    \n",
              "            <div id=\"6178f082-3509-4beb-8155-ff21901c76ff\" class=\"plotly-graph-div\" style=\"height:600px; width:100%;\"></div>\n",
              "            <script type=\"text/javascript\">\n",
              "                \n",
              "                    window.PLOTLYENV=window.PLOTLYENV || {};\n",
              "                    \n",
              "                if (document.getElementById(\"6178f082-3509-4beb-8155-ff21901c76ff\")) {\n",
              "                    Plotly.newPlot(\n",
              "                        '6178f082-3509-4beb-8155-ff21901c76ff',\n",
              "                        [{\"hoverlabel\": {\"namelength\": 0}, \"hovertemplate\": \"Column1=%{x}<br>Column2=%{y}<br>Column3=%{z}<br>Category=%{marker.color}\", \"legendgroup\": \"\", \"marker\": {\"color\": [1, 3, 2, 0, 2, 0, 2, 1, 2, 1, 2, 1, 1, 2, 1, 2, 0, 2, 2, 3, 2, 1, 3, 3, 1, 1, 2, 1, 2, 3, 0, 3, 1, 1, 0, 2, 0, 1, 0, 2, 0, 2, 0, 1, 1, 0, 0, 3, 3, 3, 1, 2, 3, 2, 1, 0, 1, 1, 1, 1, 2, 0, 1, 1, 2, 1, 2, 0, 1, 3, 1, 2, 2, 1, 2, 1, 0, 0, 2, 1, 3, 3, 0, 3, 2, 2, 0, 2, 0, 3, 1, 3, 0, 2, 0, 3, 0, 3, 2, 2, 0, 0, 3, 2, 3, 2, 2, 1, 0, 2, 3, 3, 2, 2, 2, 2, 3, 1, 3, 0, 0, 3, 1, 2, 2, 0, 2, 3, 0, 2, 1, 2, 2, 3, 1, 1, 3, 0, 2, 2, 3, 1, 0, 2, 2, 0, 0, 1, 2, 0, 0, 1, 1, 1, 3, 3, 3, 3, 3, 1, 2, 2, 2, 1, 2, 2, 1, 3, 2, 0, 3, 3, 2, 1, 1, 0, 0, 3, 2, 2, 3, 3, 0, 2, 1, 1, 2, 1, 1, 0, 0, 1, 0, 1, 3, 1, 0, 0, 3, 2, 3, 3, 0, 2, 3, 1, 1, 1, 0, 2, 0, 2, 0, 0, 1, 1, 3, 2, 0, 0, 1, 0, 2, 2, 2, 0, 1, 3, 2, 0, 1, 0, 1, 0, 2, 3, 2, 2, 1, 1, 1, 3, 0, 0, 3, 0, 3, 1, 3, 2, 2, 3, 3, 3, 1, 2, 3, 0, 2, 1, 3, 0, 2, 1, 3, 1, 0, 2, 1, 2, 2, 3, 0, 3, 3, 2, 3, 1, 0, 0, 2, 1, 0, 1, 3, 2, 2, 0, 2, 2, 1, 1, 3, 2, 0, 2, 0, 1, 3, 2, 3, 1, 3, 2, 2, 1, 0, 0, 1, 2, 0, 3, 1, 3, 2, 0, 0, 2, 1, 3, 3, 2, 0, 1, 0, 3, 3, 0, 2, 2, 2, 0, 0, 1, 0, 3, 1, 1, 1, 2, 3, 1, 1, 2, 1, 1, 0, 3, 3, 2, 0, 1, 1, 2, 2, 1, 1, 2, 1, 3, 1, 1, 0, 1, 0, 1, 1, 0, 0, 1, 0, 1, 0, 2, 2, 1, 2, 0, 1, 0, 0, 1, 2, 1, 1, 3, 0, 1, 2, 2, 1, 3, 0, 1, 2, 0, 2, 1, 0, 0, 1, 3, 2, 1, 1, 2, 1, 1, 2, 0, 0, 0, 0, 2, 2, 3, 2, 2, 2, 0, 2, 2, 0, 1, 0, 2, 1, 0, 1, 1, 1, 3, 1, 1, 3, 3, 3, 2, 2, 1, 0, 2, 2, 0, 2, 1, 3, 1, 0, 2, 2, 1, 3, 0, 2, 0, 1, 2, 3, 1, 1, 2, 0, 3, 1, 1, 3, 0, 1, 0, 1, 1, 2, 3, 3, 1, 1, 0, 0, 2, 1, 2, 1, 2, 1, 2, 2, 2, 2, 2, 3, 3, 1, 0, 1, 1, 1, 2, 2, 1, 2, 1, 3, 2, 2, 1, 2, 2, 1, 3, 0, 0, 3, 2, 2, 1, 2, 2, 2, 0, 0, 0, 3, 3, 1, 2, 2, 0, 2, 0, 0, 1, 2, 0, 1, 2, 0, 1, 1, 1, 0, 2, 1, 0, 0, 0, 3, 1, 3, 3, 0, 0, 2, 2, 0, 1, 2, 3, 1, 1, 3, 0, 2, 1, 0, 2, 3, 2, 2, 2, 1, 2, 1, 2, 2, 3, 1, 3, 1, 2, 1, 1, 0, 1, 1, 3, 0, 2, 1, 0, 0, 0, 2, 3, 1, 3, 1, 2, 2, 3, 1, 1, 0, 1, 3, 2, 2, 3, 2, 0, 2, 1, 0, 1, 2, 1, 1, 0, 3, 3, 0, 2, 3, 1, 0, 2, 1, 3, 2, 3, 0, 0, 3, 1, 1, 1, 2, 1, 2, 0, 2, 2, 3, 1, 1, 0, 2, 1, 1, 1, 3, 1, 1, 0, 0, 1, 3, 2, 2, 3, 1, 1, 2, 3, 1, 1, 2, 2, 0, 0, 2, 2, 2, 3, 0, 2, 2, 1, 3, 3, 1, 2, 3, 0, 0, 1, 0, 0, 2, 3, 2, 1, 3, 3, 3, 1, 2, 1, 2, 3, 2, 3, 2, 0, 1, 2, 3, 2, 2, 1, 1, 0, 3, 3, 2, 1, 0, 1, 3, 2, 1, 3, 1, 3, 2, 0, 3, 1, 3, 2, 0, 0, 1, 0, 0, 0, 1, 3, 3, 3, 3, 1, 1, 2, 1, 2, 3, 0, 0, 3, 3, 2, 0, 2, 0, 2, 1, 2, 0, 1, 0, 3, 2, 0, 3, 0, 0, 1, 0, 2, 0, 2, 1, 0, 2, 1, 0, 1, 0, 1, 2, 3, 2, 1, 3, 0, 0, 0, 1, 2, 1, 1, 3, 0, 0, 2, 2, 1, 3, 2, 3, 2, 1, 3, 2, 2, 2, 2, 1, 1, 0, 3, 1, 2, 2, 0, 2, 3, 2, 2, 0, 1, 2, 3, 2, 1, 3, 1, 3, 2, 2, 2, 2, 2, 2, 0, 2, 1, 0, 2, 2, 1, 2, 0, 0, 3, 1, 0, 1, 2, 0, 0, 2, 0, 2, 2, 3, 1, 2, 3, 1, 2, 0, 0, 1, 3, 0, 1, 1, 2, 2, 2, 1, 2, 1, 3, 1, 3, 2, 1, 1, 1, 0, 1, 1, 0, 0, 2, 3, 0, 0, 1, 1, 2, 0, 2, 2, 1, 2, 0, 2, 2, 1, 3, 3, 2, 3, 3, 3, 0, 1, 1, 1, 0, 3, 0, 2, 0, 1, 0, 0, 0, 2, 3, 2, 2, 3, 1, 1, 1, 3, 3, 1, 0, 1, 3, 2, 0, 0, 0, 0, 2, 1, 0, 1, 2, 2, 2, 1, 1, 2, 0, 3, 2, 3, 3, 1, 0, 2, 0, 2, 1, 0, 2, 0, 0, 2, 3, 1, 1, 2, 2, 2, 0, 1, 3, 0, 2, 2, 0, 2, 3, 1, 1, 1, 0, 1, 0, 3, 1, 2, 1, 1, 0, 1, 0, 1, 0, 1, 0, 1, 1, 0, 2, 2, 3, 1, 3, 0, 3, 3, 1, 3, 1, 3, 2, 3, 3, 1, 2, 1, 3, 1, 1, 2, 3, 0, 1, 1, 1, 0, 0, 0, 2, 3, 1, 1, 1, 1, 0, 3, 0, 0, 1, 2, 2, 0, 2, 1, 2, 0, 1, 0, 2, 1, 1, 0, 0, 2, 0, 0, 1, 0, 2, 1, 0, 0, 3, 3, 2, 1, 2, 2, 0, 0, 1, 3, 3, 0, 0, 1, 3, 3, 1, 3, 2, 2, 2, 2, 1, 2, 1, 2, 3, 2, 1, 0, 0, 1, 2, 2, 0, 3, 3, 0, 2, 0, 0, 1, 0, 2, 2, 2, 1, 3, 3, 2, 2, 2, 0, 0, 1, 1, 3, 3, 2, 1, 2, 2, 0, 1, 1, 0, 2, 3, 1, 2, 2, 1, 1, 0, 2, 2, 0, 2, 1, 1, 1, 2, 1, 0, 0, 2, 3, 3, 2, 0, 2, 2, 1, 2, 3, 1, 3, 1, 2, 2, 2, 3, 2, 0, 1, 1, 2, 2, 1, 0, 1, 1, 3, 0, 2, 0, 0, 2, 0, 2, 2, 1, 3, 2, 3, 0, 3, 0, 1, 3, 0, 2, 1, 1, 0, 2, 2, 2, 3, 2, 0, 3, 1, 1, 2, 0, 0, 3, 2, 3, 1, 1, 3, 0, 2, 1, 2, 1, 2, 3, 1, 2, 0, 0, 1, 1, 2, 2, 1, 2, 2, 1, 1, 2, 0, 2, 2, 2, 0, 3, 1, 0, 2, 1, 1, 1, 2, 2, 1, 3, 0, 1, 0, 1, 0, 1, 2, 0, 1, 1, 0, 2, 1, 0, 2, 0, 2, 0, 0, 1, 1, 1, 1, 3, 1, 3, 2, 0, 3, 2, 2, 0, 1, 1, 0, 1, 0, 0, 3, 1, 2, 1, 2, 3, 2, 1, 2, 1, 3, 0, 0, 2, 0, 1, 1, 1, 3, 1, 0, 2, 1, 0, 2, 0, 2, 1, 2, 1, 0, 0, 3, 2, 2, 0, 2, 1, 1, 1, 0, 3, 2, 1, 0, 3, 0, 2, 3, 0, 0, 3, 3, 1, 2, 1, 2, 3, 1, 1, 0, 3, 0, 2, 1, 0, 1, 1, 2, 3, 2, 2, 1, 1, 1, 3, 0, 1, 1, 3, 1, 3, 2, 2, 3, 0, 2, 2, 3, 2, 2, 3, 0, 0, 2, 2, 3, 2, 0, 1, 1, 1, 3, 3, 0, 2, 3, 3, 3, 1, 1, 1, 2, 0, 2, 0, 3, 3, 0, 3, 1, 0, 0, 3, 0, 2, 0, 3, 2, 2, 0, 1, 0, 1, 0, 1, 0, 1, 0, 2, 2, 3, 0, 2, 1, 0, 0, 3, 0, 3, 2, 3, 0, 2, 1, 2, 2, 3, 3, 1, 0, 1, 0, 2, 1, 1, 2, 0, 2, 0, 0, 2, 2, 1, 3, 3, 1, 2, 3, 3, 2, 0, 0, 2, 3, 0, 2, 3, 2, 1, 3, 2, 1, 1, 0, 1, 1, 2, 2, 3, 1, 0, 1, 0, 1, 0, 0, 2, 1, 1, 2, 2, 0, 3, 3, 2, 0, 2, 1, 2, 1, 2, 2, 3, 2, 0, 1, 1, 1, 2, 2, 1, 1, 3, 0, 0, 1, 1, 3, 2, 2, 2, 0, 0, 1, 1, 0, 2, 0, 1, 1, 3, 1, 0, 1, 2, 1, 2, 0, 2, 2, 2, 0, 3, 0, 3, 2, 3, 2, 1, 0, 3, 2, 0, 2, 2, 0, 3, 1, 0, 1, 0, 1, 1, 0, 1, 1, 3, 3, 1, 2, 1, 1, 3, 1, 2, 1, 2, 0, 3, 2, 0, 2, 1, 0, 1, 1, 1, 0, 1, 0, 2, 2, 1, 2, 3, 1, 1, 3, 1, 0, 3, 0, 2, 2, 2, 0, 0, 0, 0, 0, 2, 3, 1, 1, 0, 2, 0, 0, 1, 3, 1, 3, 0, 0, 3, 0, 0, 2, 3, 3, 2, 0, 1, 3, 3, 3, 2, 3, 2, 1, 0, 0, 2, 2, 1, 1, 0, 1, 1, 3, 2, 2, 1, 1, 2, 1, 2, 2, 1, 1, 2, 1, 1, 2, 1, 2, 2, 3, 2, 0, 2, 2, 0, 2, 2, 2, 3, 2, 1, 1, 3, 3, 3, 1, 1, 0, 2, 0, 1, 1, 3, 2, 2, 1, 2, 1, 1, 0, 1, 3, 3, 1, 1, 3, 2, 0, 0, 1, 1, 3, 3, 3, 1, 3, 2, 2, 2, 1, 3, 3, 1, 2, 2, 1, 1, 0, 2, 2, 0, 1, 0, 0, 2, 1, 2, 1, 1, 2, 0, 0, 3, 2, 3, 0, 2, 1, 1, 2, 2, 1, 1, 0, 1, 3, 1, 1, 1, 1, 3, 1, 3, 2, 1, 1, 0, 3, 3, 0, 2, 0, 1, 0, 1, 1, 2, 1, 2, 1, 1, 1, 2, 3, 3, 1, 2, 2, 3, 1, 2, 3, 3, 3, 0, 2, 1, 0, 2, 0, 1, 2, 1, 2, 0, 1, 0, 2, 1, 0, 2, 0, 1, 0, 2, 3, 2, 2, 1, 2, 3, 1, 0, 0, 3, 3, 0, 1, 1, 1, 1, 0, 1, 3, 3, 2, 1, 3, 2, 3, 2, 0, 3, 2, 1, 3, 2, 1, 3, 0, 3, 0, 0, 2, 0, 2, 2, 1, 0, 2, 0, 2, 1, 1, 1, 0, 2, 1, 2, 0, 3, 0, 2, 1, 1, 2, 3, 2, 1, 1, 1, 0, 3, 2, 1, 2, 0, 2, 1, 0, 2, 1, 0, 1, 3, 1, 2, 2, 1, 2, 3, 2, 3, 2, 3, 2, 0, 0, 0, 2, 3, 2, 2, 2, 2, 1, 1, 2, 2, 1, 0, 2, 1, 2, 1, 1, 3, 0, 2, 2, 0, 2, 2, 0, 3, 1, 2, 3, 3, 2, 2, 0, 0, 1, 3, 2, 1, 1, 3, 2, 0, 2, 0, 2, 2, 1, 1, 3, 0, 2, 2, 0, 3, 3, 3, 3, 3, 3, 0, 0, 3, 2, 0, 0, 2, 3, 3, 3, 0, 0, 0, 1, 1, 1, 0, 0, 0, 1, 2, 2, 0, 1, 2, 0, 1, 0, 2, 3, 3, 2, 3, 0, 0, 2, 1, 2, 1, 0, 0, 2, 2, 0, 0, 2, 1, 2, 2, 1, 0, 1], \"coloraxis\": \"coloraxis\", \"symbol\": \"circle\"}, \"mode\": \"markers\", \"name\": \"\", \"scene\": \"scene\", \"showlegend\": false, \"type\": \"scatter3d\", \"x\": [0.08858936131968496, 0.0, 0.0, 0.0061496365391959995, 0.003402532839417972, 0.006379111509901456, 0.0, 0.024202875512584508, 0.0, 0.0008945068295581732, 0.015889586121069648, 0.009975794323880767, 0.0, 0.0004983563552187245, 0.0, 0.0024984560538399473, 0.03207554498855569, 0.0022013060207102635, 0.0072904732556189475, 0.010879119686363114, 0.004685447959101044, 0.0, 0.0011541957333068501, 0.012130746847057101, 0.02380790974000168, 0.03327068129164598, 0.0, 0.011058053986872504, 0.0, 0.00774185397197794, 0.0010325010208674765, 8.230899421513273e-05, 0.004090139909912578, 0.0, 0.0024658960529417976, 8.07594295972979e-05, 0.007192289621742614, 0.0019911147334490007, 0.0, 0.005077153249063908, 0.0024746951002519884, 0.0031871703304482734, 0.021163515433874423, 0.0007857943924187686, 0.0204022420628027, 0.0020552076438404895, 0.0074373382387252695, 0.0, 0.0, 0.0, 0.01780569694184037, 0.007637382062631779, 0.0, 0.009324226548810214, 0.0048592095679650055, 0.0036061675237913835, 0.0008255512532097468, 0.00021894237248197784, 0.005650693055139239, 0.014201403983721382, 0.00017792650410259435, 0.0003220720868298616, 0.0, 0.0, 0.01085258851934036, 0.014857444771177099, 0.0034951311549849904, 0.0, 0.0049499680512920165, 0.0030174218430583967, 0.006731889845163324, 0.0017127570634607346, 0.012514304571779827, 0.01703491690742496, 0.0007661534081255686, 0.005042386174616135, 0.0, 0.0025931719092258713, 0.00364855397598601, 0.003481450373682597, 0.0, 0.00020591429185523187, 0.04608592135904538, 0.0, 0.0, 0.0, 0.0, 0.009975629694511327, 0.004358097772581146, 0.0, 0.04495285734545009, 0.0, 0.0009287465529541348, 0.0, 0.0, 0.0, 0.0, 0.0031834125428789385, 0.002998752583514591, 0.0002030403903953443, 0.021455007291997976, 0.000319904381460468, 0.0, 0.005580170861039406, 0.0, 0.01979960530285069, 0.0037982761550699263, 0.00832015190380192, 0.00022606909164361202, 0.007149833594940279, 0.0022733872586014523, 0.0015010497353577714, 0.0004893906292000751, 0.0006438665363669621, 0.0, 0.004564169349109385, 0.0021060102048737045, 0.003368913918269171, 0.00419733511676527, 0.02149291931203678, 0.0, 0.0038994287944943994, 0.0067992638183481365, 0.00250346347468766, 0.004163061125036659, 0.0003932559072854425, 0.0, 0.0, 0.0003195889219447907, 0.01153269168382884, 0.00516852688582125, 0.0, 0.006127757666883342, 0.0, 0.014486206225751553, 0.0, 0.0011363159547402176, 0.0038221224545457845, 0.01318320880369313, 0.03087355356671851, 0.0, 0.01095605604792801, 0.002480696620706637, 0.0030065083863935207, 0.0826898683104857, 0.000604082391362243, 0.0, 0.0031491585235228076, 0.0017737126002978212, 0.00863309511874448, 3.5278377091288462e-06, 0.05849617418944246, 0.0007366673999722988, 0.014391964034266421, 0.00698473523378257, 0.014215897011405942, 0.01250711333653468, 0.0006259334529822885, 0.002456292085495074, 0.008533728304339301, 0.0, 0.002013393022764781, 0.0, 0.011476616830935713, 0.013193650372051178, 0.0, 0.02652173911120764, 0.0, 0.0007485362174480513, 0.025180998155751814, 0.0, 0.0, 0.013548748055238237, 0.005292315378959125, 0.004273998804894806, 0.0033594431731806904, 0.0009194418647173604, 0.0, 0.0004975890670664953, 0.0, 0.008265396284301561, 0.0005709658693603448, 0.008993341126856336, 0.0, 0.12054971531010798, 0.0, 0.0, 0.011081832796056366, 0.08568293284847729, 0.0066035457970244444, 0.0, 0.0, 0.0030277309651259346, 0.0007194210528340539, 0.001029415556995721, 0.005994164638291254, 0.005445227969441282, 0.001276048766619398, 0.0028301170467086036, 0.0006964352185898086, 0.0023824257162805462, 0.0, 0.005958502393806224, 0.0005594051765239247, 0.0, 0.0524655379903512, 0.001790014458271247, 0.017896088592047336, 0.014430332948675796, 0.004214857985216964, 0.00347706338503361, 0.0, 0.005609979691839154, 0.0, 0.02148833395824565, 0.030308583224465394, 0.0, 0.08620785765371981, 0.0, 0.0020399849413826974, 0.013004347100624994, 0.007635059007655338, 0.00240314093659454, 0.0033808414541422883, 0.0, 0.00837451707584233, 0.0026905211812616858, 0.0, 0.0, 0.005955345595111983, 0.0029437637042708464, 0.0, 0.01734300763152594, 0.0, 0.0, 0.0028914249716826272, 0.0, 0.0, 0.0, 0.03829148387639383, 0.03208626380462158, 0.0, 0.0036300241064780216, 0.0036773909004392457, 0.0037854917083394125, 0.0, 0.0004081455284497275, 0.008205579367490468, 0.02946998681873546, 0.0033615415253344144, 0.0013861719135187826, 0.004522656738549975, 0.014040400463753872, 0.0, 0.0, 0.004343897643523001, 0.036249012867137345, 0.0, 0.003066747609074787, 0.04200491802859151, 0.007100667322815324, 0.0012775024226065843, 0.0, 0.0, 0.0024605987193119113, 0.013495816960178916, 0.025244084205565592, 0.0010960000090056616, 0.000671371445766294, 0.0, 0.004872537173594401, 0.0007959785927340473, 0.012023385564932135, 7.90025916718593e-05, 0.0, 0.001269308719222202, 0.0035682513677860804, 0.02025440853557777, 0.0018306335838725151, 0.0, 0.0035616907454316007, 0.016380619878508654, 0.0006279941090897738, 0.010154471598695789, 0.000241022122218296, 0.005137829605068792, 0.004523902959142514, 0.0, 0.0, 0.0019033261102240596, 0.10097064225654835, 0.011936282999926917, 0.00036618894156143823, 0.0, 0.0020758682235973505, 0.0, 0.004560667230889655, 0.031633464390454114, 0.012180724741538572, 0.004820531333763137, 0.0040335640326567305, 0.0015598233938962753, 0.0021670149105686553, 0.0005061542334135736, 0.002050365208597287, 0.011486899998904804, 0.0, 0.0011904415612552371, 0.016846226646168843, 0.0007673676944835558, 0.006787581563874933, 0.0, 0.0189084329901129, 0.007225305133653416, 0.003313689295961096, 0.002927157904696659, 0.0, 0.0, 0.004886926004494746, 0.018026838717883235, 0.016130258127425426, 0.0, 0.0, 0.11471071052196671, 0.0, 0.0, 0.001658812383472537, 0.0, 0.0, 0.006485179194417894, 0.005065928967354734, 0.0, 0.0019636503023822897, 0.024306328253098364, 0.0019159741357569896, 0.0, 0.01313441548182079, 0.007238554592395766, 0.0026050005263640076, 0.0060182537721433045, 0.0, 0.0, 0.003206323689843912, 0.00462671526187603, 0.0017337807799767966, 0.010416951289905928, 0.0, 0.0008254766624857607, 0.0, 0.005499082060376575, 0.0, 0.005798618855832155, 0.008099459558581901, 0.013758096015711098, 0.0, 0.004650196135367904, 0.0154632008206789, 0.004095777828155777, 0.022667064370071294, 0.0, 0.00390956202211089, 0.018095491139423096, 0.020268702353014593, 0.0, 0.0038987536125469173, 0.0016725885289477483, 0.0, 0.016893420672404517, 0.0005232598109126253, 0.007997772550883474, 0.014014475330053953, 0.008520920380256293, 0.011016719260479323, 0.008366867762694042, 0.012383232314991811, 0.010138786047207176, 0.005599947645118615, 8.932540385842046e-05, 0.019556906369519417, 0.0013320657805978098, 0.0025504853231741865, 0.004378290323072186, 0.0023635851985653457, 0.0007087223877939905, 0.018274732150440887, 0.0, 0.01197217058650206, 0.060296156940803036, 0.014355171619461525, 0.0, 0.0019072023635854677, 0.004614884366856564, 0.006338184977095528, 0.0, 0.0, 0.0, 0.0025611996510661412, 0.013908271289922397, 0.018409093823609328, 0.0, 0.0, 0.020219135625596536, 0.0, 0.0, 0.0, 0.0, 0.0053184283501980754, 0.030893953990216546, 0.0, 0.0, 0.0, 0.0051600073899001715, 0.011695901802213854, 0.0, 0.001958638731184712, 0.0022810873904659875, 0.009638392717969579, 0.0010897983533098455, 0.01873137908853063, 0.0, 0.0, 0.010819289033510248, 0.0023562877618318523, 0.056977197597667215, 0.0005789673805597087, 0.0, 0.0033032859472789016, 0.0, 0.0037521096265163293, 0.003255534749254636, 0.0028228394480668546, 0.0, 0.017279697777698177, 0.0, 0.021293806277140646, 0.0, 3.7592143434753314e-05, 0.0, 0.0007023057932343522, 0.026865986717589555, 0.0, 0.0, 0.002311743179967677, 0.0, 0.0, 0.0017087437056659811, 0.0035973418137547394, 0.005380273176479866, 0.0, 0.005944551285931099, 0.0012452539857351571, 0.020538969431508885, 0.0, 0.011249909782734345, 0.047806845124331726, 0.0045998073124686855, 0.03515042244376775, 0.00014334312362792524, 0.008423691467561533, 0.04144380882996755, 0.012039869027563346, 0.002374743309768356, 0.0, 0.012617422455964656, 0.0, 0.002743422019664313, 0.0, 0.02666495012821321, 0.0023298735031611166, 0.016825134091835385, 0.005657432538157994, 0.025604791281897615, 0.005721913374109425, 0.0, 0.04016778299698169, 0.0, 0.01739692893177409, 0.0, 0.005290691606173461, 0.0, 0.0, 0.006978934239334386, 0.005716872227317511, 0.0005223437073830169, 0.01130874942817626, 0.007180885635628494, 0.0, 0.0, 0.0, 0.008001512673335235, 0.016754041170563443, 0.0014192373103118828, 0.00036560862283081, 0.008365155258441254, 0.0010128775560609704, 0.011829449375318178, 0.006430504729994435, 0.006140515570618735, 0.0011672033364577155, 0.09981496177746026, 0.0036504528448834733, 0.03962659912552929, 0.0, 0.026157989092515255, 0.006601728404548151, 0.0, 0.00024431443830032516, 0.0031012534478177902, 0.0, 0.004869616602027293, 0.0, 0.0, 0.0, 0.0, 0.0018069805714416595, 0.023083263839167305, 0.009168869687779331, 0.0, 0.024531923987672802, 0.010395755332893435, 0.0, 0.005867295245512971, 0.0036044106234759173, 0.0, 0.004770035807841783, 0.00028294958452399144, 0.0, 0.005646883074037154, 0.009754290063714543, 0.0, 0.0037089500807559344, 0.0, 0.01676690222235956, 0.0, 0.0, 0.021648070767006075, 0.0017952956156833233, 0.03980023258522589, 0.004953088319427669, 0.0024207379437311415, 0.0078088388798813685, 0.0025710206275257946, 0.01010364619525515, 0.010950828397545168, 0.0, 0.012513978065623097, 0.004648850103572515, 0.030227599252617938, 0.009121502824928584, 0.0023720009533175867, 0.0, 0.0017241431752037315, 0.03513458289877391, 0.0, 0.0, 0.010574836905959223, 0.0, 0.02883202945722666, 0.08579841655319263, 0.0216501537505766, 0.028679431373357857, 0.010049399985788196, 0.005976158697545537, 0.0, 0.0, 0.000826951985452806, 0.006524362751607264, 0.0, 0.0006767762929165954, 0.0, 0.020818763697824316, 0.0, 0.006578042575313443, 0.0, 1.3598034344280428e-05, 0.0, 0.014487396883425643, 0.0, 0.012481955977602016, 2.9603586864968454e-05, 0.0015312607856037802, 0.026017821175700593, 0.012065080714351525, 0.0026316162088534257, 0.004249292031299078, 0.011324314272460128, 0.002332494068051584, 0.0027680397884563574, 0.003284480238286107, 0.00613552174140402, 0.00015812194471719399, 0.0029224719307428984, 0.0005227001345708776, 0.009930324623167282, 0.00622390139798784, 0.0, 0.02805851150123664, 0.011476736292559657, 0.0, 0.0005250562749677918, 0.0, 0.001624800211231411, 0.0029929217800518885, 0.0, 0.0, 0.0, 0.0011282193752096756, 0.03518423512645791, 0.0012697793612936649, 0.0009920254954943909, 0.0, 0.02386694124992688, 0.0006268316153850601, 0.02599188404906163, 0.0014238450913155577, 0.0055216419538696776, 0.0014728342576938627, 0.00698291756216382, 0.026186236296662065, 0.0, 0.0034454300696490706, 0.0007108663595341602, 0.0, 0.021632881863836495, 0.00763260356182397, 0.004421450588752831, 0.016578640125395856, 0.009998321091108417, 0.0, 0.0, 0.005027481505649256, 0.0, 0.006214767505908997, 0.0094017573304296, 0.005181146722042161, 0.002521306488410732, 7.135112497942614e-05, 0.013352177017020643, 0.03700115731385936, 0.0, 0.005549674086511714, 0.0, 0.0, 0.0, 7.765053382524459e-05, 0.0, 0.0, 0.001628363809585536, 0.009117108887145361, 0.0030265520227411484, 0.004807332349771974, 0.03993256857823212, 0.0, 0.0, 0.00867456860900981, 0.009734483154190985, 0.001815611332443447, 0.0, 9.967559634096428e-05, 0.016820226728401767, 0.008405096446874049, 0.0032995800225174917, 0.0, 0.004357934277109468, 0.0, 0.012479408170161778, 0.0, 0.007992911459741481, 0.02097192165752526, 0.0, 0.013758918541763972, 0.0, 0.0, 0.0015508183254424976, 0.003690561650262279, 0.0, 0.0024918877780926744, 0.04194350472102742, 0.00013865440523901963, 8.928209799413592e-05, 0.003487168785340102, 0.0, 0.021430362663479124, 0.007381531811840516, 0.0, 0.022749338058717924, 0.0021439003378531016, 0.0, 0.0, 0.0009376743401188192, 0.0, 0.020671266884006567, 0.0, 0.0006466684651817982, 0.0027222120352458786, 0.07632721388748007, 0.003871175643950423, 0.04418834111977452, 0.21626840156557472, 0.001806634860015773, 0.0034632611660267033, 0.012145836760641814, 0.0032399252471925033, 0.0022871356970864567, 0.0, 0.00028058410571259055, 0.012442547437500194, 0.0014734939234320452, 0.0011860204621776038, 0.0083174022969688, 2.23869634609746e-05, 0.0, 0.0008664240804729497, 0.0035933721830226327, 0.000802150288765083, 0.02607860399630042, 0.002098804761060733, 0.014904152545825586, 0.0001522444853976371, 0.0, 0.03838579646189144, 0.00413569183793781, 0.0398439231705527, 0.0031207304486291134, 0.0, 0.002597156499632599, 0.0, 0.0, 0.009930279784236268, 0.004032708372368838, 0.0, 0.015343664519399636, 0.03542709493200192, 0.012075605634626467, 0.004394590827823385, 0.0031324966874256353, 0.0, 0.0, 0.012195637713399045, 0.003213638073203987, 0.0, 0.02762649045308987, 0.009951521885709882, 0.005218891416690934, 0.011416343683061037, 0.0, 0.01906950270525106, 0.0021101467881052146, 0.007659322177525888, 0.0, 0.0, 0.0, 0.0, 0.0, 0.01715288243455051, 0.0, 0.002139311806718097, 0.0039222340970699, 0.0, 0.0036288480293630086, 0.0032215054692893963, 0.0, 0.0013507801111898143, 0.0, 0.02641006584772201, 0.0, 0.0, 0.0, 0.0, 0.05145916564012251, 0.00028892897019804114, 0.0, 0.0020661629666492093, 0.0, 0.0, 0.03515283861963736, 0.0, 0.0, 0.0, 0.004402824594891027, 0.0005614198233736939, 0.01190682234204734, 0.0, 0.035040835559119916, 0.0, 0.004635170096456733, 0.006441860367173144, 0.0, 0.0025993500815667376, 0.0015704873301990454, 0.01095138141618088, 0.008474713930442086, 0.0120881271436258, 0.0, 0.002180850110834827, 0.0, 0.009766562192126618, 0.023326792490382314, 0.014635675499238008, 0.0, 0.0, 0.0, 0.013478066415767619, 0.0026680025853609173, 0.0, 0.006446425745273472, 0.004582271631063376, 0.0, 0.0, 0.0, 0.005517841344965144, 0.0011662189559046934, 0.0003974842707453917, 0.0069958241958981565, 0.0, 0.0020234910731632286, 0.00605600941131726, 0.0002587082625841953, 0.0, 0.0, 0.032258140838344995, 0.0, 0.003220136289409254, 0.005799385822268047, 0.008408536410609506, 0.001182428200103328, 0.0, 0.0, 0.0335652426369701, 0.014549922494636377, 0.005633164205140744, 0.0074458766580213385, 0.014148749907702086, 0.0, 0.0025222036071423197, 0.0, 0.0, 0.003757887079398111, 0.003790307984047043, 0.0, 0.02308946044977212, 0.008472351851528075, 0.003132691799410019, 0.0, 0.0, 0.0004268442945692046, 0.013096615797028512, 0.011369065829663627, 0.015583147754035695, 0.002730135598174646, 0.0, 0.0, 7.5914854706009064e-06, 0.00848254276890279, 0.0018198281679499542, 0.0005638843990077423, 0.0, 0.0026475176745267568, 0.002933052911700571, 0.004492250073085762, 0.00040899860013076126, 0.0, 0.0009735213458234782, 0.0, 0.011202268849031239, 0.0005513348775120901, 0.0021298517034193305, 0.0513668149546495, 0.0, 0.005885860106760812, 0.0, 0.0014597927951163722, 0.0, 0.0, 0.5483107265453547, 0.007907403796428146, 0.0055726265554734275, 0.0093850514817121, 0.005418437173369535, 0.004452583201325754, 0.0, 0.01338773247856987, 0.0017151740576504628, 0.0033450895852482295, 0.004327791350322435, 0.0, 0.0006410883081109644, 0.003206342785536531, 0.0, 0.007479606046575389, 0.0, 0.00819617267657389, 0.01807545227820265, 0.021073644510088342, 0.01038251559060188, 0.0056779016701865035, 0.0, 0.02862328304720158, 0.002206177771590336, 0.003266912323015488, 0.002077559148301242, 0.0006907104207432075, 0.0, 0.01316837151408119, 3.132089142903896e-05, 0.0035058825259309907, 0.025979939376678293, 0.0063180092186466445, 0.0, 0.010109240026658068, 0.0, 0.009920742124470944, 0.0547454550078957, 0.0, 0.0036456917375300964, 0.001504996439059124, 0.0, 0.0, 0.004669300928301772, 0.00010567533754430847, 0.00036149693582211457, 0.0, 0.007576144122172556, 0.0, 0.0, 0.00042066434483074453, 0.0, 0.011206212252947849, 0.0037909736489832105, 0.0, 0.0, 0.0, 0.0017273332106665512, 0.0008754662595410103, 0.01874763165145001, 0.0003472067334060797, 0.0009278792824290305, 0.0006148910509953969, 0.0004983246190201116, 0.00988171063612494, 0.0005859673395292643, 0.0, 0.018171435790346246, 0.005089959126251074, 0.0, 0.0476562939730132, 0.0, 0.0036708286448673515, 0.0051815273668148155, 0.0, 0.0, 0.0, 0.0018348559890300647, 0.0009393436778293837, 0.016443741525981933, 0.010008654662319864, 0.01085350844133429, 0.0013388353931093157, 0.0, 0.0031444933624148416, 0.0, 0.0025397979196247387, 0.0, 0.008589880626752519, 0.006195567635846656, 0.0002689795826626231, 0.0428704935953821, 0.01020652134648821, 0.014479214645265187, 0.003312487316451373, 0.005377916304244804, 0.016603620826922235, 0.0, 0.04813793096305082, 0.018245542579518995, 0.0, 0.022091648926349988, 0.0, 0.00217116371667244, 0.0, 0.0, 0.03936173422821969, 0.008077452404964066, 0.008755776758896995, 0.0027472768164733866, 0.0, 0.0, 0.015511318703035662, 0.0005862472679601309, 0.0, 0.0, 0.0, 0.08000389680776407, 0.0006880566769969238, 0.0018086139950282316, 0.006049715073236162, 0.0, 0.007141176408034328, 0.10488020015984537, 0.0, 0.014080059888964717, 0.004655694175072133, 0.00791638568511923, 0.0, 0.00182492922141819, 0.006107154567359238, 0.004124400964553936, 0.0, 0.003911152853240726, 0.0, 0.0, 0.005095356182175727, 0.03000907140466318, 0.0200131903445619, 0.0, 0.01330883793219796, 0.0, 0.0, 0.03907165017176207, 0.0, 0.0025263451550167487, 0.0018008024897086183, 0.0, 0.01280503436431986, 0.0038043940426590703, 0.0, 0.06647053338842157, 0.08575753184462936, 0.04190828043199371, 0.003910299233770489, 0.0, 0.01100751705896841, 0.0003530191864541185, 0.0027142873774490713, 0.021914498053646304, 0.0, 0.0, 0.00447103734983086, 0.023657719464851054, 0.010942162479332766, 0.005898997154976579, 0.013479311426656664, 0.052521838638043515, 0.0, 0.005753604403959678, 0.0, 0.0, 0.009614663338472208, 0.01649069768355859, 0.02453271583481109, 0.025489361285642997, 0.008676741779689537, 0.0044573788854053425, 0.005162973616932358, 0.008520546196106253, 0.0, 0.010787033146695338, 0.0, 0.0016457068629751406, 0.001055256910542042, 4.1864552903920975e-05, 0.08050322790764805, 0.000374996061840049, 0.0, 0.008489198889533296, 0.0038913363991858367, 0.001283869361876131, 0.011959090786745443, 0.0, 0.005615782907840544, 0.002028100583666317, 0.0, 0.0, 0.0, 0.002669446644957628, 0.0, 0.0, 0.0055501501494122085, 0.0014974105088651837, 0.0, 0.0016479457525664302, 0.0, 0.0, 0.0, 0.0, 0.0, 0.01800732081792687, 0.0, 0.001970133319675599, 0.03327342867680535, 0.000717238709879613, 0.025528848050794698, 0.010445464464608912, 0.0, 0.0011084097534308376, 0.05773592138741949, 0.00645159920461989, 0.04354304900478969, 0.0, 0.0007376447161144289, 0.005284027561512798, 0.010300682858006869, 0.0008957709515263965, 0.006451407143388226, 0.0, 0.007212455948847635, 0.004416932451370077, 0.0009464358691243514, 0.0, 0.0, 0.0, 0.0026410645292652703, 0.007642783854490887, 0.0, 0.0035961953392738923, 0.0, 0.001424861926165514, 0.0, 0.0019005820592677648, 0.002051939129148258, 0.0010726487829238018, 0.004141633249934063, 0.03321402200327338, 0.0, 0.0007832852400293821, 0.00348682483128626, 0.06946591858809208, 0.008400745979866609, 0.005392860994507706, 0.0, 0.13123529833041347, 0.0017693544426169306, 0.006748666861987225, 6.461607247043404e-05, 0.0018557317919385933, 0.01515010301589648, 0.0051935277250568235, 0.002347747996850324, 0.000347429915618325, 0.08200922671748266, 0.0025884683659866477, 0.002806696828057018, 0.0025537979793060816, 0.006446248746141807, 0.0016286427480077484, 0.013589685048392149, 0.0, 0.0, 0.0, 0.0, 0.004284437355112726, 0.00015851327218112716, 0.0, 0.001230680142916796, 0.00598477449982901, 0.005296186955958706, 0.0, 0.017990435489726293, 0.0010316954714738253, 0.006051791921867371, 0.0014579661785411987, 0.03492239025100313, 0.05055619604755919, 0.010657441157171555, 0.006095557917387786, 0.0, 0.0, 0.00617348459737705, 0.011776475681195064, 0.0, 0.005845583128042983, 0.02799078468003744, 0.0014248723502457135, 0.0, 0.0009623645261975697, 0.004803126601946748, 0.0, 0.0088624288553585, 0.013093745343362394, 0.006601438672419263, 0.01321024723425185, 0.0, 0.009708274059137758, 0.002082152864927117, 0.0, 0.0, 0.0009032572831103644, 0.005204438861370416, 0.0, 0.007373907246700763, 0.003723674113313023, 0.0008007905141277059, 0.00022105059469181953, 0.0023327483974084824, 0.0022931839442437464, 0.006156413973247354, 0.0, 0.0054883427051948715, 0.0, 0.03161862004310724, 0.01096964031540878, 0.0008400653851156274, 0.0006805297001576044, 0.002613065012704698, 0.0, 0.0, 0.007173622524511322, 0.0, 0.0, 0.043349389044660826, 0.0014085942737335469, 0.0017342905520461478, 0.0, 0.0, 0.013566733902180534, 0.009301566710321448, 0.00014622989757571807, 0.022909161774610297, 0.002251319060898149, 0.0055200698110141255, 0.004718621910838967, 0.0, 0.057161894170048355, 0.0, 0.002165737172048611, 0.0, 0.0, 0.008842769181261433, 0.0, 0.0164435973541218, 0.0021649599222256883, 0.00267453374578274, 0.002020536653213405, 0.0, 0.0, 0.009492185373398979, 0.005011260895600251, 0.004926159354494543, 0.033945002919889694, 0.0, 0.002956274424386919, 0.017003941697861586, 0.002592319070759467, 6.686715993808369e-05, 0.004614028130764898, 0.0, 0.0, 0.024013282727110997, 0.0068657893040180865, 0.005672916248854824, 0.011435005648182372, 0.0009525121503435541, 0.0, 0.0024840035923917266, 0.0, 0.03026958054810732, 0.0, 0.004183816289692576, 0.0308130446623883, 0.0006799296021975366, 0.0007733852450675377, 0.01826157308342834, 0.0, 0.004673282661866849, 0.0, 0.011353364338471941, 0.009226564605698241, 0.0, 0.002360692266813385, 0.0015146810141612537, 0.006135672398682681, 0.0, 0.0, 0.0, 0.0, 0.0011109664438949864, 0.0028745111772971906, 0.0015063387360959603, 0.0010696597010695437, 0.003989647062847296, 0.021223127050971523, 0.038391555702884134, 0.0, 0.0, 0.0, 0.0, 0.0009189315839567856, 0.014544370193535997, 0.0, 0.026887767127446543, 0.02421957343057941, 0.012717833835722161, 0.0, 0.0, 0.0027147305714349695, 0.006488585002101317, 0.0011078302915583334, 0.008353309638453002, 0.002639870002057579, 0.002246095803749079, 0.00012710521083519611, 0.0, 0.00590306898830656, 0.00915751640255586, 0.0009601411892188297, 0.0, 0.0, 0.0, 0.006613197648907239, 0.004622670601500938, 0.0, 0.041204906230069435, 0.03736539190794897, 0.0, 0.00897862764866891, 0.00305328683700737, 0.019362261767389023, 0.034476101192767526, 0.01351060609414337, 0.0018992255692939167, 0.005592102374069387, 0.0, 0.0947139192909226, 0.0019537440262305827, 0.0, 0.02755935964931868, 0.010164374389609517, 0.0, 0.0009931249579003792, 0.0, 0.005004320546949643, 0.00015898076204441474, 0.03942526739918959, 0.01525146068162152, 0.021512069986967947, 4.780368605742986e-05, 0.0035577790156138224, 0.005852398932614755, 0.014877751654002964, 0.0, 0.011501208709682393, 0.003964285992575367, 0.0, 0.001054799319109779, 0.013635531722985232, 0.0, 0.0, 0.0, 0.017288101117769683, 0.0, 0.00323014394669685, 0.0, 0.0, 0.0007400181864524904, 0.01066950672688981, 0.002139697357299458, 0.0, 0.006335611462328197, 0.019027586140420674, 0.0014590671225658176, 0.000339580137895041, 0.06911410757634454, 0.003990409311144012, 0.0, 0.0, 0.0, 0.0013705946463544515, 0.005229476407873745, 0.0051046998752039665, 0.002360018442654414, 0.0, 0.005940219784972237, 0.0, 0.0, 0.0, 0.0, 0.003998898942662561, 0.0005793457344656351, 0.010566948149326922, 0.0, 0.003359819503701838, 0.0, 0.009184082677336324, 0.0007379553585479647, 0.010391577095126704, 0.005398241225483718, 0.013571272933929969, 0.0, 0.0, 0.010511769792311438, 0.004485134805591874, 0.005844165591362894, 0.005190741970222821, 0.0, 0.034295631886137906, 0.0021801844260620493, 0.0003095970708979088, 0.0029361229088979506, 0.007398516738989397, 0.0012680099042462038, 0.0005878132090917209, 0.0, 0.0036697993008420944, 0.0, 0.0, 0.003048496686237327, 0.059073877457805464, 0.005631212902882272, 0.0, 0.004995867584188725, 0.006232722852257349, 0.015977658163366774, 0.0, 0.0, 0.0028840801688968247, 0.005338734399729652, 0.0019077717895281839, 0.005708764494620763, 0.0, 0.0, 0.0, 0.0, 0.0003879131280492447, 0.002413212512938022, 0.0005271272486655124, 0.005258494004477944, 0.040336164213309385, 0.004660798537981513, 0.0016112710969788458, 0.0009349577988881125, 0.0029853452112689823, 0.025578829593877854, 0.004624645547220182, 0.0, 0.0, 0.0004857165029210904, 0.006179293324473606, 0.0004767982885755021, 0.0, 0.0016326946661198718, 0.0020105609885671233, 0.012562790480493653, 0.0, 0.0, 0.02776890790311887, 0.0, 0.008810786208931193, 0.002018114612056553, 0.011153927437227455, 0.004559729836062468, 0.0, 0.0, 0.005109040874957605, 0.0006679004095011333, 0.015751766705612045, 0.006533691380692347, 0.0, 0.013036783849592315, 0.003118809274087694, 0.04874747036214606, 0.0027354557938181483, 0.007999897215930215, 0.004778011027183398, 0.0, 0.012692345345690808, 0.0018215840995387653, 0.008670932177862753, 0.0, 0.008178794474668776, 0.004103898532705384, 0.0, 0.0002451593225395251, 0.004102511380131937, 0.0015071907276054154, 0.011745620294873122, 0.0010366907506123306, 0.0, 0.0, 0.0025675139718062128, 0.0009533006073655119, 0.0, 0.007361736164524752, 0.0, 0.011057058060783548, 0.013275075714385038, 0.0, 0.0, 0.008890058284614614, 0.010658429129629632, 0.004060087915340982, 0.06570753266098456, 0.004697618915072228, 0.0, 0.0018001128375842194, 0.03392296656720549, 0.0, 0.041567816340374646, 9.127363999658479e-07, 0.0014730179553660858, 0.03046081754918413, 0.0035456873181154602, 0.002505234443814127, 0.0, 0.0, 0.02308519221902873, 0.0, 0.00463990950606441, 0.013034022692144705, 0.009448168945884372, 0.002936417010934821, 0.0, 0.0020809861543328303, 0.0023232119738388476, 0.0, 0.0012230102534524858, 0.006948836239514088, 0.0006907104207432075, 0.00840422281347286, 0.0, 0.0, 0.01691328441620936, 0.004326387632686054, 0.0002357052055505044, 2.3937381978036442e-05, 0.00203938151368817, 0.005764816064740615, 0.001628760880857605, 0.40090689692583226, 0.0, 0.0051082822843024, 0.005226255484198923, 0.0032929576580590777, 0.007449750616954139, 0.0, 0.005295273937563617, 0.003360189224749714, 0.0019339049189705678, 0.007697745489611708, 0.01706482465535122, 0.005659375815587329, 0.0, 0.0024358739529608026, 0.004673254795049348, 0.0010837853774053668, 0.006360042971501691, 0.02341934473998757, 0.0001718227617251955, 0.011369658832342842, 0.01320424123502517, 0.012522437865900597, 0.0, 0.009160153539709073, 0.018973414122189166, 0.0033240260671711496, 0.0005711043113729915, 0.0, 0.006564625827334279, 0.007977067173928173, 0.002383384428366079, 0.0, 0.0, 0.016014817418852488, 0.006531215813252527, 0.0, 0.0, 0.0, 0.0193589476601352, 0.0, 0.05890383796594229, 0.009602806735812956, 0.011651867973419671, 0.004351965566344088, 0.005255827844145149, 0.020848630552702266, 0.001993403436292743, 0.0169883154039006, 0.010667479929179342, 0.03726594756951072, 0.9878897318749638, 0.008458466776236536, 0.019965450479288434, 0.0, 0.0, 0.0, 0.005027024569414361, 0.01120436332253453, 0.005574180261611743, 0.005925439193785382, 0.0, 0.0011013777192669751, 0.05704408471640187, 0.0, 0.0, 0.0, 0.0, 0.00024239484704376214, 0.010055469767952173, 0.0, 0.01204066312847637, 0.0038667019750995694, 0.0377029454071063, 0.005989901194073626, 0.0, 0.005287192736133732, 0.0, 0.0, 0.0009997275560531015, 0.00588312318471271, 0.010457895019307276, 0.0004377722545906189, 0.0011799901676382912, 0.0232691109091429, 0.0006964618836875902, 0.0, 0.017585749904307193, 0.019470560436618337, 0.0, 0.0, 0.005715543792922535, 0.0, 0.00010240551336890201, 0.0, 0.0008118222600093124, 0.0031842975083778854, 0.004778679423970539, 0.012143932082533608, 0.004122819936684328, 0.0, 0.0630522976009693, 0.007727630472763306, 0.00778623377425895, 0.009118354207346384, 0.014263840343796203, 0.0011716177022888517, 0.07855071257597675, 0.0, 0.018535981779922297, 0.061399351125333006, 0.0029267940070831526, 0.003993842204718381, 0.0, 0.0037429160185925014, 0.0, 0.0, 0.0052988871966587955, 0.0447734524421303, 0.0, 0.0006017828692579974, 0.04540960155374494, 7.318644488201869e-05, 0.0, 0.0008283506761869053, 0.0, 0.016953057725218434, 0.00037345473910969397, 0.0, 0.0016787714104535907, 0.0037781249350104934, 0.006526479192791205, 0.0018909811304190617, 0.0048840979259586505, 0.47909009462899743, 0.0071544162102806915, 0.0, 0.22822118777600836, 0.0022791327783852114, 0.0018972935303221237, 0.09431310887480915, 0.0031289076669120874, 0.0, 0.010360288595147468, 0.008773200883730278, 0.0, 0.0010324730300199077, 0.037578911809773186, 0.006051251241654117, 0.0, 0.0002968777963546246, 0.0, 0.006631635506058771, 0.01873232633526425, 0.011116358748130327, 0.15724375379279798, 0.007806275389317922, 0.008291262508907878, 0.002472844191863758, 0.0, 0.016761881628175875, 0.0, 0.0027125533065476388, 0.0, 0.023320332774908244, 0.0, 0.005301850544257539, 0.00012113194107644449, 0.0, 0.004434150675990655, 0.059669550917121464, 0.0027171960965548616, 0.005661418838075033, 0.005498928719623738, 0.01176173779650171, 0.005107786446201041, 0.0, 0.015542399551350712, 0.007169240645395969, 0.002436830589209386, 0.015312772618983558, 0.003665939415062171, 0.017013351008566432, 0.0, 0.007968388357358585, 0.03437848320399355, 0.0004106743373966649, 0.0, 0.0, 0.0001736565145983003, 0.0373068141135586, 0.02124512784336865, 0.008810786208931193, 0.0, 0.0005999559076108794, 0.0, 0.0, 0.07657235357462551, 0.0, 0.005866366336015774, 0.0, 0.01481043969286297, 0.0, 0.0, 0.005447690517902664, 0.005980478815946274, 0.3586204752963055, 0.0011319949095700116, 0.001788984389470837, 0.03574453292824757, 0.00037342127088331895, 0.0027695504028850213, 0.008964946318784766, 0.015177614912416836, 0.0015455707501286005, 0.012667459420197844, 0.008494908680579482, 0.0017913331822028565, 0.02244823942935341, 0.0606204525687316, 0.0004813726085287453, 0.02478030277441269, 0.010155973808563182, 0.001703982404132788, 0.032814693760693285, 0.0, 0.0073287004960539874, 0.0014309836394657603, 0.006409832443907639, 0.0016485849490371516, 0.0, 0.0, 0.0022928375350072063, 0.0180140901980588, 0.004303109352794325, 0.005303908265309098, 0.0, 0.006535026452002298, 0.0, 0.008972314663000242, 0.0023336314063084193, 0.005480681485916206, 0.0, 0.0882343151509494, 0.08384175876500181, 0.0, 0.025012094596125602, 0.0008963153629414747, 0.10354718265133525, 0.0, 0.011333152442571269, 0.0, 0.0, 0.0, 0.00016359705104630471, 0.004149485409252224, 0.004744324871577379, 0.0020422987133240245, 0.005489831233504582, 0.01614726041238699, 0.0, 0.00897299675443797, 0.0016906567646273098, 0.0032041668841472503, 0.0, 0.0, 0.0011349344500647207, 0.0, 0.00382868080611223, 0.0, 0.0015870379852442485, 0.04736624585075637, 0.0, 0.0, 0.007859988475070597, 0.0, 16.273162410701694, 0.00039005283194741384, 0.0001284011568871174, 0.009292998773451439, 0.0, 0.0, 0.011681262184627492, 0.00047518730103543667, 0.0025719884956963003, 0.0, 0.004376311963971866, 0.010011284283393252, 0.005166407682555976, 0.00439636983961178, 0.0, 0.010954613337639182, 0.04840272310195508, 0.004200052640557628, 0.012576549470922875, 0.012901481760867773, 0.0007246514384086918, 0.007577575782034191, 0.018492218825293977, 0.024989992553616454, 0.006150669185230676, 0.0008398599040900993, 0.0, 0.0, 0.008643080243998324, 0.008496306514818695, 0.009566795713579835, 0.0, 0.0063977599706615, 0.004088197229363493, 0.004527448973347356, 0.0, 0.0, 0.0011969421897484673, 0.0004409094425204849, 0.0, 0.0, 0.03815173449573122, 0.006051901720929536, 0.018201535898315076, 0.0005754352441877047, 0.0020274045656364877, 0.0, 0.0, 0.0, 0.0, 0.0012194161343372395, 0.00789369847481345, 0.005486631032526729, 0.0, 3.342638303135436e-05, 0.05114965179986774, 0.012814087878585248, 0.0, 0.006763991542282717, 5.54337560863646e-05, 0.0034918508134838115, 0.0017814433026438778, 0.00019157254151083345, 0.001406000976343629, 0.0, 0.009543965059958276, 0.005715755718320168, 0.0, 0.0027253033314255243, 0.0009308017602764568, 0.0, 0.003061038805595961, 0.008598506271139802, 0.0, 0.04628181965812295, 0.002683061740865139, 0.01906421618284789, 0.002887040396758041, 0.008994544917946054, 0.004438199026431862, 0.0005618022084165639, 0.0, 0.004327489065252065, 0.0, 0.022672089024732254, 0.0, 0.0, 0.0025294949878992682, 0.0, 0.018674196928274836, 0.07039962262821746, 0.005960957863598656, 0.005537362513737444, 0.002721773138824541, 0.009125280597623218, 0.0, 0.0, 0.005826734772820786, 5.976493544523262e-06, 0.025273803647622804, 0.0013745064893659253, 0.0, 0.03852141061735355, 0.0, 0.024944265288968773, 0.005636534611243873, 0.0028486457271335868, 0.0026546621788556537, 0.0022660503443651223, 0.028746924564724365, 0.0009727626735963688, 0.0027692497174447495, 0.00888981426394617, 0.035115165717794904, 0.001347063430998017, 0.0, 0.0022522793233228024, 0.005075176312695082, 0.0, 0.0, 1.4311765050024973e-05, 0.010380495155674406, 0.0, 0.0, 0.0, 0.0, 0.008121245185510452, 0.0, 0.0019169453935392465, 0.0, 0.003019748410354621, 0.0, 0.003316639901900267, 0.06326637234479023, 0.00033181372113491245, 0.0004544998952946817, 0.01616460110153921, 0.0, 0.008113976733859492, 0.005528353126126337, 0.0055179770960979545, 0.004787549718770289, 0.01089404031890735, 0.0, 0.005203707397505926, 0.0, 0.0, 0.02548613971895002, 0.0011784207116093928, 0.0018063525634182723, 0.001379385717630685, 0.005278417918199654, 0.0009558985714856126, 0.0050895283709171115, 0.030169974970196776, 0.01832570677422527, 0.01369539229677352, 0.0, 0.0014725041578153473, 0.008753065870251221, 0.0, 0.0, 0.0, 0.0, 0.0, 0.003289278777057655, 0.0, 0.16944497764661753, 0.005627537089551173, 0.008735532461251637, 0.0, 0.0007448869234247922, 0.018669336365174555, 0.0, 0.0, 0.0, 0.0, 0.0012800481284079316, 0.003683535982740739, 0.0073890818856355315, 0.005526198501441505, 0.013824720391632435, 0.0, 0.006145547926800012, 0.0011890134671548257, 0.017444235677567168, 0.011258711799399763, 0.0, 0.00510542739317533, 0.0069284894979094284, 0.03468442321776461, 0.0, 0.0171453396305506, 0.003163469317683839, 0.03525806846399166, 0.001684186559434569, 0.0, 0.0, 0.0, 0.0, 0.01230739998263364, 0.0, 0.019544215607324673, 0.0, 0.0, 0.020806518699828195, 0.0, 0.035281518804045474, 0.02212318573938799, 0.0, 0.001620104134964421, 0.013770479076599864, 0.0013468045589753814, 0.0006951761405293792, 0.0, 0.006972737780876014, 0.0, 0.012032497908379373, 0.011820500886853776, 0.0010999050708659672, 0.008608672995350964, 0.0, 0.0026417457452820757, 0.0016643902617533251, 0.0, 0.0, 0.006721607527952865, 0.00010624920332014794, 0.008977872288183562, 0.018623268929661853, 0.0], \"y\": [0.029847143303764225, 0.000741459580235555, 0.016508130081387722, 0.03209064390393634, 0.0, 0.007031274520550391, 0.0, 0.011251482528986577, 0.0, 0.016134976105633327, 0.0, 0.005365825146234122, 0.049073153293938056, 0.005306502317778609, 0.03645281231914938, 0.0, 0.009642171223125579, 0.00711843914290811, 0.0013928692620098638, 0.01602060998831481, 0.0, 3.803026773844622e-05, 0.0, 0.00207050677828403, 0.011005792749736622, 0.05925746105358819, 0.0, 0.0002503548207576487, 0.0, 0.0, 0.008380932329515726, 0.0002206763208527736, 0.14611281563894563, 0.353698338581099, 0.0, 0.0, 0.0, 0.005609280067710996, 0.0, 0.010577175593979157, 0.0, 0.0, 0.007451908393452868, 0.0025654668638880043, 0.0, 0.0, 0.0, 0.0, 0.0, 0.0, 0.0, 0.0, 0.0, 0.11842753769860208, 0.004449942069326951, 0.018810132385437318, 0.0012193029462124424, 0.0007634218156074313, 0.006595136886033578, 0.051988707245427646, 0.0, 0.0, 0.03307697964801333, 0.019077106893858355, 0.009053442612279397, 0.0266411226861686, 0.0, 0.0, 0.003095621814799159, 0.0, 0.06097798466227645, 0.0, 0.0003757133602569832, 0.0, 0.004659361072086763, 0.0, 0.0, 0.000472594034232279, 0.023190506749549564, 0.0, 0.0, 0.0, 0.0, 0.0011535855798956041, 0.0, 0.0, 0.0, 0.045870542394435054, 0.0, 0.0, 0.0, 0.0, 0.0, 0.0, 0.011383734376318067, 0.003674845255070608, 0.0, 0.0037513793893748024, 9.296151556504932e-06, 0.0, 0.01905537988464387, 0.0, 0.00048183901650035015, 0.0017715970064960589, 0.0, 0.0, 0.0, 0.008353252766114618, 0.0, 0.002619501456698864, 0.0, 0.0, 0.0, 0.0005370999971432987, 0.0, 0.0, 0.003622194369171693, 0.02961951450383283, 0.004338835152372841, 0.0, 0.0, 0.005997973933460065, 0.0009643012540887033, 0.004012042647720526, 0.002395094868785563, 8.013967137242322e-05, 0.0, 0.0, 0.0, 0.002245742769572913, 0.015825630806026576, 0.43012065047137604, 0.0, 8.439160134500385e-06, 0.0031049285192702794, 0.03501265958537748, 0.00024787317055670387, 0.0, 0.05693304714233004, 0.0, 0.0, 0.0, 0.012716014662490945, 0.05186580279421306, 0.0, 0.0, 0.0034833702898751573, 0.005316584270886071, 0.00521131233937997, 0.0, 1.8569171785392336e-05, 0.03461490492981739, 0.0031410456960734084, 0.03842498593952259, 0.09681835869772988, 0.0, 0.0044576774323675655, 0.002354242927051652, 0.004996887449240868, 0.0, 0.0, 0.0, 0.19614990857034312, 0.005260044412682328, 0.0, 0.0, 0.03437459569351986, 0.0, 0.0, 0.011203496583168993, 0.0, 0.0, 0.0, 0.004407713549496586, 0.009697245140834245, 0.024952357185181986, 0.009761212755338011, 0.0013323945522037317, 0.0, 0.0, 0.004356163692116238, 0.002889350572445951, 0.0, 0.0002992220672549885, 0.0, 0.0, 0.04021006242819956, 0.0545454073550008, 0.0, 0.007580525381624451, 0.04424912236670134, 0.0, 0.0, 0.00942882926936018, 0.0011181439011619535, 0.006427655984817514, 0.0, 0.0, 0.0, 0.0, 0.0, 0.0, 0.008450604120850214, 0.003295676463113824, 0.0, 0.020714964001279257, 0.024344980259498432, 0.005566169035489062, 0.0036941320884038486, 0.002220409738400393, 0.0020525317284567175, 0.0014354222419135042, 0.0007933088986892274, 0.0, 0.09179137933437205, 0.047727202686623414, 0.00023452814629218696, 0.0, 0.04035378270811782, 0.0016643563355387776, 0.07002284307636135, 0.005118714339054553, 0.0021059158050300603, 0.0, 0.0061410883147493735, 0.0, 0.0021966963584151107, 0.012950491922185338, 0.0, 0.0, 0.03140625468828823, 0.0, 0.03558091960371558, 0.009379702329357444, 2.5160427294401037e-07, 0.0011780008998047557, 0.012000698267684287, 0.0, 0.006534672375352365, 0.0, 0.0, 0.00025791831470329033, 0.0, 0.009178166863907811, 0.0, 0.004212956406159813, 0.008998263541600951, 0.11320544638768813, 0.0, 0.0, 0.0, 0.01713331194198145, 0.0007559054213938684, 0.0, 0.062371887483909434, 0.0, 0.006717955142290435, 0.0, 0.0, 0.0, 0.0018606761885801065, 5.275734908406746e-05, 0.0, 0.001895030997608623, 0.004836652949110456, 0.05213007437777399, 0.0, 0.00021297355982842443, 0.0, 0.002132939643001421, 0.0, 0.0, 0.0, 0.0020538007177731722, 0.007299943896654046, 0.004758737151162981, 0.0008401903371383316, 0.0003432047609120358, 0.0, 0.00021223026150576425, 0.0, 0.12789343408909437, 0.005155557566976083, 0.014191892226672767, 0.0, 0.006414275185289648, 0.006943016584077025, 0.0, 0.0038120371297017362, 0.0013924011061319473, 0.0, 0.009869080177490134, 0.0, 0.026559874247982822, 0.0, 0.032065848857248745, 0.006966086443172323, 0.027163815574191858, 0.00567741343569755, 0.0031101559186277766, 0.0, 0.006079864319015153, 0.0, 0.0, 0.0, 0.0, 0.0, 0.03930426796647975, 0.03150210323306635, 0.0, 0.0050814707310070355, 0.00807109608250484, 0.017226421294531592, 0.0, 0.0, 0.0005383261271335086, 0.003409988562232591, 0.0, 0.16437357679761075, 0.0, 0.0022090931168785148, 0.003938092172142389, 0.004448075045368815, 0.0, 0.0, 0.003359288897567171, 0.002580039409211755, 0.007516134483388489, 0.005149906602481975, 0.006311187804120143, 0.0009399610116187466, 0.0, 0.00018019192136358098, 0.0, 0.0, 0.0020495537849891054, 0.0, 0.004061646830771037, 0.025872927059847364, 0.0, 0.0, 0.09913515592115676, 0.013709747616937117, 0.034940358680125294, 0.0035913134773362687, 0.0005835467912234861, 0.0, 0.0, 0.0, 0.0, 0.0004080414661612584, 0.0564643436390771, 0.0, 0.0, 0.0, 0.008547254062382506, 0.024279820677867804, 0.0, 0.007755419728031413, 0.003153301044380226, 0.0009448353023281596, 0.04374147427281309, 0.0, 0.0, 0.0, 0.005510079994550792, 0.008422498844911055, 0.000486453390143779, 0.0, 0.0, 0.0018292046591211805, 0.0, 0.0, 0.007172389189805575, 0.012394095481894813, 0.030929250231378276, 0.0, 0.0, 0.0, 0.0028916653526994936, 0.0, 0.048509533348466326, 0.0027445732874742702, 0.0, 0.05484887641988571, 0.0, 0.01716599560592372, 0.0035983543538343596, 0.0, 0.09809558177912207, 0.0, 0.0, 0.0, 0.09245898208135243, 0.022948141930507728, 0.0, 0.01815054296576383, 0.03215025018913394, 0.001030574580861537, 0.0, 0.0, 0.004803535511339249, 0.0, 0.014248999382157193, 0.0722652088918863, 0.0, 0.019847218933657977, 0.0, 0.0, 0.0, 0.0, 0.00904308692262777, 0.0, 0.0, 0.006930694353424062, 0.0, 0.0, 0.00262057918322019, 0.0, 0.0010755225055242288, 0.0, 0.0, 0.0018344346937470863, 0.25830820818911543, 0.0, 0.010029505484114838, 0.0028335052048845274, 0.007770872661622638, 0.0, 0.0, 0.03494964212210673, 0.0006116210074592127, 0.02763137339681185, 0.00046429597057732835, 0.011351152306402577, 0.0, 0.002430191843237902, 0.001022233316443402, 0.0, 0.0, 0.0, 0.0, 0.0, 0.0, 0.0, 0.0, 0.001988461452044015, 0.05073840376045153, 0.01044194072343932, 0.005185028415252488, 0.0, 0.0035436653695864423, 0.0, 0.0258265647079894, 0.07008162446888014, 0.002468632053083347, 0.02834055993608101, 0.002488041489540965, 0.005360660705746453, 0.01985387329822367, 0.0, 0.00917095281774839, 0.0, 0.01873543591803488, 0.008785862285578733, 0.0, 0.0, 0.0, 0.058975728113980296, 0.0, 0.034749745762852294, 0.0, 0.0, 0.0, 0.0, 0.07240089400791913, 0.0021122113812865268, 0.006197592438376515, 0.0, 0.026984669182276398, 0.0, 0.0877936234654927, 0.058191107891205116, 0.0007286609171834085, 0.017805963301137297, 0.0, 0.0, 0.0, 0.0017730351849148786, 0.0, 0.004816707801648732, 0.0, 0.00719404337225034, 0.0, 0.0003338548243178317, 0.05275835862082857, 0.009429706381674197, 0.0036812046268486064, 0.0, 0.027131299502467152, 0.0, 0.010676084183004999, 0.02957950252042459, 0.01755372473666394, 0.0, 0.03751770032044305, 0.0, 0.0, 0.0, 0.0041941136815775645, 0.007859891148909547, 0.002361005322457567, 0.0, 0.03487857228973389, 0.001332857363334232, 0.004881927621946379, 0.0, 0.0, 0.008549150832428916, 0.0021897523904932967, 0.002556892136302878, 0.0, 0.0013498502469681175, 0.002090915597417528, 0.012079571326880206, 0.02682599962664537, 0.0, 0.00829427982475432, 0.0, 0.0, 0.0005952746279932966, 0.034557109472765385, 0.006113887808962846, 0.009567460608654231, 0.05421648252295095, 0.025921600957950125, 0.0, 0.06747198307911732, 0.0, 0.0016659823702851522, 0.0, 0.0, 0.013516043244730049, 0.0060913034089267615, 0.0, 0.0, 0.006237488612972757, 0.06382568971731138, 0.0, 0.001381331912605569, 0.0, 0.0, 0.0, 0.07283749336132496, 0.0, 0.19432030745498063, 1.9861538757506674e-05, 0.0, 0.0, 0.0, 0.011089390269605254, 0.03610380972364, 0.000519145130927925, 0.00957149152456443, 0.0, 0.004013056730974412, 0.0, 0.0, 0.013526997931322912, 0.06223770458022278, 0.0, 0.009395801431905668, 0.014033809018393979, 0.017821758848829288, 0.0005346859302633947, 0.0038300145835365525, 0.0, 0.0, 0.0, 0.006612823703000502, 0.018153236257952687, 0.0064401232497095446, 0.011488051290644794, 0.003467828371354659, 0.013994582845390537, 0.01031569578366524, 0.001790192029582801, 0.00034979818215032506, 0.02525912127261036, 0.00970160681816219, 0.0013984418543437796, 0.0, 0.00021307964981247734, 0.0018946741114296466, 0.004160913533906825, 0.0, 0.010576299099721569, 0.0020596262424869977, 0.14563077840604685, 0.0, 0.026828984820756043, 0.03900317522948864, 0.0003143530061138267, 0.008086130746350577, 0.0, 0.0, 0.0, 0.0, 0.029315525592027294, 0.0, 0.003434381477331776, 0.007894240155793816, 0.0, 0.06714216262047569, 0.0, 0.002098478312600445, 0.009240074678256223, 0.0, 0.0, 0.0, 0.0, 0.0, 0.002282670167596283, 0.4006973421251818, 0.0, 0.009644243176214465, 0.0052532489065875, 0.0, 0.0, 0.0, 0.0, 0.0, 0.0, 0.0023610879168977205, 0.07422443864601184, 0.0, 0.0, 0.0562759543661932, 0.05033509617071428, 0.0, 0.03380815956751671, 0.0, 0.0, 0.0, 0.0028072676102557704, 0.0012609588666620786, 0.0042804964562204876, 0.006513098911284565, 0.058309673927597054, 0.028943985084460656, 0.0, 0.0, 0.05946617232308001, 0.0, 0.0, 0.004736665573232538, 0.0015458234246732165, 0.0, 0.011257984081378349, 0.0, 0.0005598281161651477, 0.000724538467730609, 0.02620661594473229, 0.0, 0.031098045338319735, 0.07582663681341568, 0.0021727110759062343, 0.08564048898637498, 0.0, 0.0, 0.0, 0.0, 5.342869509778515e-05, 0.0003004984332818228, 0.01602551941502735, 0.020857296865370686, 0.0, 0.2228642438183994, 0.0317867133324811, 0.0, 0.043051163956967356, 0.0021439145761884527, 0.0, 0.0, 0.0, 0.08998902140762341, 0.0, 0.0, 0.0055375845358178934, 0.001272997933821698, 0.0038464242853753663, 0.015532134511386377, 0.0008228225370183179, 0.0014518880062038503, 0.0, 0.0, 0.0, 0.12185718095158696, 0.5388639712444097, 0.0010276930312670255, 0.0015941201464782406, 0.036928430638771506, 0.03095626076083288, 0.0, 0.03345187252105335, 0.003305690879443921, 0.00605934311508712, 0.0, 0.0, 0.041638143109949496, 0.0, 0.0, 0.0, 0.0, 0.0, 0.032325282939267716, 0.0, 0.0, 0.0, 0.009618121845510823, 0.07379496073575947, 0.0024084117425804768, 0.027715005191026473, 0.0, 0.026012785401993824, 0.002283160296983688, 0.0, 0.0, 0.0, 0.21794105179049092, 0.0, 0.0, 0.0, 0.0, 0.0, 0.0, 0.0, 0.0308542078122225, 0.0, 0.0, 0.006943298093280245, 0.02092349318656265, 0.04123697787504195, 0.0, 0.04954356735715358, 0.0, 0.0492627364208219, 0.0, 0.0036080586948452143, 0.0, 6.655907129388541e-05, 0.0, 0.021326235148449658, 0.009699105745122897, 0.016976764036920132, 0.0, 0.007394990879459988, 0.0, 0.0, 0.017241318335342305, 0.00023665583387386577, 0.0003825155658100632, 0.0, 0.0, 0.00010393937978353921, 0.0, 0.0, 0.08721029913778323, 0.0, 0.0, 0.0019513938284738746, 0.032242353126473555, 0.0, 0.008577878093889452, 0.0, 0.004975135103492878, 0.0768449697264713, 0.0, 0.006924007519739562, 0.03913109757213107, 0.000906645873072728, 0.0, 0.0, 0.038212745899707266, 0.02694000375184287, 0.019066361741844864, 0.00708214295343241, 0.0, 0.011997474009287183, 0.0014348071984336735, 0.0016632066745737434, 0.020153018566033628, 0.011743670016256105, 0.11999223689498856, 0.0, 0.06605938958849907, 0.0, 0.04146597990311727, 0.0, 0.00565590434531874, 0.0, 0.0, 0.019997963951169366, 0.0027297551996470675, 0.0, 0.0084425644370654, 0.010322039914489968, 0.005931184515839202, 0.021977215421262637, 0.003976502721452246, 0.0, 0.0, 0.0, 0.04347348669240648, 0.0, 0.025472042895874226, 0.0, 0.0, 0.0, 0.023228119021012465, 0.0, 0.1282044260521386, 0.0025283127133479033, 0.0, 0.0, 0.03878896369876316, 0.0007223393665543726, 0.002202895714303543, 0.01153074054612435, 0.0, 0.0071499761623225475, 0.0, 0.0, 0.0, 1.2632264086407589e-05, 0.0, 0.0, 0.0, 0.0, 2.1008579954788487, 0.0, 0.0, 0.010813342305460383, 0.0, 0.000572435663605915, 0.0, 0.029976114738097262, 0.0, 0.1984886621224013, 0.0, 0.0, 0.0, 0.0020378513397039835, 0.0, 0.0003290635525794254, 0.0, 0.019301582523331386, 0.0026379528843042525, 0.0, 0.020881386885382873, 0.025391163602910317, 0.011206392344317095, 0.001197090832287874, 0.0, 0.01773708326198905, 0.003596361177172672, 0.006693548318597153, 0.016965107238811783, 0.39470973806541343, 0.0, 0.0, 0.0, 0.005083671184843614, 0.0, 0.3399210472217877, 0.1337782394086889, 0.011807538533936856, 0.009759724342319266, 0.0034085966199633813, 0.04178387543734167, 0.0, 0.012519110753758717, 0.01052699757627872, 0.001133266301245435, 0.0, 0.0, 0.0, 0.0013762662497972796, 0.0, 0.002280713937062101, 0.03550201567205619, 0.007138495216678983, 0.007173203266561849, 0.08903323911939136, 0.0, 0.005973492009292562, 0.0, 0.1832340807712439, 0.01590995101476017, 0.0, 0.0014177914630259642, 0.0, 0.0272659416817321, 0.0013720133694697196, 0.0, 0.027840291688691506, 0.007233811091380624, 0.011059034517780666, 0.00039641660990811985, 0.0, 0.19009486844941528, 0.01148036815004949, 0.011672625108086655, 0.0, 0.01688670675066046, 0.0022485387791725876, 0.1349043130478076, 0.0, 0.015673910931285853, 0.0, 0.0, 0.0, 0.0, 0.001901846920789844, 0.028626405268688718, 0.0, 0.023693052695353094, 0.024096298477056487, 0.019704169397654986, 0.01021348562191081, 0.0, 0.0, 0.029215513095978134, 0.0004211887629511118, 0.05777729395988608, 2.0992622995171115e-05, 0.0042270694453827255, 0.0008112843990430229, 0.002364640175203018, 0.0, 0.0, 0.0, 0.0222389657346618, 0.0012078673378789805, 0.0, 0.2910129696495904, 0.0, 0.0, 0.014231114246439244, 0.0627414620564953, 0.027929320471976615, 0.0, 0.0, 0.0, 0.010767471083078869, 0.0038829133864657626, 0.08480595718640964, 8.209967718225133e-05, 0.0, 0.0, 0.0, 0.0, 0.0, 0.004290203004847899, 0.0, 0.0, 0.0024067628928172184, 0.0, 0.055025439925136976, 0.030573805309852344, 0.0, 0.003043252406226957, 0.04351171443448961, 0.0, 0.013338018161338616, 0.0, 0.048790735296835155, 0.01195226286968572, 0.000972769478579413, 0.0, 0.0, 0.030688552776578157, 0.052784895290088445, 0.10764735416735922, 0.00010510265659651126, 0.0, 0.030532192502893074, 0.0, 0.0, 0.26104662368931586, 0.02688900720899108, 0.0, 0.006106128606978676, 0.002734810090598762, 0.002268347840920735, 0.0023924280041888045, 0.0, 0.0, 0.028680054450708672, 0.0, 0.009346378502379536, 0.04895038410762316, 0.004152768418401593, 0.04738504272831835, 0.0006715548736656547, 0.0005186809563816835, 0.009880557443283611, 0.0, 0.0031011877425322024, 0.0, 0.0, 0.004779826186141294, 0.005168524642907776, 0.019205942451319145, 0.0, 0.0, 0.0, 0.003614226649232795, 0.03888976199365735, 0.020365694668081392, 0.026157520730273807, 0.0004716004226248326, 0.03944626532500882, 0.007887052525193713, 0.0009107108912618154, 0.0, 0.0, 0.0, 0.012003287602697687, 0.008593883036367598, 0.0008346752044348173, 0.0012913446986999827, 0.0, 0.0, 0.03040161174166337, 0.0003450338197904201, 0.08110761029267179, 0.001492098932496408, 0.01652888722342349, 0.04669027517071485, 0.0, 0.009709217188494624, 0.0, 0.0, 0.0005428365120632549, 0.005874976434881266, 0.0, 0.0, 0.0, 0.0031134334305070056, 0.0019328729737969597, 0.0, 0.02410118054746819, 0.0, 0.05887209910868968, 0.0014259426852548844, 0.0, 0.0, 0.0, 0.0, 0.0, 0.0, 0.0014023187928741464, 0.029025615878742753, 0.03768455412406745, 0.006392858873651132, 0.0, 0.0, 0.0, 0.006066708051356066, 0.005520225160250251, 0.0049218012693145645, 0.0, 0.1895400722617844, 0.0, 0.005083671184843614, 0.0, 0.0018904633431303197, 0.0004289011484170121, 0.0, 0.004730389750608953, 0.0018042508967788275, 0.0, 0.0, 0.0036056658589225968, 0.0, 0.0, 0.008970472094681822, 0.0014368237761088368, 0.020186197890153076, 0.0017408599936068728, 0.0065965719830983986, 0.0, 0.0, 0.0004481094768309531, 0.0, 0.00010159568154848543, 0.0031409539905099997, 0.0777265004600233, 7.186842918469646e-05, 0.025876455829101804, 0.0, 0.0, 0.011144997551682898, 0.0, 0.024037050013499775, 0.0004520602786459403, 0.003309257367174461, 0.009804898924465158, 0.0, 0.00687595847892025, 0.0, 0.009012327844124436, 0.0, 0.0, 0.0, 0.0, 0.021943492603823108, 0.0, 0.0034126436357887475, 0.003616037778476709, 0.0, 0.015283943349206724, 0.0, 0.0, 0.0, 0.0, 0.0, 0.0008853977105288449, 0.009841596158443497, 0.0, 0.0018724032561679334, 0.0071740203970898095, 0.00017362342305120006, 0.002625819485101197, 0.08103866905604824, 0.0, 0.008457561960428421, 0.0, 0.0, 0.0, 0.0020300260345928562, 0.0, 0.0, 0.0026056855987884988, 0.031947654180237206, 0.07098982629816011, 0.017353625351864, 0.0, 0.0, 0.0, 0.0, 0.005926670845911341, 0.0, 0.0, 0.0, 0.0018808488554220909, 0.0, 0.0, 0.025493631851883528, 0.0005020700739659995, 0.024821148210729477, 0.0, 0.048537343435551016, 0.0008549894623808603, 0.0, 0.0023821478155626073, 0.0031527591417025735, 0.0, 0.0, 0.007927908270088347, 0.032140726806956586, 0.004856285296327108, 0.0, 0.0, 0.00045421937361980676, 0.05011705680829964, 0.1356273413099421, 0.007408718728968489, 0.0, 0.0, 0.0056600866003624324, 0.0, 0.006465032425023729, 0.01192111687477595, 0.0012517105155110636, 0.0, 0.0005643376600613534, 0.0, 0.0011733338923441451, 0.0, 0.006972585309639711, 0.0, 0.005255942328158931, 0.0, 0.004471151636416128, 0.0, 0.0, 0.02120132840823502, 0.04609558033370019, 0.0, 0.0, 0.0033523245442213852, 0.003439932640075129, 0.0, 0.0024587329079284134, 0.0, 0.008616053162784054, 0.0, 0.02779380729707997, 0.04533958028259445, 0.0021411699811364655, 0.0, 0.0, 0.03148657800610099, 0.0, 0.005174945377244577, 0.0, 0.0007290202017091953, 0.0006323630295696371, 0.006852746374505272, 0.0, 0.0, 0.001086586657139101, 0.010079124975879268, 0.0, 0.0, 0.01715315238191578, 0.030494829902610033, 0.0024680201608573288, 0.0, 0.026917564525680105, 0.010274137453460964, 0.14895208810305868, 0.013993539881049776, 0.0018683442475825466, 0.0012891211285548621, 0.004043377363493058, 0.04593893682473401, 0.0, 0.0016882650465319027, 0.0, 0.0, 0.0, 0.014396394055223914, 0.024230083724948243, 0.0065618186856659395, 0.025941245522726065, 0.0, 0.0026482896768041573, 0.03983888340350958, 0.0, 0.0, 0.03575038172585184, 0.03108494471274296, 0.023594437404829013, 0.0027846425970583007, 0.0, 0.0, 0.0, 0.06786747807738494, 0.04158566044942045, 0.0, 0.005204572141094767, 0.0, 0.05012476019495514, 0.06243961667969215, 0.0, 0.005615264116934177, 0.007125549042286557, 0.0, 0.007481130843833793, 0.023107773318537864, 0.0, 0.007762125232191361, 0.0, 0.06696084857010315, 0.0, 0.0, 0.012543744914969315, 0.0, 0.0, 0.01058999080695402, 0.05686912203928738, 0.0, 0.0, 0.0017762368008797543, 0.09387192709959766, 0.0004720583275304314, 0.013150467852837362, 0.03244992096421091, 0.00676672523551961, 0.0197845484281163, 0.004019629265063945, 0.0, 0.006795484834486667, 0.0020202852081361404, 0.0, 0.013025688113248678, 0.004779989029938872, 0.0, 0.0, 0.011912403791198017, 0.0, 0.0, 0.00012305196877719754, 0.0, 0.0, 0.008924551888853221, 0.0, 0.0, 0.08973978342426234, 0.002827311433838869, 0.012802850121581317, 0.0016523706625074328, 0.0013245392243391965, 0.0044274101148147876, 0.005376556295886872, 0.0, 0.0, 0.0, 0.07012684139522017, 0.04709937716580054, 0.008180698836430706, 0.13490353528136934, 0.05659979368186483, 0.0, 0.0, 0.0019118167033183274, 0.0, 0.0003372760324695051, 0.0, 0.14279586815077913, 0.0, 0.008591178455218854, 0.0, 0.011975226112503666, 0.0006885722335243014, 0.0, 0.0, 0.0002561679464470732, 0.005706220372777974, 0.0, 0.0018345811441373204, 0.0, 0.0, 0.0, 0.00033781476062815375, 0.004343578762614652, 0.04591531414442334, 0.0017680237969542288, 0.0, 0.0047135826912975114, 0.10155148152157056, 0.033257537459007176, 0.0017305120132137485, 0.04919255292199176, 0.0, 0.0, 0.10804864470922881, 0.0, 0.10117359581377958, 0.0013349480711732028, 0.0024435353672891975, 0.0, 0.0, 0.0, 0.0002776888409678025, 0.003363303326329252, 0.039294434042575425, 0.017796791580846235, 0.0, 0.028554608857901193, 0.024486048412461863, 0.0, 0.0017163798092350892, 0.013752507243647754, 0.0032898656318655017, 0.0, 0.0, 0.0, 0.0004998595865564902, 0.0, 0.0, 0.011206554717656097, 0.0, 0.0, 0.0, 0.0, 0.0, 0.026418402112687943, 0.001773227941965723, 0.004515704070152011, 0.0, 0.0, 0.015159649296515731, 0.0722146445138891, 0.0, 0.0, 0.0, 0.0, 0.0, 0.00213447314463123, 0.016261849574563874, 0.017216096486384096, 0.0009190729583241295, 0.0, 0.0, 0.0, 0.00016643873603922545, 0.0, 0.00999942265409312, 0.010689509660835778, 0.0, 0.0013842522394193974, 0.0, 0.0029607874616056546, 0.0, 0.005664682739727524, 0.00018138103006075403, 0.0, 0.0, 0.005909573183408208, 0.015616679834089422, 0.009504260501924936, 0.0, 0.04017255666728101, 0.0, 0.0021952391263899895, 0.019770483876381393, 0.030677765787735452, 0.0038943173643066994, 0.036854673859854095, 0.0, 0.0, 0.022025215815369627, 0.0, 0.0, 0.03616765678666088, 0.0, 0.0017926064451440663, 0.017436260950384086, 0.002907821082550894, 0.0, 0.009519480874500628, 0.0, 0.0, 0.0, 0.0, 0.017006971678906413, 0.032827925940173606, 0.023044233733057536, 0.0, 0.0009582406708894676, 0.06298893675153815, 0.0008593752413561751, 0.04378189020510929, 0.0, 0.05050812732973683, 0.0351550122316281, 0.03904173004814997, 0.0, 0.0, 0.0, 0.10357221334451498, 0.0004057714968983082, 0.0, 0.0015615601130908223, 0.035447201177491804, 0.0014595282493146476, 0.0, 0.0066412376172753935, 0.016360560189857935, 0.007533155834870066, 0.03224054940017727, 0.0, 0.0, 0.0, 0.0025241962093357586, 0.0004455283851746926, 0.0, 0.0, 0.0, 0.007330931020371214, 0.04129087159952585, 0.0, 0.012336900929405217, 0.028634009379866272, 0.0, 0.0, 0.012151813404371494, 0.0025177909335390245, 0.0, 0.003907278084316828, 0.013087228479035777, 0.04676527535049565, 0.0, 1.7346979846829857e-06, 0.0014677278043897476, 0.0021430608193521708, 0.0008876771754320092, 0.0, 0.03311521397156276, 0.0174024483965898, 0.0, 0.0, 0.010047983050924353, 0.0016817403966059715, 0.003689368718693984, 0.0, 0.0, 0.0, 0.0, 0.013898005917932698, 0.00019232833709636847, 0.09000635942447796, 0.0, 0.0, 0.010436403020045174, 0.020438454242776533, 0.00011803795039444081, 0.002334190079136326, 0.015910859302832422, 0.017036463547449286, 0.0, 0.006722529495255271, 6.554347702912915e-05, 0.0, 0.0010808916868649014, 0.0, 0.015367536669696242, 0.014407648426817458, 0.0016491113443652082, 0.003471185390723892, 0.0, 0.0, 0.001689443602633908, 0.0, 0.0, 0.02882466809703733, 0.013821642968375984, 0.011735393764572468, 0.0, 0.0, 0.0035946841864011106, 0.0, 0.0, 0.0687232527244148, 0.0, 0.0966585328928083, 8.453480458501962e-05, 0.0016271690741685094, 0.008275570793663707, 0.0, 0.00043053863640309516, 0.0, 0.0, 0.0, 0.0, 0.02434281431411516, 0.004898684196426417, 0.012165800405870175, 0.0, 0.0009695511105178166, 0.08039925231872985, 0.0, 0.0, 0.027644091488103387, 0.12127364341080424, 0.0, 0.0, 0.0, 0.01223719131216155, 0.03351213437893073, 0.03014843706415279, 0.021860180123951103, 0.0, 0.008751708981300465, 0.05007538354445482, 0.0, 0.015936634276665116, 0.03672795436744124, 0.017214594801902468, 0.0, 0.07106874676269859, 0.004664556303074887, 0.01903318046566513, 0.07472249082996488, 0.0, 0.0020431993908519414, 0.043671601000161674, 0.02487113939454549, 0.0, 0.0, 0.0, 0.009106114856800062, 0.0, 0.0258282027556588, 0.1313060004300955, 0.0, 0.0, 0.0, 0.0, 0.0, 0.00899148295667726, 0.04179845515647389, 0.0005664895235189134, 0.0, 0.025020761558219303, 0.0, 0.0, 0.0, 0.010097325232066249, 0.0, 0.010812180073426438, 0.0, 0.0033717836452349303, 0.015273260982571358, 0.0005091858312072715, 1.4073916630715038, 0.0, 0.010004615560237138, 0.0, 0.0006437065397352729, 0.0, 0.0, 0.0, 0.0, 0.04506576309564387, 0.03234265590089712, 0.0, 0.0, 0.0006981505097230576, 0.0, 0.0, 0.0, 0.0425897462105218, 0.0, 0.0009665167922389568, 0.02595464457073873, 0.002701273398769151, 0.006470645311114472, 0.025376566009761937, 0.0, 0.0, 0.04507259902349656, 0.0, 0.0, 0.02462290812207389, 0.0, 0.012317880702020386, 0.0, 0.0, 0.008741099946186342, 0.001592185393549089, 0.0, 0.007873554905780181, 0.0, 0.0, 0.0, 0.0012489806691417284, 0.0, 0.0017612459700896855, 0.01109574633584656, 0.025864426293440348, 0.0, 0.0, 0.0, 0.0, 0.02212869852192677, 0.0, 0.017082142495416782, 0.0, 0.010758116870069903, 0.021639601438197004, 0.0138310199303984, 0.01590430369327718, 0.012605426340693497, 0.0, 0.00327826632213962, 0.02977355782959005, 0.0, 0.08664866735383182, 0.0, 0.0052937754400030875, 0.0, 0.0, 0.0, 0.0, 0.0, 0.0, 0.002013719176704174, 0.0, 0.0036827182569135527, 0.014615687387148073, 0.06611464524689023, 0.0014817390731424187, 0.03316267041903266, 0.0, 0.0171886449229717, 0.01246489403679117, 0.0, 0.0002294014400463172, 0.0, 0.01791495510212694, 0.0077028089069636025, 0.0, 0.016385621396432758, 0.06515756833832896, 0.0, 0.0, 0.00982543665247022, 0.012909462213580958, 0.0, 0.007060277932267873, 0.007441969276775082, 0.0, 0.01322989584702049, 0.0, 0.0, 0.018440090858167574, 0.0, 0.0019070330638296285, 4.428056409416147, 0.025006037022831416, 0.0033555635407648684, 0.0, 0.0, 0.009814379805116836, 0.0, 0.042363034330945, 0.0009226249724848045, 0.0, 17.525637050836306, 0.0, 0.0, 0.0, 0.0003891485819017815, 0.0, 0.10017734152409519, 0.026610696288022696, 0.0, 0.0, 0.00555248808585256, 0.0, 0.0, 1.1315290748860793, 0.0006982217403461484, 0.0, 0.01529201217682916, 0.0, 0.027642512080879512, 0.0, 0.0, 0.0005616505946889493, 0.0, 0.007810077721077681, 0.6546413858201953, 0.0, 0.0, 0.006664273375961945, 0.00546472093812761, 0.000323094882552097, 0.003015205402544287, 0.046628524170742015, 0.00492957624353762, 0.0016216139925012637, 0.00322728598794511, 0.008528695373664331, 0.0, 0.0, 0.08204663778491372, 0.002842671425659781, 0.004676779848889689, 0.0, 0.0024918154502180326, 0.0, 0.0, 0.003412629452146362, 0.7760273781291411, 0.0, 0.004734194491025137, 0.015543195359778016, 0.0, 0.0, 0.0, 0.016130391059333015, 0.00010847273912036642, 0.02058704629180329, 0.0, 0.0, 0.004197623095897676, 0.0, 0.014250891352327542, 0.0, 0.0, 0.004096492773304717, 0.0021676767937256884, 0.006206768911334653, 0.6804279295863007, 0.023875373342352166, 0.01566417100586541, 0.0, 0.0, 0.030739228401455883, 0.0, 0.011332914388314845, 0.0, 0.0, 0.0646586646422616, 0.0226744117382567, 0.0053384600995670575, 0.0, 0.019049543141451176, 0.023916863784399355, 0.0001385411622914855, 0.0021704472864556173, 0.0012804630801924086, 0.0, 0.01735978247999417, 0.0, 0.06444601828499918, 0.009149983098177007, 0.00022105636375322222, 0.0014602012690645336, 0.0, 0.05517164873064098, 0.0, 0.004663972589452731, 0.0, 0.029532325070352458, 0.0, 0.0, 0.0, 0.0, 0.021650302129853104, 0.004681370796676429, 0.02109834301408176, 0.0, 0.0, 0.0, 0.011278293991579948, 0.009579075071385541, 0.008485759080341384, 0.005663486435105617, 0.0, 0.07845115575686631, 0.0, 0.02435761656814597, 0.011163334712740215, 0.022077380464676024, 0.0, 0.0, 0.0, 0.0, 0.0, 0.0, 0.002362153865525723, 0.29466154455210736, 0.004207461690344223, 0.005331096309468386, 0.06428071929392229, 0.0, 0.0, 0.0, 0.005998680536413599, 0.0, 0.0, 0.0, 0.007361683496528617, 0.0016933082196596816, 0.0046670155639448, 0.0, 0.006434356467382985, 0.0, 0.02016895713323215, 0.03732898161356507, 0.024643796590977454, 0.011531513599697684, 0.0016402433810876443, 0.0, 0.0, 0.008427702124985831, 0.0, 0.009727890882379079, 0.0, 0.0, 0.15616865354238568, 0.0, 0.0, 0.0, 0.026251746259893963, 0.03958389333950652, 0.01002845966689521, 0.027272487479169737, 0.0054554391854857815, 0.0, 0.0, 0.06280049869663544, 0.013765706050770512, 0.0, 0.004570935129818318, 0.01787315875169036, 0.0014112469036140476, 0.8522428902104756, 0.04410722925016411, 0.0, 0.006871803928076498, 0.00014391909858890224, 0.0, 0.0018723763900596456, 0.008559305494610783, 0.06970079836732404, 0.01043159746018262, 0.0, 0.0, 0.0, 0.00011540760528471539, 0.003436469171695712, 0.0, 0.003679587076348185, 0.0015989499029332283, 0.004831731378126646, 0.0, 0.0009735721041865727, 0.0, 0.0, 0.0, 0.0, 0.0, 0.06359869714311149, 0.02947480827293923, 0.0, 0.002488430415306433, 0.0, 0.0, 0.08909993524032145, 0.00041573991705841563, 0.05469402905486774, 0.1667887903250386, 0.0, 0.0, 0.0, 0.0, 0.0, 0.025599857191618464, 0.0, 0.0, 0.0, 0.03569058802713222, 0.0, 0.0, 9.831735386025855e-05, 0.0, 0.0016331905308664268, 0.0001096374143670245, 0.0, 0.022806314772007615, 0.0022101798289116633, 0.0029908486924553833, 0.008489924514564871, 0.007723288287529511, 0.0, 0.00382243596992447, 0.0009909517993794447, 0.0, 0.0, 0.017137687752441972, 0.0, 0.021427602989318662, 0.0, 0.01087504381743902, 0.003665859066988666, 0.020896619607230785, 0.0, 0.0, 0.0, 0.0160879462978328, 0.016436217147831906, 0.0, 0.0020317810541416867, 0.0, 0.0, 0.004033626766330269, 0.0, 0.0, 0.0, 0.0041708423999491685, 0.0, 0.005052632318596264, 0.0, 0.0, 0.0028245411706776637, 0.0, 0.0, 0.007854954889544739, 0.0020010901535840505, 0.022924231270400296, 0.0, 0.00015126584064853097, 0.0, 0.0, 0.0, 0.0020193517860648967, 0.0, 0.014865929666689134, 0.0007727784435738293, 0.0, 0.012059868291611294, 0.0, 0.0, 0.008963742757772767, 0.0, 0.005567112928998824, 0.0, 0.0, 0.0, 0.030410625620308183, 0.025301555298707805, 0.0, 0.02354223556637604, 0.0, 0.002603179101556328, 0.002448351720664371, 0.04935753531728135, 0.0, 0.0015933380310704766, 0.0, 0.09490947939693622, 0.020062625926074436, 0.0, 0.030112369115622855, 0.0, 0.0], \"z\": [0.0, 0.0037712951901823517, 0.00026614774978515047, 0.014306987994301147, 0.0074061984622078225, 0.007274782713658789, 0.06515013747988474, 0.006297589990628823, 0.0508428514164714, 0.0, 0.006135430059194383, 0.013043219684135045, 0.0, 0.00016342831786027228, 0.01247593391748704, 0.0010092440502076044, 0.05940936571737065, 0.04609546657360532, 0.0, 0.02024577103179864, 0.004918099077349467, 0.006012804592748854, 0.001737613595745554, 0.026753837035308203, 0.06693323037873593, 0.0, 0.0, 0.005262535445751452, 0.0, 0.00273612506140102, 0.0, 0.0, 0.0, 0.1352238768196942, 0.0, 0.07403330141905994, 0.002231646691709362, 0.002899972437254085, 0.0, 0.019238736660286995, 0.0, 0.07752489967062408, 0.015391001059177198, 0.00029422620176485317, 0.0, 0.000913494710265301, 0.0, 0.0, 0.0, 0.0, 0.019909397994919264, 0.008793805793930149, 0.0, 0.0, 0.0, 0.02753656553205998, 0.007864645158756919, 0.0012196067886752233, 0.01598711593658856, 0.007349112510222305, 0.10816109571419653, 2.5040568194051777e-05, 0.015764722578635208, 0.004107263808182924, 0.08175075159237008, 0.04922502889259093, 0.09354624908161108, 0.0, 0.0036552643862512047, 0.0, 0.0, 0.012463074725262549, 0.018858852727611456, 0.002223877163847403, 0.051669758185078095, 0.012192395913246789, 0.0, 0.002780503767371546, 0.01232586438312151, 0.0013914575949659385, 0.0, 0.00043353672708095273, 0.04776030167292798, 0.0, 0.04298209049418358, 0.08149456155415225, 0.0015669951392025382, 0.06306736200330963, 0.002115243377381834, 0.0, 0.0, 0.0, 0.0008267734819760616, 0.038198032784919296, 0.0, 0.011614169200086651, 0.0, 0.0027216576235446536, 0.051713372354894746, 0.009330877744682328, 0.023408087783755867, 0.0, 0.006723126217304619, 0.012720262919214593, 0.0, 0.10414848115162448, 0.09585310353726975, 0.011018773455963951, 1.056642540785582e-05, 0.021005753872579636, 0.0019897871175848427, 0.001260890802440936, 0.0076936749303673875, 0.0024883104176841105, 0.012874679959878907, 0.13760835173651945, 0.005621106280249334, 0.0, 0.00421953077340652, 0.059456589727294486, 0.012412529734764732, 0.011305389538995337, 0.009142497948116576, 0.02632671956215268, 0.1473617654950248, 0.0007470964248060821, 0.4728977462258522, 0.0030473704232131292, 0.002812532196819268, 0.02081837116457485, 0.019212645747955736, 3.5152875600085336, 0.0003955394197819524, 0.0, 0.011382822778729079, 0.0, 0.006049697402436382, 0.0, 0.13372402126836336, 0.21668443673992366, 0.027379984649427532, 0.009241175866134611, 0.011108994564180947, 0.09136946660328452, 3.610854066835515, 0.004327820228716094, 0.0017147456574195677, 0.0, 0.028720304900696898, 0.006756153763679858, 0.0013792777818253006, 0.0, 0.0029309678526442495, 0.008481395722841548, 0.0830713514699849, 0.004149602355970212, 0.012516461112426061, 0.0031698904271915225, 0.0076483827674164485, 0.004471579660930399, 0.3993925900729273, 0.012304471500308603, 1.930698115869377, 0.005139238903540059, 0.02248474610195377, 0.028064155472273814, 0.013288729362579082, 0.0, 0.0013065673277091767, 0.011096670998817351, 0.0, 0.0, 0.09843516965919157, 0.010881220789146948, 0.0026776441845877677, 0.0, 0.0034335566742106733, 0.0016514735518636285, 0.008175791054321764, 0.006488654799321554, 0.0008847354741097493, 0.0, 0.006296286865007643, 0.18665251089460513, 0.17373924324130097, 0.0, 0.002252079153517892, 0.017259343766349088, 0.001022068352152849, 0.012546191001135581, 0.0, 0.0, 0.0, 0.004758710068756918, 0.008936966282537774, 0.0, 0.0, 0.008198284104329549, 0.0003381939108706814, 0.0030469869400529294, 0.0, 0.0, 0.014930508204722892, 0.0, 0.0, 0.008806928468154113, 0.0, 0.007191014612995575, 0.004663410755582319, 0.010849076932827021, 0.00816832490223991, 0.09914191181158655, 0.0009367880681279805, 0.001304998825222392, 0.0062685741831759925, 0.005345214062602336, 0.00013307651595988662, 0.37991652477911386, 0.0009256753252892262, 0.004121344777979665, 0.003996295773782189, 0.003809687574073733, 0.04347384270476234, 0.07441252292701249, 0.07329977886063352, 0.0075002905486774825, 0.0018914559113622977, 0.0031397806278219437, 0.00010748350286651735, 0.00843199332069957, 0.00019539407874850668, 0.010085180131716333, 0.009995418939008627, 0.0, 0.00011662666157365751, 0.006350645541427814, 0.05062339047935963, 0.086901543793691, 0.0007951986998366367, 0.0, 0.009692248630884566, 0.00042000728465203607, 0.010449191604908988, 0.008117670557110919, 0.002420531885308302, 0.0, 0.008211602528409986, 0.006177532643834559, 0.015167066882144769, 0.018796758504575472, 0.01653198809057235, 0.015610500483585046, 0.02521449350342445, 0.0003062914794021907, 0.01729581704093828, 0.008620036327853, 0.015886939841195012, 0.003603067905304212, 0.01360444290666839, 0.0, 0.027621390310152306, 0.0011058106783847408, 0.29353057876433664, 0.0, 0.009415352161339973, 0.013410419313057313, 0.0, 0.0003660630158866349, 0.0008361186717948304, 0.005414084776713429, 0.01097812491602333, 0.0053212851120933305, 0.0, 0.004075332437349268, 0.09589058222469896, 0.01248035636726196, 0.002414500736577412, 0.0054909180018237955, 0.001148143633783339, 0.0, 0.04895513627666735, 0.0019233719458720858, 0.003966436294048936, 0.00887970952183988, 0.0006599924455045178, 0.42111428730769285, 0.0, 0.0, 0.012273425990315084, 0.014272617392339634, 0.0, 0.0, 0.0, 0.03599058351283241, 4.963070612076271e-05, 0.055619282615657836, 0.0038219128647637352, 0.0, 0.02307898741645966, 0.04098212848093128, 0.003947963163808767, 0.0039682321339176, 0.0007706346312433373, 0.007078983473815431, 0.006077993177598205, 0.0, 0.0, 0.0042741439698358585, 0.0, 0.08686641297679777, 0.009656117452221214, 0.0, 0.0, 0.012176935388944567, 0.0017849419675956665, 0.002839940570062169, 0.0, 0.4347565863782141, 0.0, 0.010429020496683128, 0.019734242275661208, 0.018652879161996743, 0.005224415127411405, 0.0, 0.0, 0.002395943982840234, 0.013816939080071273, 0.00503044215397443, 0.0, 0.048467778452704405, 0.0025207020292341504, 0.001501110004991834, 0.002420869265088335, 0.0004768031664571019, 0.0, 0.0032973366894303423, 0.0011425183891474603, 0.004331276524940797, 0.005334513992446288, 0.017168745355685487, 0.0, 0.0, 0.00727809505644454, 0.015204143604905329, 0.0, 0.006882678845243126, 0.0, 0.0, 0.0, 0.02020756043648665, 0.0, 0.0, 0.0010836084065728965, 0.050237550194811104, 0.0755655470470651, 0.004002470284679898, 0.0, 0.01907326147174948, 0.0017032703551805742, 0.0023207281537685246, 0.0, 0.004124953291113363, 0.009258522647376916, 0.0, 0.003090457352524386, 0.003172007397125272, 0.014749868917759076, 0.007749294643791, 0.0023699653656844098, 0.0, 0.011412915870299316, 0.0007255552928753996, 0.0, 0.0031187201710370913, 0.03212893356575609, 0.0027524263150297567, 0.056775891530175614, 0.001289507549886407, 0.0, 0.00571330093276341, 0.004531360345831798, 0.0031169294410621226, 0.012527145551131966, 0.0014706800929053657, 0.0, 0.0, 0.008340343388917091, 0.0312562216672682, 0.03931007463161339, 0.6159395620758125, 0.008292071571934049, 0.0, 0.0, 0.020019791429799556, 0.0, 0.0, 0.01250135759635382, 0.009946959151349258, 0.009245797944183601, 0.0016301817904856547, 0.0, 0.03526232899377294, 0.05584067084201763, 0.002334796288234279, 0.0, 0.07407052081240775, 0.010353320079173688, 0.015735790011768978, 0.09649781441750539, 0.0, 3.723427963376112e-05, 0.003441870731990089, 0.010741236591162547, 0.046092332826001295, 0.018271954546332132, 0.006878029785614631, 0.12143827171276847, 0.004187908916968462, 0.015884821896956017, 0.0054617413764694875, 0.0, 0.08799221117766125, 0.004131697316252176, 0.0, 0.00683239038499154, 0.14680444566375603, 0.024986127656407883, 0.0, 0.01364443800847693, 0.003088767905320494, 0.007470333842544003, 0.0, 0.0038164271791163874, 0.0017835210471117086, 0.01901390353088844, 0.0, 0.012155487934496252, 0.0004871637597850346, 0.09272102339652999, 0.0, 0.0, 0.08272246978078843, 0.01518512681877444, 0.0, 0.2183143904324046, 0.00045675945354498157, 0.004710056343340739, 0.004097967015925355, 9.200360043947502e-05, 0.02845710779838427, 0.06077359075446596, 0.006089860742274659, 0.0, 0.004166545988005148, 0.19143313024934983, 0.010298618520673763, 0.006398386487434521, 0.003096765492224324, 0.005532804652718686, 0.04626755768483029, 0.0, 0.020291552219450285, 0.000607554844430931, 0.10855488685173807, 0.0031172515450808972, 7.465937090969081e-05, 3.07709740322592e-05, 0.043831125032418664, 0.0, 0.008137373271912066, 0.010335617140996955, 0.011333459449124873, 0.02112308896381978, 0.0, 0.0610930228599131, 0.0, 0.008756928757295064, 0.0015318390583764024, 0.000665432903804899, 0.5013429718606222, 0.0, 0.6728721828175654, 0.0032547095458902876, 0.007129592779187875, 0.0, 0.31436771801183405, 0.0025329360397901837, 0.33224990122047865, 0.006573484689301125, 0.16050968705801205, 0.0042399169166773085, 0.00044092146757066143, 0.009790566331028453, 0.0013982099112212103, 0.0, 0.0, 0.003982920247747636, 0.030051525540893513, 0.03927479398516896, 0.0, 0.03918271989540438, 0.0, 0.016365125375833737, 0.12103176554013732, 0.4126193234136332, 0.00682388667914357, 0.0002292966675798786, 0.03262788928711015, 0.0, 0.01762683227105037, 0.0007243110664052125, 0.008394152246121347, 0.011014329520231429, 0.12193056382156225, 0.04923913739748885, 0.0, 0.006699917758221485, 0.0, 1.8292837340245092, 0.0, 0.0, 0.008012112634385535, 0.0, 0.0008090726025475651, 0.0058825459775262694, 0.0, 0.16320484246829703, 0.004071538666458894, 0.11304269085994774, 0.0, 0.0007667781168363468, 0.11923401122823292, 0.06581598288662154, 0.013704162075261404, 0.07952797850184298, 0.43971299795807767, 0.0, 0.009597377178832698, 0.0004324086051465886, 0.005310615536144727, 0.012765260787104894, 0.002758800674664694, 0.0, 0.015291121054603505, 0.0, 0.01659521370349144, 0.010632119086115544, 0.011837914944810313, 0.0006231847178460172, 0.0016023032730418418, 0.0, 0.0, 0.008088119459288123, 3.5327771081698347, 0.0, 0.1398548384505621, 0.03161939563163034, 0.014568651536451224, 0.0, 0.006135423084292064, 0.01351834739029131, 0.022744096181185353, 0.008400898240551041, 0.004015772211585637, 0.0, 0.09600051185286254, 0.1373614065213233, 0.0, 0.10250794999358687, 0.32996056839899757, 0.00042073335120798745, 0.15581998691820595, 0.0, 0.6285979272270128, 0.0068515627281841105, 0.007802498753885163, 0.0031856860023267855, 0.0, 0.0, 0.01608984859750195, 0.006483466885628469, 0.0, 0.006537096553101943, 0.003363196704796706, 0.0005660371124846181, 0.04703541390245835, 0.0037444705916748096, 0.0019215074353481126, 0.01339436901796392, 0.0159597775130263, 0.000625268527440152, 0.0011337917812181027, 0.005243926485381695, 0.012981646799202563, 0.007370521415015953, 0.0021803509954760715, 0.001005277060743637, 0.005211448825826148, 0.1759920181422575, 0.0014776485141572066, 0.0, 0.00045482097755262455, 0.002738792371859068, 0.027418897840744198, 0.0, 0.0, 0.007570903450741472, 0.01059833185942445, 0.010548107841773525, 0.0, 0.008249143719112121, 0.004252679300171926, 0.0, 0.0, 0.1770120625626802, 0.0013393931925656422, 0.0071867527470585125, 0.0, 0.0180282670532898, 0.0, 0.0004043098154198013, 0.04492417457751932, 0.0, 0.0, 0.0, 0.1637419207242992, 0.0, 0.01568553507513983, 0.016734045776202792, 0.0, 0.004902569591942936, 0.0, 0.0029497487321964487, 0.0010226503791156707, 0.006606956262158508, 0.00492734983261693, 0.0003361243549068792, 0.008800050896567874, 0.25974466099072446, 0.0, 0.25724105741003994, 0.997077538717643, 0.00025337590959961017, 0.003108447771478877, 0.0, 0.0030197356682337825, 0.0, 0.004415644783446482, 0.0, 0.004504727828195952, 0.00026976937510541087, 0.0, 0.008044618175026027, 0.0, 0.00496377199773336, 0.0007689775768847328, 0.001399650370882812, 0.0903426665208331, 0.02299867989794414, 0.013354453464028207, 0.0025115862068074346, 0.0014267330131267281, 0.007425956079855242, 0.0008328626974452571, 0.0015507207999694717, 0.0, 0.00714818318564435, 0.1608887652540761, 0.01778340338494426, 0.0, 0.17520881025290777, 0.0893468355529312, 0.010434565789032168, 0.003434243505817678, 0.024968525843738723, 0.018563540048306747, 0.001762166803306392, 0.04343824307044619, 0.003426168156649357, 0.00021073863017491589, 0.0, 0.02277260400715506, 0.00015044050808081245, 0.011182150042138612, 0.0034994944472875994, 0.09181826933258022, 0.0007079155884392524, 0.0, 0.0, 0.00046736585074125324, 0.013051636923728318, 0.017850501832720023, 0.0, 0.004049190151029352, 2.4283836871860775e-05, 0.0, 0.13146636069066045, 0.0, 0.07190262959117409, 0.0, 0.004810601459370189, 0.03524473850225285, 0.057008848187903374, 0.0012428713423689357, 0.0, 0.009960043561067819, 0.008832388255073124, 0.05462319407889743, 0.5987196345528151, 0.015579222660259311, 8.687490592352493e-05, 0.0005600194565220776, 0.0052136721337522575, 0.0031780871100689496, 0.003957552872415272, 2.0126224300035912e-05, 0.0008233799768207225, 0.0016548699596164876, 0.0, 0.024125414210411283, 0.0, 0.0007785385203904954, 0.007801666086644464, 0.0, 0.0009601630331770206, 0.02264515640529874, 0.0, 0.021652222430374006, 0.0, 0.586296281726995, 0.0036986127199887873, 0.005331058354843686, 0.0, 0.007626230115801807, 0.001885237844474626, 0.0, 0.002020001219230896, 0.004462994342976816, 0.00023616172954116804, 0.0, 0.0, 0.018738394374980434, 0.011445658287759577, 0.002587935309396618, 0.007690579792714885, 0.02014348468740236, 0.03713514512760791, 0.0025189177647463737, 0.004729409700552339, 0.005873964274978402, 0.006598721821050573, 0.038347899784786865, 0.0, 0.04357574188342523, 0.0066308210117222155, 0.04990412170477848, 0.0016808191865841048, 0.26773962773083515, 0.007609619813123713, 0.007398068331717217, 0.005668587034121614, 0.0071170201011661535, 0.05977456876575532, 0.0, 0.028947341818134485, 4.240342636177925e-05, 0.0, 0.0, 0.0, 0.607492411601271, 0.0055404069533273315, 0.03563332338861684, 0.0, 0.0038126248511989335, 0.5887448271329567, 0.002425786637303873, 0.0, 0.0030041779831580548, 0.006895863308809989, 0.07600609746463634, 0.005342477328484862, 0.013737086244414744, 0.002471706440665076, 0.0, 0.03159080235846829, 0.014386730333340014, 0.013848448577877391, 0.0, 0.003284535073357316, 0.05943002003967617, 0.0, 0.0018264080748002594, 0.04432177230772908, 0.019262671953286174, 1.808028215359199e-05, 0.10537056306885012, 0.04029092955825574, 0.016001377030944522, 0.07704407049770182, 0.1045496323115268, 0.0, 0.0, 0.056211730460129304, 0.004297221370829423, 0.07723098038422233, 0.015181948032156426, 0.008937977329589931, 0.09546279740046021, 0.0, 0.0015344973260541447, 6.2075792461119676e-06, 0.002506571805257998, 0.00904959461363731, 0.04378137106277739, 0.06951926360532612, 0.03287446636153666, 0.0634716272559559, 0.0009849753042342289, 0.004620847337220585, 0.018627783449568454, 0.054028120226190635, 0.0, 0.02503883173932449, 0.005375788052839408, 0.01928328953262355, 0.0, 0.009206159243889823, 0.0014850407480478083, 0.049247544526011655, 0.025524362076639582, 9.305844980375664e-05, 0.021114388900054164, 0.1622264727514685, 0.006775188431972841, 0.025180437014764905, 0.0016581788417018106, 0.12395308266324968, 0.04414669107140697, 0.00659904241980735, 2.3398334129493783, 0.22441012665426432, 0.008037193571793529, 0.08902656338242701, 0.0, 0.01862332136894799, 6.515209675440706e-05, 0.0023832959845339957, 0.0055344445653599545, 0.0599456533210799, 0.024568926897084543, 0.006430274023238382, 0.0, 0.00761784881445074, 0.008427045411333874, 0.002396878480935142, 0.04376611088904652, 0.0004747262046786397, 0.0, 0.009455915149616573, 0.03861377470588768, 0.00353210831162918, 0.006066426106920742, 0.0025785184680058282, 0.0030173735935142706, 0.0, 0.005322895405352788, 0.0, 0.0, 0.10237750632431668, 0.142695578551236, 0.05843109617253694, 7.465771283229905e-05, 0.010131049090677899, 0.3749736614819534, 0.0, 0.05694125688686703, 0.0018410379900686362, 0.0, 0.005816975467084976, 0.03429006057236236, 0.0, 2.719301919548709e-05, 0.01976661962960932, 0.0013133427317245394, 0.0, 0.0, 0.006293891446570114, 0.026512033311623738, 0.03104834391055403, 0.00486644574216952, 0.0, 0.004047868254008379, 0.0, 1.9700562899244898, 0.0065314826190130005, 0.0569737122630735, 0.0, 0.0021380754737932496, 0.09797568383587459, 0.006171518547163452, 0.14717183496998634, 0.006261740775851435, 0.0, 0.003180888068053015, 0.0, 0.056948961841322046, 0.04182490290258119, 0.002795932516767513, 0.0011844981188397013, 0.006170394289547029, 0.00028990876980540005, 0.01572882821349985, 0.0, 0.0, 0.014278122614888438, 0.0, 1.5360526101818344, 0.0, 0.0, 0.0012946036382298712, 0.010897627057383915, 2.4468598256723808e-08, 0.0210413786794553, 0.0, 0.0216487279862531, 0.0, 0.01952504667043823, 0.0, 0.0, 0.010216708035583071, 0.0, 0.0, 0.0, 0.0005297551882205841, 0.003199358718229479, 0.0008617210390790889, 0.011869353116237736, 0.003456285527120142, 0.0024141498976773643, 0.00445955767326726, 0.010963910445806862, 0.040912263869892246, 0.0, 0.008331992792542632, 0.005652741201506886, 0.7359062880534634, 0.0, 0.008060098982415678, 0.0016347040940157917, 0.07043907767390971, 0.08152217520657977, 0.0, 0.016448466546993928, 0.05576336050272372, 0.003802554649569065, 0.014340789301182254, 0.004714130005445878, 0.005288937222889679, 0.007457615114375046, 0.0005848229369869862, 0.0, 0.0, 0.0019387971929587793, 0.003820284861170506, 0.0, 0.002046337758923824, 0.5919982183215727, 0.008285397258448395, 0.0, 0.023348206961982445, 0.021976759770349262, 0.1796738271295063, 0.2057221754737765, 0.0716540647143714, 0.005779958755626004, 0.0, 0.19966746765311066, 0.029451150872100006, 0.021125592688744435, 0.0, 0.06448364578266623, 0.057163691820987614, 0.0010019443659521274, 0.0, 0.00024280195049572426, 0.0015979177598372447, 0.0, 0.06497854501759766, 0.005702326871374627, 0.0, 0.0, 0.0, 0.01887746828102567, 0.0027407963301115945, 0.006910576251621079, 0.004306951678809371, 0.0, 0.0017252147990026911, 0.007873576528626235, 0.0, 0.010693205287161597, 0.0032861672008599892, 0.005471803937191337, 0.07026166143946862, 0.0028835137394114954, 0.0013664649891403998, 0.0, 0.001133108624417423, 0.003500563561479412, 0.0, 0.0, 0.0004393618078831305, 0.0, 0.001901917186616141, 0.0, 0.12788240485200025, 0.0, 0.0, 0.0028717775153061995, 0.41724831661933476, 0.0017568700159382726, 0.00594602791860118, 0.025538635298247167, 0.0, 0.020261021378527436, 0.0, 0.08605416819336675, 0.0, 0.001957759102698274, 0.0, 0.001128814869461439, 0.0036038240319999607, 2.7001420689982536e-05, 0.023831603484027842, 0.11480811041690767, 0.0013772598003263404, 0.0005087068048577337, 0.002656522330312193, 0.0, 0.04279910518030907, 0.006283596556692576, 0.02696500139274478, 0.025860971095292163, 4.0901733180101124e-05, 0.0, 0.049183574840480755, 0.0, 0.1504006769716134, 0.009214544807181809, 0.0920848849610066, 0.00016803157300071013, 0.0, 0.0, 0.06737210671076013, 0.0, 0.0059085234241319316, 0.0, 0.008596419967934098, 0.007261121708210067, 0.0, 0.0002796195536733068, 0.0, 0.00048109932967944815, 0.0143725627298978, 0.005325571519018089, 0.00044272672913217673, 0.0, 0.0, 0.0011623841506827781, 0.004845039239006911, 0.0046826694316659655, 0.01720200315644917, 0.04406133809380634, 0.1235113023957089, 0.0, 0.010131049090677899, 0.0, 0.006233599025866, 0.0018387109159889385, 0.0, 0.009024173151375898, 0.0027412062404995794, 0.0, 0.0, 0.007396655343161292, 0.14828808256186263, 0.02547371873032053, 0.10112397146171527, 0.00860552370053448, 0.0, 0.0011818898154646626, 0.013576940518100827, 0.06434657086961847, 0.007141966254735262, 0.041747615946679216, 0.0, 0.0, 0.051471744493382855, 0.005220978602455137, 0.014333149673106314, 0.04508370452645648, 0.0010025789005635142, 0.0010334555991317897, 0.01133905783426922, 0.0, 0.155455330310694, 0.002078122969798589, 0.0, 0.007183677997246685, 0.0, 0.022607963549539152, 0.007832943597466568, 0.010247951483828215, 0.0, 0.00137446213803154, 0.00020004550575798133, 0.019054461739693745, 0.4994661833500886, 0.027065910789942485, 8.709865359161875e-05, 0.007584210552056797, 0.0009734771488493395, 0.004070494860182911, 0.0, 0.0, 0.014448731178375793, 0.04778991596291492, 0.013650275669464433, 0.11987000061425797, 0.002565884462365553, 0.022656113047097266, 0.0, 0.025532257304146422, 0.00033842395763460987, 0.005705254997639129, 0.0, 0.003979399101539128, 0.016776464560971115, 0.001628875061189537, 0.0, 0.0, 0.003334083379305793, 0.06102821161050358, 0.0045383046244778374, 0.013699941513761579, 0.0022768681534307373, 0.0, 0.0027983427099680454, 0.0, 0.0, 0.005008060659834461, 0.0, 5.299745052873209e-05, 0.0007071833969325236, 0.0022936570775857843, 0.04943771065207695, 0.002963469615215422, 0.19021945870669218, 0.0013280512337566753, 0.007035972988298096, 0.12780002643067437, 0.05560742073477389, 0.039559436593556596, 0.07323944604192573, 0.0, 0.0875286514892903, 0.00422283540259762, 0.014291504447663424, 0.008905841096866391, 0.003744448078061488, 0.012821574582058482, 0.010737180714467708, 0.0, 0.0006140631113993139, 0.01830817525705673, 0.0019395979504022102, 0.0, 0.00031812596549650777, 0.0051525877349935575, 0.004494549425318484, 0.015920372253622927, 0.011000912369120795, 0.00022467407597132814, 0.008321784296980342, 0.0, 0.009449832915042889, 0.016276387499859157, 0.00811554438088276, 0.005101041205977697, 0.007543373712795264, 0.010350548237510382, 0.004680209365863377, 0.001727038566133406, 0.004353558679333306, 0.0, 0.0015265804059298679, 0.0, 0.007384988092554376, 0.08777210394065837, 0.0025910912638894895, 0.00556300297766701, 0.0, 0.0032686031854735078, 0.06274667155810648, 0.07732289389116255, 0.0010609472103682905, 0.04979867119908963, 0.014496258987707922, 0.0, 0.0, 0.0, 0.08108753468435309, 0.0, 0.0, 0.02278749406564706, 0.003484543565995588, 6.906480640726723e-05, 0.004071178837094526, 0.0017515550329902732, 0.02764535888857845, 0.01936027088044851, 0.025126063377906856, 0.0, 0.003734778935654691, 0.0005087584326608238, 0.07864806869649764, 0.0, 0.018840229202483048, 0.0031683493274915096, 0.007320738807678571, 0.03940275583204484, 0.009827867727742407, 0.014591061302846894, 0.30258050832234673, 0.06555382436753297, 0.0030080500052945035, 0.07867521533261236, 0.06203590580583558, 0.000601959980491826, 0.0, 0.0013498345370119022, 0.003606719772963534, 0.00578255835159887, 0.007730653677455929, 0.007018864388903742, 0.002642376438637287, 0.0012329419048620217, 0.015436240364538886, 0.0016307466061809878, 0.012279933482416596, 0.016806389288628234, 0.002528474892356916, 0.0015113224941623743, 0.10817694072604281, 0.16175676756262944, 0.0027563748936751164, 0.0020151997350979925, 0.0, 0.01823757204912122, 0.0037630695818080353, 0.0, 0.015057945304290273, 0.0, 0.016847252184174592, 0.0011305246486112536, 0.0, 0.06568332585371449, 0.0, 0.004894428707330698, 0.0, 0.00962265602618056, 0.06033375739569094, 0.0, 0.04416561364562659, 0.000715907063829096, 0.0, 0.0063519002855574125, 0.0, 0.0, 0.006604864656056439, 0.08427485824315771, 0.003028182008524565, 0.019206382701634255, 0.0, 0.003995910070335812, 0.00291222802368371, 0.0014834073973624096, 1.189767824034312, 0.0005350862768228599, 0.11386726782250034, 0.0011713742796806718, 0.012861685938592925, 0.004119513775410013, 0.014306661391075622, 0.0006118689458312, 0.0017138205995814951, 0.0011194123576056098, 0.0020142026570953613, 0.001058953364755421, 0.03595198528757227, 0.008203965711504864, 0.00026558930037174375, 0.001568502785657718, 0.04836958281761674, 0.003903841491751353, 0.0013550909847851592, 0.003987283596840038, 0.0, 0.05611412261938081, 0.014148752471293663, 0.018448242235894082, 0.0, 0.004213045621082362, 0.0, 0.008710938515645007, 0.016549401615216817, 0.037039866028048485, 0.010963927765041532, 0.004183256323918408, 0.049591735888632596, 0.007867664962317632, 0.02668725770016614, 0.0, 0.061964028055021804, 0.0, 0.019392303143290265, 0.0020920584977507273, 0.0009755418338434094, 0.020207182076228427, 0.009535960203837046, 0.0015970510013750155, 0.04299169960240773, 0.008932373556537658, 0.0, 0.00245929552183005, 0.00016713399730010787, 0.044885763556659554, 0.0062548082511115965, 0.008977801339043542, 0.000689563301320538, 0.009351995899571565, 0.002115721859225227, 0.0963651282595624, 0.0024415621791628603, 0.02043049464664075, 0.0013726513502708257, 0.002088791061778647, 0.0011696627485048344, 0.0, 0.0040259633971144, 0.0, 0.00043035492733308546, 0.005901566093226442, 0.006043441433699816, 0.0, 0.0047137337016247794, 0.0, 0.01646654803128194, 0.10341208258023696, 0.034808379029787534, 0.0, 0.008107649301671693, 0.006999786556771141, 0.010960516344821813, 0.0020822239297012633, 0.018807418994887456, 8.565547728981342e-05, 0.004672670047289912, 0.020843024782934396, 0.005607808170196572, 0.001445442530516989, 0.003676885742566596, 0.0, 0.000163933535872136, 0.0, 0.01061749873176867, 0.010966906380017039, 0.0018692093046770127, 0.20649422239300375, 0.009877833212264969, 0.0, 0.00013072813502545212, 0.036674323259653384, 0.0003906325990731403, 0.11212323703277827, 0.019914505159228327, 0.010680429231731868, 0.0, 0.0, 0.05585639661488954, 0.03026557425986202, 0.009824404962424914, 0.010800251009349244, 0.0, 0.0020075871013497328, 0.012419815428912948, 0.0, 0.0012132977445384252, 0.007138743091839643, 0.0016406641963015189, 0.014972135561411965, 0.015352712226796968, 0.0028203866276404655, 0.0, 0.0002838381758979694, 0.004246441905691554, 0.0025562273381588138, 0.06865585007530571, 0.0013724001557313638, 0.008844936614343804, 0.00926082565273866, 0.07596134267994957, 0.003757715639795367, 0.0008598363366856053, 0.006962803012649251, 0.0015900944016866549, 0.012946641375110408, 0.010733279839345758, 0.0013214032304933632, 0.0011917551512227338, 0.036976275856796546, 0.0003906150344172329, 0.0012746375996870347, 0.01133689283764283, 0.17693632597597167, 0.019816603248372873, 0.0, 0.002262524055170934, 0.0008334555478576536, 0.007296121856937604, 0.0, 0.014450926815934996, 0.0045284901228656235, 0.0, 0.0, 0.04775577643755505, 0.0007522761665233502, 0.003489632754822527, 0.06844512835392616, 0.0012177522742603674, 0.00910924486226095, 0.01135112791425637, 0.003046456493237189, 0.0, 0.0752936558664984, 0.07992434205437712, 0.0074895418718551685, 0.002533580378501933, 0.5301696837138652, 0.0009533727104075495, 0.010931392761388221, 0.0, 0.010761687409993363, 0.011900083405040082, 0.0, 0.004191595445479621, 0.0, 0.005050857066603181, 0.0915521719980084, 0.0, 0.0, 0.007064084415590877, 0.004692722897488348, 0.060774302290801836, 0.03248105022743629, 0.0003464775929027943, 0.039414308728339564, 0.002520109572248402, 0.031988096990250944, 0.004985752157392917, 0.001316749757496656, 0.009894364413598773, 0.029498947957442713, 0.002470070170669893, 0.026617933751199363, 0.05093353039193479, 4.7926854851614594e-05, 0.0004328457911839099, 0.012677360354295156, 0.0025024821684755437, 0.0, 0.4063097447236886, 0.002493815369045506, 0.07224448350064931, 0.015683916072681853, 0.0011962820764472308, 0.5886360369904312, 0.0055705647848666, 0.026679153850102274, 0.004108337976145168, 0.0, 0.003366927145603094, 0.16392742566856613, 0.004107006546271299, 0.004317801940481878, 0.005679563760581488, 0.021267230365891145, 0.0, 0.0027019039912422244, 0.006224209831575283, 0.011283548580238313, 0.0, 0.008021618729101504, 0.0, 0.0, 0.00019961833033850512, 0.04309241487601751, 0.009387832176442476, 0.0035248365301955497, 0.022216413389427855, 0.037331320079103995, 0.0, 0.0043820842868278155, 0.0, 0.00561614793787083, 0.007017705740771661, 0.006261740775851435, 0.01584067579310028, 0.04941407217676316, 0.026570985346564643, 0.012408838065307008, 0.005938528578676719, 0.004796034884110355, 0.0026448447054466294, 0.022442109833724282, 0.0035675906188329964, 0.0013595547020175912, 0.0, 0.0, 0.0, 0.008271946712119557, 0.0017672062053635611, 0.0019215590649942975, 0.0, 0.005913732080690406, 0.015471709963736355, 0.005807169482075382, 0.0, 0.017142369755888075, 0.011051240212159929, 0.003171076985563274, 0.0, 0.00014227299366528543, 0.0, 0.00023582798786234092, 0.0, 0.0032156301409821918, 0.00945927443208043, 0.0, 0.0, 0.0004882194346821487, 0.003830246757014967, 0.021815108376393274, 0.0008139658418262068, 0.006381033841726286, 0.022020864299128584, 0.033740564186371266, 0.029486479369205076, 0.0010543814111576703, 0.0007929357133536014, 0.004558189301838959, 0.14917972279138492, 0.0025227118762710743, 0.2341965678634182, 0.0, 0.0, 0.013981342536035899, 0.0, 0.10645830351534909, 0.07457633057601949, 0.7034706233366664, 0.01726018134074256, 0.003068733886029489, 2.0954774852291457e-05, 0.0, 0.0, 0.004721033033495483, 0.0035794235050979157, 0.31905419946066704, 0.004025278311569629, 0.0, 3.968497963194268e-05, 0.009161489770368335, 0.0, 0.018076557102424718, 0.04727049286186814, 0.003287927855546751, 0.0, 0.026077724227561674, 0.0028914815868775136, 0.55863603399732, 0.0, 0.08361065255699215, 0.0008640024277584302, 0.0, 0.004593168474314603, 0.022066114174621697, 0.034782775492026276, 0.00048685083185297885, 0.0024326985484903877, 0.0, 0.0, 0.0047275781276950295, 0.0009184545829685609, 0.0017552870640325559, 0.0, 0.0020489188586280947, 0.027299867715784274, 0.005797231265495155, 0.09730281235110101, 0.0, 0.004210163561255872, 0.0, 0.0, 0.017642115868177793, 0.008031590008539168, 0.06228837173169808, 0.0, 0.002147052769541109, 2.415270744430033, 0.00376770096596661, 0.007443993949037594, 0.006007263208909825, 0.008677804552349466, 0.004448640087980623, 0.008933136054434347, 0.0064244854589881, 0.0004923787708752421, 0.0, 0.0, 0.0017375647043161686, 0.07791289424474887, 0.009662928093129358, 0.006623993317807823, 0.0, 0.001422755766457428, 0.011881851560639903, 0.03456285191730614, 0.0025676556654478117, 0.0032484022065191105, 0.020851479049177637, 0.01519395849374762, 0.030964336539654955, 0.0, 0.007100325396837368, 0.16416092399607496, 0.04031873589453719, 0.0, 0.0, 0.00614123755311157, 0.022614307982133687, 0.002574140962059157, 0.0, 0.03278409815616352, 0.008196813397340534, 0.0, 0.006110824237192913, 0.008055161450863097, 0.07598254610095799, 0.0035104270861040245, 0.0012205047428626918, 0.0, 0.01769973447034436, 0.0016379832958667857, 0.18647225291702765, 0.0, 0.03316444034616078, 0.0018602659972087733, 0.005957105558100529, 0.0012836579806653964, 0.11989148475361341, 0.007680853750375832, 0.007833406202327298, 0.00798133748921576, 0.0, 0.005410185623771241, 0.3201377705964938, 0.0, 0.07638955078647078, 0.027918993908376696, 0.007596675430096507, 0.09997346098543212, 0.31472582134933424, 0.0019517861178639346, 0.0322977852690333, 0.0, 0.0, 0.18606554325661928, 0.0, 0.06463913226636048, 10.023343518855958, 0.07590794048225274, 0.0, 0.05482001384618055, 0.006090081587628227, 0.07758301649542869, 0.0, 0.11438148408046472, 0.0038563992916754194, 0.0, 0.0, 0.0045540542791541495, 0.039753420428896596, 0.0, 0.0, 0.0, 0.001161268515032429, 0.31394967309808264, 3.81435840737231, 0.00016325408130835184, 0.0, 0.0, 0.02465341586772808, 0.0, 0.016187120570373748, 0.00041859610972489863, 0.0036484318247260584, 0.0, 0.0023002702989437037, 0.0074895418718551685, 0.1409988559622011, 0.0006387298291637381, 0.003916664591251504, 0.9064898348513785, 0.0, 0.0016448864752298647, 0.0004445787151904203, 0.0, 0.0, 0.0, 0.0991680343008935, 0.04013919285767856, 0.009300950628176336, 0.0, 0.00534837813971196, 0.0005433891323014381, 0.0, 0.0006416595713768371, 0.00043948636314246385, 0.0, 0.0038527321902634016, 0.0, 0.01882366997433112, 0.03152596221124358, 0.0, 0.0, 0.0, 0.0, 0.02136279796375554, 0.0, 0.002932760544943095, 0.0, 0.00018917992162839883, 0.1693547900720677, 0.0, 0.0009851887077549101, 0.012362132118431143, 1.465263837588637, 0.0, 0.0022754066155829616, 0.1905854218438649, 0.0050495482576125615, 0.002442192121494382, 0.0653901669414654, 0.003513938005512066, 0.017005822439005194, 0.00869905975045042, 0.001200675399325102, 0.006813954205476359, 0.0, 0.0, 0.021277325691268677, 0.00033071269548031655, 0.024262598819287048, 0.002924583171012556, 0.01630864530570905, 0.0, 0.02745652376560479, 0.000581670468827412, 0.04574450738842984, 0.0030807254143435784, 0.00024358960851580448, 0.012265114473237576, 0.022837400888133186, 0.05063585189536317, 0.006557213464736683, 0.0, 0.0, 0.05382249702982696, 0.0015428643479078433, 0.02109761876404288, 0.0006465374196387215, 0.9427562005786783, 0.0, 0.0, 0.01957096652914075, 0.03444948802847171, 0.00461976719270048, 0.035009734024395216, 0.053439055302586455, 0.03593435422475741, 0.042904059083465444, 0.0024517968869345254, 0.0, 0.018290405372738076, 3.265823582616528e-05, 0.009320850795569737, 0.0, 0.003247377841159853, 0.051372674892909045, 0.0, 0.003303840930267954, 0.0, 0.0012017268093844544, 0.0007337045898341761, 0.007404432953028029, 0.0012249822910800168, 0.008611619495238573, 0.0, 0.01943609269211524, 0.00430704321007373, 0.0917294587578849, 0.0, 0.005897119606610893, 0.041063542734580905, 0.04063751701996043, 0.0015331108814300306, 0.0075590555254073525, 0.042469886504797716, 0.0, 0.0, 0.03826560418604498, 0.0, 0.04063419190648996, 0.0, 0.007645546163625228, 0.0006942445125693597, 0.0018796031131750606, 0.0, 2.0781315395370183e-06, 0.018764960035642913, 0.0046675650789449645, 0.0036517754221130046, 0.003195054157003629, 0.008989880062951344, 0.0, 0.0, 0.0, 0.0014480194085478113, 0.14795158449300663, 0.0, 0.0, 0.0, 0.0018518214892329122, 0.03994046416433594, 0.03136588780767857, 0.0, 0.02278418137727674, 0.01933870268225327, 0.006301875256545758, 0.06945803267063066, 0.014354298820460552, 0.005235629734863883, 0.03307668454897454, 0.007083132406073847, 0.017819131254972694, 0.0015573548369908475, 0.2920077829383482, 0.0012575521196265028, 0.039167803469948345, 0.02827272544421848, 0.0050133577789330435, 0.00044643371749835314, 0.09186531155990069, 0.0, 1.6955177917907573, 0.0, 0.005289536185787634, 0.0, 0.002220039988625729, 0.054357111129686456, 0.0, 0.25724887356177795, 0.0, 0.0, 0.0024176066763261558, 0.09446911057099808, 0.0012708185760301168, 0.0, 0.02137031491416641, 0.004560186456721437, 0.07942418505129419, 0.002321324698394949, 0.0, 0.011477242939859324, 0.005549322270000684, 0.000896093461984157, 0.05598351039423068, 0.07036450611848416, 0.0443825020713775, 0.002091650429724067, 0.0006823879118124446, 0.004431867187346345, 0.003583939854166967, 3.0082661626378697, 0.06374193787529994, 0.0, 0.005588909427834556, 0.005142236689950279, 0.002248398093592039, 0.1219289958901333, 0.07146117327901118, 0.0, 0.07098455566507857, 0.007817954804330583, 0.011959294373686782, 0.03202462578732333, 0.0020697169225868785, 0.001744263126538402, 0.0021266730802512795, 0.012302281452399814, 0.0, 0.0007498914128892304, 0.03975186299847851, 0.0, 0.0, 0.3470850673720634, 0.004496028256366159, 0.0, 0.0009794893050954585, 0.0, 0.0, 0.05461197302519017, 0.008541109798770152, 0.001127774062101812, 0.04638324491800406, 0.08595954877534655, 0.0019890189815546947, 0.0, 0.0025187518018175005, 0.0005232576079695053, 0.007732872571038709, 0.0241874011620269, 0.0986155561198597, 0.0, 0.45098323464387724, 0.0476260398616277, 0.013857040928200838, 0.0, 0.005871848191274886, 0.28145439024124447, 0.0, 0.004450275392800872, 0.14435892141647613, 0.12386851931087331, 0.0037551312947207553, 0.00613137111215506, 0.0, 0.011506836574503613, 0.01927072228604134, 0.00025645846463566245, 0.0, 0.0073909482413191665, 0.013783675340334893, 0.001241273472730588, 0.4329551013455318, 0.0, 0.0, 0.06157952043199771, 0.01755127130426339, 0.28226127065693946, 0.014168143985907725, 0.01946977107622653, 0.008734130247797029, 0.004382394904343771, 0.0, 0.0, 0.0, 0.0, 0.0012095611739036739, 0.0033791251739355, 0.0, 0.0027035829828031548, 0.0, 0.0022990695684084266, 0.10196272017011863, 0.004289107294817927, 0.0026792960577870094, 0.5731514109681853, 0.007640630082440812, 0.0, 0.0019085726004457347, 0.011458604932242402, 0.04772503346170633, 0.0, 0.0, 0.0017080314370957945, 0.0, 0.009881231633870313, 0.0024070786585984444, 5.9189200186016756e-05, 0.0, 0.04561762925030793, 0.07317246255372187, 0.0, 0.007063686087546224, 0.0022713532049557996, 0.0, 0.0015156328253089963, 0.010700361211445313, 0.5638328436126644, 0.14724074969320888, 0.0, 0.12371573868113996, 0.004521968993583809, 0.0, 0.0, 0.005352215976546237, 0.00010748247485145679, 0.056581559756296806, 0.007108256210720819, 0.017872948928027117, 0.0009873860932429785, 0.039912121809780106, 0.05433806519818191, 0.001387623271613279, 0.006868771837275372, 0.0, 0.009233624753107246, 0.017019624070166585, 0.004334826920521249, 0.0033980950520076333, 0.0012312948864526443, 0.0]}],\n",
              "                        {\"coloraxis\": {\"colorbar\": {\"title\": {\"text\": \"Category\"}}, \"colorscale\": [[0.0, \"#0d0887\"], [0.1111111111111111, \"#46039f\"], [0.2222222222222222, \"#7201a8\"], [0.3333333333333333, \"#9c179e\"], [0.4444444444444444, \"#bd3786\"], [0.5555555555555556, \"#d8576b\"], [0.6666666666666666, \"#ed7953\"], [0.7777777777777778, \"#fb9f3a\"], [0.8888888888888888, \"#fdca26\"], [1.0, \"#f0f921\"]]}, \"height\": 600, \"legend\": {\"tracegroupgap\": 0}, \"margin\": {\"t\": 60}, \"scene\": {\"domain\": {\"x\": [0.0, 0.98], \"y\": [0.0, 1.0]}, \"xaxis\": {\"title\": {\"text\": \"Column1\"}}, \"yaxis\": {\"title\": {\"text\": \"Column2\"}}, \"zaxis\": {\"title\": {\"text\": \"Column3\"}}}, \"template\": {\"data\": {\"bar\": [{\"error_x\": {\"color\": \"#2a3f5f\"}, \"error_y\": {\"color\": \"#2a3f5f\"}, \"marker\": {\"line\": {\"color\": \"#E5ECF6\", \"width\": 0.5}}, \"type\": \"bar\"}], \"barpolar\": [{\"marker\": {\"line\": {\"color\": \"#E5ECF6\", \"width\": 0.5}}, \"type\": \"barpolar\"}], \"carpet\": [{\"aaxis\": {\"endlinecolor\": \"#2a3f5f\", \"gridcolor\": \"white\", \"linecolor\": \"white\", \"minorgridcolor\": \"white\", \"startlinecolor\": \"#2a3f5f\"}, \"baxis\": {\"endlinecolor\": \"#2a3f5f\", \"gridcolor\": \"white\", \"linecolor\": \"white\", \"minorgridcolor\": \"white\", \"startlinecolor\": \"#2a3f5f\"}, \"type\": \"carpet\"}], \"choropleth\": [{\"colorbar\": {\"outlinewidth\": 0, \"ticks\": \"\"}, \"type\": \"choropleth\"}], \"contour\": [{\"colorbar\": {\"outlinewidth\": 0, \"ticks\": \"\"}, \"colorscale\": [[0.0, \"#0d0887\"], [0.1111111111111111, \"#46039f\"], [0.2222222222222222, \"#7201a8\"], [0.3333333333333333, \"#9c179e\"], [0.4444444444444444, \"#bd3786\"], [0.5555555555555556, \"#d8576b\"], [0.6666666666666666, \"#ed7953\"], [0.7777777777777778, \"#fb9f3a\"], [0.8888888888888888, \"#fdca26\"], [1.0, \"#f0f921\"]], \"type\": \"contour\"}], \"contourcarpet\": [{\"colorbar\": {\"outlinewidth\": 0, \"ticks\": \"\"}, \"type\": \"contourcarpet\"}], \"heatmap\": [{\"colorbar\": {\"outlinewidth\": 0, \"ticks\": \"\"}, \"colorscale\": [[0.0, \"#0d0887\"], [0.1111111111111111, \"#46039f\"], [0.2222222222222222, \"#7201a8\"], [0.3333333333333333, \"#9c179e\"], [0.4444444444444444, \"#bd3786\"], [0.5555555555555556, \"#d8576b\"], [0.6666666666666666, \"#ed7953\"], [0.7777777777777778, \"#fb9f3a\"], [0.8888888888888888, \"#fdca26\"], [1.0, \"#f0f921\"]], \"type\": \"heatmap\"}], \"heatmapgl\": [{\"colorbar\": {\"outlinewidth\": 0, \"ticks\": \"\"}, \"colorscale\": [[0.0, \"#0d0887\"], [0.1111111111111111, \"#46039f\"], [0.2222222222222222, \"#7201a8\"], [0.3333333333333333, \"#9c179e\"], [0.4444444444444444, \"#bd3786\"], [0.5555555555555556, \"#d8576b\"], [0.6666666666666666, \"#ed7953\"], [0.7777777777777778, \"#fb9f3a\"], [0.8888888888888888, \"#fdca26\"], [1.0, \"#f0f921\"]], \"type\": \"heatmapgl\"}], \"histogram\": [{\"marker\": {\"colorbar\": {\"outlinewidth\": 0, \"ticks\": \"\"}}, \"type\": \"histogram\"}], \"histogram2d\": [{\"colorbar\": {\"outlinewidth\": 0, \"ticks\": \"\"}, \"colorscale\": [[0.0, \"#0d0887\"], [0.1111111111111111, \"#46039f\"], [0.2222222222222222, \"#7201a8\"], [0.3333333333333333, \"#9c179e\"], [0.4444444444444444, \"#bd3786\"], [0.5555555555555556, \"#d8576b\"], [0.6666666666666666, \"#ed7953\"], [0.7777777777777778, \"#fb9f3a\"], [0.8888888888888888, \"#fdca26\"], [1.0, \"#f0f921\"]], \"type\": \"histogram2d\"}], \"histogram2dcontour\": [{\"colorbar\": {\"outlinewidth\": 0, \"ticks\": \"\"}, \"colorscale\": [[0.0, \"#0d0887\"], [0.1111111111111111, \"#46039f\"], [0.2222222222222222, \"#7201a8\"], [0.3333333333333333, \"#9c179e\"], [0.4444444444444444, \"#bd3786\"], [0.5555555555555556, \"#d8576b\"], [0.6666666666666666, \"#ed7953\"], [0.7777777777777778, \"#fb9f3a\"], [0.8888888888888888, \"#fdca26\"], [1.0, \"#f0f921\"]], \"type\": \"histogram2dcontour\"}], \"mesh3d\": [{\"colorbar\": {\"outlinewidth\": 0, \"ticks\": \"\"}, \"type\": \"mesh3d\"}], \"parcoords\": [{\"line\": {\"colorbar\": {\"outlinewidth\": 0, \"ticks\": \"\"}}, \"type\": \"parcoords\"}], \"scatter\": [{\"marker\": {\"colorbar\": {\"outlinewidth\": 0, \"ticks\": \"\"}}, \"type\": \"scatter\"}], \"scatter3d\": [{\"line\": {\"colorbar\": {\"outlinewidth\": 0, \"ticks\": \"\"}}, \"marker\": {\"colorbar\": {\"outlinewidth\": 0, \"ticks\": \"\"}}, \"type\": \"scatter3d\"}], \"scattercarpet\": [{\"marker\": {\"colorbar\": {\"outlinewidth\": 0, \"ticks\": \"\"}}, \"type\": \"scattercarpet\"}], \"scattergeo\": [{\"marker\": {\"colorbar\": {\"outlinewidth\": 0, \"ticks\": \"\"}}, \"type\": \"scattergeo\"}], \"scattergl\": [{\"marker\": {\"colorbar\": {\"outlinewidth\": 0, \"ticks\": \"\"}}, \"type\": \"scattergl\"}], \"scattermapbox\": [{\"marker\": {\"colorbar\": {\"outlinewidth\": 0, \"ticks\": \"\"}}, \"type\": \"scattermapbox\"}], \"scatterpolar\": [{\"marker\": {\"colorbar\": {\"outlinewidth\": 0, \"ticks\": \"\"}}, \"type\": \"scatterpolar\"}], \"scatterpolargl\": [{\"marker\": {\"colorbar\": {\"outlinewidth\": 0, \"ticks\": \"\"}}, \"type\": \"scatterpolargl\"}], \"scatterternary\": [{\"marker\": {\"colorbar\": {\"outlinewidth\": 0, \"ticks\": \"\"}}, \"type\": \"scatterternary\"}], \"surface\": [{\"colorbar\": {\"outlinewidth\": 0, \"ticks\": \"\"}, \"colorscale\": [[0.0, \"#0d0887\"], [0.1111111111111111, \"#46039f\"], [0.2222222222222222, \"#7201a8\"], [0.3333333333333333, \"#9c179e\"], [0.4444444444444444, \"#bd3786\"], [0.5555555555555556, \"#d8576b\"], [0.6666666666666666, \"#ed7953\"], [0.7777777777777778, \"#fb9f3a\"], [0.8888888888888888, \"#fdca26\"], [1.0, \"#f0f921\"]], \"type\": \"surface\"}], \"table\": [{\"cells\": {\"fill\": {\"color\": \"#EBF0F8\"}, \"line\": {\"color\": \"white\"}}, \"header\": {\"fill\": {\"color\": \"#C8D4E3\"}, \"line\": {\"color\": \"white\"}}, \"type\": \"table\"}]}, \"layout\": {\"annotationdefaults\": {\"arrowcolor\": \"#2a3f5f\", \"arrowhead\": 0, \"arrowwidth\": 1}, \"colorscale\": {\"diverging\": [[0, \"#8e0152\"], [0.1, \"#c51b7d\"], [0.2, \"#de77ae\"], [0.3, \"#f1b6da\"], [0.4, \"#fde0ef\"], [0.5, \"#f7f7f7\"], [0.6, \"#e6f5d0\"], [0.7, \"#b8e186\"], [0.8, \"#7fbc41\"], [0.9, \"#4d9221\"], [1, \"#276419\"]], \"sequential\": [[0.0, \"#0d0887\"], [0.1111111111111111, \"#46039f\"], [0.2222222222222222, \"#7201a8\"], [0.3333333333333333, \"#9c179e\"], [0.4444444444444444, \"#bd3786\"], [0.5555555555555556, \"#d8576b\"], [0.6666666666666666, \"#ed7953\"], [0.7777777777777778, \"#fb9f3a\"], [0.8888888888888888, \"#fdca26\"], [1.0, \"#f0f921\"]], \"sequentialminus\": [[0.0, \"#0d0887\"], [0.1111111111111111, \"#46039f\"], [0.2222222222222222, \"#7201a8\"], [0.3333333333333333, \"#9c179e\"], [0.4444444444444444, \"#bd3786\"], [0.5555555555555556, \"#d8576b\"], [0.6666666666666666, \"#ed7953\"], [0.7777777777777778, \"#fb9f3a\"], [0.8888888888888888, \"#fdca26\"], [1.0, \"#f0f921\"]]}, \"colorway\": [\"#636efa\", \"#EF553B\", \"#00cc96\", \"#ab63fa\", \"#FFA15A\", \"#19d3f3\", \"#FF6692\", \"#B6E880\", \"#FF97FF\", \"#FECB52\"], \"font\": {\"color\": \"#2a3f5f\"}, \"geo\": {\"bgcolor\": \"white\", \"lakecolor\": \"white\", \"landcolor\": \"#E5ECF6\", \"showlakes\": true, \"showland\": true, \"subunitcolor\": \"white\"}, \"hoverlabel\": {\"align\": \"left\"}, \"hovermode\": \"closest\", \"mapbox\": {\"style\": \"light\"}, \"paper_bgcolor\": \"white\", \"plot_bgcolor\": \"#E5ECF6\", \"polar\": {\"angularaxis\": {\"gridcolor\": \"white\", \"linecolor\": \"white\", \"ticks\": \"\"}, \"bgcolor\": \"#E5ECF6\", \"radialaxis\": {\"gridcolor\": \"white\", \"linecolor\": \"white\", \"ticks\": \"\"}}, \"scene\": {\"xaxis\": {\"backgroundcolor\": \"#E5ECF6\", \"gridcolor\": \"white\", \"gridwidth\": 2, \"linecolor\": \"white\", \"showbackground\": true, \"ticks\": \"\", \"zerolinecolor\": \"white\"}, \"yaxis\": {\"backgroundcolor\": \"#E5ECF6\", \"gridcolor\": \"white\", \"gridwidth\": 2, \"linecolor\": \"white\", \"showbackground\": true, \"ticks\": \"\", \"zerolinecolor\": \"white\"}, \"zaxis\": {\"backgroundcolor\": \"#E5ECF6\", \"gridcolor\": \"white\", \"gridwidth\": 2, \"linecolor\": \"white\", \"showbackground\": true, \"ticks\": \"\", \"zerolinecolor\": \"white\"}}, \"shapedefaults\": {\"line\": {\"color\": \"#2a3f5f\"}}, \"ternary\": {\"aaxis\": {\"gridcolor\": \"white\", \"linecolor\": \"white\", \"ticks\": \"\"}, \"baxis\": {\"gridcolor\": \"white\", \"linecolor\": \"white\", \"ticks\": \"\"}, \"bgcolor\": \"#E5ECF6\", \"caxis\": {\"gridcolor\": \"white\", \"linecolor\": \"white\", \"ticks\": \"\"}}, \"title\": {\"x\": 0.05}, \"xaxis\": {\"automargin\": true, \"gridcolor\": \"white\", \"linecolor\": \"white\", \"ticks\": \"\", \"zerolinecolor\": \"white\", \"zerolinewidth\": 2}, \"yaxis\": {\"automargin\": true, \"gridcolor\": \"white\", \"linecolor\": \"white\", \"ticks\": \"\", \"zerolinecolor\": \"white\", \"zerolinewidth\": 2}}}},\n",
              "                        {\"responsive\": true}\n",
              "                    ).then(function(){\n",
              "                            \n",
              "var gd = document.getElementById('6178f082-3509-4beb-8155-ff21901c76ff');\n",
              "var x = new MutationObserver(function (mutations, observer) {{\n",
              "        var display = window.getComputedStyle(gd).display;\n",
              "        if (!display || display === 'none') {{\n",
              "            console.log([gd, 'removed!']);\n",
              "            Plotly.purge(gd);\n",
              "            observer.disconnect();\n",
              "        }}\n",
              "}});\n",
              "\n",
              "// Listen for the removal of the full notebook cells\n",
              "var notebookContainer = gd.closest('#notebook-container');\n",
              "if (notebookContainer) {{\n",
              "    x.observe(notebookContainer, {childList: true});\n",
              "}}\n",
              "\n",
              "// Listen for the clearing of the current output cell\n",
              "var outputEl = gd.closest('.output');\n",
              "if (outputEl) {{\n",
              "    x.observe(outputEl, {childList: true});\n",
              "}}\n",
              "\n",
              "                        })\n",
              "                };\n",
              "                \n",
              "            </script>\n",
              "        </div>\n",
              "</body>\n",
              "</html>"
            ]
          },
          "metadata": {
            "tags": []
          }
        }
      ]
    },
    {
      "cell_type": "markdown",
      "metadata": {
        "id": "JpWplOFfTZBH",
        "colab_type": "text"
      },
      "source": [
        "# 5. Term Rrequency–Inverse Document Frequency (TF-IDF)"
      ]
    },
    {
      "cell_type": "markdown",
      "metadata": {
        "id": "HHYU7tus3pKv",
        "colab_type": "text"
      },
      "source": [
        "การใช้ Count Vectorizer จะมีปัญหา ถ้าแต่ละข้อความใน Dataset ของเรา มีความยาวต่างกันมาก ๆ การนับจำนวนคำที่อยู่ในข้อความ ก็อาจจะไม่แฟร์ได้ \n",
        "\n",
        "TF-IDF เข้ามาแก้ปัญหานี้ โดยการนำจำนวนคำทั้งหมดที่อยู่ภายในเอกสารมาหาร แปลงให้เป็นสัดส่วน แทนที่จะใช้จำนวนนับตรง ๆ เหมือนด้านบน"
      ]
    },
    {
      "cell_type": "code",
      "metadata": {
        "id": "kEWCNGRiTZIA",
        "colab_type": "code",
        "colab": {}
      },
      "source": [
        "vectorizer_tfidf = TfidfVectorizer(stop_words='english')\n",
        "vectors_tfidf = vectorizer_tfidf.fit_transform(newsgroups_train.data) # (documents, vocab)"
      ],
      "execution_count": 0,
      "outputs": []
    },
    {
      "cell_type": "code",
      "metadata": {
        "id": "DMNUmxcwTZNA",
        "colab_type": "code",
        "colab": {
          "base_uri": "https://localhost:8080/",
          "height": 527
        },
        "outputId": "fc878470-71df-4823-84d5-440550a36218"
      },
      "source": [
        "print(\"\\n============================\\n\".join(newsgroups_train.data[1200:1203]))"
      ],
      "execution_count": 178,
      "outputs": [
        {
          "output_type": "stream",
          "text": [
            "\n",
            "\n",
            "\n",
            "I sure did use version 3.2. It works fine with most software but NOT\n",
            "with Animator Pro and that one is quite important to me. Pretty\n",
            "useless program without that thing working IMHO.\n",
            "So I hope the author can fix that.\n",
            "\n",
            "/Daniel...\n",
            "\n",
            "\n",
            "\n",
            "============================\n",
            " \n",
            " \n",
            "It was no criticism of Islam for a change, it was a criticism of the\n",
            "arguments used. Namely, whenever people you identify as Muslims are\n",
            "the victims of the attacks of others, they are used an argument for\n",
            "the bad situation of Muslims. But whenever deeds by Muslim that victimize\n",
            "others are named, they do not count as an argument because what these\n",
            "people did was not done as a true Muslims. No mention is made how Muslims\n",
            "are the cause of a bad situation of another party.\n",
            "============================\n",
            "\n",
            "\n",
            "Hmmmm....  The prefix \"peri-\" is Greek, not Latin, so it's usually used\n",
            "with the Greek form of the name of the body being orbited.  (That's why\n",
            "it's \"perihelion\" rather than \"perisol\", \"perigee\" rather than \"periterr\",\n",
            "and \"pericynthion\" rather than \"perilune\".)  So for Jupiter I'd expect it\n",
            "to be something like \"perizeon\".)   :^)\n"
          ],
          "name": "stdout"
        }
      ]
    },
    {
      "cell_type": "code",
      "metadata": {
        "id": "eUOSdcOpTZRu",
        "colab_type": "code",
        "colab": {
          "base_uri": "https://localhost:8080/",
          "height": 34
        },
        "outputId": "47342a16-cf96-4564-922d-fb60a8fcdce6"
      },
      "source": [
        "W1 = clf.fit_transform(vectors_tfidf)\n",
        "H1 = clf.components_\n",
        "\n",
        "W1.shape, H1.shape"
      ],
      "execution_count": 183,
      "outputs": [
        {
          "output_type": "execute_result",
          "data": {
            "text/plain": [
              "((2034, 5), (5, 26576))"
            ]
          },
          "metadata": {
            "tags": []
          },
          "execution_count": 183
        }
      ]
    },
    {
      "cell_type": "markdown",
      "metadata": {
        "id": "l8cdKbSu5K_X",
        "colab_type": "text"
      },
      "source": [
        "จะทำให้ vocab ใน Topic กระจายตัว แฟร์มากขึ้น เทียบกับ Count ด้านบน"
      ]
    },
    {
      "cell_type": "code",
      "metadata": {
        "id": "4RdyvdcKTZXf",
        "colab_type": "code",
        "colab": {
          "base_uri": "https://localhost:8080/",
          "height": 102
        },
        "outputId": "b95207fa-9da9-4d94-d60e-b5bd2926efa4"
      },
      "source": [
        "show_topics(H1)"
      ],
      "execution_count": 180,
      "outputs": [
        {
          "output_type": "execute_result",
          "data": {
            "text/plain": [
              "['people don think just like objective say morality',\n",
              " 'graphics thanks files image file program windows know',\n",
              " 'space nasa launch shuttle orbit moon lunar earth',\n",
              " 'ico bobbe tek beauchaine bronx manhattan sank queens',\n",
              " 'god jesus bible believe christian atheism does belief']"
            ]
          },
          "metadata": {
            "tags": []
          },
          "execution_count": 180
        }
      ]
    },
    {
      "cell_type": "markdown",
      "metadata": {
        "id": "w2qdW6pl5yR6",
        "colab_type": "text"
      },
      "source": [
        "Embedding Vocab by Topic มิติแรก ค่อนข้างกระจายดี"
      ]
    },
    {
      "cell_type": "code",
      "metadata": {
        "id": "0VCWRUkqTZb5",
        "colab_type": "code",
        "colab": {
          "base_uri": "https://localhost:8080/",
          "height": 282
        },
        "outputId": "3f1f8c62-9be4-4798-e599-4f03628c039e"
      },
      "source": [
        "plt.plot(clf.components_[0])"
      ],
      "execution_count": 181,
      "outputs": [
        {
          "output_type": "execute_result",
          "data": {
            "text/plain": [
              "[<matplotlib.lines.Line2D at 0x7f77e0fe4cf8>]"
            ]
          },
          "metadata": {
            "tags": []
          },
          "execution_count": 181
        },
        {
          "output_type": "display_data",
          "data": {
            "image/png": "[encoded data removed]",
            "text/plain": [
              "<Figure size 432x288 with 1 Axes>"
            ]
          },
          "metadata": {
            "tags": []
          }
        }
      ]
    },
    {
      "cell_type": "markdown",
      "metadata": {
        "id": "QhK5ci376m4f",
        "colab_type": "text"
      },
      "source": [
        "เราไม่สามารถรวมเป็น Matrix ต้นฉบับเหมือนเดิมเป๊ะได้ จะมี Error"
      ]
    },
    {
      "cell_type": "code",
      "metadata": {
        "id": "7yEm01VNTZgn",
        "colab_type": "code",
        "colab": {
          "base_uri": "https://localhost:8080/",
          "height": 34
        },
        "outputId": "440f4c36-0715-4d04-ee6d-f882e295d00f"
      },
      "source": [
        "clf.reconstruction_err_"
      ],
      "execution_count": 182,
      "outputs": [
        {
          "output_type": "execute_result",
          "data": {
            "text/plain": [
              "43.712926057952785"
            ]
          },
          "metadata": {
            "tags": []
          },
          "execution_count": 182
        }
      ]
    },
    {
      "cell_type": "markdown",
      "metadata": {
        "id": "dFY-XdpuTzAV",
        "colab_type": "text"
      },
      "source": [
        "# 6. Truncated SVD"
      ]
    },
    {
      "cell_type": "markdown",
      "metadata": {
        "id": "zxNYvjk56uq8",
        "colab_type": "text"
      },
      "source": [
        "ปัญหาอีกอย่างนึงของ SVD คือ ทำงานช้า มีการพัฒนาอัลกอริทึม ชื่อว่า Randomized SVD และ Truncated SVD ช่วยให้ทำงานเร็วขึ้น หลายสิบเท่า"
      ]
    },
    {
      "cell_type": "code",
      "metadata": {
        "id": "SUYdHBrCTzMd",
        "colab_type": "code",
        "colab": {
          "base_uri": "https://localhost:8080/",
          "height": 51
        },
        "outputId": "31cf5a5d-bc2f-4d2d-d5ae-f702949e0e56"
      },
      "source": [
        "%time u, s, v = np.linalg.svd(vectors, full_matrices=False)"
      ],
      "execution_count": 169,
      "outputs": [
        {
          "output_type": "stream",
          "text": [
            "CPU times: user 1min 26s, sys: 4.74 s, total: 1min 31s\n",
            "Wall time: 46.6 s\n"
          ],
          "name": "stdout"
        }
      ]
    },
    {
      "cell_type": "code",
      "metadata": {
        "id": "POoNSniPTzTo",
        "colab_type": "code",
        "colab": {}
      },
      "source": [
        "from sklearn import decomposition\n",
        "import fbpca"
      ],
      "execution_count": 0,
      "outputs": []
    },
    {
      "cell_type": "code",
      "metadata": {
        "id": "Ela5c310T-FJ",
        "colab_type": "code",
        "colab": {
          "base_uri": "https://localhost:8080/",
          "height": 51
        },
        "outputId": "b0935a98-c488-416a-edfd-ac105c0f0c6b"
      },
      "source": [
        "%time u, s, v = decomposition.randomized_svd(vectors, 10)"
      ],
      "execution_count": 167,
      "outputs": [
        {
          "output_type": "stream",
          "text": [
            "CPU times: user 7.74 s, sys: 2.13 s, total: 9.87 s\n",
            "Wall time: 5.13 s\n"
          ],
          "name": "stdout"
        }
      ]
    },
    {
      "cell_type": "code",
      "metadata": {
        "id": "6HnScm9QT-KD",
        "colab_type": "code",
        "colab": {
          "base_uri": "https://localhost:8080/",
          "height": 51
        },
        "outputId": "7e7b36fa-1eec-4dce-c360-68d9b200866e"
      },
      "source": [
        "%time u, s, v = fbpca.pca(vectors, 10)"
      ],
      "execution_count": 168,
      "outputs": [
        {
          "output_type": "stream",
          "text": [
            "CPU times: user 2.56 s, sys: 882 ms, total: 3.44 s\n",
            "Wall time: 1.91 s\n"
          ],
          "name": "stdout"
        }
      ]
    },
    {
      "cell_type": "markdown",
      "metadata": {
        "id": "rVHB4pUPf5RO",
        "colab_type": "text"
      },
      "source": [
        "# Credit"
      ]
    },
    {
      "cell_type": "markdown",
      "metadata": {
        "id": "ZciMME5tf6fZ",
        "colab_type": "text"
      },
      "source": [
        "* https://github.com/fastai/course-nlp\n",
        "* https://scikit-learn.org/stable/modules/generated/sklearn.datasets.fetch_20newsgroups.html\n",
        "* https://scikit-learn.org/stable/modules/generated/sklearn.feature_extraction.text.CountVectorizer.html\n",
        "* https://scikit-learn.org/stable/modules/generated/sklearn.feature_extraction.text.TfidfVectorizer.html\n",
        "* https://docs.scipy.org/doc/scipy/reference/generated/scipy.linalg.svd.html\n",
        "* https://scikit-learn.org/stable/modules/generated/sklearn.decomposition.NMF.html\n",
        "* https://research.fb.com/fast-randomized-svd/"
      ]
    },
    {
      "cell_type": "code",
      "metadata": {
        "id": "0cg_EXc4f7vq",
        "colab_type": "code",
        "colab": {}
      },
      "source": [
        ""
      ],
      "execution_count": 0,
      "outputs": []
    }
  ]
}