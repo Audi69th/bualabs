{
  "nbformat": 4,
  "nbformat_minor": 0,
  "metadata": {
    "colab": {
      "name": "26c-lsa-svd-nmf.ipynb",
      "provenance": []
    },
    "kernelspec": {
      "name": "python3",
      "display_name": "Python 3"
    }
  },
  "cells": [
    {
      "cell_type": "code",
      "metadata": {
        "id": "ZpjWCafutZ8o",
        "colab_type": "code",
        "colab": {}
      },
      "source": [
        "import numpy as np\n",
        "from sklearn.datasets import fetch_20newsgroups\n",
        "from sklearn import decomposition\n",
        "from scipy import linalg\n",
        "import matplotlib.pyplot as plt"
      ],
      "execution_count": 0,
      "outputs": []
    },
    {
      "cell_type": "code",
      "metadata": {
        "id": "ESE4TYintwn0",
        "colab_type": "code",
        "colab": {}
      },
      "source": [
        "%matplotlib inline\n",
        "np.set_printoptions(suppress=True)"
      ],
      "execution_count": 0,
      "outputs": []
    },
    {
      "cell_type": "code",
      "metadata": {
        "id": "WuWP6EWctx7b",
        "colab_type": "code",
        "colab": {
          "base_uri": "https://localhost:8080/",
          "height": 51
        },
        "outputId": "1db927ec-b398-4ed8-e926-1660eb8d2da9"
      },
      "source": [
        "categories = ['alt.atheism', 'talk.religion.misc', 'comp.graphics', 'sci.space']\n",
        "remove = ('headers', 'footers', 'quotes')\n",
        "newsgroups_train = fetch_20newsgroups(subset='train', categories=categories, remove=remove)\n",
        "newsgroups_test = fetch_20newsgroups(subset='test', categories=categories, remove=remove)"
      ],
      "execution_count": 3,
      "outputs": [
        {
          "output_type": "stream",
          "text": [
            "Downloading 20news dataset. This may take a few minutes.\n",
            "Downloading dataset from https://ndownloader.figshare.com/files/5975967 (14 MB)\n"
          ],
          "name": "stderr"
        }
      ]
    },
    {
      "cell_type": "code",
      "metadata": {
        "id": "BvUazc9ctzcu",
        "colab_type": "code",
        "colab": {
          "base_uri": "https://localhost:8080/",
          "height": 34
        },
        "outputId": "0a477320-2eec-4b67-b888-5d21f00af5b6"
      },
      "source": [
        "newsgroups_train.filenames.shape, newsgroups_train.target.shape"
      ],
      "execution_count": 4,
      "outputs": [
        {
          "output_type": "execute_result",
          "data": {
            "text/plain": [
              "((2034,), (2034,))"
            ]
          },
          "metadata": {
            "tags": []
          },
          "execution_count": 4
        }
      ]
    },
    {
      "cell_type": "code",
      "metadata": {
        "id": "kGv_bfJJt0mF",
        "colab_type": "code",
        "colab": {
          "base_uri": "https://localhost:8080/",
          "height": 1000
        },
        "outputId": "b9d45ecb-32d7-4be9-9526-9642a635fab3"
      },
      "source": [
        "print(\"\\n------------------\\n\".join(newsgroups_train.data[:7]))"
      ],
      "execution_count": 5,
      "outputs": [
        {
          "output_type": "stream",
          "text": [
            "Hi,\n",
            "\n",
            "I've noticed that if you only save a model (with all your mapping planes\n",
            "positioned carefully) to a .3DS file that when you reload it after restarting\n",
            "3DS, they are given a default position and orientation.  But if you save\n",
            "to a .PRJ file their positions/orientation are preserved.  Does anyone\n",
            "know why this information is not stored in the .3DS file?  Nothing is\n",
            "explicitly said in the manual about saving texture rules in the .PRJ file. \n",
            "I'd like to be able to read the texture rule information, does anyone have \n",
            "the format for the .PRJ file?\n",
            "\n",
            "Is the .CEL file format available from somewhere?\n",
            "\n",
            "Rych\n",
            "------------------\n",
            "\n",
            "\n",
            "Seems to be, barring evidence to the contrary, that Koresh was simply\n",
            "another deranged fanatic who thought it neccessary to take a whole bunch of\n",
            "folks with him, children and all, to satisfy his delusional mania. Jim\n",
            "Jones, circa 1993.\n",
            "\n",
            "\n",
            "Nope - fruitcakes like Koresh have been demonstrating such evil corruption\n",
            "for centuries.\n",
            "------------------\n",
            "\n",
            " >In article <1993Apr19.020359.26996@sq.sq.com>, msb@sq.sq.com (Mark Brader) \n",
            "\n",
            "MB>                                                             So the\n",
            "MB> 1970 figure seems unlikely to actually be anything but a perijove.\n",
            "\n",
            "JG>Sorry, _perijoves_...I'm not used to talking this language.\n",
            "\n",
            "Couldn't we just say periapsis or apoapsis?\n",
            "\n",
            " \n",
            "------------------\n",
            "I have a request for those who would like to see Charley Wingate\n",
            "respond to the \"Charley Challenges\" (and judging from my e-mail, there\n",
            "appear to be quite a few of you.)  \n",
            "\n",
            "It is clear that Mr. Wingate intends to continue to post tangential or\n",
            "unrelated articles while ingoring the Challenges themselves.  Between\n",
            "the last two re-postings of the Challenges, I noted perhaps a dozen or\n",
            "more posts by Mr. Wingate, none of which answered a single Challenge.  \n",
            "\n",
            "It seems unmistakable to me that Mr. Wingate hopes that the questions\n",
            "will just go away, and he is doing his level best to change the\n",
            "subject.  Given that this seems a rather common net.theist tactic, I\n",
            "would like to suggest that we impress upon him our desire for answers,\n",
            "in the following manner:\n",
            "\n",
            "1. Ignore any future articles by Mr. Wingate that do not address the\n",
            "Challenges, until he answers them or explictly announces that he\n",
            "refuses to do so.\n",
            "\n",
            "--or--\n",
            "\n",
            "2. If you must respond to one of his articles, include within it\n",
            "something similar to the following:\n",
            "\n",
            "    \"Please answer the questions posed to you in the Charley Challenges.\"\n",
            "\n",
            "Really, I'm not looking to humiliate anyone here, I just want some\n",
            "honest answers.  You wouldn't think that honesty would be too much to\n",
            "ask from a devout Christian, would you?  \n",
            "\n",
            "Nevermind, that was a rhetorical question.\n",
            "------------------\n",
            "AW&ST  had a brief blurb on a Manned Lunar Exploration confernce\n",
            "May 7th  at Crystal City Virginia, under the auspices of AIAA.\n",
            "\n",
            "Does anyone know more about this?  How much, to attend????\n",
            "\n",
            "Anyone want to go?\n",
            "------------------\n",
            "\n",
            "There are definitely quite a few horrible deaths as the result of both\n",
            "atheists AND theists.  I'm sure Bobby can list quite a few for the atheist\n",
            "side but fails to recognize that the theists are equally proficient at\n",
            "genocide.  Perhaps, since I'm a bit weak on history, somone here would like\n",
            "to give a list of wars caused/led by theists?  I can think of a few (Hitler\n",
            "claimed to be a Christian for example) but a more complete list would\n",
            "probably be more effective in showing Bobby just how absurd his statement\n",
            "is.\n",
            "\n",
            "\n",
            "On a side note, I notice you always sign your posts \"Peace\".  Perhaps you\n",
            "should take your own advice and leave the atheists in peace with their\n",
            "beliefs?\n",
            "\n",
            "\n",
            "Nanci\n",
            "------------------\n",
            "Mark Prado\n",
            "  \n",
            "  \n",
            "Old pioneer song from the 1850's or so goes as follows:\n",
            "  \n",
            "  \"In a cavern, in a canyon,\n",
            "   Excavating for a mine,\n",
            "   Dwelt a miner, forty-niner,\n",
            "   And his daughter, CLEMENTINE\"\n",
            "  \n",
            "Chorus:\n",
            "  \"Oh my darling, Oh my darling,\n",
            "   Oh my darling Clementine.\n",
            "   You are lost and gone forever,\n",
            "   Oh my darling Clementine.\"\n",
            "  \n",
            " I've also had it explained (but not confirmed from a reliable data\n",
            "source) that CLEMENTINE is an acronym.  Something like Combined\n",
            "Lunar Elemental Mapper Experiment on Extended Non Terrestrial\n",
            "Intercept Near Earth.  Personally, I think that acronym was made up\n",
            "to fit the name (if it really is an acronym).\n",
            " ------------------------------------------------------------------\n",
            " Wales Larrison                           Space Technology Investor\n"
          ],
          "name": "stdout"
        }
      ]
    },
    {
      "cell_type": "code",
      "metadata": {
        "id": "d38Mb5Y2t2jD",
        "colab_type": "code",
        "colab": {
          "base_uri": "https://localhost:8080/",
          "height": 51
        },
        "outputId": "46454280-5b34-4f80-e552-d6a18f269a27"
      },
      "source": [
        "np.array(newsgroups_train.target_names)[newsgroups_train.target[:7]]"
      ],
      "execution_count": 6,
      "outputs": [
        {
          "output_type": "execute_result",
          "data": {
            "text/plain": [
              "array(['comp.graphics', 'talk.religion.misc', 'sci.space', 'alt.atheism',\n",
              "       'sci.space', 'alt.atheism', 'sci.space'], dtype='<U18')"
            ]
          },
          "metadata": {
            "tags": []
          },
          "execution_count": 6
        }
      ]
    },
    {
      "cell_type": "code",
      "metadata": {
        "id": "U2hRtBfht4PQ",
        "colab_type": "code",
        "colab": {
          "base_uri": "https://localhost:8080/",
          "height": 34
        },
        "outputId": "25802afc-759a-4b72-88f0-bae9da969b4a"
      },
      "source": [
        "newsgroups_train.target[:7]"
      ],
      "execution_count": 7,
      "outputs": [
        {
          "output_type": "execute_result",
          "data": {
            "text/plain": [
              "array([1, 3, 2, 0, 2, 0, 2])"
            ]
          },
          "metadata": {
            "tags": []
          },
          "execution_count": 7
        }
      ]
    },
    {
      "cell_type": "code",
      "metadata": {
        "id": "w1OSRlU1uDH2",
        "colab_type": "code",
        "colab": {}
      },
      "source": [
        ""
      ],
      "execution_count": 0,
      "outputs": []
    },
    {
      "cell_type": "code",
      "metadata": {
        "id": "Xx5R1_7ZuC8q",
        "colab_type": "code",
        "colab": {}
      },
      "source": [
        ""
      ],
      "execution_count": 0,
      "outputs": []
    },
    {
      "cell_type": "code",
      "metadata": {
        "id": "zHPL6jX4t6yj",
        "colab_type": "code",
        "colab": {}
      },
      "source": [
        "from sklearn.feature_extraction.text import CountVectorizer, TfidfVectorizer"
      ],
      "execution_count": 0,
      "outputs": []
    },
    {
      "cell_type": "code",
      "metadata": {
        "id": "NfKnzNvNuB_u",
        "colab_type": "code",
        "colab": {
          "base_uri": "https://localhost:8080/",
          "height": 102
        },
        "outputId": "3cc3e0f5-d9f8-4fb7-c046-527096ba47f6"
      },
      "source": [
        "import nltk\n",
        "nltk.download('punkt')\n",
        "nltk.download('wordnet')"
      ],
      "execution_count": 9,
      "outputs": [
        {
          "output_type": "stream",
          "text": [
            "[nltk_data] Downloading package punkt to /root/nltk_data...\n",
            "[nltk_data]   Unzipping tokenizers/punkt.zip.\n",
            "[nltk_data] Downloading package wordnet to /root/nltk_data...\n",
            "[nltk_data]   Unzipping corpora/wordnet.zip.\n"
          ],
          "name": "stdout"
        },
        {
          "output_type": "execute_result",
          "data": {
            "text/plain": [
              "True"
            ]
          },
          "metadata": {
            "tags": []
          },
          "execution_count": 9
        }
      ]
    },
    {
      "cell_type": "code",
      "metadata": {
        "id": "kaj82pB4uo81",
        "colab_type": "code",
        "colab": {}
      },
      "source": [
        "from nltk import word_tokenize, stem\n",
        "\n",
        "class LemmaTokenizer(object):\n",
        "    def __init__(self):\n",
        "        self.wnl = stem.WordNetLemmatizer()\n",
        "    def __call__(self, doc):\n",
        "        return [self.wnl.lemmatize(t) for t in word_tokenize(doc)]"
      ],
      "execution_count": 0,
      "outputs": []
    },
    {
      "cell_type": "code",
      "metadata": {
        "id": "oiKmluWSuqO8",
        "colab_type": "code",
        "colab": {}
      },
      "source": [
        "# vectorizer = CountVectorizer(stop_words='english') #, tokenizer=LemmaTokenizer())\n",
        "vectorizer = CountVectorizer(stop_words='english', tokenizer=LemmaTokenizer())"
      ],
      "execution_count": 0,
      "outputs": []
    },
    {
      "cell_type": "code",
      "metadata": {
        "id": "zdWR4AJkurig",
        "colab_type": "code",
        "colab": {
          "base_uri": "https://localhost:8080/",
          "height": 88
        },
        "outputId": "bd5b5652-501c-467f-8125-cfbf5944d40a"
      },
      "source": [
        "vectors = vectorizer.fit_transform(newsgroups_train.data).todense() # (documents, vocab)\n",
        "vectors.shape #, vectors.nnz / vectors.shape[0], row_means.shape"
      ],
      "execution_count": 12,
      "outputs": [
        {
          "output_type": "stream",
          "text": [
            "/usr/local/lib/python3.6/dist-packages/sklearn/feature_extraction/text.py:300: UserWarning: Your stop_words may be inconsistent with your preprocessing. Tokenizing the stop words generated tokens ['ha', 'le', 'u', 'wa'] not in stop_words.\n",
            "  'stop_words.' % sorted(inconsistent))\n"
          ],
          "name": "stderr"
        },
        {
          "output_type": "execute_result",
          "data": {
            "text/plain": [
              "(2034, 29522)"
            ]
          },
          "metadata": {
            "tags": []
          },
          "execution_count": 12
        }
      ]
    },
    {
      "cell_type": "code",
      "metadata": {
        "id": "MUOzGt0Cu31C",
        "colab_type": "code",
        "colab": {
          "base_uri": "https://localhost:8080/",
          "height": 34
        },
        "outputId": "a1d84e3b-d1df-4fba-e1a2-eeb097401dbf"
      },
      "source": [
        "print(len(newsgroups_train.data), vectors.shape)"
      ],
      "execution_count": 13,
      "outputs": [
        {
          "output_type": "stream",
          "text": [
            "2034 (2034, 29522)\n"
          ],
          "name": "stdout"
        }
      ]
    },
    {
      "cell_type": "code",
      "metadata": {
        "id": "Vg-riN5tvIxw",
        "colab_type": "code",
        "colab": {
          "base_uri": "https://localhost:8080/",
          "height": 34
        },
        "outputId": "21609067-f3fd-49d7-e75d-c896b0cec0ff"
      },
      "source": [
        "vocab = np.array(vectorizer.get_feature_names())\n",
        "vocab.shape"
      ],
      "execution_count": 14,
      "outputs": [
        {
          "output_type": "execute_result",
          "data": {
            "text/plain": [
              "(29522,)"
            ]
          },
          "metadata": {
            "tags": []
          },
          "execution_count": 14
        }
      ]
    },
    {
      "cell_type": "code",
      "metadata": {
        "id": "nsVD05DyvTgg",
        "colab_type": "code",
        "colab": {
          "base_uri": "https://localhost:8080/",
          "height": 102
        },
        "outputId": "88f2919f-dcd7-42fc-f81f-179d47ba21e9"
      },
      "source": [
        "vocab[7000:7020]"
      ],
      "execution_count": 15,
      "outputs": [
        {
          "output_type": "execute_result",
          "data": {
            "text/plain": [
              "array(['bevelizes', 'bevelled', 'beverly', 'beware', 'bewildered',\n",
              "       'bezier', 'bg', 'bgi', 'bgsu', 'bh', 'bhagavad-gita',\n",
              "       'bhaktivedanta', 'bhava', 'bhavarjuna', 'bhoga',\n",
              "       'bhogaisvarya-prasaktanam', 'bhujwaia', 'bhujwala', 'bhusan', 'bi'],\n",
              "      dtype='<U80')"
            ]
          },
          "metadata": {
            "tags": []
          },
          "execution_count": 15
        }
      ]
    },
    {
      "cell_type": "markdown",
      "metadata": {
        "id": "3EaIGr0XeD8l",
        "colab_type": "text"
      },
      "source": [
        "# 3. Latent Semantic Analysis (LSA) "
      ]
    },
    {
      "cell_type": "markdown",
      "metadata": {
        "id": "ix3N67TcvXPb",
        "colab_type": "text"
      },
      "source": [
        "## 3.1 Singular Value Decomposition (SVD)"
      ]
    },
    {
      "cell_type": "code",
      "metadata": {
        "id": "4t97U38NvYh7",
        "colab_type": "code",
        "colab": {
          "base_uri": "https://localhost:8080/",
          "height": 51
        },
        "outputId": "66c2b6fe-ec03-403e-b8be-6707954499b7"
      },
      "source": [
        "%time U, s, Vh = linalg.svd(vectors, full_matrices=False)"
      ],
      "execution_count": 16,
      "outputs": [
        {
          "output_type": "stream",
          "text": [
            "CPU times: user 1min 24s, sys: 3.81 s, total: 1min 28s\n",
            "Wall time: 45.1 s\n"
          ],
          "name": "stdout"
        }
      ]
    },
    {
      "cell_type": "code",
      "metadata": {
        "id": "XJHubfxpD8aH",
        "colab_type": "code",
        "colab": {
          "base_uri": "https://localhost:8080/",
          "height": 34
        },
        "outputId": "343b87c4-13bc-402d-b3c2-c984ba58929f"
      },
      "source": [
        "print(U.shape, s.shape, Vh.shape)"
      ],
      "execution_count": 17,
      "outputs": [
        {
          "output_type": "stream",
          "text": [
            "(2034, 2034) (2034,) (2034, 29522)\n"
          ],
          "name": "stdout"
        }
      ]
    },
    {
      "cell_type": "code",
      "metadata": {
        "id": "LlSuiOUmdehM",
        "colab_type": "code",
        "colab": {
          "base_uri": "https://localhost:8080/",
          "height": 34
        },
        "outputId": "49aa4509-e3c7-4496-8423-55408a7d9ff9"
      },
      "source": [
        "s[:4]"
      ],
      "execution_count": 18,
      "outputs": [
        {
          "output_type": "execute_result",
          "data": {
            "text/plain": [
              "array([2315.78743948,  852.39468462,  559.29648773,  395.2248853 ])"
            ]
          },
          "metadata": {
            "tags": []
          },
          "execution_count": 18
        }
      ]
    },
    {
      "cell_type": "code",
      "metadata": {
        "id": "sinVIEw0df4P",
        "colab_type": "code",
        "colab": {
          "base_uri": "https://localhost:8080/",
          "height": 85
        },
        "outputId": "11a32e0f-c5f6-43c7-e07f-b45ecbb03224"
      },
      "source": [
        "np.diag(s[:4])"
      ],
      "execution_count": 19,
      "outputs": [
        {
          "output_type": "execute_result",
          "data": {
            "text/plain": [
              "array([[2315.78743948,    0.        ,    0.        ,    0.        ],\n",
              "       [   0.        ,  852.39468462,    0.        ,    0.        ],\n",
              "       [   0.        ,    0.        ,  559.29648773,    0.        ],\n",
              "       [   0.        ,    0.        ,    0.        ,  395.2248853 ]])"
            ]
          },
          "metadata": {
            "tags": []
          },
          "execution_count": 19
        }
      ]
    },
    {
      "cell_type": "code",
      "metadata": {
        "id": "oAU5dyNGdhh0",
        "colab_type": "code",
        "colab": {
          "base_uri": "https://localhost:8080/",
          "height": 34
        },
        "outputId": "22ee69f3-6f7f-41bd-8ce4-ac6de75e31aa"
      },
      "source": [
        "np.diag(np.diag(s[:4]))"
      ],
      "execution_count": 20,
      "outputs": [
        {
          "output_type": "execute_result",
          "data": {
            "text/plain": [
              "array([2315.78743948,  852.39468462,  559.29648773,  395.2248853 ])"
            ]
          },
          "metadata": {
            "tags": []
          },
          "execution_count": 20
        }
      ]
    },
    {
      "cell_type": "code",
      "metadata": {
        "id": "CQPGi-XJdjCr",
        "colab_type": "code",
        "colab": {}
      },
      "source": [
        "#Exercise: confrim that U, s, Vh is a decomposition of `vectors`\n",
        "b = np.matmul(U, np.diag(s))\n",
        "x = np.matmul(b, Vh)\n"
      ],
      "execution_count": 0,
      "outputs": []
    },
    {
      "cell_type": "code",
      "metadata": {
        "id": "pmQ90fq5dmBV",
        "colab_type": "code",
        "colab": {
          "base_uri": "https://localhost:8080/",
          "height": 34
        },
        "outputId": "22cd2436-96a2-4a87-8bb4-286faed5b2a4"
      },
      "source": [
        "np.all(np.isclose(x, vectors))"
      ],
      "execution_count": 22,
      "outputs": [
        {
          "output_type": "execute_result",
          "data": {
            "text/plain": [
              "True"
            ]
          },
          "metadata": {
            "tags": []
          },
          "execution_count": 22
        }
      ]
    },
    {
      "cell_type": "code",
      "metadata": {
        "id": "YBwAZNqwdn4H",
        "colab_type": "code",
        "colab": {
          "base_uri": "https://localhost:8080/",
          "height": 187
        },
        "outputId": "08a05fd8-e066-4410-b84f-facd10701919"
      },
      "source": [
        "#Exercise: Confirm that U, Vh are orthonormal\n",
        "x = np.matmul(U, U.T)\n",
        "x[:10, :10]"
      ],
      "execution_count": 23,
      "outputs": [
        {
          "output_type": "execute_result",
          "data": {
            "text/plain": [
              "array([[ 1.,  0., -0., -0., -0.,  0.,  0., -0., -0., -0.],\n",
              "       [ 0.,  1., -0.,  0.,  0., -0., -0., -0.,  0., -0.],\n",
              "       [-0., -0.,  1., -0.,  0.,  0., -0., -0., -0.,  0.],\n",
              "       [-0.,  0., -0.,  1.,  0.,  0.,  0.,  0., -0., -0.],\n",
              "       [-0.,  0.,  0.,  0.,  1.,  0.,  0., -0., -0., -0.],\n",
              "       [ 0., -0.,  0.,  0.,  0.,  1.,  0.,  0., -0.,  0.],\n",
              "       [ 0., -0., -0.,  0.,  0.,  0.,  1., -0., -0., -0.],\n",
              "       [-0., -0., -0.,  0., -0.,  0., -0.,  1., -0.,  0.],\n",
              "       [-0.,  0., -0., -0., -0., -0., -0., -0.,  1.,  0.],\n",
              "       [-0., -0.,  0., -0., -0.,  0., -0.,  0.,  0.,  1.]])"
            ]
          },
          "metadata": {
            "tags": []
          },
          "execution_count": 23
        }
      ]
    },
    {
      "cell_type": "code",
      "metadata": {
        "id": "pSauvzW1dqTF",
        "colab_type": "code",
        "colab": {
          "base_uri": "https://localhost:8080/",
          "height": 187
        },
        "outputId": "d3ac2bdf-20c0-428c-9f12-f65118fbee12"
      },
      "source": [
        "x = np.matmul(Vh, Vh.T)\n",
        "x[:10, :10]"
      ],
      "execution_count": 25,
      "outputs": [
        {
          "output_type": "execute_result",
          "data": {
            "text/plain": [
              "array([[ 1., -0., -0.,  0.,  0.,  0., -0.,  0., -0.,  0.],\n",
              "       [-0.,  1., -0., -0., -0.,  0., -0., -0.,  0.,  0.],\n",
              "       [-0., -0.,  1., -0., -0., -0., -0., -0.,  0.,  0.],\n",
              "       [ 0., -0., -0.,  1., -0., -0.,  0., -0., -0.,  0.],\n",
              "       [ 0., -0., -0., -0.,  1.,  0., -0.,  0., -0., -0.],\n",
              "       [ 0.,  0., -0., -0.,  0.,  1., -0., -0., -0., -0.],\n",
              "       [-0., -0., -0.,  0., -0., -0.,  1., -0., -0., -0.],\n",
              "       [ 0., -0., -0., -0.,  0., -0., -0.,  1.,  0., -0.],\n",
              "       [-0.,  0.,  0., -0., -0., -0., -0.,  0.,  1., -0.],\n",
              "       [ 0.,  0.,  0.,  0., -0., -0., -0., -0., -0.,  1.]])"
            ]
          },
          "metadata": {
            "tags": []
          },
          "execution_count": 25
        }
      ]
    },
    {
      "cell_type": "code",
      "metadata": {
        "id": "wOaq7_w1dvzz",
        "colab_type": "code",
        "colab": {
          "base_uri": "https://localhost:8080/",
          "height": 265
        },
        "outputId": "f44223e3-8767-4bd1-fedf-b21c1030c16a"
      },
      "source": [
        "plt.plot(s);"
      ],
      "execution_count": 26,
      "outputs": [
        {
          "output_type": "display_data",
          "data": {
            "image/png": "[encoded data removed]",
            "text/plain": [
              "<Figure size 432x288 with 1 Axes>"
            ]
          },
          "metadata": {
            "tags": []
          }
        }
      ]
    },
    {
      "cell_type": "code",
      "metadata": {
        "id": "in3NBvVKdxtu",
        "colab_type": "code",
        "colab": {
          "base_uri": "https://localhost:8080/",
          "height": 282
        },
        "outputId": "aad3c978-8de0-48f3-b9a8-615c332fd6d7"
      },
      "source": [
        "plt.plot(s[:10])"
      ],
      "execution_count": 27,
      "outputs": [
        {
          "output_type": "execute_result",
          "data": {
            "text/plain": [
              "[<matplotlib.lines.Line2D at 0x7f0726842828>]"
            ]
          },
          "metadata": {
            "tags": []
          },
          "execution_count": 27
        },
        {
          "output_type": "display_data",
          "data": {
            "image/png": "[encoded data removed]",
            "text/plain": [
              "<Figure size 432x288 with 1 Axes>"
            ]
          },
          "metadata": {
            "tags": []
          }
        }
      ]
    },
    {
      "cell_type": "code",
      "metadata": {
        "id": "ckPnHpUWdzS1",
        "colab_type": "code",
        "colab": {}
      },
      "source": [
        "num_top_words=8\n",
        "\n",
        "def show_topics(a):\n",
        "    top_words = lambda t: [vocab[i] for i in np.argsort(t)[:-num_top_words-1:-1]]\n",
        "    topic_words = ([top_words(t) for t in a])\n",
        "    return [' '.join(t) for t in topic_words]"
      ],
      "execution_count": 0,
      "outputs": []
    },
    {
      "cell_type": "code",
      "metadata": {
        "id": "GtW9Mi4Ed03h",
        "colab_type": "code",
        "colab": {
          "base_uri": "https://localhost:8080/",
          "height": 187
        },
        "outputId": "bf1c29e9-3b01-4626-ef66-7ee1324191ee"
      },
      "source": [
        "show_topics(Vh[:10])"
      ],
      "execution_count": 29,
      "outputs": [
        {
          "output_type": "execute_result",
          "data": {
            "text/plain": [
              "['critus vpic60 ahhh alt.autotheism ditto yeager present.. rigth..',\n",
              " \", . '' `` jpeg wa jesus n't\",\n",
              " ': ) ( $ - ; @ =',\n",
              " \": '' `` . god atheist jesus >\",\n",
              " '. jpeg image file gif : format ?',\n",
              " '- : , [ image ] @ file',\n",
              " \"- @ [ ] > . < ''\",\n",
              " '; > ] [ = jpeg , image',\n",
              " '; > launch = . satellite space den',\n",
              " '? . jesus > ) + ( #']"
            ]
          },
          "metadata": {
            "tags": []
          },
          "execution_count": 29
        }
      ]
    },
    {
      "cell_type": "markdown",
      "metadata": {
        "id": "LBdks3s7d22E",
        "colab_type": "text"
      },
      "source": [
        "## 3.2 Non-negative Matrix Factorization (NMF)"
      ]
    },
    {
      "cell_type": "code",
      "metadata": {
        "id": "0BVVYRvsd6vY",
        "colab_type": "code",
        "colab": {}
      },
      "source": [
        "m,n=vectors.shape\n",
        "d=5  # num topics"
      ],
      "execution_count": 0,
      "outputs": []
    },
    {
      "cell_type": "code",
      "metadata": {
        "id": "OTMmzTuyf402",
        "colab_type": "code",
        "colab": {}
      },
      "source": [
        "clf = decomposition.NMF(n_components=d, random_state=1)\n",
        "\n",
        "W1 = clf.fit_transform(vectors)\n",
        "H1 = clf.components_"
      ],
      "execution_count": 0,
      "outputs": []
    },
    {
      "cell_type": "code",
      "metadata": {
        "id": "on-kDnyHf5Ek",
        "colab_type": "code",
        "colab": {}
      },
      "source": [
        "show_topics(H1)"
      ],
      "execution_count": 0,
      "outputs": []
    },
    {
      "cell_type": "markdown",
      "metadata": {
        "id": "JpWplOFfTZBH",
        "colab_type": "text"
      },
      "source": [
        "# TF-IDF"
      ]
    },
    {
      "cell_type": "code",
      "metadata": {
        "id": "kEWCNGRiTZIA",
        "colab_type": "code",
        "colab": {}
      },
      "source": [
        "vectorizer_tfidf = TfidfVectorizer(stop_words='english')\n",
        "vectors_tfidf = vectorizer_tfidf.fit_transform(newsgroups_train.data) # (documents, vocab)"
      ],
      "execution_count": 0,
      "outputs": []
    },
    {
      "cell_type": "code",
      "metadata": {
        "id": "DMNUmxcwTZNA",
        "colab_type": "code",
        "colab": {}
      },
      "source": [
        "newsgroups_train.data[10:20]"
      ],
      "execution_count": 0,
      "outputs": []
    },
    {
      "cell_type": "code",
      "metadata": {
        "id": "eUOSdcOpTZRu",
        "colab_type": "code",
        "colab": {}
      },
      "source": [
        "W1 = clf.fit_transform(vectors_tfidf)\n",
        "H1 = clf.components_"
      ],
      "execution_count": 0,
      "outputs": []
    },
    {
      "cell_type": "code",
      "metadata": {
        "id": "4RdyvdcKTZXf",
        "colab_type": "code",
        "colab": {}
      },
      "source": [
        "show_topics(H1)"
      ],
      "execution_count": 0,
      "outputs": []
    },
    {
      "cell_type": "code",
      "metadata": {
        "id": "0VCWRUkqTZb5",
        "colab_type": "code",
        "colab": {}
      },
      "source": [
        "plt.plot(clf.components_[0])"
      ],
      "execution_count": 0,
      "outputs": []
    },
    {
      "cell_type": "code",
      "metadata": {
        "id": "7yEm01VNTZgn",
        "colab_type": "code",
        "colab": {}
      },
      "source": [
        "clf.reconstruction_err_"
      ],
      "execution_count": 0,
      "outputs": []
    },
    {
      "cell_type": "markdown",
      "metadata": {
        "id": "dFY-XdpuTzAV",
        "colab_type": "text"
      },
      "source": [
        "# Truncated SVD"
      ]
    },
    {
      "cell_type": "code",
      "metadata": {
        "id": "SUYdHBrCTzMd",
        "colab_type": "code",
        "colab": {}
      },
      "source": [
        "%time u, s, v = np.linalg.svd(vectors, full_matrices=False)"
      ],
      "execution_count": 0,
      "outputs": []
    },
    {
      "cell_type": "code",
      "metadata": {
        "id": "POoNSniPTzTo",
        "colab_type": "code",
        "colab": {}
      },
      "source": [
        "from sklearn import decomposition\n",
        "import fbpca"
      ],
      "execution_count": 0,
      "outputs": []
    },
    {
      "cell_type": "code",
      "metadata": {
        "id": "Ela5c310T-FJ",
        "colab_type": "code",
        "colab": {}
      },
      "source": [
        "%time u, s, v = decomposition.randomized_svd(vectors, 10)"
      ],
      "execution_count": 0,
      "outputs": []
    },
    {
      "cell_type": "code",
      "metadata": {
        "id": "6HnScm9QT-KD",
        "colab_type": "code",
        "colab": {}
      },
      "source": [
        "%time u, s, v = fbpca.pca(vectors, 10)"
      ],
      "execution_count": 0,
      "outputs": []
    },
    {
      "cell_type": "markdown",
      "metadata": {
        "id": "rVHB4pUPf5RO",
        "colab_type": "text"
      },
      "source": [
        "# Credit"
      ]
    },
    {
      "cell_type": "markdown",
      "metadata": {
        "id": "ZciMME5tf6fZ",
        "colab_type": "text"
      },
      "source": [
        "* https://github.com/fastai/course-nlp\n",
        "* https://scikit-learn.org/stable/modules/generated/sklearn.datasets.fetch_20newsgroups.html\n",
        "* https://scikit-learn.org/stable/modules/generated/sklearn.feature_extraction.text.CountVectorizer.html\n",
        "* https://scikit-learn.org/stable/modules/generated/sklearn.feature_extraction.text.TfidfVectorizer.html\n",
        "* https://docs.scipy.org/doc/scipy/reference/generated/scipy.linalg.svd.html\n",
        "* https://scikit-learn.org/stable/modules/generated/sklearn.decomposition.NMF.html\n",
        "* https://research.fb.com/fast-randomized-svd/"
      ]
    },
    {
      "cell_type": "code",
      "metadata": {
        "id": "0cg_EXc4f7vq",
        "colab_type": "code",
        "colab": {}
      },
      "source": [
        ""
      ],
      "execution_count": 0,
      "outputs": []
    }
  ]
}