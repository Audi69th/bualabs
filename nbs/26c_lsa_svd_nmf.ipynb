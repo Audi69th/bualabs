{
  "nbformat": 4,
  "nbformat_minor": 0,
  "metadata": {
    "colab": {
      "name": "26c-lsa-svd-nmf.ipynb",
      "provenance": []
    },
    "kernelspec": {
      "name": "python3",
      "display_name": "Python 3"
    }
  },
  "cells": [
    {
      "cell_type": "markdown",
      "metadata": {
        "id": "BT5F3YmhENn-",
        "colab_type": "text"
      },
      "source": [
        "ใน ep นี้ เราจะมาเรียนรู้ งานจำแนกหมวดหมู่ข้อความ Text Classification ซึ่งเป็นงานพื้นฐานทางด้าน NLP ด้วยการทำ Latent Semantic Analysis (LSA) วิเคราะห์หาความหมายที่แฝงอยู่ในข้อความ โดยใช้เทคนิค Singular Value Decomposition (SVD) และ Non-negative Matrix Factorization (NMF)"
      ]
    },
    {
      "cell_type": "markdown",
      "metadata": {
        "id": "MCIZMLTUzUKP",
        "colab_type": "text"
      },
      "source": [
        "# 1. Import"
      ]
    },
    {
      "cell_type": "code",
      "metadata": {
        "id": "ZpjWCafutZ8o",
        "colab_type": "code",
        "colab": {}
      },
      "source": [
        "import numpy as np\n",
        "from sklearn.datasets import fetch_20newsgroups\n",
        "from sklearn import decomposition\n",
        "from scipy import linalg\n",
        "import matplotlib.pyplot as plt"
      ],
      "execution_count": 0,
      "outputs": []
    },
    {
      "cell_type": "code",
      "metadata": {
        "id": "ESE4TYintwn0",
        "colab_type": "code",
        "colab": {}
      },
      "source": [
        "%matplotlib inline\n",
        "np.set_printoptions(suppress=True)"
      ],
      "execution_count": 0,
      "outputs": []
    },
    {
      "cell_type": "markdown",
      "metadata": {
        "id": "o3FpXzoxzXEa",
        "colab_type": "text"
      },
      "source": [
        "# 2. Dataset"
      ]
    },
    {
      "cell_type": "markdown",
      "metadata": {
        "id": "8ozeG7_fJifg",
        "colab_type": "text"
      },
      "source": [
        "ในเคสนี้เราจะใช้ Dataset เป็นข้อความจาก Newsgroup 4 หมวดหมู่ คือ \n",
        "\n",
        "1. อเทวนิยม\n",
        "1. ศาสนา \n",
        "1. คอมพิวเตอร์กราฟฟิก \n",
        "1. วิทยาศาสตร์ อวกาศ \n",
        "\n",
        "Newsgroup คือ ชุมชนออนไลน์ เหมือน Webboard ในยุค 80 ก่อนที่ www จะเป็นที่นิยม"
      ]
    },
    {
      "cell_type": "code",
      "metadata": {
        "id": "WuWP6EWctx7b",
        "colab_type": "code",
        "colab": {}
      },
      "source": [
        "categories = ['alt.atheism', 'talk.religion.misc', 'comp.graphics', 'sci.space']\n",
        "remove = ('headers', 'footers', 'quotes')\n",
        "newsgroups_train = fetch_20newsgroups(subset='train', categories=categories, remove=remove)\n",
        "newsgroups_test = fetch_20newsgroups(subset='test', categories=categories, remove=remove)"
      ],
      "execution_count": 0,
      "outputs": []
    },
    {
      "cell_type": "markdown",
      "metadata": {
        "id": "h-cJXk5SJ9hE",
        "colab_type": "text"
      },
      "source": [
        "ดูตัวอย่างข้อมูล มีจำนวน 2034 Record"
      ]
    },
    {
      "cell_type": "code",
      "metadata": {
        "id": "BvUazc9ctzcu",
        "colab_type": "code",
        "colab": {
          "base_uri": "https://localhost:8080/",
          "height": 34
        },
        "outputId": "a405c414-fb7b-4a14-d8b6-9f752ac70e26"
      },
      "source": [
        "newsgroups_train.filenames.shape, newsgroups_train.target.shape"
      ],
      "execution_count": 49,
      "outputs": [
        {
          "output_type": "execute_result",
          "data": {
            "text/plain": [
              "((2034,), (2034,))"
            ]
          },
          "metadata": {
            "tags": []
          },
          "execution_count": 49
        }
      ]
    },
    {
      "cell_type": "markdown",
      "metadata": {
        "id": "OIGWrcrNKblb",
        "colab_type": "text"
      },
      "source": [
        "ชื่อไฟล์"
      ]
    },
    {
      "cell_type": "code",
      "metadata": {
        "id": "cHqhFd0xKFpf",
        "colab_type": "code",
        "colab": {
          "base_uri": "https://localhost:8080/",
          "height": 85
        },
        "outputId": "443e774f-8157-47ad-9f3d-e9d3ea715618"
      },
      "source": [
        "newsgroups_train.filenames[1200:1203]"
      ],
      "execution_count": 104,
      "outputs": [
        {
          "output_type": "execute_result",
          "data": {
            "text/plain": [
              "array(['/root/scikit_learn_data/20news_home/20news-bydate-train/comp.graphics/37937',\n",
              "       '/root/scikit_learn_data/20news_home/20news-bydate-train/alt.atheism/51124',\n",
              "       '/root/scikit_learn_data/20news_home/20news-bydate-train/sci.space/60964'],\n",
              "      dtype='<U86')"
            ]
          },
          "metadata": {
            "tags": []
          },
          "execution_count": 104
        }
      ]
    },
    {
      "cell_type": "markdown",
      "metadata": {
        "id": "o1mHB-7ZKjXW",
        "colab_type": "text"
      },
      "source": [
        "ดูตัวอย่างเนื้อหา 3 ข้อความ"
      ]
    },
    {
      "cell_type": "code",
      "metadata": {
        "id": "kGv_bfJJt0mF",
        "colab_type": "code",
        "colab": {
          "base_uri": "https://localhost:8080/",
          "height": 527
        },
        "outputId": "81e5aafa-561b-4b6c-e8c3-1b782a8194e8"
      },
      "source": [
        "print(\"\\n============================\\n\".join(newsgroups_train.data[1200:1203]))"
      ],
      "execution_count": 50,
      "outputs": [
        {
          "output_type": "stream",
          "text": [
            "\n",
            "\n",
            "\n",
            "I sure did use version 3.2. It works fine with most software but NOT\n",
            "with Animator Pro and that one is quite important to me. Pretty\n",
            "useless program without that thing working IMHO.\n",
            "So I hope the author can fix that.\n",
            "\n",
            "/Daniel...\n",
            "\n",
            "\n",
            "\n",
            "============================\n",
            " \n",
            " \n",
            "It was no criticism of Islam for a change, it was a criticism of the\n",
            "arguments used. Namely, whenever people you identify as Muslims are\n",
            "the victims of the attacks of others, they are used an argument for\n",
            "the bad situation of Muslims. But whenever deeds by Muslim that victimize\n",
            "others are named, they do not count as an argument because what these\n",
            "people did was not done as a true Muslims. No mention is made how Muslims\n",
            "are the cause of a bad situation of another party.\n",
            "============================\n",
            "\n",
            "\n",
            "Hmmmm....  The prefix \"peri-\" is Greek, not Latin, so it's usually used\n",
            "with the Greek form of the name of the body being orbited.  (That's why\n",
            "it's \"perihelion\" rather than \"perisol\", \"perigee\" rather than \"periterr\",\n",
            "and \"pericynthion\" rather than \"perilune\".)  So for Jupiter I'd expect it\n",
            "to be something like \"perizeon\".)   :^)\n"
          ],
          "name": "stdout"
        }
      ]
    },
    {
      "cell_type": "markdown",
      "metadata": {
        "id": "kOJNb_4mKnf0",
        "colab_type": "text"
      },
      "source": [
        "รหัส Category ของ 3 ข้อความด้านบน"
      ]
    },
    {
      "cell_type": "code",
      "metadata": {
        "id": "U2hRtBfht4PQ",
        "colab_type": "code",
        "colab": {
          "base_uri": "https://localhost:8080/",
          "height": 34
        },
        "outputId": "1c034860-2882-4057-e4d0-3d8918250bf8"
      },
      "source": [
        "newsgroups_train.target[1200:1203]"
      ],
      "execution_count": 52,
      "outputs": [
        {
          "output_type": "execute_result",
          "data": {
            "text/plain": [
              "array([1, 0, 2])"
            ]
          },
          "metadata": {
            "tags": []
          },
          "execution_count": 52
        }
      ]
    },
    {
      "cell_type": "markdown",
      "metadata": {
        "id": "grwo-3HwKlmX",
        "colab_type": "text"
      },
      "source": [
        "3 ข้อความด้านบน อยู่ Category ไหน"
      ]
    },
    {
      "cell_type": "code",
      "metadata": {
        "id": "d38Mb5Y2t2jD",
        "colab_type": "code",
        "colab": {
          "base_uri": "https://localhost:8080/",
          "height": 34
        },
        "outputId": "f9a4da82-99ec-4bba-9ca1-cb83d8089368"
      },
      "source": [
        "np.array(newsgroups_train.target_names)[newsgroups_train.target[1200:1203]]"
      ],
      "execution_count": 51,
      "outputs": [
        {
          "output_type": "execute_result",
          "data": {
            "text/plain": [
              "array(['comp.graphics', 'alt.atheism', 'sci.space'], dtype='<U18')"
            ]
          },
          "metadata": {
            "tags": []
          },
          "execution_count": 51
        }
      ]
    },
    {
      "cell_type": "markdown",
      "metadata": {
        "id": "w1OSRlU1uDH2",
        "colab_type": "text"
      },
      "source": [
        "# 3. Vectorize "
      ]
    },
    {
      "cell_type": "markdown",
      "metadata": {
        "id": "Xx5R1_7ZuC8q",
        "colab_type": "text"
      },
      "source": [
        "ในการจะหาว่าเอกสารนี้เกี่ยวกับเรื่องอะไร เอกสาร 2 เอกสาร เขียนถึงเรื่องราวในหัวข้อเดียวกัน อยู่หมวดหมู่เดียวกัน วิธีที่ง่ายที่สุด ตรงตัวที่สุด คือการนับจำนวนแต่ละคำที่อยู่ในแต่ละเอกสาร แล้วนำมาเปรียบเทียบกันตรง ๆ โดยยังไม่ต้องสนใจลำดับของคำ"
      ]
    },
    {
      "cell_type": "markdown",
      "metadata": {
        "id": "UbWbS6gARkla",
        "colab_type": "text"
      },
      "source": [
        "Import Library ในการนับคำศัพท์"
      ]
    },
    {
      "cell_type": "code",
      "metadata": {
        "id": "zHPL6jX4t6yj",
        "colab_type": "code",
        "colab": {}
      },
      "source": [
        "from sklearn.feature_extraction.text import CountVectorizer, TfidfVectorizer"
      ],
      "execution_count": 0,
      "outputs": []
    },
    {
      "cell_type": "markdown",
      "metadata": {
        "id": "16MIy4XKRwjX",
        "colab_type": "text"
      },
      "source": [
        "ดาวน์โหลด โมเดลภาษา ในที่นี้คือภาษาอังกฤษ"
      ]
    },
    {
      "cell_type": "code",
      "metadata": {
        "id": "NfKnzNvNuB_u",
        "colab_type": "code",
        "colab": {
          "base_uri": "https://localhost:8080/",
          "height": 102
        },
        "outputId": "54895936-1948-4cd4-c4bc-54fcd1c74604"
      },
      "source": [
        "import nltk\n",
        "nltk.download('punkt')\n",
        "nltk.download('wordnet')"
      ],
      "execution_count": 54,
      "outputs": [
        {
          "output_type": "stream",
          "text": [
            "[nltk_data] Downloading package punkt to /root/nltk_data...\n",
            "[nltk_data]   Package punkt is already up-to-date!\n",
            "[nltk_data] Downloading package wordnet to /root/nltk_data...\n",
            "[nltk_data]   Package wordnet is already up-to-date!\n"
          ],
          "name": "stdout"
        },
        {
          "output_type": "execute_result",
          "data": {
            "text/plain": [
              "True"
            ]
          },
          "metadata": {
            "tags": []
          },
          "execution_count": 54
        }
      ]
    },
    {
      "cell_type": "markdown",
      "metadata": {
        "id": "BKhmyaZE6qGk",
        "colab_type": "text"
      },
      "source": [
        "## 3.1 Tokenize and Lemmatize"
      ]
    },
    {
      "cell_type": "markdown",
      "metadata": {
        "id": "bobn7-MvSLk6",
        "colab_type": "text"
      },
      "source": [
        "ประกาศ Class สำหรับทำ Tokenization ข้อความ String ให้เป็น Token พร้อม [Lemmatization](https://www.bualabs.com/archives/2952/what-is-stemming-what-is-lemmatization-different-stemming-lemmatization-nlp-ep-3/) แปลง Token ที่ได้ ให้อยู่ในรูปฟอร์มพื้นฐาน"
      ]
    },
    {
      "cell_type": "code",
      "metadata": {
        "id": "kaj82pB4uo81",
        "colab_type": "code",
        "colab": {}
      },
      "source": [
        "from nltk import word_tokenize, stem\n",
        "\n",
        "class LemmaTokenizer(object):\n",
        "    def __init__(self):\n",
        "        self.wnl = stem.WordNetLemmatizer()\n",
        "    def __call__(self, doc):\n",
        "        return [self.wnl.lemmatize(t) for t in word_tokenize(doc)]"
      ],
      "execution_count": 0,
      "outputs": []
    },
    {
      "cell_type": "markdown",
      "metadata": {
        "id": "sVncHxR866s5",
        "colab_type": "text"
      },
      "source": [
        "## 3.2 Create Matrix of Token Counts"
      ]
    },
    {
      "cell_type": "markdown",
      "metadata": {
        "id": "cWlHW3NAAZI7",
        "colab_type": "text"
      },
      "source": [
        "แปลงรายการข้อความทั้งหมด ให้เป็น Matrix ของ จำนวน Token\n",
        "\n",
        "Matrix 1 Row คือ 1 Vector ข้อความ, มีหลาย ๆ Vector มา Stack กันเป็น Matrix"
      ]
    },
    {
      "cell_type": "code",
      "metadata": {
        "id": "oiKmluWSuqO8",
        "colab_type": "code",
        "colab": {}
      },
      "source": [
        "vectorizer = CountVectorizer(stop_words='english')  # No Lemmatization\n",
        "# vectorizer = CountVectorizer(stop_words='english', tokenizer=LemmaTokenizer()) # Lemmatization"
      ],
      "execution_count": 0,
      "outputs": []
    },
    {
      "cell_type": "markdown",
      "metadata": {
        "id": "G_Imy6rXTFv3",
        "colab_type": "text"
      },
      "source": [
        "ใช้ได้ matrix ขนาด 2034 Row, 26576 Column"
      ]
    },
    {
      "cell_type": "code",
      "metadata": {
        "id": "zdWR4AJkurig",
        "colab_type": "code",
        "colab": {
          "base_uri": "https://localhost:8080/",
          "height": 34
        },
        "outputId": "f32b4e29-e98e-490c-a78c-1325902ad472"
      },
      "source": [
        "vectors = vectorizer.fit_transform(newsgroups_train.data).todense() \n",
        "vectors.shape # (documents, vocab)"
      ],
      "execution_count": 57,
      "outputs": [
        {
          "output_type": "execute_result",
          "data": {
            "text/plain": [
              "(2034, 26576)"
            ]
          },
          "metadata": {
            "tags": []
          },
          "execution_count": 57
        }
      ]
    },
    {
      "cell_type": "markdown",
      "metadata": {
        "id": "sJzAaLVtTexC",
        "colab_type": "text"
      },
      "source": [
        "ดูตัวอย่าง ข้อมูลใน Matrix 20 ข้อความแรก จะเห็นว่า Sparse มาก ๆ ส่วนใหญ่เป็น 0"
      ]
    },
    {
      "cell_type": "code",
      "metadata": {
        "id": "9vc1GwO7Bhk1",
        "colab_type": "code",
        "colab": {
          "base_uri": "https://localhost:8080/",
          "height": 357
        },
        "outputId": "9aedf15b-9e20-4814-fe92-300fff70ff62"
      },
      "source": [
        "vectors[:20, 10280:10299]"
      ],
      "execution_count": 58,
      "outputs": [
        {
          "output_type": "execute_result",
          "data": {
            "text/plain": [
              "matrix([[0, 0, 0, 0, 0, 0, 6, 0, 0, 0, 0, 0, 0, 0, 0, 0, 0, 0, 0],\n",
              "        [0, 0, 0, 0, 0, 0, 0, 0, 0, 0, 0, 0, 0, 0, 0, 0, 0, 0, 0],\n",
              "        [0, 0, 1, 0, 0, 0, 0, 0, 0, 0, 0, 0, 0, 0, 0, 0, 0, 0, 0],\n",
              "        [0, 0, 0, 0, 0, 0, 0, 0, 0, 0, 0, 0, 0, 0, 0, 0, 0, 0, 0],\n",
              "        [0, 0, 0, 0, 0, 0, 0, 0, 0, 0, 0, 0, 0, 0, 0, 0, 0, 0, 0],\n",
              "        [0, 0, 0, 0, 0, 0, 0, 0, 0, 0, 0, 0, 0, 0, 0, 0, 0, 0, 0],\n",
              "        [0, 0, 0, 0, 0, 0, 0, 0, 0, 0, 0, 0, 0, 0, 0, 0, 0, 0, 0],\n",
              "        [0, 0, 0, 0, 0, 0, 0, 0, 0, 0, 0, 0, 0, 0, 0, 0, 0, 0, 0],\n",
              "        [0, 0, 0, 0, 0, 0, 0, 0, 0, 0, 0, 0, 0, 0, 0, 0, 0, 0, 0],\n",
              "        [0, 0, 0, 0, 0, 0, 0, 0, 0, 0, 0, 0, 0, 0, 0, 0, 0, 0, 0],\n",
              "        [0, 0, 0, 0, 0, 0, 0, 0, 0, 0, 0, 0, 0, 0, 0, 0, 0, 0, 0],\n",
              "        [0, 0, 0, 0, 0, 0, 0, 0, 0, 0, 0, 0, 0, 0, 0, 0, 0, 0, 0],\n",
              "        [0, 0, 0, 0, 0, 0, 0, 0, 0, 0, 0, 0, 0, 0, 0, 0, 0, 0, 0],\n",
              "        [0, 0, 1, 0, 0, 0, 0, 0, 0, 0, 0, 0, 0, 0, 0, 0, 0, 0, 0],\n",
              "        [0, 0, 0, 0, 0, 0, 0, 0, 0, 0, 0, 0, 0, 0, 0, 0, 0, 0, 0],\n",
              "        [0, 0, 0, 0, 0, 0, 0, 0, 0, 0, 0, 0, 0, 0, 0, 0, 0, 0, 0],\n",
              "        [0, 0, 0, 0, 0, 0, 0, 0, 0, 0, 0, 0, 0, 0, 0, 0, 0, 0, 0],\n",
              "        [0, 0, 0, 0, 0, 0, 0, 0, 0, 0, 0, 0, 0, 0, 0, 0, 0, 0, 0],\n",
              "        [0, 0, 0, 0, 0, 0, 0, 0, 0, 0, 0, 0, 0, 0, 0, 0, 0, 0, 0],\n",
              "        [0, 0, 0, 0, 0, 0, 0, 0, 0, 0, 0, 0, 0, 0, 0, 0, 0, 0, 0]])"
            ]
          },
          "metadata": {
            "tags": []
          },
          "execution_count": 58
        }
      ]
    },
    {
      "cell_type": "markdown",
      "metadata": {
        "id": "7omYjyV_XJDo",
        "colab_type": "text"
      },
      "source": [
        "พล็อตเป็น Heatmap จะได้มองง่าย"
      ]
    },
    {
      "cell_type": "code",
      "metadata": {
        "id": "JX-zD7A5Wysp",
        "colab_type": "code",
        "colab": {
          "base_uri": "https://localhost:8080/",
          "height": 282
        },
        "outputId": "d8e9aac3-e842-4091-ddfc-be58e74691b8"
      },
      "source": [
        "plt.imshow(vectors[:20, 10280:10299])"
      ],
      "execution_count": 108,
      "outputs": [
        {
          "output_type": "execute_result",
          "data": {
            "text/plain": [
              "<matplotlib.image.AxesImage at 0x7f77e647c358>"
            ]
          },
          "metadata": {
            "tags": []
          },
          "execution_count": 108
        },
        {
          "output_type": "display_data",
          "data": {
            "image/png": "[encoded data removed]",
            "text/plain": [
              "<Figure size 432x288 with 1 Axes>"
            ]
          },
          "metadata": {
            "tags": []
          }
        }
      ]
    },
    {
      "cell_type": "markdown",
      "metadata": {
        "id": "ZbWMU1A3DAbP",
        "colab_type": "text"
      },
      "source": [
        "เปรียบเทียบขนาดเอกสาร กับขนาด matrix จะเห็นว่า row เท่ากัน column = จำนวน vocab"
      ]
    },
    {
      "cell_type": "code",
      "metadata": {
        "id": "MUOzGt0Cu31C",
        "colab_type": "code",
        "colab": {
          "base_uri": "https://localhost:8080/",
          "height": 34
        },
        "outputId": "8af6cd4e-eff5-46e6-c457-5ad838317dea"
      },
      "source": [
        "print(len(newsgroups_train.data), vectors.shape)"
      ],
      "execution_count": 59,
      "outputs": [
        {
          "output_type": "stream",
          "text": [
            "2034 (2034, 26576)\n"
          ],
          "name": "stdout"
        }
      ]
    },
    {
      "cell_type": "markdown",
      "metadata": {
        "id": "rCIr982yDYN0",
        "colab_type": "text"
      },
      "source": [
        "ดูจำนวนคำใน vocab ที่เก็บใน vectorizer"
      ]
    },
    {
      "cell_type": "code",
      "metadata": {
        "id": "Vg-riN5tvIxw",
        "colab_type": "code",
        "colab": {
          "base_uri": "https://localhost:8080/",
          "height": 34
        },
        "outputId": "e866753f-8ce8-4c95-cda6-7622e8a83cf2"
      },
      "source": [
        "vocab = np.array(vectorizer.get_feature_names())\n",
        "vocab.shape"
      ],
      "execution_count": 60,
      "outputs": [
        {
          "output_type": "execute_result",
          "data": {
            "text/plain": [
              "(26576,)"
            ]
          },
          "metadata": {
            "tags": []
          },
          "execution_count": 60
        }
      ]
    },
    {
      "cell_type": "markdown",
      "metadata": {
        "id": "9_MCs46oUnm1",
        "colab_type": "text"
      },
      "source": [
        "ดูคำใน vocab"
      ]
    },
    {
      "cell_type": "code",
      "metadata": {
        "id": "nsVD05DyvTgg",
        "colab_type": "code",
        "colab": {
          "base_uri": "https://localhost:8080/",
          "height": 85
        },
        "outputId": "afb79654-ba26-4a5d-ea03-05548f17de43"
      },
      "source": [
        "vocab[26000:26020]"
      ],
      "execution_count": 61,
      "outputs": [
        {
          "output_type": "execute_result",
          "data": {
            "text/plain": [
              "array(['wick', 'wickard', 'wicked', 'wide', 'widely', 'widengren',\n",
              "       'widening', 'wider', 'widespread', 'widget', 'widgets', 'widow',\n",
              "       'width', 'widths', 'wield', 'wien', 'wiener', 'wierd', 'wierdness',\n",
              "       'wife'], dtype='<U80')"
            ]
          },
          "metadata": {
            "tags": []
          },
          "execution_count": 61
        }
      ]
    },
    {
      "cell_type": "markdown",
      "metadata": {
        "id": "e0ApbQDKJG7e",
        "colab_type": "text"
      },
      "source": [
        "เปรียบเทียบเอกสารจริง กับ Token Counts"
      ]
    },
    {
      "cell_type": "code",
      "metadata": {
        "id": "FwLT60xPICbH",
        "colab_type": "code",
        "colab": {
          "base_uri": "https://localhost:8080/",
          "height": 221
        },
        "outputId": "03809552-70cd-402f-ac77-38f5b3bdd360"
      },
      "source": [
        "print(newsgroups_train.data[1200])"
      ],
      "execution_count": 100,
      "outputs": [
        {
          "output_type": "stream",
          "text": [
            "\n",
            "\n",
            "\n",
            "I sure did use version 3.2. It works fine with most software but NOT\n",
            "with Animator Pro and that one is quite important to me. Pretty\n",
            "useless program without that thing working IMHO.\n",
            "So I hope the author can fix that.\n",
            "\n",
            "/Daniel...\n",
            "\n",
            "\n",
            "\n"
          ],
          "name": "stdout"
        }
      ]
    },
    {
      "cell_type": "code",
      "metadata": {
        "id": "Dnobq6q9G9xs",
        "colab_type": "code",
        "colab": {
          "base_uri": "https://localhost:8080/",
          "height": 391
        },
        "outputId": "2dd98ef3-6997-43cc-fff6-e6e30bf878cc"
      },
      "source": [
        "for i, r in enumerate(reversed(sorted(zip(np.squeeze(np.asarray(vectors[1200, :])), vocab)))):\n",
        "    print(r)\n",
        "    if i > 20 : break"
      ],
      "execution_count": 98,
      "outputs": [
        {
          "output_type": "stream",
          "text": [
            "(1, 'works')\n",
            "(1, 'working')\n",
            "(1, 'version')\n",
            "(1, 'useless')\n",
            "(1, 'use')\n",
            "(1, 'thing')\n",
            "(1, 'sure')\n",
            "(1, 'software')\n",
            "(1, 'quite')\n",
            "(1, 'program')\n",
            "(1, 'pro')\n",
            "(1, 'pretty')\n",
            "(1, 'important')\n",
            "(1, 'imho')\n",
            "(1, 'hope')\n",
            "(1, 'fix')\n",
            "(1, 'fine')\n",
            "(1, 'did')\n",
            "(1, 'daniel')\n",
            "(1, 'author')\n",
            "(1, 'animator')\n",
            "(0, 'zyxel')\n"
          ],
          "name": "stdout"
        }
      ]
    },
    {
      "cell_type": "markdown",
      "metadata": {
        "id": "3EaIGr0XeD8l",
        "colab_type": "text"
      },
      "source": [
        "# 4. Latent Semantic Analysis (LSA) "
      ]
    },
    {
      "cell_type": "markdown",
      "metadata": {
        "id": "BiwYc0mOU4KW",
        "colab_type": "text"
      },
      "source": [
        "เมื่อเราได้ Matrix ของจำนวนคำศัพท์ที่อยู่ในข้อความทั้งหมดมาแล้ว การนำแต่ละ Vector มาเปรียบเทียบกันตรง ๆ อาจจะไม่ค่อยได้ผล เนื่องจากคำมีหลากหลายมาก ข้อมูลส่วนใหญ่เป็น 0 การเปรียบเทียบ 2 Vector ข้อความที่มีจำนวนคำบางคำใกล้เคียงกัน ไม่สามารถบอกว่าอยู่หมวดหมู่เดียวกันได้\n",
        "\n",
        "เราจำเป็นต้องนำ Matrix ที่ได้มาผ่านกระบวนการ วิเคราะห์หาความหมายที่ซ่อนอยู่ภายใน Latent Semantic Analysis (LSA) ด้วยวิธีการดังนี้"
      ]
    },
    {
      "cell_type": "markdown",
      "metadata": {
        "id": "ix3N67TcvXPb",
        "colab_type": "text"
      },
      "source": [
        "## 4.1 Singular Value Decomposition (SVD)"
      ]
    },
    {
      "cell_type": "markdown",
      "metadata": {
        "id": "AAye4PYRXZ05",
        "colab_type": "text"
      },
      "source": [
        "SVD เป็นวิธี Factorization ยอดนิยม SVD จะแปลง 1 Matrix ขนาดใหญ่ ออกมาเป็น 3 Matrix ขนาดเล็กกว่า ที่คุณกันแล้วได้เท่ากับ Matrix ต้นทาง\n",
        "\n",
        "3 Matrix ใหม่ที่ได้ออกมา มีคุณสมบัติพิเศษบางอย่าง ทำให้เราสามารถนำมาใช้งาน วิเคราะห์ข้อความได้ดีขึ้น"
      ]
    },
    {
      "cell_type": "markdown",
      "metadata": {
        "id": "w-8VAzPNYPMf",
        "colab_type": "text"
      },
      "source": [
        "หา svd ของ Matrix ต้นฉบับ ชื่อ vectors ออกมาได้เป็น 3 Matrix ชื่อ U, s Vh\n",
        "\n",
        "เปรียบเทียบ U คือ รายการ [Embedding](https://www.bualabs.com/archives/996/visualization-embedding-deep-learning-model-deep-neural-networks-tensorboard-ep-2/) ของเอกสาร, s คือ ขนาดความสำคัญของ topic ในเอกสาร, Vh คือ รายการ Embedding ของ Topic"
      ]
    },
    {
      "cell_type": "code",
      "metadata": {
        "id": "4t97U38NvYh7",
        "colab_type": "code",
        "colab": {
          "base_uri": "https://localhost:8080/",
          "height": 51
        },
        "outputId": "55e9b91d-96ed-4146-9160-4caf218624d7"
      },
      "source": [
        "%time U, s, Vh = linalg.svd(vectors, full_matrices=False)"
      ],
      "execution_count": 62,
      "outputs": [
        {
          "output_type": "stream",
          "text": [
            "CPU times: user 1min 7s, sys: 2.94 s, total: 1min 9s\n",
            "Wall time: 35.9 s\n"
          ],
          "name": "stdout"
        }
      ]
    },
    {
      "cell_type": "markdown",
      "metadata": {
        "id": "ECn77d6EYbWx",
        "colab_type": "text"
      },
      "source": [
        "ดู shape"
      ]
    },
    {
      "cell_type": "code",
      "metadata": {
        "id": "XJHubfxpD8aH",
        "colab_type": "code",
        "colab": {
          "base_uri": "https://localhost:8080/",
          "height": 34
        },
        "outputId": "3e9bee1d-cabd-4d3e-9456-b6fd6a506356"
      },
      "source": [
        "print(U.shape, s.shape, Vh.shape)"
      ],
      "execution_count": 63,
      "outputs": [
        {
          "output_type": "stream",
          "text": [
            "(2034, 2034) (2034,) (2034, 26576)\n"
          ],
          "name": "stdout"
        }
      ]
    },
    {
      "cell_type": "markdown",
      "metadata": {
        "id": "9hQpM9c4YgzT",
        "colab_type": "text"
      },
      "source": [
        "s จะเป็น Diagonal Matrix แต่มาในรูป Vector"
      ]
    },
    {
      "cell_type": "code",
      "metadata": {
        "id": "LlSuiOUmdehM",
        "colab_type": "code",
        "colab": {
          "base_uri": "https://localhost:8080/",
          "height": 34
        },
        "outputId": "1a989708-f310-4fd5-ec4f-5d7ab9f1b168"
      },
      "source": [
        "s[:4]"
      ],
      "execution_count": 64,
      "outputs": [
        {
          "output_type": "execute_result",
          "data": {
            "text/plain": [
              "array([433.92698542, 291.51012741, 240.71137677, 220.00048043])"
            ]
          },
          "metadata": {
            "tags": []
          },
          "execution_count": 64
        }
      ]
    },
    {
      "cell_type": "markdown",
      "metadata": {
        "id": "vgQBzivCYrdF",
        "colab_type": "text"
      },
      "source": [
        " เราต้องแปลงเอง ดังนี้"
      ]
    },
    {
      "cell_type": "code",
      "metadata": {
        "id": "sinVIEw0df4P",
        "colab_type": "code",
        "colab": {
          "base_uri": "https://localhost:8080/",
          "height": 85
        },
        "outputId": "38d45c54-8176-4634-fc78-0cf1b5be7673"
      },
      "source": [
        "np.diag(s[:4])"
      ],
      "execution_count": 65,
      "outputs": [
        {
          "output_type": "execute_result",
          "data": {
            "text/plain": [
              "array([[433.92698542,   0.        ,   0.        ,   0.        ],\n",
              "       [  0.        , 291.51012741,   0.        ,   0.        ],\n",
              "       [  0.        ,   0.        , 240.71137677,   0.        ],\n",
              "       [  0.        ,   0.        ,   0.        , 220.00048043]])"
            ]
          },
          "metadata": {
            "tags": []
          },
          "execution_count": 65
        }
      ]
    },
    {
      "cell_type": "markdown",
      "metadata": {
        "id": "HogY5d1-YwWi",
        "colab_type": "text"
      },
      "source": [
        "แปลงไปแปลงกลับ"
      ]
    },
    {
      "cell_type": "code",
      "metadata": {
        "id": "oAU5dyNGdhh0",
        "colab_type": "code",
        "colab": {
          "base_uri": "https://localhost:8080/",
          "height": 34
        },
        "outputId": "67ff2b96-aec1-4c08-901e-06bf46307553"
      },
      "source": [
        "np.diag(np.diag(s[:4]))"
      ],
      "execution_count": 109,
      "outputs": [
        {
          "output_type": "execute_result",
          "data": {
            "text/plain": [
              "array([433.92698542, 291.51012741, 240.71137677, 220.00048043])"
            ]
          },
          "metadata": {
            "tags": []
          },
          "execution_count": 109
        }
      ]
    },
    {
      "cell_type": "markdown",
      "metadata": {
        "id": "VXL85J_QYy9_",
        "colab_type": "text"
      },
      "source": [
        "พิสูจน์ว่า U, s Vh มาจาก vectors จริง ๆ ด้วยการ จับคูณกัน"
      ]
    },
    {
      "cell_type": "code",
      "metadata": {
        "id": "CQPGi-XJdjCr",
        "colab_type": "code",
        "colab": {}
      },
      "source": [
        "b = np.matmul(U, np.diag(s))\n",
        "x = np.matmul(b, Vh)"
      ],
      "execution_count": 0,
      "outputs": []
    },
    {
      "cell_type": "markdown",
      "metadata": {
        "id": "uGpYBXKzY9nN",
        "colab_type": "text"
      },
      "source": [
        "เนื่องจากเป็น เลขทศนิยม ทำให้เราเปรียบเทียบ == กันตรง ๆ ไม่ได้ ต้องใช้ np.isclose()"
      ]
    },
    {
      "cell_type": "code",
      "metadata": {
        "id": "pmQ90fq5dmBV",
        "colab_type": "code",
        "colab": {
          "base_uri": "https://localhost:8080/",
          "height": 34
        },
        "outputId": "01297775-2e29-4895-e4c0-f0bf83e5826f"
      },
      "source": [
        "np.all(np.isclose(x, vectors))"
      ],
      "execution_count": 68,
      "outputs": [
        {
          "output_type": "execute_result",
          "data": {
            "text/plain": [
              "True"
            ]
          },
          "metadata": {
            "tags": []
          },
          "execution_count": 68
        }
      ]
    },
    {
      "cell_type": "markdown",
      "metadata": {
        "id": "y7OimLcuZJVC",
        "colab_type": "text"
      },
      "source": [
        "U เป็น Orthonormal (orthogonal) Matrix หมายถึง คูณกับตัวเอง Transpose แล้วจะได้ Identity Matrix"
      ]
    },
    {
      "cell_type": "code",
      "metadata": {
        "id": "YBwAZNqwdn4H",
        "colab_type": "code",
        "colab": {
          "base_uri": "https://localhost:8080/",
          "height": 187
        },
        "outputId": "406c2a83-f851-4737-a8ca-c3107fa156a1"
      },
      "source": [
        "x = np.matmul(U, U.T)\n",
        "x[:10, :10]"
      ],
      "execution_count": 69,
      "outputs": [
        {
          "output_type": "execute_result",
          "data": {
            "text/plain": [
              "array([[ 1., -0.,  0., -0.,  0.,  0., -0.,  0., -0.,  0.],\n",
              "       [-0.,  1.,  0., -0.,  0.,  0., -0., -0., -0.,  0.],\n",
              "       [ 0.,  0.,  1., -0.,  0., -0.,  0.,  0.,  0., -0.],\n",
              "       [-0., -0., -0.,  1., -0.,  0., -0., -0., -0., -0.],\n",
              "       [ 0.,  0.,  0., -0.,  1.,  0.,  0.,  0.,  0., -0.],\n",
              "       [ 0.,  0., -0.,  0.,  0.,  1., -0.,  0.,  0.,  0.],\n",
              "       [-0., -0.,  0., -0.,  0., -0.,  1., -0.,  0., -0.],\n",
              "       [ 0., -0.,  0., -0.,  0.,  0., -0.,  1., -0.,  0.],\n",
              "       [-0., -0.,  0., -0.,  0.,  0.,  0., -0.,  1.,  0.],\n",
              "       [ 0.,  0., -0., -0., -0.,  0., -0.,  0.,  0.,  1.]])"
            ]
          },
          "metadata": {
            "tags": []
          },
          "execution_count": 69
        }
      ]
    },
    {
      "cell_type": "markdown",
      "metadata": {
        "id": "WziGQGNSZeqQ",
        "colab_type": "text"
      },
      "source": [
        "Vh ก็เป็น Orthonormal (orthogonal) Matrix เหมือนกัน"
      ]
    },
    {
      "cell_type": "code",
      "metadata": {
        "id": "pSauvzW1dqTF",
        "colab_type": "code",
        "colab": {
          "base_uri": "https://localhost:8080/",
          "height": 187
        },
        "outputId": "2860e8d4-553c-44fb-d4c7-563dd46933ab"
      },
      "source": [
        "x = np.matmul(Vh, Vh.T)\n",
        "x[:10, :10]"
      ],
      "execution_count": 70,
      "outputs": [
        {
          "output_type": "execute_result",
          "data": {
            "text/plain": [
              "array([[ 1., -0., -0., -0.,  0., -0., -0.,  0., -0., -0.],\n",
              "       [-0.,  1., -0.,  0., -0., -0.,  0., -0.,  0., -0.],\n",
              "       [-0., -0.,  1., -0., -0., -0., -0.,  0., -0., -0.],\n",
              "       [-0.,  0., -0.,  1., -0.,  0.,  0., -0.,  0., -0.],\n",
              "       [ 0., -0., -0., -0.,  1.,  0.,  0., -0.,  0.,  0.],\n",
              "       [-0., -0., -0.,  0.,  0.,  1.,  0., -0., -0.,  0.],\n",
              "       [-0.,  0., -0.,  0.,  0.,  0.,  1., -0., -0.,  0.],\n",
              "       [ 0., -0.,  0., -0., -0., -0., -0.,  1.,  0., -0.],\n",
              "       [-0.,  0., -0.,  0.,  0., -0., -0.,  0.,  1.,  0.],\n",
              "       [-0., -0., -0., -0.,  0.,  0.,  0., -0.,  0.,  1.]])"
            ]
          },
          "metadata": {
            "tags": []
          },
          "execution_count": 70
        }
      ]
    },
    {
      "cell_type": "markdown",
      "metadata": {
        "id": "7tz-jrCtZk5Z",
        "colab_type": "text"
      },
      "source": [
        "s คือ Scale Matrix บอกถึงขนาดข้อมูลในแต่ละมิติของ U เมื่อนำมาพล็อตกราฟ จะได้ดังนี้"
      ]
    },
    {
      "cell_type": "code",
      "metadata": {
        "id": "wOaq7_w1dvzz",
        "colab_type": "code",
        "colab": {
          "base_uri": "https://localhost:8080/",
          "height": 265
        },
        "outputId": "d948a615-80ed-4fd2-ac01-a9b0fd67ee7e"
      },
      "source": [
        "plt.plot(s);"
      ],
      "execution_count": 71,
      "outputs": [
        {
          "output_type": "display_data",
          "data": {
            "image/png": "[encoded data removed]",
            "text/plain": [
              "<Figure size 432x288 with 1 Axes>"
            ]
          },
          "metadata": {
            "tags": []
          }
        }
      ]
    },
    {
      "cell_type": "markdown",
      "metadata": {
        "id": "aejXb7Nnbxq8",
        "colab_type": "text"
      },
      "source": [
        "ซูมเข้าไปดู 10 มิติแรก จะเห็นว่าข้อมูลส่วนใหญ่อยู่มิติแรก ๆ เท่านั้น"
      ]
    },
    {
      "cell_type": "code",
      "metadata": {
        "id": "in3NBvVKdxtu",
        "colab_type": "code",
        "colab": {
          "base_uri": "https://localhost:8080/",
          "height": 282
        },
        "outputId": "f328d4a3-6849-44c3-b88f-b02d82e7234b"
      },
      "source": [
        "plt.plot(s[:10])"
      ],
      "execution_count": 72,
      "outputs": [
        {
          "output_type": "execute_result",
          "data": {
            "text/plain": [
              "[<matplotlib.lines.Line2D at 0x7f77e67ae7f0>]"
            ]
          },
          "metadata": {
            "tags": []
          },
          "execution_count": 72
        },
        {
          "output_type": "display_data",
          "data": {
            "image/png": "[encoded data removed]",
            "text/plain": [
              "<Figure size 432x288 with 1 Axes>"
            ]
          },
          "metadata": {
            "tags": []
          }
        }
      ]
    },
    {
      "cell_type": "markdown",
      "metadata": {
        "id": "f-_ZpeC4cDNS",
        "colab_type": "text"
      },
      "source": [
        "ประกาศฟังก์ชัน แสดงคำศัพท์ใน vocab ที่พบมากที่สุด 8 คำ ในแต่ละ Topic ใน Vh"
      ]
    },
    {
      "cell_type": "code",
      "metadata": {
        "id": "ckPnHpUWdzS1",
        "colab_type": "code",
        "colab": {}
      },
      "source": [
        "num_top_words=8\n",
        "\n",
        "def show_topics(a):\n",
        "    top_words = lambda t: [vocab[i] for i in np.argsort(t)[:-num_top_words-1:-1]]\n",
        "    topic_words = ([top_words(t) for t in a])\n",
        "    return [' '.join(t) for t in topic_words]"
      ],
      "execution_count": 0,
      "outputs": []
    },
    {
      "cell_type": "markdown",
      "metadata": {
        "id": "J0PNbL15cqnh",
        "colab_type": "text"
      },
      "source": [
        "แสดงคำศัพท์ใน vocab ที่พบมากที่สุด 8 คำ ใน 10 Topic แรก ดูรายการคำศัพท์ ทำให้เราพอจะเดาได้ว่า ถ้าเอกสารมี Topic นี้มาก น่าจะถูกจำแนกอยู่ใน Category อะไร"
      ]
    },
    {
      "cell_type": "code",
      "metadata": {
        "id": "GtW9Mi4Ed03h",
        "colab_type": "code",
        "colab": {
          "base_uri": "https://localhost:8080/",
          "height": 187
        },
        "outputId": "584d55c5-e569-4741-e042-2188bf2e2826"
      },
      "source": [
        "show_topics(Vh[:10])"
      ],
      "execution_count": 74,
      "outputs": [
        {
          "output_type": "execute_result",
          "data": {
            "text/plain": [
              "['ditto critus propagandist surname galacticentric kindergarten surreal imaginative',\n",
              " 'jpeg gif file color quality image jfif format',\n",
              " 'graphics edu pub mail 128 3d ray ftp',\n",
              " 'jesus god matthew people atheists atheism does graphics',\n",
              " 'image data processing analysis software available tools display',\n",
              " 'god atheists atheism religious believe religion argument true',\n",
              " 'space nasa lunar mars probe moon missions probes',\n",
              " 'image probe surface lunar mars probes moon orbit',\n",
              " 'argument fallacy conclusion example true ad argumentum premises',\n",
              " 'space larson image theory universe physical nasa material']"
            ]
          },
          "metadata": {
            "tags": []
          },
          "execution_count": 74
        }
      ]
    },
    {
      "cell_type": "markdown",
      "metadata": {
        "id": "LBdks3s7d22E",
        "colab_type": "text"
      },
      "source": [
        "## 4.2 Non-negative Matrix Factorization (NMF)"
      ]
    },
    {
      "cell_type": "code",
      "metadata": {
        "id": "0BVVYRvsd6vY",
        "colab_type": "code",
        "colab": {}
      },
      "source": [
        "m,n=vectors.shape\n",
        "d=5  # num topics"
      ],
      "execution_count": 0,
      "outputs": []
    },
    {
      "cell_type": "code",
      "metadata": {
        "id": "OTMmzTuyf402",
        "colab_type": "code",
        "colab": {}
      },
      "source": [
        "clf = decomposition.NMF(n_components=d, random_state=1)\n",
        "\n",
        "W1 = clf.fit_transform(vectors)\n",
        "H1 = clf.components_"
      ],
      "execution_count": 0,
      "outputs": []
    },
    {
      "cell_type": "code",
      "metadata": {
        "id": "on-kDnyHf5Ek",
        "colab_type": "code",
        "colab": {
          "base_uri": "https://localhost:8080/",
          "height": 102
        },
        "outputId": "5884e25b-dab3-4dfa-9172-0f34f0719025"
      },
      "source": [
        "show_topics(H1)"
      ],
      "execution_count": 77,
      "outputs": [
        {
          "output_type": "execute_result",
          "data": {
            "text/plain": [
              "['jpeg image gif file color images format quality',\n",
              " 'edu graphics pub mail 128 ray ftp send',\n",
              " 'space launch satellite nasa commercial satellites year market',\n",
              " 'jesus god people matthew atheists does atheism said',\n",
              " 'image data available software processing ftp edu analysis']"
            ]
          },
          "metadata": {
            "tags": []
          },
          "execution_count": 77
        }
      ]
    },
    {
      "cell_type": "markdown",
      "metadata": {
        "id": "JpWplOFfTZBH",
        "colab_type": "text"
      },
      "source": [
        "# 5. TF-IDF"
      ]
    },
    {
      "cell_type": "code",
      "metadata": {
        "id": "kEWCNGRiTZIA",
        "colab_type": "code",
        "colab": {}
      },
      "source": [
        "vectorizer_tfidf = TfidfVectorizer(stop_words='english')\n",
        "vectors_tfidf = vectorizer_tfidf.fit_transform(newsgroups_train.data) # (documents, vocab)"
      ],
      "execution_count": 0,
      "outputs": []
    },
    {
      "cell_type": "code",
      "metadata": {
        "id": "DMNUmxcwTZNA",
        "colab_type": "code",
        "colab": {
          "base_uri": "https://localhost:8080/",
          "height": 207
        },
        "outputId": "e7981ce2-5acb-4a81-e59d-5724d395cc76"
      },
      "source": [
        "newsgroups_train.data[10:20]"
      ],
      "execution_count": 79,
      "outputs": [
        {
          "output_type": "execute_result",
          "data": {
            "text/plain": [
              "[\"a\\n\\nWhat about positional uncertainties in S-L 1993e?   I assume we know where\\nand what Galileo is doing within a few meters.   But without the\\nHGA,  don't we have to have some pretty good ideas, of where to look\\nbefore imaging?  If the HGA was working,  they could slew around\\nin near real time (Less speed of light delay).  But when they were\\nimaging toutatis????  didn't someone have to get lucky on a guess to\\nfind the first images?   \\n\\nAlso, I imagine S-L 1993e will be mostly a visual image.  so how will\\nthat affect the other imaging missions.  with the LGA,  there is a real\\ntight allocation of bandwidth.   It may be premature to hope for answers,\\nbut I thought i'd throw it on the floor.\",\n",
              " \"I would like to program Tseng ET4000 to nonstandard 1024x768 mode by\\nswitching to standard 1024x768 mode using BIOS and than changing some\\ntiming details (0x3D4 registers 0x00-0x1F) but I don't know how to\\nselect 36 MHz pixel clock I need. The BIOS function selects 40 MHz.\\n\\nIs there anybody who knows where to obtain technical info about this.\\nI am also interested in any other technical information about Tseng ET4000\\nand Trident 8900 and 9000 chipsets.\\n\\n\\t\\t\\tthanks very much\",\n",
              " 'In-Reply-To: <20APR199312262902@rigel.tamu.edu> lmp8913@rigel.tamu.edu (PRESTON, LISA M)',\n",
              " \"\\n\\n\\n\\nI'm not sure, but it almost sounds like they can't figure out where the \\n_nucleus_ is within the coma. If they're off by a couple hundred\\nmiles, well, you can imagine the rest...\\n\",\n",
              " \"Hello,\\n     I am looking to add voice input capability to a user interface I am\\ndeveloping on an HP730 (UNIX) workstation.  I would greatly appreciate \\ninformation anyone would care to offer about voice input systems that are \\neasily accessible from the UNIX environment. \\n\\n     The names or adresses of applicable vendors, as well as any \\nexperiences you have had with specific systems, would be very helpful.\\n\\n     Please respond via email; I will post a summary if there is \\nsufficient interest.\\n\\n\\nThanks,\\nKen\\n\\n\\nP.S.  I have found several impressive systems for IBM PC's, but I would \\nlike to avoid the hassle of purchasing and maintaining a separate PC if \\nat all possible.\\n\\n-------------------------------------------------------------------------------\\nKen Hinckley (kph2q@virginia.edu)\\nUniversity of Virginia \\nNeurosurgical Visualization Laboratory\",\n",
              " '\\nIt was a test of the first reusable tool.\\n\\n\\nPointy so they can find them or so they will stick into their pants better, and\\nbe closer to their brains?',\n",
              " '\\nSize of armies, duration, numbers of casualties both absolute and as a\\npercentage of those involved, geographical area and numbers of countries\\ntoo, are all measures of size.  In this case I\\'d say the relevant\\nstatistic would be the number of combatants (total troops) compared to\\ntotal casualties from among the total civilian population in the\\naffected geographical area.\\n\\n\\nVietnam and Korea might make good comparisons.\\n\\n\\nWestern news in general, but in particular the American \"mass media\":\\nCBS, NBC, ABC, etc.  The general tone of the news during the whole\\nwar was one of \"those poor, poor Iraqis\" along with \"look how precisely\\nthis cruise missile blew this building to bits\".\\n\\n\\nI agree.\\n\\n\\nPerhaps so.  And maybe the atomic bomb was a mistake too.  But that\\'s easy\\nto say from our \"enlightened\" viewpoint here in the 90\\'s, right?  Back\\nthen, it was *all-out* war, and Germany and Japan had to be squashed.\\nAfter all, a million or more British had already died, hundreds of \\nthousands of French, a couple hundread thousand or so Americans, and \\nmillions of Russians, not to mention a few million Jews, Poles, and \\nother people of slavic descent in German concentration camps.  All \\nthings considered, the fire-bombings and the atomic bomb were\\nessential (and therefore justified) in bringing the war to a quick\\nend to avoid even greater allied losses.\\n\\nI, for one, don\\'t regret it.\\n\\n\\nSure.  And it\\'s the people who suffer because of them.  All the more\\nreason to depose these \"entrenched political rulers operating in their\\nown selfish interests\"!  Or do you mean that this applies to the allies\\nas well??\\n\\n\\nI make no claim or effort to justify the misguided foreign policy of the\\nWest before the war.  It is evident that the West, especially America,\\nmisjudged Hussein drastically.  But once Hussein invaded Kuwait and \\nthreatened to militarily corner a significant portion of the world\\'s\\noil supply, he had to be stopped.  Sure the war could have been\\nprevented by judicious and concerted effort on the part of the West\\nbefore Hussein invaded Kuwait, but it is still *Hussein* who is\\nresponsible for his decision to invade.  And once he did so, a\\nstrong response from the West was required.\\n\\n\\nWell, it\\'s not very \"loving\" to allow a Hussein or a Hitler to gobble up\\nnearby countries and keep them.  Or to allow them to continue with mass\\nslaughter of certain peoples under their dominion.  So, I\\'d have to\\nsay yes, stopping Hussein was the most \"loving\" thing to do for the\\nmost people involved once he set his mind on military conquest.\\n\\nI mentioned it.\\n\\nIf we hadn\\'t intervened, allowing Hussein to keep Kuwait, then it would\\nhave been appeasement.  It is precisely the lessons the world learned\\nin WW2 that motivated the Western alliance to war.  Letting Hitler take\\nAustria and Czechoslavkia did not stop WW2 from happening, and letting\\nHussein keep Kuwait would not have stopped an eventual Gulf War to\\nprotect Saudi Arabia.\\n\\n\\nSure.  What was truly unfortunate was that they followed Hitler in\\nhis grandiose quest for a \"Thousand Year Reich\".  The consequences\\nstemmed from that.\\n\\nWhat should I say about them?  Anything in particular?\\n\\n\\n\\nSo?  It was the *policemen* on trial not Rodney King!!  And under American\\nlaw they deserved a jury of *their* peers!  If there had been black\\nofficers involved, I\\'m sure their would have been black jurors too.\\nThis point (of allegedly racial motivations) is really shallow.\\n\\n\\nSo?  It\\'s \"hard to imagine\"?  So when has Argument from Incredulity\\ngained acceptance from the revered author of \"Constructing a Logical\\nArgument\"?  Can we expect another revision soon??  :)  (Just kidding.)\\n\\n\\nI have to admit that I wonder this too.  But *neither* the prosecution\\nnor the defense is talking.  So one cannot conclude either way due to\\nthe silence of the principals.  \\n\\n\\nOK.  It certainly seemed to me that there was excessive force involved.\\nAnd frankly, the original \"not guilty\" verdict baffled me too.  But then\\nI learned that the prosecution in the first case did not try to convict\\non a charge of excessive force or simple assault which they probably\\nwould have won, they tried to get a conviction on a charge of aggravated\\nassault with intent to inflict serious bodily harm.  A charge, which\\nnews commentators said, was akin to attempted murder under California\\nlaw.  Based on what the prosecution was asking for, it\\'s evident that \\nthe first jury decided that the officers were \"not guilty\".  Note, \\nnot \"not guilty\" of doing wrong, but \"not guilty\" of aggravated assault \\nwith the *intent* of inflicting serious bodily harm.  The seeds of the \\nprosecutions defeat were in their own overconfidence in obtaining a \\nverdict such that they went for the most extreme charge they could.\\n\\nIf the facts as the news commentators presented them are true, then\\nI feel the \"not guilty\" verdict was a reasonable one.\\n\\n\\nThanks mathew, I like the quote.  Pretty funny actually.  (I\\'m a \\nMonty Python fan, you know.  Kind of seems in that vein.)\\n\\nOf course, oversimplifying any moral argument can make it seem\\ncontradictory.  But then, you know that already.  \\n\\nRegards,',\n",
              " \"<stuff deleted>\\n\\nYou mean like: seconds, minutes, hours, days, months, years. . .  :-)\\n\\nRemember,  the Fahrenheit temperature scale is also a centigrade scale.  Some\\nrevisionists tell the history something like this:  The coldest point in a\\nparticular Russian winter was marked on the thermometer as was the body\\ntemperature of a volunteer (turns out he was sick, but you can't win 'em all).\\nThen the space in between the marks on the thermometer was then divided into\\nhundredths.\\n\\t\\t\\t\\t\\t\\t\\t\\t:-)\\n\\nFWIW,\\n\\nDoug Page\\n\",\n",
              " \"\\nIt wasn't especially prominent, as I recall.  However, quite possibly it's\\nno longer on display; NASM, like most museums, has much more stuff than it\\ncan display at once, and does rotate the displays occasionally.\",\n",
              " \"DM> Fact or rumor....?  Madalyn Murray O'Hare an atheist who eliminated the\\nDM> use of the bible reading and prayer in public schools 15 years ago is now\\nDM> going to appear before the FCC with a petition to stop the reading of the\\nDM> Gospel on the airways of America.  And she is also campaigning to remove\\nDM> Christmas programs, songs, etc from the public schools.  If it is true\\nDM> then mail to Federal Communications Commission 1919 H Street Washington DC\\nDM> 20054 expressing your opposition to her request.  Reference Petition number\\n\\nDM> 2493.\\n\\nFalse.  This story has been going around for years.  There's not a drop of\\ntruth.  Note that I don't care for O'Hare (O'Hair?) myself, but this\\nis one thing she's not guilty of.\\n\"]"
            ]
          },
          "metadata": {
            "tags": []
          },
          "execution_count": 79
        }
      ]
    },
    {
      "cell_type": "code",
      "metadata": {
        "id": "eUOSdcOpTZRu",
        "colab_type": "code",
        "colab": {}
      },
      "source": [
        "W1 = clf.fit_transform(vectors_tfidf)\n",
        "H1 = clf.components_"
      ],
      "execution_count": 0,
      "outputs": []
    },
    {
      "cell_type": "code",
      "metadata": {
        "id": "4RdyvdcKTZXf",
        "colab_type": "code",
        "colab": {
          "base_uri": "https://localhost:8080/",
          "height": 102
        },
        "outputId": "9b434216-d1b4-4673-cbf5-629d41d412f5"
      },
      "source": [
        "show_topics(H1)"
      ],
      "execution_count": 81,
      "outputs": [
        {
          "output_type": "execute_result",
          "data": {
            "text/plain": [
              "['people don think just like objective say morality',\n",
              " 'graphics thanks files image file program windows know',\n",
              " 'space nasa launch shuttle orbit moon lunar earth',\n",
              " 'ico bobbe tek beauchaine bronx manhattan sank queens',\n",
              " 'god jesus bible believe christian atheism does belief']"
            ]
          },
          "metadata": {
            "tags": []
          },
          "execution_count": 81
        }
      ]
    },
    {
      "cell_type": "code",
      "metadata": {
        "id": "0VCWRUkqTZb5",
        "colab_type": "code",
        "colab": {
          "base_uri": "https://localhost:8080/",
          "height": 282
        },
        "outputId": "d8e7fe80-a711-44a1-a2b6-c9521ebe79b6"
      },
      "source": [
        "plt.plot(clf.components_[0])"
      ],
      "execution_count": 82,
      "outputs": [
        {
          "output_type": "execute_result",
          "data": {
            "text/plain": [
              "[<matplotlib.lines.Line2D at 0x7f77e668f2b0>]"
            ]
          },
          "metadata": {
            "tags": []
          },
          "execution_count": 82
        },
        {
          "output_type": "display_data",
          "data": {
            "image/png": "[encoded data removed]",
            "text/plain": [
              "<Figure size 432x288 with 1 Axes>"
            ]
          },
          "metadata": {
            "tags": []
          }
        }
      ]
    },
    {
      "cell_type": "code",
      "metadata": {
        "id": "7yEm01VNTZgn",
        "colab_type": "code",
        "colab": {
          "base_uri": "https://localhost:8080/",
          "height": 34
        },
        "outputId": "62d5e90c-4c0b-4297-d679-ca01b02a6c50"
      },
      "source": [
        "clf.reconstruction_err_"
      ],
      "execution_count": 83,
      "outputs": [
        {
          "output_type": "execute_result",
          "data": {
            "text/plain": [
              "43.712926057952785"
            ]
          },
          "metadata": {
            "tags": []
          },
          "execution_count": 83
        }
      ]
    },
    {
      "cell_type": "markdown",
      "metadata": {
        "id": "dFY-XdpuTzAV",
        "colab_type": "text"
      },
      "source": [
        "# 6. Truncated SVD"
      ]
    },
    {
      "cell_type": "code",
      "metadata": {
        "id": "SUYdHBrCTzMd",
        "colab_type": "code",
        "colab": {
          "base_uri": "https://localhost:8080/",
          "height": 51
        },
        "outputId": "4fba11d8-3e35-4e5f-f56d-9e9fe4a8015d"
      },
      "source": [
        "%time u, s, v = np.linalg.svd(vectors, full_matrices=False)"
      ],
      "execution_count": 84,
      "outputs": [
        {
          "output_type": "stream",
          "text": [
            "CPU times: user 1min 5s, sys: 2.42 s, total: 1min 7s\n",
            "Wall time: 34.4 s\n"
          ],
          "name": "stdout"
        }
      ]
    },
    {
      "cell_type": "code",
      "metadata": {
        "id": "POoNSniPTzTo",
        "colab_type": "code",
        "colab": {
          "base_uri": "https://localhost:8080/",
          "height": 316
        },
        "outputId": "0d5cfd5b-bbeb-4b3d-cae4-0a27c158042a"
      },
      "source": [
        "from sklearn import decomposition\n",
        "import fbpca"
      ],
      "execution_count": 85,
      "outputs": [
        {
          "output_type": "error",
          "ename": "ModuleNotFoundError",
          "evalue": "ignored",
          "traceback": [
            "\u001b[0;31m---------------------------------------------------------------------------\u001b[0m",
            "\u001b[0;31mModuleNotFoundError\u001b[0m                       Traceback (most recent call last)",
            "\u001b[0;32m<ipython-input-85-a165e16435c2>\u001b[0m in \u001b[0;36m<module>\u001b[0;34m()\u001b[0m\n\u001b[1;32m      1\u001b[0m \u001b[0;32mfrom\u001b[0m \u001b[0msklearn\u001b[0m \u001b[0;32mimport\u001b[0m \u001b[0mdecomposition\u001b[0m\u001b[0;34m\u001b[0m\u001b[0;34m\u001b[0m\u001b[0m\n\u001b[0;32m----> 2\u001b[0;31m \u001b[0;32mimport\u001b[0m \u001b[0mfbpca\u001b[0m\u001b[0;34m\u001b[0m\u001b[0;34m\u001b[0m\u001b[0m\n\u001b[0m",
            "\u001b[0;31mModuleNotFoundError\u001b[0m: No module named 'fbpca'",
            "",
            "\u001b[0;31m---------------------------------------------------------------------------\u001b[0;32m\nNOTE: If your import is failing due to a missing package, you can\nmanually install dependencies using either !pip or !apt.\n\nTo view examples of installing some common dependencies, click the\n\"Open Examples\" button below.\n\u001b[0;31m---------------------------------------------------------------------------\u001b[0m\n"
          ]
        }
      ]
    },
    {
      "cell_type": "code",
      "metadata": {
        "id": "Ela5c310T-FJ",
        "colab_type": "code",
        "colab": {}
      },
      "source": [
        "%time u, s, v = decomposition.randomized_svd(vectors, 10)"
      ],
      "execution_count": 0,
      "outputs": []
    },
    {
      "cell_type": "code",
      "metadata": {
        "id": "6HnScm9QT-KD",
        "colab_type": "code",
        "colab": {}
      },
      "source": [
        "%time u, s, v = fbpca.pca(vectors, 10)"
      ],
      "execution_count": 0,
      "outputs": []
    },
    {
      "cell_type": "markdown",
      "metadata": {
        "id": "rVHB4pUPf5RO",
        "colab_type": "text"
      },
      "source": [
        "# Credit"
      ]
    },
    {
      "cell_type": "markdown",
      "metadata": {
        "id": "ZciMME5tf6fZ",
        "colab_type": "text"
      },
      "source": [
        "* https://github.com/fastai/course-nlp\n",
        "* https://scikit-learn.org/stable/modules/generated/sklearn.datasets.fetch_20newsgroups.html\n",
        "* https://scikit-learn.org/stable/modules/generated/sklearn.feature_extraction.text.CountVectorizer.html\n",
        "* https://scikit-learn.org/stable/modules/generated/sklearn.feature_extraction.text.TfidfVectorizer.html\n",
        "* https://docs.scipy.org/doc/scipy/reference/generated/scipy.linalg.svd.html\n",
        "* https://scikit-learn.org/stable/modules/generated/sklearn.decomposition.NMF.html\n",
        "* https://research.fb.com/fast-randomized-svd/"
      ]
    },
    {
      "cell_type": "code",
      "metadata": {
        "id": "0cg_EXc4f7vq",
        "colab_type": "code",
        "colab": {}
      },
      "source": [
        ""
      ],
      "execution_count": 0,
      "outputs": []
    }
  ]
}