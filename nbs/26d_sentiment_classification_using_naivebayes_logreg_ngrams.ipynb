{
  "nbformat": 4,
  "nbformat_minor": 0,
  "metadata": {
    "colab": {
      "name": "26d_sentiment_classification_using_naivebayes_logreg_ngrams.ipynb",
      "provenance": [],
      "collapsed_sections": []
    },
    "kernelspec": {
      "name": "python3",
      "display_name": "Python 3"
    }
  },
  "cells": [
    {
      "cell_type": "code",
      "metadata": {
        "id": "XlQtoavmlNzL",
        "colab_type": "code",
        "colab": {}
      },
      "source": [
        ""
      ],
      "execution_count": 0,
      "outputs": []
    },
    {
      "cell_type": "markdown",
      "metadata": {
        "id": "CzApwnjVlKxC",
        "colab_type": "text"
      },
      "source": [
        "# 0. Install"
      ]
    },
    {
      "cell_type": "markdown",
      "metadata": {
        "id": "MGOPzh9vCLJh",
        "colab_type": "text"
      },
      "source": [
        "Install Library ที่จำเป็น"
      ]
    },
    {
      "cell_type": "code",
      "metadata": {
        "id": "o0UgDCGLhby7",
        "colab_type": "code",
        "outputId": "c3a93e66-9502-449a-df15-576bb9193b9f",
        "colab": {
          "base_uri": "https://localhost:8080/",
          "height": 51
        }
      },
      "source": [
        "## Colab\n",
        "! curl -s https://course.fast.ai/setup/colab | bash\n"
      ],
      "execution_count": 109,
      "outputs": [
        {
          "output_type": "stream",
          "text": [
            "Updating fastai...\n",
            "Done.\n"
          ],
          "name": "stdout"
        }
      ]
    },
    {
      "cell_type": "code",
      "metadata": {
        "id": "0WcUkQRak7e6",
        "colab_type": "code",
        "colab": {}
      },
      "source": [
        "%reload_ext autoreload\n",
        "%autoreload 2\n",
        "%matplotlib inline"
      ],
      "execution_count": 0,
      "outputs": []
    },
    {
      "cell_type": "markdown",
      "metadata": {
        "id": "3VxLNfAElR29",
        "colab_type": "text"
      },
      "source": [
        "# 1. Import"
      ]
    },
    {
      "cell_type": "markdown",
      "metadata": {
        "id": "nGm02SG0CQrq",
        "colab_type": "text"
      },
      "source": [
        "Import Library ที่จะใช้ ในที่นี้คือ fastai.text และ sklearn_text ที่ใช้ในงาน [NLP](https://www.bualabs.com/archives/119/what-is-nlp-natural-language-processing-nlp-task-in-thai-nlp-ep-1/)"
      ]
    },
    {
      "cell_type": "code",
      "metadata": {
        "id": "OORH3obdk-wS",
        "colab_type": "code",
        "colab": {}
      },
      "source": [
        "from fastai import *\n",
        "from fastai.text import *\n",
        "import sklearn.feature_extraction.text as sklearn_text\n",
        "from matplotlib import pyplot as plt\n",
        "import seaborn as sns"
      ],
      "execution_count": 0,
      "outputs": []
    },
    {
      "cell_type": "markdown",
      "metadata": {
        "id": "pv3eV6oElZD2",
        "colab_type": "text"
      },
      "source": [
        "# 2. Dataset"
      ]
    },
    {
      "cell_type": "markdown",
      "metadata": {
        "id": "_9kLpiZj_Rd6",
        "colab_type": "text"
      },
      "source": [
        "ในเคสนี้เราจะใช้ IMDB Movie Review เป็นรีวิวหนังจากเว็บ IMDB ที่มีข้อความ และ คะแนนว่าเป็นแง่บวก หรือแง่ลบ\n",
        "\n",
        "ในการพัฒนา เราจะใช้ Dataset ชุดเล็กก่อน จะได้เร็ว เมื่อเทสทุกอย่างเรียบร้อย แล้วจึงขยับไปใช้ Dataset ชุดเต็ม "
      ]
    },
    {
      "cell_type": "code",
      "metadata": {
        "id": "xLWfqeh7lH-h",
        "colab_type": "code",
        "outputId": "9a1a84a1-e079-4a75-9ffa-a09a1594e742",
        "colab": {
          "base_uri": "https://localhost:8080/",
          "height": 34
        }
      },
      "source": [
        "path = untar_data(URLs.IMDB_SAMPLE)\n",
        "path"
      ],
      "execution_count": 112,
      "outputs": [
        {
          "output_type": "execute_result",
          "data": {
            "text/plain": [
              "PosixPath('/content/data/imdb_sample')"
            ]
          },
          "metadata": {
            "tags": []
          },
          "execution_count": 112
        }
      ]
    },
    {
      "cell_type": "markdown",
      "metadata": {
        "id": "Of3lqXujEhxl",
        "colab_type": "text"
      },
      "source": [
        "ดูว่ามีไฟล์อะไรบ้าง"
      ]
    },
    {
      "cell_type": "code",
      "metadata": {
        "id": "g9e2uGlIlpUo",
        "colab_type": "code",
        "outputId": "3cc91867-0157-419b-b232-4c840a448237",
        "colab": {
          "base_uri": "https://localhost:8080/",
          "height": 34
        }
      },
      "source": [
        "path.ls()"
      ],
      "execution_count": 113,
      "outputs": [
        {
          "output_type": "execute_result",
          "data": {
            "text/plain": [
              "[PosixPath('/content/data/imdb_sample/texts.csv')]"
            ]
          },
          "metadata": {
            "tags": []
          },
          "execution_count": 113
        }
      ]
    },
    {
      "cell_type": "markdown",
      "metadata": {
        "id": "6wxUPHeeElP1",
        "colab_type": "text"
      },
      "source": [
        "โหลดไฟล์ csv ขึ้นมา ใส่ Pandas Dataframe"
      ]
    },
    {
      "cell_type": "code",
      "metadata": {
        "id": "-ulkpAbOlvUY",
        "colab_type": "code",
        "outputId": "edaf66f9-0145-4a30-f85a-961781ddb2b2",
        "colab": {
          "base_uri": "https://localhost:8080/",
          "height": 34
        }
      },
      "source": [
        "df = pd.read_csv(path/'texts.csv')\n",
        "df.shape"
      ],
      "execution_count": 114,
      "outputs": [
        {
          "output_type": "execute_result",
          "data": {
            "text/plain": [
              "(1000, 3)"
            ]
          },
          "metadata": {
            "tags": []
          },
          "execution_count": 114
        }
      ]
    },
    {
      "cell_type": "markdown",
      "metadata": {
        "id": "GMnEStnZE3GE",
        "colab_type": "text"
      },
      "source": [
        "มีข้อมูลตัวอย่าง 1000 Record, 3 Column ดูตัวอย่างข้อมูล 5 Record แรก"
      ]
    },
    {
      "cell_type": "code",
      "metadata": {
        "id": "cwjPZ3IQ_wm6",
        "colab_type": "code",
        "outputId": "77e58e07-28e9-4549-b5e2-95250ae38bb4",
        "colab": {
          "base_uri": "https://localhost:8080/",
          "height": 204
        }
      },
      "source": [
        "df.head()"
      ],
      "execution_count": 115,
      "outputs": [
        {
          "output_type": "execute_result",
          "data": {
            "text/html": [
              "<div>\n",
              "<style scoped>\n",
              "    .dataframe tbody tr th:only-of-type {\n",
              "        vertical-align: middle;\n",
              "    }\n",
              "\n",
              "    .dataframe tbody tr th {\n",
              "        vertical-align: top;\n",
              "    }\n",
              "\n",
              "    .dataframe thead th {\n",
              "        text-align: right;\n",
              "    }\n",
              "</style>\n",
              "<table border=\"1\" class=\"dataframe\">\n",
              "  <thead>\n",
              "    <tr style=\"text-align: right;\">\n",
              "      <th></th>\n",
              "      <th>label</th>\n",
              "      <th>text</th>\n",
              "      <th>is_valid</th>\n",
              "    </tr>\n",
              "  </thead>\n",
              "  <tbody>\n",
              "    <tr>\n",
              "      <th>0</th>\n",
              "      <td>negative</td>\n",
              "      <td>Un-bleeping-believable! Meg Ryan doesn't even ...</td>\n",
              "      <td>False</td>\n",
              "    </tr>\n",
              "    <tr>\n",
              "      <th>1</th>\n",
              "      <td>positive</td>\n",
              "      <td>This is a extremely well-made film. The acting...</td>\n",
              "      <td>False</td>\n",
              "    </tr>\n",
              "    <tr>\n",
              "      <th>2</th>\n",
              "      <td>negative</td>\n",
              "      <td>Every once in a long while a movie will come a...</td>\n",
              "      <td>False</td>\n",
              "    </tr>\n",
              "    <tr>\n",
              "      <th>3</th>\n",
              "      <td>positive</td>\n",
              "      <td>Name just says it all. I watched this movie wi...</td>\n",
              "      <td>False</td>\n",
              "    </tr>\n",
              "    <tr>\n",
              "      <th>4</th>\n",
              "      <td>negative</td>\n",
              "      <td>This movie succeeds at being one of the most u...</td>\n",
              "      <td>False</td>\n",
              "    </tr>\n",
              "  </tbody>\n",
              "</table>\n",
              "</div>"
            ],
            "text/plain": [
              "      label                                               text  is_valid\n",
              "0  negative  Un-bleeping-believable! Meg Ryan doesn't even ...     False\n",
              "1  positive  This is a extremely well-made film. The acting...     False\n",
              "2  negative  Every once in a long while a movie will come a...     False\n",
              "3  positive  Name just says it all. I watched this movie wi...     False\n",
              "4  negative  This movie succeeds at being one of the most u...     False"
            ]
          },
          "metadata": {
            "tags": []
          },
          "execution_count": 115
        }
      ]
    },
    {
      "cell_type": "markdown",
      "metadata": {
        "id": "Mt2mczR6l13Q",
        "colab_type": "text"
      },
      "source": [
        "# 3. Preprocessing"
      ]
    },
    {
      "cell_type": "markdown",
      "metadata": {
        "id": "9Ha_09wYFMC8",
        "colab_type": "text"
      },
      "source": [
        "เราจะใช้ Fastai TextList ในการ Preprocess ข้อมูล เช่น Tokenization, Numberization, etc."
      ]
    },
    {
      "cell_type": "code",
      "metadata": {
        "id": "ZoKcLxkkl_n3",
        "colab_type": "code",
        "colab": {}
      },
      "source": [
        "movie_reviews = (TextList.from_csv(path, 'texts.csv', cols='text').split_from_df(col=2).label_from_df(cols=0))"
      ],
      "execution_count": 0,
      "outputs": []
    },
    {
      "cell_type": "markdown",
      "metadata": {
        "id": "eKadZFQrGeT9",
        "colab_type": "text"
      },
      "source": [
        "จะได้ [Trainint Set, Validation Set](https://www.bualabs.com/archives/532/what-is-training-set-why-train-test-split-training-set-validation-set-test-set/) ออกมา เรามาดูข้อมูลตัวอย่าง Record แรกใน Validation Set "
      ]
    },
    {
      "cell_type": "code",
      "metadata": {
        "id": "UmAPWCz6l_u7",
        "colab_type": "code",
        "outputId": "0ac5a5be-e8de-4dec-c6bc-c40eefee7a67",
        "colab": {
          "base_uri": "https://localhost:8080/",
          "height": 173
        }
      },
      "source": [
        "movie_reviews.valid.y[0], movie_reviews.valid.x[0]"
      ],
      "execution_count": 117,
      "outputs": [
        {
          "output_type": "execute_result",
          "data": {
            "text/plain": [
              "(Category positive,\n",
              " Text xxbos xxmaj this very funny xxmaj british comedy shows what might happen if a section of xxmaj london , in this case xxmaj xxunk , were to xxunk itself independent from the rest of the xxup uk and its laws , xxunk & post - war xxunk . xxmaj merry xxunk is what would happen . \n",
              "  \n",
              "   xxmaj the explosion of a wartime bomb leads to the xxunk of ancient xxunk which show that xxmaj xxunk was xxunk to the xxmaj xxunk of xxmaj xxunk xxunk ago , a small historical xxunk long since forgotten . xxmaj to the new xxmaj xxunk , however , this is an unexpected opportunity to live as they please , free from any xxunk from xxmaj xxunk . \n",
              "  \n",
              "   xxmaj stanley xxmaj xxunk is excellent as the minor city xxunk who suddenly finds himself leading one of the world 's xxunk xxunk . xxmaj xxunk xxmaj margaret xxmaj xxunk is a delight as the history professor who sides with xxmaj xxunk . xxmaj others in the stand - out cast include xxmaj xxunk xxmaj xxunk , xxmaj paul xxmaj xxunk , xxmaj xxunk xxmaj xxunk , xxmaj xxunk xxmaj xxunk & xxmaj sir xxmaj michael xxmaj xxunk . \n",
              "  \n",
              "   xxmaj welcome to xxmaj xxunk !)"
            ]
          },
          "metadata": {
            "tags": []
          },
          "execution_count": 117
        }
      ]
    },
    {
      "cell_type": "markdown",
      "metadata": {
        "id": "aH3_E-r1IKgt",
        "colab_type": "text"
      },
      "source": [
        "จะเห็น Label y ว่าเป็น รีวิวแง่บวก Positive และ Text x เป็นข้อความรีวิว"
      ]
    },
    {
      "cell_type": "markdown",
      "metadata": {
        "id": "zoLqPoYfIanH",
        "colab_type": "text"
      },
      "source": [
        "ดูขนาดของ Training Set และ Validation Set"
      ]
    },
    {
      "cell_type": "code",
      "metadata": {
        "id": "vj_Yeg45l_0Z",
        "colab_type": "code",
        "outputId": "55bd487c-16d6-4a56-e683-86dc61c3f135",
        "colab": {
          "base_uri": "https://localhost:8080/",
          "height": 34
        }
      },
      "source": [
        "len(movie_reviews.train.x), len(movie_reviews.valid.x)"
      ],
      "execution_count": 118,
      "outputs": [
        {
          "output_type": "execute_result",
          "data": {
            "text/plain": [
              "(800, 200)"
            ]
          },
          "metadata": {
            "tags": []
          },
          "execution_count": 118
        }
      ]
    },
    {
      "cell_type": "markdown",
      "metadata": {
        "id": "8DfMJh0QIija",
        "colab_type": "text"
      },
      "source": [
        "ขนาดของ vocab Dictionary ที่ Map จาก เลขลำดับ Token ไปเป็น ข้อความ และ ข้อความ เป็น เลขลำดับ Token \n",
        "\n",
        "จะเห็นว่า ไม่ตรงกัน stoi มากกว่า itos เนื่องจากมีหลาย ๆ คำ ถูก Map ไปเป็น Unknown เพื่อจำกัดจำนวน vocab"
      ]
    },
    {
      "cell_type": "code",
      "metadata": {
        "id": "Q38bS_ugnTNf",
        "colab_type": "code",
        "outputId": "e0a302d5-7a61-41f5-cc92-ff78a88b7651",
        "colab": {
          "base_uri": "https://localhost:8080/",
          "height": 34
        }
      },
      "source": [
        "len(movie_reviews.vocab.itos), len(movie_reviews.vocab.stoi)"
      ],
      "execution_count": 119,
      "outputs": [
        {
          "output_type": "execute_result",
          "data": {
            "text/plain": [
              "(6008, 19161)"
            ]
          },
          "metadata": {
            "tags": []
          },
          "execution_count": 119
        }
      ]
    },
    {
      "cell_type": "markdown",
      "metadata": {
        "id": "BA-MSj8NLYBL",
        "colab_type": "text"
      },
      "source": [
        "ดูตัวอย่างคำว่า love เป็น คำลำดับที่ 142 ใน vocab"
      ]
    },
    {
      "cell_type": "code",
      "metadata": {
        "id": "jnafP9s7n2zO",
        "colab_type": "code",
        "outputId": "cafe2d7c-33de-4273-f4db-4abeae65bd0a",
        "colab": {
          "base_uri": "https://localhost:8080/",
          "height": 34
        }
      },
      "source": [
        "movie_reviews.vocab.stoi['love']"
      ],
      "execution_count": 120,
      "outputs": [
        {
          "output_type": "execute_result",
          "data": {
            "text/plain": [
              "142"
            ]
          },
          "metadata": {
            "tags": []
          },
          "execution_count": 120
        }
      ]
    },
    {
      "cell_type": "markdown",
      "metadata": {
        "id": "GZac5HGwLuIJ",
        "colab_type": "text"
      },
      "source": [
        "ดูคำที่ 142 ใน vocab itos เป็นคำว่า love จริง ๆ"
      ]
    },
    {
      "cell_type": "code",
      "metadata": {
        "id": "p_YeZ1wKosAS",
        "colab_type": "code",
        "outputId": "f798f1d8-e357-40e7-f2c3-390850c70127",
        "colab": {
          "base_uri": "https://localhost:8080/",
          "height": 34
        }
      },
      "source": [
        "movie_reviews.vocab.itos[142]"
      ],
      "execution_count": 121,
      "outputs": [
        {
          "output_type": "execute_result",
          "data": {
            "text/plain": [
              "'love'"
            ]
          },
          "metadata": {
            "tags": []
          },
          "execution_count": 121
        }
      ]
    },
    {
      "cell_type": "markdown",
      "metadata": {
        "id": "CCf_6jiSMoNI",
        "colab_type": "text"
      },
      "source": [
        "ดู vocab ในช่วงคำว่า love"
      ]
    },
    {
      "cell_type": "code",
      "metadata": {
        "id": "OaaSO_mfoysi",
        "colab_type": "code",
        "outputId": "326ccce0-13a2-4cd3-b970-1a17b9d31ba9",
        "colab": {
          "base_uri": "https://localhost:8080/",
          "height": 34
        }
      },
      "source": [
        "movie_reviews.vocab.itos[140:149]"
      ],
      "execution_count": 122,
      "outputs": [
        {
          "output_type": "execute_result",
          "data": {
            "text/plain": [
              "['life', 'characters', 'love', 'your', 'here', 'know', 'scenes', 'best', 'end']"
            ]
          },
          "metadata": {
            "tags": []
          },
          "execution_count": 122
        }
      ]
    },
    {
      "cell_type": "markdown",
      "metadata": {
        "id": "x_iLyVGhNeX2",
        "colab_type": "text"
      },
      "source": [
        "ดู vocab 20 คำท้ายสุด"
      ]
    },
    {
      "cell_type": "code",
      "metadata": {
        "id": "FyVXWIrro6Lc",
        "colab_type": "code",
        "outputId": "d9d19ca6-52b9-4d96-df25-5041758f3bb9",
        "colab": {
          "base_uri": "https://localhost:8080/",
          "height": 357
        }
      },
      "source": [
        "movie_reviews.vocab.itos[-20:]"
      ],
      "execution_count": 123,
      "outputs": [
        {
          "output_type": "execute_result",
          "data": {
            "text/plain": [
              "['uncritical',\n",
              " 'whack',\n",
              " 'heavies',\n",
              " 'poe',\n",
              " 'monstervision',\n",
              " 'penn',\n",
              " 'shrine',\n",
              " 'lupino',\n",
              " 'pegg',\n",
              " 'grasshoppers',\n",
              " 'flik',\n",
              " 'ladder',\n",
              " 'wtc',\n",
              " 'portuguese',\n",
              " 'della',\n",
              " 'contractor',\n",
              " 'coaxes',\n",
              " 'mabuse',\n",
              " 'greyson',\n",
              " 'sollett']"
            ]
          },
          "metadata": {
            "tags": []
          },
          "execution_count": 123
        }
      ]
    },
    {
      "cell_type": "markdown",
      "metadata": {
        "id": "JUmY-GcrN46N",
        "colab_type": "text"
      },
      "source": [
        "ดู vocab 20 คำแรก คำแรก ๆ จะเป็น Reserved Token รายละเอียดดังนี้ [Sentiment Analysis ep.1 / Tokenization](https://www.bualabs.com/archives/926/sentiment-analysis-imdb-movie-review-ulmfit-sentiment-analysis-ep-1/#Tokenization)\n",
        "\n",
        "\n",
        "\n"
      ]
    },
    {
      "cell_type": "code",
      "metadata": {
        "id": "xqkg3EZ7pHqM",
        "colab_type": "code",
        "outputId": "bfd81460-2867-4e99-deea-ccf23b000b25",
        "colab": {
          "base_uri": "https://localhost:8080/",
          "height": 357
        }
      },
      "source": [
        "movie_reviews.vocab.itos[:20]"
      ],
      "execution_count": 124,
      "outputs": [
        {
          "output_type": "execute_result",
          "data": {
            "text/plain": [
              "['xxunk',\n",
              " 'xxpad',\n",
              " 'xxbos',\n",
              " 'xxeos',\n",
              " 'xxfld',\n",
              " 'xxmaj',\n",
              " 'xxup',\n",
              " 'xxrep',\n",
              " 'xxwrep',\n",
              " 'the',\n",
              " '.',\n",
              " ',',\n",
              " 'and',\n",
              " 'a',\n",
              " 'of',\n",
              " 'to',\n",
              " 'is',\n",
              " 'it',\n",
              " 'in',\n",
              " 'i']"
            ]
          },
          "metadata": {
            "tags": []
          },
          "execution_count": 124
        }
      ]
    },
    {
      "cell_type": "markdown",
      "metadata": {
        "id": "DNizz02iPPmC",
        "colab_type": "text"
      },
      "source": [
        "แสดง Text และ เลขลำดับ คู่กัน"
      ]
    },
    {
      "cell_type": "code",
      "metadata": {
        "id": "HCYWUbGnpSxm",
        "colab_type": "code",
        "outputId": "ba06c384-6c41-42e5-eff0-84e8003d4459",
        "colab": {
          "base_uri": "https://localhost:8080/",
          "height": 357
        }
      },
      "source": [
        "from itertools import *\n",
        "list(islice(movie_reviews.vocab.stoi.items(), 20))"
      ],
      "execution_count": 125,
      "outputs": [
        {
          "output_type": "execute_result",
          "data": {
            "text/plain": [
              "[('xxunk', 0),\n",
              " ('xxpad', 1),\n",
              " ('xxbos', 2),\n",
              " ('xxeos', 3),\n",
              " ('xxfld', 4),\n",
              " ('xxmaj', 5),\n",
              " ('xxup', 6),\n",
              " ('xxrep', 7),\n",
              " ('xxwrep', 8),\n",
              " ('the', 9),\n",
              " ('.', 10),\n",
              " (',', 11),\n",
              " ('and', 12),\n",
              " ('a', 13),\n",
              " ('of', 14),\n",
              " ('to', 15),\n",
              " ('is', 16),\n",
              " ('it', 17),\n",
              " ('in', 18),\n",
              " ('i', 19)]"
            ]
          },
          "metadata": {
            "tags": []
          },
          "execution_count": 125
        }
      ]
    },
    {
      "cell_type": "markdown",
      "metadata": {
        "id": "hVVUMk2MtFpn",
        "colab_type": "text"
      },
      "source": [
        "คำที่อยู่นอก vocab Dictionary จะถูก Map เป็น Unknown (xxunk)"
      ]
    },
    {
      "cell_type": "code",
      "metadata": {
        "id": "SHKoyRCWpo5y",
        "colab_type": "code",
        "outputId": "e8d7e05d-f044-4145-c1ad-92a5cb3069e3",
        "colab": {
          "base_uri": "https://localhost:8080/",
          "height": 34
        }
      },
      "source": [
        "i = movie_reviews.vocab.stoi['bualabs']\n",
        "movie_reviews.vocab.itos[i], i"
      ],
      "execution_count": 126,
      "outputs": [
        {
          "output_type": "execute_result",
          "data": {
            "text/plain": [
              "('xxunk', 0)"
            ]
          },
          "metadata": {
            "tags": []
          },
          "execution_count": 126
        }
      ]
    },
    {
      "cell_type": "code",
      "metadata": {
        "id": "k06572ffqeQy",
        "colab_type": "code",
        "outputId": "3781adff-0f3c-459f-b527-07fb8c853f11",
        "colab": {
          "base_uri": "https://localhost:8080/",
          "height": 34
        }
      },
      "source": [
        "i = movie_reviews.vocab.stoi['suvarnabhumi']\n",
        "movie_reviews.vocab.itos[i], i"
      ],
      "execution_count": 127,
      "outputs": [
        {
          "output_type": "execute_result",
          "data": {
            "text/plain": [
              "('xxunk', 0)"
            ]
          },
          "metadata": {
            "tags": []
          },
          "execution_count": 127
        }
      ]
    },
    {
      "cell_type": "code",
      "metadata": {
        "id": "w3HC8kucrGlP",
        "colab_type": "code",
        "outputId": "0f89e44a-ce82-4e9f-e73f-8bf867989674",
        "colab": {
          "base_uri": "https://localhost:8080/",
          "height": 34
        }
      },
      "source": [
        "i = movie_reviews.vocab.stoi['airport']\n",
        "movie_reviews.vocab.itos[i], i"
      ],
      "execution_count": 128,
      "outputs": [
        {
          "output_type": "execute_result",
          "data": {
            "text/plain": [
              "('airport', 4978)"
            ]
          },
          "metadata": {
            "tags": []
          },
          "execution_count": 128
        }
      ]
    },
    {
      "cell_type": "markdown",
      "metadata": {
        "id": "o_lszzHotiu_",
        "colab_type": "text"
      },
      "source": [
        "เลือก x ของ Record แรก ของ Training Set ดูข้อความ"
      ]
    },
    {
      "cell_type": "code",
      "metadata": {
        "id": "ik14WzgrsVDx",
        "colab_type": "code",
        "outputId": "0937050b-d333-491b-b3ca-e8bd0017f13d",
        "colab": {
          "base_uri": "https://localhost:8080/",
          "height": 54
        }
      },
      "source": [
        "t = movie_reviews.train[0][0]\n",
        "t"
      ],
      "execution_count": 129,
      "outputs": [
        {
          "output_type": "execute_result",
          "data": {
            "text/plain": [
              "Text xxbos xxmaj un - xxunk - believable ! xxmaj meg xxmaj ryan does n't even look her usual xxunk lovable self in this , which normally makes me forgive her shallow xxunk acting xxunk . xxmaj hard to believe she was the producer on this dog . xxmaj plus xxmaj kevin xxmaj kline : what kind of suicide trip has his career been on ? xxmaj xxunk ... xxmaj xxunk ! ! ! xxmaj finally this was directed by the guy who did xxmaj big xxmaj xxunk ? xxmaj must be a replay of xxmaj jonestown - hollywood style . xxmaj xxunk !"
            ]
          },
          "metadata": {
            "tags": []
          },
          "execution_count": 129
        }
      ]
    },
    {
      "cell_type": "markdown",
      "metadata": {
        "id": "aCRJJiDgtyV7",
        "colab_type": "text"
      },
      "source": [
        "ภายใน x จะถูก Tokenize, Numberize แปลงเป็นตัวเลขเรียบร้อยแล้ว"
      ]
    },
    {
      "cell_type": "code",
      "metadata": {
        "id": "KnsmTdXGsa0L",
        "colab_type": "code",
        "outputId": "eb52492b-2d51-4008-df5a-bcd35edb6bb5",
        "colab": {
          "base_uri": "https://localhost:8080/",
          "height": 51
        }
      },
      "source": [
        "t.data[:30]"
      ],
      "execution_count": 130,
      "outputs": [
        {
          "output_type": "execute_result",
          "data": {
            "text/plain": [
              "array([   2,    5, 4619,   25,    0,   25,  867,   52,    5, 3776,    5, 1800,   95,   37,   85,  191,   64,  935,\n",
              "          0, 2738,  517,   18,   21,   11,   84, 2417,  192,   88, 3777,   64])"
            ]
          },
          "metadata": {
            "tags": []
          },
          "execution_count": 130
        }
      ]
    },
    {
      "cell_type": "markdown",
      "metadata": {
        "id": "AxFHq6OKsj4B",
        "colab_type": "text"
      },
      "source": [
        "# 4. Creating Term-Document Matrix"
      ]
    },
    {
      "cell_type": "markdown",
      "metadata": {
        "id": "KHatR2V2Qopi",
        "colab_type": "text"
      },
      "source": [
        "นำข้อมูลจากด้านบน มาสร้าง Term-Document Matrix"
      ]
    },
    {
      "cell_type": "markdown",
      "metadata": {
        "id": "sO8C77ucxbJ7",
        "colab_type": "text"
      },
      "source": [
        "## 4.1 Counter"
      ]
    },
    {
      "cell_type": "markdown",
      "metadata": {
        "id": "gHYJmfLOQ7CJ",
        "colab_type": "text"
      },
      "source": [
        "ตัวอย่างการใช้งาน Counter class"
      ]
    },
    {
      "cell_type": "code",
      "metadata": {
        "id": "S9gcg-ixsn7B",
        "colab_type": "code",
        "outputId": "1c4c3aa1-dfc5-403d-b465-d0deb1b82551",
        "colab": {
          "base_uri": "https://localhost:8080/",
          "height": 34
        }
      },
      "source": [
        "c = Counter([1, 2, 3, 4, 5, \n",
        "             1, 2, 3, 4, \n",
        "             1, 2, 3, \n",
        "             1, 2, \n",
        "             1])\n",
        "c"
      ],
      "execution_count": 131,
      "outputs": [
        {
          "output_type": "execute_result",
          "data": {
            "text/plain": [
              "Counter({1: 5, 2: 4, 3: 3, 4: 2, 5: 1})"
            ]
          },
          "metadata": {
            "tags": []
          },
          "execution_count": 131
        }
      ]
    },
    {
      "cell_type": "markdown",
      "metadata": {
        "id": "IQMAlscORAOh",
        "colab_type": "text"
      },
      "source": [
        "จะนับครั้งที่ข้อมูลปรากฎ มาใส่ใน Dictionary"
      ]
    },
    {
      "cell_type": "code",
      "metadata": {
        "id": "EdRMkrAlsoSC",
        "colab_type": "code",
        "outputId": "f7034d0d-19e7-48a0-c6ef-79254079ab86",
        "colab": {
          "base_uri": "https://localhost:8080/",
          "height": 34
        }
      },
      "source": [
        "c.keys(), c.values()"
      ],
      "execution_count": 132,
      "outputs": [
        {
          "output_type": "execute_result",
          "data": {
            "text/plain": [
              "(dict_keys([1, 2, 3, 4, 5]), dict_values([5, 4, 3, 2, 1]))"
            ]
          },
          "metadata": {
            "tags": []
          },
          "execution_count": 132
        }
      ]
    },
    {
      "cell_type": "markdown",
      "metadata": {
        "id": "8H95Yoj0soW3",
        "colab_type": "text"
      },
      "source": [
        "## 4.2 Term-Document Matrix as Sparse Matrix"
      ]
    },
    {
      "cell_type": "markdown",
      "metadata": {
        "id": "NXTMcrh64TSA",
        "colab_type": "text"
      },
      "source": [
        "เนื่องจาก ใน 1 รีวิว ไม่ได้ยาวมาก ไม่ได้มีคำหลากหลาย แต่ 1 รีวิวใช้เพียง 100 กว่าคำ จาก vocab 6000 กว่าคำ ทำให้ Term-Document Matrix นี้ส่วนใหญ่มีค่าเป็น 0 เรียกว่า [Sparse Matrix](https://www.bualabs.com/archives/tag/sparse-matrix/) จะอธิบายต่อไป"
      ]
    },
    {
      "cell_type": "code",
      "metadata": {
        "id": "-wlr2Aslsobr",
        "colab_type": "code",
        "outputId": "8731d42c-eb1c-483e-bd37-d1b73de091c9",
        "colab": {
          "base_uri": "https://localhost:8080/",
          "height": 1000
        }
      },
      "source": [
        "c = Counter(movie_reviews.valid.x[0].data)\n",
        "len(c), c"
      ],
      "execution_count": 133,
      "outputs": [
        {
          "output_type": "execute_result",
          "data": {
            "text/plain": [
              "(95,\n",
              " Counter({0: 32,\n",
              "          2: 1,\n",
              "          5: 32,\n",
              "          6: 1,\n",
              "          9: 10,\n",
              "          10: 7,\n",
              "          11: 10,\n",
              "          12: 1,\n",
              "          13: 4,\n",
              "          14: 6,\n",
              "          15: 6,\n",
              "          16: 4,\n",
              "          18: 2,\n",
              "          20: 1,\n",
              "          21: 3,\n",
              "          23: 1,\n",
              "          24: 3,\n",
              "          25: 2,\n",
              "          26: 1,\n",
              "          27: 3,\n",
              "          30: 1,\n",
              "          44: 1,\n",
              "          45: 1,\n",
              "          49: 1,\n",
              "          50: 3,\n",
              "          52: 1,\n",
              "          54: 2,\n",
              "          58: 1,\n",
              "          59: 1,\n",
              "          63: 2,\n",
              "          71: 1,\n",
              "          74: 1,\n",
              "          77: 1,\n",
              "          84: 1,\n",
              "          109: 1,\n",
              "          115: 1,\n",
              "          149: 1,\n",
              "          189: 1,\n",
              "          194: 1,\n",
              "          197: 2,\n",
              "          204: 1,\n",
              "          207: 1,\n",
              "          221: 1,\n",
              "          239: 1,\n",
              "          251: 1,\n",
              "          258: 1,\n",
              "          285: 1,\n",
              "          288: 1,\n",
              "          319: 1,\n",
              "          324: 1,\n",
              "          337: 1,\n",
              "          358: 1,\n",
              "          378: 1,\n",
              "          404: 1,\n",
              "          409: 1,\n",
              "          430: 1,\n",
              "          456: 1,\n",
              "          478: 1,\n",
              "          541: 1,\n",
              "          571: 1,\n",
              "          579: 1,\n",
              "          594: 1,\n",
              "          605: 1,\n",
              "          608: 1,\n",
              "          666: 2,\n",
              "          710: 1,\n",
              "          736: 1,\n",
              "          748: 1,\n",
              "          850: 1,\n",
              "          966: 1,\n",
              "          1057: 1,\n",
              "          1107: 1,\n",
              "          1331: 1,\n",
              "          1335: 1,\n",
              "          1346: 1,\n",
              "          1833: 1,\n",
              "          1843: 1,\n",
              "          1902: 1,\n",
              "          2110: 1,\n",
              "          2420: 1,\n",
              "          2595: 1,\n",
              "          2601: 1,\n",
              "          2705: 1,\n",
              "          2743: 1,\n",
              "          2764: 1,\n",
              "          2817: 1,\n",
              "          2875: 1,\n",
              "          3429: 1,\n",
              "          3480: 1,\n",
              "          3963: 1,\n",
              "          4051: 1,\n",
              "          4126: 1,\n",
              "          4736: 1,\n",
              "          5035: 1,\n",
              "          5821: 1}))"
            ]
          },
          "metadata": {
            "tags": []
          },
          "execution_count": 133
        }
      ]
    },
    {
      "cell_type": "markdown",
      "metadata": {
        "id": "oAzZYgDEShrA",
        "colab_type": "text"
      },
      "source": [
        "จากด้านบน ดู Token ที่ปรากฎหลาย ๆ ครั้ง ปรากฎว่าเป็น Token พิเศษ Unknow, Begin of sentense, ตัว Capital, ตัวใหญ่ และ คำว่า The"
      ]
    },
    {
      "cell_type": "code",
      "metadata": {
        "id": "AvY1oH6Wsofw",
        "colab_type": "code",
        "outputId": "fc53262c-c00c-4652-f10b-7930ebc2f77b",
        "colab": {
          "base_uri": "https://localhost:8080/",
          "height": 34
        }
      },
      "source": [
        "idx = [0, 2, 5, 6, 9]\n",
        "[movie_reviews.vocab.itos[i] for i in idx]"
      ],
      "execution_count": 134,
      "outputs": [
        {
          "output_type": "execute_result",
          "data": {
            "text/plain": [
              "['xxunk', 'xxbos', 'xxmaj', 'xxup', 'the']"
            ]
          },
          "metadata": {
            "tags": []
          },
          "execution_count": 134
        }
      ]
    },
    {
      "cell_type": "markdown",
      "metadata": {
        "id": "Qr9dDgb4S6Q7",
        "colab_type": "text"
      },
      "source": [
        "ดูตัวอย่างข้อมูล Record แรก ใน Validation Set "
      ]
    },
    {
      "cell_type": "code",
      "metadata": {
        "id": "xo8O86PP48YJ",
        "colab_type": "code",
        "outputId": "c851f00a-12c5-4355-ca83-d30fb370b5d2",
        "colab": {
          "base_uri": "https://localhost:8080/",
          "height": 139
        }
      },
      "source": [
        "movie_reviews.valid.y[1], movie_reviews.valid.x[1]"
      ],
      "execution_count": 135,
      "outputs": [
        {
          "output_type": "execute_result",
          "data": {
            "text/plain": [
              "(Category positive,\n",
              " Text xxbos i saw this movie once as a kid on the late - late show and fell in love with it . \n",
              "  \n",
              "   xxmaj it took 30 + years , but i recently did find it on xxup dvd - it was n't cheap , either - in a xxunk that xxunk in war movies . xxmaj we watched it last night for the first time . xxmaj the audio was good , however it was grainy and had the trailers between xxunk . xxmaj even so , it was better than i remembered it . i was also impressed at how true it was to the play . \n",
              "  \n",
              "   xxmaj the xxunk is around here xxunk . xxmaj if you 're xxunk in finding it , fire me a xxunk and i 'll see if i can get you the xxunk . xxunk)"
            ]
          },
          "metadata": {
            "tags": []
          },
          "execution_count": 135
        }
      ]
    },
    {
      "cell_type": "markdown",
      "metadata": {
        "id": "cQ5sznD3VkBY",
        "colab_type": "text"
      },
      "source": [
        "ดู label และ ข้อมล ที่แปลงเป็น ตัวเลข แล้ว ทั้งหมด"
      ]
    },
    {
      "cell_type": "code",
      "metadata": {
        "id": "4i0OXvCrx1cC",
        "colab_type": "code",
        "outputId": "cb78eff1-6fa4-4612-f035-b42c564a4796",
        "colab": {
          "base_uri": "https://localhost:8080/",
          "height": 34
        }
      },
      "source": [
        "movie_reviews.valid.y[1].data, movie_reviews.valid.x[1].data"
      ],
      "execution_count": 136,
      "outputs": [
        {
          "output_type": "execute_result",
          "data": {
            "text/plain": [
              "(1, array([  2,  19, 248,  21, ...,   9,   0,  10,   0]))"
            ]
          },
          "metadata": {
            "tags": []
          },
          "execution_count": 136
        }
      ]
    },
    {
      "cell_type": "markdown",
      "metadata": {
        "id": "9yJXKHOyV80r",
        "colab_type": "text"
      },
      "source": [
        "ประกาศฟังก์ชัน สร้าง Term-Document Matrix โดย output เป็น Sparse Matrix แบบ Compressed sparse row (CSR, CRS หรือ Yale format)"
      ]
    },
    {
      "cell_type": "code",
      "metadata": {
        "id": "RRJ43Ybi4fES",
        "colab_type": "code",
        "colab": {}
      },
      "source": [
        "def get_term_doc_matrix(label_list, vocab_len):\n",
        "    j_indices = []\n",
        "    indptr = []\n",
        "    values = []\n",
        "    indptr.append(0)\n",
        "\n",
        "    for i, doc in enumerate(label_list):\n",
        "        feature_counter = Counter(doc.data)\n",
        "        j_indices.extend(feature_counter.keys())\n",
        "        values.extend(feature_counter.values())\n",
        "        indptr.append(len(j_indices))\n",
        "\n",
        "    # return (values, j_indices, indptr)\n",
        "\n",
        "    return scipy.sparse.csr_matrix((values, j_indices, indptr), \n",
        "                                   shape=(len(indptr)-1, vocab_len), \n",
        "                                   dtype=int)"
      ],
      "execution_count": 0,
      "outputs": []
    },
    {
      "cell_type": "markdown",
      "metadata": {
        "id": "jOwMzXZnWTQr",
        "colab_type": "text"
      },
      "source": [
        "จับเวลาการสร้าง Term-Document Matrix ด้วยข้อมูล Validation Set"
      ]
    },
    {
      "cell_type": "code",
      "metadata": {
        "id": "I_ENiz25-jmi",
        "colab_type": "code",
        "outputId": "922d2e64-f46b-44a2-f659-327a60b12c92",
        "colab": {
          "base_uri": "https://localhost:8080/",
          "height": 51
        }
      },
      "source": [
        "%%time\n",
        "val_term_doc = get_term_doc_matrix(movie_reviews.valid.x, len(movie_reviews.vocab.itos))"
      ],
      "execution_count": 138,
      "outputs": [
        {
          "output_type": "stream",
          "text": [
            "CPU times: user 41.2 ms, sys: 2.85 ms, total: 44 ms\n",
            "Wall time: 44.8 ms\n"
          ],
          "name": "stdout"
        }
      ]
    },
    {
      "cell_type": "markdown",
      "metadata": {
        "id": "v0bmnlMuWZqo",
        "colab_type": "text"
      },
      "source": [
        "จับเวลาการสร้าง Term-Document Matrix ด้วยข้อมูล Training Set"
      ]
    },
    {
      "cell_type": "code",
      "metadata": {
        "id": "L3ZO9Hf9_OB9",
        "colab_type": "code",
        "outputId": "a9040213-c81b-438a-9f60-0deb1d4e823e",
        "colab": {
          "base_uri": "https://localhost:8080/",
          "height": 51
        }
      },
      "source": [
        "%%time\n",
        "trn_term_doc = get_term_doc_matrix(movie_reviews.train.x, len(movie_reviews.vocab.itos))"
      ],
      "execution_count": 139,
      "outputs": [
        {
          "output_type": "stream",
          "text": [
            "CPU times: user 144 ms, sys: 3.05 ms, total: 147 ms\n",
            "Wall time: 147 ms\n"
          ],
          "name": "stdout"
        }
      ]
    },
    {
      "cell_type": "markdown",
      "metadata": {
        "id": "XvxDRBIPWeFK",
        "colab_type": "text"
      },
      "source": [
        "ได้ output ออกมา จำนวน column เท่ากับ ขนาด vocab Dictionary"
      ]
    },
    {
      "cell_type": "code",
      "metadata": {
        "id": "g_fAvwjX_W3K",
        "colab_type": "code",
        "outputId": "beeab93b-9323-4a82-ebf7-260c36ad0a9c",
        "colab": {
          "base_uri": "https://localhost:8080/",
          "height": 34
        }
      },
      "source": [
        "trn_term_doc.shape"
      ],
      "execution_count": 140,
      "outputs": [
        {
          "output_type": "execute_result",
          "data": {
            "text/plain": [
              "(800, 6008)"
            ]
          },
          "metadata": {
            "tags": []
          },
          "execution_count": 140
        }
      ]
    },
    {
      "cell_type": "code",
      "metadata": {
        "id": "MAz2ojeiAIej",
        "colab_type": "code",
        "outputId": "22c9ec7d-e775-4564-a62b-9079744a04be",
        "colab": {
          "base_uri": "https://localhost:8080/",
          "height": 34
        }
      },
      "source": [
        "val_term_doc.shape"
      ],
      "execution_count": 141,
      "outputs": [
        {
          "output_type": "execute_result",
          "data": {
            "text/plain": [
              "(200, 6008)"
            ]
          },
          "metadata": {
            "tags": []
          },
          "execution_count": 141
        }
      ]
    },
    {
      "cell_type": "markdown",
      "metadata": {
        "id": "YTLGncpSAQTZ",
        "colab_type": "text"
      },
      "source": [
        "## 4.3 Sparse Matrix vs Dense Matrix"
      ]
    },
    {
      "cell_type": "markdown",
      "metadata": {
        "id": "RdjvH75DX1ZG",
        "colab_type": "text"
      },
      "source": [
        "Sparse จะถูกจัดเก็บด้วยวิธีเฉพาะ เพื่อประหยัดเนื้อที่ ทำให้บางทีเราไม่สามารถเรียกดูข้อมูลตรง ๆ ได้"
      ]
    },
    {
      "cell_type": "code",
      "metadata": {
        "id": "VLtJ2-TL_Zkd",
        "colab_type": "code",
        "outputId": "a164a3a3-aa3d-4948-e71a-bd194d63fc6f",
        "colab": {
          "base_uri": "https://localhost:8080/",
          "height": 51
        }
      },
      "source": [
        "trn_term_doc[:, -10:]"
      ],
      "execution_count": 50,
      "outputs": [
        {
          "output_type": "execute_result",
          "data": {
            "text/plain": [
              "<800x10 sparse matrix of type '<class 'numpy.int64'>'\n",
              "\twith 10 stored elements in Compressed Sparse Row format>"
            ]
          },
          "metadata": {
            "tags": []
          },
          "execution_count": 50
        }
      ]
    },
    {
      "cell_type": "markdown",
      "metadata": {
        "id": "e9870HKIYFPo",
        "colab_type": "text"
      },
      "source": [
        "เราต้องเรียน todense เพื่อแปลงเป็น Matrix ปกติก่อน"
      ]
    },
    {
      "cell_type": "code",
      "metadata": {
        "id": "qFgAdgHTACXy",
        "colab_type": "code",
        "outputId": "fadc824a-3341-4e47-aaf8-6927b758a570",
        "colab": {
          "base_uri": "https://localhost:8080/",
          "height": 153
        }
      },
      "source": [
        "trn_term_doc.todense()[:8, :8]"
      ],
      "execution_count": 51,
      "outputs": [
        {
          "output_type": "execute_result",
          "data": {
            "text/plain": [
              "matrix([[ 8,  0,  1,  0,  0, 15,  0,  0],\n",
              "        [22,  0,  1,  0,  0, 33,  2,  0],\n",
              "        [ 4,  0,  1,  0,  0, 16,  2,  0],\n",
              "        [13,  0,  1,  0,  0, 11,  0,  0],\n",
              "        [12,  0,  1,  0,  0, 21,  0,  0],\n",
              "        [ 4,  0,  1,  0,  0, 12,  1,  0],\n",
              "        [ 4,  0,  1,  0,  0, 15,  0,  0],\n",
              "        [42,  0,  1,  0,  0, 43, 14,  0]])"
            ]
          },
          "metadata": {
            "tags": []
          },
          "execution_count": 51
        }
      ]
    },
    {
      "cell_type": "markdown",
      "metadata": {
        "id": "dFOH5COi1RgU",
        "colab_type": "text"
      },
      "source": [
        "นำส่วนหนึ่งมาพล็อต Heatmap ดู จะเห็นว่า Sparse มาก ๆ"
      ]
    },
    {
      "cell_type": "code",
      "metadata": {
        "id": "2I2G8--hztxl",
        "colab_type": "code",
        "colab": {
          "base_uri": "https://localhost:8080/",
          "height": 873
        },
        "outputId": "af4ffc9a-0445-43e0-8fd8-2b2e67d6c10c"
      },
      "source": [
        "fig, ax = plt.subplots(figsize=(12, 12))\n",
        "ax.imshow(trn_term_doc.todense()[:200, :200], interpolation='nearest')\n",
        "plt.tight_layout()"
      ],
      "execution_count": 160,
      "outputs": [
        {
          "output_type": "display_data",
          "data": {
            "image/png": "[encoded data removed]",
            "text/plain": [
              "<Figure size 864x864 with 1 Axes>"
            ]
          },
          "metadata": {
            "tags": []
          }
        }
      ]
    },
    {
      "cell_type": "markdown",
      "metadata": {
        "id": "HWqQaErCJPQx",
        "colab_type": "text"
      },
      "source": [
        "## 4.4 Data Exploration"
      ]
    },
    {
      "cell_type": "markdown",
      "metadata": {
        "id": "DbR0yogJYUfX",
        "colab_type": "text"
      },
      "source": [
        "เราจะมา สำรวจข้อมูล ทำ Data Exploration กันต่อ"
      ]
    },
    {
      "cell_type": "code",
      "metadata": {
        "id": "yVRvNEdywnFS",
        "colab_type": "code",
        "colab": {}
      },
      "source": [
        "v = movie_reviews.vocab"
      ],
      "execution_count": 0,
      "outputs": []
    },
    {
      "cell_type": "markdown",
      "metadata": {
        "id": "y7zMnELxaROw",
        "colab_type": "text"
      },
      "source": [
        "ดู Token แรกใน vocab"
      ]
    },
    {
      "cell_type": "code",
      "metadata": {
        "id": "qQggyZbDwh7i",
        "colab_type": "code",
        "outputId": "3f8c1bda-3bae-4212-c54e-8d7bc446bf0f",
        "colab": {
          "base_uri": "https://localhost:8080/",
          "height": 34
        }
      },
      "source": [
        "v.itos[0]"
      ],
      "execution_count": 53,
      "outputs": [
        {
          "output_type": "execute_result",
          "data": {
            "text/plain": [
              "'xxunk'"
            ]
          },
          "metadata": {
            "tags": []
          },
          "execution_count": 53
        }
      ]
    },
    {
      "cell_type": "markdown",
      "metadata": {
        "id": "Fqpd6GOwaXVY",
        "colab_type": "text"
      },
      "source": [
        "ดู Token สุดท้ายใน vocab"
      ]
    },
    {
      "cell_type": "code",
      "metadata": {
        "id": "-Ue9a32eAUAZ",
        "colab_type": "code",
        "outputId": "419da89d-0494-4881-9daa-71a032ac0163",
        "colab": {
          "base_uri": "https://localhost:8080/",
          "height": 34
        }
      },
      "source": [
        "v.itos[-1:]"
      ],
      "execution_count": 54,
      "outputs": [
        {
          "output_type": "execute_result",
          "data": {
            "text/plain": [
              "['sollett']"
            ]
          },
          "metadata": {
            "tags": []
          },
          "execution_count": 54
        }
      ]
    },
    {
      "cell_type": "markdown",
      "metadata": {
        "id": "AgzNC0E-aa5_",
        "colab_type": "text"
      },
      "source": [
        "ดู Token ที่ 4 ใน vocab"
      ]
    },
    {
      "cell_type": "code",
      "metadata": {
        "id": "s-FOZj2oAUHE",
        "colab_type": "code",
        "outputId": "13374068-f53c-4f1d-830f-4e67b1f8445f",
        "colab": {
          "base_uri": "https://localhost:8080/",
          "height": 34
        }
      },
      "source": [
        "v.itos[3]"
      ],
      "execution_count": 55,
      "outputs": [
        {
          "output_type": "execute_result",
          "data": {
            "text/plain": [
              "'xxeos'"
            ]
          },
          "metadata": {
            "tags": []
          },
          "execution_count": 55
        }
      ]
    },
    {
      "cell_type": "markdown",
      "metadata": {
        "id": "ulYDONmLF3JQ",
        "colab_type": "text"
      },
      "source": [
        "เราจะมาดูตัวอย่างข้อความ Record ที่ 1 ใน Validation Set มีคำว่า Late 2 คำ ในข้อความ"
      ]
    },
    {
      "cell_type": "code",
      "metadata": {
        "id": "ECUORUpUFCdA",
        "colab_type": "code",
        "outputId": "89c24ee3-07b0-45de-919e-fe82bc3873be",
        "colab": {
          "base_uri": "https://localhost:8080/",
          "height": 122
        }
      },
      "source": [
        "review = movie_reviews.valid.x[1]; review"
      ],
      "execution_count": 56,
      "outputs": [
        {
          "output_type": "execute_result",
          "data": {
            "text/plain": [
              "Text xxbos i saw this movie once as a kid on the late - late show and fell in love with it . \n",
              " \n",
              "  xxmaj it took 30 + years , but i recently did find it on xxup dvd - it was n't cheap , either - in a xxunk that xxunk in war movies . xxmaj we watched it last night for the first time . xxmaj the audio was good , however it was grainy and had the trailers between xxunk . xxmaj even so , it was better than i remembered it . i was also impressed at how true it was to the play . \n",
              " \n",
              "  xxmaj the xxunk is around here xxunk . xxmaj if you 're xxunk in finding it , fire me a xxunk and i 'll see if i can get you the xxunk . xxunk"
            ]
          },
          "metadata": {
            "tags": []
          },
          "execution_count": 56
        }
      ]
    },
    {
      "cell_type": "markdown",
      "metadata": {
        "id": "xmk0kgCOF9ou",
        "colab_type": "text"
      },
      "source": [
        "คำว่า Late คือคำที่ 451 ใน vocab Dictionary"
      ]
    },
    {
      "cell_type": "code",
      "metadata": {
        "id": "aOpq_uvhFO6f",
        "colab_type": "code",
        "outputId": "5cce18eb-b1c9-4f4d-f990-6408a00ce4b5",
        "colab": {
          "base_uri": "https://localhost:8080/",
          "height": 34
        }
      },
      "source": [
        "i = v.stoi['late']; i"
      ],
      "execution_count": 57,
      "outputs": [
        {
          "output_type": "execute_result",
          "data": {
            "text/plain": [
              "451"
            ]
          },
          "metadata": {
            "tags": []
          },
          "execution_count": 57
        }
      ]
    },
    {
      "cell_type": "markdown",
      "metadata": {
        "id": "FSW6BG4OGDI-",
        "colab_type": "text"
      },
      "source": [
        "ดูใน Validation Term-Document Matrix ที่ Row 1, Column 451 จะได้ 2"
      ]
    },
    {
      "cell_type": "code",
      "metadata": {
        "id": "P2-6Shp-Fgje",
        "colab_type": "code",
        "outputId": "a42b261e-9bc4-463e-de33-1b01d750a6a2",
        "colab": {
          "base_uri": "https://localhost:8080/",
          "height": 34
        }
      },
      "source": [
        "val_term_doc[1, 451]"
      ],
      "execution_count": 58,
      "outputs": [
        {
          "output_type": "execute_result",
          "data": {
            "text/plain": [
              "2"
            ]
          },
          "metadata": {
            "tags": []
          },
          "execution_count": 58
        }
      ]
    },
    {
      "cell_type": "markdown",
      "metadata": {
        "id": "Zsd4neBSGY8c",
        "colab_type": "text"
      },
      "source": [
        "ข้อความ Record ที่ 1 ใน Validation Set มีทั้งหมด 144 Token จาก 81 คำศัพท์"
      ]
    },
    {
      "cell_type": "code",
      "metadata": {
        "id": "AxiBrbDTFs39",
        "colab_type": "code",
        "outputId": "84479852-cfa9-44a3-ee61-1d962f54ade4",
        "colab": {
          "base_uri": "https://localhost:8080/",
          "height": 34
        }
      },
      "source": [
        "val_term_doc[1].sum(), (val_term_doc[1] > 0).sum()"
      ],
      "execution_count": 59,
      "outputs": [
        {
          "output_type": "execute_result",
          "data": {
            "text/plain": [
              "(144, 81)"
            ]
          },
          "metadata": {
            "tags": []
          },
          "execution_count": 59
        }
      ]
    },
    {
      "cell_type": "markdown",
      "metadata": {
        "id": "pE02lA3VIw80",
        "colab_type": "text"
      },
      "source": [
        "Token ที่ Numberize แล้ว"
      ]
    },
    {
      "cell_type": "code",
      "metadata": {
        "id": "fE1sCJ7XHtmm",
        "colab_type": "code",
        "outputId": "4f3766c7-54a7-41c4-d517-5d7cedc673b5",
        "colab": {
          "base_uri": "https://localhost:8080/",
          "height": 34
        }
      },
      "source": [
        "review.data"
      ],
      "execution_count": 60,
      "outputs": [
        {
          "output_type": "execute_result",
          "data": {
            "text/plain": [
              "array([  2,  19, 248,  21, ...,   9,   0,  10,   0])"
            ]
          },
          "metadata": {
            "tags": []
          },
          "execution_count": 60
        }
      ]
    },
    {
      "cell_type": "markdown",
      "metadata": {
        "id": "RsU7AZnjIshQ",
        "colab_type": "text"
      },
      "source": [
        "แปลง Token ที่ Numberize แล้ว กลับเป็น Token ข้อความ"
      ]
    },
    {
      "cell_type": "code",
      "metadata": {
        "id": "Kcd_QziuGTYw",
        "colab_type": "code",
        "outputId": "6f49b470-dea0-4b9e-c4a9-1d066207407f",
        "colab": {
          "base_uri": "https://localhost:8080/",
          "height": 357
        }
      },
      "source": [
        "[v.itos[i] for i in review.data][:20]"
      ],
      "execution_count": 61,
      "outputs": [
        {
          "output_type": "execute_result",
          "data": {
            "text/plain": [
              "['xxbos',\n",
              " 'i',\n",
              " 'saw',\n",
              " 'this',\n",
              " 'movie',\n",
              " 'once',\n",
              " 'as',\n",
              " 'a',\n",
              " 'kid',\n",
              " 'on',\n",
              " 'the',\n",
              " 'late',\n",
              " '-',\n",
              " 'late',\n",
              " 'show',\n",
              " 'and',\n",
              " 'fell',\n",
              " 'in',\n",
              " 'love',\n",
              " 'with']"
            ]
          },
          "metadata": {
            "tags": []
          },
          "execution_count": 61
        }
      ]
    },
    {
      "cell_type": "markdown",
      "metadata": {
        "id": "4q8YX1yrJv9N",
        "colab_type": "text"
      },
      "source": [
        "## 4.5 Unknown Words"
      ]
    },
    {
      "cell_type": "markdown",
      "metadata": {
        "id": "2XpHbOvuJ9sh",
        "colab_type": "text"
      },
      "source": [
        "จำนวน itos ไม่เท่ากับ stoi เนื่องจาก หลายคำที่ปรากฎไม่บ่อย กลายเป็น Unknown เพื่อจำกัดขนาด vocab Dictionary"
      ]
    },
    {
      "cell_type": "code",
      "metadata": {
        "id": "Difd7H4mHRvK",
        "colab_type": "code",
        "outputId": "28818b8f-ecb4-4993-e979-a489a7aa499c",
        "colab": {
          "base_uri": "https://localhost:8080/",
          "height": 34
        }
      },
      "source": [
        "len(v.itos), len(v.stoi)"
      ],
      "execution_count": 62,
      "outputs": [
        {
          "output_type": "execute_result",
          "data": {
            "text/plain": [
              "(6008, 19163)"
            ]
          },
          "metadata": {
            "tags": []
          },
          "execution_count": 62
        }
      ]
    },
    {
      "cell_type": "markdown",
      "metadata": {
        "id": "XNep4M-rKQH_",
        "colab_type": "text"
      },
      "source": [
        "ต่างกันถึง 13155 คำ"
      ]
    },
    {
      "cell_type": "code",
      "metadata": {
        "id": "EqLxxgyLJ45W",
        "colab_type": "code",
        "outputId": "308ac65b-012a-496d-8460-997fa0324547",
        "colab": {
          "base_uri": "https://localhost:8080/",
          "height": 34
        }
      },
      "source": [
        "len(v.stoi) - len(v.itos)"
      ],
      "execution_count": 63,
      "outputs": [
        {
          "output_type": "execute_result",
          "data": {
            "text/plain": [
              "13155"
            ]
          },
          "metadata": {
            "tags": []
          },
          "execution_count": 63
        }
      ]
    },
    {
      "cell_type": "markdown",
      "metadata": {
        "id": "xBtapNFdJ8jD",
        "colab_type": "text"
      },
      "source": [
        "ดูรายการ Unknown Word ทั้งหมด"
      ]
    },
    {
      "cell_type": "code",
      "metadata": {
        "id": "IynDZlkZKa__",
        "colab_type": "code",
        "outputId": "2c95852e-ae9c-4af9-a237-711235648e1a",
        "colab": {
          "base_uri": "https://localhost:8080/",
          "height": 374
        }
      },
      "source": [
        "unk = [k for k, v in v.stoi.items() if v == 0]\n",
        "len(unk), unk[:20]"
      ],
      "execution_count": 64,
      "outputs": [
        {
          "output_type": "execute_result",
          "data": {
            "text/plain": [
              "(13156,\n",
              " ['xxunk',\n",
              "  'bleeping',\n",
              "  'pert',\n",
              "  'ticky',\n",
              "  'schtick',\n",
              "  'whoosh',\n",
              "  'banzai',\n",
              "  'chill',\n",
              "  'wooofff',\n",
              "  'cheery',\n",
              "  'superstars',\n",
              "  'fashionable',\n",
              "  'cruelly',\n",
              "  'separating',\n",
              "  'mistreat',\n",
              "  'tensions',\n",
              "  'religions',\n",
              "  'baseness',\n",
              "  'nobility',\n",
              "  'puro'])"
            ]
          },
          "metadata": {
            "tags": []
          },
          "execution_count": 64
        }
      ]
    },
    {
      "cell_type": "markdown",
      "metadata": {
        "id": "MmL0X-_vKbfg",
        "colab_type": "text"
      },
      "source": [
        "# 5. Sentiment Classification"
      ]
    },
    {
      "cell_type": "markdown",
      "metadata": {
        "id": "FPyS7EpUbSoV",
        "colab_type": "text"
      },
      "source": [
        "เราจะใช้ Term-Document Matrix ที่ได้จากด้านบน มาวิเคราะห์ความรู้สึก Sentiment Classification ว่ารีวินี้ เป็นแง่บวก หรือแง่ลบ ด้วยอัลกอริทึมต่าง ๆ "
      ]
    },
    {
      "cell_type": "markdown",
      "metadata": {
        "id": "f5PnfV3BOPOg",
        "colab_type": "text"
      },
      "source": [
        "## 5.1 Naive Bayes"
      ]
    },
    {
      "cell_type": "markdown",
      "metadata": {
        "id": "OKuSZ6uROPTd",
        "colab_type": "text"
      },
      "source": [
        "\n",
        "กำหนดสัดส่วน log-count ratio $r$ สำหรับแต่ละคำ $f$:\n",
        "\n",
        "$r = \\log \\frac{\\text{ratio of feature $f$ in positive documents}}{\\text{ratio of feature $f$ in negative documents}}$\n",
        "\n",
        "โดยสัดส่วนของฟีเจอร์ $f$ ในรีวิวแง่บวก คือ จำนวนครั้งที่รีวิวแง่บวกมีฟีเจอร์นี้ หารด้วยจำนวนรีวิวแง่บวกทั้งหมด\n"
      ]
    },
    {
      "cell_type": "markdown",
      "metadata": {
        "id": "Cw451c1hdtHH",
        "colab_type": "text"
      },
      "source": [
        "แสดง class ของ รีวิวหนัง"
      ]
    },
    {
      "cell_type": "code",
      "metadata": {
        "id": "B5SnTac-OPYY",
        "colab_type": "code",
        "outputId": "8f6919b5-09b5-43e0-a11d-5b0462146981",
        "colab": {
          "base_uri": "https://localhost:8080/",
          "height": 34
        }
      },
      "source": [
        "movie_reviews.y.classes"
      ],
      "execution_count": 65,
      "outputs": [
        {
          "output_type": "execute_result",
          "data": {
            "text/plain": [
              "['negative', 'positive']"
            ]
          },
          "metadata": {
            "tags": []
          },
          "execution_count": 65
        }
      ]
    },
    {
      "cell_type": "markdown",
      "metadata": {
        "id": "33eQaZx3dxGY",
        "colab_type": "text"
      },
      "source": [
        "กำหนด x, y ของ Training Set และ val_y ของ Validation Set"
      ]
    },
    {
      "cell_type": "code",
      "metadata": {
        "id": "4k3p49GVOPcw",
        "colab_type": "code",
        "colab": {}
      },
      "source": [
        "x = trn_term_doc\n",
        "y = movie_reviews.train.y\n",
        "val_y = movie_reviews.valid.y"
      ],
      "execution_count": 0,
      "outputs": []
    },
    {
      "cell_type": "markdown",
      "metadata": {
        "id": "MrCbSy-PeGNO",
        "colab_type": "text"
      },
      "source": [
        "แปลง class กลับเป็นเลข 1 แทน positive, 0 แทน negative"
      ]
    },
    {
      "cell_type": "code",
      "metadata": {
        "id": "ZVAQ94FuVseO",
        "colab_type": "code",
        "outputId": "ff59a01f-7e76-43e4-af72-14e21b20f2a0",
        "colab": {
          "base_uri": "https://localhost:8080/",
          "height": 34
        }
      },
      "source": [
        "positive = y.c2i['positive']\n",
        "negative = y.c2i['negative']\n",
        "\n",
        "positive, negative"
      ],
      "execution_count": 67,
      "outputs": [
        {
          "output_type": "execute_result",
          "data": {
            "text/plain": [
              "(1, 0)"
            ]
          },
          "metadata": {
            "tags": []
          },
          "execution_count": 67
        }
      ]
    },
    {
      "cell_type": "markdown",
      "metadata": {
        "id": "cgkG8_Q-eM_r",
        "colab_type": "text"
      },
      "source": [
        "เลือกเฉพาะ รีวิวที่ negative มา Sum ในมิติ 0 ให้ได้ จำนวน Count รวมแต่ละ Feature"
      ]
    },
    {
      "cell_type": "code",
      "metadata": {
        "id": "6ay7hLOBV8Wc",
        "colab_type": "code",
        "outputId": "74fcea13-5a5b-492d-d1a5-883de164893b",
        "colab": {
          "base_uri": "https://localhost:8080/",
          "height": 34
        }
      },
      "source": [
        "np.squeeze(np.asarray(x[y.items==negative].sum(0)))"
      ],
      "execution_count": 68,
      "outputs": [
        {
          "output_type": "execute_result",
          "data": {
            "text/plain": [
              "array([7154,    0,  417,    0, ...,    0,    3,    3,    3], dtype=int64)"
            ]
          },
          "metadata": {
            "tags": []
          },
          "execution_count": 68
        }
      ]
    },
    {
      "cell_type": "markdown",
      "metadata": {
        "id": "Nhhd4GzYehpr",
        "colab_type": "text"
      },
      "source": [
        "เลือกเฉพาะ รีวิวที่ positive มา Sum ในมิติ 0 ให้ได้ จำนวน Count รวมแต่ละ Feature"
      ]
    },
    {
      "cell_type": "code",
      "metadata": {
        "id": "UHUdqvnuWO31",
        "colab_type": "code",
        "outputId": "f578766c-fd7f-4649-c716-0f5ae33700c7",
        "colab": {
          "base_uri": "https://localhost:8080/",
          "height": 34
        }
      },
      "source": [
        "np.squeeze(np.asarray(x[y.items==positive].sum(0)))"
      ],
      "execution_count": 69,
      "outputs": [
        {
          "output_type": "execute_result",
          "data": {
            "text/plain": [
              "array([6471,    0,  383,    0, ...,    3,    0,    0,    0], dtype=int64)"
            ]
          },
          "metadata": {
            "tags": []
          },
          "execution_count": 69
        }
      ]
    },
    {
      "cell_type": "markdown",
      "metadata": {
        "id": "4y7-SugjvW9B",
        "colab_type": "text"
      },
      "source": [
        "### จำนวน Count รวมแต่ละ Feature แยก Positive, Negative"
      ]
    },
    {
      "cell_type": "code",
      "metadata": {
        "id": "aQQ1e3LVvwFn",
        "colab_type": "code",
        "outputId": "d017fc98-61c1-4b41-f555-8637901b4934",
        "colab": {
          "base_uri": "https://localhost:8080/",
          "height": 34
        }
      },
      "source": [
        "p1 = np.squeeze(np.asarray(x[y.items==positive].sum(0)))\n",
        "p0 = np.squeeze(np.asarray(x[y.items==negative].sum(0)))\n",
        "\n",
        "len(p1), len(p0)"
      ],
      "execution_count": 70,
      "outputs": [
        {
          "output_type": "execute_result",
          "data": {
            "text/plain": [
              "(6008, 6008)"
            ]
          },
          "metadata": {
            "tags": []
          },
          "execution_count": 70
        }
      ]
    },
    {
      "cell_type": "markdown",
      "metadata": {
        "id": "auT7ja2Xgd03",
        "colab_type": "text"
      },
      "source": [
        "แสดง จำนวน Count ของ 10 คำศัพท์แรก ใน positive, negative"
      ]
    },
    {
      "cell_type": "code",
      "metadata": {
        "id": "iyDh4h3_v30Y",
        "colab_type": "code",
        "outputId": "e705dfb3-c2c6-4d46-d67e-53f76232b97c",
        "colab": {
          "base_uri": "https://localhost:8080/",
          "height": 51
        }
      },
      "source": [
        "p1[:10], p0[:10]"
      ],
      "execution_count": 71,
      "outputs": [
        {
          "output_type": "execute_result",
          "data": {
            "text/plain": [
              "(array([ 6471,     0,   383,     0,     0, 10267,   674,    57,     0,  5260], dtype=int64),\n",
              " array([ 7154,     0,   417,     0,     0, 10741,   908,    53,     1,  6150], dtype=int64))"
            ]
          },
          "metadata": {
            "tags": []
          },
          "execution_count": 71
        }
      ]
    },
    {
      "cell_type": "markdown",
      "metadata": {
        "id": "i5S86Nijv5HT",
        "colab_type": "text"
      },
      "source": [
        "### Explore Ratio"
      ]
    },
    {
      "cell_type": "markdown",
      "metadata": {
        "id": "7OjnY0mrgoxQ",
        "colab_type": "text"
      },
      "source": [
        "ประกาศฟังก์ชัน หาสัดส่วน Ratio ของ Count positive/negative คำที่กำหนด"
      ]
    },
    {
      "cell_type": "code",
      "metadata": {
        "id": "fOzEQSOlzd2i",
        "colab_type": "code",
        "colab": {}
      },
      "source": [
        "def p_ratio(s):\n",
        "    i = v.stoi[s]\n",
        "    return p1[i]/p0[i]"
      ],
      "execution_count": 0,
      "outputs": []
    },
    {
      "cell_type": "markdown",
      "metadata": {
        "id": "jL-tQrc2hCMY",
        "colab_type": "text"
      },
      "source": [
        "loved มี ratio มากกว่า 1 ไปเยอะเลย"
      ]
    },
    {
      "cell_type": "code",
      "metadata": {
        "id": "aWV0qSc-v9Jm",
        "colab_type": "code",
        "outputId": "eb9a6d24-7044-472d-cf43-08e072ef3cc2",
        "colab": {
          "base_uri": "https://localhost:8080/",
          "height": 34
        }
      },
      "source": [
        "s = 'loved'\n",
        "p_ratio(s)"
      ],
      "execution_count": 73,
      "outputs": [
        {
          "output_type": "execute_result",
          "data": {
            "text/plain": [
              "2.4166666666666665"
            ]
          },
          "metadata": {
            "tags": []
          },
          "execution_count": 73
        }
      ]
    },
    {
      "cell_type": "markdown",
      "metadata": {
        "id": "UiBsh-E9hHe7",
        "colab_type": "text"
      },
      "source": [
        "้hated ration = 0.5 น้อยกว่า 1 แสดงว่า ปรากฎใน negative รีวิวมากกว่า 2 เท่า"
      ]
    },
    {
      "cell_type": "code",
      "metadata": {
        "id": "wvnSrrdjzaSA",
        "colab_type": "code",
        "outputId": "a321651e-4a40-4ed3-88fe-dcdde082d410",
        "colab": {
          "base_uri": "https://localhost:8080/",
          "height": 34
        }
      },
      "source": [
        "s = 'hated'\n",
        "p_ratio(s)"
      ],
      "execution_count": 74,
      "outputs": [
        {
          "output_type": "execute_result",
          "data": {
            "text/plain": [
              "0.5"
            ]
          },
          "metadata": {
            "tags": []
          },
          "execution_count": 74
        }
      ]
    },
    {
      "cell_type": "markdown",
      "metadata": {
        "id": "75WaEw0phTQv",
        "colab_type": "text"
      },
      "source": [
        "best ก็มากกว่า 1"
      ]
    },
    {
      "cell_type": "code",
      "metadata": {
        "id": "wJSn5YrpzuKk",
        "colab_type": "code",
        "outputId": "d2cb5c8e-ac77-49a9-8060-82013e86f0e3",
        "colab": {
          "base_uri": "https://localhost:8080/",
          "height": 34
        }
      },
      "source": [
        "s = 'best'\n",
        "p_ratio(s)"
      ],
      "execution_count": 75,
      "outputs": [
        {
          "output_type": "execute_result",
          "data": {
            "text/plain": [
              "1.369047619047619"
            ]
          },
          "metadata": {
            "tags": []
          },
          "execution_count": 75
        }
      ]
    },
    {
      "cell_type": "markdown",
      "metadata": {
        "id": "8bK9GszChWwB",
        "colab_type": "text"
      },
      "source": [
        "worst ยิ่งชัดมาก ปรากฎใน negative รีวิว บ่อยกว่า positive มาก ๆ"
      ]
    },
    {
      "cell_type": "code",
      "metadata": {
        "id": "wEQsu2UxzymH",
        "colab_type": "code",
        "outputId": "7ae6e1f6-face-408c-86f5-5b7bbacded4f",
        "colab": {
          "base_uri": "https://localhost:8080/",
          "height": 34
        }
      },
      "source": [
        "s = 'worst'\n",
        "p_ratio(s)"
      ],
      "execution_count": 76,
      "outputs": [
        {
          "output_type": "execute_result",
          "data": {
            "text/plain": [
              "0.05333333333333334"
            ]
          },
          "metadata": {
            "tags": []
          },
          "execution_count": 76
        }
      ]
    },
    {
      "cell_type": "markdown",
      "metadata": {
        "id": "DEvMTdO90QFc",
        "colab_type": "text"
      },
      "source": [
        "### Explore data"
      ]
    },
    {
      "cell_type": "markdown",
      "metadata": {
        "id": "jiAxTJ9n19gN",
        "colab_type": "text"
      },
      "source": [
        "ดู Positive รีวิว ที่มีคำว่า hated"
      ]
    },
    {
      "cell_type": "code",
      "metadata": {
        "id": "0K6UlJQhzysQ",
        "colab_type": "code",
        "outputId": "7cb36105-3b4a-4997-fbe0-fd5996b82c89",
        "colab": {
          "base_uri": "https://localhost:8080/",
          "height": 34
        }
      },
      "source": [
        "v.stoi['hated']"
      ],
      "execution_count": 77,
      "outputs": [
        {
          "output_type": "execute_result",
          "data": {
            "text/plain": [
              "1977"
            ]
          },
          "metadata": {
            "tags": []
          },
          "execution_count": 77
        }
      ]
    },
    {
      "cell_type": "markdown",
      "metadata": {
        "id": "gL_d8dzwjc7m",
        "colab_type": "text"
      },
      "source": [
        "หา record ที่มี count คำที่ 1977 มากกว่า 0"
      ]
    },
    {
      "cell_type": "code",
      "metadata": {
        "id": "bDTcpYkhzyyD",
        "colab_type": "code",
        "outputId": "6dc1b077-8af2-4183-d217-2d65f3f68d95",
        "colab": {
          "base_uri": "https://localhost:8080/",
          "height": 34
        }
      },
      "source": [
        "a = np.argwhere((x[:, 1977] > 0))[:, 0]; a"
      ],
      "execution_count": 78,
      "outputs": [
        {
          "output_type": "execute_result",
          "data": {
            "text/plain": [
              "array([ 15,  49, 304, 351, 393, 612, 695, 773], dtype=int32)"
            ]
          },
          "metadata": {
            "tags": []
          },
          "execution_count": 78
        }
      ]
    },
    {
      "cell_type": "markdown",
      "metadata": {
        "id": "abf5Kc4kjklQ",
        "colab_type": "text"
      },
      "source": [
        "หาเฉพาะ record ที่เป็น positive"
      ]
    },
    {
      "cell_type": "code",
      "metadata": {
        "id": "mERM-QrH0fia",
        "colab_type": "code",
        "outputId": "6ac6be4e-e5cb-4258-d764-8c56a78d74db",
        "colab": {
          "base_uri": "https://localhost:8080/",
          "height": 34
        }
      },
      "source": [
        "b = np.argwhere(y.items==positive)[:, 0]; b"
      ],
      "execution_count": 79,
      "outputs": [
        {
          "output_type": "execute_result",
          "data": {
            "text/plain": [
              "array([  1,   3,  10,  11, ..., 787, 789, 790, 797])"
            ]
          },
          "metadata": {
            "tags": []
          },
          "execution_count": 79
        }
      ]
    },
    {
      "cell_type": "markdown",
      "metadata": {
        "id": "YTRWcRzJjpxL",
        "colab_type": "text"
      },
      "source": [
        "นำมา intersect กัน"
      ]
    },
    {
      "cell_type": "code",
      "metadata": {
        "id": "XtRKaoxI0veI",
        "colab_type": "code",
        "outputId": "5b2801a3-c388-4782-ad4b-239307d4a6f6",
        "colab": {
          "base_uri": "https://localhost:8080/",
          "height": 34
        }
      },
      "source": [
        "set(a).intersection(set(b))"
      ],
      "execution_count": 80,
      "outputs": [
        {
          "output_type": "execute_result",
          "data": {
            "text/plain": [
              "{393, 612, 695}"
            ]
          },
          "metadata": {
            "tags": []
          },
          "execution_count": 80
        }
      ]
    },
    {
      "cell_type": "markdown",
      "metadata": {
        "id": "YRWQDuT2jxAg",
        "colab_type": "text"
      },
      "source": [
        "ไล่ดูข้อความรีวิว ทั้ง 3 record"
      ]
    },
    {
      "cell_type": "code",
      "metadata": {
        "id": "hTRl25iN04dz",
        "colab_type": "code",
        "outputId": "e252550f-79d4-4cd8-a707-bd513e01902b",
        "colab": {
          "base_uri": "https://localhost:8080/",
          "height": 54
        }
      },
      "source": [
        "review = movie_reviews.train.x[393]\n",
        "review.text"
      ],
      "execution_count": 81,
      "outputs": [
        {
          "output_type": "execute_result",
          "data": {
            "text/plain": [
              "'xxbos xxmaj there are numerous films relating to xxup xxunk , but xxmaj mother xxmaj night is quite xxunk among them : xxmaj in this film , we are introduced to xxmaj howard xxmaj campbell ( xxmaj nolte ) , an xxmaj american living in xxmaj berlin and married to a xxmaj german , xxmaj xxunk xxmaj xxunk ( xxmaj lee ) , who decides to accept the role of a spy : xxmaj more specifically , a xxup cia agent xxmaj major xxmaj xxunk ( xxmaj goodman ) recruits xxmaj campbell who becomes a xxmaj nazi xxunk in order to enter the highest xxunk of the xxmaj hitler xxunk . xxmaj however , the deal is that the xxup us xxmaj government will never xxunk xxmaj campbell \\'s role in the war for national security reasons , and so xxmaj campbell becomes a hated figure across the xxup us . xxmaj after the war , he tries to xxunk his identity , but the past comes back and xxunk him . xxmaj his only \" friend \" is xxmaj xxunk , but even he can not do much for the xxunk of events that fall upon poor xxmaj campbell ... \\n \\n  xxmaj the story is deeply touching , as we watch the tragedy of xxmaj campbell who although a great patriot , is treated by xxunk by everybody who xxunk him . xxmaj not only that , but he also gradually realizes that even the persons who are most close to him , have many xxunk of their own . xxmaj vonnegut provides us with a moving atmosphere , with xxmaj campbell \\'s despair building up and almost choking the viewer . \\n \\n  xxmaj nolte plays the role of his life , in my opinion ; he is even better than in \" xxmaj xxunk \" , although in both roles he plays tragic figures who are destined to self - destruction . xxmaj xxunk xxmaj lee is also excellent , and the same can be said for the whole cast in general . \\n \\n  i have n\\'t read the book , so i can not xxunk how the film compares to it . xxmaj in any case , this is something of no importance here : xxmaj my xxunk is upon the film per xxunk , and the film xxunk deserves a 9 / 10 .'"
            ]
          },
          "metadata": {
            "tags": []
          },
          "execution_count": 81
        }
      ]
    },
    {
      "cell_type": "code",
      "metadata": {
        "id": "izVpfLky0-Cx",
        "colab_type": "code",
        "outputId": "c142ad8b-a9ee-4efe-8837-f2bb47649c05",
        "colab": {
          "base_uri": "https://localhost:8080/",
          "height": 54
        }
      },
      "source": [
        "review = movie_reviews.train.x[612]\n",
        "review.text"
      ],
      "execution_count": 82,
      "outputs": [
        {
          "output_type": "execute_result",
          "data": {
            "text/plain": [
              "'xxbos xxmaj once upon a time in a castle xxrep 6 . xxmaj two little girls are playing in the garden \\'s castle . xxmaj they are sisters . a blonde little girl ( xxmaj kitty ) and a brunette one ( xxmaj evelyn ) . xxmaj evelyn steals xxmaj kitty \\'s doll . xxmaj kitty xxunk xxmaj evelyn . xxmaj running through long xxunk , they reach the room where their grandfather , sitting on an xxunk , reads the newspaper . xxmaj kitty xxunk about xxmaj evelyn , while xxmaj evelyn is looking xxunk at a picture hanging on the wall . xxmaj evelyn begins to say repeatedly : \" i am the red lady and xxmaj kitty is the black lady \" . xxmaj suddenly xxmaj evelyn grabs a dagger lying nearby and stabs xxmaj kitty \\'s doll and then cuts her ( the doll \\'s ) head . a fight ensues . xxmaj and xxmaj evelyn almost uses the dagger against xxmaj kitty . xxmaj the grandfather xxunk and the worst is avoided . \\n \\n  xxmaj later on , their grandfather tells them the legend related to the picture hanging on the wall in front of them , in which a lady dressed in black is stabbing a lady dressed in red : \\n \\n  \" a long time ago , a red lady and a black lady lived in the same castle . xxmaj they were sisters and hated each other . xxmaj one night , for jealousy reasons , the black lady entered the red lady \\'s room and xxunk her seven times . xxmaj one year later , the red lady left her grave . xxmaj she killed six innocent people , and her xxunk victim was the black lady . xxmaj once every hundred years , the events repeat themselves in this castle and a red lady kills six innocent victims before killing the black lady herself . \" \\n \\n  xxmaj the grandfather ends his tale by saying that according to the legend , sixteen years from now , the red queen should come again and kill seven times . xxmaj but he xxunk them that this is just an old legend . \\n \\n  xxmaj sixteen years pass xxrep 5 . \\n \\n  xxmaj this is the very beginning of the film . xxmaj there are many twists and surprises in the film . xxmaj it \\'s better for you to forget about logic ( if you really xxunk it , the story does n\\'t make sense ) and just follow the film with its wonderful colors , the gorgeous women , the clothes , the xxunk xxunk , the lighting effects and the beautiful soundtrack . \\n \\n  xxmaj enjoy xxmaj barbara xxmaj xxunk , xxmaj xxunk xxmaj xxunk , xxmaj xxunk xxmaj xxunk , xxmaj pia xxmaj xxunk , among other xxunk . xxmaj there \\'s a nude by xxmaj xxunk xxmaj xxunk lying on a xxunk that \\'s something to dream about . xxmaj and do n\\'t forget : xxmaj the lady in red kills seven times ! \\n \\n  xxmaj if you \\'ve liked \" xxmaj la xxmaj xxunk xxmaj xxunk ... \" check out also \" xxmaj la xxmaj xxunk che xxmaj evelyn xxunk xxunk xxmaj xxunk \" .'"
            ]
          },
          "metadata": {
            "tags": []
          },
          "execution_count": 82
        }
      ]
    },
    {
      "cell_type": "code",
      "metadata": {
        "id": "gM2sfv_D1Vya",
        "colab_type": "code",
        "outputId": "a7a928cb-607a-4ed7-860d-b7065d60b7a8",
        "colab": {
          "base_uri": "https://localhost:8080/",
          "height": 54
        }
      },
      "source": [
        "review = movie_reviews.train.x[695]\n",
        "review.text"
      ],
      "execution_count": 83,
      "outputs": [
        {
          "output_type": "execute_result",
          "data": {
            "text/plain": [
              "\"xxbos xxmaj xxunk , yeah this episode is extremely underrated . \\n \\n  xxmaj even though there is a xxup lot of bad writing and acting at parts . i think the good over wins the bad . \\n \\n  i love the xxunk parts and the big ' twist ' at the end . i absolutely love that scene when xxmaj michelle xxunk xxmaj tony . xxmaj it 's actually one of my favorite scenes of xxmaj season 1 . \\n \\n  xxmaj for some reason , people have always hated the xxmaj xxunk episodes , yet i have always liked them . xxmaj they 're not the best , in terms of writing . but the theme really does interest me , \\n \\n  i 'm gon na give it a xxup three star , but if the writing were a little more consistent i 'd give it xxup four .\""
            ]
          },
          "metadata": {
            "tags": []
          },
          "execution_count": 83
        }
      ]
    },
    {
      "cell_type": "markdown",
      "metadata": {
        "id": "WyqiPL0C1Ytb",
        "colab_type": "text"
      },
      "source": [
        "กลับกัน ดู Negative รีวิว ที่มีคำว่า loved"
      ]
    },
    {
      "cell_type": "code",
      "metadata": {
        "colab_type": "code",
        "outputId": "10ef0b63-867d-4a5a-b780-19d736417311",
        "id": "11zhNtC51xDR",
        "colab": {
          "base_uri": "https://localhost:8080/",
          "height": 34
        }
      },
      "source": [
        "v.stoi['loved']"
      ],
      "execution_count": 84,
      "outputs": [
        {
          "output_type": "execute_result",
          "data": {
            "text/plain": [
              "535"
            ]
          },
          "metadata": {
            "tags": []
          },
          "execution_count": 84
        }
      ]
    },
    {
      "cell_type": "markdown",
      "metadata": {
        "id": "lgOYSjC-j_Ok",
        "colab_type": "text"
      },
      "source": [
        "หา record ที่มี count คำที่ 535 มากกว่า 0"
      ]
    },
    {
      "cell_type": "code",
      "metadata": {
        "colab_type": "code",
        "outputId": "f0fa5cef-b4a5-4285-8359-471d609f8465",
        "id": "ByA5huyM1xDW",
        "colab": {
          "base_uri": "https://localhost:8080/",
          "height": 51
        }
      },
      "source": [
        "a = np.argwhere((x[:, 535] > 0))[:, 0]; a"
      ],
      "execution_count": 85,
      "outputs": [
        {
          "output_type": "execute_result",
          "data": {
            "text/plain": [
              "array([  1,  15,  29,  69,  75,  79, 174, 185, 200, 205, 262, 296, 303, 333, 350, 351, 398, 407, 440, 489, 496, 528,\n",
              "       538, 600, 602, 605, 627, 642, 657, 660, 700, 712, 729, 735, 755, 767, 785], dtype=int32)"
            ]
          },
          "metadata": {
            "tags": []
          },
          "execution_count": 85
        }
      ]
    },
    {
      "cell_type": "code",
      "metadata": {
        "colab_type": "code",
        "outputId": "3c682da7-be84-4df7-83fe-27aad02fb3c7",
        "id": "UoREac6C1xDZ",
        "colab": {
          "base_uri": "https://localhost:8080/",
          "height": 34
        }
      },
      "source": [
        "b = np.argwhere(y.items==negative)[:, 0]; b"
      ],
      "execution_count": 86,
      "outputs": [
        {
          "output_type": "execute_result",
          "data": {
            "text/plain": [
              "array([  0,   2,   4,   5, ..., 795, 796, 798, 799])"
            ]
          },
          "metadata": {
            "tags": []
          },
          "execution_count": 86
        }
      ]
    },
    {
      "cell_type": "code",
      "metadata": {
        "colab_type": "code",
        "outputId": "816d23a4-a003-4a26-d718-9bfc22a752e5",
        "id": "-VfLuSIC1xDd",
        "colab": {
          "base_uri": "https://localhost:8080/",
          "height": 34
        }
      },
      "source": [
        "set(a).intersection(set(b))"
      ],
      "execution_count": 87,
      "outputs": [
        {
          "output_type": "execute_result",
          "data": {
            "text/plain": [
              "{15, 200, 205, 303, 351, 398, 600, 605, 642, 700, 729, 767}"
            ]
          },
          "metadata": {
            "tags": []
          },
          "execution_count": 87
        }
      ]
    },
    {
      "cell_type": "markdown",
      "metadata": {
        "id": "JjMS2AsrkG3X",
        "colab_type": "text"
      },
      "source": [
        "ไล่ดูข้อความรีวิว 3 record แรก"
      ]
    },
    {
      "cell_type": "code",
      "metadata": {
        "colab_type": "code",
        "outputId": "7779ce0f-9ca2-42ef-eec2-4147107d69d4",
        "id": "Embtc9YF1xDh",
        "colab": {
          "base_uri": "https://localhost:8080/",
          "height": 54
        }
      },
      "source": [
        "review = movie_reviews.train.x[15]\n",
        "review.text"
      ],
      "execution_count": 88,
      "outputs": [
        {
          "output_type": "execute_result",
          "data": {
            "text/plain": [
              "\"xxbos xxmaj as if the storyline was n't depressing enough , this movie shows xxunk being xxunk graphically in a slaughterhouse for all of five minutes while the protagonist is xxunk her early life as a butcher . xxmaj weird stuff . xxmaj then there 's the core premise of the hero / heroine who goes and cuts his dick off because a he 's xxunk - ten with at work says he would have gone with him if he was a girl . xxmaj is this person a psycho , a xxunk , just a doomed queen who takes things too far ? xxmaj and what sort of xxunk childhood did he have ? xxmaj just that he did n't get adopted and had to live it out with xxunk who at first loved him and then later hated him because he was xxunk . xxmaj he tries to explain to us the reasons he did what he did , but it 's really really so hard to xxunk . xxmaj such sad and unusual self destruction . xxmaj was it supposed to be funny ? xxmaj what was it all about really ?\""
            ]
          },
          "metadata": {
            "tags": []
          },
          "execution_count": 88
        }
      ]
    },
    {
      "cell_type": "code",
      "metadata": {
        "colab_type": "code",
        "outputId": "f04dc0b1-92ca-4dc4-ebee-701cdcfafc78",
        "id": "tICHOqQI1xDm",
        "colab": {
          "base_uri": "https://localhost:8080/",
          "height": 54
        }
      },
      "source": [
        "review = movie_reviews.train.x[200]\n",
        "review.text"
      ],
      "execution_count": 89,
      "outputs": [
        {
          "output_type": "execute_result",
          "data": {
            "text/plain": [
              "'xxbos i loved the first \" xxmaj azumi \" movie . i \\'ve seen xxmaj ms. xxmaj ueto in a variety of her xxup tv appearances and i \\'ve seen my fair share of samurai and ninja flicks . i have to say that this movie was much weaker than i \\'d expected . \\n \\n  xxmaj given the movie \\'s cast and set up in \" xxmaj azumi \" , they should have been able to do a much better job with this movie , but instead it was slow , xxunk in parts , and xxunk with very poor , unconvincing , and wooden acting . \\n \\n  xxmaj when they bothered to reference the first movie , they did so in a manner that was pretty loose and weak . xxmaj in \" xxmaj azumi \" , the title character is the best of a group of superior killers . xxmaj in \" xxmaj azumi 2 \" she seems somehow xxunk and less - impressive . \\n \\n  xxmaj that \\'s not to say it was a total loss . xxmaj there were a few decent fight scenes and some over - the - top characters . xxmaj unfortunately , the movie suffers overall from the simple fact that xxmaj xxunk xxmaj xxunk and xxmaj xxunk xxmaj xxunk are not xxmaj xxunk xxmaj xxunk and xxmaj xxunk xxmaj xxunk . xxmaj the latter two truly captured the \" manga \" feel in their screenplay whereas the former never quite \" got it . \"'"
            ]
          },
          "metadata": {
            "tags": []
          },
          "execution_count": 89
        }
      ]
    },
    {
      "cell_type": "code",
      "metadata": {
        "colab_type": "code",
        "outputId": "425d46f1-d93b-4e55-c2e8-c144692148ec",
        "id": "eYVSEUFr1xDq",
        "colab": {
          "base_uri": "https://localhost:8080/",
          "height": 54
        }
      },
      "source": [
        "review = movie_reviews.train.x[205]\n",
        "review.text"
      ],
      "execution_count": 90,
      "outputs": [
        {
          "output_type": "execute_result",
          "data": {
            "text/plain": [
              "'xxbos xxunk is normally xxunk , and it \\'s never really bothered me before -- i loved \" xxunk 2 \" , but i really do n\\'t like pseudo xxunk or playing on xxunk . the whole movie is based on a man with esp caused by an xxunk accident and a witch . i \\'m not opposed to xxunk , and i liked \" carrie \" ( the novel and the movie ) but this one bothered me . i think it \\'s because of the main character developing esp from an electric line . also the university professor wasting his time studying esp cases . i was n\\'t alive in the 60s to know first hand whether or not esp was a common xxunk then , but i assume that any theory of such nature would simply be xxunk . what really bothered me was the way the police were xxunk xxunk as xxunk , xxunk villains who can seem like normal people 99 % of the time and then just snap . nothing could be further from the truth . i xxunk such xxunk because they add to public xxunk . many people still think that xxunk is xxunk identity xxunk . whoever wrote this script did n\\'t know much about xxunk . \\n \\n  there were some decent xxunk to the movie . i liked the way the witch used men ; it was a nice change . i liked how she could make herself attractive , but did n\\'t when she was around her forced lovers . i found it interesting how her second lover also burned his face . had the script been touched up for a few weeks before production and not focused solely on making its audience dumber , this may have been a decent movie .'"
            ]
          },
          "metadata": {
            "tags": []
          },
          "execution_count": 90
        }
      ]
    },
    {
      "cell_type": "markdown",
      "metadata": {
        "id": "CFNi8Byr16Qg",
        "colab_type": "text"
      },
      "source": [
        "### เข้าสูตร Naive Bayes"
      ]
    },
    {
      "cell_type": "markdown",
      "metadata": {
        "id": "3Znzzqt9k3uM",
        "colab_type": "text"
      },
      "source": [
        "นำสูตรข้างบนมาคำนวนให้ดูอีกครั้งหนึ่งชัด ๆ "
      ]
    },
    {
      "cell_type": "code",
      "metadata": {
        "id": "dgR-wgnc3uUG",
        "colab_type": "code",
        "outputId": "2fc33ade-328e-4bcc-9840-dc54fd689f22",
        "colab": {
          "base_uri": "https://localhost:8080/",
          "height": 34
        }
      },
      "source": [
        "p1 = np.squeeze(np.asarray(x[y.items==positive].sum(0)))\n",
        "p0 = np.squeeze(np.asarray(x[y.items==negative].sum(0)))\n",
        "\n",
        "len(p1), len(p0)"
      ],
      "execution_count": 91,
      "outputs": [
        {
          "output_type": "execute_result",
          "data": {
            "text/plain": [
              "(6008, 6008)"
            ]
          },
          "metadata": {
            "tags": []
          },
          "execution_count": 91
        }
      ]
    },
    {
      "cell_type": "markdown",
      "metadata": {
        "id": "RjFMPqqzk-wg",
        "colab_type": "text"
      },
      "source": [
        "บวก 1 เพื่อ Numerical Stability เช่น ป้องกัน Devide by zero"
      ]
    },
    {
      "cell_type": "code",
      "metadata": {
        "id": "ufPYdBsf38x7",
        "colab_type": "code",
        "outputId": "a24c2204-dff3-4022-985a-9089cdb9e364",
        "colab": {
          "base_uri": "https://localhost:8080/",
          "height": 34
        }
      },
      "source": [
        "pr1 = (p1 + 1) / ((y.items==positive).sum() + 1)\n",
        "pr0 = (p0 + 1) / ((y.items==negative).sum() + 1)\n",
        "\n",
        "len(pr1), len(pr0)"
      ],
      "execution_count": 92,
      "outputs": [
        {
          "output_type": "execute_result",
          "data": {
            "text/plain": [
              "(6008, 6008)"
            ]
          },
          "metadata": {
            "tags": []
          },
          "execution_count": 92
        }
      ]
    },
    {
      "cell_type": "markdown",
      "metadata": {
        "id": "Nh7sdVo_qDyG",
        "colab_type": "text"
      },
      "source": [
        "เนื่องจาก Ratio ถ้าเป็นคำศัพท์ค่อนข้าง positive จะมีค่า ratio 1-Infinity แต่ถ้าเป็นคำศัพท์ค่อนข้าง negative จะมี ratio 0-1 การใช้ log function จะช่วยปรับให้เป็นช่วง -Infinity-0, 0-Infinity เท่า ๆ กัน นำไปเปรียบเทียบ ใช้งานต่อได้ง่ายขึ้น"
      ]
    },
    {
      "cell_type": "code",
      "metadata": {
        "id": "sSzHWzMC4MnQ",
        "colab_type": "code",
        "outputId": "46c4b5fe-f0c4-4c4e-af89-e3a22325772a",
        "colab": {
          "base_uri": "https://localhost:8080/",
          "height": 34
        }
      },
      "source": [
        "r = np.log(pr1/pr0); r"
      ],
      "execution_count": 93,
      "outputs": [
        {
          "output_type": "execute_result",
          "data": {
            "text/plain": [
              "array([-0.015487,  0.084839,  0.      ,  0.084839, ...,  1.471133, -1.301455, -1.301455, -1.301455])"
            ]
          },
          "metadata": {
            "tags": []
          },
          "execution_count": 93
        }
      ]
    },
    {
      "cell_type": "markdown",
      "metadata": {
        "id": "ATQ8A6Ha4XS4",
        "colab_type": "text"
      },
      "source": [
        "ดูคำศัพท์ที่มักถูกใช้ใน Positive / Negative Review"
      ]
    },
    {
      "cell_type": "code",
      "metadata": {
        "id": "rYJ2Ilzu4lYl",
        "colab_type": "code",
        "colab": {}
      },
      "source": [
        "biggest = np.argpartition(r, -10)[-10:]\n",
        "smallest = np.argpartition(r, 10)[:10]"
      ],
      "execution_count": 0,
      "outputs": []
    },
    {
      "cell_type": "markdown",
      "metadata": {
        "id": "RGrk2jnK5LBB",
        "colab_type": "text"
      },
      "source": [
        "คำที่ Positive ที่สุด\n",
        "\n",
        "เนื่องจากเป็น Dataset ชุดเล็ก ข้อมูลน้อย อาจจะบอกอะไรไม่ได้มาก คำศัพท์บางคำอาจจะพบแค่ครั้งเดียว ในรีวิวแง่บวก positive ทำให้ความหมายผิดไป"
      ]
    },
    {
      "cell_type": "code",
      "metadata": {
        "id": "44_lJ4RG4wou",
        "colab_type": "code",
        "outputId": "2eecfb88-9f90-45f1-bc44-3962b5b926fe",
        "colab": {
          "base_uri": "https://localhost:8080/",
          "height": 187
        }
      },
      "source": [
        "[v.itos[i] for i in biggest]"
      ],
      "execution_count": 95,
      "outputs": [
        {
          "output_type": "execute_result",
          "data": {
            "text/plain": [
              "['sport',\n",
              " 'davies',\n",
              " 'gilliam',\n",
              " 'fanfan',\n",
              " 'biko',\n",
              " 'felix',\n",
              " 'noir',\n",
              " 'jabba',\n",
              " 'astaire',\n",
              " 'jimmy']"
            ]
          },
          "metadata": {
            "tags": []
          },
          "execution_count": 95
        }
      ]
    },
    {
      "cell_type": "code",
      "metadata": {
        "id": "wYkf_yMV46TS",
        "colab_type": "code",
        "outputId": "3de97e66-41b3-491b-bc7e-664b12017b45",
        "colab": {
          "base_uri": "https://localhost:8080/",
          "height": 34
        }
      },
      "source": [
        "np.argmax(trn_term_doc[:, v.stoi['biko']])"
      ],
      "execution_count": 96,
      "outputs": [
        {
          "output_type": "execute_result",
          "data": {
            "text/plain": [
              "515"
            ]
          },
          "metadata": {
            "tags": []
          },
          "execution_count": 96
        }
      ]
    },
    {
      "cell_type": "code",
      "metadata": {
        "id": "052puZc95dT1",
        "colab_type": "code",
        "outputId": "a59cbcdd-fa2e-4783-f817-f41961e29add",
        "colab": {
          "base_uri": "https://localhost:8080/",
          "height": 292
        }
      },
      "source": [
        "movie_reviews.train.x[515]"
      ],
      "execution_count": 97,
      "outputs": [
        {
          "output_type": "execute_result",
          "data": {
            "text/plain": [
              "Text xxbos \" xxmaj the xxmaj true xxmaj story xxmaj of xxmaj the xxmaj friendship xxmaj that xxmaj shook xxmaj south xxmaj africa xxmaj and xxmaj xxunk xxmaj the xxmaj world . \" \n",
              " \n",
              "  xxmaj richard xxmaj attenborough , who directed \" a xxmaj bridge xxmaj too xxmaj far \" and \" xxmaj gandhi \" , wanted to bring the story of xxmaj steve xxmaj biko to life , and the journey and trouble that xxunk xxmaj donald xxmaj woods went through in order to get his story told . xxmaj the films uses xxmaj wood 's two books for it 's information and basis - \" xxmaj biko \" and \" xxmaj asking for xxmaj trouble \" . \n",
              " \n",
              "  xxmaj the film takes place in the late 1970 's , in xxmaj south xxmaj africa . xxmaj south xxmaj africa is in the grip of the terrible apartheid , which keeps the blacks separated from the whites and xxunk the whites as the superior race . xxmaj the blacks are forced to live in xxunk on the xxunk of the cities and xxunk , and they come under frequent xxunk by the police and the army . xxmaj we are shown a dawn xxunk on a xxunk , as xxunk and armed police force their way through the camp beating and even killing the inhabitants . xxmaj then we are introduced to xxmaj donald xxmaj woods ( xxmaj kevin xxmaj kline ) , who is the editor of a popular newspaper . xxmaj after xxunk a negative story about black xxunk xxmaj steve xxmaj biko ( xxmaj denzel xxmaj washington ) , xxmaj woods goes to meet with him . xxmaj the two are xxunk of each other at first , but they soon become good friends and xxmaj biko shows the horrors of the apartheid system from a black persons point of view to xxmaj woods . xxmaj this xxunk xxmaj woods to speak out against what 's happening around him , and makes him desperate to bring xxmaj steve xxmaj biko 's story out of the xxunk of the white man 's xxmaj south xxmaj africa and to the world . xxmaj soon , xxmaj steve xxmaj biko is arrested and is killed in prison . xxmaj now xxmaj woods and his family are daring to escape from xxmaj south xxmaj africa to xxmaj england , where xxmaj woods can xxunk his book about xxmaj steve xxmaj biko and the apartheid . \n",
              " \n",
              "  xxmaj when i first heard of \" xxmaj cry xxmaj freedom \" , i was under the impression that it was a movie completely dedicated to the life of xxmaj steve xxmaj biko . i had never actually heard of xxmaj steve xxmaj biko before i seen this film , as the events in this film were really before my time . xxmaj but it 's more about the story of xxmaj donald xxmaj woods and his journey across the border into xxmaj xxunk as he tried to xxunk the xxmaj south xxmaj african xxunk . xxmaj woods was put on a five year type house xxunk after xxmaj steve xxmaj biko was killed . xxmaj so in order to xxunk his xxunk on xxmaj steve xxmaj biko , he had to escape . xxmaj because the xxunk would be considered xxunk in xxmaj south xxmaj africa and that could have resulted in xxmaj woods meeting a fate similar to that of xxmaj biko 's . xxmaj the real xxmaj donald xxmaj woods and his wife acted as xxunk to this film . \n",
              " \n",
              "  xxmaj denzel xxmaj washington is only in the film for the first hour , and i was disappointed with that as i was expecting to see him for the entire movie . xxmaj but he was amazing as xxmaj steve xxmaj biko , and captured his personality from what i 've read really well and his accent sounded perfect . xxmaj his performance earned him an xxmaj oscar nomination for xxmaj best xxmaj supporting xxmaj actor . xxmaj kevin xxmaj kline delivers a excellent and thought - xxunk performance as xxmaj donald xxmaj woods , and xxmaj penelope xxmaj xxunk is excellent as his wife xxmaj xxunk . \n",
              " \n",
              "  xxmaj filming took place in xxmaj xxunk , as needless to say problems xxunk when they tried to film it in xxmaj south xxmaj africa . xxmaj while in xxmaj south xxmaj africa , the xxmaj south xxmaj african xxunk followed the film crew everywhere , so they got the bad xxunk and they pulled out and went to xxunk xxmaj xxunk instead . xxmaj despite everything , and the fact that the apartheid did n't end ' xxunk seven years later , \" xxmaj cry xxmaj freedom \" was n't xxunk in xxmaj south xxmaj africa . xxmaj but xxunk showing the movie received bomb threats . \n",
              " \n",
              "  xxmaj richard xxmaj attenborough brings the horrors of the apartheid to the screen with extreme force and determination . xxmaj he does n't hold back at the end of the movie when showing what was supposed to be a xxunk xxunk by students in a xxunk , turns into a massacre when police open fire on them . xxmaj the film ends with the names of all the anti - apartheid xxunk who died in prison , and the explanations for their deaths . xxmaj many had \" xxmaj no xxmaj explanation \" . xxmaj quite a few were \" xxmaj xxunk \" , which is hard to believe , and many more either fell from the top of the xxunk or were \" xxmaj suicide from xxmaj hanging \" . xxmaj no one will ever know what really happened to them , but i think it 's fair to say that none of these men died at their own hands , but at the hands of others ; or to be more xxunk , at the hands of the police . \n",
              " \n",
              "  \" xxmaj cry xxmaj freedom \" is a must - see movie for it 's portrayal and story of xxmaj steve xxmaj biko . xxmaj it 's also a xxunk and xxunk portrayal of a beautiful land divided and in the xxunk grips of racial xxunk and violence ."
            ]
          },
          "metadata": {
            "tags": []
          },
          "execution_count": 97
        }
      ]
    },
    {
      "cell_type": "markdown",
      "metadata": {
        "id": "j1g4e6mC5POX",
        "colab_type": "text"
      },
      "source": [
        "คำที่ Negative ที่สุด"
      ]
    },
    {
      "cell_type": "code",
      "metadata": {
        "id": "vyG8iXJT43tQ",
        "colab_type": "code",
        "outputId": "d38e11a7-6e29-4832-84d5-26f83e2a7495",
        "colab": {
          "base_uri": "https://localhost:8080/",
          "height": 187
        }
      },
      "source": [
        "[v.itos[i] for i in smallest]"
      ],
      "execution_count": 98,
      "outputs": [
        {
          "output_type": "execute_result",
          "data": {
            "text/plain": [
              "['worst',\n",
              " 'crap',\n",
              " 'crater',\n",
              " 'porn',\n",
              " 'disappointment',\n",
              " 'dog',\n",
              " 'vargas',\n",
              " 'naschy',\n",
              " 'fuqua',\n",
              " 'soderbergh']"
            ]
          },
          "metadata": {
            "tags": []
          },
          "execution_count": 98
        }
      ]
    },
    {
      "cell_type": "code",
      "metadata": {
        "id": "NNvj9d5Q5h9z",
        "colab_type": "code",
        "outputId": "390c024e-58f8-46fd-d50c-f23f9c31901b",
        "colab": {
          "base_uri": "https://localhost:8080/",
          "height": 34
        }
      },
      "source": [
        "np.argmax(trn_term_doc[:, v.stoi['soderbergh']])"
      ],
      "execution_count": 99,
      "outputs": [
        {
          "output_type": "execute_result",
          "data": {
            "text/plain": [
              "434"
            ]
          },
          "metadata": {
            "tags": []
          },
          "execution_count": 99
        }
      ]
    },
    {
      "cell_type": "code",
      "metadata": {
        "id": "_wj0L0Pc53ZJ",
        "colab_type": "code",
        "outputId": "07b978b5-012d-4b36-a142-9cdd9a410502",
        "colab": {
          "base_uri": "https://localhost:8080/",
          "height": 836
        }
      },
      "source": [
        "movie_reviews.train.x[434]"
      ],
      "execution_count": 100,
      "outputs": [
        {
          "output_type": "execute_result",
          "data": {
            "text/plain": [
              "Text xxbos xxmaj now that xxmaj che(2008 ) has finished its relatively short xxmaj australian cinema run ( extremely limited xxunk screen in xxmaj xxunk , after xxunk ) , i can xxunk join both xxunk of \" xxmaj at xxmaj the xxmaj movies \" in taking xxmaj steven xxmaj soderbergh to task . \n",
              " \n",
              "  xxmaj it 's usually satisfying to watch a film director change his style / subject , but xxmaj soderbergh 's most recent stinker , xxmaj the xxmaj girlfriend xxmaj xxunk ) , was also missing a story , so narrative ( and editing ? ) seem to suddenly be xxmaj soderbergh 's main challenge . xxmaj strange , after xxunk years in the business . xxmaj he was probably never much good at narrative , just xxunk it well inside \" edgy \" projects . \n",
              " \n",
              "  xxmaj none of this excuses him this present , almost diabolical failure . xxmaj as xxmaj david xxmaj xxunk xxunk , \" two parts of xxmaj che do n't ( even ) make a whole \" . \n",
              " \n",
              "  xxmaj epic xxunk in name only , xxmaj che(2008 ) barely qualifies as a feature film ! xxmaj it certainly has no legs , xxunk as except for its xxunk ultimate resolution forced upon it by history , xxmaj soderbergh 's xxunk - long xxunk just goes nowhere . \n",
              " \n",
              "  xxmaj even xxmaj margaret xxmaj xxunk , the more xxunk of xxmaj australia 's xxmaj at xxmaj the xxmaj movies duo , noted about xxmaj soderbergh 's xxunk waste of ( xxup xxunk digital xxunk ) : \" you 're in the woods ... xxunk in the woods ... xxunk in the woods ... \" . i too am surprised xxmaj soderbergh did n't give us another xxunk of xxup that somewhere between his xxunk two xxmaj parts , because he still left out massive xxunk of xxmaj che 's \" xxunk \" life ! \n",
              " \n",
              "  xxmaj for a xxunk of an important but infamous historical figure , xxmaj soderbergh xxunk xxunk , if not deliberately insults , his audiences by \n",
              " \n",
              "  1 . never providing most of xxmaj che 's story ; \n",
              " \n",
              "  2 . xxunk xxunk film xxunk with mere xxunk xxunk ; \n",
              " \n",
              "  3 . xxunk both true xxunk and a narrative of events ; \n",
              " \n",
              "  4 . barely developing an idea , or a character ; \n",
              " \n",
              "  5 . remaining xxunk episodic ; \n",
              " \n",
              "  6 . xxunk proper context for scenes --- whatever we do get is xxunk in xxunk xxunk ; \n",
              " \n",
              "  7 . xxunk xxunk all audiences ( even xxmaj spanish - xxunk will be confused by the xxunk xxunk in xxmaj english ) ; and \n",
              " \n",
              "  8 . xxunk xxunk his main subject into one dimension . xxmaj why , at xxup this late stage ? xxmaj the t - shirt franchise has been a success ! \n",
              " \n",
              "  xxmaj our sense of xxunk is surely due to xxmaj peter xxmaj xxunk and xxmaj benjamin xxunk xxmaj xxunk xxunk their screenplay solely on xxmaj xxunk 's memoirs . xxmaj so , like a poor student who has read only xxup one of his xxunk xxunk for his xxunk , xxmaj soderbergh 's product is xxunk limited in perspective . \n",
              " \n",
              "  xxmaj the audience is held captive within the same xxunk knowledge , scenery and circumstances of the \" revolutionaries \" , but that does n't xxunk our sympathy . xxmaj instead , it xxunk on us that \" xxmaj ah , xxmaj soderbergh 's trying to xxunk his audiences the same as the xxmaj latino peasants were at the time \" . xxmaj but these are the xxup same illiterate xxmaj latino peasants who xxunk out the good doctor to his enemies . xxmaj why does xxmaj soderbergh feel the need to xxunk us with them , and keep us equally mentally captive ? xxmaj such audience xxunk must have a purpose . \n",
              " \n",
              "  xxmaj part2 is more xxunk than xxmaj part1 , but it 's literally mind - numbing with its repetitive bush - bashing , misery of xxunk , and lack of variety or character xxunk . deltoro 's xxmaj che has no opportunity to grow as a person while he struggles to xxunk his own ill - xxunk troops . xxmaj the only xxunk is the humour as xxmaj che deals with his sometimes deeply ignorant \" revolutionaries \" , some of whom xxunk lack self - control around local peasants or food . xxmaj we certainly get no insight into what caused the conditions , nor any xxunk xxunk of their xxunk xxunk , such as it was . \n",
              " \n",
              "  xxmaj part2 's xxunk xxunk remains xxunk episodic : again , nothing is telegraphed or xxunk . xxmaj thus even the scenes with xxmaj xxunk xxmaj xxunk ( xxmaj xxunk xxmaj xxunk ) are unexpected and disconcerting . xxmaj any xxunk events are portrayed xxunk and xxmaj latino - xxunk , with xxmaj part1 's interviews xxunk by time - xxunk xxunk between the corrupt xxmaj xxunk president ( xxmaj xxunk de xxmaj xxunk ) and xxup us xxmaj government xxunk promising xxup cia xxunk ( ! ) . \n",
              " \n",
              "  xxmaj the rest of xxmaj part2 's \" woods \" and day - for - night blue xxunk just xxunk the audience until they 're xxunk the xxunk . \n",
              " \n",
              "  xxmaj perhaps deltoro felt too xxunk the frustration of many non - xxmaj american xxmaj latinos about never getting a truthful , xxunk history of xxmaj che 's xxunk within their own countries . xxmaj when foreign xxunk still wo n't deliver a free press to their people -- for whatever reason -- then one can see how a popular xxmaj american indie producer might set out to xxunk the not - so - well - read ( \" i may not be able to read or write , but i 'm xxup not xxunk . xxmaj the xxmaj inspector xxmaj xxunk ) ) out to their own local xxunk . xxmaj the film 's obvious xxunk and gross over - xxunk hint very strongly that it 's aiming only at the xxunk of the less - informed xxup who xxup still xxup speak xxup little xxmaj english . xxmaj if they did , they 'd have read xxunk on the subject already , and xxunk the relevant social issues amongst themselves -- learning the lessons of history as they should . \n",
              " \n",
              "  xxmaj such insights are precisely what societies still need -- and not just the remaining illiterate xxmaj latinos of xxmaj central and xxmaj south xxmaj america -- yet it 's what xxmaj che(2008 ) xxunk fails to deliver . xxmaj soderbergh xxunk his lead because he 's weak on narrative . i am xxunk why xxmaj xxunk deltoro deliberately chose xxmaj soderbergh for this project if he knew this . xxmaj it 's been xxunk , xxunk about xxmaj xxunk was xxunk wanted : it 's what i went to see this film for , but the director xxunk robs us of that . \n",
              " \n",
              "  xxmaj david xxmaj xxunk , writing in xxmaj the xxmaj australian ( xxunk ) observed that while xxmaj part1 was \" uneven \" , xxmaj part2 actually \" goes rapidly downhill \" from there , \" xxunk xxmaj che 's final xxunk in xxmaj xxunk in xxunk detail \" , which \" ... feels almost unbearably slow and turgid \" . \n",
              " \n",
              "  xxmaj che : xxmaj the xxmaj xxunk aka xxmaj part2 is certainly no xxunk for xxmaj xxunk , painting it a picture of misery and xxunk . xxmaj the entire second half is only xxunk by the aforementioned humour , and the dramatic -- yet tragic -- capture and execution of the film 's subject . \n",
              " \n",
              "  xxmaj the rest of this xxunk cinema xxunk is just confusing , irritating misery -- xxunk , for a xxmaj soderbergh film , to be avoided at all costs . xxmaj it is bound to break the hearts of all who know even just a xxunk about the xxunk / 10 )"
            ]
          },
          "metadata": {
            "tags": []
          },
          "execution_count": 100
        }
      ]
    },
    {
      "cell_type": "markdown",
      "metadata": {
        "id": "I7kHY96G5435",
        "colab_type": "text"
      },
      "source": [
        "### Predict with Bayes"
      ]
    },
    {
      "cell_type": "markdown",
      "metadata": {
        "id": "TL-JePDHuVKP",
        "colab_type": "text"
      },
      "source": [
        "หาค่าเฉลี่ย จำนวนข้อมูลรีวิว แง่บวก แง่ลบ"
      ]
    },
    {
      "cell_type": "code",
      "metadata": {
        "id": "OdssOvdJ6Lvl",
        "colab_type": "code",
        "outputId": "00f05ec5-ac19-45e9-8896-0dd39763edb9",
        "colab": {
          "base_uri": "https://localhost:8080/",
          "height": 34
        }
      },
      "source": [
        "(y.items==positive).mean(), (y.items==negative).mean()"
      ],
      "execution_count": 101,
      "outputs": [
        {
          "output_type": "execute_result",
          "data": {
            "text/plain": [
              "(0.47875, 0.52125)"
            ]
          },
          "metadata": {
            "tags": []
          },
          "execution_count": 101
        }
      ]
    },
    {
      "cell_type": "markdown",
      "metadata": {
        "id": "F4YBmhDwuen_",
        "colab_type": "text"
      },
      "source": [
        "หาค่า bias ของข้อมูล เตรียมเอาไว้ บวกในสมการ เส้นตรง"
      ]
    },
    {
      "cell_type": "code",
      "metadata": {
        "id": "Ccx7xLO76U0d",
        "colab_type": "code",
        "outputId": "3f08ea1d-e902-4db7-b14b-1f0ed344d7d5",
        "colab": {
          "base_uri": "https://localhost:8080/",
          "height": 34
        }
      },
      "source": [
        "b = np.log((y.items==positive).mean() / (y.items==negative).mean()) ; b"
      ],
      "execution_count": 102,
      "outputs": [
        {
          "output_type": "execute_result",
          "data": {
            "text/plain": [
              "-0.08505123261815539"
            ]
          },
          "metadata": {
            "tags": []
          },
          "execution_count": 102
        }
      ]
    },
    {
      "cell_type": "markdown",
      "metadata": {
        "id": "FAMtufp0urn-",
        "colab_type": "text"
      },
      "source": [
        "นำ Validation Term-Document Matrix มาคูณกับ r และ บวก b ดูว่าอันไหนมากกว่า 0 เป็น positive น้อยกว่า 0 เป็น netative"
      ]
    },
    {
      "cell_type": "code",
      "metadata": {
        "id": "cCfUbkBA6cpa",
        "colab_type": "code",
        "colab": {}
      },
      "source": [
        "preds = (val_term_doc @ r + b ) > 0"
      ],
      "execution_count": 0,
      "outputs": []
    },
    {
      "cell_type": "markdown",
      "metadata": {
        "id": "P7Y3PK4uwZEh",
        "colab_type": "text"
      },
      "source": [
        "เทียบกับ y ใน Validation Set ถูกต้องถึง 64.5% "
      ]
    },
    {
      "cell_type": "code",
      "metadata": {
        "id": "zgCKRnoq6o8w",
        "colab_type": "code",
        "outputId": "f0fc2856-5474-4818-b419-28c6246004c2",
        "colab": {
          "base_uri": "https://localhost:8080/",
          "height": 34
        }
      },
      "source": [
        "(preds == val_y.items).mean()"
      ],
      "execution_count": 104,
      "outputs": [
        {
          "output_type": "execute_result",
          "data": {
            "text/plain": [
              "0.645"
            ]
          },
          "metadata": {
            "tags": []
          },
          "execution_count": 104
        }
      ]
    },
    {
      "cell_type": "markdown",
      "metadata": {
        "id": "6c__xqnzwx4N",
        "colab_type": "text"
      },
      "source": [
        "เมื่อทุกอย่างพร้อมแล้ว เราจะขยับไป Dataset ตัวเต็มกันต่อ"
      ]
    },
    {
      "cell_type": "code",
      "metadata": {
        "id": "XORSUFnn6uTk",
        "colab_type": "code",
        "colab": {}
      },
      "source": [
        ""
      ],
      "execution_count": 0,
      "outputs": []
    }
  ]
}