{
  "nbformat": 4,
  "nbformat_minor": 0,
  "metadata": {
    "colab": {
      "name": "26e_sentiment_classification_ngrams_trigram.ipynb",
      "provenance": [],
      "collapsed_sections": []
    },
    "kernelspec": {
      "name": "python3",
      "display_name": "Python 3"
    }
  },
  "cells": [
    {
      "cell_type": "code",
      "metadata": {
        "id": "hy5C27F1BAOx",
        "colab_type": "code",
        "colab": {}
      },
      "source": [
        ""
      ],
      "execution_count": 0,
      "outputs": []
    },
    {
      "cell_type": "markdown",
      "metadata": {
        "id": "XlQtoavmlNzL",
        "colab_type": "text"
      },
      "source": [
        "ใน ep นี้ เราจะ"
      ]
    },
    {
      "cell_type": "markdown",
      "metadata": {
        "id": "CzApwnjVlKxC",
        "colab_type": "text"
      },
      "source": [
        "# 0. Install"
      ]
    },
    {
      "cell_type": "markdown",
      "metadata": {
        "id": "MGOPzh9vCLJh",
        "colab_type": "text"
      },
      "source": [
        "Install Library ที่จำเป็น"
      ]
    },
    {
      "cell_type": "code",
      "metadata": {
        "id": "o0UgDCGLhby7",
        "colab_type": "code",
        "outputId": "31ece06e-8faa-41d6-d508-e8b29bb06550",
        "colab": {
          "base_uri": "https://localhost:8080/",
          "height": 51
        }
      },
      "source": [
        "## Colab\n",
        "! curl -s https://course.fast.ai/setup/colab | bash"
      ],
      "execution_count": 131,
      "outputs": [
        {
          "output_type": "stream",
          "text": [
            "Updating fastai...\n",
            "Done.\n"
          ],
          "name": "stdout"
        }
      ]
    },
    {
      "cell_type": "code",
      "metadata": {
        "id": "0WcUkQRak7e6",
        "colab_type": "code",
        "colab": {}
      },
      "source": [
        "%reload_ext autoreload\n",
        "%autoreload 2\n",
        "%matplotlib inline"
      ],
      "execution_count": 0,
      "outputs": []
    },
    {
      "cell_type": "markdown",
      "metadata": {
        "id": "3VxLNfAElR29",
        "colab_type": "text"
      },
      "source": [
        "# 1. Import"
      ]
    },
    {
      "cell_type": "markdown",
      "metadata": {
        "id": "nGm02SG0CQrq",
        "colab_type": "text"
      },
      "source": [
        "Import Library ที่จะใช้ ในที่นี้คือ fastai.text และ sklearn_text ที่ใช้ในงาน [NLP](https://www.bualabs.com/archives/119/what-is-nlp-natural-language-processing-nlp-task-in-thai-nlp-ep-1/)"
      ]
    },
    {
      "cell_type": "code",
      "metadata": {
        "id": "OORH3obdk-wS",
        "colab_type": "code",
        "colab": {}
      },
      "source": [
        "from fastai import *\n",
        "from fastai.text import *\n",
        "import sklearn.feature_extraction.text as sklearn_text\n",
        "from matplotlib import pyplot as plt\n",
        "import seaborn as sns"
      ],
      "execution_count": 0,
      "outputs": []
    },
    {
      "cell_type": "markdown",
      "metadata": {
        "id": "pv3eV6oElZD2",
        "colab_type": "text"
      },
      "source": [
        "# 2. Dataset"
      ]
    },
    {
      "cell_type": "markdown",
      "metadata": {
        "id": "_9kLpiZj_Rd6",
        "colab_type": "text"
      },
      "source": [
        "ในเคสนี้เราจะใช้ IMDB Movie Review เป็นรีวิวหนังจากเว็บ IMDB ที่มีข้อความ และ คะแนนว่าเป็นแง่บวก หรือแง่ลบ\n",
        "\n",
        "ในการพัฒนา เราจะใช้ Dataset ชุดเล็กก่อน จะได้เร็ว เมื่อเทสทุกอย่างเรียบร้อย แล้วจึงขยับไปใช้ Dataset ชุดเต็ม "
      ]
    },
    {
      "cell_type": "code",
      "metadata": {
        "id": "OqSJ9dsJJg8l",
        "colab_type": "code",
        "colab": {
          "base_uri": "https://localhost:8080/",
          "height": 34
        },
        "outputId": "b17e298a-e708-4dcc-c512-600cb07d393e"
      },
      "source": [
        "# IMDB Sample\n",
        "path = untar_data(URLs.IMDB_SAMPLE)\n",
        "\n",
        "path"
      ],
      "execution_count": 134,
      "outputs": [
        {
          "output_type": "execute_result",
          "data": {
            "text/plain": [
              "PosixPath('/content/data/imdb_sample')"
            ]
          },
          "metadata": {
            "tags": []
          },
          "execution_count": 134
        }
      ]
    },
    {
      "cell_type": "code",
      "metadata": {
        "id": "anPDd4-rJyGE",
        "colab_type": "code",
        "colab": {
          "base_uri": "https://localhost:8080/",
          "height": 34
        },
        "outputId": "128333a5-d33d-450a-e519-ff83d04faf34"
      },
      "source": [
        "path.ls()"
      ],
      "execution_count": 135,
      "outputs": [
        {
          "output_type": "execute_result",
          "data": {
            "text/plain": [
              "[PosixPath('/content/data/imdb_sample/texts.csv')]"
            ]
          },
          "metadata": {
            "tags": []
          },
          "execution_count": 135
        }
      ]
    },
    {
      "cell_type": "code",
      "metadata": {
        "id": "GLP6vD-VX27C",
        "colab_type": "code",
        "colab": {}
      },
      "source": [
        "# IMDB Sample\n",
        "df = pd.read_csv(path/'texts.csv')\n",
        "# df.head()"
      ],
      "execution_count": 0,
      "outputs": []
    },
    {
      "cell_type": "code",
      "metadata": {
        "id": "YFFERWx7JpXc",
        "colab_type": "code",
        "colab": {
          "base_uri": "https://localhost:8080/",
          "height": 34
        },
        "outputId": "f57b0fc5-b648-4642-a04e-347e6ddd8a3e"
      },
      "source": [
        "# IMDB_Sample\n",
        "movie_reviews = (TextList.from_csv(path, \"texts.csv\", cols=\"text\")\n",
        "                        .split_from_df(col=2)\n",
        "                        .label_from_df(cols=0))\n",
        "\n",
        "len(movie_reviews.train.x), len(movie_reviews.valid.x)"
      ],
      "execution_count": 137,
      "outputs": [
        {
          "output_type": "execute_result",
          "data": {
            "text/plain": [
              "(800, 200)"
            ]
          },
          "metadata": {
            "tags": []
          },
          "execution_count": 137
        }
      ]
    },
    {
      "cell_type": "code",
      "metadata": {
        "id": "pxRZzS_CKAFE",
        "colab_type": "code",
        "colab": {
          "base_uri": "https://localhost:8080/",
          "height": 34
        },
        "outputId": "0879f8f6-356a-40c2-c581-b6c492114ba0"
      },
      "source": [
        "v = movie_reviews.vocab.itos\n",
        "vocab_len = len(v)\n",
        "vocab_len"
      ],
      "execution_count": 138,
      "outputs": [
        {
          "output_type": "execute_result",
          "data": {
            "text/plain": [
              "6008"
            ]
          },
          "metadata": {
            "tags": []
          },
          "execution_count": 138
        }
      ]
    },
    {
      "cell_type": "markdown",
      "metadata": {
        "id": "MBrf0dNbKn2o",
        "colab_type": "text"
      },
      "source": [
        "# 3. Preprocessing"
      ]
    },
    {
      "cell_type": "markdown",
      "metadata": {
        "id": "es-Uk-1TKsT3",
        "colab_type": "text"
      },
      "source": [
        "## 3.1 Create Training N-Gram Matrix\n"
      ]
    },
    {
      "cell_type": "markdown",
      "metadata": {
        "id": "2jUGzQlrLNWs",
        "colab_type": "text"
      },
      "source": [
        "ประกาศตัวแปร ที่จำเป็น"
      ]
    },
    {
      "cell_type": "code",
      "metadata": {
        "id": "VKzAhs2-KsyE",
        "colab_type": "code",
        "colab": {}
      },
      "source": [
        "min_n = 1\n",
        "max_n = 3\n",
        "\n",
        "j_indices = []\n",
        "indptr = []\n",
        "values = []\n",
        "indptr.append(0)\n",
        "num_tokens = vocab_len\n",
        "\n",
        "itongram = dict()\n",
        "ngramtoi = dict()"
      ],
      "execution_count": 0,
      "outputs": []
    },
    {
      "cell_type": "code",
      "metadata": {
        "id": "xxARsbcuKs5S",
        "colab_type": "code",
        "colab": {}
      },
      "source": [
        "for i, doc in enumerate(movie_reviews.train.x):\n",
        "    feature_counter = Counter(doc.data)\n",
        "    j_indices.extend(feature_counter.keys())\n",
        "    values.extend(feature_counter.values())\n",
        "    this_doc_ngrams = list()\n",
        "\n",
        "    m = 0\n",
        "    for n in range(min_n, max_n + 1):\n",
        "        for k in range(vocab_len - n + 1):\n",
        "            ngram = doc.data[k: k+n]\n",
        "            \n",
        "            if str(ngram) not in ngramtoi: \n",
        "                if len(ngram) == 1: \n",
        "                    num = ngram[0]\n",
        "                    ngramtoi[str(ngram)] = num\n",
        "                    itongram[num] = ngram\n",
        "                else:\n",
        "                    ngramtoi[str(ngram)] = num_tokens\n",
        "                    itongram[num_tokens] = ngram\n",
        "                    num_tokens += 1\n",
        "            this_doc_ngrams.append(ngramtoi[str(ngram)])\n",
        "            m += 1\n",
        "\n",
        "    ngram_counter = Counter(this_doc_ngrams)\n",
        "    j_indices.extend(ngram_counter.keys())\n",
        "    values.extend(ngram_counter.values())\n",
        "    indptr.append(len(j_indices))\n"
      ],
      "execution_count": 0,
      "outputs": []
    },
    {
      "cell_type": "code",
      "metadata": {
        "id": "FPUL4TPWVvDE",
        "colab_type": "code",
        "colab": {}
      },
      "source": [
        "len(values), len(j_indices), len(indptr) - 1, len(ngramtoi)"
      ],
      "execution_count": 0,
      "outputs": []
    },
    {
      "cell_type": "code",
      "metadata": {
        "id": "9Ojghm6mPXbF",
        "colab_type": "code",
        "colab": {}
      },
      "source": [
        "train_ngram_doc_matrix = scipy.sparse.csr_matrix((values, j_indices, indptr), \n",
        "                                                 shape=(len(indptr) - 1, len(ngramtoi)), \n",
        "                                                 dtype=int)"
      ],
      "execution_count": 0,
      "outputs": []
    },
    {
      "cell_type": "code",
      "metadata": {
        "id": "wjxnRhMlRUBg",
        "colab_type": "code",
        "colab": {}
      },
      "source": [
        "train_ngram_doc_matrix"
      ],
      "execution_count": 0,
      "outputs": []
    },
    {
      "cell_type": "code",
      "metadata": {
        "id": "DcEafIcqPt7X",
        "colab_type": "code",
        "colab": {}
      },
      "source": [
        "len(ngramtoi), len(itongram)"
      ],
      "execution_count": 0,
      "outputs": []
    },
    {
      "cell_type": "markdown",
      "metadata": {
        "id": "-lrw4H-J6O_f",
        "colab_type": "text"
      },
      "source": [
        "ลองดูใน N-Gram Term-Document Matrix ที่ได้"
      ]
    },
    {
      "cell_type": "markdown",
      "metadata": {
        "id": "_T_VZjo7-do1",
        "colab_type": "text"
      },
      "source": [
        "### ตัวอย่าง 1"
      ]
    },
    {
      "cell_type": "code",
      "metadata": {
        "id": "efAyv4E08FM0",
        "colab_type": "code",
        "colab": {}
      },
      "source": [
        "itongram[20005]"
      ],
      "execution_count": 0,
      "outputs": []
    },
    {
      "cell_type": "code",
      "metadata": {
        "id": "zpm62jqn8E_P",
        "colab_type": "code",
        "colab": {}
      },
      "source": [
        "ngramtoi[str(np.array([15, 9, 710]))]"
      ],
      "execution_count": 0,
      "outputs": []
    },
    {
      "cell_type": "code",
      "metadata": {
        "id": "agVggsPq8Exo",
        "colab_type": "code",
        "colab": {}
      },
      "source": [
        "v[15], v[9], v[710]"
      ],
      "execution_count": 0,
      "outputs": []
    },
    {
      "cell_type": "markdown",
      "metadata": {
        "id": "vdNj64mb8ET2",
        "colab_type": "text"
      },
      "source": [
        "### ตัวอย่าง 2"
      ]
    },
    {
      "cell_type": "code",
      "metadata": {
        "colab_type": "code",
        "id": "fn79JxD9-5_h",
        "colab": {}
      },
      "source": [
        "itongram[20050]"
      ],
      "execution_count": 0,
      "outputs": []
    },
    {
      "cell_type": "code",
      "metadata": {
        "colab_type": "code",
        "id": "byPwbvv2-5_1",
        "colab": {}
      },
      "source": [
        "ngramtoi[str(np.array([14, 5, 2808]))]"
      ],
      "execution_count": 0,
      "outputs": []
    },
    {
      "cell_type": "code",
      "metadata": {
        "colab_type": "code",
        "id": "HlUWJm9S-5_5",
        "colab": {}
      },
      "source": [
        "v[14], v[5], v[2808]"
      ],
      "execution_count": 0,
      "outputs": []
    },
    {
      "cell_type": "markdown",
      "metadata": {
        "id": "g2Re4Sjy8D4F",
        "colab_type": "text"
      },
      "source": [
        "### ตัวอย่าง 3"
      ]
    },
    {
      "cell_type": "code",
      "metadata": {
        "colab_type": "code",
        "id": "b3Oi5BLJ_tvU",
        "colab": {}
      },
      "source": [
        "itongram[20080]"
      ],
      "execution_count": 0,
      "outputs": []
    },
    {
      "cell_type": "code",
      "metadata": {
        "colab_type": "code",
        "id": "yf5y8vxz_tve",
        "colab": {}
      },
      "source": [
        "ngramtoi[str(np.array([23, 796,  11]))]"
      ],
      "execution_count": 0,
      "outputs": []
    },
    {
      "cell_type": "code",
      "metadata": {
        "colab_type": "code",
        "id": "u2p57N7X_tvh",
        "colab": {}
      },
      "source": [
        "v[23], v[796], v[11]"
      ],
      "execution_count": 0,
      "outputs": []
    },
    {
      "cell_type": "markdown",
      "metadata": {
        "id": "WudHdbLz_5sd",
        "colab_type": "text"
      },
      "source": [
        "## 3.2 Create Valid N-Gram Matrix"
      ]
    },
    {
      "cell_type": "code",
      "metadata": {
        "id": "oc6WYRS1_5cz",
        "colab_type": "code",
        "colab": {}
      },
      "source": [
        "j_indices = []\n",
        "indptr = []\n",
        "values = []\n",
        "indptr.append(0)\n",
        "\n",
        "for i, doc in enumerate(movie_reviews.valid.x):\n",
        "    feature_counter = Counter(doc.data)\n",
        "    j_indices.extend(feature_counter.keys())\n",
        "    values.extend(feature_counter.values())\n",
        "    this_doc_ngrams = list()\n",
        "\n",
        "    m = 0\n",
        "    for n in range(min_n, max_n + 1):\n",
        "        for k in range(vocab_len - n + 1):\n",
        "            ngram = doc.data[k: k + n]\n",
        "            if str(ngram) in ngramtoi:\n",
        "                this_doc_ngrams.append(ngramtoi[str(ngram)])\n",
        "            m += 1\n",
        "\n",
        "    ngram_counter = Counter(this_doc_ngrams)\n",
        "    j_indices.extend(ngram_counter.keys())\n",
        "    values.extend(ngram_counter.values())\n",
        "    indptr.append(len(j_indices))"
      ],
      "execution_count": 0,
      "outputs": []
    },
    {
      "cell_type": "code",
      "metadata": {
        "id": "X6GOz3Xw_5OK",
        "colab_type": "code",
        "colab": {}
      },
      "source": [
        "valid_ngram_doc_matrix = scipy.sparse.csr_matrix((values, j_indices, indptr),\n",
        "                                   shape=(len(indptr) - 1, len(ngramtoi)),\n",
        "                                   dtype=int)"
      ],
      "execution_count": 0,
      "outputs": []
    },
    {
      "cell_type": "code",
      "metadata": {
        "id": "q7lJFnHd_4_l",
        "colab_type": "code",
        "colab": {}
      },
      "source": [
        "valid_ngram_doc_matrix"
      ],
      "execution_count": 0,
      "outputs": []
    },
    {
      "cell_type": "code",
      "metadata": {
        "id": "0MZN5JZPDgT-",
        "colab_type": "code",
        "colab": {}
      },
      "source": [
        "train_ngram_doc_matrix"
      ],
      "execution_count": 0,
      "outputs": []
    },
    {
      "cell_type": "markdown",
      "metadata": {
        "id": "emP6bQDBDgJC",
        "colab_type": "text"
      },
      "source": [
        "## 3.3 Save Data"
      ]
    },
    {
      "cell_type": "code",
      "metadata": {
        "id": "cQvAq5a1Df9J",
        "colab_type": "code",
        "colab": {}
      },
      "source": [
        "scipy.sparse.save_npz(\"train_ngram_doc_matrix.npz\", train_ngram_doc_matrix)"
      ],
      "execution_count": 0,
      "outputs": []
    },
    {
      "cell_type": "code",
      "metadata": {
        "id": "dvsOU7cjDfw5",
        "colab_type": "code",
        "colab": {}
      },
      "source": [
        "scipy.sparse.save_npz(\"valid_ngram_doc_matrix.npz\", valid_ngram_doc_matrix)"
      ],
      "execution_count": 0,
      "outputs": []
    },
    {
      "cell_type": "code",
      "metadata": {
        "id": "T7M4UvKhDfk9",
        "colab_type": "code",
        "colab": {}
      },
      "source": [
        "with open('itongram.pickle', 'wb') as handle:\n",
        "    pickle.dump(itongram, handle, protocol=pickle.HIGHEST_PROTOCOL)\n",
        "with open('ngramtoi.pickle', 'wb') as handle: \n",
        "    pickle.dump(ngramtoi, handle, protocol=pickle.HIGHEST_PROTOCOL)"
      ],
      "execution_count": 0,
      "outputs": []
    },
    {
      "cell_type": "markdown",
      "metadata": {
        "id": "kkUx0SuTDfX1",
        "colab_type": "text"
      },
      "source": [
        "## 3.4 Load Data"
      ]
    },
    {
      "cell_type": "code",
      "metadata": {
        "id": "NDftOPg6HxE2",
        "colab_type": "code",
        "colab": {}
      },
      "source": [
        "train_ngram_doc_matrix = scipy.sparse.load_npz(\"train_ngram_doc_matrix.npz\")\n",
        "valid_ngram_doc_matrix = scipy.sparse.load_npz(\"valid_ngram_doc_matrix.npz\")"
      ],
      "execution_count": 0,
      "outputs": []
    },
    {
      "cell_type": "code",
      "metadata": {
        "id": "PL8O2V7UDfLe",
        "colab_type": "code",
        "colab": {}
      },
      "source": [
        "with open(\"itongram.pickle\", \"rb\") as handle:\n",
        "    itongram = pickle.load(handle)\n",
        "with open(\"ngramtoi.pickle\", \"rb\") as handle:\n",
        "    ngramtoi = pickle.load(handle)"
      ],
      "execution_count": 0,
      "outputs": []
    },
    {
      "cell_type": "markdown",
      "metadata": {
        "id": "4VfdbWa4dTBJ",
        "colab_type": "text"
      },
      "source": [
        "ตรวจเช็คข้อมูล"
      ]
    },
    {
      "cell_type": "code",
      "metadata": {
        "id": "1BRD8cBTdOBU",
        "colab_type": "code",
        "colab": {}
      },
      "source": [
        "train_ngram_doc_matrix, valid_ngram_doc_matrix"
      ],
      "execution_count": 0,
      "outputs": []
    },
    {
      "cell_type": "code",
      "metadata": {
        "id": "XbQPlgQgK6xm",
        "colab_type": "code",
        "colab": {}
      },
      "source": [
        "len(itongram), len(ngramtoi)"
      ],
      "execution_count": 0,
      "outputs": []
    },
    {
      "cell_type": "markdown",
      "metadata": {
        "id": "VQI99ySvK6ge",
        "colab_type": "text"
      },
      "source": [
        "# 4. Predict"
      ]
    },
    {
      "cell_type": "markdown",
      "metadata": {
        "id": "4X88Y9lGkftg",
        "colab_type": "text"
      },
      "source": [
        "## 4.1 Naives Bayes"
      ]
    },
    {
      "cell_type": "code",
      "metadata": {
        "id": "Hj7IIvzlK6R7",
        "colab_type": "code",
        "colab": {}
      },
      "source": [
        "x = train_ngram_doc_matrix\n",
        "y = movie_reviews.train.y\n",
        "\n",
        "x.getnnz(), len(y)"
      ],
      "execution_count": 0,
      "outputs": []
    },
    {
      "cell_type": "code",
      "metadata": {
        "id": "mQXykV2DK5hz",
        "colab_type": "code",
        "colab": {}
      },
      "source": [
        "positive = y.c2i['positive']\n",
        "negative = y.c2i['negative']"
      ],
      "execution_count": 0,
      "outputs": []
    },
    {
      "cell_type": "code",
      "metadata": {
        "id": "egQ7_fq6hTG6",
        "colab_type": "code",
        "colab": {}
      },
      "source": [
        "x"
      ],
      "execution_count": 0,
      "outputs": []
    },
    {
      "cell_type": "markdown",
      "metadata": {
        "id": "W5vPWt1LvfTi",
        "colab_type": "text"
      },
      "source": [
        "k เอาไว้ limit จำนวนข้อมูล"
      ]
    },
    {
      "cell_type": "code",
      "metadata": {
        "id": "wDv-J8HxhTDQ",
        "colab_type": "code",
        "colab": {}
      },
      "source": [
        "k = 1000"
      ],
      "execution_count": 0,
      "outputs": []
    },
    {
      "cell_type": "code",
      "metadata": {
        "id": "GaOwv37_hTAV",
        "colab_type": "code",
        "colab": {}
      },
      "source": [
        "pos = (y.items == positive)[:k]\n",
        "neg = (y.items == negative)[:k]"
      ],
      "execution_count": 0,
      "outputs": []
    },
    {
      "cell_type": "code",
      "metadata": {
        "id": "E9_ijJBfhS-D",
        "colab_type": "code",
        "colab": {}
      },
      "source": [
        "xx = x[:k]"
      ],
      "execution_count": 0,
      "outputs": []
    },
    {
      "cell_type": "code",
      "metadata": {
        "id": "9LXa50DVhS6O",
        "colab_type": "code",
        "colab": {}
      },
      "source": [
        ""
      ],
      "execution_count": 0,
      "outputs": []
    },
    {
      "cell_type": "code",
      "metadata": {
        "id": "RH7dpPA-hSVp",
        "colab_type": "code",
        "colab": {}
      },
      "source": [
        "p0 = np.squeeze(np.array(xx[neg].sum(0)))\n",
        "p1 = np.squeeze(np.array(xx[pos].sum(0)))"
      ],
      "execution_count": 0,
      "outputs": []
    },
    {
      "cell_type": "code",
      "metadata": {
        "id": "8J_3Ww2ShSIh",
        "colab_type": "code",
        "colab": {}
      },
      "source": [
        "pr1 = (p1+1) / ((y.items == positive).sum() + 1)\n",
        "pr0 = (p0+1) / ((y.items == negative).sum() + 1)"
      ],
      "execution_count": 0,
      "outputs": []
    },
    {
      "cell_type": "code",
      "metadata": {
        "id": "zFfHSAg5hR4r",
        "colab_type": "code",
        "colab": {}
      },
      "source": [
        "r = np.log(pr1/pr0)"
      ],
      "execution_count": 0,
      "outputs": []
    },
    {
      "cell_type": "code",
      "metadata": {
        "id": "h1UxICZLjIrN",
        "colab_type": "code",
        "colab": {}
      },
      "source": [
        "b = np.log((y.items == positive).mean() / (y.items == negative).mean())\n",
        "b"
      ],
      "execution_count": 0,
      "outputs": []
    },
    {
      "cell_type": "code",
      "metadata": {
        "id": "8Oz38Y4kjInQ",
        "colab_type": "code",
        "colab": {}
      },
      "source": [
        "(y.items == positive).mean(), (y.items == negative).mean()"
      ],
      "execution_count": 0,
      "outputs": []
    },
    {
      "cell_type": "code",
      "metadata": {
        "id": "-lJhu6KujIkP",
        "colab_type": "code",
        "colab": {}
      },
      "source": [
        "pre_preds = valid_ngram_doc_matrix @ r.T + b"
      ],
      "execution_count": 0,
      "outputs": []
    },
    {
      "cell_type": "code",
      "metadata": {
        "id": "B4egrhJkjIif",
        "colab_type": "code",
        "colab": {}
      },
      "source": [
        "pre_preds"
      ],
      "execution_count": 0,
      "outputs": []
    },
    {
      "cell_type": "code",
      "metadata": {
        "id": "F3-4pYL-jIeT",
        "colab_type": "code",
        "colab": {}
      },
      "source": [
        "preds = pre_preds.T > 0"
      ],
      "execution_count": 0,
      "outputs": []
    },
    {
      "cell_type": "code",
      "metadata": {
        "id": "HYzuFdiZjIcM",
        "colab_type": "code",
        "colab": {}
      },
      "source": [
        "preds[:10]"
      ],
      "execution_count": 0,
      "outputs": []
    },
    {
      "cell_type": "code",
      "metadata": {
        "id": "9YclA6IMjIaT",
        "colab_type": "code",
        "colab": {}
      },
      "source": [
        "valid_labels = [o == positive for o in movie_reviews.valid.y.items]"
      ],
      "execution_count": 0,
      "outputs": []
    },
    {
      "cell_type": "code",
      "metadata": {
        "id": "K8JXekrajIWy",
        "colab_type": "code",
        "colab": {}
      },
      "source": [
        "(preds == valid_labels).mean()"
      ],
      "execution_count": 0,
      "outputs": []
    },
    {
      "cell_type": "markdown",
      "metadata": {
        "id": "ShWTq_M1jITz",
        "colab_type": "text"
      },
      "source": [
        "## 4.2 Binarized Naive Bayes"
      ]
    },
    {
      "cell_type": "code",
      "metadata": {
        "id": "yPAkUKeYjIRf",
        "colab_type": "code",
        "colab": {}
      },
      "source": [
        "trn_x_ngram_sgn = train_ngram_doc_matrix.sign()\n",
        "val_x_ngram_sgn = valid_ngram_doc_matrix.sign()"
      ],
      "execution_count": 0,
      "outputs": []
    },
    {
      "cell_type": "code",
      "metadata": {
        "id": "ZdDLGzsMjIOB",
        "colab_type": "code",
        "colab": {}
      },
      "source": [
        "xx = trn_x_ngram_sgn[:k]"
      ],
      "execution_count": 0,
      "outputs": []
    },
    {
      "cell_type": "code",
      "metadata": {
        "id": "nmmNUZPR50IB",
        "colab_type": "code",
        "colab": {}
      },
      "source": [
        ""
      ],
      "execution_count": 0,
      "outputs": []
    },
    {
      "cell_type": "code",
      "metadata": {
        "colab_type": "code",
        "id": "sUr6EGPZ54iu",
        "colab": {}
      },
      "source": [
        "p0 = np.squeeze(np.array(xx[neg].sum(0)))\n",
        "p1 = np.squeeze(np.array(xx[pos].sum(0)))"
      ],
      "execution_count": 0,
      "outputs": []
    },
    {
      "cell_type": "code",
      "metadata": {
        "colab_type": "code",
        "id": "SjvZ_oQn54i2",
        "colab": {}
      },
      "source": [
        "pr1 = (p1+1) / ((y.items == positive).sum() + 1)\n",
        "pr0 = (p0+1) / ((y.items == negative).sum() + 1)"
      ],
      "execution_count": 0,
      "outputs": []
    },
    {
      "cell_type": "code",
      "metadata": {
        "colab_type": "code",
        "id": "zn03ejgK54i5",
        "colab": {}
      },
      "source": [
        "r = np.log(pr1/pr0)"
      ],
      "execution_count": 0,
      "outputs": []
    },
    {
      "cell_type": "code",
      "metadata": {
        "colab_type": "code",
        "id": "hTOSGmSn54i7",
        "colab": {}
      },
      "source": [
        "b = np.log((y.items == positive).mean() / (y.items == negative).mean())\n",
        "b"
      ],
      "execution_count": 0,
      "outputs": []
    },
    {
      "cell_type": "code",
      "metadata": {
        "colab_type": "code",
        "id": "4gUc8TSl54i_",
        "colab": {}
      },
      "source": [
        "(y.items == positive).mean(), (y.items == negative).mean()"
      ],
      "execution_count": 0,
      "outputs": []
    },
    {
      "cell_type": "code",
      "metadata": {
        "colab_type": "code",
        "id": "mcT1o2JC54jB",
        "colab": {}
      },
      "source": [
        "pre_preds = valid_ngram_doc_matrix @ r.T + b"
      ],
      "execution_count": 0,
      "outputs": []
    },
    {
      "cell_type": "code",
      "metadata": {
        "colab_type": "code",
        "id": "vJQRIjIt54jE",
        "colab": {}
      },
      "source": [
        "pre_preds"
      ],
      "execution_count": 0,
      "outputs": []
    },
    {
      "cell_type": "code",
      "metadata": {
        "colab_type": "code",
        "id": "DaqJCvnx54jI",
        "colab": {}
      },
      "source": [
        "preds = pre_preds.T > 0"
      ],
      "execution_count": 0,
      "outputs": []
    },
    {
      "cell_type": "code",
      "metadata": {
        "colab_type": "code",
        "id": "TA0OZNHb54jL",
        "colab": {}
      },
      "source": [
        "preds[:10]"
      ],
      "execution_count": 0,
      "outputs": []
    },
    {
      "cell_type": "code",
      "metadata": {
        "colab_type": "code",
        "id": "jd1qut9654jO",
        "colab": {}
      },
      "source": [
        "valid_labels = [o == positive for o in movie_reviews.valid.y.items]"
      ],
      "execution_count": 0,
      "outputs": []
    },
    {
      "cell_type": "code",
      "metadata": {
        "colab_type": "code",
        "id": "XGUZ43vQ54jR",
        "colab": {}
      },
      "source": [
        "(preds == valid_labels).mean()"
      ],
      "execution_count": 0,
      "outputs": []
    },
    {
      "cell_type": "markdown",
      "metadata": {
        "id": "BbcKxpac50GF",
        "colab_type": "text"
      },
      "source": [
        "## 4.3 Logistic Regression"
      ]
    },
    {
      "cell_type": "code",
      "metadata": {
        "id": "o8i7a9NB50BO",
        "colab_type": "code",
        "colab": {}
      },
      "source": [
        "from sklearn.linear_model import LogisticRegression"
      ],
      "execution_count": 0,
      "outputs": []
    },
    {
      "cell_type": "markdown",
      "metadata": {
        "id": "2s0HEcM18Ii2",
        "colab_type": "text"
      },
      "source": [
        "ใช้ CountVectorizer"
      ]
    },
    {
      "cell_type": "code",
      "metadata": {
        "id": "Wek1BMPc5z-2",
        "colab_type": "code",
        "colab": {}
      },
      "source": [
        "from sklearn.feature_extraction.text import CountVectorizer"
      ],
      "execution_count": 0,
      "outputs": []
    },
    {
      "cell_type": "code",
      "metadata": {
        "id": "ib-WCxWc5z7w",
        "colab_type": "code",
        "colab": {}
      },
      "source": [
        "veczr = CountVectorizer(ngram_range=(1, 3), preprocessor=noop, tokenizer=noop, max_features=800000)"
      ],
      "execution_count": 0,
      "outputs": []
    },
    {
      "cell_type": "code",
      "metadata": {
        "id": "0vfPbJBj5z5B",
        "colab_type": "code",
        "colab": {}
      },
      "source": [
        "docs = movie_reviews.train.x"
      ],
      "execution_count": 0,
      "outputs": []
    },
    {
      "cell_type": "code",
      "metadata": {
        "id": "aAL3YdLh5z1_",
        "colab_type": "code",
        "colab": {}
      },
      "source": [
        "train_words = [[docs.vocab.itos[o] for o in doc.data] for doc in movie_reviews.train.x]\n",
        "valid_words = [[docs.vocab.itos[o] for o in doc.data] for doc in movie_reviews.valid.x]\n",
        "\n",
        "len(train_words), len(valid_words)"
      ],
      "execution_count": 0,
      "outputs": []
    },
    {
      "cell_type": "code",
      "metadata": {
        "id": "4T472DdP5z0V",
        "colab_type": "code",
        "colab": {}
      },
      "source": [
        "%%time\n",
        "train_ngram_doc = veczr.fit_transform(train_words)"
      ],
      "execution_count": 0,
      "outputs": []
    },
    {
      "cell_type": "code",
      "metadata": {
        "id": "GM4fZnS25zyj",
        "colab_type": "code",
        "colab": {}
      },
      "source": [
        "train_ngram_doc"
      ],
      "execution_count": 0,
      "outputs": []
    },
    {
      "cell_type": "markdown",
      "metadata": {
        "id": "H2K71tzk-XXA",
        "colab_type": "text"
      },
      "source": [
        "ดูตัวอย่าง vocab Dictionary ที่ได้ เป็น N-Gram"
      ]
    },
    {
      "cell_type": "code",
      "metadata": {
        "id": "YfeHeW-m5zuF",
        "colab_type": "code",
        "colab": {}
      },
      "source": [
        "from itertools import *\n",
        "\n",
        "len(veczr.vocabulary_), list(islice(veczr.vocabulary_.items(), 20)), list(islice(veczr.vocabulary_.items(), 26000, 26020))"
      ],
      "execution_count": 0,
      "outputs": []
    },
    {
      "cell_type": "markdown",
      "metadata": {
        "id": "3HNU9_3dKzby",
        "colab_type": "text"
      },
      "source": [
        "Transform ข้อมูล Validation Set ด้วย vocab Dictionary ของ Training Set"
      ]
    },
    {
      "cell_type": "code",
      "metadata": {
        "id": "V-o__u2_5zrM",
        "colab_type": "code",
        "colab": {}
      },
      "source": [
        "val_ngram_doc = veczr.transform(valid_words)\n",
        "val_ngram_doc"
      ],
      "execution_count": 0,
      "outputs": []
    },
    {
      "cell_type": "code",
      "metadata": {
        "id": "LYxgTGi_5zod",
        "colab_type": "code",
        "colab": {}
      },
      "source": [
        "vocab = veczr.get_feature_names()\n",
        "len(vocab)"
      ],
      "execution_count": 0,
      "outputs": []
    },
    {
      "cell_type": "code",
      "metadata": {
        "id": "cbF2sgqA5zlj",
        "colab_type": "code",
        "colab": {}
      },
      "source": [
        "vocab[200000:200010]"
      ],
      "execution_count": 0,
      "outputs": []
    },
    {
      "cell_type": "markdown",
      "metadata": {
        "id": "OcLsWPOGPHKD",
        "colab_type": "text"
      },
      "source": [
        ""
      ]
    },
    {
      "cell_type": "code",
      "metadata": {
        "id": "GXAf-lJ95zjJ",
        "colab_type": "code",
        "colab": {}
      },
      "source": [
        "y = movie_reviews.train.y"
      ],
      "execution_count": 0,
      "outputs": []
    },
    {
      "cell_type": "code",
      "metadata": {
        "id": "WJUctrQt5zgI",
        "colab_type": "code",
        "colab": {}
      },
      "source": [
        "m = LogisticRegression(C=0.1, dual=True, solver='liblinear', max_iter=10000)\n",
        "m.fit(train_ngram_doc, y.items);\n",
        "\n",
        "preds = m.predict(val_ngram_doc)\n",
        "(preds.T == valid_labels).mean()"
      ],
      "execution_count": 0,
      "outputs": []
    },
    {
      "cell_type": "markdown",
      "metadata": {
        "id": "GKtmDRDx5zdx",
        "colab_type": "text"
      },
      "source": [
        "## 4.4 Binarized Logistic Regression"
      ]
    },
    {
      "cell_type": "code",
      "metadata": {
        "id": "Z9xT187z5zbm",
        "colab_type": "code",
        "colab": {}
      },
      "source": [
        "m = LogisticRegression(C=0.1, dual=True, solver='liblinear', max_iter=10000)\n",
        "m.fit(train_ngram_doc.sign(), y.items);\n",
        "\n",
        "preds = m.predict(val_ngram_doc)\n",
        "(preds.T == valid_labels).mean()"
      ],
      "execution_count": 0,
      "outputs": []
    },
    {
      "cell_type": "markdown",
      "metadata": {
        "id": "tEoOL5ki5zYD",
        "colab_type": "text"
      },
      "source": [
        "## 4.3/2 Logistic Regression กับ N-Gram ที่เราสร้างเอง"
      ]
    },
    {
      "cell_type": "code",
      "metadata": {
        "id": "7T2bSMuhbp0U",
        "colab_type": "code",
        "colab": {}
      },
      "source": [
        "m2 = LogisticRegression(C=0.1, dual=True, solver='liblinear', max_iter=10000)\n",
        "m2.fit(train_ngram_doc_matrix, y.items);\n",
        "\n",
        "preds = m2.predict(valid_ngram_doc_matrix)\n",
        "(preds.T == valid_labels).mean()"
      ],
      "execution_count": 0,
      "outputs": []
    },
    {
      "cell_type": "code",
      "metadata": {
        "id": "-ab7weAPbpyE",
        "colab_type": "code",
        "colab": {}
      },
      "source": [
        ""
      ],
      "execution_count": 0,
      "outputs": []
    },
    {
      "cell_type": "markdown",
      "metadata": {
        "id": "n-xlepfMbpwH",
        "colab_type": "text"
      },
      "source": [
        "## 4.4/2 Binarized Logistic Regression กับ N-Gram ที่เราสร้างเอง"
      ]
    },
    {
      "cell_type": "code",
      "metadata": {
        "id": "0gsZZVmEbpt5",
        "colab_type": "code",
        "colab": {}
      },
      "source": [
        "m2 = LogisticRegression(C=0.1, dual=True, solver='liblinear', max_iter=10000)\n",
        "m2.fit(trn_x_ngram_sgn, y.items);\n",
        "\n",
        "preds = m2.predict(val_x_ngram_sgn)\n",
        "(preds.T == valid_labels).mean()"
      ],
      "execution_count": 0,
      "outputs": []
    },
    {
      "cell_type": "markdown",
      "metadata": {
        "id": "MBaWw5GRbppi",
        "colab_type": "text"
      },
      "source": [
        "## 4.5 Logistic Regression กับ Log Count"
      ]
    },
    {
      "cell_type": "markdown",
      "metadata": {
        "id": "853G444nnsft",
        "colab_type": "text"
      },
      "source": [
        "เราจะ fit logistic regression ด้วย Regularized feature trigrams  log-count ratios."
      ]
    },
    {
      "cell_type": "code",
      "metadata": {
        "id": "LChp7V7Dbplv",
        "colab_type": "code",
        "colab": {}
      },
      "source": [
        "x = train_ngram_doc_matrix.sign()\n",
        "val_x = valid_ngram_doc_matrix.sign()\n",
        "y = movie_reviews.train.y"
      ],
      "execution_count": 0,
      "outputs": []
    },
    {
      "cell_type": "code",
      "metadata": {
        "id": "hJLco1nwbpi-",
        "colab_type": "code",
        "colab": {}
      },
      "source": [
        "positive = y.c2i['positive']\n",
        "negative = y.c2i['negative']"
      ],
      "execution_count": 0,
      "outputs": []
    },
    {
      "cell_type": "code",
      "metadata": {
        "id": "eVsuIm8FbpgV",
        "colab_type": "code",
        "colab": {}
      },
      "source": [
        "k = 100000"
      ],
      "execution_count": 0,
      "outputs": []
    },
    {
      "cell_type": "code",
      "metadata": {
        "id": "pACWp_Y9kvYk",
        "colab_type": "code",
        "colab": {}
      },
      "source": [
        "pos = (y.items == positive)[:k]\n",
        "neg = (y.items == negative)[:k]"
      ],
      "execution_count": 0,
      "outputs": []
    },
    {
      "cell_type": "code",
      "metadata": {
        "id": "FbZ0HqPekwYD",
        "colab_type": "code",
        "colab": {}
      },
      "source": [
        "xx = x[:k]"
      ],
      "execution_count": 0,
      "outputs": []
    },
    {
      "cell_type": "code",
      "metadata": {
        "id": "UvrPtGaVkwNj",
        "colab_type": "code",
        "colab": {}
      },
      "source": [
        "valid_labels = [o == positive for o in movie_reviews.valid.y.items]"
      ],
      "execution_count": 0,
      "outputs": []
    },
    {
      "cell_type": "code",
      "metadata": {
        "id": "qrNQQmtPkwKv",
        "colab_type": "code",
        "colab": {}
      },
      "source": [
        "p0 = np.squeeze(np.array(xx[neg]).sum(0))\n",
        "p1 = np.squeeze(np.array(xx[pos]).sum(0))"
      ],
      "execution_count": 0,
      "outputs": []
    },
    {
      "cell_type": "code",
      "metadata": {
        "id": "JiBQ9a6lkwH5",
        "colab_type": "code",
        "colab": {}
      },
      "source": [
        "pr0 = (pr0 + 1) / ((y.items == negative).sum() + 1)\n",
        "pr0 = (pr1 + 1) / ((y.items == positive).sum() + 1)"
      ],
      "execution_count": 0,
      "outputs": []
    },
    {
      "cell_type": "code",
      "metadata": {
        "id": "xzkWtpxclutA",
        "colab_type": "code",
        "colab": {}
      },
      "source": [
        "r = np.log(pr1/pr0)\n",
        "r.shape, r"
      ],
      "execution_count": 0,
      "outputs": []
    },
    {
      "cell_type": "code",
      "metadata": {
        "id": "bJQZz2Oylunv",
        "colab_type": "code",
        "colab": {}
      },
      "source": [
        "np.exp(r)"
      ],
      "execution_count": 0,
      "outputs": []
    },
    {
      "cell_type": "code",
      "metadata": {
        "id": "gc8s6Ti2luqs",
        "colab_type": "code",
        "colab": {}
      },
      "source": [
        "b = np.log((y.items==positive).mean() / (y.items==negative).mean())\n",
        "b"
      ],
      "execution_count": 0,
      "outputs": []
    },
    {
      "cell_type": "markdown",
      "metadata": {
        "id": "xYM314PCbpam",
        "colab_type": "text"
      },
      "source": [
        "เราจะ Normalized ด้วย r ก่อน Fit Logistic regression"
      ]
    },
    {
      "cell_type": "code",
      "metadata": {
        "id": "Qg_hyADAqPZa",
        "colab_type": "code",
        "colab": {}
      },
      "source": [
        "xx.shape, r.shape, r.reshape(-1, 1).shape"
      ],
      "execution_count": 0,
      "outputs": []
    },
    {
      "cell_type": "code",
      "metadata": {
        "id": "luMLOWyDbpXn",
        "colab_type": "code",
        "colab": {}
      },
      "source": [
        "x_nb = xx.dot(r.reshape(-1, 1))\n",
        "x_nb.shape"
      ],
      "execution_count": 0,
      "outputs": []
    },
    {
      "cell_type": "code",
      "metadata": {
        "id": "0rD8a4kfrH06",
        "colab_type": "code",
        "colab": {}
      },
      "source": [
        "m = LogisticRegression(C=0.1, dual=True, solver='liblinear', max_iter=10000)\n",
        "m.fit(x_nb, y.items)"
      ],
      "execution_count": 0,
      "outputs": []
    },
    {
      "cell_type": "code",
      "metadata": {
        "id": "akyjHgQJof2o",
        "colab_type": "code",
        "colab": {}
      },
      "source": [
        "val_x_nb = val_x.dot(r.reshape(-1, 1))\n",
        "preds = m.predict(val_x_nb)\n",
        "(preds.T == valid_labels).mean()"
      ],
      "execution_count": 0,
      "outputs": []
    },
    {
      "cell_type": "code",
      "metadata": {
        "id": "LVXNrLxYbpNz",
        "colab_type": "code",
        "colab": {}
      },
      "source": [
        ""
      ],
      "execution_count": 0,
      "outputs": []
    },
    {
      "cell_type": "markdown",
      "metadata": {
        "id": "NDi6KKnULray",
        "colab_type": "text"
      },
      "source": [
        "# สรุป"
      ]
    },
    {
      "cell_type": "markdown",
      "metadata": {
        "id": "BpoHE89ONKc_",
        "colab_type": "text"
      },
      "source": [
        "* เราได้เรียนรู้"
      ]
    },
    {
      "cell_type": "markdown",
      "metadata": {
        "id": "4gvQU6jgNLKZ",
        "colab_type": "text"
      },
      "source": [
        "# Credit"
      ]
    },
    {
      "cell_type": "markdown",
      "metadata": {
        "id": "nt2N3YR6OsLp",
        "colab_type": "text"
      },
      "source": [
        "* https://www.youtube.com/watch?v=dt7sArnLo1g&list=PLtmWHNX-gukKocXQOkQjuVxglSDYWsSh9&index=6&t=0s\n",
        "* https://www.bualabs.com/archives/3000/sentiment-classification-imdb-movie-reviews-with-naive-bayes-logistic-regression-nlp-ep-5/\n",
        "* https://www.bualabs.com/archives/926/sentiment-analysis-imdb-movie-review-ulmfit-sentiment-analysis-ep-1/\n",
        "* https://docs.fast.ai/text.data.html\n",
        "* https://docs.python.org/2/library/collections.html\n",
        "* https://en.wikipedia.org/wiki/Naive_Bayes_classifier\n",
        "* https://scikit-learn.org/stable/modules/generated/sklearn.linear_model.LogisticRegression.html\n",
        "* https://en.wikipedia.org/wiki/N-gram\n",
        "* https://web.stanford.edu/~jurafsky/slp3/3.pdf"
      ]
    },
    {
      "cell_type": "code",
      "metadata": {
        "id": "sZay6TX_RWPD",
        "colab_type": "code",
        "colab": {}
      },
      "source": [
        ""
      ],
      "execution_count": 0,
      "outputs": []
    }
  ]
}