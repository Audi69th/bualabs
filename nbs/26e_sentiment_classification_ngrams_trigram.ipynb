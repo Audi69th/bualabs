{
  "nbformat": 4,
  "nbformat_minor": 0,
  "metadata": {
    "colab": {
      "name": "26e_sentiment_classification_ngrams_trigram.ipynb",
      "provenance": [],
      "collapsed_sections": [],
      "machine_shape": "hm"
    },
    "kernelspec": {
      "name": "python3",
      "display_name": "Python 3"
    },
    "accelerator": "GPU"
  },
  "cells": [
    {
      "cell_type": "markdown",
      "metadata": {
        "id": "XlQtoavmlNzL",
        "colab_type": "text"
      },
      "source": [
        "ใน ep ที่แล้ว [Sentiment Classification วิเคราะห์รีวิวหนัง IMDB แง่บวก แง่ลบ ด้วย Naive Bayes และ Logistic Regression](https://www.bualabs.com/archives/3000/sentiment-classification-imdb-movie-reviews-with-naive-bayes-logistic-regression-nlp-ep-5/) เราใช้ 1 Token ต่อ 1 คำ เรียกว่า Unigram \n",
        "\n",
        "แต่ใน ep นี้ เราจะมาเรียนรู้ N-Gram คือ 1 Token สามารถประกอบด้วยหลายคำ เช่น Bigram 2 คำ, Trigram 3 คำ, etc. ในงาน Sentiment Classification ด้วยอัลกอริทึมเดียวกัน ep ที่แล้ว\n",
        "\n",
        "ข้อดีของ N-Gram คือ ทำให้โมเดลเรียนรู้ความสัมพันธ์ของคำที่ติดกันได้ดีขึ้น แต่ข้อเสียคือ จำนวน vocab Dictioinary จะเพิ่มขึ้นแบบ Exponential และถ้าใช้ N-Gram ยาวเกินไป บาง vocab ก็จะปรากฎแค่ครั้งเดียว ยิ่ง Sparse เข้าไปอีก ทำให้เราไม่สามารถใช้ N-Gram ได้ยาวตามที่ต้องการ"
      ]
    },
    {
      "cell_type": "markdown",
      "metadata": {
        "id": "CzApwnjVlKxC",
        "colab_type": "text"
      },
      "source": [
        "# 0. Install"
      ]
    },
    {
      "cell_type": "markdown",
      "metadata": {
        "id": "MGOPzh9vCLJh",
        "colab_type": "text"
      },
      "source": [
        "Install Library ที่จำเป็น"
      ]
    },
    {
      "cell_type": "code",
      "metadata": {
        "id": "o0UgDCGLhby7",
        "colab_type": "code",
        "outputId": "0869a703-1a52-4313-f7f4-58b329b3e6e3",
        "colab": {
          "base_uri": "https://localhost:8080/",
          "height": 51
        }
      },
      "source": [
        "## Colab\n",
        "! curl -s https://course.fast.ai/setup/colab | bash"
      ],
      "execution_count": 1,
      "outputs": [
        {
          "output_type": "stream",
          "text": [
            "Updating fastai...\n",
            "Done.\n"
          ],
          "name": "stdout"
        }
      ]
    },
    {
      "cell_type": "code",
      "metadata": {
        "id": "0WcUkQRak7e6",
        "colab_type": "code",
        "colab": {}
      },
      "source": [
        "%reload_ext autoreload\n",
        "%autoreload 2\n",
        "%matplotlib inline"
      ],
      "execution_count": 0,
      "outputs": []
    },
    {
      "cell_type": "markdown",
      "metadata": {
        "id": "3VxLNfAElR29",
        "colab_type": "text"
      },
      "source": [
        "# 1. Import"
      ]
    },
    {
      "cell_type": "markdown",
      "metadata": {
        "id": "nGm02SG0CQrq",
        "colab_type": "text"
      },
      "source": [
        "Import Library ที่จะใช้ ในที่นี้คือ fastai.text และ sklearn_text ที่ใช้ในงาน [NLP](https://www.bualabs.com/archives/119/what-is-nlp-natural-language-processing-nlp-task-in-thai-nlp-ep-1/)"
      ]
    },
    {
      "cell_type": "code",
      "metadata": {
        "id": "OORH3obdk-wS",
        "colab_type": "code",
        "colab": {}
      },
      "source": [
        "from fastai import *\n",
        "from fastai.text import *\n",
        "import sklearn.feature_extraction.text as sklearn_text\n",
        "from matplotlib import pyplot as plt\n",
        "import seaborn as sns\n",
        "from itertools import *"
      ],
      "execution_count": 0,
      "outputs": []
    },
    {
      "cell_type": "markdown",
      "metadata": {
        "id": "pv3eV6oElZD2",
        "colab_type": "text"
      },
      "source": [
        "# 2. Dataset"
      ]
    },
    {
      "cell_type": "markdown",
      "metadata": {
        "id": "_9kLpiZj_Rd6",
        "colab_type": "text"
      },
      "source": [
        "ในเคสนี้เราจะใช้ IMDB Movie Review เป็นรีวิวหนังจากเว็บ IMDB ที่มีข้อความ และ คะแนนว่าเป็นแง่บวก หรือแง่ลบ\n",
        "\n",
        "ในการพัฒนา เราจะใช้ Dataset ชุดเล็กก่อน จะได้เร็ว เมื่อเทสทุกอย่างเรียบร้อย แล้วจึงขยับไปใช้ Dataset ชุดเต็ม "
      ]
    },
    {
      "cell_type": "code",
      "metadata": {
        "id": "OqSJ9dsJJg8l",
        "colab_type": "code",
        "colab": {
          "base_uri": "https://localhost:8080/",
          "height": 34
        },
        "outputId": "dcba49b7-67e7-462a-f968-c62f27fa6423"
      },
      "source": [
        "# IMDB Sample\n",
        "path = untar_data(URLs.IMDB_SAMPLE)\n",
        "path"
      ],
      "execution_count": 4,
      "outputs": [
        {
          "output_type": "execute_result",
          "data": {
            "text/plain": [
              "PosixPath('/root/.fastai/data/imdb_sample')"
            ]
          },
          "metadata": {
            "tags": []
          },
          "execution_count": 4
        }
      ]
    },
    {
      "cell_type": "markdown",
      "metadata": {
        "id": "G47F3j72tJ6-",
        "colab_type": "text"
      },
      "source": [
        "ดูรายการไฟล์ใน Dataset"
      ]
    },
    {
      "cell_type": "code",
      "metadata": {
        "id": "anPDd4-rJyGE",
        "colab_type": "code",
        "colab": {
          "base_uri": "https://localhost:8080/",
          "height": 34
        },
        "outputId": "4e1f0138-b621-4ba7-e8a4-98559218bc44"
      },
      "source": [
        "path.ls()"
      ],
      "execution_count": 5,
      "outputs": [
        {
          "output_type": "execute_result",
          "data": {
            "text/plain": [
              "[PosixPath('/root/.fastai/data/imdb_sample/texts.csv')]"
            ]
          },
          "metadata": {
            "tags": []
          },
          "execution_count": 5
        }
      ]
    },
    {
      "cell_type": "markdown",
      "metadata": {
        "id": "WOYzDbTQtM-I",
        "colab_type": "text"
      },
      "source": [
        "โหลดไฟล์ CSV ขึ้นมา ด้วย Pandas ใส่ DataFrame แล้วดู 5 Record แรก"
      ]
    },
    {
      "cell_type": "code",
      "metadata": {
        "id": "GLP6vD-VX27C",
        "colab_type": "code",
        "colab": {
          "base_uri": "https://localhost:8080/",
          "height": 204
        },
        "outputId": "10f6e519-105f-4f26-98de-eecf35a9fa61"
      },
      "source": [
        "# IMDB Sample\n",
        "df = pd.read_csv(path/'texts.csv')\n",
        "df.head()"
      ],
      "execution_count": 6,
      "outputs": [
        {
          "output_type": "execute_result",
          "data": {
            "text/html": [
              "<div>\n",
              "<style scoped>\n",
              "    .dataframe tbody tr th:only-of-type {\n",
              "        vertical-align: middle;\n",
              "    }\n",
              "\n",
              "    .dataframe tbody tr th {\n",
              "        vertical-align: top;\n",
              "    }\n",
              "\n",
              "    .dataframe thead th {\n",
              "        text-align: right;\n",
              "    }\n",
              "</style>\n",
              "<table border=\"1\" class=\"dataframe\">\n",
              "  <thead>\n",
              "    <tr style=\"text-align: right;\">\n",
              "      <th></th>\n",
              "      <th>label</th>\n",
              "      <th>text</th>\n",
              "      <th>is_valid</th>\n",
              "    </tr>\n",
              "  </thead>\n",
              "  <tbody>\n",
              "    <tr>\n",
              "      <th>0</th>\n",
              "      <td>negative</td>\n",
              "      <td>Un-bleeping-believable! Meg Ryan doesn't even ...</td>\n",
              "      <td>False</td>\n",
              "    </tr>\n",
              "    <tr>\n",
              "      <th>1</th>\n",
              "      <td>positive</td>\n",
              "      <td>This is a extremely well-made film. The acting...</td>\n",
              "      <td>False</td>\n",
              "    </tr>\n",
              "    <tr>\n",
              "      <th>2</th>\n",
              "      <td>negative</td>\n",
              "      <td>Every once in a long while a movie will come a...</td>\n",
              "      <td>False</td>\n",
              "    </tr>\n",
              "    <tr>\n",
              "      <th>3</th>\n",
              "      <td>positive</td>\n",
              "      <td>Name just says it all. I watched this movie wi...</td>\n",
              "      <td>False</td>\n",
              "    </tr>\n",
              "    <tr>\n",
              "      <th>4</th>\n",
              "      <td>negative</td>\n",
              "      <td>This movie succeeds at being one of the most u...</td>\n",
              "      <td>False</td>\n",
              "    </tr>\n",
              "  </tbody>\n",
              "</table>\n",
              "</div>"
            ],
            "text/plain": [
              "      label                                               text  is_valid\n",
              "0  negative  Un-bleeping-believable! Meg Ryan doesn't even ...     False\n",
              "1  positive  This is a extremely well-made film. The acting...     False\n",
              "2  negative  Every once in a long while a movie will come a...     False\n",
              "3  positive  Name just says it all. I watched this movie wi...     False\n",
              "4  negative  This movie succeeds at being one of the most u...     False"
            ]
          },
          "metadata": {
            "tags": []
          },
          "execution_count": 6
        }
      ]
    },
    {
      "cell_type": "markdown",
      "metadata": {
        "id": "QLwdxMVPtYrA",
        "colab_type": "text"
      },
      "source": [
        "ดูสถิติข้อมูล พื้นฐาน"
      ]
    },
    {
      "cell_type": "code",
      "metadata": {
        "id": "3Hvv2wL2qF0z",
        "colab_type": "code",
        "colab": {
          "base_uri": "https://localhost:8080/",
          "height": 173
        },
        "outputId": "62339391-e2ff-4b7d-ffee-cc5fb932ee39"
      },
      "source": [
        "df.describe()"
      ],
      "execution_count": 7,
      "outputs": [
        {
          "output_type": "execute_result",
          "data": {
            "text/html": [
              "<div>\n",
              "<style scoped>\n",
              "    .dataframe tbody tr th:only-of-type {\n",
              "        vertical-align: middle;\n",
              "    }\n",
              "\n",
              "    .dataframe tbody tr th {\n",
              "        vertical-align: top;\n",
              "    }\n",
              "\n",
              "    .dataframe thead th {\n",
              "        text-align: right;\n",
              "    }\n",
              "</style>\n",
              "<table border=\"1\" class=\"dataframe\">\n",
              "  <thead>\n",
              "    <tr style=\"text-align: right;\">\n",
              "      <th></th>\n",
              "      <th>label</th>\n",
              "      <th>text</th>\n",
              "      <th>is_valid</th>\n",
              "    </tr>\n",
              "  </thead>\n",
              "  <tbody>\n",
              "    <tr>\n",
              "      <th>count</th>\n",
              "      <td>1000</td>\n",
              "      <td>1000</td>\n",
              "      <td>1000</td>\n",
              "    </tr>\n",
              "    <tr>\n",
              "      <th>unique</th>\n",
              "      <td>2</td>\n",
              "      <td>1000</td>\n",
              "      <td>2</td>\n",
              "    </tr>\n",
              "    <tr>\n",
              "      <th>top</th>\n",
              "      <td>negative</td>\n",
              "      <td>This guy has no idea of cinema. Okay, it seems...</td>\n",
              "      <td>False</td>\n",
              "    </tr>\n",
              "    <tr>\n",
              "      <th>freq</th>\n",
              "      <td>524</td>\n",
              "      <td>1</td>\n",
              "      <td>800</td>\n",
              "    </tr>\n",
              "  </tbody>\n",
              "</table>\n",
              "</div>"
            ],
            "text/plain": [
              "           label                                               text is_valid\n",
              "count       1000                                               1000     1000\n",
              "unique         2                                               1000        2\n",
              "top     negative  This guy has no idea of cinema. Okay, it seems...    False\n",
              "freq         524                                                  1      800"
            ]
          },
          "metadata": {
            "tags": []
          },
          "execution_count": 7
        }
      ]
    },
    {
      "cell_type": "markdown",
      "metadata": {
        "id": "iA8dV-IPtiDv",
        "colab_type": "text"
      },
      "source": [
        "พล็อตกราฟ จำนวน Label Positive vs Negative"
      ]
    },
    {
      "cell_type": "code",
      "metadata": {
        "id": "Jb0ByFDXqMvl",
        "colab_type": "code",
        "colab": {
          "base_uri": "https://localhost:8080/",
          "height": 296
        },
        "outputId": "88544bb9-b9f5-4227-e0a0-059e57398eb3"
      },
      "source": [
        "sns.countplot(df.label)"
      ],
      "execution_count": 8,
      "outputs": [
        {
          "output_type": "execute_result",
          "data": {
            "text/plain": [
              "<matplotlib.axes._subplots.AxesSubplot at 0x7fbe6bc3b0f0>"
            ]
          },
          "metadata": {
            "tags": []
          },
          "execution_count": 8
        },
        {
          "output_type": "display_data",
          "data": {
            "image/png": "[encoded data removed]",
            "text/plain": [
              "<Figure size 432x288 with 1 Axes>"
            ]
          },
          "metadata": {
            "tags": []
          }
        }
      ]
    },
    {
      "cell_type": "markdown",
      "metadata": {
        "id": "efM_q9YqtrW4",
        "colab_type": "text"
      },
      "source": [
        "พล็อตกราฟจำนวน Training Set vs Validation Set"
      ]
    },
    {
      "cell_type": "code",
      "metadata": {
        "id": "N7GJTl70qV2U",
        "colab_type": "code",
        "colab": {
          "base_uri": "https://localhost:8080/",
          "height": 297
        },
        "outputId": "627e197d-726e-4c8c-8492-098cc13f78bb"
      },
      "source": [
        "sns.countplot(df.is_valid)"
      ],
      "execution_count": 9,
      "outputs": [
        {
          "output_type": "execute_result",
          "data": {
            "text/plain": [
              "<matplotlib.axes._subplots.AxesSubplot at 0x7fbe6bbcfeb8>"
            ]
          },
          "metadata": {
            "tags": []
          },
          "execution_count": 9
        },
        {
          "output_type": "display_data",
          "data": {
            "image/png": "[encoded data removed]",
            "text/plain": [
              "<Figure size 432x288 with 1 Axes>"
            ]
          },
          "metadata": {
            "tags": []
          }
        }
      ]
    },
    {
      "cell_type": "markdown",
      "metadata": {
        "id": "AxvgEKjXt01g",
        "colab_type": "text"
      },
      "source": [
        "ใช้ Fastai [DataBlock API](https://www.bualabs.com/archives/2693/data-block-api-data-pipeline-machine-learning-supervised-learning-preprocessing-ep-5/) TextList ในการ [Tokenize](https://www.bualabs.com/archives/119/what-is-nlp-natural-language-processing-nlp-task-in-thai-nlp-ep-1/#Tokenization), [Train / Validation Split](https://www.bualabs.com/archives/532/what-is-training-set-why-train-test-split-training-set-validation-set-test-set/) และ Label"
      ]
    },
    {
      "cell_type": "code",
      "metadata": {
        "id": "YFFERWx7JpXc",
        "colab_type": "code",
        "colab": {
          "base_uri": "https://localhost:8080/",
          "height": 34
        },
        "outputId": "2a2d08c3-5f48-4a01-b941-b93ae7c83543"
      },
      "source": [
        "# IMDB_Sample\n",
        "movie_reviews = (TextList.from_csv(path, \"texts.csv\", cols=\"text\")\n",
        "                        .split_from_df(col=2)\n",
        "                        .label_from_df(cols=0))\n",
        "\n",
        "len(movie_reviews.train.x), len(movie_reviews.valid.x)"
      ],
      "execution_count": 10,
      "outputs": [
        {
          "output_type": "execute_result",
          "data": {
            "text/plain": [
              "(800, 200)"
            ]
          },
          "metadata": {
            "tags": []
          },
          "execution_count": 10
        }
      ]
    },
    {
      "cell_type": "markdown",
      "metadata": {
        "id": "UG3qkwiDu9QU",
        "colab_type": "text"
      },
      "source": [
        "ดูตัวอย่าง vocab Dictionary ที่ได้ "
      ]
    },
    {
      "cell_type": "code",
      "metadata": {
        "id": "pxRZzS_CKAFE",
        "colab_type": "code",
        "colab": {
          "base_uri": "https://localhost:8080/",
          "height": 357
        },
        "outputId": "786e2f00-ea9f-4878-d820-30c0435000e6"
      },
      "source": [
        "v = movie_reviews.vocab.itos\n",
        "v[:20]"
      ],
      "execution_count": 11,
      "outputs": [
        {
          "output_type": "execute_result",
          "data": {
            "text/plain": [
              "['xxunk',\n",
              " 'xxpad',\n",
              " 'xxbos',\n",
              " 'xxeos',\n",
              " 'xxfld',\n",
              " 'xxmaj',\n",
              " 'xxup',\n",
              " 'xxrep',\n",
              " 'xxwrep',\n",
              " 'the',\n",
              " '.',\n",
              " ',',\n",
              " 'and',\n",
              " 'a',\n",
              " 'of',\n",
              " 'to',\n",
              " 'is',\n",
              " 'it',\n",
              " 'in',\n",
              " 'i']"
            ]
          },
          "metadata": {
            "tags": []
          },
          "execution_count": 11
        }
      ]
    },
    {
      "cell_type": "markdown",
      "metadata": {
        "id": "n3VZBKjiveX_",
        "colab_type": "text"
      },
      "source": [
        "ความหมายของ Token พิเศษ \n",
        "\n",
        "* UNK (xxunk) is for an unknown word (one that isn't present in the current vocabulary)\n",
        "* PAD (xxpad) is the token used for padding, if we need to regroup several texts of different lengths in a batch\n",
        "* BOS (xxbos) represents the beginning of a text in your dataset\n",
        "* FLD (xxfld) is used if you set mark_fields=True in your TokenizeProcessor to separate the different fields of texts (if your texts are loaded from several columns in a dataframe)\n",
        "* TK_MAJ (xxmaj) is used to indicate the next word begins with a capital in the original text\n",
        "* TK_UP (xxup) is used to indicate the next word is written in all caps in the original text\n",
        "* TK_REP (xxrep) is used to indicate the next character is repeated n times in the original text (usage xxrep n {char})\n",
        "* TK_WREP(xxwrep) is used to indicate the next word is repeated n times in the original text (usage xxwrep n {word})"
      ]
    },
    {
      "cell_type": "markdown",
      "metadata": {
        "id": "nVhHbM3dvy5I",
        "colab_type": "text"
      },
      "source": [
        "จำนวนคำใน vocab Dictionary"
      ]
    },
    {
      "cell_type": "code",
      "metadata": {
        "id": "FrxtYKAHGRN7",
        "colab_type": "code",
        "colab": {
          "base_uri": "https://localhost:8080/",
          "height": 34
        },
        "outputId": "877d65c8-9c00-427b-8644-341ca4d1d2f9"
      },
      "source": [
        "vocab_len = len(v)\n",
        "vocab_len"
      ],
      "execution_count": 12,
      "outputs": [
        {
          "output_type": "execute_result",
          "data": {
            "text/plain": [
              "6008"
            ]
          },
          "metadata": {
            "tags": []
          },
          "execution_count": 12
        }
      ]
    },
    {
      "cell_type": "markdown",
      "metadata": {
        "id": "MBrf0dNbKn2o",
        "colab_type": "text"
      },
      "source": [
        "# 3. Preprocessing"
      ]
    },
    {
      "cell_type": "markdown",
      "metadata": {
        "id": "es-Uk-1TKsT3",
        "colab_type": "text"
      },
      "source": [
        "## 3.1 Create Training N-Gram Matrix\n"
      ]
    },
    {
      "cell_type": "markdown",
      "metadata": {
        "id": "2jUGzQlrLNWs",
        "colab_type": "text"
      },
      "source": [
        "ใน ep ก่อน ๆ เราสร้าง Term-Document Matrix จาก Count, Sign (ทีละคำ คือ Unigram) แต่ใน ep นี้เราจะสร้าง Term-Document Matrix ที่มี N-Gram (ในเคสนี้คือ Tri-Gram แปลว่า 3) ด้วย \n",
        "\n",
        "ประกาศตัวแปร ที่จำเป็น"
      ]
    },
    {
      "cell_type": "code",
      "metadata": {
        "id": "VKzAhs2-KsyE",
        "colab_type": "code",
        "colab": {}
      },
      "source": [
        "min_n = 1\n",
        "max_n = 3\n",
        "\n",
        "j_indices = []\n",
        "indptr = []\n",
        "values = []\n",
        "indptr.append(0)\n",
        "num_tokens = vocab_len\n",
        "\n",
        "itongram = dict()\n",
        "ngramtoi = dict()"
      ],
      "execution_count": 0,
      "outputs": []
    },
    {
      "cell_type": "markdown",
      "metadata": {
        "id": "idCCuCLZw98L",
        "colab_type": "text"
      },
      "source": [
        "นำข้อมูล Training Set ที่ทำ Tokenization แล้ว มาวนลูป ทุก Record, ใช้ Counter นับ Feature, วนลูปทุกความยาว N-Gram, ทุกคำศัพท์ใน vocab แล้วดูว่ามี ngram นั้นใน ngramtoi Dictionary หรือยัง ถ้าไม่มีให้เพิ่มเข้าไป เพื่อสร้างรายการของทุก N-Gram ที่เป็นไปได้จาก Training Set\n",
        "\n",
        "แล้วนำรายการ ngram ที่ได้ มาผ่าน Counter เพื่อสร้าง Term-Document Matrix ใหม่"
      ]
    },
    {
      "cell_type": "code",
      "metadata": {
        "id": "xxARsbcuKs5S",
        "colab_type": "code",
        "colab": {}
      },
      "source": [
        "for i, doc in enumerate(movie_reviews.train.x):\n",
        "    feature_counter = Counter(doc.data)\n",
        "    j_indices.extend(feature_counter.keys())\n",
        "    values.extend(feature_counter.values())\n",
        "    this_doc_ngrams = list()\n",
        "\n",
        "    m = 0\n",
        "    for n in range(min_n, max_n + 1):\n",
        "        for k in range(vocab_len - n + 1):\n",
        "            ngram = doc.data[k: k+n]\n",
        "            \n",
        "            if str(ngram) not in ngramtoi: \n",
        "                if len(ngram) == 1: \n",
        "                    num = ngram[0]\n",
        "                    ngramtoi[str(ngram)] = num\n",
        "                    itongram[num] = ngram\n",
        "                else:\n",
        "                    ngramtoi[str(ngram)] = num_tokens\n",
        "                    itongram[num_tokens] = ngram\n",
        "                    num_tokens += 1\n",
        "            this_doc_ngrams.append(ngramtoi[str(ngram)])\n",
        "            m += 1\n",
        "\n",
        "    ngram_counter = Counter(this_doc_ngrams)\n",
        "    \n",
        "    j_indices.extend(ngram_counter.keys())\n",
        "    values.extend(ngram_counter.values())\n",
        "    indptr.append(len(j_indices))"
      ],
      "execution_count": 0,
      "outputs": []
    },
    {
      "cell_type": "markdown",
      "metadata": {
        "id": "r7H7YNoE1ufh",
        "colab_type": "text"
      },
      "source": [
        "ได้ค่าจาก N-Gram Counter ออกมาดังนี้"
      ]
    },
    {
      "cell_type": "code",
      "metadata": {
        "id": "FPUL4TPWVvDE",
        "colab_type": "code",
        "colab": {
          "base_uri": "https://localhost:8080/",
          "height": 34
        },
        "outputId": "80f58fa2-9d02-4104-dae0-438a13c30a42"
      },
      "source": [
        "len(values), len(j_indices), len(indptr) - 1, len(ngramtoi)"
      ],
      "execution_count": 15,
      "outputs": [
        {
          "output_type": "execute_result",
          "data": {
            "text/plain": [
              "(678885, 678885, 800, 260374)"
            ]
          },
          "metadata": {
            "tags": []
          },
          "execution_count": 15
        }
      ]
    },
    {
      "cell_type": "markdown",
      "metadata": {
        "id": "qbIir0vs17NT",
        "colab_type": "text"
      },
      "source": [
        "นำมาสร้าง N-Gram Term Document Matrix แบบ Sparse Matrix เนื่องจากข้อมูล Sparse มาก ส่วนใหญ่เป็น 0"
      ]
    },
    {
      "cell_type": "code",
      "metadata": {
        "id": "9Ojghm6mPXbF",
        "colab_type": "code",
        "colab": {}
      },
      "source": [
        "train_ngram_doc_matrix = scipy.sparse.csr_matrix((values, j_indices, indptr), \n",
        "                                                 shape=(len(indptr) - 1, len(ngramtoi)), \n",
        "                                                 dtype=int)"
      ],
      "execution_count": 0,
      "outputs": []
    },
    {
      "cell_type": "code",
      "metadata": {
        "id": "wjxnRhMlRUBg",
        "colab_type": "code",
        "colab": {
          "base_uri": "https://localhost:8080/",
          "height": 51
        },
        "outputId": "58bfaa43-f43c-4373-83be-37781858fad2"
      },
      "source": [
        "train_ngram_doc_matrix"
      ],
      "execution_count": 17,
      "outputs": [
        {
          "output_type": "execute_result",
          "data": {
            "text/plain": [
              "<800x260374 sparse matrix of type '<class 'numpy.int64'>'\n",
              "\twith 678885 stored elements in Compressed Sparse Row format>"
            ]
          },
          "metadata": {
            "tags": []
          },
          "execution_count": 17
        }
      ]
    },
    {
      "cell_type": "markdown",
      "metadata": {
        "id": "vveHVxAC35CN",
        "colab_type": "text"
      },
      "source": [
        "นำมาพล็อต Heatmap ดู จะเห็นว่า แทบจะกลายเป็นเส้นเลย เนื่องจากจำนวนคำศัพท์ใน vocab เพิ่มขึ้นมากแบบ Exponential จาก N-Gram 3, 2, 1"
      ]
    },
    {
      "cell_type": "code",
      "metadata": {
        "id": "vgmL3nZQ2I23",
        "colab_type": "code",
        "colab": {
          "base_uri": "https://localhost:8080/",
          "height": 77
        },
        "outputId": "7f5ab0c6-12e2-4ff6-d98d-bfd396e8ac35"
      },
      "source": [
        "fig, ax = plt.subplots(figsize=(22, 2))\n",
        "ax.imshow(train_ngram_doc_matrix.todense(), interpolation='nearest')\n",
        "plt.tight_layout()"
      ],
      "execution_count": 18,
      "outputs": [
        {
          "output_type": "display_data",
          "data": {
            "image/png": "[encoded data removed]",
            "text/plain": [
              "<Figure size 1584x144 with 1 Axes>"
            ]
          },
          "metadata": {
            "tags": []
          }
        }
      ]
    },
    {
      "cell_type": "markdown",
      "metadata": {
        "id": "MAxygmDZLJqj",
        "colab_type": "text"
      },
      "source": [
        "ซูมดู 100 Feature แรก ของ 100 ข้อมูลตัวอย่างแรก"
      ]
    },
    {
      "cell_type": "code",
      "metadata": {
        "id": "nzcyvkbr4YAE",
        "colab_type": "code",
        "colab": {}
      },
      "source": [
        "np.set_printoptions(threshold=sys.maxsize)"
      ],
      "execution_count": 0,
      "outputs": []
    },
    {
      "cell_type": "code",
      "metadata": {
        "id": "2DvoGuEC3RBo",
        "colab_type": "code",
        "colab": {
          "base_uri": "https://localhost:8080/",
          "height": 697
        },
        "outputId": "0a2b943e-42a3-4a12-fab4-2f9865b16df3"
      },
      "source": [
        "train_ngram_doc_matrix.todense()[:10, 6009:6109]"
      ],
      "execution_count": 20,
      "outputs": [
        {
          "output_type": "execute_result",
          "data": {
            "text/plain": [
              "matrix([[ 1,  1,  1,  1,  1,  1,  1,  2,  1,  1,  1,  1,  1,  1,  1,  1,  1,  1,  1,  1,  1,  1,  1,  1,  1,  1,  1,\n",
              "          1,  1,  1,  1,  1,  1,  1,  3,  1,  1,  1,  1,  1,  1,  1,  1,  1,  1,  1,  1,  1,  1,  1,  1,  1,  1,  1,\n",
              "          1,  1,  1,  1,  1,  1,  1,  1,  1,  2,  4,  1,  1,  3,  2,  1,  1,  1,  1,  1,  1,  1,  1,  1,  1,  1,  1,\n",
              "          1,  1,  1,  1,  1,  1,  1,  1,  1,  1,  1,  1,  1,  1,  1,  1,  1,  1,  1],\n",
              "        [ 1,  0,  0,  0,  0,  0,  0,  0,  0,  0,  0,  0,  0,  0,  0,  0,  0,  0,  0,  0,  0,  1,  0,  0,  0,  0,  0,\n",
              "          0,  0,  0,  0,  0,  0,  2, 13,  0,  1,  0,  0,  0,  0,  0,  0,  0,  0,  0,  0,  0,  0,  0,  0,  0,  0,  0,\n",
              "          1,  0,  0,  0,  0,  0,  0,  0,  0,  0,  3,  0,  0,  0,  0,  0,  0,  0,  0,  0,  0,  0,  0,  0,  0,  0,  0,\n",
              "          0,  0,  0,  0,  0,  0,  0,  0,  0,  0,  0,  0,  0,  0,  0,  0,  0,  0,  0],\n",
              "        [ 1,  0,  0,  0,  0,  0,  0,  0,  0,  0,  0,  0,  0,  0,  0,  0,  0,  0,  0,  0,  0,  0,  1,  0,  0,  0,  0,\n",
              "          0,  0,  0,  0,  0,  0,  0, 11,  0,  0,  0,  0,  0,  0,  0,  0,  0,  0,  0,  0,  0,  0,  0,  0,  0,  0,  0,\n",
              "          0,  0,  0,  0,  0,  0,  0,  0,  0,  1,  1,  0,  0,  0,  0,  0,  0,  0,  0,  0,  0,  0,  1,  0,  0,  0,  0,\n",
              "          0,  0,  0,  0,  0,  0,  0,  0,  0,  0,  0,  0,  0,  0,  0,  0,  0,  0,  0],\n",
              "        [ 1,  0,  0,  2,  0,  0,  0,  0,  0,  0,  0,  0,  0,  0,  0,  0,  0,  0,  0,  0,  0,  0,  0,  1,  0,  0,  0,\n",
              "          0,  0,  0,  0,  0,  0,  0,  3,  0,  0,  0,  0,  0,  0,  0,  0,  0,  0,  0,  0,  0,  0,  0,  0,  0,  0,  0,\n",
              "          0,  0,  0,  0,  0,  0,  0,  0,  0,  0,  2,  0,  0,  0,  0,  0,  0,  0,  0,  0,  0,  0,  0,  0,  0,  0,  0,\n",
              "          0,  0,  0,  0,  0,  0,  0,  0,  0,  0,  0,  0,  0,  0,  0,  0,  0,  0,  0],\n",
              "        [ 1,  0,  0,  0,  0,  0,  0,  1,  0,  0,  0,  0,  0,  0,  0,  0,  0,  0,  0,  0,  0,  1,  0,  0,  0,  0,  0,\n",
              "          0,  0,  0,  0,  0,  0,  0,  7,  0,  0,  0,  0,  0,  0,  0,  0,  0,  0,  0,  0,  0,  0,  0,  0,  0,  0,  0,\n",
              "          0,  0,  0,  0,  0,  0,  0,  0,  0,  0,  4,  0,  0,  0,  0,  0,  0,  0,  0,  0,  0,  0,  0,  0,  0,  0,  0,\n",
              "          0,  0,  0,  0,  0,  0,  0,  0,  0,  0,  0,  0,  0,  0,  0,  0,  0,  0,  0],\n",
              "        [ 1,  0,  0,  0,  0,  0,  0,  1,  0,  0,  0,  0,  0,  0,  0,  0,  0,  0,  0,  0,  0,  0,  0,  0,  0,  0,  0,\n",
              "          0,  0,  0,  0,  0,  0,  2,  7,  0,  0,  0,  0,  0,  0,  0,  0,  1,  0,  0,  0,  0,  0,  0,  0,  0,  0,  0,\n",
              "          0,  0,  0,  0,  0,  0,  0,  0,  0,  0,  1,  0,  0,  0,  0,  0,  0,  0,  0,  0,  0,  0,  0,  0,  0,  0,  0,\n",
              "          0,  0,  0,  0,  0,  0,  1,  0,  0,  0,  0,  0,  0,  0,  0,  0,  0,  0,  0],\n",
              "        [ 1,  0,  0,  0,  0,  0,  0,  2,  0,  0,  0,  0,  0,  0,  0,  0,  0,  0,  0,  0,  0,  0,  0,  2,  0,  0,  0,\n",
              "          0,  0,  0,  0,  0,  0,  0,  6,  0,  0,  0,  0,  0,  0,  0,  0,  0,  0,  0,  0,  0,  0,  0,  0,  0,  0,  0,\n",
              "          0,  0,  0,  0,  0,  0,  0,  0,  0,  0,  1,  0,  0,  0,  0,  0,  0,  0,  0,  0,  0,  0,  0,  0,  0,  0,  0,\n",
              "          0,  0,  0,  0,  0,  0,  0,  0,  0,  0,  0,  0,  0,  0,  0,  0,  0,  0,  0],\n",
              "        [ 0,  0,  0,  1,  0,  0,  0,  0,  0,  0,  0,  0,  0,  0,  0,  0,  0,  0,  0,  0,  0,  0,  0,  0,  0,  0,  0,\n",
              "          0,  0,  0,  0,  0,  0,  5,  7,  0,  0,  0,  0,  0,  1,  0,  0,  0,  0,  0,  0,  0,  0,  0,  0,  0,  0,  0,\n",
              "          0,  0,  0,  0,  0,  0,  0,  0,  0,  0,  5,  0,  1,  0,  0,  0,  0,  0,  0,  0,  1,  0,  0,  0,  0,  0,  0,\n",
              "          0,  0,  0,  0,  0,  0,  2,  0,  0,  0,  0,  0,  0,  0,  0,  0,  0,  0,  0],\n",
              "        [ 1,  0,  0,  0,  0,  0,  0,  0,  0,  0,  0,  0,  0,  0,  0,  0,  0,  0,  0,  0,  0,  0,  0,  0,  0,  0,  0,\n",
              "          0,  0,  0,  0,  0,  0,  2,  7,  0,  0,  0,  0,  0,  0,  0,  0,  0,  0,  0,  0,  0,  0,  0,  0,  0,  0,  0,\n",
              "          0,  0,  0,  0,  0,  0,  0,  0,  0,  1,  5,  0,  0,  0,  0,  0,  0,  0,  0,  0,  0,  0,  0,  0,  0,  0,  0,\n",
              "          0,  0,  0,  0,  0,  0,  1,  0,  0,  0,  0,  0,  0,  0,  0,  0,  0,  0,  0],\n",
              "        [ 1,  0,  0,  0,  1,  0,  0,  0,  0,  0,  0,  0,  0,  0,  0,  0,  0,  0,  0,  0,  0,  0,  0,  0,  0,  0,  0,\n",
              "          0,  0,  0,  0,  0,  0,  1,  2,  0,  0,  0,  0,  0,  0,  0,  0,  0,  0,  0,  0,  0,  0,  0,  0,  0,  0,  0,\n",
              "          0,  0,  0,  0,  0,  0,  0,  0,  0,  0,  7,  0,  0,  0,  0,  0,  0,  0,  0,  0,  0,  0,  0,  0,  0,  0,  0,\n",
              "          0,  0,  0,  0,  0,  0,  1,  0,  0,  0,  0,  0,  0,  0,  0,  0,  0,  0,  0]])"
            ]
          },
          "metadata": {
            "tags": []
          },
          "execution_count": 20
        }
      ]
    },
    {
      "cell_type": "code",
      "metadata": {
        "id": "2I2G8--hztxl",
        "colab_type": "code",
        "outputId": "2bac0bfb-1b0e-4da5-9594-003df811ef1b",
        "colab": {
          "base_uri": "https://localhost:8080/",
          "height": 873
        }
      },
      "source": [
        "fig, ax = plt.subplots(figsize=(12, 12))\n",
        "ax.imshow(train_ngram_doc_matrix.todense()[:100, 6009:6109], interpolation='nearest')\n",
        "plt.tight_layout()"
      ],
      "execution_count": 21,
      "outputs": [
        {
          "output_type": "display_data",
          "data": {
            "image/png": "[encoded data removed]",
            "text/plain": [
              "<Figure size 864x864 with 1 Axes>"
            ]
          },
          "metadata": {
            "tags": []
          }
        }
      ]
    },
    {
      "cell_type": "markdown",
      "metadata": {
        "id": "pkDcLUeg8FlK",
        "colab_type": "text"
      },
      "source": [
        "ในกรณีนี้ จะเท่ากัน เนื่องจาก ไม่มี N-Gram ไหน Map ไป Unknown เพื่อจำกัดจำนวน vocab เหมือน ep ที่แล้ว [Sentiment Classification วิเคราะห์รีวิวหนัง IMDB แง่บวก แง่ลบ ด้วย Naive Bayes และ Logistic Regression](https://www.bualabs.com/archives/3000/sentiment-classification-imdb-movie-reviews-with-naive-bayes-logistic-regression-nlp-ep-5/)"
      ]
    },
    {
      "cell_type": "code",
      "metadata": {
        "id": "DcEafIcqPt7X",
        "colab_type": "code",
        "colab": {
          "base_uri": "https://localhost:8080/",
          "height": 34
        },
        "outputId": "690ca7a8-6bd7-4c82-daf6-9d58aa68a10f"
      },
      "source": [
        "len(ngramtoi), len(itongram)"
      ],
      "execution_count": 22,
      "outputs": [
        {
          "output_type": "execute_result",
          "data": {
            "text/plain": [
              "(260374, 260374)"
            ]
          },
          "metadata": {
            "tags": []
          },
          "execution_count": 22
        }
      ]
    },
    {
      "cell_type": "markdown",
      "metadata": {
        "id": "-lrw4H-J6O_f",
        "colab_type": "text"
      },
      "source": [
        "ลองดูตัวอย่าง N-Gram ใน Term-Document Matrix ที่ได้"
      ]
    },
    {
      "cell_type": "markdown",
      "metadata": {
        "id": "_T_VZjo7-do1",
        "colab_type": "text"
      },
      "source": [
        "### ตัวอย่าง 1"
      ]
    },
    {
      "cell_type": "code",
      "metadata": {
        "id": "efAyv4E08FM0",
        "colab_type": "code",
        "colab": {
          "base_uri": "https://localhost:8080/",
          "height": 34
        },
        "outputId": "b47bdb5b-fe54-4397-e20c-1fcf38f8c479"
      },
      "source": [
        "itongram[20005]"
      ],
      "execution_count": 23,
      "outputs": [
        {
          "output_type": "execute_result",
          "data": {
            "text/plain": [
              "array([ 15,   9, 710])"
            ]
          },
          "metadata": {
            "tags": []
          },
          "execution_count": 23
        }
      ]
    },
    {
      "cell_type": "code",
      "metadata": {
        "id": "zpm62jqn8E_P",
        "colab_type": "code",
        "colab": {
          "base_uri": "https://localhost:8080/",
          "height": 34
        },
        "outputId": "4fb3199b-3291-42b7-e64d-db02a38a35cc"
      },
      "source": [
        "ngramtoi[str(np.array([15, 9, 710]))]"
      ],
      "execution_count": 24,
      "outputs": [
        {
          "output_type": "execute_result",
          "data": {
            "text/plain": [
              "20005"
            ]
          },
          "metadata": {
            "tags": []
          },
          "execution_count": 24
        }
      ]
    },
    {
      "cell_type": "code",
      "metadata": {
        "id": "agVggsPq8Exo",
        "colab_type": "code",
        "colab": {
          "base_uri": "https://localhost:8080/",
          "height": 34
        },
        "outputId": "083b4bec-0a6b-454b-ec90-1760ae0a7d55"
      },
      "source": [
        "v[15], v[9], v[710]"
      ],
      "execution_count": 25,
      "outputs": [
        {
          "output_type": "execute_result",
          "data": {
            "text/plain": [
              "('to', 'the', 'leads')"
            ]
          },
          "metadata": {
            "tags": []
          },
          "execution_count": 25
        }
      ]
    },
    {
      "cell_type": "markdown",
      "metadata": {
        "id": "vdNj64mb8ET2",
        "colab_type": "text"
      },
      "source": [
        "### ตัวอย่าง 2"
      ]
    },
    {
      "cell_type": "code",
      "metadata": {
        "colab_type": "code",
        "outputId": "779af220-55c8-44b5-cce4-bb07989addb7",
        "id": "fn79JxD9-5_h",
        "colab": {
          "base_uri": "https://localhost:8080/",
          "height": 34
        }
      },
      "source": [
        "itongram[20050]"
      ],
      "execution_count": 26,
      "outputs": [
        {
          "output_type": "execute_result",
          "data": {
            "text/plain": [
              "array([  14,    5, 2808])"
            ]
          },
          "metadata": {
            "tags": []
          },
          "execution_count": 26
        }
      ]
    },
    {
      "cell_type": "code",
      "metadata": {
        "colab_type": "code",
        "outputId": "511468fe-ed9d-4365-8870-8f05241351c5",
        "id": "byPwbvv2-5_1",
        "colab": {
          "base_uri": "https://localhost:8080/",
          "height": 34
        }
      },
      "source": [
        "ngramtoi[str(np.array([14, 5, 2808]))]"
      ],
      "execution_count": 27,
      "outputs": [
        {
          "output_type": "execute_result",
          "data": {
            "text/plain": [
              "20050"
            ]
          },
          "metadata": {
            "tags": []
          },
          "execution_count": 27
        }
      ]
    },
    {
      "cell_type": "code",
      "metadata": {
        "colab_type": "code",
        "outputId": "e18f2b51-aa5d-4ad6-bb08-15c0ad21c115",
        "id": "HlUWJm9S-5_5",
        "colab": {
          "base_uri": "https://localhost:8080/",
          "height": 34
        }
      },
      "source": [
        "v[14], v[5], v[2808]"
      ],
      "execution_count": 28,
      "outputs": [
        {
          "output_type": "execute_result",
          "data": {
            "text/plain": [
              "('of', 'xxmaj', 'celeste')"
            ]
          },
          "metadata": {
            "tags": []
          },
          "execution_count": 28
        }
      ]
    },
    {
      "cell_type": "markdown",
      "metadata": {
        "id": "g2Re4Sjy8D4F",
        "colab_type": "text"
      },
      "source": [
        "### ตัวอย่าง 3"
      ]
    },
    {
      "cell_type": "code",
      "metadata": {
        "colab_type": "code",
        "outputId": "9d5f6ec3-a65c-4c2f-9e11-cbb9c40006eb",
        "id": "b3Oi5BLJ_tvU",
        "colab": {
          "base_uri": "https://localhost:8080/",
          "height": 34
        }
      },
      "source": [
        "itongram[20080]"
      ],
      "execution_count": 29,
      "outputs": [
        {
          "output_type": "execute_result",
          "data": {
            "text/plain": [
              "array([ 23, 796,  11])"
            ]
          },
          "metadata": {
            "tags": []
          },
          "execution_count": 29
        }
      ]
    },
    {
      "cell_type": "code",
      "metadata": {
        "colab_type": "code",
        "outputId": "ce3c296e-9b3f-46cf-cdc0-10c1b554162d",
        "id": "yf5y8vxz_tve",
        "colab": {
          "base_uri": "https://localhost:8080/",
          "height": 34
        }
      },
      "source": [
        "ngramtoi[str(np.array([23, 796,  11]))]"
      ],
      "execution_count": 30,
      "outputs": [
        {
          "output_type": "execute_result",
          "data": {
            "text/plain": [
              "20080"
            ]
          },
          "metadata": {
            "tags": []
          },
          "execution_count": 30
        }
      ]
    },
    {
      "cell_type": "code",
      "metadata": {
        "colab_type": "code",
        "outputId": "8ade0d22-cc2f-4367-e463-f9b70994f258",
        "id": "u2p57N7X_tvh",
        "colab": {
          "base_uri": "https://localhost:8080/",
          "height": 34
        }
      },
      "source": [
        "v[23], v[796], v[11]"
      ],
      "execution_count": 31,
      "outputs": [
        {
          "output_type": "execute_result",
          "data": {
            "text/plain": [
              "(\"'s\", 'career', ',')"
            ]
          },
          "metadata": {
            "tags": []
          },
          "execution_count": 31
        }
      ]
    },
    {
      "cell_type": "markdown",
      "metadata": {
        "id": "WudHdbLz_5sd",
        "colab_type": "text"
      },
      "source": [
        "## 3.2 Create Valid N-Gram Matrix"
      ]
    },
    {
      "cell_type": "markdown",
      "metadata": {
        "id": "7KTb0p-i9MZn",
        "colab_type": "text"
      },
      "source": [
        "สร้าง N-Gram Term-Document Matrix ด้วยข้อมูลจาก Validation Set โดยใช้ ngramtoi Dictionary จาก Training Set"
      ]
    },
    {
      "cell_type": "code",
      "metadata": {
        "id": "oc6WYRS1_5cz",
        "colab_type": "code",
        "colab": {}
      },
      "source": [
        "j_indices = []\n",
        "indptr = []\n",
        "values = []\n",
        "indptr.append(0)\n",
        "\n",
        "for i, doc in enumerate(movie_reviews.valid.x):\n",
        "    feature_counter = Counter(doc.data)\n",
        "    j_indices.extend(feature_counter.keys())\n",
        "    values.extend(feature_counter.values())\n",
        "    this_doc_ngrams = list()\n",
        "\n",
        "    m = 0\n",
        "    for n in range(min_n, max_n + 1):\n",
        "        for k in range(vocab_len - n + 1):\n",
        "            ngram = doc.data[k: k + n]\n",
        "            if str(ngram) in ngramtoi:\n",
        "                this_doc_ngrams.append(ngramtoi[str(ngram)])\n",
        "            m += 1\n",
        "\n",
        "    ngram_counter = Counter(this_doc_ngrams)\n",
        "    j_indices.extend(ngram_counter.keys())\n",
        "    values.extend(ngram_counter.values())\n",
        "    indptr.append(len(j_indices))"
      ],
      "execution_count": 0,
      "outputs": []
    },
    {
      "cell_type": "markdown",
      "metadata": {
        "id": "7mqHj_LZ9cT5",
        "colab_type": "text"
      },
      "source": [
        "นำค่าจาก Counter ที่ได้ มาสร้าง Term-Document Matrix ซึ่งเป็น Sparse Matrix เช่นเดียวกับด้านบน"
      ]
    },
    {
      "cell_type": "code",
      "metadata": {
        "id": "X6GOz3Xw_5OK",
        "colab_type": "code",
        "colab": {}
      },
      "source": [
        "valid_ngram_doc_matrix = scipy.sparse.csr_matrix((values, j_indices, indptr),\n",
        "                                   shape=(len(indptr) - 1, len(ngramtoi)),\n",
        "                                   dtype=int)"
      ],
      "execution_count": 0,
      "outputs": []
    },
    {
      "cell_type": "markdown",
      "metadata": {
        "id": "VaFozhIf9rIt",
        "colab_type": "text"
      },
      "source": [
        "เปรียบเทียบ valid, train N-Gram Term-Document Matrix 200, 800 Record จำนวน 260374 Column เท่ากัน"
      ]
    },
    {
      "cell_type": "code",
      "metadata": {
        "id": "q7lJFnHd_4_l",
        "colab_type": "code",
        "colab": {
          "base_uri": "https://localhost:8080/",
          "height": 85
        },
        "outputId": "be549397-14ab-481e-965f-a64b5530854c"
      },
      "source": [
        "valid_ngram_doc_matrix, train_ngram_doc_matrix"
      ],
      "execution_count": 34,
      "outputs": [
        {
          "output_type": "execute_result",
          "data": {
            "text/plain": [
              "(<200x260374 sparse matrix of type '<class 'numpy.int64'>'\n",
              " \twith 121600 stored elements in Compressed Sparse Row format>,\n",
              " <800x260374 sparse matrix of type '<class 'numpy.int64'>'\n",
              " \twith 678885 stored elements in Compressed Sparse Row format>)"
            ]
          },
          "metadata": {
            "tags": []
          },
          "execution_count": 34
        }
      ]
    },
    {
      "cell_type": "markdown",
      "metadata": {
        "id": "emP6bQDBDgJC",
        "colab_type": "text"
      },
      "source": [
        "## 3.3 Save Data"
      ]
    },
    {
      "cell_type": "markdown",
      "metadata": {
        "id": "E72POyvd-R01",
        "colab_type": "text"
      },
      "source": [
        "การสร้าง Matrix ขนาดใหญ่แบบนี้ ค่อนข้างใช้เวลา เราจะ Save ไว้ก่อน จะได้ไม่ต้องคำนวนใหม่ทุกครั้ง"
      ]
    },
    {
      "cell_type": "code",
      "metadata": {
        "id": "cQvAq5a1Df9J",
        "colab_type": "code",
        "colab": {}
      },
      "source": [
        "scipy.sparse.save_npz(\"train_ngram_doc_matrix.npz\", train_ngram_doc_matrix)"
      ],
      "execution_count": 0,
      "outputs": []
    },
    {
      "cell_type": "code",
      "metadata": {
        "id": "dvsOU7cjDfw5",
        "colab_type": "code",
        "colab": {}
      },
      "source": [
        "scipy.sparse.save_npz(\"valid_ngram_doc_matrix.npz\", valid_ngram_doc_matrix)"
      ],
      "execution_count": 0,
      "outputs": []
    },
    {
      "cell_type": "markdown",
      "metadata": {
        "id": "GBJ4iO44-b6e",
        "colab_type": "text"
      },
      "source": [
        "Save Dictionary ด้วย"
      ]
    },
    {
      "cell_type": "code",
      "metadata": {
        "id": "T7M4UvKhDfk9",
        "colab_type": "code",
        "colab": {}
      },
      "source": [
        "with open('itongram.pickle', 'wb') as handle:\n",
        "    pickle.dump(itongram, handle, protocol=pickle.HIGHEST_PROTOCOL)\n",
        "with open('ngramtoi.pickle', 'wb') as handle: \n",
        "    pickle.dump(ngramtoi, handle, protocol=pickle.HIGHEST_PROTOCOL)"
      ],
      "execution_count": 0,
      "outputs": []
    },
    {
      "cell_type": "markdown",
      "metadata": {
        "id": "kkUx0SuTDfX1",
        "colab_type": "text"
      },
      "source": [
        "## 3.4 Load Data"
      ]
    },
    {
      "cell_type": "markdown",
      "metadata": {
        "id": "LX9oAPZ7-gBH",
        "colab_type": "text"
      },
      "source": [
        "โหลดข้อมูลขึ้นมาไว้เหมือนเดิม"
      ]
    },
    {
      "cell_type": "code",
      "metadata": {
        "id": "NDftOPg6HxE2",
        "colab_type": "code",
        "colab": {}
      },
      "source": [
        "train_ngram_doc_matrix = scipy.sparse.load_npz(\"train_ngram_doc_matrix.npz\")\n",
        "valid_ngram_doc_matrix = scipy.sparse.load_npz(\"valid_ngram_doc_matrix.npz\")"
      ],
      "execution_count": 0,
      "outputs": []
    },
    {
      "cell_type": "code",
      "metadata": {
        "id": "PL8O2V7UDfLe",
        "colab_type": "code",
        "colab": {}
      },
      "source": [
        "with open(\"itongram.pickle\", \"rb\") as handle:\n",
        "    itongram = pickle.load(handle)\n",
        "with open(\"ngramtoi.pickle\", \"rb\") as handle:\n",
        "    ngramtoi = pickle.load(handle)"
      ],
      "execution_count": 0,
      "outputs": []
    },
    {
      "cell_type": "markdown",
      "metadata": {
        "id": "4VfdbWa4dTBJ",
        "colab_type": "text"
      },
      "source": [
        "ตรวจเช็คข้อมูล"
      ]
    },
    {
      "cell_type": "code",
      "metadata": {
        "id": "1BRD8cBTdOBU",
        "colab_type": "code",
        "colab": {
          "base_uri": "https://localhost:8080/",
          "height": 85
        },
        "outputId": "bd8874b6-1e97-4b98-8e4f-e7c5e0512021"
      },
      "source": [
        "valid_ngram_doc_matrix, train_ngram_doc_matrix"
      ],
      "execution_count": 40,
      "outputs": [
        {
          "output_type": "execute_result",
          "data": {
            "text/plain": [
              "(<200x260374 sparse matrix of type '<class 'numpy.int64'>'\n",
              " \twith 121600 stored elements in Compressed Sparse Row format>,\n",
              " <800x260374 sparse matrix of type '<class 'numpy.int64'>'\n",
              " \twith 678885 stored elements in Compressed Sparse Row format>)"
            ]
          },
          "metadata": {
            "tags": []
          },
          "execution_count": 40
        }
      ]
    },
    {
      "cell_type": "code",
      "metadata": {
        "id": "XbQPlgQgK6xm",
        "colab_type": "code",
        "colab": {
          "base_uri": "https://localhost:8080/",
          "height": 34
        },
        "outputId": "16611494-6e20-4236-ffc6-0d67161eb650"
      },
      "source": [
        "len(itongram), len(ngramtoi)"
      ],
      "execution_count": 41,
      "outputs": [
        {
          "output_type": "execute_result",
          "data": {
            "text/plain": [
              "(260374, 260374)"
            ]
          },
          "metadata": {
            "tags": []
          },
          "execution_count": 41
        }
      ]
    },
    {
      "cell_type": "markdown",
      "metadata": {
        "id": "VQI99ySvK6ge",
        "colab_type": "text"
      },
      "source": [
        "# 4. Predict"
      ]
    },
    {
      "cell_type": "markdown",
      "metadata": {
        "id": "MO3mSrJ2AzPw",
        "colab_type": "text"
      },
      "source": [
        "ได้ Term-Document Matrix มาแล้ว เราจะนำมาใช้อัลกอริทึมต่าง ๆ Predict เปรียบเทียบกัน ว่าจะเป็นอย่างไร"
      ]
    },
    {
      "cell_type": "markdown",
      "metadata": {
        "id": "4X88Y9lGkftg",
        "colab_type": "text"
      },
      "source": [
        "## 4.1 Naives Bayes"
      ]
    },
    {
      "cell_type": "code",
      "metadata": {
        "id": "Hj7IIvzlK6R7",
        "colab_type": "code",
        "colab": {
          "base_uri": "https://localhost:8080/",
          "height": 34
        },
        "outputId": "9d3ea35a-dd20-402b-e53d-c1c1491927d9"
      },
      "source": [
        "x = train_ngram_doc_matrix\n",
        "y = movie_reviews.train.y\n",
        "\n",
        "x.shape, x.getnnz(), len(y)"
      ],
      "execution_count": 42,
      "outputs": [
        {
          "output_type": "execute_result",
          "data": {
            "text/plain": [
              "((800, 260374), 678885, 800)"
            ]
          },
          "metadata": {
            "tags": []
          },
          "execution_count": 42
        }
      ]
    },
    {
      "cell_type": "code",
      "metadata": {
        "id": "mQXykV2DK5hz",
        "colab_type": "code",
        "colab": {
          "base_uri": "https://localhost:8080/",
          "height": 34
        },
        "outputId": "c1c3149d-2a99-4aaa-ef9d-a57d3749b1d2"
      },
      "source": [
        "positive = y.c2i['positive']\n",
        "negative = y.c2i['negative']\n",
        "\n",
        "positive, negative"
      ],
      "execution_count": 43,
      "outputs": [
        {
          "output_type": "execute_result",
          "data": {
            "text/plain": [
              "(1, 0)"
            ]
          },
          "metadata": {
            "tags": []
          },
          "execution_count": 43
        }
      ]
    },
    {
      "cell_type": "code",
      "metadata": {
        "id": "egQ7_fq6hTG6",
        "colab_type": "code",
        "colab": {
          "base_uri": "https://localhost:8080/",
          "height": 51
        },
        "outputId": "3a609afd-deff-463e-e34e-975a2bb0bb61"
      },
      "source": [
        "x"
      ],
      "execution_count": 44,
      "outputs": [
        {
          "output_type": "execute_result",
          "data": {
            "text/plain": [
              "<800x260374 sparse matrix of type '<class 'numpy.int64'>'\n",
              "\twith 678885 stored elements in Compressed Sparse Row format>"
            ]
          },
          "metadata": {
            "tags": []
          },
          "execution_count": 44
        }
      ]
    },
    {
      "cell_type": "markdown",
      "metadata": {
        "id": "W5vPWt1LvfTi",
        "colab_type": "text"
      },
      "source": [
        "k เอาไว้ limit จำนวนข้อมูล ในกรณี Dataset ขนาดใหญ่ เราจะลองข้อมูลเล็ก ๆ ก่อนจะได้เร็ว"
      ]
    },
    {
      "cell_type": "code",
      "metadata": {
        "id": "wDv-J8HxhTDQ",
        "colab_type": "code",
        "colab": {}
      },
      "source": [
        "k = 5000"
      ],
      "execution_count": 0,
      "outputs": []
    },
    {
      "cell_type": "code",
      "metadata": {
        "id": "GaOwv37_hTAV",
        "colab_type": "code",
        "colab": {
          "base_uri": "https://localhost:8080/",
          "height": 51
        },
        "outputId": "b4604b06-7cbe-431b-9afa-046ad447e57f"
      },
      "source": [
        "pos = (y.items == positive)[:k]\n",
        "neg = (y.items == negative)[:k]\n",
        "\n",
        "pos[:10], neg[:10]"
      ],
      "execution_count": 46,
      "outputs": [
        {
          "output_type": "execute_result",
          "data": {
            "text/plain": [
              "(array([False,  True, False,  True, False, False, False, False, False, False]),\n",
              " array([ True, False,  True, False,  True,  True,  True,  True,  True,  True]))"
            ]
          },
          "metadata": {
            "tags": []
          },
          "execution_count": 46
        }
      ]
    },
    {
      "cell_type": "code",
      "metadata": {
        "id": "E9_ijJBfhS-D",
        "colab_type": "code",
        "colab": {
          "base_uri": "https://localhost:8080/",
          "height": 51
        },
        "outputId": "e4a61807-ce3d-459c-b472-64b53bb967c0"
      },
      "source": [
        "xx = x[:k]\n",
        "xx"
      ],
      "execution_count": 47,
      "outputs": [
        {
          "output_type": "execute_result",
          "data": {
            "text/plain": [
              "<800x260374 sparse matrix of type '<class 'numpy.int64'>'\n",
              "\twith 678885 stored elements in Compressed Sparse Row format>"
            ]
          },
          "metadata": {
            "tags": []
          },
          "execution_count": 47
        }
      ]
    },
    {
      "cell_type": "markdown",
      "metadata": {
        "id": "9LXa50DVhS6O",
        "colab_type": "text"
      },
      "source": [
        "คำนวน Naive Bayes"
      ]
    },
    {
      "cell_type": "code",
      "metadata": {
        "id": "RH7dpPA-hSVp",
        "colab_type": "code",
        "colab": {}
      },
      "source": [
        "p0 = np.squeeze(np.array(xx[neg].sum(0)))\n",
        "p1 = np.squeeze(np.array(xx[pos].sum(0)))"
      ],
      "execution_count": 0,
      "outputs": []
    },
    {
      "cell_type": "code",
      "metadata": {
        "id": "8J_3Ww2ShSIh",
        "colab_type": "code",
        "colab": {}
      },
      "source": [
        "pr1 = (p1+1) / ((y.items == positive).sum() + 1)\n",
        "pr0 = (p0+1) / ((y.items == negative).sum() + 1)"
      ],
      "execution_count": 0,
      "outputs": []
    },
    {
      "cell_type": "code",
      "metadata": {
        "id": "zFfHSAg5hR4r",
        "colab_type": "code",
        "colab": {}
      },
      "source": [
        "r = np.log(pr1/pr0)"
      ],
      "execution_count": 0,
      "outputs": []
    },
    {
      "cell_type": "code",
      "metadata": {
        "id": "8Oz38Y4kjInQ",
        "colab_type": "code",
        "colab": {
          "base_uri": "https://localhost:8080/",
          "height": 34
        },
        "outputId": "d529d9a2-5987-46f7-f595-9404a4c1d119"
      },
      "source": [
        "(y.items == positive).mean(), (y.items == negative).mean()"
      ],
      "execution_count": 51,
      "outputs": [
        {
          "output_type": "execute_result",
          "data": {
            "text/plain": [
              "(0.47875, 0.52125)"
            ]
          },
          "metadata": {
            "tags": []
          },
          "execution_count": 51
        }
      ]
    },
    {
      "cell_type": "code",
      "metadata": {
        "id": "h1UxICZLjIrN",
        "colab_type": "code",
        "colab": {
          "base_uri": "https://localhost:8080/",
          "height": 34
        },
        "outputId": "b5971fdb-323b-4536-aeb3-fbe0ed957390"
      },
      "source": [
        "b = np.log((y.items == positive).mean() / (y.items == negative).mean())\n",
        "b"
      ],
      "execution_count": 52,
      "outputs": [
        {
          "output_type": "execute_result",
          "data": {
            "text/plain": [
              "-0.08505123261815539"
            ]
          },
          "metadata": {
            "tags": []
          },
          "execution_count": 52
        }
      ]
    },
    {
      "cell_type": "code",
      "metadata": {
        "id": "-lJhu6KujIkP",
        "colab_type": "code",
        "colab": {}
      },
      "source": [
        "pre_preds = valid_ngram_doc_matrix @ r.T + b"
      ],
      "execution_count": 0,
      "outputs": []
    },
    {
      "cell_type": "code",
      "metadata": {
        "id": "B4egrhJkjIif",
        "colab_type": "code",
        "colab": {
          "base_uri": "https://localhost:8080/",
          "height": 51
        },
        "outputId": "7eb371e8-0c0f-4337-db02-91110ad7f44e"
      },
      "source": [
        "pre_preds[:10]"
      ],
      "execution_count": 54,
      "outputs": [
        {
          "output_type": "execute_result",
          "data": {
            "text/plain": [
              "array([ 111.020137,   39.70486 ,    1.3799  ,   14.603319,  -30.464943,   99.644291,   25.726572, -180.516202,\n",
              "         37.933098,  -92.847017])"
            ]
          },
          "metadata": {
            "tags": []
          },
          "execution_count": 54
        }
      ]
    },
    {
      "cell_type": "markdown",
      "metadata": {
        "id": "s96tIalpFluf",
        "colab_type": "text"
      },
      "source": [
        "Transpose และเปลี่ยนเป็น Boolean True > 0, False < 0"
      ]
    },
    {
      "cell_type": "code",
      "metadata": {
        "id": "F3-4pYL-jIeT",
        "colab_type": "code",
        "colab": {}
      },
      "source": [
        "preds = pre_preds.T > 0"
      ],
      "execution_count": 0,
      "outputs": []
    },
    {
      "cell_type": "code",
      "metadata": {
        "id": "HYzuFdiZjIcM",
        "colab_type": "code",
        "colab": {
          "base_uri": "https://localhost:8080/",
          "height": 34
        },
        "outputId": "3b802e4e-c115-4231-9056-dcfa98729b0b"
      },
      "source": [
        "preds[:10]"
      ],
      "execution_count": 56,
      "outputs": [
        {
          "output_type": "execute_result",
          "data": {
            "text/plain": [
              "array([ True,  True,  True,  True, False,  True,  True, False,  True, False])"
            ]
          },
          "metadata": {
            "tags": []
          },
          "execution_count": 56
        }
      ]
    },
    {
      "cell_type": "markdown",
      "metadata": {
        "id": "yqAA2wcWFxLk",
        "colab_type": "text"
      },
      "source": [
        "เปรียบเทียบกับ Label ของ Validation Set"
      ]
    },
    {
      "cell_type": "code",
      "metadata": {
        "id": "9YclA6IMjIaT",
        "colab_type": "code",
        "colab": {}
      },
      "source": [
        "valid_labels = [o == positive for o in movie_reviews.valid.y.items]"
      ],
      "execution_count": 0,
      "outputs": []
    },
    {
      "cell_type": "code",
      "metadata": {
        "id": "K8JXekrajIWy",
        "colab_type": "code",
        "colab": {
          "base_uri": "https://localhost:8080/",
          "height": 34
        },
        "outputId": "148b4627-3801-4e5c-d5d0-6c035be64e51"
      },
      "source": [
        "(preds == valid_labels).mean()"
      ],
      "execution_count": 58,
      "outputs": [
        {
          "output_type": "execute_result",
          "data": {
            "text/plain": [
              "0.76"
            ]
          },
          "metadata": {
            "tags": []
          },
          "execution_count": 58
        }
      ]
    },
    {
      "cell_type": "markdown",
      "metadata": {
        "id": "ShWTq_M1jITz",
        "colab_type": "text"
      },
      "source": [
        "## 4.2 Binarized Naive Bayes"
      ]
    },
    {
      "cell_type": "markdown",
      "metadata": {
        "id": "OmtHXEnzF3u-",
        "colab_type": "text"
      },
      "source": [
        "แทนที่จะใช้ Count เราจะใช้แค่ว่ามี N-Gram นี้ หรือไม่มีแทน ด้วย sign"
      ]
    },
    {
      "cell_type": "code",
      "metadata": {
        "id": "yPAkUKeYjIRf",
        "colab_type": "code",
        "colab": {}
      },
      "source": [
        "trn_x_ngram_sgn = train_ngram_doc_matrix.sign()\n",
        "val_x_ngram_sgn = valid_ngram_doc_matrix.sign()"
      ],
      "execution_count": 0,
      "outputs": []
    },
    {
      "cell_type": "markdown",
      "metadata": {
        "id": "ydhivAFtGLIE",
        "colab_type": "text"
      },
      "source": [
        "limit ด้วย k เหมือนเดิม"
      ]
    },
    {
      "cell_type": "code",
      "metadata": {
        "id": "ZdDLGzsMjIOB",
        "colab_type": "code",
        "colab": {}
      },
      "source": [
        "xx = trn_x_ngram_sgn[:k]"
      ],
      "execution_count": 0,
      "outputs": []
    },
    {
      "cell_type": "markdown",
      "metadata": {
        "id": "nmmNUZPR50IB",
        "colab_type": "text"
      },
      "source": [
        "คำนวน Naive Bayes ด้วยสูตรเดิม"
      ]
    },
    {
      "cell_type": "code",
      "metadata": {
        "colab_type": "code",
        "id": "sUr6EGPZ54iu",
        "colab": {}
      },
      "source": [
        "p0 = np.squeeze(np.array(xx[neg].sum(0)))\n",
        "p1 = np.squeeze(np.array(xx[pos].sum(0)))"
      ],
      "execution_count": 0,
      "outputs": []
    },
    {
      "cell_type": "code",
      "metadata": {
        "colab_type": "code",
        "id": "SjvZ_oQn54i2",
        "colab": {}
      },
      "source": [
        "pr1 = (p1+1) / ((y.items == positive).sum() + 1)\n",
        "pr0 = (p0+1) / ((y.items == negative).sum() + 1)"
      ],
      "execution_count": 0,
      "outputs": []
    },
    {
      "cell_type": "code",
      "metadata": {
        "colab_type": "code",
        "id": "zn03ejgK54i5",
        "colab": {}
      },
      "source": [
        "r = np.log(pr1/pr0)"
      ],
      "execution_count": 0,
      "outputs": []
    },
    {
      "cell_type": "code",
      "metadata": {
        "colab_type": "code",
        "outputId": "0112b9cc-f390-4d59-e65f-a9176cff78c0",
        "id": "hTOSGmSn54i7",
        "colab": {
          "base_uri": "https://localhost:8080/",
          "height": 34
        }
      },
      "source": [
        "b = np.log((y.items == positive).mean() / (y.items == negative).mean())\n",
        "b"
      ],
      "execution_count": 64,
      "outputs": [
        {
          "output_type": "execute_result",
          "data": {
            "text/plain": [
              "-0.08505123261815539"
            ]
          },
          "metadata": {
            "tags": []
          },
          "execution_count": 64
        }
      ]
    },
    {
      "cell_type": "code",
      "metadata": {
        "colab_type": "code",
        "outputId": "ad0ce6bf-ca20-482f-b386-bab62050b706",
        "id": "4gUc8TSl54i_",
        "colab": {
          "base_uri": "https://localhost:8080/",
          "height": 34
        }
      },
      "source": [
        "(y.items == positive).mean(), (y.items == negative).mean()"
      ],
      "execution_count": 65,
      "outputs": [
        {
          "output_type": "execute_result",
          "data": {
            "text/plain": [
              "(0.47875, 0.52125)"
            ]
          },
          "metadata": {
            "tags": []
          },
          "execution_count": 65
        }
      ]
    },
    {
      "cell_type": "code",
      "metadata": {
        "colab_type": "code",
        "id": "mcT1o2JC54jB",
        "colab": {}
      },
      "source": [
        "pre_preds = valid_ngram_doc_matrix @ r.T + b"
      ],
      "execution_count": 0,
      "outputs": []
    },
    {
      "cell_type": "code",
      "metadata": {
        "colab_type": "code",
        "outputId": "5846c45f-aa11-4988-cc88-1de3d0947160",
        "id": "vJQRIjIt54jE",
        "colab": {
          "base_uri": "https://localhost:8080/",
          "height": 51
        }
      },
      "source": [
        "pre_preds[:10]"
      ],
      "execution_count": 67,
      "outputs": [
        {
          "output_type": "execute_result",
          "data": {
            "text/plain": [
              "array([  48.084557,   -5.809856,  -39.404141,  -18.020487,  -44.618515,   35.000107,  -19.354416, -188.235804,\n",
              "        -15.890994, -104.011163])"
            ]
          },
          "metadata": {
            "tags": []
          },
          "execution_count": 67
        }
      ]
    },
    {
      "cell_type": "markdown",
      "metadata": {
        "id": "yFnVt185Gcng",
        "colab_type": "text"
      },
      "source": [
        "Transpose แล้วเปลี่ยนเป็น Boolean "
      ]
    },
    {
      "cell_type": "code",
      "metadata": {
        "colab_type": "code",
        "id": "DaqJCvnx54jI",
        "colab": {}
      },
      "source": [
        "preds = pre_preds.T > 0"
      ],
      "execution_count": 0,
      "outputs": []
    },
    {
      "cell_type": "code",
      "metadata": {
        "colab_type": "code",
        "outputId": "0318c1c9-14ad-4685-db71-463769cf46bd",
        "id": "TA0OZNHb54jL",
        "colab": {
          "base_uri": "https://localhost:8080/",
          "height": 34
        }
      },
      "source": [
        "preds[:10]"
      ],
      "execution_count": 69,
      "outputs": [
        {
          "output_type": "execute_result",
          "data": {
            "text/plain": [
              "array([ True, False, False, False, False,  True, False, False, False, False])"
            ]
          },
          "metadata": {
            "tags": []
          },
          "execution_count": 69
        }
      ]
    },
    {
      "cell_type": "markdown",
      "metadata": {
        "id": "1HIquMPrG8pO",
        "colab_type": "text"
      },
      "source": [
        "เปรียบเทียบกับ Label ของ Validation Set"
      ]
    },
    {
      "cell_type": "code",
      "metadata": {
        "colab_type": "code",
        "id": "jd1qut9654jO",
        "colab": {}
      },
      "source": [
        "valid_labels = [o == positive for o in movie_reviews.valid.y.items]"
      ],
      "execution_count": 0,
      "outputs": []
    },
    {
      "cell_type": "code",
      "metadata": {
        "id": "XGUZ43vQ54jR",
        "colab_type": "code",
        "colab": {
          "base_uri": "https://localhost:8080/",
          "height": 34
        },
        "outputId": "36c78253-3cbd-44ec-8038-41f1a59ccff1"
      },
      "source": [
        "(preds == valid_labels).mean()"
      ],
      "execution_count": 71,
      "outputs": [
        {
          "output_type": "execute_result",
          "data": {
            "text/plain": [
              "0.715"
            ]
          },
          "metadata": {
            "tags": []
          },
          "execution_count": 71
        }
      ]
    },
    {
      "cell_type": "markdown",
      "metadata": {
        "id": "BbcKxpac50GF",
        "colab_type": "text"
      },
      "source": [
        "## 4.3 Logistic Regression"
      ]
    },
    {
      "cell_type": "code",
      "metadata": {
        "id": "o8i7a9NB50BO",
        "colab_type": "code",
        "colab": {}
      },
      "source": [
        "from sklearn.linear_model import LogisticRegression"
      ],
      "execution_count": 0,
      "outputs": []
    },
    {
      "cell_type": "markdown",
      "metadata": {
        "id": "2s0HEcM18Ii2",
        "colab_type": "text"
      },
      "source": [
        "ใช้ CountVectorizer สร้าง Term-Document Matrix"
      ]
    },
    {
      "cell_type": "code",
      "metadata": {
        "id": "Wek1BMPc5z-2",
        "colab_type": "code",
        "colab": {}
      },
      "source": [
        "from sklearn.feature_extraction.text import CountVectorizer"
      ],
      "execution_count": 0,
      "outputs": []
    },
    {
      "cell_type": "code",
      "metadata": {
        "id": "ib-WCxWc5z7w",
        "colab_type": "code",
        "colab": {}
      },
      "source": [
        "veczr = CountVectorizer(ngram_range=(1, 3), preprocessor=noop, tokenizer=noop, max_features=800000)"
      ],
      "execution_count": 0,
      "outputs": []
    },
    {
      "cell_type": "code",
      "metadata": {
        "id": "0vfPbJBj5z5B",
        "colab_type": "code",
        "colab": {}
      },
      "source": [
        "docs = movie_reviews.train.x"
      ],
      "execution_count": 0,
      "outputs": []
    },
    {
      "cell_type": "code",
      "metadata": {
        "id": "aAL3YdLh5z1_",
        "colab_type": "code",
        "colab": {
          "base_uri": "https://localhost:8080/",
          "height": 34
        },
        "outputId": "7ad22065-7af6-4444-d5ad-9df4c611ddf8"
      },
      "source": [
        "train_words = [[docs.vocab.itos[o] for o in doc.data] for doc in movie_reviews.train.x]\n",
        "valid_words = [[docs.vocab.itos[o] for o in doc.data] for doc in movie_reviews.valid.x]\n",
        "\n",
        "len(train_words), len(valid_words)"
      ],
      "execution_count": 76,
      "outputs": [
        {
          "output_type": "execute_result",
          "data": {
            "text/plain": [
              "(800, 200)"
            ]
          },
          "metadata": {
            "tags": []
          },
          "execution_count": 76
        }
      ]
    },
    {
      "cell_type": "code",
      "metadata": {
        "id": "4T472DdP5z0V",
        "colab_type": "code",
        "colab": {
          "base_uri": "https://localhost:8080/",
          "height": 51
        },
        "outputId": "b1a23192-b37c-4ea5-b9c3-8358f7f60f33"
      },
      "source": [
        "%%time\n",
        "train_ngram_doc = veczr.fit_transform(train_words)"
      ],
      "execution_count": 77,
      "outputs": [
        {
          "output_type": "stream",
          "text": [
            "CPU times: user 1.27 s, sys: 8.05 ms, total: 1.27 s\n",
            "Wall time: 1.27 s\n"
          ],
          "name": "stdout"
        }
      ]
    },
    {
      "cell_type": "code",
      "metadata": {
        "id": "GM4fZnS25zyj",
        "colab_type": "code",
        "colab": {
          "base_uri": "https://localhost:8080/",
          "height": 51
        },
        "outputId": "ce453e39-3473-475e-f33c-48648861680f"
      },
      "source": [
        "train_ngram_doc"
      ],
      "execution_count": 78,
      "outputs": [
        {
          "output_type": "execute_result",
          "data": {
            "text/plain": [
              "<800x260373 sparse matrix of type '<class 'numpy.int64'>'\n",
              "\twith 565680 stored elements in Compressed Sparse Row format>"
            ]
          },
          "metadata": {
            "tags": []
          },
          "execution_count": 78
        }
      ]
    },
    {
      "cell_type": "markdown",
      "metadata": {
        "id": "H2K71tzk-XXA",
        "colab_type": "text"
      },
      "source": [
        "ดูตัวอย่าง vocab Dictionary ที่ได้ เป็น N-Gram"
      ]
    },
    {
      "cell_type": "code",
      "metadata": {
        "id": "YfeHeW-m5zuF",
        "colab_type": "code",
        "colab": {
          "base_uri": "https://localhost:8080/",
          "height": 714
        },
        "outputId": "057f0bc7-9617-42b5-c475-396026edb3d4"
      },
      "source": [
        "len(veczr.vocabulary_), list(islice(veczr.vocabulary_.items(), 20)), list(islice(veczr.vocabulary_.items(), 26000, 26020))"
      ],
      "execution_count": 79,
      "outputs": [
        {
          "output_type": "execute_result",
          "data": {
            "text/plain": [
              "(260373,\n",
              " [('xxbos', 235215),\n",
              "  ('xxmaj', 235589),\n",
              "  ('un', 217511),\n",
              "  ('-', 14660),\n",
              "  ('xxunk', 247952),\n",
              "  ('believable', 50420),\n",
              "  ('!', 593),\n",
              "  ('meg', 134438),\n",
              "  ('ryan', 171955),\n",
              "  ('does', 72621),\n",
              "  (\"n't\", 141191),\n",
              "  ('even', 78281),\n",
              "  ('look', 129009),\n",
              "  ('her', 101674),\n",
              "  ('usual', 219401),\n",
              "  ('lovable', 129862),\n",
              "  ('self', 175864),\n",
              "  ('in', 110056),\n",
              "  ('this', 206619),\n",
              "  (',', 8800)],\n",
              " [('to see xxup', 212903),\n",
              "  ('see xxup h.', 175207),\n",
              "  (\"wells ' xxmaj\", 226026),\n",
              "  (\"' xxmaj war\", 3547),\n",
              "  ('xxmaj worlds \\x96', 247275),\n",
              "  ('worlds \\x96 and', 233978),\n",
              "  ('\\x96 and not', 260265),\n",
              "  ('and not some', 36666),\n",
              "  ('not some wholly', 146054),\n",
              "  ('some wholly xxunk', 182680),\n",
              "  ('wholly xxunk version', 229977),\n",
              "  ('xxunk version of', 255178),\n",
              "  ('version of it', 219954),\n",
              "  ('of it \\x96', 148987),\n",
              "  ('it \\x96 see', 119713),\n",
              "  ('\\x96 see this', 260333),\n",
              "  ('see this film', 175133),\n",
              "  ('this film !', 207027),\n",
              "  ('tend', 190800),\n",
              "  ('paul', 159166)])"
            ]
          },
          "metadata": {
            "tags": []
          },
          "execution_count": 79
        }
      ]
    },
    {
      "cell_type": "markdown",
      "metadata": {
        "id": "3HNU9_3dKzby",
        "colab_type": "text"
      },
      "source": [
        "Transform ข้อมูล Validation Set ด้วย vocab Dictionary ของ Training Set"
      ]
    },
    {
      "cell_type": "code",
      "metadata": {
        "id": "V-o__u2_5zrM",
        "colab_type": "code",
        "colab": {
          "base_uri": "https://localhost:8080/",
          "height": 51
        },
        "outputId": "0a1ee3f7-d62d-4750-e867-31a45df85c4b"
      },
      "source": [
        "val_ngram_doc = veczr.transform(valid_words)\n",
        "val_ngram_doc"
      ],
      "execution_count": 80,
      "outputs": [
        {
          "output_type": "execute_result",
          "data": {
            "text/plain": [
              "<200x260373 sparse matrix of type '<class 'numpy.int64'>'\n",
              "\twith 93552 stored elements in Compressed Sparse Row format>"
            ]
          },
          "metadata": {
            "tags": []
          },
          "execution_count": 80
        }
      ]
    },
    {
      "cell_type": "code",
      "metadata": {
        "id": "LYxgTGi_5zod",
        "colab_type": "code",
        "colab": {
          "base_uri": "https://localhost:8080/",
          "height": 34
        },
        "outputId": "b40b7032-ae54-4755-c8d6-6b05833ada61"
      },
      "source": [
        "vocab = veczr.get_feature_names()\n",
        "len(vocab)"
      ],
      "execution_count": 81,
      "outputs": [
        {
          "output_type": "execute_result",
          "data": {
            "text/plain": [
              "260373"
            ]
          },
          "metadata": {
            "tags": []
          },
          "execution_count": 81
        }
      ]
    },
    {
      "cell_type": "markdown",
      "metadata": {
        "id": "GEkQxBUfIh9f",
        "colab_type": "text"
      },
      "source": [
        "ดูตัวอย่าง N-Gram vocab"
      ]
    },
    {
      "cell_type": "code",
      "metadata": {
        "id": "cbF2sgqA5zlj",
        "colab_type": "code",
        "colab": {
          "base_uri": "https://localhost:8080/",
          "height": 187
        },
        "outputId": "cadfa0d4-6051-4c0e-a965-b1a50f699152"
      },
      "source": [
        "vocab[200000:200010]"
      ],
      "execution_count": 82,
      "outputs": [
        {
          "output_type": "execute_result",
          "data": {
            "text/plain": [
              "['the same cult',\n",
              " 'the same dance',\n",
              " 'the same date',\n",
              " 'the same day',\n",
              " 'the same diner',\n",
              " 'the same director',\n",
              " 'the same directors',\n",
              " 'the same enthusiasm',\n",
              " 'the same film',\n",
              " 'the same goes']"
            ]
          },
          "metadata": {
            "tags": []
          },
          "execution_count": 82
        }
      ]
    },
    {
      "cell_type": "markdown",
      "metadata": {
        "id": "OcLsWPOGPHKD",
        "colab_type": "text"
      },
      "source": [
        "Fit และ Predict ด้วย Logistic Regression"
      ]
    },
    {
      "cell_type": "code",
      "metadata": {
        "id": "GXAf-lJ95zjJ",
        "colab_type": "code",
        "colab": {}
      },
      "source": [
        "y = movie_reviews.train.y"
      ],
      "execution_count": 0,
      "outputs": []
    },
    {
      "cell_type": "code",
      "metadata": {
        "id": "WJUctrQt5zgI",
        "colab_type": "code",
        "colab": {
          "base_uri": "https://localhost:8080/",
          "height": 34
        },
        "outputId": "7a178581-46bf-43ad-d86b-acfd895130f7"
      },
      "source": [
        "m = LogisticRegression(C=0.1, dual=True, solver='liblinear', max_iter=10000)\n",
        "m.fit(train_ngram_doc, y.items);\n",
        "\n",
        "preds = m.predict(val_ngram_doc)\n",
        "(preds.T == valid_labels).mean()"
      ],
      "execution_count": 84,
      "outputs": [
        {
          "output_type": "execute_result",
          "data": {
            "text/plain": [
              "0.78"
            ]
          },
          "metadata": {
            "tags": []
          },
          "execution_count": 84
        }
      ]
    },
    {
      "cell_type": "markdown",
      "metadata": {
        "id": "GKtmDRDx5zdx",
        "colab_type": "text"
      },
      "source": [
        "## 4.4 Binarized Logistic Regression"
      ]
    },
    {
      "cell_type": "code",
      "metadata": {
        "id": "Z9xT187z5zbm",
        "colab_type": "code",
        "colab": {
          "base_uri": "https://localhost:8080/",
          "height": 34
        },
        "outputId": "bd4ac76e-a478-461e-bf52-f0ffeb5ce866"
      },
      "source": [
        "m = LogisticRegression(C=0.1, dual=True, solver='liblinear', max_iter=10000)\n",
        "m.fit(train_ngram_doc.sign(), y.items);\n",
        "\n",
        "preds = m.predict(val_ngram_doc)\n",
        "(preds.T == valid_labels).mean()"
      ],
      "execution_count": 85,
      "outputs": [
        {
          "output_type": "execute_result",
          "data": {
            "text/plain": [
              "0.69"
            ]
          },
          "metadata": {
            "tags": []
          },
          "execution_count": 85
        }
      ]
    },
    {
      "cell_type": "markdown",
      "metadata": {
        "id": "tEoOL5ki5zYD",
        "colab_type": "text"
      },
      "source": [
        "## 4.3/2 Logistic Regression กับ N-Gram ที่เราสร้างเอง"
      ]
    },
    {
      "cell_type": "markdown",
      "metadata": {
        "id": "FDg6H1WaI5DL",
        "colab_type": "text"
      },
      "source": [
        "แทนที่จะใข้ CountVectorizer เราจะใช้ N-Gram Term-Document Matrix ที่เราวนลูปสร้างเอง จาก Counter เปรียบเทียบกัน"
      ]
    },
    {
      "cell_type": "code",
      "metadata": {
        "id": "7T2bSMuhbp0U",
        "colab_type": "code",
        "colab": {
          "base_uri": "https://localhost:8080/",
          "height": 34
        },
        "outputId": "e05bc45e-3cfa-479c-f201-8e238e97a21c"
      },
      "source": [
        "m2 = LogisticRegression(C=0.1, dual=False, solver='saga', max_iter=10000)\n",
        "m2.fit(train_ngram_doc_matrix, y.items);\n",
        "\n",
        "preds = m2.predict(valid_ngram_doc_matrix)\n",
        "(preds.T == valid_labels).mean()"
      ],
      "execution_count": 86,
      "outputs": [
        {
          "output_type": "execute_result",
          "data": {
            "text/plain": [
              "0.665"
            ]
          },
          "metadata": {
            "tags": []
          },
          "execution_count": 86
        }
      ]
    },
    {
      "cell_type": "markdown",
      "metadata": {
        "id": "n-xlepfMbpwH",
        "colab_type": "text"
      },
      "source": [
        "## 4.4/2 Binarized Logistic Regression กับ N-Gram ที่เราสร้างเอง"
      ]
    },
    {
      "cell_type": "markdown",
      "metadata": {
        "id": "i5UlcRf8Kvck",
        "colab_type": "text"
      },
      "source": [
        "เราจะใช้ Binarized N-Gram Term-Document Matrix ที่เราวนลูปสร้างเอง จาก Counter เปรียบเทียบกัน"
      ]
    },
    {
      "cell_type": "code",
      "metadata": {
        "id": "0gsZZVmEbpt5",
        "colab_type": "code",
        "colab": {
          "base_uri": "https://localhost:8080/",
          "height": 34
        },
        "outputId": "6799faf2-d5b4-4d49-bf52-95444bbbcfb4"
      },
      "source": [
        "m2 = LogisticRegression(C=0.1, dual=True, solver='liblinear', max_iter=10000)\n",
        "m2.fit(trn_x_ngram_sgn, y.items);\n",
        "\n",
        "preds = m2.predict(val_x_ngram_sgn)\n",
        "(preds.T == valid_labels).mean()"
      ],
      "execution_count": 87,
      "outputs": [
        {
          "output_type": "execute_result",
          "data": {
            "text/plain": [
              "0.83"
            ]
          },
          "metadata": {
            "tags": []
          },
          "execution_count": 87
        }
      ]
    },
    {
      "cell_type": "markdown",
      "metadata": {
        "id": "MBaWw5GRbppi",
        "colab_type": "text"
      },
      "source": [
        "## 4.5 Logistic Regression กับ Log Count Ratio"
      ]
    },
    {
      "cell_type": "markdown",
      "metadata": {
        "id": "853G444nnsft",
        "colab_type": "text"
      },
      "source": [
        "แทนที่จะใช้ Count / Binarized เหมือนด้านบน เราจะเปลี่ยนมา Regularize Logistic Regression โดยการ Fit ด้วย Log-Count Ratio ของ Trigrams Feature แทน"
      ]
    },
    {
      "cell_type": "code",
      "metadata": {
        "id": "LChp7V7Dbplv",
        "colab_type": "code",
        "colab": {}
      },
      "source": [
        "x = train_ngram_doc_matrix.sign()\n",
        "val_x = valid_ngram_doc_matrix.sign()\n",
        "y = movie_reviews.train.y"
      ],
      "execution_count": 0,
      "outputs": []
    },
    {
      "cell_type": "code",
      "metadata": {
        "id": "hJLco1nwbpi-",
        "colab_type": "code",
        "colab": {}
      },
      "source": [
        "positive = y.c2i['positive']\n",
        "negative = y.c2i['negative']"
      ],
      "execution_count": 0,
      "outputs": []
    },
    {
      "cell_type": "code",
      "metadata": {
        "id": "eVsuIm8FbpgV",
        "colab_type": "code",
        "colab": {}
      },
      "source": [
        "k = 100000"
      ],
      "execution_count": 0,
      "outputs": []
    },
    {
      "cell_type": "code",
      "metadata": {
        "id": "pACWp_Y9kvYk",
        "colab_type": "code",
        "colab": {}
      },
      "source": [
        "pos = (y.items == positive)[:k]\n",
        "neg = (y.items == negative)[:k]"
      ],
      "execution_count": 0,
      "outputs": []
    },
    {
      "cell_type": "code",
      "metadata": {
        "id": "FbZ0HqPekwYD",
        "colab_type": "code",
        "colab": {}
      },
      "source": [
        "xx = x[:k]"
      ],
      "execution_count": 0,
      "outputs": []
    },
    {
      "cell_type": "code",
      "metadata": {
        "id": "UvrPtGaVkwNj",
        "colab_type": "code",
        "colab": {}
      },
      "source": [
        "valid_labels = [o == positive for o in movie_reviews.valid.y.items]"
      ],
      "execution_count": 0,
      "outputs": []
    },
    {
      "cell_type": "code",
      "metadata": {
        "id": "qrNQQmtPkwKv",
        "colab_type": "code",
        "colab": {}
      },
      "source": [
        "p0 = np.squeeze(np.array(xx[neg]).sum(0))\n",
        "p1 = np.squeeze(np.array(xx[pos]).sum(0))"
      ],
      "execution_count": 0,
      "outputs": []
    },
    {
      "cell_type": "code",
      "metadata": {
        "id": "JiBQ9a6lkwH5",
        "colab_type": "code",
        "colab": {}
      },
      "source": [
        "pr0 = (pr0 + 1) / ((y.items == negative).sum() + 1)\n",
        "pr0 = (pr1 + 1) / ((y.items == positive).sum() + 1)"
      ],
      "execution_count": 0,
      "outputs": []
    },
    {
      "cell_type": "code",
      "metadata": {
        "id": "xzkWtpxclutA",
        "colab_type": "code",
        "colab": {
          "base_uri": "https://localhost:8080/",
          "height": 68
        },
        "outputId": "10d1be75-c58a-447e-ed30-b3fb881ec5c1"
      },
      "source": [
        "r = np.log(pr1/pr0)\n",
        "r.shape, r[:10]"
      ],
      "execution_count": 96,
      "outputs": [
        {
          "output_type": "execute_result",
          "data": {
            "text/plain": [
              "((260374,),\n",
              " array([ 5.252246e+00, -2.600782e-03,  5.257495e+00, -2.600782e-03, -2.600782e-03,  5.253566e+00,  4.892036e+00,\n",
              "         3.493907e+00, -2.600782e-03,  5.253566e+00]))"
            ]
          },
          "metadata": {
            "tags": []
          },
          "execution_count": 96
        }
      ]
    },
    {
      "cell_type": "code",
      "metadata": {
        "id": "bJQZz2Oylunv",
        "colab_type": "code",
        "colab": {
          "base_uri": "https://localhost:8080/",
          "height": 51
        },
        "outputId": "8fe50e27-958b-4841-f93f-ab33e0d3185d"
      },
      "source": [
        "np.exp(r)[:10]"
      ],
      "execution_count": 97,
      "outputs": [
        {
          "output_type": "execute_result",
          "data": {
            "text/plain": [
              "array([190.994764,   0.997403, 192.      ,   0.997403,   0.997403, 191.247059, 133.22449 ,  32.914286,   0.997403,\n",
              "       191.247059])"
            ]
          },
          "metadata": {
            "tags": []
          },
          "execution_count": 97
        }
      ]
    },
    {
      "cell_type": "code",
      "metadata": {
        "id": "gc8s6Ti2luqs",
        "colab_type": "code",
        "colab": {
          "base_uri": "https://localhost:8080/",
          "height": 34
        },
        "outputId": "aed3c2c9-9f15-4839-d2b0-f847aef2cd1e"
      },
      "source": [
        "b = np.log((y.items==positive).mean() / (y.items==negative).mean())\n",
        "b"
      ],
      "execution_count": 98,
      "outputs": [
        {
          "output_type": "execute_result",
          "data": {
            "text/plain": [
              "-0.08505123261815539"
            ]
          },
          "metadata": {
            "tags": []
          },
          "execution_count": 98
        }
      ]
    },
    {
      "cell_type": "markdown",
      "metadata": {
        "id": "xYM314PCbpam",
        "colab_type": "text"
      },
      "source": [
        "เราจะ Normalized ด้วย r ก่อน Fit Logistic regression"
      ]
    },
    {
      "cell_type": "code",
      "metadata": {
        "id": "Qg_hyADAqPZa",
        "colab_type": "code",
        "colab": {
          "base_uri": "https://localhost:8080/",
          "height": 34
        },
        "outputId": "1870eb84-c257-45fe-fc7d-0dbf592d364b"
      },
      "source": [
        "xx.shape, r.shape, type(xx), type(r)"
      ],
      "execution_count": 99,
      "outputs": [
        {
          "output_type": "execute_result",
          "data": {
            "text/plain": [
              "((800, 260374), (260374,), scipy.sparse.csr.csr_matrix, numpy.ndarray)"
            ]
          },
          "metadata": {
            "tags": []
          },
          "execution_count": 99
        }
      ]
    },
    {
      "cell_type": "code",
      "metadata": {
        "id": "luMLOWyDbpXn",
        "colab_type": "code",
        "colab": {
          "base_uri": "https://localhost:8080/",
          "height": 34
        },
        "outputId": "e7fd1a80-f5ee-4e5d-87ca-f00b82cb190d"
      },
      "source": [
        "x_nb = xx.multiply(scipy.sparse.csr_matrix(r))\n",
        "x_nb.shape"
      ],
      "execution_count": 100,
      "outputs": [
        {
          "output_type": "execute_result",
          "data": {
            "text/plain": [
              "(800, 260374)"
            ]
          },
          "metadata": {
            "tags": []
          },
          "execution_count": 100
        }
      ]
    },
    {
      "cell_type": "code",
      "metadata": {
        "id": "0rD8a4kfrH06",
        "colab_type": "code",
        "colab": {}
      },
      "source": [
        "m = LogisticRegression(C=0.1, dual=False, solver='lbfgs', max_iter=10000)\n",
        "m.fit(x_nb, y.items);"
      ],
      "execution_count": 0,
      "outputs": []
    },
    {
      "cell_type": "code",
      "metadata": {
        "id": "akyjHgQJof2o",
        "colab_type": "code",
        "colab": {
          "base_uri": "https://localhost:8080/",
          "height": 34
        },
        "outputId": "f4dbd967-e46a-412c-a99e-23cdcb3abbdd"
      },
      "source": [
        "val_x_nb = val_x.multiply(scipy.sparse.csr_matrix(r))\n",
        "preds = m.predict(val_x_nb)\n",
        "(preds.T == valid_labels).mean()"
      ],
      "execution_count": 102,
      "outputs": [
        {
          "output_type": "execute_result",
          "data": {
            "text/plain": [
              "0.75"
            ]
          },
          "metadata": {
            "tags": []
          },
          "execution_count": 102
        }
      ]
    },
    {
      "cell_type": "markdown",
      "metadata": {
        "id": "NDi6KKnULray",
        "colab_type": "text"
      },
      "source": [
        "# สรุป"
      ]
    },
    {
      "cell_type": "markdown",
      "metadata": {
        "id": "BpoHE89ONKc_",
        "colab_type": "text"
      },
      "source": [
        "* เราได้เรียนรู้ว่า N-Gram คืออะไร ตัวอย่างการสร้าง Term-Document Matrix แบบ Unigram, Bigram, และ Trigram\n",
        "* เราได้เรียนรู้การประยุกต์ใช้ N-Gram มาช่วยในงาน Sentiment Classification \n",
        "* เราได้เรียนรู้การประยุกต์ใช้ N-Gram ร่วมกับอัลกอริทึม Naive Bayes และ Logistic Regression\n",
        "* เราได้เปรียบเทียบการสร้าง Term-Document Matrix ของ N-Gram โดยใช้ Count และ Log Count Ratio"
      ]
    },
    {
      "cell_type": "markdown",
      "metadata": {
        "id": "4gvQU6jgNLKZ",
        "colab_type": "text"
      },
      "source": [
        "# Credit"
      ]
    },
    {
      "cell_type": "markdown",
      "metadata": {
        "id": "nt2N3YR6OsLp",
        "colab_type": "text"
      },
      "source": [
        "* https://www.youtube.com/watch?v=dt7sArnLo1g&list=PLtmWHNX-gukKocXQOkQjuVxglSDYWsSh9&index=6&t=0s\n",
        "* https://www.bualabs.com/archives/3000/sentiment-classification-imdb-movie-reviews-with-naive-bayes-logistic-regression-nlp-ep-5/\n",
        "* https://www.bualabs.com/archives/926/sentiment-analysis-imdb-movie-review-ulmfit-sentiment-analysis-ep-1/\n",
        "* https://docs.fast.ai/text.data.html\n",
        "* https://docs.fast.ai/text.transform.html\n",
        "* https://docs.python.org/2/library/collections.html\n",
        "* https://en.wikipedia.org/wiki/Naive_Bayes_classifier\n",
        "* https://scikit-learn.org/stable/modules/generated/sklearn.linear_model.LogisticRegression.html\n",
        "* https://en.wikipedia.org/wiki/N-gram\n",
        "* https://web.stanford.edu/~jurafsky/slp3/3.pdf"
      ]
    },
    {
      "cell_type": "code",
      "metadata": {
        "id": "sZay6TX_RWPD",
        "colab_type": "code",
        "colab": {}
      },
      "source": [
        ""
      ],
      "execution_count": 0,
      "outputs": []
    }
  ]
}