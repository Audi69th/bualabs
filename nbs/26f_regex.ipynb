{
  "nbformat": 4,
  "nbformat_minor": 0,
  "metadata": {
    "colab": {
      "name": "26f-regex.ipynb",
      "provenance": []
    },
    "kernelspec": {
      "name": "python3",
      "display_name": "Python 3"
    }
  },
  "cells": [
    {
      "cell_type": "markdown",
      "metadata": {
        "id": "vknSJMNAcdhJ",
        "colab_type": "text"
      },
      "source": [
        "ในงาน NLP เรามักจะต้องเจอกับ การจัดการ String Format ที่ค่อนข้างซับซ้อน เช่น หาอีเมล์ หาเบอร์โทรศัพท์ หาลิงค์ ถ้าเราต้องเขียนโปรแกรม if else วนลูป เช็คเองทุกเคส โปรแกรมจะซับซ้อนมาก วิธีแก้ที่เป็นที่นิยม คือ ใช้ Regular Expression (RegExp, RE) \n",
        "\n",
        "Regular Expression, Regex หรือ Regexp คือ ลำดับอักษร Pattern ที่ใช้ในการค้นหาข้อความใน String โดยสามารถใช้ค้นหาอย่างเดียว ค้นหาแล้วแทนที่ด้วยข้อความที่กำหนดก็ได้ หรือใช้ตรวจสอบ String Input ว่าเป็นไปตาม Format ที่กำหนดหรือไม่ \n",
        "\n",
        "Regular Expression เป็นที่นิยมมาก เนื่องจากแก้ปัญหาที่ทุกคนต้องเจอ ซ้ำ ๆ อย่างมีประสิทธิภาพ เราจะพบ Regular Expresion ได้ในทุกภาษา Programming, Tools, Editor ชั้นนำ แต่ Pattern ที่ใช้อาจจะต่างกันเล็กน้อย"
      ]
    },
    {
      "cell_type": "markdown",
      "metadata": {
        "id": "okgsFvtocebc",
        "colab_type": "text"
      },
      "source": [
        "# 1. Import"
      ]
    },
    {
      "cell_type": "markdown",
      "metadata": {
        "id": "VXsqxKAcebst",
        "colab_type": "text"
      },
      "source": [
        "import Regular Expression (re) package สำหรับใช้ใน Python"
      ]
    },
    {
      "cell_type": "code",
      "metadata": {
        "id": "Tj0alVCQYwwC",
        "colab_type": "code",
        "colab": {}
      },
      "source": [
        "import re"
      ],
      "execution_count": 0,
      "outputs": []
    },
    {
      "cell_type": "markdown",
      "metadata": {
        "id": "pWD1tHIRchRY",
        "colab_type": "text"
      },
      "source": [
        "# 2. Function"
      ]
    },
    {
      "cell_type": "markdown",
      "metadata": {
        "id": "CqtkPfCSeCVl",
        "colab_type": "text"
      },
      "source": [
        "ตัวอย่างการใช้งาน เช็คดู String ไหน ว่าตรงตาม Pattern ที่กำหนด"
      ]
    },
    {
      "cell_type": "code",
      "metadata": {
        "id": "QWM6WflsMrjF",
        "colab_type": "code",
        "colab": {}
      },
      "source": [
        "# pat = Pattern\n",
        "pat = \"^The.*Thailand$\"\n",
        "\n",
        "# strs = Strings\n",
        "strs = [\"The list ranks completed buildings in Thailand\", \n",
        "        \"The tallest building in Thailand.\", \n",
        "        \"Weather in Thailand\", \n",
        "        \"They recently visited Chiang Mai, Thailand\"]"
      ],
      "execution_count": 0,
      "outputs": []
    },
    {
      "cell_type": "markdown",
      "metadata": {
        "id": "xVv7xpXvgRhl",
        "colab_type": "text"
      },
      "source": [
        "เรียกฟังก์ชัน search หา Pattern ใน String ในที่นี้คือ เริ่มต้นด้วย \"The\" ต่อด้วยอะไรก็ได้ แล้ว ลงท้ายด้วย \"Thailand\""
      ]
    },
    {
      "cell_type": "code",
      "metadata": {
        "id": "-73uqhBcaifv",
        "colab_type": "code",
        "outputId": "999ec34f-a95a-47f1-cd07-73cba59f80dd",
        "colab": {
          "base_uri": "https://localhost:8080/",
          "height": 85
        }
      },
      "source": [
        "[re.search(pat, s) for s in strs]"
      ],
      "execution_count": 0,
      "outputs": [
        {
          "output_type": "execute_result",
          "data": {
            "text/plain": [
              "[<_sre.SRE_Match object; span=(0, 46), match='The list ranks completed buildings in Thailand'>,\n",
              " None,\n",
              " None,\n",
              " <_sre.SRE_Match object; span=(0, 42), match='They recently visited Chiang Mai, Thailand'>]"
            ]
          },
          "metadata": {
            "tags": []
          },
          "execution_count": 56
        }
      ]
    },
    {
      "cell_type": "markdown",
      "metadata": {
        "id": "USQDNa3egchO",
        "colab_type": "text"
      },
      "source": [
        "จะเจอตัวแรก และตัวสุดท้าย เนื่องจากทั้งสองตัวเริ่มต้นด้วย \"The\" ต่อด้วยอะไรก็ได้ แล้ว ลงท้ายด้วย \"Thailand\" แต่ ตัวที่สองมีจุด full stop และตัวที่ 3 ไม่ได้เริ่มต้นด้วย \"The\""
      ]
    },
    {
      "cell_type": "markdown",
      "metadata": {
        "id": "J1a19Z8qY8lK",
        "colab_type": "text"
      },
      "source": [
        "ใน re package จะมี function ที่ใช้บ่อย ๆ ดังนี้\n",
        "\n",
        "* re.search(pattern, string, flags=0) สแกน String หาตำแหน่งแรกที่ Match Pattern ที่กำหนดแล้ว Return Match Object ที่ระบุข้อมูลการ Match ถ้าไม่เจอ Return None\n",
        "\n",
        "* re.findall(pattern, string, flags=0)\tReturn list of strings ที่ Match Pattern ที่กำหนด ถ้าไม่ Match return None.\n",
        "\n",
        "* re.split(pattern, string, maxsplit=0, flags=0) แบ่ง String ณ จุดที่ Match Pattern ถ้ามีการใช้ วงเล็บจับข้อมูล ก็จะ Return ลิสต์ของข้อความที่จับได้\n",
        "\n",
        "* re.sub(pattern, repl, string, count=0, flags=0) Return string จากการแทนค่า repl ใน string ตาม Pattern ที่กำหนด ถ้าไม่ Match ก็ Return string ต้นฉบับ, repl สามารถเป็นได้ทั้ง string pattern และ function\n",
        "\n",
        "ดูตัวอย่างจะเห็นภาพ ชัดกว่า"
      ]
    },
    {
      "cell_type": "markdown",
      "metadata": {
        "id": "Vfds6bw9d5bu",
        "colab_type": "text"
      },
      "source": [
        "## 2.1 search"
      ]
    },
    {
      "cell_type": "markdown",
      "metadata": {
        "id": "qS0-CEiSorwL",
        "colab_type": "text"
      },
      "source": [
        "หา white space (\\s)"
      ]
    },
    {
      "cell_type": "code",
      "metadata": {
        "id": "RRmhIfZrd1sI",
        "colab_type": "code",
        "outputId": "d1b96e9a-d606-4f13-e71b-c58c09ae18d5",
        "colab": {
          "base_uri": "https://localhost:8080/",
          "height": 34
        }
      },
      "source": [
        "str = \"This list of tallest buildings in Thailand ranks skyscrapers in Thailand by height.\"\n",
        "x = re.search(\"\\s\", str)\n",
        "\n",
        "print(\"The first white-space character is located in position:\", x.start())"
      ],
      "execution_count": 0,
      "outputs": [
        {
          "output_type": "stream",
          "text": [
            "The first white-space character is located in position: 4\n"
          ],
          "name": "stdout"
        }
      ]
    },
    {
      "cell_type": "markdown",
      "metadata": {
        "id": "hZP0xqG2oo6S",
        "colab_type": "text"
      },
      "source": [
        "กรณีไม่ Match"
      ]
    },
    {
      "cell_type": "code",
      "metadata": {
        "id": "muc5LyiZonPT",
        "colab_type": "code",
        "outputId": "b3123ddd-09e6-49e2-a7f3-a47da0480769",
        "colab": {
          "base_uri": "https://localhost:8080/",
          "height": 34
        }
      },
      "source": [
        "str = \"This list of tallest buildings in Thailand ranks skyscrapers in Thailand by height.\"\n",
        "x = re.search(\"Taiwan\", str)\n",
        "print(x)"
      ],
      "execution_count": 0,
      "outputs": [
        {
          "output_type": "stream",
          "text": [
            "None\n"
          ],
          "name": "stdout"
        }
      ]
    },
    {
      "cell_type": "markdown",
      "metadata": {
        "id": "N-X1vaygd1bk",
        "colab_type": "text"
      },
      "source": [
        "## 2.2 findall"
      ]
    },
    {
      "cell_type": "markdown",
      "metadata": {
        "id": "nRZTlv1BpdsF",
        "colab_type": "text"
      },
      "source": [
        "หา Pattern แล้ว return string ที่ตรง Pattern คำว่า \"la\""
      ]
    },
    {
      "cell_type": "code",
      "metadata": {
        "id": "LN67Yvs7d1nR",
        "colab_type": "code",
        "outputId": "ea2f85e5-a935-49ee-f913-98e41cde6490",
        "colab": {
          "base_uri": "https://localhost:8080/",
          "height": 34
        }
      },
      "source": [
        "str = \"This list of tallest buildings in Thailand ranks skyscrapers in Thailand by height.\"\n",
        "x = re.findall(\"la\", str)\n",
        "print(x)"
      ],
      "execution_count": 0,
      "outputs": [
        {
          "output_type": "stream",
          "text": [
            "['la', 'la']\n"
          ],
          "name": "stdout"
        }
      ]
    },
    {
      "cell_type": "markdown",
      "metadata": {
        "id": "zmbFXeoKppvR",
        "colab_type": "text"
      },
      "source": [
        "Th แล้วต่อด้วยอักษรอะไรก็ได้ 1 ตัว"
      ]
    },
    {
      "cell_type": "code",
      "metadata": {
        "id": "0W4Ge6NMd5Vm",
        "colab_type": "code",
        "outputId": "3994c311-8504-489e-bd9b-9c30f70b9022",
        "colab": {
          "base_uri": "https://localhost:8080/",
          "height": 34
        }
      },
      "source": [
        "str = \"This list of tallest buildings in Thailand ranks skyscrapers in Thailand by height.\"\n",
        "x = re.findall(\"Th.\", str)\n",
        "print(x)"
      ],
      "execution_count": 0,
      "outputs": [
        {
          "output_type": "stream",
          "text": [
            "['Thi', 'Tha', 'Tha']\n"
          ],
          "name": "stdout"
        }
      ]
    },
    {
      "cell_type": "markdown",
      "metadata": {
        "id": "pwZV0DOPp6w-",
        "colab_type": "text"
      },
      "source": [
        "ในกรณี ไม่ Match เลย จะ Return Empty List"
      ]
    },
    {
      "cell_type": "code",
      "metadata": {
        "id": "pqqIw-DgppKS",
        "colab_type": "code",
        "outputId": "6844cc4f-ea22-406f-fd6e-1760698a1c95",
        "colab": {
          "base_uri": "https://localhost:8080/",
          "height": 34
        }
      },
      "source": [
        "str = \"This list of tallest buildings in Thailand ranks skyscrapers in Thailand by height.\"\n",
        "x = re.findall(\"Japan\", str)\n",
        "print(x)"
      ],
      "execution_count": 0,
      "outputs": [
        {
          "output_type": "stream",
          "text": [
            "[]\n"
          ],
          "name": "stdout"
        }
      ]
    },
    {
      "cell_type": "markdown",
      "metadata": {
        "id": "G_qfqYZud7VX",
        "colab_type": "text"
      },
      "source": [
        "## 2.3 split"
      ]
    },
    {
      "cell_type": "markdown",
      "metadata": {
        "id": "JPrCwRx4qPyH",
        "colab_type": "text"
      },
      "source": [
        "Split เมื่อ Match 1 space (\\s) จะ Return list ของ string ที่ถูก Split"
      ]
    },
    {
      "cell_type": "code",
      "metadata": {
        "id": "8xiTahSKdX2e",
        "colab_type": "code",
        "outputId": "9b2b6347-84ce-422a-b9d2-fbf0cfcda064",
        "colab": {
          "base_uri": "https://localhost:8080/",
          "height": 34
        }
      },
      "source": [
        "str = \"This list of tallest buildings in Thailand ranks skyscrapers in Thailand by height.\"\n",
        "x = re.split(\"\\s\", str)\n",
        "print(x)"
      ],
      "execution_count": 0,
      "outputs": [
        {
          "output_type": "stream",
          "text": [
            "['This', 'list', 'of', 'tallest', 'buildings', 'in', 'Thailand', 'ranks', 'skyscrapers', 'in', 'Thailand', 'by', 'height.']\n"
          ],
          "name": "stdout"
        }
      ]
    },
    {
      "cell_type": "markdown",
      "metadata": {
        "id": "BMFmJZQ6qijd",
        "colab_type": "text"
      },
      "source": [
        "Limit ว่าต้องการไม่เกิน 2 รายการ ที่เหลือไม่ต้อง Split"
      ]
    },
    {
      "cell_type": "code",
      "metadata": {
        "id": "fABX6kx_d9K7",
        "colab_type": "code",
        "outputId": "cb732d68-7080-49f0-aff0-14e0286fad83",
        "colab": {
          "base_uri": "https://localhost:8080/",
          "height": 34
        }
      },
      "source": [
        "str = \"This list of tallest buildings in Thailand ranks skyscrapers in Thailand by height.\"\n",
        "x = re.split(\"\\s\", str, 2)\n",
        "print(x)"
      ],
      "execution_count": 0,
      "outputs": [
        {
          "output_type": "stream",
          "text": [
            "['This', 'list', 'of tallest buildings in Thailand ranks skyscrapers in Thailand by height.']\n"
          ],
          "name": "stdout"
        }
      ]
    },
    {
      "cell_type": "markdown",
      "metadata": {
        "id": "kIiyrLMdd9Oq",
        "colab_type": "text"
      },
      "source": [
        "## 2.4 sub"
      ]
    },
    {
      "cell_type": "markdown",
      "metadata": {
        "id": "y-vLK7CvrAq1",
        "colab_type": "text"
      },
      "source": [
        "เปลี่ยน White Space (\\s) เป็นเลข 0 ให้หมด"
      ]
    },
    {
      "cell_type": "code",
      "metadata": {
        "id": "Ij2vWyHRdX7M",
        "colab_type": "code",
        "outputId": "10f1eb25-b383-4dd3-de09-6a835a14811d",
        "colab": {
          "base_uri": "https://localhost:8080/",
          "height": 34
        }
      },
      "source": [
        "str = \"This list of tallest buildings in Thailand ranks skyscrapers in Thailand by height.\"\n",
        "x = re.sub(\"\\s\", \"0\", str)\n",
        "print(x)"
      ],
      "execution_count": 0,
      "outputs": [
        {
          "output_type": "stream",
          "text": [
            "This0list0of0tallest0buildings0in0Thailand0ranks0skyscrapers0in0Thailand0by0height.\n"
          ],
          "name": "stdout"
        }
      ]
    },
    {
      "cell_type": "markdown",
      "metadata": {
        "id": "_LNa3fAit4tr",
        "colab_type": "text"
      },
      "source": [
        "Limit ว่าต้องการเปลี่ยนไม่เกิน 2 อันแรก ที่เหลือไม่ต้อง"
      ]
    },
    {
      "cell_type": "code",
      "metadata": {
        "id": "WhNSEs60rFzX",
        "colab_type": "code",
        "outputId": "a67ab0b5-3727-43d9-f532-08464a004c12",
        "colab": {
          "base_uri": "https://localhost:8080/",
          "height": 34
        }
      },
      "source": [
        "str = \"This list of tallest buildings in Thailand ranks skyscrapers in Thailand by height.\"\n",
        "x = re.sub(\"\\s\", \"0\", str, 2)\n",
        "print(x)"
      ],
      "execution_count": 0,
      "outputs": [
        {
          "output_type": "stream",
          "text": [
            "This0list0of tallest buildings in Thailand ranks skyscrapers in Thailand by height.\n"
          ],
          "name": "stdout"
        }
      ]
    },
    {
      "cell_type": "markdown",
      "metadata": {
        "id": "Seq8Vxx7cn6R",
        "colab_type": "text"
      },
      "source": [
        "# 3. Pattern"
      ]
    },
    {
      "cell_type": "markdown",
      "metadata": {
        "id": "l0MbnwIccnxZ",
        "colab_type": "text"
      },
      "source": [
        "## 3.1 Metacharacters"
      ]
    },
    {
      "cell_type": "markdown",
      "metadata": {
        "id": "8S9tJGE55ROF",
        "colab_type": "text"
      },
      "source": [
        "อักขระพิเศษ"
      ]
    },
    {
      "cell_type": "markdown",
      "metadata": {
        "id": "pNdhBItTdkx6",
        "colab_type": "text"
      },
      "source": [
        "| ตัวอักษร \t| คำอธิบาย                                             \t| ตัวอย่าง   \t|\n",
        "|--------\t|-----------------------------------------------------\t|----------\t|\n",
        "| []     \t| set ของตัวอักษร                                       \t| [a-f]    \t|\n",
        "| \\      \t| เอาไว้นำหน้า Special Sequence เอาไว้ escape ตัวอักษรพิเศษ \t| \\d       \t|\n",
        "| .      \t| ตัวอักษรใด ๆ ยกเว้นขึ้นบรรทัดใหม่ เช่น cut, cat             \t| c.t \t|\n",
        "| ^      \t| เริ่มต้นด้วย                                            \t| ^The     \t|\n",
        "| \\$     \t| จบด้วย                                               \t| end\\$  \t|\n",
        "| *      \t| c ปรากฎ 0 ครั้ง หรือมากกว่า                               \t| abc*    \t|\n",
        "| +      \t| c ปรากฎ 1 ครั้ง หรือมากกว่า                               \t| abc+    \t|\n",
        "| ?      \t| c ปรากฎ 0 ครั้ง หรือ 1 ครั้ง                               \t| abc?    \t|\n",
        "| {}     \t| o ปรากฎจำนวนครั้งตามที่ระบุ                                \t| lo{2}se  \t|\n",
        "| &#124;     \t| อย่างใดอย่างหนึ่ง                                       \t| yes&#124;no  \t|\n",
        "| ()     \t| Capture และ group                                   \t|          \t|"
      ]
    },
    {
      "cell_type": "code",
      "metadata": {
        "id": "ryfo4DnJzv-y",
        "colab_type": "code",
        "colab": {}
      },
      "source": [
        "str = \"This list of 100 tallest buildings in Thailand ranks skyscrapers in Thailand by height\""
      ],
      "execution_count": 0,
      "outputs": []
    },
    {
      "cell_type": "code",
      "metadata": {
        "id": "tW0OQZ9sdlGw",
        "colab_type": "code",
        "outputId": "9b714922-f709-4d6e-adeb-52936dbba19e",
        "colab": {
          "base_uri": "https://localhost:8080/",
          "height": 34
        }
      },
      "source": [
        "x = re.findall(\"[a-f]\", str)\n",
        "print(x)"
      ],
      "execution_count": 0,
      "outputs": [
        {
          "output_type": "stream",
          "text": [
            "['f', 'a', 'e', 'b', 'd', 'a', 'a', 'd', 'a', 'c', 'a', 'e', 'a', 'a', 'd', 'b', 'e']\n"
          ],
          "name": "stdout"
        }
      ]
    },
    {
      "cell_type": "code",
      "metadata": {
        "id": "4VjCruK1zzQi",
        "colab_type": "code",
        "outputId": "895a6214-8c9a-4475-eba7-7a12be7da598",
        "colab": {
          "base_uri": "https://localhost:8080/",
          "height": 34
        }
      },
      "source": [
        "x = re.findall(\"\\d\", str)\n",
        "print(x)"
      ],
      "execution_count": 0,
      "outputs": [
        {
          "output_type": "stream",
          "text": [
            "['1', '0', '0']\n"
          ],
          "name": "stdout"
        }
      ]
    },
    {
      "cell_type": "code",
      "metadata": {
        "id": "_oiYOMKYzzFa",
        "colab_type": "code",
        "outputId": "9c8b98d6-949b-4ed5-c644-be6a0680bf4a",
        "colab": {
          "base_uri": "https://localhost:8080/",
          "height": 34
        }
      },
      "source": [
        "x = re.findall(\"bu.lding\", str)\n",
        "print(x)"
      ],
      "execution_count": 0,
      "outputs": [
        {
          "output_type": "stream",
          "text": [
            "['building']\n"
          ],
          "name": "stdout"
        }
      ]
    },
    {
      "cell_type": "code",
      "metadata": {
        "id": "tNomWg5Hzy6_",
        "colab_type": "code",
        "outputId": "b8c39cb4-82d2-4ffa-a2b4-ac3f3766a9e3",
        "colab": {
          "base_uri": "https://localhost:8080/",
          "height": 34
        }
      },
      "source": [
        "x = re.findall(\"^Th\", str)\n",
        "print(x)"
      ],
      "execution_count": 0,
      "outputs": [
        {
          "output_type": "stream",
          "text": [
            "['Th']\n"
          ],
          "name": "stdout"
        }
      ]
    },
    {
      "cell_type": "code",
      "metadata": {
        "id": "ZJPMgnEOzyvZ",
        "colab_type": "code",
        "outputId": "6258a045-fa38-41f2-80af-7536eddf3769",
        "colab": {
          "base_uri": "https://localhost:8080/",
          "height": 34
        }
      },
      "source": [
        "x = re.findall(\"ght$\", str)\n",
        "print(x)"
      ],
      "execution_count": 0,
      "outputs": [
        {
          "output_type": "stream",
          "text": [
            "['ght']\n"
          ],
          "name": "stdout"
        }
      ]
    },
    {
      "cell_type": "markdown",
      "metadata": {
        "id": "27Lc-HlYdlRQ",
        "colab_type": "text"
      },
      "source": [
        "## 3.2 Special Sequences"
      ]
    },
    {
      "cell_type": "markdown",
      "metadata": {
        "id": "5xawrqT55ZOq",
        "colab_type": "text"
      },
      "source": [
        "ลำดับอักขระพิเศษ"
      ]
    },
    {
      "cell_type": "markdown",
      "metadata": {
        "id": "0DUf54N3dlfC",
        "colab_type": "text"
      },
      "source": [
        "| ตัวอักษร \t| คำอธิบาย                                                                                                   \t| ตัวอย่าง             \t|\n",
        "|--------\t|-----------------------------------------------------------------------------------------------------------\t|--------------------\t|\n",
        "| \\A     \t| Return ถ้าตัวอักษรที่ระบุอยู่ต้น string                                                                     \t| \\AThe              \t|\n",
        "| \\b     \t| Return ถ้าตัวอักษรที่ระบุอยู่ต้น หรือท้ายคำ (ตามตำแหน่งของ \\b)                                                 \t| r\"\\bain\", r\"ain\\b\" \t|\n",
        "| \\B     \t| Return ถ้าพบตัวอักษรที่ระบุ ยกเว้นพบที่ต้น หรือท้ายคำ (ตามตำแหน่งของ \\B)                                        \t| r\"\\Bain\", r\"ain\\B\" \t|\n",
        "| \\d     \t| Return ถ้าพบตัวเลข 0-9 ใน string                                                                     \t| \\d                 \t|\n",
        "| \\D     \t| Return ถ้าไม่พบตัวเลข 0-9 ใน string                                                                   \t| \\D                 \t|\n",
        "| \\s     \t| Return ถ้าพบตัวอักษร White Space เช่น space (\" \"), tab (\"\\t\"), newline (\"\\n\"), return (\"\\r\") ใน string \t| \\s                 \t|\n",
        "| \\S     \t| Return ถ้าไม่พบตัวอักษร White Space ใน string                                                          \t| \\S                 \t|\n",
        "| \\w     \t| Return ถ้าพบตัวอักษรข้อความใด ๆ เช่น (ตัวอักษร a ถึง Z, ตัวเลข 0-9, และ underscore \"_\" )                    \t| \\w                 \t|\n",
        "| \\W     \t| Return ถ้าไม่พบตัวอักษรข้อความใด ๆ                                                                      \t| \\W                 \t|\n",
        "| \\Z     \t| Return ถ้าตัวอักษรที่ระบุอยู่ท้าย string                                                                    \t| Thailand\\Z         \t|"
      ]
    },
    {
      "cell_type": "code",
      "metadata": {
        "id": "FjyRo8vr5oeG",
        "colab_type": "code",
        "colab": {}
      },
      "source": [
        "str = \"This list of 100 tallest buildings in Thailand ranks skyscrapers in Thailand by height\""
      ],
      "execution_count": 0,
      "outputs": []
    },
    {
      "cell_type": "code",
      "metadata": {
        "id": "J6wDPZ9T5lyF",
        "colab_type": "code",
        "outputId": "18b50e5b-7f65-4ed9-ca27-49bd22848ac6",
        "colab": {
          "base_uri": "https://localhost:8080/",
          "height": 34
        }
      },
      "source": [
        "x = re.findall(\"\\ATh\", str)\n",
        "print(x)"
      ],
      "execution_count": 0,
      "outputs": [
        {
          "output_type": "stream",
          "text": [
            "['Th']\n"
          ],
          "name": "stdout"
        }
      ]
    },
    {
      "cell_type": "code",
      "metadata": {
        "id": "EZOXuTr15lnc",
        "colab_type": "code",
        "outputId": "95202acd-efec-472c-e424-954137be4b07",
        "colab": {
          "base_uri": "https://localhost:8080/",
          "height": 34
        }
      },
      "source": [
        "x = re.findall(r\"\\band\", str)\n",
        "print(x)"
      ],
      "execution_count": 0,
      "outputs": [
        {
          "output_type": "stream",
          "text": [
            "[]\n"
          ],
          "name": "stdout"
        }
      ]
    },
    {
      "cell_type": "code",
      "metadata": {
        "id": "HC5WkmFy5ldh",
        "colab_type": "code",
        "outputId": "c228ac98-f40d-46d5-d0a3-d717a78a077b",
        "colab": {
          "base_uri": "https://localhost:8080/",
          "height": 34
        }
      },
      "source": [
        "x = re.findall(r\"and\\b\", str)\n",
        "print(x)"
      ],
      "execution_count": 0,
      "outputs": [
        {
          "output_type": "stream",
          "text": [
            "['and', 'and']\n"
          ],
          "name": "stdout"
        }
      ]
    },
    {
      "cell_type": "code",
      "metadata": {
        "id": "3HsO1FNV5lTX",
        "colab_type": "code",
        "outputId": "a59c24f6-6cc4-4cd9-cc96-c59f60b180a4",
        "colab": {
          "base_uri": "https://localhost:8080/",
          "height": 34
        }
      },
      "source": [
        "x = re.findall(r\"\\Band\", str)\n",
        "print(x)"
      ],
      "execution_count": 0,
      "outputs": [
        {
          "output_type": "stream",
          "text": [
            "['and', 'and']\n"
          ],
          "name": "stdout"
        }
      ]
    },
    {
      "cell_type": "code",
      "metadata": {
        "id": "yQKQdTD55lIc",
        "colab_type": "code",
        "outputId": "3175b4d2-12dd-491f-fb8f-c741537acbbe",
        "colab": {
          "base_uri": "https://localhost:8080/",
          "height": 34
        }
      },
      "source": [
        "x = re.findall(r\"and\\B\", str)\n",
        "print(x)"
      ],
      "execution_count": 0,
      "outputs": [
        {
          "output_type": "stream",
          "text": [
            "[]\n"
          ],
          "name": "stdout"
        }
      ]
    },
    {
      "cell_type": "code",
      "metadata": {
        "id": "Tki5URGU6ow7",
        "colab_type": "code",
        "outputId": "a76165e3-cd1c-4f0d-eb09-243f345d8be8",
        "colab": {
          "base_uri": "https://localhost:8080/",
          "height": 34
        }
      },
      "source": [
        "x = re.findall(\"\\d\", str)\n",
        "print(x)"
      ],
      "execution_count": 0,
      "outputs": [
        {
          "output_type": "stream",
          "text": [
            "['1', '0', '0']\n"
          ],
          "name": "stdout"
        }
      ]
    },
    {
      "cell_type": "code",
      "metadata": {
        "id": "GiMk8Els6qm9",
        "colab_type": "code",
        "outputId": "f297c63b-6aa7-49f9-fb69-380a4f5ed366",
        "colab": {
          "base_uri": "https://localhost:8080/",
          "height": 54
        }
      },
      "source": [
        "x = re.findall(\"\\D\", str)\n",
        "print(x)"
      ],
      "execution_count": 0,
      "outputs": [
        {
          "output_type": "stream",
          "text": [
            "['T', 'h', 'i', 's', ' ', 'l', 'i', 's', 't', ' ', 'o', 'f', ' ', ' ', 't', 'a', 'l', 'l', 'e', 's', 't', ' ', 'b', 'u', 'i', 'l', 'd', 'i', 'n', 'g', 's', ' ', 'i', 'n', ' ', 'T', 'h', 'a', 'i', 'l', 'a', 'n', 'd', ' ', 'r', 'a', 'n', 'k', 's', ' ', 's', 'k', 'y', 's', 'c', 'r', 'a', 'p', 'e', 'r', 's', ' ', 'i', 'n', ' ', 'T', 'h', 'a', 'i', 'l', 'a', 'n', 'd', ' ', 'b', 'y', ' ', 'h', 'e', 'i', 'g', 'h', 't']\n"
          ],
          "name": "stdout"
        }
      ]
    },
    {
      "cell_type": "code",
      "metadata": {
        "id": "dYAYilqi6qtb",
        "colab_type": "code",
        "outputId": "9420dc3d-400a-48ae-dc96-73a3b1f70330",
        "colab": {
          "base_uri": "https://localhost:8080/",
          "height": 34
        }
      },
      "source": [
        "x = re.findall(\"\\s\", str)\n",
        "print(x)"
      ],
      "execution_count": 0,
      "outputs": [
        {
          "output_type": "stream",
          "text": [
            "[' ', ' ', ' ', ' ', ' ', ' ', ' ', ' ', ' ', ' ', ' ', ' ', ' ']\n"
          ],
          "name": "stdout"
        }
      ]
    },
    {
      "cell_type": "code",
      "metadata": {
        "id": "GfADdI4964pG",
        "colab_type": "code",
        "outputId": "3d89f233-a0a3-4557-dd6c-108475908cd8",
        "colab": {
          "base_uri": "https://localhost:8080/",
          "height": 54
        }
      },
      "source": [
        "x = re.findall(\"\\S\", str)\n",
        "print(x)"
      ],
      "execution_count": 0,
      "outputs": [
        {
          "output_type": "stream",
          "text": [
            "['T', 'h', 'i', 's', 'l', 'i', 's', 't', 'o', 'f', '1', '0', '0', 't', 'a', 'l', 'l', 'e', 's', 't', 'b', 'u', 'i', 'l', 'd', 'i', 'n', 'g', 's', 'i', 'n', 'T', 'h', 'a', 'i', 'l', 'a', 'n', 'd', 'r', 'a', 'n', 'k', 's', 's', 'k', 'y', 's', 'c', 'r', 'a', 'p', 'e', 'r', 's', 'i', 'n', 'T', 'h', 'a', 'i', 'l', 'a', 'n', 'd', 'b', 'y', 'h', 'e', 'i', 'g', 'h', 't']\n"
          ],
          "name": "stdout"
        }
      ]
    },
    {
      "cell_type": "code",
      "metadata": {
        "id": "caWQ6b7o68nV",
        "colab_type": "code",
        "outputId": "8559fba3-24e7-4a8d-8e59-0b5dc3f179ac",
        "colab": {
          "base_uri": "https://localhost:8080/",
          "height": 54
        }
      },
      "source": [
        "x = re.findall(\"\\w\", str)\n",
        "print(x)"
      ],
      "execution_count": 0,
      "outputs": [
        {
          "output_type": "stream",
          "text": [
            "['T', 'h', 'i', 's', 'l', 'i', 's', 't', 'o', 'f', '1', '0', '0', 't', 'a', 'l', 'l', 'e', 's', 't', 'b', 'u', 'i', 'l', 'd', 'i', 'n', 'g', 's', 'i', 'n', 'T', 'h', 'a', 'i', 'l', 'a', 'n', 'd', 'r', 'a', 'n', 'k', 's', 's', 'k', 'y', 's', 'c', 'r', 'a', 'p', 'e', 'r', 's', 'i', 'n', 'T', 'h', 'a', 'i', 'l', 'a', 'n', 'd', 'b', 'y', 'h', 'e', 'i', 'g', 'h', 't']\n"
          ],
          "name": "stdout"
        }
      ]
    },
    {
      "cell_type": "code",
      "metadata": {
        "id": "rQqo4eSJ68tD",
        "colab_type": "code",
        "outputId": "4cf6f707-b256-4614-b4e2-0789e3526366",
        "colab": {
          "base_uri": "https://localhost:8080/",
          "height": 34
        }
      },
      "source": [
        "x = re.findall(\"\\W\", str)\n",
        "print(x)"
      ],
      "execution_count": 0,
      "outputs": [
        {
          "output_type": "stream",
          "text": [
            "[' ', ' ', ' ', ' ', ' ', ' ', ' ', ' ', ' ', ' ', ' ', ' ', ' ']\n"
          ],
          "name": "stdout"
        }
      ]
    },
    {
      "cell_type": "code",
      "metadata": {
        "id": "lxYAxY1q68w4",
        "colab_type": "code",
        "outputId": "24c7f9a7-22d9-41f0-a87b-2320734fb03e",
        "colab": {
          "base_uri": "https://localhost:8080/",
          "height": 34
        }
      },
      "source": [
        "x = re.findall(\"ght\\Z\", str)\n",
        "print(x)"
      ],
      "execution_count": 0,
      "outputs": [
        {
          "output_type": "stream",
          "text": [
            "['ght']\n"
          ],
          "name": "stdout"
        }
      ]
    },
    {
      "cell_type": "markdown",
      "metadata": {
        "id": "qYWJPoYDdwxj",
        "colab_type": "text"
      },
      "source": [
        "## 3.3 Sets"
      ]
    },
    {
      "cell_type": "markdown",
      "metadata": {
        "id": "WPIpz9z9aFWJ",
        "colab_type": "text"
      },
      "source": [
        "Set คือ เซ็ตของอักษร ที่อยู่ภายใน Square Bracket มีความหมายพิเศษ ดังนี้"
      ]
    },
    {
      "cell_type": "markdown",
      "metadata": {
        "id": "bb2XGMFEcnnj",
        "colab_type": "text"
      },
      "source": [
        "| เซ็ต        \t| คำอธิบาย                                                                     \t|\n",
        "|------------\t|-----------------------------------------------------------------------------\t|\n",
        "| [abcd]     \t| Return ถ้ามีตัวอักษรใดอักษรหนึ่งที่ระบุ a, b, c, d                                   \t|\n",
        "| [a-d]      \t| Return ถ้ามีตัวอักษรใดอักษรหนึ่งอยู่ในช่วงที่ระบุ a - d                                 \t|\n",
        "| [^abc]     \t| Return ถ้ามีตัวอักษรยกเว้นที่ระบุ เช่น d, e, f, g, h, ... X, Y, Z                   \t|\n",
        "| [0123]     \t| Return ถ้ามีตัวเลขใดเลขหนึ่งที่ระบุ 0, 1, 2, 3                                     \t|\n",
        "| [0-9]      \t| Return ถ้ามีตัวเลขในช่วงที่ระบุ 0, 1, 2, 3, ..., 9                                \t|\n",
        "| [0-2][0-9] \t| Return ถ้ามีตัวเลขสองหลัก ในช่วงระหว่าง 00 ถึง 29                                 \t|\n",
        "| [a-zA-Z]   \t| Return ถ้ามีตัวอักษรใดอักษรหนึ่งอยู่ในช่วงที่ระบุ a - z ไม่ว่าจะตัวใหญ่ หรือตัวเล็ก            \t|\n",
        "| [+]        \t| ในเซ็ต  +, *, ., &#124;, (), $,{} ไม่ได้มีความหมายพิเศษ ดังนั้น [+] หมายถึง Returns ถ้ามี + \t|"
      ]
    },
    {
      "cell_type": "code",
      "metadata": {
        "id": "LsSYUhhUdyRE",
        "colab_type": "code",
        "colab": {}
      },
      "source": [
        "str = \"This list of 108 tallest buildings in Thailand ranks skyscrapers in Thailand by height\""
      ],
      "execution_count": 0,
      "outputs": []
    },
    {
      "cell_type": "code",
      "metadata": {
        "id": "sn14mCVidyVu",
        "colab_type": "code",
        "outputId": "1eb6bfd1-5ca3-4d18-a500-9a210dc7d07b",
        "colab": {
          "base_uri": "https://localhost:8080/",
          "height": 34
        }
      },
      "source": [
        "x = re.findall(\"[abc]\", str)\n",
        "print(x)"
      ],
      "execution_count": 0,
      "outputs": [
        {
          "output_type": "stream",
          "text": [
            "['a', 'b', 'a', 'a', 'a', 'c', 'a', 'a', 'a', 'b']\n"
          ],
          "name": "stdout"
        }
      ]
    },
    {
      "cell_type": "code",
      "metadata": {
        "id": "I9yVQXp3bPIw",
        "colab_type": "code",
        "outputId": "a678b56b-d989-4a57-8f75-19090d9484d8",
        "colab": {
          "base_uri": "https://localhost:8080/",
          "height": 34
        }
      },
      "source": [
        "x = re.findall(\"[a-g]\", str)\n",
        "print(x)"
      ],
      "execution_count": 0,
      "outputs": [
        {
          "output_type": "stream",
          "text": [
            "['f', 'a', 'e', 'b', 'd', 'g', 'a', 'a', 'd', 'a', 'c', 'a', 'e', 'a', 'a', 'd', 'b', 'e', 'g']\n"
          ],
          "name": "stdout"
        }
      ]
    },
    {
      "cell_type": "code",
      "metadata": {
        "id": "qi_36c1kbO99",
        "colab_type": "code",
        "outputId": "bc7703b1-ed46-406c-cf5e-a138f7199ff3",
        "colab": {
          "base_uri": "https://localhost:8080/",
          "height": 54
        }
      },
      "source": [
        "x = re.findall(\"[^abc]\", str)\n",
        "print(x)"
      ],
      "execution_count": 0,
      "outputs": [
        {
          "output_type": "stream",
          "text": [
            "['T', 'h', 'i', 's', ' ', 'l', 'i', 's', 't', ' ', 'o', 'f', ' ', '1', '0', '8', ' ', 't', 'l', 'l', 'e', 's', 't', ' ', 'u', 'i', 'l', 'd', 'i', 'n', 'g', 's', ' ', 'i', 'n', ' ', 'T', 'h', 'i', 'l', 'n', 'd', ' ', 'r', 'n', 'k', 's', ' ', 's', 'k', 'y', 's', 'r', 'p', 'e', 'r', 's', ' ', 'i', 'n', ' ', 'T', 'h', 'i', 'l', 'n', 'd', ' ', 'y', ' ', 'h', 'e', 'i', 'g', 'h', 't']\n"
          ],
          "name": "stdout"
        }
      ]
    },
    {
      "cell_type": "code",
      "metadata": {
        "id": "V5weuzAdbOzW",
        "colab_type": "code",
        "outputId": "1e4cc118-3c28-4078-b33d-fdec0850762d",
        "colab": {
          "base_uri": "https://localhost:8080/",
          "height": 34
        }
      },
      "source": [
        "x = re.findall(\"[0123]\", str)\n",
        "print(x)"
      ],
      "execution_count": 0,
      "outputs": [
        {
          "output_type": "stream",
          "text": [
            "['1', '0']\n"
          ],
          "name": "stdout"
        }
      ]
    },
    {
      "cell_type": "code",
      "metadata": {
        "id": "CVuntBMgbOok",
        "colab_type": "code",
        "outputId": "463058e5-04d0-4e66-f25c-bd949011d553",
        "colab": {
          "base_uri": "https://localhost:8080/",
          "height": 34
        }
      },
      "source": [
        "x = re.findall(\"[0-8]\", str)\n",
        "print(x)"
      ],
      "execution_count": 0,
      "outputs": [
        {
          "output_type": "stream",
          "text": [
            "['1', '0', '8']\n"
          ],
          "name": "stdout"
        }
      ]
    },
    {
      "cell_type": "code",
      "metadata": {
        "id": "XmE4h_d-bOdy",
        "colab_type": "code",
        "outputId": "09c05754-f3e7-4a82-e218-9501b445ceb1",
        "colab": {
          "base_uri": "https://localhost:8080/",
          "height": 34
        }
      },
      "source": [
        "x = re.findall(\"[0-1][0-1][0-8]\", str)\n",
        "print(x)"
      ],
      "execution_count": 0,
      "outputs": [
        {
          "output_type": "stream",
          "text": [
            "['108']\n"
          ],
          "name": "stdout"
        }
      ]
    },
    {
      "cell_type": "markdown",
      "metadata": {
        "id": "maZHGF5ycyHf",
        "colab_type": "text"
      },
      "source": [
        "# 4. Match Object"
      ]
    },
    {
      "cell_type": "markdown",
      "metadata": {
        "id": "FM1PmBxZb63-",
        "colab_type": "text"
      },
      "source": [
        "Match Object จะประกอบด้วยข้อมูลของการค้นหา และผลลัพธ์ของการค้นหา มี Method ที่ใช้บ่อย ดังนี้\n",
        "\n",
        "* .span() Return Tuple ระบุตำแหน่งเริ่มต้น สิ้นสุดของการ Match\n",
        "* .string Return String ที่ส่งให้ Function\n",
        "* .group() Return ส่วนของ String ที่ Match\n"
      ]
    },
    {
      "cell_type": "code",
      "metadata": {
        "id": "CMAl5Gvbc0Jz",
        "colab_type": "code",
        "colab": {}
      },
      "source": [
        "str = \"This list of 100 tallest buildings in Thailand ranks skyscrapers in Thailand by height\""
      ],
      "execution_count": 0,
      "outputs": []
    },
    {
      "cell_type": "markdown",
      "metadata": {
        "id": "EXJBImy2caUq",
        "colab_type": "text"
      },
      "source": [
        "Match Object จะบอกว่าเจออะไร และตำแหน่งที่พบ"
      ]
    },
    {
      "cell_type": "code",
      "metadata": {
        "id": "RJm9kecvcSnC",
        "colab_type": "code",
        "outputId": "d0cb7833-eedf-4f63-e683-45bf95861db8",
        "colab": {
          "base_uri": "https://localhost:8080/",
          "height": 34
        }
      },
      "source": [
        "x = re.search(\"lis.\", str)\n",
        "print(x) "
      ],
      "execution_count": 0,
      "outputs": [
        {
          "output_type": "stream",
          "text": [
            "<_sre.SRE_Match object; span=(5, 9), match='list'>\n"
          ],
          "name": "stdout"
        }
      ]
    },
    {
      "cell_type": "code",
      "metadata": {
        "id": "CodKBJPzc0At",
        "colab_type": "code",
        "outputId": "8cb61d4d-b52d-4181-d958-7b15329d995f",
        "colab": {
          "base_uri": "https://localhost:8080/",
          "height": 34
        }
      },
      "source": [
        "x = re.search(r\"\\bsky\\w+\", str)\n",
        "print(x.string)"
      ],
      "execution_count": 0,
      "outputs": [
        {
          "output_type": "stream",
          "text": [
            "This list of 100 tallest buildings in Thailand ranks skyscrapers in Thailand by height\n"
          ],
          "name": "stdout"
        }
      ]
    },
    {
      "cell_type": "code",
      "metadata": {
        "id": "ZYCGFgCUcz3s",
        "colab_type": "code",
        "outputId": "1aad3e4f-9c57-436d-9e0b-51689f259789",
        "colab": {
          "base_uri": "https://localhost:8080/",
          "height": 34
        }
      },
      "source": [
        "x = re.search(r\"\\bsky\\w+\", str)\n",
        "print(x.group())"
      ],
      "execution_count": 0,
      "outputs": [
        {
          "output_type": "stream",
          "text": [
            "skyscrapers\n"
          ],
          "name": "stdout"
        }
      ]
    },
    {
      "cell_type": "markdown",
      "metadata": {
        "id": "AqSADWWc8UMh",
        "colab_type": "text"
      },
      "source": [
        "# 5. ตัวอย่างการใช้งานจริง"
      ]
    },
    {
      "cell_type": "markdown",
      "metadata": {
        "id": "3ZgCIsXi8UAA",
        "colab_type": "text"
      },
      "source": [
        "## 5.1 Trim Space หน้า-หลัง"
      ]
    },
    {
      "cell_type": "code",
      "metadata": {
        "id": "ANQZiZdP8TzU",
        "colab_type": "code",
        "outputId": "baf8d2e6-e538-47f9-ae54-1cbc02287959",
        "colab": {
          "base_uri": "https://localhost:8080/",
          "height": 85
        }
      },
      "source": [
        "str = [\"test\", \n",
        "       \"   starting spaces\", \n",
        "       \"ending spaces    \", \n",
        "       \"  starting and ending spaces   \"]\n",
        "str"
      ],
      "execution_count": 0,
      "outputs": [
        {
          "output_type": "execute_result",
          "data": {
            "text/plain": [
              "['test',\n",
              " '   starting spaces',\n",
              " 'ending spaces    ',\n",
              " '  starting and ending spaces   ']"
            ]
          },
          "metadata": {
            "tags": []
          },
          "execution_count": 123
        }
      ]
    },
    {
      "cell_type": "code",
      "metadata": {
        "id": "AlSdDn1DAYru",
        "colab_type": "code",
        "outputId": "16d91d72-4fbd-4e6b-c0a4-ef4e62809e39",
        "colab": {
          "base_uri": "https://localhost:8080/",
          "height": 85
        }
      },
      "source": [
        "x = [re.findall(r\"^[\\s]*(.*?)[\\s]*$\", s) for s in str]\n",
        "x"
      ],
      "execution_count": 0,
      "outputs": [
        {
          "output_type": "execute_result",
          "data": {
            "text/plain": [
              "[['test'],\n",
              " ['starting spaces'],\n",
              " ['ending spaces'],\n",
              " ['starting and ending spaces']]"
            ]
          },
          "metadata": {
            "tags": []
          },
          "execution_count": 124
        }
      ]
    },
    {
      "cell_type": "markdown",
      "metadata": {
        "id": "fmmypexA-HtB",
        "colab_type": "text"
      },
      "source": [
        "## 5.2 HTML Tag"
      ]
    },
    {
      "cell_type": "code",
      "metadata": {
        "id": "-YCSZdRl-Hy1",
        "colab_type": "code",
        "outputId": "d2819e70-a3b3-4ff2-a846-f9201b31f393",
        "colab": {
          "base_uri": "https://localhost:8080/",
          "height": 34
        }
      },
      "source": [
        "str = \"<a>match only a tag</a> even if there is other <b> text </b>\"\n",
        "x = re.findall(r'<a[^>]*>([^<]+)</a>', str)\n",
        "x"
      ],
      "execution_count": 0,
      "outputs": [
        {
          "output_type": "execute_result",
          "data": {
            "text/plain": [
              "['match only a tag']"
            ]
          },
          "metadata": {
            "tags": []
          },
          "execution_count": 132
        }
      ]
    },
    {
      "cell_type": "markdown",
      "metadata": {
        "id": "afdW-N6w-H3L",
        "colab_type": "text"
      },
      "source": [
        "## 5.3 E-Mail"
      ]
    },
    {
      "cell_type": "code",
      "metadata": {
        "id": "RuHAGdNQ-d_c",
        "colab_type": "code",
        "outputId": "0d1b85f5-6ea9-42cf-8548-ff4a4cbe2ce9",
        "colab": {
          "base_uri": "https://localhost:8080/",
          "height": 34
        }
      },
      "source": [
        "str = \"Match an email address like john.smith@my-domain.com inside text valid-email@email.com but not!valid@#email.com\"\n",
        "x = re.findall(r'\\b[\\w.!#$%&’*+\\/=?^`{|}~-]+@[\\w-]+(?:\\.[\\w-]+)*\\b', str)\n",
        "x"
      ],
      "execution_count": 0,
      "outputs": [
        {
          "output_type": "execute_result",
          "data": {
            "text/plain": [
              "['john.smith@my-domain.com', 'valid-email@email.com']"
            ]
          },
          "metadata": {
            "tags": []
          },
          "execution_count": 135
        }
      ]
    },
    {
      "cell_type": "markdown",
      "metadata": {
        "id": "lxLXeSxa-eFn",
        "colab_type": "text"
      },
      "source": [
        "## 5.4 IP v4 Address"
      ]
    },
    {
      "cell_type": "code",
      "metadata": {
        "id": "ypxB8PvU-H8I",
        "colab_type": "code",
        "outputId": "79e60954-5d46-41cc-d03d-891ffdb67bcf",
        "colab": {
          "base_uri": "https://localhost:8080/",
          "height": 34
        }
      },
      "source": [
        "str = \"\"\"\n",
        "192.168.0.1\n",
        "255.255.255.0\n",
        "0.0.0.0\n",
        "127.0.0.1\n",
        "256.0.0.1\n",
        "there is my IP address (89.35.35.0) inside this text\n",
        "\"\"\"\n",
        "x = re.findall(r'\\b(?:(?:25[0-5]|2[0-4]\\d|[01]?\\d\\d?)\\.){3}(?:25[0-5]|2[0-4]\\d|[01]?\\d\\d?)\\b', str)\n",
        "x"
      ],
      "execution_count": 0,
      "outputs": [
        {
          "output_type": "execute_result",
          "data": {
            "text/plain": [
              "['192.168.0.1', '255.255.255.0', '0.0.0.0', '127.0.0.1', '89.35.35.0']"
            ]
          },
          "metadata": {
            "tags": []
          },
          "execution_count": 136
        }
      ]
    },
    {
      "cell_type": "markdown",
      "metadata": {
        "id": "6Ow0YXVKZ9O7",
        "colab_type": "text"
      },
      "source": [
        "# Credit"
      ]
    },
    {
      "cell_type": "markdown",
      "metadata": {
        "id": "xFmONzJGbycc",
        "colab_type": "text"
      },
      "source": [
        "* https://github.com/fastai/course-nlp/blob/master/4-regex.ipynb\n",
        "* https://docs.python.org/2/library/re.html\n",
        "* https://www.w3schools.com/python/python_regex.asp\n",
        "* https://medium.com/factory-mind/regex-tutorial-a-simple-cheatsheet-by-examples-649dc1c3f285\n",
        "* https://medium.com/factory-mind/regex-cookbook-most-wanted-regex-aa721558c3c1\n",
        "* https://regexone.com/\n"
      ]
    },
    {
      "cell_type": "code",
      "metadata": {
        "id": "hb4LRrDdbzWG",
        "colab_type": "code",
        "colab": {}
      },
      "source": [
        ""
      ],
      "execution_count": 0,
      "outputs": []
    }
  ]
}