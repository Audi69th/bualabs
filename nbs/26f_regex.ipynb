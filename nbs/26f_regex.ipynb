{
  "nbformat": 4,
  "nbformat_minor": 0,
  "metadata": {
    "colab": {
      "name": "26f-regex.ipynb",
      "provenance": []
    },
    "kernelspec": {
      "name": "python3",
      "display_name": "Python 3"
    }
  },
  "cells": [
    {
      "cell_type": "markdown",
      "metadata": {
        "id": "vknSJMNAcdhJ",
        "colab_type": "text"
      },
      "source": [
        "ในงาน NLP เรามักจะต้องเจอกับ การจัดการ String Format ที่ค่อนข้างซับซ้อน เช่น หาอีเมล์ หาเบอร์โทรศัพท์ หาลิงค์ ถ้าเราต้องเขียนโปรแกรม if else วนลูป เช็คเองทุกเคส โปรแกรมจะซับซ้อนมาก วิธีแก้ที่เป็นที่นิยม คือ ใช้ Regular Expression (RegExp, RE) \n",
        "\n",
        "Regular Expression เป็นที่นิยมมาก เนื่องจากแก้ปัญหาที่ทุกคนต้องเจอ ซ้ำ ๆ อย่างมีประสิทธิภาพ เราจะพบ Regular Expresion ได้ในทุกภาษา Programming, Tools, Editor ชั้นนำ แต่ Pattern ที่ใช้อาจจะต่างกันเล็กน้อย"
      ]
    },
    {
      "cell_type": "markdown",
      "metadata": {
        "id": "okgsFvtocebc",
        "colab_type": "text"
      },
      "source": [
        "# 1. Import"
      ]
    },
    {
      "cell_type": "markdown",
      "metadata": {
        "id": "VXsqxKAcebst",
        "colab_type": "text"
      },
      "source": [
        "import Regular Expression (re) package สำหรับใช้ใน Python"
      ]
    },
    {
      "cell_type": "code",
      "metadata": {
        "id": "Tj0alVCQYwwC",
        "colab_type": "code",
        "colab": {}
      },
      "source": [
        "import re"
      ],
      "execution_count": 0,
      "outputs": []
    },
    {
      "cell_type": "markdown",
      "metadata": {
        "id": "pWD1tHIRchRY",
        "colab_type": "text"
      },
      "source": [
        "# 2. Function"
      ]
    },
    {
      "cell_type": "markdown",
      "metadata": {
        "id": "CqtkPfCSeCVl",
        "colab_type": "text"
      },
      "source": [
        "ตัวอย่างการใช้งาน เช็คดู String ไหน ว่าตรงตาม Pattern ที่กำหนด"
      ]
    },
    {
      "cell_type": "code",
      "metadata": {
        "id": "QWM6WflsMrjF",
        "colab_type": "code",
        "colab": {}
      },
      "source": [
        "# pat = Pattern\n",
        "pat = \"^The.*Thailand$\"\n",
        "\n",
        "# strs = Strings\n",
        "strs = [\"The list ranks completed buildings in Thailand\", \n",
        "        \"The tallest building in Thailand.\", \n",
        "        \"Weather in Thailand\", \n",
        "        \"They recently visited Chiang Mai, Thailand\"]"
      ],
      "execution_count": 0,
      "outputs": []
    },
    {
      "cell_type": "markdown",
      "metadata": {
        "id": "xVv7xpXvgRhl",
        "colab_type": "text"
      },
      "source": [
        "เรียกฟังก์ชัน search หา Pattern ใน String ในที่นี้คือ เริ่มต้นด้วย \"The\" ต่อด้วยอะไรก็ได้ แล้ว ลงท้ายด้วย \"Thailand\""
      ]
    },
    {
      "cell_type": "code",
      "metadata": {
        "id": "-73uqhBcaifv",
        "colab_type": "code",
        "colab": {
          "base_uri": "https://localhost:8080/",
          "height": 85
        },
        "outputId": "b86cec08-0af4-4ca3-dbd1-1d9d8a2fd855"
      },
      "source": [
        "[re.search(pat, s) for s in strs]"
      ],
      "execution_count": 56,
      "outputs": [
        {
          "output_type": "execute_result",
          "data": {
            "text/plain": [
              "[<_sre.SRE_Match object; span=(0, 46), match='The list ranks completed buildings in Thailand'>,\n",
              " None,\n",
              " None,\n",
              " <_sre.SRE_Match object; span=(0, 42), match='They recently visited Chiang Mai, Thailand'>]"
            ]
          },
          "metadata": {
            "tags": []
          },
          "execution_count": 56
        }
      ]
    },
    {
      "cell_type": "markdown",
      "metadata": {
        "id": "USQDNa3egchO",
        "colab_type": "text"
      },
      "source": [
        "จะเจอตัวแรก และตัวสุดท้าย เนื่องจากทั้งสองตัวเริ่มต้นด้วย \"The\" ต่อด้วยอะไรก็ได้ แล้ว ลงท้ายด้วย \"Thailand\" แต่ ตัวที่สองมีจุด full stop และตัวที่ 3 ไม่ได้เริ่มต้นด้วย \"The\""
      ]
    },
    {
      "cell_type": "markdown",
      "metadata": {
        "id": "J1a19Z8qY8lK",
        "colab_type": "text"
      },
      "source": [
        "ใน re package จะมี function ที่ใช้บ่อย ๆ ดังนี้\n",
        "\n",
        "* re.search(pattern, string, flags=0) สแกน String หาตำแหน่งแรกที่ Match Pattern ที่กำหนดแล้ว Return Match Object ที่ระบุข้อมูลการ Match ถ้าไม่เจอ Return None\n",
        "\n",
        "* re.findall(pattern, string, flags=0)\tReturn list of strings ที่ Match Pattern ที่กำหนด ถ้าไม่ Match return None.\n",
        "\n",
        "* re.split(pattern, string, maxsplit=0, flags=0) แบ่ง String ณ จุดที่ Match Pattern ถ้ามีการใช้ วงเล็บจับข้อมูล ก็จะ Return ลิสต์ของข้อความที่จับได้\n",
        "\n",
        "* re.sub(pattern, repl, string, count=0, flags=0) Return string จากการแทนค่า repl ใน string ตาม Pattern ที่กำหนด ถ้าไม่ Match ก็ Return string ต้นฉบับ, repl สามารถเป็นได้ทั้ง string pattern และ function\n",
        "\n",
        "ดูตัวอย่างจะเห็นภาพ ชัดกว่า"
      ]
    },
    {
      "cell_type": "markdown",
      "metadata": {
        "id": "Vfds6bw9d5bu",
        "colab_type": "text"
      },
      "source": [
        "## 2.1 search"
      ]
    },
    {
      "cell_type": "markdown",
      "metadata": {
        "id": "qS0-CEiSorwL",
        "colab_type": "text"
      },
      "source": [
        "หา white space (\\s)"
      ]
    },
    {
      "cell_type": "code",
      "metadata": {
        "id": "RRmhIfZrd1sI",
        "colab_type": "code",
        "colab": {
          "base_uri": "https://localhost:8080/",
          "height": 34
        },
        "outputId": "52ae4caa-534b-4b6f-a07b-939c3a2ff267"
      },
      "source": [
        "str = \"This list of tallest buildings in Thailand ranks skyscrapers in Thailand by height.\"\n",
        "x = re.search(\"\\s\", str)\n",
        "\n",
        "print(\"The first white-space character is located in position:\", x.start())"
      ],
      "execution_count": 57,
      "outputs": [
        {
          "output_type": "stream",
          "text": [
            "The first white-space character is located in position: 4\n"
          ],
          "name": "stdout"
        }
      ]
    },
    {
      "cell_type": "markdown",
      "metadata": {
        "id": "hZP0xqG2oo6S",
        "colab_type": "text"
      },
      "source": [
        "กรณีไม่ Match"
      ]
    },
    {
      "cell_type": "code",
      "metadata": {
        "id": "muc5LyiZonPT",
        "colab_type": "code",
        "colab": {
          "base_uri": "https://localhost:8080/",
          "height": 34
        },
        "outputId": "ee924865-8992-49b5-ca77-e97b995219b6"
      },
      "source": [
        "str = \"This list of tallest buildings in Thailand ranks skyscrapers in Thailand by height.\"\n",
        "x = re.search(\"Taiwan\", str)\n",
        "print(x)"
      ],
      "execution_count": 58,
      "outputs": [
        {
          "output_type": "stream",
          "text": [
            "None\n"
          ],
          "name": "stdout"
        }
      ]
    },
    {
      "cell_type": "markdown",
      "metadata": {
        "id": "N-X1vaygd1bk",
        "colab_type": "text"
      },
      "source": [
        "## 2.2 findall"
      ]
    },
    {
      "cell_type": "markdown",
      "metadata": {
        "id": "nRZTlv1BpdsF",
        "colab_type": "text"
      },
      "source": [
        "หา Pattern แล้ว return string ที่ตรง Pattern คำว่า \"la\""
      ]
    },
    {
      "cell_type": "code",
      "metadata": {
        "id": "LN67Yvs7d1nR",
        "colab_type": "code",
        "colab": {
          "base_uri": "https://localhost:8080/",
          "height": 34
        },
        "outputId": "f906097a-8f2c-43d1-f334-51486342d4cd"
      },
      "source": [
        "str = \"This list of tallest buildings in Thailand ranks skyscrapers in Thailand by height.\"\n",
        "x = re.findall(\"la\", str)\n",
        "print(x)"
      ],
      "execution_count": 59,
      "outputs": [
        {
          "output_type": "stream",
          "text": [
            "['la', 'la']\n"
          ],
          "name": "stdout"
        }
      ]
    },
    {
      "cell_type": "markdown",
      "metadata": {
        "id": "zmbFXeoKppvR",
        "colab_type": "text"
      },
      "source": [
        "Th แล้วต่อด้วยอักษรอะไรก็ได้ 1 ตัว"
      ]
    },
    {
      "cell_type": "code",
      "metadata": {
        "id": "0W4Ge6NMd5Vm",
        "colab_type": "code",
        "colab": {
          "base_uri": "https://localhost:8080/",
          "height": 34
        },
        "outputId": "3734d8a0-1b6e-4a9d-f5ad-ab3342e0bd14"
      },
      "source": [
        "str = \"This list of tallest buildings in Thailand ranks skyscrapers in Thailand by height.\"\n",
        "x = re.findall(\"Th.\", str)\n",
        "print(x)"
      ],
      "execution_count": 60,
      "outputs": [
        {
          "output_type": "stream",
          "text": [
            "['Thi', 'Tha', 'Tha']\n"
          ],
          "name": "stdout"
        }
      ]
    },
    {
      "cell_type": "markdown",
      "metadata": {
        "id": "pwZV0DOPp6w-",
        "colab_type": "text"
      },
      "source": [
        "ในกรณี ไม่ Match เลย จะ Return Empty List"
      ]
    },
    {
      "cell_type": "code",
      "metadata": {
        "id": "pqqIw-DgppKS",
        "colab_type": "code",
        "colab": {
          "base_uri": "https://localhost:8080/",
          "height": 34
        },
        "outputId": "cf2c1b82-2bcd-4845-b1f3-abc2bc9af2f0"
      },
      "source": [
        "str = \"This list of tallest buildings in Thailand ranks skyscrapers in Thailand by height.\"\n",
        "x = re.findall(\"Japan\", str)\n",
        "print(x)"
      ],
      "execution_count": 61,
      "outputs": [
        {
          "output_type": "stream",
          "text": [
            "[]\n"
          ],
          "name": "stdout"
        }
      ]
    },
    {
      "cell_type": "markdown",
      "metadata": {
        "id": "G_qfqYZud7VX",
        "colab_type": "text"
      },
      "source": [
        "## 2.3 split"
      ]
    },
    {
      "cell_type": "markdown",
      "metadata": {
        "id": "JPrCwRx4qPyH",
        "colab_type": "text"
      },
      "source": [
        "Split เมื่อ Match 1 space (\\s) จะ Return list ของ string ที่ถูก Split"
      ]
    },
    {
      "cell_type": "code",
      "metadata": {
        "id": "8xiTahSKdX2e",
        "colab_type": "code",
        "colab": {
          "base_uri": "https://localhost:8080/",
          "height": 34
        },
        "outputId": "02668bb2-82f1-4d68-c5a5-6971e8d18863"
      },
      "source": [
        "str = \"This list of tallest buildings in Thailand ranks skyscrapers in Thailand by height.\"\n",
        "x = re.split(\"\\s\", str)\n",
        "print(x)"
      ],
      "execution_count": 62,
      "outputs": [
        {
          "output_type": "stream",
          "text": [
            "['This', 'list', 'of', 'tallest', 'buildings', 'in', 'Thailand', 'ranks', 'skyscrapers', 'in', 'Thailand', 'by', 'height.']\n"
          ],
          "name": "stdout"
        }
      ]
    },
    {
      "cell_type": "markdown",
      "metadata": {
        "id": "BMFmJZQ6qijd",
        "colab_type": "text"
      },
      "source": [
        "Limit ว่าต้องการไม่เกิน 2 รายการ ที่เหลือไม่ต้อง Split"
      ]
    },
    {
      "cell_type": "code",
      "metadata": {
        "id": "fABX6kx_d9K7",
        "colab_type": "code",
        "colab": {
          "base_uri": "https://localhost:8080/",
          "height": 34
        },
        "outputId": "e02f0436-a631-4d88-ac2c-1e313789248d"
      },
      "source": [
        "str = \"This list of tallest buildings in Thailand ranks skyscrapers in Thailand by height.\"\n",
        "x = re.split(\"\\s\", str, 2)\n",
        "print(x)"
      ],
      "execution_count": 63,
      "outputs": [
        {
          "output_type": "stream",
          "text": [
            "['This', 'list', 'of tallest buildings in Thailand ranks skyscrapers in Thailand by height.']\n"
          ],
          "name": "stdout"
        }
      ]
    },
    {
      "cell_type": "markdown",
      "metadata": {
        "id": "kIiyrLMdd9Oq",
        "colab_type": "text"
      },
      "source": [
        "## 2.4 sub"
      ]
    },
    {
      "cell_type": "markdown",
      "metadata": {
        "id": "y-vLK7CvrAq1",
        "colab_type": "text"
      },
      "source": [
        "เปลี่ยน space (\\s) เป็นเลข 0 ให้หมด"
      ]
    },
    {
      "cell_type": "code",
      "metadata": {
        "id": "Ij2vWyHRdX7M",
        "colab_type": "code",
        "colab": {
          "base_uri": "https://localhost:8080/",
          "height": 34
        },
        "outputId": "1b1d3590-f32b-4224-a858-0851d92fc4ff"
      },
      "source": [
        "str = \"This list of tallest buildings in Thailand ranks skyscrapers in Thailand by height.\"\n",
        "x = re.sub(\"\\s\", \"0\", str)\n",
        "print(x)"
      ],
      "execution_count": 65,
      "outputs": [
        {
          "output_type": "stream",
          "text": [
            "This0list0of0tallest0buildings0in0Thailand0ranks0skyscrapers0in0Thailand0by0height.\n"
          ],
          "name": "stdout"
        }
      ]
    },
    {
      "cell_type": "markdown",
      "metadata": {
        "id": "_LNa3fAit4tr",
        "colab_type": "text"
      },
      "source": [
        "Limit ว่าต้องการเปลี่ยนไม่เกิน 2 อันแรก ที่เหลือไม่ต้อง"
      ]
    },
    {
      "cell_type": "code",
      "metadata": {
        "id": "WhNSEs60rFzX",
        "colab_type": "code",
        "colab": {
          "base_uri": "https://localhost:8080/",
          "height": 34
        },
        "outputId": "bf209cce-c53a-496b-ea3f-946c3306934a"
      },
      "source": [
        "str = \"This list of tallest buildings in Thailand ranks skyscrapers in Thailand by height.\"\n",
        "x = re.sub(\"\\s\", \"0\", str, 2)\n",
        "print(x)"
      ],
      "execution_count": 67,
      "outputs": [
        {
          "output_type": "stream",
          "text": [
            "This0list0of tallest buildings in Thailand ranks skyscrapers in Thailand by height.\n"
          ],
          "name": "stdout"
        }
      ]
    },
    {
      "cell_type": "markdown",
      "metadata": {
        "id": "Seq8Vxx7cn6R",
        "colab_type": "text"
      },
      "source": [
        "# 3. Pattern"
      ]
    },
    {
      "cell_type": "markdown",
      "metadata": {
        "id": "l0MbnwIccnxZ",
        "colab_type": "text"
      },
      "source": [
        "## 3.1 Metacharacters"
      ]
    },
    {
      "cell_type": "markdown",
      "metadata": {
        "id": "8S9tJGE55ROF",
        "colab_type": "text"
      },
      "source": [
        "อักขระพิเศษ"
      ]
    },
    {
      "cell_type": "markdown",
      "metadata": {
        "id": "pNdhBItTdkx6",
        "colab_type": "text"
      },
      "source": [
        "| ตัวอักษร \t| คำอธิบาย                                             \t| ตัวอย่าง   \t|\n",
        "|--------\t|-----------------------------------------------------\t|----------\t|\n",
        "| []     \t| set ของตัวอักษร                                       \t| [a-f]    \t|\n",
        "| \\      \t| เอาไว้นำหน้า Special Sequence เอาไว้ escape ตัวอักษรพิเศษ \t| \\d       \t|\n",
        "| .      \t| ตัวอักษรใด ๆ ยกเว้นขึ้นบรรทัดใหม่                          \t| bu.lding \t|\n",
        "| ^      \t| เริ่มต้นด้วย                                            \t| ^The     \t|\n",
        "| \\$     \t| จบด้วย                                               \t| world\\$  \t|\n",
        "| *      \t| ปรากฎ 0 ครั้ง หรือมากกว่า                               \t| abc*    \t|\n",
        "| +      \t| ปรากฎ 1 ครั้ง หรือมากกว่า                               \t| abc+    \t|\n",
        "| {}     \t| ปรากฎจำนวนครั้งตามที่ระบุ                                \t| lo{2}se  \t|\n",
        "| \\|     \t| อย่างใดอย่างหนึ่ง                                       \t| yes\\|no  \t|\n",
        "| ()     \t| Capture และ group                                   \t|          \t|"
      ]
    },
    {
      "cell_type": "code",
      "metadata": {
        "id": "ryfo4DnJzv-y",
        "colab_type": "code",
        "colab": {}
      },
      "source": [
        "str = \"This list of 100 tallest buildings in Thailand ranks skyscrapers in Thailand by height\""
      ],
      "execution_count": 0,
      "outputs": []
    },
    {
      "cell_type": "code",
      "metadata": {
        "id": "tW0OQZ9sdlGw",
        "colab_type": "code",
        "colab": {
          "base_uri": "https://localhost:8080/",
          "height": 34
        },
        "outputId": "71225280-f551-4081-f2e2-cc37576e7d19"
      },
      "source": [
        "x = re.findall(\"[a-f]\", str)\n",
        "print(x)"
      ],
      "execution_count": 79,
      "outputs": [
        {
          "output_type": "stream",
          "text": [
            "['f', 'a', 'e', 'b', 'd', 'a', 'a', 'd', 'a', 'c', 'a', 'e', 'a', 'a', 'd', 'b', 'e']\n"
          ],
          "name": "stdout"
        }
      ]
    },
    {
      "cell_type": "code",
      "metadata": {
        "id": "4VjCruK1zzQi",
        "colab_type": "code",
        "colab": {
          "base_uri": "https://localhost:8080/",
          "height": 34
        },
        "outputId": "e8c95b9a-35e1-4229-b4b3-2f21ef19b9c9"
      },
      "source": [
        "x = re.findall(\"\\d\", str)\n",
        "print(x)"
      ],
      "execution_count": 80,
      "outputs": [
        {
          "output_type": "stream",
          "text": [
            "['1', '0', '0']\n"
          ],
          "name": "stdout"
        }
      ]
    },
    {
      "cell_type": "code",
      "metadata": {
        "id": "_oiYOMKYzzFa",
        "colab_type": "code",
        "colab": {
          "base_uri": "https://localhost:8080/",
          "height": 34
        },
        "outputId": "c31b8725-7f01-49f6-8849-4b3dfd4fe070"
      },
      "source": [
        "x = re.findall(\"bu.lding\", str)\n",
        "print(x)"
      ],
      "execution_count": 81,
      "outputs": [
        {
          "output_type": "stream",
          "text": [
            "['building']\n"
          ],
          "name": "stdout"
        }
      ]
    },
    {
      "cell_type": "code",
      "metadata": {
        "id": "tNomWg5Hzy6_",
        "colab_type": "code",
        "colab": {
          "base_uri": "https://localhost:8080/",
          "height": 34
        },
        "outputId": "a48f1ea7-a24b-4cb4-a403-69499e6c8b2b"
      },
      "source": [
        "x = re.findall(\"^Th\", str)\n",
        "print(x)"
      ],
      "execution_count": 82,
      "outputs": [
        {
          "output_type": "stream",
          "text": [
            "['Th']\n"
          ],
          "name": "stdout"
        }
      ]
    },
    {
      "cell_type": "code",
      "metadata": {
        "id": "ZJPMgnEOzyvZ",
        "colab_type": "code",
        "colab": {
          "base_uri": "https://localhost:8080/",
          "height": 34
        },
        "outputId": "3c340848-42d6-48a7-abc5-ecab1b558854"
      },
      "source": [
        "x = re.findall(\"ht$\", str)\n",
        "print(x)"
      ],
      "execution_count": 83,
      "outputs": [
        {
          "output_type": "stream",
          "text": [
            "['ht']\n"
          ],
          "name": "stdout"
        }
      ]
    },
    {
      "cell_type": "markdown",
      "metadata": {
        "id": "27Lc-HlYdlRQ",
        "colab_type": "text"
      },
      "source": [
        "## 3.2 Special Sequences"
      ]
    },
    {
      "cell_type": "markdown",
      "metadata": {
        "id": "5xawrqT55ZOq",
        "colab_type": "text"
      },
      "source": [
        "อักขระระบุตำแหน่งลำดับ"
      ]
    },
    {
      "cell_type": "markdown",
      "metadata": {
        "id": "0DUf54N3dlfC",
        "colab_type": "text"
      },
      "source": [
        "| ตัวอักษร \t| คำอธิบาย                                                                                                   \t| ตัวอย่าง             \t|\n",
        "|--------\t|-----------------------------------------------------------------------------------------------------------\t|--------------------\t|\n",
        "| \\A     \t| Returns match ถ้าตัวอักษรที่ระบุอยู่ต้น string                                                                     \t| \\AThe              \t|\n",
        "| \\b     \t| Returns match ถ้าตัวอักษรที่ระบุอยู่ต้น หรือท้ายคำ (ตามตำแหน่งของ \\b)                                                 \t| r\"\\bain\", r\"ain\\b\" \t|\n",
        "| \\B     \t| Returns match ถ้าพบตัวอักษรที่ระบุ ยกเว้นพบที่ต้น หรือท้ายคำ (ตามตำแหน่งของ \\B)                                        \t| r\"\\Bain\", r\"ain\\B\" \t|\n",
        "| \\d     \t| Returns match ถ้าพบตัวเลข 0-9 ใน string                                                                     \t| \\d                 \t|\n",
        "| \\D     \t| Returns match ถ้าไม่พบตัวเลข 0-9 ใน string                                                                   \t| \\D                 \t|\n",
        "| \\s     \t| Returns match ถ้าพบตัวอักษร White Space เช่น space (\" \"), tab (\"\\t\"), newline (\"\\n\"), return (\"\\r\") ใน string \t| \\s                 \t|\n",
        "| \\S     \t| Returns match ถ้าไม่พบตัวอักษร White Space ใน string                                                          \t| \\S                 \t|\n",
        "| \\w     \t| Returns match ถ้าพบตัวอักษรข้อความใด ๆ เช่น (ตัวอักษร a ถึง Z, ตัวเลข 0-9, และ underscore \"_\" )                    \t| \\w                 \t|\n",
        "| \\W     \t| Returns match ถ้าไม่พบตัวอักษรข้อความใด ๆ                                                                      \t| \\W                 \t|\n",
        "| \\Z     \t| Returns match ถ้าตัวอักษรที่ระบุอยู่ท้าย string                                                                    \t| Thailand\\Z         \t|"
      ]
    },
    {
      "cell_type": "code",
      "metadata": {
        "id": "FjyRo8vr5oeG",
        "colab_type": "code",
        "colab": {}
      },
      "source": [
        "str = \"This list of 100 tallest buildings in Thailand ranks skyscrapers in Thailand by height\""
      ],
      "execution_count": 0,
      "outputs": []
    },
    {
      "cell_type": "code",
      "metadata": {
        "id": "J6wDPZ9T5lyF",
        "colab_type": "code",
        "colab": {
          "base_uri": "https://localhost:8080/",
          "height": 34
        },
        "outputId": "cd2669cb-f806-4d32-aa75-600dde216eea"
      },
      "source": [
        "x = re.findall(\"\\AThi\", str)\n",
        "print(x)"
      ],
      "execution_count": 91,
      "outputs": [
        {
          "output_type": "stream",
          "text": [
            "['Thi']\n"
          ],
          "name": "stdout"
        }
      ]
    },
    {
      "cell_type": "code",
      "metadata": {
        "id": "EZOXuTr15lnc",
        "colab_type": "code",
        "colab": {
          "base_uri": "https://localhost:8080/",
          "height": 34
        },
        "outputId": "32e8eb60-021e-4dd8-d71e-47c6ceb60396"
      },
      "source": [
        "x = re.findall(r\"\\band\", str)\n",
        "print(x)"
      ],
      "execution_count": 100,
      "outputs": [
        {
          "output_type": "stream",
          "text": [
            "[]\n"
          ],
          "name": "stdout"
        }
      ]
    },
    {
      "cell_type": "code",
      "metadata": {
        "id": "HC5WkmFy5ldh",
        "colab_type": "code",
        "colab": {
          "base_uri": "https://localhost:8080/",
          "height": 34
        },
        "outputId": "d65a2ba6-37bc-45a4-c3f9-ad78a8667168"
      },
      "source": [
        "x = re.findall(r\"and\\b\", str)\n",
        "print(x)"
      ],
      "execution_count": 101,
      "outputs": [
        {
          "output_type": "stream",
          "text": [
            "['and', 'and']\n"
          ],
          "name": "stdout"
        }
      ]
    },
    {
      "cell_type": "code",
      "metadata": {
        "id": "3HsO1FNV5lTX",
        "colab_type": "code",
        "colab": {
          "base_uri": "https://localhost:8080/",
          "height": 34
        },
        "outputId": "5add0b98-b1bb-4146-d682-b9346c498c92"
      },
      "source": [
        "x = re.findall(r\"\\Band\", str)\n",
        "print(x)"
      ],
      "execution_count": 102,
      "outputs": [
        {
          "output_type": "stream",
          "text": [
            "['and', 'and']\n"
          ],
          "name": "stdout"
        }
      ]
    },
    {
      "cell_type": "code",
      "metadata": {
        "id": "yQKQdTD55lIc",
        "colab_type": "code",
        "colab": {
          "base_uri": "https://localhost:8080/",
          "height": 34
        },
        "outputId": "73abbe01-5edb-46b5-d63f-bde41324c0ca"
      },
      "source": [
        "x = re.findall(r\"and\\B\", str)\n",
        "print(x)"
      ],
      "execution_count": 103,
      "outputs": [
        {
          "output_type": "stream",
          "text": [
            "[]\n"
          ],
          "name": "stdout"
        }
      ]
    },
    {
      "cell_type": "code",
      "metadata": {
        "id": "Tki5URGU6ow7",
        "colab_type": "code",
        "colab": {
          "base_uri": "https://localhost:8080/",
          "height": 34
        },
        "outputId": "6296a8c5-8cb5-4edb-f2c7-f0ec6b8e3d84"
      },
      "source": [
        "x = re.findall(\"\\d\", str)\n",
        "print(x)"
      ],
      "execution_count": 105,
      "outputs": [
        {
          "output_type": "stream",
          "text": [
            "['1', '0', '0']\n"
          ],
          "name": "stdout"
        }
      ]
    },
    {
      "cell_type": "code",
      "metadata": {
        "id": "GiMk8Els6qm9",
        "colab_type": "code",
        "colab": {
          "base_uri": "https://localhost:8080/",
          "height": 54
        },
        "outputId": "42ed0862-30cc-47b5-9208-2708283e1500"
      },
      "source": [
        "x = re.findall(\"\\D\", str)\n",
        "print(x)"
      ],
      "execution_count": 106,
      "outputs": [
        {
          "output_type": "stream",
          "text": [
            "['T', 'h', 'i', 's', ' ', 'l', 'i', 's', 't', ' ', 'o', 'f', ' ', ' ', 't', 'a', 'l', 'l', 'e', 's', 't', ' ', 'b', 'u', 'i', 'l', 'd', 'i', 'n', 'g', 's', ' ', 'i', 'n', ' ', 'T', 'h', 'a', 'i', 'l', 'a', 'n', 'd', ' ', 'r', 'a', 'n', 'k', 's', ' ', 's', 'k', 'y', 's', 'c', 'r', 'a', 'p', 'e', 'r', 's', ' ', 'i', 'n', ' ', 'T', 'h', 'a', 'i', 'l', 'a', 'n', 'd', ' ', 'b', 'y', ' ', 'h', 'e', 'i', 'g', 'h', 't']\n"
          ],
          "name": "stdout"
        }
      ]
    },
    {
      "cell_type": "code",
      "metadata": {
        "id": "dYAYilqi6qtb",
        "colab_type": "code",
        "colab": {
          "base_uri": "https://localhost:8080/",
          "height": 34
        },
        "outputId": "5e1080f3-e093-4861-c1af-84587f49aa3b"
      },
      "source": [
        "x = re.findall(\"\\s\", str)\n",
        "print(x)"
      ],
      "execution_count": 107,
      "outputs": [
        {
          "output_type": "stream",
          "text": [
            "[' ', ' ', ' ', ' ', ' ', ' ', ' ', ' ', ' ', ' ', ' ', ' ', ' ']\n"
          ],
          "name": "stdout"
        }
      ]
    },
    {
      "cell_type": "code",
      "metadata": {
        "id": "GfADdI4964pG",
        "colab_type": "code",
        "colab": {
          "base_uri": "https://localhost:8080/",
          "height": 54
        },
        "outputId": "cf728c2d-f421-4d99-fc83-d6f41c4e82e6"
      },
      "source": [
        "x = re.findall(\"\\S\", str)\n",
        "print(x)"
      ],
      "execution_count": 108,
      "outputs": [
        {
          "output_type": "stream",
          "text": [
            "['T', 'h', 'i', 's', 'l', 'i', 's', 't', 'o', 'f', '1', '0', '0', 't', 'a', 'l', 'l', 'e', 's', 't', 'b', 'u', 'i', 'l', 'd', 'i', 'n', 'g', 's', 'i', 'n', 'T', 'h', 'a', 'i', 'l', 'a', 'n', 'd', 'r', 'a', 'n', 'k', 's', 's', 'k', 'y', 's', 'c', 'r', 'a', 'p', 'e', 'r', 's', 'i', 'n', 'T', 'h', 'a', 'i', 'l', 'a', 'n', 'd', 'b', 'y', 'h', 'e', 'i', 'g', 'h', 't']\n"
          ],
          "name": "stdout"
        }
      ]
    },
    {
      "cell_type": "code",
      "metadata": {
        "id": "caWQ6b7o68nV",
        "colab_type": "code",
        "colab": {
          "base_uri": "https://localhost:8080/",
          "height": 54
        },
        "outputId": "016eb1d1-b258-4619-d35f-fe299f7017d3"
      },
      "source": [
        "x = re.findall(\"\\w\", str)\n",
        "print(x)"
      ],
      "execution_count": 110,
      "outputs": [
        {
          "output_type": "stream",
          "text": [
            "['T', 'h', 'i', 's', 'l', 'i', 's', 't', 'o', 'f', '1', '0', '0', 't', 'a', 'l', 'l', 'e', 's', 't', 'b', 'u', 'i', 'l', 'd', 'i', 'n', 'g', 's', 'i', 'n', 'T', 'h', 'a', 'i', 'l', 'a', 'n', 'd', 'r', 'a', 'n', 'k', 's', 's', 'k', 'y', 's', 'c', 'r', 'a', 'p', 'e', 'r', 's', 'i', 'n', 'T', 'h', 'a', 'i', 'l', 'a', 'n', 'd', 'b', 'y', 'h', 'e', 'i', 'g', 'h', 't']\n"
          ],
          "name": "stdout"
        }
      ]
    },
    {
      "cell_type": "code",
      "metadata": {
        "id": "rQqo4eSJ68tD",
        "colab_type": "code",
        "colab": {
          "base_uri": "https://localhost:8080/",
          "height": 34
        },
        "outputId": "6981cf5c-33c5-4a83-eea5-789c9edcfacc"
      },
      "source": [
        "x = re.findall(\"\\W\", str)\n",
        "print(x)"
      ],
      "execution_count": 111,
      "outputs": [
        {
          "output_type": "stream",
          "text": [
            "[' ', ' ', ' ', ' ', ' ', ' ', ' ', ' ', ' ', ' ', ' ', ' ', ' ']\n"
          ],
          "name": "stdout"
        }
      ]
    },
    {
      "cell_type": "code",
      "metadata": {
        "id": "lxYAxY1q68w4",
        "colab_type": "code",
        "colab": {
          "base_uri": "https://localhost:8080/",
          "height": 34
        },
        "outputId": "db52fc69-ef73-4b61-c0dd-f605a4f5caf3"
      },
      "source": [
        "x = re.findall(\"ght\\Z\", str)\n",
        "print(x)"
      ],
      "execution_count": 109,
      "outputs": [
        {
          "output_type": "stream",
          "text": [
            "['ght']\n"
          ],
          "name": "stdout"
        }
      ]
    },
    {
      "cell_type": "markdown",
      "metadata": {
        "id": "qYWJPoYDdwxj",
        "colab_type": "text"
      },
      "source": [
        "## 3.3 Sets"
      ]
    },
    {
      "cell_type": "code",
      "metadata": {
        "id": "bb2XGMFEcnnj",
        "colab_type": "code",
        "colab": {}
      },
      "source": [
        ""
      ],
      "execution_count": 0,
      "outputs": []
    },
    {
      "cell_type": "code",
      "metadata": {
        "id": "LsSYUhhUdyRE",
        "colab_type": "code",
        "colab": {}
      },
      "source": [
        ""
      ],
      "execution_count": 0,
      "outputs": []
    },
    {
      "cell_type": "code",
      "metadata": {
        "id": "sn14mCVidyVu",
        "colab_type": "code",
        "colab": {}
      },
      "source": [
        ""
      ],
      "execution_count": 0,
      "outputs": []
    },
    {
      "cell_type": "markdown",
      "metadata": {
        "id": "maZHGF5ycyHf",
        "colab_type": "text"
      },
      "source": [
        "# 4. Match Object"
      ]
    },
    {
      "cell_type": "code",
      "metadata": {
        "id": "CMAl5Gvbc0Jz",
        "colab_type": "code",
        "colab": {}
      },
      "source": [
        ""
      ],
      "execution_count": 0,
      "outputs": []
    },
    {
      "cell_type": "code",
      "metadata": {
        "id": "CodKBJPzc0At",
        "colab_type": "code",
        "colab": {}
      },
      "source": [
        ""
      ],
      "execution_count": 0,
      "outputs": []
    },
    {
      "cell_type": "code",
      "metadata": {
        "id": "ZYCGFgCUcz3s",
        "colab_type": "code",
        "colab": {}
      },
      "source": [
        ""
      ],
      "execution_count": 0,
      "outputs": []
    },
    {
      "cell_type": "markdown",
      "metadata": {
        "id": "6Ow0YXVKZ9O7",
        "colab_type": "text"
      },
      "source": [
        "# Credit"
      ]
    },
    {
      "cell_type": "markdown",
      "metadata": {
        "id": "xFmONzJGbycc",
        "colab_type": "text"
      },
      "source": [
        "* https://github.com/fastai/course-nlp/blob/master/4-regex.ipynb\n",
        "* https://docs.python.org/2/library/re.html\n",
        "* https://www.w3schools.com/python/python_regex.asp\n",
        "* https://medium.com/factory-mind/regex-tutorial-a-simple-cheatsheet-by-examples-649dc1c3f285\n",
        "* https://medium.com/factory-mind/regex-cookbook-most-wanted-regex-aa721558c3c1\n",
        "* https://regexone.com/\n"
      ]
    },
    {
      "cell_type": "code",
      "metadata": {
        "id": "hb4LRrDdbzWG",
        "colab_type": "code",
        "colab": {}
      },
      "source": [
        ""
      ],
      "execution_count": 0,
      "outputs": []
    }
  ]
}