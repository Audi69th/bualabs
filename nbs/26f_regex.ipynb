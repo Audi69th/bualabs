{
  "nbformat": 4,
  "nbformat_minor": 0,
  "metadata": {
    "colab": {
      "name": "26f-regex.ipynb",
      "provenance": []
    },
    "kernelspec": {
      "name": "python3",
      "display_name": "Python 3"
    }
  },
  "cells": [
    {
      "cell_type": "markdown",
      "metadata": {
        "id": "vknSJMNAcdhJ",
        "colab_type": "text"
      },
      "source": [
        "ในงาน NLP เรามักจะต้องเจอกับ การจัดการ String Format ที่ค่อนข้างซับซ้อน เช่น หาอีเมล์ หาเบอร์โทรศัพท์ หาลิงค์ ถ้าเราต้องเขียนโปรแกรม if else วนลูป เช็คเองทุกเคส โปรแกรมจะซับซ้อนมาก วิธีแก้ที่เป็นที่นิยม คือ ใช้ Regular Expression (RegExp, RE) \n",
        "\n",
        "Regular Expression เป็นที่นิยมมาก เนื่องจากแก้ปัญหาที่ทุกคนต้องเจอ ซ้ำ ๆ อย่างมีประสิทธิภาพ เราจะพบ Regular Expresion ได้ในทุกภาษา Programming, Tools, Editor ชั้นนำ แต่ Pattern ที่ใช้อาจจะต่างกันเล็กน้อย"
      ]
    },
    {
      "cell_type": "markdown",
      "metadata": {
        "id": "okgsFvtocebc",
        "colab_type": "text"
      },
      "source": [
        "# 1. Import"
      ]
    },
    {
      "cell_type": "markdown",
      "metadata": {
        "id": "VXsqxKAcebst",
        "colab_type": "text"
      },
      "source": [
        "import Regular Expression (re) package สำหรับใช้ใน Python"
      ]
    },
    {
      "cell_type": "code",
      "metadata": {
        "id": "Tj0alVCQYwwC",
        "colab_type": "code",
        "colab": {}
      },
      "source": [
        "import re"
      ],
      "execution_count": 0,
      "outputs": []
    },
    {
      "cell_type": "markdown",
      "metadata": {
        "id": "pWD1tHIRchRY",
        "colab_type": "text"
      },
      "source": [
        "# 2. Function"
      ]
    },
    {
      "cell_type": "markdown",
      "metadata": {
        "id": "CqtkPfCSeCVl",
        "colab_type": "text"
      },
      "source": [
        "ตัวอย่างการใช้งาน เช็คดู String ไหน ว่าตรงตาม Pattern ที่กำหนด"
      ]
    },
    {
      "cell_type": "code",
      "metadata": {
        "id": "QWM6WflsMrjF",
        "colab_type": "code",
        "colab": {}
      },
      "source": [
        "# pat = Pattern\n",
        "pat = \"^The.*Thailand$\"\n",
        "\n",
        "# strs = Strings\n",
        "strs = [\"The list ranks completed buildings in Thailand\", \n",
        "        \"The tallest building in Thailand.\", \n",
        "        \"Weather in Thailand\", \n",
        "        \"They recently visited Chiang Mai, Thailand\"]"
      ],
      "execution_count": 0,
      "outputs": []
    },
    {
      "cell_type": "markdown",
      "metadata": {
        "id": "xVv7xpXvgRhl",
        "colab_type": "text"
      },
      "source": [
        "เรียกฟังก์ชัน search หา Pattern ใน String ในที่นี้คือ เริ่มต้นด้วย \"The\" ต่อด้วยอะไรก็ได้ แล้ว ลงท้ายด้วย \"Thailand\""
      ]
    },
    {
      "cell_type": "code",
      "metadata": {
        "id": "-73uqhBcaifv",
        "colab_type": "code",
        "colab": {
          "base_uri": "https://localhost:8080/",
          "height": 85
        },
        "outputId": "6889d34e-7045-4b5b-bebe-571f8072109f"
      },
      "source": [
        "[re.search(pat, s) for s in strs]"
      ],
      "execution_count": 4,
      "outputs": [
        {
          "output_type": "execute_result",
          "data": {
            "text/plain": [
              "[<_sre.SRE_Match object; span=(0, 46), match='The list ranks completed buildings in Thailand'>,\n",
              " None,\n",
              " None,\n",
              " <_sre.SRE_Match object; span=(0, 42), match='They recently visited Chiang Mai, Thailand'>]"
            ]
          },
          "metadata": {
            "tags": []
          },
          "execution_count": 4
        }
      ]
    },
    {
      "cell_type": "markdown",
      "metadata": {
        "id": "USQDNa3egchO",
        "colab_type": "text"
      },
      "source": [
        "จะเจอตัวแรก และตัวสุดท้าย เนื่องจากทั้งสองตัวเริ่มต้นด้วย \"The\" ต่อด้วยอะไรก็ได้ แล้ว ลงท้ายด้วย \"Thailand\" แต่ ตัวที่สองมีจุด full stop และตัวที่ 3 ไม่ได้เริ่มต้นด้วย \"The\""
      ]
    },
    {
      "cell_type": "markdown",
      "metadata": {
        "id": "J1a19Z8qY8lK",
        "colab_type": "text"
      },
      "source": [
        "ใน re package จะมี function ที่ใช้บ่อย ๆ ดังนี้\n",
        "\n",
        "* re.search(pattern, string, flags=0) สแกน String หาตำแหน่งแรกที่ Match Pattern ที่กำหนดแล้ว Return Match Object ที่ระบุข้อมูลการ Match ถ้าไม่เจอ Return None\n",
        "\n",
        "* re.findall(pattern, string, flags=0)\tReturn list of strings ที่ Match Pattern ที่กำหนด ถ้าไม่ Match return None.\n",
        "\n",
        "* re.split(pattern, string, maxsplit=0, flags=0) แบ่ง String ณ จุดที่ Match Pattern ถ้ามีการใช้ วงเล็บจับข้อมูล ก็จะ Return ลิสต์ของข้อความที่จับได้\n",
        "\n",
        "* re.sub(pattern, repl, string, count=0, flags=0) Return string จากการแทนค่า repl ใน string ตาม Pattern ที่กำหนด ถ้าไม่ Match ก็ Return string ต้นฉบับ, repl สามารถเป็นได้ทั้ง string pattern และ function\n",
        "\n",
        "ดูตัวอย่างจะเห็นภาพ ชัดกว่า"
      ]
    },
    {
      "cell_type": "markdown",
      "metadata": {
        "id": "Vfds6bw9d5bu",
        "colab_type": "text"
      },
      "source": [
        "## 2.1 search"
      ]
    },
    {
      "cell_type": "markdown",
      "metadata": {
        "id": "qS0-CEiSorwL",
        "colab_type": "text"
      },
      "source": [
        "หา white space (\\s)"
      ]
    },
    {
      "cell_type": "code",
      "metadata": {
        "id": "RRmhIfZrd1sI",
        "colab_type": "code",
        "colab": {
          "base_uri": "https://localhost:8080/",
          "height": 34
        },
        "outputId": "4781ca92-e416-416c-ac20-ca5cd6ad9082"
      },
      "source": [
        "str = \"This list of tallest buildings in Thailand ranks skyscrapers in Thailand by height.\"\n",
        "x = re.search(\"\\s\", str)\n",
        "\n",
        "print(\"The first white-space character is located in position:\", x.start())"
      ],
      "execution_count": 5,
      "outputs": [
        {
          "output_type": "stream",
          "text": [
            "The first white-space character is located in position: 4\n"
          ],
          "name": "stdout"
        }
      ]
    },
    {
      "cell_type": "markdown",
      "metadata": {
        "id": "hZP0xqG2oo6S",
        "colab_type": "text"
      },
      "source": [
        "กรณีไม่ Match"
      ]
    },
    {
      "cell_type": "code",
      "metadata": {
        "id": "muc5LyiZonPT",
        "colab_type": "code",
        "colab": {
          "base_uri": "https://localhost:8080/",
          "height": 34
        },
        "outputId": "e1b8a97c-9bbd-4df7-a0b2-5ff2cc8bc8e8"
      },
      "source": [
        "str = \"This list of tallest buildings in Thailand ranks skyscrapers in Thailand by height.\"\n",
        "x = re.search(\"Taiwan\", str)\n",
        "print(x)"
      ],
      "execution_count": 6,
      "outputs": [
        {
          "output_type": "stream",
          "text": [
            "None\n"
          ],
          "name": "stdout"
        }
      ]
    },
    {
      "cell_type": "markdown",
      "metadata": {
        "id": "N-X1vaygd1bk",
        "colab_type": "text"
      },
      "source": [
        "## 2.2 findall"
      ]
    },
    {
      "cell_type": "markdown",
      "metadata": {
        "id": "nRZTlv1BpdsF",
        "colab_type": "text"
      },
      "source": [
        "หา Pattern แล้ว return string ที่ตรง Pattern คำว่า \"la\""
      ]
    },
    {
      "cell_type": "code",
      "metadata": {
        "id": "LN67Yvs7d1nR",
        "colab_type": "code",
        "colab": {
          "base_uri": "https://localhost:8080/",
          "height": 34
        },
        "outputId": "6b9fc085-9354-46c9-f75f-e89d4c725c35"
      },
      "source": [
        "str = \"This list of tallest buildings in Thailand ranks skyscrapers in Thailand by height.\"\n",
        "x = re.findall(\"la\", str)\n",
        "print(x)"
      ],
      "execution_count": 7,
      "outputs": [
        {
          "output_type": "stream",
          "text": [
            "['la', 'la']\n"
          ],
          "name": "stdout"
        }
      ]
    },
    {
      "cell_type": "markdown",
      "metadata": {
        "id": "zmbFXeoKppvR",
        "colab_type": "text"
      },
      "source": [
        "Th แล้วต่อด้วยอักษรอะไรก็ได้ 1 ตัว"
      ]
    },
    {
      "cell_type": "code",
      "metadata": {
        "id": "0W4Ge6NMd5Vm",
        "colab_type": "code",
        "colab": {
          "base_uri": "https://localhost:8080/",
          "height": 34
        },
        "outputId": "f5bd2825-7b17-4047-f27c-f3f894a37b2d"
      },
      "source": [
        "str = \"This list of tallest buildings in Thailand ranks skyscrapers in Thailand by height.\"\n",
        "x = re.findall(\"Th.\", str)\n",
        "print(x)"
      ],
      "execution_count": 8,
      "outputs": [
        {
          "output_type": "stream",
          "text": [
            "['Thi', 'Tha', 'Tha']\n"
          ],
          "name": "stdout"
        }
      ]
    },
    {
      "cell_type": "markdown",
      "metadata": {
        "id": "pwZV0DOPp6w-",
        "colab_type": "text"
      },
      "source": [
        "ในกรณี ไม่ Match เลย จะ Return Empty List"
      ]
    },
    {
      "cell_type": "code",
      "metadata": {
        "id": "pqqIw-DgppKS",
        "colab_type": "code",
        "colab": {
          "base_uri": "https://localhost:8080/",
          "height": 34
        },
        "outputId": "dd3f6bcd-0ae2-42c6-9bfb-c1b274079257"
      },
      "source": [
        "str = \"This list of tallest buildings in Thailand ranks skyscrapers in Thailand by height.\"\n",
        "x = re.findall(\"Japan\", str)\n",
        "print(x)"
      ],
      "execution_count": 9,
      "outputs": [
        {
          "output_type": "stream",
          "text": [
            "[]\n"
          ],
          "name": "stdout"
        }
      ]
    },
    {
      "cell_type": "markdown",
      "metadata": {
        "id": "G_qfqYZud7VX",
        "colab_type": "text"
      },
      "source": [
        "## 2.3 split"
      ]
    },
    {
      "cell_type": "markdown",
      "metadata": {
        "id": "JPrCwRx4qPyH",
        "colab_type": "text"
      },
      "source": [
        "Split เมื่อ Match 1 space (\\s) จะ Return list ของ string ที่ถูก Split"
      ]
    },
    {
      "cell_type": "code",
      "metadata": {
        "id": "8xiTahSKdX2e",
        "colab_type": "code",
        "colab": {
          "base_uri": "https://localhost:8080/",
          "height": 34
        },
        "outputId": "5a731e0c-7077-4777-8bbc-5bd8d37bfec3"
      },
      "source": [
        "str = \"This list of tallest buildings in Thailand ranks skyscrapers in Thailand by height.\"\n",
        "x = re.split(\"\\s\", str)\n",
        "print(x)"
      ],
      "execution_count": 10,
      "outputs": [
        {
          "output_type": "stream",
          "text": [
            "['This', 'list', 'of', 'tallest', 'buildings', 'in', 'Thailand', 'ranks', 'skyscrapers', 'in', 'Thailand', 'by', 'height.']\n"
          ],
          "name": "stdout"
        }
      ]
    },
    {
      "cell_type": "markdown",
      "metadata": {
        "id": "BMFmJZQ6qijd",
        "colab_type": "text"
      },
      "source": [
        "Limit ว่าต้องการไม่เกิน 2 รายการ ที่เหลือไม่ต้อง Split"
      ]
    },
    {
      "cell_type": "code",
      "metadata": {
        "id": "fABX6kx_d9K7",
        "colab_type": "code",
        "colab": {
          "base_uri": "https://localhost:8080/",
          "height": 34
        },
        "outputId": "37f950b7-4bc4-4ad3-89ec-b512545f0ff8"
      },
      "source": [
        "str = \"This list of tallest buildings in Thailand ranks skyscrapers in Thailand by height.\"\n",
        "x = re.split(\"\\s\", str, 2)\n",
        "print(x)"
      ],
      "execution_count": 11,
      "outputs": [
        {
          "output_type": "stream",
          "text": [
            "['This', 'list', 'of tallest buildings in Thailand ranks skyscrapers in Thailand by height.']\n"
          ],
          "name": "stdout"
        }
      ]
    },
    {
      "cell_type": "markdown",
      "metadata": {
        "id": "kIiyrLMdd9Oq",
        "colab_type": "text"
      },
      "source": [
        "## 2.4 sub"
      ]
    },
    {
      "cell_type": "markdown",
      "metadata": {
        "id": "y-vLK7CvrAq1",
        "colab_type": "text"
      },
      "source": [
        "เปลี่ยน space (\\s) เป็นเลข 0 ให้หมด"
      ]
    },
    {
      "cell_type": "code",
      "metadata": {
        "id": "Ij2vWyHRdX7M",
        "colab_type": "code",
        "colab": {
          "base_uri": "https://localhost:8080/",
          "height": 34
        },
        "outputId": "c769fcd2-8534-43f6-aa32-254d2ea13772"
      },
      "source": [
        "str = \"This list of tallest buildings in Thailand ranks skyscrapers in Thailand by height.\"\n",
        "x = re.sub(\"\\s\", \"0\", str)\n",
        "print(x)"
      ],
      "execution_count": 12,
      "outputs": [
        {
          "output_type": "stream",
          "text": [
            "This0list0of0tallest0buildings0in0Thailand0ranks0skyscrapers0in0Thailand0by0height.\n"
          ],
          "name": "stdout"
        }
      ]
    },
    {
      "cell_type": "markdown",
      "metadata": {
        "id": "_LNa3fAit4tr",
        "colab_type": "text"
      },
      "source": [
        "Limit ว่าต้องการเปลี่ยนไม่เกิน 2 อันแรก ที่เหลือไม่ต้อง"
      ]
    },
    {
      "cell_type": "code",
      "metadata": {
        "id": "WhNSEs60rFzX",
        "colab_type": "code",
        "colab": {
          "base_uri": "https://localhost:8080/",
          "height": 34
        },
        "outputId": "4fbe58ee-5931-4aa7-c046-e55c29104136"
      },
      "source": [
        "str = \"This list of tallest buildings in Thailand ranks skyscrapers in Thailand by height.\"\n",
        "x = re.sub(\"\\s\", \"0\", str, 2)\n",
        "print(x)"
      ],
      "execution_count": 13,
      "outputs": [
        {
          "output_type": "stream",
          "text": [
            "This0list0of tallest buildings in Thailand ranks skyscrapers in Thailand by height.\n"
          ],
          "name": "stdout"
        }
      ]
    },
    {
      "cell_type": "markdown",
      "metadata": {
        "id": "Seq8Vxx7cn6R",
        "colab_type": "text"
      },
      "source": [
        "# 3. Pattern"
      ]
    },
    {
      "cell_type": "markdown",
      "metadata": {
        "id": "l0MbnwIccnxZ",
        "colab_type": "text"
      },
      "source": [
        "## 3.1 Metacharacters"
      ]
    },
    {
      "cell_type": "markdown",
      "metadata": {
        "id": "8S9tJGE55ROF",
        "colab_type": "text"
      },
      "source": [
        "อักขระพิเศษ"
      ]
    },
    {
      "cell_type": "markdown",
      "metadata": {
        "id": "pNdhBItTdkx6",
        "colab_type": "text"
      },
      "source": [
        "| ตัวอักษร \t| คำอธิบาย                                             \t| ตัวอย่าง   \t|\n",
        "|--------\t|-----------------------------------------------------\t|----------\t|\n",
        "| []     \t| set ของตัวอักษร                                       \t| [a-f]    \t|\n",
        "| \\      \t| เอาไว้นำหน้า Special Sequence เอาไว้ escape ตัวอักษรพิเศษ \t| \\d       \t|\n",
        "| .      \t| ตัวอักษรใด ๆ ยกเว้นขึ้นบรรทัดใหม่                          \t| c.t \t|\n",
        "| ^      \t| เริ่มต้นด้วย                                            \t| ^The     \t|\n",
        "| \\$     \t| จบด้วย                                               \t| world\\$  \t|\n",
        "| *      \t| ปรากฎ 0 ครั้ง หรือมากกว่า                               \t| abc*    \t|\n",
        "| +      \t| ปรากฎ 1 ครั้ง หรือมากกว่า                               \t| abc+    \t|\n",
        "| {}     \t| ปรากฎจำนวนครั้งตามที่ระบุ                                \t| lo{2}se  \t|\n",
        "| &#124;     \t| อย่างใดอย่างหนึ่ง                                       \t| yes&#124;no  \t|\n",
        "| ()     \t| Capture และ group                                   \t|          \t|"
      ]
    },
    {
      "cell_type": "code",
      "metadata": {
        "id": "ryfo4DnJzv-y",
        "colab_type": "code",
        "colab": {}
      },
      "source": [
        "str = \"This list of 100 tallest buildings in Thailand ranks skyscrapers in Thailand by height\""
      ],
      "execution_count": 0,
      "outputs": []
    },
    {
      "cell_type": "code",
      "metadata": {
        "id": "tW0OQZ9sdlGw",
        "colab_type": "code",
        "colab": {
          "base_uri": "https://localhost:8080/",
          "height": 34
        },
        "outputId": "3e855a43-bf64-4dad-c583-d4dab39e08f9"
      },
      "source": [
        "x = re.findall(\"[a-f]\", str)\n",
        "print(x)"
      ],
      "execution_count": 15,
      "outputs": [
        {
          "output_type": "stream",
          "text": [
            "['f', 'a', 'e', 'b', 'd', 'a', 'a', 'd', 'a', 'c', 'a', 'e', 'a', 'a', 'd', 'b', 'e']\n"
          ],
          "name": "stdout"
        }
      ]
    },
    {
      "cell_type": "code",
      "metadata": {
        "id": "4VjCruK1zzQi",
        "colab_type": "code",
        "colab": {
          "base_uri": "https://localhost:8080/",
          "height": 34
        },
        "outputId": "a4c57e62-a1a5-479c-f3c8-4d6ef42347ae"
      },
      "source": [
        "x = re.findall(\"\\d\", str)\n",
        "print(x)"
      ],
      "execution_count": 16,
      "outputs": [
        {
          "output_type": "stream",
          "text": [
            "['1', '0', '0']\n"
          ],
          "name": "stdout"
        }
      ]
    },
    {
      "cell_type": "code",
      "metadata": {
        "id": "_oiYOMKYzzFa",
        "colab_type": "code",
        "colab": {
          "base_uri": "https://localhost:8080/",
          "height": 34
        },
        "outputId": "89abfeec-1c14-4c88-e36f-232295c032d6"
      },
      "source": [
        "x = re.findall(\"bu.lding\", str)\n",
        "print(x)"
      ],
      "execution_count": 17,
      "outputs": [
        {
          "output_type": "stream",
          "text": [
            "['building']\n"
          ],
          "name": "stdout"
        }
      ]
    },
    {
      "cell_type": "code",
      "metadata": {
        "id": "tNomWg5Hzy6_",
        "colab_type": "code",
        "colab": {
          "base_uri": "https://localhost:8080/",
          "height": 34
        },
        "outputId": "ae1026ab-0e7e-40d9-c95a-284cb6e18a8c"
      },
      "source": [
        "x = re.findall(\"^Th\", str)\n",
        "print(x)"
      ],
      "execution_count": 18,
      "outputs": [
        {
          "output_type": "stream",
          "text": [
            "['Th']\n"
          ],
          "name": "stdout"
        }
      ]
    },
    {
      "cell_type": "code",
      "metadata": {
        "id": "ZJPMgnEOzyvZ",
        "colab_type": "code",
        "colab": {
          "base_uri": "https://localhost:8080/",
          "height": 34
        },
        "outputId": "8e75c460-8e01-4487-d900-296e64f43bd9"
      },
      "source": [
        "x = re.findall(\"ght$\", str)\n",
        "print(x)"
      ],
      "execution_count": 19,
      "outputs": [
        {
          "output_type": "stream",
          "text": [
            "['ght']\n"
          ],
          "name": "stdout"
        }
      ]
    },
    {
      "cell_type": "markdown",
      "metadata": {
        "id": "27Lc-HlYdlRQ",
        "colab_type": "text"
      },
      "source": [
        "## 3.2 Special Sequences"
      ]
    },
    {
      "cell_type": "markdown",
      "metadata": {
        "id": "5xawrqT55ZOq",
        "colab_type": "text"
      },
      "source": [
        "อักขระระบุตำแหน่งลำดับ"
      ]
    },
    {
      "cell_type": "markdown",
      "metadata": {
        "id": "0DUf54N3dlfC",
        "colab_type": "text"
      },
      "source": [
        "| ตัวอักษร \t| คำอธิบาย                                                                                                   \t| ตัวอย่าง             \t|\n",
        "|--------\t|-----------------------------------------------------------------------------------------------------------\t|--------------------\t|\n",
        "| \\A     \t| Return ถ้าตัวอักษรที่ระบุอยู่ต้น string                                                                     \t| \\AThe              \t|\n",
        "| \\b     \t| Return ถ้าตัวอักษรที่ระบุอยู่ต้น หรือท้ายคำ (ตามตำแหน่งของ \\b)                                                 \t| r\"\\bain\", r\"ain\\b\" \t|\n",
        "| \\B     \t| Return ถ้าพบตัวอักษรที่ระบุ ยกเว้นพบที่ต้น หรือท้ายคำ (ตามตำแหน่งของ \\B)                                        \t| r\"\\Bain\", r\"ain\\B\" \t|\n",
        "| \\d     \t| Return ถ้าพบตัวเลข 0-9 ใน string                                                                     \t| \\d                 \t|\n",
        "| \\D     \t| Return ถ้าไม่พบตัวเลข 0-9 ใน string                                                                   \t| \\D                 \t|\n",
        "| \\s     \t| Return ถ้าพบตัวอักษร White Space เช่น space (\" \"), tab (\"\\t\"), newline (\"\\n\"), return (\"\\r\") ใน string \t| \\s                 \t|\n",
        "| \\S     \t| Return ถ้าไม่พบตัวอักษร White Space ใน string                                                          \t| \\S                 \t|\n",
        "| \\w     \t| Return ถ้าพบตัวอักษรข้อความใด ๆ เช่น (ตัวอักษร a ถึง Z, ตัวเลข 0-9, และ underscore \"_\" )                    \t| \\w                 \t|\n",
        "| \\W     \t| Return ถ้าไม่พบตัวอักษรข้อความใด ๆ                                                                      \t| \\W                 \t|\n",
        "| \\Z     \t| Return ถ้าตัวอักษรที่ระบุอยู่ท้าย string                                                                    \t| Thailand\\Z         \t|"
      ]
    },
    {
      "cell_type": "code",
      "metadata": {
        "id": "FjyRo8vr5oeG",
        "colab_type": "code",
        "colab": {}
      },
      "source": [
        "str = \"This list of 100 tallest buildings in Thailand ranks skyscrapers in Thailand by height\""
      ],
      "execution_count": 0,
      "outputs": []
    },
    {
      "cell_type": "code",
      "metadata": {
        "id": "J6wDPZ9T5lyF",
        "colab_type": "code",
        "colab": {
          "base_uri": "https://localhost:8080/",
          "height": 34
        },
        "outputId": "a212853c-b23b-4265-863f-22d3fc773f22"
      },
      "source": [
        "x = re.findall(\"\\AThi\", str)\n",
        "print(x)"
      ],
      "execution_count": 21,
      "outputs": [
        {
          "output_type": "stream",
          "text": [
            "['Thi']\n"
          ],
          "name": "stdout"
        }
      ]
    },
    {
      "cell_type": "code",
      "metadata": {
        "id": "EZOXuTr15lnc",
        "colab_type": "code",
        "colab": {
          "base_uri": "https://localhost:8080/",
          "height": 34
        },
        "outputId": "fab1ef8a-3ca3-40a4-c461-3d2b5be71a4f"
      },
      "source": [
        "x = re.findall(r\"\\band\", str)\n",
        "print(x)"
      ],
      "execution_count": 22,
      "outputs": [
        {
          "output_type": "stream",
          "text": [
            "[]\n"
          ],
          "name": "stdout"
        }
      ]
    },
    {
      "cell_type": "code",
      "metadata": {
        "id": "HC5WkmFy5ldh",
        "colab_type": "code",
        "colab": {
          "base_uri": "https://localhost:8080/",
          "height": 34
        },
        "outputId": "95ca5647-a5bb-4f7a-8761-a2cfc673797c"
      },
      "source": [
        "x = re.findall(r\"and\\b\", str)\n",
        "print(x)"
      ],
      "execution_count": 23,
      "outputs": [
        {
          "output_type": "stream",
          "text": [
            "['and', 'and']\n"
          ],
          "name": "stdout"
        }
      ]
    },
    {
      "cell_type": "code",
      "metadata": {
        "id": "3HsO1FNV5lTX",
        "colab_type": "code",
        "colab": {
          "base_uri": "https://localhost:8080/",
          "height": 34
        },
        "outputId": "fe15e236-8ad9-4fa9-aa24-f4b8be9185db"
      },
      "source": [
        "x = re.findall(r\"\\Band\", str)\n",
        "print(x)"
      ],
      "execution_count": 24,
      "outputs": [
        {
          "output_type": "stream",
          "text": [
            "['and', 'and']\n"
          ],
          "name": "stdout"
        }
      ]
    },
    {
      "cell_type": "code",
      "metadata": {
        "id": "yQKQdTD55lIc",
        "colab_type": "code",
        "colab": {
          "base_uri": "https://localhost:8080/",
          "height": 34
        },
        "outputId": "0221e431-ba31-4d8d-90ea-a5f465000dc3"
      },
      "source": [
        "x = re.findall(r\"and\\B\", str)\n",
        "print(x)"
      ],
      "execution_count": 25,
      "outputs": [
        {
          "output_type": "stream",
          "text": [
            "[]\n"
          ],
          "name": "stdout"
        }
      ]
    },
    {
      "cell_type": "code",
      "metadata": {
        "id": "Tki5URGU6ow7",
        "colab_type": "code",
        "colab": {
          "base_uri": "https://localhost:8080/",
          "height": 34
        },
        "outputId": "53d3a745-5d4e-4724-be34-69e4af022718"
      },
      "source": [
        "x = re.findall(\"\\d\", str)\n",
        "print(x)"
      ],
      "execution_count": 26,
      "outputs": [
        {
          "output_type": "stream",
          "text": [
            "['1', '0', '0']\n"
          ],
          "name": "stdout"
        }
      ]
    },
    {
      "cell_type": "code",
      "metadata": {
        "id": "GiMk8Els6qm9",
        "colab_type": "code",
        "colab": {
          "base_uri": "https://localhost:8080/",
          "height": 54
        },
        "outputId": "ffc83fad-dcbe-41e6-929d-22a06e81e47b"
      },
      "source": [
        "x = re.findall(\"\\D\", str)\n",
        "print(x)"
      ],
      "execution_count": 27,
      "outputs": [
        {
          "output_type": "stream",
          "text": [
            "['T', 'h', 'i', 's', ' ', 'l', 'i', 's', 't', ' ', 'o', 'f', ' ', ' ', 't', 'a', 'l', 'l', 'e', 's', 't', ' ', 'b', 'u', 'i', 'l', 'd', 'i', 'n', 'g', 's', ' ', 'i', 'n', ' ', 'T', 'h', 'a', 'i', 'l', 'a', 'n', 'd', ' ', 'r', 'a', 'n', 'k', 's', ' ', 's', 'k', 'y', 's', 'c', 'r', 'a', 'p', 'e', 'r', 's', ' ', 'i', 'n', ' ', 'T', 'h', 'a', 'i', 'l', 'a', 'n', 'd', ' ', 'b', 'y', ' ', 'h', 'e', 'i', 'g', 'h', 't']\n"
          ],
          "name": "stdout"
        }
      ]
    },
    {
      "cell_type": "code",
      "metadata": {
        "id": "dYAYilqi6qtb",
        "colab_type": "code",
        "colab": {
          "base_uri": "https://localhost:8080/",
          "height": 34
        },
        "outputId": "18d7aac1-f7bb-4c4d-d74d-6b6b7cb1ca96"
      },
      "source": [
        "x = re.findall(\"\\s\", str)\n",
        "print(x)"
      ],
      "execution_count": 28,
      "outputs": [
        {
          "output_type": "stream",
          "text": [
            "[' ', ' ', ' ', ' ', ' ', ' ', ' ', ' ', ' ', ' ', ' ', ' ', ' ']\n"
          ],
          "name": "stdout"
        }
      ]
    },
    {
      "cell_type": "code",
      "metadata": {
        "id": "GfADdI4964pG",
        "colab_type": "code",
        "colab": {
          "base_uri": "https://localhost:8080/",
          "height": 54
        },
        "outputId": "64341b9a-c344-4c86-dd1d-014d0ff8a965"
      },
      "source": [
        "x = re.findall(\"\\S\", str)\n",
        "print(x)"
      ],
      "execution_count": 29,
      "outputs": [
        {
          "output_type": "stream",
          "text": [
            "['T', 'h', 'i', 's', 'l', 'i', 's', 't', 'o', 'f', '1', '0', '0', 't', 'a', 'l', 'l', 'e', 's', 't', 'b', 'u', 'i', 'l', 'd', 'i', 'n', 'g', 's', 'i', 'n', 'T', 'h', 'a', 'i', 'l', 'a', 'n', 'd', 'r', 'a', 'n', 'k', 's', 's', 'k', 'y', 's', 'c', 'r', 'a', 'p', 'e', 'r', 's', 'i', 'n', 'T', 'h', 'a', 'i', 'l', 'a', 'n', 'd', 'b', 'y', 'h', 'e', 'i', 'g', 'h', 't']\n"
          ],
          "name": "stdout"
        }
      ]
    },
    {
      "cell_type": "code",
      "metadata": {
        "id": "caWQ6b7o68nV",
        "colab_type": "code",
        "colab": {
          "base_uri": "https://localhost:8080/",
          "height": 54
        },
        "outputId": "0d89d06d-7d72-4017-9556-ad920ad51526"
      },
      "source": [
        "x = re.findall(\"\\w\", str)\n",
        "print(x)"
      ],
      "execution_count": 30,
      "outputs": [
        {
          "output_type": "stream",
          "text": [
            "['T', 'h', 'i', 's', 'l', 'i', 's', 't', 'o', 'f', '1', '0', '0', 't', 'a', 'l', 'l', 'e', 's', 't', 'b', 'u', 'i', 'l', 'd', 'i', 'n', 'g', 's', 'i', 'n', 'T', 'h', 'a', 'i', 'l', 'a', 'n', 'd', 'r', 'a', 'n', 'k', 's', 's', 'k', 'y', 's', 'c', 'r', 'a', 'p', 'e', 'r', 's', 'i', 'n', 'T', 'h', 'a', 'i', 'l', 'a', 'n', 'd', 'b', 'y', 'h', 'e', 'i', 'g', 'h', 't']\n"
          ],
          "name": "stdout"
        }
      ]
    },
    {
      "cell_type": "code",
      "metadata": {
        "id": "rQqo4eSJ68tD",
        "colab_type": "code",
        "colab": {
          "base_uri": "https://localhost:8080/",
          "height": 34
        },
        "outputId": "bbbc86a0-8a49-4f19-ae9a-d0187567f943"
      },
      "source": [
        "x = re.findall(\"\\W\", str)\n",
        "print(x)"
      ],
      "execution_count": 31,
      "outputs": [
        {
          "output_type": "stream",
          "text": [
            "[' ', ' ', ' ', ' ', ' ', ' ', ' ', ' ', ' ', ' ', ' ', ' ', ' ']\n"
          ],
          "name": "stdout"
        }
      ]
    },
    {
      "cell_type": "code",
      "metadata": {
        "id": "lxYAxY1q68w4",
        "colab_type": "code",
        "colab": {
          "base_uri": "https://localhost:8080/",
          "height": 34
        },
        "outputId": "b81e75e5-ebe0-41e1-b740-133edf5dcccc"
      },
      "source": [
        "x = re.findall(\"ght\\Z\", str)\n",
        "print(x)"
      ],
      "execution_count": 32,
      "outputs": [
        {
          "output_type": "stream",
          "text": [
            "['ght']\n"
          ],
          "name": "stdout"
        }
      ]
    },
    {
      "cell_type": "markdown",
      "metadata": {
        "id": "qYWJPoYDdwxj",
        "colab_type": "text"
      },
      "source": [
        "## 3.3 Sets"
      ]
    },
    {
      "cell_type": "markdown",
      "metadata": {
        "id": "WPIpz9z9aFWJ",
        "colab_type": "text"
      },
      "source": [
        "Set คือ เซ็ตของอักษร ที่อยู่ภายใน Square Bracket มีความหมายพิเศษ ดังนี้"
      ]
    },
    {
      "cell_type": "markdown",
      "metadata": {
        "id": "bb2XGMFEcnnj",
        "colab_type": "text"
      },
      "source": [
        "| เซ็ต        \t| คำอธิบาย                                                                     \t|\n",
        "|------------\t|-----------------------------------------------------------------------------\t|\n",
        "| [abcd]     \t| Return ถ้ามีตัวอักษรใดอักษรหนึ่งที่ระบุ a, b, c, d                                   \t|\n",
        "| [a-d]      \t| Return ถ้ามีตัวอักษรใดอักษรหนึ่งอยู่ในช่วงที่ระบุ a - d                                 \t|\n",
        "| [^abc]     \t| Return ถ้ามีตัวอักษรยกเว้นที่ระบุ เช่น d, e, f, g, h, ... X, Y, Z                   \t|\n",
        "| [0123]     \t| Return ถ้ามีตัวเลขใดเลขหนึ่งที่ระบุ 0, 1, 2, 3                                     \t|\n",
        "| [0-9]      \t| Return ถ้ามีตัวเลขในช่วงที่ระบุ 0, 1, 2, 3, ..., 9                                \t|\n",
        "| [0-2][0-9] \t| Return ถ้ามีตัวเลขสองหลัก ในช่วงระหว่าง 00 ถึง 29                                 \t|\n",
        "| [a-zA-Z]   \t| Return ถ้ามีตัวอักษรใดอักษรหนึ่งอยู่ในช่วงที่ระบุ a - z ไม่ว่าจะตัวใหญ่ หรือตัวเล็ก            \t|\n",
        "| [+]        \t| ในเซ็ต  +, *, ., |, (), $,{} ไม่ได้มีความหมายพิเศษ ดังนั้น [+] หมายถึง Returns ถ้ามี + \t|"
      ]
    },
    {
      "cell_type": "code",
      "metadata": {
        "id": "LsSYUhhUdyRE",
        "colab_type": "code",
        "colab": {}
      },
      "source": [
        "str = \"This list of 108 tallest buildings in Thailand ranks skyscrapers in Thailand by height\""
      ],
      "execution_count": 0,
      "outputs": []
    },
    {
      "cell_type": "code",
      "metadata": {
        "id": "sn14mCVidyVu",
        "colab_type": "code",
        "colab": {
          "base_uri": "https://localhost:8080/",
          "height": 34
        },
        "outputId": "80233cd0-7395-4277-8115-3098aa0b772c"
      },
      "source": [
        "x = re.findall(\"[abc]\", str)\n",
        "print(x)"
      ],
      "execution_count": 40,
      "outputs": [
        {
          "output_type": "stream",
          "text": [
            "['a', 'b', 'a', 'a', 'a', 'c', 'a', 'a', 'a', 'b']\n"
          ],
          "name": "stdout"
        }
      ]
    },
    {
      "cell_type": "code",
      "metadata": {
        "id": "I9yVQXp3bPIw",
        "colab_type": "code",
        "colab": {
          "base_uri": "https://localhost:8080/",
          "height": 34
        },
        "outputId": "61a44fdb-2d71-4788-ca82-ccd565e6aea6"
      },
      "source": [
        "x = re.findall(\"[a-g]\", str)\n",
        "print(x)"
      ],
      "execution_count": 46,
      "outputs": [
        {
          "output_type": "stream",
          "text": [
            "['f', 'a', 'e', 'b', 'd', 'g', 'a', 'a', 'd', 'a', 'c', 'a', 'e', 'a', 'a', 'd', 'b', 'e', 'g']\n"
          ],
          "name": "stdout"
        }
      ]
    },
    {
      "cell_type": "code",
      "metadata": {
        "id": "qi_36c1kbO99",
        "colab_type": "code",
        "colab": {
          "base_uri": "https://localhost:8080/",
          "height": 54
        },
        "outputId": "04411926-5b55-4cc6-da69-a81a3649c29c"
      },
      "source": [
        "x = re.findall(\"[^abc]\", str)\n",
        "print(x)"
      ],
      "execution_count": 42,
      "outputs": [
        {
          "output_type": "stream",
          "text": [
            "['T', 'h', 'i', 's', ' ', 'l', 'i', 's', 't', ' ', 'o', 'f', ' ', '1', '0', '8', ' ', 't', 'l', 'l', 'e', 's', 't', ' ', 'u', 'i', 'l', 'd', 'i', 'n', 'g', 's', ' ', 'i', 'n', ' ', 'T', 'h', 'i', 'l', 'n', 'd', ' ', 'r', 'n', 'k', 's', ' ', 's', 'k', 'y', 's', 'r', 'p', 'e', 'r', 's', ' ', 'i', 'n', ' ', 'T', 'h', 'i', 'l', 'n', 'd', ' ', 'y', ' ', 'h', 'e', 'i', 'g', 'h', 't']\n"
          ],
          "name": "stdout"
        }
      ]
    },
    {
      "cell_type": "code",
      "metadata": {
        "id": "V5weuzAdbOzW",
        "colab_type": "code",
        "colab": {
          "base_uri": "https://localhost:8080/",
          "height": 34
        },
        "outputId": "c762ceed-7913-4079-ecd4-4ae37d7c33e2"
      },
      "source": [
        "x = re.findall(\"[0123]\", str)\n",
        "print(x)"
      ],
      "execution_count": 43,
      "outputs": [
        {
          "output_type": "stream",
          "text": [
            "['1', '0']\n"
          ],
          "name": "stdout"
        }
      ]
    },
    {
      "cell_type": "code",
      "metadata": {
        "id": "CVuntBMgbOok",
        "colab_type": "code",
        "colab": {
          "base_uri": "https://localhost:8080/",
          "height": 34
        },
        "outputId": "0188a02d-88d7-43c9-cdcc-be84d4c3a995"
      },
      "source": [
        "x = re.findall(\"[0-8]\", str)\n",
        "print(x)"
      ],
      "execution_count": 44,
      "outputs": [
        {
          "output_type": "stream",
          "text": [
            "['1', '0', '8']\n"
          ],
          "name": "stdout"
        }
      ]
    },
    {
      "cell_type": "code",
      "metadata": {
        "id": "XmE4h_d-bOdy",
        "colab_type": "code",
        "colab": {
          "base_uri": "https://localhost:8080/",
          "height": 34
        },
        "outputId": "ca0af567-9de9-420b-fabe-b0923b1c26e3"
      },
      "source": [
        "x = re.findall(\"[0-1][0-1][0-8]\", str)\n",
        "print(x)"
      ],
      "execution_count": 45,
      "outputs": [
        {
          "output_type": "stream",
          "text": [
            "['108']\n"
          ],
          "name": "stdout"
        }
      ]
    },
    {
      "cell_type": "markdown",
      "metadata": {
        "id": "maZHGF5ycyHf",
        "colab_type": "text"
      },
      "source": [
        "# 4. Match Object"
      ]
    },
    {
      "cell_type": "markdown",
      "metadata": {
        "id": "FM1PmBxZb63-",
        "colab_type": "text"
      },
      "source": [
        "Match Object จะประกอบด้วยข้อมูลของการค้นหา และผลลัพธ์ของการค้นหา มี Method ที่ใช้บ่อย ดังนี้\n",
        "\n",
        "* .span() Return Tuple ระบุตำแหน่งเริ่มต้น สิ้นสุดของการ Match\n",
        "* .string Return String ที่ส่งให้ Function\n",
        "* .group() Return ส่วนของ String ที่ Match\n"
      ]
    },
    {
      "cell_type": "code",
      "metadata": {
        "id": "CMAl5Gvbc0Jz",
        "colab_type": "code",
        "colab": {}
      },
      "source": [
        "str = \"This list of 100 tallest buildings in Thailand ranks skyscrapers in Thailand by height\""
      ],
      "execution_count": 0,
      "outputs": []
    },
    {
      "cell_type": "markdown",
      "metadata": {
        "id": "EXJBImy2caUq",
        "colab_type": "text"
      },
      "source": [
        "Match Object จะบอกว่าเจออะไร และตำแหน่งที่พบ"
      ]
    },
    {
      "cell_type": "code",
      "metadata": {
        "id": "RJm9kecvcSnC",
        "colab_type": "code",
        "colab": {
          "base_uri": "https://localhost:8080/",
          "height": 34
        },
        "outputId": "e5a89a04-1a68-43e2-ed78-3e71c2c2558b"
      },
      "source": [
        "x = re.search(\"lis.\", str)\n",
        "print(x) "
      ],
      "execution_count": 55,
      "outputs": [
        {
          "output_type": "stream",
          "text": [
            "<_sre.SRE_Match object; span=(5, 9), match='list'>\n"
          ],
          "name": "stdout"
        }
      ]
    },
    {
      "cell_type": "code",
      "metadata": {
        "id": "CodKBJPzc0At",
        "colab_type": "code",
        "colab": {
          "base_uri": "https://localhost:8080/",
          "height": 34
        },
        "outputId": "6436471e-cfa2-4415-f80a-14a90c056017"
      },
      "source": [
        "x = re.search(r\"\\bsky\\w+\", str)\n",
        "print(x.string)"
      ],
      "execution_count": 58,
      "outputs": [
        {
          "output_type": "stream",
          "text": [
            "This list of 100 tallest buildings in Thailand ranks skyscrapers in Thailand by height\n"
          ],
          "name": "stdout"
        }
      ]
    },
    {
      "cell_type": "code",
      "metadata": {
        "id": "ZYCGFgCUcz3s",
        "colab_type": "code",
        "colab": {
          "base_uri": "https://localhost:8080/",
          "height": 34
        },
        "outputId": "ef0e9bd7-d984-4acb-a0d7-f240a7fce90a"
      },
      "source": [
        "x = re.search(r\"\\bsky\\w+\", str)\n",
        "print(x.group())"
      ],
      "execution_count": 59,
      "outputs": [
        {
          "output_type": "stream",
          "text": [
            "skyscrapers\n"
          ],
          "name": "stdout"
        }
      ]
    },
    {
      "cell_type": "markdown",
      "metadata": {
        "id": "6Ow0YXVKZ9O7",
        "colab_type": "text"
      },
      "source": [
        "# Credit"
      ]
    },
    {
      "cell_type": "markdown",
      "metadata": {
        "id": "xFmONzJGbycc",
        "colab_type": "text"
      },
      "source": [
        "* https://github.com/fastai/course-nlp/blob/master/4-regex.ipynb\n",
        "* https://docs.python.org/2/library/re.html\n",
        "* https://www.w3schools.com/python/python_regex.asp\n",
        "* https://medium.com/factory-mind/regex-tutorial-a-simple-cheatsheet-by-examples-649dc1c3f285\n",
        "* https://medium.com/factory-mind/regex-cookbook-most-wanted-regex-aa721558c3c1\n",
        "* https://regexone.com/\n"
      ]
    },
    {
      "cell_type": "code",
      "metadata": {
        "id": "hb4LRrDdbzWG",
        "colab_type": "code",
        "colab": {}
      },
      "source": [
        ""
      ],
      "execution_count": 0,
      "outputs": []
    }
  ]
}