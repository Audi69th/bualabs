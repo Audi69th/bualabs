{
 "cells": [
  {
   "cell_type": "markdown",
   "metadata": {
    "colab_type": "text",
    "id": "XlQtoavmlNzL"
   },
   "source": [
    "ใน ep ที่แล้ว "
   ]
  },
  {
   "cell_type": "markdown",
   "metadata": {
    "colab_type": "text",
    "id": "CzApwnjVlKxC"
   },
   "source": [
    "# 0. Install"
   ]
  },
  {
   "cell_type": "code",
   "execution_count": 1,
   "metadata": {
    "colab": {},
    "colab_type": "code",
    "id": "0WcUkQRak7e6"
   },
   "outputs": [],
   "source": [
    "%reload_ext autoreload\n",
    "%autoreload 2\n",
    "%matplotlib inline"
   ]
  },
  {
   "cell_type": "markdown",
   "metadata": {
    "colab_type": "text",
    "id": "MGOPzh9vCLJh"
   },
   "source": [
    "Install Library ที่จำเป็น"
   ]
  },
  {
   "cell_type": "code",
   "execution_count": 2,
   "metadata": {
    "colab": {
     "base_uri": "https://localhost:8080/",
     "height": 51
    },
    "colab_type": "code",
    "id": "o0UgDCGLhby7",
    "outputId": "9e05c6d6-428d-40ba-d800-1478e7da8927"
   },
   "outputs": [],
   "source": [
    "# ## Colab\n",
    "# ! curl -s https://course.fast.ai/setup/colab | bash"
   ]
  },
  {
   "cell_type": "code",
   "execution_count": 3,
   "metadata": {
    "colab": {
     "base_uri": "https://localhost:8080/",
     "height": 306
    },
    "colab_type": "code",
    "id": "cQiYFoC4C8hy",
    "outputId": "795d497c-12c5-4f4c-b46b-67b9457137f5"
   },
   "outputs": [
    {
     "name": "stdout",
     "output_type": "stream",
     "text": [
      "Mon Dec  9 18:22:35 2019       \n",
      "+-----------------------------------------------------------------------------+\n",
      "| NVIDIA-SMI 410.104      Driver Version: 410.104      CUDA Version: 10.0     |\n",
      "|-------------------------------+----------------------+----------------------+\n",
      "| GPU  Name        Persistence-M| Bus-Id        Disp.A | Volatile Uncorr. ECC |\n",
      "| Fan  Temp  Perf  Pwr:Usage/Cap|         Memory-Usage | GPU-Util  Compute M. |\n",
      "|===============================+======================+======================|\n",
      "|   0  Tesla P4            Off  | 00000000:00:04.0 Off |                    0 |\n",
      "| N/A   70C    P0    24W /  75W |      0MiB /  7611MiB |      3%      Default |\n",
      "+-------------------------------+----------------------+----------------------+\n",
      "                                                                               \n",
      "+-----------------------------------------------------------------------------+\n",
      "| Processes:                                                       GPU Memory |\n",
      "|  GPU       PID   Type   Process name                             Usage      |\n",
      "|=============================================================================|\n",
      "|  No running processes found                                                 |\n",
      "+-----------------------------------------------------------------------------+\n"
     ]
    }
   ],
   "source": [
    "! nvidia-smi"
   ]
  },
  {
   "cell_type": "markdown",
   "metadata": {
    "colab_type": "text",
    "id": "3VxLNfAElR29"
   },
   "source": [
    "# 1. Import"
   ]
  },
  {
   "cell_type": "markdown",
   "metadata": {
    "colab_type": "text",
    "id": "nGm02SG0CQrq"
   },
   "source": [
    "Import Library ที่จะใช้ ในที่นี้คือ fastai และ fastai.text "
   ]
  },
  {
   "cell_type": "code",
   "execution_count": 13,
   "metadata": {
    "colab": {},
    "colab_type": "code",
    "id": "OORH3obdk-wS"
   },
   "outputs": [],
   "source": [
    "from fastai import *\n",
    "from fastai.text import *\n",
    "from fastai.callbacks import *\n",
    "from fastai.callbacks.mem import *"
   ]
  },
  {
   "cell_type": "code",
   "execution_count": 14,
   "metadata": {
    "colab": {},
    "colab_type": "code",
    "id": "nmZehcHclZyM"
   },
   "outputs": [],
   "source": [
    "# import fastai.utils.collect_env\n",
    "# fastai.utils.collect_env.show_install()"
   ]
  },
  {
   "cell_type": "markdown",
   "metadata": {
    "colab_type": "text",
    "id": "pv3eV6oElZD2"
   },
   "source": [
    "# 2. Dataset"
   ]
  },
  {
   "cell_type": "markdown",
   "metadata": {
    "colab_type": "text",
    "id": "_9kLpiZj_Rd6"
   },
   "source": [
    "ในเคสนี้เราจะใช้ IMDB Movie Review เป็นรีวิวหนังจากเว็บ IMDB ที่มีข้อความ และ คะแนนว่าเป็นแง่บวก หรือแง่ลบ เหมือนใน ep ก่อน ๆ \n",
    "\n",
    "ในการพัฒนา เราจะใช้ Dataset ชุดเล็กก่อน จะได้เร็ว เมื่อเทสทุกอย่างเรียบร้อย แล้วจึงขยับไปใช้ Dataset ชุดเต็ม "
   ]
  },
  {
   "cell_type": "code",
   "execution_count": 15,
   "metadata": {
    "colab": {
     "base_uri": "https://localhost:8080/",
     "height": 51
    },
    "colab_type": "code",
    "id": "dx8aArt3l1ca",
    "outputId": "c95bdfd1-24f3-4851-b422-b487943c6253"
   },
   "outputs": [
    {
     "data": {
      "text/plain": [
       "[PosixPath('/home/jupyter/.fastai/data/imdb_sample/texts.csv')]"
      ]
     },
     "execution_count": 15,
     "metadata": {},
     "output_type": "execute_result"
    }
   ],
   "source": [
    "path = untar_data(URLs.IMDB_SAMPLE)\n",
    "path.ls()"
   ]
  },
  {
   "cell_type": "markdown",
   "metadata": {
    "colab_type": "text",
    "id": "5SWut3oxmai6"
   },
   "source": [
    "# 3. Preprocessing"
   ]
  },
  {
   "cell_type": "markdown",
   "metadata": {
    "colab_type": "text",
    "id": "nGz9PRlBmUxZ"
   },
   "source": [
    "## 3.1 Data Block API"
   ]
  },
  {
   "cell_type": "markdown",
   "metadata": {
    "colab_type": "text",
    "id": "Qfq-mMdBm7vy"
   },
   "source": [
    "เราจะใช้ [Data Block API](https://www.bualabs.com/archives/2693/data-block-api-data-pipeline-machine-learning-supervised-learning-preprocessing-ep-5/) กำหนด Data Pipeline ทีละขั้น Tokenization, Numericalization, Split, Labeling ก็จะทำให้ยืดหยุ่นมากขึ้น"
   ]
  },
  {
   "cell_type": "code",
   "execution_count": 16,
   "metadata": {
    "colab": {
     "base_uri": "https://localhost:8080/",
     "height": 17
    },
    "colab_type": "code",
    "id": "VycXdm7Lmweq",
    "outputId": "371562bd-1338-4169-e13f-a3a6eeebc941"
   },
   "outputs": [],
   "source": [
    "data_lm = (TextList.from_csv(path, 'texts.csv', cols='text')\n",
    "                .split_from_df(col=2)\n",
    "                .label_from_df(cols=0)\n",
    "                .databunch())"
   ]
  },
  {
   "cell_type": "markdown",
   "metadata": {
    "colab_type": "text",
    "id": "zLpeVJFETRUH"
   },
   "source": [
    "ดูตัวอย่างคำศัพท์ใน vocab Dictionary"
   ]
  },
  {
   "cell_type": "code",
   "execution_count": 8,
   "metadata": {
    "colab": {
     "base_uri": "https://localhost:8080/",
     "height": 357
    },
    "colab_type": "code",
    "id": "jx2E3YGkngw0",
    "outputId": "bd2ac538-fc49-4143-a02b-a0e9f665c065"
   },
   "outputs": [
    {
     "data": {
      "text/plain": [
       "['xxunk',\n",
       " 'xxpad',\n",
       " 'xxbos',\n",
       " 'xxeos',\n",
       " 'xxfld',\n",
       " 'xxmaj',\n",
       " 'xxup',\n",
       " 'xxrep',\n",
       " 'xxwrep',\n",
       " 'the',\n",
       " '.',\n",
       " ',',\n",
       " 'and',\n",
       " 'a',\n",
       " 'of',\n",
       " 'to',\n",
       " 'is',\n",
       " 'it',\n",
       " 'in',\n",
       " 'i']"
      ]
     },
     "execution_count": 8,
     "metadata": {},
     "output_type": "execute_result"
    }
   ],
   "source": [
    "data_lm.vocab.itos[:20]"
   ]
  },
  {
   "cell_type": "markdown",
   "metadata": {
    "colab_type": "text",
    "id": "5OgbUTpzTU7d"
   },
   "source": [
    "ดูตัวอย่างข้อมูล text"
   ]
  },
  {
   "cell_type": "code",
   "execution_count": 9,
   "metadata": {
    "colab": {
     "base_uri": "https://localhost:8080/",
     "height": 54
    },
    "colab_type": "code",
    "id": "egTdfsibngw-",
    "outputId": "b231c648-7f8c-4bd0-f55f-1e37e2d0c7f5"
   },
   "outputs": [
    {
     "data": {
      "text/plain": [
       "Text xxbos xxmaj un - xxunk - believable ! xxmaj meg xxmaj ryan does n't even look her usual xxunk lovable self in this , which normally makes me forgive her shallow xxunk acting xxunk . xxmaj hard to believe she was the producer on this dog . xxmaj plus xxmaj kevin xxmaj kline : what kind of suicide trip has his career been on ? xxmaj xxunk ... xxmaj xxunk ! ! ! xxmaj finally this was directed by the guy who did xxmaj big xxmaj xxunk ? xxmaj must be a replay of xxmaj jonestown - hollywood style . xxmaj xxunk !"
      ]
     },
     "execution_count": 9,
     "metadata": {},
     "output_type": "execute_result"
    }
   ],
   "source": [
    "data_lm.train_ds[0][0]"
   ]
  },
  {
   "cell_type": "markdown",
   "metadata": {
    "colab_type": "text",
    "id": "GDVX1DrlTX8U"
   },
   "source": [
    "ดูข้อมูลภายใน ในรูปแบบตัวเลข"
   ]
  },
  {
   "cell_type": "code",
   "execution_count": 10,
   "metadata": {
    "colab": {
     "base_uri": "https://localhost:8080/",
     "height": 51
    },
    "colab_type": "code",
    "id": "U9t0qpcVngxB",
    "outputId": "4d8c5a6e-4ad7-470b-d0e3-a2439f154abc"
   },
   "outputs": [
    {
     "data": {
      "text/plain": [
       "array([   2,    5, 4622,   25,    0,   25,  867,   52,    5, 3776,    5, 1800,   95,   37,   85,  191,   63,  936,\n",
       "          0, 2740])"
      ]
     },
     "execution_count": 10,
     "metadata": {},
     "output_type": "execute_result"
    }
   ],
   "source": [
    "data_lm.train_ds[0][0].data[:20]"
   ]
  },
  {
   "cell_type": "markdown",
   "metadata": {
    "colab_type": "text",
    "id": "sgoaG7LXniVb"
   },
   "source": [
    "# 2/2. Full Dataset"
   ]
  },
  {
   "cell_type": "markdown",
   "metadata": {
    "colab_type": "text",
    "id": "4UM7WpBUTdMG"
   },
   "source": [
    "Download ชุดข้อมูลตัวเต็ม"
   ]
  },
  {
   "cell_type": "code",
   "execution_count": 17,
   "metadata": {
    "colab": {
     "base_uri": "https://localhost:8080/",
     "height": 153
    },
    "colab_type": "code",
    "id": "lNV4cKwgpJB-",
    "outputId": "ff423e3e-85f4-4647-e3a4-cd466f2fd0d7"
   },
   "outputs": [
    {
     "data": {
      "text/plain": [
       "[PosixPath('/home/jupyter/.fastai/data/imdb/tmp_clas'),\n",
       " PosixPath('/home/jupyter/.fastai/data/imdb/lm_databunch'),\n",
       " PosixPath('/home/jupyter/.fastai/data/imdb/imdb.vocab'),\n",
       " PosixPath('/home/jupyter/.fastai/data/imdb/tmp_lm'),\n",
       " PosixPath('/home/jupyter/.fastai/data/imdb/test'),\n",
       " PosixPath('/home/jupyter/.fastai/data/imdb/README'),\n",
       " PosixPath('/home/jupyter/.fastai/data/imdb/26g_imdb_textlist_clas'),\n",
       " PosixPath('/home/jupyter/.fastai/data/imdb/models'),\n",
       " PosixPath('/home/jupyter/.fastai/data/imdb/train'),\n",
       " PosixPath('/home/jupyter/.fastai/data/imdb/unsup')]"
      ]
     },
     "execution_count": 17,
     "metadata": {},
     "output_type": "execute_result"
    }
   ],
   "source": [
    "path = untar_data(URLs.IMDB)\n",
    "path.ls()"
   ]
  },
  {
   "cell_type": "code",
   "execution_count": 18,
   "metadata": {
    "colab": {
     "base_uri": "https://localhost:8080/",
     "height": 85
    },
    "colab_type": "code",
    "id": "mR9dSvaGpQAQ",
    "outputId": "3d82e30b-dbb2-4423-e7ca-0541c7cc5f2b"
   },
   "outputs": [
    {
     "data": {
      "text/plain": [
       "[PosixPath('/home/jupyter/.fastai/data/imdb/train/pos'),\n",
       " PosixPath('/home/jupyter/.fastai/data/imdb/train/labeledBow.feat'),\n",
       " PosixPath('/home/jupyter/.fastai/data/imdb/train/neg'),\n",
       " PosixPath('/home/jupyter/.fastai/data/imdb/train/unsupBow.feat')]"
      ]
     },
     "execution_count": 18,
     "metadata": {},
     "output_type": "execute_result"
    }
   ],
   "source": [
    "(path/'train').ls()"
   ]
  },
  {
   "cell_type": "markdown",
   "metadata": {
    "colab_type": "text",
    "id": "1bakq2CmzoeO"
   },
   "source": [
    "# 3/2. Preprocessing"
   ]
  },
  {
   "cell_type": "markdown",
   "metadata": {
    "colab_type": "text",
    "id": "gd1I1qeM86EX"
   },
   "source": [
    "Data Pipeline ด้วย Data Block API"
   ]
  },
  {
   "cell_type": "code",
   "execution_count": 19,
   "metadata": {
    "colab": {},
    "colab_type": "code",
    "id": "L1sctU1WqNeV"
   },
   "outputs": [],
   "source": [
    "# bs=48\n",
    "# bs=24\n",
    "bs=64"
   ]
  },
  {
   "cell_type": "code",
   "execution_count": 20,
   "metadata": {
    "colab": {
     "base_uri": "https://localhost:8080/",
     "height": 17
    },
    "colab_type": "code",
    "id": "MPRaVM3_ppwf",
    "outputId": "733cfa9e-0b36-4b88-a455-f356f53cda01"
   },
   "outputs": [],
   "source": [
    "data_lm = (TextList.from_folder(path)\n",
    "                    .filter_by_folder(include=['train', 'test', 'unsup'])\n",
    "                    .split_by_rand_pct(0.1)\n",
    "                    .label_for_lm()\n",
    "                    .databunch(bs=bs, num_workers=1))"
   ]
  },
  {
   "cell_type": "markdown",
   "metadata": {
    "colab_type": "text",
    "id": "B8EzQpO232t3"
   },
   "source": [
    "ในข้อมูล Training Set 90,000 Record มีคำศัพท์ 60,000 คำ (Default)"
   ]
  },
  {
   "cell_type": "code",
   "execution_count": 16,
   "metadata": {
    "colab": {
     "base_uri": "https://localhost:8080/",
     "height": 34
    },
    "colab_type": "code",
    "id": "jIYe62ynqRqP",
    "outputId": "c106c0c8-5b01-47a7-acd3-4a35cd8b4616"
   },
   "outputs": [
    {
     "data": {
      "text/plain": [
       "(60000, 90000)"
      ]
     },
     "execution_count": 16,
     "metadata": {},
     "output_type": "execute_result"
    }
   ],
   "source": [
    "len(data_lm.vocab.itos), len(data_lm.train_ds)"
   ]
  },
  {
   "cell_type": "code",
   "execution_count": 17,
   "metadata": {
    "colab": {
     "base_uri": "https://localhost:8080/",
     "height": 289
    },
    "colab_type": "code",
    "id": "OCXun8tSqjQA",
    "outputId": "a9eea8b8-af84-4901-9c7e-96c5c0e46d15"
   },
   "outputs": [
    {
     "data": {
      "text/html": [
       "<table border=\"1\" class=\"dataframe\">\n",
       "  <thead>\n",
       "    <tr style=\"text-align: right;\">\n",
       "      <th>idx</th>\n",
       "      <th>text</th>\n",
       "    </tr>\n",
       "  </thead>\n",
       "  <tbody>\n",
       "    <tr>\n",
       "      <td>0</td>\n",
       "      <td>in xxmaj xxunk . xxmaj there - initially much to his horror  xxmaj fosca , the grotesquely ugly cousin of his commander , develops an obsessive love for him . xxmaj he suffers her passionate and demanding displays of affection out of pity and concern for her health ( she is gravely ill ) , but becomes more and more fascinated by her  until the dramatic finale</td>\n",
       "    </tr>\n",
       "    <tr>\n",
       "      <td>1</td>\n",
       "      <td>a superb sequence . xxmaj this not the best film xxmaj hitch made , but it is surly one of his most entertaining . xxbos i watched this movie on a big screen a few months ago . i did n't know what to expect precisely , and for the first ten minutes i feared i might not enjoy this film . xxmaj it was beginning very slowly , in</td>\n",
       "    </tr>\n",
       "    <tr>\n",
       "      <td>2</td>\n",
       "      <td>kern 's final score and marvel at the quality of xxmaj gershwin 's lyrics and the compatibility of their styles . xxmaj this is a definite gem in the crown of xxmaj columbia 's musical program . xxbos xxmaj well i would say that this is a very enjoyable and somewhat touching movie despite its flaws . i did n't believe for a minute that xxmaj matthau knew the first</td>\n",
       "    </tr>\n",
       "    <tr>\n",
       "      <td>3</td>\n",
       "      <td>. xxmaj this film is critical to changing public opinion in order to get rid of the laws that protect harmful people like the xxmaj senior xxmaj social xxmaj worker in \" xxmaj broken xxmaj promise \" . \\n \\n  i strongly recommend xxmaj broken xxmaj promise . xxmaj it is especially appropriate viewing for trainee social workers , psychiatrists , psychologists , doctors , and other xxunk professions</td>\n",
       "    </tr>\n",
       "    <tr>\n",
       "      <td>4</td>\n",
       "      <td>governor 's offices , and xxmaj cagney becomes a marked man . xxmaj if it sounds silly , it 's not -- the dishonest xxunk practices are only a plot tool ( or as xxmaj hitchcock would say , the mcguffin ) and while unfamiliar , it works every bit as well here as any xxmaj treasury xxmaj agent or g - man anthology in which the fight is taken</td>\n",
       "    </tr>\n",
       "  </tbody>\n",
       "</table>"
      ],
      "text/plain": [
       "<IPython.core.display.HTML object>"
      ]
     },
     "metadata": {},
     "output_type": "display_data"
    }
   ],
   "source": [
    "data_lm.show_batch()"
   ]
  },
  {
   "cell_type": "markdown",
   "metadata": {
    "colab_type": "text",
    "id": "HuycJ7544KMN"
   },
   "source": [
    "เซฟไว้ก่อน "
   ]
  },
  {
   "cell_type": "code",
   "execution_count": 18,
   "metadata": {
    "colab": {},
    "colab_type": "code",
    "id": "hL9FFazgrtF9"
   },
   "outputs": [],
   "source": [
    "data_lm.save('lm_databunch')"
   ]
  },
  {
   "cell_type": "markdown",
   "metadata": {
    "colab_type": "text",
    "id": "ozj-F50y4OlD"
   },
   "source": [
    "โหลด Language Model DataBunch ที่เซฟไว้ แล้วเช็คข้อมูล"
   ]
  },
  {
   "cell_type": "code",
   "execution_count": 21,
   "metadata": {
    "colab": {
     "base_uri": "https://localhost:8080/",
     "height": 34
    },
    "colab_type": "code",
    "id": "EG-GVIm2r0B-",
    "outputId": "20024e58-c435-4bdd-fe19-3296fb9aae1e"
   },
   "outputs": [
    {
     "data": {
      "text/plain": [
       "(60000, 90000)"
      ]
     },
     "execution_count": 21,
     "metadata": {},
     "output_type": "execute_result"
    }
   ],
   "source": [
    "data_lm = load_data(path, 'lm_databunch', bs=bs)\n",
    "len(data_lm.vocab.itos), len(data_lm.train_ds)"
   ]
  },
  {
   "cell_type": "markdown",
   "metadata": {
    "colab_type": "text",
    "id": "JN2y-cmVr7wu"
   },
   "source": [
    "# 4. Language Model จาก WikiText-103"
   ]
  },
  {
   "cell_type": "markdown",
   "metadata": {},
   "source": [
    "## 4.1 AWD LSTM Model"
   ]
  },
  {
   "cell_type": "markdown",
   "metadata": {
    "colab_type": "text",
    "id": "Of2vn9kR-9hX"
   },
   "source": [
    "สร้าง Language Model Learner ขึ้นมา โดยใช้ data_lm จาก IMDB ด้านบน และ สถาปัตยกรรม AWD_LSTM [Model Architecture](https://www.bualabs.com/archives/2703/how-to-read-model-convolutional-neural-network-shape-activation-map-model-architecture-convnet-ep-7/) โดยที่ยังไม่ได้เริ่มต้นเทรน\n",
    "\n",
    "AWD_LSTM ได้ถูก Pre-Train กับ WikiText-103 Dataset เรียบร้อยแล้ว"
   ]
  },
  {
   "cell_type": "code",
   "execution_count": 22,
   "metadata": {
    "colab": {},
    "colab_type": "code",
    "id": "EpAA44Yst5sZ"
   },
   "outputs": [],
   "source": [
    "learn_lm = language_model_learner(data_lm, AWD_LSTM, \n",
    "                                  drop_mult=0.3, \n",
    "                                  callback_fns=[ShowGraph, PeakMemMetric])\n",
    "# learn_lm"
   ]
  },
  {
   "cell_type": "code",
   "execution_count": 16,
   "metadata": {
    "colab": {
     "base_uri": "https://localhost:8080/",
     "height": 408
    },
    "colab_type": "code",
    "id": "Pmmtq5EJOxod",
    "outputId": "cd15dd29-2fb5-475e-9291-b5b182277653"
   },
   "outputs": [
    {
     "data": {
      "text/plain": [
       "AWD_LSTM(\n",
       "  (encoder): Embedding(60000, 400, padding_idx=1)\n",
       "  (encoder_dp): EmbeddingDropout(\n",
       "    (emb): Embedding(60000, 400, padding_idx=1)\n",
       "  )\n",
       "  (rnns): ModuleList(\n",
       "    (0): WeightDropout(\n",
       "      (module): LSTM(400, 1152, batch_first=True)\n",
       "    )\n",
       "    (1): WeightDropout(\n",
       "      (module): LSTM(1152, 1152, batch_first=True)\n",
       "    )\n",
       "    (2): WeightDropout(\n",
       "      (module): LSTM(1152, 400, batch_first=True)\n",
       "    )\n",
       "  )\n",
       "  (input_dp): RNNDropout()\n",
       "  (hidden_dps): ModuleList(\n",
       "    (0): RNNDropout()\n",
       "    (1): RNNDropout()\n",
       "    (2): RNNDropout()\n",
       "  )\n",
       ")"
      ]
     },
     "execution_count": 16,
     "metadata": {},
     "output_type": "execute_result"
    }
   ],
   "source": [
    "learn_lm.model[0]"
   ]
  },
  {
   "cell_type": "code",
   "execution_count": 17,
   "metadata": {
    "colab": {
     "base_uri": "https://localhost:8080/",
     "height": 34
    },
    "colab_type": "code",
    "id": "XGDmEC1nO956",
    "outputId": "792dc101-93dd-4744-de5a-aa0167d17590"
   },
   "outputs": [
    {
     "data": {
      "text/plain": [
       "Embedding(60000, 400, padding_idx=1)"
      ]
     },
     "execution_count": 17,
     "metadata": {},
     "output_type": "execute_result"
    }
   ],
   "source": [
    "learn_lm.model[0].encoder"
   ]
  },
  {
   "cell_type": "markdown",
   "metadata": {
    "colab_type": "text",
    "id": "uwxtxRAQ_9tG"
   },
   "source": [
    "## 4.2 vocab Dictionary ของ WikiText-103 "
   ]
  },
  {
   "cell_type": "markdown",
   "metadata": {
    "colab_type": "text",
    "id": "EmS9Duij_fBF"
   },
   "source": [
    "โหลด Dictionary ของ WikiText-103 ขึ้นมา \n",
    "\n",
    "Language Model ต้องมาพร้อมกับ vocab Dictionary เสมอ ไม่เช่นนั้นเราจะไม่รู้ว่า คำศัพท์ไหนเป็นคำไหน เพราะในโมเดลจะเป็นตัวเลข Index / Embedding"
   ]
  },
  {
   "cell_type": "code",
   "execution_count": 18,
   "metadata": {
    "colab": {
     "base_uri": "https://localhost:8080/",
     "height": 51
    },
    "colab_type": "code",
    "id": "CfE1ch2yvXM_",
    "outputId": "13e61a96-8b96-4a61-9a9f-67ae218f487c"
   },
   "outputs": [
    {
     "data": {
      "text/plain": [
       "[PosixPath('/home/jupyter/.fastai/models/wt103-fwd'),\n",
       " PosixPath('/home/jupyter/.fastai/models/wt103-fwd.tgz')]"
      ]
     },
     "execution_count": 18,
     "metadata": {},
     "output_type": "execute_result"
    }
   ],
   "source": [
    "Config().model_path().ls()"
   ]
  },
  {
   "cell_type": "code",
   "execution_count": 19,
   "metadata": {
    "colab": {
     "base_uri": "https://localhost:8080/",
     "height": 51
    },
    "colab_type": "code",
    "id": "60C65ahsvfSl",
    "outputId": "d44988a8-b478-48ef-9c09-55540b8a1eff"
   },
   "outputs": [
    {
     "data": {
      "text/plain": [
       "[PosixPath('/home/jupyter/.fastai/models/wt103-fwd/itos_wt103.pkl'),\n",
       " PosixPath('/home/jupyter/.fastai/models/wt103-fwd/lstm_fwd.pth')]"
      ]
     },
     "execution_count": 19,
     "metadata": {},
     "output_type": "execute_result"
    }
   ],
   "source": [
    "(Config().model_path()/'wt103-fwd').ls()"
   ]
  },
  {
   "cell_type": "code",
   "execution_count": 20,
   "metadata": {
    "colab": {},
    "colab_type": "code",
    "id": "4xYT1K5fvCz5"
   },
   "outputs": [],
   "source": [
    "wiki_itos = pickle.load(open(Config().model_path()/'wt103-fwd/itos_wt103.pkl', 'rb'))"
   ]
  },
  {
   "cell_type": "markdown",
   "metadata": {
    "colab_type": "text",
    "id": "kuOfv_By_lJl"
   },
   "source": [
    "ดูจำนวนคำศัพท์ ตัวอย่างข้อมูล หัว / ท้าย"
   ]
  },
  {
   "cell_type": "code",
   "execution_count": 21,
   "metadata": {
    "colab": {
     "base_uri": "https://localhost:8080/",
     "height": 714
    },
    "colab_type": "code",
    "id": "KXQCRB4VvngR",
    "outputId": "5b47b9a5-5e5e-48d3-9796-65d56cee9ee8"
   },
   "outputs": [
    {
     "data": {
      "text/plain": [
       "(60000,\n",
       " ['xxunk',\n",
       "  'xxpad',\n",
       "  'xxbos',\n",
       "  'xxeos',\n",
       "  'xxfld',\n",
       "  'xxmaj',\n",
       "  'xxup',\n",
       "  'xxrep',\n",
       "  'xxwrep',\n",
       "  'the',\n",
       "  ',',\n",
       "  '.',\n",
       "  'of',\n",
       "  'and',\n",
       "  'in',\n",
       "  'to',\n",
       "  'a',\n",
       "  '=',\n",
       "  '\"',\n",
       "  'was'],\n",
       " ['repaying',\n",
       "  'ak-47',\n",
       "  'cultic',\n",
       "  'jaume',\n",
       "  'leonis',\n",
       "  'subtracting',\n",
       "  'sexed',\n",
       "  'bursa',\n",
       "  '-style',\n",
       "  'lithographs',\n",
       "  'wgbh',\n",
       "  'subsystem',\n",
       "  '831',\n",
       "  'lifelines',\n",
       "  'bergeron',\n",
       "  'adaptions',\n",
       "  'slurs',\n",
       "  'acasta',\n",
       "  'stuccoed',\n",
       "  'spellbound'])"
      ]
     },
     "execution_count": 21,
     "metadata": {},
     "output_type": "execute_result"
    }
   ],
   "source": [
    "len(wiki_itos), wiki_itos[:20], wiki_itos[-20:]"
   ]
  },
  {
   "cell_type": "markdown",
   "metadata": {
    "colab_type": "text",
    "id": "0ctPsC10_2L7"
   },
   "source": [
    "## 4.3 vocab Dictionary ของ IMDB"
   ]
  },
  {
   "cell_type": "markdown",
   "metadata": {
    "colab_type": "text",
    "id": "8jSVlBNM_wKd"
   },
   "source": [
    "ดูตัวอย่างคำศัพท์ใน IMDB"
   ]
  },
  {
   "cell_type": "code",
   "execution_count": 22,
   "metadata": {
    "colab": {},
    "colab_type": "code",
    "id": "bf3msNitBzRt"
   },
   "outputs": [],
   "source": [
    "vocab = data_lm.vocab"
   ]
  },
  {
   "cell_type": "code",
   "execution_count": 23,
   "metadata": {
    "colab": {},
    "colab_type": "code",
    "id": "PVsfmHoxvqa5"
   },
   "outputs": [],
   "source": [
    "imdb_itos = vocab.itos"
   ]
  },
  {
   "cell_type": "code",
   "execution_count": 24,
   "metadata": {
    "colab": {
     "base_uri": "https://localhost:8080/",
     "height": 34
    },
    "colab_type": "code",
    "id": "r6LXmiGiv4TT",
    "outputId": "a64b3335-810c-4ff2-ef1b-6ec471855cfc"
   },
   "outputs": [
    {
     "data": {
      "text/plain": [
       "134"
      ]
     },
     "execution_count": 24,
     "metadata": {},
     "output_type": "execute_result"
    }
   ],
   "source": [
    "vocab.stoi['love']"
   ]
  },
  {
   "cell_type": "code",
   "execution_count": 25,
   "metadata": {
    "colab": {
     "base_uri": "https://localhost:8080/",
     "height": 34
    },
    "colab_type": "code",
    "id": "VVGeYvk2v7iV",
    "outputId": "e7c6a8e6-2a84-4459-ba76-be91e49b2e95"
   },
   "outputs": [
    {
     "data": {
      "text/plain": [
       "'love'"
      ]
     },
     "execution_count": 25,
     "metadata": {},
     "output_type": "execute_result"
    }
   ],
   "source": [
    "imdb_itos[vocab.stoi['love']]"
   ]
  },
  {
   "cell_type": "code",
   "execution_count": 26,
   "metadata": {
    "colab": {
     "base_uri": "https://localhost:8080/",
     "height": 34
    },
    "colab_type": "code",
    "id": "wsxgcOTPwBqj",
    "outputId": "a7962266-b294-4ee1-9c20-1d815e02d5e5"
   },
   "outputs": [
    {
     "data": {
      "text/plain": [
       "'xxunk'"
      ]
     },
     "execution_count": 26,
     "metadata": {},
     "output_type": "execute_result"
    }
   ],
   "source": [
    "imdb_itos[vocab.stoi['Sukhumvit']]"
   ]
  },
  {
   "cell_type": "code",
   "execution_count": 27,
   "metadata": {
    "colab": {},
    "colab_type": "code",
    "id": "7hV0F7P9wlAV"
   },
   "outputs": [],
   "source": [
    "awd = learn_lm.model[0]"
   ]
  },
  {
   "cell_type": "code",
   "execution_count": 28,
   "metadata": {
    "colab": {},
    "colab_type": "code",
    "id": "poBP0V4SwuAb"
   },
   "outputs": [],
   "source": [
    "# from scipy.spatial.distance import cosine as dist"
   ]
  },
  {
   "cell_type": "code",
   "execution_count": 29,
   "metadata": {
    "colab": {},
    "colab_type": "code",
    "id": "VgGMPHqkwycw"
   },
   "outputs": [],
   "source": [
    "enc = learn_lm.model[0].encoder"
   ]
  },
  {
   "cell_type": "markdown",
   "metadata": {
    "colab_type": "text",
    "id": "YYDuXodMcDKf"
   },
   "source": [
    "Embedding 400 มิติของ คำศัพท์ 60,000 คำ"
   ]
  },
  {
   "cell_type": "code",
   "execution_count": 30,
   "metadata": {
    "colab": {
     "base_uri": "https://localhost:8080/",
     "height": 34
    },
    "colab_type": "code",
    "id": "SB4BxS8Ww2pj",
    "outputId": "d1e5a5d2-8c1e-44bb-889e-54a7ec4bd377"
   },
   "outputs": [
    {
     "data": {
      "text/plain": [
       "torch.Size([60000, 400])"
      ]
     },
     "execution_count": 30,
     "metadata": {},
     "output_type": "execute_result"
    }
   ],
   "source": [
    "enc.weight.size()"
   ]
  },
  {
   "cell_type": "markdown",
   "metadata": {
    "colab_type": "text",
    "id": "OxJXyP4bw5CY"
   },
   "source": [
    "## 4.4 Difference in vocab between IMDB and Wikipedia"
   ]
  },
  {
   "cell_type": "markdown",
   "metadata": {
    "colab_type": "text",
    "id": "3oIlgBj44nGZ"
   },
   "source": [
    "เปรียบเทียบ 2 vocab Dictionary พบว่า ขนาด vocab เท่ากัน"
   ]
  },
  {
   "cell_type": "code",
   "execution_count": 31,
   "metadata": {
    "colab": {
     "base_uri": "https://localhost:8080/",
     "height": 34
    },
    "colab_type": "code",
    "id": "DGvAQvgpz1_n",
    "outputId": "0f791d1f-84ff-48b9-e9f4-9012a6dda349"
   },
   "outputs": [
    {
     "data": {
      "text/plain": [
       "(60000, 60000)"
      ]
     },
     "execution_count": 31,
     "metadata": {},
     "output_type": "execute_result"
    }
   ],
   "source": [
    "len(wiki_itos), len(imdb_itos)"
   ]
  },
  {
   "cell_type": "markdown",
   "metadata": {
    "colab_type": "text",
    "id": "y83ReedN4qIT"
   },
   "source": [
    "แต่ข้างใน ไม่เหมือนกัน เปรียบเทียบ 10 คำศัพท์สุดท้าย"
   ]
  },
  {
   "cell_type": "code",
   "execution_count": 32,
   "metadata": {
    "colab": {
     "base_uri": "https://localhost:8080/",
     "height": 357
    },
    "colab_type": "code",
    "id": "7CbmV8-Mz8EE",
    "outputId": "4f663276-bdf6-49aa-8906-501b3fb6c3be"
   },
   "outputs": [
    {
     "data": {
      "text/plain": [
       "(['wgbh',\n",
       "  'subsystem',\n",
       "  '831',\n",
       "  'lifelines',\n",
       "  'bergeron',\n",
       "  'adaptions',\n",
       "  'slurs',\n",
       "  'acasta',\n",
       "  'stuccoed',\n",
       "  'spellbound'],\n",
       " ['parrying',\n",
       "  'zieff',\n",
       "  'catnip',\n",
       "  'reflexions',\n",
       "  'doy',\n",
       "  'tug-3',\n",
       "  'lisztomania',\n",
       "  'coif',\n",
       "  'ermanno',\n",
       "  'caspian'])"
      ]
     },
     "execution_count": 32,
     "metadata": {},
     "output_type": "execute_result"
    }
   ],
   "source": [
    "wiki_itos[-10:], imdb_itos[-10:]"
   ]
  },
  {
   "cell_type": "code",
   "execution_count": 33,
   "metadata": {
    "colab": {},
    "colab_type": "code",
    "id": "GEA9kLr5z8H8"
   },
   "outputs": [],
   "source": [
    "wiki_words = set(wiki_itos)\n",
    "imdb_words = set(imdb_itos)"
   ]
  },
  {
   "cell_type": "markdown",
   "metadata": {
    "colab_type": "text",
    "id": "CY436t5NccYD"
   },
   "source": [
    "คำศัพท์ที่อยู่ใน vocab ของ Wiki แต่ไม่อยู่ใน vocab ของ IMDB"
   ]
  },
  {
   "cell_type": "code",
   "execution_count": 34,
   "metadata": {
    "colab": {
     "base_uri": "https://localhost:8080/",
     "height": 374
    },
    "colab_type": "code",
    "id": "I26g1CDx6V08",
    "outputId": "4176855f-151c-4587-fb2d-6477a4bae3a5"
   },
   "outputs": [
    {
     "data": {
      "text/plain": [
       "(24249,\n",
       " ['parthians',\n",
       "  'fracturing',\n",
       "  'banqueting',\n",
       "  'eazy',\n",
       "  'daspletosaurus',\n",
       "  'grassland',\n",
       "  'tabari',\n",
       "  'molybdenum',\n",
       "  'hetch',\n",
       "  'coronae',\n",
       "  'troon',\n",
       "  'zaculeu',\n",
       "  'parturition',\n",
       "  'oxendine',\n",
       "  'avars',\n",
       "  'phosphate',\n",
       "  'qingdao',\n",
       "  'cdot',\n",
       "  'litre',\n",
       "  'allman'])"
      ]
     },
     "execution_count": 34,
     "metadata": {},
     "output_type": "execute_result"
    }
   ],
   "source": [
    "wiki_not_imdb = wiki_words.difference(imdb_words)\n",
    "len(wiki_not_imdb), [val for i, val in enumerate(itertools.islice(wiki_not_imdb, 20))]"
   ]
  },
  {
   "cell_type": "markdown",
   "metadata": {
    "colab_type": "text",
    "id": "6Sgs5yytcmMH"
   },
   "source": [
    "คำศัพท์ที่อยู่ใน vocab ของ IMDB แต่ไม่อยู่ใน vocab ของ Wiki"
   ]
  },
  {
   "cell_type": "code",
   "execution_count": 35,
   "metadata": {
    "colab": {
     "base_uri": "https://localhost:8080/",
     "height": 374
    },
    "colab_type": "code",
    "id": "srgNlWXU7CSf",
    "outputId": "8f58ea44-c05b-4be1-946b-5c190989fc5b"
   },
   "outputs": [
    {
     "data": {
      "text/plain": [
       "(24249,\n",
       " ['klemperer',\n",
       "  'shim',\n",
       "  'kitschy',\n",
       "  '.see',\n",
       "  'shadowzone',\n",
       "  'serbedzija',\n",
       "  'phoning',\n",
       "  '\\x85\\x85\\x85\\x85',\n",
       "  'bachan',\n",
       "  'keefer',\n",
       "  'hallstrom',\n",
       "  'tracie',\n",
       "  'overhear',\n",
       "  'swankiest',\n",
       "  'bishof',\n",
       "  '1000-word',\n",
       "  'sushma',\n",
       "  'debunking',\n",
       "  'whodunits',\n",
       "  'bevy'])"
      ]
     },
     "execution_count": 35,
     "metadata": {},
     "output_type": "execute_result"
    }
   ],
   "source": [
    "imdb_not_wiki = imdb_words.difference(wiki_words)\n",
    "len(imdb_not_wiki), [val for i, val in enumerate(itertools.islice(imdb_not_wiki, 20))]"
   ]
  },
  {
   "cell_type": "markdown",
   "metadata": {
    "colab_type": "text",
    "id": "6FjdprgSz8Ls"
   },
   "source": [
    "## 4.5 Out of vocab Initialization"
   ]
  },
  {
   "cell_type": "markdown",
   "metadata": {
    "colab_type": "text",
    "id": "HEX-G1NeDvvo"
   },
   "source": [
    "คำว่า verification อยู่ใน vocab ของ WikiText-103 แต่ไม่อยู่ใน IMDB"
   ]
  },
  {
   "cell_type": "code",
   "execution_count": 36,
   "metadata": {
    "colab": {
     "base_uri": "https://localhost:8080/",
     "height": 34
    },
    "colab_type": "code",
    "id": "9GnBSMKWBdbf",
    "outputId": "01b30b18-0972-49b9-be6b-11e56e8eace5"
   },
   "outputs": [
    {
     "data": {
      "text/plain": [
       "(0, True, False)"
      ]
     },
     "execution_count": 36,
     "metadata": {},
     "output_type": "execute_result"
    }
   ],
   "source": [
    "w = \"verification\"\n",
    "vocab.stoi[w], w in wiki_words, w in imdb_words"
   ]
  },
  {
   "cell_type": "markdown",
   "metadata": {
    "colab_type": "text",
    "id": "rG340TnuD8lb"
   },
   "source": [
    "คำเหล่านี้ อยู่ใน vocab ของ IMDB แต่ไม่อยู่ใน WikiText-103 เราจะ Initialize Embedding ของคำเหล่านี้ แบบ Random"
   ]
  },
  {
   "cell_type": "code",
   "execution_count": 37,
   "metadata": {
    "colab": {
     "base_uri": "https://localhost:8080/",
     "height": 34
    },
    "colab_type": "code",
    "id": "bEyYvwpRBdk3",
    "outputId": "dbfc19d5-b0cf-472f-9c32-9ec7e4f3575f"
   },
   "outputs": [
    {
     "data": {
      "text/plain": [
       "(35203, False, True)"
      ]
     },
     "execution_count": 37,
     "metadata": {},
     "output_type": "execute_result"
    }
   ],
   "source": [
    "w = \"senselessness\"\n",
    "vocab.stoi[w], w in wiki_words, w in imdb_words"
   ]
  },
  {
   "cell_type": "code",
   "execution_count": 38,
   "metadata": {
    "colab": {
     "base_uri": "https://localhost:8080/",
     "height": 34
    },
    "colab_type": "code",
    "id": "B0O90Wr9BdQt",
    "outputId": "ceb95d49-49f1-4995-8462-6c3925fd38d5"
   },
   "outputs": [
    {
     "data": {
      "text/plain": [
       "(26730, False, True)"
      ]
     },
     "execution_count": 38,
     "metadata": {},
     "output_type": "execute_result"
    }
   ],
   "source": [
    "w = \"unthinking\"\n",
    "vocab.stoi[w], w in wiki_words, w in imdb_words"
   ]
  },
  {
   "cell_type": "code",
   "execution_count": 39,
   "metadata": {
    "colab": {
     "base_uri": "https://localhost:8080/",
     "height": 34
    },
    "colab_type": "code",
    "id": "TSTzwd_VDTcy",
    "outputId": "236c92d0-60a0-4edf-9378-143ca1cadc3f"
   },
   "outputs": [
    {
     "data": {
      "text/plain": [
       "(43386, False, True)"
      ]
     },
     "execution_count": 39,
     "metadata": {},
     "output_type": "execute_result"
    }
   ],
   "source": [
    "w = \"forklift\"\n",
    "vocab.stoi[w], w in wiki_words, w in imdb_words"
   ]
  },
  {
   "cell_type": "markdown",
   "metadata": {
    "colab_type": "text",
    "id": "HJhTUIXUEPfa"
   },
   "source": [
    "Initialize ด้วยค่า Random เล็ก ๆ ใกล้เคียงกัน"
   ]
  },
  {
   "cell_type": "code",
   "execution_count": 40,
   "metadata": {
    "colab": {
     "base_uri": "https://localhost:8080/",
     "height": 34
    },
    "colab_type": "code",
    "id": "y84tzwkFDThw",
    "outputId": "42adc674-bd25-4dab-f278-1146195164d0"
   },
   "outputs": [
    {
     "data": {
      "text/plain": [
       "True"
      ]
     },
     "execution_count": 40,
     "metadata": {},
     "output_type": "execute_result"
    }
   ],
   "source": [
    "np.allclose(enc.weight[vocab.stoi['senselessness'], :], \n",
    "            enc.weight[vocab.stoi['unthinking'], :])"
   ]
  },
  {
   "cell_type": "markdown",
   "metadata": {
    "colab_type": "text",
    "id": "SDXN4bAVEzAt"
   },
   "source": [
    "แต่ถ้าเทียบกับ Embedding ที่เทรนเรียบร้อยแล้ว ก็จะต่างกันมาก"
   ]
  },
  {
   "cell_type": "code",
   "execution_count": 41,
   "metadata": {
    "colab": {
     "base_uri": "https://localhost:8080/",
     "height": 34
    },
    "colab_type": "code",
    "id": "JsG37-4nEolQ",
    "outputId": "f1ebfba7-62d0-498e-f69b-8b7d46d38368"
   },
   "outputs": [
    {
     "data": {
      "text/plain": [
       "False"
      ]
     },
     "execution_count": 41,
     "metadata": {},
     "output_type": "execute_result"
    }
   ],
   "source": [
    "np.allclose(enc.weight[vocab.stoi['senselessness'], :], \n",
    "            enc.weight[vocab.stoi['capital'], :])"
   ]
  },
  {
   "cell_type": "markdown",
   "metadata": {
    "colab_type": "text",
    "id": "GtBBnw2tHJ6E"
   },
   "source": [
    "3 คำแรกมีใน IMDB แต่คำสุดท้ายไม่มี"
   ]
  },
  {
   "cell_type": "code",
   "execution_count": 42,
   "metadata": {
    "colab": {
     "base_uri": "https://localhost:8080/",
     "height": 34
    },
    "colab_type": "code",
    "id": "yUqteZUSGlig",
    "outputId": "5513f855-3d7f-4570-92ed-b50e12fcd9d1"
   },
   "outputs": [
    {
     "data": {
      "text/plain": [
       "(35203, 26730, 5775, 59669)"
      ]
     },
     "execution_count": 42,
     "metadata": {},
     "output_type": "execute_result"
    }
   ],
   "source": [
    "vocab.stoi['senselessness'], vocab.stoi['unthinking'], vocab.stoi['capital'], vocab.stoi['cpu']"
   ]
  },
  {
   "cell_type": "markdown",
   "metadata": {
    "colab_type": "text",
    "id": "NtLiaEhrdovW"
   },
   "source": [
    "ดู Embedding ของคำที่มีใน IMDB แต่ไม่มีใน Wiki จะเห็นว่าเท่ากันมีค่าเท่ากัน"
   ]
  },
  {
   "cell_type": "code",
   "execution_count": 43,
   "metadata": {
    "colab": {
     "base_uri": "https://localhost:8080/",
     "height": 153
    },
    "colab_type": "code",
    "id": "QrQw3b1bFSip",
    "outputId": "8063c3ce-db3e-4811-e256-3066ff48a2ed"
   },
   "outputs": [
    {
     "data": {
      "text/plain": [
       "(400,\n",
       " tensor([ 0.0253,  0.0026,  0.0423, -0.0274, -0.0110, -0.0100, -0.0628,  0.1794,\n",
       "         -0.1275, -0.2096, -0.0124, -0.0056, -0.0505, -0.0501, -0.0428,  0.1726,\n",
       "         -0.0650, -0.0571, -0.1103,  0.0186,  0.0053, -0.0059,  0.0299,  0.0192,\n",
       "         -0.0240,  0.1432, -0.1064, -0.0097,  0.0100, -0.0399,  0.0282,  0.0319,\n",
       "          0.1297,  0.0687, -0.0047,  0.0168,  0.0201,  0.1346, -0.0336, -0.0449,\n",
       "          0.0265, -0.0756, -0.0225,  0.0196,  0.0221,  0.0214,  0.0077, -0.1311,\n",
       "         -0.1357, -0.0128], device='cuda:0', grad_fn=<SliceBackward>))"
      ]
     },
     "execution_count": 43,
     "metadata": {},
     "output_type": "execute_result"
    }
   ],
   "source": [
    "len(enc.weight[vocab.stoi['senselessness'], :]), enc.weight[vocab.stoi['senselessness'], :][:50]"
   ]
  },
  {
   "cell_type": "code",
   "execution_count": 44,
   "metadata": {
    "colab": {
     "base_uri": "https://localhost:8080/",
     "height": 153
    },
    "colab_type": "code",
    "id": "FRpJWER7GFSY",
    "outputId": "0c33e2c5-c605-4418-8467-886223806d85"
   },
   "outputs": [
    {
     "data": {
      "text/plain": [
       "(400,\n",
       " tensor([ 0.0253,  0.0026,  0.0423, -0.0274, -0.0110, -0.0100, -0.0628,  0.1794,\n",
       "         -0.1275, -0.2096, -0.0124, -0.0056, -0.0505, -0.0501, -0.0428,  0.1726,\n",
       "         -0.0650, -0.0571, -0.1103,  0.0186,  0.0053, -0.0059,  0.0299,  0.0192,\n",
       "         -0.0240,  0.1432, -0.1064, -0.0097,  0.0100, -0.0399,  0.0282,  0.0319,\n",
       "          0.1297,  0.0687, -0.0047,  0.0168,  0.0201,  0.1346, -0.0336, -0.0449,\n",
       "          0.0265, -0.0756, -0.0225,  0.0196,  0.0221,  0.0214,  0.0077, -0.1311,\n",
       "         -0.1357, -0.0128], device='cuda:0', grad_fn=<SliceBackward>))"
      ]
     },
     "execution_count": 44,
     "metadata": {},
     "output_type": "execute_result"
    }
   ],
   "source": [
    "len(enc.weight[vocab.stoi['unthinking'], :]), enc.weight[vocab.stoi['unthinking'], :][:50]"
   ]
  },
  {
   "cell_type": "markdown",
   "metadata": {
    "colab_type": "text",
    "id": "wlDb_b1IewHL"
   },
   "source": [
    "ต่างกับค่าที่มีใน Wiki"
   ]
  },
  {
   "cell_type": "code",
   "execution_count": 45,
   "metadata": {
    "colab": {
     "base_uri": "https://localhost:8080/",
     "height": 153
    },
    "colab_type": "code",
    "id": "YGPMubi2GBjy",
    "outputId": "9d34f9c9-903f-48d0-f6d9-ca77a4bdaefc"
   },
   "outputs": [
    {
     "data": {
      "text/plain": [
       "(400,\n",
       " tensor([-0.2566,  0.1062,  0.3081,  0.2742,  0.1667, -0.1626, -0.5122, -0.1261,\n",
       "          0.4548, -0.4177, -0.1565,  0.0752,  0.2253,  0.2031, -0.3125,  0.0310,\n",
       "          0.5112, -0.3691, -0.2947, -0.0168, -0.1147,  0.3074, -0.1654, -0.2202,\n",
       "          0.0538, -0.4041,  0.1666, -0.0109, -0.2803,  0.3044, -0.2279,  0.1786,\n",
       "         -0.2502, -0.2334,  0.4438,  0.2404,  0.1746,  0.1509,  0.0351,  0.2844,\n",
       "         -0.0244, -0.2031,  0.1228, -0.2357, -0.2065,  0.5811,  0.1338,  0.4087,\n",
       "         -0.5034, -0.0150], device='cuda:0', grad_fn=<SliceBackward>))"
      ]
     },
     "execution_count": 45,
     "metadata": {},
     "output_type": "execute_result"
    }
   ],
   "source": [
    "len(enc.weight[vocab.stoi['capital'], :]), enc.weight[vocab.stoi['capital'], :][:50]"
   ]
  },
  {
   "cell_type": "markdown",
   "metadata": {
    "colab_type": "text",
    "id": "Yk6CdXube1oa"
   },
   "source": [
    "## 4.6 Fake Movie Reviews from WikiText Language Model"
   ]
  },
  {
   "cell_type": "markdown",
   "metadata": {
    "colab_type": "text",
    "id": "OAXmJylQLQuY"
   },
   "source": [
    "ชอบหนังเรื่องนี้เพราะว่า"
   ]
  },
  {
   "cell_type": "code",
   "execution_count": 46,
   "metadata": {
    "colab": {},
    "colab_type": "code",
    "id": "nFwfZm09e1dw"
   },
   "outputs": [],
   "source": [
    "TEXT = \"I loved this film because\"\n",
    "N_WORDS = 60\n",
    "N_SENTENCES = 3"
   ]
  },
  {
   "cell_type": "code",
   "execution_count": 47,
   "metadata": {
    "colab": {
     "base_uri": "https://localhost:8080/",
     "height": 88
    },
    "colab_type": "code",
    "id": "d6AUXgrde1Sc",
    "outputId": "3459adcb-f56f-49e2-cd99-9d4d2cfb0136"
   },
   "outputs": [
    {
     "name": "stdout",
     "output_type": "stream",
     "text": [
      "I loved this film because of its ability to make a film about someone else 's life or death . It is a very rare film , and Michael Yates was hired to direct it , and it was him to be a writer for the film . The director is also a writer for the American film The\n",
      "I loved this film because the script was \" a little bit more elaborate \" than the film , and the movie was to be a \" classic \" . The idea for a sequel was met with controversy , with David Mendelsohn , a British Channel Five correspondent , quoted in a 2002 article as saying , \"\n",
      "I loved this film because it was one of his most common films . Incorporating the film 's sex scene into the film , he wrote and sung the song \" You Are the Only One That is In Life \" , which the French actress Luc Besson shot in the scene with\n"
     ]
    }
   ],
   "source": [
    "print(\"\\n\".join(learn_lm.predict(TEXT, N_WORDS, temperature=0.75) for _ in range(N_SENTENCES)))"
   ]
  },
  {
   "cell_type": "markdown",
   "metadata": {
    "colab_type": "text",
    "id": "Dh1Lx42-e1Hn"
   },
   "source": [
    "ไม่ชอบหนังเรื่องนี้เพราะว่า"
   ]
  },
  {
   "cell_type": "code",
   "execution_count": 48,
   "metadata": {
    "colab": {},
    "colab_type": "code",
    "id": "M7cwr8R_K-7N"
   },
   "outputs": [],
   "source": [
    "TEXT = \"I hated this movie because\"\n",
    "N_WORDS = 60\n",
    "N_SENTENCES = 3"
   ]
  },
  {
   "cell_type": "code",
   "execution_count": 49,
   "metadata": {
    "colab": {
     "base_uri": "https://localhost:8080/",
     "height": 88
    },
    "colab_type": "code",
    "id": "MWjBneZlK-7Y",
    "outputId": "fc3cfccd-c9ed-4230-c46d-610ac35a34f3"
   },
   "outputs": [
    {
     "name": "stdout",
     "output_type": "stream",
     "text": [
      "I hated this movie because of its association with a film . The film was also well - received by critics . The New York Times 's Robert Bianco described the film as \" bland , confusing , and quite overly entertaining \" , while Peter Travers of Rolling Stone called it \" a\n",
      "I hated this movie because it was not a \" horror \" . Using a spy film , the film was released on DVD as a double album , release it as a DVD . It is now available on commercial DVD . \n",
      " \n",
      "  = = Reception = = \n",
      " \n",
      "  The film was released on DVD and\n",
      "I hated this movie because it was like Queen Elizabeth i was a child . It was adopted by the British Royal Navy . Biographer Edward Kerr notes that Agatha is an example of the film 's violence , and that there are no other elements of the video that were viewed as \" explicitly\n"
     ]
    }
   ],
   "source": [
    "print(\"\\n\".join(learn_lm.predict(TEXT, N_WORDS, temperature=0.75) for _ in range(N_SENTENCES)))"
   ]
  },
  {
   "cell_type": "markdown",
   "metadata": {
    "colab_type": "text",
    "id": "qobUE-6be08L"
   },
   "source": [
    "หนังเรื่องนี้ ... จริง ๆ"
   ]
  },
  {
   "cell_type": "code",
   "execution_count": 50,
   "metadata": {
    "colab": {},
    "colab_type": "code",
    "id": "SACKmLUsL5SE"
   },
   "outputs": [],
   "source": [
    "TEXT = \"This movie is really\"\n",
    "N_WORDS = 60\n",
    "N_SENTENCES = 3"
   ]
  },
  {
   "cell_type": "code",
   "execution_count": 51,
   "metadata": {
    "colab": {
     "base_uri": "https://localhost:8080/",
     "height": 156
    },
    "colab_type": "code",
    "id": "fNGx-oNdL5SW",
    "outputId": "1050f7be-a199-48b4-9e35-f85160539d9b"
   },
   "outputs": [
    {
     "name": "stdout",
     "output_type": "stream",
     "text": [
      "This movie is really the first film shown in the United States ; MGM ; William Blackstone and Richard Wright ; Frank Studios , Hollywood ; Thomas Edison ; and Walter Jackson . In February 2012 , the first U.S. state - sponsored film and radio show\n",
      "This movie is really a parody of the American film The King of Pop , in which King George v is the King of Britain . The film , portrayed by John Adams , is directed by Mark Kirkland , and portrays King George VI , who inaugural\n",
      "This movie is really a film that is a very different from the Mario Kart franchise , and therefore the film is not a classic . As a result , Fox Interactive 's Los Angeles Productions , Fox Searchlight Pictures , Universal Pictures , and Fox Pictures folded the\n"
     ]
    }
   ],
   "source": [
    "print(\"\\n\".join(learn_lm.predict(TEXT, N_WORDS, temperature=0.75) for _ in range(N_SENTENCES)))"
   ]
  },
  {
   "cell_type": "markdown",
   "metadata": {
    "colab_type": "text",
    "id": "ChqrRbWje0w_"
   },
   "source": [
    "ลด temperature ลง ทำให้ข้อความ Random น้อยลง"
   ]
  },
  {
   "cell_type": "code",
   "execution_count": 52,
   "metadata": {
    "colab": {},
    "colab_type": "code",
    "id": "4pr4SUTzNVWZ"
   },
   "outputs": [],
   "source": [
    "TEXT = \"This movie is really\"\n",
    "N_WORDS = 60\n",
    "N_SENTENCES = 3"
   ]
  },
  {
   "cell_type": "code",
   "execution_count": 53,
   "metadata": {
    "colab": {
     "base_uri": "https://localhost:8080/",
     "height": 122
    },
    "colab_type": "code",
    "id": "35UjPxCXNVWf",
    "outputId": "0bd9860a-1b14-458d-f0da-f1dc74321d31"
   },
   "outputs": [
    {
     "name": "stdout",
     "output_type": "stream",
     "text": [
      "This movie is really a British film , and it is not a direct sequel to The Lord of the Rings . The film was released on DVD in November 2007 . The film was released on DVD in November 2007 , and in November 2008 in the United Kingdom .\n",
      "This movie is really a British film , and it is not a direct sequel to The Lord of the Rings . The film was released on DVD in November 2010 . The film was released on DVD in November 2010 . \n",
      " \n",
      "  = = Reception = = \n",
      " \n",
      "  The Guardian\n",
      "This movie is really a British film , and is a direct reference to the British film The Lord of the Rings . The film was released on DVD in November 2007 , and in Europe on October 1 , 2007 . The film was released on DVD in North\n"
     ]
    }
   ],
   "source": [
    "print(\"\\n\".join(learn_lm.predict(TEXT, N_WORDS, temperature=0.1) for _ in range(N_SENTENCES)))"
   ]
  },
  {
   "cell_type": "markdown",
   "metadata": {
    "colab_type": "text",
    "id": "GmisUEAANW7s"
   },
   "source": [
    "# 5. Train Model"
   ]
  },
  {
   "cell_type": "markdown",
   "metadata": {
    "colab_type": "text",
    "id": "BoXFdZQFTenY"
   },
   "source": [
    "## 5.1 Train Last Layer"
   ]
  },
  {
   "cell_type": "markdown",
   "metadata": {
    "colab_type": "text",
    "id": "pvvXFNsEUAB4"
   },
   "source": [
    "เทรน Layer สุดท้าย"
   ]
  },
  {
   "cell_type": "code",
   "execution_count": 54,
   "metadata": {
    "colab": {
     "base_uri": "https://localhost:8080/",
     "height": 330
    },
    "colab_type": "code",
    "id": "lKwL_MTmNXBg",
    "outputId": "07108bae-5961-452d-86ab-7153f4caef30"
   },
   "outputs": [
    {
     "data": {
      "text/html": [],
      "text/plain": [
       "<IPython.core.display.HTML object>"
      ]
     },
     "metadata": {},
     "output_type": "display_data"
    },
    {
     "name": "stdout",
     "output_type": "stream",
     "text": [
      "LR Finder is complete, type {learner_name}.recorder.plot() to see the graph.\n",
      "Min numerical gradient: 6.31E-07\n",
      "Min loss divided by 10: 4.79E-03\n"
     ]
    },
    {
     "data": {
      "image/png": "[encoded data removed]",
      "text/plain": [
       "<Figure size 432x288 with 1 Axes>"
      ]
     },
     "metadata": {
      "needs_background": "light"
     },
     "output_type": "display_data"
    }
   ],
   "source": [
    "learn_lm.lr_find()\n",
    "learn_lm.recorder.plot(suggestion=True)"
   ]
  },
  {
   "cell_type": "code",
   "execution_count": 55,
   "metadata": {
    "colab": {},
    "colab_type": "code",
    "id": "n_V0rW6sNXGe"
   },
   "outputs": [],
   "source": [
    "lr = 3e-2"
   ]
  },
  {
   "cell_type": "code",
   "execution_count": 56,
   "metadata": {
    "colab": {},
    "colab_type": "code",
    "id": "_AU3fwPXNXK5"
   },
   "outputs": [],
   "source": [
    "learn_lm.to_fp16();"
   ]
  },
  {
   "cell_type": "code",
   "execution_count": 57,
   "metadata": {
    "colab": {
     "base_uri": "https://localhost:8080/",
     "height": 95
    },
    "colab_type": "code",
    "id": "QmQlysxnRfIt",
    "outputId": "c6417ec9-8af4-4cfd-8996-64b31af2c73a"
   },
   "outputs": [
    {
     "data": {
      "text/html": [
       "<table border=\"1\" class=\"dataframe\">\n",
       "  <thead>\n",
       "    <tr style=\"text-align: left;\">\n",
       "      <th>epoch</th>\n",
       "      <th>train_loss</th>\n",
       "      <th>valid_loss</th>\n",
       "      <th>accuracy</th>\n",
       "      <th>time</th>\n",
       "    </tr>\n",
       "  </thead>\n",
       "  <tbody>\n",
       "    <tr>\n",
       "      <td>0</td>\n",
       "      <td>4.249955</td>\n",
       "      <td>3.621373</td>\n",
       "      <td>0.371429</td>\n",
       "      <td>43:07</td>\n",
       "    </tr>\n",
       "  </tbody>\n",
       "</table>"
      ],
      "text/plain": [
       "<IPython.core.display.HTML object>"
      ]
     },
     "metadata": {},
     "output_type": "display_data"
    }
   ],
   "source": [
    "learn_lm.fit_one_cycle(1, lr, moms=(0.8, 0.7), \n",
    "                       callbacks=[SaveModelCallback(learn, every='epoch', monitor='accuracy')])"
   ]
  },
  {
   "cell_type": "code",
   "execution_count": 61,
   "metadata": {
    "colab": {},
    "colab_type": "code",
    "id": "dj83i97WNXPi"
   },
   "outputs": [],
   "source": [
    "learn_lm.save(\"26g-01\")"
   ]
  },
  {
   "cell_type": "code",
   "execution_count": 64,
   "metadata": {
    "colab": {},
    "colab_type": "code",
    "id": "B5z_yEQ8NXUL"
   },
   "outputs": [],
   "source": [
    "learn_lm.load(\"26g-01\");"
   ]
  },
  {
   "cell_type": "markdown",
   "metadata": {
    "colab_type": "text",
    "id": "IpFp-HQ_SMxG"
   },
   "source": [
    "## 5.2 Unfreeze and Train whole model"
   ]
  },
  {
   "cell_type": "code",
   "execution_count": 65,
   "metadata": {
    "colab": {},
    "colab_type": "code",
    "id": "wX73rJRYSJhF"
   },
   "outputs": [],
   "source": [
    "learn_lm.unfreeze()"
   ]
  },
  {
   "cell_type": "code",
   "execution_count": 68,
   "metadata": {
    "colab": {},
    "colab_type": "code",
    "id": "yQkYeJBnSJmE"
   },
   "outputs": [
    {
     "name": "stdout",
     "output_type": "stream",
     "text": [
      "Min numerical gradient: 7.59E-07\n",
      "Min loss divided by 10: 1.20E-04\n"
     ]
    },
    {
     "data": {
      "image/png": "[encoded data removed]",
      "text/plain": [
       "<Figure size 432x288 with 1 Axes>"
      ]
     },
     "metadata": {
      "needs_background": "light"
     },
     "output_type": "display_data"
    }
   ],
   "source": [
    "learn_lm.lr_find()\n",
    "learn_lm.recorder.plot(suggestion=True)"
   ]
  },
  {
   "cell_type": "code",
   "execution_count": 69,
   "metadata": {
    "colab": {},
    "colab_type": "code",
    "id": "R2-Zn1GCSJrI"
   },
   "outputs": [],
   "source": [
    "lr = slice(1e-6, 1e-3)"
   ]
  },
  {
   "cell_type": "code",
   "execution_count": 75,
   "metadata": {
    "colab": {},
    "colab_type": "code",
    "id": "IOL9Nyv6SJvy"
   },
   "outputs": [
    {
     "data": {
      "text/html": [
       "<table border=\"1\" class=\"dataframe\">\n",
       "  <thead>\n",
       "    <tr style=\"text-align: left;\">\n",
       "      <th>epoch</th>\n",
       "      <th>train_loss</th>\n",
       "      <th>valid_loss</th>\n",
       "      <th>accuracy</th>\n",
       "      <th>time</th>\n",
       "    </tr>\n",
       "  </thead>\n",
       "  <tbody>\n",
       "    <tr>\n",
       "      <td>0</td>\n",
       "      <td>4.032920</td>\n",
       "      <td>3.500813</td>\n",
       "      <td>0.414286</td>\n",
       "      <td>50:54</td>\n",
       "    </tr>\n",
       "    <tr>\n",
       "      <td>1</td>\n",
       "      <td>3.981747</td>\n",
       "      <td>3.455713</td>\n",
       "      <td>0.428571</td>\n",
       "      <td>50:53</td>\n",
       "    </tr>\n",
       "    <tr>\n",
       "      <td>2</td>\n",
       "      <td>3.931693</td>\n",
       "      <td>3.372495</td>\n",
       "      <td>0.414286</td>\n",
       "      <td>50:54</td>\n",
       "    </tr>\n",
       "    <tr>\n",
       "      <td>3</td>\n",
       "      <td>3.915625</td>\n",
       "      <td>3.288931</td>\n",
       "      <td>0.442857</td>\n",
       "      <td>50:51</td>\n",
       "    </tr>\n",
       "    <tr>\n",
       "      <td>4</td>\n",
       "      <td>3.876479</td>\n",
       "      <td>3.239455</td>\n",
       "      <td>0.428571</td>\n",
       "      <td>50:51</td>\n",
       "    </tr>\n",
       "    <tr>\n",
       "      <td>5</td>\n",
       "      <td>3.841878</td>\n",
       "      <td>3.287216</td>\n",
       "      <td>0.414286</td>\n",
       "      <td>50:51</td>\n",
       "    </tr>\n",
       "    <tr>\n",
       "      <td>6</td>\n",
       "      <td>3.828056</td>\n",
       "      <td>3.251661</td>\n",
       "      <td>0.428571</td>\n",
       "      <td>50:53</td>\n",
       "    </tr>\n",
       "    <tr>\n",
       "      <td>7</td>\n",
       "      <td>3.827854</td>\n",
       "      <td>3.245939</td>\n",
       "      <td>0.414286</td>\n",
       "      <td>50:54</td>\n",
       "    </tr>\n",
       "    <tr>\n",
       "      <td>8</td>\n",
       "      <td>3.794521</td>\n",
       "      <td>3.241598</td>\n",
       "      <td>0.414286</td>\n",
       "      <td>50:53</td>\n",
       "    </tr>\n",
       "    <tr>\n",
       "      <td>9</td>\n",
       "      <td>3.790094</td>\n",
       "      <td>3.236650</td>\n",
       "      <td>0.414286</td>\n",
       "      <td>50:50</td>\n",
       "    </tr>\n",
       "  </tbody>\n",
       "</table>"
      ],
      "text/plain": [
       "<IPython.core.display.HTML object>"
      ]
     },
     "metadata": {},
     "output_type": "display_data"
    },
    {
     "data": {
      "image/png": "[encoded data removed]",
      "text/plain": [
       "<Figure size 432x288 with 1 Axes>"
      ]
     },
     "metadata": {},
     "output_type": "display_data"
    }
   ],
   "source": [
    "learn_lm.fit_one_cycle(10, max_lr=lr, moms=(0.8, 0.7), \n",
    "                      callbacks=[SaveModelCallback(learn_lm, every='epoch', monitor='accuracy')])"
   ]
  },
  {
   "cell_type": "code",
   "execution_count": 76,
   "metadata": {
    "colab": {},
    "colab_type": "code",
    "id": "nJcGgzYCSJ3P"
   },
   "outputs": [],
   "source": [
    "learn_lm.save(\"26g-02\")"
   ]
  },
  {
   "cell_type": "code",
   "execution_count": 77,
   "metadata": {
    "colab": {},
    "colab_type": "code",
    "id": "VH8dZeaHSKAc"
   },
   "outputs": [],
   "source": [
    "learn_lm.save_encoder(\"26g-02-enc\")"
   ]
  },
  {
   "cell_type": "code",
   "execution_count": 23,
   "metadata": {
    "colab": {},
    "colab_type": "code",
    "id": "Vxv2WUhzSJ8Y"
   },
   "outputs": [],
   "source": [
    "learn_lm.load(\"26g-02\");"
   ]
  },
  {
   "cell_type": "markdown",
   "metadata": {
    "colab_type": "text",
    "id": "DFMYILC7SKEk"
   },
   "source": [
    "## 5.3 Check Embedding Again"
   ]
  },
  {
   "cell_type": "markdown",
   "metadata": {},
   "source": [
    "ลองเช็คอีกครั้ง หลังจากเทรนเสร็จแล้ว Embedding ของทั้ง 2 คำ มีค่าต่างกันแล้ว"
   ]
  },
  {
   "cell_type": "code",
   "execution_count": 78,
   "metadata": {
    "colab": {
     "base_uri": "https://localhost:8080/",
     "height": 34
    },
    "colab_type": "code",
    "id": "PBLu-lfDUWJX",
    "outputId": "42adc674-bd25-4dab-f278-1146195164d0"
   },
   "outputs": [
    {
     "data": {
      "text/plain": [
       "False"
      ]
     },
     "execution_count": 78,
     "metadata": {},
     "output_type": "execute_result"
    }
   ],
   "source": [
    "np.allclose(enc.weight[vocab.stoi['senselessness'], :], \n",
    "            enc.weight[vocab.stoi['unthinking'], :])"
   ]
  },
  {
   "cell_type": "markdown",
   "metadata": {
    "colab_type": "text",
    "id": "FzJ4AsIlUWJl"
   },
   "source": [
    "3 คำแรกมีใน IMDB แต่คำสุดท้ายไม่มี"
   ]
  },
  {
   "cell_type": "code",
   "execution_count": 80,
   "metadata": {
    "colab": {
     "base_uri": "https://localhost:8080/",
     "height": 34
    },
    "colab_type": "code",
    "id": "67lPmtvYUWJm",
    "outputId": "5513f855-3d7f-4570-92ed-b50e12fcd9d1"
   },
   "outputs": [
    {
     "data": {
      "text/plain": [
       "(35203, 26730, 5775, 59669)"
      ]
     },
     "execution_count": 80,
     "metadata": {},
     "output_type": "execute_result"
    }
   ],
   "source": [
    "vocab.stoi['senselessness'], vocab.stoi['unthinking'], vocab.stoi['capital'], vocab.stoi['cpu']"
   ]
  },
  {
   "cell_type": "markdown",
   "metadata": {
    "colab_type": "text",
    "id": "83R4iOGwUWJp"
   },
   "source": [
    "ดู Embedding ของคำที่มีใน IMDB แต่ไม่มีใน Wiki จะเห็นว่าแต่ละคำค่า Embedding ได้เปลี่ยนไปเรียบร้อยแล้ว ไม่มีคำไหนค่าซ้ำกันเลย"
   ]
  },
  {
   "cell_type": "code",
   "execution_count": 85,
   "metadata": {
    "colab": {
     "base_uri": "https://localhost:8080/",
     "height": 153
    },
    "colab_type": "code",
    "id": "9C4XvvRiUWJq",
    "outputId": "8063c3ce-db3e-4811-e256-3066ff48a2ed"
   },
   "outputs": [
    {
     "data": {
      "text/plain": [
       "(400,\n",
       " tensor([ 0.1224, -0.6694, -0.2054,  0.6274, -0.4873, -0.7456,  0.2047,  0.5698,\n",
       "         -0.6025, -0.6812,  0.1405, -0.3894, -0.5239, -0.3218,  0.3420,  0.7729,\n",
       "         -0.1395,  0.0392, -0.8257,  0.0452, -0.5801,  0.1185,  0.2291, -0.0627,\n",
       "         -0.1638,  0.0775,  0.0053, -0.2571,  0.9458,  0.0737, -0.1927,  0.1714,\n",
       "          0.9570,  0.4788, -0.0369,  0.4170,  0.4446, -0.1305,  0.1366, -0.5181,\n",
       "          0.8120, -1.5205, -0.8071,  0.3977,  0.1952, -0.1271, -0.5962, -0.7720,\n",
       "         -0.7632,  0.7969], device='cuda:0', dtype=torch.float16,\n",
       "        grad_fn=<SliceBackward>))"
      ]
     },
     "execution_count": 85,
     "metadata": {},
     "output_type": "execute_result"
    }
   ],
   "source": [
    "len(enc.weight[vocab.stoi['senselessness'], :]), enc.weight[vocab.stoi['senselessness'], :][:50]"
   ]
  },
  {
   "cell_type": "code",
   "execution_count": 86,
   "metadata": {
    "colab": {
     "base_uri": "https://localhost:8080/",
     "height": 153
    },
    "colab_type": "code",
    "id": "2GsG5ylMUWJu",
    "outputId": "0c33e2c5-c605-4418-8467-886223806d85"
   },
   "outputs": [
    {
     "data": {
      "text/plain": [
       "(400,\n",
       " tensor([-0.3477, -0.0908,  0.0530, -0.2450, -0.4429, -0.1631, -0.0114,  0.1377,\n",
       "          0.0904, -1.0977, -0.0850,  0.8584, -0.2703, -0.3167, -1.1924,  0.7695,\n",
       "         -0.4045, -0.0170, -0.2595,  0.0365, -0.8438, -0.8374,  0.4578, -0.0986,\n",
       "          0.2062, -0.1838, -0.0183, -0.6616, -0.5776, -0.9878, -0.6177,  0.6006,\n",
       "          0.9126,  0.5083,  0.4792, -1.1719, -0.8950,  0.3687, -0.0936,  0.2191,\n",
       "          0.1821, -1.2637, -0.5366,  0.6582,  0.0194, -0.2578,  0.7749, -0.5820,\n",
       "         -1.2959,  0.3721], device='cuda:0', dtype=torch.float16,\n",
       "        grad_fn=<SliceBackward>))"
      ]
     },
     "execution_count": 86,
     "metadata": {},
     "output_type": "execute_result"
    }
   ],
   "source": [
    "len(enc.weight[vocab.stoi['unthinking'], :]), enc.weight[vocab.stoi['unthinking'], :][:50]"
   ]
  },
  {
   "cell_type": "code",
   "execution_count": 87,
   "metadata": {
    "colab": {
     "base_uri": "https://localhost:8080/",
     "height": 153
    },
    "colab_type": "code",
    "id": "Oynm4TdcUWJy",
    "outputId": "9d34f9c9-903f-48d0-f6d9-ca77a4bdaefc"
   },
   "outputs": [
    {
     "data": {
      "text/plain": [
       "(400, tensor([-9.8047e-01, -7.6367e-01,  3.6835e-02,  4.0796e-01,  3.1958e-01,\n",
       "         -1.0098e+00, -3.7354e-01,  1.7151e-01,  4.1650e-01,  3.5156e-01,\n",
       "         -2.8442e-01,  1.8103e-01, -7.5732e-01, -6.8994e-01,  3.9331e-01,\n",
       "          1.5615e+00,  7.7148e-01, -8.4619e-01, -1.0889e+00, -3.2196e-02,\n",
       "         -1.1359e-01,  1.5430e+00,  7.8418e-01, -3.3984e-01,  3.1177e-01,\n",
       "          1.3107e-02,  1.2100e+00, -6.9727e-01, -3.0127e-01,  1.6138e-01,\n",
       "          5.0830e-01,  1.1289e+00, -1.0956e-01,  1.9562e-02,  1.1835e-01,\n",
       "          6.6699e-01,  6.5820e-01,  1.1129e-03, -4.9170e-01,  1.0663e-01,\n",
       "         -2.1155e-01, -1.9629e+00, -1.1416e+00,  1.5784e-01,  6.1182e-01,\n",
       "          1.8018e+00, -3.0933e-01,  3.0426e-02, -9.9463e-01,  1.7664e-01],\n",
       "        device='cuda:0', dtype=torch.float16, grad_fn=<SliceBackward>))"
      ]
     },
     "execution_count": 87,
     "metadata": {},
     "output_type": "execute_result"
    }
   ],
   "source": [
    "len(enc.weight[vocab.stoi['capital'], :]), enc.weight[vocab.stoi['capital'], :][:50]"
   ]
  },
  {
   "cell_type": "markdown",
   "metadata": {
    "colab_type": "text",
    "id": "Yk6CdXube1oa"
   },
   "source": [
    "## 5.4 Fake Movie Reviews from IMDB Language Model"
   ]
  },
  {
   "cell_type": "markdown",
   "metadata": {},
   "source": [
    "เราจะลอง Generate รีวิวหนัง Movie Reviews ใหม่จาก Language Model ที่เราเพิ่งเทรนกับ IMDB DataSet เสร็จ"
   ]
  },
  {
   "cell_type": "markdown",
   "metadata": {
    "colab_type": "text",
    "id": "OAXmJylQLQuY"
   },
   "source": [
    "ชอบหนังเรื่องนี้เพราะว่า"
   ]
  },
  {
   "cell_type": "code",
   "execution_count": 96,
   "metadata": {
    "colab": {},
    "colab_type": "code",
    "id": "nFwfZm09e1dw"
   },
   "outputs": [],
   "source": [
    "TEXT = \"I loved this film because\"\n",
    "N_WORDS = 60\n",
    "N_SENTENCES = 3"
   ]
  },
  {
   "cell_type": "code",
   "execution_count": 97,
   "metadata": {
    "colab": {
     "base_uri": "https://localhost:8080/",
     "height": 88
    },
    "colab_type": "code",
    "id": "d6AUXgrde1Sc",
    "outputId": "3459adcb-f56f-49e2-cd99-9d4d2cfb0136"
   },
   "outputs": [
    {
     "name": "stdout",
     "output_type": "stream",
     "text": [
      "I loved this film because it was sort of a bad film , but that was just not bad . The background score , the bad it was bizarre . \n",
      " \n",
      "  The film was a very interesting show . i hope that Bonnie Hunt will be the next Golden Globe nominated actress . The combination of Scarlett\n",
      "I loved this film because i was hoping for some funny scenes . The movie was over the top , and i stopped laughing because i thought the movie was not worth watching . The movie is also funny , but all of the actors were pretty bad . The whole movie was very boring , i was very bored and had\n",
      "I loved this film because it had a great premise . That brought home the feeling she had been on the screen at the time , and it reminded me of Ms. Moore 's famous \" The Touch of Evil . \" And i think the movie is a good idea . With a great cast i\n"
     ]
    }
   ],
   "source": [
    "print(\"\\n\".join(learn_lm.predict(TEXT, N_WORDS, temperature=0.75) for _ in range(N_SENTENCES)))"
   ]
  },
  {
   "cell_type": "markdown",
   "metadata": {
    "colab_type": "text",
    "id": "Dh1Lx42-e1Hn"
   },
   "source": [
    "ไม่ชอบหนังเรื่องนี้เพราะว่า"
   ]
  },
  {
   "cell_type": "code",
   "execution_count": 90,
   "metadata": {
    "colab": {},
    "colab_type": "code",
    "id": "M7cwr8R_K-7N"
   },
   "outputs": [],
   "source": [
    "TEXT = \"I hated this movie because\"\n",
    "N_WORDS = 60\n",
    "N_SENTENCES = 3"
   ]
  },
  {
   "cell_type": "code",
   "execution_count": 91,
   "metadata": {
    "colab": {
     "base_uri": "https://localhost:8080/",
     "height": 88
    },
    "colab_type": "code",
    "id": "MWjBneZlK-7Y",
    "outputId": "fc3cfccd-c9ed-4230-c46d-610ac35a34f3"
   },
   "outputs": [
    {
     "name": "stdout",
     "output_type": "stream",
     "text": [
      "I hated this movie because it has no plot whatsoever and this movie is a total waste . The plot is a typical series of slasher movies that have you do nt take the genre seriously . The plot is basically a mad comedy with a couple of naked women in the middle of the movie . The acting is so bad\n",
      "I hated this movie because it was nothing more than a bunch of movies . The plot was predictable , the characters were n't believable . The story had a couple of sub - plots and everything seemed to be in a different direction . It was like watching a TV movie if you had n't seen it or it was\n",
      "I hated this movie because i love people who hate it and have to believe in the woman that she was of during the Vietnam War . But i think that 's a lot of people who are so really offended by this movie . i ca n't understand why this movie is so bad . This movie is a very\n"
     ]
    }
   ],
   "source": [
    "print(\"\\n\".join(learn_lm.predict(TEXT, N_WORDS, temperature=0.75) for _ in range(N_SENTENCES)))"
   ]
  },
  {
   "cell_type": "markdown",
   "metadata": {
    "colab_type": "text",
    "id": "qobUE-6be08L"
   },
   "source": [
    "หนังเรื่องนี้ ... จริง ๆ"
   ]
  },
  {
   "cell_type": "code",
   "execution_count": 92,
   "metadata": {
    "colab": {},
    "colab_type": "code",
    "id": "SACKmLUsL5SE"
   },
   "outputs": [],
   "source": [
    "TEXT = \"This movie is really\"\n",
    "N_WORDS = 60\n",
    "N_SENTENCES = 3"
   ]
  },
  {
   "cell_type": "code",
   "execution_count": 93,
   "metadata": {
    "colab": {
     "base_uri": "https://localhost:8080/",
     "height": 156
    },
    "colab_type": "code",
    "id": "fNGx-oNdL5SW",
    "outputId": "1050f7be-a199-48b4-9e35-f85160539d9b"
   },
   "outputs": [
    {
     "name": "stdout",
     "output_type": "stream",
     "text": [
      "This movie is really great . If i bought it then i 'd see it . It was a complete chase scene , so i knew i was going to stay with Lewis , but he 's a hot figured - out . Yeah , the movie was great . It still holds up to the best of the\n",
      "This movie is really weak . It is also a very violent movie . It is not that bad . Just a few major changes of plot . \n",
      " \n",
      "  The plot was an sub - par one , with the main characters all walking around and each other with a killer being a beast . This one was actually\n",
      "This movie is really very good . The acting is excellent . The dialogue is written and acted by James Admitting , who is the only actor on the big screen . The actors re - read the book to make a quick , convincing movie , and the Fluff character is n't much - developed .\n"
     ]
    }
   ],
   "source": [
    "print(\"\\n\".join(learn_lm.predict(TEXT, N_WORDS, temperature=0.75) for _ in range(N_SENTENCES)))"
   ]
  },
  {
   "cell_type": "markdown",
   "metadata": {
    "colab_type": "text",
    "id": "ChqrRbWje0w_"
   },
   "source": [
    "ลด temperature ลง ทำให้ข้อความ Random น้อยลง"
   ]
  },
  {
   "cell_type": "code",
   "execution_count": 94,
   "metadata": {
    "colab": {},
    "colab_type": "code",
    "id": "4pr4SUTzNVWZ"
   },
   "outputs": [],
   "source": [
    "TEXT = \"This movie is really\"\n",
    "N_WORDS = 60\n",
    "N_SENTENCES = 3"
   ]
  },
  {
   "cell_type": "code",
   "execution_count": 95,
   "metadata": {
    "colab": {
     "base_uri": "https://localhost:8080/",
     "height": 122
    },
    "colab_type": "code",
    "id": "35UjPxCXNVWf",
    "outputId": "0bd9860a-1b14-458d-f0da-f1dc74321d31"
   },
   "outputs": [
    {
     "name": "stdout",
     "output_type": "stream",
     "text": [
      "This movie is really bad . It 's not even funny . It 's not funny . It 's not funny . It 's not funny . It 's not funny . It 's not funny . It 's not funny . It 's just plain stupid . It 's just plain stupid .\n",
      "This movie is really bad . It 's not even funny . The acting is terrible , the script is terrible , the acting is terrible , the script is bad , the acting is bad , the script is bad , the acting is bad , the directing is bad , the directing is bad , the acting is bad ,\n",
      "This movie is really bad . It 's not even funny . It 's not funny , it 's just plain stupid . It 's just plain stupid . It 's just plain stupid . It 's just plain stupid . The acting is terrible , the acting is bad , the acting is bad , the script\n"
     ]
    }
   ],
   "source": [
    "print(\"\\n\".join(learn_lm.predict(TEXT, N_WORDS, temperature=0.1) for _ in range(N_SENTENCES)))"
   ]
  },
  {
   "cell_type": "markdown",
   "metadata": {
    "colab": {},
    "colab_type": "code",
    "id": "AmV6rLUdTb3T"
   },
   "source": [
    "# 6. Classifier"
   ]
  },
  {
   "cell_type": "markdown",
   "metadata": {},
   "source": [
    "## 6.1 สร้าง Databunch ใหม่สำหรับ Classifier"
   ]
  },
  {
   "cell_type": "markdown",
   "metadata": {},
   "source": [
    "ใช้ Data Block API สร้าง Data Pipeline ใหม่ สำหรรับงาน Classifier ที่จะมี label เป็น positive, negative"
   ]
  },
  {
   "cell_type": "code",
   "execution_count": 24,
   "metadata": {
    "colab": {},
    "colab_type": "code",
    "id": "_qLBSBFmTb8-"
   },
   "outputs": [],
   "source": [
    "bs = 48"
   ]
  },
  {
   "cell_type": "code",
   "execution_count": 25,
   "metadata": {},
   "outputs": [],
   "source": [
    "data_clas = (TextList.from_folder(path, vocab=data_lm.vocab)\n",
    "            .split_by_folder(valid='test')\n",
    "            .label_from_folder(classes=['neg', 'pos'])\n",
    "            .databunch(bs=bs, num_workers=8))"
   ]
  },
  {
   "cell_type": "code",
   "execution_count": 100,
   "metadata": {
    "colab": {},
    "colab_type": "code",
    "id": "iGICfPBITcCh"
   },
   "outputs": [],
   "source": [
    "data_clas.save('26g_imdb_textlist_clas')"
   ]
  },
  {
   "cell_type": "code",
   "execution_count": 26,
   "metadata": {
    "colab": {},
    "colab_type": "code",
    "id": "8LB1eurASJ04"
   },
   "outputs": [],
   "source": [
    "data_clas = load_data(path, '26g_imdb_textlist_clas', bs=bs, num_workers=8)"
   ]
  },
  {
   "cell_type": "code",
   "execution_count": 27,
   "metadata": {},
   "outputs": [
    {
     "data": {
      "text/html": [
       "<table border=\"1\" class=\"dataframe\">\n",
       "  <thead>\n",
       "    <tr style=\"text-align: right;\">\n",
       "      <th>text</th>\n",
       "      <th>target</th>\n",
       "    </tr>\n",
       "  </thead>\n",
       "  <tbody>\n",
       "    <tr>\n",
       "      <td>xxbos xxmaj match 1 : xxmaj tag xxmaj team xxmaj table xxmaj match xxmaj bubba xxmaj ray and xxmaj spike xxmaj dudley vs xxmaj eddie xxmaj guerrero and xxmaj chris xxmaj benoit xxmaj bubba xxmaj ray and xxmaj spike xxmaj dudley started things off with a xxmaj tag xxmaj team xxmaj table xxmaj match against xxmaj eddie xxmaj guerrero and xxmaj chris xxmaj benoit . xxmaj according to the rules</td>\n",
       "      <td>pos</td>\n",
       "    </tr>\n",
       "    <tr>\n",
       "      <td>xxbos * ! ! - xxup spoilers - ! ! * \\n \\n  xxmaj before i begin this , let me say that i have had both the advantages of seeing this movie on the big screen and of having seen the \" xxmaj authorized xxmaj version \" of this movie , remade by xxmaj stephen xxmaj king , himself , in 1997 . \\n \\n  xxmaj both</td>\n",
       "      <td>pos</td>\n",
       "    </tr>\n",
       "    <tr>\n",
       "      <td>xxbos xxmaj here are the matches . . . ( adv . = advantage ) \\n \\n  xxmaj the xxmaj warriors ( xxmaj ultimate xxmaj warrior , xxmaj texas xxmaj tornado and xxmaj legion of xxmaj doom ) v xxmaj the xxmaj perfect xxmaj team ( xxmaj mr xxmaj perfect , xxmaj ax , xxmaj smash and xxmaj crush of xxmaj demolition ) : xxmaj ax is the first</td>\n",
       "      <td>neg</td>\n",
       "    </tr>\n",
       "    <tr>\n",
       "      <td>xxbos xxmaj the freedom of having your own xxmaj sea xxmaj going xxmaj power xxmaj boat , the excitement of going on underwater adventures a rugged , an 's man of an adventurer and xxunk so well endowed ! ) assistants in fine xxmaj bikinis were all definite selling points for \" xxup sea xxup xxunk - 61 ) . \\n \\n  xxmaj just what was the reason for</td>\n",
       "      <td>pos</td>\n",
       "    </tr>\n",
       "    <tr>\n",
       "      <td>xxbos xxmaj prior to this release , xxmaj neil labute had this to say about the 1973 original : \" xxmaj it 's surprising how many people say it 's their favorite soundtrack . i 'm like , come on ! xxmaj you may not like the new one , but if that 's your favorite soundtrack , i do n't know if i * want * you to like</td>\n",
       "      <td>neg</td>\n",
       "    </tr>\n",
       "  </tbody>\n",
       "</table>"
      ],
      "text/plain": [
       "<IPython.core.display.HTML object>"
      ]
     },
     "metadata": {},
     "output_type": "display_data"
    }
   ],
   "source": [
    "data_clas.show_batch()"
   ]
  },
  {
   "cell_type": "markdown",
   "metadata": {},
   "source": [
    "## 6.2 สร้าง Learner สำหรับงาน Classifier"
   ]
  },
  {
   "cell_type": "markdown",
   "metadata": {},
   "source": [
    "สร้าง learner สำหรับงาน Classifier แล้ว Load Encoder จาก Language Model ที่เทรนไว้ด้านบน เป็นการ Transfer Learning เรียกว่า ULMFit"
   ]
  },
  {
   "cell_type": "code",
   "execution_count": 28,
   "metadata": {},
   "outputs": [],
   "source": [
    "learn_clas = text_classifier_learner(data_clas, AWD_LSTM, \n",
    "                                     drop_mult=0.3, \n",
    "                                     callback_fns=[ShowGraph, PeakMemMetric]).to_fp16()"
   ]
  },
  {
   "cell_type": "code",
   "execution_count": 29,
   "metadata": {},
   "outputs": [],
   "source": [
    "learn_clas.load_encoder('26g-02-enc')\n",
    "learn_clas.freeze()"
   ]
  },
  {
   "cell_type": "markdown",
   "metadata": {},
   "source": [
    "## 6.3 เทรน Layer สุดท้าย"
   ]
  },
  {
   "cell_type": "code",
   "execution_count": 109,
   "metadata": {},
   "outputs": [
    {
     "data": {
      "text/html": [],
      "text/plain": [
       "<IPython.core.display.HTML object>"
      ]
     },
     "metadata": {},
     "output_type": "display_data"
    },
    {
     "name": "stdout",
     "output_type": "stream",
     "text": [
      "LR Finder is complete, type {learner_name}.recorder.plot() to see the graph.\n",
      "Min numerical gradient: 3.63E-03\n",
      "Min loss divided by 10: 3.02E-02\n"
     ]
    },
    {
     "data": {
      "image/png": "[encoded data removed]",
      "text/plain": [
       "<Figure size 432x288 with 1 Axes>"
      ]
     },
     "metadata": {
      "needs_background": "light"
     },
     "output_type": "display_data"
    }
   ],
   "source": [
    "learn_clas.lr_find()\n",
    "learn_clas.recorder.plot(suggestion=True)"
   ]
  },
  {
   "cell_type": "code",
   "execution_count": 110,
   "metadata": {},
   "outputs": [],
   "source": [
    "lr = 3e-2"
   ]
  },
  {
   "cell_type": "code",
   "execution_count": 111,
   "metadata": {},
   "outputs": [
    {
     "data": {
      "text/html": [
       "<table border=\"1\" class=\"dataframe\">\n",
       "  <thead>\n",
       "    <tr style=\"text-align: left;\">\n",
       "      <th>epoch</th>\n",
       "      <th>train_loss</th>\n",
       "      <th>valid_loss</th>\n",
       "      <th>accuracy</th>\n",
       "      <th>time</th>\n",
       "    </tr>\n",
       "  </thead>\n",
       "  <tbody>\n",
       "    <tr>\n",
       "      <td>0</td>\n",
       "      <td>0.303565</td>\n",
       "      <td>0.249903</td>\n",
       "      <td>0.897440</td>\n",
       "      <td>04:22</td>\n",
       "    </tr>\n",
       "  </tbody>\n",
       "</table>"
      ],
      "text/plain": [
       "<IPython.core.display.HTML object>"
      ]
     },
     "metadata": {},
     "output_type": "display_data"
    }
   ],
   "source": [
    "learn_clas.fit_one_cycle(1, max_lr=lr, moms=(0.8, 0.7))"
   ]
  },
  {
   "cell_type": "code",
   "execution_count": 112,
   "metadata": {},
   "outputs": [],
   "source": [
    "learn_clas.save('26g-21')"
   ]
  },
  {
   "cell_type": "code",
   "execution_count": 113,
   "metadata": {},
   "outputs": [],
   "source": [
    "learn_clas.load('26g-21');"
   ]
  },
  {
   "cell_type": "markdown",
   "metadata": {},
   "source": [
    "## 6.4 ค่อย ๆ Unfreeze แล้วเทรน Layer Group ต่อ ๆ มา"
   ]
  },
  {
   "cell_type": "code",
   "execution_count": 114,
   "metadata": {},
   "outputs": [],
   "source": [
    "learn_clas.freeze_to(-2)"
   ]
  },
  {
   "cell_type": "code",
   "execution_count": 115,
   "metadata": {},
   "outputs": [
    {
     "data": {
      "text/html": [],
      "text/plain": [
       "<IPython.core.display.HTML object>"
      ]
     },
     "metadata": {},
     "output_type": "display_data"
    },
    {
     "name": "stdout",
     "output_type": "stream",
     "text": [
      "LR Finder is complete, type {learner_name}.recorder.plot() to see the graph.\n",
      "Min numerical gradient: 6.31E-07\n",
      "Min loss divided by 10: 4.79E-07\n"
     ]
    },
    {
     "data": {
      "image/png": "[encoded data removed]",
      "text/plain": [
       "<Figure size 432x288 with 1 Axes>"
      ]
     },
     "metadata": {
      "needs_background": "light"
     },
     "output_type": "display_data"
    }
   ],
   "source": [
    "learn_clas.lr_find()\n",
    "learn_clas.recorder.plot(suggestion=True)"
   ]
  },
  {
   "cell_type": "code",
   "execution_count": 116,
   "metadata": {},
   "outputs": [],
   "source": [
    "lr = 3e-4"
   ]
  },
  {
   "cell_type": "code",
   "execution_count": 117,
   "metadata": {},
   "outputs": [
    {
     "data": {
      "text/html": [
       "<table border=\"1\" class=\"dataframe\">\n",
       "  <thead>\n",
       "    <tr style=\"text-align: left;\">\n",
       "      <th>epoch</th>\n",
       "      <th>train_loss</th>\n",
       "      <th>valid_loss</th>\n",
       "      <th>accuracy</th>\n",
       "      <th>time</th>\n",
       "    </tr>\n",
       "  </thead>\n",
       "  <tbody>\n",
       "    <tr>\n",
       "      <td>0</td>\n",
       "      <td>0.289124</td>\n",
       "      <td>0.227785</td>\n",
       "      <td>0.908520</td>\n",
       "      <td>05:11</td>\n",
       "    </tr>\n",
       "  </tbody>\n",
       "</table>"
      ],
      "text/plain": [
       "<IPython.core.display.HTML object>"
      ]
     },
     "metadata": {},
     "output_type": "display_data"
    }
   ],
   "source": [
    "learn_clas.fit_one_cycle(1, max_lr=lr, moms=(0.8, 0.7))"
   ]
  },
  {
   "cell_type": "code",
   "execution_count": 112,
   "metadata": {},
   "outputs": [],
   "source": [
    "learn_clas.save('26g-22')"
   ]
  },
  {
   "cell_type": "code",
   "execution_count": 113,
   "metadata": {},
   "outputs": [],
   "source": [
    "learn_clas.load('26g-22');"
   ]
  },
  {
   "cell_type": "markdown",
   "metadata": {},
   "source": [
    "## 6.5 ค่อย ๆ Unfreeze แล้วเทรน Layer Group ต่อ ๆ มา"
   ]
  },
  {
   "cell_type": "code",
   "execution_count": 118,
   "metadata": {},
   "outputs": [],
   "source": [
    "learn_clas.freeze_to(-3)"
   ]
  },
  {
   "cell_type": "code",
   "execution_count": 119,
   "metadata": {},
   "outputs": [
    {
     "data": {
      "text/html": [],
      "text/plain": [
       "<IPython.core.display.HTML object>"
      ]
     },
     "metadata": {},
     "output_type": "display_data"
    },
    {
     "name": "stdout",
     "output_type": "stream",
     "text": [
      "LR Finder is complete, type {learner_name}.recorder.plot() to see the graph.\n",
      "Min numerical gradient: 7.59E-05\n",
      "Min loss divided by 10: 3.31E-05\n"
     ]
    },
    {
     "data": {
      "image/png": "[encoded data removed]",
      "text/plain": [
       "<Figure size 432x288 with 1 Axes>"
      ]
     },
     "metadata": {
      "needs_background": "light"
     },
     "output_type": "display_data"
    }
   ],
   "source": [
    "learn_clas.lr_find()\n",
    "learn_clas.recorder.plot(suggestion=True)"
   ]
  },
  {
   "cell_type": "code",
   "execution_count": 120,
   "metadata": {},
   "outputs": [],
   "source": [
    "lr = 3e-5"
   ]
  },
  {
   "cell_type": "code",
   "execution_count": 121,
   "metadata": {},
   "outputs": [
    {
     "data": {
      "text/html": [
       "<table border=\"1\" class=\"dataframe\">\n",
       "  <thead>\n",
       "    <tr style=\"text-align: left;\">\n",
       "      <th>epoch</th>\n",
       "      <th>train_loss</th>\n",
       "      <th>valid_loss</th>\n",
       "      <th>accuracy</th>\n",
       "      <th>time</th>\n",
       "    </tr>\n",
       "  </thead>\n",
       "  <tbody>\n",
       "    <tr>\n",
       "      <td>0</td>\n",
       "      <td>0.273182</td>\n",
       "      <td>0.219209</td>\n",
       "      <td>0.912280</td>\n",
       "      <td>06:21</td>\n",
       "    </tr>\n",
       "  </tbody>\n",
       "</table>"
      ],
      "text/plain": [
       "<IPython.core.display.HTML object>"
      ]
     },
     "metadata": {},
     "output_type": "display_data"
    }
   ],
   "source": [
    "learn_clas.fit_one_cycle(1, max_lr=lr, moms=(0.8, 0.7))"
   ]
  },
  {
   "cell_type": "code",
   "execution_count": 122,
   "metadata": {},
   "outputs": [],
   "source": [
    "learn_clas.save('26g-23')"
   ]
  },
  {
   "cell_type": "code",
   "execution_count": 44,
   "metadata": {},
   "outputs": [],
   "source": [
    "learn_clas.load('26g-23');"
   ]
  },
  {
   "cell_type": "markdown",
   "metadata": {},
   "source": [
    "## 6.6 Unfreeze แล้วเทรนทั้งโมเดล"
   ]
  },
  {
   "cell_type": "code",
   "execution_count": 31,
   "metadata": {},
   "outputs": [],
   "source": [
    "learn_clas.unfreeze()"
   ]
  },
  {
   "cell_type": "code",
   "execution_count": 124,
   "metadata": {},
   "outputs": [
    {
     "data": {
      "text/html": [],
      "text/plain": [
       "<IPython.core.display.HTML object>"
      ]
     },
     "metadata": {},
     "output_type": "display_data"
    },
    {
     "name": "stdout",
     "output_type": "stream",
     "text": [
      "LR Finder is complete, type {learner_name}.recorder.plot() to see the graph.\n",
      "Min numerical gradient: 6.31E-07\n",
      "Min loss divided by 10: 2.29E-07\n"
     ]
    },
    {
     "data": {
      "image/png": "[encoded data removed]",
      "text/plain": [
       "<Figure size 432x288 with 1 Axes>"
      ]
     },
     "metadata": {
      "needs_background": "light"
     },
     "output_type": "display_data"
    }
   ],
   "source": [
    "learn_clas.lr_find()\n",
    "learn_clas.recorder.plot(suggestion=True)"
   ]
  },
  {
   "cell_type": "code",
   "execution_count": 45,
   "metadata": {},
   "outputs": [],
   "source": [
    "lr = 1e-4"
   ]
  },
  {
   "cell_type": "code",
   "execution_count": 46,
   "metadata": {},
   "outputs": [
    {
     "data": {
      "text/html": [
       "<table border=\"1\" class=\"dataframe\">\n",
       "  <thead>\n",
       "    <tr style=\"text-align: left;\">\n",
       "      <th>epoch</th>\n",
       "      <th>train_loss</th>\n",
       "      <th>valid_loss</th>\n",
       "      <th>accuracy</th>\n",
       "      <th>cpu used</th>\n",
       "      <th>peak</th>\n",
       "      <th>gpu used</th>\n",
       "      <th>peak</th>\n",
       "      <th>time</th>\n",
       "    </tr>\n",
       "  </thead>\n",
       "  <tbody>\n",
       "    <tr>\n",
       "      <td>0</td>\n",
       "      <td>0.238589</td>\n",
       "      <td>0.204887</td>\n",
       "      <td>0.920960</td>\n",
       "      <td>0</td>\n",
       "      <td>1</td>\n",
       "      <td>534</td>\n",
       "      <td>5616</td>\n",
       "      <td>07:56</td>\n",
       "    </tr>\n",
       "    <tr>\n",
       "      <td>1</td>\n",
       "      <td>0.219932</td>\n",
       "      <td>0.181843</td>\n",
       "      <td>0.930400</td>\n",
       "      <td>10</td>\n",
       "      <td>11</td>\n",
       "      <td>0</td>\n",
       "      <td>5680</td>\n",
       "      <td>08:43</td>\n",
       "    </tr>\n",
       "    <tr>\n",
       "      <td>2</td>\n",
       "      <td>0.176504</td>\n",
       "      <td>0.171677</td>\n",
       "      <td>0.934720</td>\n",
       "      <td>0</td>\n",
       "      <td>1</td>\n",
       "      <td>0</td>\n",
       "      <td>5664</td>\n",
       "      <td>08:43</td>\n",
       "    </tr>\n",
       "    <tr>\n",
       "      <td>3</td>\n",
       "      <td>0.160201</td>\n",
       "      <td>0.172728</td>\n",
       "      <td>0.934360</td>\n",
       "      <td>0</td>\n",
       "      <td>1</td>\n",
       "      <td>0</td>\n",
       "      <td>5712</td>\n",
       "      <td>09:01</td>\n",
       "    </tr>\n",
       "  </tbody>\n",
       "</table>"
      ],
      "text/plain": [
       "<IPython.core.display.HTML object>"
      ]
     },
     "metadata": {},
     "output_type": "display_data"
    },
    {
     "data": {
      "image/png": "[encoded data removed]",
      "text/plain": [
       "<Figure size 432x288 with 1 Axes>"
      ]
     },
     "metadata": {},
     "output_type": "display_data"
    }
   ],
   "source": [
    "learn_clas.fit_one_cycle(4, max_lr=lr, moms=(0.8, 0.7))"
   ]
  },
  {
   "cell_type": "markdown",
   "metadata": {},
   "source": [
    "โมเดลของเรา สามารถ Predict IMDB DataSet Sentiment Classification ได้ Accuracy ถึง 94%"
   ]
  },
  {
   "cell_type": "code",
   "execution_count": 47,
   "metadata": {},
   "outputs": [],
   "source": [
    "learn_clas.save('26g-24')"
   ]
  },
  {
   "cell_type": "code",
   "execution_count": 48,
   "metadata": {},
   "outputs": [],
   "source": [
    "learn_clas.load('26g-24');"
   ]
  },
  {
   "cell_type": "markdown",
   "metadata": {},
   "source": [
    "## 6.7 Predict"
   ]
  },
  {
   "cell_type": "markdown",
   "metadata": {},
   "source": [
    "รีวิวแง่บวก"
   ]
  },
  {
   "cell_type": "code",
   "execution_count": 49,
   "metadata": {},
   "outputs": [
    {
     "data": {
      "text/plain": [
       "(Category pos, tensor(1), tensor([0.0020, 0.9980]))"
      ]
     },
     "execution_count": 49,
     "metadata": {},
     "output_type": "execute_result"
    }
   ],
   "source": [
    "learn_clas.predict('It is possibly the most completely wonderful story I have ever watched.')"
   ]
  },
  {
   "cell_type": "code",
   "execution_count": 50,
   "metadata": {},
   "outputs": [
    {
     "data": {
      "text/plain": [
       "(Category pos, tensor(1), tensor([1.6898e-05, 9.9998e-01]))"
      ]
     },
     "execution_count": 50,
     "metadata": {},
     "output_type": "execute_result"
    }
   ],
   "source": [
    "learn_clas.predict('An intelligent, charming, sweet film with surprising depth and heart.')"
   ]
  },
  {
   "cell_type": "code",
   "execution_count": 51,
   "metadata": {},
   "outputs": [
    {
     "data": {
      "text/plain": [
       "(Category pos, tensor(1), tensor([0.1965, 0.8035]))"
      ]
     },
     "execution_count": 51,
     "metadata": {},
     "output_type": "execute_result"
    }
   ],
   "source": [
    "learn_clas.predict(\"I for one thought that this is an effective action movie that was really entertaining. I don't know what people's problem is that they have to dump on this movie so bad.\")"
   ]
  },
  {
   "cell_type": "markdown",
   "metadata": {},
   "source": [
    "รีวิวแง่ลบ"
   ]
  },
  {
   "cell_type": "code",
   "execution_count": 52,
   "metadata": {},
   "outputs": [
    {
     "data": {
      "text/plain": [
       "(Category neg, tensor(0), tensor([0.9906, 0.0094]))"
      ]
     },
     "execution_count": 52,
     "metadata": {},
     "output_type": "execute_result"
    }
   ],
   "source": [
    "learn_clas.predict('Big disappointment even for non-discriminating zombie movie fans.')"
   ]
  },
  {
   "cell_type": "code",
   "execution_count": 53,
   "metadata": {},
   "outputs": [
    {
     "data": {
      "text/plain": [
       "(Category neg, tensor(0), tensor([0.9975, 0.0025]))"
      ]
     },
     "execution_count": 53,
     "metadata": {},
     "output_type": "execute_result"
    }
   ],
   "source": [
    "learn_clas.predict(\"Truly appalling This is an action movie by numbers... but the action isn't very exciting and the plot holes just annoy. \")"
   ]
  },
  {
   "cell_type": "code",
   "execution_count": 54,
   "metadata": {},
   "outputs": [
    {
     "data": {
      "text/plain": [
       "(Category neg, tensor(0), tensor([0.9982, 0.0018]))"
      ]
     },
     "execution_count": 54,
     "metadata": {},
     "output_type": "execute_result"
    }
   ],
   "source": [
    "learn_clas.predict('A terrible \"action\" film that is more accidentally humorous than seriously suspenseful.')"
   ]
  },
  {
   "cell_type": "markdown",
   "metadata": {
    "colab_type": "text",
    "id": "NDi6KKnULray"
   },
   "source": [
    "# สรุป"
   ]
  },
  {
   "cell_type": "markdown",
   "metadata": {
    "colab_type": "text",
    "id": "BpoHE89ONKc_"
   },
   "source": [
    "* เราได้เรียนรู้ว่า "
   ]
  },
  {
   "cell_type": "markdown",
   "metadata": {
    "colab_type": "text",
    "id": "4gvQU6jgNLKZ"
   },
   "source": [
    "# Credit"
   ]
  },
  {
   "cell_type": "markdown",
   "metadata": {
    "colab_type": "text",
    "id": "nt2N3YR6OsLp"
   },
   "source": [
    "* https://www.youtube.com/watch?v=dt7sArnLo1g&list=PLtmWHNX-gukKocXQOkQjuVxglSDYWsSh9&index=6&t=0s\n",
    "* https://www.bualabs.com/archives/2693/data-block-api-data-pipeline-machine-learning-supervised-learning-preprocessing-ep-5/\n",
    "* https://www.bualabs.com/archives/926/sentiment-analysis-imdb-movie-review-ulmfit-sentiment-analysis-ep-1/\n",
    "* https://www.bualabs.com/archives/3000/sentiment-classification-imdb-movie-reviews-with-naive-bayes-logistic-regression-nlp-ep-5/\n",
    "* https://docs.fast.ai/data_block.html\n",
    "* https://docs.fast.ai/text.data.html\n",
    "* https://forums.fast.ai/t/language-model-zoo-gorilla/14623\n",
    "* https://www.imdb.com/interfaces/\n",
    "* https://blog.einstein.ai/the-wikitext-long-term-dependency-language-modeling-dataset/\n",
    "* https://arxiv.org/abs/1801.06146"
   ]
  },
  {
   "cell_type": "code",
   "execution_count": 0,
   "metadata": {
    "colab": {},
    "colab_type": "code",
    "id": "45T4wMZg06J5"
   },
   "outputs": [],
   "source": []
  }
 ],
 "metadata": {
  "accelerator": "GPU",
  "colab": {
   "collapsed_sections": [],
   "name": "26g-ulmfit-imdb.ipynb",
   "provenance": []
  },
  "kernelspec": {
   "display_name": "Python 3",
   "language": "python",
   "name": "python3"
  },
  "language_info": {
   "codemirror_mode": {
    "name": "ipython",
    "version": 3
   },
   "file_extension": ".py",
   "mimetype": "text/x-python",
   "name": "python",
   "nbconvert_exporter": "python",
   "pygments_lexer": "ipython3",
   "version": "3.7.3"
  }
 },
 "nbformat": 4,
 "nbformat_minor": 1
}
