{
  "nbformat": 4,
  "nbformat_minor": 0,
  "metadata": {
    "colab": {
      "name": "26g-ulmfit-imdb.ipynb",
      "provenance": [],
      "collapsed_sections": []
    },
    "kernelspec": {
      "name": "python3",
      "display_name": "Python 3"
    },
    "accelerator": "GPU"
  },
  "cells": [
    {
      "cell_type": "markdown",
      "metadata": {
        "id": "XlQtoavmlNzL",
        "colab_type": "text"
      },
      "source": [
        "ใน ep ที่แล้ว "
      ]
    },
    {
      "cell_type": "markdown",
      "metadata": {
        "id": "CzApwnjVlKxC",
        "colab_type": "text"
      },
      "source": [
        "# 0. Install"
      ]
    },
    {
      "cell_type": "code",
      "metadata": {
        "id": "0WcUkQRak7e6",
        "colab_type": "code",
        "colab": {}
      },
      "source": [
        "%reload_ext autoreload\n",
        "%autoreload 2\n",
        "%matplotlib inline"
      ],
      "execution_count": 0,
      "outputs": []
    },
    {
      "cell_type": "markdown",
      "metadata": {
        "id": "MGOPzh9vCLJh",
        "colab_type": "text"
      },
      "source": [
        "Install Library ที่จำเป็น"
      ]
    },
    {
      "cell_type": "code",
      "metadata": {
        "id": "o0UgDCGLhby7",
        "colab_type": "code",
        "outputId": "9e05c6d6-428d-40ba-d800-1478e7da8927",
        "colab": {
          "base_uri": "https://localhost:8080/",
          "height": 51
        }
      },
      "source": [
        "## Colab\n",
        "! curl -s https://course.fast.ai/setup/colab | bash"
      ],
      "execution_count": 3,
      "outputs": [
        {
          "output_type": "stream",
          "text": [
            "Updating fastai...\n",
            "Done.\n"
          ],
          "name": "stdout"
        }
      ]
    },
    {
      "cell_type": "code",
      "metadata": {
        "id": "cQiYFoC4C8hy",
        "colab_type": "code",
        "colab": {
          "base_uri": "https://localhost:8080/",
          "height": 306
        },
        "outputId": "795d497c-12c5-4f4c-b46b-67b9457137f5"
      },
      "source": [
        "! nvidia-smi"
      ],
      "execution_count": 4,
      "outputs": [
        {
          "output_type": "stream",
          "text": [
            "Mon Dec  9 05:05:39 2019       \n",
            "+-----------------------------------------------------------------------------+\n",
            "| NVIDIA-SMI 440.33.01    Driver Version: 418.67       CUDA Version: 10.1     |\n",
            "|-------------------------------+----------------------+----------------------+\n",
            "| GPU  Name        Persistence-M| Bus-Id        Disp.A | Volatile Uncorr. ECC |\n",
            "| Fan  Temp  Perf  Pwr:Usage/Cap|         Memory-Usage | GPU-Util  Compute M. |\n",
            "|===============================+======================+======================|\n",
            "|   0  Tesla P100-PCIE...  Off  | 00000000:00:04.0 Off |                    0 |\n",
            "| N/A   35C    P0    27W / 250W |      0MiB / 16280MiB |      0%      Default |\n",
            "+-------------------------------+----------------------+----------------------+\n",
            "                                                                               \n",
            "+-----------------------------------------------------------------------------+\n",
            "| Processes:                                                       GPU Memory |\n",
            "|  GPU       PID   Type   Process name                             Usage      |\n",
            "|=============================================================================|\n",
            "|  No running processes found                                                 |\n",
            "+-----------------------------------------------------------------------------+\n"
          ],
          "name": "stdout"
        }
      ]
    },
    {
      "cell_type": "markdown",
      "metadata": {
        "id": "3VxLNfAElR29",
        "colab_type": "text"
      },
      "source": [
        "# 1. Import"
      ]
    },
    {
      "cell_type": "markdown",
      "metadata": {
        "id": "nGm02SG0CQrq",
        "colab_type": "text"
      },
      "source": [
        "Import Library ที่จะใช้ ในที่นี้คือ fastai และ fastai.text "
      ]
    },
    {
      "cell_type": "code",
      "metadata": {
        "id": "OORH3obdk-wS",
        "colab_type": "code",
        "colab": {}
      },
      "source": [
        "from fastai import *\n",
        "from fastai.text import *"
      ],
      "execution_count": 0,
      "outputs": []
    },
    {
      "cell_type": "code",
      "metadata": {
        "id": "nmZehcHclZyM",
        "colab_type": "code",
        "colab": {}
      },
      "source": [
        "# import fastai.utils.collect_env\n",
        "# fastai.utils.collect_env.show_install()"
      ],
      "execution_count": 0,
      "outputs": []
    },
    {
      "cell_type": "markdown",
      "metadata": {
        "id": "pv3eV6oElZD2",
        "colab_type": "text"
      },
      "source": [
        "# 2. Dataset"
      ]
    },
    {
      "cell_type": "markdown",
      "metadata": {
        "id": "_9kLpiZj_Rd6",
        "colab_type": "text"
      },
      "source": [
        "ในเคสนี้เราจะใช้ IMDB Movie Review เป็นรีวิวหนังจากเว็บ IMDB ที่มีข้อความ และ คะแนนว่าเป็นแง่บวก หรือแง่ลบ เหมือนใน ep ก่อน ๆ \n",
        "\n",
        "ในการพัฒนา เราจะใช้ Dataset ชุดเล็กก่อน จะได้เร็ว เมื่อเทสทุกอย่างเรียบร้อย แล้วจึงขยับไปใช้ Dataset ชุดเต็ม "
      ]
    },
    {
      "cell_type": "code",
      "metadata": {
        "id": "dx8aArt3l1ca",
        "colab_type": "code",
        "outputId": "c95bdfd1-24f3-4851-b422-b487943c6253",
        "colab": {
          "base_uri": "https://localhost:8080/",
          "height": 51
        }
      },
      "source": [
        "path = untar_data(URLs.IMDB_SAMPLE)\n",
        "path.ls()"
      ],
      "execution_count": 7,
      "outputs": [
        {
          "output_type": "stream",
          "text": [
            "Downloading http://files.fast.ai/data/examples/imdb_sample\n"
          ],
          "name": "stdout"
        },
        {
          "output_type": "display_data",
          "data": {
            "text/html": [
              ""
            ],
            "text/plain": [
              "<IPython.core.display.HTML object>"
            ]
          },
          "metadata": {
            "tags": []
          }
        },
        {
          "output_type": "execute_result",
          "data": {
            "text/plain": [
              "[PosixPath('/root/.fastai/data/imdb_sample/texts.csv')]"
            ]
          },
          "metadata": {
            "tags": []
          },
          "execution_count": 7
        }
      ]
    },
    {
      "cell_type": "markdown",
      "metadata": {
        "id": "5SWut3oxmai6",
        "colab_type": "text"
      },
      "source": [
        "# 3. Preprocessing"
      ]
    },
    {
      "cell_type": "markdown",
      "metadata": {
        "id": "nGz9PRlBmUxZ",
        "colab_type": "text"
      },
      "source": [
        "## 3.1 Data Block API"
      ]
    },
    {
      "cell_type": "markdown",
      "metadata": {
        "id": "Qfq-mMdBm7vy",
        "colab_type": "text"
      },
      "source": [
        "เราจะใช้ [Data Block API](https://www.bualabs.com/archives/2693/data-block-api-data-pipeline-machine-learning-supervised-learning-preprocessing-ep-5/) กำหนด Data Pipeline ทีละขั้น Tokenization, Numericalization, Split, Labeling ก็จะทำให้ยืดหยุ่นมากขึ้น"
      ]
    },
    {
      "cell_type": "code",
      "metadata": {
        "id": "VycXdm7Lmweq",
        "colab_type": "code",
        "colab": {
          "base_uri": "https://localhost:8080/",
          "height": 17
        },
        "outputId": "371562bd-1338-4169-e13f-a3a6eeebc941"
      },
      "source": [
        "data_lm = (TextList.from_csv(path, 'texts.csv', cols='text')\n",
        "                .split_from_df(col=2)\n",
        "                .label_from_df(cols=0)\n",
        "                .databunch())"
      ],
      "execution_count": 8,
      "outputs": [
        {
          "output_type": "display_data",
          "data": {
            "text/html": [
              ""
            ],
            "text/plain": [
              "<IPython.core.display.HTML object>"
            ]
          },
          "metadata": {
            "tags": []
          }
        },
        {
          "output_type": "display_data",
          "data": {
            "text/html": [
              ""
            ],
            "text/plain": [
              "<IPython.core.display.HTML object>"
            ]
          },
          "metadata": {
            "tags": []
          }
        }
      ]
    },
    {
      "cell_type": "markdown",
      "metadata": {
        "id": "zLpeVJFETRUH",
        "colab_type": "text"
      },
      "source": [
        "ดูตัวอย่างคำศัพท์ใน vocab Dictionary"
      ]
    },
    {
      "cell_type": "code",
      "metadata": {
        "colab_type": "code",
        "outputId": "bd2ac538-fc49-4143-a02b-a0e9f665c065",
        "id": "jx2E3YGkngw0",
        "colab": {
          "base_uri": "https://localhost:8080/",
          "height": 357
        }
      },
      "source": [
        "data_lm.vocab.itos[:20]"
      ],
      "execution_count": 9,
      "outputs": [
        {
          "output_type": "execute_result",
          "data": {
            "text/plain": [
              "['xxunk',\n",
              " 'xxpad',\n",
              " 'xxbos',\n",
              " 'xxeos',\n",
              " 'xxfld',\n",
              " 'xxmaj',\n",
              " 'xxup',\n",
              " 'xxrep',\n",
              " 'xxwrep',\n",
              " 'the',\n",
              " '.',\n",
              " ',',\n",
              " 'and',\n",
              " 'a',\n",
              " 'of',\n",
              " 'to',\n",
              " 'is',\n",
              " 'it',\n",
              " 'in',\n",
              " 'i']"
            ]
          },
          "metadata": {
            "tags": []
          },
          "execution_count": 9
        }
      ]
    },
    {
      "cell_type": "markdown",
      "metadata": {
        "id": "5OgbUTpzTU7d",
        "colab_type": "text"
      },
      "source": [
        "ดูตัวอย่างข้อมูล text"
      ]
    },
    {
      "cell_type": "code",
      "metadata": {
        "colab_type": "code",
        "outputId": "b231c648-7f8c-4bd0-f55f-1e37e2d0c7f5",
        "id": "egTdfsibngw-",
        "colab": {
          "base_uri": "https://localhost:8080/",
          "height": 54
        }
      },
      "source": [
        "data_lm.train_ds[0][0]"
      ],
      "execution_count": 10,
      "outputs": [
        {
          "output_type": "execute_result",
          "data": {
            "text/plain": [
              "Text xxbos xxmaj un - xxunk - believable ! xxmaj meg xxmaj ryan does n't even look her usual xxunk lovable self in this , which normally makes me forgive her shallow xxunk acting xxunk . xxmaj hard to believe she was the producer on this dog . xxmaj plus xxmaj kevin xxmaj kline : what kind of suicide trip has his career been on ? xxmaj xxunk ... xxmaj xxunk ! ! ! xxmaj finally this was directed by the guy who did xxmaj big xxmaj xxunk ? xxmaj must be a replay of xxmaj jonestown - hollywood style . xxmaj xxunk !"
            ]
          },
          "metadata": {
            "tags": []
          },
          "execution_count": 10
        }
      ]
    },
    {
      "cell_type": "markdown",
      "metadata": {
        "id": "GDVX1DrlTX8U",
        "colab_type": "text"
      },
      "source": [
        "ดูข้อมูลภายใน ในรูปแบบตัวเลข"
      ]
    },
    {
      "cell_type": "code",
      "metadata": {
        "colab_type": "code",
        "outputId": "4d8c5a6e-4ad7-470b-d0e3-a2439f154abc",
        "id": "U9t0qpcVngxB",
        "colab": {
          "base_uri": "https://localhost:8080/",
          "height": 51
        }
      },
      "source": [
        "data_lm.train_ds[0][0].data[:20]"
      ],
      "execution_count": 12,
      "outputs": [
        {
          "output_type": "execute_result",
          "data": {
            "text/plain": [
              "array([   2,    5, 4619,   25,    0,   25,  867,   52,    5, 3776,    5, 1800,   95,   37,   85,  191,   64,  935,\n",
              "          0, 2738])"
            ]
          },
          "metadata": {
            "tags": []
          },
          "execution_count": 12
        }
      ]
    },
    {
      "cell_type": "markdown",
      "metadata": {
        "id": "sgoaG7LXniVb",
        "colab_type": "text"
      },
      "source": [
        "# 2/2. Full Dataset"
      ]
    },
    {
      "cell_type": "markdown",
      "metadata": {
        "id": "4UM7WpBUTdMG",
        "colab_type": "text"
      },
      "source": [
        "Download ชุดข้อมูลตัวเต็ม"
      ]
    },
    {
      "cell_type": "code",
      "metadata": {
        "id": "lNV4cKwgpJB-",
        "colab_type": "code",
        "outputId": "ff423e3e-85f4-4647-e3a4-cd466f2fd0d7",
        "colab": {
          "base_uri": "https://localhost:8080/",
          "height": 153
        }
      },
      "source": [
        "path = untar_data(URLs.IMDB)\n",
        "path.ls()"
      ],
      "execution_count": 13,
      "outputs": [
        {
          "output_type": "stream",
          "text": [
            "Downloading https://s3.amazonaws.com/fast-ai-nlp/imdb\n"
          ],
          "name": "stdout"
        },
        {
          "output_type": "display_data",
          "data": {
            "text/html": [
              ""
            ],
            "text/plain": [
              "<IPython.core.display.HTML object>"
            ]
          },
          "metadata": {
            "tags": []
          }
        },
        {
          "output_type": "execute_result",
          "data": {
            "text/plain": [
              "[PosixPath('/root/.fastai/data/imdb/tmp_clas'),\n",
              " PosixPath('/root/.fastai/data/imdb/test'),\n",
              " PosixPath('/root/.fastai/data/imdb/tmp_lm'),\n",
              " PosixPath('/root/.fastai/data/imdb/unsup'),\n",
              " PosixPath('/root/.fastai/data/imdb/imdb.vocab'),\n",
              " PosixPath('/root/.fastai/data/imdb/train'),\n",
              " PosixPath('/root/.fastai/data/imdb/README')]"
            ]
          },
          "metadata": {
            "tags": []
          },
          "execution_count": 13
        }
      ]
    },
    {
      "cell_type": "code",
      "metadata": {
        "id": "mR9dSvaGpQAQ",
        "colab_type": "code",
        "outputId": "3d82e30b-dbb2-4423-e7ca-0541c7cc5f2b",
        "colab": {
          "base_uri": "https://localhost:8080/",
          "height": 85
        }
      },
      "source": [
        "(path/'train').ls()"
      ],
      "execution_count": 14,
      "outputs": [
        {
          "output_type": "execute_result",
          "data": {
            "text/plain": [
              "[PosixPath('/root/.fastai/data/imdb/train/labeledBow.feat'),\n",
              " PosixPath('/root/.fastai/data/imdb/train/unsupBow.feat'),\n",
              " PosixPath('/root/.fastai/data/imdb/train/neg'),\n",
              " PosixPath('/root/.fastai/data/imdb/train/pos')]"
            ]
          },
          "metadata": {
            "tags": []
          },
          "execution_count": 14
        }
      ]
    },
    {
      "cell_type": "markdown",
      "metadata": {
        "id": "1bakq2CmzoeO",
        "colab_type": "text"
      },
      "source": [
        "# 3/2. Preprocessing"
      ]
    },
    {
      "cell_type": "markdown",
      "metadata": {
        "id": "gd1I1qeM86EX",
        "colab_type": "text"
      },
      "source": [
        "Data Pipeline ด้วย Data Block API"
      ]
    },
    {
      "cell_type": "code",
      "metadata": {
        "id": "L1sctU1WqNeV",
        "colab_type": "code",
        "colab": {}
      },
      "source": [
        "# bs=48\n",
        "# bs=24\n",
        "bs=64"
      ],
      "execution_count": 0,
      "outputs": []
    },
    {
      "cell_type": "code",
      "metadata": {
        "id": "MPRaVM3_ppwf",
        "colab_type": "code",
        "colab": {
          "base_uri": "https://localhost:8080/",
          "height": 17
        },
        "outputId": "733cfa9e-0b36-4b88-a455-f356f53cda01"
      },
      "source": [
        "data_lm = (TextList.from_folder(path)\n",
        "                    .filter_by_folder(include=['train', 'test', 'unsup'])\n",
        "                    .split_by_rand_pct(0.1)\n",
        "                    .label_for_lm()\n",
        "                    .databunch(bs=bs, num_workers=1))"
      ],
      "execution_count": 140,
      "outputs": [
        {
          "output_type": "display_data",
          "data": {
            "text/html": [
              ""
            ],
            "text/plain": [
              "<IPython.core.display.HTML object>"
            ]
          },
          "metadata": {
            "tags": []
          }
        },
        {
          "output_type": "display_data",
          "data": {
            "text/html": [
              ""
            ],
            "text/plain": [
              "<IPython.core.display.HTML object>"
            ]
          },
          "metadata": {
            "tags": []
          }
        }
      ]
    },
    {
      "cell_type": "markdown",
      "metadata": {
        "id": "B8EzQpO232t3",
        "colab_type": "text"
      },
      "source": [
        "ในข้อมูล Training Set 90,000 Record มีคำศัพท์ 60,000 คำ (Default)"
      ]
    },
    {
      "cell_type": "code",
      "metadata": {
        "id": "jIYe62ynqRqP",
        "colab_type": "code",
        "outputId": "c106c0c8-5b01-47a7-acd3-4a35cd8b4616",
        "colab": {
          "base_uri": "https://localhost:8080/",
          "height": 34
        }
      },
      "source": [
        "len(data_lm.vocab.itos), len(data_lm.train_ds)"
      ],
      "execution_count": 141,
      "outputs": [
        {
          "output_type": "execute_result",
          "data": {
            "text/plain": [
              "(60000, 90000)"
            ]
          },
          "metadata": {
            "tags": []
          },
          "execution_count": 141
        }
      ]
    },
    {
      "cell_type": "code",
      "metadata": {
        "id": "OCXun8tSqjQA",
        "colab_type": "code",
        "outputId": "a9eea8b8-af84-4901-9c7e-96c5c0e46d15",
        "colab": {
          "base_uri": "https://localhost:8080/",
          "height": 289
        }
      },
      "source": [
        "data_lm.show_batch()"
      ],
      "execution_count": 142,
      "outputs": [
        {
          "output_type": "display_data",
          "data": {
            "text/html": [
              "<table border=\"1\" class=\"dataframe\">\n",
              "  <thead>\n",
              "    <tr style=\"text-align: right;\">\n",
              "      <th>idx</th>\n",
              "      <th>text</th>\n",
              "    </tr>\n",
              "  </thead>\n",
              "  <tbody>\n",
              "    <tr>\n",
              "      <td>0</td>\n",
              "      <td>utterly disappointed by the end . \\n \\n  xxmaj the first 3 / 4 of the movie can best be described as uninspired and poorly directed ( sorry , xxmaj ade ! ) , but with some utterly brilliant moments . xxmaj unfortunately , these laugh - out - loud moments make you realize how less - than - brilliant the rest of the movie is . xxmaj the</td>\n",
              "    </tr>\n",
              "    <tr>\n",
              "      <td>1</td>\n",
              "      <td>orders through an open wall safe so his men do n't see who he is . xxmaj but the voice is unmistakable , you 'll know within 10 minutes of the film . \\n \\n  xxmaj and another reviewer here is quite wrong , no squeals or groans from the audience would have occurred because xxmaj gabby xxmaj hayes was still playing a variety of roles and he 's</td>\n",
              "    </tr>\n",
              "    <tr>\n",
              "      <td>2</td>\n",
              "      <td>sebastien 's future features ) , you would just loose your time ... xxmaj there is something about french television that do n't smell right ... and this is xxmaj patrick xxmaj sebastien ! ! ! xxbos xxmaj some people say this show was good in it 's early years ! i disagree with all of 'em . xxmaj the show is just plain stupid and pathetic . xxmaj my</td>\n",
              "    </tr>\n",
              "    <tr>\n",
              "      <td>3</td>\n",
              "      <td>up with the most unoriginal lines in history , and 3 ) a neurotic but extremely pretty female programmer who tries to tell the coming president about this . xxmaj she 's soon the victim of the evil x - files master - lords of the computer company , who - instead of killing her - drug her to make her seem untrustworthy . xxmaj but , when she gets</td>\n",
              "    </tr>\n",
              "    <tr>\n",
              "      <td>4</td>\n",
              "      <td>person who was born and raised in xxmaj central xxmaj africa , i appreciated the authenticity of the film 's look and the honest depiction of daily life for the xxmaj zulu . xxmaj but this and the camera work are not enough to recommend the average viewer should see this film . xxmaj it takes an appreciation of true cinema and not just a love of movies to see</td>\n",
              "    </tr>\n",
              "  </tbody>\n",
              "</table>"
            ],
            "text/plain": [
              "<IPython.core.display.HTML object>"
            ]
          },
          "metadata": {
            "tags": []
          }
        }
      ]
    },
    {
      "cell_type": "markdown",
      "metadata": {
        "id": "HuycJ7544KMN",
        "colab_type": "text"
      },
      "source": [
        "เซฟไว้ก่อน "
      ]
    },
    {
      "cell_type": "code",
      "metadata": {
        "id": "hL9FFazgrtF9",
        "colab_type": "code",
        "colab": {}
      },
      "source": [
        "data_lm.save('lm_databunch')"
      ],
      "execution_count": 0,
      "outputs": []
    },
    {
      "cell_type": "markdown",
      "metadata": {
        "id": "ozj-F50y4OlD",
        "colab_type": "text"
      },
      "source": [
        "โหลด Language Model DataBunch ที่เซฟไว้ แล้วเช็คข้อมูล"
      ]
    },
    {
      "cell_type": "code",
      "metadata": {
        "id": "EG-GVIm2r0B-",
        "colab_type": "code",
        "outputId": "20024e58-c435-4bdd-fe19-3296fb9aae1e",
        "colab": {
          "base_uri": "https://localhost:8080/",
          "height": 34
        }
      },
      "source": [
        "data_lm = load_data(path, 'lm_databunch', bs=bs)\n",
        "len(data_lm.vocab.itos), len(data_lm.train_ds)"
      ],
      "execution_count": 144,
      "outputs": [
        {
          "output_type": "execute_result",
          "data": {
            "text/plain": [
              "(60000, 90000)"
            ]
          },
          "metadata": {
            "tags": []
          },
          "execution_count": 144
        }
      ]
    },
    {
      "cell_type": "markdown",
      "metadata": {
        "id": "JN2y-cmVr7wu",
        "colab_type": "text"
      },
      "source": [
        "# 4. Language Model จาก WikiText-103"
      ]
    },
    {
      "cell_type": "markdown",
      "metadata": {
        "id": "Of2vn9kR-9hX",
        "colab_type": "text"
      },
      "source": [
        "สร้าง Language Model Learner ขึ้นมา โดยใช้ data_lm จาก IMDB ด้านบน และ สถาปัตยกรรม AWD_LSTM [Model Architecture](https://www.bualabs.com/archives/2703/how-to-read-model-convolutional-neural-network-shape-activation-map-model-architecture-convnet-ep-7/) โดยที่ยังไม่ได้เริ่มต้นเทรน\n",
        "\n",
        "AWD_LSTM ได้ถูก Pre-Train กับ WikiText-103 Dataset เรียบร้อยแล้ว"
      ]
    },
    {
      "cell_type": "code",
      "metadata": {
        "id": "EpAA44Yst5sZ",
        "colab_type": "code",
        "colab": {}
      },
      "source": [
        "learn_lm = language_model_learner(data_lm, AWD_LSTM, drop_mult=0.3)\n",
        "# learn_lm"
      ],
      "execution_count": 0,
      "outputs": []
    },
    {
      "cell_type": "code",
      "metadata": {
        "id": "Pmmtq5EJOxod",
        "colab_type": "code",
        "outputId": "cd15dd29-2fb5-475e-9291-b5b182277653",
        "colab": {
          "base_uri": "https://localhost:8080/",
          "height": 408
        }
      },
      "source": [
        "learn_lm.model[0]"
      ],
      "execution_count": 146,
      "outputs": [
        {
          "output_type": "execute_result",
          "data": {
            "text/plain": [
              "AWD_LSTM(\n",
              "  (encoder): Embedding(60000, 400, padding_idx=1)\n",
              "  (encoder_dp): EmbeddingDropout(\n",
              "    (emb): Embedding(60000, 400, padding_idx=1)\n",
              "  )\n",
              "  (rnns): ModuleList(\n",
              "    (0): WeightDropout(\n",
              "      (module): LSTM(400, 1152, batch_first=True)\n",
              "    )\n",
              "    (1): WeightDropout(\n",
              "      (module): LSTM(1152, 1152, batch_first=True)\n",
              "    )\n",
              "    (2): WeightDropout(\n",
              "      (module): LSTM(1152, 400, batch_first=True)\n",
              "    )\n",
              "  )\n",
              "  (input_dp): RNNDropout()\n",
              "  (hidden_dps): ModuleList(\n",
              "    (0): RNNDropout()\n",
              "    (1): RNNDropout()\n",
              "    (2): RNNDropout()\n",
              "  )\n",
              ")"
            ]
          },
          "metadata": {
            "tags": []
          },
          "execution_count": 146
        }
      ]
    },
    {
      "cell_type": "code",
      "metadata": {
        "id": "XGDmEC1nO956",
        "colab_type": "code",
        "outputId": "792dc101-93dd-4744-de5a-aa0167d17590",
        "colab": {
          "base_uri": "https://localhost:8080/",
          "height": 34
        }
      },
      "source": [
        "learn_lm.model[0].encoder"
      ],
      "execution_count": 147,
      "outputs": [
        {
          "output_type": "execute_result",
          "data": {
            "text/plain": [
              "Embedding(60000, 400, padding_idx=1)"
            ]
          },
          "metadata": {
            "tags": []
          },
          "execution_count": 147
        }
      ]
    },
    {
      "cell_type": "markdown",
      "metadata": {
        "id": "uwxtxRAQ_9tG",
        "colab_type": "text"
      },
      "source": [
        "## 4.1 vocab Dictionary ของ WikiText-103 "
      ]
    },
    {
      "cell_type": "markdown",
      "metadata": {
        "id": "EmS9Duij_fBF",
        "colab_type": "text"
      },
      "source": [
        "โหลด Dictionary ของ WikiText-103 ขึ้นมา \n",
        "\n",
        "Language Model ต้องมาพร้อมกับ vocab Dictionary เสมอ ไม่เช่นนั้นเราจะไม่รู้ว่า คำศัพท์ไหนเป็นคำไหน เพราะในโมเดลจะเป็นตัวเลข Index / Embedding"
      ]
    },
    {
      "cell_type": "code",
      "metadata": {
        "id": "CfE1ch2yvXM_",
        "colab_type": "code",
        "outputId": "13e61a96-8b96-4a61-9a9f-67ae218f487c",
        "colab": {
          "base_uri": "https://localhost:8080/",
          "height": 51
        }
      },
      "source": [
        "Config().model_path().ls()"
      ],
      "execution_count": 148,
      "outputs": [
        {
          "output_type": "execute_result",
          "data": {
            "text/plain": [
              "[PosixPath('/root/.fastai/models/wt103-fwd'),\n",
              " PosixPath('/root/.fastai/models/wt103-fwd.tgz')]"
            ]
          },
          "metadata": {
            "tags": []
          },
          "execution_count": 148
        }
      ]
    },
    {
      "cell_type": "code",
      "metadata": {
        "id": "60C65ahsvfSl",
        "colab_type": "code",
        "outputId": "d44988a8-b478-48ef-9c09-55540b8a1eff",
        "colab": {
          "base_uri": "https://localhost:8080/",
          "height": 51
        }
      },
      "source": [
        "(Config().model_path()/'wt103-fwd').ls()"
      ],
      "execution_count": 149,
      "outputs": [
        {
          "output_type": "execute_result",
          "data": {
            "text/plain": [
              "[PosixPath('/root/.fastai/models/wt103-fwd/itos_wt103.pkl'),\n",
              " PosixPath('/root/.fastai/models/wt103-fwd/lstm_fwd.pth')]"
            ]
          },
          "metadata": {
            "tags": []
          },
          "execution_count": 149
        }
      ]
    },
    {
      "cell_type": "code",
      "metadata": {
        "id": "4xYT1K5fvCz5",
        "colab_type": "code",
        "colab": {}
      },
      "source": [
        "wiki_itos = pickle.load(open(Config().model_path()/'wt103-fwd/itos_wt103.pkl', 'rb'))"
      ],
      "execution_count": 0,
      "outputs": []
    },
    {
      "cell_type": "markdown",
      "metadata": {
        "id": "kuOfv_By_lJl",
        "colab_type": "text"
      },
      "source": [
        "ดูจำนวนคำศัพท์ ตัวอย่างข้อมูล หัว / ท้าย"
      ]
    },
    {
      "cell_type": "code",
      "metadata": {
        "id": "KXQCRB4VvngR",
        "colab_type": "code",
        "outputId": "5b47b9a5-5e5e-48d3-9796-65d56cee9ee8",
        "colab": {
          "base_uri": "https://localhost:8080/",
          "height": 714
        }
      },
      "source": [
        "len(wiki_itos), wiki_itos[:20], wiki_itos[-20:]"
      ],
      "execution_count": 151,
      "outputs": [
        {
          "output_type": "execute_result",
          "data": {
            "text/plain": [
              "(60000,\n",
              " ['xxunk',\n",
              "  'xxpad',\n",
              "  'xxbos',\n",
              "  'xxeos',\n",
              "  'xxfld',\n",
              "  'xxmaj',\n",
              "  'xxup',\n",
              "  'xxrep',\n",
              "  'xxwrep',\n",
              "  'the',\n",
              "  ',',\n",
              "  '.',\n",
              "  'of',\n",
              "  'and',\n",
              "  'in',\n",
              "  'to',\n",
              "  'a',\n",
              "  '=',\n",
              "  '\"',\n",
              "  'was'],\n",
              " ['repaying',\n",
              "  'ak-47',\n",
              "  'cultic',\n",
              "  'jaume',\n",
              "  'leonis',\n",
              "  'subtracting',\n",
              "  'sexed',\n",
              "  'bursa',\n",
              "  '-style',\n",
              "  'lithographs',\n",
              "  'wgbh',\n",
              "  'subsystem',\n",
              "  '831',\n",
              "  'lifelines',\n",
              "  'bergeron',\n",
              "  'adaptions',\n",
              "  'slurs',\n",
              "  'acasta',\n",
              "  'stuccoed',\n",
              "  'spellbound'])"
            ]
          },
          "metadata": {
            "tags": []
          },
          "execution_count": 151
        }
      ]
    },
    {
      "cell_type": "markdown",
      "metadata": {
        "id": "0ctPsC10_2L7",
        "colab_type": "text"
      },
      "source": [
        "## 4.2 vocab Dictionary ของ IMDB"
      ]
    },
    {
      "cell_type": "markdown",
      "metadata": {
        "id": "8jSVlBNM_wKd",
        "colab_type": "text"
      },
      "source": [
        "ดูตัวอย่างคำศัพท์ใน IMDB"
      ]
    },
    {
      "cell_type": "code",
      "metadata": {
        "id": "bf3msNitBzRt",
        "colab_type": "code",
        "colab": {}
      },
      "source": [
        "vocab = data_lm.vocab"
      ],
      "execution_count": 0,
      "outputs": []
    },
    {
      "cell_type": "code",
      "metadata": {
        "id": "PVsfmHoxvqa5",
        "colab_type": "code",
        "colab": {}
      },
      "source": [
        "imdb_itos = vocab.itos"
      ],
      "execution_count": 0,
      "outputs": []
    },
    {
      "cell_type": "code",
      "metadata": {
        "id": "r6LXmiGiv4TT",
        "colab_type": "code",
        "outputId": "a64b3335-810c-4ff2-ef1b-6ec471855cfc",
        "colab": {
          "base_uri": "https://localhost:8080/",
          "height": 34
        }
      },
      "source": [
        "vocab.stoi['love']"
      ],
      "execution_count": 154,
      "outputs": [
        {
          "output_type": "execute_result",
          "data": {
            "text/plain": [
              "134"
            ]
          },
          "metadata": {
            "tags": []
          },
          "execution_count": 154
        }
      ]
    },
    {
      "cell_type": "code",
      "metadata": {
        "id": "VVGeYvk2v7iV",
        "colab_type": "code",
        "outputId": "e7c6a8e6-2a84-4459-ba76-be91e49b2e95",
        "colab": {
          "base_uri": "https://localhost:8080/",
          "height": 34
        }
      },
      "source": [
        "imdb_itos[vocab.stoi['love']]"
      ],
      "execution_count": 155,
      "outputs": [
        {
          "output_type": "execute_result",
          "data": {
            "text/plain": [
              "'love'"
            ]
          },
          "metadata": {
            "tags": []
          },
          "execution_count": 155
        }
      ]
    },
    {
      "cell_type": "code",
      "metadata": {
        "id": "wsxgcOTPwBqj",
        "colab_type": "code",
        "outputId": "a7962266-b294-4ee1-9c20-1d815e02d5e5",
        "colab": {
          "base_uri": "https://localhost:8080/",
          "height": 34
        }
      },
      "source": [
        "imdb_itos[vocab.stoi['Sukhumvit']]"
      ],
      "execution_count": 156,
      "outputs": [
        {
          "output_type": "execute_result",
          "data": {
            "text/plain": [
              "'xxunk'"
            ]
          },
          "metadata": {
            "tags": []
          },
          "execution_count": 156
        }
      ]
    },
    {
      "cell_type": "code",
      "metadata": {
        "id": "7hV0F7P9wlAV",
        "colab_type": "code",
        "colab": {}
      },
      "source": [
        "awd = learn_lm.model[0]"
      ],
      "execution_count": 0,
      "outputs": []
    },
    {
      "cell_type": "code",
      "metadata": {
        "id": "poBP0V4SwuAb",
        "colab_type": "code",
        "colab": {}
      },
      "source": [
        "# from scipy.spatial.distance import cosine as dist"
      ],
      "execution_count": 0,
      "outputs": []
    },
    {
      "cell_type": "code",
      "metadata": {
        "id": "VgGMPHqkwycw",
        "colab_type": "code",
        "colab": {}
      },
      "source": [
        "enc = learn_lm.model[0].encoder"
      ],
      "execution_count": 0,
      "outputs": []
    },
    {
      "cell_type": "markdown",
      "metadata": {
        "id": "YYDuXodMcDKf",
        "colab_type": "text"
      },
      "source": [
        "Embedding 400 มิติของ คำศัพท์ 60,000 คำ"
      ]
    },
    {
      "cell_type": "code",
      "metadata": {
        "id": "SB4BxS8Ww2pj",
        "colab_type": "code",
        "outputId": "d1e5a5d2-8c1e-44bb-889e-54a7ec4bd377",
        "colab": {
          "base_uri": "https://localhost:8080/",
          "height": 34
        }
      },
      "source": [
        "enc.weight.size()"
      ],
      "execution_count": 160,
      "outputs": [
        {
          "output_type": "execute_result",
          "data": {
            "text/plain": [
              "torch.Size([60000, 400])"
            ]
          },
          "metadata": {
            "tags": []
          },
          "execution_count": 160
        }
      ]
    },
    {
      "cell_type": "markdown",
      "metadata": {
        "id": "OxJXyP4bw5CY",
        "colab_type": "text"
      },
      "source": [
        "## 4.3 Difference in vocab between IMDB and Wikipedia"
      ]
    },
    {
      "cell_type": "markdown",
      "metadata": {
        "id": "3oIlgBj44nGZ",
        "colab_type": "text"
      },
      "source": [
        "เปรียบเทียบ 2 vocab Dictionary พบว่า ขนาด vocab เท่ากัน"
      ]
    },
    {
      "cell_type": "code",
      "metadata": {
        "id": "DGvAQvgpz1_n",
        "colab_type": "code",
        "outputId": "0f791d1f-84ff-48b9-e9f4-9012a6dda349",
        "colab": {
          "base_uri": "https://localhost:8080/",
          "height": 34
        }
      },
      "source": [
        "len(wiki_itos), len(imdb_itos)"
      ],
      "execution_count": 161,
      "outputs": [
        {
          "output_type": "execute_result",
          "data": {
            "text/plain": [
              "(60000, 60000)"
            ]
          },
          "metadata": {
            "tags": []
          },
          "execution_count": 161
        }
      ]
    },
    {
      "cell_type": "markdown",
      "metadata": {
        "id": "y83ReedN4qIT",
        "colab_type": "text"
      },
      "source": [
        "แต่ข้างใน ไม่เหมือนกัน เปรียบเทียบ 10 คำศัพท์สุดท้าย"
      ]
    },
    {
      "cell_type": "code",
      "metadata": {
        "id": "7CbmV8-Mz8EE",
        "colab_type": "code",
        "outputId": "4f663276-bdf6-49aa-8906-501b3fb6c3be",
        "colab": {
          "base_uri": "https://localhost:8080/",
          "height": 357
        }
      },
      "source": [
        "wiki_itos[-10:], imdb_itos[-10:]"
      ],
      "execution_count": 162,
      "outputs": [
        {
          "output_type": "execute_result",
          "data": {
            "text/plain": [
              "(['wgbh',\n",
              "  'subsystem',\n",
              "  '831',\n",
              "  'lifelines',\n",
              "  'bergeron',\n",
              "  'adaptions',\n",
              "  'slurs',\n",
              "  'acasta',\n",
              "  'stuccoed',\n",
              "  'spellbound'],\n",
              " ['cabinets',\n",
              "  'whoopin',\n",
              "  'parco',\n",
              "  'mashkov',\n",
              "  'gouden',\n",
              "  'desensitised',\n",
              "  'boran',\n",
              "  'manky',\n",
              "  'commercializing',\n",
              "  'misrepresent'])"
            ]
          },
          "metadata": {
            "tags": []
          },
          "execution_count": 162
        }
      ]
    },
    {
      "cell_type": "code",
      "metadata": {
        "id": "GEA9kLr5z8H8",
        "colab_type": "code",
        "colab": {}
      },
      "source": [
        "wiki_words = set(wiki_itos)\n",
        "imdb_words = set(imdb_itos)"
      ],
      "execution_count": 0,
      "outputs": []
    },
    {
      "cell_type": "markdown",
      "metadata": {
        "id": "CY436t5NccYD",
        "colab_type": "text"
      },
      "source": [
        "คำศัพท์ที่อยู่ใน vocab ของ Wiki แต่ไม่อยู่ใน vocab ของ IMDB"
      ]
    },
    {
      "cell_type": "code",
      "metadata": {
        "id": "I26g1CDx6V08",
        "colab_type": "code",
        "outputId": "4176855f-151c-4587-fb2d-6477a4bae3a5",
        "colab": {
          "base_uri": "https://localhost:8080/",
          "height": 374
        }
      },
      "source": [
        "wiki_not_imdb = wiki_words.difference(imdb_words)\n",
        "len(wiki_not_imdb), [val for i, val in enumerate(itertools.islice(wiki_not_imdb, 20))]"
      ],
      "execution_count": 164,
      "outputs": [
        {
          "output_type": "execute_result",
          "data": {
            "text/plain": [
              "(24263,\n",
              " ['antisense',\n",
              "  'taman',\n",
              "  'lapeer',\n",
              "  'dunkerque',\n",
              "  'tsr',\n",
              "  'mạnh',\n",
              "  'jackdaws',\n",
              "  'cosmological',\n",
              "  'uranian',\n",
              "  'maint',\n",
              "  'bellona',\n",
              "  'plantings',\n",
              "  'verification',\n",
              "  'ceding',\n",
              "  'phnom',\n",
              "  'orators',\n",
              "  'enver',\n",
              "  'leed',\n",
              "  'terhune',\n",
              "  'dissociated'])"
            ]
          },
          "metadata": {
            "tags": []
          },
          "execution_count": 164
        }
      ]
    },
    {
      "cell_type": "markdown",
      "metadata": {
        "id": "6Sgs5yytcmMH",
        "colab_type": "text"
      },
      "source": [
        "คำศัพท์ที่อยู่ใน vocab ของ IMDB แต่ไม่อยู่ใน vocab ของ Wiki"
      ]
    },
    {
      "cell_type": "code",
      "metadata": {
        "id": "srgNlWXU7CSf",
        "colab_type": "code",
        "outputId": "8f58ea44-c05b-4be1-946b-5c190989fc5b",
        "colab": {
          "base_uri": "https://localhost:8080/",
          "height": 374
        }
      },
      "source": [
        "imdb_not_wiki = imdb_words.difference(wiki_words)\n",
        "len(imdb_not_wiki), [val for i, val in enumerate(itertools.islice(imdb_not_wiki, 20))]"
      ],
      "execution_count": 165,
      "outputs": [
        {
          "output_type": "execute_result",
          "data": {
            "text/plain": [
              "(24263,\n",
              " ['desny',\n",
              "  'calson',\n",
              "  'wonderous',\n",
              "  'entertaingly',\n",
              "  'pert',\n",
              "  'detracts',\n",
              "  \"li'l\",\n",
              "  'arneric',\n",
              "  'rafe',\n",
              "  'henrickson',\n",
              "  'anally',\n",
              "  'kikuno',\n",
              "  'exasperating',\n",
              "  'welton',\n",
              "  'sensationalize',\n",
              "  'dopplegangers',\n",
              "  'www.petitiononline.com',\n",
              "  'yelli',\n",
              "  'avakum',\n",
              "  'vacillate'])"
            ]
          },
          "metadata": {
            "tags": []
          },
          "execution_count": 165
        }
      ]
    },
    {
      "cell_type": "markdown",
      "metadata": {
        "id": "6FjdprgSz8Ls",
        "colab_type": "text"
      },
      "source": [
        "## 4.4 Out of vocab Initialization"
      ]
    },
    {
      "cell_type": "markdown",
      "metadata": {
        "id": "HEX-G1NeDvvo",
        "colab_type": "text"
      },
      "source": [
        "คำว่า verification อยู่ใน vocab ของ WikiText-103 แต่ไม่อยู่ใน IMDB"
      ]
    },
    {
      "cell_type": "code",
      "metadata": {
        "id": "9GnBSMKWBdbf",
        "colab_type": "code",
        "outputId": "01b30b18-0972-49b9-be6b-11e56e8eace5",
        "colab": {
          "base_uri": "https://localhost:8080/",
          "height": 34
        }
      },
      "source": [
        "w = \"verification\"\n",
        "vocab.stoi[w], w in wiki_words, w in imdb_words"
      ],
      "execution_count": 166,
      "outputs": [
        {
          "output_type": "execute_result",
          "data": {
            "text/plain": [
              "(0, True, False)"
            ]
          },
          "metadata": {
            "tags": []
          },
          "execution_count": 166
        }
      ]
    },
    {
      "cell_type": "markdown",
      "metadata": {
        "id": "rG340TnuD8lb",
        "colab_type": "text"
      },
      "source": [
        "คำเหล่านี้ อยู่ใน vocab ของ IMDB แต่ไม่อยู่ใน WikiText-103 เราจะ Initialize Embedding ของคำเหล่านี้ แบบ Random"
      ]
    },
    {
      "cell_type": "code",
      "metadata": {
        "id": "bEyYvwpRBdk3",
        "colab_type": "code",
        "outputId": "dbfc19d5-b0cf-472f-9c32-9ec7e4f3575f",
        "colab": {
          "base_uri": "https://localhost:8080/",
          "height": 34
        }
      },
      "source": [
        "w = \"senselessness\"\n",
        "vocab.stoi[w], w in wiki_words, w in imdb_words"
      ],
      "execution_count": 167,
      "outputs": [
        {
          "output_type": "execute_result",
          "data": {
            "text/plain": [
              "(35310, False, True)"
            ]
          },
          "metadata": {
            "tags": []
          },
          "execution_count": 167
        }
      ]
    },
    {
      "cell_type": "code",
      "metadata": {
        "id": "B0O90Wr9BdQt",
        "colab_type": "code",
        "outputId": "ceb95d49-49f1-4995-8462-6c3925fd38d5",
        "colab": {
          "base_uri": "https://localhost:8080/",
          "height": 34
        }
      },
      "source": [
        "w = \"unthinking\"\n",
        "vocab.stoi[w], w in wiki_words, w in imdb_words"
      ],
      "execution_count": 168,
      "outputs": [
        {
          "output_type": "execute_result",
          "data": {
            "text/plain": [
              "(26364, False, True)"
            ]
          },
          "metadata": {
            "tags": []
          },
          "execution_count": 168
        }
      ]
    },
    {
      "cell_type": "code",
      "metadata": {
        "id": "TSTzwd_VDTcy",
        "colab_type": "code",
        "outputId": "236c92d0-60a0-4edf-9378-143ca1cadc3f",
        "colab": {
          "base_uri": "https://localhost:8080/",
          "height": 34
        }
      },
      "source": [
        "w = \"forklift\"\n",
        "vocab.stoi[w], w in wiki_words, w in imdb_words"
      ],
      "execution_count": 169,
      "outputs": [
        {
          "output_type": "execute_result",
          "data": {
            "text/plain": [
              "(45314, False, True)"
            ]
          },
          "metadata": {
            "tags": []
          },
          "execution_count": 169
        }
      ]
    },
    {
      "cell_type": "markdown",
      "metadata": {
        "id": "HJhTUIXUEPfa",
        "colab_type": "text"
      },
      "source": [
        "Initialize ด้วยค่า Random เล็ก ๆ ใกล้เคียงกัน"
      ]
    },
    {
      "cell_type": "code",
      "metadata": {
        "id": "y84tzwkFDThw",
        "colab_type": "code",
        "outputId": "42adc674-bd25-4dab-f278-1146195164d0",
        "colab": {
          "base_uri": "https://localhost:8080/",
          "height": 34
        }
      },
      "source": [
        "np.allclose(enc.weight[vocab.stoi['senselessness'], :], \n",
        "            enc.weight[vocab.stoi['unthinking'], :])"
      ],
      "execution_count": 170,
      "outputs": [
        {
          "output_type": "execute_result",
          "data": {
            "text/plain": [
              "True"
            ]
          },
          "metadata": {
            "tags": []
          },
          "execution_count": 170
        }
      ]
    },
    {
      "cell_type": "markdown",
      "metadata": {
        "id": "SDXN4bAVEzAt",
        "colab_type": "text"
      },
      "source": [
        "แต่ถ้าเทียบกับ Embedding ที่เทรนเรียบร้อยแล้ว ก็จะต่างกันมาก"
      ]
    },
    {
      "cell_type": "code",
      "metadata": {
        "id": "JsG37-4nEolQ",
        "colab_type": "code",
        "outputId": "f1ebfba7-62d0-498e-f69b-8b7d46d38368",
        "colab": {
          "base_uri": "https://localhost:8080/",
          "height": 34
        }
      },
      "source": [
        "np.allclose(enc.weight[vocab.stoi['senselessness'], :], \n",
        "            enc.weight[vocab.stoi['capital'], :])"
      ],
      "execution_count": 171,
      "outputs": [
        {
          "output_type": "execute_result",
          "data": {
            "text/plain": [
              "False"
            ]
          },
          "metadata": {
            "tags": []
          },
          "execution_count": 171
        }
      ]
    },
    {
      "cell_type": "markdown",
      "metadata": {
        "id": "GtBBnw2tHJ6E",
        "colab_type": "text"
      },
      "source": [
        "3 คำแรกมีใน IMDB แต่คำสุดท้ายไม่มี"
      ]
    },
    {
      "cell_type": "code",
      "metadata": {
        "id": "yUqteZUSGlig",
        "colab_type": "code",
        "outputId": "5513f855-3d7f-4570-92ed-b50e12fcd9d1",
        "colab": {
          "base_uri": "https://localhost:8080/",
          "height": 34
        }
      },
      "source": [
        "vocab.stoi['senselessness'], vocab.stoi['unthinking'], vocab.stoi['capital'], vocab.stoi['cpu']"
      ],
      "execution_count": 172,
      "outputs": [
        {
          "output_type": "execute_result",
          "data": {
            "text/plain": [
              "(35310, 26364, 5670, 0)"
            ]
          },
          "metadata": {
            "tags": []
          },
          "execution_count": 172
        }
      ]
    },
    {
      "cell_type": "markdown",
      "metadata": {
        "id": "NtLiaEhrdovW",
        "colab_type": "text"
      },
      "source": [
        "ดู Embedding ของคำที่มีใน IMDB แต่ไม่มีใน Wiki จะเห็นว่าเท่ากันมีค่าเท่ากัน"
      ]
    },
    {
      "cell_type": "code",
      "metadata": {
        "id": "QrQw3b1bFSip",
        "colab_type": "code",
        "outputId": "8063c3ce-db3e-4811-e256-3066ff48a2ed",
        "colab": {
          "base_uri": "https://localhost:8080/",
          "height": 153
        }
      },
      "source": [
        "len(enc.weight[vocab.stoi['senselessness'], :]), enc.weight[vocab.stoi['senselessness'], :][:50]"
      ],
      "execution_count": 173,
      "outputs": [
        {
          "output_type": "execute_result",
          "data": {
            "text/plain": [
              "(400,\n",
              " tensor([ 0.0253,  0.0026,  0.0423, -0.0274, -0.0110, -0.0100, -0.0628,  0.1794,\n",
              "         -0.1275, -0.2096, -0.0124, -0.0056, -0.0505, -0.0501, -0.0428,  0.1726,\n",
              "         -0.0650, -0.0571, -0.1103,  0.0186,  0.0053, -0.0059,  0.0299,  0.0192,\n",
              "         -0.0240,  0.1432, -0.1064, -0.0097,  0.0100, -0.0399,  0.0282,  0.0319,\n",
              "          0.1297,  0.0687, -0.0047,  0.0168,  0.0201,  0.1346, -0.0336, -0.0449,\n",
              "          0.0265, -0.0756, -0.0225,  0.0196,  0.0221,  0.0214,  0.0077, -0.1311,\n",
              "         -0.1357, -0.0128], device='cuda:0', grad_fn=<SliceBackward>))"
            ]
          },
          "metadata": {
            "tags": []
          },
          "execution_count": 173
        }
      ]
    },
    {
      "cell_type": "code",
      "metadata": {
        "id": "FRpJWER7GFSY",
        "colab_type": "code",
        "outputId": "0c33e2c5-c605-4418-8467-886223806d85",
        "colab": {
          "base_uri": "https://localhost:8080/",
          "height": 153
        }
      },
      "source": [
        "len(enc.weight[vocab.stoi['unthinking'], :]), enc.weight[vocab.stoi['unthinking'], :][:50]"
      ],
      "execution_count": 174,
      "outputs": [
        {
          "output_type": "execute_result",
          "data": {
            "text/plain": [
              "(400,\n",
              " tensor([ 0.0253,  0.0026,  0.0423, -0.0274, -0.0110, -0.0100, -0.0628,  0.1794,\n",
              "         -0.1275, -0.2096, -0.0124, -0.0056, -0.0505, -0.0501, -0.0428,  0.1726,\n",
              "         -0.0650, -0.0571, -0.1103,  0.0186,  0.0053, -0.0059,  0.0299,  0.0192,\n",
              "         -0.0240,  0.1432, -0.1064, -0.0097,  0.0100, -0.0399,  0.0282,  0.0319,\n",
              "          0.1297,  0.0687, -0.0047,  0.0168,  0.0201,  0.1346, -0.0336, -0.0449,\n",
              "          0.0265, -0.0756, -0.0225,  0.0196,  0.0221,  0.0214,  0.0077, -0.1311,\n",
              "         -0.1357, -0.0128], device='cuda:0', grad_fn=<SliceBackward>))"
            ]
          },
          "metadata": {
            "tags": []
          },
          "execution_count": 174
        }
      ]
    },
    {
      "cell_type": "markdown",
      "metadata": {
        "id": "wlDb_b1IewHL",
        "colab_type": "text"
      },
      "source": [
        "ต่างกับค่าที่มีใน Wiki"
      ]
    },
    {
      "cell_type": "code",
      "metadata": {
        "id": "YGPMubi2GBjy",
        "colab_type": "code",
        "outputId": "9d34f9c9-903f-48d0-f6d9-ca77a4bdaefc",
        "colab": {
          "base_uri": "https://localhost:8080/",
          "height": 153
        }
      },
      "source": [
        "len(enc.weight[vocab.stoi['capital'], :]), enc.weight[vocab.stoi['capital'], :][:50]"
      ],
      "execution_count": 175,
      "outputs": [
        {
          "output_type": "execute_result",
          "data": {
            "text/plain": [
              "(400,\n",
              " tensor([-0.2566,  0.1062,  0.3081,  0.2742,  0.1667, -0.1626, -0.5122, -0.1261,\n",
              "          0.4548, -0.4177, -0.1565,  0.0752,  0.2253,  0.2031, -0.3125,  0.0310,\n",
              "          0.5112, -0.3691, -0.2947, -0.0168, -0.1147,  0.3074, -0.1654, -0.2202,\n",
              "          0.0538, -0.4041,  0.1666, -0.0109, -0.2803,  0.3044, -0.2279,  0.1786,\n",
              "         -0.2502, -0.2334,  0.4438,  0.2404,  0.1746,  0.1509,  0.0351,  0.2844,\n",
              "         -0.0244, -0.2031,  0.1228, -0.2357, -0.2065,  0.5811,  0.1338,  0.4087,\n",
              "         -0.5034, -0.0150], device='cuda:0', grad_fn=<SliceBackward>))"
            ]
          },
          "metadata": {
            "tags": []
          },
          "execution_count": 175
        }
      ]
    },
    {
      "cell_type": "markdown",
      "metadata": {
        "id": "Yk6CdXube1oa",
        "colab_type": "text"
      },
      "source": [
        "## 4.5 Fake Movie Reviews from WikiText Language Model"
      ]
    },
    {
      "cell_type": "markdown",
      "metadata": {
        "id": "OAXmJylQLQuY",
        "colab_type": "text"
      },
      "source": [
        "ชอบหนังเรื่องนี้เพราะว่า"
      ]
    },
    {
      "cell_type": "code",
      "metadata": {
        "id": "nFwfZm09e1dw",
        "colab_type": "code",
        "colab": {}
      },
      "source": [
        "TEXT = \"I loved this film because\"\n",
        "N_WORDS = 60\n",
        "N_SENTENCES = 3"
      ],
      "execution_count": 0,
      "outputs": []
    },
    {
      "cell_type": "code",
      "metadata": {
        "id": "d6AUXgrde1Sc",
        "colab_type": "code",
        "outputId": "3459adcb-f56f-49e2-cd99-9d4d2cfb0136",
        "colab": {
          "base_uri": "https://localhost:8080/",
          "height": 88
        }
      },
      "source": [
        "print(\"\\n\".join(learn_lm.predict(TEXT, N_WORDS, temperature=0.75) for _ in range(N_SENTENCES)))"
      ],
      "execution_count": 177,
      "outputs": [
        {
          "output_type": "stream",
          "text": [
            "I loved this film because it 's a real wreck . \" It has been described as an intergalactic disaster and is the only example of \" the limited - documentary film of its kind . \" In the United States , the film was parodied by Scottish filmmaker John Paul Hopkins in a 2007 feature film\n",
            "I loved this film because of its love , its vision , and its message of love . The concept of , like , the world 's Insignificant King was inspired by the life and death of British people from the Mediterranean . It was inspired by the United Kingdom , where the Canadian Army\n",
            "I loved this film because of its black and white background . This , and the image of the female lead , were used by Edward Newman for his October 1997 film The King of Hungary . It was the childhood title of the film , which David Lynch read for the British film\n"
          ],
          "name": "stdout"
        }
      ]
    },
    {
      "cell_type": "markdown",
      "metadata": {
        "id": "Dh1Lx42-e1Hn",
        "colab_type": "text"
      },
      "source": [
        "ไม่ชอบหนังเรื่องนี้เพราะว่า"
      ]
    },
    {
      "cell_type": "code",
      "metadata": {
        "colab_type": "code",
        "id": "M7cwr8R_K-7N",
        "colab": {}
      },
      "source": [
        "TEXT = \"I hated this movie because\"\n",
        "N_WORDS = 60\n",
        "N_SENTENCES = 3"
      ],
      "execution_count": 0,
      "outputs": []
    },
    {
      "cell_type": "code",
      "metadata": {
        "colab_type": "code",
        "outputId": "fc3cfccd-c9ed-4230-c46d-610ac35a34f3",
        "id": "MWjBneZlK-7Y",
        "colab": {
          "base_uri": "https://localhost:8080/",
          "height": 88
        }
      },
      "source": [
        "print(\"\\n\".join(learn_lm.predict(TEXT, N_WORDS, temperature=0.75) for _ in range(N_SENTENCES)))"
      ],
      "execution_count": 179,
      "outputs": [
        {
          "output_type": "stream",
          "text": [
            "I hated this movie because it , along with many other films and television shows , was an inspiration for other films . However , the film was initially not based on the Hell in a Cell , but instead went out of use , in order to avoid bloodshed . The film was released on the Blu - ray\n",
            "I hated this movie because of its elements , but it did feel like a movie . The film was well received by critics and was described as an \" interesting and convincing film \" . In February 2000 , the American Film Institute listed it as one of the \" Ten Most Interesting Movies\n",
            "I hated this movie because it was a fan of the magazine , and it was in fact the first picture of the French Revolution in the world . The film was released to the public on September 7 , 1999 . It was released theatrically in Mexico on October 23 , 1999 , in Spain ,\n"
          ],
          "name": "stdout"
        }
      ]
    },
    {
      "cell_type": "markdown",
      "metadata": {
        "id": "qobUE-6be08L",
        "colab_type": "text"
      },
      "source": [
        "หนังเรื่องนี้ ... จริง ๆ"
      ]
    },
    {
      "cell_type": "code",
      "metadata": {
        "colab_type": "code",
        "id": "SACKmLUsL5SE",
        "colab": {}
      },
      "source": [
        "TEXT = \"This movie is really\"\n",
        "N_WORDS = 60\n",
        "N_SENTENCES = 3"
      ],
      "execution_count": 0,
      "outputs": []
    },
    {
      "cell_type": "code",
      "metadata": {
        "colab_type": "code",
        "outputId": "1050f7be-a199-48b4-9e35-f85160539d9b",
        "id": "fNGx-oNdL5SW",
        "colab": {
          "base_uri": "https://localhost:8080/",
          "height": 156
        }
      },
      "source": [
        "print(\"\\n\".join(learn_lm.predict(TEXT, N_WORDS, temperature=0.75) for _ in range(N_SENTENCES)))"
      ],
      "execution_count": 181,
      "outputs": [
        {
          "output_type": "stream",
          "text": [
            "This movie is really a movie , for it is one of the most popular films ever released , and it has been the subject of several biographical films , including the films The World of God and Hancock ( 2008 ) . \n",
            " \n",
            "  = = = Films = = = \n",
            " \n",
            "  In the early 1980s ,\n",
            "This movie is really a miniseries , typically titled The Catalyst . Though the black - and - white version , by King Mark Hill , shows King Arthur and Queen Victoria , it is not based on the British or Japanese accounts . The Emperor also dislikes the\n",
            "This movie is really based on a church in Europe , though it was made in England , France and England . In addition , the French Ambassador Louis Saint - Jacques was surprised at the US response , saying that he could not remember the physical appearance of the French at\n"
          ],
          "name": "stdout"
        }
      ]
    },
    {
      "cell_type": "markdown",
      "metadata": {
        "id": "ChqrRbWje0w_",
        "colab_type": "text"
      },
      "source": [
        "ลด temperature ลง ทำให้ข้อความ Random น้อยลง"
      ]
    },
    {
      "cell_type": "code",
      "metadata": {
        "colab_type": "code",
        "id": "4pr4SUTzNVWZ",
        "colab": {}
      },
      "source": [
        "TEXT = \"This movie is really\"\n",
        "N_WORDS = 60\n",
        "N_SENTENCES = 3"
      ],
      "execution_count": 0,
      "outputs": []
    },
    {
      "cell_type": "code",
      "metadata": {
        "colab_type": "code",
        "outputId": "0bd9860a-1b14-458d-f0da-f1dc74321d31",
        "id": "35UjPxCXNVWf",
        "colab": {
          "base_uri": "https://localhost:8080/",
          "height": 122
        }
      },
      "source": [
        "print(\"\\n\".join(learn_lm.predict(TEXT, N_WORDS, temperature=0.1) for _ in range(N_SENTENCES)))"
      ],
      "execution_count": 183,
      "outputs": [
        {
          "output_type": "stream",
          "text": [
            "This movie is really a British film , and it is a film that is not a direct sequel to the British film . The film is a prequel to the film , and is a prequel to the film . The film was released on DVD in November 2009 . \n",
            " \n",
            "  = = Reception = =\n",
            "This movie is really a British film , and it is the first film to be filmed in London . The film was shot in London , England , and London , and was shot in London . The film was shot in London , England , and London . The film\n",
            "This movie is really a Hollywood film , and it is a film that is not a direct sequel to the Hollywood film . The film is a sequel to the original Star Wars film , and the film is not a sequel to the original Star Wars film . The film was released on\n"
          ],
          "name": "stdout"
        }
      ]
    },
    {
      "cell_type": "markdown",
      "metadata": {
        "id": "GmisUEAANW7s",
        "colab_type": "text"
      },
      "source": [
        "# 5. Train Model"
      ]
    },
    {
      "cell_type": "markdown",
      "metadata": {
        "id": "BoXFdZQFTenY",
        "colab_type": "text"
      },
      "source": [
        "## 5.1 Train Last Layer"
      ]
    },
    {
      "cell_type": "markdown",
      "metadata": {
        "id": "pvvXFNsEUAB4",
        "colab_type": "text"
      },
      "source": [
        "เทรน Layer สุดท้าย"
      ]
    },
    {
      "cell_type": "code",
      "metadata": {
        "id": "lKwL_MTmNXBg",
        "colab_type": "code",
        "colab": {
          "base_uri": "https://localhost:8080/",
          "height": 330
        },
        "outputId": "07108bae-5961-452d-86ab-7153f4caef30"
      },
      "source": [
        "learn_lm.lr_find()\n",
        "learn_lm.recorder.plot(suggestion=True)"
      ],
      "execution_count": 187,
      "outputs": [
        {
          "output_type": "display_data",
          "data": {
            "text/html": [
              ""
            ],
            "text/plain": [
              "<IPython.core.display.HTML object>"
            ]
          },
          "metadata": {
            "tags": []
          }
        },
        {
          "output_type": "stream",
          "text": [
            "LR Finder is complete, type {learner_name}.recorder.plot() to see the graph.\n",
            "Min numerical gradient: 6.31E-07\n",
            "Min loss divided by 10: 5.75E-03\n"
          ],
          "name": "stdout"
        },
        {
          "output_type": "display_data",
          "data": {
            "image/png": "[encoded data removed]",
            "text/plain": [
              "<Figure size 432x288 with 1 Axes>"
            ]
          },
          "metadata": {
            "tags": []
          }
        }
      ]
    },
    {
      "cell_type": "code",
      "metadata": {
        "id": "n_V0rW6sNXGe",
        "colab_type": "code",
        "colab": {}
      },
      "source": [
        "lr = 1e-2"
      ],
      "execution_count": 0,
      "outputs": []
    },
    {
      "cell_type": "code",
      "metadata": {
        "id": "_AU3fwPXNXK5",
        "colab_type": "code",
        "colab": {}
      },
      "source": [
        "learn_lm.to_fp16()"
      ],
      "execution_count": 0,
      "outputs": []
    },
    {
      "cell_type": "code",
      "metadata": {
        "id": "QmQlysxnRfIt",
        "colab_type": "code",
        "colab": {
          "base_uri": "https://localhost:8080/",
          "height": 95
        },
        "outputId": "c6417ec9-8af4-4cfd-8996-64b31af2c73a"
      },
      "source": [
        "learn_lm.fit_one_cycle(1, lr, moms=(0.8, 0.7))"
      ],
      "execution_count": 0,
      "outputs": [
        {
          "output_type": "display_data",
          "data": {
            "text/html": [
              "\n",
              "    <div>\n",
              "        <style>\n",
              "            /* Turns off some styling */\n",
              "            progress {\n",
              "                /* gets rid of default border in Firefox and Opera. */\n",
              "                border: none;\n",
              "                /* Needs to be in here for Safari polyfill so background images work as expected. */\n",
              "                background-size: auto;\n",
              "            }\n",
              "            .progress-bar-interrupted, .progress-bar-interrupted::-webkit-progress-bar {\n",
              "                background: #F44336;\n",
              "            }\n",
              "        </style>\n",
              "      <progress value='0' class='' max='1', style='width:300px; height:20px; vertical-align: middle;'></progress>\n",
              "      0.00% [0/1 00:00<00:00]\n",
              "    </div>\n",
              "    \n",
              "<table border=\"1\" class=\"dataframe\">\n",
              "  <thead>\n",
              "    <tr style=\"text-align: left;\">\n",
              "      <th>epoch</th>\n",
              "      <th>train_loss</th>\n",
              "      <th>valid_loss</th>\n",
              "      <th>accuracy</th>\n",
              "      <th>time</th>\n",
              "    </tr>\n",
              "  </thead>\n",
              "  <tbody>\n",
              "  </tbody>\n",
              "</table><p>\n",
              "\n",
              "    <div>\n",
              "        <style>\n",
              "            /* Turns off some styling */\n",
              "            progress {\n",
              "                /* gets rid of default border in Firefox and Opera. */\n",
              "                border: none;\n",
              "                /* Needs to be in here for Safari polyfill so background images work as expected. */\n",
              "                background-size: auto;\n",
              "            }\n",
              "            .progress-bar-interrupted, .progress-bar-interrupted::-webkit-progress-bar {\n",
              "                background: #F44336;\n",
              "            }\n",
              "        </style>\n",
              "      <progress value='2026' class='' max='6041', style='width:300px; height:20px; vertical-align: middle;'></progress>\n",
              "      33.54% [2026/6041 07:03<13:59 4.2457]\n",
              "    </div>\n",
              "    "
            ],
            "text/plain": [
              "<IPython.core.display.HTML object>"
            ]
          },
          "metadata": {
            "tags": []
          }
        }
      ]
    },
    {
      "cell_type": "code",
      "metadata": {
        "id": "dj83i97WNXPi",
        "colab_type": "code",
        "colab": {}
      },
      "source": [
        "learn_lm.save(\"26g-01\")"
      ],
      "execution_count": 0,
      "outputs": []
    },
    {
      "cell_type": "code",
      "metadata": {
        "id": "B5z_yEQ8NXUL",
        "colab_type": "code",
        "colab": {}
      },
      "source": [
        "learn_lm.load(\"26g-01\");"
      ],
      "execution_count": 0,
      "outputs": []
    },
    {
      "cell_type": "markdown",
      "metadata": {
        "id": "IpFp-HQ_SMxG",
        "colab_type": "text"
      },
      "source": [
        "## 5.2 Unfreeze and Train whole model"
      ]
    },
    {
      "cell_type": "code",
      "metadata": {
        "id": "wX73rJRYSJhF",
        "colab_type": "code",
        "colab": {}
      },
      "source": [
        "learn_lm.unfreeze()"
      ],
      "execution_count": 0,
      "outputs": []
    },
    {
      "cell_type": "code",
      "metadata": {
        "id": "yQkYeJBnSJmE",
        "colab_type": "code",
        "colab": {}
      },
      "source": [
        "learn_lm.lr_find()\n",
        "learn_lm.record.plot(suggestion=True)"
      ],
      "execution_count": 0,
      "outputs": []
    },
    {
      "cell_type": "code",
      "metadata": {
        "id": "R2-Zn1GCSJrI",
        "colab_type": "code",
        "colab": {}
      },
      "source": [
        "lr = slice(1e-6, 3e-4)"
      ],
      "execution_count": 0,
      "outputs": []
    },
    {
      "cell_type": "code",
      "metadata": {
        "id": "IOL9Nyv6SJvy",
        "colab_type": "code",
        "colab": {}
      },
      "source": [
        "learn_lm.fit_one_cycle(10, max_lr=lr, moms=(0.8, 0.7))"
      ],
      "execution_count": 0,
      "outputs": []
    },
    {
      "cell_type": "code",
      "metadata": {
        "id": "nJcGgzYCSJ3P",
        "colab_type": "code",
        "colab": {}
      },
      "source": [
        "learn_lm.save(\"26g-02\")"
      ],
      "execution_count": 0,
      "outputs": []
    },
    {
      "cell_type": "code",
      "metadata": {
        "id": "VH8dZeaHSKAc",
        "colab_type": "code",
        "colab": {}
      },
      "source": [
        "learn_lm.save_encoder(\"26g-02-enc\")"
      ],
      "execution_count": 0,
      "outputs": []
    },
    {
      "cell_type": "code",
      "metadata": {
        "id": "Vxv2WUhzSJ8Y",
        "colab_type": "code",
        "colab": {}
      },
      "source": [
        "learn_lm.load(\"26g-02\");"
      ],
      "execution_count": 0,
      "outputs": []
    },
    {
      "cell_type": "markdown",
      "metadata": {
        "id": "DFMYILC7SKEk",
        "colab_type": "text"
      },
      "source": [
        "## 5.3 Check Embedding Again"
      ]
    },
    {
      "cell_type": "code",
      "metadata": {
        "colab_type": "code",
        "outputId": "42adc674-bd25-4dab-f278-1146195164d0",
        "id": "PBLu-lfDUWJX",
        "colab": {
          "base_uri": "https://localhost:8080/",
          "height": 34
        }
      },
      "source": [
        "np.allclose(enc.weight[vocab.stoi['senselessness'], :], \n",
        "            enc.weight[vocab.stoi['unthinking'], :])"
      ],
      "execution_count": 0,
      "outputs": [
        {
          "output_type": "execute_result",
          "data": {
            "text/plain": [
              "True"
            ]
          },
          "metadata": {
            "tags": []
          },
          "execution_count": 170
        }
      ]
    },
    {
      "cell_type": "markdown",
      "metadata": {
        "colab_type": "text",
        "id": "TwyBgYYKUWJg"
      },
      "source": [
        "แต่ถ้าเทียบกับ Embedding ที่เทรนเรียบร้อยแล้ว ก็จะต่างกันมาก"
      ]
    },
    {
      "cell_type": "code",
      "metadata": {
        "colab_type": "code",
        "outputId": "f1ebfba7-62d0-498e-f69b-8b7d46d38368",
        "id": "lIUJZrLxUWJh",
        "colab": {
          "base_uri": "https://localhost:8080/",
          "height": 34
        }
      },
      "source": [
        "np.allclose(enc.weight[vocab.stoi['senselessness'], :], \n",
        "            enc.weight[vocab.stoi['capital'], :])"
      ],
      "execution_count": 0,
      "outputs": [
        {
          "output_type": "execute_result",
          "data": {
            "text/plain": [
              "False"
            ]
          },
          "metadata": {
            "tags": []
          },
          "execution_count": 171
        }
      ]
    },
    {
      "cell_type": "markdown",
      "metadata": {
        "colab_type": "text",
        "id": "FzJ4AsIlUWJl"
      },
      "source": [
        "3 คำแรกมีใน IMDB แต่คำสุดท้ายไม่มี"
      ]
    },
    {
      "cell_type": "code",
      "metadata": {
        "colab_type": "code",
        "outputId": "5513f855-3d7f-4570-92ed-b50e12fcd9d1",
        "id": "67lPmtvYUWJm",
        "colab": {
          "base_uri": "https://localhost:8080/",
          "height": 34
        }
      },
      "source": [
        "vocab.stoi['senselessness'], vocab.stoi['unthinking'], vocab.stoi['capital'], vocab.stoi['cpu']"
      ],
      "execution_count": 0,
      "outputs": [
        {
          "output_type": "execute_result",
          "data": {
            "text/plain": [
              "(35310, 26364, 5670, 0)"
            ]
          },
          "metadata": {
            "tags": []
          },
          "execution_count": 172
        }
      ]
    },
    {
      "cell_type": "markdown",
      "metadata": {
        "colab_type": "text",
        "id": "83R4iOGwUWJp"
      },
      "source": [
        "ดู Embedding ของคำที่มีใน IMDB แต่ไม่มีใน Wiki จะเห็นว่าเท่ากันมีค่าเท่ากัน"
      ]
    },
    {
      "cell_type": "code",
      "metadata": {
        "colab_type": "code",
        "outputId": "8063c3ce-db3e-4811-e256-3066ff48a2ed",
        "id": "9C4XvvRiUWJq",
        "colab": {
          "base_uri": "https://localhost:8080/",
          "height": 153
        }
      },
      "source": [
        "len(enc.weight[vocab.stoi['senselessness'], :]), enc.weight[vocab.stoi['senselessness'], :][:50]"
      ],
      "execution_count": 0,
      "outputs": [
        {
          "output_type": "execute_result",
          "data": {
            "text/plain": [
              "(400,\n",
              " tensor([ 0.0253,  0.0026,  0.0423, -0.0274, -0.0110, -0.0100, -0.0628,  0.1794,\n",
              "         -0.1275, -0.2096, -0.0124, -0.0056, -0.0505, -0.0501, -0.0428,  0.1726,\n",
              "         -0.0650, -0.0571, -0.1103,  0.0186,  0.0053, -0.0059,  0.0299,  0.0192,\n",
              "         -0.0240,  0.1432, -0.1064, -0.0097,  0.0100, -0.0399,  0.0282,  0.0319,\n",
              "          0.1297,  0.0687, -0.0047,  0.0168,  0.0201,  0.1346, -0.0336, -0.0449,\n",
              "          0.0265, -0.0756, -0.0225,  0.0196,  0.0221,  0.0214,  0.0077, -0.1311,\n",
              "         -0.1357, -0.0128], device='cuda:0', grad_fn=<SliceBackward>))"
            ]
          },
          "metadata": {
            "tags": []
          },
          "execution_count": 173
        }
      ]
    },
    {
      "cell_type": "code",
      "metadata": {
        "colab_type": "code",
        "outputId": "0c33e2c5-c605-4418-8467-886223806d85",
        "id": "2GsG5ylMUWJu",
        "colab": {
          "base_uri": "https://localhost:8080/",
          "height": 153
        }
      },
      "source": [
        "len(enc.weight[vocab.stoi['unthinking'], :]), enc.weight[vocab.stoi['unthinking'], :][:50]"
      ],
      "execution_count": 0,
      "outputs": [
        {
          "output_type": "execute_result",
          "data": {
            "text/plain": [
              "(400,\n",
              " tensor([ 0.0253,  0.0026,  0.0423, -0.0274, -0.0110, -0.0100, -0.0628,  0.1794,\n",
              "         -0.1275, -0.2096, -0.0124, -0.0056, -0.0505, -0.0501, -0.0428,  0.1726,\n",
              "         -0.0650, -0.0571, -0.1103,  0.0186,  0.0053, -0.0059,  0.0299,  0.0192,\n",
              "         -0.0240,  0.1432, -0.1064, -0.0097,  0.0100, -0.0399,  0.0282,  0.0319,\n",
              "          0.1297,  0.0687, -0.0047,  0.0168,  0.0201,  0.1346, -0.0336, -0.0449,\n",
              "          0.0265, -0.0756, -0.0225,  0.0196,  0.0221,  0.0214,  0.0077, -0.1311,\n",
              "         -0.1357, -0.0128], device='cuda:0', grad_fn=<SliceBackward>))"
            ]
          },
          "metadata": {
            "tags": []
          },
          "execution_count": 174
        }
      ]
    },
    {
      "cell_type": "markdown",
      "metadata": {
        "colab_type": "text",
        "id": "KTqK5iBAUWJx"
      },
      "source": [
        "ต่างกับค่าที่มีใน Wiki"
      ]
    },
    {
      "cell_type": "code",
      "metadata": {
        "colab_type": "code",
        "outputId": "9d34f9c9-903f-48d0-f6d9-ca77a4bdaefc",
        "id": "Oynm4TdcUWJy",
        "colab": {
          "base_uri": "https://localhost:8080/",
          "height": 153
        }
      },
      "source": [
        "len(enc.weight[vocab.stoi['capital'], :]), enc.weight[vocab.stoi['capital'], :][:50]"
      ],
      "execution_count": 0,
      "outputs": [
        {
          "output_type": "execute_result",
          "data": {
            "text/plain": [
              "(400,\n",
              " tensor([-0.2566,  0.1062,  0.3081,  0.2742,  0.1667, -0.1626, -0.5122, -0.1261,\n",
              "          0.4548, -0.4177, -0.1565,  0.0752,  0.2253,  0.2031, -0.3125,  0.0310,\n",
              "          0.5112, -0.3691, -0.2947, -0.0168, -0.1147,  0.3074, -0.1654, -0.2202,\n",
              "          0.0538, -0.4041,  0.1666, -0.0109, -0.2803,  0.3044, -0.2279,  0.1786,\n",
              "         -0.2502, -0.2334,  0.4438,  0.2404,  0.1746,  0.1509,  0.0351,  0.2844,\n",
              "         -0.0244, -0.2031,  0.1228, -0.2357, -0.2065,  0.5811,  0.1338,  0.4087,\n",
              "         -0.5034, -0.0150], device='cuda:0', grad_fn=<SliceBackward>))"
            ]
          },
          "metadata": {
            "tags": []
          },
          "execution_count": 175
        }
      ]
    },
    {
      "cell_type": "code",
      "metadata": {
        "id": "XWVEazYoTbxB",
        "colab_type": "code",
        "colab": {}
      },
      "source": [
        ""
      ],
      "execution_count": 0,
      "outputs": []
    },
    {
      "cell_type": "code",
      "metadata": {
        "id": "AmV6rLUdTb3T",
        "colab_type": "code",
        "colab": {}
      },
      "source": [
        ""
      ],
      "execution_count": 0,
      "outputs": []
    },
    {
      "cell_type": "code",
      "metadata": {
        "id": "_qLBSBFmTb8-",
        "colab_type": "code",
        "colab": {}
      },
      "source": [
        ""
      ],
      "execution_count": 0,
      "outputs": []
    },
    {
      "cell_type": "code",
      "metadata": {
        "id": "iGICfPBITcCh",
        "colab_type": "code",
        "colab": {}
      },
      "source": [
        ""
      ],
      "execution_count": 0,
      "outputs": []
    },
    {
      "cell_type": "code",
      "metadata": {
        "id": "8LB1eurASJ04",
        "colab_type": "code",
        "colab": {}
      },
      "source": [
        ""
      ],
      "execution_count": 0,
      "outputs": []
    },
    {
      "cell_type": "markdown",
      "metadata": {
        "id": "NDi6KKnULray",
        "colab_type": "text"
      },
      "source": [
        "# สรุป"
      ]
    },
    {
      "cell_type": "markdown",
      "metadata": {
        "id": "BpoHE89ONKc_",
        "colab_type": "text"
      },
      "source": [
        "* เราได้เรียนรู้ว่า "
      ]
    },
    {
      "cell_type": "markdown",
      "metadata": {
        "id": "4gvQU6jgNLKZ",
        "colab_type": "text"
      },
      "source": [
        "# Credit"
      ]
    },
    {
      "cell_type": "markdown",
      "metadata": {
        "id": "nt2N3YR6OsLp",
        "colab_type": "text"
      },
      "source": [
        "* https://www.youtube.com/watch?v=dt7sArnLo1g&list=PLtmWHNX-gukKocXQOkQjuVxglSDYWsSh9&index=6&t=0s\n",
        "* https://www.bualabs.com/archives/2693/data-block-api-data-pipeline-machine-learning-supervised-learning-preprocessing-ep-5/\n",
        "* https://www.bualabs.com/archives/926/sentiment-analysis-imdb-movie-review-ulmfit-sentiment-analysis-ep-1/\n",
        "* https://www.bualabs.com/archives/3000/sentiment-classification-imdb-movie-reviews-with-naive-bayes-logistic-regression-nlp-ep-5/\n",
        "* https://docs.fast.ai/data_block.html\n",
        "* https://docs.fast.ai/text.data.html\n",
        "* https://forums.fast.ai/t/language-model-zoo-gorilla/14623\n",
        "* https://www.imdb.com/interfaces/\n",
        "* https://blog.einstein.ai/the-wikitext-long-term-dependency-language-modeling-dataset/\n",
        "* https://arxiv.org/abs/1801.06146\n",
        "* "
      ]
    },
    {
      "cell_type": "code",
      "metadata": {
        "id": "45T4wMZg06J5",
        "colab_type": "code",
        "colab": {}
      },
      "source": [
        ""
      ],
      "execution_count": 0,
      "outputs": []
    }
  ]
}