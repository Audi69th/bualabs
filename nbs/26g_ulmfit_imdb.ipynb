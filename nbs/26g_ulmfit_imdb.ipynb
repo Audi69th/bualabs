{
  "nbformat": 4,
  "nbformat_minor": 0,
  "metadata": {
    "colab": {
      "name": "26g-ulmfit-imdb.ipynb",
      "provenance": []
    },
    "kernelspec": {
      "name": "python3",
      "display_name": "Python 3"
    },
    "accelerator": "GPU"
  },
  "cells": [
    {
      "cell_type": "markdown",
      "metadata": {
        "id": "XlQtoavmlNzL",
        "colab_type": "text"
      },
      "source": [
        "ใน ep ที่แล้ว "
      ]
    },
    {
      "cell_type": "markdown",
      "metadata": {
        "id": "CzApwnjVlKxC",
        "colab_type": "text"
      },
      "source": [
        "# 0. Install"
      ]
    },
    {
      "cell_type": "code",
      "metadata": {
        "id": "0WcUkQRak7e6",
        "colab_type": "code",
        "colab": {}
      },
      "source": [
        "%reload_ext autoreload\n",
        "%autoreload 2\n",
        "%matplotlib inline"
      ],
      "execution_count": 0,
      "outputs": []
    },
    {
      "cell_type": "markdown",
      "metadata": {
        "id": "MGOPzh9vCLJh",
        "colab_type": "text"
      },
      "source": [
        "Install Library ที่จำเป็น"
      ]
    },
    {
      "cell_type": "code",
      "metadata": {
        "id": "o0UgDCGLhby7",
        "colab_type": "code",
        "outputId": "80aca585-0f6b-4897-a7ce-b4921dc466a6",
        "colab": {
          "base_uri": "https://localhost:8080/",
          "height": 51
        }
      },
      "source": [
        "## Colab\n",
        "! curl -s https://course.fast.ai/setup/colab | bash"
      ],
      "execution_count": 69,
      "outputs": [
        {
          "output_type": "stream",
          "text": [
            "Updating fastai...\n",
            "Done.\n"
          ],
          "name": "stdout"
        }
      ]
    },
    {
      "cell_type": "markdown",
      "metadata": {
        "id": "3VxLNfAElR29",
        "colab_type": "text"
      },
      "source": [
        "# 1. Import"
      ]
    },
    {
      "cell_type": "markdown",
      "metadata": {
        "id": "nGm02SG0CQrq",
        "colab_type": "text"
      },
      "source": [
        "Import Library ที่จะใช้ ในที่นี้คือ fastai และ fastai.text "
      ]
    },
    {
      "cell_type": "code",
      "metadata": {
        "id": "OORH3obdk-wS",
        "colab_type": "code",
        "colab": {}
      },
      "source": [
        "from fastai import *\n",
        "from fastai.text import *"
      ],
      "execution_count": 0,
      "outputs": []
    },
    {
      "cell_type": "code",
      "metadata": {
        "id": "nmZehcHclZyM",
        "colab_type": "code",
        "colab": {}
      },
      "source": [
        "# import fastai.utils.collect_env\n",
        "# fastai.utils.collect_env.show_install()"
      ],
      "execution_count": 0,
      "outputs": []
    },
    {
      "cell_type": "markdown",
      "metadata": {
        "id": "pv3eV6oElZD2",
        "colab_type": "text"
      },
      "source": [
        "# 2. Dataset"
      ]
    },
    {
      "cell_type": "markdown",
      "metadata": {
        "id": "_9kLpiZj_Rd6",
        "colab_type": "text"
      },
      "source": [
        "ในเคสนี้เราจะใช้ IMDB Movie Review เป็นรีวิวหนังจากเว็บ IMDB ที่มีข้อความ และ คะแนนว่าเป็นแง่บวก หรือแง่ลบ เหมือนใน ep ก่อน ๆ \n",
        "\n",
        "ในการพัฒนา เราจะใช้ Dataset ชุดเล็กก่อน จะได้เร็ว เมื่อเทสทุกอย่างเรียบร้อย แล้วจึงขยับไปใช้ Dataset ชุดเต็ม "
      ]
    },
    {
      "cell_type": "code",
      "metadata": {
        "id": "dx8aArt3l1ca",
        "colab_type": "code",
        "colab": {
          "base_uri": "https://localhost:8080/",
          "height": 34
        },
        "outputId": "e6c3559a-79f3-4c79-cc2e-c0f22c938c3b"
      },
      "source": [
        "path = untar_data(URLs.IMDB_SAMPLE)\n",
        "path.ls()"
      ],
      "execution_count": 72,
      "outputs": [
        {
          "output_type": "execute_result",
          "data": {
            "text/plain": [
              "[PosixPath('/content/data/imdb_sample/texts.csv')]"
            ]
          },
          "metadata": {
            "tags": []
          },
          "execution_count": 72
        }
      ]
    },
    {
      "cell_type": "markdown",
      "metadata": {
        "id": "5SWut3oxmai6",
        "colab_type": "text"
      },
      "source": [
        "# 3. Preprocessing"
      ]
    },
    {
      "cell_type": "markdown",
      "metadata": {
        "id": "nGz9PRlBmUxZ",
        "colab_type": "text"
      },
      "source": [
        "## 3.1 Data Block API"
      ]
    },
    {
      "cell_type": "markdown",
      "metadata": {
        "id": "Qfq-mMdBm7vy",
        "colab_type": "text"
      },
      "source": [
        "เราจะใช้ [Data Block API](https://www.bualabs.com/archives/2693/data-block-api-data-pipeline-machine-learning-supervised-learning-preprocessing-ep-5/) กำหนด Data Pipeline ทีละขั้น Tokenization, Numericalization, Split, Labeling ก็จะทำให้ยืดหยุ่นมากขึ้น"
      ]
    },
    {
      "cell_type": "code",
      "metadata": {
        "id": "VycXdm7Lmweq",
        "colab_type": "code",
        "colab": {}
      },
      "source": [
        "data_lm = (TextList.from_csv(path, 'texts.csv', cols='text')\n",
        "                .split_from_df(col=2)\n",
        "                .label_from_df(cols=0)\n",
        "                .databunch())"
      ],
      "execution_count": 0,
      "outputs": []
    },
    {
      "cell_type": "markdown",
      "metadata": {
        "id": "zLpeVJFETRUH",
        "colab_type": "text"
      },
      "source": [
        "ดูตัวอย่างคำศัพท์ใน vocab Dictionary"
      ]
    },
    {
      "cell_type": "code",
      "metadata": {
        "colab_type": "code",
        "outputId": "a4ade566-5e2b-4622-9abe-1cccf6e1e547",
        "id": "jx2E3YGkngw0",
        "colab": {
          "base_uri": "https://localhost:8080/",
          "height": 357
        }
      },
      "source": [
        "data_lm.vocab.itos[:20]"
      ],
      "execution_count": 78,
      "outputs": [
        {
          "output_type": "execute_result",
          "data": {
            "text/plain": [
              "['xxunk',\n",
              " 'xxpad',\n",
              " 'xxbos',\n",
              " 'xxeos',\n",
              " 'xxfld',\n",
              " 'xxmaj',\n",
              " 'xxup',\n",
              " 'xxrep',\n",
              " 'xxwrep',\n",
              " 'the',\n",
              " '.',\n",
              " ',',\n",
              " 'and',\n",
              " 'a',\n",
              " 'of',\n",
              " 'to',\n",
              " 'is',\n",
              " 'it',\n",
              " 'in',\n",
              " 'i']"
            ]
          },
          "metadata": {
            "tags": []
          },
          "execution_count": 78
        }
      ]
    },
    {
      "cell_type": "markdown",
      "metadata": {
        "id": "5OgbUTpzTU7d",
        "colab_type": "text"
      },
      "source": [
        "ดูตัวอย่างข้อมูล text"
      ]
    },
    {
      "cell_type": "code",
      "metadata": {
        "colab_type": "code",
        "outputId": "c1a24acc-4186-4fd7-ced6-414e45d05ddd",
        "id": "egTdfsibngw-",
        "colab": {
          "base_uri": "https://localhost:8080/",
          "height": 54
        }
      },
      "source": [
        "data_lm.train_ds[0][0]"
      ],
      "execution_count": 79,
      "outputs": [
        {
          "output_type": "execute_result",
          "data": {
            "text/plain": [
              "Text xxbos xxmaj un - xxunk - believable ! xxmaj meg xxmaj ryan does n't even look her usual xxunk lovable self in this , which normally makes me forgive her shallow xxunk acting xxunk . xxmaj hard to believe she was the producer on this dog . xxmaj plus xxmaj kevin xxmaj kline : what kind of suicide trip has his career been on ? xxmaj xxunk ... xxmaj xxunk ! ! ! xxmaj finally this was directed by the guy who did xxmaj big xxmaj xxunk ? xxmaj must be a replay of xxmaj jonestown - hollywood style . xxmaj xxunk !"
            ]
          },
          "metadata": {
            "tags": []
          },
          "execution_count": 79
        }
      ]
    },
    {
      "cell_type": "markdown",
      "metadata": {
        "id": "GDVX1DrlTX8U",
        "colab_type": "text"
      },
      "source": [
        "ดูข้อมูลภายใน ในรูปแบบตัวเลข"
      ]
    },
    {
      "cell_type": "code",
      "metadata": {
        "colab_type": "code",
        "outputId": "bf248c70-0532-40f2-b3cd-1c9031fb88da",
        "id": "U9t0qpcVngxB",
        "colab": {
          "base_uri": "https://localhost:8080/",
          "height": 34
        }
      },
      "source": [
        "data_lm.train_ds[0][0].data[:10]"
      ],
      "execution_count": 80,
      "outputs": [
        {
          "output_type": "execute_result",
          "data": {
            "text/plain": [
              "array([   2,    5, 4619,   25,    0,   25,  867,   52,    5, 3776])"
            ]
          },
          "metadata": {
            "tags": []
          },
          "execution_count": 80
        }
      ]
    },
    {
      "cell_type": "markdown",
      "metadata": {
        "id": "sgoaG7LXniVb",
        "colab_type": "text"
      },
      "source": [
        "# 2/2. Full Dataset"
      ]
    },
    {
      "cell_type": "markdown",
      "metadata": {
        "id": "4UM7WpBUTdMG",
        "colab_type": "text"
      },
      "source": [
        "Download ชุดข้อมูลตัวเต็ม"
      ]
    },
    {
      "cell_type": "code",
      "metadata": {
        "id": "lNV4cKwgpJB-",
        "colab_type": "code",
        "colab": {
          "base_uri": "https://localhost:8080/",
          "height": 153
        },
        "outputId": "3ecc4cb8-f3d2-4163-9204-c4aa75cd0001"
      },
      "source": [
        "path = untar_data(URLs.IMDB)\n",
        "path.ls()"
      ],
      "execution_count": 81,
      "outputs": [
        {
          "output_type": "execute_result",
          "data": {
            "text/plain": [
              "[PosixPath('/content/data/imdb/lm_databunch'),\n",
              " PosixPath('/content/data/imdb/train'),\n",
              " PosixPath('/content/data/imdb/test'),\n",
              " PosixPath('/content/data/imdb/unsup'),\n",
              " PosixPath('/content/data/imdb/README'),\n",
              " PosixPath('/content/data/imdb/tmp_clas'),\n",
              " PosixPath('/content/data/imdb/tmp_lm'),\n",
              " PosixPath('/content/data/imdb/imdb.vocab')]"
            ]
          },
          "metadata": {
            "tags": []
          },
          "execution_count": 81
        }
      ]
    },
    {
      "cell_type": "code",
      "metadata": {
        "id": "mR9dSvaGpQAQ",
        "colab_type": "code",
        "colab": {
          "base_uri": "https://localhost:8080/",
          "height": 85
        },
        "outputId": "48998c43-374d-47ec-f168-089b3c5443ac"
      },
      "source": [
        "(path/'train').ls()"
      ],
      "execution_count": 82,
      "outputs": [
        {
          "output_type": "execute_result",
          "data": {
            "text/plain": [
              "[PosixPath('/content/data/imdb/train/pos'),\n",
              " PosixPath('/content/data/imdb/train/labeledBow.feat'),\n",
              " PosixPath('/content/data/imdb/train/neg'),\n",
              " PosixPath('/content/data/imdb/train/unsupBow.feat')]"
            ]
          },
          "metadata": {
            "tags": []
          },
          "execution_count": 82
        }
      ]
    },
    {
      "cell_type": "markdown",
      "metadata": {
        "id": "1bakq2CmzoeO",
        "colab_type": "text"
      },
      "source": [
        "# 3/2. Preprocessing"
      ]
    },
    {
      "cell_type": "markdown",
      "metadata": {
        "id": "gd1I1qeM86EX",
        "colab_type": "text"
      },
      "source": [
        "Data Pipeline ด้วย Data Block API"
      ]
    },
    {
      "cell_type": "code",
      "metadata": {
        "id": "L1sctU1WqNeV",
        "colab_type": "code",
        "colab": {}
      },
      "source": [
        "# bs=48\n",
        "# bs=24\n",
        "bs=192"
      ],
      "execution_count": 0,
      "outputs": []
    },
    {
      "cell_type": "code",
      "metadata": {
        "id": "MPRaVM3_ppwf",
        "colab_type": "code",
        "colab": {}
      },
      "source": [
        "data_lm = (TextList.from_folder(path)\n",
        "                    .filter_by_folder(include=['train', 'test', 'unsup'])\n",
        "                    .split_by_rand_pct(0.1)\n",
        "                    .label_for_lm()\n",
        "                    .databunch(bs=bs, num_workers=1))"
      ],
      "execution_count": 0,
      "outputs": []
    },
    {
      "cell_type": "markdown",
      "metadata": {
        "id": "B8EzQpO232t3",
        "colab_type": "text"
      },
      "source": [
        "ในข้อมูล 90,000 Record มีคำศัพท์ 60,000 คำ (Default)"
      ]
    },
    {
      "cell_type": "code",
      "metadata": {
        "id": "jIYe62ynqRqP",
        "colab_type": "code",
        "colab": {
          "base_uri": "https://localhost:8080/",
          "height": 34
        },
        "outputId": "c33333c8-a00c-432a-fee0-e8816b389b02"
      },
      "source": [
        "len(data_lm.vocab.itos), len(data_lm.train_ds)"
      ],
      "execution_count": 85,
      "outputs": [
        {
          "output_type": "execute_result",
          "data": {
            "text/plain": [
              "(60000, 90000)"
            ]
          },
          "metadata": {
            "tags": []
          },
          "execution_count": 85
        }
      ]
    },
    {
      "cell_type": "code",
      "metadata": {
        "id": "OCXun8tSqjQA",
        "colab_type": "code",
        "colab": {
          "base_uri": "https://localhost:8080/",
          "height": 289
        },
        "outputId": "b98bf607-d56c-4434-b346-0707cea92a20"
      },
      "source": [
        "data_lm.show_batch()"
      ],
      "execution_count": 86,
      "outputs": [
        {
          "output_type": "display_data",
          "data": {
            "text/html": [
              "<table border=\"1\" class=\"dataframe\">\n",
              "  <thead>\n",
              "    <tr style=\"text-align: right;\">\n",
              "      <th>idx</th>\n",
              "      <th>text</th>\n",
              "    </tr>\n",
              "  </thead>\n",
              "  <tbody>\n",
              "    <tr>\n",
              "      <td>0</td>\n",
              "      <td>xxmaj jack xxmaj bauer is a federal agent who is assigned the protection of the senator xxmaj david xxmaj palmer . xxmaj he ca n't trust in anybody because people of the xxup ctu may be involved . xxmaj and , when this events occurred his daughter : xxmaj kimberly escapes from house to a party . xxmaj but ... \\n \\n  xxmaj at the end of the episode</td>\n",
              "    </tr>\n",
              "    <tr>\n",
              "      <td>1</td>\n",
              "      <td>would sell , so why do n't they make a movie out of my bride seeking adventures in xxmaj russia ? xxmaj however , there is one factual impossibility in this film , and that is the way which the guy orders his bride from a catalog and having her arrive at an airport . xxmaj it does n't work that way at all , so i do n't understand</td>\n",
              "    </tr>\n",
              "    <tr>\n",
              "      <td>2</td>\n",
              "      <td>be xxmaj bridget xxmaj hennessy , played by xxmaj kaley xxmaj cuoco . xxmaj she is the ultimate blonde : gorgeous , slow , dim - witted , yet she is a smart person . xxmaj she is off the wall hilarious with her innocent ' blonde ' humor and how conceited she is . \\n \\n  xxmaj amy xxmaj davidson can get a tad annoying as xxmaj kerry</td>\n",
              "    </tr>\n",
              "    <tr>\n",
              "      <td>3</td>\n",
              "      <td>with the police with the fascination of a foreigner , but i think that adds something rather than detracting from the film . xxmaj it 's not true that hippies did not exist in xxmaj italy at the time ( think of the ' 68 protests , like in xxmaj france ) , although they were obviously different from the xxmaj american counterpart and in some ways even more militant</td>\n",
              "    </tr>\n",
              "    <tr>\n",
              "      <td>4</td>\n",
              "      <td>remake of it . xxmaj even though it did n't follow the original storyline ( that 's why i gave it 8 out of 10 ) , it was still pretty good and this is probably a better storyline . \\n \\n  xxmaj as for the car , well the xxup dj 's comment at the end about the xxmaj challenger going 185 mph into the bulldozers is pretty</td>\n",
              "    </tr>\n",
              "  </tbody>\n",
              "</table>"
            ],
            "text/plain": [
              "<IPython.core.display.HTML object>"
            ]
          },
          "metadata": {
            "tags": []
          }
        }
      ]
    },
    {
      "cell_type": "markdown",
      "metadata": {
        "id": "HuycJ7544KMN",
        "colab_type": "text"
      },
      "source": [
        "เซฟไว้ก่อน "
      ]
    },
    {
      "cell_type": "code",
      "metadata": {
        "id": "hL9FFazgrtF9",
        "colab_type": "code",
        "colab": {}
      },
      "source": [
        "data_lm.save('lm_databunch')"
      ],
      "execution_count": 0,
      "outputs": []
    },
    {
      "cell_type": "markdown",
      "metadata": {
        "id": "ozj-F50y4OlD",
        "colab_type": "text"
      },
      "source": [
        "โหลด Language Model DataBunch ที่เซฟไว้ แล้วเช็คข้อมูล"
      ]
    },
    {
      "cell_type": "code",
      "metadata": {
        "id": "EG-GVIm2r0B-",
        "colab_type": "code",
        "colab": {
          "base_uri": "https://localhost:8080/",
          "height": 34
        },
        "outputId": "38283cd7-5628-4124-b65a-c33e06ec61bb"
      },
      "source": [
        "data_lm = load_data(path, 'lm_databunch', bs=bs)\n",
        "len(data_lm.vocab.itos), len(data_lm.train_ds)"
      ],
      "execution_count": 88,
      "outputs": [
        {
          "output_type": "execute_result",
          "data": {
            "text/plain": [
              "(60000, 90000)"
            ]
          },
          "metadata": {
            "tags": []
          },
          "execution_count": 88
        }
      ]
    },
    {
      "cell_type": "markdown",
      "metadata": {
        "id": "JN2y-cmVr7wu",
        "colab_type": "text"
      },
      "source": [
        "# 4. Language Model จาก WikiText-103"
      ]
    },
    {
      "cell_type": "markdown",
      "metadata": {
        "id": "Of2vn9kR-9hX",
        "colab_type": "text"
      },
      "source": [
        "สร้าง Language Model Learner ขึ้นมา โดยใช้ data_lm จาก IMDB ด้านบน และ สถาปัตยกรรม AWD_LSTM [Model Architecture](https://www.bualabs.com/archives/2703/how-to-read-model-convolutional-neural-network-shape-activation-map-model-architecture-convnet-ep-7/) โดยที่ยังไม่ได้เริ่มต้นเทรน\n",
        "\n",
        "AWD_LSTM ได้ถูก Pre-Train กับ WikiText-103 Dataset เรียบร้อยแล้ว"
      ]
    },
    {
      "cell_type": "code",
      "metadata": {
        "id": "EpAA44Yst5sZ",
        "colab_type": "code",
        "colab": {}
      },
      "source": [
        "learn_lm = language_model_learner(data_lm, AWD_LSTM, drop_mult=0.3)\n",
        "# learn_lm"
      ],
      "execution_count": 0,
      "outputs": []
    },
    {
      "cell_type": "code",
      "metadata": {
        "id": "Pmmtq5EJOxod",
        "colab_type": "code",
        "colab": {
          "base_uri": "https://localhost:8080/",
          "height": 408
        },
        "outputId": "2052c39e-6f6b-488e-9032-1912567c765c"
      },
      "source": [
        "learn_lm.model[0]"
      ],
      "execution_count": 91,
      "outputs": [
        {
          "output_type": "execute_result",
          "data": {
            "text/plain": [
              "AWD_LSTM(\n",
              "  (encoder): Embedding(60000, 400, padding_idx=1)\n",
              "  (encoder_dp): EmbeddingDropout(\n",
              "    (emb): Embedding(60000, 400, padding_idx=1)\n",
              "  )\n",
              "  (rnns): ModuleList(\n",
              "    (0): WeightDropout(\n",
              "      (module): LSTM(400, 1152, batch_first=True)\n",
              "    )\n",
              "    (1): WeightDropout(\n",
              "      (module): LSTM(1152, 1152, batch_first=True)\n",
              "    )\n",
              "    (2): WeightDropout(\n",
              "      (module): LSTM(1152, 400, batch_first=True)\n",
              "    )\n",
              "  )\n",
              "  (input_dp): RNNDropout()\n",
              "  (hidden_dps): ModuleList(\n",
              "    (0): RNNDropout()\n",
              "    (1): RNNDropout()\n",
              "    (2): RNNDropout()\n",
              "  )\n",
              ")"
            ]
          },
          "metadata": {
            "tags": []
          },
          "execution_count": 91
        }
      ]
    },
    {
      "cell_type": "code",
      "metadata": {
        "id": "XGDmEC1nO956",
        "colab_type": "code",
        "colab": {
          "base_uri": "https://localhost:8080/",
          "height": 34
        },
        "outputId": "0b5b77d2-5c58-4951-cedf-58a4a9eed976"
      },
      "source": [
        "learn_lm.model[0].encoder"
      ],
      "execution_count": 92,
      "outputs": [
        {
          "output_type": "execute_result",
          "data": {
            "text/plain": [
              "Embedding(60000, 400, padding_idx=1)"
            ]
          },
          "metadata": {
            "tags": []
          },
          "execution_count": 92
        }
      ]
    },
    {
      "cell_type": "code",
      "metadata": {
        "id": "CfE1ch2yvXM_",
        "colab_type": "code",
        "colab": {
          "base_uri": "https://localhost:8080/",
          "height": 51
        },
        "outputId": "f6993f45-f249-4f0e-e477-246787fc02a9"
      },
      "source": [
        "Config().model_path().ls()"
      ],
      "execution_count": 93,
      "outputs": [
        {
          "output_type": "execute_result",
          "data": {
            "text/plain": [
              "[PosixPath('/root/.fastai/models/wt103-fwd.tgz'),\n",
              " PosixPath('/root/.fastai/models/wt103-fwd')]"
            ]
          },
          "metadata": {
            "tags": []
          },
          "execution_count": 93
        }
      ]
    },
    {
      "cell_type": "code",
      "metadata": {
        "id": "60C65ahsvfSl",
        "colab_type": "code",
        "colab": {
          "base_uri": "https://localhost:8080/",
          "height": 51
        },
        "outputId": "bd945338-1d6a-4dc5-8bc3-bebad519d302"
      },
      "source": [
        "(Config().model_path()/'wt103-fwd').ls()"
      ],
      "execution_count": 94,
      "outputs": [
        {
          "output_type": "execute_result",
          "data": {
            "text/plain": [
              "[PosixPath('/root/.fastai/models/wt103-fwd/lstm_fwd.pth'),\n",
              " PosixPath('/root/.fastai/models/wt103-fwd/itos_wt103.pkl')]"
            ]
          },
          "metadata": {
            "tags": []
          },
          "execution_count": 94
        }
      ]
    },
    {
      "cell_type": "markdown",
      "metadata": {
        "id": "uwxtxRAQ_9tG",
        "colab_type": "text"
      },
      "source": [
        "## 4.1 vocab Dictionary ของ WikiText-103 "
      ]
    },
    {
      "cell_type": "markdown",
      "metadata": {
        "id": "EmS9Duij_fBF",
        "colab_type": "text"
      },
      "source": [
        "โหลด Dictionary ของ WikiText-103 ขึ้นมา \n",
        "\n",
        "Language Model ต้องมาพร้อมกับ vocab Dictionary เสมอ ไม่เช่นนั้นเราจะไม่รู้ว่า คำศัพท์ไหนเป็นคำไหน เพราะในโมเดลจะเป็นตัวเลข Index / Embedding"
      ]
    },
    {
      "cell_type": "code",
      "metadata": {
        "id": "4xYT1K5fvCz5",
        "colab_type": "code",
        "colab": {}
      },
      "source": [
        "wiki_itos = pickle.load(open(Config().model_path()/'wt103-fwd/itos_wt103.pkl', 'rb'))"
      ],
      "execution_count": 0,
      "outputs": []
    },
    {
      "cell_type": "markdown",
      "metadata": {
        "id": "kuOfv_By_lJl",
        "colab_type": "text"
      },
      "source": [
        "ดูจำนวนคำศัพท์ ตัวอย่างข้อมูล หัว / ท้าย"
      ]
    },
    {
      "cell_type": "code",
      "metadata": {
        "id": "KXQCRB4VvngR",
        "colab_type": "code",
        "colab": {
          "base_uri": "https://localhost:8080/",
          "height": 714
        },
        "outputId": "a3833981-681e-4766-86bc-1608d07c2a66"
      },
      "source": [
        "len(wiki_itos), wiki_itos[:20], wiki_itos[-20:]"
      ],
      "execution_count": 22,
      "outputs": [
        {
          "output_type": "execute_result",
          "data": {
            "text/plain": [
              "(60000,\n",
              " ['xxunk',\n",
              "  'xxpad',\n",
              "  'xxbos',\n",
              "  'xxeos',\n",
              "  'xxfld',\n",
              "  'xxmaj',\n",
              "  'xxup',\n",
              "  'xxrep',\n",
              "  'xxwrep',\n",
              "  'the',\n",
              "  ',',\n",
              "  '.',\n",
              "  'of',\n",
              "  'and',\n",
              "  'in',\n",
              "  'to',\n",
              "  'a',\n",
              "  '=',\n",
              "  '\"',\n",
              "  'was'],\n",
              " ['repaying',\n",
              "  'ak-47',\n",
              "  'cultic',\n",
              "  'jaume',\n",
              "  'leonis',\n",
              "  'subtracting',\n",
              "  'sexed',\n",
              "  'bursa',\n",
              "  '-style',\n",
              "  'lithographs',\n",
              "  'wgbh',\n",
              "  'subsystem',\n",
              "  '831',\n",
              "  'lifelines',\n",
              "  'bergeron',\n",
              "  'adaptions',\n",
              "  'slurs',\n",
              "  'acasta',\n",
              "  'stuccoed',\n",
              "  'spellbound'])"
            ]
          },
          "metadata": {
            "tags": []
          },
          "execution_count": 22
        }
      ]
    },
    {
      "cell_type": "markdown",
      "metadata": {
        "id": "0ctPsC10_2L7",
        "colab_type": "text"
      },
      "source": [
        "## 4.2 vocab Dictionary ของ IMDB"
      ]
    },
    {
      "cell_type": "markdown",
      "metadata": {
        "id": "8jSVlBNM_wKd",
        "colab_type": "text"
      },
      "source": [
        "ดูตัวอย่างคำศัพท์ใน IMDB"
      ]
    },
    {
      "cell_type": "code",
      "metadata": {
        "id": "bf3msNitBzRt",
        "colab_type": "code",
        "colab": {}
      },
      "source": [
        "vocab = data_lm.vocab"
      ],
      "execution_count": 0,
      "outputs": []
    },
    {
      "cell_type": "code",
      "metadata": {
        "id": "PVsfmHoxvqa5",
        "colab_type": "code",
        "colab": {}
      },
      "source": [
        "imdb_itos = vocab.itos"
      ],
      "execution_count": 0,
      "outputs": []
    },
    {
      "cell_type": "code",
      "metadata": {
        "id": "r6LXmiGiv4TT",
        "colab_type": "code",
        "colab": {
          "base_uri": "https://localhost:8080/",
          "height": 34
        },
        "outputId": "fae5cb36-389e-4ed1-b220-d80840d792da"
      },
      "source": [
        "vocab.stoi['love']"
      ],
      "execution_count": 103,
      "outputs": [
        {
          "output_type": "execute_result",
          "data": {
            "text/plain": [
              "134"
            ]
          },
          "metadata": {
            "tags": []
          },
          "execution_count": 103
        }
      ]
    },
    {
      "cell_type": "code",
      "metadata": {
        "id": "VVGeYvk2v7iV",
        "colab_type": "code",
        "colab": {
          "base_uri": "https://localhost:8080/",
          "height": 34
        },
        "outputId": "e00325ea-b258-473b-8eb3-64e66debb1fe"
      },
      "source": [
        "imdb_itos[vocab.stoi['love']]"
      ],
      "execution_count": 104,
      "outputs": [
        {
          "output_type": "execute_result",
          "data": {
            "text/plain": [
              "'love'"
            ]
          },
          "metadata": {
            "tags": []
          },
          "execution_count": 104
        }
      ]
    },
    {
      "cell_type": "code",
      "metadata": {
        "id": "wsxgcOTPwBqj",
        "colab_type": "code",
        "colab": {
          "base_uri": "https://localhost:8080/",
          "height": 34
        },
        "outputId": "94ad0c80-4ed1-465c-e9c4-52c5dcb4391c"
      },
      "source": [
        "imdb_itos[vocab.stoi['Sukhumvit']]"
      ],
      "execution_count": 105,
      "outputs": [
        {
          "output_type": "execute_result",
          "data": {
            "text/plain": [
              "'xxunk'"
            ]
          },
          "metadata": {
            "tags": []
          },
          "execution_count": 105
        }
      ]
    },
    {
      "cell_type": "code",
      "metadata": {
        "id": "7hV0F7P9wlAV",
        "colab_type": "code",
        "colab": {}
      },
      "source": [
        "awd = learn_lm.model[0]"
      ],
      "execution_count": 0,
      "outputs": []
    },
    {
      "cell_type": "code",
      "metadata": {
        "id": "poBP0V4SwuAb",
        "colab_type": "code",
        "colab": {}
      },
      "source": [
        "# from scipy.spatial.distance import cosine as dist"
      ],
      "execution_count": 0,
      "outputs": []
    },
    {
      "cell_type": "code",
      "metadata": {
        "id": "VgGMPHqkwycw",
        "colab_type": "code",
        "colab": {}
      },
      "source": [
        "enc = learn_lm.model[0].encoder"
      ],
      "execution_count": 0,
      "outputs": []
    },
    {
      "cell_type": "markdown",
      "metadata": {
        "id": "YYDuXodMcDKf",
        "colab_type": "text"
      },
      "source": [
        "Embedding 400 มิติของ คำศัพท์ 60,000 คำ"
      ]
    },
    {
      "cell_type": "code",
      "metadata": {
        "id": "SB4BxS8Ww2pj",
        "colab_type": "code",
        "colab": {
          "base_uri": "https://localhost:8080/",
          "height": 34
        },
        "outputId": "15918246-6bd6-4ae6-e060-59cbf1d1722b"
      },
      "source": [
        "enc.weight.size()"
      ],
      "execution_count": 113,
      "outputs": [
        {
          "output_type": "execute_result",
          "data": {
            "text/plain": [
              "torch.Size([60000, 400])"
            ]
          },
          "metadata": {
            "tags": []
          },
          "execution_count": 113
        }
      ]
    },
    {
      "cell_type": "markdown",
      "metadata": {
        "id": "OxJXyP4bw5CY",
        "colab_type": "text"
      },
      "source": [
        "## 4.3 Difference in vocab between IMDB and Wikipedia"
      ]
    },
    {
      "cell_type": "markdown",
      "metadata": {
        "id": "3oIlgBj44nGZ",
        "colab_type": "text"
      },
      "source": [
        "เปรียบเทียบ 2 vocab Dictionary พบว่า ขนาด vocab เท่ากัน"
      ]
    },
    {
      "cell_type": "code",
      "metadata": {
        "id": "DGvAQvgpz1_n",
        "colab_type": "code",
        "colab": {
          "base_uri": "https://localhost:8080/",
          "height": 34
        },
        "outputId": "1eb43e5a-7263-4d67-dad2-cb6fb0451d2a"
      },
      "source": [
        "len(wiki_itos), len(imdb_itos)"
      ],
      "execution_count": 110,
      "outputs": [
        {
          "output_type": "execute_result",
          "data": {
            "text/plain": [
              "(60000, 60000)"
            ]
          },
          "metadata": {
            "tags": []
          },
          "execution_count": 110
        }
      ]
    },
    {
      "cell_type": "markdown",
      "metadata": {
        "id": "y83ReedN4qIT",
        "colab_type": "text"
      },
      "source": [
        "แต่ข้างใน ไม่เหมือนกัน เปรียบเทียบ 10 คำศัพท์สุดท้าย"
      ]
    },
    {
      "cell_type": "code",
      "metadata": {
        "id": "7CbmV8-Mz8EE",
        "colab_type": "code",
        "colab": {
          "base_uri": "https://localhost:8080/",
          "height": 357
        },
        "outputId": "9b736fb9-437d-4ec1-a3d7-63b5a722c87e"
      },
      "source": [
        "wiki_itos[-10:], imdb_itos[-10:]"
      ],
      "execution_count": 33,
      "outputs": [
        {
          "output_type": "execute_result",
          "data": {
            "text/plain": [
              "(['wgbh',\n",
              "  'subsystem',\n",
              "  '831',\n",
              "  'lifelines',\n",
              "  'bergeron',\n",
              "  'adaptions',\n",
              "  'slurs',\n",
              "  'acasta',\n",
              "  'stuccoed',\n",
              "  'spellbound'],\n",
              " [\"o'daniel\",\n",
              "  'blueish',\n",
              "  'mc5',\n",
              "  'fennie',\n",
              "  'canby',\n",
              "  'coherant',\n",
              "  'lohde',\n",
              "  'backwoodsman',\n",
              "  'maguires',\n",
              "  '24-minute'])"
            ]
          },
          "metadata": {
            "tags": []
          },
          "execution_count": 33
        }
      ]
    },
    {
      "cell_type": "code",
      "metadata": {
        "id": "GEA9kLr5z8H8",
        "colab_type": "code",
        "colab": {}
      },
      "source": [
        "wiki_words = set(wiki_itos)\n",
        "imdb_words = set(imdb_itos)"
      ],
      "execution_count": 0,
      "outputs": []
    },
    {
      "cell_type": "markdown",
      "metadata": {
        "id": "CY436t5NccYD",
        "colab_type": "text"
      },
      "source": [
        "คำศัพท์ที่อยู่ใน vocab ของ Wiki แต่ไม่อยู่ใน vocab ของ IMDB"
      ]
    },
    {
      "cell_type": "code",
      "metadata": {
        "id": "I26g1CDx6V08",
        "colab_type": "code",
        "colab": {
          "base_uri": "https://localhost:8080/",
          "height": 374
        },
        "outputId": "e74f8635-7857-43b3-ee44-f1a5b3d39b60"
      },
      "source": [
        "wiki_not_imdb = wiki_words.difference(imdb_words)\n",
        "len(wiki_not_imdb), [val for i, val in enumerate(itertools.islice(wiki_not_imdb, 20))]"
      ],
      "execution_count": 35,
      "outputs": [
        {
          "output_type": "execute_result",
          "data": {
            "text/plain": [
              "(24225,\n",
              " ['éditions',\n",
              "  'jex',\n",
              "  'sabor',\n",
              "  'ferugliotherium',\n",
              "  'hermansen',\n",
              "  'afa',\n",
              "  'keswick',\n",
              "  'phonemes',\n",
              "  'republike',\n",
              "  '232',\n",
              "  'tapers',\n",
              "  'transjordan',\n",
              "  'coley',\n",
              "  'wetherall',\n",
              "  'kawada',\n",
              "  'culverhouse',\n",
              "  'sorrel',\n",
              "  'conspecific',\n",
              "  'synapomorphies',\n",
              "  'm31'])"
            ]
          },
          "metadata": {
            "tags": []
          },
          "execution_count": 35
        }
      ]
    },
    {
      "cell_type": "markdown",
      "metadata": {
        "id": "6Sgs5yytcmMH",
        "colab_type": "text"
      },
      "source": [
        "คำศัพท์ที่อยู่ใน vocab ของ IMDB แต่ไม่อยู่ใน vocab ของ Wiki"
      ]
    },
    {
      "cell_type": "code",
      "metadata": {
        "id": "srgNlWXU7CSf",
        "colab_type": "code",
        "colab": {
          "base_uri": "https://localhost:8080/",
          "height": 374
        },
        "outputId": "c067e077-7864-4a35-d5bc-12f70a16ec48"
      },
      "source": [
        "imdb_not_wiki = imdb_words.difference(wiki_words)\n",
        "len(imdb_not_wiki), [val for i, val in enumerate(itertools.islice(imdb_not_wiki, 20))]"
      ],
      "execution_count": 36,
      "outputs": [
        {
          "output_type": "execute_result",
          "data": {
            "text/plain": [
              "(24225,\n",
              " ['compensations',\n",
              "  'higurashi',\n",
              "  'premonitions',\n",
              "  'seamed',\n",
              "  'hichcock',\n",
              "  'syrupy',\n",
              "  'tallahatchie',\n",
              "  'intergenerational',\n",
              "  'masina',\n",
              "  'baffles',\n",
              "  'zantara',\n",
              "  'boytown',\n",
              "  'solipsistic',\n",
              "  'spanner',\n",
              "  'misdirects',\n",
              "  'arrondissements',\n",
              "  'crapped',\n",
              "  'akhurst',\n",
              "  'alvaro',\n",
              "  'cathleen'])"
            ]
          },
          "metadata": {
            "tags": []
          },
          "execution_count": 36
        }
      ]
    },
    {
      "cell_type": "markdown",
      "metadata": {
        "id": "6FjdprgSz8Ls",
        "colab_type": "text"
      },
      "source": [
        "## 4.4 Out of vocab Initialization"
      ]
    },
    {
      "cell_type": "markdown",
      "metadata": {
        "id": "HEX-G1NeDvvo",
        "colab_type": "text"
      },
      "source": [
        "คำว่า cpu อยู่ใน vocab ของ WikiText-103 แต่ไม่อยู่ใน IMDB"
      ]
    },
    {
      "cell_type": "code",
      "metadata": {
        "id": "9GnBSMKWBdbf",
        "colab_type": "code",
        "colab": {
          "base_uri": "https://localhost:8080/",
          "height": 34
        },
        "outputId": "8ec3c88a-94c1-4b2e-9afb-834c5bd5445f"
      },
      "source": [
        "w = \"cpu\"\n",
        "vocab.stoi[w], w in wiki_words, w in imdb_words"
      ],
      "execution_count": 114,
      "outputs": [
        {
          "output_type": "execute_result",
          "data": {
            "text/plain": [
              "(0, True, False)"
            ]
          },
          "metadata": {
            "tags": []
          },
          "execution_count": 114
        }
      ]
    },
    {
      "cell_type": "markdown",
      "metadata": {
        "id": "rG340TnuD8lb",
        "colab_type": "text"
      },
      "source": [
        "คำเหล่านี้ อยู่ใน vocab ของ IMDB แต่ไม่อยู่ใน WikiText-103 เราจะ Initialize Embedding ของคำเหล่านี้ แบบ Random"
      ]
    },
    {
      "cell_type": "code",
      "metadata": {
        "id": "bEyYvwpRBdk3",
        "colab_type": "code",
        "colab": {
          "base_uri": "https://localhost:8080/",
          "height": 34
        },
        "outputId": "e8c497ab-2ae0-4034-82ee-e320f7cc276b"
      },
      "source": [
        "w = \"senselessness\"\n",
        "vocab.stoi[w], w in wiki_words, w in imdb_words"
      ],
      "execution_count": 115,
      "outputs": [
        {
          "output_type": "execute_result",
          "data": {
            "text/plain": [
              "(35497, False, True)"
            ]
          },
          "metadata": {
            "tags": []
          },
          "execution_count": 115
        }
      ]
    },
    {
      "cell_type": "code",
      "metadata": {
        "id": "B0O90Wr9BdQt",
        "colab_type": "code",
        "colab": {
          "base_uri": "https://localhost:8080/",
          "height": 34
        },
        "outputId": "c9c97502-59e5-453f-85a5-9d84219a2739"
      },
      "source": [
        "w = \"unthinking\"\n",
        "vocab.stoi[w], w in wiki_words, w in imdb_words"
      ],
      "execution_count": 116,
      "outputs": [
        {
          "output_type": "execute_result",
          "data": {
            "text/plain": [
              "(26274, False, True)"
            ]
          },
          "metadata": {
            "tags": []
          },
          "execution_count": 116
        }
      ]
    },
    {
      "cell_type": "code",
      "metadata": {
        "id": "TSTzwd_VDTcy",
        "colab_type": "code",
        "colab": {
          "base_uri": "https://localhost:8080/",
          "height": 34
        },
        "outputId": "69c3d462-a953-46b3-872d-da3058732d8d"
      },
      "source": [
        "w = \"forklift\"\n",
        "vocab.stoi[w], w in wiki_words, w in imdb_words"
      ],
      "execution_count": 117,
      "outputs": [
        {
          "output_type": "execute_result",
          "data": {
            "text/plain": [
              "(46728, False, True)"
            ]
          },
          "metadata": {
            "tags": []
          },
          "execution_count": 117
        }
      ]
    },
    {
      "cell_type": "markdown",
      "metadata": {
        "id": "HJhTUIXUEPfa",
        "colab_type": "text"
      },
      "source": [
        "Initialize ด้วยค่า Random เล็ก ๆ ใกล้เคียงกัน"
      ]
    },
    {
      "cell_type": "code",
      "metadata": {
        "id": "y84tzwkFDThw",
        "colab_type": "code",
        "colab": {
          "base_uri": "https://localhost:8080/",
          "height": 34
        },
        "outputId": "96024cc4-dc32-494a-837b-ac93f473ce47"
      },
      "source": [
        "np.allclose(enc.weight[vocab.stoi['senselessness'], :], \n",
        "            enc.weight[vocab.stoi['unthinking'], :])"
      ],
      "execution_count": 41,
      "outputs": [
        {
          "output_type": "execute_result",
          "data": {
            "text/plain": [
              "True"
            ]
          },
          "metadata": {
            "tags": []
          },
          "execution_count": 41
        }
      ]
    },
    {
      "cell_type": "markdown",
      "metadata": {
        "id": "SDXN4bAVEzAt",
        "colab_type": "text"
      },
      "source": [
        "แต่ถ้าเทียบกับ Embedding ที่เทรนเรียบร้อยแล้ว ก็จะต่างกันมาก"
      ]
    },
    {
      "cell_type": "code",
      "metadata": {
        "id": "JsG37-4nEolQ",
        "colab_type": "code",
        "colab": {
          "base_uri": "https://localhost:8080/",
          "height": 34
        },
        "outputId": "a9d3fe23-3077-4bf8-d79f-e37b18316925"
      },
      "source": [
        "np.allclose(enc.weight[vocab.stoi['senselessness'], :], \n",
        "            enc.weight[vocab.stoi['capital'], :])"
      ],
      "execution_count": 42,
      "outputs": [
        {
          "output_type": "execute_result",
          "data": {
            "text/plain": [
              "False"
            ]
          },
          "metadata": {
            "tags": []
          },
          "execution_count": 42
        }
      ]
    },
    {
      "cell_type": "markdown",
      "metadata": {
        "id": "GtBBnw2tHJ6E",
        "colab_type": "text"
      },
      "source": [
        "3 คำแรกมีใน IMDB แต่คำสุดท้ายไม่มี"
      ]
    },
    {
      "cell_type": "code",
      "metadata": {
        "id": "yUqteZUSGlig",
        "colab_type": "code",
        "colab": {
          "base_uri": "https://localhost:8080/",
          "height": 34
        },
        "outputId": "317cf1e2-ea23-4a16-84b7-6e1311b6fd53"
      },
      "source": [
        "vocab.stoi['senselessness'], vocab.stoi['unthinking'], vocab.stoi['capital'], vocab.stoi['cpu']"
      ],
      "execution_count": 118,
      "outputs": [
        {
          "output_type": "execute_result",
          "data": {
            "text/plain": [
              "(35497, 26274, 5933, 0)"
            ]
          },
          "metadata": {
            "tags": []
          },
          "execution_count": 118
        }
      ]
    },
    {
      "cell_type": "markdown",
      "metadata": {
        "id": "NtLiaEhrdovW",
        "colab_type": "text"
      },
      "source": [
        "ดู Embedding ของคำที่มีใน IMDB แต่ไม่มีใน Wiki จะเห็นว่าเท่ากันมีค่าเท่ากัน"
      ]
    },
    {
      "cell_type": "code",
      "metadata": {
        "id": "QrQw3b1bFSip",
        "colab_type": "code",
        "colab": {
          "base_uri": "https://localhost:8080/",
          "height": 153
        },
        "outputId": "ae72eeff-c7e1-46f3-b80e-03ce04656997"
      },
      "source": [
        "len(enc.weight[vocab.stoi['senselessness'], :]), enc.weight[vocab.stoi['senselessness'], :][:50]"
      ],
      "execution_count": 44,
      "outputs": [
        {
          "output_type": "execute_result",
          "data": {
            "text/plain": [
              "(400,\n",
              " tensor([ 0.0253,  0.0026,  0.0423, -0.0274, -0.0110, -0.0100, -0.0628,  0.1794,\n",
              "         -0.1275, -0.2096, -0.0124, -0.0056, -0.0505, -0.0501, -0.0428,  0.1726,\n",
              "         -0.0650, -0.0571, -0.1103,  0.0186,  0.0053, -0.0059,  0.0299,  0.0192,\n",
              "         -0.0240,  0.1432, -0.1064, -0.0097,  0.0100, -0.0399,  0.0282,  0.0319,\n",
              "          0.1297,  0.0687, -0.0047,  0.0168,  0.0201,  0.1346, -0.0336, -0.0449,\n",
              "          0.0265, -0.0756, -0.0225,  0.0196,  0.0221,  0.0214,  0.0077, -0.1311,\n",
              "         -0.1357, -0.0128], device='cuda:0', grad_fn=<SliceBackward>))"
            ]
          },
          "metadata": {
            "tags": []
          },
          "execution_count": 44
        }
      ]
    },
    {
      "cell_type": "code",
      "metadata": {
        "id": "FRpJWER7GFSY",
        "colab_type": "code",
        "colab": {
          "base_uri": "https://localhost:8080/",
          "height": 153
        },
        "outputId": "4d122e4a-dc14-460f-cc05-b7043dc1665a"
      },
      "source": [
        "len(enc.weight[vocab.stoi['unthinking'], :]), enc.weight[vocab.stoi['unthinking'], :][:50]"
      ],
      "execution_count": 45,
      "outputs": [
        {
          "output_type": "execute_result",
          "data": {
            "text/plain": [
              "(400,\n",
              " tensor([ 0.0253,  0.0026,  0.0423, -0.0274, -0.0110, -0.0100, -0.0628,  0.1794,\n",
              "         -0.1275, -0.2096, -0.0124, -0.0056, -0.0505, -0.0501, -0.0428,  0.1726,\n",
              "         -0.0650, -0.0571, -0.1103,  0.0186,  0.0053, -0.0059,  0.0299,  0.0192,\n",
              "         -0.0240,  0.1432, -0.1064, -0.0097,  0.0100, -0.0399,  0.0282,  0.0319,\n",
              "          0.1297,  0.0687, -0.0047,  0.0168,  0.0201,  0.1346, -0.0336, -0.0449,\n",
              "          0.0265, -0.0756, -0.0225,  0.0196,  0.0221,  0.0214,  0.0077, -0.1311,\n",
              "         -0.1357, -0.0128], device='cuda:0', grad_fn=<SliceBackward>))"
            ]
          },
          "metadata": {
            "tags": []
          },
          "execution_count": 45
        }
      ]
    },
    {
      "cell_type": "markdown",
      "metadata": {
        "id": "wlDb_b1IewHL",
        "colab_type": "text"
      },
      "source": [
        "ต่างกับค่าที่มีใน Wiki"
      ]
    },
    {
      "cell_type": "code",
      "metadata": {
        "id": "YGPMubi2GBjy",
        "colab_type": "code",
        "colab": {
          "base_uri": "https://localhost:8080/",
          "height": 153
        },
        "outputId": "352625e0-0d2c-4246-ad8f-46cfa70cd1d6"
      },
      "source": [
        "len(enc.weight[vocab.stoi['capital'], :]), enc.weight[vocab.stoi['capital'], :][:50]"
      ],
      "execution_count": 46,
      "outputs": [
        {
          "output_type": "execute_result",
          "data": {
            "text/plain": [
              "(400,\n",
              " tensor([-0.2566,  0.1062,  0.3081,  0.2742,  0.1667, -0.1626, -0.5122, -0.1261,\n",
              "          0.4548, -0.4177, -0.1565,  0.0752,  0.2253,  0.2031, -0.3125,  0.0310,\n",
              "          0.5112, -0.3691, -0.2947, -0.0168, -0.1147,  0.3074, -0.1654, -0.2202,\n",
              "          0.0538, -0.4041,  0.1666, -0.0109, -0.2803,  0.3044, -0.2279,  0.1786,\n",
              "         -0.2502, -0.2334,  0.4438,  0.2404,  0.1746,  0.1509,  0.0351,  0.2844,\n",
              "         -0.0244, -0.2031,  0.1228, -0.2357, -0.2065,  0.5811,  0.1338,  0.4087,\n",
              "         -0.5034, -0.0150], device='cuda:0', grad_fn=<SliceBackward>))"
            ]
          },
          "metadata": {
            "tags": []
          },
          "execution_count": 46
        }
      ]
    },
    {
      "cell_type": "markdown",
      "metadata": {
        "id": "Yk6CdXube1oa",
        "colab_type": "text"
      },
      "source": [
        "## 4.5 Fake Movie Reviews from WikiText Language Model"
      ]
    },
    {
      "cell_type": "code",
      "metadata": {
        "id": "nFwfZm09e1dw",
        "colab_type": "code",
        "colab": {}
      },
      "source": [
        "TEXT = \"I loved this movie because\"\n",
        "N_WORDS = 40\n",
        "N_SENTENCES = 2"
      ],
      "execution_count": 0,
      "outputs": []
    },
    {
      "cell_type": "code",
      "metadata": {
        "id": "d6AUXgrde1Sc",
        "colab_type": "code",
        "colab": {
          "base_uri": "https://localhost:8080/",
          "height": 71
        },
        "outputId": "8a405b59-3eeb-486f-c6c1-0657c027e496"
      },
      "source": [
        "print(\"\\n\".join(learn_lm.predict(TEXT, N_WORDS, temperature=0.75) for _ in range(N_SENTENCES)))"
      ],
      "execution_count": 122,
      "outputs": [
        {
          "output_type": "stream",
          "text": [
            "I loved this movie because it was a Classic Empire film , and i mean it was a good movie , but i thought it was a strong one . It was a fun reel . It was very happy at\n",
            "I loved this movie because it was an hour - long movie . The film had a cult following as it featured American actress Susan Mayer featuring German actress Bai Na ; she played Eve in\n"
          ],
          "name": "stdout"
        }
      ]
    },
    {
      "cell_type": "code",
      "metadata": {
        "id": "Dh1Lx42-e1Hn",
        "colab_type": "code",
        "colab": {}
      },
      "source": [
        ""
      ],
      "execution_count": 0,
      "outputs": []
    },
    {
      "cell_type": "code",
      "metadata": {
        "id": "qobUE-6be08L",
        "colab_type": "code",
        "colab": {}
      },
      "source": [
        ""
      ],
      "execution_count": 0,
      "outputs": []
    },
    {
      "cell_type": "code",
      "metadata": {
        "id": "ChqrRbWje0w_",
        "colab_type": "code",
        "colab": {}
      },
      "source": [
        ""
      ],
      "execution_count": 0,
      "outputs": []
    },
    {
      "cell_type": "code",
      "metadata": {
        "id": "dsSkK53Ve0lk",
        "colab_type": "code",
        "colab": {}
      },
      "source": [
        ""
      ],
      "execution_count": 0,
      "outputs": []
    },
    {
      "cell_type": "markdown",
      "metadata": {
        "id": "NDi6KKnULray",
        "colab_type": "text"
      },
      "source": [
        "# สรุป"
      ]
    },
    {
      "cell_type": "markdown",
      "metadata": {
        "id": "BpoHE89ONKc_",
        "colab_type": "text"
      },
      "source": [
        "* เราได้เรียนรู้ว่า "
      ]
    },
    {
      "cell_type": "markdown",
      "metadata": {
        "id": "4gvQU6jgNLKZ",
        "colab_type": "text"
      },
      "source": [
        "# Credit"
      ]
    },
    {
      "cell_type": "markdown",
      "metadata": {
        "id": "nt2N3YR6OsLp",
        "colab_type": "text"
      },
      "source": [
        "* https://www.youtube.com/watch?v=dt7sArnLo1g&list=PLtmWHNX-gukKocXQOkQjuVxglSDYWsSh9&index=6&t=0s\n",
        "* https://www.bualabs.com/archives/2693/data-block-api-data-pipeline-machine-learning-supervised-learning-preprocessing-ep-5/\n",
        "* https://www.bualabs.com/archives/926/sentiment-analysis-imdb-movie-review-ulmfit-sentiment-analysis-ep-1/\n",
        "* https://www.bualabs.com/archives/3000/sentiment-classification-imdb-movie-reviews-with-naive-bayes-logistic-regression-nlp-ep-5/\n",
        "* https://docs.fast.ai/data_block.html\n",
        "* https://docs.fast.ai/text.data.html\n",
        "* https://forums.fast.ai/t/language-model-zoo-gorilla/14623\n",
        "* https://www.imdb.com/interfaces/\n",
        "* https://blog.einstein.ai/the-wikitext-long-term-dependency-language-modeling-dataset/\n",
        "* https://arxiv.org/abs/1801.06146\n",
        "* "
      ]
    },
    {
      "cell_type": "code",
      "metadata": {
        "id": "45T4wMZg06J5",
        "colab_type": "code",
        "colab": {}
      },
      "source": [
        ""
      ],
      "execution_count": 0,
      "outputs": []
    }
  ]
}