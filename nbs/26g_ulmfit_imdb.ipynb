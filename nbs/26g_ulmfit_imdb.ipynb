{
  "nbformat": 4,
  "nbformat_minor": 0,
  "metadata": {
    "colab": {
      "name": "26g-ulmfit-imdb.ipynb",
      "provenance": []
    },
    "kernelspec": {
      "name": "python3",
      "display_name": "Python 3"
    },
    "accelerator": "GPU"
  },
  "cells": [
    {
      "cell_type": "markdown",
      "metadata": {
        "id": "XlQtoavmlNzL",
        "colab_type": "text"
      },
      "source": [
        "ใน ep ที่แล้ว "
      ]
    },
    {
      "cell_type": "markdown",
      "metadata": {
        "id": "CzApwnjVlKxC",
        "colab_type": "text"
      },
      "source": [
        "# 0. Install"
      ]
    },
    {
      "cell_type": "markdown",
      "metadata": {
        "id": "MGOPzh9vCLJh",
        "colab_type": "text"
      },
      "source": [
        "Install Library ที่จำเป็น"
      ]
    },
    {
      "cell_type": "code",
      "metadata": {
        "id": "o0UgDCGLhby7",
        "colab_type": "code",
        "outputId": "a4685e73-7c25-4a4e-ffec-6b9bd96ee84f",
        "colab": {
          "base_uri": "https://localhost:8080/",
          "height": 51
        }
      },
      "source": [
        "## Colab\n",
        "! curl -s https://course.fast.ai/setup/colab | bash"
      ],
      "execution_count": 83,
      "outputs": [
        {
          "output_type": "stream",
          "text": [
            "Updating fastai...\n",
            "Done.\n"
          ],
          "name": "stdout"
        }
      ]
    },
    {
      "cell_type": "code",
      "metadata": {
        "id": "0WcUkQRak7e6",
        "colab_type": "code",
        "colab": {}
      },
      "source": [
        "%reload_ext autoreload\n",
        "%autoreload 2\n",
        "%matplotlib inline"
      ],
      "execution_count": 0,
      "outputs": []
    },
    {
      "cell_type": "markdown",
      "metadata": {
        "id": "3VxLNfAElR29",
        "colab_type": "text"
      },
      "source": [
        "# 1. Import"
      ]
    },
    {
      "cell_type": "markdown",
      "metadata": {
        "id": "nGm02SG0CQrq",
        "colab_type": "text"
      },
      "source": [
        "Import Library ที่จะใช้ ในที่นี้คือ fastai และ fastai.text "
      ]
    },
    {
      "cell_type": "code",
      "metadata": {
        "id": "OORH3obdk-wS",
        "colab_type": "code",
        "colab": {}
      },
      "source": [
        "from fastai import *\n",
        "from fastai.text import *"
      ],
      "execution_count": 0,
      "outputs": []
    },
    {
      "cell_type": "code",
      "metadata": {
        "id": "nmZehcHclZyM",
        "colab_type": "code",
        "colab": {}
      },
      "source": [
        "# import fastai.utils.collect_env\n",
        "# fastai.utils.collect_env.show_install()"
      ],
      "execution_count": 0,
      "outputs": []
    },
    {
      "cell_type": "markdown",
      "metadata": {
        "id": "pv3eV6oElZD2",
        "colab_type": "text"
      },
      "source": [
        "# 2. Dataset"
      ]
    },
    {
      "cell_type": "markdown",
      "metadata": {
        "id": "_9kLpiZj_Rd6",
        "colab_type": "text"
      },
      "source": [
        "ในเคสนี้เราจะใช้ IMDB Movie Review เป็นรีวิวหนังจากเว็บ IMDB ที่มีข้อความ และ คะแนนว่าเป็นแง่บวก หรือแง่ลบ เหมือนใน ep ก่อน ๆ \n",
        "\n",
        "ในการพัฒนา เราจะใช้ Dataset ชุดเล็กก่อน จะได้เร็ว เมื่อเทสทุกอย่างเรียบร้อย แล้วจึงขยับไปใช้ Dataset ชุดเต็ม "
      ]
    },
    {
      "cell_type": "code",
      "metadata": {
        "id": "dx8aArt3l1ca",
        "colab_type": "code",
        "colab": {
          "base_uri": "https://localhost:8080/",
          "height": 34
        },
        "outputId": "9dfe97e0-748f-4157-baec-f21c6c9c1821"
      },
      "source": [
        "path = untar_data(URLs.IMDB_SAMPLE)\n",
        "path.ls()"
      ],
      "execution_count": 87,
      "outputs": [
        {
          "output_type": "execute_result",
          "data": {
            "text/plain": [
              "[PosixPath('/content/data/imdb_sample/texts.csv')]"
            ]
          },
          "metadata": {
            "tags": []
          },
          "execution_count": 87
        }
      ]
    },
    {
      "cell_type": "markdown",
      "metadata": {
        "id": "5SWut3oxmai6",
        "colab_type": "text"
      },
      "source": [
        "# 3. Preprocessing"
      ]
    },
    {
      "cell_type": "markdown",
      "metadata": {
        "id": "nGz9PRlBmUxZ",
        "colab_type": "text"
      },
      "source": [
        "## 3.1 Data Block API"
      ]
    },
    {
      "cell_type": "markdown",
      "metadata": {
        "id": "Qfq-mMdBm7vy",
        "colab_type": "text"
      },
      "source": [
        "เราจะใช้ [Data Block API](https://www.bualabs.com/archives/2693/data-block-api-data-pipeline-machine-learning-supervised-learning-preprocessing-ep-5/) กำหนด Data Pipeline ทีละขั้น Tokenization, Numericalization, Split, Labeling ก็จะทำให้ยืดหยุ่นมากขึ้น"
      ]
    },
    {
      "cell_type": "code",
      "metadata": {
        "id": "VycXdm7Lmweq",
        "colab_type": "code",
        "colab": {}
      },
      "source": [
        "data = (TextList.from_csv(path, 'texts.csv', cols='text')\n",
        "                .split_from_df(col=2)\n",
        "                .label_from_df(cols=0)\n",
        "                .databunch())"
      ],
      "execution_count": 0,
      "outputs": []
    },
    {
      "cell_type": "code",
      "metadata": {
        "colab_type": "code",
        "outputId": "1420ab51-8639-4029-a5b4-b0b455e3f98b",
        "id": "jx2E3YGkngw0",
        "colab": {
          "base_uri": "https://localhost:8080/",
          "height": 357
        }
      },
      "source": [
        "data.vocab.itos[:20]"
      ],
      "execution_count": 93,
      "outputs": [
        {
          "output_type": "execute_result",
          "data": {
            "text/plain": [
              "['xxunk',\n",
              " 'xxpad',\n",
              " 'xxbos',\n",
              " 'xxeos',\n",
              " 'xxfld',\n",
              " 'xxmaj',\n",
              " 'xxup',\n",
              " 'xxrep',\n",
              " 'xxwrep',\n",
              " 'the',\n",
              " '.',\n",
              " ',',\n",
              " 'and',\n",
              " 'a',\n",
              " 'of',\n",
              " 'to',\n",
              " 'is',\n",
              " 'it',\n",
              " 'in',\n",
              " 'i']"
            ]
          },
          "metadata": {
            "tags": []
          },
          "execution_count": 93
        }
      ]
    },
    {
      "cell_type": "code",
      "metadata": {
        "colab_type": "code",
        "outputId": "a49cdd70-33c3-440b-f003-fdbe2b47387a",
        "id": "egTdfsibngw-",
        "colab": {
          "base_uri": "https://localhost:8080/",
          "height": 54
        }
      },
      "source": [
        "data.train_ds[0][0]"
      ],
      "execution_count": 94,
      "outputs": [
        {
          "output_type": "execute_result",
          "data": {
            "text/plain": [
              "Text xxbos xxmaj un - xxunk - believable ! xxmaj meg xxmaj ryan does n't even look her usual xxunk lovable self in this , which normally makes me forgive her shallow xxunk acting xxunk . xxmaj hard to believe she was the producer on this dog . xxmaj plus xxmaj kevin xxmaj kline : what kind of suicide trip has his career been on ? xxmaj xxunk ... xxmaj xxunk ! ! ! xxmaj finally this was directed by the guy who did xxmaj big xxmaj xxunk ? xxmaj must be a replay of xxmaj jonestown - hollywood style . xxmaj xxunk !"
            ]
          },
          "metadata": {
            "tags": []
          },
          "execution_count": 94
        }
      ]
    },
    {
      "cell_type": "code",
      "metadata": {
        "colab_type": "code",
        "outputId": "47828d30-be83-490d-8679-43cf13a34d1b",
        "id": "U9t0qpcVngxB",
        "colab": {
          "base_uri": "https://localhost:8080/",
          "height": 34
        }
      },
      "source": [
        "data.train_ds[0][0].data[:10]"
      ],
      "execution_count": 95,
      "outputs": [
        {
          "output_type": "execute_result",
          "data": {
            "text/plain": [
              "array([   2,    5, 4619,   25,    0,   25,  867,   52,    5, 3776])"
            ]
          },
          "metadata": {
            "tags": []
          },
          "execution_count": 95
        }
      ]
    },
    {
      "cell_type": "markdown",
      "metadata": {
        "id": "sgoaG7LXniVb",
        "colab_type": "text"
      },
      "source": [
        "# 2/2. Full Dataset"
      ]
    },
    {
      "cell_type": "code",
      "metadata": {
        "id": "lNV4cKwgpJB-",
        "colab_type": "code",
        "colab": {
          "base_uri": "https://localhost:8080/",
          "height": 187
        },
        "outputId": "4782b7d8-0707-443a-edea-890b37ce2b22"
      },
      "source": [
        "path = untar_data(URLs.IMDB)\n",
        "path.ls()"
      ],
      "execution_count": 96,
      "outputs": [
        {
          "output_type": "execute_result",
          "data": {
            "text/plain": [
              "[PosixPath('/content/data/imdb/lm_databunch'),\n",
              " PosixPath('/content/data/imdb/data_save.pkl'),\n",
              " PosixPath('/content/data/imdb/train'),\n",
              " PosixPath('/content/data/imdb/test'),\n",
              " PosixPath('/content/data/imdb/unsup'),\n",
              " PosixPath('/content/data/imdb/README'),\n",
              " PosixPath('/content/data/imdb/tmp_clas'),\n",
              " PosixPath('/content/data/imdb/lm_databunch.pkl'),\n",
              " PosixPath('/content/data/imdb/tmp_lm'),\n",
              " PosixPath('/content/data/imdb/imdb.vocab')]"
            ]
          },
          "metadata": {
            "tags": []
          },
          "execution_count": 96
        }
      ]
    },
    {
      "cell_type": "code",
      "metadata": {
        "id": "mR9dSvaGpQAQ",
        "colab_type": "code",
        "colab": {
          "base_uri": "https://localhost:8080/",
          "height": 85
        },
        "outputId": "158224e3-9d45-4218-cbf4-476fd66ec2d8"
      },
      "source": [
        "(path/'train').ls()"
      ],
      "execution_count": 97,
      "outputs": [
        {
          "output_type": "execute_result",
          "data": {
            "text/plain": [
              "[PosixPath('/content/data/imdb/train/pos'),\n",
              " PosixPath('/content/data/imdb/train/labeledBow.feat'),\n",
              " PosixPath('/content/data/imdb/train/neg'),\n",
              " PosixPath('/content/data/imdb/train/unsupBow.feat')]"
            ]
          },
          "metadata": {
            "tags": []
          },
          "execution_count": 97
        }
      ]
    },
    {
      "cell_type": "markdown",
      "metadata": {
        "id": "1bakq2CmzoeO",
        "colab_type": "text"
      },
      "source": [
        "# 3/2. Preprocessing"
      ]
    },
    {
      "cell_type": "markdown",
      "metadata": {
        "id": "gd1I1qeM86EX",
        "colab_type": "text"
      },
      "source": [
        "Data Pipeline ด้วย Data Block API"
      ]
    },
    {
      "cell_type": "code",
      "metadata": {
        "id": "L1sctU1WqNeV",
        "colab_type": "code",
        "colab": {}
      },
      "source": [
        "# bs=48\n",
        "# bs=24\n",
        "bs=192"
      ],
      "execution_count": 0,
      "outputs": []
    },
    {
      "cell_type": "code",
      "metadata": {
        "id": "MPRaVM3_ppwf",
        "colab_type": "code",
        "colab": {}
      },
      "source": [
        "data_lm = (TextList.from_folder(path)\n",
        "                    .filter_by_folder(include=['train', 'test', 'unsup'])\n",
        "                    .split_by_rand_pct(0.1)\n",
        "                    .label_for_lm()\n",
        "                    .databunch(bs=bs, num_workers=1))"
      ],
      "execution_count": 0,
      "outputs": []
    },
    {
      "cell_type": "markdown",
      "metadata": {
        "id": "B8EzQpO232t3",
        "colab_type": "text"
      },
      "source": [
        "มีคำศัพท์ 60,000 คำ ข้อมูล 90,000 Record"
      ]
    },
    {
      "cell_type": "code",
      "metadata": {
        "id": "jIYe62ynqRqP",
        "colab_type": "code",
        "colab": {
          "base_uri": "https://localhost:8080/",
          "height": 34
        },
        "outputId": "3b8c90c0-d9b0-464a-b21b-eb174b9550dc"
      },
      "source": [
        "len(data_lm.vocab.itos), len(data_lm.train_ds)"
      ],
      "execution_count": 100,
      "outputs": [
        {
          "output_type": "execute_result",
          "data": {
            "text/plain": [
              "(60000, 90000)"
            ]
          },
          "metadata": {
            "tags": []
          },
          "execution_count": 100
        }
      ]
    },
    {
      "cell_type": "code",
      "metadata": {
        "id": "OCXun8tSqjQA",
        "colab_type": "code",
        "colab": {
          "base_uri": "https://localhost:8080/",
          "height": 289
        },
        "outputId": "fbd4d462-87e0-4e64-e1ce-a6fcf4600167"
      },
      "source": [
        "data_lm.show_batch()"
      ],
      "execution_count": 101,
      "outputs": [
        {
          "output_type": "display_data",
          "data": {
            "text/html": [
              "<table border=\"1\" class=\"dataframe\">\n",
              "  <thead>\n",
              "    <tr style=\"text-align: right;\">\n",
              "      <th>idx</th>\n",
              "      <th>text</th>\n",
              "    </tr>\n",
              "  </thead>\n",
              "  <tbody>\n",
              "    <tr>\n",
              "      <td>0</td>\n",
              "      <td>a dream job at a new employment agency in xxmaj london , whose sinister representative seems very anxious to ascertain if she has living relatives or a boyfriend . xxmaj after reporting to duty , she wakes up ( xxmaj having xxmaj been xxmaj drugged ) in a vast xxmaj manderley - like pile on the xxmaj cornish coast , supposedly as the barmy - in - the - crumpet</td>\n",
              "    </tr>\n",
              "    <tr>\n",
              "      <td>1</td>\n",
              "      <td>marshmorton ( xxmaj fontaine ) . xxmaj the tale is complicated by a betting pool among the xxmaj marshmorton servants that is run by ( and rigged for ) head butler xxmaj keggs ( xxmaj gardiner ) , who 's betting on xxmaj lady xxmaj alice 's cousin xxmaj reggie ( xxmaj noble ) , the favorite of xxmaj alice 's stuffy , domineering aunt ( xxmaj collier ) .</td>\n",
              "    </tr>\n",
              "    <tr>\n",
              "      <td>2</td>\n",
              "      <td>close . \\n \\n  i think western audiences will be very confused with 2 scenes one of which involves a monk trying to burn himself alive and the other concerning the villagers chanting that it is the end of the world . xxmaj the mentioned scenes are derived from certain interpretations of xxmaj xxunk xxmaj buddhist text ( xxmaj xxunk xxmaj buddhism can be found in xxmaj china ,</td>\n",
              "    </tr>\n",
              "    <tr>\n",
              "      <td>3</td>\n",
              "      <td>on all the vile scumbags who make poor xxmaj eddie 's life the proverbial living hell , only to have meek xxmaj eddie prove to be a most reluctant would - be accomplice . xxmaj it 's up to xxmaj eddie , assisted by token nice girl xxmaj leslie xxmaj graham ( likeably essayed by the lovely xxmaj lisa xxmaj xxunk ) , to stop xxmaj sammi before things get</td>\n",
              "    </tr>\n",
              "    <tr>\n",
              "      <td>4</td>\n",
              "      <td>. xxmaj overall , i recommend this movie and if you enjoy the topic of school aggression and violence and learning more about it , i also suggest the documentary \" xxmaj it 's a xxmaj girls xxmaj world \" put out by xxup cbc in 2004 , which deals with the topic of social bullying , comparing and contrasting two groups of girls one in xxmaj montreal , xxmaj</td>\n",
              "    </tr>\n",
              "  </tbody>\n",
              "</table>"
            ],
            "text/plain": [
              "<IPython.core.display.HTML object>"
            ]
          },
          "metadata": {
            "tags": []
          }
        }
      ]
    },
    {
      "cell_type": "markdown",
      "metadata": {
        "id": "HuycJ7544KMN",
        "colab_type": "text"
      },
      "source": [
        "เซฟไว้ก่อน "
      ]
    },
    {
      "cell_type": "code",
      "metadata": {
        "id": "hL9FFazgrtF9",
        "colab_type": "code",
        "colab": {}
      },
      "source": [
        "data_lm.save('lm_databunch')"
      ],
      "execution_count": 0,
      "outputs": []
    },
    {
      "cell_type": "markdown",
      "metadata": {
        "id": "ozj-F50y4OlD",
        "colab_type": "text"
      },
      "source": [
        "โหลด Language Model DataBunch ที่เซฟไว้ แล้วเช็คข้อมูล"
      ]
    },
    {
      "cell_type": "code",
      "metadata": {
        "id": "EG-GVIm2r0B-",
        "colab_type": "code",
        "colab": {
          "base_uri": "https://localhost:8080/",
          "height": 34
        },
        "outputId": "aec19619-a85e-45b8-fd5a-50a44be55004"
      },
      "source": [
        "data_lm = load_data(path, 'lm_databunch', bs=bs)\n",
        "len(data_lm.vocab.itos), len(data_lm.train_ds)"
      ],
      "execution_count": 119,
      "outputs": [
        {
          "output_type": "execute_result",
          "data": {
            "text/plain": [
              "(60000, 90000)"
            ]
          },
          "metadata": {
            "tags": []
          },
          "execution_count": 119
        }
      ]
    },
    {
      "cell_type": "markdown",
      "metadata": {
        "id": "JN2y-cmVr7wu",
        "colab_type": "text"
      },
      "source": [
        "# 4. Language Model จาก WikiText-103"
      ]
    },
    {
      "cell_type": "markdown",
      "metadata": {
        "id": "Of2vn9kR-9hX",
        "colab_type": "text"
      },
      "source": [
        "สร้าง Language Model Learner ขึ้นมา โดยใช้ data_lm จาก IMDB ด้านบน และ สถาปัตยกรรม AWD_LSTM Architecture\n",
        "\n",
        "AWD_LSTM ได้ถูก Pre-Train กับ WikiText-103 Dataset เรียบร้อยแล้ว"
      ]
    },
    {
      "cell_type": "code",
      "metadata": {
        "id": "EpAA44Yst5sZ",
        "colab_type": "code",
        "colab": {}
      },
      "source": [
        "learn_lm = language_model_learner(data_lm, AWD_LSTM, drop_mult=0.3)"
      ],
      "execution_count": 0,
      "outputs": []
    },
    {
      "cell_type": "code",
      "metadata": {
        "id": "CfE1ch2yvXM_",
        "colab_type": "code",
        "colab": {
          "base_uri": "https://localhost:8080/",
          "height": 51
        },
        "outputId": "2db78780-ff04-4022-e032-39ab8aa0996b"
      },
      "source": [
        "Config().model_path().ls()"
      ],
      "execution_count": 106,
      "outputs": [
        {
          "output_type": "execute_result",
          "data": {
            "text/plain": [
              "[PosixPath('/root/.fastai/models/wt103-fwd.tgz'),\n",
              " PosixPath('/root/.fastai/models/wt103-fwd')]"
            ]
          },
          "metadata": {
            "tags": []
          },
          "execution_count": 106
        }
      ]
    },
    {
      "cell_type": "code",
      "metadata": {
        "id": "60C65ahsvfSl",
        "colab_type": "code",
        "colab": {
          "base_uri": "https://localhost:8080/",
          "height": 51
        },
        "outputId": "71164dd1-91c9-49c0-9ffa-bd2263975664"
      },
      "source": [
        "(Config().model_path()/'wt103-fwd').ls()"
      ],
      "execution_count": 107,
      "outputs": [
        {
          "output_type": "execute_result",
          "data": {
            "text/plain": [
              "[PosixPath('/root/.fastai/models/wt103-fwd/lstm_fwd.pth'),\n",
              " PosixPath('/root/.fastai/models/wt103-fwd/itos_wt103.pkl')]"
            ]
          },
          "metadata": {
            "tags": []
          },
          "execution_count": 107
        }
      ]
    },
    {
      "cell_type": "markdown",
      "metadata": {
        "id": "uwxtxRAQ_9tG",
        "colab_type": "text"
      },
      "source": [
        "## 4.1 vocab Dictionary ของ WikiText-103 "
      ]
    },
    {
      "cell_type": "markdown",
      "metadata": {
        "id": "EmS9Duij_fBF",
        "colab_type": "text"
      },
      "source": [
        "โหลด Dictionary ของ WikiText-103 ขึ้นมา"
      ]
    },
    {
      "cell_type": "code",
      "metadata": {
        "id": "4xYT1K5fvCz5",
        "colab_type": "code",
        "colab": {}
      },
      "source": [
        "wiki_itos = pickle.load(open(Config().model_path()/'wt103-fwd/itos_wt103.pkl', 'rb'))"
      ],
      "execution_count": 0,
      "outputs": []
    },
    {
      "cell_type": "markdown",
      "metadata": {
        "id": "kuOfv_By_lJl",
        "colab_type": "text"
      },
      "source": [
        "ดูจำนวนคำศัพท์ ตัวอย่างข้อมูล หัว / ท้าย"
      ]
    },
    {
      "cell_type": "code",
      "metadata": {
        "id": "KXQCRB4VvngR",
        "colab_type": "code",
        "colab": {
          "base_uri": "https://localhost:8080/",
          "height": 714
        },
        "outputId": "d0bfd13d-8cde-4bf3-be0a-6e4e65213a4d"
      },
      "source": [
        "len(wiki_itos), wiki_itos[:20], wiki_itos[-20:]"
      ],
      "execution_count": 109,
      "outputs": [
        {
          "output_type": "execute_result",
          "data": {
            "text/plain": [
              "(60000,\n",
              " ['xxunk',\n",
              "  'xxpad',\n",
              "  'xxbos',\n",
              "  'xxeos',\n",
              "  'xxfld',\n",
              "  'xxmaj',\n",
              "  'xxup',\n",
              "  'xxrep',\n",
              "  'xxwrep',\n",
              "  'the',\n",
              "  ',',\n",
              "  '.',\n",
              "  'of',\n",
              "  'and',\n",
              "  'in',\n",
              "  'to',\n",
              "  'a',\n",
              "  '=',\n",
              "  '\"',\n",
              "  'was'],\n",
              " ['repaying',\n",
              "  'ak-47',\n",
              "  'cultic',\n",
              "  'jaume',\n",
              "  'leonis',\n",
              "  'subtracting',\n",
              "  'sexed',\n",
              "  'bursa',\n",
              "  '-style',\n",
              "  'lithographs',\n",
              "  'wgbh',\n",
              "  'subsystem',\n",
              "  '831',\n",
              "  'lifelines',\n",
              "  'bergeron',\n",
              "  'adaptions',\n",
              "  'slurs',\n",
              "  'acasta',\n",
              "  'stuccoed',\n",
              "  'spellbound'])"
            ]
          },
          "metadata": {
            "tags": []
          },
          "execution_count": 109
        }
      ]
    },
    {
      "cell_type": "markdown",
      "metadata": {
        "id": "0ctPsC10_2L7",
        "colab_type": "text"
      },
      "source": [
        "## 4.2 vocab Dictionary ของ IMDB"
      ]
    },
    {
      "cell_type": "markdown",
      "metadata": {
        "id": "8jSVlBNM_wKd",
        "colab_type": "text"
      },
      "source": [
        "เปรียบเทียบ 2 vocab Dictionary"
      ]
    },
    {
      "cell_type": "code",
      "metadata": {
        "id": "bf3msNitBzRt",
        "colab_type": "code",
        "colab": {}
      },
      "source": [
        "vocab = data_lm.vocab"
      ],
      "execution_count": 0,
      "outputs": []
    },
    {
      "cell_type": "code",
      "metadata": {
        "id": "PVsfmHoxvqa5",
        "colab_type": "code",
        "colab": {}
      },
      "source": [
        "imdb_itos = data_lm.vocab.itos"
      ],
      "execution_count": 0,
      "outputs": []
    },
    {
      "cell_type": "code",
      "metadata": {
        "id": "r6LXmiGiv4TT",
        "colab_type": "code",
        "colab": {
          "base_uri": "https://localhost:8080/",
          "height": 34
        },
        "outputId": "3c097adb-aaed-4800-ae33-02fa6af4b0cf"
      },
      "source": [
        "vocab.stoi['love']"
      ],
      "execution_count": 132,
      "outputs": [
        {
          "output_type": "execute_result",
          "data": {
            "text/plain": [
              "134"
            ]
          },
          "metadata": {
            "tags": []
          },
          "execution_count": 132
        }
      ]
    },
    {
      "cell_type": "code",
      "metadata": {
        "id": "VVGeYvk2v7iV",
        "colab_type": "code",
        "colab": {
          "base_uri": "https://localhost:8080/",
          "height": 34
        },
        "outputId": "ca0ecb03-b12a-40c7-de11-6c32d4f6f9cd"
      },
      "source": [
        "imdb_itos[vocab.stoi['love']]"
      ],
      "execution_count": 133,
      "outputs": [
        {
          "output_type": "execute_result",
          "data": {
            "text/plain": [
              "'love'"
            ]
          },
          "metadata": {
            "tags": []
          },
          "execution_count": 133
        }
      ]
    },
    {
      "cell_type": "code",
      "metadata": {
        "id": "wsxgcOTPwBqj",
        "colab_type": "code",
        "colab": {
          "base_uri": "https://localhost:8080/",
          "height": 34
        },
        "outputId": "322ab124-1540-4eb3-bf4e-f989d74a99dc"
      },
      "source": [
        "imdb_itos[vocab.stoi['Sukhumvit']]"
      ],
      "execution_count": 134,
      "outputs": [
        {
          "output_type": "execute_result",
          "data": {
            "text/plain": [
              "'xxunk'"
            ]
          },
          "metadata": {
            "tags": []
          },
          "execution_count": 134
        }
      ]
    },
    {
      "cell_type": "code",
      "metadata": {
        "id": "7hV0F7P9wlAV",
        "colab_type": "code",
        "colab": {}
      },
      "source": [
        "awd = learn_lm.model[0]"
      ],
      "execution_count": 0,
      "outputs": []
    },
    {
      "cell_type": "code",
      "metadata": {
        "id": "poBP0V4SwuAb",
        "colab_type": "code",
        "colab": {}
      },
      "source": [
        "from scipy.spatial.distance import cosine as dist"
      ],
      "execution_count": 0,
      "outputs": []
    },
    {
      "cell_type": "code",
      "metadata": {
        "id": "VgGMPHqkwycw",
        "colab_type": "code",
        "colab": {}
      },
      "source": [
        "enc = learn_lm.model[0].encoder"
      ],
      "execution_count": 0,
      "outputs": []
    },
    {
      "cell_type": "code",
      "metadata": {
        "id": "SB4BxS8Ww2pj",
        "colab_type": "code",
        "colab": {
          "base_uri": "https://localhost:8080/",
          "height": 34
        },
        "outputId": "69bc902b-c125-4f6c-df91-2e3efe94ffb8"
      },
      "source": [
        "enc.weight.size()"
      ],
      "execution_count": 138,
      "outputs": [
        {
          "output_type": "execute_result",
          "data": {
            "text/plain": [
              "torch.Size([60000, 400])"
            ]
          },
          "metadata": {
            "tags": []
          },
          "execution_count": 138
        }
      ]
    },
    {
      "cell_type": "markdown",
      "metadata": {
        "id": "OxJXyP4bw5CY",
        "colab_type": "text"
      },
      "source": [
        "## 4.3 Difference in vocab between IMDB and Wikipedia"
      ]
    },
    {
      "cell_type": "markdown",
      "metadata": {
        "id": "3oIlgBj44nGZ",
        "colab_type": "text"
      },
      "source": [
        "ขนาด vocab เท่ากัน"
      ]
    },
    {
      "cell_type": "code",
      "metadata": {
        "id": "DGvAQvgpz1_n",
        "colab_type": "code",
        "colab": {
          "base_uri": "https://localhost:8080/",
          "height": 34
        },
        "outputId": "ed137d82-c5b0-44a5-8cb6-3b7ef7df9421"
      },
      "source": [
        "len(wiki_itos), len(imdb_itos)"
      ],
      "execution_count": 139,
      "outputs": [
        {
          "output_type": "execute_result",
          "data": {
            "text/plain": [
              "(60000, 60000)"
            ]
          },
          "metadata": {
            "tags": []
          },
          "execution_count": 139
        }
      ]
    },
    {
      "cell_type": "markdown",
      "metadata": {
        "id": "y83ReedN4qIT",
        "colab_type": "text"
      },
      "source": [
        "แต่ข้างใน ไม่เหมือนกัน เปรียบเทียบ 10 คำศัพท์สุดท้าย"
      ]
    },
    {
      "cell_type": "code",
      "metadata": {
        "id": "7CbmV8-Mz8EE",
        "colab_type": "code",
        "colab": {
          "base_uri": "https://localhost:8080/",
          "height": 357
        },
        "outputId": "987a52d1-8c8d-4b44-dc3a-c109c64f8962"
      },
      "source": [
        "wiki_itos[-10:], imdb_itos[-10:]"
      ],
      "execution_count": 140,
      "outputs": [
        {
          "output_type": "execute_result",
          "data": {
            "text/plain": [
              "(['wgbh',\n",
              "  'subsystem',\n",
              "  '831',\n",
              "  'lifelines',\n",
              "  'bergeron',\n",
              "  'adaptions',\n",
              "  'slurs',\n",
              "  'acasta',\n",
              "  'stuccoed',\n",
              "  'spellbound'],\n",
              " ['steadiness',\n",
              "  'shimono',\n",
              "  'enuff',\n",
              "  'simper',\n",
              "  'spookiest',\n",
              "  \"o'daniel\",\n",
              "  'skinflint',\n",
              "  'facelift',\n",
              "  'slates',\n",
              "  'hospitalised'])"
            ]
          },
          "metadata": {
            "tags": []
          },
          "execution_count": 140
        }
      ]
    },
    {
      "cell_type": "code",
      "metadata": {
        "id": "GEA9kLr5z8H8",
        "colab_type": "code",
        "colab": {}
      },
      "source": [
        "wiki_words = set(wiki_itos)\n",
        "imdb_words = set(imdb_itos)"
      ],
      "execution_count": 0,
      "outputs": []
    },
    {
      "cell_type": "code",
      "metadata": {
        "id": "I26g1CDx6V08",
        "colab_type": "code",
        "colab": {
          "base_uri": "https://localhost:8080/",
          "height": 374
        },
        "outputId": "781ccaff-d4ed-4f78-842f-0ee23be81407"
      },
      "source": [
        "wiki_not_imdb = wiki_words.difference(imdb_words)\n",
        "len(wiki_not_imdb), [val for i, val in enumerate(itertools.islice(wiki_not_imdb, 20))]"
      ],
      "execution_count": 148,
      "outputs": [
        {
          "output_type": "execute_result",
          "data": {
            "text/plain": [
              "(24264,\n",
              " ['forestry',\n",
              "  'dunstan',\n",
              "  'phineas',\n",
              "  'asser',\n",
              "  'aylwin',\n",
              "  'prospectus',\n",
              "  'pausanias',\n",
              "  '148',\n",
              "  'neymar',\n",
              "  'sectional',\n",
              "  'stamens',\n",
              "  'saigō',\n",
              "  'pelicans',\n",
              "  'shelbourne',\n",
              "  'fulmars',\n",
              "  'cpu',\n",
              "  'symbionts',\n",
              "  'calculators',\n",
              "  'placerville',\n",
              "  'mashbir'])"
            ]
          },
          "metadata": {
            "tags": []
          },
          "execution_count": 148
        }
      ]
    },
    {
      "cell_type": "code",
      "metadata": {
        "id": "srgNlWXU7CSf",
        "colab_type": "code",
        "colab": {
          "base_uri": "https://localhost:8080/",
          "height": 374
        },
        "outputId": "03119cb9-e029-4b69-d150-22c932aa471d"
      },
      "source": [
        "imdb_not_wiki = imdb_words.difference(wiki_words)\n",
        "len(imdb_not_wiki), [val for i, val in enumerate(itertools.islice(imdb_not_wiki, 20))]"
      ],
      "execution_count": 150,
      "outputs": [
        {
          "output_type": "execute_result",
          "data": {
            "text/plain": [
              "(24264,\n",
              " ['rena',\n",
              "  'rabal',\n",
              "  'achmed',\n",
              "  'unthinking',\n",
              "  'grégoire',\n",
              "  'puffing',\n",
              "  'unwatched',\n",
              "  'snotty',\n",
              "  'film.it',\n",
              "  'ghoulish',\n",
              "  'senselessness',\n",
              "  'rueful',\n",
              "  'elysee',\n",
              "  'campfest',\n",
              "  'sacchi',\n",
              "  'moya',\n",
              "  'mohabbatein',\n",
              "  'forklift',\n",
              "  'boetticher',\n",
              "  'paedophile'])"
            ]
          },
          "metadata": {
            "tags": []
          },
          "execution_count": 150
        }
      ]
    },
    {
      "cell_type": "markdown",
      "metadata": {
        "id": "6FjdprgSz8Ls",
        "colab_type": "text"
      },
      "source": [
        "## 4.4 Out of vocab Initialization"
      ]
    },
    {
      "cell_type": "markdown",
      "metadata": {
        "id": "HEX-G1NeDvvo",
        "colab_type": "text"
      },
      "source": [
        "คำว่า cpu อยู่ใน vocab ของ WikiText-103 แต่ไม่อยู่ใน IMDB"
      ]
    },
    {
      "cell_type": "code",
      "metadata": {
        "id": "9GnBSMKWBdbf",
        "colab_type": "code",
        "colab": {
          "base_uri": "https://localhost:8080/",
          "height": 34
        },
        "outputId": "164519f6-911f-4fdf-946f-4acdfa0733a2"
      },
      "source": [
        "w = \"cpu\"\n",
        "vocab.stoi[w], w in wiki_words, w in imdb_words"
      ],
      "execution_count": 165,
      "outputs": [
        {
          "output_type": "execute_result",
          "data": {
            "text/plain": [
              "(0, True, False)"
            ]
          },
          "metadata": {
            "tags": []
          },
          "execution_count": 165
        }
      ]
    },
    {
      "cell_type": "markdown",
      "metadata": {
        "id": "rG340TnuD8lb",
        "colab_type": "text"
      },
      "source": [
        "คำเหล่านี้ อยู่ใน vocab ของ IMDB แต่ไม่อยู่ใน WikiText-103 เราจะ Initialize Embedding ของคำเหล่านี้ แบบ Random"
      ]
    },
    {
      "cell_type": "code",
      "metadata": {
        "id": "bEyYvwpRBdk3",
        "colab_type": "code",
        "colab": {
          "base_uri": "https://localhost:8080/",
          "height": 34
        },
        "outputId": "a152e1bb-54d4-469e-f6cd-c08a3b7e40c4"
      },
      "source": [
        "w = \"senselessness\"\n",
        "vocab.stoi[w], w in wiki_words, w in imdb_words"
      ],
      "execution_count": 164,
      "outputs": [
        {
          "output_type": "execute_result",
          "data": {
            "text/plain": [
              "(38905, False, True)"
            ]
          },
          "metadata": {
            "tags": []
          },
          "execution_count": 164
        }
      ]
    },
    {
      "cell_type": "code",
      "metadata": {
        "id": "B0O90Wr9BdQt",
        "colab_type": "code",
        "colab": {
          "base_uri": "https://localhost:8080/",
          "height": 34
        },
        "outputId": "bf31c6fe-2be6-44d7-b983-b067ef0d805f"
      },
      "source": [
        "w = \"unthinking\"\n",
        "vocab.stoi[w], w in wiki_words, w in imdb_words"
      ],
      "execution_count": 166,
      "outputs": [
        {
          "output_type": "execute_result",
          "data": {
            "text/plain": [
              "(26254, False, True)"
            ]
          },
          "metadata": {
            "tags": []
          },
          "execution_count": 166
        }
      ]
    },
    {
      "cell_type": "code",
      "metadata": {
        "id": "TSTzwd_VDTcy",
        "colab_type": "code",
        "colab": {
          "base_uri": "https://localhost:8080/",
          "height": 34
        },
        "outputId": "cbfa48ce-5131-4e03-c630-28d3abf64e26"
      },
      "source": [
        "w = \"forklift\"\n",
        "vocab.stoi[w], w in wiki_words, w in imdb_words"
      ],
      "execution_count": 167,
      "outputs": [
        {
          "output_type": "execute_result",
          "data": {
            "text/plain": [
              "(43804, False, True)"
            ]
          },
          "metadata": {
            "tags": []
          },
          "execution_count": 167
        }
      ]
    },
    {
      "cell_type": "markdown",
      "metadata": {
        "id": "HJhTUIXUEPfa",
        "colab_type": "text"
      },
      "source": [
        "Initialize ด้วยค่า Random เล็ก ๆ ใกล้เคียงกัน"
      ]
    },
    {
      "cell_type": "code",
      "metadata": {
        "id": "y84tzwkFDThw",
        "colab_type": "code",
        "colab": {
          "base_uri": "https://localhost:8080/",
          "height": 34
        },
        "outputId": "e1de1695-2761-43f4-f138-43870e12a2ba"
      },
      "source": [
        "np.allclose(enc.weight[vocab.stoi['senselessness'], :], \n",
        "            enc.weight[vocab.stoi['unthinking'], :])"
      ],
      "execution_count": 168,
      "outputs": [
        {
          "output_type": "execute_result",
          "data": {
            "text/plain": [
              "True"
            ]
          },
          "metadata": {
            "tags": []
          },
          "execution_count": 168
        }
      ]
    },
    {
      "cell_type": "markdown",
      "metadata": {
        "id": "SDXN4bAVEzAt",
        "colab_type": "text"
      },
      "source": [
        "แต่ถ้าเทียบกับ Embedding ที่เทรนเรียบร้อยแล้ว ก็จะต่างกันมาก"
      ]
    },
    {
      "cell_type": "code",
      "metadata": {
        "id": "JsG37-4nEolQ",
        "colab_type": "code",
        "colab": {
          "base_uri": "https://localhost:8080/",
          "height": 34
        },
        "outputId": "832ab86f-4a61-4625-b745-16ecdab4b75d"
      },
      "source": [
        "np.allclose(enc.weight[vocab.stoi['senselessness'], :], \n",
        "            enc.weight[vocab.stoi['capital'], :])"
      ],
      "execution_count": 169,
      "outputs": [
        {
          "output_type": "execute_result",
          "data": {
            "text/plain": [
              "False"
            ]
          },
          "metadata": {
            "tags": []
          },
          "execution_count": 169
        }
      ]
    },
    {
      "cell_type": "markdown",
      "metadata": {
        "id": "GtBBnw2tHJ6E",
        "colab_type": "text"
      },
      "source": [
        "ดู Embedding"
      ]
    },
    {
      "cell_type": "code",
      "metadata": {
        "id": "yUqteZUSGlig",
        "colab_type": "code",
        "colab": {
          "base_uri": "https://localhost:8080/",
          "height": 34
        },
        "outputId": "a3ef08d7-bda2-4dd3-bea1-10ac629f9cc3"
      },
      "source": [
        "vocab.stoi['senselessness'], vocab.stoi['unthinking'], vocab.stoi['capital'], vocab.stoi['cpu']"
      ],
      "execution_count": 188,
      "outputs": [
        {
          "output_type": "execute_result",
          "data": {
            "text/plain": [
              "(38905, 26254, 5727, 0)"
            ]
          },
          "metadata": {
            "tags": []
          },
          "execution_count": 188
        }
      ]
    },
    {
      "cell_type": "code",
      "metadata": {
        "id": "QrQw3b1bFSip",
        "colab_type": "code",
        "colab": {
          "base_uri": "https://localhost:8080/",
          "height": 153
        },
        "outputId": "711642c5-77ff-49e6-e365-1de2f9fe1d97"
      },
      "source": [
        "len(enc.weight[vocab.stoi['senselessness'], :]), enc.weight[vocab.stoi['senselessness'], :][:50]"
      ],
      "execution_count": 189,
      "outputs": [
        {
          "output_type": "execute_result",
          "data": {
            "text/plain": [
              "(400,\n",
              " tensor([ 0.0253,  0.0026,  0.0423, -0.0274, -0.0110, -0.0100, -0.0628,  0.1794,\n",
              "         -0.1275, -0.2096, -0.0124, -0.0056, -0.0505, -0.0501, -0.0428,  0.1726,\n",
              "         -0.0650, -0.0571, -0.1103,  0.0186,  0.0053, -0.0059,  0.0299,  0.0192,\n",
              "         -0.0240,  0.1432, -0.1064, -0.0097,  0.0100, -0.0399,  0.0282,  0.0319,\n",
              "          0.1297,  0.0687, -0.0047,  0.0168,  0.0201,  0.1346, -0.0336, -0.0449,\n",
              "          0.0265, -0.0756, -0.0225,  0.0196,  0.0221,  0.0214,  0.0077, -0.1311,\n",
              "         -0.1357, -0.0128], device='cuda:0', grad_fn=<SliceBackward>))"
            ]
          },
          "metadata": {
            "tags": []
          },
          "execution_count": 189
        }
      ]
    },
    {
      "cell_type": "code",
      "metadata": {
        "id": "FRpJWER7GFSY",
        "colab_type": "code",
        "colab": {
          "base_uri": "https://localhost:8080/",
          "height": 136
        },
        "outputId": "c29de008-d047-44c5-dd21-365aea757c95"
      },
      "source": [
        "len(enc.weight[vocab.stoi['unthinking'], :]), enc.weight[vocab.stoi['unthinking'], :][:50]"
      ],
      "execution_count": 180,
      "outputs": [
        {
          "output_type": "execute_result",
          "data": {
            "text/plain": [
              "tensor([ 0.0253,  0.0026,  0.0423, -0.0274, -0.0110, -0.0100, -0.0628,  0.1794,\n",
              "        -0.1275, -0.2096, -0.0124, -0.0056, -0.0505, -0.0501, -0.0428,  0.1726,\n",
              "        -0.0650, -0.0571, -0.1103,  0.0186,  0.0053, -0.0059,  0.0299,  0.0192,\n",
              "        -0.0240,  0.1432, -0.1064, -0.0097,  0.0100, -0.0399,  0.0282,  0.0319,\n",
              "         0.1297,  0.0687, -0.0047,  0.0168,  0.0201,  0.1346, -0.0336, -0.0449,\n",
              "         0.0265, -0.0756, -0.0225,  0.0196,  0.0221,  0.0214,  0.0077, -0.1311,\n",
              "        -0.1357, -0.0128], device='cuda:0', grad_fn=<SliceBackward>)"
            ]
          },
          "metadata": {
            "tags": []
          },
          "execution_count": 180
        }
      ]
    },
    {
      "cell_type": "code",
      "metadata": {
        "id": "YGPMubi2GBjy",
        "colab_type": "code",
        "colab": {
          "base_uri": "https://localhost:8080/",
          "height": 153
        },
        "outputId": "4065582d-cae2-47af-e885-277de42e9487"
      },
      "source": [
        "len(enc.weight[vocab.stoi['capital'], :]), enc.weight[vocab.stoi['capital'], :][:50]"
      ],
      "execution_count": 190,
      "outputs": [
        {
          "output_type": "execute_result",
          "data": {
            "text/plain": [
              "(400,\n",
              " tensor([-0.2566,  0.1062,  0.3081,  0.2742,  0.1667, -0.1626, -0.5122, -0.1261,\n",
              "          0.4548, -0.4177, -0.1565,  0.0752,  0.2253,  0.2031, -0.3125,  0.0310,\n",
              "          0.5112, -0.3691, -0.2947, -0.0168, -0.1147,  0.3074, -0.1654, -0.2202,\n",
              "          0.0538, -0.4041,  0.1666, -0.0109, -0.2803,  0.3044, -0.2279,  0.1786,\n",
              "         -0.2502, -0.2334,  0.4438,  0.2404,  0.1746,  0.1509,  0.0351,  0.2844,\n",
              "         -0.0244, -0.2031,  0.1228, -0.2357, -0.2065,  0.5811,  0.1338,  0.4087,\n",
              "         -0.5034, -0.0150], device='cuda:0', grad_fn=<SliceBackward>))"
            ]
          },
          "metadata": {
            "tags": []
          },
          "execution_count": 190
        }
      ]
    },
    {
      "cell_type": "markdown",
      "metadata": {
        "id": "NDi6KKnULray",
        "colab_type": "text"
      },
      "source": [
        "# สรุป"
      ]
    },
    {
      "cell_type": "markdown",
      "metadata": {
        "id": "BpoHE89ONKc_",
        "colab_type": "text"
      },
      "source": [
        "* เราได้เรียนรู้ว่า "
      ]
    },
    {
      "cell_type": "markdown",
      "metadata": {
        "id": "4gvQU6jgNLKZ",
        "colab_type": "text"
      },
      "source": [
        "# Credit"
      ]
    },
    {
      "cell_type": "markdown",
      "metadata": {
        "id": "nt2N3YR6OsLp",
        "colab_type": "text"
      },
      "source": [
        "* https://www.youtube.com/watch?v=dt7sArnLo1g&list=PLtmWHNX-gukKocXQOkQjuVxglSDYWsSh9&index=6&t=0s\n",
        "* https://www.bualabs.com/archives/2693/data-block-api-data-pipeline-machine-learning-supervised-learning-preprocessing-ep-5/\n",
        "* https://www.bualabs.com/archives/926/sentiment-analysis-imdb-movie-review-ulmfit-sentiment-analysis-ep-1/\n",
        "* https://www.bualabs.com/archives/3000/sentiment-classification-imdb-movie-reviews-with-naive-bayes-logistic-regression-nlp-ep-5/\n",
        "* https://docs.fast.ai/data_block.html\n",
        "* https://docs.fast.ai/text.data.html\n",
        "* https://forums.fast.ai/t/language-model-zoo-gorilla/14623\n",
        "* https://www.imdb.com/interfaces/\n",
        "* https://blog.einstein.ai/the-wikitext-long-term-dependency-language-modeling-dataset/\n",
        "* https://arxiv.org/abs/1801.06146\n",
        "* "
      ]
    },
    {
      "cell_type": "code",
      "metadata": {
        "id": "45T4wMZg06J5",
        "colab_type": "code",
        "colab": {}
      },
      "source": [
        ""
      ],
      "execution_count": 0,
      "outputs": []
    }
  ]
}