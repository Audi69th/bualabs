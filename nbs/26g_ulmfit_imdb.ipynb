{
  "nbformat": 4,
  "nbformat_minor": 0,
  "metadata": {
    "accelerator": "GPU",
    "colab": {
      "name": "26g-ulmfit-imdb.ipynb",
      "provenance": [],
      "collapsed_sections": []
    },
    "kernelspec": {
      "display_name": "Python 3",
      "language": "python",
      "name": "python3"
    },
    "language_info": {
      "codemirror_mode": {
        "name": "ipython",
        "version": 3
      },
      "file_extension": ".py",
      "mimetype": "text/x-python",
      "name": "python",
      "nbconvert_exporter": "python",
      "pygments_lexer": "ipython3",
      "version": "3.7.3"
    }
  },
  "cells": [
    {
      "cell_type": "markdown",
      "metadata": {
        "colab_type": "text",
        "id": "XlQtoavmlNzL"
      },
      "source": [
        "ใน ep ที่แล้วเราใช้ Naive Bayes และ [Logistic Regression](https://www.bualabs.com/archives/1945/what-is-cross-entropy-loss-logistic-regression-log-loss-loss-function-ep-3/) ที่เป็นอัลกอริทึมที่เป็นที่นิยมก่อนยุค Deep Learning แต่ใน ep นี้เราจะเปลี่ยนมาใช้ Deep Neural Network และ Transfer Learning เรียกว่า [ULMFit](https://www.bualabs.com/archives/tag/ulmfit/) หรือ Universal Language Model Fine-tuning ที่จะลดเวลาการเทรน และเพิ่มประสิทธิภาพการทำงานของโมเดล AWD_LSTM ซึ่งเป็น LSTM / Recurrent Neural Network (RNN) แบบนึง ที่มีการใช้ [Dropout](https://www.bualabs.com/archives/1533/what-is-dropout-benefits-dropout-reduce-overfit-deep-learning-training-model-deep-neural-network-regularization-ep-2/) หลากหลายแบบภายในส่วนต่าง ๆ ของโมเดล"
      ]
    },
    {
      "cell_type": "markdown",
      "metadata": {
        "colab_type": "text",
        "id": "CzApwnjVlKxC"
      },
      "source": [
        "# 0. Install"
      ]
    },
    {
      "cell_type": "code",
      "metadata": {
        "colab_type": "code",
        "id": "0WcUkQRak7e6",
        "colab": {}
      },
      "source": [
        "%reload_ext autoreload\n",
        "%autoreload 2\n",
        "%matplotlib inline"
      ],
      "execution_count": 0,
      "outputs": []
    },
    {
      "cell_type": "markdown",
      "metadata": {
        "colab_type": "text",
        "id": "MGOPzh9vCLJh"
      },
      "source": [
        "Install Library ที่จำเป็น"
      ]
    },
    {
      "cell_type": "code",
      "metadata": {
        "colab_type": "code",
        "id": "o0UgDCGLhby7",
        "outputId": "273fe230-36fe-445d-db39-8c87890d75ee",
        "colab": {
          "base_uri": "https://localhost:8080/",
          "height": 51
        }
      },
      "source": [
        "## Colab\n",
        "! curl -s https://course.fast.ai/setup/colab | bash"
      ],
      "execution_count": 2,
      "outputs": [
        {
          "output_type": "stream",
          "text": [
            "Updating fastai...\n",
            "Done.\n"
          ],
          "name": "stdout"
        }
      ]
    },
    {
      "cell_type": "markdown",
      "metadata": {
        "id": "r8Ne5kVMzs9a",
        "colab_type": "text"
      },
      "source": [
        "เช็ค GPU"
      ]
    },
    {
      "cell_type": "code",
      "metadata": {
        "colab_type": "code",
        "id": "cQiYFoC4C8hy",
        "outputId": "9c48c3df-0f9e-4218-901b-c14178f9f73a",
        "colab": {
          "base_uri": "https://localhost:8080/",
          "height": 306
        }
      },
      "source": [
        "! nvidia-smi"
      ],
      "execution_count": 3,
      "outputs": [
        {
          "output_type": "stream",
          "text": [
            "Tue Dec 10 16:39:55 2019       \n",
            "+-----------------------------------------------------------------------------+\n",
            "| NVIDIA-SMI 440.36       Driver Version: 418.67       CUDA Version: 10.1     |\n",
            "|-------------------------------+----------------------+----------------------+\n",
            "| GPU  Name        Persistence-M| Bus-Id        Disp.A | Volatile Uncorr. ECC |\n",
            "| Fan  Temp  Perf  Pwr:Usage/Cap|         Memory-Usage | GPU-Util  Compute M. |\n",
            "|===============================+======================+======================|\n",
            "|   0  Tesla P100-PCIE...  Off  | 00000000:00:04.0 Off |                    0 |\n",
            "| N/A   62C    P0    31W / 250W |      0MiB / 16280MiB |      0%      Default |\n",
            "+-------------------------------+----------------------+----------------------+\n",
            "                                                                               \n",
            "+-----------------------------------------------------------------------------+\n",
            "| Processes:                                                       GPU Memory |\n",
            "|  GPU       PID   Type   Process name                             Usage      |\n",
            "|=============================================================================|\n",
            "|  No running processes found                                                 |\n",
            "+-----------------------------------------------------------------------------+\n"
          ],
          "name": "stdout"
        }
      ]
    },
    {
      "cell_type": "markdown",
      "metadata": {
        "colab_type": "text",
        "id": "3VxLNfAElR29"
      },
      "source": [
        "# 1. Import"
      ]
    },
    {
      "cell_type": "markdown",
      "metadata": {
        "colab_type": "text",
        "id": "nGm02SG0CQrq"
      },
      "source": [
        "Import Library ที่จะใช้ ในที่นี้คือ fastai และ fastai.text "
      ]
    },
    {
      "cell_type": "code",
      "metadata": {
        "colab_type": "code",
        "id": "OORH3obdk-wS",
        "colab": {}
      },
      "source": [
        "from fastai import *\n",
        "from fastai.text import *\n",
        "from fastai.callbacks import *\n",
        "from fastai.callbacks.mem import *"
      ],
      "execution_count": 0,
      "outputs": []
    },
    {
      "cell_type": "code",
      "metadata": {
        "colab_type": "code",
        "id": "nmZehcHclZyM",
        "colab": {}
      },
      "source": [
        "# import fastai.utils.collect_env\n",
        "# fastai.utils.collect_env.show_install()"
      ],
      "execution_count": 0,
      "outputs": []
    },
    {
      "cell_type": "markdown",
      "metadata": {
        "id": "eEbTrCXdBkEG",
        "colab_type": "text"
      },
      "source": [
        "สำหรับ [Google Colab](https://www.bualabs.com/archives/1687/what-is-colab-open-jupyter-notebook-in-github-on-google-colab-create-open-in-colab-button-colab-ep-1/) เราจะกำหนด path ที่เก็บ DataSet และ Mount Google Drive "
      ]
    },
    {
      "cell_type": "code",
      "metadata": {
        "id": "EOLkyx3DcL_k",
        "colab_type": "code",
        "colab": {
          "base_uri": "https://localhost:8080/",
          "height": 34
        },
        "outputId": "2bbf48b1-97fe-40bd-fb16-8ac62991dbda"
      },
      "source": [
        "dataset = 'imdb_sample'\n",
        "dataset2 = 'imdb'\n",
        "\n",
        "# Google Colab\n",
        "config_path = Path('/content/drive')\n",
        "data_path_base = Path('/content/datasets/')\n",
        "\n",
        "data_path = data_path_base/dataset\n",
        "data_path2 = data_path_base/dataset2\n",
        "\n",
        "from google.colab import drive\n",
        "drive.mount(str(config_path))"
      ],
      "execution_count": 6,
      "outputs": [
        {
          "output_type": "stream",
          "text": [
            "Drive already mounted at /content/drive; to attempt to forcibly remount, call drive.mount(\"/content/drive\", force_remount=True).\n"
          ],
          "name": "stdout"
        }
      ]
    },
    {
      "cell_type": "markdown",
      "metadata": {
        "colab_type": "text",
        "id": "pv3eV6oElZD2"
      },
      "source": [
        "# 2. Dataset"
      ]
    },
    {
      "cell_type": "markdown",
      "metadata": {
        "colab_type": "text",
        "id": "_9kLpiZj_Rd6"
      },
      "source": [
        "ในเคสนี้เราจะใช้ IMDB Movie Review เป็นรีวิวหนังจากเว็บ IMDB ที่มีข้อความ และ คะแนนว่าเป็นแง่บวก หรือแง่ลบ เหมือนใน ep ก่อน ๆ \n",
        "\n",
        "ในการพัฒนา เราจะใช้ Dataset ชุดเล็กก่อน จะได้เร็ว เมื่อเทสทุกอย่างเรียบร้อย แล้วจึงขยับไปใช้ Dataset ชุดเต็ม "
      ]
    },
    {
      "cell_type": "code",
      "metadata": {
        "colab_type": "code",
        "id": "dx8aArt3l1ca",
        "outputId": "be6039fd-4a4f-47f1-b895-d6e8d6806c56",
        "colab": {
          "base_uri": "https://localhost:8080/",
          "height": 51
        }
      },
      "source": [
        "path = untar_data(URLs.IMDB_SAMPLE, dest=data_path)\n",
        "path.ls()"
      ],
      "execution_count": 7,
      "outputs": [
        {
          "output_type": "stream",
          "text": [
            "Downloading http://files.fast.ai/data/examples/imdb_sample\n"
          ],
          "name": "stdout"
        },
        {
          "output_type": "display_data",
          "data": {
            "text/html": [
              ""
            ],
            "text/plain": [
              "<IPython.core.display.HTML object>"
            ]
          },
          "metadata": {
            "tags": []
          }
        },
        {
          "output_type": "execute_result",
          "data": {
            "text/plain": [
              "[PosixPath('/content/datasets/imdb_sample/imdb_sample/texts.csv')]"
            ]
          },
          "metadata": {
            "tags": []
          },
          "execution_count": 7
        }
      ]
    },
    {
      "cell_type": "markdown",
      "metadata": {
        "colab_type": "text",
        "id": "5SWut3oxmai6"
      },
      "source": [
        "# 3. Preprocessing"
      ]
    },
    {
      "cell_type": "markdown",
      "metadata": {
        "colab_type": "text",
        "id": "nGz9PRlBmUxZ"
      },
      "source": [
        "## 3.1 Data Block API"
      ]
    },
    {
      "cell_type": "markdown",
      "metadata": {
        "colab_type": "text",
        "id": "Qfq-mMdBm7vy"
      },
      "source": [
        "เราจะใช้ [Data Block API](https://www.bualabs.com/archives/2693/data-block-api-data-pipeline-machine-learning-supervised-learning-preprocessing-ep-5/) กำหนด Data Pipeline ทีละขั้น Tokenization, Numericalization, Split, Labeling ก็จะทำให้ยืดหยุ่นมากขึ้น"
      ]
    },
    {
      "cell_type": "code",
      "metadata": {
        "colab_type": "code",
        "id": "VycXdm7Lmweq",
        "outputId": "5ac96afc-6099-4a76-ad0f-370a8bc7cfbc",
        "colab": {
          "base_uri": "https://localhost:8080/",
          "height": 17
        }
      },
      "source": [
        "data_lm = (TextList.from_csv(path, 'texts.csv', cols='text')\n",
        "                .split_from_df(col=2)\n",
        "                .label_from_df(cols=0)\n",
        "                .databunch())"
      ],
      "execution_count": 8,
      "outputs": [
        {
          "output_type": "display_data",
          "data": {
            "text/html": [
              ""
            ],
            "text/plain": [
              "<IPython.core.display.HTML object>"
            ]
          },
          "metadata": {
            "tags": []
          }
        },
        {
          "output_type": "display_data",
          "data": {
            "text/html": [
              ""
            ],
            "text/plain": [
              "<IPython.core.display.HTML object>"
            ]
          },
          "metadata": {
            "tags": []
          }
        }
      ]
    },
    {
      "cell_type": "markdown",
      "metadata": {
        "colab_type": "text",
        "id": "zLpeVJFETRUH"
      },
      "source": [
        "ดูตัวอย่างคำศัพท์ใน vocab Dictionary"
      ]
    },
    {
      "cell_type": "code",
      "metadata": {
        "colab_type": "code",
        "id": "jx2E3YGkngw0",
        "outputId": "92f93ffc-675e-40b4-ae98-554ffb00ab09",
        "colab": {
          "base_uri": "https://localhost:8080/",
          "height": 357
        }
      },
      "source": [
        "data_lm.vocab.itos[:20]"
      ],
      "execution_count": 9,
      "outputs": [
        {
          "output_type": "execute_result",
          "data": {
            "text/plain": [
              "['xxunk',\n",
              " 'xxpad',\n",
              " 'xxbos',\n",
              " 'xxeos',\n",
              " 'xxfld',\n",
              " 'xxmaj',\n",
              " 'xxup',\n",
              " 'xxrep',\n",
              " 'xxwrep',\n",
              " 'the',\n",
              " '.',\n",
              " ',',\n",
              " 'and',\n",
              " 'a',\n",
              " 'of',\n",
              " 'to',\n",
              " 'is',\n",
              " 'it',\n",
              " 'in',\n",
              " 'i']"
            ]
          },
          "metadata": {
            "tags": []
          },
          "execution_count": 9
        }
      ]
    },
    {
      "cell_type": "markdown",
      "metadata": {
        "colab_type": "text",
        "id": "5OgbUTpzTU7d"
      },
      "source": [
        "ดูตัวอย่างข้อมูล text"
      ]
    },
    {
      "cell_type": "code",
      "metadata": {
        "colab_type": "code",
        "id": "egTdfsibngw-",
        "outputId": "5919e811-0a41-4fd9-c0c4-b23f6cbed213",
        "colab": {
          "base_uri": "https://localhost:8080/",
          "height": 54
        }
      },
      "source": [
        "data_lm.train_ds[0][0]"
      ],
      "execution_count": 10,
      "outputs": [
        {
          "output_type": "execute_result",
          "data": {
            "text/plain": [
              "Text xxbos xxmaj un - xxunk - believable ! xxmaj meg xxmaj ryan does n't even look her usual xxunk lovable self in this , which normally makes me forgive her shallow xxunk acting xxunk . xxmaj hard to believe she was the producer on this dog . xxmaj plus xxmaj kevin xxmaj kline : what kind of suicide trip has his career been on ? xxmaj xxunk ... xxmaj xxunk ! ! ! xxmaj finally this was directed by the guy who did xxmaj big xxmaj xxunk ? xxmaj must be a replay of xxmaj jonestown - hollywood style . xxmaj xxunk !"
            ]
          },
          "metadata": {
            "tags": []
          },
          "execution_count": 10
        }
      ]
    },
    {
      "cell_type": "markdown",
      "metadata": {
        "colab_type": "text",
        "id": "GDVX1DrlTX8U"
      },
      "source": [
        "ดูข้อมูลภายใน ในรูปแบบตัวเลข"
      ]
    },
    {
      "cell_type": "code",
      "metadata": {
        "colab_type": "code",
        "id": "U9t0qpcVngxB",
        "outputId": "70227b6f-396f-4ade-f4af-4895b526a82c",
        "colab": {
          "base_uri": "https://localhost:8080/",
          "height": 51
        }
      },
      "source": [
        "data_lm.train_ds[0][0].data[:20]"
      ],
      "execution_count": 11,
      "outputs": [
        {
          "output_type": "execute_result",
          "data": {
            "text/plain": [
              "array([   2,    5, 4619,   25,    0,   25,  867,   52,    5, 3776,    5, 1800,   95,   37,   85,  191,   64,  935,\n",
              "          0, 2738])"
            ]
          },
          "metadata": {
            "tags": []
          },
          "execution_count": 11
        }
      ]
    },
    {
      "cell_type": "markdown",
      "metadata": {
        "colab_type": "text",
        "id": "sgoaG7LXniVb"
      },
      "source": [
        "# 2/2. Full Dataset"
      ]
    },
    {
      "cell_type": "markdown",
      "metadata": {
        "colab_type": "text",
        "id": "4UM7WpBUTdMG"
      },
      "source": [
        "Download ชุดข้อมูลตัวเต็ม IMDB DataSet ไปไว้ใน path ที่กำหนด"
      ]
    },
    {
      "cell_type": "code",
      "metadata": {
        "colab_type": "code",
        "id": "lNV4cKwgpJB-",
        "outputId": "d9a61126-bab2-4a12-fe31-1bc96a3cf375",
        "colab": {
          "base_uri": "https://localhost:8080/",
          "height": 153
        }
      },
      "source": [
        "path = untar_data(URLs.IMDB, dest=data_path2)\n",
        "path.ls()"
      ],
      "execution_count": 12,
      "outputs": [
        {
          "output_type": "execute_result",
          "data": {
            "text/plain": [
              "[PosixPath('/content/datasets/imdb/imdb/lm_databunch'),\n",
              " PosixPath('/content/datasets/imdb/imdb/README'),\n",
              " PosixPath('/content/datasets/imdb/imdb/imdb.vocab'),\n",
              " PosixPath('/content/datasets/imdb/imdb/train'),\n",
              " PosixPath('/content/datasets/imdb/imdb/test'),\n",
              " PosixPath('/content/datasets/imdb/imdb/tmp_lm'),\n",
              " PosixPath('/content/datasets/imdb/imdb/tmp_clas'),\n",
              " PosixPath('/content/datasets/imdb/imdb/unsup')]"
            ]
          },
          "metadata": {
            "tags": []
          },
          "execution_count": 12
        }
      ]
    },
    {
      "cell_type": "code",
      "metadata": {
        "colab_type": "code",
        "id": "mR9dSvaGpQAQ",
        "outputId": "6768acfa-32fd-4448-dc5c-9b41bcab2e64",
        "colab": {
          "base_uri": "https://localhost:8080/",
          "height": 85
        }
      },
      "source": [
        "(path/'train').ls()"
      ],
      "execution_count": 13,
      "outputs": [
        {
          "output_type": "execute_result",
          "data": {
            "text/plain": [
              "[PosixPath('/content/datasets/imdb/imdb/train/pos'),\n",
              " PosixPath('/content/datasets/imdb/imdb/train/labeledBow.feat'),\n",
              " PosixPath('/content/datasets/imdb/imdb/train/neg'),\n",
              " PosixPath('/content/datasets/imdb/imdb/train/unsupBow.feat')]"
            ]
          },
          "metadata": {
            "tags": []
          },
          "execution_count": 13
        }
      ]
    },
    {
      "cell_type": "markdown",
      "metadata": {
        "colab_type": "text",
        "id": "1bakq2CmzoeO"
      },
      "source": [
        "# 3/2. Preprocessing"
      ]
    },
    {
      "cell_type": "markdown",
      "metadata": {
        "colab_type": "text",
        "id": "gd1I1qeM86EX"
      },
      "source": [
        "[Data Pipeline](https://www.bualabs.com/archives/2693/data-block-api-data-pipeline-machine-learning-supervised-learning-preprocessing-ep-5/) ด้วย Data Block API"
      ]
    },
    {
      "cell_type": "code",
      "metadata": {
        "colab_type": "code",
        "id": "L1sctU1WqNeV",
        "colab": {}
      },
      "source": [
        "# bs=48\n",
        "# bs=24\n",
        "bs=64"
      ],
      "execution_count": 0,
      "outputs": []
    },
    {
      "cell_type": "code",
      "metadata": {
        "colab_type": "code",
        "id": "MPRaVM3_ppwf",
        "outputId": "aaad61b9-e282-49af-b266-fa65af7206b2",
        "colab": {
          "base_uri": "https://localhost:8080/",
          "height": 17
        }
      },
      "source": [
        "data_lm = (TextList.from_folder(path)\n",
        "                    .filter_by_folder(include=['train', 'test', 'unsup'])\n",
        "                    .split_by_rand_pct(0.1)\n",
        "                    .label_for_lm()\n",
        "                    .databunch(bs=bs, num_workers=1))"
      ],
      "execution_count": 15,
      "outputs": [
        {
          "output_type": "display_data",
          "data": {
            "text/html": [
              ""
            ],
            "text/plain": [
              "<IPython.core.display.HTML object>"
            ]
          },
          "metadata": {
            "tags": []
          }
        },
        {
          "output_type": "display_data",
          "data": {
            "text/html": [
              ""
            ],
            "text/plain": [
              "<IPython.core.display.HTML object>"
            ]
          },
          "metadata": {
            "tags": []
          }
        }
      ]
    },
    {
      "cell_type": "markdown",
      "metadata": {
        "colab_type": "text",
        "id": "B8EzQpO232t3"
      },
      "source": [
        "ในข้อมูล Training Set 90,000 Record มีคำศัพท์ 60,000 คำ (Default)"
      ]
    },
    {
      "cell_type": "code",
      "metadata": {
        "colab_type": "code",
        "id": "jIYe62ynqRqP",
        "outputId": "3fbfc957-7a41-462b-be5a-37d3ff269465",
        "colab": {
          "base_uri": "https://localhost:8080/",
          "height": 34
        }
      },
      "source": [
        "len(data_lm.vocab.itos), len(data_lm.train_ds)"
      ],
      "execution_count": 16,
      "outputs": [
        {
          "output_type": "execute_result",
          "data": {
            "text/plain": [
              "(60000, 90000)"
            ]
          },
          "metadata": {
            "tags": []
          },
          "execution_count": 16
        }
      ]
    },
    {
      "cell_type": "code",
      "metadata": {
        "colab_type": "code",
        "id": "OCXun8tSqjQA",
        "outputId": "795e0ea0-05c4-42bf-86e9-37f994056a0a",
        "colab": {
          "base_uri": "https://localhost:8080/",
          "height": 289
        }
      },
      "source": [
        "data_lm.show_batch()"
      ],
      "execution_count": 17,
      "outputs": [
        {
          "output_type": "display_data",
          "data": {
            "text/html": [
              "<table border=\"1\" class=\"dataframe\">\n",
              "  <thead>\n",
              "    <tr style=\"text-align: right;\">\n",
              "      <th>idx</th>\n",
              "      <th>text</th>\n",
              "    </tr>\n",
              "  </thead>\n",
              "  <tbody>\n",
              "    <tr>\n",
              "      <td>0</td>\n",
              "      <td>powell - say no more . xxmaj the plot is intricate . xxmaj the story moves all too quickly , because you want it to last . xxmaj enjoy . xxbos xxmaj well , what can i say , this movie really got to me , it 's not so bad , as many say , i really loved it , although the idea seems so simple , and rather</td>\n",
              "    </tr>\n",
              "    <tr>\n",
              "      <td>1</td>\n",
              "      <td>like xxmaj will xxmaj ferrell but here he just never clicked for me . xxmaj and the rest of the guys were just xxunk who tagged along , and in the end all decided that having their wives / girlfriends cheat on them was in fact their fault . xxmaj so back to the main story . xxmaj the story basically centers around xxmaj leon and sex . xxmaj so</td>\n",
              "    </tr>\n",
              "    <tr>\n",
              "      <td>2</td>\n",
              "      <td>of killing her , he really kills only her spirit and will to live , after which she becomes a drug addict and ultimately dies from an overdose . xxmaj the story is n't about the street life or the xxmaj italian mobster who tries to buy xxmaj stix off , then threatens him , it 's about how love can overcome even the worst tragedies in life as portrayed</td>\n",
              "    </tr>\n",
              "    <tr>\n",
              "      <td>3</td>\n",
              "      <td>beginning . xxmaj they graduated together , they go to parties together and they decide to go to xxmaj bangkok together when they were supposed to be going to xxmaj hawaii . xxmaj they also get busted for attempting to smuggle drugs into a third world country and that spells disaster . xxmaj the rest of the film is about survival and not giving up hope . xxmaj it also</td>\n",
              "    </tr>\n",
              "    <tr>\n",
              "      <td>4</td>\n",
              "      <td>his offering of the xxunk willed brother xxmaj kyle xxmaj hadley , a mere shadow of his patriarchal father . xxmaj when he finds out that he is unable to impregnate his new bride ( a beautifully xxunk xxmaj lauren xxmaj bacall ) , xxmaj hadley goes off the deep end , escalating an already serious drinking problem with a \" secret \" gun fetish that threatens to make him</td>\n",
              "    </tr>\n",
              "  </tbody>\n",
              "</table>"
            ],
            "text/plain": [
              "<IPython.core.display.HTML object>"
            ]
          },
          "metadata": {
            "tags": []
          }
        }
      ]
    },
    {
      "cell_type": "markdown",
      "metadata": {
        "colab_type": "text",
        "id": "HuycJ7544KMN"
      },
      "source": [
        "เซฟไว้ก่อน คราวหน้าจะได้ไม่ต้องเสียเวลา Preprocess ใหม่"
      ]
    },
    {
      "cell_type": "code",
      "metadata": {
        "colab_type": "code",
        "id": "hL9FFazgrtF9",
        "colab": {}
      },
      "source": [
        "data_lm.save('lm_databunch')"
      ],
      "execution_count": 0,
      "outputs": []
    },
    {
      "cell_type": "markdown",
      "metadata": {
        "colab_type": "text",
        "id": "ozj-F50y4OlD"
      },
      "source": [
        "โหลด Language Model DataBunch ที่เซฟไว้ แล้วเช็คข้อมูล"
      ]
    },
    {
      "cell_type": "code",
      "metadata": {
        "colab_type": "code",
        "id": "EG-GVIm2r0B-",
        "outputId": "dac3ee42-2bab-4149-92cf-44781bb00539",
        "colab": {
          "base_uri": "https://localhost:8080/",
          "height": 34
        }
      },
      "source": [
        "data_lm = load_data(path, 'lm_databunch', bs=bs)\n",
        "len(data_lm.vocab.itos), len(data_lm.train_ds)"
      ],
      "execution_count": 19,
      "outputs": [
        {
          "output_type": "execute_result",
          "data": {
            "text/plain": [
              "(60000, 90000)"
            ]
          },
          "metadata": {
            "tags": []
          },
          "execution_count": 19
        }
      ]
    },
    {
      "cell_type": "markdown",
      "metadata": {
        "colab_type": "text",
        "id": "JN2y-cmVr7wu"
      },
      "source": [
        "# 4. Language Model จาก WikiText-103"
      ]
    },
    {
      "cell_type": "markdown",
      "metadata": {
        "id": "_GsWxvMgT42h",
        "colab_type": "text"
      },
      "source": [
        "## 4.1 AWD_LSTM Model Architecture"
      ]
    },
    {
      "cell_type": "markdown",
      "metadata": {
        "colab_type": "text",
        "id": "Of2vn9kR-9hX"
      },
      "source": [
        "สร้าง Language Model Learner ขึ้นมา โดยใช้ data_lm จาก IMDB ด้านบน และ สถาปัตยกรรม AWD_LSTM [Model Architecture](https://www.bualabs.com/archives/2703/how-to-read-model-convolutional-neural-network-shape-activation-map-model-architecture-convnet-ep-7/) โดยที่ยังไม่ได้เริ่มต้นเทรน\n",
        "\n",
        "AWD_LSTM ได้ถูก Pre-Train กับ WikiText-103 Dataset เรียบร้อยแล้ว"
      ]
    },
    {
      "cell_type": "code",
      "metadata": {
        "colab_type": "code",
        "id": "EpAA44Yst5sZ",
        "colab": {}
      },
      "source": [
        "learn_lm = language_model_learner(data_lm, AWD_LSTM, \n",
        "                                  drop_mult=0.3, model_dir=config_path/'My Drive/models', \n",
        "                                  callback_fns=[ShowGraph, PeakMemMetric])\n",
        "# learn_lm"
      ],
      "execution_count": 0,
      "outputs": []
    },
    {
      "cell_type": "code",
      "metadata": {
        "colab_type": "code",
        "id": "Pmmtq5EJOxod",
        "outputId": "606e0328-78fe-43f9-b966-115614740ac3",
        "colab": {
          "base_uri": "https://localhost:8080/",
          "height": 408
        }
      },
      "source": [
        "learn_lm.model[0]"
      ],
      "execution_count": 21,
      "outputs": [
        {
          "output_type": "execute_result",
          "data": {
            "text/plain": [
              "AWD_LSTM(\n",
              "  (encoder): Embedding(60000, 400, padding_idx=1)\n",
              "  (encoder_dp): EmbeddingDropout(\n",
              "    (emb): Embedding(60000, 400, padding_idx=1)\n",
              "  )\n",
              "  (rnns): ModuleList(\n",
              "    (0): WeightDropout(\n",
              "      (module): LSTM(400, 1152, batch_first=True)\n",
              "    )\n",
              "    (1): WeightDropout(\n",
              "      (module): LSTM(1152, 1152, batch_first=True)\n",
              "    )\n",
              "    (2): WeightDropout(\n",
              "      (module): LSTM(1152, 400, batch_first=True)\n",
              "    )\n",
              "  )\n",
              "  (input_dp): RNNDropout()\n",
              "  (hidden_dps): ModuleList(\n",
              "    (0): RNNDropout()\n",
              "    (1): RNNDropout()\n",
              "    (2): RNNDropout()\n",
              "  )\n",
              ")"
            ]
          },
          "metadata": {
            "tags": []
          },
          "execution_count": 21
        }
      ]
    },
    {
      "cell_type": "code",
      "metadata": {
        "colab_type": "code",
        "id": "XGDmEC1nO956",
        "outputId": "2a5a4381-c21e-4f67-ae09-7e70324d9a51",
        "colab": {
          "base_uri": "https://localhost:8080/",
          "height": 34
        }
      },
      "source": [
        "learn_lm.model[0].encoder"
      ],
      "execution_count": 22,
      "outputs": [
        {
          "output_type": "execute_result",
          "data": {
            "text/plain": [
              "Embedding(60000, 400, padding_idx=1)"
            ]
          },
          "metadata": {
            "tags": []
          },
          "execution_count": 22
        }
      ]
    },
    {
      "cell_type": "markdown",
      "metadata": {
        "colab_type": "text",
        "id": "uwxtxRAQ_9tG"
      },
      "source": [
        "## 4.2 vocab Dictionary ของ WikiText-103 "
      ]
    },
    {
      "cell_type": "markdown",
      "metadata": {
        "colab_type": "text",
        "id": "EmS9Duij_fBF"
      },
      "source": [
        "โหลด Dictionary ของ WikiText-103 ขึ้นมา \n",
        "\n",
        "Language Model ต้องมาพร้อมกับ vocab Dictionary เสมอ ไม่เช่นนั้นเราจะไม่รู้ว่า คำศัพท์ไหนเป็นคำไหน เพราะในโมเดลจะมีแต่ตัวเลข Index / Embedding"
      ]
    },
    {
      "cell_type": "code",
      "metadata": {
        "colab_type": "code",
        "id": "CfE1ch2yvXM_",
        "outputId": "443d018c-67bc-4e3b-ad86-f864d50d4177",
        "colab": {
          "base_uri": "https://localhost:8080/",
          "height": 51
        }
      },
      "source": [
        "Config().model_path().ls()"
      ],
      "execution_count": 23,
      "outputs": [
        {
          "output_type": "execute_result",
          "data": {
            "text/plain": [
              "[PosixPath('/root/.fastai/models/wt103-fwd.tgz'),\n",
              " PosixPath('/root/.fastai/models/wt103-fwd')]"
            ]
          },
          "metadata": {
            "tags": []
          },
          "execution_count": 23
        }
      ]
    },
    {
      "cell_type": "code",
      "metadata": {
        "colab_type": "code",
        "id": "60C65ahsvfSl",
        "outputId": "122775aa-1fd9-4d9e-bc2d-8574d9274179",
        "colab": {
          "base_uri": "https://localhost:8080/",
          "height": 51
        }
      },
      "source": [
        "(Config().model_path()/'wt103-fwd').ls()"
      ],
      "execution_count": 24,
      "outputs": [
        {
          "output_type": "execute_result",
          "data": {
            "text/plain": [
              "[PosixPath('/root/.fastai/models/wt103-fwd/lstm_fwd.pth'),\n",
              " PosixPath('/root/.fastai/models/wt103-fwd/itos_wt103.pkl')]"
            ]
          },
          "metadata": {
            "tags": []
          },
          "execution_count": 24
        }
      ]
    },
    {
      "cell_type": "code",
      "metadata": {
        "colab_type": "code",
        "id": "4xYT1K5fvCz5",
        "colab": {}
      },
      "source": [
        "wiki_itos = pickle.load(open(Config().model_path()/'wt103-fwd/itos_wt103.pkl', 'rb'))"
      ],
      "execution_count": 0,
      "outputs": []
    },
    {
      "cell_type": "markdown",
      "metadata": {
        "colab_type": "text",
        "id": "kuOfv_By_lJl"
      },
      "source": [
        "ดูจำนวนคำศัพท์ ตัวอย่างข้อมูล หัว / ท้าย"
      ]
    },
    {
      "cell_type": "code",
      "metadata": {
        "colab_type": "code",
        "id": "KXQCRB4VvngR",
        "outputId": "073e6464-54fc-487a-aa06-9bf709e755f9",
        "colab": {
          "base_uri": "https://localhost:8080/",
          "height": 714
        }
      },
      "source": [
        "len(wiki_itos), wiki_itos[:20], wiki_itos[-20:]"
      ],
      "execution_count": 26,
      "outputs": [
        {
          "output_type": "execute_result",
          "data": {
            "text/plain": [
              "(60000,\n",
              " ['xxunk',\n",
              "  'xxpad',\n",
              "  'xxbos',\n",
              "  'xxeos',\n",
              "  'xxfld',\n",
              "  'xxmaj',\n",
              "  'xxup',\n",
              "  'xxrep',\n",
              "  'xxwrep',\n",
              "  'the',\n",
              "  ',',\n",
              "  '.',\n",
              "  'of',\n",
              "  'and',\n",
              "  'in',\n",
              "  'to',\n",
              "  'a',\n",
              "  '=',\n",
              "  '\"',\n",
              "  'was'],\n",
              " ['repaying',\n",
              "  'ak-47',\n",
              "  'cultic',\n",
              "  'jaume',\n",
              "  'leonis',\n",
              "  'subtracting',\n",
              "  'sexed',\n",
              "  'bursa',\n",
              "  '-style',\n",
              "  'lithographs',\n",
              "  'wgbh',\n",
              "  'subsystem',\n",
              "  '831',\n",
              "  'lifelines',\n",
              "  'bergeron',\n",
              "  'adaptions',\n",
              "  'slurs',\n",
              "  'acasta',\n",
              "  'stuccoed',\n",
              "  'spellbound'])"
            ]
          },
          "metadata": {
            "tags": []
          },
          "execution_count": 26
        }
      ]
    },
    {
      "cell_type": "markdown",
      "metadata": {
        "colab_type": "text",
        "id": "0ctPsC10_2L7"
      },
      "source": [
        "## 4.3 vocab Dictionary ของ IMDB"
      ]
    },
    {
      "cell_type": "markdown",
      "metadata": {
        "colab_type": "text",
        "id": "8jSVlBNM_wKd"
      },
      "source": [
        "ดูตัวอย่างคำศัพท์ใน IMDB"
      ]
    },
    {
      "cell_type": "code",
      "metadata": {
        "colab_type": "code",
        "id": "bf3msNitBzRt",
        "colab": {}
      },
      "source": [
        "vocab = data_lm.vocab"
      ],
      "execution_count": 0,
      "outputs": []
    },
    {
      "cell_type": "code",
      "metadata": {
        "colab_type": "code",
        "id": "PVsfmHoxvqa5",
        "colab": {}
      },
      "source": [
        "imdb_itos = vocab.itos"
      ],
      "execution_count": 0,
      "outputs": []
    },
    {
      "cell_type": "code",
      "metadata": {
        "colab_type": "code",
        "id": "r6LXmiGiv4TT",
        "outputId": "b7b0c913-2e22-45dd-be73-9c657e2451ef",
        "colab": {
          "base_uri": "https://localhost:8080/",
          "height": 34
        }
      },
      "source": [
        "vocab.stoi['love']"
      ],
      "execution_count": 29,
      "outputs": [
        {
          "output_type": "execute_result",
          "data": {
            "text/plain": [
              "135"
            ]
          },
          "metadata": {
            "tags": []
          },
          "execution_count": 29
        }
      ]
    },
    {
      "cell_type": "code",
      "metadata": {
        "colab_type": "code",
        "id": "VVGeYvk2v7iV",
        "outputId": "aa8ce240-02ef-41e5-b2f2-93d5992e4c73",
        "colab": {
          "base_uri": "https://localhost:8080/",
          "height": 34
        }
      },
      "source": [
        "imdb_itos[vocab.stoi['love']]"
      ],
      "execution_count": 30,
      "outputs": [
        {
          "output_type": "execute_result",
          "data": {
            "text/plain": [
              "'love'"
            ]
          },
          "metadata": {
            "tags": []
          },
          "execution_count": 30
        }
      ]
    },
    {
      "cell_type": "code",
      "metadata": {
        "colab_type": "code",
        "id": "wsxgcOTPwBqj",
        "outputId": "648fc7ec-6d54-48b9-a440-2ccbe5d0049b",
        "colab": {
          "base_uri": "https://localhost:8080/",
          "height": 34
        }
      },
      "source": [
        "imdb_itos[vocab.stoi['Sukhumvit']]"
      ],
      "execution_count": 31,
      "outputs": [
        {
          "output_type": "execute_result",
          "data": {
            "text/plain": [
              "'xxunk'"
            ]
          },
          "metadata": {
            "tags": []
          },
          "execution_count": 31
        }
      ]
    },
    {
      "cell_type": "code",
      "metadata": {
        "colab_type": "code",
        "id": "7hV0F7P9wlAV",
        "colab": {}
      },
      "source": [
        "awd = learn_lm.model[0]"
      ],
      "execution_count": 0,
      "outputs": []
    },
    {
      "cell_type": "code",
      "metadata": {
        "colab_type": "code",
        "id": "poBP0V4SwuAb",
        "colab": {}
      },
      "source": [
        "# from scipy.spatial.distance import cosine as dist"
      ],
      "execution_count": 0,
      "outputs": []
    },
    {
      "cell_type": "code",
      "metadata": {
        "colab_type": "code",
        "id": "VgGMPHqkwycw",
        "colab": {}
      },
      "source": [
        "enc = learn_lm.model[0].encoder"
      ],
      "execution_count": 0,
      "outputs": []
    },
    {
      "cell_type": "markdown",
      "metadata": {
        "colab_type": "text",
        "id": "YYDuXodMcDKf"
      },
      "source": [
        "Embedding 400 มิติของ คำศัพท์ 60,000 คำ"
      ]
    },
    {
      "cell_type": "code",
      "metadata": {
        "colab_type": "code",
        "id": "SB4BxS8Ww2pj",
        "outputId": "e988d2b2-6841-4250-e291-60bb70e93b8a",
        "colab": {
          "base_uri": "https://localhost:8080/",
          "height": 34
        }
      },
      "source": [
        "enc.weight.size()"
      ],
      "execution_count": 35,
      "outputs": [
        {
          "output_type": "execute_result",
          "data": {
            "text/plain": [
              "torch.Size([60000, 400])"
            ]
          },
          "metadata": {
            "tags": []
          },
          "execution_count": 35
        }
      ]
    },
    {
      "cell_type": "markdown",
      "metadata": {
        "colab_type": "text",
        "id": "OxJXyP4bw5CY"
      },
      "source": [
        "## 4.4 Difference in vocab between IMDB and Wikipedia"
      ]
    },
    {
      "cell_type": "markdown",
      "metadata": {
        "colab_type": "text",
        "id": "3oIlgBj44nGZ"
      },
      "source": [
        "เปรียบเทียบ 2 vocab Dictionary พบว่า ขนาด vocab เท่ากัน"
      ]
    },
    {
      "cell_type": "code",
      "metadata": {
        "colab_type": "code",
        "id": "DGvAQvgpz1_n",
        "outputId": "fb6f52a4-a1f2-4830-b87e-9e76a3e270ab",
        "colab": {
          "base_uri": "https://localhost:8080/",
          "height": 34
        }
      },
      "source": [
        "len(wiki_itos), len(imdb_itos)"
      ],
      "execution_count": 36,
      "outputs": [
        {
          "output_type": "execute_result",
          "data": {
            "text/plain": [
              "(60000, 60000)"
            ]
          },
          "metadata": {
            "tags": []
          },
          "execution_count": 36
        }
      ]
    },
    {
      "cell_type": "markdown",
      "metadata": {
        "colab_type": "text",
        "id": "y83ReedN4qIT"
      },
      "source": [
        "แต่ข้างใน ไม่เหมือนกัน เปรียบเทียบ 10 คำศัพท์สุดท้าย"
      ]
    },
    {
      "cell_type": "code",
      "metadata": {
        "colab_type": "code",
        "id": "7CbmV8-Mz8EE",
        "outputId": "1d0ee891-3072-4ecc-8536-f844cb011ac6",
        "colab": {
          "base_uri": "https://localhost:8080/",
          "height": 357
        }
      },
      "source": [
        "wiki_itos[-10:], imdb_itos[-10:]"
      ],
      "execution_count": 37,
      "outputs": [
        {
          "output_type": "execute_result",
          "data": {
            "text/plain": [
              "(['wgbh',\n",
              "  'subsystem',\n",
              "  '831',\n",
              "  'lifelines',\n",
              "  'bergeron',\n",
              "  'adaptions',\n",
              "  'slurs',\n",
              "  'acasta',\n",
              "  'stuccoed',\n",
              "  'spellbound'],\n",
              " ['officialdom',\n",
              "  'r.c.',\n",
              "  'it´d',\n",
              "  'scrye',\n",
              "  'montegna',\n",
              "  'diffuses',\n",
              "  '30-odd',\n",
              "  'usurious',\n",
              "  'sassoon',\n",
              "  'gojo'])"
            ]
          },
          "metadata": {
            "tags": []
          },
          "execution_count": 37
        }
      ]
    },
    {
      "cell_type": "code",
      "metadata": {
        "colab_type": "code",
        "id": "GEA9kLr5z8H8",
        "colab": {}
      },
      "source": [
        "wiki_words = set(wiki_itos)\n",
        "imdb_words = set(imdb_itos)"
      ],
      "execution_count": 0,
      "outputs": []
    },
    {
      "cell_type": "markdown",
      "metadata": {
        "colab_type": "text",
        "id": "CY436t5NccYD"
      },
      "source": [
        "คำศัพท์ที่อยู่ใน vocab ของ Wiki แต่ไม่อยู่ใน vocab ของ IMDB"
      ]
    },
    {
      "cell_type": "code",
      "metadata": {
        "colab_type": "code",
        "id": "I26g1CDx6V08",
        "outputId": "7e50aa8e-9eaf-4a23-a334-c320b66dd13a",
        "colab": {
          "base_uri": "https://localhost:8080/",
          "height": 374
        }
      },
      "source": [
        "wiki_not_imdb = wiki_words.difference(imdb_words)\n",
        "len(wiki_not_imdb), [val for i, val in enumerate(itertools.islice(wiki_not_imdb, 20))]"
      ],
      "execution_count": 39,
      "outputs": [
        {
          "output_type": "execute_result",
          "data": {
            "text/plain": [
              "(24252,\n",
              " ['riverton',\n",
              "  'gálvez',\n",
              "  'sof',\n",
              "  'elmham',\n",
              "  'parkour',\n",
              "  'garten',\n",
              "  '659',\n",
              "  'reinterpretation',\n",
              "  'catharines',\n",
              "  'minardi',\n",
              "  'carlota',\n",
              "  '48-yard',\n",
              "  'laidlaw',\n",
              "  'pyrite',\n",
              "  'comix',\n",
              "  '3,900',\n",
              "  'stockport',\n",
              "  'foxe',\n",
              "  'thulium',\n",
              "  '1809'])"
            ]
          },
          "metadata": {
            "tags": []
          },
          "execution_count": 39
        }
      ]
    },
    {
      "cell_type": "markdown",
      "metadata": {
        "colab_type": "text",
        "id": "6Sgs5yytcmMH"
      },
      "source": [
        "คำศัพท์ที่อยู่ใน vocab ของ IMDB แต่ไม่อยู่ใน vocab ของ Wiki"
      ]
    },
    {
      "cell_type": "code",
      "metadata": {
        "colab_type": "code",
        "id": "srgNlWXU7CSf",
        "outputId": "51914bc4-d6e1-49b1-9806-461419377ad8",
        "colab": {
          "base_uri": "https://localhost:8080/",
          "height": 374
        }
      },
      "source": [
        "imdb_not_wiki = imdb_words.difference(wiki_words)\n",
        "len(imdb_not_wiki), [val for i, val in enumerate(itertools.islice(imdb_not_wiki, 20))]"
      ],
      "execution_count": 40,
      "outputs": [
        {
          "output_type": "execute_result",
          "data": {
            "text/plain": [
              "(24252,\n",
              " ['pederast',\n",
              "  'scams',\n",
              "  'appeasing',\n",
              "  'prowler',\n",
              "  'sultanpuri',\n",
              "  'atavistic',\n",
              "  'skateboards',\n",
              "  'modernistic',\n",
              "  'doogie',\n",
              "  'magnify',\n",
              "  'imbecility',\n",
              "  'hakufu',\n",
              "  '\\x85 \\n \\n ',\n",
              "  'soper',\n",
              "  'kushrenada',\n",
              "  'broeck',\n",
              "  'snarf',\n",
              "  'junge',\n",
              "  'ripoffs',\n",
              "  'dillman'])"
            ]
          },
          "metadata": {
            "tags": []
          },
          "execution_count": 40
        }
      ]
    },
    {
      "cell_type": "markdown",
      "metadata": {
        "colab_type": "text",
        "id": "6FjdprgSz8Ls"
      },
      "source": [
        "## 4.5 Out of vocab Initialization"
      ]
    },
    {
      "cell_type": "markdown",
      "metadata": {
        "colab_type": "text",
        "id": "HEX-G1NeDvvo"
      },
      "source": [
        "คำว่า verification อยู่ใน vocab ของ WikiText-103 แต่ไม่อยู่ใน IMDB"
      ]
    },
    {
      "cell_type": "code",
      "metadata": {
        "colab_type": "code",
        "id": "9GnBSMKWBdbf",
        "outputId": "ce6acc1f-0349-4dc0-a3e1-5907d87fbd7d",
        "colab": {
          "base_uri": "https://localhost:8080/",
          "height": 34
        }
      },
      "source": [
        "w = \"verification\"\n",
        "vocab.stoi[w], w in wiki_words, w in imdb_words"
      ],
      "execution_count": 41,
      "outputs": [
        {
          "output_type": "execute_result",
          "data": {
            "text/plain": [
              "(0, True, False)"
            ]
          },
          "metadata": {
            "tags": []
          },
          "execution_count": 41
        }
      ]
    },
    {
      "cell_type": "markdown",
      "metadata": {
        "colab_type": "text",
        "id": "rG340TnuD8lb"
      },
      "source": [
        "คำเหล่านี้ อยู่ใน vocab ของ IMDB แต่ไม่อยู่ใน WikiText-103 เราจะ Initialize Embedding ของคำเหล่านี้ แบบ Random"
      ]
    },
    {
      "cell_type": "code",
      "metadata": {
        "colab_type": "code",
        "id": "bEyYvwpRBdk3",
        "outputId": "67edea53-bab7-42b3-ef97-a44441875f4f",
        "colab": {
          "base_uri": "https://localhost:8080/",
          "height": 34
        }
      },
      "source": [
        "w = \"senselessness\"\n",
        "vocab.stoi[w], w in wiki_words, w in imdb_words"
      ],
      "execution_count": 42,
      "outputs": [
        {
          "output_type": "execute_result",
          "data": {
            "text/plain": [
              "(38962, False, True)"
            ]
          },
          "metadata": {
            "tags": []
          },
          "execution_count": 42
        }
      ]
    },
    {
      "cell_type": "code",
      "metadata": {
        "colab_type": "code",
        "id": "B0O90Wr9BdQt",
        "outputId": "284db057-209f-485d-8425-d3f38ceca1a7",
        "colab": {
          "base_uri": "https://localhost:8080/",
          "height": 34
        }
      },
      "source": [
        "w = \"unthinking\"\n",
        "vocab.stoi[w], w in wiki_words, w in imdb_words"
      ],
      "execution_count": 43,
      "outputs": [
        {
          "output_type": "execute_result",
          "data": {
            "text/plain": [
              "(26417, False, True)"
            ]
          },
          "metadata": {
            "tags": []
          },
          "execution_count": 43
        }
      ]
    },
    {
      "cell_type": "code",
      "metadata": {
        "colab_type": "code",
        "id": "TSTzwd_VDTcy",
        "outputId": "93dcf753-442e-427b-84be-513754a5060b",
        "colab": {
          "base_uri": "https://localhost:8080/",
          "height": 34
        }
      },
      "source": [
        "w = \"forklift\"\n",
        "vocab.stoi[w], w in wiki_words, w in imdb_words"
      ],
      "execution_count": 44,
      "outputs": [
        {
          "output_type": "execute_result",
          "data": {
            "text/plain": [
              "(46579, False, True)"
            ]
          },
          "metadata": {
            "tags": []
          },
          "execution_count": 44
        }
      ]
    },
    {
      "cell_type": "markdown",
      "metadata": {
        "colab_type": "text",
        "id": "HJhTUIXUEPfa"
      },
      "source": [
        "Initialize ด้วยค่า Random เล็ก ๆ ใกล้เคียงกัน"
      ]
    },
    {
      "cell_type": "code",
      "metadata": {
        "colab_type": "code",
        "id": "y84tzwkFDThw",
        "outputId": "6d46e41e-34c3-40d5-8778-1ce252443284",
        "colab": {
          "base_uri": "https://localhost:8080/",
          "height": 34
        }
      },
      "source": [
        "np.allclose(enc.weight[vocab.stoi['senselessness'], :], \n",
        "            enc.weight[vocab.stoi['unthinking'], :])"
      ],
      "execution_count": 45,
      "outputs": [
        {
          "output_type": "execute_result",
          "data": {
            "text/plain": [
              "True"
            ]
          },
          "metadata": {
            "tags": []
          },
          "execution_count": 45
        }
      ]
    },
    {
      "cell_type": "markdown",
      "metadata": {
        "colab_type": "text",
        "id": "SDXN4bAVEzAt"
      },
      "source": [
        "แต่ถ้าเทียบกับ Embedding ที่เทรนเรียบร้อยแล้ว ก็จะต่างกันมาก"
      ]
    },
    {
      "cell_type": "code",
      "metadata": {
        "colab_type": "code",
        "id": "JsG37-4nEolQ",
        "outputId": "08dafc42-8929-405e-83e2-ad4a6eda7700",
        "colab": {
          "base_uri": "https://localhost:8080/",
          "height": 34
        }
      },
      "source": [
        "np.allclose(enc.weight[vocab.stoi['senselessness'], :], \n",
        "            enc.weight[vocab.stoi['capital'], :])"
      ],
      "execution_count": 46,
      "outputs": [
        {
          "output_type": "execute_result",
          "data": {
            "text/plain": [
              "False"
            ]
          },
          "metadata": {
            "tags": []
          },
          "execution_count": 46
        }
      ]
    },
    {
      "cell_type": "markdown",
      "metadata": {
        "colab_type": "text",
        "id": "GtBBnw2tHJ6E"
      },
      "source": [
        "3 คำแรกมีใน IMDB แต่คำสุดท้ายไม่มี"
      ]
    },
    {
      "cell_type": "code",
      "metadata": {
        "colab_type": "code",
        "id": "yUqteZUSGlig",
        "outputId": "98c65abc-f85a-446d-9898-3d0add355628",
        "colab": {
          "base_uri": "https://localhost:8080/",
          "height": 34
        }
      },
      "source": [
        "vocab.stoi['senselessness'], vocab.stoi['unthinking'], vocab.stoi['capital'], vocab.stoi['cpu']"
      ],
      "execution_count": 47,
      "outputs": [
        {
          "output_type": "execute_result",
          "data": {
            "text/plain": [
              "(38962, 26417, 5919, 0)"
            ]
          },
          "metadata": {
            "tags": []
          },
          "execution_count": 47
        }
      ]
    },
    {
      "cell_type": "markdown",
      "metadata": {
        "colab_type": "text",
        "id": "NtLiaEhrdovW"
      },
      "source": [
        "ดู Embedding ของคำที่มีใน IMDB แต่ไม่มีใน Wiki จะเห็นว่าเท่ากันมีค่าเท่ากัน"
      ]
    },
    {
      "cell_type": "code",
      "metadata": {
        "colab_type": "code",
        "id": "QrQw3b1bFSip",
        "outputId": "c02bd307-4434-4898-fb04-ec22e8f976be",
        "colab": {
          "base_uri": "https://localhost:8080/",
          "height": 153
        }
      },
      "source": [
        "len(enc.weight[vocab.stoi['senselessness'], :]), enc.weight[vocab.stoi['senselessness'], :][:50]"
      ],
      "execution_count": 48,
      "outputs": [
        {
          "output_type": "execute_result",
          "data": {
            "text/plain": [
              "(400,\n",
              " tensor([ 0.0253,  0.0026,  0.0423, -0.0274, -0.0110, -0.0100, -0.0628,  0.1794,\n",
              "         -0.1275, -0.2096, -0.0124, -0.0056, -0.0505, -0.0501, -0.0428,  0.1726,\n",
              "         -0.0650, -0.0571, -0.1103,  0.0186,  0.0053, -0.0059,  0.0299,  0.0192,\n",
              "         -0.0240,  0.1432, -0.1064, -0.0097,  0.0100, -0.0399,  0.0282,  0.0319,\n",
              "          0.1297,  0.0687, -0.0047,  0.0168,  0.0201,  0.1346, -0.0336, -0.0449,\n",
              "          0.0265, -0.0756, -0.0225,  0.0196,  0.0221,  0.0214,  0.0077, -0.1311,\n",
              "         -0.1357, -0.0128], device='cuda:0', grad_fn=<SliceBackward>))"
            ]
          },
          "metadata": {
            "tags": []
          },
          "execution_count": 48
        }
      ]
    },
    {
      "cell_type": "code",
      "metadata": {
        "colab_type": "code",
        "id": "FRpJWER7GFSY",
        "outputId": "083c8322-ef52-42d3-89ea-2c368f9161b9",
        "colab": {
          "base_uri": "https://localhost:8080/",
          "height": 153
        }
      },
      "source": [
        "len(enc.weight[vocab.stoi['unthinking'], :]), enc.weight[vocab.stoi['unthinking'], :][:50]"
      ],
      "execution_count": 49,
      "outputs": [
        {
          "output_type": "execute_result",
          "data": {
            "text/plain": [
              "(400,\n",
              " tensor([ 0.0253,  0.0026,  0.0423, -0.0274, -0.0110, -0.0100, -0.0628,  0.1794,\n",
              "         -0.1275, -0.2096, -0.0124, -0.0056, -0.0505, -0.0501, -0.0428,  0.1726,\n",
              "         -0.0650, -0.0571, -0.1103,  0.0186,  0.0053, -0.0059,  0.0299,  0.0192,\n",
              "         -0.0240,  0.1432, -0.1064, -0.0097,  0.0100, -0.0399,  0.0282,  0.0319,\n",
              "          0.1297,  0.0687, -0.0047,  0.0168,  0.0201,  0.1346, -0.0336, -0.0449,\n",
              "          0.0265, -0.0756, -0.0225,  0.0196,  0.0221,  0.0214,  0.0077, -0.1311,\n",
              "         -0.1357, -0.0128], device='cuda:0', grad_fn=<SliceBackward>))"
            ]
          },
          "metadata": {
            "tags": []
          },
          "execution_count": 49
        }
      ]
    },
    {
      "cell_type": "markdown",
      "metadata": {
        "colab_type": "text",
        "id": "wlDb_b1IewHL"
      },
      "source": [
        "ต่างกับค่าที่มีใน Wiki"
      ]
    },
    {
      "cell_type": "code",
      "metadata": {
        "colab_type": "code",
        "id": "YGPMubi2GBjy",
        "outputId": "71d1fd3b-af4a-4252-9157-341e85fd9452",
        "colab": {
          "base_uri": "https://localhost:8080/",
          "height": 153
        }
      },
      "source": [
        "len(enc.weight[vocab.stoi['capital'], :]), enc.weight[vocab.stoi['capital'], :][:50]"
      ],
      "execution_count": 50,
      "outputs": [
        {
          "output_type": "execute_result",
          "data": {
            "text/plain": [
              "(400,\n",
              " tensor([-0.2566,  0.1062,  0.3081,  0.2742,  0.1667, -0.1626, -0.5122, -0.1261,\n",
              "          0.4548, -0.4177, -0.1565,  0.0752,  0.2253,  0.2031, -0.3125,  0.0310,\n",
              "          0.5112, -0.3691, -0.2947, -0.0168, -0.1147,  0.3074, -0.1654, -0.2202,\n",
              "          0.0538, -0.4041,  0.1666, -0.0109, -0.2803,  0.3044, -0.2279,  0.1786,\n",
              "         -0.2502, -0.2334,  0.4438,  0.2404,  0.1746,  0.1509,  0.0351,  0.2844,\n",
              "         -0.0244, -0.2031,  0.1228, -0.2357, -0.2065,  0.5811,  0.1338,  0.4087,\n",
              "         -0.5034, -0.0150], device='cuda:0', grad_fn=<SliceBackward>))"
            ]
          },
          "metadata": {
            "tags": []
          },
          "execution_count": 50
        }
      ]
    },
    {
      "cell_type": "markdown",
      "metadata": {
        "colab_type": "text",
        "id": "Yk6CdXube1oa"
      },
      "source": [
        "## 4.6 Fake Movie Reviews from WikiText Language Model"
      ]
    },
    {
      "cell_type": "markdown",
      "metadata": {
        "id": "6ykkLNtxF111",
        "colab_type": "text"
      },
      "source": [
        "เราจะลองใช้ Language Model ที่ Pre-Train จาก Wikipedia มาลองสร้าง รีวิวหนัง Movie Reviews ดูว่าจะเป็นอย่างไร"
      ]
    },
    {
      "cell_type": "markdown",
      "metadata": {
        "colab_type": "text",
        "id": "OAXmJylQLQuY"
      },
      "source": [
        "ชอบหนังเรื่องนี้เพราะว่า"
      ]
    },
    {
      "cell_type": "code",
      "metadata": {
        "colab_type": "code",
        "id": "nFwfZm09e1dw",
        "colab": {}
      },
      "source": [
        "TEXT = \"I loved this film because\"\n",
        "N_WORDS = 60\n",
        "N_SENTENCES = 3"
      ],
      "execution_count": 0,
      "outputs": []
    },
    {
      "cell_type": "code",
      "metadata": {
        "colab_type": "code",
        "id": "d6AUXgrde1Sc",
        "outputId": "653ee9a8-26a8-44ae-b404-0740fe1c6d7f",
        "colab": {
          "base_uri": "https://localhost:8080/",
          "height": 88
        }
      },
      "source": [
        "print(\"\\n\".join(learn_lm.predict(TEXT, N_WORDS, temperature=0.75) for _ in range(N_SENTENCES)))"
      ],
      "execution_count": 52,
      "outputs": [
        {
          "output_type": "stream",
          "text": [
            "I loved this film because of its allusions to the theme of hopkins . In the films , Jenny Collins uses it to enhance her imagination in the movie . In the film , Brittany is shown as a teenage girl in a small town , but when Brittany goes to school , she 's able to get away\n",
            "I loved this film because of its similarities to the original film . The film is considered a lesson in terms of drama and cinematography in contrast to the style of many other productions . The opening scene also shows a scene of Elizabeth and Lindsay delivering Peter 's mother to the television . It was originally written when\n",
            "I loved this film because i was a fan of the Star Wars films . So i felt that after the film aired , i had the idea of making a movie . But that was very natural to me . It was a great film and i was very happy with it . i wanted to write a film\n"
          ],
          "name": "stdout"
        }
      ]
    },
    {
      "cell_type": "markdown",
      "metadata": {
        "colab_type": "text",
        "id": "Dh1Lx42-e1Hn"
      },
      "source": [
        "ไม่ชอบหนังเรื่องนี้เพราะว่า"
      ]
    },
    {
      "cell_type": "code",
      "metadata": {
        "colab_type": "code",
        "id": "M7cwr8R_K-7N",
        "colab": {}
      },
      "source": [
        "TEXT = \"I hated this movie because\"\n",
        "N_WORDS = 60\n",
        "N_SENTENCES = 3"
      ],
      "execution_count": 0,
      "outputs": []
    },
    {
      "cell_type": "code",
      "metadata": {
        "colab_type": "code",
        "id": "MWjBneZlK-7Y",
        "outputId": "3afb7180-9e8e-4aa3-b4ec-d2e2affa7f71",
        "colab": {
          "base_uri": "https://localhost:8080/",
          "height": 88
        }
      },
      "source": [
        "print(\"\\n\".join(learn_lm.predict(TEXT, N_WORDS, temperature=0.75) for _ in range(N_SENTENCES)))"
      ],
      "execution_count": 54,
      "outputs": [
        {
          "output_type": "stream",
          "text": [
            "I hated this movie because of its resemblance to the two Stephen King films that were raj by other actors . In 1997 , Clues Online magazine listed Snowball II 's Slash as the ones that had the most explicit character name . In order to expressed interest in Defended Bush , the character\n",
            "I hated this movie because \" it doesn ' t matter how quickly the movie begins to realize that it 's going to be a movie . There are no other boys who do it . \" The film is also the first American film to use a third - person perspective . The British film industry was skeptical of\n",
            "I hated this movie because of its creative style . In the 1990s , the films were a part of a long - running film that incorporated the \" dark \" themes from American horror films , including the Discovery Channel series The Evil Dead , and the film The Lion King . On\n"
          ],
          "name": "stdout"
        }
      ]
    },
    {
      "cell_type": "markdown",
      "metadata": {
        "colab_type": "text",
        "id": "qobUE-6be08L"
      },
      "source": [
        "หนังเรื่องนี้ ... จริง ๆ"
      ]
    },
    {
      "cell_type": "code",
      "metadata": {
        "colab_type": "code",
        "id": "SACKmLUsL5SE",
        "colab": {}
      },
      "source": [
        "TEXT = \"This movie is really\"\n",
        "N_WORDS = 60\n",
        "N_SENTENCES = 3"
      ],
      "execution_count": 0,
      "outputs": []
    },
    {
      "cell_type": "code",
      "metadata": {
        "colab_type": "code",
        "id": "fNGx-oNdL5SW",
        "outputId": "f32a4eba-3e89-4877-f275-7291de717f6f",
        "colab": {
          "base_uri": "https://localhost:8080/",
          "height": 88
        }
      },
      "source": [
        "print(\"\\n\".join(learn_lm.predict(TEXT, N_WORDS, temperature=0.75) for _ in range(N_SENTENCES)))"
      ],
      "execution_count": 56,
      "outputs": [
        {
          "output_type": "stream",
          "text": [
            "This movie is really based on the novel The Hills of Truth by British author Philip Lawrence , based on the song \" The Boat \" . The episode features a new character , Bill Henry , based on a real - life U.S. Army general who would have been painted\n",
            "This movie is really about the United States and Germany . It is the first UK drama about The Red Hot Chili Peppers , which is the first in a series of worldwide films . The film was made with the exception of The Best of John Lennon ,\n",
            "This movie is really the first in a series of films , which do not feature a narrative in the first person . The first two cents are based on the same theory of Gilbert Scott . The third is the James Bond film , The Devil 's Dyke Schoolteachers , and also the\n"
          ],
          "name": "stdout"
        }
      ]
    },
    {
      "cell_type": "markdown",
      "metadata": {
        "id": "ii9JaqRiGI9D",
        "colab_type": "text"
      },
      "source": [
        "จะเห็นว่า รีวิวหนังที่ได้ ค่อนข้างจะมีความเป็น Wikpedia อยู่มาก สำนวน คำศัพท์ต่าง ๆ ไม่ค่อยเหมือนรีวิวหนังทั่วไป"
      ]
    },
    {
      "cell_type": "markdown",
      "metadata": {
        "colab_type": "text",
        "id": "ChqrRbWje0w_"
      },
      "source": [
        "ลองลด temperature ลง ทำให้ข้อความ Random น้อยลง รีวิวหนังที่ได้จะคล้าย ๆ กันมากขึ้น"
      ]
    },
    {
      "cell_type": "code",
      "metadata": {
        "colab_type": "code",
        "id": "4pr4SUTzNVWZ",
        "colab": {}
      },
      "source": [
        "TEXT = \"This movie is really\"\n",
        "N_WORDS = 60\n",
        "N_SENTENCES = 3"
      ],
      "execution_count": 0,
      "outputs": []
    },
    {
      "cell_type": "code",
      "metadata": {
        "colab_type": "code",
        "id": "35UjPxCXNVWf",
        "outputId": "80b3f72b-776e-48ff-d8d8-3b744c241a14",
        "colab": {
          "base_uri": "https://localhost:8080/",
          "height": 88
        }
      },
      "source": [
        "print(\"\\n\".join(learn_lm.predict(TEXT, N_WORDS, temperature=0.1) for _ in range(N_SENTENCES)))"
      ],
      "execution_count": 58,
      "outputs": [
        {
          "output_type": "stream",
          "text": [
            "This movie is really a British film , and it is a film that is not a direct sequel to The Lord of the Rings . The film was released on DVD in November 2009 , and in Europe on March 25 , 2010 . The film was released on DVD in\n",
            "This movie is really a Hollywood film , and it is a film that is not a direct sequel to The Legend of Zelda : The Legend of Zelda : The Adventure of Time . The film was released on November 8 , 2005 , and was released on November 19\n",
            "This movie is really a British film , and it is a British film . The film was released in North America on November 1 , 2007 , and in Australia on March 19 , 2008 . The film was released in North America on March 15 , 2008 , and in\n"
          ],
          "name": "stdout"
        }
      ]
    },
    {
      "cell_type": "markdown",
      "metadata": {
        "colab_type": "text",
        "id": "GmisUEAANW7s"
      },
      "source": [
        "# 5. Train Model"
      ]
    },
    {
      "cell_type": "markdown",
      "metadata": {
        "colab_type": "text",
        "id": "BoXFdZQFTenY"
      },
      "source": [
        "## 5.1 Train Last Layer"
      ]
    },
    {
      "cell_type": "markdown",
      "metadata": {
        "colab_type": "text",
        "id": "pvvXFNsEUAB4"
      },
      "source": [
        "เทรน Layer สุดท้าย"
      ]
    },
    {
      "cell_type": "code",
      "metadata": {
        "colab_type": "code",
        "id": "lKwL_MTmNXBg",
        "outputId": "641c8f02-6521-43ab-dfd2-aac5bca2da30",
        "colab": {
          "base_uri": "https://localhost:8080/",
          "height": 330
        }
      },
      "source": [
        "learn_lm.lr_find()\n",
        "learn_lm.recorder.plot(suggestion=True)"
      ],
      "execution_count": 59,
      "outputs": [
        {
          "output_type": "display_data",
          "data": {
            "text/html": [
              ""
            ],
            "text/plain": [
              "<IPython.core.display.HTML object>"
            ]
          },
          "metadata": {
            "tags": []
          }
        },
        {
          "output_type": "stream",
          "text": [
            "LR Finder is complete, type {learner_name}.recorder.plot() to see the graph.\n",
            "Min numerical gradient: 5.75E-06\n",
            "Min loss divided by 10: 5.75E-03\n"
          ],
          "name": "stdout"
        },
        {
          "output_type": "display_data",
          "data": {
            "image/png": "[encoded data removed]",
            "text/plain": [
              "<Figure size 432x288 with 1 Axes>"
            ]
          },
          "metadata": {
            "tags": []
          }
        }
      ]
    },
    {
      "cell_type": "code",
      "metadata": {
        "colab_type": "code",
        "id": "n_V0rW6sNXGe",
        "colab": {}
      },
      "source": [
        "lr = 1e-2"
      ],
      "execution_count": 0,
      "outputs": []
    },
    {
      "cell_type": "code",
      "metadata": {
        "colab_type": "code",
        "id": "_AU3fwPXNXK5",
        "colab": {}
      },
      "source": [
        "learn_lm.to_fp16();"
      ],
      "execution_count": 0,
      "outputs": []
    },
    {
      "cell_type": "code",
      "metadata": {
        "colab_type": "code",
        "id": "QmQlysxnRfIt",
        "outputId": "4ac457f0-9a60-4cd1-95e1-99567a45a8a5",
        "colab": {
          "base_uri": "https://localhost:8080/",
          "height": 328
        }
      },
      "source": [
        "learn_lm.fit_one_cycle(1, lr, moms=(0.8, 0.7), \n",
        "                       callbacks=[SaveModelCallback(learn_lm, every='epoch', monitor='accuracy')])"
      ],
      "execution_count": 62,
      "outputs": [
        {
          "output_type": "display_data",
          "data": {
            "text/html": [
              "<table border=\"1\" class=\"dataframe\">\n",
              "  <thead>\n",
              "    <tr style=\"text-align: left;\">\n",
              "      <th>epoch</th>\n",
              "      <th>train_loss</th>\n",
              "      <th>valid_loss</th>\n",
              "      <th>accuracy</th>\n",
              "      <th>cpu used</th>\n",
              "      <th>peak</th>\n",
              "      <th>gpu used</th>\n",
              "      <th>peak</th>\n",
              "      <th>time</th>\n",
              "    </tr>\n",
              "  </thead>\n",
              "  <tbody>\n",
              "    <tr>\n",
              "      <td>0</td>\n",
              "      <td>4.123864</td>\n",
              "      <td>4.100370</td>\n",
              "      <td>0.300000</td>\n",
              "      <td>1</td>\n",
              "      <td>1</td>\n",
              "      <td>-200</td>\n",
              "      <td>4104</td>\n",
              "      <td>20:21</td>\n",
              "    </tr>\n",
              "  </tbody>\n",
              "</table>"
            ],
            "text/plain": [
              "<IPython.core.display.HTML object>"
            ]
          },
          "metadata": {
            "tags": []
          }
        },
        {
          "output_type": "display_data",
          "data": {
            "image/png": "[encoded data removed]",
            "text/plain": [
              "<Figure size 432x288 with 1 Axes>"
            ]
          },
          "metadata": {
            "tags": []
          }
        }
      ]
    },
    {
      "cell_type": "code",
      "metadata": {
        "colab_type": "code",
        "id": "dj83i97WNXPi",
        "colab": {}
      },
      "source": [
        "learn_lm.save(\"26g-01\")"
      ],
      "execution_count": 0,
      "outputs": []
    },
    {
      "cell_type": "code",
      "metadata": {
        "colab_type": "code",
        "id": "B5z_yEQ8NXUL",
        "colab": {}
      },
      "source": [
        "learn_lm.load(\"26g-01\");"
      ],
      "execution_count": 0,
      "outputs": []
    },
    {
      "cell_type": "markdown",
      "metadata": {
        "colab_type": "text",
        "id": "IpFp-HQ_SMxG"
      },
      "source": [
        "## 5.2 Unfreeze and Train whole model"
      ]
    },
    {
      "cell_type": "code",
      "metadata": {
        "colab_type": "code",
        "id": "wX73rJRYSJhF",
        "colab": {}
      },
      "source": [
        "learn_lm.unfreeze()"
      ],
      "execution_count": 0,
      "outputs": []
    },
    {
      "cell_type": "code",
      "metadata": {
        "colab_type": "code",
        "id": "yQkYeJBnSJmE",
        "colab": {
          "base_uri": "https://localhost:8080/",
          "height": 330
        },
        "outputId": "859735eb-beea-411d-c3a4-eafd6a917d3b"
      },
      "source": [
        "learn_lm.lr_find()\n",
        "learn_lm.recorder.plot(suggestion=True)"
      ],
      "execution_count": 65,
      "outputs": [
        {
          "output_type": "display_data",
          "data": {
            "text/html": [
              ""
            ],
            "text/plain": [
              "<IPython.core.display.HTML object>"
            ]
          },
          "metadata": {
            "tags": []
          }
        },
        {
          "output_type": "stream",
          "text": [
            "LR Finder is complete, type {learner_name}.recorder.plot() to see the graph.\n",
            "Min numerical gradient: 6.31E-07\n",
            "Min loss divided by 10: 9.12E-08\n"
          ],
          "name": "stdout"
        },
        {
          "output_type": "display_data",
          "data": {
            "image/png": "[encoded data removed]",
            "text/plain": [
              "<Figure size 432x288 with 1 Axes>"
            ]
          },
          "metadata": {
            "tags": []
          }
        }
      ]
    },
    {
      "cell_type": "code",
      "metadata": {
        "colab_type": "code",
        "id": "R2-Zn1GCSJrI",
        "colab": {}
      },
      "source": [
        "lr = slice(3e-6, 3e-3)"
      ],
      "execution_count": 0,
      "outputs": []
    },
    {
      "cell_type": "code",
      "metadata": {
        "colab_type": "code",
        "id": "IOL9Nyv6SJvy",
        "colab": {
          "base_uri": "https://localhost:8080/",
          "height": 607
        },
        "outputId": "67bada75-7495-4674-fdf9-43dffc06d147"
      },
      "source": [
        "learn_lm.fit_one_cycle(10, max_lr=lr, moms=(0.8, 0.7), \n",
        "                      callbacks=[SaveModelCallback(learn_lm, every='epoch', monitor='accuracy')])"
      ],
      "execution_count": 67,
      "outputs": [
        {
          "output_type": "display_data",
          "data": {
            "text/html": [
              "<table border=\"1\" class=\"dataframe\">\n",
              "  <thead>\n",
              "    <tr style=\"text-align: left;\">\n",
              "      <th>epoch</th>\n",
              "      <th>train_loss</th>\n",
              "      <th>valid_loss</th>\n",
              "      <th>accuracy</th>\n",
              "      <th>cpu used</th>\n",
              "      <th>peak</th>\n",
              "      <th>gpu used</th>\n",
              "      <th>peak</th>\n",
              "      <th>time</th>\n",
              "    </tr>\n",
              "  </thead>\n",
              "  <tbody>\n",
              "    <tr>\n",
              "      <td>0</td>\n",
              "      <td>3.939306</td>\n",
              "      <td>3.985536</td>\n",
              "      <td>0.300000</td>\n",
              "      <td>0</td>\n",
              "      <td>0</td>\n",
              "      <td>-2</td>\n",
              "      <td>4618</td>\n",
              "      <td>23:17</td>\n",
              "    </tr>\n",
              "    <tr>\n",
              "      <td>1</td>\n",
              "      <td>3.921177</td>\n",
              "      <td>4.018639</td>\n",
              "      <td>0.314286</td>\n",
              "      <td>1</td>\n",
              "      <td>1</td>\n",
              "      <td>0</td>\n",
              "      <td>4620</td>\n",
              "      <td>23:18</td>\n",
              "    </tr>\n",
              "    <tr>\n",
              "      <td>2</td>\n",
              "      <td>3.870077</td>\n",
              "      <td>3.962120</td>\n",
              "      <td>0.300000</td>\n",
              "      <td>1</td>\n",
              "      <td>1</td>\n",
              "      <td>0</td>\n",
              "      <td>4620</td>\n",
              "      <td>23:17</td>\n",
              "    </tr>\n",
              "    <tr>\n",
              "      <td>3</td>\n",
              "      <td>3.821481</td>\n",
              "      <td>3.835240</td>\n",
              "      <td>0.285714</td>\n",
              "      <td>1</td>\n",
              "      <td>1</td>\n",
              "      <td>0</td>\n",
              "      <td>4620</td>\n",
              "      <td>23:22</td>\n",
              "    </tr>\n",
              "    <tr>\n",
              "      <td>4</td>\n",
              "      <td>3.800610</td>\n",
              "      <td>3.801917</td>\n",
              "      <td>0.285714</td>\n",
              "      <td>1</td>\n",
              "      <td>1</td>\n",
              "      <td>0</td>\n",
              "      <td>4620</td>\n",
              "      <td>23:18</td>\n",
              "    </tr>\n",
              "    <tr>\n",
              "      <td>5</td>\n",
              "      <td>3.744155</td>\n",
              "      <td>3.772275</td>\n",
              "      <td>0.300000</td>\n",
              "      <td>1</td>\n",
              "      <td>1</td>\n",
              "      <td>0</td>\n",
              "      <td>4620</td>\n",
              "      <td>23:28</td>\n",
              "    </tr>\n",
              "    <tr>\n",
              "      <td>6</td>\n",
              "      <td>3.714456</td>\n",
              "      <td>3.744945</td>\n",
              "      <td>0.314286</td>\n",
              "      <td>1</td>\n",
              "      <td>1</td>\n",
              "      <td>0</td>\n",
              "      <td>4620</td>\n",
              "      <td>23:22</td>\n",
              "    </tr>\n",
              "    <tr>\n",
              "      <td>7</td>\n",
              "      <td>3.699814</td>\n",
              "      <td>3.759515</td>\n",
              "      <td>0.285714</td>\n",
              "      <td>1</td>\n",
              "      <td>1</td>\n",
              "      <td>0</td>\n",
              "      <td>4620</td>\n",
              "      <td>23:20</td>\n",
              "    </tr>\n",
              "    <tr>\n",
              "      <td>8</td>\n",
              "      <td>3.654778</td>\n",
              "      <td>3.742450</td>\n",
              "      <td>0.285714</td>\n",
              "      <td>2</td>\n",
              "      <td>2</td>\n",
              "      <td>0</td>\n",
              "      <td>4620</td>\n",
              "      <td>23:18</td>\n",
              "    </tr>\n",
              "    <tr>\n",
              "      <td>9</td>\n",
              "      <td>3.625699</td>\n",
              "      <td>3.746034</td>\n",
              "      <td>0.285714</td>\n",
              "      <td>2</td>\n",
              "      <td>2</td>\n",
              "      <td>0</td>\n",
              "      <td>4620</td>\n",
              "      <td>23:19</td>\n",
              "    </tr>\n",
              "  </tbody>\n",
              "</table>"
            ],
            "text/plain": [
              "<IPython.core.display.HTML object>"
            ]
          },
          "metadata": {
            "tags": []
          }
        },
        {
          "output_type": "display_data",
          "data": {
            "image/png": "[encoded data removed]",
            "text/plain": [
              "<Figure size 432x288 with 1 Axes>"
            ]
          },
          "metadata": {
            "tags": []
          }
        }
      ]
    },
    {
      "cell_type": "code",
      "metadata": {
        "colab_type": "code",
        "id": "nJcGgzYCSJ3P",
        "colab": {}
      },
      "source": [
        "learn_lm.save(\"26g-02\")"
      ],
      "execution_count": 0,
      "outputs": []
    },
    {
      "cell_type": "code",
      "metadata": {
        "colab_type": "code",
        "id": "VH8dZeaHSKAc",
        "colab": {}
      },
      "source": [
        "learn_lm.save_encoder(\"26g-02-enc\")"
      ],
      "execution_count": 0,
      "outputs": []
    },
    {
      "cell_type": "code",
      "metadata": {
        "colab_type": "code",
        "id": "Vxv2WUhzSJ8Y",
        "colab": {}
      },
      "source": [
        "learn_lm.load(\"26g-02\");"
      ],
      "execution_count": 0,
      "outputs": []
    },
    {
      "cell_type": "markdown",
      "metadata": {
        "colab_type": "text",
        "id": "DFMYILC7SKEk"
      },
      "source": [
        "## 5.3 Check Embedding Again"
      ]
    },
    {
      "cell_type": "markdown",
      "metadata": {
        "id": "Rr17-lPbT45u",
        "colab_type": "text"
      },
      "source": [
        "ลองเช็คอีกครั้ง หลังจากเทรนเสร็จแล้ว Embedding ของทั้ง 2 คำ มีค่าต่างกันแล้ว"
      ]
    },
    {
      "cell_type": "code",
      "metadata": {
        "colab_type": "code",
        "id": "PBLu-lfDUWJX",
        "outputId": "2028ca9d-89a6-431b-ae73-13cce488e1a4",
        "colab": {
          "base_uri": "https://localhost:8080/",
          "height": 34
        }
      },
      "source": [
        "np.allclose(enc.weight[vocab.stoi['senselessness'], :], \n",
        "            enc.weight[vocab.stoi['unthinking'], :])"
      ],
      "execution_count": 70,
      "outputs": [
        {
          "output_type": "execute_result",
          "data": {
            "text/plain": [
              "False"
            ]
          },
          "metadata": {
            "tags": []
          },
          "execution_count": 70
        }
      ]
    },
    {
      "cell_type": "markdown",
      "metadata": {
        "colab_type": "text",
        "id": "FzJ4AsIlUWJl"
      },
      "source": [
        "3 คำแรกมีใน IMDB แต่คำสุดท้ายไม่มี"
      ]
    },
    {
      "cell_type": "code",
      "metadata": {
        "colab_type": "code",
        "id": "67lPmtvYUWJm",
        "outputId": "252bd817-43f8-41c6-8865-c07ed80a1862",
        "colab": {
          "base_uri": "https://localhost:8080/",
          "height": 34
        }
      },
      "source": [
        "vocab.stoi['senselessness'], vocab.stoi['unthinking'], vocab.stoi['capital'], vocab.stoi['cpu']"
      ],
      "execution_count": 71,
      "outputs": [
        {
          "output_type": "execute_result",
          "data": {
            "text/plain": [
              "(38962, 26417, 5919, 0)"
            ]
          },
          "metadata": {
            "tags": []
          },
          "execution_count": 71
        }
      ]
    },
    {
      "cell_type": "markdown",
      "metadata": {
        "colab_type": "text",
        "id": "83R4iOGwUWJp"
      },
      "source": [
        "ดู Embedding ของคำที่มีใน IMDB แต่ไม่มีใน Wiki จะเห็นว่าแต่ละคำค่า Embedding ได้เปลี่ยนไปเรียบร้อยแล้ว ไม่มีคำไหนค่าซ้ำกันเลย"
      ]
    },
    {
      "cell_type": "code",
      "metadata": {
        "colab_type": "code",
        "id": "9C4XvvRiUWJq",
        "outputId": "febd8d8b-283b-42bc-a251-bb7c4858b870",
        "colab": {
          "base_uri": "https://localhost:8080/",
          "height": 170
        }
      },
      "source": [
        "len(enc.weight[vocab.stoi['senselessness'], :]), enc.weight[vocab.stoi['senselessness'], :][:50]"
      ],
      "execution_count": 72,
      "outputs": [
        {
          "output_type": "execute_result",
          "data": {
            "text/plain": [
              "(400,\n",
              " tensor([-0.2023, -0.1573, -0.0277,  0.2522, -0.0203,  0.1085,  0.3975,  0.0161,\n",
              "          0.1216, -0.0328, -0.1149,  0.0305, -0.0370,  0.0123,  0.0242, -0.0953,\n",
              "         -0.2336,  0.0966,  0.0336,  0.0677,  0.1840,  0.0847, -0.0068,  0.0691,\n",
              "         -0.1005, -0.2451,  0.1277, -0.1403,  0.0051,  0.1948, -0.0078, -0.0743,\n",
              "         -0.1111,  0.0400,  0.0383,  0.1671,  0.0954, -0.2947,  0.0581,  0.0281,\n",
              "          0.3806,  0.0381, -0.2537,  0.0029,  0.0184,  0.0618,  0.0869, -0.1290,\n",
              "          0.0025,  0.1906], device='cuda:0', dtype=torch.float16,\n",
              "        grad_fn=<SliceBackward>))"
            ]
          },
          "metadata": {
            "tags": []
          },
          "execution_count": 72
        }
      ]
    },
    {
      "cell_type": "code",
      "metadata": {
        "colab_type": "code",
        "id": "2GsG5ylMUWJu",
        "outputId": "40ba6004-f7ca-4dd9-cdcf-669eb3661b29",
        "colab": {
          "base_uri": "https://localhost:8080/",
          "height": 170
        }
      },
      "source": [
        "len(enc.weight[vocab.stoi['unthinking'], :]), enc.weight[vocab.stoi['unthinking'], :][:50]"
      ],
      "execution_count": 73,
      "outputs": [
        {
          "output_type": "execute_result",
          "data": {
            "text/plain": [
              "(400,\n",
              " tensor([-0.1027,  0.1511, -0.1090,  0.0330, -0.0117,  0.0690,  0.2969, -0.0157,\n",
              "          0.2308,  0.0966, -0.0875, -0.4749,  0.0226, -0.1428, -0.1274,  0.1375,\n",
              "         -0.0386, -0.2820,  0.0095,  0.0525,  0.2212,  0.0768,  0.2157,  0.4131,\n",
              "         -0.0939, -0.4763,  0.0080, -0.1792, -0.0387, -0.0099,  0.0052, -0.0321,\n",
              "         -0.0403, -0.0871, -0.1194,  0.1384,  0.1794, -0.2827, -0.1138,  0.2373,\n",
              "          0.1898, -0.0667,  0.0382,  0.2771,  0.2269,  0.3965, -0.0714, -0.0354,\n",
              "          0.1058, -0.3015], device='cuda:0', dtype=torch.float16,\n",
              "        grad_fn=<SliceBackward>))"
            ]
          },
          "metadata": {
            "tags": []
          },
          "execution_count": 73
        }
      ]
    },
    {
      "cell_type": "code",
      "metadata": {
        "colab_type": "code",
        "id": "Oynm4TdcUWJy",
        "outputId": "253ddba5-32eb-47e4-c75c-aaa573b6575b",
        "colab": {
          "base_uri": "https://localhost:8080/",
          "height": 170
        }
      },
      "source": [
        "len(enc.weight[vocab.stoi['capital'], :]), enc.weight[vocab.stoi['capital'], :][:50]"
      ],
      "execution_count": 74,
      "outputs": [
        {
          "output_type": "execute_result",
          "data": {
            "text/plain": [
              "(400,\n",
              " tensor([-0.1807,  0.1582,  0.5195,  0.1816,  0.3691, -0.0329, -0.2534, -0.1193,\n",
              "          0.6143,  0.1500, -0.5503,  0.1927, -0.0535,  0.2852, -0.0188,  0.0476,\n",
              "          0.2917, -0.0358,  0.0135, -0.1321,  0.5972,  0.1395, -0.0804,  0.4829,\n",
              "          0.2629, -0.1587,  0.8032, -0.2430,  0.1819,  0.4084, -0.1952,  0.0948,\n",
              "         -0.1327, -0.3279,  0.0662,  0.5527,  0.3108, -0.7056,  0.0390,  0.2671,\n",
              "          0.1377, -0.7456, -0.3389, -0.1962,  0.2673,  0.6538,  0.4553,  0.3777,\n",
              "         -0.0450, -0.1816], device='cuda:0', dtype=torch.float16,\n",
              "        grad_fn=<SliceBackward>))"
            ]
          },
          "metadata": {
            "tags": []
          },
          "execution_count": 74
        }
      ]
    },
    {
      "cell_type": "markdown",
      "metadata": {
        "colab_type": "text",
        "id": "GQDjq94HT45_"
      },
      "source": [
        "## 5.4 Fake Movie Reviews from IMDB Language Model"
      ]
    },
    {
      "cell_type": "markdown",
      "metadata": {
        "id": "QAIcdngfT46A",
        "colab_type": "text"
      },
      "source": [
        "เราจะลอง Generate รีวิวหนัง Movie Reviews ใหม่จาก Language Model ที่เราเพิ่งเทรนกับ IMDB DataSet เสร็จ"
      ]
    },
    {
      "cell_type": "markdown",
      "metadata": {
        "colab_type": "text",
        "id": "-cg8QpyLT46B"
      },
      "source": [
        "ชอบหนังเรื่องนี้เพราะว่า"
      ]
    },
    {
      "cell_type": "code",
      "metadata": {
        "colab_type": "code",
        "id": "XkPQLAiLT46C",
        "colab": {}
      },
      "source": [
        "TEXT = \"I loved this film because\"\n",
        "N_WORDS = 60\n",
        "N_SENTENCES = 3"
      ],
      "execution_count": 0,
      "outputs": []
    },
    {
      "cell_type": "code",
      "metadata": {
        "colab_type": "code",
        "outputId": "29e56b0b-6eec-4e2f-98d2-73ab166c9091",
        "id": "q7OUa-lST46D",
        "colab": {
          "base_uri": "https://localhost:8080/",
          "height": 88
        }
      },
      "source": [
        "print(\"\\n\".join(learn_lm.predict(TEXT, N_WORDS, temperature=0.75) for _ in range(N_SENTENCES)))"
      ],
      "execution_count": 76,
      "outputs": [
        {
          "output_type": "stream",
          "text": [
            "I loved this film because of how much more screen time it had . This film is very watchable . i do believe that it is the same set , but it is a very good film . It is also enjoyable , especially to the point . The men in this movie are excellent but it is not too real to\n",
            "I loved this film because it was a nice little film and i was very disappointed . The story was good , but i did n't think that it was funny and could n't be more entertaining . It 's a shame the people who made films such as Bank Of The Boat have already seen it and i\n",
            "I loved this film because of the comments i saw on the whole but overall it was a true classic . It 's beautifully shot and the music is great . It is the best film i 've ever seen . It is almost the only film i have ever seen that i have seen , nearly all of my memory .\n"
          ],
          "name": "stdout"
        }
      ]
    },
    {
      "cell_type": "markdown",
      "metadata": {
        "colab_type": "text",
        "id": "K-vQ92fLT46G"
      },
      "source": [
        "ไม่ชอบหนังเรื่องนี้เพราะว่า"
      ]
    },
    {
      "cell_type": "code",
      "metadata": {
        "colab_type": "code",
        "id": "0KGbDhBJT46H",
        "colab": {}
      },
      "source": [
        "TEXT = \"I hated this movie because\"\n",
        "N_WORDS = 60\n",
        "N_SENTENCES = 3"
      ],
      "execution_count": 0,
      "outputs": []
    },
    {
      "cell_type": "code",
      "metadata": {
        "colab_type": "code",
        "outputId": "5a0fe230-b151-41d5-c8e2-7375486aaae0",
        "id": "Xl7t6S4gT46I",
        "colab": {
          "base_uri": "https://localhost:8080/",
          "height": 122
        }
      },
      "source": [
        "print(\"\\n\".join(learn_lm.predict(TEXT, N_WORDS, temperature=0.75) for _ in range(N_SENTENCES)))"
      ],
      "execution_count": 78,
      "outputs": [
        {
          "output_type": "stream",
          "text": [
            "I hated this movie because of the characters . For example , Fred Gwynne did a good thing . He did the bad work . He was the worst character in the movie . Many of the actors were bad . In fact , the movie had got worse . \n",
            " \n",
            "  The acting is bottom - class\n",
            "I hated this movie because the plot was terribly weak . Sitting in a toilet at the end i felt i had wasted my time . The movie was n't funny at all ! It 's not even that funny . The movie is not scary in a funny way . The music is stupid and the music is n't\n",
            "I hated this movie because it 's so bad it 's funny . Even Jason Lee is hilarious . The movie is just a joke , it 's just really bad . i do n't think anyone on the IMDB list would like this movie . It 's bad worst movie that you have to watch because of the\n"
          ],
          "name": "stdout"
        }
      ]
    },
    {
      "cell_type": "markdown",
      "metadata": {
        "colab_type": "text",
        "id": "30eGrByZT46K"
      },
      "source": [
        "หนังเรื่องนี้ ... จริง ๆ"
      ]
    },
    {
      "cell_type": "code",
      "metadata": {
        "colab_type": "code",
        "id": "Nx1esFdkT46K",
        "colab": {}
      },
      "source": [
        "TEXT = \"This movie is really\"\n",
        "N_WORDS = 60\n",
        "N_SENTENCES = 3"
      ],
      "execution_count": 0,
      "outputs": []
    },
    {
      "cell_type": "code",
      "metadata": {
        "colab_type": "code",
        "outputId": "b3c9bff1-a360-4f3e-a71c-210fdeb715eb",
        "id": "MtZDS5mhT46L",
        "colab": {
          "base_uri": "https://localhost:8080/",
          "height": 88
        }
      },
      "source": [
        "print(\"\\n\".join(learn_lm.predict(TEXT, N_WORDS, temperature=0.75) for _ in range(N_SENTENCES)))"
      ],
      "execution_count": 80,
      "outputs": [
        {
          "output_type": "stream",
          "text": [
            "This movie is really cool and it really kicks off . The story , the cinematography , the very idea of shooting a man and the woman in a bank full of attractive women . It was very good . It 's very entertaining . i think it was a lot better than it should be . i love the \"\n",
            "This movie is really really great . i have seen it many times , and i remember how it ended . It has a strong story and a good story , and is very brilliant and very touching . The cinematography is wonderful and the use of the actors is awesome . i 've never seen another movie with a great story\n",
            "This movie is really just a boring excuse for a movie at the beginning . As with the movie , it is a little weak . The direction by Fred Olen Ray is awful to say the least . This movie is a disappointment . The acting is sub par , and the story is muddled .\n"
          ],
          "name": "stdout"
        }
      ]
    },
    {
      "cell_type": "markdown",
      "metadata": {
        "id": "HiEJvib5IpKl",
        "colab_type": "text"
      },
      "source": [
        "จะได้รีวิวหนัง Movie Reviews ที่เหมือนรีวิวหนังมากขึ้น"
      ]
    },
    {
      "cell_type": "markdown",
      "metadata": {
        "colab_type": "text",
        "id": "19cMxjaIT46P"
      },
      "source": [
        "ลด temperature ลง ทำให้ข้อความ Random น้อยลง"
      ]
    },
    {
      "cell_type": "code",
      "metadata": {
        "colab_type": "code",
        "id": "GxBPqaimT46Q",
        "colab": {}
      },
      "source": [
        "TEXT = \"This movie is really\"\n",
        "N_WORDS = 60\n",
        "N_SENTENCES = 3"
      ],
      "execution_count": 0,
      "outputs": []
    },
    {
      "cell_type": "code",
      "metadata": {
        "colab_type": "code",
        "outputId": "89777555-ec03-403c-c9ee-44f2de818a6a",
        "id": "Qovp9ye6T46T",
        "colab": {
          "base_uri": "https://localhost:8080/",
          "height": 88
        }
      },
      "source": [
        "print(\"\\n\".join(learn_lm.predict(TEXT, N_WORDS, temperature=0.1) for _ in range(N_SENTENCES)))"
      ],
      "execution_count": 82,
      "outputs": [
        {
          "output_type": "stream",
          "text": [
            "This movie is really bad . It 's not even funny . It 's not funny . It 's not funny . It 's not funny . It 's not funny . It 's not funny . It 's just a comedy . It 's not funny . It 's not funny . It\n",
            "This movie is really bad . It 's not even funny . It 's not funny , it 's just a bunch of stupid jokes . The jokes are so stupid that it 's funny . The jokes are so stupid that i ca n't even think of them . The jokes are so stupid that i ca n't\n",
            "This movie is really bad . It 's not even funny . The plot is predictable , the acting is bad , the plot is stupid , the acting is bad , and the plot is so bad that it 's funny . The acting is terrible , the plot is ridiculous , the plot is ridiculous , and the acting\n"
          ],
          "name": "stdout"
        }
      ]
    },
    {
      "cell_type": "markdown",
      "metadata": {
        "id": "AmV6rLUdTb3T",
        "colab_type": "text"
      },
      "source": [
        "# 6. Classifier"
      ]
    },
    {
      "cell_type": "markdown",
      "metadata": {
        "id": "WQ_HZE1yIxiv",
        "colab_type": "text"
      },
      "source": [
        "กลับมาที่งานหลักของเรา ในเคสนี้ คือ การ [Sentiment Analysis](https://www.bualabs.com/archives/tag/sentiment-analysis/) หรือ Sentiment Classification ว่ารีวิวหนัง Movie Review จะอยู่ใน Class ไหน ใน 2 Class ว่าเป็นรีวิวแง่บวก หรือแง่ลบ Positive หรือ Negative"
      ]
    },
    {
      "cell_type": "markdown",
      "metadata": {
        "id": "BM2wqbgBT46Y",
        "colab_type": "text"
      },
      "source": [
        "## 6.1 สร้าง Databunch ใหม่สำหรับ Classifier"
      ]
    },
    {
      "cell_type": "markdown",
      "metadata": {
        "id": "38f27nAnT46Y",
        "colab_type": "text"
      },
      "source": [
        "ใช้ Data Block API สร้าง Data Pipeline ใหม่ สำหรรับงาน Classifier ที่จะมี label เป็น positive, negative"
      ]
    },
    {
      "cell_type": "code",
      "metadata": {
        "colab_type": "code",
        "id": "_qLBSBFmTb8-",
        "colab": {}
      },
      "source": [
        "bs = 48"
      ],
      "execution_count": 0,
      "outputs": []
    },
    {
      "cell_type": "code",
      "metadata": {
        "id": "VHlwka0rT46a",
        "colab_type": "code",
        "colab": {
          "base_uri": "https://localhost:8080/",
          "height": 17
        },
        "outputId": "239ef37d-53a0-4b93-bdf5-2978102af505"
      },
      "source": [
        "data_clas = (TextList.from_folder(path, vocab=data_lm.vocab)\n",
        "            .split_by_folder(valid='test')\n",
        "            .label_from_folder(classes=['neg', 'pos'])\n",
        "            .databunch(bs=bs, num_workers=8))"
      ],
      "execution_count": 84,
      "outputs": [
        {
          "output_type": "display_data",
          "data": {
            "text/html": [
              ""
            ],
            "text/plain": [
              "<IPython.core.display.HTML object>"
            ]
          },
          "metadata": {
            "tags": []
          }
        },
        {
          "output_type": "display_data",
          "data": {
            "text/html": [
              ""
            ],
            "text/plain": [
              "<IPython.core.display.HTML object>"
            ]
          },
          "metadata": {
            "tags": []
          }
        }
      ]
    },
    {
      "cell_type": "code",
      "metadata": {
        "colab_type": "code",
        "id": "iGICfPBITcCh",
        "colab": {}
      },
      "source": [
        "data_clas.save('26g_imdb_textlist_clas')"
      ],
      "execution_count": 0,
      "outputs": []
    },
    {
      "cell_type": "code",
      "metadata": {
        "colab_type": "code",
        "id": "8LB1eurASJ04",
        "colab": {}
      },
      "source": [
        "data_clas = load_data(path, '26g_imdb_textlist_clas', bs=bs, num_workers=8)"
      ],
      "execution_count": 0,
      "outputs": []
    },
    {
      "cell_type": "code",
      "metadata": {
        "id": "0RTS6emnT46h",
        "colab_type": "code",
        "colab": {
          "base_uri": "https://localhost:8080/",
          "height": 323
        },
        "outputId": "ac79d066-c46c-4abc-c0b0-db1f530cac5c"
      },
      "source": [
        "data_clas.show_batch()"
      ],
      "execution_count": 87,
      "outputs": [
        {
          "output_type": "display_data",
          "data": {
            "text/html": [
              "<table border=\"1\" class=\"dataframe\">\n",
              "  <thead>\n",
              "    <tr style=\"text-align: right;\">\n",
              "      <th>text</th>\n",
              "      <th>target</th>\n",
              "    </tr>\n",
              "  </thead>\n",
              "  <tbody>\n",
              "    <tr>\n",
              "      <td>xxbos xxmaj match 1 : xxmaj tag xxmaj team xxmaj table xxmaj match xxmaj bubba xxmaj ray and xxmaj spike xxmaj dudley vs xxmaj eddie xxmaj guerrero and xxmaj chris xxmaj benoit xxmaj bubba xxmaj ray and xxmaj spike xxmaj dudley started things off with a xxmaj tag xxmaj team xxmaj table xxmaj match against xxmaj eddie xxmaj guerrero and xxmaj chris xxmaj benoit . xxmaj according to the rules</td>\n",
              "      <td>pos</td>\n",
              "    </tr>\n",
              "    <tr>\n",
              "      <td>xxbos xxmaj chris xxmaj rock deserves better than he gives himself in \" xxmaj down xxmaj to xxmaj earth . \" xxmaj as directed by brothers xxmaj chris &amp; xxmaj paul xxmaj weitz of \" xxmaj american xxmaj pie \" fame , this uninspired remake of xxmaj warren xxmaj beatty 's 1978 fantasy \" xxmaj heaven xxmaj can xxmaj wait , \" itself a rehash of 1941 's \" xxmaj</td>\n",
              "      <td>neg</td>\n",
              "    </tr>\n",
              "    <tr>\n",
              "      <td>xxbos xxunk ) is the developing world 's answer to xxmaj silence of the xxmaj lambs . xxmaj where ` xxmaj silence ' terrorized our peace of mind , ` xxmaj citizen ' exhausts and saddens us instead . xxmaj this dramatization of the xxmaj chikatilo case translates rather well , thanks to a xxmaj westernized friendship between two xxmaj rostov cops who become equals . \\n \\n  citizenx</td>\n",
              "      <td>pos</td>\n",
              "    </tr>\n",
              "    <tr>\n",
              "      <td>xxbos xxmaj by 1987 xxmaj hong xxmaj kong had given the world such films as xxmaj sammo xxmaj hung 's ` xxmaj encounters of the xxmaj spooky xxmaj kind ' xxmaj chow xxmaj yun xxmaj fat in xxmaj john xxmaj woo 's iconic ` a xxmaj better xxmaj tomorrow ' , ` xxmaj zu xxmaj warriors ' and the classic ` xxmaj mr xxmaj vampire ' . xxmaj jackie xxmaj</td>\n",
              "      <td>pos</td>\n",
              "    </tr>\n",
              "    <tr>\n",
              "      <td>xxbos xxmaj how strange the human mind is ; this center of activity wherein perceptions of reality are formed and stored , and in which one 's view of the world hinges on the finely tuned functioning of the brain , this most delicate and intricate processor of all things sensory . xxmaj and how much do we really know of it 's inner - workings , of it 's</td>\n",
              "      <td>pos</td>\n",
              "    </tr>\n",
              "  </tbody>\n",
              "</table>"
            ],
            "text/plain": [
              "<IPython.core.display.HTML object>"
            ]
          },
          "metadata": {
            "tags": []
          }
        }
      ]
    },
    {
      "cell_type": "markdown",
      "metadata": {
        "id": "8e8B7tGlT46j",
        "colab_type": "text"
      },
      "source": [
        "## 6.2 สร้าง Learner สำหรับงาน Classifier"
      ]
    },
    {
      "cell_type": "markdown",
      "metadata": {
        "id": "Xxau5_1AT46k",
        "colab_type": "text"
      },
      "source": [
        "สร้าง learner สำหรับงาน Classifier แล้ว Load Encoder จาก Language Model ที่เทรนจาก Wiki-103 และ Fine-Tune ด้วย IMDB Dataset ด้านบน เป็นการ Transfer Learning เรียกว่า ULMFit"
      ]
    },
    {
      "cell_type": "code",
      "metadata": {
        "id": "cLXscgOkT46k",
        "colab_type": "code",
        "colab": {}
      },
      "source": [
        "learn_clas = text_classifier_learner(data_clas, AWD_LSTM, \n",
        "                                     drop_mult=0.3, model_dir=config_path/'My Drive/models', \n",
        "                                     callback_fns=[ShowGraph, PeakMemMetric]).to_fp16()"
      ],
      "execution_count": 0,
      "outputs": []
    },
    {
      "cell_type": "code",
      "metadata": {
        "id": "5wJGi1RVT46l",
        "colab_type": "code",
        "colab": {}
      },
      "source": [
        "learn_clas.load_encoder('26g-02-enc')\n",
        "learn_clas.freeze()"
      ],
      "execution_count": 0,
      "outputs": []
    },
    {
      "cell_type": "markdown",
      "metadata": {
        "id": "LavxEPhdT46n",
        "colab_type": "text"
      },
      "source": [
        "## 6.3 เทรน Layer สุดท้าย"
      ]
    },
    {
      "cell_type": "markdown",
      "metadata": {
        "id": "0m7lHiGQJtJT",
        "colab_type": "text"
      },
      "source": [
        "เทรน Classifier เริ่มจาก Layer Group สุดท้าย"
      ]
    },
    {
      "cell_type": "code",
      "metadata": {
        "id": "ukvqy0-MT46n",
        "colab_type": "code",
        "colab": {
          "base_uri": "https://localhost:8080/",
          "height": 330
        },
        "outputId": "65152669-f76b-4d9f-ffdf-8e481da5a952"
      },
      "source": [
        "learn_clas.lr_find()\n",
        "learn_clas.recorder.plot(suggestion=True)"
      ],
      "execution_count": 90,
      "outputs": [
        {
          "output_type": "display_data",
          "data": {
            "text/html": [
              ""
            ],
            "text/plain": [
              "<IPython.core.display.HTML object>"
            ]
          },
          "metadata": {
            "tags": []
          }
        },
        {
          "output_type": "stream",
          "text": [
            "LR Finder is complete, type {learner_name}.recorder.plot() to see the graph.\n",
            "Min numerical gradient: 2.51E-03\n",
            "Min loss divided by 10: 6.31E-02\n"
          ],
          "name": "stdout"
        },
        {
          "output_type": "display_data",
          "data": {
            "image/png": "[encoded data removed]",
            "text/plain": [
              "<Figure size 432x288 with 1 Axes>"
            ]
          },
          "metadata": {
            "tags": []
          }
        }
      ]
    },
    {
      "cell_type": "code",
      "metadata": {
        "id": "XT7ksTIRT46p",
        "colab_type": "code",
        "colab": {}
      },
      "source": [
        "lr = 3e-2"
      ],
      "execution_count": 0,
      "outputs": []
    },
    {
      "cell_type": "code",
      "metadata": {
        "id": "yHoltRW8T46r",
        "colab_type": "code",
        "colab": {
          "base_uri": "https://localhost:8080/",
          "height": 328
        },
        "outputId": "69f0a0f5-aadc-4ec0-e398-fa1ffa65676f"
      },
      "source": [
        "learn_clas.fit_one_cycle(1, max_lr=lr, moms=(0.8, 0.7))"
      ],
      "execution_count": 92,
      "outputs": [
        {
          "output_type": "display_data",
          "data": {
            "text/html": [
              "<table border=\"1\" class=\"dataframe\">\n",
              "  <thead>\n",
              "    <tr style=\"text-align: left;\">\n",
              "      <th>epoch</th>\n",
              "      <th>train_loss</th>\n",
              "      <th>valid_loss</th>\n",
              "      <th>accuracy</th>\n",
              "      <th>cpu used</th>\n",
              "      <th>peak</th>\n",
              "      <th>gpu used</th>\n",
              "      <th>peak</th>\n",
              "      <th>time</th>\n",
              "    </tr>\n",
              "  </thead>\n",
              "  <tbody>\n",
              "    <tr>\n",
              "      <td>0</td>\n",
              "      <td>0.287340</td>\n",
              "      <td>0.230417</td>\n",
              "      <td>0.907480</td>\n",
              "      <td>0</td>\n",
              "      <td>1</td>\n",
              "      <td>-398</td>\n",
              "      <td>1168</td>\n",
              "      <td>03:01</td>\n",
              "    </tr>\n",
              "  </tbody>\n",
              "</table>"
            ],
            "text/plain": [
              "<IPython.core.display.HTML object>"
            ]
          },
          "metadata": {
            "tags": []
          }
        },
        {
          "output_type": "display_data",
          "data": {
            "image/png": "[encoded data removed]",
            "text/plain": [
              "<Figure size 432x288 with 1 Axes>"
            ]
          },
          "metadata": {
            "tags": []
          }
        }
      ]
    },
    {
      "cell_type": "code",
      "metadata": {
        "id": "ljux2SKDT46t",
        "colab_type": "code",
        "colab": {}
      },
      "source": [
        "learn_clas.save('26g-21')"
      ],
      "execution_count": 0,
      "outputs": []
    },
    {
      "cell_type": "code",
      "metadata": {
        "id": "q66DWhzLT46y",
        "colab_type": "code",
        "colab": {}
      },
      "source": [
        "learn_clas.load('26g-21');"
      ],
      "execution_count": 0,
      "outputs": []
    },
    {
      "cell_type": "markdown",
      "metadata": {
        "id": "_sWpJAWuT462",
        "colab_type": "text"
      },
      "source": [
        "## 6.4 ค่อย ๆ Unfreeze แล้วเทรน Layer Group ต่อ ๆ มา"
      ]
    },
    {
      "cell_type": "markdown",
      "metadata": {
        "id": "Nn_OnvvKJ7MD",
        "colab_type": "text"
      },
      "source": [
        "เทรน Classifier โดยเทรน Layer Group สุดท้าย + Layer Group ก่อนหน้า"
      ]
    },
    {
      "cell_type": "code",
      "metadata": {
        "id": "38bYHju7T463",
        "colab_type": "code",
        "colab": {}
      },
      "source": [
        "learn_clas.freeze_to(-2)"
      ],
      "execution_count": 0,
      "outputs": []
    },
    {
      "cell_type": "code",
      "metadata": {
        "id": "PURcdqMBT465",
        "colab_type": "code",
        "colab": {
          "base_uri": "https://localhost:8080/",
          "height": 334
        },
        "outputId": "9a50be65-a615-4831-aa7a-261ad7e67467"
      },
      "source": [
        "learn_clas.lr_find()\n",
        "learn_clas.recorder.plot(suggestion=True)"
      ],
      "execution_count": 96,
      "outputs": [
        {
          "output_type": "display_data",
          "data": {
            "text/html": [
              ""
            ],
            "text/plain": [
              "<IPython.core.display.HTML object>"
            ]
          },
          "metadata": {
            "tags": []
          }
        },
        {
          "output_type": "stream",
          "text": [
            "LR Finder is complete, type {learner_name}.recorder.plot() to see the graph.\n",
            "Min numerical gradient: 9.12E-07\n",
            "Min loss divided by 10: 8.32E-07\n"
          ],
          "name": "stdout"
        },
        {
          "output_type": "display_data",
          "data": {
            "image/png": "[encoded data removed]",
            "text/plain": [
              "<Figure size 432x288 with 1 Axes>"
            ]
          },
          "metadata": {
            "tags": []
          }
        }
      ]
    },
    {
      "cell_type": "code",
      "metadata": {
        "id": "UI3301wcT467",
        "colab_type": "code",
        "colab": {}
      },
      "source": [
        "lr = 3e-4"
      ],
      "execution_count": 0,
      "outputs": []
    },
    {
      "cell_type": "code",
      "metadata": {
        "id": "DdfzHnE7T468",
        "colab_type": "code",
        "colab": {
          "base_uri": "https://localhost:8080/",
          "height": 328
        },
        "outputId": "5f76378b-3e9a-4d04-acb3-939bfca10bfa"
      },
      "source": [
        "learn_clas.fit_one_cycle(1, max_lr=lr, moms=(0.8, 0.7))"
      ],
      "execution_count": 98,
      "outputs": [
        {
          "output_type": "display_data",
          "data": {
            "text/html": [
              "<table border=\"1\" class=\"dataframe\">\n",
              "  <thead>\n",
              "    <tr style=\"text-align: left;\">\n",
              "      <th>epoch</th>\n",
              "      <th>train_loss</th>\n",
              "      <th>valid_loss</th>\n",
              "      <th>accuracy</th>\n",
              "      <th>cpu used</th>\n",
              "      <th>peak</th>\n",
              "      <th>gpu used</th>\n",
              "      <th>peak</th>\n",
              "      <th>time</th>\n",
              "    </tr>\n",
              "  </thead>\n",
              "  <tbody>\n",
              "    <tr>\n",
              "      <td>0</td>\n",
              "      <td>0.258522</td>\n",
              "      <td>0.217318</td>\n",
              "      <td>0.914440</td>\n",
              "      <td>0</td>\n",
              "      <td>1</td>\n",
              "      <td>-424</td>\n",
              "      <td>1332</td>\n",
              "      <td>02:56</td>\n",
              "    </tr>\n",
              "  </tbody>\n",
              "</table>"
            ],
            "text/plain": [
              "<IPython.core.display.HTML object>"
            ]
          },
          "metadata": {
            "tags": []
          }
        },
        {
          "output_type": "display_data",
          "data": {
            "image/png": "[encoded data removed]",
            "text/plain": [
              "<Figure size 432x288 with 1 Axes>"
            ]
          },
          "metadata": {
            "tags": []
          }
        }
      ]
    },
    {
      "cell_type": "code",
      "metadata": {
        "id": "QKZ78wXbT469",
        "colab_type": "code",
        "colab": {}
      },
      "source": [
        "learn_clas.save('26g-22')"
      ],
      "execution_count": 0,
      "outputs": []
    },
    {
      "cell_type": "code",
      "metadata": {
        "id": "K_2iezJ1T46-",
        "colab_type": "code",
        "colab": {}
      },
      "source": [
        "learn_clas.load('26g-22');"
      ],
      "execution_count": 0,
      "outputs": []
    },
    {
      "cell_type": "markdown",
      "metadata": {
        "id": "tKwMdGHAT47B",
        "colab_type": "text"
      },
      "source": [
        "## 6.5 ค่อย ๆ Unfreeze แล้วเทรน Layer Group ต่อ ๆ มา"
      ]
    },
    {
      "cell_type": "markdown",
      "metadata": {
        "id": "0s76mPyPKGNV",
        "colab_type": "text"
      },
      "source": [
        "เทรน Classifier โดยเทรน Layer Group สุดท้าย + Layer Group ก่อนหน้า + Layer Group ก่อนหน้าอีก"
      ]
    },
    {
      "cell_type": "code",
      "metadata": {
        "id": "L59YxUKPT47B",
        "colab_type": "code",
        "colab": {}
      },
      "source": [
        "learn_clas.freeze_to(-3)"
      ],
      "execution_count": 0,
      "outputs": []
    },
    {
      "cell_type": "code",
      "metadata": {
        "id": "ALcLfvdfT47C",
        "colab_type": "code",
        "colab": {
          "base_uri": "https://localhost:8080/",
          "height": 330
        },
        "outputId": "52b84f85-b03a-49e3-9364-748a934f2070"
      },
      "source": [
        "learn_clas.lr_find()\n",
        "learn_clas.recorder.plot(suggestion=True)"
      ],
      "execution_count": 102,
      "outputs": [
        {
          "output_type": "display_data",
          "data": {
            "text/html": [
              ""
            ],
            "text/plain": [
              "<IPython.core.display.HTML object>"
            ]
          },
          "metadata": {
            "tags": []
          }
        },
        {
          "output_type": "stream",
          "text": [
            "LR Finder is complete, type {learner_name}.recorder.plot() to see the graph.\n",
            "Min numerical gradient: 2.29E-06\n",
            "Min loss divided by 10: 7.59E-08\n"
          ],
          "name": "stdout"
        },
        {
          "output_type": "display_data",
          "data": {
            "image/png": "[encoded data removed]",
            "text/plain": [
              "<Figure size 432x288 with 1 Axes>"
            ]
          },
          "metadata": {
            "tags": []
          }
        }
      ]
    },
    {
      "cell_type": "code",
      "metadata": {
        "id": "QVJFLcVwT47E",
        "colab_type": "code",
        "colab": {}
      },
      "source": [
        "lr = 3e-5"
      ],
      "execution_count": 0,
      "outputs": []
    },
    {
      "cell_type": "code",
      "metadata": {
        "id": "O7CGR96fT47F",
        "colab_type": "code",
        "colab": {
          "base_uri": "https://localhost:8080/",
          "height": 328
        },
        "outputId": "51880654-f0f1-4d01-d412-ea0d3d0fe2cb"
      },
      "source": [
        "learn_clas.fit_one_cycle(1, max_lr=lr, moms=(0.8, 0.7))"
      ],
      "execution_count": 104,
      "outputs": [
        {
          "output_type": "display_data",
          "data": {
            "text/html": [
              "<table border=\"1\" class=\"dataframe\">\n",
              "  <thead>\n",
              "    <tr style=\"text-align: left;\">\n",
              "      <th>epoch</th>\n",
              "      <th>train_loss</th>\n",
              "      <th>valid_loss</th>\n",
              "      <th>accuracy</th>\n",
              "      <th>cpu used</th>\n",
              "      <th>peak</th>\n",
              "      <th>gpu used</th>\n",
              "      <th>peak</th>\n",
              "      <th>time</th>\n",
              "    </tr>\n",
              "  </thead>\n",
              "  <tbody>\n",
              "    <tr>\n",
              "      <td>0</td>\n",
              "      <td>0.256567</td>\n",
              "      <td>0.210449</td>\n",
              "      <td>0.918600</td>\n",
              "      <td>0</td>\n",
              "      <td>1</td>\n",
              "      <td>92</td>\n",
              "      <td>3398</td>\n",
              "      <td>04:00</td>\n",
              "    </tr>\n",
              "  </tbody>\n",
              "</table>"
            ],
            "text/plain": [
              "<IPython.core.display.HTML object>"
            ]
          },
          "metadata": {
            "tags": []
          }
        },
        {
          "output_type": "display_data",
          "data": {
            "image/png": "[encoded data removed]",
            "text/plain": [
              "<Figure size 432x288 with 1 Axes>"
            ]
          },
          "metadata": {
            "tags": []
          }
        }
      ]
    },
    {
      "cell_type": "code",
      "metadata": {
        "id": "rnMvNUj4T47H",
        "colab_type": "code",
        "colab": {}
      },
      "source": [
        "learn_clas.save('26g-23')"
      ],
      "execution_count": 0,
      "outputs": []
    },
    {
      "cell_type": "code",
      "metadata": {
        "id": "lyOG8LOcT47I",
        "colab_type": "code",
        "colab": {}
      },
      "source": [
        "learn_clas.load('26g-23');"
      ],
      "execution_count": 0,
      "outputs": []
    },
    {
      "cell_type": "markdown",
      "metadata": {
        "id": "mvzUVIAST47J",
        "colab_type": "text"
      },
      "source": [
        "## 6.6 Unfreeze แล้วเทรนทั้งโมเดล"
      ]
    },
    {
      "cell_type": "markdown",
      "metadata": {
        "id": "LpFwddJBKLqw",
        "colab_type": "text"
      },
      "source": [
        "Unfreeze ทั้งโมเดล แล้วเทรนต่อ"
      ]
    },
    {
      "cell_type": "code",
      "metadata": {
        "id": "STyW5u2QT47J",
        "colab_type": "code",
        "colab": {}
      },
      "source": [
        "learn_clas.unfreeze()"
      ],
      "execution_count": 0,
      "outputs": []
    },
    {
      "cell_type": "code",
      "metadata": {
        "id": "mBW_ys1TT47K",
        "colab_type": "code",
        "colab": {
          "base_uri": "https://localhost:8080/",
          "height": 330
        },
        "outputId": "530f369c-8934-46f1-e2b9-9c30e4638670"
      },
      "source": [
        "learn_clas.lr_find()\n",
        "learn_clas.recorder.plot(suggestion=True)"
      ],
      "execution_count": 108,
      "outputs": [
        {
          "output_type": "display_data",
          "data": {
            "text/html": [
              ""
            ],
            "text/plain": [
              "<IPython.core.display.HTML object>"
            ]
          },
          "metadata": {
            "tags": []
          }
        },
        {
          "output_type": "stream",
          "text": [
            "LR Finder is complete, type {learner_name}.recorder.plot() to see the graph.\n",
            "Min numerical gradient: 1.91E-06\n",
            "Min loss divided by 10: 6.92E-05\n"
          ],
          "name": "stdout"
        },
        {
          "output_type": "display_data",
          "data": {
            "image/png": "[encoded data removed]",
            "text/plain": [
              "<Figure size 432x288 with 1 Axes>"
            ]
          },
          "metadata": {
            "tags": []
          }
        }
      ]
    },
    {
      "cell_type": "code",
      "metadata": {
        "id": "_xRKAfV3T47L",
        "colab_type": "code",
        "colab": {}
      },
      "source": [
        "lr = 1e-4"
      ],
      "execution_count": 0,
      "outputs": []
    },
    {
      "cell_type": "code",
      "metadata": {
        "id": "b2Qw3jGmT47N",
        "colab_type": "code",
        "colab": {
          "base_uri": "https://localhost:8080/",
          "height": 436
        },
        "outputId": "f2a0834a-7f4d-43a8-ea8f-52e38b8803af"
      },
      "source": [
        "learn_clas.fit_one_cycle(4, max_lr=lr, moms=(0.8, 0.7))"
      ],
      "execution_count": 0,
      "outputs": [
        {
          "output_type": "display_data",
          "data": {
            "text/html": [
              "\n",
              "    <div>\n",
              "        <style>\n",
              "            /* Turns off some styling */\n",
              "            progress {\n",
              "                /* gets rid of default border in Firefox and Opera. */\n",
              "                border: none;\n",
              "                /* Needs to be in here for Safari polyfill so background images work as expected. */\n",
              "                background-size: auto;\n",
              "            }\n",
              "            .progress-bar-interrupted, .progress-bar-interrupted::-webkit-progress-bar {\n",
              "                background: #F44336;\n",
              "            }\n",
              "        </style>\n",
              "      <progress value='3' class='' max='4', style='width:300px; height:20px; vertical-align: middle;'></progress>\n",
              "      75.00% [3/4 16:23<05:27]\n",
              "    </div>\n",
              "    \n",
              "<table border=\"1\" class=\"dataframe\">\n",
              "  <thead>\n",
              "    <tr style=\"text-align: left;\">\n",
              "      <th>epoch</th>\n",
              "      <th>train_loss</th>\n",
              "      <th>valid_loss</th>\n",
              "      <th>accuracy</th>\n",
              "      <th>cpu used</th>\n",
              "      <th>peak</th>\n",
              "      <th>gpu used</th>\n",
              "      <th>peak</th>\n",
              "      <th>time</th>\n",
              "    </tr>\n",
              "  </thead>\n",
              "  <tbody>\n",
              "    <tr>\n",
              "      <td>0</td>\n",
              "      <td>0.225978</td>\n",
              "      <td>0.195751</td>\n",
              "      <td>0.924240</td>\n",
              "      <td>0</td>\n",
              "      <td>1</td>\n",
              "      <td>14</td>\n",
              "      <td>4898</td>\n",
              "      <td>05:12</td>\n",
              "    </tr>\n",
              "    <tr>\n",
              "      <td>1</td>\n",
              "      <td>0.193022</td>\n",
              "      <td>0.176560</td>\n",
              "      <td>0.929840</td>\n",
              "      <td>0</td>\n",
              "      <td>1</td>\n",
              "      <td>14</td>\n",
              "      <td>4770</td>\n",
              "      <td>05:49</td>\n",
              "    </tr>\n",
              "    <tr>\n",
              "      <td>2</td>\n",
              "      <td>0.166945</td>\n",
              "      <td>0.173017</td>\n",
              "      <td>0.935400</td>\n",
              "      <td>0</td>\n",
              "      <td>1</td>\n",
              "      <td>0</td>\n",
              "      <td>4870</td>\n",
              "      <td>05:21</td>\n",
              "    </tr>\n",
              "  </tbody>\n",
              "</table><p>\n",
              "\n",
              "    <div>\n",
              "        <style>\n",
              "            /* Turns off some styling */\n",
              "            progress {\n",
              "                /* gets rid of default border in Firefox and Opera. */\n",
              "                border: none;\n",
              "                /* Needs to be in here for Safari polyfill so background images work as expected. */\n",
              "                background-size: auto;\n",
              "            }\n",
              "            .progress-bar-interrupted, .progress-bar-interrupted::-webkit-progress-bar {\n",
              "                background: #F44336;\n",
              "            }\n",
              "        </style>\n",
              "      <progress value='425' class='' max='520', style='width:300px; height:20px; vertical-align: middle;'></progress>\n",
              "      81.73% [425/520 03:36<00:48 0.1462]\n",
              "    </div>\n",
              "    "
            ],
            "text/plain": [
              "<IPython.core.display.HTML object>"
            ]
          },
          "metadata": {
            "tags": []
          }
        },
        {
          "output_type": "display_data",
          "data": {
            "image/png": "[encoded data removed]",
            "text/plain": [
              "<Figure size 432x288 with 1 Axes>"
            ]
          },
          "metadata": {
            "tags": []
          }
        }
      ]
    },
    {
      "cell_type": "markdown",
      "metadata": {
        "id": "sPc7H3FkT47O",
        "colab_type": "text"
      },
      "source": [
        "โมเดลของเรา สามารถ Predict IMDB DataSet Sentiment Classification ได้ Accuracy ถึง 94% เทียบกับ 88% ใน [ep ที่แล้ว](https://www.bualabs.com/archives/3000/sentiment-classification-imdb-movie-reviews-with-naive-bayes-logistic-regression-nlp-ep-5/)"
      ]
    },
    {
      "cell_type": "code",
      "metadata": {
        "id": "6E22Fs81T47O",
        "colab_type": "code",
        "colab": {}
      },
      "source": [
        "learn_clas.save('26g-24')"
      ],
      "execution_count": 0,
      "outputs": []
    },
    {
      "cell_type": "code",
      "metadata": {
        "id": "dFPrb9LKT47S",
        "colab_type": "code",
        "colab": {}
      },
      "source": [
        "learn_clas.load('26g-24');"
      ],
      "execution_count": 0,
      "outputs": []
    },
    {
      "cell_type": "markdown",
      "metadata": {
        "id": "tTD5XzTkT47T",
        "colab_type": "text"
      },
      "source": [
        "## 6.7 Predict"
      ]
    },
    {
      "cell_type": "markdown",
      "metadata": {
        "id": "IRw7NBILKeJZ",
        "colab_type": "text"
      },
      "source": [
        "ลองให้โมเดล ทำนายข้อความ รีวิวหนัง Movie Review ที่เราเขียนเอง"
      ]
    },
    {
      "cell_type": "markdown",
      "metadata": {
        "id": "m6P39_21T47T",
        "colab_type": "text"
      },
      "source": [
        "รีวิวแง่บวก"
      ]
    },
    {
      "cell_type": "code",
      "metadata": {
        "id": "8ejpj5w4T47T",
        "colab_type": "code",
        "colab": {}
      },
      "source": [
        "learn_clas.predict('It is possibly one of the most completely wonderful story I have ever watched.')"
      ],
      "execution_count": 0,
      "outputs": []
    },
    {
      "cell_type": "code",
      "metadata": {
        "id": "lElBKx-lT47V",
        "colab_type": "code",
        "colab": {}
      },
      "source": [
        "learn_clas.predict('An intelligent, funny, charming, sweet film with surprising depth and heart.')"
      ],
      "execution_count": 0,
      "outputs": []
    },
    {
      "cell_type": "code",
      "metadata": {
        "id": "VNtPk4FwT47X",
        "colab_type": "code",
        "colab": {}
      },
      "source": [
        "learn_clas.predict(\"I for one thought that this is an effective comedy movie that was really entertaining. I don't know what people's problem is that they have to dump on this movie so bad.\")"
      ],
      "execution_count": 0,
      "outputs": []
    },
    {
      "cell_type": "markdown",
      "metadata": {
        "id": "wt7z7tPBT47Y",
        "colab_type": "text"
      },
      "source": [
        "รีวิวแง่ลบ"
      ]
    },
    {
      "cell_type": "code",
      "metadata": {
        "id": "Vr1tl8-4T47Y",
        "colab_type": "code",
        "colab": {}
      },
      "source": [
        "learn_clas.predict('Big disappointment even for non-discriminating zombie apocalypse movie fans.')"
      ],
      "execution_count": 0,
      "outputs": []
    },
    {
      "cell_type": "code",
      "metadata": {
        "id": "tt_CtLg7T47b",
        "colab_type": "code",
        "colab": {}
      },
      "source": [
        "learn_clas.predict(\"Truly appalling This is an action thriller movie by numbers... but the action isn't very exciting and the plot holes just boring and annoy. \")"
      ],
      "execution_count": 0,
      "outputs": []
    },
    {
      "cell_type": "code",
      "metadata": {
        "id": "_fPXZTqnT47c",
        "colab_type": "code",
        "colab": {}
      },
      "source": [
        "learn_clas.predict('A terrible \"action\" film remake that is more accidentally humorous than seriously suspenseful.')"
      ],
      "execution_count": 0,
      "outputs": []
    },
    {
      "cell_type": "markdown",
      "metadata": {
        "colab_type": "text",
        "id": "NDi6KKnULray"
      },
      "source": [
        "# สรุป"
      ]
    },
    {
      "cell_type": "markdown",
      "metadata": {
        "colab_type": "text",
        "id": "BpoHE89ONKc_"
      },
      "source": [
        "* เราได้เรียนรู้วิธีการทำงาน และประโยชน์ของ Language Model และ vocab Dictionary \n",
        "* เราได้ใช้ Language Model ในการ Generate รีวิวหนัง Movie Review ที่อ่านแล้ว คล้ายกลับรีวิวหนังจริง ๆ\n",
        "* เราใช้เทคนิค Transfer Learning ชื่อ ULMFit มาช่วยในการลดเวลา และเพิ่มประสิทธืภาพในการเทรน Deep Neural Network ใน [NLP](https://www.bualabs.com/archives/119/what-is-nlp-natural-language-processing-nlp-task-in-thai-nlp-ep-1/) เช่น Sentiment Analysis\n",
        "* เราได้เรียนรู้การสร้าง Deep Neural Network ด้วยสถาปัตยกรรม AWD_LSTM ใช้ในงาน Sentiment Classification ที่มีประสิทธิภาพชนะ เทคนิคเก่า ๆ อย่างขาดลอย\n",
        "\n"
      ]
    },
    {
      "cell_type": "markdown",
      "metadata": {
        "colab_type": "text",
        "id": "4gvQU6jgNLKZ"
      },
      "source": [
        "# Credit"
      ]
    },
    {
      "cell_type": "markdown",
      "metadata": {
        "colab_type": "text",
        "id": "nt2N3YR6OsLp"
      },
      "source": [
        "* https://www.youtube.com/watch?v=dt7sArnLo1g&list=PLtmWHNX-gukKocXQOkQjuVxglSDYWsSh9&index=6&t=0s\n",
        "* https://www.bualabs.com/archives/2693/data-block-api-data-pipeline-machine-learning-supervised-learning-preprocessing-ep-5/\n",
        "* https://www.bualabs.com/archives/926/sentiment-analysis-imdb-movie-review-ulmfit-sentiment-analysis-ep-1/\n",
        "* https://www.bualabs.com/archives/3000/sentiment-classification-imdb-movie-reviews-with-naive-bayes-logistic-regression-nlp-ep-5/\n",
        "* https://docs.fast.ai/data_block.html\n",
        "* https://docs.fast.ai/text.data.html\n",
        "* https://forums.fast.ai/t/language-model-zoo-gorilla/14623\n",
        "* https://www.imdb.com/interfaces/\n",
        "* https://blog.einstein.ai/the-wikitext-long-term-dependency-language-modeling-dataset/\n",
        "* https://arxiv.org/abs/1801.06146\n",
        "* https://arxiv.org/abs/1708.02182\n"
      ]
    },
    {
      "cell_type": "code",
      "metadata": {
        "colab_type": "code",
        "id": "45T4wMZg06J5",
        "colab": {}
      },
      "source": [
        ""
      ],
      "execution_count": 0,
      "outputs": []
    }
  ]
}