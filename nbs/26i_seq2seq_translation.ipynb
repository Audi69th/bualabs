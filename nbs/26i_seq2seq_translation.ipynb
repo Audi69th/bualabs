{
  "nbformat": 4,
  "nbformat_minor": 0,
  "metadata": {
    "colab": {
      "name": "26i_seq2seq_translation.ipynb",
      "provenance": [],
      "toc_visible": true,
      "machine_shape": "hm"
    },
    "kernelspec": {
      "name": "python3",
      "display_name": "Python 3"
    },
    "accelerator": "GPU"
  },
  "cells": [
    {
      "cell_type": "markdown",
      "metadata": {
        "colab_type": "text",
        "id": "XlQtoavmlNzL"
      },
      "source": [
        "ใน ep นี้เราจะ"
      ]
    },
    {
      "cell_type": "markdown",
      "metadata": {
        "colab_type": "text",
        "id": "CzApwnjVlKxC"
      },
      "source": [
        "# 0. Install"
      ]
    },
    {
      "cell_type": "code",
      "metadata": {
        "colab_type": "code",
        "id": "0WcUkQRak7e6",
        "colab": {}
      },
      "source": [
        "%reload_ext autoreload\n",
        "%autoreload 2\n",
        "%matplotlib inline"
      ],
      "execution_count": 0,
      "outputs": []
    },
    {
      "cell_type": "markdown",
      "metadata": {
        "colab_type": "text",
        "id": "MGOPzh9vCLJh"
      },
      "source": [
        "Install Library ที่จำเป็น"
      ]
    },
    {
      "cell_type": "code",
      "metadata": {
        "colab_type": "code",
        "id": "o0UgDCGLhby7",
        "outputId": "528132d0-ee2e-4636-e8dd-92d230422a4a",
        "colab": {
          "base_uri": "https://localhost:8080/",
          "height": 51
        }
      },
      "source": [
        "## Colab\n",
        "! curl -s https://course.fast.ai/setup/colab | bash"
      ],
      "execution_count": 2,
      "outputs": [
        {
          "output_type": "stream",
          "text": [
            "Updating fastai...\n",
            "Done.\n"
          ],
          "name": "stdout"
        }
      ]
    },
    {
      "cell_type": "markdown",
      "metadata": {
        "id": "r8Ne5kVMzs9a",
        "colab_type": "text"
      },
      "source": [
        "เช็ค GPU"
      ]
    },
    {
      "cell_type": "code",
      "metadata": {
        "colab_type": "code",
        "id": "cQiYFoC4C8hy",
        "outputId": "0c68541f-6747-43cb-a421-d527f94661b2",
        "colab": {
          "base_uri": "https://localhost:8080/",
          "height": 306
        }
      },
      "source": [
        "! nvidia-smi"
      ],
      "execution_count": 3,
      "outputs": [
        {
          "output_type": "stream",
          "text": [
            "Fri Dec 13 10:21:37 2019       \n",
            "+-----------------------------------------------------------------------------+\n",
            "| NVIDIA-SMI 440.36       Driver Version: 418.67       CUDA Version: 10.1     |\n",
            "|-------------------------------+----------------------+----------------------+\n",
            "| GPU  Name        Persistence-M| Bus-Id        Disp.A | Volatile Uncorr. ECC |\n",
            "| Fan  Temp  Perf  Pwr:Usage/Cap|         Memory-Usage | GPU-Util  Compute M. |\n",
            "|===============================+======================+======================|\n",
            "|   0  Tesla P100-PCIE...  Off  | 00000000:00:04.0 Off |                    0 |\n",
            "| N/A   37C    P0    27W / 250W |      0MiB / 16280MiB |      0%      Default |\n",
            "+-------------------------------+----------------------+----------------------+\n",
            "                                                                               \n",
            "+-----------------------------------------------------------------------------+\n",
            "| Processes:                                                       GPU Memory |\n",
            "|  GPU       PID   Type   Process name                             Usage      |\n",
            "|=============================================================================|\n",
            "|  No running processes found                                                 |\n",
            "+-----------------------------------------------------------------------------+\n"
          ],
          "name": "stdout"
        }
      ]
    },
    {
      "cell_type": "markdown",
      "metadata": {
        "colab_type": "text",
        "id": "3VxLNfAElR29"
      },
      "source": [
        "# 1. Import"
      ]
    },
    {
      "cell_type": "markdown",
      "metadata": {
        "colab_type": "text",
        "id": "nGm02SG0CQrq"
      },
      "source": [
        "Import Library ที่จะใช้ ในที่นี้คือ fastai และ fastai.text "
      ]
    },
    {
      "cell_type": "code",
      "metadata": {
        "colab_type": "code",
        "id": "OORH3obdk-wS",
        "colab": {}
      },
      "source": [
        "from fastai import *\n",
        "from fastai.text import *\n",
        "from fastai.callbacks import *\n",
        "from fastai.callbacks.mem import *"
      ],
      "execution_count": 0,
      "outputs": []
    },
    {
      "cell_type": "code",
      "metadata": {
        "colab_type": "code",
        "id": "nmZehcHclZyM",
        "colab": {}
      },
      "source": [
        "# import fastai.utils.collect_env\n",
        "# fastai.utils.collect_env.show_install()"
      ],
      "execution_count": 0,
      "outputs": []
    },
    {
      "cell_type": "markdown",
      "metadata": {
        "id": "eEbTrCXdBkEG",
        "colab_type": "text"
      },
      "source": [
        "สำหรับ [Google Colab](https://www.bualabs.com/archives/1687/what-is-colab-open-jupyter-notebook-in-github-on-google-colab-create-open-in-colab-button-colab-ep-1/) เราจะกำหนด path ที่เก็บ DataSet และ Mount Google Drive "
      ]
    },
    {
      "cell_type": "code",
      "metadata": {
        "id": "EOLkyx3DcL_k",
        "colab_type": "code",
        "outputId": "cb178d19-dc8d-4ce8-9d7e-9ebfe371ee87",
        "colab": {
          "base_uri": "https://localhost:8080/",
          "height": 54
        }
      },
      "source": [
        "dataset = '26i-giga-fren'\n",
        "\n",
        "# Google Colab\n",
        "config_path = Path('/content/drive')\n",
        "data_path_base = Path('/content/datasets/')\n",
        "\n",
        "data_path = data_path_base/dataset\n",
        "\n",
        "from google.colab import drive\n",
        "drive.mount(str(config_path))"
      ],
      "execution_count": 6,
      "outputs": [
        {
          "output_type": "stream",
          "text": [
            "Drive already mounted at /content/drive; to attempt to forcibly remount, call drive.mount(\"/content/drive\", force_remount=True).\n"
          ],
          "name": "stdout"
        }
      ]
    },
    {
      "cell_type": "markdown",
      "metadata": {
        "colab_type": "text",
        "id": "pv3eV6oElZD2"
      },
      "source": [
        "# 2. Dataset"
      ]
    },
    {
      "cell_type": "markdown",
      "metadata": {
        "colab_type": "text",
        "id": "_9kLpiZj_Rd6"
      },
      "source": [
        "ในเคสนี้เราจะใช้ Human Numbers คือ รายการตัวเลข เขียนเป็นภาษาอังกฤษ "
      ]
    },
    {
      "cell_type": "code",
      "metadata": {
        "id": "JkPHmMH9thma",
        "colab_type": "code",
        "outputId": "35570cd9-d473-47d0-b3e8-e50110806756",
        "colab": {
          "base_uri": "https://localhost:8080/",
          "height": 34
        }
      },
      "source": [
        "data_path"
      ],
      "execution_count": 7,
      "outputs": [
        {
          "output_type": "execute_result",
          "data": {
            "text/plain": [
              "PosixPath('/content/datasets/26i-giga-fren')"
            ]
          },
          "metadata": {
            "tags": []
          },
          "execution_count": 7
        }
      ]
    },
    {
      "cell_type": "code",
      "metadata": {
        "id": "fdNLyWa-elkQ",
        "colab_type": "code",
        "colab": {
          "base_uri": "https://localhost:8080/",
          "height": 224
        },
        "outputId": "9a6cdfb8-1e31-4301-a122-5b9ec3dcd93a"
      },
      "source": [
        "! wget https://s3.amazonaws.com/fast-ai-nlp/giga-fren.tgz -P {data_path}"
      ],
      "execution_count": 8,
      "outputs": [
        {
          "output_type": "stream",
          "text": [
            "--2019-12-13 09:33:10--  https://s3.amazonaws.com/fast-ai-nlp/giga-fren.tgz\n",
            "Resolving s3.amazonaws.com (s3.amazonaws.com)... 52.216.171.165\n",
            "Connecting to s3.amazonaws.com (s3.amazonaws.com)|52.216.171.165|:443... connected.\n",
            "HTTP request sent, awaiting response... 200 OK\n",
            "Length: 2598183296 (2.4G) [application/x-tar]\n",
            "Saving to: ‘/content/datasets/26i-giga-fren/giga-fren.tgz.1’\n",
            "\n",
            "giga-fren.tgz.1     100%[===================>]   2.42G  45.0MB/s    in 58s     \n",
            "\n",
            "2019-12-13 09:34:08 (43.0 MB/s) - ‘/content/datasets/26i-giga-fren/giga-fren.tgz.1’ saved [2598183296/2598183296]\n",
            "\n"
          ],
          "name": "stdout"
        }
      ]
    },
    {
      "cell_type": "code",
      "metadata": {
        "id": "Ewedr1hzenKR",
        "colab_type": "code",
        "colab": {}
      },
      "source": [
        "! tar xf {data_path}/giga-fren.tgz -C {data_path}"
      ],
      "execution_count": 0,
      "outputs": []
    },
    {
      "cell_type": "code",
      "metadata": {
        "id": "yLe6xN8Vepnv",
        "colab_type": "code",
        "colab": {
          "base_uri": "https://localhost:8080/",
          "height": 51
        },
        "outputId": "eec90d74-b960-4b54-ba37-1be2e20e3d85"
      },
      "source": [
        "path = data_path/'giga-fren'\n",
        "path.ls()"
      ],
      "execution_count": 8,
      "outputs": [
        {
          "output_type": "execute_result",
          "data": {
            "text/plain": [
              "[PosixPath('/content/datasets/26i-giga-fren/giga-fren/giga-fren.release2.fixed.fr'),\n",
              " PosixPath('/content/datasets/26i-giga-fren/giga-fren/giga-fren.release2.fixed.en')]"
            ]
          },
          "metadata": {
            "tags": []
          },
          "execution_count": 8
        }
      ]
    },
    {
      "cell_type": "code",
      "metadata": {
        "id": "Mxz7A6FIe3Fi",
        "colab_type": "code",
        "colab": {
          "base_uri": "https://localhost:8080/",
          "height": 207
        },
        "outputId": "2e188883-891b-4c03-fe7e-a3d09438817b"
      },
      "source": [
        "! head {path}/giga-fren.release2.fixed.en"
      ],
      "execution_count": 9,
      "outputs": [
        {
          "output_type": "stream",
          "text": [
            "Changing Lives | Changing Society | How It Works | Technology Drives Change Home | Concepts | Teachers | Search | Overview | Credits | HHCC Web | Reference | Feedback Virtual Museum of Canada Home Page\n",
            "Site map\n",
            "Feedback\n",
            "Credits\n",
            "Français\n",
            "What is light ?\n",
            "The white light spectrum Codes in the light The electromagnetic spectrum Emission spectra Absorption spectra Light-years Light pollution\n",
            "The sky of the first inhabitants A contemporary vison of the Universe Astronomy for everyone\n",
            "Cartoon\n",
            "Links\n"
          ],
          "name": "stdout"
        }
      ]
    },
    {
      "cell_type": "code",
      "metadata": {
        "id": "BEvJiJCXgqmb",
        "colab_type": "code",
        "colab": {
          "base_uri": "https://localhost:8080/",
          "height": 207
        },
        "outputId": "8b5aa23a-c8c7-46a1-f223-0cd13b5c39c6"
      },
      "source": [
        "! head {path}/giga-fren.release2.fixed.fr"
      ],
      "execution_count": 10,
      "outputs": [
        {
          "output_type": "stream",
          "text": [
            "Il a transformé notre vie | Il a transformé la société | Son fonctionnement | La technologie, moteur du changement Accueil | Concepts | Enseignants | Recherche | Aperçu | Collaborateurs | Web HHCC | Ressources | Commentaires Musée virtuel du Canada\n",
            "Plan du site\n",
            "Rétroaction\n",
            "Crédits\n",
            "English\n",
            "Qu’est-ce que la lumière?\n",
            "La découverte du spectre de la lumière blanche Des codes dans la lumière Le spectre électromagnétique Les spectres d’émission Les spectres d’absorption Les années-lumière La pollution lumineuse\n",
            "Le ciel des premiers habitants La vision contemporaine de l'Univers L’astronomie pour tous\n",
            "Bande dessinée\n",
            "Liens\n"
          ],
          "name": "stdout"
        }
      ]
    },
    {
      "cell_type": "markdown",
      "metadata": {
        "id": "8UyLr_W5gtig",
        "colab_type": "text"
      },
      "source": [
        "# 3. Preprocess"
      ]
    },
    {
      "cell_type": "code",
      "metadata": {
        "id": "cHM-gAPNvXhg",
        "colab_type": "code",
        "colab": {}
      },
      "source": [
        "def readfile(d): return [o.strip() for o in open(path/d).readlines()]"
      ],
      "execution_count": 0,
      "outputs": []
    },
    {
      "cell_type": "code",
      "metadata": {
        "id": "ziNRLy78v2HY",
        "colab_type": "code",
        "colab": {}
      },
      "source": [
        "# fr = readfile(path/'giga-fren.release2.fixed.fr')\n",
        "# len(fr)"
      ],
      "execution_count": 0,
      "outputs": []
    },
    {
      "cell_type": "code",
      "metadata": {
        "id": "rBm18b60wDu-",
        "colab_type": "code",
        "colab": {}
      },
      "source": [
        "# en = readfile(path/'giga-fren.release2.fixed.en')\n",
        "# len(en)"
      ],
      "execution_count": 0,
      "outputs": []
    },
    {
      "cell_type": "markdown",
      "metadata": {
        "id": "KaWUtpnahdFg",
        "colab_type": "text"
      },
      "source": [
        "ใช้ [RegEx](https://www.bualabs.com/archives/3070/what-is-regular-expression-regex-regexp-teach-how-to-regex-python-nlp-ep-7/) สกัด เอาเฉพาะประโยคคำถามภาษาอังกฤษออกมา ที่ขึ้นต้นด้วย \"Wh\" และ ลงท้ายด้วย \"?\" และประโยคภาษาฝรั่งเศสที่คู่กัน ที่ลงท้ายด้วย ?"
      ]
    },
    {
      "cell_type": "code",
      "metadata": {
        "id": "orTLOsFThMco",
        "colab_type": "code",
        "colab": {}
      },
      "source": [
        "re_eq = re.compile('^(Wh[^?.!]+\\?)')\n",
        "re_fq = re.compile('^([^?.!]+\\?)')\n",
        "en_fname = path/'giga-fren.release2.fixed.en'\n",
        "fr_fname = path/'giga-fren.release2.fixed.fr'"
      ],
      "execution_count": 0,
      "outputs": []
    },
    {
      "cell_type": "code",
      "metadata": {
        "id": "Hz9fvxgykPtD",
        "colab_type": "code",
        "colab": {}
      },
      "source": [
        "lines = ((re_eq.search(eq), re_fq.search(fq))\n",
        "            for eq, fq in zip(open(en_fname, encoding='utf-8'), open(fr_fname, encoding='utf-8')))\n",
        "qs = [(e.group(), f.group()) for e, f in lines if e and f]"
      ],
      "execution_count": 0,
      "outputs": []
    },
    {
      "cell_type": "code",
      "metadata": {
        "id": "KBFNoItckz82",
        "colab_type": "code",
        "colab": {}
      },
      "source": [
        "qs = [(q1, q2) for q1, q2 in qs]\n",
        "\n",
        "df = pd.DataFrame({'fr': [q[1] for q in qs], 'en': [q[0] for q in qs]}, columns=['en', 'fr'])\n",
        "df.to_csv(path/'questions_easy.csv')"
      ],
      "execution_count": 0,
      "outputs": []
    },
    {
      "cell_type": "code",
      "metadata": {
        "id": "p4iCNPYBlxz8",
        "colab_type": "code",
        "colab": {}
      },
      "source": [
        ""
      ],
      "execution_count": 0,
      "outputs": []
    }
  ]
}