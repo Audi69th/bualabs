{
  "nbformat": 4,
  "nbformat_minor": 0,
  "metadata": {
    "colab": {
      "name": "26i_seq2seq_translation.ipynb",
      "provenance": [],
      "machine_shape": "hm"
    },
    "kernelspec": {
      "name": "python3",
      "display_name": "Python 3"
    },
    "accelerator": "GPU"
  },
  "cells": [
    {
      "cell_type": "markdown",
      "metadata": {
        "colab_type": "text",
        "id": "XlQtoavmlNzL"
      },
      "source": [
        "ใน ep นี้เราจะเรียนรู้งานที่สำคัญอีกอย่างหนึ่งใน NLP คือ งานแปลภาษาด้วยเครื่อง หรือ Machine Translation โดยใช้โมเดลแบบ Sequence to Sequence  \n",
        "\n",
        "โมเดล Seq2Seq จะประกอบด้วย 2 ฝั่ง เรียกว่า \n",
        "\n",
        "* Encoder ภายในเป็น โมเดลแบบ RNN ทำหน้าที่รับข้อความภาษาต้นทางมา แล้วแปลงให้อยู่ในรูปของ Vector Representation \n",
        "* Decoder ภายในเป็น โมเดลแบบ RNN เช่นกัน ทำหน้าที่รับ Vector Representation ไปสร้างเป็นข้อความภาษาปลายทาง ที่ต้องการ\n",
        "\n",
        "เปรียบได้ง่าย ๆ ว่า เป็นโมเดลแบบ [RNN](https://www.bualabs.com/archives/3103/what-is-recurrent-neural-network-rnn-pytorch-gru-nlp-ep-9/) / [LSTM](https://www.bualabs.com/archives/3087/sentiment-classification-deep-learning-imdb-movie-reviews-positive-negative-deep-neural-network-awd-lstm-ulmfit-nlp-ep-8/) / [GRU](https://www.bualabs.com/archives/3103/what-is-recurrent-neural-network-rnn-pytorch-gru-nlp-ep-9/) 2 ตัว ต่อกัน รวมกันเป็นตัวเดียว มีเทคนิคการสร้างโมเดล อีกหลายแบบ เช่น ใช้ Attention, ป้อนข้อความย้อนหลัง, ป้อนข้อความสองรอบ, โมเดลสองทิศทาง, เพิ่มความลึกของโมเดล, etc. และนำไปประยุกต์ใช้ได้อีกหลายงาน เช่น Machine translation, Speech recognition, Video captioning, etc. จะอธิบายต่อไป"
      ]
    },
    {
      "cell_type": "markdown",
      "metadata": {
        "colab_type": "text",
        "id": "CzApwnjVlKxC"
      },
      "source": [
        "# 0. Install"
      ]
    },
    {
      "cell_type": "code",
      "metadata": {
        "colab_type": "code",
        "id": "0WcUkQRak7e6",
        "colab": {}
      },
      "source": [
        "%reload_ext autoreload\n",
        "%autoreload 2\n",
        "%matplotlib inline"
      ],
      "execution_count": 0,
      "outputs": []
    },
    {
      "cell_type": "markdown",
      "metadata": {
        "colab_type": "text",
        "id": "MGOPzh9vCLJh"
      },
      "source": [
        "Install Library ที่จำเป็น"
      ]
    },
    {
      "cell_type": "code",
      "metadata": {
        "colab_type": "code",
        "id": "o0UgDCGLhby7",
        "outputId": "96882480-8634-48bc-95da-4d93b0b28926",
        "colab": {
          "base_uri": "https://localhost:8080/",
          "height": 51
        }
      },
      "source": [
        "## Colab\n",
        "! curl -s https://course.fast.ai/setup/colab | bash"
      ],
      "execution_count": 0,
      "outputs": [
        {
          "output_type": "stream",
          "text": [
            "Updating fastai...\n",
            "Done.\n"
          ],
          "name": "stdout"
        }
      ]
    },
    {
      "cell_type": "markdown",
      "metadata": {
        "id": "r8Ne5kVMzs9a",
        "colab_type": "text"
      },
      "source": [
        "เช็ค GPU"
      ]
    },
    {
      "cell_type": "code",
      "metadata": {
        "colab_type": "code",
        "id": "cQiYFoC4C8hy",
        "outputId": "14b01161-6bb1-4ac6-c417-80d3a18bf61d",
        "colab": {
          "base_uri": "https://localhost:8080/",
          "height": 306
        }
      },
      "source": [
        "! nvidia-smi"
      ],
      "execution_count": 0,
      "outputs": [
        {
          "output_type": "stream",
          "text": [
            "Tue Dec 17 05:09:25 2019       \n",
            "+-----------------------------------------------------------------------------+\n",
            "| NVIDIA-SMI 440.44       Driver Version: 418.67       CUDA Version: 10.1     |\n",
            "|-------------------------------+----------------------+----------------------+\n",
            "| GPU  Name        Persistence-M| Bus-Id        Disp.A | Volatile Uncorr. ECC |\n",
            "| Fan  Temp  Perf  Pwr:Usage/Cap|         Memory-Usage | GPU-Util  Compute M. |\n",
            "|===============================+======================+======================|\n",
            "|   0  Tesla P100-PCIE...  Off  | 00000000:00:04.0 Off |                    0 |\n",
            "| N/A   40C    P0    27W / 250W |      0MiB / 16280MiB |      0%      Default |\n",
            "+-------------------------------+----------------------+----------------------+\n",
            "                                                                               \n",
            "+-----------------------------------------------------------------------------+\n",
            "| Processes:                                                       GPU Memory |\n",
            "|  GPU       PID   Type   Process name                             Usage      |\n",
            "|=============================================================================|\n",
            "|  No running processes found                                                 |\n",
            "+-----------------------------------------------------------------------------+\n"
          ],
          "name": "stdout"
        }
      ]
    },
    {
      "cell_type": "markdown",
      "metadata": {
        "colab_type": "text",
        "id": "3VxLNfAElR29"
      },
      "source": [
        "# 1. Import"
      ]
    },
    {
      "cell_type": "markdown",
      "metadata": {
        "colab_type": "text",
        "id": "nGm02SG0CQrq"
      },
      "source": [
        "Import Library ที่จะใช้ ในที่นี้คือ fastai และ fastai.text "
      ]
    },
    {
      "cell_type": "code",
      "metadata": {
        "colab_type": "code",
        "id": "OORH3obdk-wS",
        "colab": {}
      },
      "source": [
        "from fastai import *\n",
        "from fastai.text import *\n",
        "from fastai.callbacks import *\n",
        "from fastai.callbacks.mem import *"
      ],
      "execution_count": 0,
      "outputs": []
    },
    {
      "cell_type": "code",
      "metadata": {
        "colab_type": "code",
        "id": "nmZehcHclZyM",
        "colab": {}
      },
      "source": [
        "# import fastai.utils.collect_env\n",
        "# fastai.utils.collect_env.show_install()"
      ],
      "execution_count": 0,
      "outputs": []
    },
    {
      "cell_type": "markdown",
      "metadata": {
        "id": "eEbTrCXdBkEG",
        "colab_type": "text"
      },
      "source": [
        "สำหรับ [Google Colab](https://www.bualabs.com/archives/1687/what-is-colab-open-jupyter-notebook-in-github-on-google-colab-create-open-in-colab-button-colab-ep-1/) เราจะกำหนด path ที่เก็บ DataSet และ Mount Google Drive "
      ]
    },
    {
      "cell_type": "code",
      "metadata": {
        "id": "EOLkyx3DcL_k",
        "colab_type": "code",
        "outputId": "22da8f78-f7cb-4c9b-d389-d2078ce41992",
        "colab": {
          "base_uri": "https://localhost:8080/",
          "height": 122
        }
      },
      "source": [
        "dataset = '26i-giga-fren'\n",
        "\n",
        "# Google Colab\n",
        "config_path = Path('/content/drive')\n",
        "data_path_base = Path('/content/datasets/')\n",
        "\n",
        "data_path = data_path_base/dataset\n",
        "\n",
        "from google.colab import drive\n",
        "drive.mount(str(config_path))"
      ],
      "execution_count": 0,
      "outputs": [
        {
          "output_type": "stream",
          "text": [
            "Go to this URL in a browser: https://accounts.google.com/o/oauth2/auth?client_id=947318989803-6bn6qk8qdgf4n4g3pfee6491hc0brc4i.apps.googleusercontent.com&redirect_uri=urn%3aietf%3awg%3aoauth%3a2.0%3aoob&response_type=code&scope=email%20https%3a%2f%2fwww.googleapis.com%2fauth%2fdocs.test%20https%3a%2f%2fwww.googleapis.com%2fauth%2fdrive%20https%3a%2f%2fwww.googleapis.com%2fauth%2fdrive.photos.readonly%20https%3a%2f%2fwww.googleapis.com%2fauth%2fpeopleapi.readonly\n",
            "\n",
            "Enter your authorization code:\n",
            "··········\n",
            "Mounted at /content/drive\n"
          ],
          "name": "stdout"
        }
      ]
    },
    {
      "cell_type": "markdown",
      "metadata": {
        "colab_type": "text",
        "id": "pv3eV6oElZD2"
      },
      "source": [
        "# 2. Dataset"
      ]
    },
    {
      "cell_type": "markdown",
      "metadata": {
        "colab_type": "text",
        "id": "_9kLpiZj_Rd6"
      },
      "source": [
        "ในเคสนี้เราจะใช้ giga-fren คือ Giga-word corpus สำหรับแปลภาษาระหว่างภาษาฝรั่งเศส-ภาษาอังกฤษ (French-English) จากงาน WMT2010 รวบรวมโดย Chris Callison-Burch"
      ]
    },
    {
      "cell_type": "code",
      "metadata": {
        "id": "JkPHmMH9thma",
        "colab_type": "code",
        "outputId": "204a037c-ce10-4cb4-924f-a3586b118750",
        "colab": {
          "base_uri": "https://localhost:8080/",
          "height": 34
        }
      },
      "source": [
        "data_path"
      ],
      "execution_count": 0,
      "outputs": [
        {
          "output_type": "execute_result",
          "data": {
            "text/plain": [
              "PosixPath('/content/datasets/26i-giga-fren')"
            ]
          },
          "metadata": {
            "tags": []
          },
          "execution_count": 8
        }
      ]
    },
    {
      "cell_type": "markdown",
      "metadata": {
        "id": "9hXmwcpYooDl",
        "colab_type": "text"
      },
      "source": [
        "Download ไฟล์มาเก็บไว้ก่อน"
      ]
    },
    {
      "cell_type": "code",
      "metadata": {
        "id": "fdNLyWa-elkQ",
        "colab_type": "code",
        "outputId": "a3654029-9031-4c24-fe4f-b9a9cc5fe61a",
        "colab": {
          "base_uri": "https://localhost:8080/",
          "height": 204
        }
      },
      "source": [
        "# ! wget https://s3.amazonaws.com/fast-ai-nlp/giga-fren.tgz -P {data_path}"
      ],
      "execution_count": 0,
      "outputs": [
        {
          "output_type": "stream",
          "text": [
            "--2019-12-17 05:09:58--  https://s3.amazonaws.com/fast-ai-nlp/giga-fren.tgz\n",
            "Resolving s3.amazonaws.com (s3.amazonaws.com)... 54.231.40.202\n",
            "Connecting to s3.amazonaws.com (s3.amazonaws.com)|54.231.40.202|:443... connected.\n",
            "HTTP request sent, awaiting response... 200 OK\n",
            "Length: 2598183296 (2.4G) [application/x-tar]\n",
            "Saving to: ‘/content/datasets/26i-giga-fren/giga-fren.tgz’\n",
            "\n",
            "giga-fren.tgz       100%[===================>]   2.42G  44.6MB/s    in 52s     \n",
            "\n",
            "2019-12-17 05:10:50 (47.5 MB/s) - ‘/content/datasets/26i-giga-fren/giga-fren.tgz’ saved [2598183296/2598183296]\n",
            "\n"
          ],
          "name": "stdout"
        }
      ]
    },
    {
      "cell_type": "markdown",
      "metadata": {
        "id": "UMcPlK-_otRb",
        "colab_type": "text"
      },
      "source": [
        "แตกไฟล์ ใส่ path ที่กำหนด"
      ]
    },
    {
      "cell_type": "code",
      "metadata": {
        "id": "Ewedr1hzenKR",
        "colab_type": "code",
        "colab": {}
      },
      "source": [
        "# ! tar xf {data_path}/giga-fren.tgz -C {data_path}"
      ],
      "execution_count": 0,
      "outputs": []
    },
    {
      "cell_type": "markdown",
      "metadata": {
        "id": "_a5BNdspouib",
        "colab_type": "text"
      },
      "source": [
        "ดูว่ามีไฟล์อะไรบ้าง"
      ]
    },
    {
      "cell_type": "code",
      "metadata": {
        "id": "yLe6xN8Vepnv",
        "colab_type": "code",
        "outputId": "234042bb-fbf1-4811-d90c-539645517052",
        "colab": {
          "base_uri": "https://localhost:8080/",
          "height": 51
        }
      },
      "source": [
        "path = data_path/'giga-fren'\n",
        "path.ls()"
      ],
      "execution_count": 0,
      "outputs": [
        {
          "output_type": "execute_result",
          "data": {
            "text/plain": [
              "[PosixPath('/content/datasets/26i-giga-fren/giga-fren/giga-fren.release2.fixed.fr'),\n",
              " PosixPath('/content/datasets/26i-giga-fren/giga-fren/giga-fren.release2.fixed.en')]"
            ]
          },
          "metadata": {
            "tags": []
          },
          "execution_count": 11
        }
      ]
    },
    {
      "cell_type": "markdown",
      "metadata": {
        "id": "jXhLqF1no23d",
        "colab_type": "text"
      },
      "source": [
        "ดูตัวอย่างข้อมูล ภาษาอังกฤษ"
      ]
    },
    {
      "cell_type": "code",
      "metadata": {
        "id": "Mxz7A6FIe3Fi",
        "colab_type": "code",
        "outputId": "f8ec340f-735b-4e21-fe07-3d1e7de09f62",
        "colab": {
          "base_uri": "https://localhost:8080/",
          "height": 207
        }
      },
      "source": [
        "! head {path}/giga-fren.release2.fixed.en"
      ],
      "execution_count": 0,
      "outputs": [
        {
          "output_type": "stream",
          "text": [
            "Changing Lives | Changing Society | How It Works | Technology Drives Change Home | Concepts | Teachers | Search | Overview | Credits | HHCC Web | Reference | Feedback Virtual Museum of Canada Home Page\n",
            "Site map\n",
            "Feedback\n",
            "Credits\n",
            "Français\n",
            "What is light ?\n",
            "The white light spectrum Codes in the light The electromagnetic spectrum Emission spectra Absorption spectra Light-years Light pollution\n",
            "The sky of the first inhabitants A contemporary vison of the Universe Astronomy for everyone\n",
            "Cartoon\n",
            "Links\n"
          ],
          "name": "stdout"
        }
      ]
    },
    {
      "cell_type": "markdown",
      "metadata": {
        "id": "v27tje0Vo7Z4",
        "colab_type": "text"
      },
      "source": [
        "มี 22520376 บรรทัด"
      ]
    },
    {
      "cell_type": "code",
      "metadata": {
        "id": "BHdVc8m6Swph",
        "colab_type": "code",
        "outputId": "0c49c393-0fb7-4f1d-9954-2ffd5742d2ab",
        "colab": {
          "base_uri": "https://localhost:8080/",
          "height": 34
        }
      },
      "source": [
        "! wc -l {path}/giga-fren.release2.fixed.en"
      ],
      "execution_count": 0,
      "outputs": [
        {
          "output_type": "stream",
          "text": [
            "22520376 /content/datasets/26i-giga-fren/giga-fren/giga-fren.release2.fixed.en\n"
          ],
          "name": "stdout"
        }
      ]
    },
    {
      "cell_type": "markdown",
      "metadata": {
        "id": "owAraRKfpAWJ",
        "colab_type": "text"
      },
      "source": [
        "ดูตัวอย่างข้อมูล ภาษาฝรั่งเศส จะเห็นว่าตรงกับด้านบน เป็นคู่ ๆ"
      ]
    },
    {
      "cell_type": "code",
      "metadata": {
        "id": "BEvJiJCXgqmb",
        "colab_type": "code",
        "outputId": "ba2cfbb8-f692-41a6-abc0-a495e150ba0c",
        "colab": {
          "base_uri": "https://localhost:8080/",
          "height": 207
        }
      },
      "source": [
        "! head {path}/giga-fren.release2.fixed.fr"
      ],
      "execution_count": 0,
      "outputs": [
        {
          "output_type": "stream",
          "text": [
            "Il a transformé notre vie | Il a transformé la société | Son fonctionnement | La technologie, moteur du changement Accueil | Concepts | Enseignants | Recherche | Aperçu | Collaborateurs | Web HHCC | Ressources | Commentaires Musée virtuel du Canada\n",
            "Plan du site\n",
            "Rétroaction\n",
            "Crédits\n",
            "English\n",
            "Qu’est-ce que la lumière?\n",
            "La découverte du spectre de la lumière blanche Des codes dans la lumière Le spectre électromagnétique Les spectres d’émission Les spectres d’absorption Les années-lumière La pollution lumineuse\n",
            "Le ciel des premiers habitants La vision contemporaine de l'Univers L’astronomie pour tous\n",
            "Bande dessinée\n",
            "Liens\n"
          ],
          "name": "stdout"
        }
      ]
    },
    {
      "cell_type": "markdown",
      "metadata": {
        "id": "sO5yrE1OpJqx",
        "colab_type": "text"
      },
      "source": [
        "มี 22520376 บรรทัด เท่ากัน"
      ]
    },
    {
      "cell_type": "code",
      "metadata": {
        "id": "DVM33DsHS1QX",
        "colab_type": "code",
        "outputId": "fbebc0f1-bd28-4d64-ec15-511597467240",
        "colab": {
          "base_uri": "https://localhost:8080/",
          "height": 34
        }
      },
      "source": [
        "! wc -l {path}/giga-fren.release2.fixed.fr"
      ],
      "execution_count": 0,
      "outputs": [
        {
          "output_type": "stream",
          "text": [
            "22520376 /content/datasets/26i-giga-fren/giga-fren/giga-fren.release2.fixed.fr\n"
          ],
          "name": "stdout"
        }
      ]
    },
    {
      "cell_type": "markdown",
      "metadata": {
        "id": "8UyLr_W5gtig",
        "colab_type": "text"
      },
      "source": [
        "# 3. Preprocess"
      ]
    },
    {
      "cell_type": "markdown",
      "metadata": {
        "id": "okKbONI6pNUf",
        "colab_type": "text"
      },
      "source": [
        "เพื่อความง่ายในการเรียน และจะได้เทรนได้เร็ว Dataset ข้อมูลที่ได้มา เราจะมาคัดเฉพาะประโยคคำถามเท่านั้น"
      ]
    },
    {
      "cell_type": "code",
      "metadata": {
        "id": "cHM-gAPNvXhg",
        "colab_type": "code",
        "colab": {}
      },
      "source": [
        "def readfile(d): return [o.strip() for o in open(path/d).readlines()]"
      ],
      "execution_count": 0,
      "outputs": []
    },
    {
      "cell_type": "code",
      "metadata": {
        "id": "ziNRLy78v2HY",
        "colab_type": "code",
        "colab": {}
      },
      "source": [
        "# fr = readfile(path/'giga-fren.release2.fixed.fr')\n",
        "# len(fr)"
      ],
      "execution_count": 0,
      "outputs": []
    },
    {
      "cell_type": "code",
      "metadata": {
        "id": "rBm18b60wDu-",
        "colab_type": "code",
        "colab": {}
      },
      "source": [
        "# en = readfile(path/'giga-fren.release2.fixed.en')\n",
        "# len(en)"
      ],
      "execution_count": 0,
      "outputs": []
    },
    {
      "cell_type": "markdown",
      "metadata": {
        "id": "KaWUtpnahdFg",
        "colab_type": "text"
      },
      "source": [
        "ใช้ [RegEx](https://www.bualabs.com/archives/3070/what-is-regular-expression-regex-regexp-teach-how-to-regex-python-nlp-ep-7/) สกัด เอาเฉพาะประโยคคำถามภาษาอังกฤษออกมา ที่ขึ้นต้นด้วย \"Wh\" และ ลงท้ายด้วย \"?\" และประโยคภาษาฝรั่งเศสที่คู่กัน ที่ลงท้ายด้วย ?"
      ]
    },
    {
      "cell_type": "code",
      "metadata": {
        "id": "orTLOsFThMco",
        "colab_type": "code",
        "colab": {}
      },
      "source": [
        "re_eq = re.compile('^(Wh[^?.!]+\\?)')\n",
        "re_fq = re.compile('^([^?.!]+\\?)')\n",
        "en_fname = path/'giga-fren.release2.fixed.en'\n",
        "fr_fname = path/'giga-fren.release2.fixed.fr'"
      ],
      "execution_count": 0,
      "outputs": []
    },
    {
      "cell_type": "code",
      "metadata": {
        "id": "Hz9fvxgykPtD",
        "colab_type": "code",
        "colab": {}
      },
      "source": [
        "lines = ((re_eq.search(eq), re_fq.search(fq))\n",
        "            for eq, fq in zip(open(en_fname, encoding='utf-8'), open(fr_fname, encoding='utf-8')))\n",
        "qs = [(e.group(), f.group()) for e, f in lines if e and f]"
      ],
      "execution_count": 0,
      "outputs": []
    },
    {
      "cell_type": "markdown",
      "metadata": {
        "id": "qFZqBKpXpjhv",
        "colab_type": "text"
      },
      "source": [
        "ได้มาแล้ว Save ใส่ไฟล์ csv ไว้ก่อน"
      ]
    },
    {
      "cell_type": "code",
      "metadata": {
        "id": "KBFNoItckz82",
        "colab_type": "code",
        "colab": {}
      },
      "source": [
        "qs = [(q1, q2) for q1, q2 in qs]\n",
        "\n",
        "df = pd.DataFrame({'fr': [q[1] for q in qs], 'en': [q[0] for q in qs]}, columns=['en', 'fr'])\n",
        "df.to_csv(path/'questions_easy.csv', index=False)"
      ],
      "execution_count": 0,
      "outputs": []
    },
    {
      "cell_type": "code",
      "metadata": {
        "id": "p4iCNPYBlxz8",
        "colab_type": "code",
        "outputId": "7b35fd4f-64f1-4f10-8fea-8030a55ea5ae",
        "colab": {
          "base_uri": "https://localhost:8080/",
          "height": 68
        }
      },
      "source": [
        "path.ls()"
      ],
      "execution_count": 0,
      "outputs": [
        {
          "output_type": "execute_result",
          "data": {
            "text/plain": [
              "[PosixPath('/content/datasets/26i-giga-fren/giga-fren/giga-fren.release2.fixed.fr'),\n",
              " PosixPath('/content/datasets/26i-giga-fren/giga-fren/questions_easy.csv'),\n",
              " PosixPath('/content/datasets/26i-giga-fren/giga-fren/giga-fren.release2.fixed.en')]"
            ]
          },
          "metadata": {
            "tags": []
          },
          "execution_count": 22
        }
      ]
    },
    {
      "cell_type": "markdown",
      "metadata": {
        "id": "nYK1xIZYgaHf",
        "colab_type": "text"
      },
      "source": [
        "โหลดไฟล์ CSV ขึ้นมา แสดงตัวอย่างข้อมูล ใน DataFrame"
      ]
    },
    {
      "cell_type": "code",
      "metadata": {
        "id": "maHUUpB8gcbm",
        "colab_type": "code",
        "outputId": "b5cda0a6-2079-4d76-9375-1638b39f40a1",
        "colab": {
          "base_uri": "https://localhost:8080/",
          "height": 204
        }
      },
      "source": [
        "df = pd.read_csv(path/'questions_easy.csv')\n",
        "df.head()"
      ],
      "execution_count": 0,
      "outputs": [
        {
          "output_type": "execute_result",
          "data": {
            "text/html": [
              "<div>\n",
              "<style scoped>\n",
              "    .dataframe tbody tr th:only-of-type {\n",
              "        vertical-align: middle;\n",
              "    }\n",
              "\n",
              "    .dataframe tbody tr th {\n",
              "        vertical-align: top;\n",
              "    }\n",
              "\n",
              "    .dataframe thead th {\n",
              "        text-align: right;\n",
              "    }\n",
              "</style>\n",
              "<table border=\"1\" class=\"dataframe\">\n",
              "  <thead>\n",
              "    <tr style=\"text-align: right;\">\n",
              "      <th></th>\n",
              "      <th>en</th>\n",
              "      <th>fr</th>\n",
              "    </tr>\n",
              "  </thead>\n",
              "  <tbody>\n",
              "    <tr>\n",
              "      <th>0</th>\n",
              "      <td>What is light ?</td>\n",
              "      <td>Qu’est-ce que la lumière?</td>\n",
              "    </tr>\n",
              "    <tr>\n",
              "      <th>1</th>\n",
              "      <td>Who are we?</td>\n",
              "      <td>Où sommes-nous?</td>\n",
              "    </tr>\n",
              "    <tr>\n",
              "      <th>2</th>\n",
              "      <td>Where did we come from?</td>\n",
              "      <td>D'où venons-nous?</td>\n",
              "    </tr>\n",
              "    <tr>\n",
              "      <th>3</th>\n",
              "      <td>What would we do without it?</td>\n",
              "      <td>Que ferions-nous sans elle ?</td>\n",
              "    </tr>\n",
              "    <tr>\n",
              "      <th>4</th>\n",
              "      <td>What is the absolute location (latitude and lo...</td>\n",
              "      <td>Quelle sont les coordonnées (latitude et longi...</td>\n",
              "    </tr>\n",
              "  </tbody>\n",
              "</table>\n",
              "</div>"
            ],
            "text/plain": [
              "                                                  en                                                 fr\n",
              "0                                    What is light ?                          Qu’est-ce que la lumière?\n",
              "1                                        Who are we?                                    Où sommes-nous?\n",
              "2                            Where did we come from?                                  D'où venons-nous?\n",
              "3                       What would we do without it?                       Que ferions-nous sans elle ?\n",
              "4  What is the absolute location (latitude and lo...  Quelle sont les coordonnées (latitude et longi..."
            ]
          },
          "metadata": {
            "tags": []
          },
          "execution_count": 23
        }
      ]
    },
    {
      "cell_type": "code",
      "metadata": {
        "id": "VtroS2PFUqf2",
        "colab_type": "code",
        "outputId": "5df58cc1-2940-44e1-b100-1a2b8d770654",
        "colab": {
          "base_uri": "https://localhost:8080/",
          "height": 204
        }
      },
      "source": [
        "df.tail()"
      ],
      "execution_count": 0,
      "outputs": [
        {
          "output_type": "execute_result",
          "data": {
            "text/html": [
              "<div>\n",
              "<style scoped>\n",
              "    .dataframe tbody tr th:only-of-type {\n",
              "        vertical-align: middle;\n",
              "    }\n",
              "\n",
              "    .dataframe tbody tr th {\n",
              "        vertical-align: top;\n",
              "    }\n",
              "\n",
              "    .dataframe thead th {\n",
              "        text-align: right;\n",
              "    }\n",
              "</style>\n",
              "<table border=\"1\" class=\"dataframe\">\n",
              "  <thead>\n",
              "    <tr style=\"text-align: right;\">\n",
              "      <th></th>\n",
              "      <th>en</th>\n",
              "      <th>fr</th>\n",
              "    </tr>\n",
              "  </thead>\n",
              "  <tbody>\n",
              "    <tr>\n",
              "      <th>52326</th>\n",
              "      <td>What are the mechanisms for increasing women's...</td>\n",
              "      <td>Quels sont les mécanismes susceptibles d’améli...</td>\n",
              "    </tr>\n",
              "    <tr>\n",
              "      <th>52327</th>\n",
              "      <td>Why is it still pushed aside, silenced, or the...</td>\n",
              "      <td>Pourquoi, aujourd'hui encore, écarte-t-on cett...</td>\n",
              "    </tr>\n",
              "    <tr>\n",
              "      <th>52328</th>\n",
              "      <td>Why should they not demote a judge who rules a...</td>\n",
              "      <td>Pourquoi ne devraient-ils pas destituer un jug...</td>\n",
              "    </tr>\n",
              "    <tr>\n",
              "      <th>52329</th>\n",
              "      <td>Why is it that we have achieved judicial indep...</td>\n",
              "      <td>Pourquoi avons-nous réussi à atteindre l'indép...</td>\n",
              "    </tr>\n",
              "    <tr>\n",
              "      <th>52330</th>\n",
              "      <td>What's Inside Introduction to STI Did you know…?</td>\n",
              "      <td>Contenu Introduction aux ITS Saviez-vous que…?</td>\n",
              "    </tr>\n",
              "  </tbody>\n",
              "</table>\n",
              "</div>"
            ],
            "text/plain": [
              "                                                      en                                                 fr\n",
              "52326  What are the mechanisms for increasing women's...  Quels sont les mécanismes susceptibles d’améli...\n",
              "52327  Why is it still pushed aside, silenced, or the...  Pourquoi, aujourd'hui encore, écarte-t-on cett...\n",
              "52328  Why should they not demote a judge who rules a...  Pourquoi ne devraient-ils pas destituer un jug...\n",
              "52329  Why is it that we have achieved judicial indep...  Pourquoi avons-nous réussi à atteindre l'indép...\n",
              "52330   What's Inside Introduction to STI Did you know…?     Contenu Introduction aux ITS Saviez-vous que…?"
            ]
          },
          "metadata": {
            "tags": []
          },
          "execution_count": 24
        }
      ]
    },
    {
      "cell_type": "markdown",
      "metadata": {
        "id": "IaQ71XfWgh6n",
        "colab_type": "text"
      },
      "source": [
        "เพื่อให้ง่ายขึ้นอีก เราจะแปลงเป็นตัวเล็กให้หมด"
      ]
    },
    {
      "cell_type": "code",
      "metadata": {
        "id": "h_1MfgWUh9wq",
        "colab_type": "code",
        "colab": {}
      },
      "source": [
        "df['en'] = df['en'].apply(lambda x: x.lower())\n",
        "df['fr'] = df['fr'].apply(lambda x: x.lower())"
      ],
      "execution_count": 0,
      "outputs": []
    },
    {
      "cell_type": "code",
      "metadata": {
        "id": "NQjj0jeeiXnK",
        "colab_type": "code",
        "outputId": "638e034f-330a-4ee2-b830-c666305c9baa",
        "colab": {
          "base_uri": "https://localhost:8080/",
          "height": 204
        }
      },
      "source": [
        "df.head()"
      ],
      "execution_count": 0,
      "outputs": [
        {
          "output_type": "execute_result",
          "data": {
            "text/html": [
              "<div>\n",
              "<style scoped>\n",
              "    .dataframe tbody tr th:only-of-type {\n",
              "        vertical-align: middle;\n",
              "    }\n",
              "\n",
              "    .dataframe tbody tr th {\n",
              "        vertical-align: top;\n",
              "    }\n",
              "\n",
              "    .dataframe thead th {\n",
              "        text-align: right;\n",
              "    }\n",
              "</style>\n",
              "<table border=\"1\" class=\"dataframe\">\n",
              "  <thead>\n",
              "    <tr style=\"text-align: right;\">\n",
              "      <th></th>\n",
              "      <th>en</th>\n",
              "      <th>fr</th>\n",
              "    </tr>\n",
              "  </thead>\n",
              "  <tbody>\n",
              "    <tr>\n",
              "      <th>0</th>\n",
              "      <td>what is light ?</td>\n",
              "      <td>qu’est-ce que la lumière?</td>\n",
              "    </tr>\n",
              "    <tr>\n",
              "      <th>1</th>\n",
              "      <td>who are we?</td>\n",
              "      <td>où sommes-nous?</td>\n",
              "    </tr>\n",
              "    <tr>\n",
              "      <th>2</th>\n",
              "      <td>where did we come from?</td>\n",
              "      <td>d'où venons-nous?</td>\n",
              "    </tr>\n",
              "    <tr>\n",
              "      <th>3</th>\n",
              "      <td>what would we do without it?</td>\n",
              "      <td>que ferions-nous sans elle ?</td>\n",
              "    </tr>\n",
              "    <tr>\n",
              "      <th>4</th>\n",
              "      <td>what is the absolute location (latitude and lo...</td>\n",
              "      <td>quelle sont les coordonnées (latitude et longi...</td>\n",
              "    </tr>\n",
              "  </tbody>\n",
              "</table>\n",
              "</div>"
            ],
            "text/plain": [
              "                                                  en                                                 fr\n",
              "0                                    what is light ?                          qu’est-ce que la lumière?\n",
              "1                                        who are we?                                    où sommes-nous?\n",
              "2                            where did we come from?                                  d'où venons-nous?\n",
              "3                       what would we do without it?                       que ferions-nous sans elle ?\n",
              "4  what is the absolute location (latitude and lo...  quelle sont les coordonnées (latitude et longi..."
            ]
          },
          "metadata": {
            "tags": []
          },
          "execution_count": 26
        }
      ]
    },
    {
      "cell_type": "markdown",
      "metadata": {
        "id": "L742mP1h3cCh",
        "colab_type": "text"
      },
      "source": [
        "เนื่องจากข้อความทั้ง 2 ภาษา มีความยาวไม่เท่ากัน ประกาศฟังก์ชัน เรียงรวมข้อมูล โดยใส่ padding ให้ยาวเท่ากัน โมเดลจะได้ทำงานง่ายขึ้น"
      ]
    },
    {
      "cell_type": "code",
      "metadata": {
        "id": "eTa2IGaD2fWV",
        "colab_type": "code",
        "colab": {}
      },
      "source": [
        "def seq2seq_collate(samples, pad_idx=1, pad_first=True, backwards=False):\n",
        "    samples = to_data(samples)\n",
        "    max_len_x, max_len_y = max([len(s[0]) for s in samples]), max([len(s[1]) for s in samples])\n",
        "    res_x = torch.zeros(len(samples), max_len_x).long() + pad_idx\n",
        "    res_y = torch.zeros(len(samples), max_len_y).long() + pad_idx\n",
        "\n",
        "    if backwards: pad_first = not pad_first\n",
        "    for i, s in enumerate(samples): \n",
        "        if pad_first:\n",
        "            res_x[i, -len(s[0]):], res_y[i, -len(s[1]):] = LongTensor(s[0]), LongTensor(s[1])\n",
        "        else:\n",
        "            res_x[i, :len(s[0]):], res_y[i, :len(s[1]):] = LongTensor(s[0]), LongTensor(s[1])\n",
        "    if backwards: res_x, res_y = res_x.flip(1), res_y.flip(1)\n",
        "    return res_x, res_y"
      ],
      "execution_count": 0,
      "outputs": []
    },
    {
      "cell_type": "markdown",
      "metadata": {
        "id": "aaRdVTLiqLaD",
        "colab_type": "text"
      },
      "source": [
        "ประกาศ Class DataBunch สำหรับ Sequence to Sequence ที่ใช้ Collate ด้านบน และ Sampler แบบ SortishSampler สำหรับ Training Set และ SortSampler สำหรับ Validation Set"
      ]
    },
    {
      "cell_type": "markdown",
      "metadata": {
        "id": "aZu42VYS1u82",
        "colab_type": "text"
      },
      "source": [
        "SortishSampler คือ เลือกข้อมูลออกมา ตามลำดับความยาวข้อความ ผสมด้วยความ Random เล็กน้อย เหมาะกับใช้สำหรับ Training Set"
      ]
    },
    {
      "cell_type": "code",
      "metadata": {
        "id": "QapwAd2biYjJ",
        "colab_type": "code",
        "colab": {}
      },
      "source": [
        "class Seq2SeqDataBunch(TextDataBunch):\n",
        "    @classmethod\n",
        "    def create(cls, train_ds, valid_ds, test_ds=None, path:PathOrStr='.', \n",
        "               bs:int=32, val_bs:int=None, pad_idx=1, dl_tfms=None, \n",
        "               pad_first=False, device:torch.device=None, no_check:bool=False, \n",
        "               backwards:bool=False, **dl_kwargs) -> DataBunch:\n",
        "\n",
        "        datasets = cls._init_ds(train_ds, valid_ds, test_ds)\n",
        "        val_bs = ifnone(val_bs, bs)\n",
        "        collate_fn = partial(seq2seq_collate, pad_idx=pad_idx, \n",
        "                             pad_first=pad_first, backwards=backwards)\n",
        "        train_sampler = SortishSampler(datasets[0].x, \n",
        "                                       key=lambda t: len(datasets[0][t][0].data), bs=bs//2)\n",
        "        train_dl = DataLoader(datasets[0], batch_size=bs, sampler=train_sampler, drop_last=True, **dl_kwargs)\n",
        "        dataloaders = [train_dl]\n",
        "        for ds in datasets[1:]:\n",
        "            lengths = [len(t) for t in ds.x.items]\n",
        "            sampler = SortSampler(ds.x, key=lengths.__getitem__)\n",
        "            dataloaders.append(DataLoader(ds, batch_size=val_bs, sampler=sampler, **dl_kwargs))\n",
        "        return cls(*dataloaders, path=path, device=device, collate_fn=collate_fn, no_check=no_check)\n"
      ],
      "execution_count": 0,
      "outputs": []
    },
    {
      "cell_type": "code",
      "metadata": {
        "id": "ieRoRVDDrogx",
        "colab_type": "code",
        "colab": {}
      },
      "source": [
        "# SortishSampler??"
      ],
      "execution_count": 0,
      "outputs": []
    },
    {
      "cell_type": "markdown",
      "metadata": {
        "id": "8CDd8KiHsOCP",
        "colab_type": "text"
      },
      "source": [
        "Seq2SeqTextList มี Label เป็น TextList"
      ]
    },
    {
      "cell_type": "code",
      "metadata": {
        "id": "1TEIGlxzr0zv",
        "colab_type": "code",
        "colab": {}
      },
      "source": [
        "class Seq2SeqTextList(TextList):\n",
        "    _bunch = Seq2SeqDataBunch\n",
        "    _label_cls = TextList"
      ],
      "execution_count": 0,
      "outputs": []
    },
    {
      "cell_type": "markdown",
      "metadata": {
        "id": "1cXEC5qmwf8m",
        "colab_type": "text"
      },
      "source": [
        "กำหนด Data Pipeline ด้วย Data Block API \n",
        "\n",
        "Split ด้วยการ Random แล้วให้ข้อมูลตัวอย่าง x เป็นประโยคภาษาฝรั่งเศส จาก DataFrame Column fr และ แปะ Label y เป็นประโยคภาษาอังกฤษ จาก DataFrame Column en"
      ]
    },
    {
      "cell_type": "code",
      "metadata": {
        "id": "ww-Rf3J0wBU1",
        "colab_type": "code",
        "outputId": "1d41fdf3-9aec-4ec6-8ffe-28aafd050f2c",
        "colab": {
          "base_uri": "https://localhost:8080/",
          "height": 17
        }
      },
      "source": [
        "src = Seq2SeqTextList.from_df(df, path=path, cols='fr').split_by_rand_pct(seed=42).label_from_df(cols='en', label_cls=TextList)"
      ],
      "execution_count": 0,
      "outputs": [
        {
          "output_type": "display_data",
          "data": {
            "text/html": [
              ""
            ],
            "text/plain": [
              "<IPython.core.display.HTML object>"
            ]
          },
          "metadata": {
            "tags": []
          }
        },
        {
          "output_type": "display_data",
          "data": {
            "text/html": [
              ""
            ],
            "text/plain": [
              "<IPython.core.display.HTML object>"
            ]
          },
          "metadata": {
            "tags": []
          }
        },
        {
          "output_type": "display_data",
          "data": {
            "text/html": [
              ""
            ],
            "text/plain": [
              "<IPython.core.display.HTML object>"
            ]
          },
          "metadata": {
            "tags": []
          }
        },
        {
          "output_type": "display_data",
          "data": {
            "text/html": [
              ""
            ],
            "text/plain": [
              "<IPython.core.display.HTML object>"
            ]
          },
          "metadata": {
            "tags": []
          }
        }
      ]
    },
    {
      "cell_type": "markdown",
      "metadata": {
        "id": "qVtvRbdL0ElO",
        "colab_type": "text"
      },
      "source": [
        "ดูตำแหน่ง Token ที่ความยาว 90% \n",
        "\n",
        "ได้โดยเฉลี่ยไม่เกิน 28 Token สำหรับภาษาฝรั่งเศส และ 23 Token สำหรับ ภาษาอังกฤษ"
      ]
    },
    {
      "cell_type": "code",
      "metadata": {
        "id": "sPev7JBwwU8d",
        "colab_type": "code",
        "outputId": "c36a4f06-111e-4d2a-c107-046d9ea551f7",
        "colab": {
          "base_uri": "https://localhost:8080/",
          "height": 34
        }
      },
      "source": [
        "np.percentile([len(o) for o in src.train.x.items] + [len(o) for o in src.valid.x.items], 90)"
      ],
      "execution_count": 0,
      "outputs": [
        {
          "output_type": "execute_result",
          "data": {
            "text/plain": [
              "28.0"
            ]
          },
          "metadata": {
            "tags": []
          },
          "execution_count": 32
        }
      ]
    },
    {
      "cell_type": "code",
      "metadata": {
        "id": "hFuTzxRRxG8c",
        "colab_type": "code",
        "outputId": "58a467e0-90f4-402d-a6f9-18418b2aea73",
        "colab": {
          "base_uri": "https://localhost:8080/",
          "height": 34
        }
      },
      "source": [
        "np.percentile([len(o) for o in src.train.y.items] + [len(o) for o in src.valid.y.items], 90)"
      ],
      "execution_count": 0,
      "outputs": [
        {
          "output_type": "execute_result",
          "data": {
            "text/plain": [
              "23.0"
            ]
          },
          "metadata": {
            "tags": []
          },
          "execution_count": 33
        }
      ]
    },
    {
      "cell_type": "markdown",
      "metadata": {
        "id": "_ngQG4tq0mwf",
        "colab_type": "text"
      },
      "source": [
        "เพื่อความง่าย เราจะลบ ประโยคที่ยาวกว่า 30 Token ในภาษาใดภาษาหนึ่ง (ไม่ถึง 10%) ทิ้งไป"
      ]
    },
    {
      "cell_type": "code",
      "metadata": {
        "id": "azdn368z0u9R",
        "colab_type": "code",
        "colab": {}
      },
      "source": [
        "src = src.filter_by_func(lambda x, y: len(x) > 30 or len(y) > 30)"
      ],
      "execution_count": 0,
      "outputs": []
    },
    {
      "cell_type": "markdown",
      "metadata": {
        "id": "5RNsStku1DFk",
        "colab_type": "text"
      },
      "source": [
        "เหลือ 48350 คู่ประโยค"
      ]
    },
    {
      "cell_type": "code",
      "metadata": {
        "id": "6O_i8-lC08rO",
        "colab_type": "code",
        "outputId": "b801e878-bd01-4ca1-e4b9-f7336fd28aa3",
        "colab": {
          "base_uri": "https://localhost:8080/",
          "height": 34
        }
      },
      "source": [
        "len(src.train) + len(src.valid)"
      ],
      "execution_count": 0,
      "outputs": [
        {
          "output_type": "execute_result",
          "data": {
            "text/plain": [
              "48350"
            ]
          },
          "metadata": {
            "tags": []
          },
          "execution_count": 35
        }
      ]
    },
    {
      "cell_type": "markdown",
      "metadata": {
        "id": "Tl0KFfUus0KQ",
        "colab_type": "text"
      },
      "source": [
        "สร้าง DataBunch เอาไว้เตรียม Feed ให้โมเดล"
      ]
    },
    {
      "cell_type": "code",
      "metadata": {
        "id": "moi0JGOM1E1W",
        "colab_type": "code",
        "colab": {}
      },
      "source": [
        "data = src.databunch()"
      ],
      "execution_count": 0,
      "outputs": []
    },
    {
      "cell_type": "markdown",
      "metadata": {
        "id": "I35smSDd9FSv",
        "colab_type": "text"
      },
      "source": [
        "Save ไว้ก่อน คราวหน้าจะได้ไม่ต้อง Preprocess ใหม่"
      ]
    },
    {
      "cell_type": "code",
      "metadata": {
        "id": "_LY4D3F_1a4k",
        "colab_type": "code",
        "colab": {}
      },
      "source": [
        "data.save()"
      ],
      "execution_count": 0,
      "outputs": []
    },
    {
      "cell_type": "code",
      "metadata": {
        "id": "-96BbAjk1735",
        "colab_type": "code",
        "colab": {}
      },
      "source": [
        "# data"
      ],
      "execution_count": 0,
      "outputs": []
    },
    {
      "cell_type": "code",
      "metadata": {
        "id": "UGEA9Km78-9c",
        "colab_type": "code",
        "outputId": "ded3142b-955c-4afe-ab3b-22a42d0e934a",
        "colab": {
          "base_uri": "https://localhost:8080/",
          "height": 34
        }
      },
      "source": [
        "path"
      ],
      "execution_count": 0,
      "outputs": [
        {
          "output_type": "execute_result",
          "data": {
            "text/plain": [
              "PosixPath('/content/datasets/26i-giga-fren/giga-fren')"
            ]
          },
          "metadata": {
            "tags": []
          },
          "execution_count": 40
        }
      ]
    },
    {
      "cell_type": "markdown",
      "metadata": {
        "id": "GCXAme37s52N",
        "colab_type": "text"
      },
      "source": [
        "โหลด DataBunch ที่เรา Preprocess เตรียมไว้ก่อนหน้านี้ ขึ้นมา"
      ]
    },
    {
      "cell_type": "code",
      "metadata": {
        "id": "J9XRY8Sv9T9C",
        "colab_type": "code",
        "colab": {}
      },
      "source": [
        "data = load_data(path)"
      ],
      "execution_count": 0,
      "outputs": []
    },
    {
      "cell_type": "markdown",
      "metadata": {
        "id": "DCnaowzds_kS",
        "colab_type": "text"
      },
      "source": [
        "ดูตัวอย่างข้อมูลใน Batch แรก"
      ]
    },
    {
      "cell_type": "code",
      "metadata": {
        "id": "rt4p0UJt9Wsl",
        "colab_type": "code",
        "outputId": "ea7fe2ea-631f-48de-e096-8df688e7c9d1",
        "colab": {
          "base_uri": "https://localhost:8080/",
          "height": 306
        }
      },
      "source": [
        "data.show_batch()"
      ],
      "execution_count": 0,
      "outputs": [
        {
          "output_type": "display_data",
          "data": {
            "text/html": [
              "<table border=\"1\" class=\"dataframe\">\n",
              "  <thead>\n",
              "    <tr style=\"text-align: right;\">\n",
              "      <th>text</th>\n",
              "      <th>target</th>\n",
              "    </tr>\n",
              "  </thead>\n",
              "  <tbody>\n",
              "    <tr>\n",
              "      <td>xxbos quels services offrez - vous aux résidents , par l'entremise de votre propre organisation , par l'entremise de liens / partenariats avec des organismes communautaires ou les deux ?</td>\n",
              "      <td>xxbos which of the following services do you offer to residents either through your own organization or through linkages and / or partnerships with community agencies or both ?</td>\n",
              "    </tr>\n",
              "    <tr>\n",
              "      <td>xxbos quelles initiatives ont été prises , conformément aux recommandations précédentes du comité , pour sensibiliser tant les hommes que les femmes à la contraception et aux méthodes xxunk ?</td>\n",
              "      <td>xxbos what steps have been taken , in line with the committee ’s previous recommendations , to raise awareness about contraception and xxunk methods among both men and women ?</td>\n",
              "    </tr>\n",
              "    <tr>\n",
              "      <td>xxbos qu’en est - il d’un leader qui ne possède que deux de ces caractéristiques ou de celui qui ne manifeste que de temps en temps certains comportements xxunk ?</td>\n",
              "      <td>xxbos what if a leader xxunk only two of the factors ?</td>\n",
              "    </tr>\n",
              "    <tr>\n",
              "      <td>xxbos quels mécanismes d'évaluation , de surveillance ou de responsabilisation sont en place pour l'étude de cas , tant dans le cadre de l'initiative qu'à l'intérieur de votre organisation ?</td>\n",
              "      <td>xxbos what evaluation , monitoring or other accountability mechanisms are in place for this work , within the initiative and within your organization ?</td>\n",
              "    </tr>\n",
              "    <tr>\n",
              "      <td>xxbos quelles sont les hypothèses , selon la définition actuelle du développement , do nt les pays en développement sont censés s'inspirer pour réformer leurs systèmes de politique sociale ?</td>\n",
              "      <td>xxbos what are the assumptions in the current understanding of development that developing countries are expected to accommodate in reforming their social - policy systems ?</td>\n",
              "    </tr>\n",
              "  </tbody>\n",
              "</table>"
            ],
            "text/plain": [
              "<IPython.core.display.HTML object>"
            ]
          },
          "metadata": {
            "tags": []
          }
        }
      ]
    },
    {
      "cell_type": "markdown",
      "metadata": {
        "id": "-I0CEK5a9ZYY",
        "colab_type": "text"
      },
      "source": [
        "# 4. Model"
      ]
    },
    {
      "cell_type": "markdown",
      "metadata": {
        "id": "1WY3fkwB9gfB",
        "colab_type": "text"
      },
      "source": [
        "แทนที่จะเทรนแต่ต้นทั้งหมด เราจะใช้ Transfer Learning เพื่อประหยัดเวลา และเพิ่มประสิทธิภาพ แต่ในงานนี้เราจะใช้เฉพาะ Embedding"
      ]
    },
    {
      "cell_type": "markdown",
      "metadata": {
        "id": "eVrwT8k9HomY",
        "colab_type": "text"
      },
      "source": [
        "## 4.1 Embedding"
      ]
    },
    {
      "cell_type": "markdown",
      "metadata": {
        "id": "8pnqfA2dHpV9",
        "colab_type": "text"
      },
      "source": [
        "โดยในส่วนของ Word Embedding เราจะใช้ Pre-trained Word Vector 300 มิติ n-grams ความยาว 5 character, ขนาด window 5 and 10 negatives จาก FastText ของ Facebook ที่เทรนด้วยข้อมูลจาก Common Crawl และ Wikipedia ด้วยวิธี Continuous Bag of Words (CBOW) จะอธิบายต่อไป"
      ]
    },
    {
      "cell_type": "code",
      "metadata": {
        "id": "dgegKz2H-Sy-",
        "colab_type": "code",
        "outputId": "8037b847-49de-4519-d0ae-7a6f98a1a19b",
        "colab": {
          "base_uri": "https://localhost:8080/",
          "height": 258
        }
      },
      "source": [
        "! pip install fasttext"
      ],
      "execution_count": 0,
      "outputs": [
        {
          "output_type": "stream",
          "text": [
            "Collecting fasttext\n",
            "\u001b[?25l  Downloading https://files.pythonhosted.org/packages/10/61/2e01f1397ec533756c1d893c22d9d5ed3fce3a6e4af1976e0d86bb13ea97/fasttext-0.9.1.tar.gz (57kB)\n",
            "\u001b[K     |████████████████████████████████| 61kB 2.0MB/s \n",
            "\u001b[?25hRequirement already satisfied: pybind11>=2.2 in /usr/local/lib/python3.6/dist-packages (from fasttext) (2.4.3)\n",
            "Requirement already satisfied: setuptools>=0.7.0 in /usr/local/lib/python3.6/dist-packages (from fasttext) (42.0.2)\n",
            "Requirement already satisfied: numpy in /usr/local/lib/python3.6/dist-packages (from fasttext) (1.17.4)\n",
            "Building wheels for collected packages: fasttext\n",
            "  Building wheel for fasttext (setup.py) ... \u001b[?25l\u001b[?25hdone\n",
            "  Created wheel for fasttext: filename=fasttext-0.9.1-cp36-cp36m-linux_x86_64.whl size=2387750 sha256=e4c50c1b2af7400b44c06094972ae5080a5eff2849f040eb3881604d162ea719\n",
            "  Stored in directory: /root/.cache/pip/wheels/9f/f0/04/caa82c912aee89ce76358ff954f3f0729b7577c8ff23a292e3\n",
            "Successfully built fasttext\n",
            "Installing collected packages: fasttext\n",
            "Successfully installed fasttext-0.9.1\n"
          ],
          "name": "stdout"
        }
      ]
    },
    {
      "cell_type": "markdown",
      "metadata": {
        "id": "5HyMGJB1uEa3",
        "colab_type": "text"
      },
      "source": [
        "Import fasttext"
      ]
    },
    {
      "cell_type": "code",
      "metadata": {
        "id": "4mPyDZBL_lXy",
        "colab_type": "code",
        "colab": {}
      },
      "source": [
        "import fasttext as ft"
      ],
      "execution_count": 0,
      "outputs": []
    },
    {
      "cell_type": "markdown",
      "metadata": {
        "id": "9pvkAxKfuHS3",
        "colab_type": "text"
      },
      "source": [
        "Download Word Vector ของทั้งสองภาษา"
      ]
    },
    {
      "cell_type": "code",
      "metadata": {
        "id": "iOb4GtVk_tPN",
        "colab_type": "code",
        "outputId": "cd411b99-c101-4acd-fc4a-eb85c13db102",
        "colab": {
          "base_uri": "https://localhost:8080/",
          "height": 391
        }
      },
      "source": [
        "# ! wget https://dl.fbaipublicfiles.com/fasttext/vectors-crawl/cc.en.300.bin.gz -P {path}\n",
        "# ! wget https://dl.fbaipublicfiles.com/fasttext/vectors-crawl/cc.fr.300.bin.gz -P {path}"
      ],
      "execution_count": 0,
      "outputs": [
        {
          "output_type": "stream",
          "text": [
            "--2019-12-17 05:42:34--  https://dl.fbaipublicfiles.com/fasttext/vectors-crawl/cc.en.300.bin.gz\n",
            "Resolving dl.fbaipublicfiles.com (dl.fbaipublicfiles.com)... 104.20.6.166, 104.20.22.166, 2606:4700:10::6814:6a6, ...\n",
            "Connecting to dl.fbaipublicfiles.com (dl.fbaipublicfiles.com)|104.20.6.166|:443... connected.\n",
            "HTTP request sent, awaiting response... 200 OK\n",
            "Length: 4503593528 (4.2G) [application/octet-stream]\n",
            "Saving to: ‘/content/datasets/26i-giga-fren/giga-fren/cc.en.300.bin.gz’\n",
            "\n",
            "cc.en.300.bin.gz    100%[===================>]   4.19G  26.6MB/s    in 2m 42s  \n",
            "\n",
            "2019-12-17 05:45:17 (26.5 MB/s) - ‘/content/datasets/26i-giga-fren/giga-fren/cc.en.300.bin.gz’ saved [4503593528/4503593528]\n",
            "\n",
            "--2019-12-17 05:45:18--  https://dl.fbaipublicfiles.com/fasttext/vectors-crawl/cc.fr.300.bin.gz\n",
            "Resolving dl.fbaipublicfiles.com (dl.fbaipublicfiles.com)... 104.20.6.166, 104.20.22.166, 2606:4700:10::6814:6a6, ...\n",
            "Connecting to dl.fbaipublicfiles.com (dl.fbaipublicfiles.com)|104.20.6.166|:443... connected.\n",
            "HTTP request sent, awaiting response... 200 OK\n",
            "Length: 4496886212 (4.2G) [application/octet-stream]\n",
            "Saving to: ‘/content/datasets/26i-giga-fren/giga-fren/cc.fr.300.bin.gz’\n",
            "\n",
            "cc.fr.300.bin.gz    100%[===================>]   4.19G  26.7MB/s    in 2m 42s  \n",
            "\n",
            "2019-12-17 05:48:01 (26.5 MB/s) - ‘/content/datasets/26i-giga-fren/giga-fren/cc.fr.300.bin.gz’ saved [4496886212/4496886212]\n",
            "\n"
          ],
          "name": "stdout"
        }
      ]
    },
    {
      "cell_type": "markdown",
      "metadata": {
        "id": "d5QeeiN-uN0u",
        "colab_type": "text"
      },
      "source": [
        "แตกไฟล์ออกมา"
      ]
    },
    {
      "cell_type": "code",
      "metadata": {
        "id": "t5XarQIL_0yU",
        "colab_type": "code",
        "colab": {}
      },
      "source": [
        "# ! gunzip {path}/cc.en.300.bin.gz\n",
        "# ! gunzip {path}/cc.fr.300.bin.gz"
      ],
      "execution_count": 0,
      "outputs": []
    },
    {
      "cell_type": "markdown",
      "metadata": {
        "id": "GYK8fihuuQgM",
        "colab_type": "text"
      },
      "source": [
        "ใช้ fasttext โหลดไฟล์ที่ดาวน์โหลดมา"
      ]
    },
    {
      "cell_type": "code",
      "metadata": {
        "id": "aUxfSvYG_3Ph",
        "colab_type": "code",
        "outputId": "899e70e8-352f-4bf8-e318-8246fbc9757e",
        "colab": {
          "base_uri": "https://localhost:8080/",
          "height": 51
        }
      },
      "source": [
        "fr_vecs = ft.load_model(str((path/'cc.fr.300.bin')))\n",
        "en_vecs = ft.load_model(str((path/'cc.en.300.bin')))"
      ],
      "execution_count": 0,
      "outputs": [
        {
          "output_type": "stream",
          "text": [
            "\n",
            "\n"
          ],
          "name": "stderr"
        }
      ]
    },
    {
      "cell_type": "markdown",
      "metadata": {
        "id": "7M_oTBg1B_s9",
        "colab_type": "text"
      },
      "source": [
        "ประกาศฟังก์ชัน สร้าง Embedding จาก Pre-trained Vector และเติมค่า Vector คำศัพท์ที่ขาดหายไปด้วย ค่า Random"
      ]
    },
    {
      "cell_type": "code",
      "metadata": {
        "id": "_OA2eE6fBbnI",
        "colab_type": "code",
        "colab": {}
      },
      "source": [
        "def create_emb(vecs, itos, em_sz=300, multi=1.):\n",
        "    emb = nn.Embedding(len(itos), em_sz, padding_idx=1)\n",
        "    wgts = emb.weight.data\n",
        "    vec_dic = {w: vecs.get_word_vector(w) for w in vecs.get_words()}\n",
        "    miss = []\n",
        "    for i, w in enumerate(itos):\n",
        "        try: wgts[i] = tensor(vec_dic[w])\n",
        "        except: miss.append(w)\n",
        "    return emb"
      ],
      "execution_count": 0,
      "outputs": []
    },
    {
      "cell_type": "markdown",
      "metadata": {
        "id": "eACJLZ5GuaVU",
        "colab_type": "text"
      },
      "source": [
        "สร้าง Embedding สำหรับทั้งสองภาษา (Encoder และ Decoder)"
      ]
    },
    {
      "cell_type": "code",
      "metadata": {
        "id": "x9ZvPUGlDG-b",
        "colab_type": "code",
        "colab": {}
      },
      "source": [
        "emb_enc = create_emb(fr_vecs, data.x.vocab.itos)\n",
        "emb_dec = create_emb(en_vecs, data.y.vocab.itos)"
      ],
      "execution_count": 0,
      "outputs": []
    },
    {
      "cell_type": "markdown",
      "metadata": {
        "id": "XLrDG82IuhbX",
        "colab_type": "text"
      },
      "source": [
        "จำนวนคำ และขนาดมิติ"
      ]
    },
    {
      "cell_type": "code",
      "metadata": {
        "id": "Wv_hedZYDWvq",
        "colab_type": "code",
        "outputId": "dc00e430-616a-4d8f-e6ce-f1128bdf8b47",
        "colab": {
          "base_uri": "https://localhost:8080/",
          "height": 34
        }
      },
      "source": [
        "emb_enc.weight.size(), emb_dec.weight.size()"
      ],
      "execution_count": 0,
      "outputs": [
        {
          "output_type": "execute_result",
          "data": {
            "text/plain": [
              "(torch.Size([11336, 300]), torch.Size([8144, 300]))"
            ]
          },
          "metadata": {
            "tags": []
          },
          "execution_count": 50
        }
      ]
    },
    {
      "cell_type": "code",
      "metadata": {
        "id": "40jGkItlDjLD",
        "colab_type": "code",
        "colab": {}
      },
      "source": [
        "model_path = config_path/'My Drive/models'"
      ],
      "execution_count": 0,
      "outputs": []
    },
    {
      "cell_type": "markdown",
      "metadata": {
        "id": "aXXEPrK7upow",
        "colab_type": "text"
      },
      "source": [
        "Save Embedding ที่เราสร้างไว้ "
      ]
    },
    {
      "cell_type": "code",
      "metadata": {
        "id": "XQgpS_PYD31v",
        "colab_type": "code",
        "outputId": "60d1303a-6d86-449e-e760-0a0d4084ed8e",
        "colab": {
          "base_uri": "https://localhost:8080/",
          "height": 71
        }
      },
      "source": [
        "torch.save(emb_enc, model_path/'fr_emb.pth')\n",
        "torch.save(emb_dec, model_path/'en_emb.pth')"
      ],
      "execution_count": 0,
      "outputs": [
        {
          "output_type": "stream",
          "text": [
            "/usr/local/lib/python3.6/dist-packages/torch/serialization.py:292: UserWarning: Couldn't retrieve source code for container of type Embedding. It won't be checked for correctness upon loading.\n",
            "  \"type \" + obj.__name__ + \". It won't be checked \"\n"
          ],
          "name": "stderr"
        }
      ]
    },
    {
      "cell_type": "markdown",
      "metadata": {
        "id": "z4EyTTsxcUPF",
        "colab_type": "text"
      },
      "source": [
        "fasttext ไม่ได้ใช้แล้ว เราจะทำลายทิ้งไป จะได้ไม่เปลือง Memory"
      ]
    },
    {
      "cell_type": "code",
      "metadata": {
        "id": "hwkLlwj6cRmq",
        "colab_type": "code",
        "outputId": "87f88d70-fff3-4ebc-a01e-1b663eee404c",
        "colab": {
          "base_uri": "https://localhost:8080/",
          "height": 34
        }
      },
      "source": [
        "del fr_vecs\n",
        "del en_vecs\n",
        "gc.collect()"
      ],
      "execution_count": 0,
      "outputs": [
        {
          "output_type": "execute_result",
          "data": {
            "text/plain": [
              "8258"
            ]
          },
          "metadata": {
            "tags": []
          },
          "execution_count": 80
        }
      ]
    },
    {
      "cell_type": "markdown",
      "metadata": {
        "id": "qrGJUw4vu3Qv",
        "colab_type": "text"
      },
      "source": [
        "โหลด Embedding ขึ้นมา"
      ]
    },
    {
      "cell_type": "code",
      "metadata": {
        "id": "34Yzv7xIERTo",
        "colab_type": "code",
        "colab": {}
      },
      "source": [
        "emb_enc = torch.load(model_path/'fr_emb.pth')\n",
        "emb_dec = torch.load(model_path/'en_emb.pth')"
      ],
      "execution_count": 0,
      "outputs": []
    },
    {
      "cell_type": "markdown",
      "metadata": {
        "id": "0U3ye5p4EGG6",
        "colab_type": "text"
      },
      "source": [
        "## 4.2 Sequence to Sequence Model"
      ]
    },
    {
      "cell_type": "markdown",
      "metadata": {
        "id": "EcE7oDyLHyB-",
        "colab_type": "text"
      },
      "source": [
        "โมเดลของเราจะแบ่งเป็น 2 ส่วนคือ Encoder แปลงข้อความภาษาอังกฤษ เป็น Vector และ Coder ที่จะ Generate ข้อความภาษาอังกฤษ จาก Vector นั้น\n",
        "\n",
        "เนื่องจากเราไม่ได้ Transfer Learning ใด ๆ ทั้งสิ้นยกเว้น Embedding ทำให้ Layer ของ GRU และ Linear จะถูก [Initialize](https://www.bualabs.com/archives/2633/what-is-lsuv-layer-sequential-unit-variance-initialization-difference-kaiming-initialization-convnet-ep-6/) ด้วยค่า Random"
      ]
    },
    {
      "cell_type": "code",
      "metadata": {
        "id": "1gdBt0F2IIht",
        "colab_type": "code",
        "colab": {}
      },
      "source": [
        "class Seq2SeqRNN(nn.Module):\n",
        "    def __init__(self, emb_enc, emb_dec, nh, out_sl, nl=2, bos_idx=0, pad_idx=1):\n",
        "        super().__init__()\n",
        "        self.nl, self.nh, self.out_sl = nl, nh, out_sl\n",
        "        self.bos_idx, self.pad_idx = bos_idx, pad_idx\n",
        "        self.em_sz_enc = emb_enc.embedding_dim\n",
        "        self.em_sz_dec = emb_dec.embedding_dim\n",
        "        self.voc_sz_dec = emb_dec.num_embeddings\n",
        "\n",
        "        self.emb_enc = emb_enc\n",
        "        self.emb_enc_drop = nn.Dropout(0.15)\n",
        "        self.gru_enc = nn.GRU(self.em_sz_enc, nh, num_layers=nl, \n",
        "                              dropout=0.25, batch_first=True)\n",
        "        self.out_enc = nn.Linear(nh, self.em_sz_dec, bias=False)\n",
        "\n",
        "        self.emb_dec = emb_dec\n",
        "        self.gru_dec = nn.GRU(self.em_sz_dec, self.em_sz_dec, num_layers=nl, \n",
        "                              dropout=0.1, batch_first=True)\n",
        "        self.out_drop = nn.Dropout(0.35)\n",
        "        self.out = nn.Linear(self.em_sz_dec, self.voc_sz_dec)\n",
        "        self.out.weight.data = self.emb_dec.weight.data\n",
        "\n",
        "    def encoder(self, bs, inp):\n",
        "        h = self.initHidden(bs)\n",
        "        emb = self.emb_enc_drop(self.emb_enc(inp))\n",
        "        _, h = self.gru_enc(emb, h)\n",
        "        h = self.out_enc(h)\n",
        "        return h\n",
        "\n",
        "    def decoder(self, dec_inp, h):\n",
        "        emb = self.emb_dec(dec_inp).unsqueeze(1)\n",
        "        outp, h = self.gru_dec(emb, h)\n",
        "        outp = self.out(self.out_drop(outp[:, 0]))\n",
        "        return h, outp\n",
        "    \n",
        "    def forward(self, inp):\n",
        "        bs, sl = inp.size()\n",
        "        h = self.encoder(bs, inp)\n",
        "        dec_inp = inp.new_zeros(bs).long() + self.bos_idx\n",
        "\n",
        "        res = []\n",
        "        for i in range(self.out_sl):\n",
        "            h, outp = self.decoder(dec_inp, h)\n",
        "            dec_inp = outp.max(1)[1]\n",
        "            res.append(outp)\n",
        "            if (dec_inp==self.pad_idx).all(): break\n",
        "        return torch.stack(res, dim=1)\n",
        "    \n",
        "    def initHidden(self, bs):\n",
        "        return one_param(self).new_zeros(self.nl, bs, self.nh)\n"
      ],
      "execution_count": 0,
      "outputs": []
    },
    {
      "cell_type": "markdown",
      "metadata": {
        "id": "KAjN5RMCvEnJ",
        "colab_type": "text"
      },
      "source": [
        "ลองดู Shape ของข้อมูล 1 Batch"
      ]
    },
    {
      "cell_type": "code",
      "metadata": {
        "id": "auEbnjrCKkQC",
        "colab_type": "code",
        "colab": {}
      },
      "source": [
        "xb, yb = next(iter(data.valid_dl))"
      ],
      "execution_count": 0,
      "outputs": []
    },
    {
      "cell_type": "markdown",
      "metadata": {
        "id": "ybfu6vzcxXwO",
        "colab_type": "text"
      },
      "source": [
        "ขนาด Batch Size = 64 ความยาว 30 Token"
      ]
    },
    {
      "cell_type": "code",
      "metadata": {
        "id": "5XyZ4Nr8NJnj",
        "colab_type": "code",
        "outputId": "239666a9-1d1a-472b-dd67-f5b8401563bf",
        "colab": {
          "base_uri": "https://localhost:8080/",
          "height": 34
        }
      },
      "source": [
        "xb.shape"
      ],
      "execution_count": 0,
      "outputs": [
        {
          "output_type": "execute_result",
          "data": {
            "text/plain": [
              "torch.Size([64, 30])"
            ]
          },
          "metadata": {
            "tags": []
          },
          "execution_count": 56
        }
      ]
    },
    {
      "cell_type": "markdown",
      "metadata": {
        "id": "bfn82vd3vJfE",
        "colab_type": "text"
      },
      "source": [
        "สร้าง Model"
      ]
    },
    {
      "cell_type": "code",
      "metadata": {
        "id": "MFy-7zNoNKbJ",
        "colab_type": "code",
        "colab": {}
      },
      "source": [
        "rnn = Seq2SeqRNN(emb_enc, emb_dec, 256, 30)"
      ],
      "execution_count": 0,
      "outputs": []
    },
    {
      "cell_type": "code",
      "metadata": {
        "id": "DTT_JEjvNRCm",
        "colab_type": "code",
        "outputId": "b1d0f467-ffb0-45b2-d9ce-d2ae595cfe0d",
        "colab": {
          "base_uri": "https://localhost:8080/",
          "height": 187
        }
      },
      "source": [
        "rnn"
      ],
      "execution_count": 0,
      "outputs": [
        {
          "output_type": "execute_result",
          "data": {
            "text/plain": [
              "Seq2SeqRNN(\n",
              "  (emb_enc): Embedding(11336, 300, padding_idx=1)\n",
              "  (emb_enc_drop): Dropout(p=0.15, inplace=False)\n",
              "  (gru_enc): GRU(300, 256, num_layers=2, batch_first=True, dropout=0.25)\n",
              "  (out_enc): Linear(in_features=256, out_features=300, bias=False)\n",
              "  (emb_dec): Embedding(8144, 300, padding_idx=1)\n",
              "  (gru_dec): GRU(300, 300, num_layers=2, batch_first=True, dropout=0.1)\n",
              "  (out_drop): Dropout(p=0.35, inplace=False)\n",
              "  (out): Linear(in_features=300, out_features=8144, bias=True)\n",
              ")"
            ]
          },
          "metadata": {
            "tags": []
          },
          "execution_count": 58
        }
      ]
    },
    {
      "cell_type": "code",
      "metadata": {
        "id": "WlBIVDE6NcJ6",
        "colab_type": "code",
        "outputId": "6eaca355-d469-47ab-84fd-227f368c2fff",
        "colab": {
          "base_uri": "https://localhost:8080/",
          "height": 34
        }
      },
      "source": [
        "len(xb[0])"
      ],
      "execution_count": 0,
      "outputs": [
        {
          "output_type": "execute_result",
          "data": {
            "text/plain": [
              "30"
            ]
          },
          "metadata": {
            "tags": []
          },
          "execution_count": 59
        }
      ]
    },
    {
      "cell_type": "markdown",
      "metadata": {
        "id": "Wgnusk6AvPBA",
        "colab_type": "text"
      },
      "source": [
        "นำข้อมูล 1 Batch มาผ่าน Encoder ของโมเดล ดู Shape ของ Hidden หรือ Vector Representation ที่จะไปยัง Decoder "
      ]
    },
    {
      "cell_type": "code",
      "metadata": {
        "id": "7dEEwyliNpN0",
        "colab_type": "code",
        "colab": {}
      },
      "source": [
        "ูh = rnn.encoder(64, xb.cpu())"
      ],
      "execution_count": 0,
      "outputs": []
    },
    {
      "cell_type": "markdown",
      "metadata": {
        "id": "aJmwO9IBxniY",
        "colab_type": "text"
      },
      "source": [
        "ได้ออกมาเป็น Hidden 2 Layer ด้วย Batch Size = 64 เป็น Vector 300 มิติ"
      ]
    },
    {
      "cell_type": "code",
      "metadata": {
        "id": "fZxfI9C-NshB",
        "colab_type": "code",
        "outputId": "ca6e1007-611c-4542-de6d-7f79c2193e8a",
        "colab": {
          "base_uri": "https://localhost:8080/",
          "height": 34
        }
      },
      "source": [
        "h.size()"
      ],
      "execution_count": 0,
      "outputs": [
        {
          "output_type": "execute_result",
          "data": {
            "text/plain": [
              "torch.Size([2, 64, 300])"
            ]
          },
          "metadata": {
            "tags": []
          },
          "execution_count": 61
        }
      ]
    },
    {
      "cell_type": "markdown",
      "metadata": {
        "id": "7IMx8nVONt3t",
        "colab_type": "text"
      },
      "source": [
        "## 4.3 Loss Function"
      ]
    },
    {
      "cell_type": "markdown",
      "metadata": {
        "id": "to2qGoXByzhx",
        "colab_type": "text"
      },
      "source": [
        "เนื่องจากข้อความ มีความยาวไม่เท่ากัน เราจะใช้ Loss แบบปกติไม่ได้ ต้อง Padding ให้เท่ากันก่อนเปรียบเทียบ"
      ]
    },
    {
      "cell_type": "code",
      "metadata": {
        "id": "Ek8-1TbiNy9p",
        "colab_type": "code",
        "colab": {}
      },
      "source": [
        "def seq2seq_loss(out, targ, pad_idx=1):\n",
        "    bs, targ_len = targ.size()\n",
        "    _, out_len, vs = out.size()\n",
        "    if targ_len > out_len: out = F.pad(out, (0, 0, 0, targ_len-out_len, 0, 0), value=pad_idx)\n",
        "    if out_len > targ_len: targ = F.pad(targ, (0, out_len-targ_len, 0, 0), value=pad_idx)\n",
        "    return CrossEntropyFlat()(out, targ)"
      ],
      "execution_count": 0,
      "outputs": []
    },
    {
      "cell_type": "markdown",
      "metadata": {
        "id": "108zYo45z7yh",
        "colab_type": "text"
      },
      "source": [
        "เนื่องจากข้อความ มีความยาวไม่เท่ากัน เราจะใช้ Accuracy แบบปกติไม่ได้ ต้อง Padding ให้เท่ากันก่อนเปรียบเทียบ"
      ]
    },
    {
      "cell_type": "code",
      "metadata": {
        "id": "fxZBeP30TJdk",
        "colab_type": "code",
        "colab": {}
      },
      "source": [
        "def seq2seq_acc(out, targ, pad_idx=1):\n",
        "    bs, targ_len = targ.size()\n",
        "    _, out_len, vs = out.size()\n",
        "    if targ_len > out_len: out = F.pad(out, (0, 0, 0, targ_len-out_len, 0, 0), value=pad_idx)\n",
        "    if out_len > targ_len: targ = F.pad(targ, (0, out_len-targ_len, 0, 0), value=pad_idx)\n",
        "    out = out.argmax(2)\n",
        "    return (out == targ).float().mean()"
      ],
      "execution_count": 0,
      "outputs": []
    },
    {
      "cell_type": "markdown",
      "metadata": {
        "id": "pp-AVVnuOfVw",
        "colab_type": "text"
      },
      "source": [
        "# 5. Train Model"
      ]
    },
    {
      "cell_type": "markdown",
      "metadata": {
        "id": "9BTZcF6WWIRW",
        "colab_type": "text"
      },
      "source": [
        "## 5.1 Train โมเดลที่สร้างไว้ด้านบน"
      ]
    },
    {
      "cell_type": "markdown",
      "metadata": {
        "id": "Bi58NcQC0CPn",
        "colab_type": "text"
      },
      "source": [
        "สร้าง [Learner](https://www.bualabs.com/archives/2318/databunch-learner-refactor-neural-network-training-loop-neural-network-ep-9/) จากโมเดลด้านบน เตรียมเทรน"
      ]
    },
    {
      "cell_type": "code",
      "metadata": {
        "id": "vUX6ZqNgOh3q",
        "colab_type": "code",
        "colab": {}
      },
      "source": [
        "learn = Learner(data, rnn, loss_func=seq2seq_loss, callback_fns=[ShowGraph], metrics=[seq2seq_acc])"
      ],
      "execution_count": 0,
      "outputs": []
    },
    {
      "cell_type": "markdown",
      "metadata": {
        "id": "vnaZzFHh0S4H",
        "colab_type": "text"
      },
      "source": [
        "ใช้ [lr_find](https://www.bualabs.com/archives/2377/lr-find-best-learning-rate-train-machine-learning-model-deep-neural-network-callback-neural-network-ep-12/) หา [Learning Rate](https://www.bualabs.com/archives/618/learning-rate-deep-learning-how-to-hyperparameter-tuning-ep-1/) ที่เหมาะสม"
      ]
    },
    {
      "cell_type": "code",
      "metadata": {
        "id": "fZB4xiK8OnWx",
        "colab_type": "code",
        "outputId": "69d17292-cf9d-4718-a2fd-6eaa1fb21e08",
        "colab": {
          "base_uri": "https://localhost:8080/",
          "height": 296
        }
      },
      "source": [
        "learn.lr_find()\n",
        "learn.recorder.plot(suggest=True)"
      ],
      "execution_count": 0,
      "outputs": [
        {
          "output_type": "display_data",
          "data": {
            "text/html": [
              ""
            ],
            "text/plain": [
              "<IPython.core.display.HTML object>"
            ]
          },
          "metadata": {
            "tags": []
          }
        },
        {
          "output_type": "stream",
          "text": [
            "LR Finder is complete, type {learner_name}.recorder.plot() to see the graph.\n"
          ],
          "name": "stdout"
        },
        {
          "output_type": "display_data",
          "data": {
            "image/png": "[encoded data removed]",
            "text/plain": [
              "<Figure size 432x288 with 1 Axes>"
            ]
          },
          "metadata": {
            "tags": []
          }
        }
      ]
    },
    {
      "cell_type": "markdown",
      "metadata": {
        "id": "zLMT3z_X0KwM",
        "colab_type": "text"
      },
      "source": [
        "ใช้ [Fit One Cycle](https://www.bualabs.com/archives/2452/schedule-hyperparameter-train-machine-learning-deep-neural-network-one-cycle-learning-rate-neural-network-ep-13/) เทรนไป 4 [Epoch](https://www.bualabs.com/archives/618/learning-rate-deep-learning-how-to-hyperparameter-tuning-ep-1/) ได้ผลลัพธ์พอใช้"
      ]
    },
    {
      "cell_type": "code",
      "metadata": {
        "id": "pBVshwe_Oqpe",
        "colab_type": "code",
        "outputId": "138d9280-c6ea-4ac9-b8f5-8e6fb37b1a76",
        "colab": {
          "base_uri": "https://localhost:8080/",
          "height": 421
        }
      },
      "source": [
        "learn.fit_one_cycle(4, 3e-3)"
      ],
      "execution_count": 0,
      "outputs": [
        {
          "output_type": "display_data",
          "data": {
            "text/html": [
              "<table border=\"1\" class=\"dataframe\">\n",
              "  <thead>\n",
              "    <tr style=\"text-align: left;\">\n",
              "      <th>epoch</th>\n",
              "      <th>train_loss</th>\n",
              "      <th>valid_loss</th>\n",
              "      <th>seq2seq_acc</th>\n",
              "      <th>time</th>\n",
              "    </tr>\n",
              "  </thead>\n",
              "  <tbody>\n",
              "    <tr>\n",
              "      <td>0</td>\n",
              "      <td>5.592492</td>\n",
              "      <td>5.823976</td>\n",
              "      <td>0.229470</td>\n",
              "      <td>00:39</td>\n",
              "    </tr>\n",
              "    <tr>\n",
              "      <td>1</td>\n",
              "      <td>5.107070</td>\n",
              "      <td>4.862986</td>\n",
              "      <td>0.329840</td>\n",
              "      <td>00:34</td>\n",
              "    </tr>\n",
              "    <tr>\n",
              "      <td>2</td>\n",
              "      <td>4.539079</td>\n",
              "      <td>4.682736</td>\n",
              "      <td>0.344173</td>\n",
              "      <td>00:35</td>\n",
              "    </tr>\n",
              "    <tr>\n",
              "      <td>3</td>\n",
              "      <td>4.174760</td>\n",
              "      <td>4.600675</td>\n",
              "      <td>0.352488</td>\n",
              "      <td>00:36</td>\n",
              "    </tr>\n",
              "  </tbody>\n",
              "</table>"
            ],
            "text/plain": [
              "<IPython.core.display.HTML object>"
            ]
          },
          "metadata": {
            "tags": []
          }
        },
        {
          "output_type": "display_data",
          "data": {
            "image/png": "[encoded data removed]",
            "text/plain": [
              "<Figure size 432x288 with 1 Axes>"
            ]
          },
          "metadata": {
            "tags": []
          }
        }
      ]
    },
    {
      "cell_type": "markdown",
      "metadata": {
        "id": "q21Cb84CWWQl",
        "colab_type": "text"
      },
      "source": [
        "แต่ Accuracy เป็น Metrics ที่ไม่ค่อยเหมาะสำหรับงาน Translation สักเท่าไร"
      ]
    },
    {
      "cell_type": "markdown",
      "metadata": {
        "id": "9F4Vzljv060u",
        "colab_type": "text"
      },
      "source": [
        "Save เก็บไว้ก่อน"
      ]
    },
    {
      "cell_type": "code",
      "metadata": {
        "colab_type": "code",
        "id": "yg9ewtvkjZ4n",
        "colab": {}
      },
      "source": [
        "learn.save('26i-gru-acc')"
      ],
      "execution_count": 0,
      "outputs": []
    },
    {
      "cell_type": "code",
      "metadata": {
        "colab_type": "code",
        "id": "nI6zYxu2jZ4u",
        "colab": {}
      },
      "source": [
        "learn.load('26i-gru-acc');"
      ],
      "execution_count": 0,
      "outputs": []
    },
    {
      "cell_type": "markdown",
      "metadata": {
        "id": "fEoDvDLGTMYl",
        "colab_type": "text"
      },
      "source": [
        "## 5.2 Bleu Metric"
      ]
    },
    {
      "cell_type": "markdown",
      "metadata": {
        "id": "uQktkM5HWjq4",
        "colab_type": "text"
      },
      "source": [
        "ในงาน Translation เนื่องจากภาษามนุษย์นั้นดิ้นได้ สมมติให้คน 2 คนแปลข้อความเดียวกัน เป็นไปได้ยากที่จะแปลออกมาเป็นประโยคเดียวกันตรงกันทุกคำ จึงไม่นิยมใช้ Metric ที่เปรียบเทียบคำต่อคำตรง ๆ แบบ [Accuracy](https://www.bualabs.com/archives/1968/what-is-metrics-confusion-matrix-accuracy-precision-recall-f1-score-difference-metrics-ep-1/) แต่นิยมใช้ [Metric](https://www.bualabs.com/archives/2075/validation-metrics-neural-network-validation-set-train-machine-learning-neural-network-ep-8/) ที่เรียกว่า Bleu \n",
        "\n",
        "Bleu Score คืออะไร แทนที่จะเปรียบเทียบคำต่อคำ เราจะเปรียบเทียบ [Ngram](https://www.bualabs.com/archives/3060/what-is-n-gram-sentiment-classification-imdb-movie-review-naive-bayes-logistic-regression-nlp-ep-6/) แทน จะอธิบายต่อไป"
      ]
    },
    {
      "cell_type": "code",
      "metadata": {
        "id": "j--QdXcqWuPe",
        "colab_type": "code",
        "colab": {}
      },
      "source": [
        "class NGram():\n",
        "    def __init__(self, ngram, max_n=50000): self.ngram, self.max_n = ngram, max_n\n",
        "    def __eq__(self, other): \n",
        "        if len(self.ngram) != len(other.ngram): return False\n",
        "        return np.all(np.array(self.ngram) == np.array(other.ngram))\n",
        "    def __hash__(self): return int(sum([o * self.max_n**i for i, o in enumerate(self.ngram)]))"
      ],
      "execution_count": 0,
      "outputs": []
    },
    {
      "cell_type": "code",
      "metadata": {
        "id": "SAyHUFt9W0Bi",
        "colab_type": "code",
        "colab": {}
      },
      "source": [
        "def get_grams(x, n, max_n=5000):\n",
        "    return x if n==1 else [NGram(x[i:i+n], max_n=max_n) for i in range(len(x)-n+1)]"
      ],
      "execution_count": 0,
      "outputs": []
    },
    {
      "cell_type": "code",
      "metadata": {
        "id": "o7cEmT3mW0JU",
        "colab_type": "code",
        "colab": {}
      },
      "source": [
        "def get_correct_ngrams(pred, targ, n, max_n=5000): \n",
        "    pred_grams, targ_grams = get_grams(pred, n, max_n=max_n), get_grams(targ, n, max_n=max_n)\n",
        "    pred_cnt, targ_cnt = Counter(pred_grams), Counter(targ_grams)\n",
        "    return sum([min(c, targ_cnt[g]) for g, c in pred_cnt.items()]), len(pred_grams)"
      ],
      "execution_count": 0,
      "outputs": []
    },
    {
      "cell_type": "markdown",
      "metadata": {
        "id": "bLoqiOcS1nGR",
        "colab_type": "text"
      },
      "source": [
        "สร้าง [Callback คำนวน Metrics](https://www.bualabs.com/archives/2358/callback-machine-learning-example-calculate-metrics-avgstats-callback-recorder-loss-learning-rate-neural-network-ep-11/) ทุก Epoch"
      ]
    },
    {
      "cell_type": "code",
      "metadata": {
        "id": "uPE8nHXkW0PY",
        "colab_type": "code",
        "colab": {}
      },
      "source": [
        "class CorpusBLEU(Callback):\n",
        "    def __init__(self, vocab_sz):\n",
        "        self.vocab_sz = vocab_sz\n",
        "        self.name = 'bleu'\n",
        "\n",
        "    def on_epoch_begin(self, **kwargs):\n",
        "        self.pred_len, self.targ_len, self.corrects, self.counts = 0, 0, [0]*4, [0]*4\n",
        "    \n",
        "    def on_batch_end(self, last_output, last_target, **kwargs):\n",
        "        last_output = last_output.argmax(dim=-1)\n",
        "        for pred, targ in zip(last_output.cpu().numpy(), last_target.cpu().numpy()):\n",
        "            self.pred_len += len(pred)\n",
        "            self.targ_len += len(targ)\n",
        "            for i in range(4):\n",
        "                c, t = get_correct_ngrams(pred, targ, i+1, max_n=self.vocab_sz)\n",
        "                self.corrects[i] += c\n",
        "                self.counts[i] += t\n",
        "    \n",
        "    def on_epoch_end(self, last_metrics, **kwargs):\n",
        "        precs = [c/t for c, t in zip(self.corrects, self.counts)]\n",
        "        len_penalty = exp(1 - self.targ_len / self.pred_len) if self.pred_len < self.targ_len else 1\n",
        "        bleu = len_penalty * ((precs[0] * precs[1] * precs[2] * precs[3]) ** 0.25)\n",
        "        return add_metrics(last_metrics, bleu)\n"
      ],
      "execution_count": 0,
      "outputs": []
    },
    {
      "cell_type": "markdown",
      "metadata": {
        "id": "rzRzCvJb13kW",
        "colab_type": "text"
      },
      "source": [
        "สร้าง Learner ใหม่ จาก Callback ด้านบน"
      ]
    },
    {
      "cell_type": "code",
      "metadata": {
        "id": "emIyjSzoW0Ve",
        "colab_type": "code",
        "colab": {}
      },
      "source": [
        "learn = Learner(data, rnn, loss_func=seq2seq_loss, metrics=[seq2seq_acc, CorpusBLEU(len(data.y.vocab.itos))], callback_fns=[ShowGraph])"
      ],
      "execution_count": 0,
      "outputs": []
    },
    {
      "cell_type": "code",
      "metadata": {
        "id": "XeJBblKqW0bn",
        "colab_type": "code",
        "outputId": "e6b46779-14e5-4c42-e477-949c7eff0220",
        "colab": {
          "base_uri": "https://localhost:8080/",
          "height": 330
        }
      },
      "source": [
        "learn.lr_find()\n",
        "learn.recorder.plot(suggestion=True)"
      ],
      "execution_count": 0,
      "outputs": [
        {
          "output_type": "display_data",
          "data": {
            "text/html": [
              ""
            ],
            "text/plain": [
              "<IPython.core.display.HTML object>"
            ]
          },
          "metadata": {
            "tags": []
          }
        },
        {
          "output_type": "stream",
          "text": [
            "LR Finder is complete, type {learner_name}.recorder.plot() to see the graph.\n",
            "Min numerical gradient: 1.91E-06\n",
            "Min loss divided by 10: 9.12E-08\n"
          ],
          "name": "stdout"
        },
        {
          "output_type": "display_data",
          "data": {
            "image/png": "[encoded data removed]",
            "text/plain": [
              "<Figure size 432x288 with 1 Axes>"
            ]
          },
          "metadata": {
            "tags": []
          }
        }
      ]
    },
    {
      "cell_type": "markdown",
      "metadata": {
        "id": "o5O_KS0119Hr",
        "colab_type": "text"
      },
      "source": [
        "เทรนไป 4 Epoch เหมือนเดิม เพิ่มเติมคือ Bleu Score ให้เราเห็นประสิทธิภาพของโมเดลชัดเจนมากขึ้น"
      ]
    },
    {
      "cell_type": "code",
      "metadata": {
        "id": "wvgpYbyrfCCY",
        "colab_type": "code",
        "outputId": "2294f71e-7a3e-46af-e293-c6fdf7451887",
        "colab": {
          "base_uri": "https://localhost:8080/",
          "height": 421
        }
      },
      "source": [
        "learn.fit_one_cycle(4, 3e-3)"
      ],
      "execution_count": 0,
      "outputs": [
        {
          "output_type": "display_data",
          "data": {
            "text/html": [
              "<table border=\"1\" class=\"dataframe\">\n",
              "  <thead>\n",
              "    <tr style=\"text-align: left;\">\n",
              "      <th>epoch</th>\n",
              "      <th>train_loss</th>\n",
              "      <th>valid_loss</th>\n",
              "      <th>seq2seq_acc</th>\n",
              "      <th>bleu</th>\n",
              "      <th>time</th>\n",
              "    </tr>\n",
              "  </thead>\n",
              "  <tbody>\n",
              "    <tr>\n",
              "      <td>0</td>\n",
              "      <td>4.010732</td>\n",
              "      <td>4.239984</td>\n",
              "      <td>0.388223</td>\n",
              "      <td>0.287723</td>\n",
              "      <td>00:50</td>\n",
              "    </tr>\n",
              "    <tr>\n",
              "      <td>1</td>\n",
              "      <td>4.017629</td>\n",
              "      <td>4.648493</td>\n",
              "      <td>0.341126</td>\n",
              "      <td>0.259988</td>\n",
              "      <td>00:49</td>\n",
              "    </tr>\n",
              "    <tr>\n",
              "      <td>2</td>\n",
              "      <td>3.462628</td>\n",
              "      <td>4.079413</td>\n",
              "      <td>0.400029</td>\n",
              "      <td>0.311153</td>\n",
              "      <td>00:52</td>\n",
              "    </tr>\n",
              "    <tr>\n",
              "      <td>3</td>\n",
              "      <td>2.823382</td>\n",
              "      <td>3.826643</td>\n",
              "      <td>0.427117</td>\n",
              "      <td>0.322879</td>\n",
              "      <td>00:53</td>\n",
              "    </tr>\n",
              "  </tbody>\n",
              "</table>"
            ],
            "text/plain": [
              "<IPython.core.display.HTML object>"
            ]
          },
          "metadata": {
            "tags": []
          }
        },
        {
          "output_type": "display_data",
          "data": {
            "image/png": "[encoded data removed]",
            "text/plain": [
              "<Figure size 432x288 with 1 Axes>"
            ]
          },
          "metadata": {
            "tags": []
          }
        }
      ]
    },
    {
      "cell_type": "markdown",
      "metadata": {
        "id": "xfFZaAG02H-E",
        "colab_type": "text"
      },
      "source": [
        "Save ไว้ก่อน"
      ]
    },
    {
      "cell_type": "code",
      "metadata": {
        "colab_type": "code",
        "id": "SYsYgv5qjTcS",
        "colab": {}
      },
      "source": [
        "learn.save('26i-gru-bleu')"
      ],
      "execution_count": 0,
      "outputs": []
    },
    {
      "cell_type": "code",
      "metadata": {
        "colab_type": "code",
        "id": "H0_3GHhAjTcc",
        "colab": {}
      },
      "source": [
        "learn.load('26i-gru-bleu');"
      ],
      "execution_count": 0,
      "outputs": []
    },
    {
      "cell_type": "markdown",
      "metadata": {
        "id": "zX1_9yoofBuz",
        "colab_type": "text"
      },
      "source": [
        "## 6. View Result"
      ]
    },
    {
      "cell_type": "markdown",
      "metadata": {
        "id": "5NffXQ3y2KtO",
        "colab_type": "text"
      },
      "source": [
        "ดูแต่ Metrics อย่างเดียว อาจจะไม่เห็นภาพ เราจะมาลองดูผลลัพธ์การแปลของจริงกัน"
      ]
    },
    {
      "cell_type": "code",
      "metadata": {
        "id": "a5KtK00ZfBlA",
        "colab_type": "code",
        "colab": {}
      },
      "source": [
        "def get_predictions(learn, ds_type=DatasetType.Valid):\n",
        "    learn.model.eval()\n",
        "    inputs, targets, outputs = [], [], []\n",
        "    with torch.no_grad():\n",
        "        for xb, yb in progress_bar(learn.dl(ds_type)):\n",
        "            out = learn.model(xb)\n",
        "            for x, y, z in zip(xb, yb, out):\n",
        "                inputs.append(learn.data.train_ds.x.reconstruct(x))\n",
        "                targets.append(learn.data.train_ds.y.reconstruct(y))\n",
        "                outputs.append(learn.data.train_ds.y.reconstruct(z.argmax(1)))\n",
        "    return inputs, targets, outputs\n"
      ],
      "execution_count": 0,
      "outputs": []
    },
    {
      "cell_type": "code",
      "metadata": {
        "id": "3pe7LGBytwTO",
        "colab_type": "code",
        "outputId": "c71cfc2e-d7fc-47e6-9db4-34abd5b51b4f",
        "colab": {
          "base_uri": "https://localhost:8080/",
          "height": 37
        }
      },
      "source": [
        "inputs, targets, outputs = get_predictions(learn)"
      ],
      "execution_count": 0,
      "outputs": [
        {
          "output_type": "display_data",
          "data": {
            "text/html": [
              "\n",
              "    <div>\n",
              "        <style>\n",
              "            /* Turns off some styling */\n",
              "            progress {\n",
              "                /* gets rid of default border in Firefox and Opera. */\n",
              "                border: none;\n",
              "                /* Needs to be in here for Safari polyfill so background images work as expected. */\n",
              "                background-size: auto;\n",
              "            }\n",
              "            .progress-bar-interrupted, .progress-bar-interrupted::-webkit-progress-bar {\n",
              "                background: #F44336;\n",
              "            }\n",
              "        </style>\n",
              "      <progress value='151' class='' max='151', style='width:300px; height:20px; vertical-align: middle;'></progress>\n",
              "      100.00% [151/151 00:29<00:00]\n",
              "    </div>\n",
              "    "
            ],
            "text/plain": [
              "<IPython.core.display.HTML object>"
            ]
          },
          "metadata": {
            "tags": []
          }
        }
      ]
    },
    {
      "cell_type": "code",
      "metadata": {
        "id": "xWQkIreFt16R",
        "colab_type": "code",
        "outputId": "2c1b199c-285b-422c-ebae-eb5b51e6468f",
        "colab": {
          "base_uri": "https://localhost:8080/",
          "height": 88
        }
      },
      "source": [
        "idx = 999\n",
        "inputs[idx], targets[idx], outputs[idx]"
      ],
      "execution_count": 0,
      "outputs": [
        {
          "output_type": "execute_result",
          "data": {
            "text/plain": [
              "(Text xxbos quelles sont les données ventilées par sexe pertinentes , qui ne sont pas utilisées habituellement , mais sont disponibles et accessibles ?,\n",
              " Text xxbos what relevant gender - xxunk data is not currently used but available and accessible ?,\n",
              " Text xxbos what data is is is is is is is is and and are are)"
            ]
          },
          "metadata": {
            "tags": []
          },
          "execution_count": 76
        }
      ]
    },
    {
      "cell_type": "code",
      "metadata": {
        "id": "4KXEZ7c9twHw",
        "colab_type": "code",
        "outputId": "75cf20c1-9dfe-43a5-d2f6-b56aa67acea6",
        "colab": {
          "base_uri": "https://localhost:8080/",
          "height": 68
        }
      },
      "source": [
        "idx = 2222\n",
        "inputs[idx], targets[idx], outputs[idx]"
      ],
      "execution_count": 0,
      "outputs": [
        {
          "output_type": "execute_result",
          "data": {
            "text/plain": [
              "(Text xxbos avez - vous xxunk des xxunk ou de xxunk en afghanistan parce que vous êtes une femme ?,\n",
              " Text xxbos what about yourself xxunk : have you experienced resistance or xxunk in afghanistan because you ’re a woman ?,\n",
              " Text xxbos what would you you to you or or or or or xxunk)"
            ]
          },
          "metadata": {
            "tags": []
          },
          "execution_count": 77
        }
      ]
    },
    {
      "cell_type": "code",
      "metadata": {
        "id": "85nuJne7ZK14",
        "colab_type": "code",
        "outputId": "64a99491-1c6b-4ff6-cda3-25fa33937c54",
        "colab": {
          "base_uri": "https://localhost:8080/",
          "height": 68
        }
      },
      "source": [
        "idx = 3333\n",
        "inputs[idx], targets[idx], outputs[idx]"
      ],
      "execution_count": 0,
      "outputs": [
        {
          "output_type": "execute_result",
          "data": {
            "text/plain": [
              "(Text xxbos quels genres d’innovations organisationnelles apporte - t - on à l’intérieur de ce système ?,\n",
              " Text xxbos what kinds of organizational innovation takes place in this system ?,\n",
              " Text xxbos what kind of types does needed to the ? ?)"
            ]
          },
          "metadata": {
            "tags": []
          },
          "execution_count": 78
        }
      ]
    },
    {
      "cell_type": "code",
      "metadata": {
        "id": "2fuSYoHOZK8J",
        "colab_type": "code",
        "outputId": "26b635cc-9f58-4767-83ae-282e2abcfd99",
        "colab": {
          "base_uri": "https://localhost:8080/",
          "height": 68
        }
      },
      "source": [
        "idx = 4444\n",
        "inputs[idx], targets[idx], outputs[idx]"
      ],
      "execution_count": 0,
      "outputs": [
        {
          "output_type": "execute_result",
          "data": {
            "text/plain": [
              "(Text xxbos dans quels cas la discussion informelle a - t - elle lieu ?,\n",
              " Text xxbos when does informal discussion occur ?,\n",
              " Text xxbos when is the occur ? ?)"
            ]
          },
          "metadata": {
            "tags": []
          },
          "execution_count": 79
        }
      ]
    },
    {
      "cell_type": "markdown",
      "metadata": {
        "id": "dgQJKHtwG1ec",
        "colab_type": "text"
      },
      "source": [
        "ปัญหาคือ ถึงโมเดลจะเริ่มต้นได้ดี แต่แล้วก็จะออกทะเลไปเรื่อย ๆ กลายเป็นคำซ้ำ ๆ ไปจนจบ จะแก้ไขอย่างไรดี"
      ]
    },
    {
      "cell_type": "markdown",
      "metadata": {
        "id": "6P29cHUItv8X",
        "colab_type": "text"
      },
      "source": [
        "# 5/2 Teacher Forcing"
      ]
    },
    {
      "cell_type": "markdown",
      "metadata": {
        "id": "Rhz0JMPDGJIO",
        "colab_type": "text"
      },
      "source": [
        "ในการเทรน Decoder ที่เป็น RNN ตามปกติจะนำ Output มา Feed กลับเป็น Input สำหรับคำต่อไป แต่ถ้าโมเดลยังไม่ค่อยเก่ง Predict Output ออกมาผิด แล้วเรานำ Output ที่ผิดนั้นไป Feed กลับมาเป็น Input ทำให้ Output ต่อ ๆ ไป ผิดเป็นโดมิโนไปหมด วิธีหนึ่งที่จะช่วยให้โมเดล เรียนรู้ได้ดีขึ้น คือ Teacher Forcing\n",
        "\n",
        "Teacher Forcing คือ การเทรนด้วยแทนที่ จะ Feed Output จากโมเดล เป็น Input อย่างเดียว เราจะ Feed ผสม  Output ที่ถูกต้อง (Label) กับ Output ของโมเดล (Prediction) เข้าด้วยกัน ตามสัดส่วนที่กำหนด แล้วค่อย ๆ ปรับสัดส่วนเพิ่ม Output จากโมเดลขึ้นเรื่อย ๆ ลด Label ลง จนเทรนด้วย Output อย่างเดียว"
      ]
    },
    {
      "cell_type": "markdown",
      "metadata": {
        "id": "QRQlxgf02fX5",
        "colab_type": "text"
      },
      "source": [
        "ประกาศ Callback สำหรับทำ Teacher Forcing ที่จะสิ้นสุด ตาม end_epoch ที่กำหนด"
      ]
    },
    {
      "cell_type": "code",
      "metadata": {
        "id": "jcz-8PYWF4kU",
        "colab_type": "code",
        "colab": {}
      },
      "source": [
        "class TeacherForcing(LearnerCallback):\n",
        "    def __init__(self, learn, end_epoch):\n",
        "        super().__init__(learn)\n",
        "        self.end_epoch = end_epoch\n",
        "    \n",
        "    def on_batch_begin(self, last_input, last_target, train, **kwargs):\n",
        "        if train: return {'last_input': [last_input, last_target]}\n",
        "\n",
        "    def on_epoch_begin(self, epoch, **kwargs):\n",
        "        self.learn.model.pr_force = 1 - epoch/self.end_epoch"
      ],
      "execution_count": 0,
      "outputs": []
    },
    {
      "cell_type": "markdown",
      "metadata": {
        "id": "fGmexGgT2mgt",
        "colab_type": "text"
      },
      "source": [
        "สร้าง Model ใหม่ ที่ใน Forward จะ Random ทำ Teacher Forcing ตาม pr_force จาก Callback"
      ]
    },
    {
      "cell_type": "code",
      "metadata": {
        "id": "iAqwOUh6F4ug",
        "colab_type": "code",
        "colab": {}
      },
      "source": [
        "class Seq2SeqRNN_tf(nn.Module):\n",
        "    def __init__(self, emb_enc, emb_dec, nh, out_sl, nl=2, bos_idx=0, pad_idx=1):\n",
        "        super().__init__()\n",
        "        self.nl, self.nh, self.out_sl = nl, nh, out_sl\n",
        "        self.bos_idx, self.pad_idx = bos_idx, pad_idx\n",
        "        self.em_sz_enc = emb_enc.embedding_dim\n",
        "        self.em_sz_dec = emb_dec.embedding_dim\n",
        "        self.voc_sz_dec = emb_dec.num_embeddings\n",
        "\n",
        "        self.emb_enc = emb_enc\n",
        "        self.emb_enc_drop = nn.Dropout(0.15)\n",
        "        self.gru_enc = nn.GRU(self.em_sz_enc, nh, num_layers=nl, \n",
        "                              dropout=0.25, batch_first=True)\n",
        "        self.out_enc = nn.Linear(nh, self.em_sz_dec, bias=False)\n",
        "\n",
        "        self.emb_dec = emb_dec\n",
        "        self.gru_dec = nn.GRU(self.em_sz_dec, self.em_sz_dec, num_layers=nl, \n",
        "                              dropout=0.1, batch_first=True)\n",
        "        self.out_drop = nn.Dropout(0.35)\n",
        "        self.out = nn.Linear(self.em_sz_dec, self.voc_sz_dec)\n",
        "        self.out.weight.data = self.emb_dec.weight.data\n",
        "\n",
        "    def encoder(self, bs, inp):\n",
        "        h = self.initHidden(bs)\n",
        "        emb = self.emb_enc_drop(self.emb_enc(inp))\n",
        "        _, h = self.gru_enc(emb, h)\n",
        "        h = self.out_enc(h)\n",
        "        return h\n",
        "\n",
        "    def decoder(self, dec_inp, h):\n",
        "        emb = self.emb_dec(dec_inp).unsqueeze(1)\n",
        "        outp, h = self.gru_dec(emb, h)\n",
        "        outp = self.out(self.out_drop(outp[:, 0]))\n",
        "        return h, outp\n",
        "    \n",
        "    def forward(self, inp, targ=None):\n",
        "        bs, sl = inp.size()\n",
        "        h = self.encoder(bs, inp)\n",
        "        dec_inp = inp.new_zeros(bs).long() + self.bos_idx\n",
        "\n",
        "        res = []\n",
        "        for i in range(self.out_sl):\n",
        "            h, outp = self.decoder(dec_inp, h)\n",
        "            dec_inp = outp.max(1)[1]\n",
        "            res.append(outp)\n",
        "            if (dec_inp==self.pad_idx).all(): break\n",
        "            if (targ is not None) and (random.random()<self.pr_force):\n",
        "                if i >= targ.shape[1]: continue\n",
        "                dec_inp = targ[:, i]\n",
        "        return torch.stack(res, dim=1)\n",
        "    \n",
        "    def initHidden(self, bs):\n",
        "        return one_param(self).new_zeros(self.nl, bs, self.nh)\n"
      ],
      "execution_count": 0,
      "outputs": []
    },
    {
      "cell_type": "markdown",
      "metadata": {
        "id": "QEx_i8fO3Qpa",
        "colab_type": "text"
      },
      "source": [
        "โหลด Embedding ขึ้นมาใหม่ เตรียมเทรน"
      ]
    },
    {
      "cell_type": "code",
      "metadata": {
        "id": "XbvY8q51F43p",
        "colab_type": "code",
        "colab": {}
      },
      "source": [
        "emb_enc = torch.load(model_path/'fr_emb.pth')\n",
        "emb_dec = torch.load(model_path/'en_emb.pth')"
      ],
      "execution_count": 0,
      "outputs": []
    },
    {
      "cell_type": "markdown",
      "metadata": {
        "id": "ZexAHVhg3Vip",
        "colab_type": "text"
      },
      "source": [
        "สร้างโมเดล และ Learning ด้วย Callback Teaching Forcing และโมเดลใหม่ ที่รองรับ Teaching Forcing"
      ]
    },
    {
      "cell_type": "code",
      "metadata": {
        "id": "_Rpp-q5FF5FO",
        "colab_type": "code",
        "colab": {}
      },
      "source": [
        "rnn_tf = Seq2SeqRNN_tf(emb_enc, emb_dec, 256, 30)\n",
        "\n",
        "learn = Learner(data, rnn_tf, loss_func=seq2seq_loss, \n",
        "                metrics=[seq2seq_acc, CorpusBLEU(len(data.y.vocab.itos))], \n",
        "                callback_fns=[ShowGraph, partial(TeacherForcing, end_epoch=3)])"
      ],
      "execution_count": 0,
      "outputs": []
    },
    {
      "cell_type": "markdown",
      "metadata": {
        "id": "HiVuxwug3kA4",
        "colab_type": "text"
      },
      "source": [
        "ใช้ [lr_find](https://www.bualabs.com/archives/2377/lr-find-best-learning-rate-train-machine-learning-model-deep-neural-network-callback-neural-network-ep-12/) หา [Learning Rate](https://www.bualabs.com/archives/618/learning-rate-deep-learning-how-to-hyperparameter-tuning-ep-1/)"
      ]
    },
    {
      "cell_type": "code",
      "metadata": {
        "id": "_d_Spap7F5K7",
        "colab_type": "code",
        "outputId": "5bcb75ca-da25-45f1-e102-bb6c5ed4e35e",
        "colab": {
          "base_uri": "https://localhost:8080/",
          "height": 330
        }
      },
      "source": [
        "learn.lr_find()\n",
        "learn.recorder.plot(suggestion=True)"
      ],
      "execution_count": 0,
      "outputs": [
        {
          "output_type": "display_data",
          "data": {
            "text/html": [
              ""
            ],
            "text/plain": [
              "<IPython.core.display.HTML object>"
            ]
          },
          "metadata": {
            "tags": []
          }
        },
        {
          "output_type": "stream",
          "text": [
            "LR Finder is complete, type {learner_name}.recorder.plot() to see the graph.\n",
            "Min numerical gradient: 1.32E-02\n",
            "Min loss divided by 10: 2.75E-03\n"
          ],
          "name": "stdout"
        },
        {
          "output_type": "display_data",
          "data": {
            "image/png": "[encoded data removed]",
            "text/plain": [
              "<Figure size 432x288 with 1 Axes>"
            ]
          },
          "metadata": {
            "tags": []
          }
        }
      ]
    },
    {
      "cell_type": "markdown",
      "metadata": {
        "id": "JZEfONJD3vn-",
        "colab_type": "text"
      },
      "source": [
        "Schedule Hyperparameter ในการเทรนโมเดล Deep Neural Network ด้วย Learning Rate ไม่คงที่ [Fit One Cycle](https://www.bualabs.com/archives/2452/schedule-hyperparameter-train-machine-learning-deep-neural-network-one-cycle-learning-rate-neural-network-ep-13/)"
      ]
    },
    {
      "cell_type": "code",
      "metadata": {
        "id": "M_QF07tWF5Aq",
        "colab_type": "code",
        "outputId": "fc1e4c24-e829-471a-c515-be8897406c12",
        "colab": {
          "base_uri": "https://localhost:8080/",
          "height": 545
        }
      },
      "source": [
        "learn.fit_one_cycle(8, max_lr=3e-3)"
      ],
      "execution_count": 0,
      "outputs": [
        {
          "output_type": "display_data",
          "data": {
            "text/html": [
              "<table border=\"1\" class=\"dataframe\">\n",
              "  <thead>\n",
              "    <tr style=\"text-align: left;\">\n",
              "      <th>epoch</th>\n",
              "      <th>train_loss</th>\n",
              "      <th>valid_loss</th>\n",
              "      <th>seq2seq_acc</th>\n",
              "      <th>bleu</th>\n",
              "      <th>time</th>\n",
              "    </tr>\n",
              "  </thead>\n",
              "  <tbody>\n",
              "    <tr>\n",
              "      <td>0</td>\n",
              "      <td>2.603877</td>\n",
              "      <td>5.310301</td>\n",
              "      <td>0.102326</td>\n",
              "      <td>0.033441</td>\n",
              "      <td>01:12</td>\n",
              "    </tr>\n",
              "    <tr>\n",
              "      <td>1</td>\n",
              "      <td>2.776709</td>\n",
              "      <td>3.934700</td>\n",
              "      <td>0.457844</td>\n",
              "      <td>0.332081</td>\n",
              "      <td>00:59</td>\n",
              "    </tr>\n",
              "    <tr>\n",
              "      <td>2</td>\n",
              "      <td>3.433332</td>\n",
              "      <td>4.561241</td>\n",
              "      <td>0.361745</td>\n",
              "      <td>0.283000</td>\n",
              "      <td>00:52</td>\n",
              "    </tr>\n",
              "    <tr>\n",
              "      <td>3</td>\n",
              "      <td>4.450474</td>\n",
              "      <td>5.148569</td>\n",
              "      <td>0.294567</td>\n",
              "      <td>0.235750</td>\n",
              "      <td>00:48</td>\n",
              "    </tr>\n",
              "    <tr>\n",
              "      <td>4</td>\n",
              "      <td>3.857798</td>\n",
              "      <td>4.347720</td>\n",
              "      <td>0.374517</td>\n",
              "      <td>0.286468</td>\n",
              "      <td>00:51</td>\n",
              "    </tr>\n",
              "    <tr>\n",
              "      <td>5</td>\n",
              "      <td>3.505725</td>\n",
              "      <td>4.136127</td>\n",
              "      <td>0.396483</td>\n",
              "      <td>0.307886</td>\n",
              "      <td>00:51</td>\n",
              "    </tr>\n",
              "    <tr>\n",
              "      <td>6</td>\n",
              "      <td>2.940073</td>\n",
              "      <td>3.882642</td>\n",
              "      <td>0.422862</td>\n",
              "      <td>0.321591</td>\n",
              "      <td>00:52</td>\n",
              "    </tr>\n",
              "    <tr>\n",
              "      <td>7</td>\n",
              "      <td>2.678760</td>\n",
              "      <td>3.732396</td>\n",
              "      <td>0.439311</td>\n",
              "      <td>0.332833</td>\n",
              "      <td>00:53</td>\n",
              "    </tr>\n",
              "  </tbody>\n",
              "</table>"
            ],
            "text/plain": [
              "<IPython.core.display.HTML object>"
            ]
          },
          "metadata": {
            "tags": []
          }
        },
        {
          "output_type": "display_data",
          "data": {
            "image/png": "[encoded data removed]",
            "text/plain": [
              "<Figure size 432x288 with 1 Axes>"
            ]
          },
          "metadata": {
            "tags": []
          }
        }
      ]
    },
    {
      "cell_type": "markdown",
      "metadata": {
        "id": "PSLJVIjc4M7k",
        "colab_type": "text"
      },
      "source": [
        "ได้ผลลัพธ์ดีขึ้น เราจะ Save Learner ไว้ก่อน"
      ]
    },
    {
      "cell_type": "code",
      "metadata": {
        "id": "PFTgCYRejFnI",
        "colab_type": "code",
        "colab": {}
      },
      "source": [
        "learn.save('26i-gru-tf')"
      ],
      "execution_count": 0,
      "outputs": []
    },
    {
      "cell_type": "code",
      "metadata": {
        "id": "FO1fh9oFjOGf",
        "colab_type": "code",
        "colab": {}
      },
      "source": [
        "learn.load('26i-gru-tf');"
      ],
      "execution_count": 0,
      "outputs": []
    },
    {
      "cell_type": "markdown",
      "metadata": {
        "id": "wXe1rCE0cHXB",
        "colab_type": "text"
      },
      "source": [
        "# 6/2. View Result"
      ]
    },
    {
      "cell_type": "markdown",
      "metadata": {
        "id": "tAQv3OaL4UsT",
        "colab_type": "text"
      },
      "source": [
        "ดูแต่ Metrics อย่างเดียว อาจจะไม่เห็นภาพ เราจะมาลองดูผลลัพธ์การแปลของจริงกันเปรียบเทียบ"
      ]
    },
    {
      "cell_type": "code",
      "metadata": {
        "colab_type": "code",
        "outputId": "d4b4ec22-5aa6-49f0-efc3-6b0867277b9b",
        "id": "77rEbRVNTk-C",
        "colab": {
          "base_uri": "https://localhost:8080/",
          "height": 37
        }
      },
      "source": [
        "inputs, targets, outputs = get_predictions(learn)"
      ],
      "execution_count": 0,
      "outputs": [
        {
          "output_type": "display_data",
          "data": {
            "text/html": [
              "\n",
              "    <div>\n",
              "        <style>\n",
              "            /* Turns off some styling */\n",
              "            progress {\n",
              "                /* gets rid of default border in Firefox and Opera. */\n",
              "                border: none;\n",
              "                /* Needs to be in here for Safari polyfill so background images work as expected. */\n",
              "                background-size: auto;\n",
              "            }\n",
              "            .progress-bar-interrupted, .progress-bar-interrupted::-webkit-progress-bar {\n",
              "                background: #F44336;\n",
              "            }\n",
              "        </style>\n",
              "      <progress value='151' class='' max='151', style='width:300px; height:20px; vertical-align: middle;'></progress>\n",
              "      100.00% [151/151 00:29<00:00]\n",
              "    </div>\n",
              "    "
            ],
            "text/plain": [
              "<IPython.core.display.HTML object>"
            ]
          },
          "metadata": {
            "tags": []
          }
        }
      ]
    },
    {
      "cell_type": "code",
      "metadata": {
        "colab_type": "code",
        "outputId": "695782aa-a1c2-46f5-c778-ce294af77919",
        "id": "oeDVTPFkZWwj",
        "colab": {
          "base_uri": "https://localhost:8080/",
          "height": 88
        }
      },
      "source": [
        "idx = 999\n",
        "inputs[idx], targets[idx], outputs[idx]"
      ],
      "execution_count": 0,
      "outputs": [
        {
          "output_type": "execute_result",
          "data": {
            "text/plain": [
              "(Text xxbos quelles sont les données ventilées par sexe pertinentes , qui ne sont pas utilisées habituellement , mais sont disponibles et accessibles ?,\n",
              " Text xxbos what relevant gender - xxunk data is not currently used but available and accessible ?,\n",
              " Text xxbos what data - data is is are , , are are are are are not ? ?)"
            ]
          },
          "metadata": {
            "tags": []
          },
          "execution_count": 88
        }
      ]
    },
    {
      "cell_type": "code",
      "metadata": {
        "colab_type": "code",
        "outputId": "d8f0cb2d-352d-4071-d8fb-e13c78e250cf",
        "id": "f9WT93amZWwr",
        "colab": {
          "base_uri": "https://localhost:8080/",
          "height": 68
        }
      },
      "source": [
        "idx = 2222\n",
        "inputs[idx], targets[idx], outputs[idx]"
      ],
      "execution_count": 0,
      "outputs": [
        {
          "output_type": "execute_result",
          "data": {
            "text/plain": [
              "(Text xxbos avez - vous xxunk des xxunk ou de xxunk en afghanistan parce que vous êtes une femme ?,\n",
              " Text xxbos what about yourself xxunk : have you experienced resistance or xxunk in afghanistan because you ’re a woman ?,\n",
              " Text xxbos when you you or or or or or or or or or xxunk xxunk ?)"
            ]
          },
          "metadata": {
            "tags": []
          },
          "execution_count": 89
        }
      ]
    },
    {
      "cell_type": "code",
      "metadata": {
        "colab_type": "code",
        "id": "6v7uFenqZWwu",
        "outputId": "a935d86a-361a-4bc6-ef13-79914bd0731d",
        "colab": {
          "base_uri": "https://localhost:8080/",
          "height": 68
        }
      },
      "source": [
        "idx = 3333\n",
        "inputs[idx], targets[idx], outputs[idx]"
      ],
      "execution_count": 0,
      "outputs": [
        {
          "output_type": "execute_result",
          "data": {
            "text/plain": [
              "(Text xxbos quels genres d’innovations organisationnelles apporte - t - on à l’intérieur de ce système ?,\n",
              " Text xxbos what kinds of organizational innovation takes place in this system ?,\n",
              " Text xxbos what kind of models does does in this ? ?)"
            ]
          },
          "metadata": {
            "tags": []
          },
          "execution_count": 90
        }
      ]
    },
    {
      "cell_type": "code",
      "metadata": {
        "colab_type": "code",
        "id": "xk67HQrWZWwx",
        "outputId": "9b87e903-577c-4d6c-9d8e-547e65f4f580",
        "colab": {
          "base_uri": "https://localhost:8080/",
          "height": 68
        }
      },
      "source": [
        "idx = 4444\n",
        "inputs[idx], targets[idx], outputs[idx]"
      ],
      "execution_count": 0,
      "outputs": [
        {
          "output_type": "execute_result",
          "data": {
            "text/plain": [
              "(Text xxbos dans quels cas la discussion informelle a - t - elle lieu ?,\n",
              " Text xxbos when does informal discussion occur ?,\n",
              " Text xxbos what is the the ? ? ?)"
            ]
          },
          "metadata": {
            "tags": []
          },
          "execution_count": 91
        }
      ]
    },
    {
      "cell_type": "markdown",
      "metadata": {
        "id": "wK0c60PP4dsM",
        "colab_type": "text"
      },
      "source": [
        "# 7. สรุป"
      ]
    },
    {
      "cell_type": "markdown",
      "metadata": {
        "id": "jXZKouVU4eKI",
        "colab_type": "text"
      },
      "source": [
        "* เราได้เรียนรู้สถาปัตยกรรมแบบใหม่ Sequence to Sequence ที่ต่อยอดมาจาก RNN / LSTM / GRU ที่เหมาะกับใช้ในงาน Machine Translation\n",
        "* เราได้ Transfer Learning ส่วน Embedding มาจาก fasttext \n",
        "* เราเทรนโมเดลของเรา ด้วย Seq2SeqRNN และ Seq2SeqRNN + Teacher Forcing ได้ผลลัพธ์ที่ดีที่สุด Accuracy = 0.439311 และ Bleu Score = 0.332833\t\n",
        "* เราได้เรียนรู้วิธีเทรน ที่จะเพิ่มประสิทธิภาพของโมเดล เช่น Teacher Forcing จะเห็นว่าโมเดลยังมีช่องให้ปรับปรุงได้อีกมาก เทคนิคและวิธีอื่น ๆ จะอธิบายต่อไป\n",
        "\n"
      ]
    },
    {
      "cell_type": "markdown",
      "metadata": {
        "id": "WkQbNoqb7a9G",
        "colab_type": "text"
      },
      "source": [
        "ตารางสรุป ผลลัพธ์การเทรนโมเดลแบบต่าง ๆ\n",
        "\n",
        "model            | train_loss | valid_loss | seq2seq_acc | bleu\n",
        "-------------------|----------|----------|----------|----------\n",
        "seq2seq            | 2.823382 | 3.826643 | 0.427117 | 0.322879\n",
        "\\+ teacher forcing | 2.678760 |\t3.732396 | 0.439311 | 0.332833\n",
        "\\+ attention       | 1.452292 | 3.420485 | 0.498205 | 0.413232\n",
        "transformer        | 1.913152 | 2.349686 | 0.781749 | 0.612880"
      ]
    },
    {
      "cell_type": "markdown",
      "metadata": {
        "id": "znPxMYlaW0gK",
        "colab_type": "text"
      },
      "source": [
        "# Credit"
      ]
    },
    {
      "cell_type": "markdown",
      "metadata": {
        "id": "sqd6yzv1W12G",
        "colab_type": "text"
      },
      "source": [
        "* https://www.youtube.com/watch?v=IfsjMg4fLWQ&list=PLtmWHNX-gukKocXQOkQjuVxglSDYWsSh9&index=12\n",
        "* https://www.bualabs.com/archives/3103/what-is-recurrent-neural-network-rnn-pytorch-gru-nlp-ep-9/\n",
        "* https://www.bualabs.com/archives/3087/sentiment-classification-deep-learning-imdb-movie-reviews-positive-negative-deep-neural-network-awd-lstm-ulmfit-nlp-ep-8/\n",
        "* https://www.bualabs.com/archives/3060/what-is-n-gram-sentiment-classification-imdb-movie-review-naive-bayes-logistic-regression-nlp-ep-6/\n",
        "* http://opus.nlpl.eu/giga-fren.php\n",
        "* https://arxiv.org/abs/1409.3215\n",
        "* https://ieeexplore.ieee.org/document/6795228/\n",
        "* https://pytorch.org/tutorials/intermediate/seq2seq_translation_tutorial.html\n",
        "* http://www.statmt.org/wmt15/translation-task.html\n",
        "* https://fasttext.cc/docs/en/crawl-vectors.html\n",
        "* https://towardsdatascience.com/evaluating-text-output-in-nlp-bleu-at-your-own-risk-e8609665a213\n",
        "* https://towardsdatascience.com/illustrated-guide-to-lstms-and-gru-s-a-step-by-step-explanation-44e9eb85bf21\n",
        "* https://github.com/fastai/fastai_docs/blob/master/dev_course/dl2/translation.ipynb\n",
        "* "
      ]
    },
    {
      "cell_type": "code",
      "metadata": {
        "id": "5rOTbow-YqRg",
        "colab_type": "code",
        "colab": {}
      },
      "source": [
        ""
      ],
      "execution_count": 0,
      "outputs": []
    }
  ]
}