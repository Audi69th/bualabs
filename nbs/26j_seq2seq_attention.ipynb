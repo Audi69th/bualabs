{
  "nbformat": 4,
  "nbformat_minor": 0,
  "metadata": {
    "colab": {
      "name": "26j_seq2seq_attention.ipynb",
      "provenance": [],
      "toc_visible": true
    },
    "kernelspec": {
      "name": "python3",
      "display_name": "Python 3"
    },
    "accelerator": "GPU"
  },
  "cells": [
    {
      "cell_type": "markdown",
      "metadata": {
        "colab_type": "text",
        "id": "XlQtoavmlNzL"
      },
      "source": [
        "ใน ep นี้เราจะเรียนรู้"
      ]
    },
    {
      "cell_type": "markdown",
      "metadata": {
        "colab_type": "text",
        "id": "CzApwnjVlKxC"
      },
      "source": [
        "# 0. Install"
      ]
    },
    {
      "cell_type": "code",
      "metadata": {
        "colab_type": "code",
        "id": "0WcUkQRak7e6",
        "colab": {}
      },
      "source": [
        "%reload_ext autoreload\n",
        "%autoreload 2\n",
        "%matplotlib inline"
      ],
      "execution_count": 0,
      "outputs": []
    },
    {
      "cell_type": "markdown",
      "metadata": {
        "colab_type": "text",
        "id": "MGOPzh9vCLJh"
      },
      "source": [
        "Install Library ที่จำเป็น"
      ]
    },
    {
      "cell_type": "code",
      "metadata": {
        "colab_type": "code",
        "id": "o0UgDCGLhby7",
        "outputId": "7d7e60cc-6cd4-41d1-a85a-6de41f013947",
        "colab": {
          "base_uri": "https://localhost:8080/",
          "height": 51
        }
      },
      "source": [
        "## Colab\n",
        "! curl -s https://course.fast.ai/setup/colab | bash"
      ],
      "execution_count": 36,
      "outputs": [
        {
          "output_type": "stream",
          "text": [
            "Updating fastai...\n",
            "Done.\n"
          ],
          "name": "stdout"
        }
      ]
    },
    {
      "cell_type": "markdown",
      "metadata": {
        "id": "r8Ne5kVMzs9a",
        "colab_type": "text"
      },
      "source": [
        "เช็ค GPU"
      ]
    },
    {
      "cell_type": "code",
      "metadata": {
        "colab_type": "code",
        "id": "cQiYFoC4C8hy",
        "outputId": "cc34e224-8fcb-42e7-a376-9929af4fe9e3",
        "colab": {
          "base_uri": "https://localhost:8080/",
          "height": 289
        }
      },
      "source": [
        "! nvidia-smi"
      ],
      "execution_count": 37,
      "outputs": [
        {
          "output_type": "stream",
          "text": [
            "Wed Dec 18 10:50:46 2019       \n",
            "+-----------------------------------------------------------------------------+\n",
            "| NVIDIA-SMI 440.44       Driver Version: 418.67       CUDA Version: 10.1     |\n",
            "|-------------------------------+----------------------+----------------------+\n",
            "| GPU  Name        Persistence-M| Bus-Id        Disp.A | Volatile Uncorr. ECC |\n",
            "| Fan  Temp  Perf  Pwr:Usage/Cap|         Memory-Usage | GPU-Util  Compute M. |\n",
            "|===============================+======================+======================|\n",
            "|   0  Tesla P100-PCIE...  Off  | 00000000:00:04.0 Off |                    0 |\n",
            "| N/A   37C    P0    33W / 250W |   1449MiB / 16280MiB |      0%      Default |\n",
            "+-------------------------------+----------------------+----------------------+\n",
            "                                                                               \n",
            "+-----------------------------------------------------------------------------+\n",
            "| Processes:                                                       GPU Memory |\n",
            "|  GPU       PID   Type   Process name                             Usage      |\n",
            "|=============================================================================|\n",
            "+-----------------------------------------------------------------------------+\n"
          ],
          "name": "stdout"
        }
      ]
    },
    {
      "cell_type": "markdown",
      "metadata": {
        "colab_type": "text",
        "id": "3VxLNfAElR29"
      },
      "source": [
        "# 1. Import"
      ]
    },
    {
      "cell_type": "markdown",
      "metadata": {
        "colab_type": "text",
        "id": "nGm02SG0CQrq"
      },
      "source": [
        "Import Library ที่จะใช้ ในที่นี้คือ fastai และ fastai.text "
      ]
    },
    {
      "cell_type": "code",
      "metadata": {
        "colab_type": "code",
        "id": "OORH3obdk-wS",
        "colab": {}
      },
      "source": [
        "from fastai import *\n",
        "from fastai.text import *\n",
        "from fastai.callbacks import *\n",
        "from fastai.callbacks.mem import *"
      ],
      "execution_count": 0,
      "outputs": []
    },
    {
      "cell_type": "code",
      "metadata": {
        "colab_type": "code",
        "id": "nmZehcHclZyM",
        "colab": {}
      },
      "source": [
        "# import fastai.utils.collect_env\n",
        "# fastai.utils.collect_env.show_install()"
      ],
      "execution_count": 0,
      "outputs": []
    },
    {
      "cell_type": "markdown",
      "metadata": {
        "id": "eEbTrCXdBkEG",
        "colab_type": "text"
      },
      "source": [
        "สำหรับ [Google Colab](https://www.bualabs.com/archives/1687/what-is-colab-open-jupyter-notebook-in-github-on-google-colab-create-open-in-colab-button-colab-ep-1/) เราจะกำหนด path ที่เก็บ DataSet และ Mount Google Drive "
      ]
    },
    {
      "cell_type": "code",
      "metadata": {
        "id": "EOLkyx3DcL_k",
        "colab_type": "code",
        "outputId": "cd1d8277-e913-445f-9a3d-d7179f05cc4b",
        "colab": {
          "base_uri": "https://localhost:8080/",
          "height": 54
        }
      },
      "source": [
        "dataset = '26i-giga-fren'\n",
        "\n",
        "## Google Colab\n",
        "config_path = Path('/content/drive')\n",
        "data_path_base = Path('/content/drive/My Drive/datasets/')\n",
        "\n",
        "# ## VM\n",
        "# config_path = Path(os.getenv(\"HOME\"))\n",
        "# data_path_base = Path(os.getenv(\"HOME\")'/datasets/')\n",
        "\n",
        "data_path = data_path_base/dataset\n",
        "\n",
        "from google.colab import drive\n",
        "drive.mount(str(config_path))"
      ],
      "execution_count": 40,
      "outputs": [
        {
          "output_type": "stream",
          "text": [
            "Drive already mounted at /content/drive; to attempt to forcibly remount, call drive.mount(\"/content/drive\", force_remount=True).\n"
          ],
          "name": "stdout"
        }
      ]
    },
    {
      "cell_type": "markdown",
      "metadata": {
        "colab_type": "text",
        "id": "pv3eV6oElZD2"
      },
      "source": [
        "# 2. Dataset"
      ]
    },
    {
      "cell_type": "markdown",
      "metadata": {
        "colab_type": "text",
        "id": "_9kLpiZj_Rd6"
      },
      "source": [
        "ในเคสนี้เราจะใช้ giga-fren คือ Giga-word corpus สำหรับแปลภาษาระหว่างภาษาฝรั่งเศส-ภาษาอังกฤษ (French-English) จากงาน WMT2010 รวบรวมโดย Chris Callison-Burch"
      ]
    },
    {
      "cell_type": "code",
      "metadata": {
        "colab_type": "code",
        "outputId": "7812222d-3f5f-44c3-e10d-8f4524c30333",
        "id": "fLeB-sQgRhFj",
        "colab": {
          "base_uri": "https://localhost:8080/",
          "height": 34
        }
      },
      "source": [
        "data_path"
      ],
      "execution_count": 41,
      "outputs": [
        {
          "output_type": "execute_result",
          "data": {
            "text/plain": [
              "PosixPath('/content/drive/My Drive/datasets/26i-giga-fren')"
            ]
          },
          "metadata": {
            "tags": []
          },
          "execution_count": 41
        }
      ]
    },
    {
      "cell_type": "markdown",
      "metadata": {
        "colab_type": "text",
        "id": "-46vRPLTRlgW"
      },
      "source": [
        "ดูว่ามีไฟล์อะไรบ้าง"
      ]
    },
    {
      "cell_type": "code",
      "metadata": {
        "colab_type": "code",
        "outputId": "9f93cbe8-1816-4628-9f06-3f2964dce063",
        "id": "eY0UHIoaRlgP",
        "colab": {
          "base_uri": "https://localhost:8080/",
          "height": 102
        }
      },
      "source": [
        "path = data_path/'giga-fren'\n",
        "path.ls()"
      ],
      "execution_count": 42,
      "outputs": [
        {
          "output_type": "execute_result",
          "data": {
            "text/plain": [
              "[PosixPath('/content/drive/My Drive/datasets/26i-giga-fren/giga-fren/giga-fren.release2.fixed.en'),\n",
              " PosixPath('/content/drive/My Drive/datasets/26i-giga-fren/giga-fren/questions_easy.csv'),\n",
              " PosixPath('/content/drive/My Drive/datasets/26i-giga-fren/giga-fren/.ipynb_checkpoints'),\n",
              " PosixPath('/content/drive/My Drive/datasets/26i-giga-fren/giga-fren/databunch-small-questions.pkl'),\n",
              " PosixPath('/content/drive/My Drive/datasets/26i-giga-fren/giga-fren/models')]"
            ]
          },
          "metadata": {
            "tags": []
          },
          "execution_count": 42
        }
      ]
    },
    {
      "cell_type": "markdown",
      "metadata": {
        "id": "8UyLr_W5gtig",
        "colab_type": "text"
      },
      "source": [
        "# 3. Preprocess"
      ]
    },
    {
      "cell_type": "code",
      "metadata": {
        "id": "eTa2IGaD2fWV",
        "colab_type": "code",
        "colab": {}
      },
      "source": [
        "def seq2seq_collate(samples, pad_idx=1, pad_first=True, backwards=False):\n",
        "    samples = to_data(samples)\n",
        "    max_len_x, max_len_y = max([len(s[0]) for s in samples]), max([len(s[1]) for s in samples])\n",
        "    res_x = torch.zeros(len(samples), max_len_x).long() + pad_idx\n",
        "    res_y = torch.zeros(len(samples), max_len_y).long() + pad_idx\n",
        "\n",
        "    if backwards: pad_first = not pad_first\n",
        "    for i, s in enumerate(samples): \n",
        "        if pad_first:\n",
        "            res_x[i, -len(s[0]):], res_y[i, -len(s[1]):] = LongTensor(s[0]), LongTensor(s[1])\n",
        "        else:\n",
        "            res_x[i, :len(s[0]):], res_y[i, :len(s[1]):] = LongTensor(s[0]), LongTensor(s[1])\n",
        "    if backwards: res_x, res_y = res_x.flip(1), res_y.flip(1)\n",
        "    return res_x, res_y"
      ],
      "execution_count": 0,
      "outputs": []
    },
    {
      "cell_type": "code",
      "metadata": {
        "id": "QapwAd2biYjJ",
        "colab_type": "code",
        "colab": {}
      },
      "source": [
        "class Seq2SeqDataBunch(TextDataBunch):\n",
        "    @classmethod\n",
        "    def create(cls, train_ds, valid_ds, test_ds=None, path:PathOrStr='.', \n",
        "               bs:int=32, val_bs:int=None, pad_idx=1, dl_tfms=None, \n",
        "               pad_first=False, device:torch.device=None, no_check:bool=False, \n",
        "               backwards:bool=False, **dl_kwargs) -> DataBunch:\n",
        "\n",
        "        datasets = cls._init_ds(train_ds, valid_ds, test_ds)\n",
        "        val_bs = ifnone(val_bs, bs)\n",
        "        collate_fn = partial(seq2seq_collate, pad_idx=pad_idx, \n",
        "                             pad_first=pad_first, backwards=backwards)\n",
        "        train_sampler = SortishSampler(datasets[0].x, \n",
        "                                       key=lambda t: len(datasets[0][t][0].data), bs=bs//2)\n",
        "        train_dl = DataLoader(datasets[0], batch_size=bs, sampler=train_sampler, drop_last=True, **dl_kwargs)\n",
        "        dataloaders = [train_dl]\n",
        "        for ds in datasets[1:]:\n",
        "            lengths = [len(t) for t in ds.x.items]\n",
        "            sampler = SortSampler(ds.x, key=lengths.__getitem__)\n",
        "            dataloaders.append(DataLoader(ds, batch_size=val_bs, sampler=sampler, **dl_kwargs))\n",
        "        return cls(*dataloaders, path=path, device=device, collate_fn=collate_fn, no_check=no_check)\n"
      ],
      "execution_count": 0,
      "outputs": []
    },
    {
      "cell_type": "code",
      "metadata": {
        "id": "1TEIGlxzr0zv",
        "colab_type": "code",
        "colab": {}
      },
      "source": [
        "class Seq2SeqTextList(TextList):\n",
        "    _bunch = Seq2SeqDataBunch\n",
        "    _label_cls = TextList"
      ],
      "execution_count": 0,
      "outputs": []
    },
    {
      "cell_type": "markdown",
      "metadata": {
        "id": "okKbONI6pNUf",
        "colab_type": "text"
      },
      "source": [
        "โหลด DataBunch ที่สร้างไว้ใน [ep ที่แล้ว Sequence to Sequence RNN Model](https://www.bualabs.com/archives/3134/what-is-sequence-to-sequence-neural-translate-machine-translation-french-to-english-sequence-to-sequence-model-rnn-gru-teacher-forcing-nlp-ep-10/) ขึ้นมา"
      ]
    },
    {
      "cell_type": "code",
      "metadata": {
        "id": "p4iCNPYBlxz8",
        "colab_type": "code",
        "colab": {}
      },
      "source": [
        "data = load_data(path, 'databunch-small-questions.pkl')"
      ],
      "execution_count": 0,
      "outputs": []
    },
    {
      "cell_type": "markdown",
      "metadata": {
        "id": "64Fss7Vuu4Un",
        "colab_type": "text"
      },
      "source": [
        "# 4. Model"
      ]
    },
    {
      "cell_type": "markdown",
      "metadata": {
        "id": "nk9UkwP68YdP",
        "colab_type": "text"
      },
      "source": [
        "## 4.1 Embedding"
      ]
    },
    {
      "cell_type": "markdown",
      "metadata": {
        "id": "bE-c37X5wLZf",
        "colab_type": "text"
      },
      "source": [
        "โหลด Embedding ที่เรา Save ไว้ใน [ep ที่แล้ว Sequence to Sequence RNN Model](https://www.bualabs.com/archives/3134/what-is-sequence-to-sequence-neural-translate-machine-translation-french-to-english-sequence-to-sequence-model-rnn-gru-teacher-forcing-nlp-ep-10/) ขึ้นมา"
      ]
    },
    {
      "cell_type": "code",
      "metadata": {
        "id": "oQWX57L4otjv",
        "colab_type": "code",
        "colab": {}
      },
      "source": [
        "model_path = config_path/'My Drive/models'"
      ],
      "execution_count": 0,
      "outputs": []
    },
    {
      "cell_type": "code",
      "metadata": {
        "id": "GTE9FUGwolsI",
        "colab_type": "code",
        "colab": {}
      },
      "source": [
        "emb_enc = torch.load(model_path/'fr_emb.pth')\n",
        "emb_dec = torch.load(model_path/'en_emb.pth')"
      ],
      "execution_count": 0,
      "outputs": []
    },
    {
      "cell_type": "markdown",
      "metadata": {
        "id": "LkgF1Kxg8dbG",
        "colab_type": "text"
      },
      "source": [
        "## 4.2 Loss, Metrics and Callback"
      ]
    },
    {
      "cell_type": "markdown",
      "metadata": {
        "id": "5Z2jBOY18klD",
        "colab_type": "text"
      },
      "source": [
        "Loss Function, Metrics และ Teacher Forcing Callback จาก ep ที่แล้ว"
      ]
    },
    {
      "cell_type": "code",
      "metadata": {
        "id": "1UE30dNTolxa",
        "colab_type": "code",
        "colab": {}
      },
      "source": [
        "def seq2seq_loss(out, targ, pad_idx=1):\n",
        "    bs, targ_len = targ.size()\n",
        "    _, out_len, vs = out.size()\n",
        "    if targ_len > out_len: out = F.pad(out, (0, 0, 0, targ_len-out_len, 0, 0), value=pad_idx)\n",
        "    if out_len > targ_len: targ = F.pad(targ, (0, out_len-targ_len, 0, 0), value=pad_idx)\n",
        "    return CrossEntropyFlat()(out, targ)"
      ],
      "execution_count": 0,
      "outputs": []
    },
    {
      "cell_type": "code",
      "metadata": {
        "id": "63hKeqqDol2f",
        "colab_type": "code",
        "colab": {}
      },
      "source": [
        "def seq2seq_acc(out, targ, pad_idx=1):\n",
        "    bs, targ_len = targ.size()\n",
        "    _, out_len, vs = out.size()\n",
        "    if targ_len > out_len: out = F.pad(out, (0, 0, 0, targ_len-out_len, 0, 0), value=pad_idx)\n",
        "    if out_len > targ_len: targ = F.pad(targ, (0, out_len-targ_len, 0, 0), value=pad_idx)\n",
        "    out = out.argmax(2)\n",
        "    return (out == targ).float().mean()"
      ],
      "execution_count": 0,
      "outputs": []
    },
    {
      "cell_type": "code",
      "metadata": {
        "id": "KWVJ1fKkwYZa",
        "colab_type": "code",
        "colab": {}
      },
      "source": [
        "class NGram():\n",
        "    def __init__(self, ngram, max_n=50000): self.ngram, self.max_n = ngram, max_n\n",
        "    def __eq__(self, other): \n",
        "        if len(self.ngram) != len(other.ngram): return False\n",
        "        return np.all(np.array(self.ngram) == np.array(other.ngram))\n",
        "    def __hash__(self): return int(sum([o * self.max_n**i for i, o in enumerate(self.ngram)]))"
      ],
      "execution_count": 0,
      "outputs": []
    },
    {
      "cell_type": "code",
      "metadata": {
        "id": "oTAvGIrowYg4",
        "colab_type": "code",
        "colab": {}
      },
      "source": [
        "def get_grams(x, n, max_n=5000):\n",
        "    return x if n==1 else [NGram(x[i:i+n], max_n=max_n) for i in range(len(x)-n+1)]"
      ],
      "execution_count": 0,
      "outputs": []
    },
    {
      "cell_type": "code",
      "metadata": {
        "id": "RlR5Q-PTwYnK",
        "colab_type": "code",
        "colab": {}
      },
      "source": [
        "def get_correct_ngrams(pred, targ, n, max_n=5000): \n",
        "    pred_grams, targ_grams = get_grams(pred, n, max_n=max_n), get_grams(targ, n, max_n=max_n)\n",
        "    pred_cnt, targ_cnt = Counter(pred_grams), Counter(targ_grams)\n",
        "    return sum([min(c, targ_cnt[g]) for g, c in pred_cnt.items()]), len(pred_grams)"
      ],
      "execution_count": 0,
      "outputs": []
    },
    {
      "cell_type": "code",
      "metadata": {
        "id": "CjhbbpVdwYtg",
        "colab_type": "code",
        "colab": {}
      },
      "source": [
        "class CorpusBLEU(Callback):\n",
        "    def __init__(self, vocab_sz):\n",
        "        self.vocab_sz = vocab_sz\n",
        "        self.name = 'bleu'\n",
        "\n",
        "    def on_epoch_begin(self, **kwargs):\n",
        "        self.pred_len, self.targ_len, self.corrects, self.counts = 0, 0, [0]*4, [0]*4\n",
        "    \n",
        "    def on_batch_end(self, last_output, last_target, **kwargs):\n",
        "        last_output = last_output.argmax(dim=-1)\n",
        "        for pred, targ in zip(last_output.cpu().numpy(), last_target.cpu().numpy()):\n",
        "            self.pred_len += len(pred)\n",
        "            self.targ_len += len(targ)\n",
        "            for i in range(4):\n",
        "                c, t = get_correct_ngrams(pred, targ, i+1, max_n=self.vocab_sz)\n",
        "                self.corrects[i] += c\n",
        "                self.counts[i] += t\n",
        "    \n",
        "    def on_epoch_end(self, last_metrics, **kwargs):\n",
        "        precs = [c/t for c, t in zip(self.corrects, self.counts)]\n",
        "        len_penalty = exp(1 - self.targ_len / self.pred_len) if self.pred_len < self.targ_len else 1\n",
        "        bleu = len_penalty * ((precs[0] * precs[1] * precs[2] * precs[3]) ** 0.25)\n",
        "        return add_metrics(last_metrics, bleu)"
      ],
      "execution_count": 0,
      "outputs": []
    },
    {
      "cell_type": "code",
      "metadata": {
        "id": "Scj2Ma8f8Uda",
        "colab_type": "code",
        "colab": {}
      },
      "source": [
        "def get_predictions(learn, ds_type=DatasetType.Valid):\n",
        "    learn.model.eval()\n",
        "    inputs, targets, outputs = [], [], []\n",
        "    with torch.no_grad():\n",
        "        for xb, yb in progress_bar(learn.dl(ds_type)):\n",
        "            out = learn.model(xb)\n",
        "            for x, y, z in zip(xb, yb, out):\n",
        "                inputs.append(learn.data.train_ds.x.reconstruct(x))\n",
        "                targets.append(learn.data.train_ds.y.reconstruct(y))\n",
        "                outputs.append(learn.data.train_ds.y.reconstruct(z.argmax(1)))\n",
        "    return inputs, targets, outputs"
      ],
      "execution_count": 0,
      "outputs": []
    },
    {
      "cell_type": "code",
      "metadata": {
        "id": "16-9SfXo86AK",
        "colab_type": "code",
        "colab": {}
      },
      "source": [
        "class TeacherForcing(LearnerCallback):\n",
        "    def __init__(self, learn, end_epoch):\n",
        "        super().__init__(learn)\n",
        "        self.end_epoch = end_epoch\n",
        "    \n",
        "    def on_batch_begin(self, last_input, last_target, train, **kwargs):\n",
        "        if train: return {'last_input': [last_input, last_target]}\n",
        "\n",
        "    def on_epoch_begin(self, epoch, **kwargs):\n",
        "        self.learn.model.pr_force = 1 - epoch/self.end_epoch"
      ],
      "execution_count": 0,
      "outputs": []
    },
    {
      "cell_type": "markdown",
      "metadata": {
        "id": "9UH_dEPm8Ukg",
        "colab_type": "text"
      },
      "source": [
        "## 4.3 New Model with Attention"
      ]
    },
    {
      "cell_type": "markdown",
      "metadata": {
        "id": "FhFWkx5p8Uqe",
        "colab_type": "text"
      },
      "source": [
        "\n",
        "\n",
        "Attention คืออะไร "
      ]
    },
    {
      "cell_type": "code",
      "metadata": {
        "id": "EfyUvAsZ8UxZ",
        "colab_type": "code",
        "colab": {}
      },
      "source": [
        "class Seq2SeqRNN_attn(nn.Module):\n",
        "    def __init__(self, emb_enc, emb_dec, nh, out_sl, nl=2, bos_idx=0, pad_idx=1):\n",
        "        super().__init__()\n",
        "        self.nl, self.nh, self.out_sl, self.pr_force = nl, nh, out_sl, 1\n",
        "        self.bos_idx, self.pad_idx = bos_idx, pad_idx\n",
        "        self.emb_enc = emb_enc\n",
        "        self.emb_dec = emb_dec\n",
        "        self.emb_sz_enc = emb_enc.embedding_dim\n",
        "        self.emb_sz_dec = emb_dec.embedding_dim\n",
        "        self.voc_sz_dec = emb_dec.num_embeddings\n",
        "\n",
        "        self.emb_enc_drop = nn.Dropout(0.15)\n",
        "\n",
        "        # Bidirectional\n",
        "        self.gru_enc = nn.GRU(self.emb_sz_enc, nh, num_layers=nl, \n",
        "                              dropout=0.25, batch_first=True, bidirectional=True)\n",
        "        \n",
        "        self.out_enc = nn.Linear(2*nh, self.emb_sz_dec, bias=False)\n",
        "\n",
        "        self.gru_dec = nn.GRU(self.emb_sz_dec + 2*nh, self.emb_sz_dec, num_layers=nl, \n",
        "                              dropout=0.1, batch_first=True)\n",
        "        self.out_drop = nn.Dropout(0.35)\n",
        "        self.out = nn.Linear(self.emb_sz_dec, self.voc_sz_dec)\n",
        "        self.out.weight.data = self.emb_dec.weight.data\n",
        "\n",
        "        ## Attention\n",
        "        self.enc_att = nn.Linear(2*nh, self.emb_sz_dec, bias=False)\n",
        "        self.hid_att = nn.Linear(self.emb_sz_dec, self.emb_sz_dec)\n",
        "        self.V = self.init_param(self.emb_sz_dec)\n",
        "\n",
        "    def encoder(self, bs, inp):\n",
        "        h = self.initHidden(bs)\n",
        "        emb = self.emb_enc_drop(self.emb_enc(inp))\n",
        "        enc_out, hid = self.gru_enc(emb, 2*h)\n",
        "\n",
        "        pre_hid = hid.view(2, self.nl, bs, self.nh).permute(1, 2, 0, 3).contiguous()\n",
        "        pre_hid = pre_hid.view(self.nl, bs, 2*self.nh)\n",
        "        hid = self.out_enc(pre_hid)\n",
        "        return hid, enc_out\n",
        "\n",
        "    def decoder(self, dec_inp, hid, enc_att, enc_out):\n",
        "        # Attention\n",
        "        hid_att = self.hid_att(hid[-1])\n",
        "        u = torch.tanh(enc_att + hid_att[:, None])\n",
        "        attn_wgts = F.softmax(u @ self.V, 1)\n",
        "        ctx = (attn_wgts[..., None] * enc_out).sum(1)\n",
        "        \n",
        "        emb = self.emb_dec(dec_inp)\n",
        "        outp, h = self.gru_dec(torch.cat([emb, ctx], 1)[:, None], hid)\n",
        "        outp = self.out(self.out_drop(outp[:, 0]))\n",
        "        return h, outp\n",
        "\n",
        "    def show(self, nm, v):\n",
        "        if True: print(f\"{nm}={v[nm].shape}\")\n",
        "            \n",
        "    def forward(self, inp, targ=None):\n",
        "        bs, sl = inp.size()\n",
        "        hid, enc_out = self.encoder(bs, inp)\n",
        "        # self.show(\"hid\", vars())\n",
        "        dec_inp = inp.new_zeros(bs).long() + self.bos_idx\n",
        "        enc_att = self.enc_att(enc_out)\n",
        "\n",
        "        res = []\n",
        "        for i in range(self.out_sl):\n",
        "            hid, outp = self.decoder(dec_inp, hid, enc_att, enc_out)\n",
        "            res.append(outp)\n",
        "            dec_inp = outp.max(1)[1]\n",
        "            if (dec_inp==self.pad_idx).all(): break\n",
        "            if (targ is not None) and (random.random()<self.pr_force):\n",
        "                if i >= targ.shape[1]: continue\n",
        "                dec_inp = targ[:, i]\n",
        "        return torch.stack(res, dim=1)\n",
        "    \n",
        "    # 2 * no of layers because bidirectional\n",
        "    def initHidden(self, bs):\n",
        "        return one_param(self).new_zeros(2*self.nl, bs, self.nh)\n",
        "    # Xavier Init\n",
        "    def init_param(self, *sz): return nn.Parameter(torch.randn(sz)/math.sqrt(sz[0]))"
      ],
      "execution_count": 0,
      "outputs": []
    },
    {
      "cell_type": "markdown",
      "metadata": {
        "id": "zdiiaPk5TbQ8",
        "colab_type": "text"
      },
      "source": [
        "# 5. Train"
      ]
    },
    {
      "cell_type": "code",
      "metadata": {
        "id": "SYSdCxsQ8U2B",
        "colab_type": "code",
        "colab": {}
      },
      "source": [
        "model = Seq2SeqRNN_attn(emb_enc, emb_dec, 256, 30)\n",
        "learn = Learner(data, model, loss_func=seq2seq_loss, \n",
        "                metrics=[seq2seq_acc, CorpusBLEU(len(data.vocab.itos))], \n",
        "                callback_fns=[ShowGraph, partial(TeacherForcing, end_epoch=6)])"
      ],
      "execution_count": 0,
      "outputs": []
    },
    {
      "cell_type": "code",
      "metadata": {
        "id": "oYGpWeWt8U7C",
        "colab_type": "code",
        "colab": {
          "base_uri": "https://localhost:8080/",
          "height": 330
        },
        "outputId": "af53fa89-2103-4eeb-e4e4-278ddb96c022"
      },
      "source": [
        "learn.lr_find()\n",
        "learn.recorder.plot(suggestion=True)"
      ],
      "execution_count": 61,
      "outputs": [
        {
          "output_type": "display_data",
          "data": {
            "text/html": [
              ""
            ],
            "text/plain": [
              "<IPython.core.display.HTML object>"
            ]
          },
          "metadata": {
            "tags": []
          }
        },
        {
          "output_type": "stream",
          "text": [
            "LR Finder is complete, type {learner_name}.recorder.plot() to see the graph.\n",
            "Min numerical gradient: 9.12E-03\n",
            "Min loss divided by 10: 1.10E-03\n"
          ],
          "name": "stdout"
        },
        {
          "output_type": "display_data",
          "data": {
            "image/png": "[encoded data removed]",
            "text/plain": [
              "<Figure size 432x288 with 1 Axes>"
            ]
          },
          "metadata": {
            "tags": []
          }
        }
      ]
    },
    {
      "cell_type": "code",
      "metadata": {
        "id": "mTXolL4zTG8I",
        "colab_type": "code",
        "colab": {}
      },
      "source": [
        "lr = 3e-3"
      ],
      "execution_count": 0,
      "outputs": []
    },
    {
      "cell_type": "code",
      "metadata": {
        "id": "JvgPvpdb8VFt",
        "colab_type": "code",
        "colab": {
          "base_uri": "https://localhost:8080/",
          "height": 762
        },
        "outputId": "d6a1eb04-66d7-4a5c-df75-127d494f01be"
      },
      "source": [
        "learn.fit_one_cycle(15, max_lr=lr)"
      ],
      "execution_count": 63,
      "outputs": [
        {
          "output_type": "display_data",
          "data": {
            "text/html": [
              "<table border=\"1\" class=\"dataframe\">\n",
              "  <thead>\n",
              "    <tr style=\"text-align: left;\">\n",
              "      <th>epoch</th>\n",
              "      <th>train_loss</th>\n",
              "      <th>valid_loss</th>\n",
              "      <th>seq2seq_acc</th>\n",
              "      <th>bleu</th>\n",
              "      <th>time</th>\n",
              "    </tr>\n",
              "  </thead>\n",
              "  <tbody>\n",
              "    <tr>\n",
              "      <td>0</td>\n",
              "      <td>2.625214</td>\n",
              "      <td>3.631252</td>\n",
              "      <td>0.442010</td>\n",
              "      <td>0.202834</td>\n",
              "      <td>01:08</td>\n",
              "    </tr>\n",
              "    <tr>\n",
              "      <td>1</td>\n",
              "      <td>2.473791</td>\n",
              "      <td>4.155777</td>\n",
              "      <td>0.456205</td>\n",
              "      <td>0.353423</td>\n",
              "      <td>00:57</td>\n",
              "    </tr>\n",
              "    <tr>\n",
              "      <td>2</td>\n",
              "      <td>2.333935</td>\n",
              "      <td>2.594567</td>\n",
              "      <td>0.600239</td>\n",
              "      <td>0.334758</td>\n",
              "      <td>00:59</td>\n",
              "    </tr>\n",
              "    <tr>\n",
              "      <td>3</td>\n",
              "      <td>2.532168</td>\n",
              "      <td>3.912492</td>\n",
              "      <td>0.435558</td>\n",
              "      <td>0.362345</td>\n",
              "      <td>00:53</td>\n",
              "    </tr>\n",
              "    <tr>\n",
              "      <td>4</td>\n",
              "      <td>2.803010</td>\n",
              "      <td>3.758590</td>\n",
              "      <td>0.441598</td>\n",
              "      <td>0.362115</td>\n",
              "      <td>00:52</td>\n",
              "    </tr>\n",
              "    <tr>\n",
              "      <td>5</td>\n",
              "      <td>3.233417</td>\n",
              "      <td>4.150254</td>\n",
              "      <td>0.389770</td>\n",
              "      <td>0.316221</td>\n",
              "      <td>00:50</td>\n",
              "    </tr>\n",
              "    <tr>\n",
              "      <td>6</td>\n",
              "      <td>3.566119</td>\n",
              "      <td>4.419960</td>\n",
              "      <td>0.360209</td>\n",
              "      <td>0.276825</td>\n",
              "      <td>00:47</td>\n",
              "    </tr>\n",
              "    <tr>\n",
              "      <td>7</td>\n",
              "      <td>3.213755</td>\n",
              "      <td>4.220668</td>\n",
              "      <td>0.379199</td>\n",
              "      <td>0.295937</td>\n",
              "      <td>00:48</td>\n",
              "    </tr>\n",
              "    <tr>\n",
              "      <td>8</td>\n",
              "      <td>2.887079</td>\n",
              "      <td>3.603829</td>\n",
              "      <td>0.446473</td>\n",
              "      <td>0.337771</td>\n",
              "      <td>00:50</td>\n",
              "    </tr>\n",
              "    <tr>\n",
              "      <td>9</td>\n",
              "      <td>2.572257</td>\n",
              "      <td>3.599997</td>\n",
              "      <td>0.452566</td>\n",
              "      <td>0.355292</td>\n",
              "      <td>00:51</td>\n",
              "    </tr>\n",
              "    <tr>\n",
              "      <td>10</td>\n",
              "      <td>2.417635</td>\n",
              "      <td>3.461520</td>\n",
              "      <td>0.465619</td>\n",
              "      <td>0.364482</td>\n",
              "      <td>00:51</td>\n",
              "    </tr>\n",
              "    <tr>\n",
              "      <td>11</td>\n",
              "      <td>2.014671</td>\n",
              "      <td>3.430279</td>\n",
              "      <td>0.476623</td>\n",
              "      <td>0.378746</td>\n",
              "      <td>00:53</td>\n",
              "    </tr>\n",
              "    <tr>\n",
              "      <td>12</td>\n",
              "      <td>1.821945</td>\n",
              "      <td>3.358467</td>\n",
              "      <td>0.486862</td>\n",
              "      <td>0.386752</td>\n",
              "      <td>00:53</td>\n",
              "    </tr>\n",
              "    <tr>\n",
              "      <td>13</td>\n",
              "      <td>1.723083</td>\n",
              "      <td>3.370644</td>\n",
              "      <td>0.490892</td>\n",
              "      <td>0.394238</td>\n",
              "      <td>00:54</td>\n",
              "    </tr>\n",
              "    <tr>\n",
              "      <td>14</td>\n",
              "      <td>1.631537</td>\n",
              "      <td>3.363655</td>\n",
              "      <td>0.492886</td>\n",
              "      <td>0.396001</td>\n",
              "      <td>00:55</td>\n",
              "    </tr>\n",
              "  </tbody>\n",
              "</table>"
            ],
            "text/plain": [
              "<IPython.core.display.HTML object>"
            ]
          },
          "metadata": {
            "tags": []
          }
        },
        {
          "output_type": "display_data",
          "data": {
            "image/png": "[encoded data removed]",
            "text/plain": [
              "<Figure size 432x288 with 1 Axes>"
            ]
          },
          "metadata": {
            "tags": []
          }
        }
      ]
    },
    {
      "cell_type": "markdown",
      "metadata": {
        "id": "lglV5obtTLhA",
        "colab_type": "text"
      },
      "source": [
        "# 6. View Results"
      ]
    },
    {
      "cell_type": "code",
      "metadata": {
        "id": "1mxiWQc6TLQw",
        "colab_type": "code",
        "colab": {
          "base_uri": "https://localhost:8080/",
          "height": 37
        },
        "outputId": "2dd901e3-87df-435d-964f-a0f10da553ad"
      },
      "source": [
        "inputs, targets, outputs = get_predictions(learn)"
      ],
      "execution_count": 32,
      "outputs": [
        {
          "output_type": "display_data",
          "data": {
            "text/html": [
              "\n",
              "    <div>\n",
              "        <style>\n",
              "            /* Turns off some styling */\n",
              "            progress {\n",
              "                /* gets rid of default border in Firefox and Opera. */\n",
              "                border: none;\n",
              "                /* Needs to be in here for Safari polyfill so background images work as expected. */\n",
              "                background-size: auto;\n",
              "            }\n",
              "            .progress-bar-interrupted, .progress-bar-interrupted::-webkit-progress-bar {\n",
              "                background: #F44336;\n",
              "            }\n",
              "        </style>\n",
              "      <progress value='151' class='' max='151', style='width:300px; height:20px; vertical-align: middle;'></progress>\n",
              "      100.00% [151/151 00:40<00:00]\n",
              "    </div>\n",
              "    "
            ],
            "text/plain": [
              "<IPython.core.display.HTML object>"
            ]
          },
          "metadata": {
            "tags": []
          }
        }
      ]
    },
    {
      "cell_type": "code",
      "metadata": {
        "id": "RhLNOd2vTQ7o",
        "colab_type": "code",
        "colab": {
          "base_uri": "https://localhost:8080/",
          "height": 88
        },
        "outputId": "53a7dc88-d383-4aeb-ce05-fa8f8ecb10d1"
      },
      "source": [
        "idx = 999\n",
        "inputs[idx], targets[idx], outputs[idx]"
      ],
      "execution_count": 33,
      "outputs": [
        {
          "output_type": "execute_result",
          "data": {
            "text/plain": [
              "(Text xxbos quelles sont les données ventilées par sexe pertinentes , qui ne sont pas utilisées habituellement , mais sont disponibles et accessibles ?,\n",
              " Text xxbos what relevant gender - xxunk data is not currently used but available and accessible ?,\n",
              " Text xxbos what is - - - - , not not not not used , and available ? ?)"
            ]
          },
          "metadata": {
            "tags": []
          },
          "execution_count": 33
        }
      ]
    },
    {
      "cell_type": "code",
      "metadata": {
        "id": "-jnVTOouTRBc",
        "colab_type": "code",
        "colab": {
          "base_uri": "https://localhost:8080/",
          "height": 88
        },
        "outputId": "12186ed9-55aa-45a2-9806-9cdb26d58e93"
      },
      "source": [
        "idx = 2222\n",
        "inputs[idx], targets[idx], outputs[idx]"
      ],
      "execution_count": 34,
      "outputs": [
        {
          "output_type": "execute_result",
          "data": {
            "text/plain": [
              "(Text xxbos avez - vous xxunk des xxunk ou de xxunk en afghanistan parce que vous êtes une femme ?,\n",
              " Text xxbos what about yourself xxunk : have you experienced resistance or xxunk in afghanistan because you ’re a woman ?,\n",
              " Text xxbos what are your you as a a a a in in)"
            ]
          },
          "metadata": {
            "tags": []
          },
          "execution_count": 34
        }
      ]
    },
    {
      "cell_type": "code",
      "metadata": {
        "id": "XQao1wIoTRG7",
        "colab_type": "code",
        "colab": {
          "base_uri": "https://localhost:8080/",
          "height": 68
        },
        "outputId": "cc63534e-d8d8-4729-d7a4-d874b0e80b2e"
      },
      "source": [
        "idx = 3333\n",
        "inputs[idx], targets[idx], outputs[idx]"
      ],
      "execution_count": 35,
      "outputs": [
        {
          "output_type": "execute_result",
          "data": {
            "text/plain": [
              "(Text xxbos quels genres d’innovations organisationnelles apporte - t - on à l’intérieur de ce système ?,\n",
              " Text xxbos what kinds of organizational innovation takes place in this system ?,\n",
              " Text xxbos what type of organizational support to this this system ?)"
            ]
          },
          "metadata": {
            "tags": []
          },
          "execution_count": 35
        }
      ]
    },
    {
      "cell_type": "code",
      "metadata": {
        "id": "-mNhovk7TRMy",
        "colab_type": "code",
        "colab": {
          "base_uri": "https://localhost:8080/",
          "height": 68
        },
        "outputId": "6c3ba247-00b8-4777-fc50-479123f0f505"
      },
      "source": [
        "idx = 4444\n",
        "inputs[idx], targets[idx], outputs[idx]"
      ],
      "execution_count": 36,
      "outputs": [
        {
          "output_type": "execute_result",
          "data": {
            "text/plain": [
              "(Text xxbos dans quels cas la discussion informelle a - t - elle lieu ?,\n",
              " Text xxbos when does informal discussion occur ?,\n",
              " Text xxbos what was the informal discussion informal discussion ?)"
            ]
          },
          "metadata": {
            "tags": []
          },
          "execution_count": 36
        }
      ]
    },
    {
      "cell_type": "markdown",
      "metadata": {
        "id": "wK0c60PP4dsM",
        "colab_type": "text"
      },
      "source": [
        "# 7. สรุป"
      ]
    },
    {
      "cell_type": "markdown",
      "metadata": {
        "id": "jXZKouVU4eKI",
        "colab_type": "text"
      },
      "source": [
        "* เราได้เรียนรู้\n"
      ]
    },
    {
      "cell_type": "markdown",
      "metadata": {
        "id": "WkQbNoqb7a9G",
        "colab_type": "text"
      },
      "source": [
        "ตารางสรุป ผลลัพธ์การเทรนโมเดลแบบต่าง ๆ\n",
        "\n",
        "model            | train_loss | valid_loss | seq2seq_acc | bleu\n",
        "-------------------|----------|----------|----------|----------\n",
        "seq2seq            | 2.823382 | 3.826643 | 0.427117 | 0.322879\n",
        "\\+ teacher forcing | 2.678760 |\t3.732396 | 0.439311 | 0.332833\n",
        "\\+ attention       | 1.452292 | 3.420485 | 0.498205 | 0.413232\n",
        "transformer        | 1.913152 | 2.349686 | 0.781749 | 0.612880"
      ]
    },
    {
      "cell_type": "markdown",
      "metadata": {
        "id": "znPxMYlaW0gK",
        "colab_type": "text"
      },
      "source": [
        "# Credit"
      ]
    },
    {
      "cell_type": "markdown",
      "metadata": {
        "id": "sqd6yzv1W12G",
        "colab_type": "text"
      },
      "source": [
        "* https://www.youtube.com/watch?v=IfsjMg4fLWQ&list=PLtmWHNX-gukKocXQOkQjuVxglSDYWsSh9&index=12\n",
        "* https://www.bualabs.com/archives/3134/what-is-sequence-to-sequence-neural-translate-machine-translation-french-to-english-sequence-to-sequence-model-rnn-gru-teacher-forcing-nlp-ep-10/\n",
        "* https://www.bualabs.com/archives/3103/what-is-recurrent-neural-network-rnn-pytorch-gru-nlp-ep-9/\n",
        "* https://www.bualabs.com/archives/3087/sentiment-classification-deep-learning-imdb-movie-reviews-positive-negative-deep-neural-network-awd-lstm-ulmfit-nlp-ep-8/\n",
        "* https://www.bualabs.com/archives/3060/what-is-n-gram-sentiment-classification-imdb-movie-review-naive-bayes-logistic-regression-nlp-ep-6/\n",
        "* http://opus.nlpl.eu/giga-fren.php\n",
        "* https://arxiv.org/abs/1409.3215\n",
        "* https://ieeexplore.ieee.org/document/6795228/\n",
        "* https://pytorch.org/tutorials/intermediate/seq2seq_translation_tutorial.html\n",
        "* http://www.statmt.org/wmt15/translation-task.html\n",
        "* https://fasttext.cc/docs/en/crawl-vectors.html\n",
        "* https://towardsdatascience.com/evaluating-text-output-in-nlp-bleu-at-your-own-risk-e8609665a213\n",
        "* https://towardsdatascience.com/illustrated-guide-to-lstms-and-gru-s-a-step-by-step-explanation-44e9eb85bf21\n",
        "* https://github.com/fastai/fastai_docs/blob/master/dev_course/dl2/translation.ipynb\n",
        "* "
      ]
    },
    {
      "cell_type": "code",
      "metadata": {
        "id": "pWwHfaeVwzO0",
        "colab_type": "code",
        "colab": {}
      },
      "source": [
        ""
      ],
      "execution_count": 0,
      "outputs": []
    }
  ]
}