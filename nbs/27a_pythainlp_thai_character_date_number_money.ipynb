{
  "nbformat": 4,
  "nbformat_minor": 0,
  "metadata": {
    "colab": {
      "name": "27a_pythainlp_thai_character_date_number_money.ipynb",
      "provenance": []
    },
    "kernelspec": {
      "name": "python3",
      "display_name": "Python 3"
    },
    "accelerator": "GPU"
  },
  "cells": [
    {
      "cell_type": "markdown",
      "metadata": {
        "colab_type": "text",
        "id": "XlQtoavmlNzL"
      },
      "source": [
        "ใน ep นี้เราจะมาเรียนรู้ [NLP](https://www.bualabs.com/archives/119/what-is-nlp-natural-language-processing-nlp-task-in-thai-nlp-ep-1/) ภาษาไทย กับการเริ่มต้นเรียนรู้การใช้งาน Library NLP ภาษาไทย ที่ดีที่สุดของภาษา Python ในปัจจุบัน คือ PyThaiNLP ที่จะเป็นพื้นฐานในการพัฒนาต่อยอดสร้างโมเดล Machine Learning ที่จะแก้ปัญหาด้าน NLP ที่ซับซ้อนขึ้นต่อไป"
      ]
    },
    {
      "cell_type": "markdown",
      "metadata": {
        "id": "vLD7GDadA72m",
        "colab_type": "text"
      },
      "source": [
        "# PyThaiNLP คืออะไร"
      ]
    },
    {
      "cell_type": "markdown",
      "metadata": {
        "id": "k9oWRFHnA6aB",
        "colab_type": "text"
      },
      "source": [
        "\n",
        "\n",
        "[PyThaiNLP](https://github.com/PyThaiNLP/pythainlp) คือ Library แพคเกจของภาษา Python ใช้สำหรับประมวลผลข้อความ และการวิเคราะห์ทางภาษา คล้ายกับ NLTK แต่ใช้กับภาษาไทยโดยเฉพาะ มีฟังก์ชันการทำงานที่หลากหลาย เช่น Character Set อักษรไทย คำไทย, เรียงคำภาษาไทย, ตัดคำภาษาไทย, วิเคราะห์ชนิดของคำทางไวยากรณ์, ตรวจตัวสะกด แก้คำผิด และอีกมากมาย ดังด้านล่าง\n",
        "\n",
        "\n",
        "* Convenient character and word classes, like Thai consonants (pythainlp.thai_consonants), vowels (pythainlp.thai_vowels), digits (pythainlp.thai_digits), and stop words (pythainlp.corpus.thai_stopwords) -- comparable to constants like string.letters, string.digits, and string.punctuation\n",
        "* Thai word segmentation (word_tokenize), including subword segmentation based on Thai Character Cluster (subword_tokenize)\n",
        "* Thai transliteration (transliterate)\n",
        "* Thai part-of-speech taggers (pos_tag)\n",
        "Read out number to Thai words (bahttext, num_to_thaiword)\n",
        "* Thai collation (sort by dictionoary order) (collate)\n",
        "* Thai-English keyboard misswitched fix (eng_to_thai, thai_to_eng)\n",
        "* Thai spelling suggestion and correction (spell and correct)\n",
        "* Thai soundex (soundex) with three engines (lk82, udom83, metasound)\n",
        "* Thai WordNet wrapper\n",
        "* etc."
      ]
    },
    {
      "cell_type": "markdown",
      "metadata": {
        "colab_type": "text",
        "id": "CzApwnjVlKxC"
      },
      "source": [
        "# 0. Install"
      ]
    },
    {
      "cell_type": "code",
      "metadata": {
        "colab_type": "code",
        "id": "0WcUkQRak7e6",
        "colab": {}
      },
      "source": [
        "%reload_ext autoreload\n",
        "%autoreload 2\n",
        "%matplotlib inline"
      ],
      "execution_count": 0,
      "outputs": []
    },
    {
      "cell_type": "markdown",
      "metadata": {
        "colab_type": "text",
        "id": "MGOPzh9vCLJh"
      },
      "source": [
        "Install Library ที่จำเป็น แล้ว Restart Runtime"
      ]
    },
    {
      "cell_type": "code",
      "metadata": {
        "id": "QpAhcT3WxGqF",
        "colab_type": "code",
        "colab": {
          "base_uri": "https://localhost:8080/",
          "height": 479
        },
        "outputId": "f63a2fb6-5622-4149-a1b5-6ad33a9986ab"
      },
      "source": [
        "# dev version\n",
        "# !pip install https://github.com/PyThaiNLP/pythainlp/archive/dev.zip\n",
        "\n",
        "# release version \n",
        "! pip install pythainlp\n",
        "\n",
        "!pip install epitran\n",
        "!pip install sklearn_crfsuite"
      ],
      "execution_count": 3,
      "outputs": [
        {
          "output_type": "stream",
          "text": [
            "Requirement already satisfied: pythainlp in /usr/local/lib/python3.6/dist-packages (2.1.2)\n",
            "Requirement already satisfied: tinydb>=3.0 in /usr/local/lib/python3.6/dist-packages (from pythainlp) (3.15.2)\n",
            "Requirement already satisfied: nltk>=3.3 in /usr/local/lib/python3.6/dist-packages (from pythainlp) (3.4.5)\n",
            "Requirement already satisfied: tqdm>=4.1 in /usr/local/lib/python3.6/dist-packages (from pythainlp) (4.28.1)\n",
            "Requirement already satisfied: dill>=0.3.0 in /usr/local/lib/python3.6/dist-packages (from pythainlp) (0.3.1.1)\n",
            "Requirement already satisfied: requests>=2.22.0 in /usr/local/lib/python3.6/dist-packages (from pythainlp) (2.22.0)\n",
            "Requirement already satisfied: six in /usr/local/lib/python3.6/dist-packages (from nltk>=3.3->pythainlp) (1.12.0)\n",
            "Requirement already satisfied: chardet<3.1.0,>=3.0.2 in /usr/local/lib/python3.6/dist-packages (from requests>=2.22.0->pythainlp) (3.0.4)\n",
            "Requirement already satisfied: certifi>=2017.4.17 in /usr/local/lib/python3.6/dist-packages (from requests>=2.22.0->pythainlp) (2019.11.28)\n",
            "Requirement already satisfied: urllib3!=1.25.0,!=1.25.1,<1.26,>=1.21.1 in /usr/local/lib/python3.6/dist-packages (from requests>=2.22.0->pythainlp) (1.24.3)\n",
            "Requirement already satisfied: idna<2.9,>=2.5 in /usr/local/lib/python3.6/dist-packages (from requests>=2.22.0->pythainlp) (2.8)\n",
            "Requirement already satisfied: epitran in /usr/local/lib/python3.6/dist-packages (1.8)\n",
            "Requirement already satisfied: marisa-trie in /usr/local/lib/python3.6/dist-packages (from epitran) (0.7.5)\n",
            "Requirement already satisfied: unicodecsv in /usr/local/lib/python3.6/dist-packages (from epitran) (0.14.1)\n",
            "Requirement already satisfied: panphon>=0.16 in /usr/local/lib/python3.6/dist-packages (from epitran) (0.16)\n",
            "Requirement already satisfied: regex in /usr/local/lib/python3.6/dist-packages (from epitran) (2019.12.9)\n",
            "Requirement already satisfied: setuptools in /usr/local/lib/python3.6/dist-packages (from epitran) (42.0.2)\n",
            "Requirement already satisfied: munkres in /usr/local/lib/python3.6/dist-packages (from panphon>=0.16->epitran) (1.1.2)\n",
            "Requirement already satisfied: editdistance in /usr/local/lib/python3.6/dist-packages (from panphon>=0.16->epitran) (0.5.3)\n",
            "Requirement already satisfied: PyYAML in /usr/local/lib/python3.6/dist-packages (from panphon>=0.16->epitran) (3.13)\n",
            "Requirement already satisfied: numpy in /usr/local/lib/python3.6/dist-packages (from panphon>=0.16->epitran) (1.17.4)\n",
            "Requirement already satisfied: sklearn_crfsuite in /usr/local/lib/python3.6/dist-packages (0.3.6)\n",
            "Requirement already satisfied: tabulate in /usr/local/lib/python3.6/dist-packages (from sklearn_crfsuite) (0.8.6)\n",
            "Requirement already satisfied: tqdm>=2.0 in /usr/local/lib/python3.6/dist-packages (from sklearn_crfsuite) (4.28.1)\n",
            "Requirement already satisfied: python-crfsuite>=0.8.3 in /usr/local/lib/python3.6/dist-packages (from sklearn_crfsuite) (0.9.6)\n",
            "Requirement already satisfied: six in /usr/local/lib/python3.6/dist-packages (from sklearn_crfsuite) (1.12.0)\n"
          ],
          "name": "stdout"
        }
      ]
    },
    {
      "cell_type": "markdown",
      "metadata": {
        "id": "0u3BdH34_hN1",
        "colab_type": "text"
      },
      "source": [
        "Restart Runtime เพื่อให้ใช้ Library เวอร์ชัน ที่เพิ่ง Install ลงไป"
      ]
    },
    {
      "cell_type": "markdown",
      "metadata": {
        "id": "r8Ne5kVMzs9a",
        "colab_type": "text"
      },
      "source": [
        "เช็ค GPU"
      ]
    },
    {
      "cell_type": "code",
      "metadata": {
        "colab_type": "code",
        "id": "cQiYFoC4C8hy",
        "outputId": "36d5459d-fa9d-45c5-b533-bb0ff762c46a",
        "colab": {
          "base_uri": "https://localhost:8080/",
          "height": 306
        }
      },
      "source": [
        "! nvidia-smi"
      ],
      "execution_count": 4,
      "outputs": [
        {
          "output_type": "stream",
          "text": [
            "Tue Jan  7 04:57:33 2020       \n",
            "+-----------------------------------------------------------------------------+\n",
            "| NVIDIA-SMI 440.44       Driver Version: 418.67       CUDA Version: 10.1     |\n",
            "|-------------------------------+----------------------+----------------------+\n",
            "| GPU  Name        Persistence-M| Bus-Id        Disp.A | Volatile Uncorr. ECC |\n",
            "| Fan  Temp  Perf  Pwr:Usage/Cap|         Memory-Usage | GPU-Util  Compute M. |\n",
            "|===============================+======================+======================|\n",
            "|   0  Tesla P100-PCIE...  Off  | 00000000:00:04.0 Off |                    0 |\n",
            "| N/A   34C    P0    25W / 250W |      0MiB / 16280MiB |      0%      Default |\n",
            "+-------------------------------+----------------------+----------------------+\n",
            "                                                                               \n",
            "+-----------------------------------------------------------------------------+\n",
            "| Processes:                                                       GPU Memory |\n",
            "|  GPU       PID   Type   Process name                             Usage      |\n",
            "|=============================================================================|\n",
            "|  No running processes found                                                 |\n",
            "+-----------------------------------------------------------------------------+\n"
          ],
          "name": "stdout"
        }
      ]
    },
    {
      "cell_type": "markdown",
      "metadata": {
        "id": "86CaxdqnE0Ag",
        "colab_type": "text"
      },
      "source": [
        "ในเคสนี้ เราจะปิด Warning ไว้ก่อน จะได้อ่านผลลัพท์ง่าย"
      ]
    },
    {
      "cell_type": "code",
      "metadata": {
        "id": "rha7sfRokmVJ",
        "colab_type": "code",
        "colab": {}
      },
      "source": [
        "import warnings\n",
        "warnings.filterwarnings('ignore')"
      ],
      "execution_count": 0,
      "outputs": []
    },
    {
      "cell_type": "markdown",
      "metadata": {
        "colab_type": "text",
        "id": "3VxLNfAElR29"
      },
      "source": [
        "# 1. Import"
      ]
    },
    {
      "cell_type": "markdown",
      "metadata": {
        "colab_type": "text",
        "id": "nGm02SG0CQrq"
      },
      "source": [
        "Import Library ที่จะใช้ ในที่นี้คือ PyThaiNLP"
      ]
    },
    {
      "cell_type": "code",
      "metadata": {
        "id": "RUurvnGIsEWv",
        "colab_type": "code",
        "outputId": "7e1545a7-e96e-4a22-ac6d-fcd8d392e67c",
        "colab": {
          "base_uri": "https://localhost:8080/",
          "height": 34
        }
      },
      "source": [
        "import pythainlp\n",
        "\n",
        "pythainlp.__version__"
      ],
      "execution_count": 6,
      "outputs": [
        {
          "output_type": "execute_result",
          "data": {
            "text/plain": [
              "'2.1.2'"
            ]
          },
          "metadata": {
            "tags": []
          },
          "execution_count": 6
        }
      ]
    },
    {
      "cell_type": "markdown",
      "metadata": {
        "id": "YeJuPfAjSGnt",
        "colab_type": "text"
      },
      "source": [
        "# 2. เกี่ยวกับอักษรในภาษาไทย"
      ]
    },
    {
      "cell_type": "markdown",
      "metadata": {
        "id": "UtnYCnMxWbbY",
        "colab_type": "text"
      },
      "source": [
        "ใน PyThaiNLP Library จะมีข้อมูลเกี่ยวกับ Character Set อักษรไทย พยัญชนะ สระ วรรณยุกต์ และ สัญลักษณ์ต่าง ๆ ที่เกี่ยวข้อง และมีฟังก์ชันสำหรับแยกแยะ และจัดการ String ภาษาไทย"
      ]
    },
    {
      "cell_type": "markdown",
      "metadata": {
        "id": "gcwm-PUZazCo",
        "colab_type": "text"
      },
      "source": [
        "## 2.1 อักษรไทย"
      ]
    },
    {
      "cell_type": "markdown",
      "metadata": {
        "id": "mzGmuD88X1c6",
        "colab_type": "text"
      },
      "source": [
        "### Character Set อักษรไทยทั้งหมด ที่เกี่ยวข้อง\n",
        "\n",
        "ในรูปแบบ String เพื่อให้สะดวกในการนำไปใช้"
      ]
    },
    {
      "cell_type": "code",
      "metadata": {
        "colab_type": "code",
        "id": "GAvoeZg3Igp-",
        "outputId": "629e7183-2b1c-4e7e-afa3-9dfc443e0720",
        "colab": {
          "base_uri": "https://localhost:8080/",
          "height": 34
        }
      },
      "source": [
        "pythainlp.thai_characters"
      ],
      "execution_count": 35,
      "outputs": [
        {
          "output_type": "execute_result",
          "data": {
            "text/plain": [
              "'กขฃคฅฆงจฉชซฌญฎฏฐฑฒณดตถทธนบปผฝพฟภมยรลวศษสหฬอฮฤฦะัาำิีึืุูเแโใไๅ็่้๊๋ฯๆฺ์ํ๎๏๚๛๐๑๒๓๔๕๖๗๘๙฿'"
            ]
          },
          "metadata": {
            "tags": []
          },
          "execution_count": 35
        }
      ]
    },
    {
      "cell_type": "markdown",
      "metadata": {
        "id": "5NFCVT37X7Lk",
        "colab_type": "text"
      },
      "source": [
        "จำนวน 87 ตัวอักษร"
      ]
    },
    {
      "cell_type": "code",
      "metadata": {
        "id": "a-LVOR_DsEW-",
        "colab_type": "code",
        "outputId": "9f26a0a1-a81e-4edb-8803-2e5744074ea7",
        "colab": {
          "base_uri": "https://localhost:8080/",
          "height": 34
        }
      },
      "source": [
        "len(pythainlp.thai_characters)"
      ],
      "execution_count": 10,
      "outputs": [
        {
          "output_type": "execute_result",
          "data": {
            "text/plain": [
              "87"
            ]
          },
          "metadata": {
            "tags": []
          },
          "execution_count": 10
        }
      ]
    },
    {
      "cell_type": "markdown",
      "metadata": {
        "id": "8bTg51Z8X-Aa",
        "colab_type": "text"
      },
      "source": [
        "### เฉพาะ พยัญชนะ"
      ]
    },
    {
      "cell_type": "code",
      "metadata": {
        "colab_type": "code",
        "id": "uPwx53A6IgqF",
        "outputId": "22f428bf-0e64-4d87-fe6a-0f465dcc2ffc",
        "colab": {
          "base_uri": "https://localhost:8080/",
          "height": 34
        }
      },
      "source": [
        "pythainlp.thai_consonants"
      ],
      "execution_count": 11,
      "outputs": [
        {
          "output_type": "execute_result",
          "data": {
            "text/plain": [
              "'กขฃคฅฆงจฉชซฌญฎฏฐฑฒณดตถทธนบปผฝพฟภมยรลวศษสหฬอฮ'"
            ]
          },
          "metadata": {
            "tags": []
          },
          "execution_count": 11
        }
      ]
    },
    {
      "cell_type": "markdown",
      "metadata": {
        "id": "0mJJqApbYBa_",
        "colab_type": "text"
      },
      "source": [
        "จำนวน 44 ตัวอักษร"
      ]
    },
    {
      "cell_type": "code",
      "metadata": {
        "id": "0VrucMUusEXG",
        "colab_type": "code",
        "outputId": "92701bae-d800-41b1-831b-cdce9a2b2db2",
        "colab": {
          "base_uri": "https://localhost:8080/",
          "height": 34
        }
      },
      "source": [
        "len(pythainlp.thai_consonants)"
      ],
      "execution_count": 12,
      "outputs": [
        {
          "output_type": "execute_result",
          "data": {
            "text/plain": [
              "44"
            ]
          },
          "metadata": {
            "tags": []
          },
          "execution_count": 12
        }
      ]
    },
    {
      "cell_type": "markdown",
      "metadata": {
        "colab_type": "text",
        "id": "Eftjce43YWfX"
      },
      "source": [
        "### เฉพาะ สระ \n",
        "\n",
        "เช่น สระอะ สระอา สระอิ สระอี etc..."
      ]
    },
    {
      "cell_type": "code",
      "metadata": {
        "colab_type": "code",
        "outputId": "634c780d-b3af-40ad-a6e2-192ac9ff865f",
        "id": "RTlHd8K_YWfc",
        "colab": {
          "base_uri": "https://localhost:8080/",
          "height": 34
        }
      },
      "source": [
        "pythainlp.thai_vowels"
      ],
      "execution_count": 13,
      "outputs": [
        {
          "output_type": "execute_result",
          "data": {
            "text/plain": [
              "'ฤฦะัาำิีึืุูเแโใไๅ็'"
            ]
          },
          "metadata": {
            "tags": []
          },
          "execution_count": 13
        }
      ]
    },
    {
      "cell_type": "markdown",
      "metadata": {
        "colab_type": "text",
        "id": "97KOsJRDYWfh"
      },
      "source": [
        "จำนวน 19 ตัวอักษร"
      ]
    },
    {
      "cell_type": "code",
      "metadata": {
        "colab_type": "code",
        "outputId": "572d464d-9001-42d2-fa91-84ef3205337c",
        "id": "LLQB7E2bYWfi",
        "colab": {
          "base_uri": "https://localhost:8080/",
          "height": 34
        }
      },
      "source": [
        "len(pythainlp.thai_vowels)"
      ],
      "execution_count": 14,
      "outputs": [
        {
          "output_type": "execute_result",
          "data": {
            "text/plain": [
              "19"
            ]
          },
          "metadata": {
            "tags": []
          },
          "execution_count": 14
        }
      ]
    },
    {
      "cell_type": "markdown",
      "metadata": {
        "colab_type": "text",
        "id": "m20yZLGXYYBF"
      },
      "source": [
        "### เฉพาะ วรรณยุกต์"
      ]
    },
    {
      "cell_type": "code",
      "metadata": {
        "colab_type": "code",
        "outputId": "ce85bb27-c7ea-48c3-bc65-031c9765fc8d",
        "id": "HOIHcf5BYYBI",
        "colab": {
          "base_uri": "https://localhost:8080/",
          "height": 34
        }
      },
      "source": [
        "pythainlp.thai_tonemarks"
      ],
      "execution_count": 16,
      "outputs": [
        {
          "output_type": "execute_result",
          "data": {
            "text/plain": [
              "'่้๊๋'"
            ]
          },
          "metadata": {
            "tags": []
          },
          "execution_count": 16
        }
      ]
    },
    {
      "cell_type": "markdown",
      "metadata": {
        "colab_type": "text",
        "id": "ezduc6AzYYBN"
      },
      "source": [
        "จำนวน 4 ตัวอักษร ไม้เอก ไม้โทร ไม้ตรี ไม้จัตวา"
      ]
    },
    {
      "cell_type": "code",
      "metadata": {
        "colab_type": "code",
        "outputId": "d5cf3746-6dda-4d2d-997a-1643bb099c54",
        "id": "adhJO6buYYBO",
        "colab": {
          "base_uri": "https://localhost:8080/",
          "height": 34
        }
      },
      "source": [
        "len(pythainlp.thai_tonemarks)"
      ],
      "execution_count": 17,
      "outputs": [
        {
          "output_type": "execute_result",
          "data": {
            "text/plain": [
              "4"
            ]
          },
          "metadata": {
            "tags": []
          },
          "execution_count": 17
        }
      ]
    },
    {
      "cell_type": "markdown",
      "metadata": {
        "colab_type": "text",
        "id": "mfPmEXAdZrwC"
      },
      "source": [
        "### เฉพาะ เครื่องหมายที่เกี่ยวข้อง \n",
        "\n",
        "เช่น ไม้ยมก ไปยาลเล็ก การัน etc."
      ]
    },
    {
      "cell_type": "code",
      "metadata": {
        "colab_type": "code",
        "outputId": "c9c2bbf6-dc4c-44b3-d909-0207fe025c04",
        "id": "dKK_JQJaZrwH",
        "colab": {
          "base_uri": "https://localhost:8080/",
          "height": 34
        }
      },
      "source": [
        "pythainlp.thai_signs"
      ],
      "execution_count": 22,
      "outputs": [
        {
          "output_type": "execute_result",
          "data": {
            "text/plain": [
              "'ฯๆฺ์ํ๎'"
            ]
          },
          "metadata": {
            "tags": []
          },
          "execution_count": 22
        }
      ]
    },
    {
      "cell_type": "markdown",
      "metadata": {
        "colab_type": "text",
        "id": "5Xru3b1kZrwM"
      },
      "source": [
        "จำนวน 6 ตัวอักษร "
      ]
    },
    {
      "cell_type": "code",
      "metadata": {
        "colab_type": "code",
        "outputId": "81aff964-c8f3-4dd6-a543-21917a6d6666",
        "id": "rQfoqD6NZrwN",
        "colab": {
          "base_uri": "https://localhost:8080/",
          "height": 34
        }
      },
      "source": [
        "len(pythainlp.thai_signs)"
      ],
      "execution_count": 23,
      "outputs": [
        {
          "output_type": "execute_result",
          "data": {
            "text/plain": [
              "6"
            ]
          },
          "metadata": {
            "tags": []
          },
          "execution_count": 23
        }
      ]
    },
    {
      "cell_type": "markdown",
      "metadata": {
        "id": "e3YXathFc4cn",
        "colab_type": "text"
      },
      "source": [
        "### เครื่องหมายวรรคตอน\n",
        "\n",
        "ได้แก่ ฟองมัน (ตาไก่),อังคั่นคู่ (คั่นคู่), โคมูตร (เยี่ยววัว)"
      ]
    },
    {
      "cell_type": "code",
      "metadata": {
        "id": "7mX0nooScTkV",
        "colab_type": "code",
        "colab": {
          "base_uri": "https://localhost:8080/",
          "height": 34
        },
        "outputId": "dba30f25-6056-4c24-fc6d-5a873cd56650"
      },
      "source": [
        "pythainlp.thai_punctuations"
      ],
      "execution_count": 30,
      "outputs": [
        {
          "output_type": "execute_result",
          "data": {
            "text/plain": [
              "'๏๚๛'"
            ]
          },
          "metadata": {
            "tags": []
          },
          "execution_count": 30
        }
      ]
    },
    {
      "cell_type": "markdown",
      "metadata": {
        "colab_type": "text",
        "id": "qberoiz5YY7m"
      },
      "source": [
        "### เลขไทย"
      ]
    },
    {
      "cell_type": "code",
      "metadata": {
        "colab_type": "code",
        "outputId": "86841374-8d6b-4633-ebc6-497c2211bc2d",
        "id": "2PgJ5Hf5YY7n",
        "colab": {
          "base_uri": "https://localhost:8080/",
          "height": 34
        }
      },
      "source": [
        "pythainlp.thai_digits"
      ],
      "execution_count": 21,
      "outputs": [
        {
          "output_type": "execute_result",
          "data": {
            "text/plain": [
              "'๐๑๒๓๔๕๖๗๘๙'"
            ]
          },
          "metadata": {
            "tags": []
          },
          "execution_count": 21
        }
      ]
    },
    {
      "cell_type": "markdown",
      "metadata": {
        "id": "ImAqtVQYcZcp",
        "colab_type": "text"
      },
      "source": [
        "จำนวน 10 ตัวอักษร"
      ]
    },
    {
      "cell_type": "code",
      "metadata": {
        "id": "HzgZv1X8cXiP",
        "colab_type": "code",
        "colab": {
          "base_uri": "https://localhost:8080/",
          "height": 34
        },
        "outputId": "499747b7-1048-4826-8baa-16efe02fdb1b"
      },
      "source": [
        "len(pythainlp.thai_digits)"
      ],
      "execution_count": 25,
      "outputs": [
        {
          "output_type": "execute_result",
          "data": {
            "text/plain": [
              "10"
            ]
          },
          "metadata": {
            "tags": []
          },
          "execution_count": 25
        }
      ]
    },
    {
      "cell_type": "markdown",
      "metadata": {
        "id": "xofm9yaRaM5f",
        "colab_type": "text"
      },
      "source": [
        "### สัญลักษณ์ สกุลเงินของประเทศไทย เงินบาท"
      ]
    },
    {
      "cell_type": "code",
      "metadata": {
        "id": "5qHHPkIfYS8m",
        "colab_type": "code",
        "colab": {
          "base_uri": "https://localhost:8080/",
          "height": 34
        },
        "outputId": "a8e3529e-1f27-427e-82e7-4916ea54a763"
      },
      "source": [
        "pythainlp.thai_symbols"
      ],
      "execution_count": 24,
      "outputs": [
        {
          "output_type": "execute_result",
          "data": {
            "text/plain": [
              "'฿'"
            ]
          },
          "metadata": {
            "tags": []
          },
          "execution_count": 24
        }
      ]
    },
    {
      "cell_type": "markdown",
      "metadata": {
        "colab_type": "text",
        "id": "bG4urTbfYY7e"
      },
      "source": [
        "### รวม อักษรไทย\n",
        "\n",
        "พยัญชนะ สระ วรรณยุกต์ "
      ]
    },
    {
      "cell_type": "code",
      "metadata": {
        "colab_type": "code",
        "outputId": "dd14e4ff-a17f-4645-c968-d81da47f0a7f",
        "id": "wa0XAZg1YY7f",
        "colab": {
          "base_uri": "https://localhost:8080/",
          "height": 34
        }
      },
      "source": [
        "pythainlp.thai_letters"
      ],
      "execution_count": 20,
      "outputs": [
        {
          "output_type": "execute_result",
          "data": {
            "text/plain": [
              "'กขฃคฅฆงจฉชซฌญฎฏฐฑฒณดตถทธนบปผฝพฟภมยรลวศษสหฬอฮฤฦะัาำิีึืุูเแโใไๅ็่้๊๋ฯๆฺ์ํ๎'"
            ]
          },
          "metadata": {
            "tags": []
          },
          "execution_count": 20
        }
      ]
    },
    {
      "cell_type": "markdown",
      "metadata": {
        "id": "5E2qgTVXYTIL",
        "colab_type": "text"
      },
      "source": [
        "## 2.2 เช็คว่าเป็นภาษาไทย"
      ]
    },
    {
      "cell_type": "markdown",
      "metadata": {
        "id": "GTQ-4jlSeICl",
        "colab_type": "text"
      },
      "source": [
        "### เช็คว่าอยู่ใน Character Set อักษาไทยด้านบน"
      ]
    },
    {
      "cell_type": "code",
      "metadata": {
        "colab_type": "code",
        "id": "5UA7Hwy_IgqI",
        "outputId": "d3e3408a-f4f2-4757-d44f-a2ce3b24a127",
        "colab": {
          "base_uri": "https://localhost:8080/",
          "height": 34
        }
      },
      "source": [
        "\"๔\" in pythainlp.thai_digits  "
      ],
      "execution_count": 11,
      "outputs": [
        {
          "output_type": "execute_result",
          "data": {
            "text/plain": [
              "True"
            ]
          },
          "metadata": {
            "tags": []
          },
          "execution_count": 11
        }
      ]
    },
    {
      "cell_type": "code",
      "metadata": {
        "colab_type": "code",
        "outputId": "1f9a3d4f-44eb-408e-891e-d83e3d836d26",
        "id": "GQnLTJOKfSWc",
        "colab": {
          "base_uri": "https://localhost:8080/",
          "height": 34
        }
      },
      "source": [
        "\"ๆ\" in pythainlp.thai_letters  "
      ],
      "execution_count": 36,
      "outputs": [
        {
          "output_type": "execute_result",
          "data": {
            "text/plain": [
              "True"
            ]
          },
          "metadata": {
            "tags": []
          },
          "execution_count": 36
        }
      ]
    },
    {
      "cell_type": "code",
      "metadata": {
        "id": "nWShV_a29Xg-",
        "colab_type": "code",
        "colab": {
          "base_uri": "https://localhost:8080/",
          "height": 34
        },
        "outputId": "8f8f14c7-e692-4b6f-e466-45fdd607ae37"
      },
      "source": [
        "\",\" in pythainlp.thai_characters  "
      ],
      "execution_count": 177,
      "outputs": [
        {
          "output_type": "execute_result",
          "data": {
            "text/plain": [
              "False"
            ]
          },
          "metadata": {
            "tags": []
          },
          "execution_count": 177
        }
      ]
    },
    {
      "cell_type": "code",
      "metadata": {
        "id": "npOATI109yIH",
        "colab_type": "code",
        "colab": {
          "base_uri": "https://localhost:8080/",
          "height": 34
        },
        "outputId": "282fd67c-7b23-4624-ef8e-ad8e9e274b4b"
      },
      "source": [
        "\"+\" in pythainlp.thai_characters  "
      ],
      "execution_count": 180,
      "outputs": [
        {
          "output_type": "execute_result",
          "data": {
            "text/plain": [
              "False"
            ]
          },
          "metadata": {
            "tags": []
          },
          "execution_count": 180
        }
      ]
    },
    {
      "cell_type": "code",
      "metadata": {
        "colab_type": "code",
        "outputId": "6715a0cd-4d90-43b9-8857-300cb3e5e012",
        "id": "sD7J9W2efclb",
        "colab": {
          "base_uri": "https://localhost:8080/",
          "height": 34
        }
      },
      "source": [
        "\"&\" in pythainlp.thai_characters  "
      ],
      "execution_count": 32,
      "outputs": [
        {
          "output_type": "execute_result",
          "data": {
            "text/plain": [
              "False"
            ]
          },
          "metadata": {
            "tags": []
          },
          "execution_count": 32
        }
      ]
    },
    {
      "cell_type": "code",
      "metadata": {
        "id": "p-V8RlUwkQEv",
        "colab_type": "code",
        "colab": {
          "base_uri": "https://localhost:8080/",
          "height": 34
        },
        "outputId": "0f8acc88-95d1-4eb9-dabf-a75282c63bf1"
      },
      "source": [
        "\"K\" in pythainlp.thai_characters  "
      ],
      "execution_count": 33,
      "outputs": [
        {
          "output_type": "execute_result",
          "data": {
            "text/plain": [
              "False"
            ]
          },
          "metadata": {
            "tags": []
          },
          "execution_count": 33
        }
      ]
    },
    {
      "cell_type": "markdown",
      "metadata": {
        "id": "GGGcwST-eY86",
        "colab_type": "text"
      },
      "source": [
        "### ฟังก์ชันเช็คว่าเป็นภาษาไทย หรือไม่"
      ]
    },
    {
      "cell_type": "markdown",
      "metadata": {
        "id": "TKFWZMCRfIod",
        "colab_type": "text"
      },
      "source": [
        "เช็คว่า ตัวอักษรทุกตัว ใน String เป็นภาษาไทย อยู่ใน Character Set pythainlp.thai_characters หรือไม่ return boolean \n",
        "\n",
        "โดย Default จะสนใจทุกตัว รวมถึง Space, (, \", etc. แต่จะยกเว้น \".\" Full Stop เท่านั้น"
      ]
    },
    {
      "cell_type": "code",
      "metadata": {
        "id": "6x0HtgBtmXlv",
        "colab_type": "code",
        "colab": {}
      },
      "source": [
        "import pythainlp.util\n",
        "\n",
        "# pythainlp.util.isthai??\n",
        "# pythainlp.util.isthaichar??"
      ],
      "execution_count": 0,
      "outputs": []
    },
    {
      "cell_type": "code",
      "metadata": {
        "colab_type": "code",
        "id": "t3NvXqYFIgqK",
        "outputId": "53b8f477-8ed0-4cb7-c317-ff5af4013c17",
        "colab": {
          "base_uri": "https://localhost:8080/",
          "height": 34
        }
      },
      "source": [
        "pythainlp.util.isthai(\"ก\")"
      ],
      "execution_count": 42,
      "outputs": [
        {
          "output_type": "execute_result",
          "data": {
            "text/plain": [
              "True"
            ]
          },
          "metadata": {
            "tags": []
          },
          "execution_count": 42
        }
      ]
    },
    {
      "cell_type": "code",
      "metadata": {
        "colab_type": "code",
        "id": "sRzSQjugIgqM",
        "outputId": "991e1a94-24e6-42ec-b9ab-cf3f0e054cc7",
        "colab": {
          "base_uri": "https://localhost:8080/",
          "height": 34
        }
      },
      "source": [
        "pythainlp.util.isthai(\"สวัสดีตอนเช้า\")"
      ],
      "execution_count": 43,
      "outputs": [
        {
          "output_type": "execute_result",
          "data": {
            "text/plain": [
              "True"
            ]
          },
          "metadata": {
            "tags": []
          },
          "execution_count": 43
        }
      ]
    },
    {
      "cell_type": "code",
      "metadata": {
        "id": "zhMHA_usnvOT",
        "colab_type": "code",
        "colab": {
          "base_uri": "https://localhost:8080/",
          "height": 34
        },
        "outputId": "8373b60e-5138-42d1-b5ed-8e6dbb24413b"
      },
      "source": [
        "pythainlp.util.isthai(\"สวัสดีตอนเช้า.\")"
      ],
      "execution_count": 45,
      "outputs": [
        {
          "output_type": "execute_result",
          "data": {
            "text/plain": [
              "True"
            ]
          },
          "metadata": {
            "tags": []
          },
          "execution_count": 45
        }
      ]
    },
    {
      "cell_type": "code",
      "metadata": {
        "id": "C4vZX_cxo8Qt",
        "colab_type": "code",
        "colab": {
          "base_uri": "https://localhost:8080/",
          "height": 34
        },
        "outputId": "56f18579-8146-45be-a7d2-e64a9fc96538"
      },
      "source": [
        "pythainlp.util.isthai(\"สวัสดี.ตอนเช้า\")"
      ],
      "execution_count": 58,
      "outputs": [
        {
          "output_type": "execute_result",
          "data": {
            "text/plain": [
              "True"
            ]
          },
          "metadata": {
            "tags": []
          },
          "execution_count": 58
        }
      ]
    },
    {
      "cell_type": "markdown",
      "metadata": {
        "id": "eZ-FpsUe8xz2",
        "colab_type": "text"
      },
      "source": [
        "มีตัวอักษรที่ไม่ใช่ภาษาไทย ปนอยู่ด้วย"
      ]
    },
    {
      "cell_type": "code",
      "metadata": {
        "id": "Jq9nO4YJoM3U",
        "colab_type": "code",
        "colab": {
          "base_uri": "https://localhost:8080/",
          "height": 34
        },
        "outputId": "134c0127-5af1-44d6-980e-555439d864d1"
      },
      "source": [
        "pythainlp.util.isthai(\"สวัสดีตอนเช้า กินข้าวหรือยัง?\")"
      ],
      "execution_count": 53,
      "outputs": [
        {
          "output_type": "execute_result",
          "data": {
            "text/plain": [
              "False"
            ]
          },
          "metadata": {
            "tags": []
          },
          "execution_count": 53
        }
      ]
    },
    {
      "cell_type": "markdown",
      "metadata": {
        "id": "iIdOqZiE-Plv",
        "colab_type": "text"
      },
      "source": [
        "ignore question mark ?"
      ]
    },
    {
      "cell_type": "code",
      "metadata": {
        "colab_type": "code",
        "id": "DP5yfJebIgqP",
        "outputId": "83039259-9ba5-49cc-ef55-8cfee09e728e",
        "colab": {
          "base_uri": "https://localhost:8080/",
          "height": 34
        }
      },
      "source": [
        "pythainlp.util.isthai(\"สวัสดีตอนเช้า กินข้าวหรือยัง?\", ignore_chars=\"?\")"
      ],
      "execution_count": 56,
      "outputs": [
        {
          "output_type": "execute_result",
          "data": {
            "text/plain": [
              "False"
            ]
          },
          "metadata": {
            "tags": []
          },
          "execution_count": 56
        }
      ]
    },
    {
      "cell_type": "markdown",
      "metadata": {
        "id": "lts5dKQu8skf",
        "colab_type": "text"
      },
      "source": [
        "ยังไม่พอ ต้อง ignore space ด้วย"
      ]
    },
    {
      "cell_type": "code",
      "metadata": {
        "id": "RTyfQryyoSd7",
        "colab_type": "code",
        "colab": {
          "base_uri": "https://localhost:8080/",
          "height": 34
        },
        "outputId": "d63ff46c-6163-429c-e922-4c5611370170"
      },
      "source": [
        "pythainlp.util.isthai(\"สวัสดีตอนเช้า กินข้าวหรือยัง?\", ignore_chars=\" ?\")"
      ],
      "execution_count": 57,
      "outputs": [
        {
          "output_type": "execute_result",
          "data": {
            "text/plain": [
              "True"
            ]
          },
          "metadata": {
            "tags": []
          },
          "execution_count": 57
        }
      ]
    },
    {
      "cell_type": "code",
      "metadata": {
        "id": "vFcnsoY1pcK5",
        "colab_type": "code",
        "colab": {
          "base_uri": "https://localhost:8080/",
          "height": 34
        },
        "outputId": "c0721bcc-ddaf-472b-e3a5-d125574c15f1"
      },
      "source": [
        "pythainlp.util.isthai(\"ดัชนีช่วงเช้าปิดที่ระดับ 60,596.53 จุด เพิ่มขึ้น 18.01 จุด หรือ 2.51% มูลค่าการซื้อขาย 8.95 หมื่นล้านบาท\", ignore_chars=\" 0123456789,.%\")"
      ],
      "execution_count": 67,
      "outputs": [
        {
          "output_type": "execute_result",
          "data": {
            "text/plain": [
              "True"
            ]
          },
          "metadata": {
            "tags": []
          },
          "execution_count": 67
        }
      ]
    },
    {
      "cell_type": "markdown",
      "metadata": {
        "id": "9XDhfoKTeQpK",
        "colab_type": "text"
      },
      "source": [
        "### ฟังก์ชันนับตัวหนังสือ ว่าเป็นภาษาไทย กี่เปอร์เซ็นต์"
      ]
    },
    {
      "cell_type": "markdown",
      "metadata": {
        "id": "5vgInhQWq6nt",
        "colab_type": "text"
      },
      "source": [
        "โดย Default แล้ว countthai จะ ignore พวก Whitespace อักษรพิเศษบางตัว และตัวเลข ดังนี้ ' \\t\\n\\r\\x0b\\x0c0123456789!\"#$...'"
      ]
    },
    {
      "cell_type": "code",
      "metadata": {
        "id": "O3utuhQoqhu0",
        "colab_type": "code",
        "colab": {}
      },
      "source": [
        "# pythainlp.util.countthai??"
      ],
      "execution_count": 0,
      "outputs": []
    },
    {
      "cell_type": "code",
      "metadata": {
        "id": "K-CsO3P2FYnJ",
        "colab_type": "code",
        "outputId": "fae1fa2d-d419-403f-dfe8-5670e64658b4",
        "colab": {
          "base_uri": "https://localhost:8080/",
          "height": 34
        }
      },
      "source": [
        "pythainlp.util.countthai(\"แมวสีสวาท\")"
      ],
      "execution_count": 69,
      "outputs": [
        {
          "output_type": "execute_result",
          "data": {
            "text/plain": [
              "100.0"
            ]
          },
          "metadata": {
            "tags": []
          },
          "execution_count": 69
        }
      ]
    },
    {
      "cell_type": "code",
      "metadata": {
        "id": "YF-xHayMFdN2",
        "colab_type": "code",
        "outputId": "802f0cb8-c2ff-4d61-cd79-ae7c4b7a7edd",
        "colab": {
          "base_uri": "https://localhost:8080/",
          "height": 34
        }
      },
      "source": [
        "pythainlp.util.countthai(\"แมว cat\")"
      ],
      "execution_count": 71,
      "outputs": [
        {
          "output_type": "execute_result",
          "data": {
            "text/plain": [
              "50.0"
            ]
          },
          "metadata": {
            "tags": []
          },
          "execution_count": 71
        }
      ]
    },
    {
      "cell_type": "code",
      "metadata": {
        "colab_type": "code",
        "id": "87Z8P9WPIgqS",
        "outputId": "c2b316a4-16be-43b1-b86e-6819edb12ce0",
        "colab": {
          "base_uri": "https://localhost:8080/",
          "height": 34
        }
      },
      "source": [
        "pythainlp.util.countthai(\"วันอาทิตย์ที่ 24 มีนาคม 2562\")"
      ],
      "execution_count": 17,
      "outputs": [
        {
          "output_type": "execute_result",
          "data": {
            "text/plain": [
              "100.0"
            ]
          },
          "metadata": {
            "tags": []
          },
          "execution_count": 17
        }
      ]
    },
    {
      "cell_type": "markdown",
      "metadata": {
        "id": "EYpZFAXwrnJy",
        "colab_type": "text"
      },
      "source": [
        "ลองไม่ต้อง ignore Whitespace ใด ๆ"
      ]
    },
    {
      "cell_type": "code",
      "metadata": {
        "colab_type": "code",
        "id": "ukSQP8ZTIgqV",
        "outputId": "c1116281-322d-4af6-e809-d56c6a2951a4",
        "colab": {
          "base_uri": "https://localhost:8080/",
          "height": 34
        }
      },
      "source": [
        "pythainlp.util.countthai(\"วันอาทิตย์ที่ 24 มีนาคม 2562\", ignore_chars=\"\")"
      ],
      "execution_count": 18,
      "outputs": [
        {
          "output_type": "execute_result",
          "data": {
            "text/plain": [
              "67.85714285714286"
            ]
          },
          "metadata": {
            "tags": []
          },
          "execution_count": 18
        }
      ]
    },
    {
      "cell_type": "markdown",
      "metadata": {
        "id": "MPC4C-7Nezm2",
        "colab_type": "text"
      },
      "source": [
        "# 3. เรียงคำแบบภาษาไทย"
      ]
    },
    {
      "cell_type": "markdown",
      "metadata": {
        "id": "iTwhxKd9r-J6",
        "colab_type": "text"
      },
      "source": [
        "การเรียงคำตามพจนานุกรมภาษาไทย การเรียงคำของภาษาไทย จะมีเรื่องลำดับการผสมคำ ของตัวอักษร และสระ ถ้าสระอยู่หน้าตัวอักษร ทำให้ไม่สามารถใช้เรียงตามรหัสตัวอักษร ใน String แบบตรง ๆ ได้"
      ]
    },
    {
      "cell_type": "code",
      "metadata": {
        "id": "Nq7MdzjJtAKZ",
        "colab_type": "code",
        "colab": {}
      },
      "source": [
        "from pythainlp.util import collate\n",
        "\n",
        "# collate??"
      ],
      "execution_count": 0,
      "outputs": []
    },
    {
      "cell_type": "code",
      "metadata": {
        "colab_type": "code",
        "id": "hT1Pj52bIgqY",
        "outputId": "a5e74453-65cc-4849-82a8-cc6f1072b304",
        "colab": {
          "base_uri": "https://localhost:8080/",
          "height": 34
        }
      },
      "source": [
        "thai_words = [\"หมู\", \"เห็ด\", \"เป็ด\", \"ไก่\", \"ช้าง\", \"ม้า\", \"วัว\", \"ควาย\"]\n",
        "collate(thai_words)"
      ],
      "execution_count": 93,
      "outputs": [
        {
          "output_type": "execute_result",
          "data": {
            "text/plain": [
              "['ไก่', 'ควาย', 'ช้าง', 'เป็ด', 'ม้า', 'วัว', 'หมู', 'เห็ด']"
            ]
          },
          "metadata": {
            "tags": []
          },
          "execution_count": 93
        }
      ]
    },
    {
      "cell_type": "code",
      "metadata": {
        "colab_type": "code",
        "id": "XgWpZM8hIgqb",
        "outputId": "1b0fe7e9-d7a8-46bf-84b9-9f30f619767c",
        "colab": {
          "base_uri": "https://localhost:8080/",
          "height": 34
        }
      },
      "source": [
        "collate(thai_words, reverse=True)"
      ],
      "execution_count": 94,
      "outputs": [
        {
          "output_type": "execute_result",
          "data": {
            "text/plain": [
              "['เห็ด', 'หมู', 'วัว', 'ม้า', 'เป็ด', 'ช้าง', 'ควาย', 'ไก่']"
            ]
          },
          "metadata": {
            "tags": []
          },
          "execution_count": 94
        }
      ]
    },
    {
      "cell_type": "markdown",
      "metadata": {
        "id": "5m_PnBuawTlz",
        "colab_type": "text"
      },
      "source": [
        "เรียงคำไทย ผสมอังกฤษ ผสมตัวเลข"
      ]
    },
    {
      "cell_type": "code",
      "metadata": {
        "id": "gGdNXv0gtTvF",
        "colab_type": "code",
        "colab": {
          "base_uri": "https://localhost:8080/",
          "height": 170
        },
        "outputId": "6b1f18fa-8f46-4ac4-fc98-a0cab3eaf0e4"
      },
      "source": [
        "thai_words = [\"หมูแดง\", \"หมูทอด\", \"หมู 3 ชั้น\", \"หมูกรอบ\", \"หมูปิ้ง\", \"หมูตุ๋น\", \"หมูแฮม\", \"Suckling pig\", \"Pork chop\"]\n",
        "collate(thai_words)"
      ],
      "execution_count": 96,
      "outputs": [
        {
          "output_type": "execute_result",
          "data": {
            "text/plain": [
              "['Pork chop',\n",
              " 'Suckling pig',\n",
              " 'หมู 3 ชั้น',\n",
              " 'หมูกรอบ',\n",
              " 'หมูแดง',\n",
              " 'หมูตุ๋น',\n",
              " 'หมูทอด',\n",
              " 'หมูปิ้ง',\n",
              " 'หมูแฮม']"
            ]
          },
          "metadata": {
            "tags": []
          },
          "execution_count": 96
        }
      ]
    },
    {
      "cell_type": "markdown",
      "metadata": {
        "id": "-aQkfLBVe9sc",
        "colab_type": "text"
      },
      "source": [
        "# 4. วันที่ และเวลา ภาษาไทย"
      ]
    },
    {
      "cell_type": "markdown",
      "metadata": {
        "id": "A1fBvlwz0GrE",
        "colab_type": "text"
      },
      "source": [
        "## 4.1 Datetime Format"
      ]
    },
    {
      "cell_type": "markdown",
      "metadata": {
        "id": "RRLzWD9_w5jX",
        "colab_type": "text"
      },
      "source": [
        "รูปแบบ Date Format ของ ปีพุทธศักราช Thai Buddhist Era (B.E.). ใช้ formatting directive จาก datetime.strftime()"
      ]
    },
    {
      "cell_type": "code",
      "metadata": {
        "id": "K9BfB5mLxY7B",
        "colab_type": "code",
        "colab": {}
      },
      "source": [
        "import datetime\n",
        "from pythainlp.util import thai_strftime\n",
        "# thai_strftime??"
      ],
      "execution_count": 0,
      "outputs": []
    },
    {
      "cell_type": "code",
      "metadata": {
        "colab_type": "code",
        "id": "F03_rMWzIgqe",
        "outputId": "0d0e76e9-365e-4952-fd61-e772c90c201f",
        "colab": {
          "base_uri": "https://localhost:8080/",
          "height": 34
        }
      },
      "source": [
        "date = datetime.datetime(2020, 12, 31, 23, 59)\n",
        "\n",
        "fmt = \"%Aที่ %-d %B พ.ศ. %Y เวลา %H:%M น.\"\n",
        "thai_strftime(date, fmt)"
      ],
      "execution_count": 110,
      "outputs": [
        {
          "output_type": "execute_result",
          "data": {
            "text/plain": [
              "'วันพฤหัสบดีที่ 31 ธันวาคม พ.ศ. 2563 เวลา 23:59 น.'"
            ]
          },
          "metadata": {
            "tags": []
          },
          "execution_count": 110
        }
      ]
    },
    {
      "cell_type": "code",
      "metadata": {
        "id": "1w4IaQmpxgfw",
        "colab_type": "code",
        "colab": {
          "base_uri": "https://localhost:8080/",
          "height": 34
        },
        "outputId": "d53c958e-84a9-4fc8-cf51-2eaaf39a469c"
      },
      "source": [
        "fmt = \"%d-%b-%y\"\n",
        "thai_strftime(date, fmt)"
      ],
      "execution_count": 111,
      "outputs": [
        {
          "output_type": "execute_result",
          "data": {
            "text/plain": [
              "'31-ธ.ค.-63'"
            ]
          },
          "metadata": {
            "tags": []
          },
          "execution_count": 111
        }
      ]
    },
    {
      "cell_type": "markdown",
      "metadata": {
        "id": "-R7M8p4lzhPz",
        "colab_type": "text"
      },
      "source": [
        "ที่ใช้กันทั่วไป"
      ]
    },
    {
      "cell_type": "code",
      "metadata": {
        "id": "nt6rdK2qzbsI",
        "colab_type": "code",
        "colab": {
          "base_uri": "https://localhost:8080/",
          "height": 34
        },
        "outputId": "5284f253-622f-4530-b175-8151216bb15a"
      },
      "source": [
        "fmt = \"%c\"\n",
        "thai_strftime(date, fmt)"
      ],
      "execution_count": 118,
      "outputs": [
        {
          "output_type": "execute_result",
          "data": {
            "text/plain": [
              "'พฤ 31 ธ.ค. 23:59:00 2563'"
            ]
          },
          "metadata": {
            "tags": []
          },
          "execution_count": 118
        }
      ]
    },
    {
      "cell_type": "code",
      "metadata": {
        "id": "nEjiElk2zbyU",
        "colab_type": "code",
        "colab": {
          "base_uri": "https://localhost:8080/",
          "height": 34
        },
        "outputId": "19a15e6e-28e3-4bcb-e7ab-4a295200ba14"
      },
      "source": [
        "fmt = \"%v\"\n",
        "thai_strftime(date, fmt)"
      ],
      "execution_count": 119,
      "outputs": [
        {
          "output_type": "execute_result",
          "data": {
            "text/plain": [
              "'31-ธ.ค.-2563'"
            ]
          },
          "metadata": {
            "tags": []
          },
          "execution_count": 119
        }
      ]
    },
    {
      "cell_type": "markdown",
      "metadata": {
        "id": "zxp_uDVFzJNo",
        "colab_type": "text"
      },
      "source": [
        "ใช้เลขไทย"
      ]
    },
    {
      "cell_type": "code",
      "metadata": {
        "id": "vF2DcBAJxglD",
        "colab_type": "code",
        "colab": {
          "base_uri": "https://localhost:8080/",
          "height": 34
        },
        "outputId": "0f714fc7-b6d7-4167-f536-e1fcc00ef1d5"
      },
      "source": [
        "fmt = \"%Aที่ %-d %B พ.ศ. %Y เวลา %H:%M น. (%a %d-%b-%y)\"\n",
        "thai_strftime(date, fmt, thaidigit=True)"
      ],
      "execution_count": 117,
      "outputs": [
        {
          "output_type": "execute_result",
          "data": {
            "text/plain": [
              "'วันพฤหัสบดีที่ ๓๑ ธันวาคม พ.ศ. ๒๕๖๓ เวลา ๒๓:๕๙ น. (พฤ ๓๑-ธ.ค.-๖๓)'"
            ]
          },
          "metadata": {
            "tags": []
          },
          "execution_count": 117
        }
      ]
    },
    {
      "cell_type": "markdown",
      "metadata": {
        "id": "z3xMhs7a0CaE",
        "colab_type": "text"
      },
      "source": [
        "## 4.2 คำอ่านเวลาเป็นภาษาไทย"
      ]
    },
    {
      "cell_type": "markdown",
      "metadata": {
        "id": "b4W9yY0d6V8t",
        "colab_type": "text"
      },
      "source": [
        "### ฟังก์ชัน thai_time \n",
        "\n",
        "ที่รับ String, Date แล้ว return คำอ่านเป็นภาษาไทย"
      ]
    },
    {
      "cell_type": "code",
      "metadata": {
        "id": "RA6vRbQ50iRD",
        "colab_type": "code",
        "colab": {}
      },
      "source": [
        "from pythainlp.util import thai_time\n",
        "# thai_time??"
      ],
      "execution_count": 0,
      "outputs": []
    },
    {
      "cell_type": "code",
      "metadata": {
        "id": "ZRv4iJM-sEX2",
        "colab_type": "code",
        "outputId": "451ea5a5-60dd-4864-b10e-84915947b1f6",
        "colab": {
          "base_uri": "https://localhost:8080/",
          "height": 34
        }
      },
      "source": [
        "thai_time(\"00:01:19\")"
      ],
      "execution_count": 127,
      "outputs": [
        {
          "output_type": "execute_result",
          "data": {
            "text/plain": [
              "'ศูนย์นาฬิกาหนึ่งนาทีสิบเก้าวินาที'"
            ]
          },
          "metadata": {
            "tags": []
          },
          "execution_count": 127
        }
      ]
    },
    {
      "cell_type": "code",
      "metadata": {
        "id": "dfSnieWE1PMw",
        "colab_type": "code",
        "colab": {
          "base_uri": "https://localhost:8080/",
          "height": 34
        },
        "outputId": "3102d19d-f05a-444f-88ff-d61b9bb7a994"
      },
      "source": [
        "thai_time(\"00:00:01\")"
      ],
      "execution_count": 129,
      "outputs": [
        {
          "output_type": "execute_result",
          "data": {
            "text/plain": [
              "'ศูนย์นาฬิกาหนึ่งวินาที'"
            ]
          },
          "metadata": {
            "tags": []
          },
          "execution_count": 129
        }
      ]
    },
    {
      "cell_type": "code",
      "metadata": {
        "id": "kehF5Tv31UbS",
        "colab_type": "code",
        "colab": {
          "base_uri": "https://localhost:8080/",
          "height": 34
        },
        "outputId": "e05cf804-a34e-440b-f13d-bebb0d084ba2"
      },
      "source": [
        "thai_time(\"00:01:00\")"
      ],
      "execution_count": 130,
      "outputs": [
        {
          "output_type": "execute_result",
          "data": {
            "text/plain": [
              "'ศูนย์นาฬิกาหนึ่งนาที'"
            ]
          },
          "metadata": {
            "tags": []
          },
          "execution_count": 130
        }
      ]
    },
    {
      "cell_type": "code",
      "metadata": {
        "id": "1-DsOIdn1aWN",
        "colab_type": "code",
        "colab": {
          "base_uri": "https://localhost:8080/",
          "height": 34
        },
        "outputId": "caed07a3-8f4c-4918-aa15-b92fb19c66d7"
      },
      "source": [
        "thai_time(\"01:00:00\")"
      ],
      "execution_count": 131,
      "outputs": [
        {
          "output_type": "execute_result",
          "data": {
            "text/plain": [
              "'หนึ่งนาฬิกา'"
            ]
          },
          "metadata": {
            "tags": []
          },
          "execution_count": 131
        }
      ]
    },
    {
      "cell_type": "code",
      "metadata": {
        "id": "vaRqGGp81LOM",
        "colab_type": "code",
        "colab": {
          "base_uri": "https://localhost:8080/",
          "height": 34
        },
        "outputId": "59571d1e-bad0-471f-981f-36f74b2b8a82"
      },
      "source": [
        "thai_time(\"00:00:00\")"
      ],
      "execution_count": 132,
      "outputs": [
        {
          "output_type": "execute_result",
          "data": {
            "text/plain": [
              "'ศูนย์นาฬิกา'"
            ]
          },
          "metadata": {
            "tags": []
          },
          "execution_count": 132
        }
      ]
    },
    {
      "cell_type": "code",
      "metadata": {
        "id": "c948CjG006gN",
        "colab_type": "code",
        "colab": {
          "base_uri": "https://localhost:8080/",
          "height": 34
        },
        "outputId": "a51e6de5-be43-470c-9bb5-7e32f1933751"
      },
      "source": [
        "thai_time(\"23:59:00\")"
      ],
      "execution_count": 125,
      "outputs": [
        {
          "output_type": "execute_result",
          "data": {
            "text/plain": [
              "'ยี่สิบสามนาฬิกาห้าสิบเก้านาที'"
            ]
          },
          "metadata": {
            "tags": []
          },
          "execution_count": 125
        }
      ]
    },
    {
      "cell_type": "markdown",
      "metadata": {
        "id": "x0PFK-sf1m4z",
        "colab_type": "text"
      },
      "source": [
        "เราสามารถระบุรูปแบบของคำอ่านได้ด้วย fmt เช่น 24h, 6h และ m6h "
      ]
    },
    {
      "cell_type": "code",
      "metadata": {
        "id": "Cth_WUBW1-vq",
        "colab_type": "code",
        "colab": {
          "base_uri": "https://localhost:8080/",
          "height": 34
        },
        "outputId": "f41750a3-7bdf-4f89-84da-fbf6b1089150"
      },
      "source": [
        "thai_time(\"19:30:01\", fmt=\"24h\")"
      ],
      "execution_count": 140,
      "outputs": [
        {
          "output_type": "execute_result",
          "data": {
            "text/plain": [
              "'สิบเก้านาฬิกาสามสิบนาทีหนึ่งวินาที'"
            ]
          },
          "metadata": {
            "tags": []
          },
          "execution_count": 140
        }
      ]
    },
    {
      "cell_type": "code",
      "metadata": {
        "id": "uJwTH5mjsEX6",
        "colab_type": "code",
        "outputId": "cdc75d63-0f94-41e5-95c3-dcfaaaf94d54",
        "colab": {
          "base_uri": "https://localhost:8080/",
          "height": 34
        }
      },
      "source": [
        "thai_time(\"19:30:01\", fmt=\"6h\")"
      ],
      "execution_count": 141,
      "outputs": [
        {
          "output_type": "execute_result",
          "data": {
            "text/plain": [
              "'หนึ่งทุ่มสามสิบนาทีหนึ่งวินาที'"
            ]
          },
          "metadata": {
            "tags": []
          },
          "execution_count": 141
        }
      ]
    },
    {
      "cell_type": "code",
      "metadata": {
        "id": "P7hr82YB6N0p",
        "colab_type": "code",
        "colab": {
          "base_uri": "https://localhost:8080/",
          "height": 34
        },
        "outputId": "7214c5db-d3a7-4d6b-9487-846bb0f60460"
      },
      "source": [
        "thai_time(\"05:00:07\", fmt=\"24h\")"
      ],
      "execution_count": 171,
      "outputs": [
        {
          "output_type": "execute_result",
          "data": {
            "text/plain": [
              "'ห้านาฬิกาเจ็ดวินาที'"
            ]
          },
          "metadata": {
            "tags": []
          },
          "execution_count": 171
        }
      ]
    },
    {
      "cell_type": "code",
      "metadata": {
        "id": "bNqW6Cu_598M",
        "colab_type": "code",
        "colab": {
          "base_uri": "https://localhost:8080/",
          "height": 34
        },
        "outputId": "60e0626b-d4d4-4199-973b-275729bb1b5a"
      },
      "source": [
        "thai_time(\"05:00:07\", fmt=\"6h\")"
      ],
      "execution_count": 172,
      "outputs": [
        {
          "output_type": "execute_result",
          "data": {
            "text/plain": [
              "'ตีห้าเจ็ดวินาที'"
            ]
          },
          "metadata": {
            "tags": []
          },
          "execution_count": 172
        }
      ]
    },
    {
      "cell_type": "markdown",
      "metadata": {
        "id": "PlJFO_u46moz",
        "colab_type": "text"
      },
      "source": [
        "### thai_time Date Format"
      ]
    },
    {
      "cell_type": "markdown",
      "metadata": {
        "id": "WELdHOxn28PT",
        "colab_type": "text"
      },
      "source": [
        "6 Hour และ Modified 6 Hour Format"
      ]
    },
    {
      "cell_type": "code",
      "metadata": {
        "id": "qSslk8Mf2kE6",
        "colab_type": "code",
        "colab": {
          "base_uri": "https://localhost:8080/",
          "height": 34
        },
        "outputId": "6d063d73-efbf-4c5c-97d2-e4f65883dd54"
      },
      "source": [
        "thai_time(\"08:28:59\", fmt=\"6h\")"
      ],
      "execution_count": 147,
      "outputs": [
        {
          "output_type": "execute_result",
          "data": {
            "text/plain": [
              "'สองโมงเช้ายี่สิบแปดนาทีห้าสิบเก้าวินาที'"
            ]
          },
          "metadata": {
            "tags": []
          },
          "execution_count": 147
        }
      ]
    },
    {
      "cell_type": "code",
      "metadata": {
        "id": "NKDDI05F1-jY",
        "colab_type": "code",
        "colab": {
          "base_uri": "https://localhost:8080/",
          "height": 34
        },
        "outputId": "05eff040-90a6-40f9-cd0e-5a9d89bebc71"
      },
      "source": [
        "thai_time(\"08:28:59\", fmt=\"m6h\")"
      ],
      "execution_count": 148,
      "outputs": [
        {
          "output_type": "execute_result",
          "data": {
            "text/plain": [
              "'แปดโมงยี่สิบแปดนาทีห้าสิบเก้าวินาที'"
            ]
          },
          "metadata": {
            "tags": []
          },
          "execution_count": 148
        }
      ]
    },
    {
      "cell_type": "markdown",
      "metadata": {
        "id": "QLAMfRXU6ujo",
        "colab_type": "text"
      },
      "source": [
        "### thai_time precision"
      ]
    },
    {
      "cell_type": "markdown",
      "metadata": {
        "id": "A80e5db83MnC",
        "colab_type": "text"
      },
      "source": [
        "เราสามารถระบุความละเอียด ด้วย `precision` ว่าจะให้อ่านถึง `m` นาที หรือ `s` วินาที หรือ None ให้ข้ามค่าที่เท่ากับศูนย์ (Default)"
      ]
    },
    {
      "cell_type": "code",
      "metadata": {
        "id": "2RZa7j-qsEX_",
        "colab_type": "code",
        "outputId": "b74020f4-a1db-4291-e83f-1e71349518c3",
        "colab": {
          "base_uri": "https://localhost:8080/",
          "height": 34
        }
      },
      "source": [
        "thai_time(\"11:48:59\", precision=\"m\")"
      ],
      "execution_count": 150,
      "outputs": [
        {
          "output_type": "execute_result",
          "data": {
            "text/plain": [
              "'สิบเอ็ดนาฬิกาสี่สิบแปดนาที'"
            ]
          },
          "metadata": {
            "tags": []
          },
          "execution_count": 150
        }
      ]
    },
    {
      "cell_type": "code",
      "metadata": {
        "id": "tUcNapgUsEYG",
        "colab_type": "code",
        "outputId": "48afb26a-9f14-419a-f6b3-917fd9b79653",
        "colab": {
          "base_uri": "https://localhost:8080/",
          "height": 85
        }
      },
      "source": [
        "print(thai_time(\"11:00:00\", fmt=\"24h\"))\n",
        "print(thai_time(\"11:00:00\", fmt=\"24h\", precision=\"s\"))\n",
        "print(thai_time(\"11:00:00\", fmt=\"24h\", precision=\"m\"))\n",
        "print(thai_time(\"11:00:00\", fmt=\"24h\", precision=None))"
      ],
      "execution_count": 165,
      "outputs": [
        {
          "output_type": "stream",
          "text": [
            "สิบเอ็ดนาฬิกา\n",
            "สิบเอ็ดนาฬิกาศูนย์นาทีศูนย์วินาที\n",
            "สิบเอ็ดนาฬิกาศูนย์นาที\n",
            "สิบเอ็ดนาฬิกา\n"
          ],
          "name": "stdout"
        }
      ]
    },
    {
      "cell_type": "code",
      "metadata": {
        "id": "kG6KFOkK4DVH",
        "colab_type": "code",
        "colab": {
          "base_uri": "https://localhost:8080/",
          "height": 85
        },
        "outputId": "1ea9051f-66c9-46c1-edb4-8bdc10f6fca7"
      },
      "source": [
        "print(thai_time(\"11:48:00\", fmt=\"6h\"))\n",
        "print(thai_time(\"11:48:00\", fmt=\"6h\", precision=\"s\"))\n",
        "print(thai_time(\"11:48:00\", fmt=\"6h\", precision=\"m\"))\n",
        "print(thai_time(\"11:48:00\", fmt=\"6h\", precision=None))"
      ],
      "execution_count": 164,
      "outputs": [
        {
          "output_type": "stream",
          "text": [
            "ห้าโมงเช้าสี่สิบแปดนาที\n",
            "ห้าโมงเช้าสี่สิบแปดนาทีศูนย์วินาที\n",
            "ห้าโมงเช้าสี่สิบแปดนาที\n",
            "ห้าโมงเช้าสี่สิบแปดนาที\n"
          ],
          "name": "stdout"
        }
      ]
    },
    {
      "cell_type": "code",
      "metadata": {
        "id": "JaYTEWMn5UVa",
        "colab_type": "code",
        "colab": {
          "base_uri": "https://localhost:8080/",
          "height": 85
        },
        "outputId": "d1d9a8fc-2f9d-4e7e-aaa0-f483dbc26752"
      },
      "source": [
        "print(thai_time(\"07:00:00\", fmt=\"m6h\"))\n",
        "print(thai_time(\"07:00:00\", fmt=\"m6h\", precision=\"s\"))\n",
        "print(thai_time(\"07:00:00\", fmt=\"m6h\", precision=\"m\"))\n",
        "print(thai_time(\"07:00:00\", fmt=\"m6h\", precision=None))"
      ],
      "execution_count": 168,
      "outputs": [
        {
          "output_type": "stream",
          "text": [
            "เจ็ดโมง\n",
            "เจ็ดโมงศูนย์นาทีศูนย์วินาที\n",
            "เจ็ดโมงศูนย์นาที\n",
            "เจ็ดโมง\n"
          ],
          "name": "stdout"
        }
      ]
    },
    {
      "cell_type": "markdown",
      "metadata": {
        "id": "eWLazdup7xEt",
        "colab_type": "text"
      },
      "source": [
        "นอกจาก `string` เราสามารถ pass `datetime` และ `time` object ให้ฟังก์ชัน thai_time "
      ]
    },
    {
      "cell_type": "code",
      "metadata": {
        "id": "cWYqvKAy8JhI",
        "colab_type": "code",
        "colab": {}
      },
      "source": [
        "import datetime"
      ],
      "execution_count": 0,
      "outputs": []
    },
    {
      "cell_type": "code",
      "metadata": {
        "id": "ByXKbOn3sEYL",
        "colab_type": "code",
        "outputId": "58c3ffd9-e11c-4d34-b65e-09b86dff6b54",
        "colab": {
          "base_uri": "https://localhost:8080/",
          "height": 34
        }
      },
      "source": [
        "time = datetime.time(23, 59, 58)\n",
        "thai_time(time)"
      ],
      "execution_count": 174,
      "outputs": [
        {
          "output_type": "execute_result",
          "data": {
            "text/plain": [
              "'ยี่สิบสามนาฬิกาห้าสิบเก้านาทีห้าสิบแปดวินาที'"
            ]
          },
          "metadata": {
            "tags": []
          },
          "execution_count": 174
        }
      ]
    },
    {
      "cell_type": "code",
      "metadata": {
        "id": "JZFoN5LasEYO",
        "colab_type": "code",
        "outputId": "2616313f-53ce-4908-e1fe-7c9278f0a9bc",
        "colab": {
          "base_uri": "https://localhost:8080/",
          "height": 34
        }
      },
      "source": [
        "time = datetime.datetime(1980, 12, 31, 23, 58, 57)\n",
        "thai_time(time, fmt=\"6h\", precision=\"m\")"
      ],
      "execution_count": 176,
      "outputs": [
        {
          "output_type": "execute_result",
          "data": {
            "text/plain": [
              "'ห้าทุ่มห้าสิบแปดนาที'"
            ]
          },
          "metadata": {
            "tags": []
          },
          "execution_count": 176
        }
      ]
    },
    {
      "cell_type": "markdown",
      "metadata": {
        "id": "9kyqmsttDmrI",
        "colab_type": "text"
      },
      "source": [
        "# 5. อ่านตัวเลข และอ่านจำนวนเงินบาท"
      ]
    },
    {
      "cell_type": "markdown",
      "metadata": {
        "id": "Ts9bxsaiDvPn",
        "colab_type": "text"
      },
      "source": [
        "อ่านจำนวนเงินบาท เป็นภาษาไทย"
      ]
    },
    {
      "cell_type": "code",
      "metadata": {
        "id": "fH8nz43wD4wV",
        "colab_type": "code",
        "colab": {}
      },
      "source": [
        "from pythainlp.util import num_to_thaiword, thaiword_to_num, bahttext\n",
        "# num_to_thaiword??\n",
        "# thaiword_to_num??\n",
        "# bahttext??"
      ],
      "execution_count": 0,
      "outputs": []
    },
    {
      "cell_type": "markdown",
      "metadata": {
        "id": "86_trxpEFyob",
        "colab_type": "text"
      },
      "source": [
        "รับได้แต่ integer"
      ]
    },
    {
      "cell_type": "code",
      "metadata": {
        "id": "4t3qCc6nFsJn",
        "colab_type": "code",
        "colab": {
          "base_uri": "https://localhost:8080/",
          "height": 34
        },
        "outputId": "34ad745c-1497-4af0-d429-873e7e10fb78"
      },
      "source": [
        "num_to_thaiword(123456789)"
      ],
      "execution_count": 202,
      "outputs": [
        {
          "output_type": "execute_result",
          "data": {
            "text/plain": [
              "'หนึ่งร้อยยี่สิบสามล้านสี่แสนห้าหมื่นหกพันเจ็ดร้อยแปดสิบเก้า'"
            ]
          },
          "metadata": {
            "tags": []
          },
          "execution_count": 202
        }
      ]
    },
    {
      "cell_type": "code",
      "metadata": {
        "id": "MbF7rTJAFsS4",
        "colab_type": "code",
        "colab": {
          "base_uri": "https://localhost:8080/",
          "height": 34
        },
        "outputId": "ba86a79e-413e-44b0-8b47-1ce28589c7f5"
      },
      "source": [
        "num_to_thaiword(0)"
      ],
      "execution_count": 203,
      "outputs": [
        {
          "output_type": "execute_result",
          "data": {
            "text/plain": [
              "'ศูนย์'"
            ]
          },
          "metadata": {
            "tags": []
          },
          "execution_count": 203
        }
      ]
    },
    {
      "cell_type": "code",
      "metadata": {
        "id": "l_w9pSeUFsaN",
        "colab_type": "code",
        "colab": {
          "base_uri": "https://localhost:8080/",
          "height": 34
        },
        "outputId": "c15998eb-bdc0-4208-aed2-5d12743d48da"
      },
      "source": [
        "thaiword_to_num(\"สองพันล้านล้านสี่หมื่นหกพันเจ็ดร้อยยี่สิบสอง\")"
      ],
      "execution_count": 209,
      "outputs": [
        {
          "output_type": "execute_result",
          "data": {
            "text/plain": [
              "2000000000046722"
            ]
          },
          "metadata": {
            "tags": []
          },
          "execution_count": 209
        }
      ]
    },
    {
      "cell_type": "code",
      "metadata": {
        "id": "GEAwRVGaDmfO",
        "colab_type": "code",
        "colab": {
          "base_uri": "https://localhost:8080/",
          "height": 34
        },
        "outputId": "04b64903-83e3-489b-d9e9-d39d35b322e1"
      },
      "source": [
        "bahttext(12345.67)"
      ],
      "execution_count": 184,
      "outputs": [
        {
          "output_type": "execute_result",
          "data": {
            "text/plain": [
              "'หนึ่งหมื่นสองพันสามร้อยสี่สิบห้าบาทหกสิบเจ็ดสตางค์'"
            ]
          },
          "metadata": {
            "tags": []
          },
          "execution_count": 184
        }
      ]
    },
    {
      "cell_type": "code",
      "metadata": {
        "id": "HmTrrV2bEFdo",
        "colab_type": "code",
        "colab": {
          "base_uri": "https://localhost:8080/",
          "height": 34
        },
        "outputId": "2127484d-f873-4634-9363-b0fbb76b8ea0"
      },
      "source": [
        "bahttext(10000000000.00)"
      ],
      "execution_count": 185,
      "outputs": [
        {
          "output_type": "execute_result",
          "data": {
            "text/plain": [
              "'หนึ่งหมื่นล้านบาทถ้วน'"
            ]
          },
          "metadata": {
            "tags": []
          },
          "execution_count": 185
        }
      ]
    },
    {
      "cell_type": "code",
      "metadata": {
        "id": "95KpbETREWbV",
        "colab_type": "code",
        "colab": {
          "base_uri": "https://localhost:8080/",
          "height": 34
        },
        "outputId": "09304230-055f-4b81-b809-4b42be695c94"
      },
      "source": [
        "bahttext(0)"
      ],
      "execution_count": 190,
      "outputs": [
        {
          "output_type": "execute_result",
          "data": {
            "text/plain": [
              "'ศูนย์บาทถ้วน'"
            ]
          },
          "metadata": {
            "tags": []
          },
          "execution_count": 190
        }
      ]
    },
    {
      "cell_type": "code",
      "metadata": {
        "id": "C_P4nWSvEFUG",
        "colab_type": "code",
        "colab": {
          "base_uri": "https://localhost:8080/",
          "height": 34
        },
        "outputId": "c3902513-c364-4000-9dcb-29823166ec9e"
      },
      "source": [
        "bahttext(0.01)"
      ],
      "execution_count": 187,
      "outputs": [
        {
          "output_type": "execute_result",
          "data": {
            "text/plain": [
              "'ศูนย์บาทหนึ่งสตางค์'"
            ]
          },
          "metadata": {
            "tags": []
          },
          "execution_count": 187
        }
      ]
    },
    {
      "cell_type": "code",
      "metadata": {
        "id": "jt2Qar82EFKb",
        "colab_type": "code",
        "colab": {
          "base_uri": "https://localhost:8080/",
          "height": 34
        },
        "outputId": "acaa2f11-f0de-4ab7-8048-1563b89b747f"
      },
      "source": [
        "bahttext(0.001)"
      ],
      "execution_count": 188,
      "outputs": [
        {
          "output_type": "execute_result",
          "data": {
            "text/plain": [
              "'ศูนย์บาทถ้วน'"
            ]
          },
          "metadata": {
            "tags": []
          },
          "execution_count": 188
        }
      ]
    },
    {
      "cell_type": "markdown",
      "metadata": {
        "id": "pWxx8WjoC6Yn",
        "colab_type": "text"
      },
      "source": [
        "# Credit"
      ]
    },
    {
      "cell_type": "markdown",
      "metadata": {
        "id": "RVATahu8C8G1",
        "colab_type": "text"
      },
      "source": [
        "* https://www.thainlp.org/pythainlp/tutorials/notebooks/pythainlp_get_started.html\n",
        "* https://github.com/PyThaiNLP/pythainlp\n",
        "* https://www.facebook.com/pythainlp/\n",
        "* https://www.facebook.com/groups/thainlp/\n",
        "* https://www.youtube.com/watch?v=fKM9lTcyXLA\n",
        "* https://docs.python.org/3/library/datetime.html#strftime-and-strptime-format-codes"
      ]
    },
    {
      "cell_type": "code",
      "metadata": {
        "id": "FGATuWuoxRkM",
        "colab_type": "code",
        "colab": {}
      },
      "source": [
        ""
      ],
      "execution_count": 0,
      "outputs": []
    }
  ]
}