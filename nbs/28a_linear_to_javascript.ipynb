{
  "nbformat": 4,
  "nbformat_minor": 0,
  "metadata": {
    "accelerator": "GPU",
    "colab": {
      "name": "28a_linear_to_javascript.ipynb",
      "provenance": [],
      "collapsed_sections": [],
      "toc_visible": true
    },
    "kernelspec": {
      "display_name": "Python 3",
      "language": "python",
      "name": "python3"
    },
    "language_info": {
      "codemirror_mode": {
        "name": "ipython",
        "version": 3
      },
      "file_extension": ".py",
      "mimetype": "text/x-python",
      "name": "python",
      "nbconvert_exporter": "python",
      "pygments_lexer": "ipython3",
      "version": "3.7.4"
    }
  },
  "cells": [
    {
      "cell_type": "markdown",
      "metadata": {
        "id": "0jY9AHIQHQAX",
        "colab_type": "text"
      },
      "source": [
        "# 0. Install"
      ]
    },
    {
      "cell_type": "markdown",
      "metadata": {
        "id": "H6OEC-5XHS7I",
        "colab_type": "text"
      },
      "source": [
        "Install TensorFlow.js ด้วย pip"
      ]
    },
    {
      "cell_type": "code",
      "metadata": {
        "colab_type": "code",
        "id": "pLTlDFwU1Ux_",
        "colab": {}
      },
      "source": [
        "# !pip install tensorflowjs"
      ],
      "execution_count": 0,
      "outputs": []
    },
    {
      "cell_type": "markdown",
      "metadata": {
        "id": "U4ehq7anHYbR",
        "colab_type": "text"
      },
      "source": [
        "# 1. Import"
      ]
    },
    {
      "cell_type": "markdown",
      "metadata": {
        "id": "GqMyRB8NHaCK",
        "colab_type": "text"
      },
      "source": [
        "Import Library ที่เราจะใช้"
      ]
    },
    {
      "cell_type": "code",
      "metadata": {
        "colab_type": "code",
        "id": "vNHv1d2K0Wxg",
        "outputId": "783c0982-af2a-4828-fbfe-7f60e91959d3",
        "colab": {
          "base_uri": "https://localhost:8080/",
          "height": 97
        }
      },
      "source": [
        "import numpy as np\n",
        "import tensorflow as tf\n",
        "\n",
        "print('\\u2022 Using TensorFlow Version:', tf.__version__)"
      ],
      "execution_count": 3,
      "outputs": [
        {
          "output_type": "display_data",
          "data": {
            "text/html": [
              "<p style=\"color: red;\">\n",
              "The default version of TensorFlow in Colab will soon switch to TensorFlow 2.x.<br>\n",
              "We recommend you <a href=\"https://www.tensorflow.org/guide/migrate\" target=\"_blank\">upgrade</a> now \n",
              "or ensure your notebook will continue to use TensorFlow 1.x via the <code>%tensorflow_version 1.x</code> magic:\n",
              "<a href=\"https://colab.research.google.com/notebooks/tensorflow_version.ipynb\" target=\"_blank\">more info</a>.</p>\n"
            ],
            "text/plain": [
              "<IPython.core.display.HTML object>"
            ]
          },
          "metadata": {
            "tags": []
          }
        },
        {
          "output_type": "stream",
          "text": [
            "• Using TensorFlow Version: 1.15.0\n"
          ],
          "name": "stdout"
        }
      ]
    },
    {
      "cell_type": "markdown",
      "metadata": {
        "id": "9dGBTSJdJK_L",
        "colab_type": "text"
      },
      "source": [
        "# 2. Dataset"
      ]
    },
    {
      "cell_type": "markdown",
      "metadata": {
        "id": "cEN4wKljHzUw",
        "colab_type": "text"
      },
      "source": [
        "ชุดข้อมูลตัวอย่าง y = 5x + 0 + Noise ที่เราจะใช้ Feed ให้โมเดล ทำ [Linear Regression](https://www.bualabs.com/archives/1619/linear-regression-sgd-stochastic-gradient-descent-machine-learning-basic-neural-networks-optimization-ep-2/)"
      ]
    },
    {
      "cell_type": "code",
      "metadata": {
        "id": "BcGK82vlHwBQ",
        "colab_type": "code",
        "colab": {}
      },
      "source": [
        "xs = np.array([-2.0, -1.0,  0.0, 1.0, 2.0,  3.0,  4.0,  5.0,  6.1], dtype=float)\n",
        "ys = np.array([-9.8, -5.1, -0.3, 5.3, 9.9, 15.3, 19.7, 24.8, 30.4], dtype=float)"
      ],
      "execution_count": 0,
      "outputs": []
    },
    {
      "cell_type": "markdown",
      "metadata": {
        "id": "fj50KftYHf56",
        "colab_type": "text"
      },
      "source": [
        "# 3. Model"
      ]
    },
    {
      "cell_type": "markdown",
      "metadata": {
        "id": "2W_rsoJRHjX7",
        "colab_type": "text"
      },
      "source": [
        "สร้างโมเดล Sequential ประกอบด้วย 1 Dense Layer ไม่มี [Activation Function](https://www.bualabs.com/archives/1261/what-is-activation-function-what-is-sigmoid-function-activation-function-ep-1/) ใช้สำหรับทำ [Linear Regression](https://www.bualabs.com/archives/1619/linear-regression-sgd-stochastic-gradient-descent-machine-learning-basic-neural-networks-optimization-ep-2/) แบบง่าย"
      ]
    },
    {
      "cell_type": "code",
      "metadata": {
        "id": "zz1VRMWMAPar",
        "colab_type": "code",
        "colab": {}
      },
      "source": [
        "model = tf.keras.models.Sequential([\n",
        "        tf.keras.layers.Dense(units=1, input_shape=[1])  \n",
        "])"
      ],
      "execution_count": 0,
      "outputs": []
    },
    {
      "cell_type": "markdown",
      "metadata": {
        "id": "h6461kcPJHlz",
        "colab_type": "text"
      },
      "source": [
        "# 4. Compile Model"
      ]
    },
    {
      "cell_type": "markdown",
      "metadata": {
        "id": "FfURaamsH_B2",
        "colab_type": "text"
      },
      "source": [
        "Compile โมเดล ด้วย Adam [Optimizer](https://www.bualabs.com/archives/tag/optimizer/) ใช้ [Mean Squared Error Loss Function](https://www.bualabs.com/archives/1928/what-is-mean-absolute-error-mae-mean-squared-error-mse-root-mean-squared-error-rmse-loss-function-ep-2/)"
      ]
    },
    {
      "cell_type": "code",
      "metadata": {
        "id": "-PE8xAZVHu-v",
        "colab_type": "code",
        "colab": {}
      },
      "source": [
        "model.compile(optimizer=tf.keras.optimizers.Adam(lr=1., beta_1=0.), loss='mean_squared_error')"
      ],
      "execution_count": 0,
      "outputs": []
    },
    {
      "cell_type": "markdown",
      "metadata": {
        "id": "EeH-TuuMJqTZ",
        "colab_type": "text"
      },
      "source": [
        "# 5. Training"
      ]
    },
    {
      "cell_type": "markdown",
      "metadata": {
        "id": "UxRr1foQIaLj",
        "colab_type": "text"
      },
      "source": [
        "เทรนไป 20 [Epoch](https://www.bualabs.com/archives/618/learning-rate-deep-learning-how-to-hyperparameter-tuning-ep-1/)"
      ]
    },
    {
      "cell_type": "code",
      "metadata": {
        "id": "liXKfCOLHwuT",
        "colab_type": "code",
        "colab": {
          "base_uri": "https://localhost:8080/",
          "height": 731
        },
        "outputId": "9387ed55-e7c7-49ee-8fd4-f72bfae0c032"
      },
      "source": [
        "model.fit(xs, ys, epochs=20)"
      ],
      "execution_count": 18,
      "outputs": [
        {
          "output_type": "stream",
          "text": [
            "Train on 9 samples\n",
            "Epoch 1/20\n",
            "9/9 [==============================] - 0s 8ms/sample - loss: 328.4389\n",
            "Epoch 2/20\n",
            "9/9 [==============================] - 0s 273us/sample - loss: 202.9467\n",
            "Epoch 3/20\n",
            "9/9 [==============================] - 0s 229us/sample - loss: 119.6928\n",
            "Epoch 4/20\n",
            "9/9 [==============================] - 0s 234us/sample - loss: 68.2303\n",
            "Epoch 5/20\n",
            "9/9 [==============================] - 0s 223us/sample - loss: 38.6908\n",
            "Epoch 6/20\n",
            "9/9 [==============================] - 0s 217us/sample - loss: 22.8236\n",
            "Epoch 7/20\n",
            "9/9 [==============================] - 0s 300us/sample - loss: 14.6211\n",
            "Epoch 8/20\n",
            "9/9 [==============================] - 0s 253us/sample - loss: 10.3026\n",
            "Epoch 9/20\n",
            "9/9 [==============================] - 0s 228us/sample - loss: 7.8066\n",
            "Epoch 10/20\n",
            "9/9 [==============================] - 0s 289us/sample - loss: 6.1484\n",
            "Epoch 11/20\n",
            "9/9 [==============================] - 0s 214us/sample - loss: 4.9078\n",
            "Epoch 12/20\n",
            "9/9 [==============================] - 0s 293us/sample - loss: 3.9176\n",
            "Epoch 13/20\n",
            "9/9 [==============================] - 0s 222us/sample - loss: 3.1096\n",
            "Epoch 14/20\n",
            "9/9 [==============================] - 0s 252us/sample - loss: 2.4498\n",
            "Epoch 15/20\n",
            "9/9 [==============================] - 0s 225us/sample - loss: 1.9152\n",
            "Epoch 16/20\n",
            "9/9 [==============================] - 0s 209us/sample - loss: 1.4864\n",
            "Epoch 17/20\n",
            "9/9 [==============================] - 0s 347us/sample - loss: 1.1461\n",
            "Epoch 18/20\n",
            "9/9 [==============================] - 0s 224us/sample - loss: 0.8789\n",
            "Epoch 19/20\n",
            "9/9 [==============================] - 0s 201us/sample - loss: 0.6712\n",
            "Epoch 20/20\n",
            "9/9 [==============================] - 0s 265us/sample - loss: 0.5115\n"
          ],
          "name": "stdout"
        },
        {
          "output_type": "execute_result",
          "data": {
            "text/plain": [
              "<tensorflow.python.keras.callbacks.History at 0x7fdc045e3cf8>"
            ]
          },
          "metadata": {
            "tags": []
          },
          "execution_count": 18
        }
      ]
    },
    {
      "cell_type": "markdown",
      "metadata": {
        "id": "Tsel8BnWJwsI",
        "colab_type": "text"
      },
      "source": [
        "# 6. Inference"
      ]
    },
    {
      "cell_type": "markdown",
      "metadata": {
        "id": "eW7PTgmhIdKs",
        "colab_type": "text"
      },
      "source": [
        "ลองให้โมเดล predict y จาก x = 10.0"
      ]
    },
    {
      "cell_type": "code",
      "metadata": {
        "colab_type": "code",
        "id": "AxSZ4DzJGEKy",
        "outputId": "740dbcf6-31a4-4f90-c36e-88f2407cace2",
        "colab": {
          "base_uri": "https://localhost:8080/",
          "height": 34
        }
      },
      "source": [
        "print(model.predict([10.0]))"
      ],
      "execution_count": 19,
      "outputs": [
        {
          "output_type": "stream",
          "text": [
            "[[48.67188]]\n"
          ],
          "name": "stdout"
        }
      ]
    },
    {
      "cell_type": "markdown",
      "metadata": {
        "id": "tA78jWh-J39r",
        "colab_type": "text"
      },
      "source": [
        "ปรากฎว่า โมเดล predict ได้ใกล้เคียง กับ 50"
      ]
    },
    {
      "cell_type": "markdown",
      "metadata": {
        "id": "lf0IdyynKDGJ",
        "colab_type": "text"
      },
      "source": [
        "# 7. Save Model"
      ]
    },
    {
      "cell_type": "markdown",
      "metadata": {
        "id": "cvQvE6PFKJLc",
        "colab_type": "text"
      },
      "source": [
        "เราจะ Save โมเดลเป็นไฟล์ นามสกุล .h5"
      ]
    },
    {
      "cell_type": "code",
      "metadata": {
        "id": "ikYBheICAPaz",
        "colab_type": "code",
        "colab": {}
      },
      "source": [
        "import time\n",
        "saved_model_path = \"./{}.h5\".format(int(time.time()))\n",
        "\n",
        "model.save(saved_model_path)"
      ],
      "execution_count": 0,
      "outputs": []
    },
    {
      "cell_type": "markdown",
      "metadata": {
        "id": "L0hNxSnnKSXj",
        "colab_type": "text"
      },
      "source": [
        "# 8. TensorFlow.js Model Converter"
      ]
    },
    {
      "cell_type": "markdown",
      "metadata": {
        "id": "QupGt6hGKZHk",
        "colab_type": "text"
      },
      "source": [
        "ใช้ Command Line ด้านล่าง ในการ Convert โมเดลไปเป็น ไฟล์ JSON ชื่อ model.json เพื่อใช้ใน JavaScript ต่อไป และ group1-shard1of1.bin เก็บ Weight ของโมเดล"
      ]
    },
    {
      "cell_type": "code",
      "metadata": {
        "id": "7zSb7PsUAPa2",
        "colab_type": "code",
        "colab": {}
      },
      "source": [
        "!tensorflowjs_converter --input_format=keras {saved_model_path} ./"
      ],
      "execution_count": 0,
      "outputs": []
    },
    {
      "cell_type": "code",
      "metadata": {
        "id": "7tUgs2HhA7RS",
        "colab_type": "code",
        "colab": {}
      },
      "source": [
        ""
      ],
      "execution_count": 0,
      "outputs": []
    }
  ]
}