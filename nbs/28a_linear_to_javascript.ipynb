{
  "nbformat": 4,
  "nbformat_minor": 0,
  "metadata": {
    "accelerator": "GPU",
    "colab": {
      "name": "28a_linear_to_javascript.ipynb",
      "provenance": [],
      "collapsed_sections": []
    },
    "kernelspec": {
      "display_name": "Python 3",
      "language": "python",
      "name": "python3"
    },
    "language_info": {
      "codemirror_mode": {
        "name": "ipython",
        "version": 3
      },
      "file_extension": ".py",
      "mimetype": "text/x-python",
      "name": "python",
      "nbconvert_exporter": "python",
      "pygments_lexer": "ipython3",
      "version": "3.7.4"
    }
  },
  "cells": [
    {
      "cell_type": "code",
      "metadata": {
        "colab_type": "code",
        "id": "pLTlDFwU1Ux_",
        "colab": {}
      },
      "source": [
        "# !pip install tensorflowjs"
      ],
      "execution_count": 0,
      "outputs": []
    },
    {
      "cell_type": "code",
      "metadata": {
        "colab_type": "code",
        "id": "vNHv1d2K0Wxg",
        "outputId": "b111d9c2-d9ea-41c8-9ef5-cba5275b2c75",
        "colab": {
          "base_uri": "https://localhost:8080/",
          "height": 97
        }
      },
      "source": [
        "import numpy as np\n",
        "import tensorflow as tf\n",
        "\n",
        "print('\\u2022 Using TensorFlow Version:', tf.__version__)"
      ],
      "execution_count": 2,
      "outputs": [
        {
          "output_type": "display_data",
          "data": {
            "text/html": [
              "<p style=\"color: red;\">\n",
              "The default version of TensorFlow in Colab will soon switch to TensorFlow 2.x.<br>\n",
              "We recommend you <a href=\"https://www.tensorflow.org/guide/migrate\" target=\"_blank\">upgrade</a> now \n",
              "or ensure your notebook will continue to use TensorFlow 1.x via the <code>%tensorflow_version 1.x</code> magic:\n",
              "<a href=\"https://colab.research.google.com/notebooks/tensorflow_version.ipynb\" target=\"_blank\">more info</a>.</p>\n"
            ],
            "text/plain": [
              "<IPython.core.display.HTML object>"
            ]
          },
          "metadata": {
            "tags": []
          }
        },
        {
          "output_type": "stream",
          "text": [
            "• Using TensorFlow Version: 1.15.0\n"
          ],
          "name": "stdout"
        }
      ]
    },
    {
      "cell_type": "code",
      "metadata": {
        "id": "zz1VRMWMAPar",
        "colab_type": "code",
        "outputId": "b4253f2a-13ed-429f-8e8a-c229b3406f1e",
        "colab": {
          "base_uri": "https://localhost:8080/",
          "height": 731
        }
      },
      "source": [
        "model = tf.keras.models.Sequential([\n",
        "        tf.keras.layers.Dense(units=1, input_shape=[1])  \n",
        "])\n",
        "\n",
        "model.compile(optimizer=tf.keras.optimizers.Adam(lr=1., beta_1=0.), loss='mean_squared_error')\n",
        "\n",
        "xs = np.array([-1.0,  0.0, 1.0, 2.0, 3.0, 4.0], dtype=float)\n",
        "ys = np.array([-5.1, -0.3, 5.3, 9.9, 15.3, 19.7], dtype=float)\n",
        "\n",
        "model.fit(xs, ys, epochs=20)"
      ],
      "execution_count": 34,
      "outputs": [
        {
          "output_type": "stream",
          "text": [
            "Train on 6 samples\n",
            "Epoch 1/20\n",
            "6/6 [==============================] - 0s 50ms/sample - loss: 127.9644\n",
            "Epoch 2/20\n",
            "6/6 [==============================] - 0s 686us/sample - loss: 70.8473\n",
            "Epoch 3/20\n",
            "6/6 [==============================] - 0s 514us/sample - loss: 37.3217\n",
            "Epoch 4/20\n",
            "6/6 [==============================] - 0s 505us/sample - loss: 19.7214\n",
            "Epoch 5/20\n",
            "6/6 [==============================] - 0s 579us/sample - loss: 11.3496\n",
            "Epoch 6/20\n",
            "6/6 [==============================] - 0s 452us/sample - loss: 7.4848\n",
            "Epoch 7/20\n",
            "6/6 [==============================] - 0s 524us/sample - loss: 5.5010\n",
            "Epoch 8/20\n",
            "6/6 [==============================] - 0s 405us/sample - loss: 4.2450\n",
            "Epoch 9/20\n",
            "6/6 [==============================] - 0s 777us/sample - loss: 3.3068\n",
            "Epoch 10/20\n",
            "6/6 [==============================] - 0s 549us/sample - loss: 2.5595\n",
            "Epoch 11/20\n",
            "6/6 [==============================] - 0s 591us/sample - loss: 1.9602\n",
            "Epoch 12/20\n",
            "6/6 [==============================] - 0s 493us/sample - loss: 1.4852\n",
            "Epoch 13/20\n",
            "6/6 [==============================] - 0s 534us/sample - loss: 1.1149\n",
            "Epoch 14/20\n",
            "6/6 [==============================] - 0s 619us/sample - loss: 0.8308\n",
            "Epoch 15/20\n",
            "6/6 [==============================] - 0s 375us/sample - loss: 0.6162\n",
            "Epoch 16/20\n",
            "6/6 [==============================] - 0s 637us/sample - loss: 0.4566\n",
            "Epoch 17/20\n",
            "6/6 [==============================] - 0s 982us/sample - loss: 0.3395\n",
            "Epoch 18/20\n",
            "6/6 [==============================] - 0s 1ms/sample - loss: 0.2549\n",
            "Epoch 19/20\n",
            "6/6 [==============================] - 0s 1ms/sample - loss: 0.1945\n",
            "Epoch 20/20\n",
            "6/6 [==============================] - 0s 783us/sample - loss: 0.1520\n"
          ],
          "name": "stdout"
        },
        {
          "output_type": "execute_result",
          "data": {
            "text/plain": [
              "<tensorflow.python.keras.callbacks.History at 0x7f1538468400>"
            ]
          },
          "metadata": {
            "tags": []
          },
          "execution_count": 34
        }
      ]
    },
    {
      "cell_type": "code",
      "metadata": {
        "colab_type": "code",
        "id": "AxSZ4DzJGEKy",
        "outputId": "435fb485-52f0-428b-c104-705fbcba8f5f",
        "colab": {
          "base_uri": "https://localhost:8080/",
          "height": 34
        }
      },
      "source": [
        "print(model.predict([10.0]))"
      ],
      "execution_count": 35,
      "outputs": [
        {
          "output_type": "stream",
          "text": [
            "[[49.115013]]\n"
          ],
          "name": "stdout"
        }
      ]
    },
    {
      "cell_type": "code",
      "metadata": {
        "id": "ikYBheICAPaz",
        "colab_type": "code",
        "colab": {}
      },
      "source": [
        "import time\n",
        "saved_model_path = \"./{}.h5\".format(int(time.time()))\n",
        "\n",
        "model.save(saved_model_path)"
      ],
      "execution_count": 0,
      "outputs": []
    },
    {
      "cell_type": "code",
      "metadata": {
        "id": "7zSb7PsUAPa2",
        "colab_type": "code",
        "colab": {}
      },
      "source": [
        "!tensorflowjs_converter --input_format=keras {saved_model_path} ./"
      ],
      "execution_count": 0,
      "outputs": []
    },
    {
      "cell_type": "code",
      "metadata": {
        "id": "7tUgs2HhA7RS",
        "colab_type": "code",
        "colab": {}
      },
      "source": [
        ""
      ],
      "execution_count": 0,
      "outputs": []
    }
  ]
}