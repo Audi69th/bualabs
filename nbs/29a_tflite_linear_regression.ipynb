{
  "nbformat": 4,
  "nbformat_minor": 0,
  "metadata": {
    "accelerator": "GPU",
    "colab": {
      "name": "29a_tflite_linear_regression.ipynb",
      "provenance": [],
      "collapsed_sections": []
    },
    "kernelspec": {
      "name": "python3",
      "display_name": "Python 3"
    },
    "language_info": {
      "codemirror_mode": {
        "name": "ipython",
        "version": 3
      },
      "file_extension": ".py",
      "mimetype": "text/x-python",
      "name": "python",
      "nbconvert_exporter": "python",
      "pygments_lexer": "ipython3",
      "version": "3.7.4"
    }
  },
  "cells": [
    {
      "cell_type": "markdown",
      "metadata": {
        "colab_type": "text",
        "id": "Za8-Nr5k11fh"
      },
      "source": [
        "##### Copyright 2018 The TensorFlow Authors."
      ]
    },
    {
      "cell_type": "code",
      "metadata": {
        "cellView": "both",
        "colab_type": "code",
        "id": "Eq10uEbw0E4l",
        "colab": {}
      },
      "source": [
        "#@title Licensed under the Apache License, Version 2.0 (the \"License\");\n",
        "# you may not use this file except in compliance with the License.\n",
        "# You may obtain a copy of the License at\n",
        "#\n",
        "# https://www.apache.org/licenses/LICENSE-2.0\n",
        "#\n",
        "# Unless required by applicable law or agreed to in writing, software\n",
        "# distributed under the License is distributed on an \"AS IS\" BASIS,\n",
        "# WITHOUT WARRANTIES OR CONDITIONS OF ANY KIND, either express or implied.\n",
        "# See the License for the specific language governing permissions and\n",
        "# limitations under the License."
      ],
      "execution_count": 0,
      "outputs": []
    },
    {
      "cell_type": "markdown",
      "metadata": {
        "colab_type": "text",
        "id": "W-VhTkyTGcaQ"
      },
      "source": [
        "# 0. Setup"
      ]
    },
    {
      "cell_type": "markdown",
      "metadata": {
        "id": "6uhOvL70Tiqd",
        "colab_type": "text"
      },
      "source": [
        "ใน ep นี้ เราจะใช้ TensorFlow 2 ด้วยคำสั่ง Magic %tensorflow_version 2.x (สำหรับ Google Colab)"
      ]
    },
    {
      "cell_type": "code",
      "metadata": {
        "colab_type": "code",
        "id": "Ll4ii2J9Fea_",
        "colab": {}
      },
      "source": [
        "try:\n",
        "    %tensorflow_version 2.x\n",
        "except:\n",
        "    pass"
      ],
      "execution_count": 0,
      "outputs": []
    },
    {
      "cell_type": "markdown",
      "metadata": {
        "id": "lB6YwP2-Jviz",
        "colab_type": "text"
      },
      "source": [
        "# 1. Import "
      ]
    },
    {
      "cell_type": "markdown",
      "metadata": {
        "id": "zMc2_LFYJyHC",
        "colab_type": "text"
      },
      "source": [
        "Import Library ที่เกี่ยวข้อง"
      ]
    },
    {
      "cell_type": "code",
      "metadata": {
        "colab_type": "code",
        "id": "dy4BcTjBFTWx",
        "colab": {
          "base_uri": "https://localhost:8080/",
          "height": 34
        },
        "outputId": "7b2c2ee6-a9a5-4ade-9a00-98d8063dcdc8"
      },
      "source": [
        "import pathlib\n",
        "import numpy as np\n",
        "import matplotlib.pyplot as plt\n",
        "\n",
        "import tensorflow as tf\n",
        "\n",
        "print('\\u2022 Using TensorFlow Version:', tf.__version__)"
      ],
      "execution_count": 41,
      "outputs": [
        {
          "output_type": "stream",
          "text": [
            "• Using TensorFlow Version: 2.1.0-rc1\n"
          ],
          "name": "stdout"
        }
      ]
    },
    {
      "cell_type": "markdown",
      "metadata": {
        "id": "GBCCO-VaJ1AW",
        "colab_type": "text"
      },
      "source": [
        "# 2. Dataset"
      ]
    },
    {
      "cell_type": "markdown",
      "metadata": {
        "colab_type": "text",
        "id": "ceibQLDeGhI4"
      },
      "source": [
        "ชุดข้อมูลนี้สร้างจาก y = 5x + 0 บวก Noise อีกนิดหน่อย"
      ]
    },
    {
      "cell_type": "code",
      "metadata": {
        "colab_type": "code",
        "id": "YIBCsjQNF46Z",
        "colab": {}
      },
      "source": [
        "x = [   -1,   0,  1,    2,     3,     4 ]\n",
        "y = [ -5.1, 0.1,  5, 10.1,  14.9,  20.2 ]"
      ],
      "execution_count": 0,
      "outputs": []
    },
    {
      "cell_type": "markdown",
      "metadata": {
        "id": "uSh-_-jBK4Hj",
        "colab_type": "text"
      },
      "source": [
        "# 3. Model"
      ]
    },
    {
      "cell_type": "markdown",
      "metadata": {
        "id": "iYe3Y7N5K5xK",
        "colab_type": "text"
      },
      "source": [
        "สร้างโมเดล Linear Regression ด้วย 1 Dense Layer ที่ไม่มี Activation Function"
      ]
    },
    {
      "cell_type": "code",
      "metadata": {
        "id": "gPoi4ZhDJ3Y0",
        "colab_type": "code",
        "colab": {}
      },
      "source": [
        "model = tf.keras.models.Sequential([\n",
        "        tf.keras.layers.Dense(units=1, input_shape=[1])\n",
        "])"
      ],
      "execution_count": 0,
      "outputs": []
    },
    {
      "cell_type": "markdown",
      "metadata": {
        "id": "XcEcQDKBLGY4",
        "colab_type": "text"
      },
      "source": [
        "ใช้ Mean Squared Error Loss Function และ Adam Optmizer"
      ]
    },
    {
      "cell_type": "code",
      "metadata": {
        "id": "cw0dixp0LDhN",
        "colab_type": "code",
        "colab": {}
      },
      "source": [
        "model.compile(optimizer=tf.optimizers.Adam(learning_rate=1., beta_1=0.),\n",
        "              loss='mean_squared_error')"
      ],
      "execution_count": 0,
      "outputs": []
    },
    {
      "cell_type": "markdown",
      "metadata": {
        "id": "c9zzQzpHLO90",
        "colab_type": "text"
      },
      "source": [
        "# 4. Train"
      ]
    },
    {
      "cell_type": "markdown",
      "metadata": {
        "id": "dnvG9b9BUJyT",
        "colab_type": "text"
      },
      "source": [
        "เทรนไป 20 Epoch"
      ]
    },
    {
      "cell_type": "code",
      "metadata": {
        "id": "h7foaPACLE9W",
        "colab_type": "code",
        "outputId": "18887ed0-f150-4d38-9512-3059e1fd7066",
        "colab": {
          "base_uri": "https://localhost:8080/",
          "height": 731
        }
      },
      "source": [
        "model.fit(x, y, epochs=20)"
      ],
      "execution_count": 45,
      "outputs": [
        {
          "output_type": "stream",
          "text": [
            "Train on 6 samples\n",
            "Epoch 1/20\n",
            "6/6 [==============================] - 0s 29ms/sample - loss: 200.0258\n",
            "Epoch 2/20\n",
            "6/6 [==============================] - 0s 1ms/sample - loss: 126.2419\n",
            "Epoch 3/20\n",
            "6/6 [==============================] - 0s 1ms/sample - loss: 76.9531\n",
            "Epoch 4/20\n",
            "6/6 [==============================] - 0s 1ms/sample - loss: 46.1516\n",
            "Epoch 5/20\n",
            "6/6 [==============================] - 0s 745us/sample - loss: 28.1457\n",
            "Epoch 6/20\n",
            "6/6 [==============================] - 0s 996us/sample - loss: 18.1603\n",
            "Epoch 7/20\n",
            "6/6 [==============================] - 0s 1ms/sample - loss: 12.7066\n",
            "Epoch 8/20\n",
            "6/6 [==============================] - 0s 1ms/sample - loss: 9.5826\n",
            "Epoch 9/20\n",
            "6/6 [==============================] - 0s 1ms/sample - loss: 7.5843\n",
            "Epoch 10/20\n",
            "6/6 [==============================] - 0s 1ms/sample - loss: 6.1350\n",
            "Epoch 11/20\n",
            "6/6 [==============================] - 0s 2ms/sample - loss: 4.9866\n",
            "Epoch 12/20\n",
            "6/6 [==============================] - 0s 2ms/sample - loss: 4.0387\n",
            "Epoch 13/20\n",
            "6/6 [==============================] - 0s 2ms/sample - loss: 3.2481\n",
            "Epoch 14/20\n",
            "6/6 [==============================] - 0s 1ms/sample - loss: 2.5911\n",
            "Epoch 15/20\n",
            "6/6 [==============================] - 0s 1ms/sample - loss: 2.0498\n",
            "Epoch 16/20\n",
            "6/6 [==============================] - 0s 2ms/sample - loss: 1.6083\n",
            "Epoch 17/20\n",
            "6/6 [==============================] - 0s 1ms/sample - loss: 1.2519\n",
            "Epoch 18/20\n",
            "6/6 [==============================] - 0s 1ms/sample - loss: 0.9671\n",
            "Epoch 19/20\n",
            "6/6 [==============================] - 0s 869us/sample - loss: 0.7417\n",
            "Epoch 20/20\n",
            "6/6 [==============================] - 0s 1ms/sample - loss: 0.5650\n"
          ],
          "name": "stdout"
        },
        {
          "output_type": "execute_result",
          "data": {
            "text/plain": [
              "<tensorflow.python.keras.callbacks.History at 0x7f49b54da710>"
            ]
          },
          "metadata": {
            "tags": []
          },
          "execution_count": 45
        }
      ]
    },
    {
      "cell_type": "markdown",
      "metadata": {
        "colab_type": "text",
        "id": "EjsB-QICGt6L"
      },
      "source": [
        "# 5. Generate a SavedModel"
      ]
    },
    {
      "cell_type": "markdown",
      "metadata": {
        "id": "1sy7-u1LUS-a",
        "colab_type": "text"
      },
      "source": [
        "เราจะ Export โมเดลในไฟล์ Format ใหม่ ของ TensorFlow ที่เรียกว่า SavedModel"
      ]
    },
    {
      "cell_type": "code",
      "metadata": {
        "colab_type": "code",
        "id": "a9xcbK7QHOfm",
        "colab": {
          "base_uri": "https://localhost:8080/",
          "height": 34
        },
        "outputId": "f191d8fc-283c-459d-b430-f7d9a256aa6e"
      },
      "source": [
        "export_dir = 'saved_model/1'\n",
        "tf.saved_model.save(model, export_dir)"
      ],
      "execution_count": 46,
      "outputs": [
        {
          "output_type": "stream",
          "text": [
            "INFO:tensorflow:Assets written to: saved_model/1/assets\n"
          ],
          "name": "stdout"
        }
      ]
    },
    {
      "cell_type": "markdown",
      "metadata": {
        "colab_type": "text",
        "id": "RRtsNwkiGxcO"
      },
      "source": [
        "# 6. Convert the SavedModel to TFLite"
      ]
    },
    {
      "cell_type": "markdown",
      "metadata": {
        "id": "qnyFBetEUfWJ",
        "colab_type": "text"
      },
      "source": [
        "แปลงโมเดลในไฟล์ SavedModel ไปเป็นไฟล์ tflite ที่เหมาะสำหรับใช้ในอุปกรณ์ Edge"
      ]
    },
    {
      "cell_type": "code",
      "metadata": {
        "colab_type": "code",
        "id": "TtM8yKTVTpD3",
        "colab": {}
      },
      "source": [
        "# Convert the model.\n",
        "converter = tf.lite.TFLiteConverter.from_saved_model(export_dir)\n",
        "tflite_model = converter.convert()"
      ],
      "execution_count": 0,
      "outputs": []
    },
    {
      "cell_type": "markdown",
      "metadata": {
        "id": "cBEHnzKdVUbu",
        "colab_type": "text"
      },
      "source": [
        "Save ไฟล์ tflite ลง Disk เพื่อนำไปใส่อุปกรณ์ที่ต้องการต่อไป"
      ]
    },
    {
      "cell_type": "code",
      "metadata": {
        "colab_type": "code",
        "id": "4idYulcNHTdO",
        "colab": {
          "base_uri": "https://localhost:8080/",
          "height": 34
        },
        "outputId": "238a09f2-24ef-4366-8438-0b8fd73a3de3"
      },
      "source": [
        "tflite_model_file = pathlib.Path('model.tflite')\n",
        "tflite_model_file.write_bytes(tflite_model)"
      ],
      "execution_count": 48,
      "outputs": [
        {
          "output_type": "execute_result",
          "data": {
            "text/plain": [
              "792"
            ]
          },
          "metadata": {
            "tags": []
          },
          "execution_count": 48
        }
      ]
    },
    {
      "cell_type": "markdown",
      "metadata": {
        "id": "Lwrxe5enVgpf",
        "colab_type": "text"
      },
      "source": [
        "ได้ไฟล์ขนาด 792 Byte"
      ]
    },
    {
      "cell_type": "markdown",
      "metadata": {
        "colab_type": "text",
        "id": "HgGvp2yBG25Q"
      },
      "source": [
        "# 7. Initialize the TFLite Interpreter "
      ]
    },
    {
      "cell_type": "markdown",
      "metadata": {
        "id": "Mo3LM6Z6VqP2",
        "colab_type": "text"
      },
      "source": [
        "ในเคสนี้ เราจะลองรันโมเดล tflite ใน Notebook นี้เลย ให้เราโหลด TFLite Intepreter ขึ้นมา แล้วสั่งให้ Allocate Tensors เพื่อใช้เหมือนเป็น Emulator"
      ]
    },
    {
      "cell_type": "code",
      "metadata": {
        "colab_type": "code",
        "id": "DOt94wIWF8m7",
        "colab": {}
      },
      "source": [
        "# Load TFLite model and allocate tensors.\n",
        "interpreter = tf.lite.Interpreter(model_content=tflite_model)\n",
        "interpreter.allocate_tensors()"
      ],
      "execution_count": 0,
      "outputs": []
    },
    {
      "cell_type": "markdown",
      "metadata": {
        "id": "7J-b2sfPWVLj",
        "colab_type": "text"
      },
      "source": [
        "ดึงข้อมูล Input และ Output ของ Intepreter / Model"
      ]
    },
    {
      "cell_type": "code",
      "metadata": {
        "id": "hKuYhSQPWT1e",
        "colab_type": "code",
        "colab": {}
      },
      "source": [
        "# Get input and output tensors.\n",
        "input_details = interpreter.get_input_details()\n",
        "output_details = interpreter.get_output_details()"
      ],
      "execution_count": 0,
      "outputs": []
    },
    {
      "cell_type": "markdown",
      "metadata": {
        "id": "MAaLeQYdWrbY",
        "colab_type": "text"
      },
      "source": [
        "เราจะวนลูป Random เรียก Intepreter 100 ครั้ง ด้วยค่า Input ต่าง ๆ ดูว่า Output จะเป็นอย่างไร"
      ]
    },
    {
      "cell_type": "code",
      "metadata": {
        "colab_type": "code",
        "id": "JGYkEK08F8qK",
        "colab": {}
      },
      "source": [
        "# Test the TensorFlow Lite model on random input data.\n",
        "input_shape = input_details[0]['shape']\n",
        "inputs, outputs = [], []\n",
        "for _ in range(100):\n",
        "    input_data = np.array(np.random.random_sample(input_shape), dtype=np.float32)\n",
        "    interpreter.set_tensor(input_details[0]['index'], input_data)\n",
        "    \n",
        "    interpreter.invoke()\n",
        "    tflite_results = interpreter.get_tensor(output_details[0]['index'])\n",
        "    \n",
        "    # Test the TensorFlow model on random input data.\n",
        "    tf_results = model(tf.constant(input_data))\n",
        "    output_data = np.array(tf_results)\n",
        "    \n",
        "    inputs.append(input_data[0][0])\n",
        "    outputs.append(output_data[0][0])"
      ],
      "execution_count": 0,
      "outputs": []
    },
    {
      "cell_type": "markdown",
      "metadata": {
        "colab_type": "text",
        "id": "t1gQGH1KWAgW"
      },
      "source": [
        "# 8. Visualize the Model"
      ]
    },
    {
      "cell_type": "markdown",
      "metadata": {
        "id": "3LAVH_-TXJC5",
        "colab_type": "text"
      },
      "source": [
        "นำ Output ที่ได้มาพล็อตกราฟ จะได้เส้นตรง y = 5x + 0"
      ]
    },
    {
      "cell_type": "code",
      "metadata": {
        "colab_type": "code",
        "id": "ccvQ1mEJVrqo",
        "colab": {
          "base_uri": "https://localhost:8080/",
          "height": 265
        },
        "outputId": "1d650d45-0d32-4600-9be4-62f05e0a25ad"
      },
      "source": [
        "%matplotlib inline\n",
        "\n",
        "plt.plot(inputs, outputs, 'r')\n",
        "plt.show()"
      ],
      "execution_count": 52,
      "outputs": [
        {
          "output_type": "display_data",
          "data": {
            "image/png": "[encoded data removed]",
            "text/plain": [
              "<Figure size 432x288 with 1 Axes>"
            ]
          },
          "metadata": {
            "tags": []
          }
        }
      ]
    },
    {
      "cell_type": "markdown",
      "metadata": {
        "colab_type": "text",
        "id": "WbugMH6yKvtd"
      },
      "source": [
        "# 9. Download the TFLite Model File\n"
      ]
    },
    {
      "cell_type": "markdown",
      "metadata": {
        "id": "dIYJUsA0XdH-",
        "colab_type": "text"
      },
      "source": [
        "ดาวน์โหลดไฟล์โมเดล เพื่อนำไปใส่ Edge Device ที่ต้องการ\n",
        "\n",
        "หมายเหตุ: เราอาจจะต้อง Run Cell นี้ 2-3 ครั้ง ถึงจะดาวน์โหลดได้"
      ]
    },
    {
      "cell_type": "code",
      "metadata": {
        "colab_type": "code",
        "id": "FOAIMETeJmkc",
        "colab": {}
      },
      "source": [
        "try:\n",
        "    from google.colab import files\n",
        "    files.download(tflite_model_file)\n",
        "except:\n",
        "    pass"
      ],
      "execution_count": 0,
      "outputs": []
    },
    {
      "cell_type": "markdown",
      "metadata": {
        "id": "Nk9vTZFMJBOZ",
        "colab_type": "text"
      },
      "source": [
        "# 10. Credit"
      ]
    },
    {
      "cell_type": "markdown",
      "metadata": {
        "id": "sithuUdrYI3E",
        "colab_type": "text"
      },
      "source": [
        "* https://www.coursera.org/learn/device-based-models-tensorflow/\n",
        "* https://github.com/lmoroney/dlaicourse/tree/master/TensorFlow%20Deployment"
      ]
    },
    {
      "cell_type": "code",
      "metadata": {
        "id": "bL6hzseoYJv0",
        "colab_type": "code",
        "colab": {}
      },
      "source": [
        ""
      ],
      "execution_count": 0,
      "outputs": []
    }
  ]
}