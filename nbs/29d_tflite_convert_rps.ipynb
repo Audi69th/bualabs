{
  "nbformat": 4,
  "nbformat_minor": 0,
  "metadata": {
    "accelerator": "GPU",
    "colab": {
      "name": "29d_tflite_convert_rps.ipynb",
      "provenance": [],
      "collapsed_sections": []
    },
    "kernelspec": {
      "name": "python3",
      "display_name": "Python 3"
    },
    "language_info": {
      "codemirror_mode": {
        "name": "ipython",
        "version": 3
      },
      "file_extension": ".py",
      "mimetype": "text/x-python",
      "name": "python",
      "nbconvert_exporter": "python",
      "pygments_lexer": "ipython3",
      "version": "3.7.4"
    }
  },
  "cells": [
    {
      "cell_type": "markdown",
      "metadata": {
        "colab_type": "text",
        "id": "Za8-Nr5k11fh"
      },
      "source": [
        "##### Copyright 2018 The TensorFlow Authors."
      ]
    },
    {
      "cell_type": "code",
      "metadata": {
        "cellView": "form",
        "colab_type": "code",
        "id": "Eq10uEbw0E4l",
        "colab": {}
      },
      "source": [
        "#@title Licensed under the Apache License, Version 2.0 (the \"License\");\n",
        "# you may not use this file except in compliance with the License.\n",
        "# You may obtain a copy of the License at\n",
        "#\n",
        "# https://www.apache.org/licenses/LICENSE-2.0\n",
        "#\n",
        "# Unless required by applicable law or agreed to in writing, software\n",
        "# distributed under the License is distributed on an \"AS IS\" BASIS,\n",
        "# WITHOUT WARRANTIES OR CONDITIONS OF ANY KIND, either express or implied.\n",
        "# See the License for the specific language governing permissions and\n",
        "# limitations under the License."
      ],
      "execution_count": 0,
      "outputs": []
    },
    {
      "cell_type": "markdown",
      "metadata": {
        "colab_type": "text",
        "id": "W-VhTkyTGcaQ"
      },
      "source": [
        "# 0. Setup"
      ]
    },
    {
      "cell_type": "markdown",
      "metadata": {
        "id": "DiTXP4wJcRrQ",
        "colab_type": "text"
      },
      "source": [
        "Uninstall TensorFlow เวอร์ชันที่อยู่ใน Colab, Install Version nightly แล้ว Restart Runtime"
      ]
    },
    {
      "cell_type": "code",
      "metadata": {
        "id": "LnsZ8u9Pbwla",
        "colab_type": "code",
        "colab": {}
      },
      "source": [
        "# !pip3 uninstall tensorflow\n",
        "# !pip3 install tf-nightly"
      ],
      "execution_count": 0,
      "outputs": []
    },
    {
      "cell_type": "markdown",
      "metadata": {
        "id": "6uhOvL70Tiqd",
        "colab_type": "text"
      },
      "source": [
        "ใน ep นี้ เราจะใช้ TensorFlow 2 ด้วยคำสั่ง Magic %tensorflow_version 2.x (สำหรับ Google Colab)"
      ]
    },
    {
      "cell_type": "code",
      "metadata": {
        "colab_type": "code",
        "id": "Ll4ii2J9Fea_",
        "colab": {}
      },
      "source": [
        "try:\n",
        "    %tensorflow_version 2.x\n",
        "except:\n",
        "    pass"
      ],
      "execution_count": 0,
      "outputs": []
    },
    {
      "cell_type": "markdown",
      "metadata": {
        "id": "lB6YwP2-Jviz",
        "colab_type": "text"
      },
      "source": [
        "# 1. Import "
      ]
    },
    {
      "cell_type": "markdown",
      "metadata": {
        "id": "qW_93kLr4L1o",
        "colab_type": "text"
      },
      "source": [
        "## 1.1 Import Library"
      ]
    },
    {
      "cell_type": "markdown",
      "metadata": {
        "id": "zMc2_LFYJyHC",
        "colab_type": "text"
      },
      "source": [
        "Import Library ที่เกี่ยวข้อง และ Print เลข Version"
      ]
    },
    {
      "cell_type": "code",
      "metadata": {
        "colab_type": "code",
        "id": "dlauq-4FWGZM",
        "outputId": "59cb04cb-fb44-4a78-ed23-d7079271854c",
        "colab": {
          "base_uri": "https://localhost:8080/",
          "height": 68
        }
      },
      "source": [
        "import numpy as np\n",
        "import matplotlib.pylab as plt\n",
        "\n",
        "import tensorflow as tf\n",
        "import tensorflow_hub as hub\n",
        "import tensorflow_datasets as tfds\n",
        "tfds.disable_progress_bar()\n",
        "\n",
        "from tqdm import tqdm\n",
        "\n",
        "print(\"\\u2022 Using TensorFlow Version:\", tf.__version__)\n",
        "print(\"\\u2022 Using TensorFlow Hub Version: \", hub.__version__)\n",
        "# print('\\u2022 GPU Device Found.' if tf.test.is_gpu_available() else '\\u2022 GPU Device Not Found. Running on CPU')\n",
        "tf.config.list_physical_devices('GPU')"
      ],
      "execution_count": 0,
      "outputs": [
        {
          "output_type": "stream",
          "text": [
            "• Using TensorFlow Version: 2.1.0-rc1\n",
            "• Using TensorFlow Hub Version:  0.7.0\n"
          ],
          "name": "stdout"
        },
        {
          "output_type": "execute_result",
          "data": {
            "text/plain": [
              "[PhysicalDevice(name='/physical_device:GPU:0', device_type='GPU')]"
            ]
          },
          "metadata": {
            "tags": []
          },
          "execution_count": 3
        }
      ]
    },
    {
      "cell_type": "markdown",
      "metadata": {
        "id": "WwWwNEnR4I5z",
        "colab_type": "text"
      },
      "source": [
        "## 1.2 เลือกโมดูล"
      ]
    },
    {
      "cell_type": "markdown",
      "metadata": {
        "id": "AjOJUaXw4-C4",
        "colab_type": "text"
      },
      "source": [
        "เลือกโมดูล TensorFlow 2 ที่ต้องการจาก TensorFlow Hub"
      ]
    },
    {
      "cell_type": "code",
      "metadata": {
        "colab_type": "code",
        "id": "FlsEcKVeuCnf",
        "outputId": "d6067638-23a1-45ba-8078-7985b93d7436",
        "colab": {
          "base_uri": "https://localhost:8080/",
          "height": 34
        }
      },
      "source": [
        "module_selection = (\"inception_v3\", 299, 2048) #@param [\"(\\\"mobilenet_v2\\\", 224, 1280)\", \"(\\\"inception_v3\\\", 299, 2048)\"] {type:\"raw\", allow-input: true}\n",
        "handle_base, pixels, FV_SIZE = module_selection\n",
        "MODULE_HANDLE =\"https://tfhub.dev/google/tf2-preview/{}/feature_vector/4\".format(handle_base)\n",
        "IMAGE_SIZE = (pixels, pixels)\n",
        "print(\"Using {} with input size {} and output dimension {}\".format(MODULE_HANDLE, IMAGE_SIZE, FV_SIZE))"
      ],
      "execution_count": 0,
      "outputs": [
        {
          "output_type": "stream",
          "text": [
            "Using https://tfhub.dev/google/tf2-preview/inception_v3/feature_vector/4 with input size (299, 299) and output dimension 2048\n"
          ],
          "name": "stdout"
        }
      ]
    },
    {
      "cell_type": "markdown",
      "metadata": {
        "id": "lGReYvVe4DkP",
        "colab_type": "text"
      },
      "source": [
        "# 2. Dataset"
      ]
    },
    {
      "cell_type": "markdown",
      "metadata": {
        "colab_type": "text",
        "id": "-bd_o7OPsCmT"
      },
      "source": [
        "## 2.1 Split Data to Training / Validation / Test Set"
      ]
    },
    {
      "cell_type": "markdown",
      "metadata": {
        "id": "ygkH90J66A2E",
        "colab_type": "text"
      },
      "source": [
        "เราจะใช้ TensorFlow Dataset `tfds` โหลดชุดข้อมูล เป่ายิ้งฉุบ Rock Paper Scissors Dataset ขึ้นมา แล้ว [Split Training / Validation / Test Set](https://www.bualabs.com/archives/532/what-is-training-set-why-train-test-split-training-set-validation-set-test-set/) ด้วยสัดส่วน 80/10/10"
      ]
    },
    {
      "cell_type": "code",
      "metadata": {
        "colab_type": "code",
        "id": "SQ9xK9F2wGD8",
        "outputId": "327e37e4-c694-4073-fc53-eaf3af428a13",
        "colab": {
          "base_uri": "https://localhost:8080/",
          "height": 34
        }
      },
      "source": [
        "splits = tfds.Split.ALL.subsplit(weighted=(80, 10, 10))\n",
        "\n",
        "# Go to the TensorFlow Dataset's website and search for the Rock, Paper, Scissors dataset and load it here\n",
        "splits, info = tfds.load('rock_paper_scissors', with_info=True, as_supervised=True, split = splits)\n",
        "\n",
        "(train_examples, validation_examples, test_examples) = splits\n",
        "\n",
        "num_examples = info.splits['train'].num_examples\n",
        "num_classes = info.features['label'].num_classes\n",
        "\n",
        "num_examples, num_classes"
      ],
      "execution_count": 0,
      "outputs": [
        {
          "output_type": "execute_result",
          "data": {
            "text/plain": [
              "(2520, 3)"
            ]
          },
          "metadata": {
            "tags": []
          },
          "execution_count": 148
        }
      ]
    },
    {
      "cell_type": "markdown",
      "metadata": {
        "id": "I6IMXc8fJ59W",
        "colab_type": "text"
      },
      "source": [
        "จะได้ [Dataset](https://www.bualabs.com/archives/1994/dataset-dataloader-feed-data-x-y-batch-to-neural-network-refactor-training-loop-neural-network-ep-5/) ที่มีข้อมูล 2520 ตัวอย่าง มี 3 Class"
      ]
    },
    {
      "cell_type": "markdown",
      "metadata": {
        "id": "9ShtAHGWKL_2",
        "colab_type": "text"
      },
      "source": [
        "## 2.2 Transform"
      ]
    },
    {
      "cell_type": "markdown",
      "metadata": {
        "id": "LVYTJ9hqK1-M",
        "colab_type": "text"
      },
      "source": [
        "ประกาศฟังก์ชัน ใช้ `tf.image` เพื่อแปลงรูปใน Dataset ให้อยู่ในรูปแบบที่โมเดลต้องการ ในที่นี้คือ Resize เป็นขนาดที่กำหนด และ Rescale ค่าสี จาก 0-255 หาร 255 ให้เป็น Float 0-1"
      ]
    },
    {
      "cell_type": "code",
      "metadata": {
        "colab_type": "code",
        "id": "y7UyXblSwkUS",
        "colab": {}
      },
      "source": [
        "def format_image(image, label):\n",
        "    image = tf.image.resize(image, IMAGE_SIZE) / 255.0\n",
        "    return  image, label"
      ],
      "execution_count": 0,
      "outputs": []
    },
    {
      "cell_type": "markdown",
      "metadata": {
        "id": "9hzQJRx2LYPx",
        "colab_type": "text"
      },
      "source": [
        "กำหนดขนาด [Batch Size](https://www.bualabs.com/archives/729/what-is-batch-size-in-deep-neural-networks-how-to-adjust-machine-learning-model-accuracy-deep-learning-hyperparameter-tuning-ep-2/) ให้ [DataLoader](https://www.bualabs.com/archives/1994/dataset-dataloader-feed-data-x-y-batch-to-neural-network-refactor-training-loop-neural-network-ep-5/)"
      ]
    },
    {
      "cell_type": "code",
      "metadata": {
        "colab_type": "code",
        "id": "zAEUG7vawxLm",
        "colab": {}
      },
      "source": [
        "BATCH_SIZE = 32 #@param {type:\"integer\"}"
      ],
      "execution_count": 0,
      "outputs": []
    },
    {
      "cell_type": "markdown",
      "metadata": {
        "id": "v29qFPUVLc3P",
        "colab_type": "text"
      },
      "source": [
        "[Shuffle สับไพ่ข้อมูล](https://www.bualabs.com/archives/2054/dataloader-random-sampler-collate-feedforward-train-machine-learning-neural-network-ep-7/) และแบ่งข้อมูลเป็น Batch ตาม Batch Size ที่กำหนดด้านบน"
      ]
    },
    {
      "cell_type": "code",
      "metadata": {
        "colab_type": "code",
        "id": "fHEC9mbswxvM",
        "colab": {}
      },
      "source": [
        "# Prepare the examples by preprocessing the them and then batching them (and optionally prefetching them)\n",
        "\n",
        "train_batches = train_examples.shuffle(num_examples//4).batch(BATCH_SIZE).map(format_image).prefetch(1)\n",
        "\n",
        "validation_batches = validation_examples.batch(BATCH_SIZE).map(format_image).prefetch(1)\n",
        "\n",
        "test_batches = test_examples.batch(1).map(format_image)"
      ],
      "execution_count": 0,
      "outputs": []
    },
    {
      "cell_type": "markdown",
      "metadata": {
        "colab_type": "text",
        "id": "hTXhmKN2uiLf"
      },
      "source": [
        "ดู shape ของข้อมูล 1 Batch จะได้ Batch Size = 32, Wigth = 299, Height = 299, Channels = 3"
      ]
    },
    {
      "cell_type": "code",
      "metadata": {
        "colab_type": "code",
        "id": "gz0xsMCjwx54",
        "outputId": "ad47062a-3a91-456c-d954-7b9712b6e65b",
        "colab": {
          "base_uri": "https://localhost:8080/",
          "height": 34
        }
      },
      "source": [
        "for image_batch, label_batch in train_batches.take(1):\n",
        "    pass\n",
        "\n",
        "image_batch.shape"
      ],
      "execution_count": 0,
      "outputs": [
        {
          "output_type": "execute_result",
          "data": {
            "text/plain": [
              "TensorShape([32, 299, 299, 3])"
            ]
          },
          "metadata": {
            "tags": []
          },
          "execution_count": 152
        }
      ]
    },
    {
      "cell_type": "markdown",
      "metadata": {
        "id": "JX_P1X_Ruryj",
        "colab_type": "text"
      },
      "source": [
        "ดูรูปตัวอย่าง"
      ]
    },
    {
      "cell_type": "code",
      "metadata": {
        "id": "EvLVW3ktcNQp",
        "colab_type": "code",
        "outputId": "ebd14698-0927-474c-c7a0-cfe7c06e9d44",
        "colab": {
          "base_uri": "https://localhost:8080/",
          "height": 197
        }
      },
      "source": [
        "fig, axs = plt.subplots(1, 4, figsize=(12, 3))\n",
        "for i in range(4):\n",
        "    axs[i].imshow(image_batch[i])\n",
        "\n",
        "plt.show()"
      ],
      "execution_count": 0,
      "outputs": [
        {
          "output_type": "display_data",
          "data": {
            "image/png": "[encoded data removed]",
            "text/plain": [
              "<Figure size 864x216 with 4 Axes>"
            ]
          },
          "metadata": {
            "tags": []
          }
        }
      ]
    },
    {
      "cell_type": "markdown",
      "metadata": {
        "id": "nyykgAR_OIlO",
        "colab_type": "text"
      },
      "source": [
        "# 3. Model"
      ]
    },
    {
      "cell_type": "markdown",
      "metadata": {
        "id": "sBdZFh5eOPbS",
        "colab_type": "text"
      },
      "source": [
        "เราทำ [Transfer Learning](https://www.bualabs.com/archives/3493/what-is-transfer-learning-build-headless-mobilenet-model-transfer-learning-machine-learning-mobilenet-json-retrain-webcam-tensorflow-js-tfjs-ep-10/) ด้วยการสร้าง 1 Dense Layer จาก Linear Classifier เป็น Head ต่อจาก feature_extractor_layer ของโมเดลที่โหลดมาจาก TensorFlow Hub"
      ]
    },
    {
      "cell_type": "markdown",
      "metadata": {
        "id": "jrqo4AYeTpl3",
        "colab_type": "text"
      },
      "source": [
        "## 3.1 Fine-Tuning"
      ]
    },
    {
      "cell_type": "markdown",
      "metadata": {
        "id": "g-IUERt6RWNo",
        "colab_type": "text"
      },
      "source": [
        "เราสามารถกำหนดได้ว่า จะเทรน Fune-Tuning ทั้งโมเดลเลยหรือไม่ เพื่อเพิ่มความแม่นยำ หรือเทรนแค่ Head Layer สุดท้ายที่สร้างใหม่ก็พอ เพื่อประหยัดเวลา"
      ]
    },
    {
      "cell_type": "code",
      "metadata": {
        "cellView": "form",
        "colab_type": "code",
        "id": "RaJW3XrPyFiF",
        "colab": {}
      },
      "source": [
        "do_fine_tuning = False #@param {type:\"boolean\"}"
      ],
      "execution_count": 0,
      "outputs": []
    },
    {
      "cell_type": "markdown",
      "metadata": {
        "id": "P_kLDbpLTuhn",
        "colab_type": "text"
      },
      "source": [
        "## 3.2 Pre-trained Model"
      ]
    },
    {
      "cell_type": "markdown",
      "metadata": {
        "id": "jSDNUiRDRxvv",
        "colab_type": "text"
      },
      "source": [
        "ใช้ TensorFlow Hub โหลดโมเดล Pre-trained ที่เลือกด้านบนขึ้นมา กำหนด Hyperparameter ของโมเดล เช่น Input / Output Shape, Freeze โมเดลหรือไม่"
      ]
    },
    {
      "cell_type": "code",
      "metadata": {
        "id": "sogKNMovYHLc",
        "colab_type": "code",
        "colab": {}
      },
      "source": [
        "feature_extractor = hub.KerasLayer(MODULE_HANDLE,\n",
        "                                   input_shape=IMAGE_SIZE + (3,), \n",
        "                                   output_shape=[FV_SIZE],\n",
        "                                   trainable=do_fine_tuning)"
      ],
      "execution_count": 0,
      "outputs": []
    },
    {
      "cell_type": "markdown",
      "metadata": {
        "id": "1gs9DwMsTyXE",
        "colab_type": "text"
      },
      "source": [
        "## 3.3 Pre-trained Feature Extractor + Custom Head"
      ]
    },
    {
      "cell_type": "markdown",
      "metadata": {
        "id": "vMdNUbfnSdfN",
        "colab_type": "text"
      },
      "source": [
        "สร้าง Head ด้วย 1 [Dense Layer](https://www.bualabs.com/archives/1763/what-is-neural-network-how-neural-network-work-build-deep-neural-network-from-scratch-neural-network-ep-1/) ที่มี [Activation Function](https://www.bualabs.com/archives/1261/what-is-activation-function-what-is-sigmoid-function-activation-function-ep-1/) เป็น [Softmax](https://www.bualabs.com/archives/1819/what-is-softmax-function-how-to-use-softmax-function-benefit-of-softmax/) และใส่ Dropout คั้นไว้จะได้ไม่ Overfit"
      ]
    },
    {
      "cell_type": "code",
      "metadata": {
        "id": "q3j-NYUmwDk3",
        "colab_type": "code",
        "colab": {}
      },
      "source": [
        "print(\"Building model with\", MODULE_HANDLE)\n",
        "\n",
        "model = tf.keras.Sequential([\n",
        "        feature_extractor,\n",
        "        tf.keras.layers.Dropout(0.5), \n",
        "        tf.keras.layers.Dense(num_classes, activation='softmax')\n",
        "])"
      ],
      "execution_count": 0,
      "outputs": []
    },
    {
      "cell_type": "markdown",
      "metadata": {
        "id": "wtZHkfBfTIWl",
        "colab_type": "text"
      },
      "source": [
        "ดู [Model Architecture](https://www.bualabs.com/archives/2703/how-to-read-model-convolutional-neural-network-shape-activation-map-model-architecture-convnet-ep-7/)"
      ]
    },
    {
      "cell_type": "code",
      "metadata": {
        "id": "M6-Ln84VYHLj",
        "colab_type": "code",
        "outputId": "6a6361a8-50f7-4788-f902-7b4d69faf6b2",
        "colab": {
          "base_uri": "https://localhost:8080/",
          "height": 272
        }
      },
      "source": [
        "model.summary()"
      ],
      "execution_count": 0,
      "outputs": [
        {
          "output_type": "stream",
          "text": [
            "Building model with https://tfhub.dev/google/tf2-preview/inception_v3/feature_vector/4\n",
            "Model: \"sequential_3\"\n",
            "_________________________________________________________________\n",
            "Layer (type)                 Output Shape              Param #   \n",
            "=================================================================\n",
            "keras_layer_3 (KerasLayer)   (None, 2048)              21802784  \n",
            "_________________________________________________________________\n",
            "dropout_3 (Dropout)          (None, 2048)              0         \n",
            "_________________________________________________________________\n",
            "dense_3 (Dense)              (None, 3)                 6147      \n",
            "=================================================================\n",
            "Total params: 21,808,931\n",
            "Trainable params: 6,147\n",
            "Non-trainable params: 21,802,784\n",
            "_________________________________________________________________\n"
          ],
          "name": "stdout"
        }
      ]
    },
    {
      "cell_type": "markdown",
      "metadata": {
        "id": "Fb1QK2ArT80L",
        "colab_type": "text"
      },
      "source": [
        "## 3.4 Unfreeze Layers"
      ]
    },
    {
      "cell_type": "markdown",
      "metadata": {
        "id": "4FM23m8YTUc7",
        "colab_type": "text"
      },
      "source": [
        "ในกรณีต้องการ Fine-Tuning เราสามารถเลือกได้ว่าจะ Unfreeze ถึง Layer ไหน เพื่อเทรนจาก Layer ท้ายสุดมาหน้า"
      ]
    },
    {
      "cell_type": "code",
      "metadata": {
        "id": "M0jVDEWwYHLo",
        "colab_type": "code",
        "colab": {}
      },
      "source": [
        "#@title (Optional) Unfreeze some layers\n",
        "NUM_LAYERS = 4 #@param {type:\"slider\", min:1, max:50, step:1}\n",
        "      \n",
        "if do_fine_tuning:\n",
        "    feature_extractor.trainable = True\n",
        "    \n",
        "    for layer in model.layers[-NUM_LAYERS:]:\n",
        "        layer.trainable = True\n",
        "\n",
        "else:\n",
        "    feature_extractor.trainable = False"
      ],
      "execution_count": 0,
      "outputs": []
    },
    {
      "cell_type": "markdown",
      "metadata": {
        "id": "_rHpyCJsZNBY",
        "colab_type": "text"
      },
      "source": [
        "## 3.5 Compile Model"
      ]
    },
    {
      "cell_type": "markdown",
      "metadata": {
        "id": "k-BpfvPYUEDO",
        "colab_type": "text"
      },
      "source": [
        "ในเคสนี้ ถ้า Fine-Tuning เราจะใช้ [SGD](https://www.bualabs.com/archives/1619/linear-regression-sgd-stochastic-gradient-descent-machine-learning-basic-neural-networks-optimization-ep-2/) ส่วนถ้าไม่ เราจะใช้ Adam [Optimizer](https://www.bualabs.com/archives/2042/refactor-parameter-optimizer-neural-network-train-deep-learning-machine-learning-neural-network-ep-6/)"
      ]
    },
    {
      "cell_type": "code",
      "metadata": {
        "colab_type": "code",
        "id": "9f3yBUvkd_VJ",
        "colab": {}
      },
      "source": [
        "if do_fine_tuning:\n",
        "    model.compile(optimizer=tf.keras.optimizers.SGD(lr=0.002, momentum=0.9),\n",
        "                  loss=tf.keras.losses.SparseCategoricalCrossentropy(),\n",
        "                  metrics=['accuracy'])\n",
        "else:\n",
        "    model.compile(optimizer='adam',\n",
        "                  loss='sparse_categorical_crossentropy',\n",
        "                  metrics=['accuracy'])"
      ],
      "execution_count": 0,
      "outputs": []
    },
    {
      "cell_type": "markdown",
      "metadata": {
        "colab_type": "text",
        "id": "u2e5WupIw2N2"
      },
      "source": [
        "# 4. Training the Model"
      ]
    },
    {
      "cell_type": "markdown",
      "metadata": {
        "id": "4MMlkVW2UfBf",
        "colab_type": "text"
      },
      "source": [
        "เทรนไป 5 Epoch"
      ]
    },
    {
      "cell_type": "code",
      "metadata": {
        "colab_type": "code",
        "id": "w_YKX2Qnfg6x",
        "outputId": "af733a4f-ee87-47c4-f088-fa7aef027bea",
        "colab": {
          "base_uri": "https://localhost:8080/",
          "height": 187
        }
      },
      "source": [
        "EPOCHS = 5\n",
        "\n",
        "hist = model.fit(train_batches,\n",
        "                 epochs=EPOCHS,\n",
        "                 validation_data=validation_batches)"
      ],
      "execution_count": 0,
      "outputs": [
        {
          "output_type": "stream",
          "text": [
            "Epoch 1/5\n",
            "73/73 [==============================] - 18s 248ms/step - loss: 0.6178 - accuracy: 0.7346 - val_loss: 0.2693 - val_accuracy: 0.9429\n",
            "Epoch 2/5\n",
            "73/73 [==============================] - 14s 186ms/step - loss: 0.2395 - accuracy: 0.9327 - val_loss: 0.1605 - val_accuracy: 0.9750\n",
            "Epoch 3/5\n",
            "73/73 [==============================] - 13s 183ms/step - loss: 0.1639 - accuracy: 0.9537 - val_loss: 0.1099 - val_accuracy: 0.9857\n",
            "Epoch 4/5\n",
            "73/73 [==============================] - 13s 181ms/step - loss: 0.1163 - accuracy: 0.9756 - val_loss: 0.0812 - val_accuracy: 0.9929\n",
            "Epoch 5/5\n",
            "73/73 [==============================] - 14s 187ms/step - loss: 0.0955 - accuracy: 0.9756 - val_loss: 0.0674 - val_accuracy: 0.9929\n"
          ],
          "name": "stdout"
        }
      ]
    },
    {
      "cell_type": "markdown",
      "metadata": {
        "colab_type": "text",
        "id": "JDaHzHX3wUNL"
      },
      "source": [
        "# 5. Export the Model"
      ]
    },
    {
      "cell_type": "markdown",
      "metadata": {
        "id": "wplyt6roZUQk",
        "colab_type": "text"
      },
      "source": [
        "Export โมเดลที่เทรนเสร็จเรียบร้อยแล้ว ในรูปแบบ ไฟล์ SavedModel Format"
      ]
    },
    {
      "cell_type": "code",
      "metadata": {
        "colab_type": "code",
        "id": "XaSb5nVzHcVv",
        "colab": {}
      },
      "source": [
        "RPS_SAVED_MODEL = \"rps_saved_model\""
      ],
      "execution_count": 0,
      "outputs": []
    },
    {
      "cell_type": "code",
      "metadata": {
        "colab_type": "code",
        "id": "yJMue5YgnwtN",
        "outputId": "8aeea227-700f-43ab-8574-a7759c867802",
        "colab": {
          "base_uri": "https://localhost:8080/",
          "height": 51
        }
      },
      "source": [
        "# Use TensorFlow's SavedModel API to export the SavedModel from the trained Keras model\n",
        "\n",
        "tf.saved_model.save(model, export_dir=RPS_SAVED_MODEL)"
      ],
      "execution_count": 0,
      "outputs": [
        {
          "output_type": "stream",
          "text": [
            "INFO:tensorflow:Assets written to: rps_saved_model/assets\n"
          ],
          "name": "stdout"
        },
        {
          "output_type": "stream",
          "text": [
            "INFO:tensorflow:Assets written to: rps_saved_model/assets\n"
          ],
          "name": "stderr"
        }
      ]
    },
    {
      "cell_type": "markdown",
      "metadata": {
        "id": "CSeBuCHtZjaQ",
        "colab_type": "text"
      },
      "source": [
        "ดูรายละเอียดของโมเดล ในไฟล์ SavedModel"
      ]
    },
    {
      "cell_type": "code",
      "metadata": {
        "colab_type": "code",
        "id": "SOQF4cOan0SY",
        "outputId": "bfd63fdb-9b8a-4392-fc5e-6cdcf4844aa9",
        "colab": {
          "base_uri": "https://localhost:8080/",
          "height": 204
        }
      },
      "source": [
        "%%bash -s $RPS_SAVED_MODEL\n",
        "saved_model_cli show --dir $1 --tag_set serve --signature_def serving_default"
      ],
      "execution_count": 0,
      "outputs": [
        {
          "output_type": "stream",
          "text": [
            "The given SavedModel SignatureDef contains the following input(s):\n",
            "  inputs['keras_layer_3_input'] tensor_info:\n",
            "      dtype: DT_FLOAT\n",
            "      shape: (-1, 299, 299, 3)\n",
            "      name: serving_default_keras_layer_3_input:0\n",
            "The given SavedModel SignatureDef contains the following output(s):\n",
            "  outputs['dense_3'] tensor_info:\n",
            "      dtype: DT_FLOAT\n",
            "      shape: (-1, 3)\n",
            "      name: StatefulPartitionedCall:0\n",
            "Method name is: tensorflow/serving/predict\n"
          ],
          "name": "stdout"
        }
      ]
    },
    {
      "cell_type": "markdown",
      "metadata": {
        "id": "AiQDQD6gZrlc",
        "colab_type": "text"
      },
      "source": [
        "ลองโหลดโมเดลขึ้นมาดู"
      ]
    },
    {
      "cell_type": "code",
      "metadata": {
        "colab_type": "code",
        "id": "FY7QGBgBytwX",
        "colab": {}
      },
      "source": [
        "loaded = tf.saved_model.load(RPS_SAVED_MODEL)"
      ],
      "execution_count": 0,
      "outputs": []
    },
    {
      "cell_type": "markdown",
      "metadata": {
        "id": "91kbumPLZuet",
        "colab_type": "text"
      },
      "source": [
        "ดู Signature Input / Output Shape"
      ]
    },
    {
      "cell_type": "code",
      "metadata": {
        "colab_type": "code",
        "id": "tIhPyMISz952",
        "outputId": "bf2f2ebf-ecf6-47ef-8a12-04b2d7ff6032",
        "colab": {
          "base_uri": "https://localhost:8080/",
          "height": 68
        }
      },
      "source": [
        "print(list(loaded.signatures.keys()))\n",
        "infer = loaded.signatures[\"serving_default\"]\n",
        "print(infer.structured_input_signature)\n",
        "print(infer.structured_outputs)"
      ],
      "execution_count": 0,
      "outputs": [
        {
          "output_type": "stream",
          "text": [
            "['serving_default']\n",
            "((), {'keras_layer_3_input': TensorSpec(shape=(None, 299, 299, 3), dtype=tf.float32, name='keras_layer_3_input')})\n",
            "{'dense_3': TensorSpec(shape=(None, 3), dtype=tf.float32, name='dense_3')}\n"
          ],
          "name": "stdout"
        }
      ]
    },
    {
      "cell_type": "markdown",
      "metadata": {
        "colab_type": "text",
        "id": "HcCwtQYPxJvG"
      },
      "source": [
        "# 6. Convert ไฟล์โมเดลด้วย TFLite Converter"
      ]
    },
    {
      "cell_type": "markdown",
      "metadata": {
        "id": "iHgJofgVaGR7",
        "colab_type": "text"
      },
      "source": [
        "ใช้ TFLiteConverter โหลดไฟล์โมเดล SavedModel ที่เรา Export ไว้ด้านบน"
      ]
    },
    {
      "cell_type": "markdown",
      "metadata": {
        "id": "ucJzgdYzjxsC",
        "colab_type": "text"
      },
      "source": [
        "เราจะ Optimize โมเดล ด้วยการทำ Post-Training Quantization ลดจำนวน Bit ของ Parameter ในโมเดลลง เพื่อให้โมเดลมีขนาดเล็กลง และทำงานได้เร็วขึ้น จะอธิบายต่อไป ในเรื่อง [Quantization](https://www.bualabs.com/archives/3573/what-is-quantization-benefits-of-quantization-deep-neural-network-tflite-ep-2/)\n",
        "\n",
        "เราสามารถเลือกได้ว่า จะให้ Optimize เพื่อ Latency, Size หรือ ทั้งสองอย่าง (Default)"
      ]
    },
    {
      "cell_type": "markdown",
      "metadata": {
        "id": "GeC8_x6WGDKh",
        "colab_type": "text"
      },
      "source": [
        "## 6.1 TensorFlow v1"
      ]
    },
    {
      "cell_type": "code",
      "metadata": {
        "id": "CO3dUyVbGBHp",
        "colab_type": "code",
        "colab": {}
      },
      "source": [
        "# converter = tf.compat.v1.lite.TFLiteConverter.from_saved_model(RPS_SAVED_MODEL)\n",
        "# converter.inference_type = tf.lite.constants.QUANTIZED_UINT8\n",
        "# input_arrays = converter.get_input_arrays()\n",
        "# converter.quantized_input_stats = {input_arrays[0] : (0., 1.)}  # mean, std_dev\n",
        "# tflite_model = converter.convert()"
      ],
      "execution_count": 0,
      "outputs": []
    },
    {
      "cell_type": "markdown",
      "metadata": {
        "id": "o_bQfNJAGB6Y",
        "colab_type": "text"
      },
      "source": [
        "## 6.2 TensorFlow v2"
      ]
    },
    {
      "cell_type": "code",
      "metadata": {
        "colab_type": "code",
        "id": "WmSr2-yZoUhz",
        "colab": {}
      },
      "source": [
        "# Intialize the TFLite converter to load the SavedModel\n",
        "converter = tf.lite.TFLiteConverter.from_saved_model(RPS_SAVED_MODEL)\n",
        "converter.experimental_new_converter = True\n",
        "\n",
        "# Set the optimization strategy for 'size' in the converter \n",
        "# converter.optimizations = [tf.lite.Optimize.OPTIMIZE_FOR_SIZE]\n",
        "converter.optimizations = [tf.lite.Optimize.DEFAULT]"
      ],
      "execution_count": 0,
      "outputs": []
    },
    {
      "cell_type": "markdown",
      "metadata": {
        "id": "OqrddxK3lhdL",
        "colab_type": "text"
      },
      "source": [
        "นอกเหนือจาก Parameter เราสามารถ Quantize ข้อมูล และ Activation ได้อีก โดยการให้ชุดข้อมูลตัวอย่าง รันผ่านโมเดล เพื่อเก็บสถิติ Representative Dataset วัด Dynamic Range ของข้อมูล และ Activation สร้าง Input Data Generator เพื่อส่งให้กับ Converter ใช้ในการทำ Post-Training Integer Quantization ต่อไป"
      ]
    },
    {
      "cell_type": "code",
      "metadata": {
        "id": "W5ble7FdXi1Q",
        "colab_type": "code",
        "colab": {}
      },
      "source": [
        "## Still not working. Wait for TF team to fix bug in tflite converter\n",
        "## Post-training integer quantization \n",
        "\n",
        "# converter.target_spec.supported_ops = [tf.lite.OpsSet.TFLITE_BUILTINS_INT8]\n",
        "# converter.inference_input_type = tf.uint8\n",
        "# converter.inference_output_type = tf.uint8\n",
        "\n",
        "# def representative_data_gen():\n",
        "#     for image_batch, label_batch in train_batches.take(1):\n",
        "#         yield [[image_batch[0]]]\n",
        "\n",
        "# converter.representative_dataset = representative_data_gen"
      ],
      "execution_count": 0,
      "outputs": []
    },
    {
      "cell_type": "markdown",
      "metadata": {
        "id": "1hmz-hT3m8sL",
        "colab_type": "text"
      },
      "source": [
        "โมเดลที่แปลงแล้ว จะยังรับ Input / Output เป็น Float เหมือนเดิมเพื่อความสะดวก จะได้ไม่ต้องแก้โปรแกรม\n",
        "\n",
        "และ ในโมเดล ถ้า Ops ไหน ที่ไม่มี Quantized Implementation ก็จะใช้เป็น Floating Point Implementation เหมือนเดิม แบบนี้จะทำให้การ Convert โมเดลทำได้อย่างราบรื่น แต่ก็จะจำกัดให้รันได้เฉพาะ Hardware ที่รองรับ Floating Point"
      ]
    },
    {
      "cell_type": "markdown",
      "metadata": {
        "id": "nLy_D1GAGPvT",
        "colab_type": "text"
      },
      "source": [
        "## 6.3 Convert โมเดลเป็น ไฟล์ FlatBuffer .tflite"
      ]
    },
    {
      "cell_type": "markdown",
      "metadata": {
        "id": "wv3YmoFJoTBk",
        "colab_type": "text"
      },
      "source": [
        "Convert โมเดลเป็นไฟล์ tflite แล้ว Save ลง Disk"
      ]
    },
    {
      "cell_type": "code",
      "metadata": {
        "id": "j_qYz9j9bo1I",
        "colab_type": "code",
        "colab": {}
      },
      "source": [
        "# Use the tool to finally convert the model\n",
        "tflite_model = converter.convert()"
      ],
      "execution_count": 0,
      "outputs": []
    },
    {
      "cell_type": "code",
      "metadata": {
        "id": "V195WE8JYHMq",
        "colab_type": "code",
        "colab": {}
      },
      "source": [
        "tflite_model_file = 'converted_model.tflite'"
      ],
      "execution_count": 0,
      "outputs": []
    },
    {
      "cell_type": "code",
      "metadata": {
        "id": "mWFt0dHfIWMF",
        "colab_type": "code",
        "colab": {}
      },
      "source": [
        "with open(tflite_model_file, \"wb\") as f:\n",
        "    f.write(tflite_model)"
      ],
      "execution_count": 0,
      "outputs": []
    },
    {
      "cell_type": "markdown",
      "metadata": {
        "id": "XL1S-Xv4ocUk",
        "colab_type": "text"
      },
      "source": [
        "# 7. Test ไฟล์ tflite ด้วย TFLite Intepreter"
      ]
    },
    {
      "cell_type": "markdown",
      "metadata": {
        "id": "Zi_JDkdJolEb",
        "colab_type": "text"
      },
      "source": [
        "ใช้ TFLite Intepreter โหลดไฟล์ tflite ขึ้นมา"
      ]
    },
    {
      "cell_type": "code",
      "metadata": {
        "colab_type": "code",
        "id": "dg2NkVTmLUdJ",
        "colab": {}
      },
      "source": [
        "# Load TFLite model and allocate tensors.\n",
        "with open(tflite_model_file, 'rb') as fid:\n",
        "    tflite_model = fid.read()\n",
        "    \n",
        "interpreter = tf.lite.Interpreter(model_content=tflite_model)\n",
        "interpreter.allocate_tensors()\n",
        "\n",
        "input_index = interpreter.get_input_details()[0][\"index\"]\n",
        "output_index = interpreter.get_output_details()[0][\"index\"]"
      ],
      "execution_count": 0,
      "outputs": []
    },
    {
      "cell_type": "markdown",
      "metadata": {
        "colab_type": "text",
        "id": "f4Mz4wcFzOWd"
      },
      "source": [
        "ดู Signature ของโมเดล ดู Shape และ Type ของ Input และ Output "
      ]
    },
    {
      "cell_type": "code",
      "metadata": {
        "id": "H-eSV5r9Duui",
        "colab_type": "code",
        "outputId": "2bbad684-2c5c-413b-f51a-55992a07ed9c",
        "colab": {
          "base_uri": "https://localhost:8080/",
          "height": 187
        }
      },
      "source": [
        "interpreter.get_input_details(), interpreter.get_output_details()"
      ],
      "execution_count": 0,
      "outputs": [
        {
          "output_type": "execute_result",
          "data": {
            "text/plain": [
              "([{'dtype': numpy.float32,\n",
              "   'index': 0,\n",
              "   'name': 'keras_layer_3_input',\n",
              "   'quantization': (0.0, 0),\n",
              "   'shape': array([  1, 299, 299,   3], dtype=int32)}],\n",
              " [{'dtype': numpy.float32,\n",
              "   'index': 313,\n",
              "   'name': 'Identity',\n",
              "   'quantization': (0.0, 0),\n",
              "   'shape': array([1, 3], dtype=int32)}])"
            ]
          },
          "metadata": {
            "tags": []
          },
          "execution_count": 172
        }
      ]
    },
    {
      "cell_type": "markdown",
      "metadata": {
        "id": "pYVmJNFeo1Tl",
        "colab_type": "text"
      },
      "source": [
        "สุ่มเลือก 10 รูปจาก Test Set มาให้โมเดล ทำ Inference"
      ]
    },
    {
      "cell_type": "code",
      "metadata": {
        "colab_type": "code",
        "id": "snJQVs9JNglv",
        "outputId": "877fb994-87f8-4da4-c50f-d0a14fde5958",
        "colab": {
          "base_uri": "https://localhost:8080/",
          "height": 34
        }
      },
      "source": [
        "# Gather results for the randomly sampled test images\n",
        "predictions = []\n",
        "\n",
        "test_labels, test_imgs = [], []\n",
        "for img, label in tqdm(test_batches.take(10)):\n",
        "    interpreter.set_tensor(input_index, img)\n",
        "    interpreter.invoke()\n",
        "    predictions.append(interpreter.get_tensor(output_index))\n",
        "    \n",
        "    test_labels.append(label.numpy()[0])\n",
        "    test_imgs.append(img)"
      ],
      "execution_count": 0,
      "outputs": [
        {
          "output_type": "stream",
          "text": [
            "10it [00:07,  1.37it/s]\n"
          ],
          "name": "stderr"
        }
      ]
    },
    {
      "cell_type": "markdown",
      "metadata": {
        "id": "WCd-SQqTsvjL",
        "colab_type": "text"
      },
      "source": [
        "นำผลลัพธ์ที่ได้ มาพล็อตแสดงรูป เปรียบเทียบ label และ prediction"
      ]
    },
    {
      "cell_type": "code",
      "metadata": {
        "cellView": "both",
        "colab_type": "code",
        "id": "1-lbnicPNkZs",
        "outputId": "dfa4dac1-9f7e-40ae-e44a-648cba10815c",
        "colab": {
          "base_uri": "https://localhost:8080/",
          "height": 214
        }
      },
      "source": [
        "#@title Visualize the outputs { run: \"auto\" }\n",
        "index = 0 #@param {type:\"slider\", min:0, max:9, step:1}\n",
        "plt.figure(figsize=(6,3))\n",
        "plt.subplot(1,2,1)\n",
        "plot_image(index, predictions, test_labels, test_imgs)\n",
        "plt.show()"
      ],
      "execution_count": 0,
      "outputs": [
        {
          "output_type": "stream",
          "text": [
            "<class 'numpy.int64'> <class 'numpy.int64'>\n"
          ],
          "name": "stdout"
        },
        {
          "output_type": "display_data",
          "data": {
            "image/png": "[encoded data removed]",
            "text/plain": [
              "<Figure size 432x216 with 1 Axes>"
            ]
          },
          "metadata": {
            "tags": []
          }
        }
      ]
    },
    {
      "cell_type": "code",
      "metadata": {
        "id": "kP-ItSOot2hU",
        "colab_type": "code",
        "outputId": "ab8657be-7eee-4b75-fe70-ae6fdb759758",
        "colab": {
          "base_uri": "https://localhost:8080/",
          "height": 214
        }
      },
      "source": [
        "index = 3 \n",
        "plt.figure(figsize=(6,3))\n",
        "plt.subplot(1,2,1)\n",
        "plot_image(index, predictions, test_labels, test_imgs)\n",
        "plt.show()"
      ],
      "execution_count": 0,
      "outputs": [
        {
          "output_type": "stream",
          "text": [
            "<class 'numpy.int64'> <class 'numpy.int64'>\n"
          ],
          "name": "stdout"
        },
        {
          "output_type": "display_data",
          "data": {
            "image/png": "[encoded data removed]",
            "text/plain": [
              "<Figure size 432x216 with 1 Axes>"
            ]
          },
          "metadata": {
            "tags": []
          }
        }
      ]
    },
    {
      "cell_type": "markdown",
      "metadata": {
        "id": "aI4TOeVTtTlG",
        "colab_type": "text"
      },
      "source": [
        "สร้างไฟล์เก็บ Label"
      ]
    },
    {
      "cell_type": "code",
      "metadata": {
        "id": "sbbROV6oYHNd",
        "colab_type": "code",
        "colab": {}
      },
      "source": [
        "with open('labels.txt', 'w') as f:\n",
        "    f.write('\\n'.join(class_names))"
      ],
      "execution_count": 0,
      "outputs": []
    },
    {
      "cell_type": "markdown",
      "metadata": {
        "id": "Z2nYeO9aXmfH",
        "colab_type": "text"
      },
      "source": [
        "# 8. Save และ Download ไฟล์ tflite"
      ]
    },
    {
      "cell_type": "markdown",
      "metadata": {
        "id": "OD1Z31aStYFp",
        "colab_type": "text"
      },
      "source": [
        "Save ไฟล์ และ Download โมเดล และ Label มาที่ Local Disk เพื่อนำไปใส่ Device ที่ต้องการต่อไป\n",
        "\n",
        "หมายเหตุ: เราอาจจะต้อง กดอนุญาตให้ Web Browser สามารถ Download หลาย ๆ ไฟล์ได้พร้อมกัน"
      ]
    },
    {
      "cell_type": "code",
      "metadata": {
        "colab_type": "code",
        "id": "0jJAxrQB2VFw",
        "colab": {}
      },
      "source": [
        "try:\n",
        "    from google.colab import files\n",
        "    files.download('converted_model.tflite')\n",
        "    files.download('labels.txt')\n",
        "except:\n",
        "    pass"
      ],
      "execution_count": 0,
      "outputs": []
    },
    {
      "cell_type": "markdown",
      "metadata": {
        "id": "Nk9vTZFMJBOZ",
        "colab_type": "text"
      },
      "source": [
        "# 9. Credit"
      ]
    },
    {
      "cell_type": "markdown",
      "metadata": {
        "id": "sithuUdrYI3E",
        "colab_type": "text"
      },
      "source": [
        "* https://www.coursera.org/learn/device-based-models-tensorflow/\n",
        "* https://www.bualabs.com/archives/3595/what-is-tensorflow-lite-converter-convert-mobilenet-transfer-learning-classifier-head-deploy-mobile-iot-edge-device-microcontroller-tflite-ep-3/\n",
        "* https://www.tensorflow.org/datasets/catalog/rock_paper_scissors\n",
        "* https://github.com/lmoroney/dlaicourse/tree/master/TensorFlow%20Deployment\n",
        "* https://www.tensorflow.org/lite/convert"
      ]
    },
    {
      "cell_type": "code",
      "metadata": {
        "id": "AsiawFwyse4n",
        "colab_type": "code",
        "colab": {}
      },
      "source": [
        ""
      ],
      "execution_count": 0,
      "outputs": []
    }
  ]
}